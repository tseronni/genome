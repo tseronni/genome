{
 "cells": [
  {
   "cell_type": "code",
   "execution_count": 2,
   "outputs": [],
   "source": [
    "import textract\n",
    "import re\n",
    "import json\n"
   ],
   "metadata": {
    "collapsed": false,
    "ExecuteTime": {
     "end_time": "2023-08-25T01:51:56.093385400Z",
     "start_time": "2023-08-25T01:51:56.077380700Z"
    }
   }
  },
  {
   "cell_type": "code",
   "execution_count": 2,
   "outputs": [],
   "source": [],
   "metadata": {
    "collapsed": false,
    "ExecuteTime": {
     "end_time": "2023-08-25T01:51:56.096924800Z",
     "start_time": "2023-08-25T01:51:56.093912600Z"
    }
   }
  },
  {
   "cell_type": "code",
   "execution_count": 2,
   "outputs": [],
   "source": [],
   "metadata": {
    "collapsed": false,
    "ExecuteTime": {
     "end_time": "2023-08-25T01:51:56.160963300Z",
     "start_time": "2023-08-25T01:51:56.099633300Z"
    }
   }
  },
  {
   "cell_type": "code",
   "execution_count": 3,
   "outputs": [],
   "source": [
    "text = textract.process(r'C:\\Users\\leolk\\PycharmProjects\\genome\\data\\raw\\Subsector Definitions.docx')\n",
    "text= text.decode('utf-8')\n"
   ],
   "metadata": {
    "collapsed": false,
    "ExecuteTime": {
     "end_time": "2023-08-25T01:51:56.217330100Z",
     "start_time": "2023-08-25T01:51:56.106645700Z"
    }
   }
  },
  {
   "cell_type": "code",
   "execution_count": 4,
   "outputs": [],
   "source": [
    "subsector_definition={}\n",
    "texto_base =text"
   ],
   "metadata": {
    "collapsed": false,
    "ExecuteTime": {
     "end_time": "2023-08-25T01:51:56.218333900Z",
     "start_time": "2023-08-25T01:51:56.211991Z"
    }
   }
  },
  {
   "cell_type": "code",
   "execution_count": 5,
   "outputs": [
    {
     "data": {
      "text/plain": "['Artificial Intelligence, Big Data and Analytics\\n\\nDefinition',\n ' Artificial Intelligence companies offer products and services modeled on computer systems that simulate human cognition. These systems can sense their environment, learn, think, and respond to stimuli in a way similar to humans.\\n\\nBig Data and Analytics as a sub-sector refers to companies that provide solutions with the core function of identifying patterns and trends from large volumes / sets of data that cannot be processed by traditional database and analysis software.\\n\\nKeywords',\n ' Automated intelligence, assisted intelligence, augmented Intelligence, autonomous intelligence, supervised learning, unsupervised learning, adaptive systems, computer vision, natural language processing, natural language generation, text analytics, speech recognition, semantics technology, decision management, virtual agents, robotic process automation, machine learning, autonomous vehicle, smart robotics, autonomous vehicles, facial and image recognition,Advanced algorithms, advanced analytics, advanced visualization, data mining, user behavior analytics, data storytelling, business intelligence',\n 'Advanced Manufacturing and Robotics\\n\\nDefinition',\n ' In comparison to Traditional Manufacturing, Advanced Manufacturing involves the use of technology to improve products and/or processes, with the relevant technology being described as \"advanced,\" \"innovative,\" or \"cutting edge.\"\\n\\nDoes include',\n ' Autonomous driving, Industrial robots, Industrial Drones, 3D printing, Industrial IOT, additive manufacturing, advanced manufacturing, industry 4.0, nano-materials, industrial internet of things, cyber physical systems, cyber manufacturing\\n\\nDoes not include',\n ' Traditional manufacturing machines\\n\\nKeywords',\n ' 3d printing, industrial IoT, internet of things, additive manufacturing, integrated circuit, manufacturing company, machine learning, industrial automation, robotics, predictive maintenance, semiconductor',\n 'Cleantech\\n\\nDefinition',\n ' Cleantech or clean technology is an umbrella term which is used to define technologies which optimize the use of natural resources, produce energy from renewable sources, increase efficiency and productivity, generate less waste and cause less environmental pollution. Cleantech consists of sustainable solutions in the fields of energy, water, transportation, agriculture and manufa systems.cturing, including advanced material, smart grids, water treatment, efficient energy storage and distributed energy\\n\\nKeywords',\n ' Clean energy, and other forms of environmental, and sustainable or green, products and services, advanced material, smart grids, water treatment, efficient energy storage, distributed energy system. sustainable energy, solar panels\\n\\nDoes not include',\n ' oil and gas, petrochemicals',\n 'Fintech\\n\\nDefinition',\n ' Describes a business that aims at providing financial services by making use of software and modern technology. [7]Financial technology (Fintech) companies use internet, blockchain and software technologies, as well as algorithms, to offer or facilitate financial services traditionally offered by banks. These services include loans, payments, investments and wealth management. Fintech also includes software that automates financial processes or addresses financial firms’ core business needs\\n\\nKeywords',\n ' Insurance Tech, Risk Management, Trading, Portfolios, Personal Finance, Banking, Accounting, Digital Currency, Cryptocurrency, data-driven finance, phone banking, robo-advisory, regtech.\\n\\nDoes not include',\n ' Brick & Mortar banks, Old brick and mortar Insurance companies',\n 'Blockchain\\n\\nDefinition',\n ' Companies that develop applications using blockchains, or distributed databases/public ledgers that record transactions and other digital events across a peer-to-peer network. The integrity of each record on a blockchain is cryptographically verified by network participants to create a distributed consensus. Cryptocurrencies and tokens are popular applications of blockchain technology.\\n\\nKeywords',\n ' Distributed ledgers, Digital Mining,Cryptocurrency, Crypto tokens, Altcoins, Bitcoin, Ethereum, Monero, Crypto Exchanges, Smart Contracts, Initial Coin Offerings, decentralized finance (DeFi) applications, non-fungible tokens (NFTs)',\n 'Cybersecurity\\n\\nDefinition',\n ' Cybersecurity is the body of technologies, processes, and practices designed to protect networks, computers, programs, and data from attack, damage, or unauthorized\\n\\naccess. For our purposes it includes application security, information security, network\\n\\nsecurity, disaster recovery / business continuity planning, operational security, and\\n\\nend-user education.\\n\\nDoes include',\n ' Application security, Information security, Network security, Disaster recovery / business continuity planning, Operational security and End-user education.\\n\\nKeywords',\n ' cyber security, network security, data security, cloud security, threat detection, mobile security, cyber threat detection',\n 'Agtech\\n\\nDefinition',\n ' Technologies to help the agriculture industry to feed our growing population without destroying the planet. AgTech is the use of technology in agriculture, horticulture, and aquaculture with the aim of improving yield, efficiency, and profitability through information monitoring and analysis of weather, pests, soil and air temperature. AgTech also includes the use of automation, such as controlling heaters and irrigation and employing pest control through aerosol pheromone dispersal.\\nAgTech can be products, services or applications derived from agriculture that improve various input/output processes. \\n\\nDoes include',\n ' Precision agriculture - PA is an approach to farm management that uses information technology to ensure that the crops and soil receive exactly what they need for optimum health and productivity. Integrated genetics, Physical inputs, Information technology, Smart machinery, Spectral imaging for remote sensing for monitoring the development and health of crops, data-enabled agriculture, food technology, agricultural robots, new foods, efficient sowing\\n\\nDoes not include',\n ' Farms, Vineyards, Coffee roasters, Beverages',\n 'New Food\\n\\nDefinition',\n ' New Food includes technologies that can be leveraged to create efficiency and sustainability in designing, producing, choosing, delivering, and consuming food. Solutions and processes that leverage science and technology to create new types of foods and beverages. This category includes alternative proteins such as plant-based meat, fermentation and cellular agriculture, insects-based products, functional food and drinks as well as meal replacements.\\n\\nDoes not include',\n ' alt- proteins based skincare products, cannabis related skincare of wellness products (by wellness we do not consider products which are not consumed as food or in meal )\\n\\nKeywords',\n ' artificial meat, Alternative protein, Plant-based, vegan food, vegan alternative, vegan product, animal protein, clean meat, plant-based meat, cell-based meat, cellular agriculture technology, meat alternative, meat substitute, insect protein, insect-based, probiotic product, fermentation, cannabis-derived products, cannabis-based, CBD-infused, adaptogenic, nootropic, dairy alternative, mushroom food products, mushroom-based',\n 'Adtech \\n\\nDefinition',\n ' Advertising technology - different types of analytics and digital tools used in the context of advertising and marketing. Extensive and complex systems used to direct advertising to individuals and specific target audiences. It is the use of tools and software advertisers used to reach audiences, deliver and measure digital advertising campaigns.\\n\\nKeywords',\n ' Conversion/optimization, Email marketing, Mobile marketing, Online & display advertising, Online surveys, tests and panels, Paid search / PPC / AdWords, Search Engine Optimization, Social media & viral marketing, Usability & web design, Web analytics & tracking, Affiliate marketing, B2B digital marketing, ad networks\\n\\nDoes not include',\n ' Companies whose products and services are not focused on innovation in the advertising and marketing (e.g. all the companies that have advertising or marketing Keywords but actually only have ads on their websites etc.), martech (marketing technology) which focuses on reaching audiences via unpaid or owned channels using a brand’s first-party insights',\n 'Blue Economy\\n\\nDefinition',\n ' Blue economy is the \"sustainable use of ocean resources for economic growth, improved livelihoods, and jobs while preserving the health of the ocean ecosystem. A concept that seeks to promote economic growth, social inclusion and the preservation of livelihoods while at the same time ensuring environmental sustainability of the oceans and coastal areas.\\n\\nKeywords',\n ' ocean sustainability, aquaculture, seafloor mapping, underwater mapping, Marine Transport, Ports, and Shipbuilding, Commercial Fisheries, Coastal and Marine Tourism, maritime logistics, maritime, inwater imaging, sea/ocean waste management',\n 'Digital Media\\n\\nDefinition',\n ' Digital media is any media that is encoded in a machine-readable format. Digital media can be created, viewed, distributed, modified and preserved on digital electronics devices. Digitized content (text, graphics, audio, and video) that can be transmitted over internet or computer networks.\\n\\nDoes include',\n ' Content, Publishing, Blogs, Social Media, Messengers, News, Gaming, Video, Music, Digital Images, Virtual Reality, Augmented Reality, Digital Media Solutions\\n\\nKeywords',\n '  digitized information, marketing platform, lead generation, social media marketing, digital advertising, marketing campaign, customer engagement',\n 'Gaming (Digital Media Sub-Cluster)\\n\\nDefinition',\n ' Development, marketing and monetization of video games and gambling machines / services\\n\\nDoes include',\n ' PC Gaming, Console Gaming, Mobile Gaming, Smart Gambling Machines, Internet Gambling Services\\n\\nDoes not include',\n ' …\\n\\nKeywords',\n ' gaming platform, video games, online games, gaming studio, social games',\n 'AR / VR (Digital Media Sub-Cluster)\\n\\nDefinition',\n ' Virtual reality (VR) is an artificial, computer-generated simulation or recreation of a real life environment or situation. Augmented reality (AR) is a technology that layers computer-generated enhancements atop an existing reality in order to make it more meaningful through the ability to interact with it. \\n\\nKeywords',\n '  Mixed Reality, 360 video, frame rate, metaverse, virtual world, cross reality, Artificial intelligence, computer vision',\n 'Edtech\\n\\nDefinition',\n ' Education Technology (also known as “EdTech”) refers to an area of technology devoted to the development and application of tools (including software, hardware, and processes) intended to promote education. Put another way, “EdTech is a study and ethical practice for facilitating learning and improving performance by creating, using and managing appropriate technological processes and resources.\\n\\nKeywords',\n ' online education, educational platform, e-learning, online learning, personalized learning, educational software, learning app, digital education',\n 'Industry 4.0 \\n\\nDefinition',\n ' Industry 4.0 is revolutionizing the way companies manufacture, improve and distribute their products. Manufacturers are integrating new technologies, including Internet of Things (IoT), cloud computing and analytics, and AI and machine learning into their production facilities and throughout their operations.\\n\\nThese smart factories are equipped with advanced sensors, embedded software and robotics that collect and analyze data and allow for better decision making. Even higher value is created when data from production operations is combined with operational data from ERP, supply chain, customer service and other enterprise systems to create whole new levels of visibility and insight from previously siloed information. These digital technologies lead to increased automation, predictive maintenance, self-optimization of process improvements and, above all, a new level of efficiency and responsiveness to customers not previously possible.\\n\\nKeywords',\n ' Internet of Things (IoT), Cloud computing, AI and Machine Learning (ML), Edge computing, Cybersecurity, Supply chain, cloud computing and Big Data, Predictive maintenance, Robotics, Sensors, Autonomous Vehicles',\n 'Biopharma / Biotech\\n\\nDefinition',\n ' Biopharma is the sub-sector that includes any prescription or non-prescription spending on drugs to treat a disease or a health condition and is regulated by the health authorities. This does not include dietary supplements or any health foods, functional foods, or nutriceuticals. It also includes over-the-counter (OTC) drugs that do not require prescriptions. [6] Biotechnology is the use of living systems and organisms to develop or make products, or \"any technological application that uses biological systems, living organisms, or derivatives thereof, to make or modify products or processes for specific use\" (UN Convention on Biological Diversity, Art. 2). Depending on the tools and applications, it often overlaps with the (related) fields of bioengineering, biomedical engineering, biomanufacturing, molecular engineering, etc.\\n\\nDoes include',\n ' Biotechnology health care products and vaccines, agricultural biotechnology, biorefineries\\n\\nKeywords',\n ' DNA, Cloning, Genetically designed, Bioengineering, DNA sequencing, biomolecule labeling.',\n 'Medtech / Medical devices\\n\\nDefinition']"
     },
     "execution_count": 5,
     "metadata": {},
     "output_type": "execute_result"
    }
   ],
   "source": [
    "regex_texto=r\"[:]|[\\n]{4}[\\n]*\"\n",
    "regex_limpa_espaco = r'[\\n].*![:]'\n",
    "\n",
    "rs = re.sub(regex_limpa_espaco,'',texto_base)\n",
    "rs = re.split(regex_texto, rs)"
   ],
   "metadata": {
    "collapsed": false,
    "ExecuteTime": {
     "end_time": "2023-08-25T01:51:56.232323100Z",
     "start_time": "2023-08-25T01:51:56.226334Z"
    }
   }
  },
  {
   "cell_type": "code",
   "execution_count": 6,
   "metadata": {
    "collapsed": true,
    "ExecuteTime": {
     "end_time": "2023-08-25T01:51:56.284268300Z",
     "start_time": "2023-08-25T01:51:56.237751Z"
    }
   },
   "outputs": [],
   "source": [
    "dict_subsetor = {}\n",
    "dict_keys = {}\n",
    "regex_texto=r\"[\\n]{2}(.+)$\"\n",
    "regex_limpa=r\"[\\n]{2}(.+)\\Z|[\\n]\"\n",
    "i_next=1\n",
    "for i in range(1,len(rs)):\n",
    "    if i != i_next:\n",
    "        continue\n",
    "    if 'Definition' in rs[i]:\n",
    "        aux_next = True\n",
    "        i_next = i\n",
    "        while aux_next:\n",
    "            i_next+=1\n",
    "            if ('Definition' in rs[i_next]) or (i_next == len(rs)-1):\n",
    "                aux_next = False\n",
    "    dict_keys ={}\n",
    "    if i == len(rs)-2:\n",
    "        i_next+=1\n",
    "    for key_subsector in range(i,i_next-1):\n",
    "        key_key = re.search(regex_texto,rs[key_subsector]).groups(1)[0]\n",
    "        palavra = re.sub(regex_limpa,'',rs[key_subsector+1])\n",
    "        dict_keys[key_key]= palavra\n",
    "    key_dict_subsector=''\n",
    "    key_dict_subsector = re.sub(regex_limpa,'',rs[i])\n",
    "    dict_subsetor[key_dict_subsector]=dict_keys.copy()"
   ]
  },
  {
   "cell_type": "code",
   "execution_count": 7,
   "outputs": [],
   "source": [
    "with open(r'C:\\Users\\leolk\\PycharmProjects\\genome\\data\\processed\\description_subsector.json', 'w') as f:\n",
    "    json.dump(dict_subsetor, f)"
   ],
   "metadata": {
    "collapsed": false,
    "ExecuteTime": {
     "end_time": "2023-08-25T01:51:56.284268300Z",
     "start_time": "2023-08-25T01:51:56.245770400Z"
    }
   }
  }
 ],
 "metadata": {
  "kernelspec": {
   "display_name": "Python 3",
   "language": "python",
   "name": "python3"
  },
  "language_info": {
   "codemirror_mode": {
    "name": "ipython",
    "version": 2
   },
   "file_extension": ".py",
   "mimetype": "text/x-python",
   "name": "python",
   "nbconvert_exporter": "python",
   "pygments_lexer": "ipython2",
   "version": "2.7.6"
  }
 },
 "nbformat": 4,
 "nbformat_minor": 0
}
