{
 "cells": [
  {
   "cell_type": "code",
   "execution_count": 1,
   "metadata": {
    "collapsed": true,
    "ExecuteTime": {
     "end_time": "2023-06-27T12:43:30.283336400Z",
     "start_time": "2023-06-27T12:41:58.002359200Z"
    }
   },
   "outputs": [],
   "source": [
    "import pandas as pd\n",
    "from src.utils.UsefulPaths import Paths"
   ]
  },
  {
   "cell_type": "code",
   "execution_count": 2,
   "outputs": [],
   "source": [
    "paths = Paths()"
   ],
   "metadata": {
    "collapsed": false,
    "ExecuteTime": {
     "end_time": "2023-06-27T12:43:30.283336400Z",
     "start_time": "2023-06-27T12:41:58.692492900Z"
    }
   }
  },
  {
   "cell_type": "code",
   "execution_count": 3,
   "outputs": [],
   "source": [
    "df_raw_patents = pd.read_csv(paths.raw_raw_patents, parse_dates=['grant_date', 'app_date'])"
   ],
   "metadata": {
    "collapsed": false,
    "ExecuteTime": {
     "end_time": "2023-06-27T12:43:30.294101Z",
     "start_time": "2023-06-27T12:41:58.708119800Z"
    }
   }
  },
  {
   "cell_type": "code",
   "execution_count": 4,
   "outputs": [],
   "source": [
    "df_raw_patents = df_raw_patents.drop(['GoogleCity', 'CityCountry'], axis=1)\n",
    "\n",
    "df_raw_patents = df_raw_patents.rename(columns=\n",
    "                                       {\n",
    "                                           'class_IPC_concat': 'class_ipc_concat',\n",
    "                                           'class_IPC_distinct_count': 'class_ipc_distinct_count',\n",
    "                                           'CountryName': 'country_name',\n",
    "                                           'Ecosystem': 'ecosystem'\n",
    "                                       }\n",
    ")\n",
    "\n",
    "df_raw_patents['app_name'] = df_raw_patents.apply(\n",
    "    lambda row: str(row['name_first']) + ' ' + str(row['name_last']) if pd.notnull(row['name_last']) else row['name_first'],\n",
    "    axis=1)\n",
    "\n",
    "df_raw_patents = df_raw_patents.drop(['name_first', 'name_last'], axis=1)\n",
    "\n",
    "df_raw_patents = df_raw_patents.loc[:, [\n",
    "                                           'patent_id',\n",
    "                                           'app_name',\n",
    "                                           'app_year',\n",
    "                                           'city',\n",
    "                                           'country',\n",
    "                                           'country_name',\n",
    "                                           'ecosystem',\n",
    "                                           'grant_date',\n",
    "                                           'grant_year',\n",
    "                                           'app_date',\n",
    "                                           'class_concat',\n",
    "                                           'class_distinct_count',\n",
    "                                           'class_ipc_concat',\n",
    "                                           'class_ipc_distinct_count'\n",
    "                                       ]\n",
    "                 ]\n",
    "\n",
    "df_raw_patents.drop_duplicates(inplace=True)"
   ],
   "metadata": {
    "collapsed": false,
    "ExecuteTime": {
     "end_time": "2023-06-27T12:43:41.615952200Z",
     "start_time": "2023-06-27T12:42:36.657495700Z"
    }
   }
  },
  {
   "cell_type": "code",
   "execution_count": 5,
   "outputs": [
    {
     "data": {
      "text/plain": "     patent_id        app_name  app_year           city country  \\\n0  20140380145   Rajiv Puranik      2014  San Francisco      US   \n1  20140380145  Thomas Wilsher      2014  San Francisco      US   \n2  20140380219     John CARTAN      2014        Alameda      US   \n3  20150000186     Barry Freel      2014         Ottawa      CA   \n4  20150000186   Robert Graham      2014         Ottawa      CA   \n\n    country_name       ecosystem                grant_date  grant_year  \\\n0  United States  Silicon Valley 2014-12-25 00:00:00+00:00        2014   \n1  United States  Silicon Valley 2014-12-25 00:00:00+00:00        2014   \n2  United States  Silicon Valley 2014-12-25 00:00:00+00:00        2014   \n3         Canada          Ottawa 2015-01-01 00:00:00+00:00        2015   \n4         Canada          Ottawa 2015-01-01 00:00:00+00:00        2015   \n\n                   app_date class_concat  class_distinct_count  \\\n0 2014-05-08 00:00:00+00:00         G06F                   1.0   \n1 2014-05-08 00:00:00+00:00         G06F                   1.0   \n2 2014-06-20 00:00:00+00:00         G06F                   1.0   \n3 2014-09-16 00:00:00+00:00         C10L                   1.0   \n4 2014-09-16 00:00:00+00:00         C10L                   1.0   \n\n  class_ipc_concat  class_ipc_distinct_count  \n0             G06F                       1.0  \n1             G06F                       1.0  \n2             G06F                       1.0  \n3             C10L                       1.0  \n4             C10L                       1.0  ",
      "text/html": "<div>\n<style scoped>\n    .dataframe tbody tr th:only-of-type {\n        vertical-align: middle;\n    }\n\n    .dataframe tbody tr th {\n        vertical-align: top;\n    }\n\n    .dataframe thead th {\n        text-align: right;\n    }\n</style>\n<table border=\"1\" class=\"dataframe\">\n  <thead>\n    <tr style=\"text-align: right;\">\n      <th></th>\n      <th>patent_id</th>\n      <th>app_name</th>\n      <th>app_year</th>\n      <th>city</th>\n      <th>country</th>\n      <th>country_name</th>\n      <th>ecosystem</th>\n      <th>grant_date</th>\n      <th>grant_year</th>\n      <th>app_date</th>\n      <th>class_concat</th>\n      <th>class_distinct_count</th>\n      <th>class_ipc_concat</th>\n      <th>class_ipc_distinct_count</th>\n    </tr>\n  </thead>\n  <tbody>\n    <tr>\n      <th>0</th>\n      <td>20140380145</td>\n      <td>Rajiv Puranik</td>\n      <td>2014</td>\n      <td>San Francisco</td>\n      <td>US</td>\n      <td>United States</td>\n      <td>Silicon Valley</td>\n      <td>2014-12-25 00:00:00+00:00</td>\n      <td>2014</td>\n      <td>2014-05-08 00:00:00+00:00</td>\n      <td>G06F</td>\n      <td>1.0</td>\n      <td>G06F</td>\n      <td>1.0</td>\n    </tr>\n    <tr>\n      <th>1</th>\n      <td>20140380145</td>\n      <td>Thomas Wilsher</td>\n      <td>2014</td>\n      <td>San Francisco</td>\n      <td>US</td>\n      <td>United States</td>\n      <td>Silicon Valley</td>\n      <td>2014-12-25 00:00:00+00:00</td>\n      <td>2014</td>\n      <td>2014-05-08 00:00:00+00:00</td>\n      <td>G06F</td>\n      <td>1.0</td>\n      <td>G06F</td>\n      <td>1.0</td>\n    </tr>\n    <tr>\n      <th>2</th>\n      <td>20140380219</td>\n      <td>John CARTAN</td>\n      <td>2014</td>\n      <td>Alameda</td>\n      <td>US</td>\n      <td>United States</td>\n      <td>Silicon Valley</td>\n      <td>2014-12-25 00:00:00+00:00</td>\n      <td>2014</td>\n      <td>2014-06-20 00:00:00+00:00</td>\n      <td>G06F</td>\n      <td>1.0</td>\n      <td>G06F</td>\n      <td>1.0</td>\n    </tr>\n    <tr>\n      <th>3</th>\n      <td>20150000186</td>\n      <td>Barry Freel</td>\n      <td>2014</td>\n      <td>Ottawa</td>\n      <td>CA</td>\n      <td>Canada</td>\n      <td>Ottawa</td>\n      <td>2015-01-01 00:00:00+00:00</td>\n      <td>2015</td>\n      <td>2014-09-16 00:00:00+00:00</td>\n      <td>C10L</td>\n      <td>1.0</td>\n      <td>C10L</td>\n      <td>1.0</td>\n    </tr>\n    <tr>\n      <th>4</th>\n      <td>20150000186</td>\n      <td>Robert Graham</td>\n      <td>2014</td>\n      <td>Ottawa</td>\n      <td>CA</td>\n      <td>Canada</td>\n      <td>Ottawa</td>\n      <td>2015-01-01 00:00:00+00:00</td>\n      <td>2015</td>\n      <td>2014-09-16 00:00:00+00:00</td>\n      <td>C10L</td>\n      <td>1.0</td>\n      <td>C10L</td>\n      <td>1.0</td>\n    </tr>\n  </tbody>\n</table>\n</div>"
     },
     "execution_count": 5,
     "metadata": {},
     "output_type": "execute_result"
    }
   ],
   "source": [
    "df_raw_patents.head(5)"
   ],
   "metadata": {
    "collapsed": false,
    "ExecuteTime": {
     "end_time": "2023-06-27T12:43:41.632320500Z",
     "start_time": "2023-06-27T12:43:41.615952200Z"
    }
   }
  },
  {
   "cell_type": "code",
   "execution_count": 6,
   "outputs": [
    {
     "data": {
      "text/plain": "     patent_id         app_name        ecosystem country  app_year\n0  20130080687  Siamack Nemazie  Los Altos Hills      US      2013\n1  20130080687      NGON VAN LE          Fremont      US      2013\n2  20130031357     Dieter Weiss          Munchen      DE      2013\n3  20130031357   Gisela Meister          Munchen      DE      2013\n4  20130031357     Jan Eichholz          Munchen      DE      2013",
      "text/html": "<div>\n<style scoped>\n    .dataframe tbody tr th:only-of-type {\n        vertical-align: middle;\n    }\n\n    .dataframe tbody tr th {\n        vertical-align: top;\n    }\n\n    .dataframe thead th {\n        text-align: right;\n    }\n</style>\n<table border=\"1\" class=\"dataframe\">\n  <thead>\n    <tr style=\"text-align: right;\">\n      <th></th>\n      <th>patent_id</th>\n      <th>app_name</th>\n      <th>ecosystem</th>\n      <th>country</th>\n      <th>app_year</th>\n    </tr>\n  </thead>\n  <tbody>\n    <tr>\n      <th>0</th>\n      <td>20130080687</td>\n      <td>Siamack Nemazie</td>\n      <td>Los Altos Hills</td>\n      <td>US</td>\n      <td>2013</td>\n    </tr>\n    <tr>\n      <th>1</th>\n      <td>20130080687</td>\n      <td>NGON VAN LE</td>\n      <td>Fremont</td>\n      <td>US</td>\n      <td>2013</td>\n    </tr>\n    <tr>\n      <th>2</th>\n      <td>20130031357</td>\n      <td>Dieter Weiss</td>\n      <td>Munchen</td>\n      <td>DE</td>\n      <td>2013</td>\n    </tr>\n    <tr>\n      <th>3</th>\n      <td>20130031357</td>\n      <td>Gisela Meister</td>\n      <td>Munchen</td>\n      <td>DE</td>\n      <td>2013</td>\n    </tr>\n    <tr>\n      <th>4</th>\n      <td>20130031357</td>\n      <td>Jan Eichholz</td>\n      <td>Munchen</td>\n      <td>DE</td>\n      <td>2013</td>\n    </tr>\n  </tbody>\n</table>\n</div>"
     },
     "execution_count": 6,
     "metadata": {},
     "output_type": "execute_result"
    }
   ],
   "source": [
    "df_table_for_applicants = pd.read_csv(filepath_or_buffer=paths.raw_table_for_applicants, header=None, names=['patent_id','app_name','ecosystem','country','app_year'])\n",
    "df_table_for_applicants.drop_duplicates(inplace=True)\n",
    "df_table_for_applicants.head(5)"
   ],
   "metadata": {
    "collapsed": false,
    "ExecuteTime": {
     "end_time": "2023-06-27T12:43:42.854975700Z",
     "start_time": "2023-06-27T12:43:41.632320500Z"
    }
   }
  },
  {
   "cell_type": "code",
   "execution_count": 7,
   "outputs": [
    {
     "data": {
      "text/plain": "   publication_number                                           abstract\n0         20080063564  Embodiments of techniques for determining the ...\n1         20080025285  A method for supporting frequency hopping of a...\n2         20080056857  To correct any positional misalignment of a su...\n3         20080031117  A holographic optical accessing system include...\n4         20080056179  Transmitting an acknowledgement/negative ackno...",
      "text/html": "<div>\n<style scoped>\n    .dataframe tbody tr th:only-of-type {\n        vertical-align: middle;\n    }\n\n    .dataframe tbody tr th {\n        vertical-align: top;\n    }\n\n    .dataframe thead th {\n        text-align: right;\n    }\n</style>\n<table border=\"1\" class=\"dataframe\">\n  <thead>\n    <tr style=\"text-align: right;\">\n      <th></th>\n      <th>publication_number</th>\n      <th>abstract</th>\n    </tr>\n  </thead>\n  <tbody>\n    <tr>\n      <th>0</th>\n      <td>20080063564</td>\n      <td>Embodiments of techniques for determining the ...</td>\n    </tr>\n    <tr>\n      <th>1</th>\n      <td>20080025285</td>\n      <td>A method for supporting frequency hopping of a...</td>\n    </tr>\n    <tr>\n      <th>2</th>\n      <td>20080056857</td>\n      <td>To correct any positional misalignment of a su...</td>\n    </tr>\n    <tr>\n      <th>3</th>\n      <td>20080031117</td>\n      <td>A holographic optical accessing system include...</td>\n    </tr>\n    <tr>\n      <th>4</th>\n      <td>20080056179</td>\n      <td>Transmitting an acknowledgement/negative ackno...</td>\n    </tr>\n  </tbody>\n</table>\n</div>"
     },
     "execution_count": 7,
     "metadata": {},
     "output_type": "execute_result"
    }
   ],
   "source": [
    "df_abstract = pd.read_csv(paths.raw_abstract)\n",
    "df_abstract.drop_duplicates(inplace=True)\n",
    "df_abstract.head(5)"
   ],
   "metadata": {
    "collapsed": false,
    "ExecuteTime": {
     "end_time": "2023-06-27T12:44:18.467929900Z",
     "start_time": "2023-06-27T12:43:42.854975700Z"
    }
   }
  },
  {
   "cell_type": "code",
   "execution_count": 8,
   "outputs": [
    {
     "name": "stdout",
     "output_type": "stream",
     "text": [
      "Unique patents for abstract: 4184916\n",
      "Unique patents for raw_patents: 3381583\n",
      "Unique patents for applicants: 622307\n"
     ]
    },
    {
     "data": {
      "text/plain": "           patent_id            app_name  app_year           city country  \\\n210816   20210219676       Reuven Paikin      2019       Windhoek     NaN   \n389191   20150271058   Hiromasa YAMAUCHI      2015         Usakos     NaN   \n848318   20150201396   Hiromasa Yamauchi      2015         Usakos     NaN   \n1224661  20140157280   Hiromasa Yamauchi      2014         Usakos     NaN   \n1300888  20140129811   Hiromasa Yamauchi      2014         Usakos     NaN   \n1306335  20140380333   Hiromasa Yamauchi      2014         Usakos     NaN   \n1685195  20140178206     Frank Kernstock      2012       Windhoek     NaN   \n1770330  20150244603   Hiromasa YAMAUCHI      2015         Usakos     NaN   \n2000238  20150229705   Hiromasa Yamauchi      2015         Usakos     NaN   \n2074256  20150137995   Hiromasa YAMAUCHI      2015         Usakos     NaN   \n2305126  20150131486   Hiromasa YAMAUCHI      2015         Usakos     NaN   \n3372940  20140149991   Hiromasa Yamauchi      2014         Usakos     NaN   \n3382272  20150201362   Hiromasa Yamauchi      2015         Usakos     NaN   \n3529833  20140237150   Hiromasa YAMAUCHI      2014         Usakos     NaN   \n3689809  20150172791   Hiromasa YAMAUCHI      2015         Usakos     NaN   \n3985548  20140122632   Hiromasa YAMAUCHI      2014         Usakos     NaN   \n4376193  20150012777   Hiromasa Yamauchi      2014         Usakos     NaN   \n4612331  20150289192   Hiromasa YAMAUCHI      2015         Usakos     NaN   \n4678168  20140149691   Hiromasa Yamauchi      2014         Usakos     NaN   \n4758527  20140310723   Hiromasa Yamauchi      2014         Usakos     NaN   \n5293071  20140143788   Hiromasa Yamauchi      2014         Usakos     NaN   \n5378011  20150153439   Hiromasa YAMAUCHI      2015         Usakos     NaN   \n5448189  20140241277   Hiromasa YAMAUCHI      2014         Usakos     NaN   \n5829483  20140089377   Hiromasa YAMAUCHI      2013         Usakos     NaN   \n5829867  20140108758   Hiromasa Yamauchi      2013         Usakos     NaN   \n5846787  20160113443       Anthony Jager      2015       Rehoboth     NaN   \n5846788  20160113443          Sean Jager      2015       Rehoboth     NaN   \n6687242  20150177361   Hiromasa Yamauchi      2015         Usakos     NaN   \n7033164  20190388165  Kenichiro NAGASAKA      2018          Tokyo     NaN   \n7052116  20210361040       Reuven Paikin      2021       Windhoek     NaN   \n7062445  20140143790   Hiromasa YAMAUCHI      2014         Usakos     NaN   \n7113064  20200131743  Cornelius Brockman      2019     Swakopmund     NaN   \n7752518  20140115601   Hiromasa YAMAUCHI      2013         Usakos     NaN   \n7760753  20150131439   Hiromasa Yamauchi      2015         Usakos     NaN   \n7762737  20150227400   Hiromasa YAMAUCHI      2015         Usakos     NaN   \n7829869  20140164468   Hiromasa Yamauchi      2013         Usakos     NaN   \n7838496  20150181528   Hiromasa YAMAUCHI      2015         Usakos     NaN   \n7845318  20160114975          Paul Zwaan      2014       Auckland     NaN   \n7856825  20170240895   Michael Greenberg      2013  NA (deceased)     NaN   \n8291433  20140123154   Hiromasa Yamauchi      2014         Usakos     NaN   \n8508369  20210212421       Reuven PAIKIN      2021       Windhoek     NaN   \n8836175  20150019837   Hiromasa Yamauchi      2014         Usakos     NaN   \n8982898  20140092747   Hiromasa YAMAUCHI      2013         Usakos     NaN   \n9060640  20140145670          Jan Wanner      2013        Bonaire     NaN   \n9122350  20210212422       Reuven PAIKIN      2021       Windhoek     NaN   \n9594776  20140095573   Hiromasa Yamauchi      2013         Usakos     NaN   \n9596775  20140189185   Hiromasa Yamauchi      2014         Usakos     NaN   \n\n        country_name    ecosystem                grant_date  grant_year  \\\n210816           NaN          NaN 2021-07-22 00:00:00+00:00        2021   \n389191           NaN          NaN 2015-09-24 00:00:00+00:00        2015   \n848318           NaN          NaN 2015-07-16 00:00:00+00:00        2015   \n1224661          NaN          NaN 2014-06-05 00:00:00+00:00        2014   \n1300888          NaN          NaN 2014-05-08 00:00:00+00:00        2014   \n1306335          NaN          NaN 2014-12-25 00:00:00+00:00        2014   \n1685195          NaN          NaN 2014-06-26 00:00:00+00:00        2014   \n1770330          NaN          NaN 2015-08-27 00:00:00+00:00        2015   \n2000238          NaN          NaN 2015-08-13 00:00:00+00:00        2015   \n2074256          NaN          NaN 2015-05-21 00:00:00+00:00        2015   \n2305126          NaN          NaN 2015-05-14 00:00:00+00:00        2015   \n3372940          NaN          NaN 2014-05-29 00:00:00+00:00        2014   \n3382272          NaN          NaN 2015-07-16 00:00:00+00:00        2015   \n3529833          NaN          NaN 2014-08-21 00:00:00+00:00        2014   \n3689809          NaN          NaN 2015-06-18 00:00:00+00:00        2015   \n3985548          NaN          NaN 2014-05-01 00:00:00+00:00        2014   \n4376193          NaN          NaN 2015-01-08 00:00:00+00:00        2015   \n4612331          NaN          NaN 2015-10-08 00:00:00+00:00        2015   \n4678168          NaN          NaN 2014-05-29 00:00:00+00:00        2014   \n4758527          NaN          NaN 2014-10-16 00:00:00+00:00        2014   \n5293071          NaN          NaN 2014-05-22 00:00:00+00:00        2014   \n5378011          NaN          NaN 2015-06-04 00:00:00+00:00        2015   \n5448189          NaN          NaN 2014-08-28 00:00:00+00:00        2014   \n5829483          NaN          NaN 2014-03-27 00:00:00+00:00        2014   \n5829867          NaN          NaN 2014-04-17 00:00:00+00:00        2014   \n5846787          NaN          NaN 2016-04-28 00:00:00+00:00        2016   \n5846788          NaN          NaN 2016-04-28 00:00:00+00:00        2016   \n6687242          NaN          NaN 2015-06-25 00:00:00+00:00        2015   \n7033164          NaN        Tokyo 2019-12-26 00:00:00+00:00        2019   \n7052116          NaN          NaN 2021-11-25 00:00:00+00:00        2021   \n7062445          NaN          NaN 2014-05-22 00:00:00+00:00        2014   \n7113064          NaN          NaN 2020-04-30 00:00:00+00:00        2020   \n7752518          NaN          NaN 2014-04-24 00:00:00+00:00        2014   \n7760753          NaN          NaN 2015-05-14 00:00:00+00:00        2015   \n7762737          NaN          NaN 2015-08-13 00:00:00+00:00        2015   \n7829869          NaN          NaN 2014-06-12 00:00:00+00:00        2014   \n7838496          NaN          NaN 2015-06-25 00:00:00+00:00        2015   \n7845318          NaN  New Zealand 2016-04-28 00:00:00+00:00        2016   \n7856825          NaN          NaN 2017-08-24 00:00:00+00:00        2017   \n8291433          NaN          NaN 2014-05-01 00:00:00+00:00        2014   \n8508369          NaN          NaN 2021-07-15 00:00:00+00:00        2021   \n8836175          NaN          NaN 2015-01-15 00:00:00+00:00        2015   \n8982898          NaN          NaN 2014-04-03 00:00:00+00:00        2014   \n9060640          NaN          NaN 2014-05-29 00:00:00+00:00        2014   \n9122350          NaN          NaN 2021-07-15 00:00:00+00:00        2021   \n9594776          NaN          NaN 2014-04-03 00:00:00+00:00        2014   \n9596775          NaN          NaN 2014-07-03 00:00:00+00:00        2014   \n\n                         app_date    class_concat  class_distinct_count  \\\n210816  2019-05-08 00:00:00+00:00            A44C                   1.0   \n389191  2015-06-05 00:00:00+00:00       H04W,H04L                   2.0   \n848318  2015-03-26 00:00:00+00:00            H04W                   1.0   \n1224661 2014-02-07 00:00:00+00:00            G06F                   1.0   \n1300888 2014-01-09 00:00:00+00:00            G06F                   1.0   \n1306335 2014-09-04 00:00:00+00:00            G06F                   1.0   \n1685195 2012-07-20 00:00:00+00:00            F01D                   1.0   \n1770330 2015-05-08 00:00:00+00:00            H04L                   1.0   \n2000238 2015-03-26 00:00:00+00:00       H04W,H04L                   2.0   \n2074256 2015-01-23 00:00:00+00:00       H04Q,H04W                   2.0   \n2305126 2015-01-23 00:00:00+00:00       H04L,H04W                   2.0   \n3372940 2014-01-31 00:00:00+00:00            G06F                   1.0   \n3382272 2015-03-25 00:00:00+00:00       H04B,H04W                   2.0   \n3529833 2014-04-30 00:00:00+00:00            G06F                   1.0   \n3689809 2015-02-26 00:00:00+00:00       H04Q,H04W                   2.0   \n3985548 2014-01-06 00:00:00+00:00            H04L                   1.0   \n4376193 2014-09-25 00:00:00+00:00            G06F                   1.0   \n4612331 2015-06-22 00:00:00+00:00            H04W                   1.0   \n4678168 2014-02-04 00:00:00+00:00            G06F                   1.0   \n4758527 2014-06-26 00:00:00+00:00            G06F                   1.0   \n5293071 2014-01-28 00:00:00+00:00            G06F                   1.0   \n5378011 2015-02-11 00:00:00+00:00  H04L,H04W,G01S                   3.0   \n5448189 2014-04-09 00:00:00+00:00            H04W                   1.0   \n5829483 2013-11-26 00:00:00+00:00            H04L                   1.0   \n5829867 2013-12-19 00:00:00+00:00            G06F                   1.0   \n5846787 2015-12-31 00:00:00+00:00            A47J                   1.0   \n5846788 2015-12-31 00:00:00+00:00            A47J                   1.0   \n6687242 2015-03-03 00:00:00+00:00       G01S,H04W                   2.0   \n7033164 2018-02-02 00:00:00+00:00            A61B                   1.0   \n7052116 2021-05-19 00:00:00+00:00            A44C                   1.0   \n7062445 2014-01-27 00:00:00+00:00            G06F                   1.0   \n7113064 2019-10-31 00:00:00+00:00            E02F                   1.0   \n7752518 2013-12-20 00:00:00+00:00            G06F                   1.0   \n7760753 2015-01-19 00:00:00+00:00            H04L                   1.0   \n7762737 2015-03-26 00:00:00+00:00            G06F                   1.0   \n7829869 2013-11-26 00:00:00+00:00            H04L                   1.0   \n7838496 2015-02-27 00:00:00+00:00            H04W                   1.0   \n7845318 2014-04-06 00:00:00+00:00       B65B,B65F                   2.0   \n7856825 2013-04-17 00:00:00+00:00            C12N                   1.0   \n8291433 2014-01-06 00:00:00+00:00            G06F                   1.0   \n8508369 2021-01-15 00:00:00+00:00            A44C                   1.0   \n8836175 2014-09-29 00:00:00+00:00            G06F                   1.0   \n8982898 2013-12-04 00:00:00+00:00            H04L                   1.0   \n9060640 2013-11-27 00:00:00+00:00       B60L,H02J                   2.0   \n9122350 2021-01-15 00:00:00+00:00            A44C                   1.0   \n9594776 2013-12-03 00:00:00+00:00            H04L                   1.0   \n9596775 2014-03-06 00:00:00+00:00            G06F                   1.0   \n\n        class_ipc_concat  class_ipc_distinct_count  \n210816              A44C                       1.0  \n389191         H04L,H04W                       2.0  \n848318              H04W                       1.0  \n1224661             G06F                       1.0  \n1300888             G06F                       1.0  \n1306335             G06F                       1.0  \n1685195             F01D                       1.0  \n1770330             H04L                       1.0  \n2000238        H04L,H04W                       2.0  \n2074256        H04Q,H04W                       2.0  \n2305126        H04L,H04W                       2.0  \n3372940             G06F                       1.0  \n3382272        H04B,H04W                       2.0  \n3529833             G06F                       1.0  \n3689809        H04Q,H04W                       2.0  \n3985548             H04L                       1.0  \n4376193             G06F                       1.0  \n4612331             H04W                       1.0  \n4678168             G06F                       1.0  \n4758527             G06F                       1.0  \n5293071             G06F                       1.0  \n5378011   G01S,H04L,H04W                       3.0  \n5448189             H04W                       1.0  \n5829483             H04L                       1.0  \n5829867             G06F                       1.0  \n5846787             A47J                       1.0  \n5846788             A47J                       1.0  \n6687242        G01S,H04W                       2.0  \n7033164             A61B                       1.0  \n7052116             A44C                       1.0  \n7062445             G06F                       1.0  \n7113064             E02F                       1.0  \n7752518             G06F                       1.0  \n7760753             H04L                       1.0  \n7762737             G06F                       1.0  \n7829869             H04L                       1.0  \n7838496             H04W                       1.0  \n7845318        B65B,B65F                       2.0  \n7856825             C12N                       1.0  \n8291433             G06F                       1.0  \n8508369             A44C                       1.0  \n8836175             G06F                       1.0  \n8982898             H04L                       1.0  \n9060640        B60L,H02J                       2.0  \n9122350             A44C                       1.0  \n9594776             H04L                       1.0  \n9596775             G06F                       1.0  ",
      "text/html": "<div>\n<style scoped>\n    .dataframe tbody tr th:only-of-type {\n        vertical-align: middle;\n    }\n\n    .dataframe tbody tr th {\n        vertical-align: top;\n    }\n\n    .dataframe thead th {\n        text-align: right;\n    }\n</style>\n<table border=\"1\" class=\"dataframe\">\n  <thead>\n    <tr style=\"text-align: right;\">\n      <th></th>\n      <th>patent_id</th>\n      <th>app_name</th>\n      <th>app_year</th>\n      <th>city</th>\n      <th>country</th>\n      <th>country_name</th>\n      <th>ecosystem</th>\n      <th>grant_date</th>\n      <th>grant_year</th>\n      <th>app_date</th>\n      <th>class_concat</th>\n      <th>class_distinct_count</th>\n      <th>class_ipc_concat</th>\n      <th>class_ipc_distinct_count</th>\n    </tr>\n  </thead>\n  <tbody>\n    <tr>\n      <th>210816</th>\n      <td>20210219676</td>\n      <td>Reuven Paikin</td>\n      <td>2019</td>\n      <td>Windhoek</td>\n      <td>NaN</td>\n      <td>NaN</td>\n      <td>NaN</td>\n      <td>2021-07-22 00:00:00+00:00</td>\n      <td>2021</td>\n      <td>2019-05-08 00:00:00+00:00</td>\n      <td>A44C</td>\n      <td>1.0</td>\n      <td>A44C</td>\n      <td>1.0</td>\n    </tr>\n    <tr>\n      <th>389191</th>\n      <td>20150271058</td>\n      <td>Hiromasa YAMAUCHI</td>\n      <td>2015</td>\n      <td>Usakos</td>\n      <td>NaN</td>\n      <td>NaN</td>\n      <td>NaN</td>\n      <td>2015-09-24 00:00:00+00:00</td>\n      <td>2015</td>\n      <td>2015-06-05 00:00:00+00:00</td>\n      <td>H04W,H04L</td>\n      <td>2.0</td>\n      <td>H04L,H04W</td>\n      <td>2.0</td>\n    </tr>\n    <tr>\n      <th>848318</th>\n      <td>20150201396</td>\n      <td>Hiromasa Yamauchi</td>\n      <td>2015</td>\n      <td>Usakos</td>\n      <td>NaN</td>\n      <td>NaN</td>\n      <td>NaN</td>\n      <td>2015-07-16 00:00:00+00:00</td>\n      <td>2015</td>\n      <td>2015-03-26 00:00:00+00:00</td>\n      <td>H04W</td>\n      <td>1.0</td>\n      <td>H04W</td>\n      <td>1.0</td>\n    </tr>\n    <tr>\n      <th>1224661</th>\n      <td>20140157280</td>\n      <td>Hiromasa Yamauchi</td>\n      <td>2014</td>\n      <td>Usakos</td>\n      <td>NaN</td>\n      <td>NaN</td>\n      <td>NaN</td>\n      <td>2014-06-05 00:00:00+00:00</td>\n      <td>2014</td>\n      <td>2014-02-07 00:00:00+00:00</td>\n      <td>G06F</td>\n      <td>1.0</td>\n      <td>G06F</td>\n      <td>1.0</td>\n    </tr>\n    <tr>\n      <th>1300888</th>\n      <td>20140129811</td>\n      <td>Hiromasa Yamauchi</td>\n      <td>2014</td>\n      <td>Usakos</td>\n      <td>NaN</td>\n      <td>NaN</td>\n      <td>NaN</td>\n      <td>2014-05-08 00:00:00+00:00</td>\n      <td>2014</td>\n      <td>2014-01-09 00:00:00+00:00</td>\n      <td>G06F</td>\n      <td>1.0</td>\n      <td>G06F</td>\n      <td>1.0</td>\n    </tr>\n    <tr>\n      <th>1306335</th>\n      <td>20140380333</td>\n      <td>Hiromasa Yamauchi</td>\n      <td>2014</td>\n      <td>Usakos</td>\n      <td>NaN</td>\n      <td>NaN</td>\n      <td>NaN</td>\n      <td>2014-12-25 00:00:00+00:00</td>\n      <td>2014</td>\n      <td>2014-09-04 00:00:00+00:00</td>\n      <td>G06F</td>\n      <td>1.0</td>\n      <td>G06F</td>\n      <td>1.0</td>\n    </tr>\n    <tr>\n      <th>1685195</th>\n      <td>20140178206</td>\n      <td>Frank Kernstock</td>\n      <td>2012</td>\n      <td>Windhoek</td>\n      <td>NaN</td>\n      <td>NaN</td>\n      <td>NaN</td>\n      <td>2014-06-26 00:00:00+00:00</td>\n      <td>2014</td>\n      <td>2012-07-20 00:00:00+00:00</td>\n      <td>F01D</td>\n      <td>1.0</td>\n      <td>F01D</td>\n      <td>1.0</td>\n    </tr>\n    <tr>\n      <th>1770330</th>\n      <td>20150244603</td>\n      <td>Hiromasa YAMAUCHI</td>\n      <td>2015</td>\n      <td>Usakos</td>\n      <td>NaN</td>\n      <td>NaN</td>\n      <td>NaN</td>\n      <td>2015-08-27 00:00:00+00:00</td>\n      <td>2015</td>\n      <td>2015-05-08 00:00:00+00:00</td>\n      <td>H04L</td>\n      <td>1.0</td>\n      <td>H04L</td>\n      <td>1.0</td>\n    </tr>\n    <tr>\n      <th>2000238</th>\n      <td>20150229705</td>\n      <td>Hiromasa Yamauchi</td>\n      <td>2015</td>\n      <td>Usakos</td>\n      <td>NaN</td>\n      <td>NaN</td>\n      <td>NaN</td>\n      <td>2015-08-13 00:00:00+00:00</td>\n      <td>2015</td>\n      <td>2015-03-26 00:00:00+00:00</td>\n      <td>H04W,H04L</td>\n      <td>2.0</td>\n      <td>H04L,H04W</td>\n      <td>2.0</td>\n    </tr>\n    <tr>\n      <th>2074256</th>\n      <td>20150137995</td>\n      <td>Hiromasa YAMAUCHI</td>\n      <td>2015</td>\n      <td>Usakos</td>\n      <td>NaN</td>\n      <td>NaN</td>\n      <td>NaN</td>\n      <td>2015-05-21 00:00:00+00:00</td>\n      <td>2015</td>\n      <td>2015-01-23 00:00:00+00:00</td>\n      <td>H04Q,H04W</td>\n      <td>2.0</td>\n      <td>H04Q,H04W</td>\n      <td>2.0</td>\n    </tr>\n    <tr>\n      <th>2305126</th>\n      <td>20150131486</td>\n      <td>Hiromasa YAMAUCHI</td>\n      <td>2015</td>\n      <td>Usakos</td>\n      <td>NaN</td>\n      <td>NaN</td>\n      <td>NaN</td>\n      <td>2015-05-14 00:00:00+00:00</td>\n      <td>2015</td>\n      <td>2015-01-23 00:00:00+00:00</td>\n      <td>H04L,H04W</td>\n      <td>2.0</td>\n      <td>H04L,H04W</td>\n      <td>2.0</td>\n    </tr>\n    <tr>\n      <th>3372940</th>\n      <td>20140149991</td>\n      <td>Hiromasa Yamauchi</td>\n      <td>2014</td>\n      <td>Usakos</td>\n      <td>NaN</td>\n      <td>NaN</td>\n      <td>NaN</td>\n      <td>2014-05-29 00:00:00+00:00</td>\n      <td>2014</td>\n      <td>2014-01-31 00:00:00+00:00</td>\n      <td>G06F</td>\n      <td>1.0</td>\n      <td>G06F</td>\n      <td>1.0</td>\n    </tr>\n    <tr>\n      <th>3382272</th>\n      <td>20150201362</td>\n      <td>Hiromasa Yamauchi</td>\n      <td>2015</td>\n      <td>Usakos</td>\n      <td>NaN</td>\n      <td>NaN</td>\n      <td>NaN</td>\n      <td>2015-07-16 00:00:00+00:00</td>\n      <td>2015</td>\n      <td>2015-03-25 00:00:00+00:00</td>\n      <td>H04B,H04W</td>\n      <td>2.0</td>\n      <td>H04B,H04W</td>\n      <td>2.0</td>\n    </tr>\n    <tr>\n      <th>3529833</th>\n      <td>20140237150</td>\n      <td>Hiromasa YAMAUCHI</td>\n      <td>2014</td>\n      <td>Usakos</td>\n      <td>NaN</td>\n      <td>NaN</td>\n      <td>NaN</td>\n      <td>2014-08-21 00:00:00+00:00</td>\n      <td>2014</td>\n      <td>2014-04-30 00:00:00+00:00</td>\n      <td>G06F</td>\n      <td>1.0</td>\n      <td>G06F</td>\n      <td>1.0</td>\n    </tr>\n    <tr>\n      <th>3689809</th>\n      <td>20150172791</td>\n      <td>Hiromasa YAMAUCHI</td>\n      <td>2015</td>\n      <td>Usakos</td>\n      <td>NaN</td>\n      <td>NaN</td>\n      <td>NaN</td>\n      <td>2015-06-18 00:00:00+00:00</td>\n      <td>2015</td>\n      <td>2015-02-26 00:00:00+00:00</td>\n      <td>H04Q,H04W</td>\n      <td>2.0</td>\n      <td>H04Q,H04W</td>\n      <td>2.0</td>\n    </tr>\n    <tr>\n      <th>3985548</th>\n      <td>20140122632</td>\n      <td>Hiromasa YAMAUCHI</td>\n      <td>2014</td>\n      <td>Usakos</td>\n      <td>NaN</td>\n      <td>NaN</td>\n      <td>NaN</td>\n      <td>2014-05-01 00:00:00+00:00</td>\n      <td>2014</td>\n      <td>2014-01-06 00:00:00+00:00</td>\n      <td>H04L</td>\n      <td>1.0</td>\n      <td>H04L</td>\n      <td>1.0</td>\n    </tr>\n    <tr>\n      <th>4376193</th>\n      <td>20150012777</td>\n      <td>Hiromasa Yamauchi</td>\n      <td>2014</td>\n      <td>Usakos</td>\n      <td>NaN</td>\n      <td>NaN</td>\n      <td>NaN</td>\n      <td>2015-01-08 00:00:00+00:00</td>\n      <td>2015</td>\n      <td>2014-09-25 00:00:00+00:00</td>\n      <td>G06F</td>\n      <td>1.0</td>\n      <td>G06F</td>\n      <td>1.0</td>\n    </tr>\n    <tr>\n      <th>4612331</th>\n      <td>20150289192</td>\n      <td>Hiromasa YAMAUCHI</td>\n      <td>2015</td>\n      <td>Usakos</td>\n      <td>NaN</td>\n      <td>NaN</td>\n      <td>NaN</td>\n      <td>2015-10-08 00:00:00+00:00</td>\n      <td>2015</td>\n      <td>2015-06-22 00:00:00+00:00</td>\n      <td>H04W</td>\n      <td>1.0</td>\n      <td>H04W</td>\n      <td>1.0</td>\n    </tr>\n    <tr>\n      <th>4678168</th>\n      <td>20140149691</td>\n      <td>Hiromasa Yamauchi</td>\n      <td>2014</td>\n      <td>Usakos</td>\n      <td>NaN</td>\n      <td>NaN</td>\n      <td>NaN</td>\n      <td>2014-05-29 00:00:00+00:00</td>\n      <td>2014</td>\n      <td>2014-02-04 00:00:00+00:00</td>\n      <td>G06F</td>\n      <td>1.0</td>\n      <td>G06F</td>\n      <td>1.0</td>\n    </tr>\n    <tr>\n      <th>4758527</th>\n      <td>20140310723</td>\n      <td>Hiromasa Yamauchi</td>\n      <td>2014</td>\n      <td>Usakos</td>\n      <td>NaN</td>\n      <td>NaN</td>\n      <td>NaN</td>\n      <td>2014-10-16 00:00:00+00:00</td>\n      <td>2014</td>\n      <td>2014-06-26 00:00:00+00:00</td>\n      <td>G06F</td>\n      <td>1.0</td>\n      <td>G06F</td>\n      <td>1.0</td>\n    </tr>\n    <tr>\n      <th>5293071</th>\n      <td>20140143788</td>\n      <td>Hiromasa Yamauchi</td>\n      <td>2014</td>\n      <td>Usakos</td>\n      <td>NaN</td>\n      <td>NaN</td>\n      <td>NaN</td>\n      <td>2014-05-22 00:00:00+00:00</td>\n      <td>2014</td>\n      <td>2014-01-28 00:00:00+00:00</td>\n      <td>G06F</td>\n      <td>1.0</td>\n      <td>G06F</td>\n      <td>1.0</td>\n    </tr>\n    <tr>\n      <th>5378011</th>\n      <td>20150153439</td>\n      <td>Hiromasa YAMAUCHI</td>\n      <td>2015</td>\n      <td>Usakos</td>\n      <td>NaN</td>\n      <td>NaN</td>\n      <td>NaN</td>\n      <td>2015-06-04 00:00:00+00:00</td>\n      <td>2015</td>\n      <td>2015-02-11 00:00:00+00:00</td>\n      <td>H04L,H04W,G01S</td>\n      <td>3.0</td>\n      <td>G01S,H04L,H04W</td>\n      <td>3.0</td>\n    </tr>\n    <tr>\n      <th>5448189</th>\n      <td>20140241277</td>\n      <td>Hiromasa YAMAUCHI</td>\n      <td>2014</td>\n      <td>Usakos</td>\n      <td>NaN</td>\n      <td>NaN</td>\n      <td>NaN</td>\n      <td>2014-08-28 00:00:00+00:00</td>\n      <td>2014</td>\n      <td>2014-04-09 00:00:00+00:00</td>\n      <td>H04W</td>\n      <td>1.0</td>\n      <td>H04W</td>\n      <td>1.0</td>\n    </tr>\n    <tr>\n      <th>5829483</th>\n      <td>20140089377</td>\n      <td>Hiromasa YAMAUCHI</td>\n      <td>2013</td>\n      <td>Usakos</td>\n      <td>NaN</td>\n      <td>NaN</td>\n      <td>NaN</td>\n      <td>2014-03-27 00:00:00+00:00</td>\n      <td>2014</td>\n      <td>2013-11-26 00:00:00+00:00</td>\n      <td>H04L</td>\n      <td>1.0</td>\n      <td>H04L</td>\n      <td>1.0</td>\n    </tr>\n    <tr>\n      <th>5829867</th>\n      <td>20140108758</td>\n      <td>Hiromasa Yamauchi</td>\n      <td>2013</td>\n      <td>Usakos</td>\n      <td>NaN</td>\n      <td>NaN</td>\n      <td>NaN</td>\n      <td>2014-04-17 00:00:00+00:00</td>\n      <td>2014</td>\n      <td>2013-12-19 00:00:00+00:00</td>\n      <td>G06F</td>\n      <td>1.0</td>\n      <td>G06F</td>\n      <td>1.0</td>\n    </tr>\n    <tr>\n      <th>5846787</th>\n      <td>20160113443</td>\n      <td>Anthony Jager</td>\n      <td>2015</td>\n      <td>Rehoboth</td>\n      <td>NaN</td>\n      <td>NaN</td>\n      <td>NaN</td>\n      <td>2016-04-28 00:00:00+00:00</td>\n      <td>2016</td>\n      <td>2015-12-31 00:00:00+00:00</td>\n      <td>A47J</td>\n      <td>1.0</td>\n      <td>A47J</td>\n      <td>1.0</td>\n    </tr>\n    <tr>\n      <th>5846788</th>\n      <td>20160113443</td>\n      <td>Sean Jager</td>\n      <td>2015</td>\n      <td>Rehoboth</td>\n      <td>NaN</td>\n      <td>NaN</td>\n      <td>NaN</td>\n      <td>2016-04-28 00:00:00+00:00</td>\n      <td>2016</td>\n      <td>2015-12-31 00:00:00+00:00</td>\n      <td>A47J</td>\n      <td>1.0</td>\n      <td>A47J</td>\n      <td>1.0</td>\n    </tr>\n    <tr>\n      <th>6687242</th>\n      <td>20150177361</td>\n      <td>Hiromasa Yamauchi</td>\n      <td>2015</td>\n      <td>Usakos</td>\n      <td>NaN</td>\n      <td>NaN</td>\n      <td>NaN</td>\n      <td>2015-06-25 00:00:00+00:00</td>\n      <td>2015</td>\n      <td>2015-03-03 00:00:00+00:00</td>\n      <td>G01S,H04W</td>\n      <td>2.0</td>\n      <td>G01S,H04W</td>\n      <td>2.0</td>\n    </tr>\n    <tr>\n      <th>7033164</th>\n      <td>20190388165</td>\n      <td>Kenichiro NAGASAKA</td>\n      <td>2018</td>\n      <td>Tokyo</td>\n      <td>NaN</td>\n      <td>NaN</td>\n      <td>Tokyo</td>\n      <td>2019-12-26 00:00:00+00:00</td>\n      <td>2019</td>\n      <td>2018-02-02 00:00:00+00:00</td>\n      <td>A61B</td>\n      <td>1.0</td>\n      <td>A61B</td>\n      <td>1.0</td>\n    </tr>\n    <tr>\n      <th>7052116</th>\n      <td>20210361040</td>\n      <td>Reuven Paikin</td>\n      <td>2021</td>\n      <td>Windhoek</td>\n      <td>NaN</td>\n      <td>NaN</td>\n      <td>NaN</td>\n      <td>2021-11-25 00:00:00+00:00</td>\n      <td>2021</td>\n      <td>2021-05-19 00:00:00+00:00</td>\n      <td>A44C</td>\n      <td>1.0</td>\n      <td>A44C</td>\n      <td>1.0</td>\n    </tr>\n    <tr>\n      <th>7062445</th>\n      <td>20140143790</td>\n      <td>Hiromasa YAMAUCHI</td>\n      <td>2014</td>\n      <td>Usakos</td>\n      <td>NaN</td>\n      <td>NaN</td>\n      <td>NaN</td>\n      <td>2014-05-22 00:00:00+00:00</td>\n      <td>2014</td>\n      <td>2014-01-27 00:00:00+00:00</td>\n      <td>G06F</td>\n      <td>1.0</td>\n      <td>G06F</td>\n      <td>1.0</td>\n    </tr>\n    <tr>\n      <th>7113064</th>\n      <td>20200131743</td>\n      <td>Cornelius Brockman</td>\n      <td>2019</td>\n      <td>Swakopmund</td>\n      <td>NaN</td>\n      <td>NaN</td>\n      <td>NaN</td>\n      <td>2020-04-30 00:00:00+00:00</td>\n      <td>2020</td>\n      <td>2019-10-31 00:00:00+00:00</td>\n      <td>E02F</td>\n      <td>1.0</td>\n      <td>E02F</td>\n      <td>1.0</td>\n    </tr>\n    <tr>\n      <th>7752518</th>\n      <td>20140115601</td>\n      <td>Hiromasa YAMAUCHI</td>\n      <td>2013</td>\n      <td>Usakos</td>\n      <td>NaN</td>\n      <td>NaN</td>\n      <td>NaN</td>\n      <td>2014-04-24 00:00:00+00:00</td>\n      <td>2014</td>\n      <td>2013-12-20 00:00:00+00:00</td>\n      <td>G06F</td>\n      <td>1.0</td>\n      <td>G06F</td>\n      <td>1.0</td>\n    </tr>\n    <tr>\n      <th>7760753</th>\n      <td>20150131439</td>\n      <td>Hiromasa Yamauchi</td>\n      <td>2015</td>\n      <td>Usakos</td>\n      <td>NaN</td>\n      <td>NaN</td>\n      <td>NaN</td>\n      <td>2015-05-14 00:00:00+00:00</td>\n      <td>2015</td>\n      <td>2015-01-19 00:00:00+00:00</td>\n      <td>H04L</td>\n      <td>1.0</td>\n      <td>H04L</td>\n      <td>1.0</td>\n    </tr>\n    <tr>\n      <th>7762737</th>\n      <td>20150227400</td>\n      <td>Hiromasa YAMAUCHI</td>\n      <td>2015</td>\n      <td>Usakos</td>\n      <td>NaN</td>\n      <td>NaN</td>\n      <td>NaN</td>\n      <td>2015-08-13 00:00:00+00:00</td>\n      <td>2015</td>\n      <td>2015-03-26 00:00:00+00:00</td>\n      <td>G06F</td>\n      <td>1.0</td>\n      <td>G06F</td>\n      <td>1.0</td>\n    </tr>\n    <tr>\n      <th>7829869</th>\n      <td>20140164468</td>\n      <td>Hiromasa Yamauchi</td>\n      <td>2013</td>\n      <td>Usakos</td>\n      <td>NaN</td>\n      <td>NaN</td>\n      <td>NaN</td>\n      <td>2014-06-12 00:00:00+00:00</td>\n      <td>2014</td>\n      <td>2013-11-26 00:00:00+00:00</td>\n      <td>H04L</td>\n      <td>1.0</td>\n      <td>H04L</td>\n      <td>1.0</td>\n    </tr>\n    <tr>\n      <th>7838496</th>\n      <td>20150181528</td>\n      <td>Hiromasa YAMAUCHI</td>\n      <td>2015</td>\n      <td>Usakos</td>\n      <td>NaN</td>\n      <td>NaN</td>\n      <td>NaN</td>\n      <td>2015-06-25 00:00:00+00:00</td>\n      <td>2015</td>\n      <td>2015-02-27 00:00:00+00:00</td>\n      <td>H04W</td>\n      <td>1.0</td>\n      <td>H04W</td>\n      <td>1.0</td>\n    </tr>\n    <tr>\n      <th>7845318</th>\n      <td>20160114975</td>\n      <td>Paul Zwaan</td>\n      <td>2014</td>\n      <td>Auckland</td>\n      <td>NaN</td>\n      <td>NaN</td>\n      <td>New Zealand</td>\n      <td>2016-04-28 00:00:00+00:00</td>\n      <td>2016</td>\n      <td>2014-04-06 00:00:00+00:00</td>\n      <td>B65B,B65F</td>\n      <td>2.0</td>\n      <td>B65B,B65F</td>\n      <td>2.0</td>\n    </tr>\n    <tr>\n      <th>7856825</th>\n      <td>20170240895</td>\n      <td>Michael Greenberg</td>\n      <td>2013</td>\n      <td>NA (deceased)</td>\n      <td>NaN</td>\n      <td>NaN</td>\n      <td>NaN</td>\n      <td>2017-08-24 00:00:00+00:00</td>\n      <td>2017</td>\n      <td>2013-04-17 00:00:00+00:00</td>\n      <td>C12N</td>\n      <td>1.0</td>\n      <td>C12N</td>\n      <td>1.0</td>\n    </tr>\n    <tr>\n      <th>8291433</th>\n      <td>20140123154</td>\n      <td>Hiromasa Yamauchi</td>\n      <td>2014</td>\n      <td>Usakos</td>\n      <td>NaN</td>\n      <td>NaN</td>\n      <td>NaN</td>\n      <td>2014-05-01 00:00:00+00:00</td>\n      <td>2014</td>\n      <td>2014-01-06 00:00:00+00:00</td>\n      <td>G06F</td>\n      <td>1.0</td>\n      <td>G06F</td>\n      <td>1.0</td>\n    </tr>\n    <tr>\n      <th>8508369</th>\n      <td>20210212421</td>\n      <td>Reuven PAIKIN</td>\n      <td>2021</td>\n      <td>Windhoek</td>\n      <td>NaN</td>\n      <td>NaN</td>\n      <td>NaN</td>\n      <td>2021-07-15 00:00:00+00:00</td>\n      <td>2021</td>\n      <td>2021-01-15 00:00:00+00:00</td>\n      <td>A44C</td>\n      <td>1.0</td>\n      <td>A44C</td>\n      <td>1.0</td>\n    </tr>\n    <tr>\n      <th>8836175</th>\n      <td>20150019837</td>\n      <td>Hiromasa Yamauchi</td>\n      <td>2014</td>\n      <td>Usakos</td>\n      <td>NaN</td>\n      <td>NaN</td>\n      <td>NaN</td>\n      <td>2015-01-15 00:00:00+00:00</td>\n      <td>2015</td>\n      <td>2014-09-29 00:00:00+00:00</td>\n      <td>G06F</td>\n      <td>1.0</td>\n      <td>G06F</td>\n      <td>1.0</td>\n    </tr>\n    <tr>\n      <th>8982898</th>\n      <td>20140092747</td>\n      <td>Hiromasa YAMAUCHI</td>\n      <td>2013</td>\n      <td>Usakos</td>\n      <td>NaN</td>\n      <td>NaN</td>\n      <td>NaN</td>\n      <td>2014-04-03 00:00:00+00:00</td>\n      <td>2014</td>\n      <td>2013-12-04 00:00:00+00:00</td>\n      <td>H04L</td>\n      <td>1.0</td>\n      <td>H04L</td>\n      <td>1.0</td>\n    </tr>\n    <tr>\n      <th>9060640</th>\n      <td>20140145670</td>\n      <td>Jan Wanner</td>\n      <td>2013</td>\n      <td>Bonaire</td>\n      <td>NaN</td>\n      <td>NaN</td>\n      <td>NaN</td>\n      <td>2014-05-29 00:00:00+00:00</td>\n      <td>2014</td>\n      <td>2013-11-27 00:00:00+00:00</td>\n      <td>B60L,H02J</td>\n      <td>2.0</td>\n      <td>B60L,H02J</td>\n      <td>2.0</td>\n    </tr>\n    <tr>\n      <th>9122350</th>\n      <td>20210212422</td>\n      <td>Reuven PAIKIN</td>\n      <td>2021</td>\n      <td>Windhoek</td>\n      <td>NaN</td>\n      <td>NaN</td>\n      <td>NaN</td>\n      <td>2021-07-15 00:00:00+00:00</td>\n      <td>2021</td>\n      <td>2021-01-15 00:00:00+00:00</td>\n      <td>A44C</td>\n      <td>1.0</td>\n      <td>A44C</td>\n      <td>1.0</td>\n    </tr>\n    <tr>\n      <th>9594776</th>\n      <td>20140095573</td>\n      <td>Hiromasa Yamauchi</td>\n      <td>2013</td>\n      <td>Usakos</td>\n      <td>NaN</td>\n      <td>NaN</td>\n      <td>NaN</td>\n      <td>2014-04-03 00:00:00+00:00</td>\n      <td>2014</td>\n      <td>2013-12-03 00:00:00+00:00</td>\n      <td>H04L</td>\n      <td>1.0</td>\n      <td>H04L</td>\n      <td>1.0</td>\n    </tr>\n    <tr>\n      <th>9596775</th>\n      <td>20140189185</td>\n      <td>Hiromasa Yamauchi</td>\n      <td>2014</td>\n      <td>Usakos</td>\n      <td>NaN</td>\n      <td>NaN</td>\n      <td>NaN</td>\n      <td>2014-07-03 00:00:00+00:00</td>\n      <td>2014</td>\n      <td>2014-03-06 00:00:00+00:00</td>\n      <td>G06F</td>\n      <td>1.0</td>\n      <td>G06F</td>\n      <td>1.0</td>\n    </tr>\n  </tbody>\n</table>\n</div>"
     },
     "execution_count": 8,
     "metadata": {},
     "output_type": "execute_result"
    }
   ],
   "source": [
    "print(f'Unique patents for abstract: {len(df_abstract)}')\n",
    "\n",
    "unique_patents_raw_patents = df_raw_patents['patent_id'].unique()\n",
    "print(f'Unique patents for raw_patents: {len(unique_patents_raw_patents)}')\n",
    "\n",
    "unique_patents_applicants = len(df_table_for_applicants['patent_id'].unique())\n",
    "print(f'Unique patents for applicants: {unique_patents_applicants}')\n",
    "\n",
    "a = df_raw_patents[df_raw_patents['country'].isnull()]\n",
    "a"
   ],
   "metadata": {
    "collapsed": false,
    "ExecuteTime": {
     "end_time": "2023-06-27T12:44:18.939377100Z",
     "start_time": "2023-06-27T12:44:18.469059100Z"
    }
   }
  },
  {
   "cell_type": "code",
   "execution_count": 9,
   "outputs": [
    {
     "data": {
      "text/plain": "         publication_number  \\\n0               20120154258   \n1               20120179978   \n2               20120179978   \n3               20120179978   \n4               20120178784   \n...                     ...   \n7854889         20200302226   \n7854890         20200302226   \n7854891         20200341306   \n7854892         20200341306   \n7854893         20200341306   \n\n                                                  abstract    patent_id  \\\n0        A display device having at least a plurality o...  20120154258   \n1        Method and apparatus for previewing new events...  20120179978   \n2        Method and apparatus for previewing new events...  20120179978   \n3        Method and apparatus for previewing new events...  20120179978   \n4        It has been found that inhibitors of the renni...  20120178784   \n...                                                    ...          ...   \n7854889  In a method for failure detection, operational...  20200302226   \n7854890  In a method for failure detection, operational...  20200302226   \n7854891  The present disclosure discloses an LCD and a ...  20200341306   \n7854892  The present disclosure discloses an LCD and a ...  20200341306   \n7854893  The present disclosure discloses an LCD and a ...  20200341306   \n\n                    app_name  app_year       city country    country_name  \\\n0              Mitsuru Asano      2012   Kanagawa      JP           Japan   \n1        Christopher Wormald      2012  Kitchener      CA          Canada   \n2                 Craig Dunk      2012     Guelph      CA          Canada   \n3            Gerhard Klassen      2012   Waterloo      CA          Canada   \n4            Hugh Montgomery      2012     London      GB  United Kingdom   \n...                      ...       ...        ...     ...             ...   \n7854889      Mustafa Alnaser      2019    Dhahran      SA    Saudi Arabia   \n7854890           Sami FERIK      2019  Al-Khobar      SA    Saudi Arabia   \n7854891              Jian LI      2020    Beijing      CN           China   \n7854892              Lei SHI      2020    Beijing      CN           China   \n7854893             Lei TANG      2020    Beijing      CN           China   \n\n                     ecosystem                grant_date  grant_year  \\\n0                        Tokyo 2012-06-21 00:00:00+00:00        2012   \n1                     Waterloo 2012-07-12 00:00:00+00:00        2012   \n2                     Waterloo 2012-07-12 00:00:00+00:00        2012   \n3                     Waterloo 2012-07-12 00:00:00+00:00        2012   \n4        Greater London;London 2012-07-12 00:00:00+00:00        2012   \n...                        ...                       ...         ...   \n7854889                    NaN 2020-09-24 00:00:00+00:00        2020   \n7854890                    NaN 2020-09-24 00:00:00+00:00        2020   \n7854891                Beijing 2020-10-29 00:00:00+00:00        2020   \n7854892                Beijing 2020-10-29 00:00:00+00:00        2020   \n7854893                Beijing 2020-10-29 00:00:00+00:00        2020   \n\n                         app_date class_concat  class_distinct_count  \\\n0       2012-02-29 00:00:00+00:00         G09G                   1.0   \n1       2012-01-26 00:00:00+00:00    G06F,H04W                   2.0   \n2       2012-01-26 00:00:00+00:00    G06F,H04W                   2.0   \n3       2012-01-26 00:00:00+00:00    G06F,H04W                   2.0   \n4       2012-01-30 00:00:00+00:00    A61P,A61K                   2.0   \n...                           ...          ...                   ...   \n7854889 2019-07-03 00:00:00+00:00    G06K,G06F                   2.0   \n7854890 2019-07-03 00:00:00+00:00    G06K,G06F                   2.0   \n7854891 2020-01-06 00:00:00+00:00         G02F                   1.0   \n7854892 2020-01-06 00:00:00+00:00         G02F                   1.0   \n7854893 2020-01-06 00:00:00+00:00         G02F                   1.0   \n\n        class_ipc_concat  class_ipc_distinct_count  \n0                   G09G                       1.0  \n1              G06F,H04W                       2.0  \n2              G06F,H04W                       2.0  \n3              G06F,H04W                       2.0  \n4                   A61K                       1.0  \n...                  ...                       ...  \n7854889        G06F,G06K                       2.0  \n7854890        G06F,G06K                       2.0  \n7854891             G02F                       1.0  \n7854892             G02F                       1.0  \n7854893             G02F                       1.0  \n\n[7854894 rows x 16 columns]",
      "text/html": "<div>\n<style scoped>\n    .dataframe tbody tr th:only-of-type {\n        vertical-align: middle;\n    }\n\n    .dataframe tbody tr th {\n        vertical-align: top;\n    }\n\n    .dataframe thead th {\n        text-align: right;\n    }\n</style>\n<table border=\"1\" class=\"dataframe\">\n  <thead>\n    <tr style=\"text-align: right;\">\n      <th></th>\n      <th>publication_number</th>\n      <th>abstract</th>\n      <th>patent_id</th>\n      <th>app_name</th>\n      <th>app_year</th>\n      <th>city</th>\n      <th>country</th>\n      <th>country_name</th>\n      <th>ecosystem</th>\n      <th>grant_date</th>\n      <th>grant_year</th>\n      <th>app_date</th>\n      <th>class_concat</th>\n      <th>class_distinct_count</th>\n      <th>class_ipc_concat</th>\n      <th>class_ipc_distinct_count</th>\n    </tr>\n  </thead>\n  <tbody>\n    <tr>\n      <th>0</th>\n      <td>20120154258</td>\n      <td>A display device having at least a plurality o...</td>\n      <td>20120154258</td>\n      <td>Mitsuru Asano</td>\n      <td>2012</td>\n      <td>Kanagawa</td>\n      <td>JP</td>\n      <td>Japan</td>\n      <td>Tokyo</td>\n      <td>2012-06-21 00:00:00+00:00</td>\n      <td>2012</td>\n      <td>2012-02-29 00:00:00+00:00</td>\n      <td>G09G</td>\n      <td>1.0</td>\n      <td>G09G</td>\n      <td>1.0</td>\n    </tr>\n    <tr>\n      <th>1</th>\n      <td>20120179978</td>\n      <td>Method and apparatus for previewing new events...</td>\n      <td>20120179978</td>\n      <td>Christopher Wormald</td>\n      <td>2012</td>\n      <td>Kitchener</td>\n      <td>CA</td>\n      <td>Canada</td>\n      <td>Waterloo</td>\n      <td>2012-07-12 00:00:00+00:00</td>\n      <td>2012</td>\n      <td>2012-01-26 00:00:00+00:00</td>\n      <td>G06F,H04W</td>\n      <td>2.0</td>\n      <td>G06F,H04W</td>\n      <td>2.0</td>\n    </tr>\n    <tr>\n      <th>2</th>\n      <td>20120179978</td>\n      <td>Method and apparatus for previewing new events...</td>\n      <td>20120179978</td>\n      <td>Craig Dunk</td>\n      <td>2012</td>\n      <td>Guelph</td>\n      <td>CA</td>\n      <td>Canada</td>\n      <td>Waterloo</td>\n      <td>2012-07-12 00:00:00+00:00</td>\n      <td>2012</td>\n      <td>2012-01-26 00:00:00+00:00</td>\n      <td>G06F,H04W</td>\n      <td>2.0</td>\n      <td>G06F,H04W</td>\n      <td>2.0</td>\n    </tr>\n    <tr>\n      <th>3</th>\n      <td>20120179978</td>\n      <td>Method and apparatus for previewing new events...</td>\n      <td>20120179978</td>\n      <td>Gerhard Klassen</td>\n      <td>2012</td>\n      <td>Waterloo</td>\n      <td>CA</td>\n      <td>Canada</td>\n      <td>Waterloo</td>\n      <td>2012-07-12 00:00:00+00:00</td>\n      <td>2012</td>\n      <td>2012-01-26 00:00:00+00:00</td>\n      <td>G06F,H04W</td>\n      <td>2.0</td>\n      <td>G06F,H04W</td>\n      <td>2.0</td>\n    </tr>\n    <tr>\n      <th>4</th>\n      <td>20120178784</td>\n      <td>It has been found that inhibitors of the renni...</td>\n      <td>20120178784</td>\n      <td>Hugh Montgomery</td>\n      <td>2012</td>\n      <td>London</td>\n      <td>GB</td>\n      <td>United Kingdom</td>\n      <td>Greater London;London</td>\n      <td>2012-07-12 00:00:00+00:00</td>\n      <td>2012</td>\n      <td>2012-01-30 00:00:00+00:00</td>\n      <td>A61P,A61K</td>\n      <td>2.0</td>\n      <td>A61K</td>\n      <td>1.0</td>\n    </tr>\n    <tr>\n      <th>...</th>\n      <td>...</td>\n      <td>...</td>\n      <td>...</td>\n      <td>...</td>\n      <td>...</td>\n      <td>...</td>\n      <td>...</td>\n      <td>...</td>\n      <td>...</td>\n      <td>...</td>\n      <td>...</td>\n      <td>...</td>\n      <td>...</td>\n      <td>...</td>\n      <td>...</td>\n      <td>...</td>\n    </tr>\n    <tr>\n      <th>7854889</th>\n      <td>20200302226</td>\n      <td>In a method for failure detection, operational...</td>\n      <td>20200302226</td>\n      <td>Mustafa Alnaser</td>\n      <td>2019</td>\n      <td>Dhahran</td>\n      <td>SA</td>\n      <td>Saudi Arabia</td>\n      <td>NaN</td>\n      <td>2020-09-24 00:00:00+00:00</td>\n      <td>2020</td>\n      <td>2019-07-03 00:00:00+00:00</td>\n      <td>G06K,G06F</td>\n      <td>2.0</td>\n      <td>G06F,G06K</td>\n      <td>2.0</td>\n    </tr>\n    <tr>\n      <th>7854890</th>\n      <td>20200302226</td>\n      <td>In a method for failure detection, operational...</td>\n      <td>20200302226</td>\n      <td>Sami FERIK</td>\n      <td>2019</td>\n      <td>Al-Khobar</td>\n      <td>SA</td>\n      <td>Saudi Arabia</td>\n      <td>NaN</td>\n      <td>2020-09-24 00:00:00+00:00</td>\n      <td>2020</td>\n      <td>2019-07-03 00:00:00+00:00</td>\n      <td>G06K,G06F</td>\n      <td>2.0</td>\n      <td>G06F,G06K</td>\n      <td>2.0</td>\n    </tr>\n    <tr>\n      <th>7854891</th>\n      <td>20200341306</td>\n      <td>The present disclosure discloses an LCD and a ...</td>\n      <td>20200341306</td>\n      <td>Jian LI</td>\n      <td>2020</td>\n      <td>Beijing</td>\n      <td>CN</td>\n      <td>China</td>\n      <td>Beijing</td>\n      <td>2020-10-29 00:00:00+00:00</td>\n      <td>2020</td>\n      <td>2020-01-06 00:00:00+00:00</td>\n      <td>G02F</td>\n      <td>1.0</td>\n      <td>G02F</td>\n      <td>1.0</td>\n    </tr>\n    <tr>\n      <th>7854892</th>\n      <td>20200341306</td>\n      <td>The present disclosure discloses an LCD and a ...</td>\n      <td>20200341306</td>\n      <td>Lei SHI</td>\n      <td>2020</td>\n      <td>Beijing</td>\n      <td>CN</td>\n      <td>China</td>\n      <td>Beijing</td>\n      <td>2020-10-29 00:00:00+00:00</td>\n      <td>2020</td>\n      <td>2020-01-06 00:00:00+00:00</td>\n      <td>G02F</td>\n      <td>1.0</td>\n      <td>G02F</td>\n      <td>1.0</td>\n    </tr>\n    <tr>\n      <th>7854893</th>\n      <td>20200341306</td>\n      <td>The present disclosure discloses an LCD and a ...</td>\n      <td>20200341306</td>\n      <td>Lei TANG</td>\n      <td>2020</td>\n      <td>Beijing</td>\n      <td>CN</td>\n      <td>China</td>\n      <td>Beijing</td>\n      <td>2020-10-29 00:00:00+00:00</td>\n      <td>2020</td>\n      <td>2020-01-06 00:00:00+00:00</td>\n      <td>G02F</td>\n      <td>1.0</td>\n      <td>G02F</td>\n      <td>1.0</td>\n    </tr>\n  </tbody>\n</table>\n<p>7854894 rows × 16 columns</p>\n</div>"
     },
     "execution_count": 9,
     "metadata": {},
     "output_type": "execute_result"
    }
   ],
   "source": [
    "df = pd.merge(df_abstract, df_raw_patents, left_on='publication_number', right_on='patent_id')\n",
    "df"
   ],
   "metadata": {
    "collapsed": false,
    "ExecuteTime": {
     "end_time": "2023-06-27T12:44:21.305231500Z",
     "start_time": "2023-06-27T12:44:18.939377100Z"
    }
   }
  },
  {
   "cell_type": "code",
   "execution_count": 10,
   "outputs": [
    {
     "name": "stdout",
     "output_type": "stream",
     "text": [
      "Total Abstract: 4184916\n",
      "(Abstract - Raw Patents) =  1463827\n",
      "(Abstract - Applicants) =  3645740\n",
      "(Abstract - Raw Patents - Applicants) =  3645740\n",
      "(Abstract intersection Raw Patents) =  2721089\n",
      "(Abstract intersection Applicants) =  539176\n",
      "(Abstract intersection Raw Patents intersection Applicants) =  429128\n"
     ]
    }
   ],
   "source": [
    "abstract_set = set(df_abstract['publication_number'])\n",
    "raw_set = set(df_raw_patents['patent_id'].unique())\n",
    "applicants_set = set(df_table_for_applicants['patent_id'].unique())\n",
    "\n",
    "abstract_minus_raw = len(abstract_set - raw_set)\n",
    "abstract_minus_applicants = len(abstract_set - applicants_set)\n",
    "abstract_minus_raw_minus_app = len(abstract_set - applicants_set - applicants_set)\n",
    "abstract_intersection_raw = len(abstract_set.intersection(raw_set))\n",
    "abstract_intersection_applicants = len(abstract_set.intersection(applicants_set))\n",
    "abstract_intersection_raw_applicants = len(abstract_set.intersection(raw_set).intersection(applicants_set))\n",
    "print(f'Total Abstract: {len(abstract_set)}')\n",
    "print(f'(Abstract - Raw Patents) =  {abstract_minus_raw}')\n",
    "print(f'(Abstract - Applicants) =  {abstract_minus_applicants}')\n",
    "print(f'(Abstract - Raw Patents - Applicants) =  {abstract_minus_raw_minus_app}')\n",
    "print(f'(Abstract intersection Raw Patents) =  {abstract_intersection_raw}')\n",
    "print(f'(Abstract intersection Applicants) =  {abstract_intersection_applicants}')\n",
    "print(f'(Abstract intersection Raw Patents intersection Applicants) =  {abstract_intersection_raw_applicants}')"
   ],
   "metadata": {
    "collapsed": false,
    "ExecuteTime": {
     "end_time": "2023-06-27T12:44:28.109561100Z",
     "start_time": "2023-06-27T12:44:21.305231500Z"
    }
   }
  },
  {
   "cell_type": "code",
   "execution_count": 111,
   "outputs": [],
   "source": [
    "from src.utils.BokehUtils import BokehUtils\n",
    "from bokeh.layouts import column, row\n",
    "from bokeh.models import ColumnDataSource, NumeralTickFormatter, CategoricalTickFormatter, Legend, LegendItem\n",
    "from bokeh.plotting import figure, show\n",
    "from bokeh.palettes import Category20, Spectral6\n",
    "from bokeh.transform import dodge\n",
    "from bokeh.io import output_notebook"
   ],
   "metadata": {
    "collapsed": false,
    "ExecuteTime": {
     "end_time": "2023-06-27T14:23:46.726358700Z",
     "start_time": "2023-06-27T14:23:46.695109900Z"
    }
   }
  },
  {
   "cell_type": "code",
   "execution_count": 42,
   "outputs": [
    {
     "data": {
      "text/plain": "   app_year  total_app_year\n0      2012          342096\n1      2013          369761\n2      2014          374618\n3      2015          375410\n4      2016          375349",
      "text/html": "<div>\n<style scoped>\n    .dataframe tbody tr th:only-of-type {\n        vertical-align: middle;\n    }\n\n    .dataframe tbody tr th {\n        vertical-align: top;\n    }\n\n    .dataframe thead th {\n        text-align: right;\n    }\n</style>\n<table border=\"1\" class=\"dataframe\">\n  <thead>\n    <tr style=\"text-align: right;\">\n      <th></th>\n      <th>app_year</th>\n      <th>total_app_year</th>\n    </tr>\n  </thead>\n  <tbody>\n    <tr>\n      <th>0</th>\n      <td>2012</td>\n      <td>342096</td>\n    </tr>\n    <tr>\n      <th>1</th>\n      <td>2013</td>\n      <td>369761</td>\n    </tr>\n    <tr>\n      <th>2</th>\n      <td>2014</td>\n      <td>374618</td>\n    </tr>\n    <tr>\n      <th>3</th>\n      <td>2015</td>\n      <td>375410</td>\n    </tr>\n    <tr>\n      <th>4</th>\n      <td>2016</td>\n      <td>375349</td>\n    </tr>\n  </tbody>\n</table>\n</div>"
     },
     "execution_count": 42,
     "metadata": {},
     "output_type": "execute_result"
    }
   ],
   "source": [
    "df_grouped_app_year = df_raw_patents.groupby('app_year')['patent_id'].nunique().rename('total_app_year').reset_index()\n",
    "df_grouped_app_year.head(5)"
   ],
   "metadata": {
    "collapsed": false,
    "ExecuteTime": {
     "end_time": "2023-06-27T13:08:00.760554Z",
     "start_time": "2023-06-27T13:08:00.012699700Z"
    }
   }
  },
  {
   "cell_type": "code",
   "execution_count": 43,
   "outputs": [
    {
     "data": {
      "text/plain": "   grant_year  total_grant_year\n0        2012             87517\n1        2013            229937\n2        2014            363139\n3        2015            376640\n4        2016            371319",
      "text/html": "<div>\n<style scoped>\n    .dataframe tbody tr th:only-of-type {\n        vertical-align: middle;\n    }\n\n    .dataframe tbody tr th {\n        vertical-align: top;\n    }\n\n    .dataframe thead th {\n        text-align: right;\n    }\n</style>\n<table border=\"1\" class=\"dataframe\">\n  <thead>\n    <tr style=\"text-align: right;\">\n      <th></th>\n      <th>grant_year</th>\n      <th>total_grant_year</th>\n    </tr>\n  </thead>\n  <tbody>\n    <tr>\n      <th>0</th>\n      <td>2012</td>\n      <td>87517</td>\n    </tr>\n    <tr>\n      <th>1</th>\n      <td>2013</td>\n      <td>229937</td>\n    </tr>\n    <tr>\n      <th>2</th>\n      <td>2014</td>\n      <td>363139</td>\n    </tr>\n    <tr>\n      <th>3</th>\n      <td>2015</td>\n      <td>376640</td>\n    </tr>\n    <tr>\n      <th>4</th>\n      <td>2016</td>\n      <td>371319</td>\n    </tr>\n  </tbody>\n</table>\n</div>"
     },
     "execution_count": 43,
     "metadata": {},
     "output_type": "execute_result"
    }
   ],
   "source": [
    "df_grouped_grant_year = df_raw_patents.groupby('grant_year')['patent_id'].nunique().rename('total_grant_year').reset_index()\n",
    "df_grouped_grant_year.head(5)"
   ],
   "metadata": {
    "collapsed": false,
    "ExecuteTime": {
     "end_time": "2023-06-27T13:08:01.807017600Z",
     "start_time": "2023-06-27T13:08:01.220712900Z"
    }
   }
  },
  {
   "cell_type": "code",
   "execution_count": 44,
   "outputs": [
    {
     "data": {
      "text/plain": "   year  total_app_year  total_grant_year\n0  2012          342096             87517\n1  2013          369761            229937\n2  2014          374618            363139\n3  2015          375410            376640\n4  2016          375349            371319",
      "text/html": "<div>\n<style scoped>\n    .dataframe tbody tr th:only-of-type {\n        vertical-align: middle;\n    }\n\n    .dataframe tbody tr th {\n        vertical-align: top;\n    }\n\n    .dataframe thead th {\n        text-align: right;\n    }\n</style>\n<table border=\"1\" class=\"dataframe\">\n  <thead>\n    <tr style=\"text-align: right;\">\n      <th></th>\n      <th>year</th>\n      <th>total_app_year</th>\n      <th>total_grant_year</th>\n    </tr>\n  </thead>\n  <tbody>\n    <tr>\n      <th>0</th>\n      <td>2012</td>\n      <td>342096</td>\n      <td>87517</td>\n    </tr>\n    <tr>\n      <th>1</th>\n      <td>2013</td>\n      <td>369761</td>\n      <td>229937</td>\n    </tr>\n    <tr>\n      <th>2</th>\n      <td>2014</td>\n      <td>374618</td>\n      <td>363139</td>\n    </tr>\n    <tr>\n      <th>3</th>\n      <td>2015</td>\n      <td>375410</td>\n      <td>376640</td>\n    </tr>\n    <tr>\n      <th>4</th>\n      <td>2016</td>\n      <td>375349</td>\n      <td>371319</td>\n    </tr>\n  </tbody>\n</table>\n</div>"
     },
     "execution_count": 44,
     "metadata": {},
     "output_type": "execute_result"
    }
   ],
   "source": [
    "df_grouped_year = pd.merge(df_grouped_app_year, df_grouped_grant_year, left_on='app_year', right_on='grant_year')\n",
    "df_grouped_year.rename(columns={'app_year': 'year'}, inplace=True)\n",
    "df_grouped_year.drop('grant_year', axis=1, inplace=True)\n",
    "\n",
    "df_grouped_year.head(5)"
   ],
   "metadata": {
    "collapsed": false,
    "ExecuteTime": {
     "end_time": "2023-06-27T13:08:02.320394400Z",
     "start_time": "2023-06-27T13:08:02.304570100Z"
    }
   }
  },
  {
   "cell_type": "code",
   "execution_count": 118,
   "outputs": [
    {
     "data": {
      "text/html": "<style>\n        .bk-notebook-logo {\n            display: block;\n            width: 20px;\n            height: 20px;\n            background-image: url(data:image/png;base64,iVBORw0KGgoAAAANSUhEUgAAABQAAAAUCAYAAACNiR0NAAAABHNCSVQICAgIfAhkiAAAAAlwSFlzAAALEgAACxIB0t1+/AAAABx0RVh0U29mdHdhcmUAQWRvYmUgRmlyZXdvcmtzIENTNui8sowAAAOkSURBVDiNjZRtaJVlGMd/1/08zzln5zjP1LWcU9N0NkN8m2CYjpgQYQXqSs0I84OLIC0hkEKoPtiH3gmKoiJDU7QpLgoLjLIQCpEsNJ1vqUOdO7ppbuec5+V+rj4ctwzd8IIbbi6u+8f1539dt3A78eXC7QizUF7gyV1fD1Yqg4JWz84yffhm0qkFqBogB9rM8tZdtwVsPUhWhGcFJngGeWrPzHm5oaMmkfEg1usvLFyc8jLRqDOMru7AyC8saQr7GG7f5fvDeH7Ej8CM66nIF+8yngt6HWaKh7k49Soy9nXurCi1o3qUbS3zWfrYeQDTB/Qj6kX6Ybhw4B+bOYoLKCC9H3Nu/leUTZ1JdRWkkn2ldcCamzrcf47KKXdAJllSlxAOkRgyHsGC/zRday5Qld9DyoM4/q/rUoy/CXh3jzOu3bHUVZeU+DEn8FInkPBFlu3+nW3Nw0mk6vCDiWg8CeJaxEwuHS3+z5RgY+YBR6V1Z1nxSOfoaPa4LASWxxdNp+VWTk7+4vzaou8v8PN+xo+KY2xsw6une2frhw05CTYOmQvsEhjhWjn0bmXPjpE1+kplmmkP3suftwTubK9Vq22qKmrBhpY4jvd5afdRA3wGjFAgcnTK2s4hY0/GPNIb0nErGMCRxWOOX64Z8RAC4oCXdklmEvcL8o0BfkNK4lUg9HTl+oPlQxdNo3Mg4Nv175e/1LDGzZen30MEjRUtmXSfiTVu1kK8W4txyV6BMKlbgk3lMwYCiusNy9fVfvvwMxv8Ynl6vxoByANLTWplvuj/nF9m2+PDtt1eiHPBr1oIfhCChQMBw6Aw0UulqTKZdfVvfG7VcfIqLG9bcldL/+pdWTLxLUy8Qq38heUIjh4XlzZxzQm19lLFlr8vdQ97rjZVOLf8nclzckbcD4wxXMidpX30sFd37Fv/GtwwhzhxGVAprjbg0gCAEeIgwCZyTV2Z1REEW8O4py0wsjeloKoMr6iCY6dP92H6Vw/oTyICIthibxjm/DfN9lVz8IqtqKYLUXfoKVMVQVVJOElGjrnnUt9T9wbgp8AyYKaGlqingHZU/uG2NTZSVqwHQTWkx9hxjkpWDaCg6Ckj5qebgBVbT3V3NNXMSiWSDdGV3hrtzla7J+duwPOToIg42ChPQOQjspnSlp1V+Gjdged7+8UN5CRAV7a5EdFNwCjEaBR27b3W890TE7g24NAP/mMDXRWrGoFPQI9ls/MWO2dWFAar/xcOIImbbpA3zgAAAABJRU5ErkJggg==);\n        }\n    </style>\n    <div>\n        <a href=\"https://bokeh.org\" target=\"_blank\" class=\"bk-notebook-logo\"></a>\n        <span id=\"a30e15da-58e5-41a1-9d6a-58b62c110a2d\">Loading BokehJS ...</span>\n    </div>\n"
     },
     "metadata": {},
     "output_type": "display_data"
    },
    {
     "data": {
      "application/javascript": "(function(root) {\n  function now() {\n    return new Date();\n  }\n\n  const force = true;\n\n  if (typeof root._bokeh_onload_callbacks === \"undefined\" || force === true) {\n    root._bokeh_onload_callbacks = [];\n    root._bokeh_is_loading = undefined;\n  }\n\nconst JS_MIME_TYPE = 'application/javascript';\n  const HTML_MIME_TYPE = 'text/html';\n  const EXEC_MIME_TYPE = 'application/vnd.bokehjs_exec.v0+json';\n  const CLASS_NAME = 'output_bokeh rendered_html';\n\n  /**\n   * Render data to the DOM node\n   */\n  function render(props, node) {\n    const script = document.createElement(\"script\");\n    node.appendChild(script);\n  }\n\n  /**\n   * Handle when an output is cleared or removed\n   */\n  function handleClearOutput(event, handle) {\n    const cell = handle.cell;\n\n    const id = cell.output_area._bokeh_element_id;\n    const server_id = cell.output_area._bokeh_server_id;\n    // Clean up Bokeh references\n    if (id != null && id in Bokeh.index) {\n      Bokeh.index[id].model.document.clear();\n      delete Bokeh.index[id];\n    }\n\n    if (server_id !== undefined) {\n      // Clean up Bokeh references\n      const cmd_clean = \"from bokeh.io.state import curstate; print(curstate().uuid_to_server['\" + server_id + \"'].get_sessions()[0].document.roots[0]._id)\";\n      cell.notebook.kernel.execute(cmd_clean, {\n        iopub: {\n          output: function(msg) {\n            const id = msg.content.text.trim();\n            if (id in Bokeh.index) {\n              Bokeh.index[id].model.document.clear();\n              delete Bokeh.index[id];\n            }\n          }\n        }\n      });\n      // Destroy server and session\n      const cmd_destroy = \"import bokeh.io.notebook as ion; ion.destroy_server('\" + server_id + \"')\";\n      cell.notebook.kernel.execute(cmd_destroy);\n    }\n  }\n\n  /**\n   * Handle when a new output is added\n   */\n  function handleAddOutput(event, handle) {\n    const output_area = handle.output_area;\n    const output = handle.output;\n\n    // limit handleAddOutput to display_data with EXEC_MIME_TYPE content only\n    if ((output.output_type != \"display_data\") || (!Object.prototype.hasOwnProperty.call(output.data, EXEC_MIME_TYPE))) {\n      return\n    }\n\n    const toinsert = output_area.element.find(\".\" + CLASS_NAME.split(' ')[0]);\n\n    if (output.metadata[EXEC_MIME_TYPE][\"id\"] !== undefined) {\n      toinsert[toinsert.length - 1].firstChild.textContent = output.data[JS_MIME_TYPE];\n      // store reference to embed id on output_area\n      output_area._bokeh_element_id = output.metadata[EXEC_MIME_TYPE][\"id\"];\n    }\n    if (output.metadata[EXEC_MIME_TYPE][\"server_id\"] !== undefined) {\n      const bk_div = document.createElement(\"div\");\n      bk_div.innerHTML = output.data[HTML_MIME_TYPE];\n      const script_attrs = bk_div.children[0].attributes;\n      for (let i = 0; i < script_attrs.length; i++) {\n        toinsert[toinsert.length - 1].firstChild.setAttribute(script_attrs[i].name, script_attrs[i].value);\n        toinsert[toinsert.length - 1].firstChild.textContent = bk_div.children[0].textContent\n      }\n      // store reference to server id on output_area\n      output_area._bokeh_server_id = output.metadata[EXEC_MIME_TYPE][\"server_id\"];\n    }\n  }\n\n  function register_renderer(events, OutputArea) {\n\n    function append_mime(data, metadata, element) {\n      // create a DOM node to render to\n      const toinsert = this.create_output_subarea(\n        metadata,\n        CLASS_NAME,\n        EXEC_MIME_TYPE\n      );\n      this.keyboard_manager.register_events(toinsert);\n      // Render to node\n      const props = {data: data, metadata: metadata[EXEC_MIME_TYPE]};\n      render(props, toinsert[toinsert.length - 1]);\n      element.append(toinsert);\n      return toinsert\n    }\n\n    /* Handle when an output is cleared or removed */\n    events.on('clear_output.CodeCell', handleClearOutput);\n    events.on('delete.Cell', handleClearOutput);\n\n    /* Handle when a new output is added */\n    events.on('output_added.OutputArea', handleAddOutput);\n\n    /**\n     * Register the mime type and append_mime function with output_area\n     */\n    OutputArea.prototype.register_mime_type(EXEC_MIME_TYPE, append_mime, {\n      /* Is output safe? */\n      safe: true,\n      /* Index of renderer in `output_area.display_order` */\n      index: 0\n    });\n  }\n\n  // register the mime type if in Jupyter Notebook environment and previously unregistered\n  if (root.Jupyter !== undefined) {\n    const events = require('base/js/events');\n    const OutputArea = require('notebook/js/outputarea').OutputArea;\n\n    if (OutputArea.prototype.mime_types().indexOf(EXEC_MIME_TYPE) == -1) {\n      register_renderer(events, OutputArea);\n    }\n  }\n  if (typeof (root._bokeh_timeout) === \"undefined\" || force === true) {\n    root._bokeh_timeout = Date.now() + 5000;\n    root._bokeh_failed_load = false;\n  }\n\n  const NB_LOAD_WARNING = {'data': {'text/html':\n     \"<div style='background-color: #fdd'>\\n\"+\n     \"<p>\\n\"+\n     \"BokehJS does not appear to have successfully loaded. If loading BokehJS from CDN, this \\n\"+\n     \"may be due to a slow or bad network connection. Possible fixes:\\n\"+\n     \"</p>\\n\"+\n     \"<ul>\\n\"+\n     \"<li>re-rerun `output_notebook()` to attempt to load from CDN again, or</li>\\n\"+\n     \"<li>use INLINE resources instead, as so:</li>\\n\"+\n     \"</ul>\\n\"+\n     \"<code>\\n\"+\n     \"from bokeh.resources import INLINE\\n\"+\n     \"output_notebook(resources=INLINE)\\n\"+\n     \"</code>\\n\"+\n     \"</div>\"}};\n\n  function display_loaded() {\n    const el = document.getElementById(\"a30e15da-58e5-41a1-9d6a-58b62c110a2d\");\n    if (el != null) {\n      el.textContent = \"BokehJS is loading...\";\n    }\n    if (root.Bokeh !== undefined) {\n      if (el != null) {\n        el.textContent = \"BokehJS \" + root.Bokeh.version + \" successfully loaded.\";\n      }\n    } else if (Date.now() < root._bokeh_timeout) {\n      setTimeout(display_loaded, 100)\n    }\n  }\n\n  function run_callbacks() {\n    try {\n      root._bokeh_onload_callbacks.forEach(function(callback) {\n        if (callback != null)\n          callback();\n      });\n    } finally {\n      delete root._bokeh_onload_callbacks\n    }\n    console.debug(\"Bokeh: all callbacks have finished\");\n  }\n\n  function load_libs(css_urls, js_urls, callback) {\n    if (css_urls == null) css_urls = [];\n    if (js_urls == null) js_urls = [];\n\n    root._bokeh_onload_callbacks.push(callback);\n    if (root._bokeh_is_loading > 0) {\n      console.debug(\"Bokeh: BokehJS is being loaded, scheduling callback at\", now());\n      return null;\n    }\n    if (js_urls == null || js_urls.length === 0) {\n      run_callbacks();\n      return null;\n    }\n    console.debug(\"Bokeh: BokehJS not loaded, scheduling load and callback at\", now());\n    root._bokeh_is_loading = css_urls.length + js_urls.length;\n\n    function on_load() {\n      root._bokeh_is_loading--;\n      if (root._bokeh_is_loading === 0) {\n        console.debug(\"Bokeh: all BokehJS libraries/stylesheets loaded\");\n        run_callbacks()\n      }\n    }\n\n    function on_error(url) {\n      console.error(\"failed to load \" + url);\n    }\n\n    for (let i = 0; i < css_urls.length; i++) {\n      const url = css_urls[i];\n      const element = document.createElement(\"link\");\n      element.onload = on_load;\n      element.onerror = on_error.bind(null, url);\n      element.rel = \"stylesheet\";\n      element.type = \"text/css\";\n      element.href = url;\n      console.debug(\"Bokeh: injecting link tag for BokehJS stylesheet: \", url);\n      document.body.appendChild(element);\n    }\n\n    for (let i = 0; i < js_urls.length; i++) {\n      const url = js_urls[i];\n      const element = document.createElement('script');\n      element.onload = on_load;\n      element.onerror = on_error.bind(null, url);\n      element.async = false;\n      element.src = url;\n      console.debug(\"Bokeh: injecting script tag for BokehJS library: \", url);\n      document.head.appendChild(element);\n    }\n  };\n\n  function inject_raw_css(css) {\n    const element = document.createElement(\"style\");\n    element.appendChild(document.createTextNode(css));\n    document.body.appendChild(element);\n  }\n\n  const js_urls = [\"https://cdn.bokeh.org/bokeh/release/bokeh-3.2.0.min.js\", \"https://cdn.bokeh.org/bokeh/release/bokeh-gl-3.2.0.min.js\", \"https://cdn.bokeh.org/bokeh/release/bokeh-widgets-3.2.0.min.js\", \"https://cdn.bokeh.org/bokeh/release/bokeh-tables-3.2.0.min.js\", \"https://cdn.bokeh.org/bokeh/release/bokeh-mathjax-3.2.0.min.js\"];\n  const css_urls = [];\n\n  const inline_js = [    function(Bokeh) {\n      Bokeh.set_log_level(\"info\");\n    },\nfunction(Bokeh) {\n    }\n  ];\n\n  function run_inline_js() {\n    if (root.Bokeh !== undefined || force === true) {\n          for (let i = 0; i < inline_js.length; i++) {\n      inline_js[i].call(root, root.Bokeh);\n    }\nif (force === true) {\n        display_loaded();\n      }} else if (Date.now() < root._bokeh_timeout) {\n      setTimeout(run_inline_js, 100);\n    } else if (!root._bokeh_failed_load) {\n      console.log(\"Bokeh: BokehJS failed to load within specified timeout.\");\n      root._bokeh_failed_load = true;\n    } else if (force !== true) {\n      const cell = $(document.getElementById(\"a30e15da-58e5-41a1-9d6a-58b62c110a2d\")).parents('.cell').data().cell;\n      cell.output_area.append_execute_result(NB_LOAD_WARNING)\n    }\n  }\n\n  if (root._bokeh_is_loading === 0) {\n    console.debug(\"Bokeh: BokehJS loaded, going straight to plotting\");\n    run_inline_js();\n  } else {\n    load_libs(css_urls, js_urls, function() {\n      console.debug(\"Bokeh: BokehJS plotting callback run at\", now());\n      run_inline_js();\n    });\n  }\n}(window));",
      "application/vnd.bokehjs_load.v0+json": "(function(root) {\n  function now() {\n    return new Date();\n  }\n\n  const force = true;\n\n  if (typeof root._bokeh_onload_callbacks === \"undefined\" || force === true) {\n    root._bokeh_onload_callbacks = [];\n    root._bokeh_is_loading = undefined;\n  }\n\n\n  if (typeof (root._bokeh_timeout) === \"undefined\" || force === true) {\n    root._bokeh_timeout = Date.now() + 5000;\n    root._bokeh_failed_load = false;\n  }\n\n  const NB_LOAD_WARNING = {'data': {'text/html':\n     \"<div style='background-color: #fdd'>\\n\"+\n     \"<p>\\n\"+\n     \"BokehJS does not appear to have successfully loaded. If loading BokehJS from CDN, this \\n\"+\n     \"may be due to a slow or bad network connection. Possible fixes:\\n\"+\n     \"</p>\\n\"+\n     \"<ul>\\n\"+\n     \"<li>re-rerun `output_notebook()` to attempt to load from CDN again, or</li>\\n\"+\n     \"<li>use INLINE resources instead, as so:</li>\\n\"+\n     \"</ul>\\n\"+\n     \"<code>\\n\"+\n     \"from bokeh.resources import INLINE\\n\"+\n     \"output_notebook(resources=INLINE)\\n\"+\n     \"</code>\\n\"+\n     \"</div>\"}};\n\n  function display_loaded() {\n    const el = document.getElementById(\"a30e15da-58e5-41a1-9d6a-58b62c110a2d\");\n    if (el != null) {\n      el.textContent = \"BokehJS is loading...\";\n    }\n    if (root.Bokeh !== undefined) {\n      if (el != null) {\n        el.textContent = \"BokehJS \" + root.Bokeh.version + \" successfully loaded.\";\n      }\n    } else if (Date.now() < root._bokeh_timeout) {\n      setTimeout(display_loaded, 100)\n    }\n  }\n\n  function run_callbacks() {\n    try {\n      root._bokeh_onload_callbacks.forEach(function(callback) {\n        if (callback != null)\n          callback();\n      });\n    } finally {\n      delete root._bokeh_onload_callbacks\n    }\n    console.debug(\"Bokeh: all callbacks have finished\");\n  }\n\n  function load_libs(css_urls, js_urls, callback) {\n    if (css_urls == null) css_urls = [];\n    if (js_urls == null) js_urls = [];\n\n    root._bokeh_onload_callbacks.push(callback);\n    if (root._bokeh_is_loading > 0) {\n      console.debug(\"Bokeh: BokehJS is being loaded, scheduling callback at\", now());\n      return null;\n    }\n    if (js_urls == null || js_urls.length === 0) {\n      run_callbacks();\n      return null;\n    }\n    console.debug(\"Bokeh: BokehJS not loaded, scheduling load and callback at\", now());\n    root._bokeh_is_loading = css_urls.length + js_urls.length;\n\n    function on_load() {\n      root._bokeh_is_loading--;\n      if (root._bokeh_is_loading === 0) {\n        console.debug(\"Bokeh: all BokehJS libraries/stylesheets loaded\");\n        run_callbacks()\n      }\n    }\n\n    function on_error(url) {\n      console.error(\"failed to load \" + url);\n    }\n\n    for (let i = 0; i < css_urls.length; i++) {\n      const url = css_urls[i];\n      const element = document.createElement(\"link\");\n      element.onload = on_load;\n      element.onerror = on_error.bind(null, url);\n      element.rel = \"stylesheet\";\n      element.type = \"text/css\";\n      element.href = url;\n      console.debug(\"Bokeh: injecting link tag for BokehJS stylesheet: \", url);\n      document.body.appendChild(element);\n    }\n\n    for (let i = 0; i < js_urls.length; i++) {\n      const url = js_urls[i];\n      const element = document.createElement('script');\n      element.onload = on_load;\n      element.onerror = on_error.bind(null, url);\n      element.async = false;\n      element.src = url;\n      console.debug(\"Bokeh: injecting script tag for BokehJS library: \", url);\n      document.head.appendChild(element);\n    }\n  };\n\n  function inject_raw_css(css) {\n    const element = document.createElement(\"style\");\n    element.appendChild(document.createTextNode(css));\n    document.body.appendChild(element);\n  }\n\n  const js_urls = [\"https://cdn.bokeh.org/bokeh/release/bokeh-3.2.0.min.js\", \"https://cdn.bokeh.org/bokeh/release/bokeh-gl-3.2.0.min.js\", \"https://cdn.bokeh.org/bokeh/release/bokeh-widgets-3.2.0.min.js\", \"https://cdn.bokeh.org/bokeh/release/bokeh-tables-3.2.0.min.js\", \"https://cdn.bokeh.org/bokeh/release/bokeh-mathjax-3.2.0.min.js\"];\n  const css_urls = [];\n\n  const inline_js = [    function(Bokeh) {\n      Bokeh.set_log_level(\"info\");\n    },\nfunction(Bokeh) {\n    }\n  ];\n\n  function run_inline_js() {\n    if (root.Bokeh !== undefined || force === true) {\n          for (let i = 0; i < inline_js.length; i++) {\n      inline_js[i].call(root, root.Bokeh);\n    }\nif (force === true) {\n        display_loaded();\n      }} else if (Date.now() < root._bokeh_timeout) {\n      setTimeout(run_inline_js, 100);\n    } else if (!root._bokeh_failed_load) {\n      console.log(\"Bokeh: BokehJS failed to load within specified timeout.\");\n      root._bokeh_failed_load = true;\n    } else if (force !== true) {\n      const cell = $(document.getElementById(\"a30e15da-58e5-41a1-9d6a-58b62c110a2d\")).parents('.cell').data().cell;\n      cell.output_area.append_execute_result(NB_LOAD_WARNING)\n    }\n  }\n\n  if (root._bokeh_is_loading === 0) {\n    console.debug(\"Bokeh: BokehJS loaded, going straight to plotting\");\n    run_inline_js();\n  } else {\n    load_libs(css_urls, js_urls, function() {\n      console.debug(\"Bokeh: BokehJS plotting callback run at\", now());\n      run_inline_js();\n    });\n  }\n}(window));"
     },
     "metadata": {},
     "output_type": "display_data"
    },
    {
     "data": {
      "text/html": "\n  <div id=\"b008284b-b100-456c-8454-65a6be6441b9\" data-root-id=\"p4836\" style=\"display: contents;\"></div>\n"
     },
     "metadata": {},
     "output_type": "display_data"
    },
    {
     "data": {
      "application/javascript": "(function(root) {\n  function embed_document(root) {\n  const docs_json = {\"4efeadde-0b68-4872-9166-5ac0abccdb8b\":{\"version\":\"3.2.0\",\"title\":\"Bokeh Application\",\"roots\":[{\"type\":\"object\",\"name\":\"Figure\",\"id\":\"p4836\",\"attributes\":{\"width\":800,\"height\":400,\"x_range\":{\"type\":\"object\",\"name\":\"FactorRange\",\"id\":\"p4846\",\"attributes\":{\"factors\":[\"2012\",\"2013\",\"2014\",\"2015\",\"2016\",\"2017\",\"2018\",\"2019\",\"2020\",\"2021\"]}},\"y_range\":{\"type\":\"object\",\"name\":\"DataRange1d\",\"id\":\"p4838\"},\"x_scale\":{\"type\":\"object\",\"name\":\"CategoricalScale\",\"id\":\"p4847\"},\"y_scale\":{\"type\":\"object\",\"name\":\"LinearScale\",\"id\":\"p4848\"},\"title\":{\"type\":\"object\",\"name\":\"Title\",\"id\":\"p4839\",\"attributes\":{\"text\":\"Total de patentes por ano\",\"text_color\":\"#E0E0E0\",\"text_font\":\"Helvetica\",\"text_font_size\":\"1.15em\"}},\"outline_line_color\":\"#E0E0E0\",\"outline_line_alpha\":0.25,\"renderers\":[{\"type\":\"object\",\"name\":\"GlyphRenderer\",\"id\":\"p4865\",\"attributes\":{\"data_source\":{\"type\":\"object\",\"name\":\"ColumnDataSource\",\"id\":\"p4859\",\"attributes\":{\"selected\":{\"type\":\"object\",\"name\":\"Selection\",\"id\":\"p4860\",\"attributes\":{\"indices\":[],\"line_indices\":[]}},\"selection_policy\":{\"type\":\"object\",\"name\":\"UnionRenderers\",\"id\":\"p4861\"},\"data\":{\"type\":\"map\",\"entries\":[[\"x\",[[\"2012\",-0.2],[\"2013\",-0.2],[\"2014\",-0.2],[\"2015\",-0.2],[\"2016\",-0.2],[\"2017\",-0.2],[\"2018\",-0.2],[\"2019\",-0.2],[\"2020\",-0.2],[\"2021\",-0.2]]],[\"top\",[342096,369761,374618,375410,375349,386096,386818,378895,270666,121874]]]}}},\"view\":{\"type\":\"object\",\"name\":\"CDSView\",\"id\":\"p4866\",\"attributes\":{\"filter\":{\"type\":\"object\",\"name\":\"AllIndices\",\"id\":\"p4867\"}}},\"glyph\":{\"type\":\"object\",\"name\":\"VBar\",\"id\":\"p4862\",\"attributes\":{\"x\":{\"type\":\"field\",\"field\":\"x\"},\"width\":{\"type\":\"value\",\"value\":0.3},\"top\":{\"type\":\"field\",\"field\":\"top\"},\"line_color\":{\"type\":\"value\",\"value\":\"#3288bd\"},\"fill_color\":{\"type\":\"value\",\"value\":\"#3288bd\"},\"hatch_color\":{\"type\":\"value\",\"value\":\"#3288bd\"}}},\"nonselection_glyph\":{\"type\":\"object\",\"name\":\"VBar\",\"id\":\"p4863\",\"attributes\":{\"x\":{\"type\":\"field\",\"field\":\"x\"},\"width\":{\"type\":\"value\",\"value\":0.3},\"top\":{\"type\":\"field\",\"field\":\"top\"},\"line_color\":{\"type\":\"value\",\"value\":\"#3288bd\"},\"line_alpha\":{\"type\":\"value\",\"value\":0.1},\"fill_color\":{\"type\":\"value\",\"value\":\"#3288bd\"},\"fill_alpha\":{\"type\":\"value\",\"value\":0.1},\"hatch_color\":{\"type\":\"value\",\"value\":\"#3288bd\"},\"hatch_alpha\":{\"type\":\"value\",\"value\":0.1}}},\"muted_glyph\":{\"type\":\"object\",\"name\":\"VBar\",\"id\":\"p4864\",\"attributes\":{\"x\":{\"type\":\"field\",\"field\":\"x\"},\"width\":{\"type\":\"value\",\"value\":0.3},\"top\":{\"type\":\"field\",\"field\":\"top\"},\"line_color\":{\"type\":\"value\",\"value\":\"#3288bd\"},\"line_alpha\":{\"type\":\"value\",\"value\":0.2},\"fill_color\":{\"type\":\"value\",\"value\":\"#3288bd\"},\"fill_alpha\":{\"type\":\"value\",\"value\":0.2},\"hatch_color\":{\"type\":\"value\",\"value\":\"#3288bd\"},\"hatch_alpha\":{\"type\":\"value\",\"value\":0.2}}}}},{\"type\":\"object\",\"name\":\"GlyphRenderer\",\"id\":\"p4874\",\"attributes\":{\"data_source\":{\"type\":\"object\",\"name\":\"ColumnDataSource\",\"id\":\"p4868\",\"attributes\":{\"selected\":{\"type\":\"object\",\"name\":\"Selection\",\"id\":\"p4869\",\"attributes\":{\"indices\":[],\"line_indices\":[]}},\"selection_policy\":{\"type\":\"object\",\"name\":\"UnionRenderers\",\"id\":\"p4870\"},\"data\":{\"type\":\"map\",\"entries\":[[\"x\",[[\"2012\",-0.2],[\"2013\",-0.2],[\"2014\",-0.2],[\"2015\",-0.2],[\"2016\",-0.2],[\"2017\",-0.2],[\"2018\",-0.2],[\"2019\",-0.2],[\"2020\",-0.2],[\"2021\",-0.2]]],[\"y\",[342096,369761,374618,375410,375349,386096,386818,378895,270666,121874]],[\"text\",[\"342.1 K\",\"369.8 K\",\"374.6 K\",\"375.4 K\",\"375.3 K\",\"386.1 K\",\"386.8 K\",\"378.9 K\",\"270.7 K\",\"121.9 K\"]]]}}},\"view\":{\"type\":\"object\",\"name\":\"CDSView\",\"id\":\"p4875\",\"attributes\":{\"filter\":{\"type\":\"object\",\"name\":\"AllIndices\",\"id\":\"p4876\"}}},\"glyph\":{\"type\":\"object\",\"name\":\"Text\",\"id\":\"p4871\",\"attributes\":{\"x\":{\"type\":\"field\",\"field\":\"x\"},\"y\":{\"type\":\"field\",\"field\":\"y\"},\"text\":{\"type\":\"field\",\"field\":\"text\"},\"text_color\":{\"type\":\"value\",\"value\":\"#3288bd\"},\"text_font_size\":{\"type\":\"value\",\"value\":\"6pt\"},\"text_align\":{\"type\":\"value\",\"value\":\"center\"}}},\"nonselection_glyph\":{\"type\":\"object\",\"name\":\"Text\",\"id\":\"p4872\",\"attributes\":{\"x\":{\"type\":\"field\",\"field\":\"x\"},\"y\":{\"type\":\"field\",\"field\":\"y\"},\"text\":{\"type\":\"field\",\"field\":\"text\"},\"text_color\":{\"type\":\"value\",\"value\":\"#3288bd\"},\"text_alpha\":{\"type\":\"value\",\"value\":0.1},\"text_font_size\":{\"type\":\"value\",\"value\":\"6pt\"},\"text_align\":{\"type\":\"value\",\"value\":\"center\"}}},\"muted_glyph\":{\"type\":\"object\",\"name\":\"Text\",\"id\":\"p4873\",\"attributes\":{\"x\":{\"type\":\"field\",\"field\":\"x\"},\"y\":{\"type\":\"field\",\"field\":\"y\"},\"text\":{\"type\":\"field\",\"field\":\"text\"},\"text_color\":{\"type\":\"value\",\"value\":\"#3288bd\"},\"text_alpha\":{\"type\":\"value\",\"value\":0.2},\"text_font_size\":{\"type\":\"value\",\"value\":\"6pt\"},\"text_align\":{\"type\":\"value\",\"value\":\"center\"}}}}},{\"type\":\"object\",\"name\":\"GlyphRenderer\",\"id\":\"p4883\",\"attributes\":{\"data_source\":{\"type\":\"object\",\"name\":\"ColumnDataSource\",\"id\":\"p4877\",\"attributes\":{\"selected\":{\"type\":\"object\",\"name\":\"Selection\",\"id\":\"p4878\",\"attributes\":{\"indices\":[],\"line_indices\":[]}},\"selection_policy\":{\"type\":\"object\",\"name\":\"UnionRenderers\",\"id\":\"p4879\"},\"data\":{\"type\":\"map\",\"entries\":[[\"x\",[[\"2012\",0.2],[\"2013\",0.2],[\"2014\",0.2],[\"2015\",0.2],[\"2016\",0.2],[\"2017\",0.2],[\"2018\",0.2],[\"2019\",0.2],[\"2020\",0.2],[\"2021\",0.2]]],[\"top\",[87517,229937,363139,376640,371319,371274,373298,391506,409227,407726]]]}}},\"view\":{\"type\":\"object\",\"name\":\"CDSView\",\"id\":\"p4884\",\"attributes\":{\"filter\":{\"type\":\"object\",\"name\":\"AllIndices\",\"id\":\"p4885\"}}},\"glyph\":{\"type\":\"object\",\"name\":\"VBar\",\"id\":\"p4880\",\"attributes\":{\"x\":{\"type\":\"field\",\"field\":\"x\"},\"width\":{\"type\":\"value\",\"value\":0.3},\"top\":{\"type\":\"field\",\"field\":\"top\"},\"line_color\":{\"type\":\"value\",\"value\":\"#99d594\"},\"fill_color\":{\"type\":\"value\",\"value\":\"#99d594\"},\"hatch_color\":{\"type\":\"value\",\"value\":\"#99d594\"}}},\"nonselection_glyph\":{\"type\":\"object\",\"name\":\"VBar\",\"id\":\"p4881\",\"attributes\":{\"x\":{\"type\":\"field\",\"field\":\"x\"},\"width\":{\"type\":\"value\",\"value\":0.3},\"top\":{\"type\":\"field\",\"field\":\"top\"},\"line_color\":{\"type\":\"value\",\"value\":\"#99d594\"},\"line_alpha\":{\"type\":\"value\",\"value\":0.1},\"fill_color\":{\"type\":\"value\",\"value\":\"#99d594\"},\"fill_alpha\":{\"type\":\"value\",\"value\":0.1},\"hatch_color\":{\"type\":\"value\",\"value\":\"#99d594\"},\"hatch_alpha\":{\"type\":\"value\",\"value\":0.1}}},\"muted_glyph\":{\"type\":\"object\",\"name\":\"VBar\",\"id\":\"p4882\",\"attributes\":{\"x\":{\"type\":\"field\",\"field\":\"x\"},\"width\":{\"type\":\"value\",\"value\":0.3},\"top\":{\"type\":\"field\",\"field\":\"top\"},\"line_color\":{\"type\":\"value\",\"value\":\"#99d594\"},\"line_alpha\":{\"type\":\"value\",\"value\":0.2},\"fill_color\":{\"type\":\"value\",\"value\":\"#99d594\"},\"fill_alpha\":{\"type\":\"value\",\"value\":0.2},\"hatch_color\":{\"type\":\"value\",\"value\":\"#99d594\"},\"hatch_alpha\":{\"type\":\"value\",\"value\":0.2}}}}},{\"type\":\"object\",\"name\":\"GlyphRenderer\",\"id\":\"p4892\",\"attributes\":{\"data_source\":{\"type\":\"object\",\"name\":\"ColumnDataSource\",\"id\":\"p4886\",\"attributes\":{\"selected\":{\"type\":\"object\",\"name\":\"Selection\",\"id\":\"p4887\",\"attributes\":{\"indices\":[],\"line_indices\":[]}},\"selection_policy\":{\"type\":\"object\",\"name\":\"UnionRenderers\",\"id\":\"p4888\"},\"data\":{\"type\":\"map\",\"entries\":[[\"x\",[[\"2012\",0.2],[\"2013\",0.2],[\"2014\",0.2],[\"2015\",0.2],[\"2016\",0.2],[\"2017\",0.2],[\"2018\",0.2],[\"2019\",0.2],[\"2020\",0.2],[\"2021\",0.2]]],[\"y\",[87517,229937,363139,376640,371319,371274,373298,391506,409227,407726]],[\"text\",[\"87.5 K\",\"229.9 K\",\"363.1 K\",\"376.6 K\",\"371.3 K\",\"371.3 K\",\"373.3 K\",\"391.5 K\",\"409.2 K\",\"407.7 K\"]]]}}},\"view\":{\"type\":\"object\",\"name\":\"CDSView\",\"id\":\"p4893\",\"attributes\":{\"filter\":{\"type\":\"object\",\"name\":\"AllIndices\",\"id\":\"p4894\"}}},\"glyph\":{\"type\":\"object\",\"name\":\"Text\",\"id\":\"p4889\",\"attributes\":{\"x\":{\"type\":\"field\",\"field\":\"x\"},\"y\":{\"type\":\"field\",\"field\":\"y\"},\"text\":{\"type\":\"field\",\"field\":\"text\"},\"text_color\":{\"type\":\"value\",\"value\":\"#99d594\"},\"text_font_size\":{\"type\":\"value\",\"value\":\"6pt\"},\"text_align\":{\"type\":\"value\",\"value\":\"center\"}}},\"nonselection_glyph\":{\"type\":\"object\",\"name\":\"Text\",\"id\":\"p4890\",\"attributes\":{\"x\":{\"type\":\"field\",\"field\":\"x\"},\"y\":{\"type\":\"field\",\"field\":\"y\"},\"text\":{\"type\":\"field\",\"field\":\"text\"},\"text_color\":{\"type\":\"value\",\"value\":\"#99d594\"},\"text_alpha\":{\"type\":\"value\",\"value\":0.1},\"text_font_size\":{\"type\":\"value\",\"value\":\"6pt\"},\"text_align\":{\"type\":\"value\",\"value\":\"center\"}}},\"muted_glyph\":{\"type\":\"object\",\"name\":\"Text\",\"id\":\"p4891\",\"attributes\":{\"x\":{\"type\":\"field\",\"field\":\"x\"},\"y\":{\"type\":\"field\",\"field\":\"y\"},\"text\":{\"type\":\"field\",\"field\":\"text\"},\"text_color\":{\"type\":\"value\",\"value\":\"#99d594\"},\"text_alpha\":{\"type\":\"value\",\"value\":0.2},\"text_font_size\":{\"type\":\"value\",\"value\":\"6pt\"},\"text_align\":{\"type\":\"value\",\"value\":\"center\"}}}}}],\"toolbar\":{\"type\":\"object\",\"name\":\"Toolbar\",\"id\":\"p4845\"},\"toolbar_location\":null,\"left\":[{\"type\":\"object\",\"name\":\"LinearAxis\",\"id\":\"p4854\",\"attributes\":{\"ticker\":{\"type\":\"object\",\"name\":\"BasicTicker\",\"id\":\"p4855\",\"attributes\":{\"mantissas\":[1,2,5]}},\"formatter\":{\"type\":\"object\",\"name\":\"NumeralTickFormatter\",\"id\":\"p4896\",\"attributes\":{\"format\":\"$0.00a\"}},\"axis_label_standoff\":10,\"axis_label_text_color\":\"#E0E0E0\",\"axis_label_text_font\":\"Helvetica\",\"axis_label_text_font_size\":\"1.25em\",\"axis_label_text_font_style\":\"normal\",\"major_label_policy\":{\"type\":\"object\",\"name\":\"AllLabels\",\"id\":\"p4857\"},\"major_label_text_color\":\"#E0E0E0\",\"major_label_text_font\":\"Helvetica\",\"major_label_text_font_size\":\"1.025em\",\"axis_line_color\":\"#E0E0E0\",\"axis_line_alpha\":0,\"major_tick_line_color\":\"#E0E0E0\",\"major_tick_line_alpha\":0,\"minor_tick_line_color\":\"#E0E0E0\",\"minor_tick_line_alpha\":0}}],\"right\":[{\"type\":\"object\",\"name\":\"Legend\",\"id\":\"p4899\",\"attributes\":{\"title\":\"Valores\",\"border_line_alpha\":0,\"background_fill_color\":\"#20262B\",\"background_fill_alpha\":0.25,\"label_text_color\":\"#E0E0E0\",\"label_text_font\":\"Helvetica\",\"label_text_font_size\":\"1.025em\",\"label_standoff\":8,\"glyph_width\":15,\"spacing\":8,\"items\":[{\"type\":\"object\",\"name\":\"LegendItem\",\"id\":\"p4897\",\"attributes\":{\"label\":{\"type\":\"value\",\"value\":\"Patentes aplicadas\"},\"renderers\":[{\"id\":\"p4865\"}]}},{\"type\":\"object\",\"name\":\"LegendItem\",\"id\":\"p4898\",\"attributes\":{\"label\":{\"type\":\"value\",\"value\":\"Patentes publicadas\"},\"renderers\":[{\"id\":\"p4883\"}]}}]}}],\"below\":[{\"type\":\"object\",\"name\":\"CategoricalAxis\",\"id\":\"p4849\",\"attributes\":{\"ticker\":{\"type\":\"object\",\"name\":\"CategoricalTicker\",\"id\":\"p4850\"},\"formatter\":{\"type\":\"object\",\"name\":\"CategoricalTickFormatter\",\"id\":\"p4895\"},\"axis_label_standoff\":10,\"axis_label_text_color\":\"#E0E0E0\",\"axis_label_text_font\":\"Helvetica\",\"axis_label_text_font_size\":\"1.25em\",\"axis_label_text_font_style\":\"normal\",\"major_label_policy\":{\"type\":\"object\",\"name\":\"AllLabels\",\"id\":\"p4852\"},\"major_label_text_color\":\"#E0E0E0\",\"major_label_text_font\":\"Helvetica\",\"major_label_text_font_size\":\"1.025em\",\"axis_line_color\":\"#E0E0E0\",\"axis_line_alpha\":0,\"major_tick_line_color\":\"#E0E0E0\",\"major_tick_line_alpha\":0,\"minor_tick_line_color\":\"#E0E0E0\",\"minor_tick_line_alpha\":0}}],\"center\":[{\"type\":\"object\",\"name\":\"Grid\",\"id\":\"p4853\",\"attributes\":{\"axis\":{\"id\":\"p4849\"},\"grid_line_color\":null,\"grid_line_alpha\":0.25}},{\"type\":\"object\",\"name\":\"Grid\",\"id\":\"p4858\",\"attributes\":{\"dimension\":1,\"axis\":{\"id\":\"p4854\"},\"grid_line_color\":null,\"grid_line_alpha\":0.25}}],\"background_fill_color\":\"#20262B\",\"border_fill_color\":\"#15191C\",\"min_border_right\":200}}]}};\n  const render_items = [{\"docid\":\"4efeadde-0b68-4872-9166-5ac0abccdb8b\",\"roots\":{\"p4836\":\"b008284b-b100-456c-8454-65a6be6441b9\"},\"root_ids\":[\"p4836\"]}];\n  root.Bokeh.embed.embed_items_notebook(docs_json, render_items);\n  }\n  if (root.Bokeh !== undefined) {\n    embed_document(root);\n  } else {\n    let attempts = 0;\n    const timer = setInterval(function(root) {\n      if (root.Bokeh !== undefined) {\n        clearInterval(timer);\n        embed_document(root);\n      } else {\n        attempts++;\n        if (attempts > 100) {\n          clearInterval(timer);\n          console.log(\"Bokeh: ERROR: Unable to run BokehJS code because BokehJS library is missing\");\n        }\n      }\n    }, 10, root)\n  }\n})(window);",
      "application/vnd.bokehjs_exec.v0+json": ""
     },
     "metadata": {
      "application/vnd.bokehjs_exec.v0+json": {
       "id": "p4836"
      }
     },
     "output_type": "display_data"
    }
   ],
   "source": [
    "output_notebook()\n",
    "\n",
    "x_axis = df_grouped_year['year'].astype(str).tolist()\n",
    "\n",
    "y = df_grouped_year['total_app_year'].tolist()\n",
    "y2 = df_grouped_year['total_grant_year'].tolist()\n",
    "\n",
    "p = figure(x_range=x_axis, height=400, width=800, title=\"Total de patentes por ano\", toolbar_location=None, tools=\"\", min_border_right=200)\n",
    "\n",
    "colors = Spectral6[:2]\n",
    "\n",
    "offset_y = [-0.2] * len(df)\n",
    "offset_y2 = [0.2] * len(df)\n",
    "\n",
    "y_text = [f'{str(round(valor / 1000, 1))} K' for valor in y]\n",
    "y2_text = [f'{str(round(valor / 1000, 1))} K' for valor in y2]\n",
    "\n",
    "v_bar_1 = p.vbar(x=list(zip(x_axis, offset_y)), top=y, width=0.3, color=colors[0])\n",
    "p.text(x=list(zip(x_axis, offset_y)), y=y, text=y_text, text_font_size='6pt', text_color=colors[0], text_align='center', text_baseline='bottom')\n",
    "\n",
    "v_bar_2 = p.vbar(x=list(zip(x_axis, offset_y2)), top=y2, width=0.3, color=colors[1])\n",
    "p.text(x=list(zip(x_axis, offset_y2)), y=y2, text=y2_text, text_font_size='6pt', text_color=colors[1], text_align='center', text_baseline='bottom')\n",
    "\n",
    "p.xaxis.formatter = CategoricalTickFormatter()\n",
    "p.yaxis.formatter = NumeralTickFormatter(format=\"$0.00a\")\n",
    "\n",
    "# remove grid\n",
    "p.grid.grid_line_color = None\n",
    "p.grid.band_fill_alpha = 0\n",
    "\n",
    "legend = Legend(items=[\n",
    "    LegendItem(label=\"Patentes aplicadas\", renderers=[v_bar_1]),\n",
    "    LegendItem(label=\"Patentes publicadas\", renderers=[v_bar_2]),\n",
    "])\n",
    "\n",
    "p.add_layout(legend,  'right')\n",
    "p.legend.location = \"top_right\"\n",
    "p.legend.title = \"Valores\"\n",
    "\n",
    "show(p)"
   ],
   "metadata": {
    "collapsed": false,
    "ExecuteTime": {
     "end_time": "2023-06-27T14:32:48.709589700Z",
     "start_time": "2023-06-27T14:32:48.422717200Z"
    }
   }
  },
  {
   "cell_type": "code",
   "execution_count": null,
   "outputs": [],
   "source": [
    "x_values = df_grouped_year['app_year'].astype(str).tolist()\n",
    "y_values = df_grouped_year['total'].tolist()\n",
    "text = y_values"
   ],
   "metadata": {
    "collapsed": false
   }
  },
  {
   "cell_type": "code",
   "execution_count": 58,
   "outputs": [],
   "source": [
    "df_raw_ecosystem_null = df_raw_patents[df_raw_patents['ecosystem'].isnull()]\n",
    "df_grouped_raw_ecosystem_null = df_raw_ecosystem_null.groupby('app_year')['patent_id'].count().rename('total_ecosystem_null').reset_index()"
   ],
   "metadata": {
    "collapsed": false,
    "ExecuteTime": {
     "end_time": "2023-06-26T19:45:36.127800800Z",
     "start_time": "2023-06-26T19:45:35.668594200Z"
    }
   }
  },
  {
   "cell_type": "code",
   "execution_count": 59,
   "outputs": [],
   "source": [
    "df_a = pd.merge(df_grouped_year, df_grouped_raw_ecosystem_null, on=['app_year'])"
   ],
   "metadata": {
    "collapsed": false,
    "ExecuteTime": {
     "end_time": "2023-06-26T19:45:40.636083Z",
     "start_time": "2023-06-26T19:45:40.614869200Z"
    }
   }
  },
  {
   "cell_type": "code",
   "execution_count": 45,
   "outputs": [],
   "source": [
    "\n",
    "\n",
    "p = BokehUtils.v_bar(\n",
    "    title='Total de patentes inscritas por ano',\n",
    "    show_grid=False,\n",
    "    x_range=x_values,\n",
    "    x=x_values,\n",
    "    y=y_values,\n",
    "    bar_width=0.5,\n",
    "    show_y_value=True,\n",
    "    unit='millions',\n",
    "    decimals=2,\n",
    "    x_formatter=CategoricalTickFormatter(),\n",
    "    y_formatter=NumeralTickFormatter(format=\"$0.00a\")\n",
    ")"
   ],
   "metadata": {
    "collapsed": false,
    "ExecuteTime": {
     "end_time": "2023-06-26T19:22:04.360590400Z",
     "start_time": "2023-06-26T19:22:04.337072100Z"
    }
   }
  },
  {
   "cell_type": "code",
   "execution_count": 46,
   "outputs": [],
   "source": [
    "df_grouped_year = df_raw_patents.groupby('grant_year')['patent_id'].count().rename('total').reset_index()\n",
    "x_values = df_grouped_year['grant_year'].astype(str).tolist()\n",
    "y_values = df_grouped_year['total'].tolist()\n",
    "text = y_values"
   ],
   "metadata": {
    "collapsed": false,
    "ExecuteTime": {
     "end_time": "2023-06-26T19:22:05.651307Z",
     "start_time": "2023-06-26T19:22:05.566527700Z"
    }
   }
  },
  {
   "cell_type": "code",
   "execution_count": 47,
   "outputs": [],
   "source": [
    "p2 = BokehUtils.v_bar(\n",
    "    title='Total de patentes publicadas por ano',\n",
    "    show_grid=False,\n",
    "    x_range=x_values,\n",
    "    x=x_values,\n",
    "    y=y_values,\n",
    "    bar_width=0.5,\n",
    "    show_y_value=True,\n",
    "    unit='millions',\n",
    "    decimals=2,\n",
    "    x_formatter=CategoricalTickFormatter(),\n",
    "    y_formatter=NumeralTickFormatter(format=\"$0.00a\")\n",
    ")"
   ],
   "metadata": {
    "collapsed": false,
    "ExecuteTime": {
     "end_time": "2023-06-26T19:22:06.702096500Z",
     "start_time": "2023-06-26T19:22:06.682079700Z"
    }
   }
  },
  {
   "cell_type": "code",
   "execution_count": 48,
   "outputs": [],
   "source": [
    "show(row(p, p2))"
   ],
   "metadata": {
    "collapsed": false,
    "ExecuteTime": {
     "end_time": "2023-06-26T19:22:08.683985400Z",
     "start_time": "2023-06-26T19:22:08.614825Z"
    }
   }
  },
  {
   "cell_type": "code",
   "execution_count": 37,
   "outputs": [
    {
     "name": "stdout",
     "output_type": "stream",
     "text": [
      "2021-09-21 00:00:00+00:00\n",
      "2021-12-30 00:00:00+00:00\n"
     ]
    }
   ],
   "source": [
    "df_raw = df_raw_patents[df_raw_patents['app_year'] == 2021]\n",
    "print(df_raw['app_date'].max())\n",
    "print(df_raw['grant_date'].max())"
   ],
   "metadata": {
    "collapsed": false,
    "ExecuteTime": {
     "end_time": "2023-06-26T19:18:17.490832800Z",
     "start_time": "2023-06-26T19:18:17.437316500Z"
    }
   }
  },
  {
   "cell_type": "code",
   "execution_count": 15,
   "outputs": [
    {
     "name": "stdout",
     "output_type": "stream",
     "text": [
      "Empty DataFrame\n",
      "Columns: [publication_number, abstract, patent_id, app_name, app_year, city, country, country_name, ecosystem, grant_date, grant_year, app_date, class_concat, class_distinct_count, class_ipc_concat, class_ipc_distinct_count]\n",
      "Index: []\n"
     ]
    }
   ],
   "source": [
    "print(df[df['publication_number'] == 20150000816])"
   ],
   "metadata": {
    "collapsed": false,
    "ExecuteTime": {
     "end_time": "2023-06-26T14:15:42.731290400Z",
     "start_time": "2023-06-26T14:15:42.717274400Z"
    }
   }
  },
  {
   "cell_type": "code",
   "execution_count": 33,
   "outputs": [
    {
     "name": "stdout",
     "output_type": "stream",
     "text": [
      "There are 0 applicants that has patent_id with null value\n",
      "There are 6645 applicants that has city_region with null value\n",
      "There are 0 applicants that has owner with null value\n",
      "There are 10 applicants that has country with null value\n",
      "There are 0 applicants that has year with null value\n"
     ]
    },
    {
     "data": {
      "text/plain": "           patent_id                                         app_name  \\\n522      20130076041                                  Philip Merryman   \n2128     20130063773                                    Sung-Hwan BAE   \n4843     20130177032                                   Martin Berendt   \n5409     20130118389                                      Gene Offutt   \n6388     20130230985  Taiwan Semiconductor Manufacturing Company Ltd.   \n...              ...                                              ...   \n1415777  20190262099                                   Lori Lee Lahti   \n1416366  20200242471                                James David Busch   \n1416561  20200260655                       Christopher C. Sappenfield   \n1416697  20210074416                                     Pat Iantorno   \n1417024  20210235862                                    Dedee R. Dart   \n\n        ecosystem country  app_year  \n522           NaN      US      2013  \n2128          NaN      US      2013  \n4843          NaN      US      2013  \n5409          NaN      US      2013  \n6388          NaN      US      2013  \n...           ...     ...       ...  \n1415777       NaN      US      2019  \n1416366       NaN      US      2020  \n1416561       NaN      US      2020  \n1416697       NaN      US      2021  \n1417024       NaN      US      2021  \n\n[6655 rows x 5 columns]",
      "text/html": "<div>\n<style scoped>\n    .dataframe tbody tr th:only-of-type {\n        vertical-align: middle;\n    }\n\n    .dataframe tbody tr th {\n        vertical-align: top;\n    }\n\n    .dataframe thead th {\n        text-align: right;\n    }\n</style>\n<table border=\"1\" class=\"dataframe\">\n  <thead>\n    <tr style=\"text-align: right;\">\n      <th></th>\n      <th>patent_id</th>\n      <th>app_name</th>\n      <th>ecosystem</th>\n      <th>country</th>\n      <th>app_year</th>\n    </tr>\n  </thead>\n  <tbody>\n    <tr>\n      <th>522</th>\n      <td>20130076041</td>\n      <td>Philip Merryman</td>\n      <td>NaN</td>\n      <td>US</td>\n      <td>2013</td>\n    </tr>\n    <tr>\n      <th>2128</th>\n      <td>20130063773</td>\n      <td>Sung-Hwan BAE</td>\n      <td>NaN</td>\n      <td>US</td>\n      <td>2013</td>\n    </tr>\n    <tr>\n      <th>4843</th>\n      <td>20130177032</td>\n      <td>Martin Berendt</td>\n      <td>NaN</td>\n      <td>US</td>\n      <td>2013</td>\n    </tr>\n    <tr>\n      <th>5409</th>\n      <td>20130118389</td>\n      <td>Gene Offutt</td>\n      <td>NaN</td>\n      <td>US</td>\n      <td>2013</td>\n    </tr>\n    <tr>\n      <th>6388</th>\n      <td>20130230985</td>\n      <td>Taiwan Semiconductor Manufacturing Company Ltd.</td>\n      <td>NaN</td>\n      <td>US</td>\n      <td>2013</td>\n    </tr>\n    <tr>\n      <th>...</th>\n      <td>...</td>\n      <td>...</td>\n      <td>...</td>\n      <td>...</td>\n      <td>...</td>\n    </tr>\n    <tr>\n      <th>1415777</th>\n      <td>20190262099</td>\n      <td>Lori Lee Lahti</td>\n      <td>NaN</td>\n      <td>US</td>\n      <td>2019</td>\n    </tr>\n    <tr>\n      <th>1416366</th>\n      <td>20200242471</td>\n      <td>James David Busch</td>\n      <td>NaN</td>\n      <td>US</td>\n      <td>2020</td>\n    </tr>\n    <tr>\n      <th>1416561</th>\n      <td>20200260655</td>\n      <td>Christopher C. Sappenfield</td>\n      <td>NaN</td>\n      <td>US</td>\n      <td>2020</td>\n    </tr>\n    <tr>\n      <th>1416697</th>\n      <td>20210074416</td>\n      <td>Pat Iantorno</td>\n      <td>NaN</td>\n      <td>US</td>\n      <td>2021</td>\n    </tr>\n    <tr>\n      <th>1417024</th>\n      <td>20210235862</td>\n      <td>Dedee R. Dart</td>\n      <td>NaN</td>\n      <td>US</td>\n      <td>2021</td>\n    </tr>\n  </tbody>\n</table>\n<p>6655 rows × 5 columns</p>\n</div>"
     },
     "execution_count": 33,
     "metadata": {},
     "output_type": "execute_result"
    }
   ],
   "source": [
    "applicants_with_patent_null = df_table_for_applicants['patent_id'].isnull().sum()\n",
    "print(f'There are {applicants_with_patent_null} applicants that has patent_id with null value')\n",
    "applicants_with_city_null = df_table_for_applicants['ecosystem'].isnull().sum()\n",
    "print(f'There are {applicants_with_city_null} applicants that has city_region with null value')\n",
    "applicants_with_owner_null = df_table_for_applicants['app_name'].isnull().sum()\n",
    "print(f'There are {applicants_with_owner_null} applicants that has owner with null value')\n",
    "applicants_with_country_null = df_table_for_applicants['country'].isnull().sum()\n",
    "print(f'There are {applicants_with_country_null} applicants that has country with null value')\n",
    "applicants_with_year_null = df_table_for_applicants['app_year'].isnull().sum()\n",
    "print(f'There are {applicants_with_year_null} applicants that has year with null value')\n",
    "df_applicants_null = df_table_for_applicants[df_table_for_applicants.isnull().any(axis=1)]\n",
    "df_applicants_null"
   ],
   "metadata": {
    "collapsed": false,
    "ExecuteTime": {
     "end_time": "2023-06-25T14:41:54.339880900Z",
     "start_time": "2023-06-25T14:41:54.167373100Z"
    }
   }
  },
  {
   "cell_type": "code",
   "execution_count": 54,
   "outputs": [
    {
     "data": {
      "text/plain": "     patent_id           owner city_region country  year\n2  20130031357    Dieter Weiss     Munchen      DE  2013\n3  20130031357  Gisela Meister     Munchen      DE  2013\n4  20130031357    Jan Eichholz     Munchen      DE  2013\n5  20130031357  Florian Gawlas     Munchen      DE  2013\n7  20130077850  Takehiro Hirai      Ushiku      JP  2013",
      "text/html": "<div>\n<style scoped>\n    .dataframe tbody tr th:only-of-type {\n        vertical-align: middle;\n    }\n\n    .dataframe tbody tr th {\n        vertical-align: top;\n    }\n\n    .dataframe thead th {\n        text-align: right;\n    }\n</style>\n<table border=\"1\" class=\"dataframe\">\n  <thead>\n    <tr style=\"text-align: right;\">\n      <th></th>\n      <th>patent_id</th>\n      <th>owner</th>\n      <th>city_region</th>\n      <th>country</th>\n      <th>year</th>\n    </tr>\n  </thead>\n  <tbody>\n    <tr>\n      <th>2</th>\n      <td>20130031357</td>\n      <td>Dieter Weiss</td>\n      <td>Munchen</td>\n      <td>DE</td>\n      <td>2013</td>\n    </tr>\n    <tr>\n      <th>3</th>\n      <td>20130031357</td>\n      <td>Gisela Meister</td>\n      <td>Munchen</td>\n      <td>DE</td>\n      <td>2013</td>\n    </tr>\n    <tr>\n      <th>4</th>\n      <td>20130031357</td>\n      <td>Jan Eichholz</td>\n      <td>Munchen</td>\n      <td>DE</td>\n      <td>2013</td>\n    </tr>\n    <tr>\n      <th>5</th>\n      <td>20130031357</td>\n      <td>Florian Gawlas</td>\n      <td>Munchen</td>\n      <td>DE</td>\n      <td>2013</td>\n    </tr>\n    <tr>\n      <th>7</th>\n      <td>20130077850</td>\n      <td>Takehiro Hirai</td>\n      <td>Ushiku</td>\n      <td>JP</td>\n      <td>2013</td>\n    </tr>\n  </tbody>\n</table>\n</div>"
     },
     "execution_count": 54,
     "metadata": {},
     "output_type": "execute_result"
    }
   ],
   "source": [
    "df = df_table_for_applicants[~df_table_for_applicants['patent_id'].isin(df_raw_patents['patent_id'])]\n",
    "df.head()\n",
    "#\n",
    "# df = df_raw_patents[df_raw_patents['patent_id'] == 20130076041]\n",
    "# df.head()\n",
    "# for index, row in df_applicants_null.iterrows():\n",
    "#     app_patent_id = row['patent_id']\n",
    "#     app_owner = str(row['owner'])\n",
    "#     app_city_region = str(['city_region'])\n",
    "#\n",
    "#     df_raw_patents[\n",
    "#         (df_raw_patents['patent_id'] == app_patent_id) &\n",
    "#         ()\n",
    "#     ]"
   ],
   "metadata": {
    "collapsed": false,
    "ExecuteTime": {
     "end_time": "2023-06-25T04:40:23.728783100Z",
     "start_time": "2023-06-25T04:40:23.572966600Z"
    }
   }
  },
  {
   "cell_type": "code",
   "execution_count": 57,
   "outputs": [
    {
     "data": {
      "text/plain": "           patent_id name_first name_last       city country  \\\n76083    20140331173   Takehiro     Hirai      Tokyo      JP   \n205707   20200411345   Takehiro     Hirai      Tokyo      JP   \n686244   20140169657   Takehiro     Hirai      Tokyo      JP   \n917084   20140185918   Takehiro     Hirai      Tokyo      JP   \n3529096  20140198975   Takehiro     Hirai      Tokyo      JP   \n4291204  20140037188   Takehiro     Hirai     Ushiku      JP   \n4522604  20140072204   Takehiro     Hirai      Tokyo      JP   \n5610968  20150279614   Takehiro     Hirai  Minato-ku      JP   \n5839419  20150170875   Takehiro     Hirai      Tokyo      JP   \n6684745  20150060667   Takehiro     Hirai      Tokyo      JP   \n6764858  20150214000   Takehiro     Hirai      Tokyo      JP   \n6833271  20140219546   Takehiro     Hirai      Tokyo      JP   \n7065880  20140307946   Takehiro     Hirai      Tokyo      JP   \n7147440  20150139531   Takehiro     Hirai      Tokyo      JP   \n7766449  20160018340   Takehiro     Hirai      Tokyo      JP   \n\n                       grant_date  grant_year                  app_date  \\\n76083    2014-11-06T00:00:00.000Z        2014  2012-11-26T00:00:00.000Z   \n205707   2020-12-31T00:00:00.000Z        2020  2020-06-22T00:00:00.000Z   \n686244   2014-06-19T00:00:00.000Z        2014  2012-07-06T00:00:00.000Z   \n917084   2014-07-03T00:00:00.000Z        2014  2012-07-04T00:00:00.000Z   \n3529096  2014-07-17T00:00:00.000Z        2014  2012-07-09T00:00:00.000Z   \n4291204  2014-02-06T00:00:00.000Z        2014  2013-08-20T00:00:00.000Z   \n4522604  2014-03-13T00:00:00.000Z        2014  2012-04-16T00:00:00.000Z   \n5610968  2015-10-01T00:00:00.000Z        2015  2013-10-11T00:00:00.000Z   \n5839419  2015-06-18T00:00:00.000Z        2015  2013-06-21T00:00:00.000Z   \n6684745  2015-03-05T00:00:00.000Z        2015  2013-03-11T00:00:00.000Z   \n6764858  2015-07-30T00:00:00.000Z        2015  2013-07-01T00:00:00.000Z   \n6833271  2014-08-07T00:00:00.000Z        2014  2012-07-06T00:00:00.000Z   \n7065880  2014-10-16T00:00:00.000Z        2014  2014-04-11T00:00:00.000Z   \n7147440  2015-05-21T00:00:00.000Z        2015  2013-04-01T00:00:00.000Z   \n7766449  2016-01-21T00:00:00.000Z        2016  2015-07-15T00:00:00.000Z   \n\n         app_year  class_distinct_count    class_concat  \\\n76083        2012                   3.0  G06T,G06F,G02B   \n205707       2020                   2.0       H01L,G06T   \n686244       2012                   1.0            G06T   \n917084       2012                   1.0            G06T   \n3529096      2012                   1.0            G01N   \n4291204      2013                   1.0            G06T   \n4522604      2012                   2.0       G06K,G06T   \n5610968      2013                   1.0            H01J   \n5839419      2013                   1.0            H01J   \n6684745      2013                   2.0       G06T,H01J   \n6764858      2013                   2.0       H01J,G06T   \n6833271      2012                   1.0            G06T   \n7065880      2014                   1.0            G06T   \n7147440      2013                   2.0       G06T,G01N   \n7766449      2015                   1.0            G01N   \n\n         class_IPC_distinct_count class_IPC_concat CountryName  \\\n76083                         3.0   G02B,G06F,G06T       Japan   \n205707                        2.0        G06T,H01L       Japan   \n686244                        1.0             G06T       Japan   \n917084                        1.0             G06T       Japan   \n3529096                       1.0             G01N       Japan   \n4291204                       1.0             G06T       Japan   \n4522604                       2.0        G06K,G06T       Japan   \n5610968                       1.0             H01J       Japan   \n5839419                       1.0             H01J       Japan   \n6684745                       2.0        G06T,H01J       Japan   \n6764858                       2.0        G06T,H01J       Japan   \n6833271                       1.0             G06T       Japan   \n7065880                       1.0             G06T       Japan   \n7147440                       2.0        G01N,G06T       Japan   \n7766449                       1.0             G01N       Japan   \n\n            CityCountry Ecosystem GoogleCity  \n76083        TokyoJapan     Tokyo        NaN  \n205707       TokyoJapan     Tokyo        NaN  \n686244       TokyoJapan     Tokyo        NaN  \n917084       TokyoJapan     Tokyo        NaN  \n3529096      TokyoJapan     Tokyo        NaN  \n4291204     UshikuJapan     Tokyo      Ushik  \n4522604      TokyoJapan     Tokyo        NaN  \n5610968  Minato-kuJapan     Tokyo     Minato  \n5839419      TokyoJapan     Tokyo        NaN  \n6684745      TokyoJapan     Tokyo        NaN  \n6764858      TokyoJapan     Tokyo        NaN  \n6833271      TokyoJapan     Tokyo        NaN  \n7065880      TokyoJapan     Tokyo        NaN  \n7147440      TokyoJapan     Tokyo        NaN  \n7766449      TokyoJapan     Tokyo        NaN  ",
      "text/html": "<div>\n<style scoped>\n    .dataframe tbody tr th:only-of-type {\n        vertical-align: middle;\n    }\n\n    .dataframe tbody tr th {\n        vertical-align: top;\n    }\n\n    .dataframe thead th {\n        text-align: right;\n    }\n</style>\n<table border=\"1\" class=\"dataframe\">\n  <thead>\n    <tr style=\"text-align: right;\">\n      <th></th>\n      <th>patent_id</th>\n      <th>name_first</th>\n      <th>name_last</th>\n      <th>city</th>\n      <th>country</th>\n      <th>grant_date</th>\n      <th>grant_year</th>\n      <th>app_date</th>\n      <th>app_year</th>\n      <th>class_distinct_count</th>\n      <th>class_concat</th>\n      <th>class_IPC_distinct_count</th>\n      <th>class_IPC_concat</th>\n      <th>CountryName</th>\n      <th>CityCountry</th>\n      <th>Ecosystem</th>\n      <th>GoogleCity</th>\n    </tr>\n  </thead>\n  <tbody>\n    <tr>\n      <th>76083</th>\n      <td>20140331173</td>\n      <td>Takehiro</td>\n      <td>Hirai</td>\n      <td>Tokyo</td>\n      <td>JP</td>\n      <td>2014-11-06T00:00:00.000Z</td>\n      <td>2014</td>\n      <td>2012-11-26T00:00:00.000Z</td>\n      <td>2012</td>\n      <td>3.0</td>\n      <td>G06T,G06F,G02B</td>\n      <td>3.0</td>\n      <td>G02B,G06F,G06T</td>\n      <td>Japan</td>\n      <td>TokyoJapan</td>\n      <td>Tokyo</td>\n      <td>NaN</td>\n    </tr>\n    <tr>\n      <th>205707</th>\n      <td>20200411345</td>\n      <td>Takehiro</td>\n      <td>Hirai</td>\n      <td>Tokyo</td>\n      <td>JP</td>\n      <td>2020-12-31T00:00:00.000Z</td>\n      <td>2020</td>\n      <td>2020-06-22T00:00:00.000Z</td>\n      <td>2020</td>\n      <td>2.0</td>\n      <td>H01L,G06T</td>\n      <td>2.0</td>\n      <td>G06T,H01L</td>\n      <td>Japan</td>\n      <td>TokyoJapan</td>\n      <td>Tokyo</td>\n      <td>NaN</td>\n    </tr>\n    <tr>\n      <th>686244</th>\n      <td>20140169657</td>\n      <td>Takehiro</td>\n      <td>Hirai</td>\n      <td>Tokyo</td>\n      <td>JP</td>\n      <td>2014-06-19T00:00:00.000Z</td>\n      <td>2014</td>\n      <td>2012-07-06T00:00:00.000Z</td>\n      <td>2012</td>\n      <td>1.0</td>\n      <td>G06T</td>\n      <td>1.0</td>\n      <td>G06T</td>\n      <td>Japan</td>\n      <td>TokyoJapan</td>\n      <td>Tokyo</td>\n      <td>NaN</td>\n    </tr>\n    <tr>\n      <th>917084</th>\n      <td>20140185918</td>\n      <td>Takehiro</td>\n      <td>Hirai</td>\n      <td>Tokyo</td>\n      <td>JP</td>\n      <td>2014-07-03T00:00:00.000Z</td>\n      <td>2014</td>\n      <td>2012-07-04T00:00:00.000Z</td>\n      <td>2012</td>\n      <td>1.0</td>\n      <td>G06T</td>\n      <td>1.0</td>\n      <td>G06T</td>\n      <td>Japan</td>\n      <td>TokyoJapan</td>\n      <td>Tokyo</td>\n      <td>NaN</td>\n    </tr>\n    <tr>\n      <th>3529096</th>\n      <td>20140198975</td>\n      <td>Takehiro</td>\n      <td>Hirai</td>\n      <td>Tokyo</td>\n      <td>JP</td>\n      <td>2014-07-17T00:00:00.000Z</td>\n      <td>2014</td>\n      <td>2012-07-09T00:00:00.000Z</td>\n      <td>2012</td>\n      <td>1.0</td>\n      <td>G01N</td>\n      <td>1.0</td>\n      <td>G01N</td>\n      <td>Japan</td>\n      <td>TokyoJapan</td>\n      <td>Tokyo</td>\n      <td>NaN</td>\n    </tr>\n    <tr>\n      <th>4291204</th>\n      <td>20140037188</td>\n      <td>Takehiro</td>\n      <td>Hirai</td>\n      <td>Ushiku</td>\n      <td>JP</td>\n      <td>2014-02-06T00:00:00.000Z</td>\n      <td>2014</td>\n      <td>2013-08-20T00:00:00.000Z</td>\n      <td>2013</td>\n      <td>1.0</td>\n      <td>G06T</td>\n      <td>1.0</td>\n      <td>G06T</td>\n      <td>Japan</td>\n      <td>UshikuJapan</td>\n      <td>Tokyo</td>\n      <td>Ushik</td>\n    </tr>\n    <tr>\n      <th>4522604</th>\n      <td>20140072204</td>\n      <td>Takehiro</td>\n      <td>Hirai</td>\n      <td>Tokyo</td>\n      <td>JP</td>\n      <td>2014-03-13T00:00:00.000Z</td>\n      <td>2014</td>\n      <td>2012-04-16T00:00:00.000Z</td>\n      <td>2012</td>\n      <td>2.0</td>\n      <td>G06K,G06T</td>\n      <td>2.0</td>\n      <td>G06K,G06T</td>\n      <td>Japan</td>\n      <td>TokyoJapan</td>\n      <td>Tokyo</td>\n      <td>NaN</td>\n    </tr>\n    <tr>\n      <th>5610968</th>\n      <td>20150279614</td>\n      <td>Takehiro</td>\n      <td>Hirai</td>\n      <td>Minato-ku</td>\n      <td>JP</td>\n      <td>2015-10-01T00:00:00.000Z</td>\n      <td>2015</td>\n      <td>2013-10-11T00:00:00.000Z</td>\n      <td>2013</td>\n      <td>1.0</td>\n      <td>H01J</td>\n      <td>1.0</td>\n      <td>H01J</td>\n      <td>Japan</td>\n      <td>Minato-kuJapan</td>\n      <td>Tokyo</td>\n      <td>Minato</td>\n    </tr>\n    <tr>\n      <th>5839419</th>\n      <td>20150170875</td>\n      <td>Takehiro</td>\n      <td>Hirai</td>\n      <td>Tokyo</td>\n      <td>JP</td>\n      <td>2015-06-18T00:00:00.000Z</td>\n      <td>2015</td>\n      <td>2013-06-21T00:00:00.000Z</td>\n      <td>2013</td>\n      <td>1.0</td>\n      <td>H01J</td>\n      <td>1.0</td>\n      <td>H01J</td>\n      <td>Japan</td>\n      <td>TokyoJapan</td>\n      <td>Tokyo</td>\n      <td>NaN</td>\n    </tr>\n    <tr>\n      <th>6684745</th>\n      <td>20150060667</td>\n      <td>Takehiro</td>\n      <td>Hirai</td>\n      <td>Tokyo</td>\n      <td>JP</td>\n      <td>2015-03-05T00:00:00.000Z</td>\n      <td>2015</td>\n      <td>2013-03-11T00:00:00.000Z</td>\n      <td>2013</td>\n      <td>2.0</td>\n      <td>G06T,H01J</td>\n      <td>2.0</td>\n      <td>G06T,H01J</td>\n      <td>Japan</td>\n      <td>TokyoJapan</td>\n      <td>Tokyo</td>\n      <td>NaN</td>\n    </tr>\n    <tr>\n      <th>6764858</th>\n      <td>20150214000</td>\n      <td>Takehiro</td>\n      <td>Hirai</td>\n      <td>Tokyo</td>\n      <td>JP</td>\n      <td>2015-07-30T00:00:00.000Z</td>\n      <td>2015</td>\n      <td>2013-07-01T00:00:00.000Z</td>\n      <td>2013</td>\n      <td>2.0</td>\n      <td>H01J,G06T</td>\n      <td>2.0</td>\n      <td>G06T,H01J</td>\n      <td>Japan</td>\n      <td>TokyoJapan</td>\n      <td>Tokyo</td>\n      <td>NaN</td>\n    </tr>\n    <tr>\n      <th>6833271</th>\n      <td>20140219546</td>\n      <td>Takehiro</td>\n      <td>Hirai</td>\n      <td>Tokyo</td>\n      <td>JP</td>\n      <td>2014-08-07T00:00:00.000Z</td>\n      <td>2014</td>\n      <td>2012-07-06T00:00:00.000Z</td>\n      <td>2012</td>\n      <td>1.0</td>\n      <td>G06T</td>\n      <td>1.0</td>\n      <td>G06T</td>\n      <td>Japan</td>\n      <td>TokyoJapan</td>\n      <td>Tokyo</td>\n      <td>NaN</td>\n    </tr>\n    <tr>\n      <th>7065880</th>\n      <td>20140307946</td>\n      <td>Takehiro</td>\n      <td>Hirai</td>\n      <td>Tokyo</td>\n      <td>JP</td>\n      <td>2014-10-16T00:00:00.000Z</td>\n      <td>2014</td>\n      <td>2014-04-11T00:00:00.000Z</td>\n      <td>2014</td>\n      <td>1.0</td>\n      <td>G06T</td>\n      <td>1.0</td>\n      <td>G06T</td>\n      <td>Japan</td>\n      <td>TokyoJapan</td>\n      <td>Tokyo</td>\n      <td>NaN</td>\n    </tr>\n    <tr>\n      <th>7147440</th>\n      <td>20150139531</td>\n      <td>Takehiro</td>\n      <td>Hirai</td>\n      <td>Tokyo</td>\n      <td>JP</td>\n      <td>2015-05-21T00:00:00.000Z</td>\n      <td>2015</td>\n      <td>2013-04-01T00:00:00.000Z</td>\n      <td>2013</td>\n      <td>2.0</td>\n      <td>G06T,G01N</td>\n      <td>2.0</td>\n      <td>G01N,G06T</td>\n      <td>Japan</td>\n      <td>TokyoJapan</td>\n      <td>Tokyo</td>\n      <td>NaN</td>\n    </tr>\n    <tr>\n      <th>7766449</th>\n      <td>20160018340</td>\n      <td>Takehiro</td>\n      <td>Hirai</td>\n      <td>Tokyo</td>\n      <td>JP</td>\n      <td>2016-01-21T00:00:00.000Z</td>\n      <td>2016</td>\n      <td>2015-07-15T00:00:00.000Z</td>\n      <td>2015</td>\n      <td>1.0</td>\n      <td>G01N</td>\n      <td>1.0</td>\n      <td>G01N</td>\n      <td>Japan</td>\n      <td>TokyoJapan</td>\n      <td>Tokyo</td>\n      <td>NaN</td>\n    </tr>\n  </tbody>\n</table>\n</div>"
     },
     "execution_count": 57,
     "metadata": {},
     "output_type": "execute_result"
    }
   ],
   "source": [
    "df2 = df_raw_patents[(df_raw_patents['name_first'] == 'Takehiro') & (df_raw_patents['name_last'] == 'Hirai')]\n",
    "df2"
   ],
   "metadata": {
    "collapsed": false,
    "ExecuteTime": {
     "end_time": "2023-06-25T04:51:01.536159500Z",
     "start_time": "2023-06-25T04:51:00.913862300Z"
    }
   }
  },
  {
   "cell_type": "code",
   "execution_count": 17,
   "outputs": [
    {
     "name": "stdout",
     "output_type": "stream",
     "text": [
      "There are 8753698 patents that has no applicants registered\n"
     ]
    },
    {
     "data": {
      "text/plain": "           patent_id name_first       name_last           city country  \\\n0        20140380145      Rajiv         Puranik  San Francisco      US   \n1        20140380145     Thomas         Wilsher  San Francisco      US   \n2        20140380219       John          CARTAN        Alameda      US   \n3        20150000186      Barry           Freel         Ottawa      CA   \n4        20150000186     Robert          Graham         Ottawa      CA   \n...              ...        ...             ...            ...     ...   \n9830919  20140380134    Lalitha  Venkataramanan      Lexington      US   \n9830920  20140380134   Nicholas          Heaton        Houston      US   \n9830921  20140380134   Nicholas         Bennett         Hamden      US   \n9830922  20140380145      Cheuk             Law  San Francisco      US   \n9830923  20140380145    Patrick        Malatack  San Francisco      US   \n\n                       grant_date  grant_year                  app_date  \\\n0        2014-12-25T00:00:00.000Z        2014  2014-05-08T00:00:00.000Z   \n1        2014-12-25T00:00:00.000Z        2014  2014-05-08T00:00:00.000Z   \n2        2014-12-25T00:00:00.000Z        2014  2014-06-20T00:00:00.000Z   \n3        2015-01-01T00:00:00.000Z        2015  2014-09-16T00:00:00.000Z   \n4        2015-01-01T00:00:00.000Z        2015  2014-09-16T00:00:00.000Z   \n...                           ...         ...                       ...   \n9830919  2014-12-25T00:00:00.000Z        2014  2013-01-30T00:00:00.000Z   \n9830920  2014-12-25T00:00:00.000Z        2014  2013-01-30T00:00:00.000Z   \n9830921  2014-12-25T00:00:00.000Z        2014  2013-01-30T00:00:00.000Z   \n9830922  2014-12-25T00:00:00.000Z        2014  2014-05-08T00:00:00.000Z   \n9830923  2014-12-25T00:00:00.000Z        2014  2014-05-08T00:00:00.000Z   \n\n         app_year  class_distinct_count    class_concat  \\\n0            2014                   1.0            G06F   \n1            2014                   1.0            G06F   \n2            2014                   1.0            G06F   \n3            2014                   1.0            C10L   \n4            2014                   1.0            C10L   \n...           ...                   ...             ...   \n9830919      2013                   3.0  H04B,G06F,G01V   \n9830920      2013                   3.0  H04B,G06F,G01V   \n9830921      2013                   3.0  H04B,G06F,G01V   \n9830922      2014                   1.0            G06F   \n9830923      2014                   1.0            G06F   \n\n         class_IPC_distinct_count class_IPC_concat    CountryName  \\\n0                             1.0             G06F  United States   \n1                             1.0             G06F  United States   \n2                             1.0             G06F  United States   \n3                             1.0             C10L         Canada   \n4                             1.0             C10L         Canada   \n...                           ...              ...            ...   \n9830919                       3.0   G01V,G06F,H04B  United States   \n9830920                       3.0   G01V,G06F,H04B  United States   \n9830921                       3.0   G01V,G06F,H04B  United States   \n9830922                       1.0             G06F  United States   \n9830923                       1.0             G06F  United States   \n\n                        CityCountry       Ecosystem     GoogleCity  \n0        San FranciscoUnited States  Silicon Valley  San Francisco  \n1        San FranciscoUnited States  Silicon Valley  San Francisco  \n2              AlamedaUnited States  Silicon Valley        Alameda  \n3                      OttawaCanada          Ottawa         Ottawa  \n4                      OttawaCanada          Ottawa         Ottawa  \n...                             ...             ...            ...  \n9830919      LexingtonUnited States             NaN      Lexington  \n9830920        HoustonUnited States         Houston        Houston  \n9830921         HamdenUnited States        Hartford         Hamden  \n9830922  San FranciscoUnited States  Silicon Valley  San Francisco  \n9830923  San FranciscoUnited States  Silicon Valley  San Francisco  \n\n[8753698 rows x 17 columns]",
      "text/html": "<div>\n<style scoped>\n    .dataframe tbody tr th:only-of-type {\n        vertical-align: middle;\n    }\n\n    .dataframe tbody tr th {\n        vertical-align: top;\n    }\n\n    .dataframe thead th {\n        text-align: right;\n    }\n</style>\n<table border=\"1\" class=\"dataframe\">\n  <thead>\n    <tr style=\"text-align: right;\">\n      <th></th>\n      <th>patent_id</th>\n      <th>name_first</th>\n      <th>name_last</th>\n      <th>city</th>\n      <th>country</th>\n      <th>grant_date</th>\n      <th>grant_year</th>\n      <th>app_date</th>\n      <th>app_year</th>\n      <th>class_distinct_count</th>\n      <th>class_concat</th>\n      <th>class_IPC_distinct_count</th>\n      <th>class_IPC_concat</th>\n      <th>CountryName</th>\n      <th>CityCountry</th>\n      <th>Ecosystem</th>\n      <th>GoogleCity</th>\n    </tr>\n  </thead>\n  <tbody>\n    <tr>\n      <th>0</th>\n      <td>20140380145</td>\n      <td>Rajiv</td>\n      <td>Puranik</td>\n      <td>San Francisco</td>\n      <td>US</td>\n      <td>2014-12-25T00:00:00.000Z</td>\n      <td>2014</td>\n      <td>2014-05-08T00:00:00.000Z</td>\n      <td>2014</td>\n      <td>1.0</td>\n      <td>G06F</td>\n      <td>1.0</td>\n      <td>G06F</td>\n      <td>United States</td>\n      <td>San FranciscoUnited States</td>\n      <td>Silicon Valley</td>\n      <td>San Francisco</td>\n    </tr>\n    <tr>\n      <th>1</th>\n      <td>20140380145</td>\n      <td>Thomas</td>\n      <td>Wilsher</td>\n      <td>San Francisco</td>\n      <td>US</td>\n      <td>2014-12-25T00:00:00.000Z</td>\n      <td>2014</td>\n      <td>2014-05-08T00:00:00.000Z</td>\n      <td>2014</td>\n      <td>1.0</td>\n      <td>G06F</td>\n      <td>1.0</td>\n      <td>G06F</td>\n      <td>United States</td>\n      <td>San FranciscoUnited States</td>\n      <td>Silicon Valley</td>\n      <td>San Francisco</td>\n    </tr>\n    <tr>\n      <th>2</th>\n      <td>20140380219</td>\n      <td>John</td>\n      <td>CARTAN</td>\n      <td>Alameda</td>\n      <td>US</td>\n      <td>2014-12-25T00:00:00.000Z</td>\n      <td>2014</td>\n      <td>2014-06-20T00:00:00.000Z</td>\n      <td>2014</td>\n      <td>1.0</td>\n      <td>G06F</td>\n      <td>1.0</td>\n      <td>G06F</td>\n      <td>United States</td>\n      <td>AlamedaUnited States</td>\n      <td>Silicon Valley</td>\n      <td>Alameda</td>\n    </tr>\n    <tr>\n      <th>3</th>\n      <td>20150000186</td>\n      <td>Barry</td>\n      <td>Freel</td>\n      <td>Ottawa</td>\n      <td>CA</td>\n      <td>2015-01-01T00:00:00.000Z</td>\n      <td>2015</td>\n      <td>2014-09-16T00:00:00.000Z</td>\n      <td>2014</td>\n      <td>1.0</td>\n      <td>C10L</td>\n      <td>1.0</td>\n      <td>C10L</td>\n      <td>Canada</td>\n      <td>OttawaCanada</td>\n      <td>Ottawa</td>\n      <td>Ottawa</td>\n    </tr>\n    <tr>\n      <th>4</th>\n      <td>20150000186</td>\n      <td>Robert</td>\n      <td>Graham</td>\n      <td>Ottawa</td>\n      <td>CA</td>\n      <td>2015-01-01T00:00:00.000Z</td>\n      <td>2015</td>\n      <td>2014-09-16T00:00:00.000Z</td>\n      <td>2014</td>\n      <td>1.0</td>\n      <td>C10L</td>\n      <td>1.0</td>\n      <td>C10L</td>\n      <td>Canada</td>\n      <td>OttawaCanada</td>\n      <td>Ottawa</td>\n      <td>Ottawa</td>\n    </tr>\n    <tr>\n      <th>...</th>\n      <td>...</td>\n      <td>...</td>\n      <td>...</td>\n      <td>...</td>\n      <td>...</td>\n      <td>...</td>\n      <td>...</td>\n      <td>...</td>\n      <td>...</td>\n      <td>...</td>\n      <td>...</td>\n      <td>...</td>\n      <td>...</td>\n      <td>...</td>\n      <td>...</td>\n      <td>...</td>\n      <td>...</td>\n    </tr>\n    <tr>\n      <th>9830919</th>\n      <td>20140380134</td>\n      <td>Lalitha</td>\n      <td>Venkataramanan</td>\n      <td>Lexington</td>\n      <td>US</td>\n      <td>2014-12-25T00:00:00.000Z</td>\n      <td>2014</td>\n      <td>2013-01-30T00:00:00.000Z</td>\n      <td>2013</td>\n      <td>3.0</td>\n      <td>H04B,G06F,G01V</td>\n      <td>3.0</td>\n      <td>G01V,G06F,H04B</td>\n      <td>United States</td>\n      <td>LexingtonUnited States</td>\n      <td>NaN</td>\n      <td>Lexington</td>\n    </tr>\n    <tr>\n      <th>9830920</th>\n      <td>20140380134</td>\n      <td>Nicholas</td>\n      <td>Heaton</td>\n      <td>Houston</td>\n      <td>US</td>\n      <td>2014-12-25T00:00:00.000Z</td>\n      <td>2014</td>\n      <td>2013-01-30T00:00:00.000Z</td>\n      <td>2013</td>\n      <td>3.0</td>\n      <td>H04B,G06F,G01V</td>\n      <td>3.0</td>\n      <td>G01V,G06F,H04B</td>\n      <td>United States</td>\n      <td>HoustonUnited States</td>\n      <td>Houston</td>\n      <td>Houston</td>\n    </tr>\n    <tr>\n      <th>9830921</th>\n      <td>20140380134</td>\n      <td>Nicholas</td>\n      <td>Bennett</td>\n      <td>Hamden</td>\n      <td>US</td>\n      <td>2014-12-25T00:00:00.000Z</td>\n      <td>2014</td>\n      <td>2013-01-30T00:00:00.000Z</td>\n      <td>2013</td>\n      <td>3.0</td>\n      <td>H04B,G06F,G01V</td>\n      <td>3.0</td>\n      <td>G01V,G06F,H04B</td>\n      <td>United States</td>\n      <td>HamdenUnited States</td>\n      <td>Hartford</td>\n      <td>Hamden</td>\n    </tr>\n    <tr>\n      <th>9830922</th>\n      <td>20140380145</td>\n      <td>Cheuk</td>\n      <td>Law</td>\n      <td>San Francisco</td>\n      <td>US</td>\n      <td>2014-12-25T00:00:00.000Z</td>\n      <td>2014</td>\n      <td>2014-05-08T00:00:00.000Z</td>\n      <td>2014</td>\n      <td>1.0</td>\n      <td>G06F</td>\n      <td>1.0</td>\n      <td>G06F</td>\n      <td>United States</td>\n      <td>San FranciscoUnited States</td>\n      <td>Silicon Valley</td>\n      <td>San Francisco</td>\n    </tr>\n    <tr>\n      <th>9830923</th>\n      <td>20140380145</td>\n      <td>Patrick</td>\n      <td>Malatack</td>\n      <td>San Francisco</td>\n      <td>US</td>\n      <td>2014-12-25T00:00:00.000Z</td>\n      <td>2014</td>\n      <td>2014-05-08T00:00:00.000Z</td>\n      <td>2014</td>\n      <td>1.0</td>\n      <td>G06F</td>\n      <td>1.0</td>\n      <td>G06F</td>\n      <td>United States</td>\n      <td>San FranciscoUnited States</td>\n      <td>Silicon Valley</td>\n      <td>San Francisco</td>\n    </tr>\n  </tbody>\n</table>\n<p>8753698 rows × 17 columns</p>\n</div>"
     },
     "execution_count": 17,
     "metadata": {},
     "output_type": "execute_result"
    }
   ],
   "source": [
    "df_missing_applicants = df_raw_patents[~df_raw_patents['patent_id'].isin(df_table_for_applicants['patent_id'])]\n",
    "print(f'There are {len(df_missing_applicants)} patents that has no applicants registered')\n",
    "df_missing_applicants"
   ],
   "metadata": {
    "collapsed": false,
    "ExecuteTime": {
     "end_time": "2023-06-25T03:23:54.196351Z",
     "start_time": "2023-06-25T03:23:53.397713700Z"
    }
   }
  },
  {
   "cell_type": "code",
   "execution_count": 21,
   "outputs": [
    {
     "name": "stdout",
     "output_type": "stream",
     "text": [
      "Applicants size: 10170839\n"
     ]
    }
   ],
   "source": [
    "# Create applicants that is missing\n",
    "new_applicants = []\n",
    "for index, row in df_missing_applicants.iterrows():\n",
    "    patent_id = row['patent_id']\n",
    "    name_first = str(row['name_first'])\n",
    "    name_last = str(row['name_last'])\n",
    "    city = row['city']\n",
    "    country = row['country']\n",
    "    app_year = row['app_year']\n",
    "    ecosystem = row['Ecosystem']\n",
    "\n",
    "    if pd.isnull(name_last):\n",
    "        owner = name_first\n",
    "    else:\n",
    "        owner = name_first + ' ' + name_last\n",
    "\n",
    "    if pd.isnull(ecosystem):\n",
    "        city_region = city\n",
    "    else:\n",
    "        city_region = ecosystem\n",
    "\n",
    "    new_row = {'patent_id': patent_id,\n",
    "               'owner': owner,\n",
    "               'city_region': city_region,\n",
    "               'country': country,\n",
    "               'year': app_year}\n",
    "\n",
    "    new_applicants.append(new_row)\n",
    "\n",
    "df_table_for_applicants = pd.concat([df_table_for_applicants, pd.DataFrame(new_applicants)])\n",
    "\n",
    "print(f'Applicants size: {len(df_table_for_applicants)}')"
   ],
   "metadata": {
    "collapsed": false,
    "ExecuteTime": {
     "end_time": "2023-06-25T03:51:43.644791100Z",
     "start_time": "2023-06-25T03:47:32.839582500Z"
    }
   }
  },
  {
   "cell_type": "code",
   "execution_count": 4,
   "outputs": [
    {
     "name": "stdout",
     "output_type": "stream",
     "text": [
      "Total nulls for Ecosystem: 2522799\n",
      "Percentage nulls for Ecosystem: 25.66\n"
     ]
    }
   ],
   "source": [
    "ecosystem_nulls = df_raw_patents['Ecosystem'].isnull().sum()\n",
    "ecosystem_percentage_nulls = (ecosystem_nulls / len(df_raw_patents)) * 100\n",
    "print(f'Total nulls for Ecosystem: {ecosystem_nulls}\\nPercentage nulls for Ecosystem: {round(ecosystem_percentage_nulls, 2)}')"
   ],
   "metadata": {
    "collapsed": false,
    "ExecuteTime": {
     "end_time": "2023-06-25T02:35:24.047491Z",
     "start_time": "2023-06-25T02:35:23.767229900Z"
    }
   }
  },
  {
   "cell_type": "code",
   "execution_count": 5,
   "outputs": [
    {
     "name": "stdout",
     "output_type": "stream",
     "text": [
      "Total unique values fo Ecosystem: 899\n",
      "Values: ['Silicon Valley' 'Ottawa' nan 'Tokyo' 'Montreal' 'Stuttgart' 'Nagoya'\n",
      " 'Amsterdam-Delta' 'Miami' 'hyogo-japan NOT resolved' 'Osaka'\n",
      " 'Indiana Center;Indianapolis;Indiana' 'Charlotte' 'Hamburg State;Hamburg'\n",
      " 'Hamburg' 'Busan' 'Beijing' 'union city-united states NOT resolved'\n",
      " 'aurora-united states NOT resolved' 'Chicago' 'Philadelphia' 'San Diego'\n",
      " 'Bristol' 'Los Angeles' 'Lisbon' 'Indiana' 'New York City' 'Seattle'\n",
      " 'Cleveland' 'Ohio' 'San Bernardino' 'Frankfurt' 'Seoul'\n",
      " 'Research Triangle' 'Toronto' 'Boston' 'Madison' 'Lyon' 'Salt Lake-Provo'\n",
      " 'Moscow' 'Houston' 'Cape Town' 'Tampa Bay' 'Washington DC' 'Sydney'\n",
      " 'Melbourne' 'Hiroshima' 'Helsinki' 'Zurich' 'Atlanta' 'Hartford'\n",
      " 'clinton-united states NOT resolved' 'Xiamen' 'akashi-japan NOT resolved'\n",
      " 'miki-japan NOT resolved' 'kobe-japan NOT resolved'\n",
      " 'Manchester-Liverpool' 'Shanghai' 'Shenzhen' 'Bavaria;Munich'\n",
      " 'Greater London;London' 'Phoenix' 'Fort Collins' 'Sacramento' 'Tel Aviv'\n",
      " 'Metro Rhein-Ruhr' 'Bavaria' 'Porto' 'Cambridge;London' 'London' 'Dallas'\n",
      " 'Barcelona' 'Kyoto' 'Indiana Center;Indiana'\n",
      " 'westfield-united states NOT resolved'\n",
      " 'plymouth-united states NOT resolved' 'Denver-Boulder' 'Guangzhou'\n",
      " 'St. Louis' 'Taipei City' 'Nice' 'North Brabant' 'Minneapolis'\n",
      " 'Vancouver' 'Skane' 'Jacksonville' 'Bluffton' 'Halland' 'Madrid'\n",
      " 'Kansas City' 'schwarzach-austria NOT resolved' 'Copenhagen'\n",
      " 'winchester-united states NOT resolved' 'Cincinnati' 'Portland'\n",
      " 'Stockholm;Uppsala län' 'Stockholm;Stockholms län' 'Columbus' 'Detroit'\n",
      " 'Saint Petersburg' 'New Orleans' 'Chennai' 'Brussels' 'Antwerp' 'Austin'\n",
      " 'portland-united states NOT resolved' 'Paris' 'Leipzig' 'Reno' 'Galway'\n",
      " 'Toulouse' 'Kingston' 'Las Vegas' 'Colorado Springs' 'Oslo' 'Tianjin'\n",
      " 'dornbirn-austria NOT resolved' 'Waterloo' 'Santiago-Valparaiso'\n",
      " 'Kolkata' 'Singapore' 'Richmond' 'Fukuoka' 'Hokkaido' 'San Antonio'\n",
      " 'Lille' 'Birmingham' 'Indiana Center;West Lafayette;Indiana'\n",
      " 'Athens;Greece' 'Kansas' 'El Paso' 'Montevideo' 'Oklahoma City'\n",
      " 'Urbana Champaign' 'Stockholm' 'Philadelphia;New York City'\n",
      " 'richmond-united states NOT resolved' 'Strasbourg' 'Des Moines'\n",
      " 'Tennessee' 'Tucson' 'New Zealand' 'Bangalore-Karnataka' 'Mexico City'\n",
      " 'Tulsa' 'Mannheim-Heidelberg' 'Orlando' 'Burlington' 'Kuala Lumpur'\n",
      " 'Spartanburg' 'Pittsburgh' 'rochester-united states NOT resolved'\n",
      " 'Wilmington' 'Hong Kong' 'Delhi' 'Dublin' 'Springfield (MA)'\n",
      " 'Johannesburg' 'St. Louis;Missouri' 'Indiana;Indianapolis'\n",
      " 'mie-japan NOT resolved' 'bethlehem-united states NOT resolved' 'Buffalo'\n",
      " 'Nashville;Tennessee' 'Winnipeg' 'Hangzhou' 'Vienna'\n",
      " 'Gothenburg;Vastra Gotaland' 'huntington-united states NOT resolved'\n",
      " 'Albuquerque' 'bedford-united states NOT resolved' 'Riyadh' 'Reykjavik'\n",
      " 'Wuxi' 'washington-united states NOT resolved' 'Turin' 'Ostergotland'\n",
      " 'Perth' 'Chattanooga' 'Buenos Aires' 'Edmonton' 'Santa Barbara'\n",
      " 'Hyderabad' 'lafayette-united states NOT resolved' 'Geneva' 'Rome'\n",
      " 'Memphis;Tennessee' 'Omaha-Lincoln' 'Milan'\n",
      " 'madison-united states NOT resolved' 'Istanbul' 'Nashville'\n",
      " 'decatur-united states NOT resolved' 'Sendai' 'Berlin' 'Hanover'\n",
      " 'Marseille' 'Memphis' 'Brisbane' 'Luxembourg' 'Basel'\n",
      " 'louannec-france NOT resolved' 'Kerala' 'Munich' 'Chattanooga;Tennessee'\n",
      " 'Prague' 'Rio de Janeiro' 'Wuhan' 'Sao Paulo' 'nara-japan NOT resolved'\n",
      " 'Salzburg' 'Quebec City' 'Mississippi'\n",
      " 'hortonville-united states NOT resolved' 'Kansas City;Kansas'\n",
      " 'Kansas City;Missouri' 'covington-united states NOT resolved' 'Calgary'\n",
      " 'kaiserslautern-germany NOT resolved' 'Bordeaux' 'Pune' 'Ahmedabad'\n",
      " 'Warsaw' 'Durban' 'Brno' 'Malta' 'Krakow' 'Oulu'\n",
      " 'alexandria-united states NOT resolved'\n",
      " 'lebanon-united states NOT resolved' 'Biscay Startup Bay' 'Mumbai'\n",
      " 'Budapest' 'Edinburgh-Glasgow' 'princeton-united states NOT resolved'\n",
      " 'monticello-united states NOT resolved' 'Toledo' 'Chengdu'\n",
      " 'freiburg-germany NOT resolved' 'Nanjing' 'Norrbotten' 'Lithuania'\n",
      " 'salem-germany NOT resolved' 'Kiev' 'Belo Horizonte'\n",
      " 'mount vernon-united states NOT resolved'\n",
      " 'portage-united states NOT resolved' 'Western Denmark' 'Sofia'\n",
      " 'southport-united states NOT resolved' 'Manila' 'Cairo' 'Atlantic Canada'\n",
      " 'Halifax;Atlantic Canada' 'sullivan-united states NOT resolved'\n",
      " 'teningen-germany NOT resolved' 'Charlottesville'\n",
      " 'coimbatore-india NOT resolved' 'radolfzell-germany NOT resolved'\n",
      " 'moos-germany NOT resolved' 'allensbach-germany NOT resolved'\n",
      " 'butler-united states NOT resolved' 'villach-austria NOT resolved'\n",
      " 'rockport-united states NOT resolved' 'denzlingen-germany NOT resolved'\n",
      " 'emmendingen-germany NOT resolved' 'new haven-united states NOT resolved'\n",
      " 'charlestown-united states NOT resolved' 'Fresno'\n",
      " 'kandern-germany NOT resolved' 'Ljubljana' 'trier-germany NOT resolved'\n",
      " 'Dubai' 'lindau-germany NOT resolved' 'boppard-germany NOT resolved'\n",
      " 'wehr-germany NOT resolved' 'Monterrey' 'Bangkok' 'Estonia' 'Bucharest'\n",
      " 'Seberang Perai' 'Lagos' 'Jonkoping' 'bonne-france NOT resolved'\n",
      " 'new castle-united states NOT resolved'\n",
      " 'friedrichshafen-germany NOT resolved' 'hohenems-austria NOT resolved'\n",
      " 'götzis-austria NOT resolved' 'Vastra Gotaland' 'Tehran'\n",
      " 'poligny-france NOT resolved' 'Ho Chi Minh City' 'Vasternorrland'\n",
      " 'loerrach-germany NOT resolved' 'singen-germany NOT resolved'\n",
      " 'giromagny-france NOT resolved' 'greensburg-united states NOT resolved'\n",
      " 'Durham' 'hard-austria NOT resolved' 'bregenz-austria NOT resolved'\n",
      " 'Nicosia' 'Orebro' 'huningue-france NOT resolved'\n",
      " 'nishinomiya-japan NOT resolved' 'lustenau-austria NOT resolved'\n",
      " 'lawrenceburg-united states NOT resolved' 'otsu-shi-japan NOT resolved'\n",
      " 'lugano-switzerland NOT resolved' 'feldkirch-austria NOT resolved'\n",
      " 'Adelaide' 'Vastmanland' 'schaan-liechtenstein NOT resolved'\n",
      " 'schopfheim-germany NOT resolved' 'gundelfingen-germany NOT resolved'\n",
      " 'Jakarta' 'ebringen-germany NOT resolved'\n",
      " 'bluffton-united states NOT resolved' 'geisingen-germany NOT resolved'\n",
      " 'Bratislava' 'Zagreb' 'wakayama-shi-japan NOT resolved'\n",
      " 'tijuana-mexico NOT resolved' 'kusatsu-shi-japan NOT resolved'\n",
      " 'nara-shi-japan NOT resolved' 'Caracas' 'sulz-austria NOT resolved'\n",
      " 'langenargen-germany NOT resolved' 'rheinfelden-germany NOT resolved'\n",
      " 'Kronoberg' 'Indiana;West Lafayette' 'engen-germany NOT resolved'\n",
      " 'Recife' 'Sri Lanka' 'Kalmar' 'lörrach-germany NOT resolved' 'Canberra'\n",
      " 'Valencia' 'waldkirch-germany NOT resolved'\n",
      " 'koblenz-germany NOT resolved' 'Nairobi' 'Ireland Mid East Region'\n",
      " 'otsu-japan NOT resolved' 'jonesboro-united states NOT resolved' 'Ankara'\n",
      " 'himeji-japan NOT resolved' 'eschen-liechtenstein NOT resolved'\n",
      " 'buchenbach-germany NOT resolved' 'Greece' 'Las Palmas'\n",
      " 'frankfort-united states NOT resolved'\n",
      " 'cervignano del friuli-italy NOT resolved'\n",
      " 'bernwiller-france NOT resolved' 'Porto Alegre'\n",
      " 'bingen-germany NOT resolved' 'logroño (la rioja)-spain NOT resolved'\n",
      " 'belfort-france NOT resolved' 'Atlantic Canada;Halifax'\n",
      " 'bludenz-austria NOT resolved' 'Indiana North;West Lafayette;Indiana'\n",
      " 'kirchzarten-germany NOT resolved' 'weil am rhein-germany NOT resolved'\n",
      " 'Wroclaw' 'hulst-netherlands NOT resolved'\n",
      " 'freiburg im breisgau-germany NOT resolved'\n",
      " 'müllheim-germany NOT resolved' 'udine-italy NOT resolved' 'Lima' 'Minsk'\n",
      " 'wakayama-japan NOT resolved' 'Belfast'\n",
      " 'rensselaer-united states NOT resolved' 'satteins-austria NOT resolved'\n",
      " 'bellinzona-switzerland NOT resolved' 'Amman' 'Rosario'\n",
      " 'montpelier-united states NOT resolved' 'Vasterbotten'\n",
      " 'tsu-shi-japan NOT resolved' 'weissensberg-germany NOT resolved'\n",
      " 'eriskirch-germany NOT resolved' 'Cagliari'\n",
      " 'saint malo-france NOT resolved' 'konstanz-germany NOT resolved'\n",
      " 'martinsville-united states NOT resolved' 'Yerevan'\n",
      " 'ravensburg-germany NOT resolved' 'Beirut'\n",
      " 'bodman-ludwigshafen-germany NOT resolved' 'Varmland'\n",
      " 'steinen-germany NOT resolved' 'la porte-united states NOT resolved'\n",
      " 'Cluj' 'Linshu' 'saarbrücken-germany NOT resolved'\n",
      " 'sierentz-france NOT resolved' 'tsu-japan NOT resolved'\n",
      " 'mitchell-united states NOT resolved' 'présilly-france NOT resolved'\n",
      " 'Abu Dhabi' 'Pretoria' 'arogno-switzerland NOT resolved' 'Bahrain'\n",
      " 'markdorf-germany NOT resolved' 'Guadalajara'\n",
      " 'lauchringen-germany NOT resolved' 'linsdorf-france NOT resolved'\n",
      " 'grenzach-wyhlen-germany NOT resolved' 'schwanau-germany NOT resolved'\n",
      " 'altkirch-france NOT resolved' 'rising sun-united states NOT resolved'\n",
      " 'Medellin' 'kakogawa-japan NOT resolved' 'Kharkiv' 'Cordoba'\n",
      " 'monfalcone-italy NOT resolved' 'bad krozingen-germany NOT resolved'\n",
      " 'arnoldstein-austria NOT resolved'\n",
      " 'petersburg-united states NOT resolved' 'Blekinge '\n",
      " 'grafenhausen-germany NOT resolved' 'Dalarna' 'Belgrade and Novi Sad'\n",
      " 'peelamedu-india NOT resolved' 'Ticino'\n",
      " 'terneuzen-netherlands NOT resolved' 'tettnang-germany NOT resolved'\n",
      " 'pontarlier-france NOT resolved' 'lahr-germany NOT resolved'\n",
      " 'immenstaad-germany NOT resolved' 'horgenzell-germany NOT resolved'\n",
      " 'Riga' 'bermatingen-germany NOT resolved'\n",
      " 'meckenbeuren-germany NOT resolved'\n",
      " 'radolfzell am bodensee-germany NOT resolved'\n",
      " 'saint-louis-france NOT resolved' 'Kalmar län' 'Quito'\n",
      " 'annecy-france NOT resolved' 'Doha'\n",
      " 'waldshut-tiengen-germany NOT resolved' 'tamba-japan NOT resolved'\n",
      " 'gotzis-austria NOT resolved' 'thonon-les-bains-france NOT resolved'\n",
      " 'Lecce' 'greencastle-united states NOT resolved' 'Bogota'\n",
      " 'pringy-france NOT resolved' 'st brelade-jersey NOT resolved'\n",
      " 'cherbourg-france NOT resolved' 'tourlaville-france NOT resolved'\n",
      " 'efringen-kirchen-germany NOT resolved' 'bartenheim-france NOT resolved'\n",
      " 'greendale-united states NOT resolved' 'lenzkirch-germany NOT resolved'\n",
      " 'attica-united states NOT resolved' 'schliengen-germany NOT resolved'\n",
      " 'lure-france NOT resolved' 'Florianópolis' 'altach-austria NOT resolved'\n",
      " 'Cebu City' 'schlierbach-france NOT resolved'\n",
      " 'eimeldingen-germany NOT resolved' 'binzen-germany NOT resolved'\n",
      " 'Gavleborg' 'La Paz' 'cruseilles-france NOT resolved'\n",
      " 'oostburg-netherlands NOT resolved' 'biggekerke-netherlands NOT resolved'\n",
      " 'Chisinau' 'Curitiba' 'youngstown-united states NOT resolved'\n",
      " 'Stockholm;Sodermanland' 'morteau-france NOT resolved' 'Casablanca'\n",
      " 'Tbilisi' 'amagasaki-japan NOT resolved' 'San Juan'\n",
      " 'lathuile-france NOT resolved' 'geulle-netherlands NOT resolved'\n",
      " 'marignier-france NOT resolved' 'saarbrucken-germany NOT resolved'\n",
      " 'cessy-france NOT resolved' 'woodburn-united states NOT resolved'\n",
      " 'divonne-les-bains-france NOT resolved' 'Skopje'\n",
      " 'le cheylas-france NOT resolved' 'heiligenberg-germany NOT resolved'\n",
      " 'stockach-germany NOT resolved'\n",
      " 'rielasingen-worblingen-germany NOT resolved'\n",
      " 'montagnola-switzerland NOT resolved' 'schallstadt-germany NOT resolved'\n",
      " 'Palma' 'au-germany NOT resolved' 'Tashkent' 'Sharjah' 'Peshawar'\n",
      " 'kenzingen-germany NOT resolved' 'Sodermanland'\n",
      " 'wolfsberg-austria NOT resolved' 'logrono-spain NOT resolved'\n",
      " 'goes-netherlands NOT resolved' 'peru-united states NOT resolved'\n",
      " 'doussard-france NOT resolved' 'staufen im breisgau-germany NOT resolved'\n",
      " 'klaus-austria NOT resolved' 'koblach-austria NOT resolved'\n",
      " 'mauren-liechtenstein NOT resolved' 'rankweil-austria NOT resolved'\n",
      " 'saint louis-france NOT resolved' 'loogootee-united states NOT resolved'\n",
      " 'les fins-france NOT resolved' 'losone-switzerland NOT resolved'\n",
      " 'annecy le vieux-france NOT resolved' 'albbruck-germany NOT resolved'\n",
      " 'kressbronn-germany NOT resolved' 'balerna-switzerland NOT resolved'\n",
      " 'Abuja' 'talloires-france NOT resolved' 'ornex-france NOT resolved'\n",
      " 'bad säckingen-germany NOT resolved' 'ettenheim-germany NOT resolved'\n",
      " 'saint-julien-en-genevois-france NOT resolved' 'sanda-japan NOT resolved'\n",
      " 'itami-japan NOT resolved' 'weingarten-germany NOT resolved'\n",
      " 'boonville-united states NOT resolved'\n",
      " 'gottmadingen-germany NOT resolved' 'maulburg-germany NOT resolved'\n",
      " 'gravesano-switzerland NOT resolved' 'ruggell-liechtenstein NOT resolved'\n",
      " 'Isle of Man' 'breisach-germany NOT resolved'\n",
      " 'triberg-germany NOT resolved' 'vaduz-liechtenstein NOT resolved'\n",
      " 'rosenau-france NOT resolved' 'feigères-france NOT resolved' 'Xinyu'\n",
      " 'danjoutin-france NOT resolved' 'Accra' 'reichenau-germany NOT resolved'\n",
      " 'sallanches-france NOT resolved' 'Gotland' 'Asuncion' 'Kazan' 'Hanoi'\n",
      " 'sevrier-france NOT resolved' 'Jamtland' 'takarazuka-japan NOT resolved'\n",
      " 'ville-la-grand-france NOT resolved' 'Kumasi'\n",
      " 'montbeliard-france NOT resolved' 'thoiry-france NOT resolved'\n",
      " 'wasserburg (bodensee)-germany NOT resolved'\n",
      " 'neukirch-germany NOT resolved' 'Nyköping;Sodermanland'\n",
      " 'bonneville-france NOT resolved' 'staufen-germany NOT resolved'\n",
      " 'hilzingen-germany NOT resolved' 'vlissingen-netherlands NOT resolved'\n",
      " 'laufenburg-germany NOT resolved' 'Hermosillo'\n",
      " 'netersel-netherlands NOT resolved' 'hüfingen-germany NOT resolved'\n",
      " 'blumberg-germany NOT resolved' 'granville-france NOT resolved'\n",
      " 'sexau-germany NOT resolved' 'santander-spain NOT resolved'\n",
      " 'contamine-sur-arve-france NOT resolved'\n",
      " 'la rochette-france NOT resolved' 'remiremont-france NOT resolved'\n",
      " 'lauterach-austria NOT resolved' 'sölden-germany NOT resolved'\n",
      " 'görwihl-germany NOT resolved' 'neuvecelle-france NOT resolved'\n",
      " 'badenweiler-germany NOT resolved' 'annemasse-france NOT resolved'\n",
      " 'arenthon-france NOT resolved' 'oberteuringen-germany NOT resolved'\n",
      " 'Tunis' 'remagen-germany NOT resolved' 'metz-tessy-france NOT resolved'\n",
      " 'ashiya-japan NOT resolved' 'schluchsee-germany NOT resolved'\n",
      " 'wolfurt-austria NOT resolved' 'hohberg-germany NOT resolved'\n",
      " 'Uppsala län' 'Bucaramanga' 'achberg-germany NOT resolved'\n",
      " 'baienfurt-germany NOT resolved' 'scionzier-france NOT resolved'\n",
      " 'crozet-france NOT resolved' 'ikoma-japan NOT resolved'\n",
      " 'hörbranz-austria NOT resolved' 'ligonier-united states NOT resolved'\n",
      " 'valognes-france NOT resolved' 'frickingen-germany NOT resolved'\n",
      " 'waldburg-germany NOT resolved' 'march-germany NOT resolved'\n",
      " 'caslano-switzerland NOT resolved' 'knox-united states NOT resolved'\n",
      " 'ohio-united states NOT resolved' 'moriyama-japan NOT resolved'\n",
      " 'wendelsheim-germany NOT resolved' 'Manaus' 'Brasilia' 'Goiania'\n",
      " 'kawanishi-japan NOT resolved' 'archamps-france NOT resolved'\n",
      " 'st helier-jersey NOT resolved' 'albertville-france NOT resolved'\n",
      " 'bodnegg-germany NOT resolved' 'amtzell-germany NOT resolved'\n",
      " 'ihringen-germany NOT resolved' 'comano-switzerland NOT resolved'\n",
      " 'tatsuno-japan NOT resolved' 'bräunlingen-germany NOT resolved'\n",
      " 'althofen-austria NOT resolved' 'Ulaanbaatar' 'Almaty'\n",
      " 'murg-germany NOT resolved' 'riva san vitale-switzerland NOT resolved'\n",
      " 'kennelbach-austria NOT resolved'\n",
      " 'uhldingen-mühlhofen-germany NOT resolved' 'reignier-france NOT resolved'\n",
      " 'montlebon-france NOT resolved' 'seelbach-germany NOT resolved'\n",
      " 'gordola-switzerland NOT resolved' 'Santo Domingo'\n",
      " 'birkenfeld-germany NOT resolved' 'riazzino-switzerland NOT resolved'\n",
      " 'Nur-Sultan' 'higashiomi-japan NOT resolved' 'yasu-japan NOT resolved'\n",
      " 'rheinbreitbach-germany NOT resolved' 'baindt-germany NOT resolved'\n",
      " 'logroño-spain NOT resolved' 'Bosnia and Herzegovina' 'Addis Ababa'\n",
      " 'hufingen-germany NOT resolved' 'verscio-switzerland NOT resolved'\n",
      " 'castagnola-switzerland NOT resolved' 'Algiers' 'Ras Al-Khaimah'\n",
      " 'saint-malo-france NOT resolved'\n",
      " 'cadier en keer-netherlands NOT resolved'\n",
      " 'viganello-switzerland NOT resolved' 'hohentengen-germany NOT resolved'\n",
      " 'West Lafayette' 'orsingen-nenzingen-germany NOT resolved'\n",
      " 'saint-jorioz-france NOT resolved' 'ooty-india NOT resolved'\n",
      " 'waldshut-germany NOT resolved' 'talloires-montmin-france NOT resolved'\n",
      " 'marnaz-france NOT resolved' 'ritto-japan NOT resolved'\n",
      " 'eschbach-germany NOT resolved' 'burnhaupt-le-haut-france NOT resolved'\n",
      " 'giubiasco-switzerland NOT resolved'\n",
      " 'ferney-voltaire-france NOT resolved'\n",
      " 'aardenburg-netherlands NOT resolved'\n",
      " 'triesen-liechtenstein NOT resolved' 'lottstetten-germany NOT resolved'\n",
      " 'neuenburg am rhein-germany NOT resolved'\n",
      " 'immenstaad am bodensee-germany NOT resolved'\n",
      " 'brand-austria NOT resolved' 'fillinges-france NOT resolved'\n",
      " 'oakland city-united states NOT resolved'\n",
      " 'überlingen-germany NOT resolved' 'Bali' 'Abidjan'\n",
      " 'guyans-vennes-france NOT resolved' 'manno-switzerland NOT resolved'\n",
      " 'bötzingen-germany NOT resolved' 'owingen-germany NOT resolved'\n",
      " 'vörstetten-germany NOT resolved' 'hirsingue-france NOT resolved'\n",
      " 'todtnau-germany NOT resolved'\n",
      " 'saint-martin-bellevue-france NOT resolved' 'Blekinge'\n",
      " 'sochaux-france NOT resolved' 'cividale del friuli-italy NOT resolved'\n",
      " 'montbéliard-france NOT resolved' 'eede-netherlands NOT resolved'\n",
      " 'veyrier-du-lac-france NOT resolved' 'wilhelmsdorf-germany NOT resolved'\n",
      " 'hésingue-france NOT resolved'\n",
      " 'st julien en genevois-france NOT resolved'\n",
      " 'eigeltingen-germany NOT resolved' 'aach-germany NOT resolved'\n",
      " 'casteren-netherlands NOT resolved' 'kobe-shi-japan NOT resolved'\n",
      " 'saint-genis-pouilly-france NOT resolved' 'gaillard-france NOT resolved'\n",
      " 'allonzier-la-caille-france NOT resolved'\n",
      " 'damascus-syrian arab republic NOT resolved' 'Baku'\n",
      " 'rivera-switzerland NOT resolved' 'mossa-italy NOT resolved'\n",
      " 'hinterzarten-germany NOT resolved' 'pollachi-india NOT resolved'\n",
      " 'bollschweil-germany NOT resolved' 'andilly-france NOT resolved'\n",
      " 'frederikshavn-denmark NOT resolved' 'hikone-japan NOT resolved'\n",
      " 'meersburg-germany NOT resolved' 'guernsey-united kingdom NOT resolved'\n",
      " 'cluses-france NOT resolved' 'eichstetten-germany NOT resolved'\n",
      " 'marin-france NOT resolved' 'maroggia-switzerland NOT resolved'\n",
      " 'sciez-france NOT resolved' 'douvaine-france NOT resolved'\n",
      " 'nabari-japan NOT resolved' 'Dakar' 'cureglia-switzerland NOT resolved'\n",
      " 'lahr/schwarzwald-germany NOT resolved' 'matsusaka-japan NOT resolved'\n",
      " 'genestrerio-switzerland NOT resolved'\n",
      " 'pavia di udine-italy NOT resolved'\n",
      " 'breisach am rhein-germany NOT resolved' 'doubs-france NOT resolved'\n",
      " 'jestetten-germany NOT resolved' 'sessa-switzerland NOT resolved'\n",
      " 'iga-japan NOT resolved' 'Davao' 'grenzach-germany NOT resolved'\n",
      " 'simonswald-germany NOT resolved' 'ligornetto-switzerland NOT resolved'\n",
      " 'sorengo-switzerland NOT resolved' 'agno-switzerland NOT resolved'\n",
      " 'singen (hohentwiel)-germany NOT resolved'\n",
      " 'cadro-switzerland NOT resolved' 'lochau-austria NOT resolved'\n",
      " 'wutöschingen-germany NOT resolved' 'bürs-austria NOT resolved'\n",
      " 'gronsveld-netherlands NOT resolved' 'mieussy-france NOT resolved'\n",
      " 'audincourt-france NOT resolved' 'delle-france NOT resolved'\n",
      " 'grandvillars-france NOT resolved' 'omihachiman-japan NOT resolved'\n",
      " 'volkertshausen-germany NOT resolved'\n",
      " 'saint martin bellevue-france NOT resolved'\n",
      " 'saint genis pouilly-france NOT resolved' 'cervens-france NOT resolved'\n",
      " 'chiasso-switzerland NOT resolved'\n",
      " 'sint jansteen-netherlands NOT resolved'\n",
      " 'ploubazlanec-france NOT resolved' 'bahlingen-germany NOT resolved'\n",
      " 'chaux-france NOT resolved' 'degernau-germany NOT resolved'\n",
      " 'molinazzo di monteggio-switzerland NOT resolved' 'Kampala'\n",
      " 'schlier-germany NOT resolved' 'feldkirch-germany NOT resolved'\n",
      " 'muralto-switzerland NOT resolved' 'merdingen-germany NOT resolved'\n",
      " 'raggal-austria NOT resolved' 'weiler-austria NOT resolved'\n",
      " 'brunstatt-france NOT resolved' 'bedano-switzerland NOT resolved'\n",
      " 'quierschied-germany NOT resolved' 'saarwellingen-germany NOT resolved'\n",
      " 'stühlingen-germany NOT resolved' 'pregassona-switzerland NOT resolved'\n",
      " 'taverne-switzerland NOT resolved' 'frieburg-germany NOT resolved'\n",
      " 'riegel-germany NOT resolved' 'lons-le-saunier-france NOT resolved'\n",
      " 'sas van gent-netherlands NOT resolved' 'Sarajevo'\n",
      " 'hashimoto-japan NOT resolved' 'morez-france NOT resolved'\n",
      " 'oberried-germany NOT resolved' 'kameyama-japan NOT resolved'\n",
      " 'saint-claude-france NOT resolved' 'sankt ingbert-germany NOT resolved'\n",
      " 'strandby-denmark NOT resolved' 'evires-france NOT resolved'\n",
      " 'eggingen-germany NOT resolved' 'stegen-germany NOT resolved'\n",
      " 'saint-alban-france NOT resolved' 'torrelavega-spain NOT resolved'\n",
      " 'Luanda' 'kortgene-netherlands NOT resolved' 'Indianapolis'\n",
      " 'saint gervais-france NOT resolved' 'lamone-switzerland NOT resolved'\n",
      " 'coutances-france NOT resolved' 'annecy-le-vieux-france NOT resolved'\n",
      " 'la clusaz-france NOT resolved' 'umkirch-germany NOT resolved'\n",
      " 'vogtsburg-germany NOT resolved' 'deggenhausertal-germany NOT resolved'\n",
      " 'sakamoto-japan NOT resolved' 'Guernsay'\n",
      " 'aspach-michelbach-france NOT resolved' 'attimis-italy NOT resolved'\n",
      " 'thyez-france NOT resolved' 'vinningen-germany NOT resolved'\n",
      " 'rickenbach-germany NOT resolved' 'erquy-france NOT resolved'\n",
      " 'octeville-france NOT resolved' 'fürnitz-austria NOT resolved'\n",
      " 'legal-canada NOT resolved' 'San Salvador' 'paimpol-france NOT resolved'\n",
      " 'caviano-switzerland NOT resolved' 'jersey-united kingdom NOT resolved'\n",
      " 'daisendorf-germany NOT resolved' 'faverges-france NOT resolved'\n",
      " 'wittnau-germany NOT resolved' 'Kinshasa' 'viskovo-croatia NOT resolved'\n",
      " 'dingy-saint-clair-france NOT resolved'\n",
      " 'camorino-switzerland NOT resolved' 'malterdingen-germany NOT resolved'\n",
      " 'mercury-france NOT resolved' 'kashihara-japan NOT resolved'\n",
      " 'les houches-france NOT resolved' 'westdorpe-netherlands NOT resolved'\n",
      " 'Tirana' 'megève-france NOT resolved'\n",
      " 'philippine-netherlands NOT resolved' 'rust-germany NOT resolved'\n",
      " 'morbio inferiore-switzerland NOT resolved' 'kashiba-japan NOT resolved'\n",
      " 'dörth-germany NOT resolved' 'vacallo-switzerland NOT resolved'\n",
      " 'heuweiler-germany NOT resolved'\n",
      " 'herdwangen-schönach-germany NOT resolved'\n",
      " 'kippenheim-germany NOT resolved' 'mahlberg-germany NOT resolved'\n",
      " 'chamonix-mont-blanc-france NOT resolved' 'takasago-japan NOT resolved'\n",
      " 'dinard-france NOT resolved' 'mezzovico-switzerland NOT resolved'\n",
      " 'tijuana, baja california-mexico NOT resolved'\n",
      " 'héricourt-france NOT resolved' 'monnetier-mornex-france NOT resolved'\n",
      " 'cherbourg-octeville-france NOT resolved'\n",
      " 'heimsbrunn-france NOT resolved' 'ascona-switzerland NOT resolved'\n",
      " 'Kigali' 'bons-en-chablais-france NOT resolved'\n",
      " 'nieuwdorp-netherlands NOT resolved' 'glatigny-france NOT resolved'\n",
      " 'melano-switzerland NOT resolved' 'wittlingen-germany NOT resolved'\n",
      " 'bozel-france NOT resolved' 'chamonix-france NOT resolved'\n",
      " 'peisey-nancroix-france NOT resolved' 'longchaumois-france NOT resolved'\n",
      " 'lessay-france NOT resolved' 'völkermarkt-austria NOT resolved'\n",
      " 'ühlingen-birkendorf-germany NOT resolved'\n",
      " 'saint helier-jersey NOT resolved' 'feldberg-germany NOT resolved'\n",
      " 'lewedorp-netherlands NOT resolved' 'sint kruis-netherlands NOT resolved'\n",
      " 'grilly-france NOT resolved' 'tenero-switzerland NOT resolved'\n",
      " 'lodano-switzerland NOT resolved' 'trivignano udinese-italy NOT resolved'\n",
      " 'quartino-switzerland NOT resolved' 'sigirino-switzerland NOT resolved'\n",
      " 'Dar es Salaam' 'sluiskil-netherlands NOT resolved'\n",
      " 'bonndorf im schwarzwald-germany NOT resolved' 'koka-japan NOT resolved'\n",
      " 'orgelet-france NOT resolved' 'löffingen-germany NOT resolved'\n",
      " 'Montenegro' 'griessen-germany NOT resolved'\n",
      " 'channel islands-united kingdom NOT resolved'\n",
      " 'klagenfurt am woerthersee-austria NOT resolved'\n",
      " 'menthon-saint-bernard-france NOT resolved'\n",
      " 'ringsheim-germany NOT resolved' 'zoutelande-netherlands NOT resolved'\n",
      " 'Gambia' 'st genis-pouilly-france NOT resolved'\n",
      " 'aspach-le-bas-france NOT resolved' 'anteuil-france NOT resolved'\n",
      " 'axel-netherlands NOT resolved' 'laufenburg (baden)-germany NOT resolved'\n",
      " 'pura-switzerland NOT resolved'\n",
      " 'st helier jersey-united kingdom NOT resolved'\n",
      " 'schoondijke-netherlands NOT resolved'\n",
      " 'belfort cedex-france NOT resolved' 'komono-japan NOT resolved'\n",
      " 'st peter port-united kingdom NOT resolved'\n",
      " 'margencel-france NOT resolved' 'büchenbach-germany NOT resolved'\n",
      " 'bodensee-germany NOT resolved' 'uppilipalayam-india NOT resolved'\n",
      " 'bretteville-france NOT resolved' 'givet-france NOT resolved'\n",
      " 'autechaux-france NOT resolved' 'alex-france NOT resolved']\n"
     ]
    }
   ],
   "source": [
    "ecosystem_values = df_raw_patents['Ecosystem'].unique()\n",
    "total_ecosystem = len(ecosystem_values)\n",
    "print(f'Total unique values fo Ecosystem: {total_ecosystem}\\nValues: {ecosystem_values}')"
   ],
   "metadata": {
    "collapsed": false,
    "ExecuteTime": {
     "end_time": "2023-06-25T02:35:24.485794100Z",
     "start_time": "2023-06-25T02:35:24.047491Z"
    }
   }
  },
  {
   "cell_type": "code",
   "execution_count": 6,
   "outputs": [],
   "source": [
    "df_by_city_country = df_raw_patents.groupby(by=['city', 'CountryName'])"
   ],
   "metadata": {
    "collapsed": false,
    "ExecuteTime": {
     "end_time": "2023-06-25T02:35:24.548195300Z",
     "start_time": "2023-06-25T02:35:24.486792400Z"
    }
   }
  },
  {
   "cell_type": "code",
   "execution_count": 7,
   "outputs": [
    {
     "name": "stdout",
     "output_type": "stream",
     "text": [
      "Bangor-United Kingdom -> 2 -> [nan 'Belfast']\n",
      "Chaiwan-Hong Kong -> 2 -> [nan 'Hong Kong']\n",
      "Honk Kong-Hong Kong -> 2 -> ['Hong Kong' nan]\n",
      "Kowloon Hong Kong-Hong Kong -> 2 -> ['Hong Kong' nan]\n",
      "London-United Kingdom -> 2 -> ['Greater London;London' 'London']\n",
      "Moville-United Kingdom -> 2 -> [nan 'Belfast']\n"
     ]
    }
   ],
   "source": [
    "for city_country, df in df_by_city_country:\n",
    "    df_ecosystem_uniques = df['Ecosystem'].unique()\n",
    "    count_uniques = len(df_ecosystem_uniques)\n",
    "    df = df.loc[:, ['city', 'CountryName', 'Ecosystem']]\n",
    "\n",
    "    if count_uniques > 1:\n",
    "        print(f'{city_country[0]}-{city_country[1]} -> {count_uniques} -> {df_ecosystem_uniques}')"
   ],
   "metadata": {
    "collapsed": false,
    "ExecuteTime": {
     "end_time": "2023-06-25T02:36:30.318530600Z",
     "start_time": "2023-06-25T02:35:24.504221900Z"
    }
   }
  },
  {
   "cell_type": "code",
   "execution_count": 8,
   "outputs": [
    {
     "name": "stdout",
     "output_type": "stream",
     "text": [
      "city           178188\n",
      "CountryName       222\n",
      "dtype: int64\n"
     ]
    }
   ],
   "source": [
    "unique_city_country_combinations = df_raw_patents[['city', 'CountryName']].nunique()\n",
    "print(unique_city_country_combinations)"
   ],
   "metadata": {
    "collapsed": false,
    "ExecuteTime": {
     "end_time": "2023-06-25T02:36:31.028958200Z",
     "start_time": "2023-06-25T02:36:30.318530600Z"
    }
   }
  },
  {
   "cell_type": "code",
   "execution_count": 9,
   "outputs": [
    {
     "data": {
      "text/plain": "           patent_id name_first name_last city country  \\\n7669     20150354799     Stacey      West  NaN      US   \n62347    20120179897       Neil  Campbell  NaN      US   \n63629    20120304381      Peter   PATEROK  NaN      US   \n68270    20130302015    Roberto      Dini  NaN      IT   \n88030    20160119376     Andrea  Scozzaro  NaN      IT   \n...              ...        ...       ...  ...     ...   \n9758590  20150233075    Michael    Maggio  NaN      US   \n9814462  20210323066       Paul  Olubummo  NaN      US   \n9816589  20120153144   Benjamin  McMorran  NaN      US   \n9816789  20120191149       Gary   Freeman  NaN      US   \n9824035  20140045602      Darin   DINGMAN  NaN      US   \n\n                       grant_date  grant_year                  app_date  \\\n7669     2015-12-10T00:00:00.000Z        2015  2015-06-15T00:00:00.000Z   \n62347    2012-07-12T00:00:00.000Z        2012  2012-01-06T00:00:00.000Z   \n63629    2012-12-06T00:00:00.000Z        2012  2012-07-25T00:00:00.000Z   \n68270    2013-11-14T00:00:00.000Z        2013  2012-02-13T00:00:00.000Z   \n88030    2016-04-28T00:00:00.000Z        2016  2014-06-17T00:00:00.000Z   \n...                           ...         ...                       ...   \n9758590  2015-08-20T00:00:00.000Z        2015  2014-02-19T00:00:00.000Z   \n9814462  2021-10-21T00:00:00.000Z        2021  2018-06-05T00:00:00.000Z   \n9816589  2012-06-21T00:00:00.000Z        2012  2012-02-14T00:00:00.000Z   \n9816789  2012-07-26T00:00:00.000Z        2012  2012-04-03T00:00:00.000Z   \n9824035  2014-02-13T00:00:00.000Z        2014  2012-08-09T00:00:00.000Z   \n\n         app_year  class_distinct_count    class_concat  \\\n7669         2015                   3.0  F21L,H05B,F21V   \n62347        2012                   1.0            G06F   \n63629        2012                   1.0            A47C   \n68270        2012                   1.0            H04N   \n88030        2014                   1.0            H04L   \n...           ...                   ...             ...   \n9758590      2014                   1.0            E02D   \n9814462      2018                   2.0       B22F,B33Y   \n9816589      2012                   1.0            H01J   \n9816789      2012                   2.0       A61H,A61N   \n9824035      2012                   1.0            A63B   \n\n         class_IPC_distinct_count class_IPC_concat    CountryName  \\\n7669                          2.0        F21V,H05B  United States   \n62347                         1.0             G06F  United States   \n63629                         1.0             A47C  United States   \n68270                         1.0             H04N          Italy   \n88030                         1.0             H04L          Italy   \n...                           ...              ...            ...   \n9758590                       1.0             E02D  United States   \n9814462                       2.0        B22F,B33Y  United States   \n9816589                       1.0             H01J  United States   \n9816789                       2.0        A61H,A61N  United States   \n9824035                       1.0             A63B  United States   \n\n           CityCountry Ecosystem GoogleCity  \n7669     United States       NaN        NaN  \n62347    United States       NaN        NaN  \n63629    United States       NaN        NaN  \n68270        NoneItaly     Turin        NaN  \n88030        NoneItaly     Turin        NaN  \n...                ...       ...        ...  \n9758590  United States       NaN        NaN  \n9814462  United States       NaN        NaN  \n9816589  United States       NaN        NaN  \n9816789  United States       NaN        NaN  \n9824035  United States       NaN        NaN  \n\n[600 rows x 17 columns]",
      "text/html": "<div>\n<style scoped>\n    .dataframe tbody tr th:only-of-type {\n        vertical-align: middle;\n    }\n\n    .dataframe tbody tr th {\n        vertical-align: top;\n    }\n\n    .dataframe thead th {\n        text-align: right;\n    }\n</style>\n<table border=\"1\" class=\"dataframe\">\n  <thead>\n    <tr style=\"text-align: right;\">\n      <th></th>\n      <th>patent_id</th>\n      <th>name_first</th>\n      <th>name_last</th>\n      <th>city</th>\n      <th>country</th>\n      <th>grant_date</th>\n      <th>grant_year</th>\n      <th>app_date</th>\n      <th>app_year</th>\n      <th>class_distinct_count</th>\n      <th>class_concat</th>\n      <th>class_IPC_distinct_count</th>\n      <th>class_IPC_concat</th>\n      <th>CountryName</th>\n      <th>CityCountry</th>\n      <th>Ecosystem</th>\n      <th>GoogleCity</th>\n    </tr>\n  </thead>\n  <tbody>\n    <tr>\n      <th>7669</th>\n      <td>20150354799</td>\n      <td>Stacey</td>\n      <td>West</td>\n      <td>NaN</td>\n      <td>US</td>\n      <td>2015-12-10T00:00:00.000Z</td>\n      <td>2015</td>\n      <td>2015-06-15T00:00:00.000Z</td>\n      <td>2015</td>\n      <td>3.0</td>\n      <td>F21L,H05B,F21V</td>\n      <td>2.0</td>\n      <td>F21V,H05B</td>\n      <td>United States</td>\n      <td>United States</td>\n      <td>NaN</td>\n      <td>NaN</td>\n    </tr>\n    <tr>\n      <th>62347</th>\n      <td>20120179897</td>\n      <td>Neil</td>\n      <td>Campbell</td>\n      <td>NaN</td>\n      <td>US</td>\n      <td>2012-07-12T00:00:00.000Z</td>\n      <td>2012</td>\n      <td>2012-01-06T00:00:00.000Z</td>\n      <td>2012</td>\n      <td>1.0</td>\n      <td>G06F</td>\n      <td>1.0</td>\n      <td>G06F</td>\n      <td>United States</td>\n      <td>United States</td>\n      <td>NaN</td>\n      <td>NaN</td>\n    </tr>\n    <tr>\n      <th>63629</th>\n      <td>20120304381</td>\n      <td>Peter</td>\n      <td>PATEROK</td>\n      <td>NaN</td>\n      <td>US</td>\n      <td>2012-12-06T00:00:00.000Z</td>\n      <td>2012</td>\n      <td>2012-07-25T00:00:00.000Z</td>\n      <td>2012</td>\n      <td>1.0</td>\n      <td>A47C</td>\n      <td>1.0</td>\n      <td>A47C</td>\n      <td>United States</td>\n      <td>United States</td>\n      <td>NaN</td>\n      <td>NaN</td>\n    </tr>\n    <tr>\n      <th>68270</th>\n      <td>20130302015</td>\n      <td>Roberto</td>\n      <td>Dini</td>\n      <td>NaN</td>\n      <td>IT</td>\n      <td>2013-11-14T00:00:00.000Z</td>\n      <td>2013</td>\n      <td>2012-02-13T00:00:00.000Z</td>\n      <td>2012</td>\n      <td>1.0</td>\n      <td>H04N</td>\n      <td>1.0</td>\n      <td>H04N</td>\n      <td>Italy</td>\n      <td>NoneItaly</td>\n      <td>Turin</td>\n      <td>NaN</td>\n    </tr>\n    <tr>\n      <th>88030</th>\n      <td>20160119376</td>\n      <td>Andrea</td>\n      <td>Scozzaro</td>\n      <td>NaN</td>\n      <td>IT</td>\n      <td>2016-04-28T00:00:00.000Z</td>\n      <td>2016</td>\n      <td>2014-06-17T00:00:00.000Z</td>\n      <td>2014</td>\n      <td>1.0</td>\n      <td>H04L</td>\n      <td>1.0</td>\n      <td>H04L</td>\n      <td>Italy</td>\n      <td>NoneItaly</td>\n      <td>Turin</td>\n      <td>NaN</td>\n    </tr>\n    <tr>\n      <th>...</th>\n      <td>...</td>\n      <td>...</td>\n      <td>...</td>\n      <td>...</td>\n      <td>...</td>\n      <td>...</td>\n      <td>...</td>\n      <td>...</td>\n      <td>...</td>\n      <td>...</td>\n      <td>...</td>\n      <td>...</td>\n      <td>...</td>\n      <td>...</td>\n      <td>...</td>\n      <td>...</td>\n      <td>...</td>\n    </tr>\n    <tr>\n      <th>9758590</th>\n      <td>20150233075</td>\n      <td>Michael</td>\n      <td>Maggio</td>\n      <td>NaN</td>\n      <td>US</td>\n      <td>2015-08-20T00:00:00.000Z</td>\n      <td>2015</td>\n      <td>2014-02-19T00:00:00.000Z</td>\n      <td>2014</td>\n      <td>1.0</td>\n      <td>E02D</td>\n      <td>1.0</td>\n      <td>E02D</td>\n      <td>United States</td>\n      <td>United States</td>\n      <td>NaN</td>\n      <td>NaN</td>\n    </tr>\n    <tr>\n      <th>9814462</th>\n      <td>20210323066</td>\n      <td>Paul</td>\n      <td>Olubummo</td>\n      <td>NaN</td>\n      <td>US</td>\n      <td>2021-10-21T00:00:00.000Z</td>\n      <td>2021</td>\n      <td>2018-06-05T00:00:00.000Z</td>\n      <td>2018</td>\n      <td>2.0</td>\n      <td>B22F,B33Y</td>\n      <td>2.0</td>\n      <td>B22F,B33Y</td>\n      <td>United States</td>\n      <td>United States</td>\n      <td>NaN</td>\n      <td>NaN</td>\n    </tr>\n    <tr>\n      <th>9816589</th>\n      <td>20120153144</td>\n      <td>Benjamin</td>\n      <td>McMorran</td>\n      <td>NaN</td>\n      <td>US</td>\n      <td>2012-06-21T00:00:00.000Z</td>\n      <td>2012</td>\n      <td>2012-02-14T00:00:00.000Z</td>\n      <td>2012</td>\n      <td>1.0</td>\n      <td>H01J</td>\n      <td>1.0</td>\n      <td>H01J</td>\n      <td>United States</td>\n      <td>United States</td>\n      <td>NaN</td>\n      <td>NaN</td>\n    </tr>\n    <tr>\n      <th>9816789</th>\n      <td>20120191149</td>\n      <td>Gary</td>\n      <td>Freeman</td>\n      <td>NaN</td>\n      <td>US</td>\n      <td>2012-07-26T00:00:00.000Z</td>\n      <td>2012</td>\n      <td>2012-04-03T00:00:00.000Z</td>\n      <td>2012</td>\n      <td>2.0</td>\n      <td>A61H,A61N</td>\n      <td>2.0</td>\n      <td>A61H,A61N</td>\n      <td>United States</td>\n      <td>United States</td>\n      <td>NaN</td>\n      <td>NaN</td>\n    </tr>\n    <tr>\n      <th>9824035</th>\n      <td>20140045602</td>\n      <td>Darin</td>\n      <td>DINGMAN</td>\n      <td>NaN</td>\n      <td>US</td>\n      <td>2014-02-13T00:00:00.000Z</td>\n      <td>2014</td>\n      <td>2012-08-09T00:00:00.000Z</td>\n      <td>2012</td>\n      <td>1.0</td>\n      <td>A63B</td>\n      <td>1.0</td>\n      <td>A63B</td>\n      <td>United States</td>\n      <td>United States</td>\n      <td>NaN</td>\n      <td>NaN</td>\n    </tr>\n  </tbody>\n</table>\n<p>600 rows × 17 columns</p>\n</div>"
     },
     "execution_count": 9,
     "metadata": {},
     "output_type": "execute_result"
    }
   ],
   "source": [
    "df_city_null = df_raw_patents[df_raw_patents['city'].isnull()]\n",
    "df_city_null"
   ],
   "metadata": {
    "collapsed": false,
    "ExecuteTime": {
     "end_time": "2023-06-25T02:36:31.219957700Z",
     "start_time": "2023-06-25T02:36:31.029958800Z"
    }
   }
  },
  {
   "cell_type": "code",
   "execution_count": 10,
   "outputs": [
    {
     "data": {
      "text/plain": "           patent_id name_first name_last city country  \\\n1930015  20160126822       Mark     SNOOK  NaN      GB   \n1930016  20160126822     Robert   LEEDHAM  NaN      GB   \n1930017  20160126822      Robin      LYLE  NaN      GB   \n2753162  20130307942      Paolo   D'Amato  NaN      IT   \n2753163  20130307942    Roberto      Dini  NaN      IT   \n2753164  20130307942    Saverio     Celia  NaN      IT   \n8525695  20140275509  Christian   Espinel  NaN      ES   \n8525696  20140275509      Jesús    Fuente  NaN      ES   \n8525697  20140275509      Pablo   Higuera  NaN      ES   \n\n                       grant_date  grant_year                  app_date  \\\n1930015  2016-05-05T00:00:00.000Z        2016  2014-06-17T00:00:00.000Z   \n1930016  2016-05-05T00:00:00.000Z        2016  2014-06-17T00:00:00.000Z   \n1930017  2016-05-05T00:00:00.000Z        2016  2014-06-17T00:00:00.000Z   \n2753162  2013-11-21T00:00:00.000Z        2013  2012-01-10T00:00:00.000Z   \n2753163  2013-11-21T00:00:00.000Z        2013  2012-01-10T00:00:00.000Z   \n2753164  2013-11-21T00:00:00.000Z        2013  2012-01-10T00:00:00.000Z   \n8525695  2014-09-18T00:00:00.000Z        2014  2012-05-04T00:00:00.000Z   \n8525696  2014-09-18T00:00:00.000Z        2014  2012-05-04T00:00:00.000Z   \n8525697  2014-09-18T00:00:00.000Z        2014  2012-05-04T00:00:00.000Z   \n\n         app_year  class_distinct_count class_concat  \\\n1930015      2014                   2.0    H03K,H02M   \n1930016      2014                   2.0    H03K,H02M   \n1930017      2014                   2.0    H03K,H02M   \n2753162      2012                   1.0         H04N   \n2753163      2012                   1.0         H04N   \n2753164      2012                   1.0         H04N   \n8525695      2012                   1.0         A61K   \n8525696      2012                   1.0         A61K   \n8525697      2012                   1.0         A61K   \n\n         class_IPC_distinct_count class_IPC_concat     CountryName  \\\n1930015                       2.0        H02M,H03K  United Kingdom   \n1930016                       2.0        H02M,H03K  United Kingdom   \n1930017                       2.0        H02M,H03K  United Kingdom   \n2753162                       1.0             H04N           Italy   \n2753163                       1.0             H04N           Italy   \n2753164                       1.0             H04N           Italy   \n8525695                       1.0             A61K           Spain   \n8525696                       1.0             A61K           Spain   \n8525697                       1.0             A61K           Spain   \n\n               CityCountry Ecosystem GoogleCity  \n1930015  N/AUnited Kingdom       NaN        NaN  \n1930016  N/AUnited Kingdom       NaN        NaN  \n1930017  N/AUnited Kingdom       NaN        NaN  \n2753162          NoneItaly     Turin        NaN  \n2753163          NoneItaly     Turin        NaN  \n2753164          NoneItaly     Turin        NaN  \n8525695           n/aSpain       NaN        NaN  \n8525696           n/aSpain       NaN        NaN  \n8525697           n/aSpain       NaN        NaN  ",
      "text/html": "<div>\n<style scoped>\n    .dataframe tbody tr th:only-of-type {\n        vertical-align: middle;\n    }\n\n    .dataframe tbody tr th {\n        vertical-align: top;\n    }\n\n    .dataframe thead th {\n        text-align: right;\n    }\n</style>\n<table border=\"1\" class=\"dataframe\">\n  <thead>\n    <tr style=\"text-align: right;\">\n      <th></th>\n      <th>patent_id</th>\n      <th>name_first</th>\n      <th>name_last</th>\n      <th>city</th>\n      <th>country</th>\n      <th>grant_date</th>\n      <th>grant_year</th>\n      <th>app_date</th>\n      <th>app_year</th>\n      <th>class_distinct_count</th>\n      <th>class_concat</th>\n      <th>class_IPC_distinct_count</th>\n      <th>class_IPC_concat</th>\n      <th>CountryName</th>\n      <th>CityCountry</th>\n      <th>Ecosystem</th>\n      <th>GoogleCity</th>\n    </tr>\n  </thead>\n  <tbody>\n    <tr>\n      <th>1930015</th>\n      <td>20160126822</td>\n      <td>Mark</td>\n      <td>SNOOK</td>\n      <td>NaN</td>\n      <td>GB</td>\n      <td>2016-05-05T00:00:00.000Z</td>\n      <td>2016</td>\n      <td>2014-06-17T00:00:00.000Z</td>\n      <td>2014</td>\n      <td>2.0</td>\n      <td>H03K,H02M</td>\n      <td>2.0</td>\n      <td>H02M,H03K</td>\n      <td>United Kingdom</td>\n      <td>N/AUnited Kingdom</td>\n      <td>NaN</td>\n      <td>NaN</td>\n    </tr>\n    <tr>\n      <th>1930016</th>\n      <td>20160126822</td>\n      <td>Robert</td>\n      <td>LEEDHAM</td>\n      <td>NaN</td>\n      <td>GB</td>\n      <td>2016-05-05T00:00:00.000Z</td>\n      <td>2016</td>\n      <td>2014-06-17T00:00:00.000Z</td>\n      <td>2014</td>\n      <td>2.0</td>\n      <td>H03K,H02M</td>\n      <td>2.0</td>\n      <td>H02M,H03K</td>\n      <td>United Kingdom</td>\n      <td>N/AUnited Kingdom</td>\n      <td>NaN</td>\n      <td>NaN</td>\n    </tr>\n    <tr>\n      <th>1930017</th>\n      <td>20160126822</td>\n      <td>Robin</td>\n      <td>LYLE</td>\n      <td>NaN</td>\n      <td>GB</td>\n      <td>2016-05-05T00:00:00.000Z</td>\n      <td>2016</td>\n      <td>2014-06-17T00:00:00.000Z</td>\n      <td>2014</td>\n      <td>2.0</td>\n      <td>H03K,H02M</td>\n      <td>2.0</td>\n      <td>H02M,H03K</td>\n      <td>United Kingdom</td>\n      <td>N/AUnited Kingdom</td>\n      <td>NaN</td>\n      <td>NaN</td>\n    </tr>\n    <tr>\n      <th>2753162</th>\n      <td>20130307942</td>\n      <td>Paolo</td>\n      <td>D'Amato</td>\n      <td>NaN</td>\n      <td>IT</td>\n      <td>2013-11-21T00:00:00.000Z</td>\n      <td>2013</td>\n      <td>2012-01-10T00:00:00.000Z</td>\n      <td>2012</td>\n      <td>1.0</td>\n      <td>H04N</td>\n      <td>1.0</td>\n      <td>H04N</td>\n      <td>Italy</td>\n      <td>NoneItaly</td>\n      <td>Turin</td>\n      <td>NaN</td>\n    </tr>\n    <tr>\n      <th>2753163</th>\n      <td>20130307942</td>\n      <td>Roberto</td>\n      <td>Dini</td>\n      <td>NaN</td>\n      <td>IT</td>\n      <td>2013-11-21T00:00:00.000Z</td>\n      <td>2013</td>\n      <td>2012-01-10T00:00:00.000Z</td>\n      <td>2012</td>\n      <td>1.0</td>\n      <td>H04N</td>\n      <td>1.0</td>\n      <td>H04N</td>\n      <td>Italy</td>\n      <td>NoneItaly</td>\n      <td>Turin</td>\n      <td>NaN</td>\n    </tr>\n    <tr>\n      <th>2753164</th>\n      <td>20130307942</td>\n      <td>Saverio</td>\n      <td>Celia</td>\n      <td>NaN</td>\n      <td>IT</td>\n      <td>2013-11-21T00:00:00.000Z</td>\n      <td>2013</td>\n      <td>2012-01-10T00:00:00.000Z</td>\n      <td>2012</td>\n      <td>1.0</td>\n      <td>H04N</td>\n      <td>1.0</td>\n      <td>H04N</td>\n      <td>Italy</td>\n      <td>NoneItaly</td>\n      <td>Turin</td>\n      <td>NaN</td>\n    </tr>\n    <tr>\n      <th>8525695</th>\n      <td>20140275509</td>\n      <td>Christian</td>\n      <td>Espinel</td>\n      <td>NaN</td>\n      <td>ES</td>\n      <td>2014-09-18T00:00:00.000Z</td>\n      <td>2014</td>\n      <td>2012-05-04T00:00:00.000Z</td>\n      <td>2012</td>\n      <td>1.0</td>\n      <td>A61K</td>\n      <td>1.0</td>\n      <td>A61K</td>\n      <td>Spain</td>\n      <td>n/aSpain</td>\n      <td>NaN</td>\n      <td>NaN</td>\n    </tr>\n    <tr>\n      <th>8525696</th>\n      <td>20140275509</td>\n      <td>Jesús</td>\n      <td>Fuente</td>\n      <td>NaN</td>\n      <td>ES</td>\n      <td>2014-09-18T00:00:00.000Z</td>\n      <td>2014</td>\n      <td>2012-05-04T00:00:00.000Z</td>\n      <td>2012</td>\n      <td>1.0</td>\n      <td>A61K</td>\n      <td>1.0</td>\n      <td>A61K</td>\n      <td>Spain</td>\n      <td>n/aSpain</td>\n      <td>NaN</td>\n      <td>NaN</td>\n    </tr>\n    <tr>\n      <th>8525697</th>\n      <td>20140275509</td>\n      <td>Pablo</td>\n      <td>Higuera</td>\n      <td>NaN</td>\n      <td>ES</td>\n      <td>2014-09-18T00:00:00.000Z</td>\n      <td>2014</td>\n      <td>2012-05-04T00:00:00.000Z</td>\n      <td>2012</td>\n      <td>1.0</td>\n      <td>A61K</td>\n      <td>1.0</td>\n      <td>A61K</td>\n      <td>Spain</td>\n      <td>n/aSpain</td>\n      <td>NaN</td>\n      <td>NaN</td>\n    </tr>\n  </tbody>\n</table>\n</div>"
     },
     "execution_count": 10,
     "metadata": {},
     "output_type": "execute_result"
    }
   ],
   "source": [
    "df_city_duplicated = df_city_null[df_city_null.duplicated('patent_id', keep=False)]\n",
    "df_city_duplicated"
   ],
   "metadata": {
    "collapsed": false,
    "ExecuteTime": {
     "end_time": "2023-06-25T02:36:31.244957600Z",
     "start_time": "2023-06-25T02:36:31.221958400Z"
    }
   }
  },
  {
   "cell_type": "code",
   "execution_count": 11,
   "outputs": [
    {
     "data": {
      "text/plain": "           patent_id name_first  name_last           city country  \\\n210816   20210219676     Reuven     Paikin       Windhoek     NaN   \n389191   20150271058   Hiromasa   YAMAUCHI         Usakos     NaN   \n848318   20150201396   Hiromasa   Yamauchi         Usakos     NaN   \n1224661  20140157280   Hiromasa   Yamauchi         Usakos     NaN   \n1300888  20140129811   Hiromasa   Yamauchi         Usakos     NaN   \n1306335  20140380333   Hiromasa   Yamauchi         Usakos     NaN   \n1685195  20140178206      Frank  Kernstock       Windhoek     NaN   \n1770330  20150244603   Hiromasa   YAMAUCHI         Usakos     NaN   \n2000238  20150229705   Hiromasa   Yamauchi         Usakos     NaN   \n2074256  20150137995   Hiromasa   YAMAUCHI         Usakos     NaN   \n2305126  20150131486   Hiromasa   YAMAUCHI         Usakos     NaN   \n3372940  20140149991   Hiromasa   Yamauchi         Usakos     NaN   \n3382272  20150201362   Hiromasa   Yamauchi         Usakos     NaN   \n3529833  20140237150   Hiromasa   YAMAUCHI         Usakos     NaN   \n3689809  20150172791   Hiromasa   YAMAUCHI         Usakos     NaN   \n3985548  20140122632   Hiromasa   YAMAUCHI         Usakos     NaN   \n4376193  20150012777   Hiromasa   Yamauchi         Usakos     NaN   \n4612331  20150289192   Hiromasa   YAMAUCHI         Usakos     NaN   \n4678168  20140149691   Hiromasa   Yamauchi         Usakos     NaN   \n4758527  20140310723   Hiromasa   Yamauchi         Usakos     NaN   \n5293071  20140143788   Hiromasa   Yamauchi         Usakos     NaN   \n5378011  20150153439   Hiromasa   YAMAUCHI         Usakos     NaN   \n5448189  20140241277   Hiromasa   YAMAUCHI         Usakos     NaN   \n5829483  20140089377   Hiromasa   YAMAUCHI         Usakos     NaN   \n5829867  20140108758   Hiromasa   Yamauchi         Usakos     NaN   \n5846787  20160113443    Anthony      Jager       Rehoboth     NaN   \n5846788  20160113443       Sean      Jager       Rehoboth     NaN   \n6687242  20150177361   Hiromasa   Yamauchi         Usakos     NaN   \n7033164  20190388165  Kenichiro   NAGASAKA          Tokyo     NaN   \n7052116  20210361040     Reuven     Paikin       Windhoek     NaN   \n7062445  20140143790   Hiromasa   YAMAUCHI         Usakos     NaN   \n7113064  20200131743  Cornelius   Brockman     Swakopmund     NaN   \n7752518  20140115601   Hiromasa   YAMAUCHI         Usakos     NaN   \n7760753  20150131439   Hiromasa   Yamauchi         Usakos     NaN   \n7762737  20150227400   Hiromasa   YAMAUCHI         Usakos     NaN   \n7829869  20140164468   Hiromasa   Yamauchi         Usakos     NaN   \n7838496  20150181528   Hiromasa   YAMAUCHI         Usakos     NaN   \n7845318  20160114975       Paul      Zwaan       Auckland     NaN   \n7856825  20170240895    Michael  Greenberg  NA (deceased)     NaN   \n8291433  20140123154   Hiromasa   Yamauchi         Usakos     NaN   \n8508369  20210212421     Reuven     PAIKIN       Windhoek     NaN   \n8836175  20150019837   Hiromasa   Yamauchi         Usakos     NaN   \n8982898  20140092747   Hiromasa   YAMAUCHI         Usakos     NaN   \n9060640  20140145670        Jan     Wanner        Bonaire     NaN   \n9122350  20210212422     Reuven     PAIKIN       Windhoek     NaN   \n9594776  20140095573   Hiromasa   Yamauchi         Usakos     NaN   \n9596775  20140189185   Hiromasa   Yamauchi         Usakos     NaN   \n\n                       grant_date  grant_year                  app_date  \\\n210816   2021-07-22T00:00:00.000Z        2021  2019-05-08T00:00:00.000Z   \n389191   2015-09-24T00:00:00.000Z        2015  2015-06-05T00:00:00.000Z   \n848318   2015-07-16T00:00:00.000Z        2015  2015-03-26T00:00:00.000Z   \n1224661  2014-06-05T00:00:00.000Z        2014  2014-02-07T00:00:00.000Z   \n1300888  2014-05-08T00:00:00.000Z        2014  2014-01-09T00:00:00.000Z   \n1306335  2014-12-25T00:00:00.000Z        2014  2014-09-04T00:00:00.000Z   \n1685195  2014-06-26T00:00:00.000Z        2014  2012-07-20T00:00:00.000Z   \n1770330  2015-08-27T00:00:00.000Z        2015  2015-05-08T00:00:00.000Z   \n2000238  2015-08-13T00:00:00.000Z        2015  2015-03-26T00:00:00.000Z   \n2074256  2015-05-21T00:00:00.000Z        2015  2015-01-23T00:00:00.000Z   \n2305126  2015-05-14T00:00:00.000Z        2015  2015-01-23T00:00:00.000Z   \n3372940  2014-05-29T00:00:00.000Z        2014  2014-01-31T00:00:00.000Z   \n3382272  2015-07-16T00:00:00.000Z        2015  2015-03-25T00:00:00.000Z   \n3529833  2014-08-21T00:00:00.000Z        2014  2014-04-30T00:00:00.000Z   \n3689809  2015-06-18T00:00:00.000Z        2015  2015-02-26T00:00:00.000Z   \n3985548  2014-05-01T00:00:00.000Z        2014  2014-01-06T00:00:00.000Z   \n4376193  2015-01-08T00:00:00.000Z        2015  2014-09-25T00:00:00.000Z   \n4612331  2015-10-08T00:00:00.000Z        2015  2015-06-22T00:00:00.000Z   \n4678168  2014-05-29T00:00:00.000Z        2014  2014-02-04T00:00:00.000Z   \n4758527  2014-10-16T00:00:00.000Z        2014  2014-06-26T00:00:00.000Z   \n5293071  2014-05-22T00:00:00.000Z        2014  2014-01-28T00:00:00.000Z   \n5378011  2015-06-04T00:00:00.000Z        2015  2015-02-11T00:00:00.000Z   \n5448189  2014-08-28T00:00:00.000Z        2014  2014-04-09T00:00:00.000Z   \n5829483  2014-03-27T00:00:00.000Z        2014  2013-11-26T00:00:00.000Z   \n5829867  2014-04-17T00:00:00.000Z        2014  2013-12-19T00:00:00.000Z   \n5846787  2016-04-28T00:00:00.000Z        2016  2015-12-31T00:00:00.000Z   \n5846788  2016-04-28T00:00:00.000Z        2016  2015-12-31T00:00:00.000Z   \n6687242  2015-06-25T00:00:00.000Z        2015  2015-03-03T00:00:00.000Z   \n7033164  2019-12-26T00:00:00.000Z        2019  2018-02-02T00:00:00.000Z   \n7052116  2021-11-25T00:00:00.000Z        2021  2021-05-19T00:00:00.000Z   \n7062445  2014-05-22T00:00:00.000Z        2014  2014-01-27T00:00:00.000Z   \n7113064  2020-04-30T00:00:00.000Z        2020  2019-10-31T00:00:00.000Z   \n7752518  2014-04-24T00:00:00.000Z        2014  2013-12-20T00:00:00.000Z   \n7760753  2015-05-14T00:00:00.000Z        2015  2015-01-19T00:00:00.000Z   \n7762737  2015-08-13T00:00:00.000Z        2015  2015-03-26T00:00:00.000Z   \n7829869  2014-06-12T00:00:00.000Z        2014  2013-11-26T00:00:00.000Z   \n7838496  2015-06-25T00:00:00.000Z        2015  2015-02-27T00:00:00.000Z   \n7845318  2016-04-28T00:00:00.000Z        2016  2014-04-06T00:00:00.000Z   \n7856825  2017-08-24T00:00:00.000Z        2017  2013-04-17T00:00:00.000Z   \n8291433  2014-05-01T00:00:00.000Z        2014  2014-01-06T00:00:00.000Z   \n8508369  2021-07-15T00:00:00.000Z        2021  2021-01-15T00:00:00.000Z   \n8836175  2015-01-15T00:00:00.000Z        2015  2014-09-29T00:00:00.000Z   \n8982898  2014-04-03T00:00:00.000Z        2014  2013-12-04T00:00:00.000Z   \n9060640  2014-05-29T00:00:00.000Z        2014  2013-11-27T00:00:00.000Z   \n9122350  2021-07-15T00:00:00.000Z        2021  2021-01-15T00:00:00.000Z   \n9594776  2014-04-03T00:00:00.000Z        2014  2013-12-03T00:00:00.000Z   \n9596775  2014-07-03T00:00:00.000Z        2014  2014-03-06T00:00:00.000Z   \n\n         app_year  class_distinct_count    class_concat  \\\n210816       2019                   1.0            A44C   \n389191       2015                   2.0       H04W,H04L   \n848318       2015                   1.0            H04W   \n1224661      2014                   1.0            G06F   \n1300888      2014                   1.0            G06F   \n1306335      2014                   1.0            G06F   \n1685195      2012                   1.0            F01D   \n1770330      2015                   1.0            H04L   \n2000238      2015                   2.0       H04W,H04L   \n2074256      2015                   2.0       H04Q,H04W   \n2305126      2015                   2.0       H04L,H04W   \n3372940      2014                   1.0            G06F   \n3382272      2015                   2.0       H04B,H04W   \n3529833      2014                   1.0            G06F   \n3689809      2015                   2.0       H04Q,H04W   \n3985548      2014                   1.0            H04L   \n4376193      2014                   1.0            G06F   \n4612331      2015                   1.0            H04W   \n4678168      2014                   1.0            G06F   \n4758527      2014                   1.0            G06F   \n5293071      2014                   1.0            G06F   \n5378011      2015                   3.0  H04L,H04W,G01S   \n5448189      2014                   1.0            H04W   \n5829483      2013                   1.0            H04L   \n5829867      2013                   1.0            G06F   \n5846787      2015                   1.0            A47J   \n5846788      2015                   1.0            A47J   \n6687242      2015                   2.0       G01S,H04W   \n7033164      2018                   1.0            A61B   \n7052116      2021                   1.0            A44C   \n7062445      2014                   1.0            G06F   \n7113064      2019                   1.0            E02F   \n7752518      2013                   1.0            G06F   \n7760753      2015                   1.0            H04L   \n7762737      2015                   1.0            G06F   \n7829869      2013                   1.0            H04L   \n7838496      2015                   1.0            H04W   \n7845318      2014                   2.0       B65B,B65F   \n7856825      2013                   1.0            C12N   \n8291433      2014                   1.0            G06F   \n8508369      2021                   1.0            A44C   \n8836175      2014                   1.0            G06F   \n8982898      2013                   1.0            H04L   \n9060640      2013                   2.0       B60L,H02J   \n9122350      2021                   1.0            A44C   \n9594776      2013                   1.0            H04L   \n9596775      2014                   1.0            G06F   \n\n         class_IPC_distinct_count class_IPC_concat CountryName    CityCountry  \\\n210816                        1.0             A44C         NaN       Windhoek   \n389191                        2.0        H04L,H04W         NaN         Usakos   \n848318                        1.0             H04W         NaN         Usakos   \n1224661                       1.0             G06F         NaN         Usakos   \n1300888                       1.0             G06F         NaN         Usakos   \n1306335                       1.0             G06F         NaN         Usakos   \n1685195                       1.0             F01D         NaN       Windhoek   \n1770330                       1.0             H04L         NaN         Usakos   \n2000238                       2.0        H04L,H04W         NaN         Usakos   \n2074256                       2.0        H04Q,H04W         NaN         Usakos   \n2305126                       2.0        H04L,H04W         NaN         Usakos   \n3372940                       1.0             G06F         NaN         Usakos   \n3382272                       2.0        H04B,H04W         NaN         Usakos   \n3529833                       1.0             G06F         NaN         Usakos   \n3689809                       2.0        H04Q,H04W         NaN         Usakos   \n3985548                       1.0             H04L         NaN         Usakos   \n4376193                       1.0             G06F         NaN         Usakos   \n4612331                       1.0             H04W         NaN         Usakos   \n4678168                       1.0             G06F         NaN         Usakos   \n4758527                       1.0             G06F         NaN         Usakos   \n5293071                       1.0             G06F         NaN         Usakos   \n5378011                       3.0   G01S,H04L,H04W         NaN         Usakos   \n5448189                       1.0             H04W         NaN         Usakos   \n5829483                       1.0             H04L         NaN         Usakos   \n5829867                       1.0             G06F         NaN         Usakos   \n5846787                       1.0             A47J         NaN       Rehoboth   \n5846788                       1.0             A47J         NaN       Rehoboth   \n6687242                       2.0        G01S,H04W         NaN         Usakos   \n7033164                       1.0             A61B         NaN          Tokyo   \n7052116                       1.0             A44C         NaN       Windhoek   \n7062445                       1.0             G06F         NaN         Usakos   \n7113064                       1.0             E02F         NaN     Swakopmund   \n7752518                       1.0             G06F         NaN         Usakos   \n7760753                       1.0             H04L         NaN         Usakos   \n7762737                       1.0             G06F         NaN         Usakos   \n7829869                       1.0             H04L         NaN         Usakos   \n7838496                       1.0             H04W         NaN         Usakos   \n7845318                       2.0        B65B,B65F         NaN       Auckland   \n7856825                       1.0             C12N         NaN  NA (deceased)   \n8291433                       1.0             G06F         NaN         Usakos   \n8508369                       1.0             A44C         NaN       Windhoek   \n8836175                       1.0             G06F         NaN         Usakos   \n8982898                       1.0             H04L         NaN         Usakos   \n9060640                       2.0        B60L,H02J         NaN        Bonaire   \n9122350                       1.0             A44C         NaN       Windhoek   \n9594776                       1.0             H04L         NaN         Usakos   \n9596775                       1.0             G06F         NaN         Usakos   \n\n           Ecosystem      GoogleCity  \n210816           NaN        Windhoek  \n389191           NaN             NaN  \n848318           NaN             NaN  \n1224661          NaN             NaN  \n1300888          NaN             NaN  \n1306335          NaN             NaN  \n1685195          NaN        Windhoek  \n1770330          NaN             NaN  \n2000238          NaN             NaN  \n2074256          NaN             NaN  \n2305126          NaN             NaN  \n3372940          NaN             NaN  \n3382272          NaN             NaN  \n3529833          NaN             NaN  \n3689809          NaN             NaN  \n3985548          NaN             NaN  \n4376193          NaN             NaN  \n4612331          NaN             NaN  \n4678168          NaN             NaN  \n4758527          NaN             NaN  \n5293071          NaN             NaN  \n5378011          NaN             NaN  \n5448189          NaN             NaN  \n5829483          NaN             NaN  \n5829867          NaN             NaN  \n5846787          NaN  Rehoboth Beach  \n5846788          NaN  Rehoboth Beach  \n6687242          NaN             NaN  \n7033164        Tokyo             NaN  \n7052116          NaN        Windhoek  \n7062445          NaN             NaN  \n7113064          NaN             NaN  \n7752518          NaN             NaN  \n7760753          NaN             NaN  \n7762737          NaN             NaN  \n7829869          NaN             NaN  \n7838496          NaN             NaN  \n7845318  New Zealand        Auckland  \n7856825          NaN             NaN  \n8291433          NaN             NaN  \n8508369          NaN        Windhoek  \n8836175          NaN             NaN  \n8982898          NaN             NaN  \n9060640          NaN             NaN  \n9122350          NaN        Windhoek  \n9594776          NaN             NaN  \n9596775          NaN             NaN  ",
      "text/html": "<div>\n<style scoped>\n    .dataframe tbody tr th:only-of-type {\n        vertical-align: middle;\n    }\n\n    .dataframe tbody tr th {\n        vertical-align: top;\n    }\n\n    .dataframe thead th {\n        text-align: right;\n    }\n</style>\n<table border=\"1\" class=\"dataframe\">\n  <thead>\n    <tr style=\"text-align: right;\">\n      <th></th>\n      <th>patent_id</th>\n      <th>name_first</th>\n      <th>name_last</th>\n      <th>city</th>\n      <th>country</th>\n      <th>grant_date</th>\n      <th>grant_year</th>\n      <th>app_date</th>\n      <th>app_year</th>\n      <th>class_distinct_count</th>\n      <th>class_concat</th>\n      <th>class_IPC_distinct_count</th>\n      <th>class_IPC_concat</th>\n      <th>CountryName</th>\n      <th>CityCountry</th>\n      <th>Ecosystem</th>\n      <th>GoogleCity</th>\n    </tr>\n  </thead>\n  <tbody>\n    <tr>\n      <th>210816</th>\n      <td>20210219676</td>\n      <td>Reuven</td>\n      <td>Paikin</td>\n      <td>Windhoek</td>\n      <td>NaN</td>\n      <td>2021-07-22T00:00:00.000Z</td>\n      <td>2021</td>\n      <td>2019-05-08T00:00:00.000Z</td>\n      <td>2019</td>\n      <td>1.0</td>\n      <td>A44C</td>\n      <td>1.0</td>\n      <td>A44C</td>\n      <td>NaN</td>\n      <td>Windhoek</td>\n      <td>NaN</td>\n      <td>Windhoek</td>\n    </tr>\n    <tr>\n      <th>389191</th>\n      <td>20150271058</td>\n      <td>Hiromasa</td>\n      <td>YAMAUCHI</td>\n      <td>Usakos</td>\n      <td>NaN</td>\n      <td>2015-09-24T00:00:00.000Z</td>\n      <td>2015</td>\n      <td>2015-06-05T00:00:00.000Z</td>\n      <td>2015</td>\n      <td>2.0</td>\n      <td>H04W,H04L</td>\n      <td>2.0</td>\n      <td>H04L,H04W</td>\n      <td>NaN</td>\n      <td>Usakos</td>\n      <td>NaN</td>\n      <td>NaN</td>\n    </tr>\n    <tr>\n      <th>848318</th>\n      <td>20150201396</td>\n      <td>Hiromasa</td>\n      <td>Yamauchi</td>\n      <td>Usakos</td>\n      <td>NaN</td>\n      <td>2015-07-16T00:00:00.000Z</td>\n      <td>2015</td>\n      <td>2015-03-26T00:00:00.000Z</td>\n      <td>2015</td>\n      <td>1.0</td>\n      <td>H04W</td>\n      <td>1.0</td>\n      <td>H04W</td>\n      <td>NaN</td>\n      <td>Usakos</td>\n      <td>NaN</td>\n      <td>NaN</td>\n    </tr>\n    <tr>\n      <th>1224661</th>\n      <td>20140157280</td>\n      <td>Hiromasa</td>\n      <td>Yamauchi</td>\n      <td>Usakos</td>\n      <td>NaN</td>\n      <td>2014-06-05T00:00:00.000Z</td>\n      <td>2014</td>\n      <td>2014-02-07T00:00:00.000Z</td>\n      <td>2014</td>\n      <td>1.0</td>\n      <td>G06F</td>\n      <td>1.0</td>\n      <td>G06F</td>\n      <td>NaN</td>\n      <td>Usakos</td>\n      <td>NaN</td>\n      <td>NaN</td>\n    </tr>\n    <tr>\n      <th>1300888</th>\n      <td>20140129811</td>\n      <td>Hiromasa</td>\n      <td>Yamauchi</td>\n      <td>Usakos</td>\n      <td>NaN</td>\n      <td>2014-05-08T00:00:00.000Z</td>\n      <td>2014</td>\n      <td>2014-01-09T00:00:00.000Z</td>\n      <td>2014</td>\n      <td>1.0</td>\n      <td>G06F</td>\n      <td>1.0</td>\n      <td>G06F</td>\n      <td>NaN</td>\n      <td>Usakos</td>\n      <td>NaN</td>\n      <td>NaN</td>\n    </tr>\n    <tr>\n      <th>1306335</th>\n      <td>20140380333</td>\n      <td>Hiromasa</td>\n      <td>Yamauchi</td>\n      <td>Usakos</td>\n      <td>NaN</td>\n      <td>2014-12-25T00:00:00.000Z</td>\n      <td>2014</td>\n      <td>2014-09-04T00:00:00.000Z</td>\n      <td>2014</td>\n      <td>1.0</td>\n      <td>G06F</td>\n      <td>1.0</td>\n      <td>G06F</td>\n      <td>NaN</td>\n      <td>Usakos</td>\n      <td>NaN</td>\n      <td>NaN</td>\n    </tr>\n    <tr>\n      <th>1685195</th>\n      <td>20140178206</td>\n      <td>Frank</td>\n      <td>Kernstock</td>\n      <td>Windhoek</td>\n      <td>NaN</td>\n      <td>2014-06-26T00:00:00.000Z</td>\n      <td>2014</td>\n      <td>2012-07-20T00:00:00.000Z</td>\n      <td>2012</td>\n      <td>1.0</td>\n      <td>F01D</td>\n      <td>1.0</td>\n      <td>F01D</td>\n      <td>NaN</td>\n      <td>Windhoek</td>\n      <td>NaN</td>\n      <td>Windhoek</td>\n    </tr>\n    <tr>\n      <th>1770330</th>\n      <td>20150244603</td>\n      <td>Hiromasa</td>\n      <td>YAMAUCHI</td>\n      <td>Usakos</td>\n      <td>NaN</td>\n      <td>2015-08-27T00:00:00.000Z</td>\n      <td>2015</td>\n      <td>2015-05-08T00:00:00.000Z</td>\n      <td>2015</td>\n      <td>1.0</td>\n      <td>H04L</td>\n      <td>1.0</td>\n      <td>H04L</td>\n      <td>NaN</td>\n      <td>Usakos</td>\n      <td>NaN</td>\n      <td>NaN</td>\n    </tr>\n    <tr>\n      <th>2000238</th>\n      <td>20150229705</td>\n      <td>Hiromasa</td>\n      <td>Yamauchi</td>\n      <td>Usakos</td>\n      <td>NaN</td>\n      <td>2015-08-13T00:00:00.000Z</td>\n      <td>2015</td>\n      <td>2015-03-26T00:00:00.000Z</td>\n      <td>2015</td>\n      <td>2.0</td>\n      <td>H04W,H04L</td>\n      <td>2.0</td>\n      <td>H04L,H04W</td>\n      <td>NaN</td>\n      <td>Usakos</td>\n      <td>NaN</td>\n      <td>NaN</td>\n    </tr>\n    <tr>\n      <th>2074256</th>\n      <td>20150137995</td>\n      <td>Hiromasa</td>\n      <td>YAMAUCHI</td>\n      <td>Usakos</td>\n      <td>NaN</td>\n      <td>2015-05-21T00:00:00.000Z</td>\n      <td>2015</td>\n      <td>2015-01-23T00:00:00.000Z</td>\n      <td>2015</td>\n      <td>2.0</td>\n      <td>H04Q,H04W</td>\n      <td>2.0</td>\n      <td>H04Q,H04W</td>\n      <td>NaN</td>\n      <td>Usakos</td>\n      <td>NaN</td>\n      <td>NaN</td>\n    </tr>\n    <tr>\n      <th>2305126</th>\n      <td>20150131486</td>\n      <td>Hiromasa</td>\n      <td>YAMAUCHI</td>\n      <td>Usakos</td>\n      <td>NaN</td>\n      <td>2015-05-14T00:00:00.000Z</td>\n      <td>2015</td>\n      <td>2015-01-23T00:00:00.000Z</td>\n      <td>2015</td>\n      <td>2.0</td>\n      <td>H04L,H04W</td>\n      <td>2.0</td>\n      <td>H04L,H04W</td>\n      <td>NaN</td>\n      <td>Usakos</td>\n      <td>NaN</td>\n      <td>NaN</td>\n    </tr>\n    <tr>\n      <th>3372940</th>\n      <td>20140149991</td>\n      <td>Hiromasa</td>\n      <td>Yamauchi</td>\n      <td>Usakos</td>\n      <td>NaN</td>\n      <td>2014-05-29T00:00:00.000Z</td>\n      <td>2014</td>\n      <td>2014-01-31T00:00:00.000Z</td>\n      <td>2014</td>\n      <td>1.0</td>\n      <td>G06F</td>\n      <td>1.0</td>\n      <td>G06F</td>\n      <td>NaN</td>\n      <td>Usakos</td>\n      <td>NaN</td>\n      <td>NaN</td>\n    </tr>\n    <tr>\n      <th>3382272</th>\n      <td>20150201362</td>\n      <td>Hiromasa</td>\n      <td>Yamauchi</td>\n      <td>Usakos</td>\n      <td>NaN</td>\n      <td>2015-07-16T00:00:00.000Z</td>\n      <td>2015</td>\n      <td>2015-03-25T00:00:00.000Z</td>\n      <td>2015</td>\n      <td>2.0</td>\n      <td>H04B,H04W</td>\n      <td>2.0</td>\n      <td>H04B,H04W</td>\n      <td>NaN</td>\n      <td>Usakos</td>\n      <td>NaN</td>\n      <td>NaN</td>\n    </tr>\n    <tr>\n      <th>3529833</th>\n      <td>20140237150</td>\n      <td>Hiromasa</td>\n      <td>YAMAUCHI</td>\n      <td>Usakos</td>\n      <td>NaN</td>\n      <td>2014-08-21T00:00:00.000Z</td>\n      <td>2014</td>\n      <td>2014-04-30T00:00:00.000Z</td>\n      <td>2014</td>\n      <td>1.0</td>\n      <td>G06F</td>\n      <td>1.0</td>\n      <td>G06F</td>\n      <td>NaN</td>\n      <td>Usakos</td>\n      <td>NaN</td>\n      <td>NaN</td>\n    </tr>\n    <tr>\n      <th>3689809</th>\n      <td>20150172791</td>\n      <td>Hiromasa</td>\n      <td>YAMAUCHI</td>\n      <td>Usakos</td>\n      <td>NaN</td>\n      <td>2015-06-18T00:00:00.000Z</td>\n      <td>2015</td>\n      <td>2015-02-26T00:00:00.000Z</td>\n      <td>2015</td>\n      <td>2.0</td>\n      <td>H04Q,H04W</td>\n      <td>2.0</td>\n      <td>H04Q,H04W</td>\n      <td>NaN</td>\n      <td>Usakos</td>\n      <td>NaN</td>\n      <td>NaN</td>\n    </tr>\n    <tr>\n      <th>3985548</th>\n      <td>20140122632</td>\n      <td>Hiromasa</td>\n      <td>YAMAUCHI</td>\n      <td>Usakos</td>\n      <td>NaN</td>\n      <td>2014-05-01T00:00:00.000Z</td>\n      <td>2014</td>\n      <td>2014-01-06T00:00:00.000Z</td>\n      <td>2014</td>\n      <td>1.0</td>\n      <td>H04L</td>\n      <td>1.0</td>\n      <td>H04L</td>\n      <td>NaN</td>\n      <td>Usakos</td>\n      <td>NaN</td>\n      <td>NaN</td>\n    </tr>\n    <tr>\n      <th>4376193</th>\n      <td>20150012777</td>\n      <td>Hiromasa</td>\n      <td>Yamauchi</td>\n      <td>Usakos</td>\n      <td>NaN</td>\n      <td>2015-01-08T00:00:00.000Z</td>\n      <td>2015</td>\n      <td>2014-09-25T00:00:00.000Z</td>\n      <td>2014</td>\n      <td>1.0</td>\n      <td>G06F</td>\n      <td>1.0</td>\n      <td>G06F</td>\n      <td>NaN</td>\n      <td>Usakos</td>\n      <td>NaN</td>\n      <td>NaN</td>\n    </tr>\n    <tr>\n      <th>4612331</th>\n      <td>20150289192</td>\n      <td>Hiromasa</td>\n      <td>YAMAUCHI</td>\n      <td>Usakos</td>\n      <td>NaN</td>\n      <td>2015-10-08T00:00:00.000Z</td>\n      <td>2015</td>\n      <td>2015-06-22T00:00:00.000Z</td>\n      <td>2015</td>\n      <td>1.0</td>\n      <td>H04W</td>\n      <td>1.0</td>\n      <td>H04W</td>\n      <td>NaN</td>\n      <td>Usakos</td>\n      <td>NaN</td>\n      <td>NaN</td>\n    </tr>\n    <tr>\n      <th>4678168</th>\n      <td>20140149691</td>\n      <td>Hiromasa</td>\n      <td>Yamauchi</td>\n      <td>Usakos</td>\n      <td>NaN</td>\n      <td>2014-05-29T00:00:00.000Z</td>\n      <td>2014</td>\n      <td>2014-02-04T00:00:00.000Z</td>\n      <td>2014</td>\n      <td>1.0</td>\n      <td>G06F</td>\n      <td>1.0</td>\n      <td>G06F</td>\n      <td>NaN</td>\n      <td>Usakos</td>\n      <td>NaN</td>\n      <td>NaN</td>\n    </tr>\n    <tr>\n      <th>4758527</th>\n      <td>20140310723</td>\n      <td>Hiromasa</td>\n      <td>Yamauchi</td>\n      <td>Usakos</td>\n      <td>NaN</td>\n      <td>2014-10-16T00:00:00.000Z</td>\n      <td>2014</td>\n      <td>2014-06-26T00:00:00.000Z</td>\n      <td>2014</td>\n      <td>1.0</td>\n      <td>G06F</td>\n      <td>1.0</td>\n      <td>G06F</td>\n      <td>NaN</td>\n      <td>Usakos</td>\n      <td>NaN</td>\n      <td>NaN</td>\n    </tr>\n    <tr>\n      <th>5293071</th>\n      <td>20140143788</td>\n      <td>Hiromasa</td>\n      <td>Yamauchi</td>\n      <td>Usakos</td>\n      <td>NaN</td>\n      <td>2014-05-22T00:00:00.000Z</td>\n      <td>2014</td>\n      <td>2014-01-28T00:00:00.000Z</td>\n      <td>2014</td>\n      <td>1.0</td>\n      <td>G06F</td>\n      <td>1.0</td>\n      <td>G06F</td>\n      <td>NaN</td>\n      <td>Usakos</td>\n      <td>NaN</td>\n      <td>NaN</td>\n    </tr>\n    <tr>\n      <th>5378011</th>\n      <td>20150153439</td>\n      <td>Hiromasa</td>\n      <td>YAMAUCHI</td>\n      <td>Usakos</td>\n      <td>NaN</td>\n      <td>2015-06-04T00:00:00.000Z</td>\n      <td>2015</td>\n      <td>2015-02-11T00:00:00.000Z</td>\n      <td>2015</td>\n      <td>3.0</td>\n      <td>H04L,H04W,G01S</td>\n      <td>3.0</td>\n      <td>G01S,H04L,H04W</td>\n      <td>NaN</td>\n      <td>Usakos</td>\n      <td>NaN</td>\n      <td>NaN</td>\n    </tr>\n    <tr>\n      <th>5448189</th>\n      <td>20140241277</td>\n      <td>Hiromasa</td>\n      <td>YAMAUCHI</td>\n      <td>Usakos</td>\n      <td>NaN</td>\n      <td>2014-08-28T00:00:00.000Z</td>\n      <td>2014</td>\n      <td>2014-04-09T00:00:00.000Z</td>\n      <td>2014</td>\n      <td>1.0</td>\n      <td>H04W</td>\n      <td>1.0</td>\n      <td>H04W</td>\n      <td>NaN</td>\n      <td>Usakos</td>\n      <td>NaN</td>\n      <td>NaN</td>\n    </tr>\n    <tr>\n      <th>5829483</th>\n      <td>20140089377</td>\n      <td>Hiromasa</td>\n      <td>YAMAUCHI</td>\n      <td>Usakos</td>\n      <td>NaN</td>\n      <td>2014-03-27T00:00:00.000Z</td>\n      <td>2014</td>\n      <td>2013-11-26T00:00:00.000Z</td>\n      <td>2013</td>\n      <td>1.0</td>\n      <td>H04L</td>\n      <td>1.0</td>\n      <td>H04L</td>\n      <td>NaN</td>\n      <td>Usakos</td>\n      <td>NaN</td>\n      <td>NaN</td>\n    </tr>\n    <tr>\n      <th>5829867</th>\n      <td>20140108758</td>\n      <td>Hiromasa</td>\n      <td>Yamauchi</td>\n      <td>Usakos</td>\n      <td>NaN</td>\n      <td>2014-04-17T00:00:00.000Z</td>\n      <td>2014</td>\n      <td>2013-12-19T00:00:00.000Z</td>\n      <td>2013</td>\n      <td>1.0</td>\n      <td>G06F</td>\n      <td>1.0</td>\n      <td>G06F</td>\n      <td>NaN</td>\n      <td>Usakos</td>\n      <td>NaN</td>\n      <td>NaN</td>\n    </tr>\n    <tr>\n      <th>5846787</th>\n      <td>20160113443</td>\n      <td>Anthony</td>\n      <td>Jager</td>\n      <td>Rehoboth</td>\n      <td>NaN</td>\n      <td>2016-04-28T00:00:00.000Z</td>\n      <td>2016</td>\n      <td>2015-12-31T00:00:00.000Z</td>\n      <td>2015</td>\n      <td>1.0</td>\n      <td>A47J</td>\n      <td>1.0</td>\n      <td>A47J</td>\n      <td>NaN</td>\n      <td>Rehoboth</td>\n      <td>NaN</td>\n      <td>Rehoboth Beach</td>\n    </tr>\n    <tr>\n      <th>5846788</th>\n      <td>20160113443</td>\n      <td>Sean</td>\n      <td>Jager</td>\n      <td>Rehoboth</td>\n      <td>NaN</td>\n      <td>2016-04-28T00:00:00.000Z</td>\n      <td>2016</td>\n      <td>2015-12-31T00:00:00.000Z</td>\n      <td>2015</td>\n      <td>1.0</td>\n      <td>A47J</td>\n      <td>1.0</td>\n      <td>A47J</td>\n      <td>NaN</td>\n      <td>Rehoboth</td>\n      <td>NaN</td>\n      <td>Rehoboth Beach</td>\n    </tr>\n    <tr>\n      <th>6687242</th>\n      <td>20150177361</td>\n      <td>Hiromasa</td>\n      <td>Yamauchi</td>\n      <td>Usakos</td>\n      <td>NaN</td>\n      <td>2015-06-25T00:00:00.000Z</td>\n      <td>2015</td>\n      <td>2015-03-03T00:00:00.000Z</td>\n      <td>2015</td>\n      <td>2.0</td>\n      <td>G01S,H04W</td>\n      <td>2.0</td>\n      <td>G01S,H04W</td>\n      <td>NaN</td>\n      <td>Usakos</td>\n      <td>NaN</td>\n      <td>NaN</td>\n    </tr>\n    <tr>\n      <th>7033164</th>\n      <td>20190388165</td>\n      <td>Kenichiro</td>\n      <td>NAGASAKA</td>\n      <td>Tokyo</td>\n      <td>NaN</td>\n      <td>2019-12-26T00:00:00.000Z</td>\n      <td>2019</td>\n      <td>2018-02-02T00:00:00.000Z</td>\n      <td>2018</td>\n      <td>1.0</td>\n      <td>A61B</td>\n      <td>1.0</td>\n      <td>A61B</td>\n      <td>NaN</td>\n      <td>Tokyo</td>\n      <td>Tokyo</td>\n      <td>NaN</td>\n    </tr>\n    <tr>\n      <th>7052116</th>\n      <td>20210361040</td>\n      <td>Reuven</td>\n      <td>Paikin</td>\n      <td>Windhoek</td>\n      <td>NaN</td>\n      <td>2021-11-25T00:00:00.000Z</td>\n      <td>2021</td>\n      <td>2021-05-19T00:00:00.000Z</td>\n      <td>2021</td>\n      <td>1.0</td>\n      <td>A44C</td>\n      <td>1.0</td>\n      <td>A44C</td>\n      <td>NaN</td>\n      <td>Windhoek</td>\n      <td>NaN</td>\n      <td>Windhoek</td>\n    </tr>\n    <tr>\n      <th>7062445</th>\n      <td>20140143790</td>\n      <td>Hiromasa</td>\n      <td>YAMAUCHI</td>\n      <td>Usakos</td>\n      <td>NaN</td>\n      <td>2014-05-22T00:00:00.000Z</td>\n      <td>2014</td>\n      <td>2014-01-27T00:00:00.000Z</td>\n      <td>2014</td>\n      <td>1.0</td>\n      <td>G06F</td>\n      <td>1.0</td>\n      <td>G06F</td>\n      <td>NaN</td>\n      <td>Usakos</td>\n      <td>NaN</td>\n      <td>NaN</td>\n    </tr>\n    <tr>\n      <th>7113064</th>\n      <td>20200131743</td>\n      <td>Cornelius</td>\n      <td>Brockman</td>\n      <td>Swakopmund</td>\n      <td>NaN</td>\n      <td>2020-04-30T00:00:00.000Z</td>\n      <td>2020</td>\n      <td>2019-10-31T00:00:00.000Z</td>\n      <td>2019</td>\n      <td>1.0</td>\n      <td>E02F</td>\n      <td>1.0</td>\n      <td>E02F</td>\n      <td>NaN</td>\n      <td>Swakopmund</td>\n      <td>NaN</td>\n      <td>NaN</td>\n    </tr>\n    <tr>\n      <th>7752518</th>\n      <td>20140115601</td>\n      <td>Hiromasa</td>\n      <td>YAMAUCHI</td>\n      <td>Usakos</td>\n      <td>NaN</td>\n      <td>2014-04-24T00:00:00.000Z</td>\n      <td>2014</td>\n      <td>2013-12-20T00:00:00.000Z</td>\n      <td>2013</td>\n      <td>1.0</td>\n      <td>G06F</td>\n      <td>1.0</td>\n      <td>G06F</td>\n      <td>NaN</td>\n      <td>Usakos</td>\n      <td>NaN</td>\n      <td>NaN</td>\n    </tr>\n    <tr>\n      <th>7760753</th>\n      <td>20150131439</td>\n      <td>Hiromasa</td>\n      <td>Yamauchi</td>\n      <td>Usakos</td>\n      <td>NaN</td>\n      <td>2015-05-14T00:00:00.000Z</td>\n      <td>2015</td>\n      <td>2015-01-19T00:00:00.000Z</td>\n      <td>2015</td>\n      <td>1.0</td>\n      <td>H04L</td>\n      <td>1.0</td>\n      <td>H04L</td>\n      <td>NaN</td>\n      <td>Usakos</td>\n      <td>NaN</td>\n      <td>NaN</td>\n    </tr>\n    <tr>\n      <th>7762737</th>\n      <td>20150227400</td>\n      <td>Hiromasa</td>\n      <td>YAMAUCHI</td>\n      <td>Usakos</td>\n      <td>NaN</td>\n      <td>2015-08-13T00:00:00.000Z</td>\n      <td>2015</td>\n      <td>2015-03-26T00:00:00.000Z</td>\n      <td>2015</td>\n      <td>1.0</td>\n      <td>G06F</td>\n      <td>1.0</td>\n      <td>G06F</td>\n      <td>NaN</td>\n      <td>Usakos</td>\n      <td>NaN</td>\n      <td>NaN</td>\n    </tr>\n    <tr>\n      <th>7829869</th>\n      <td>20140164468</td>\n      <td>Hiromasa</td>\n      <td>Yamauchi</td>\n      <td>Usakos</td>\n      <td>NaN</td>\n      <td>2014-06-12T00:00:00.000Z</td>\n      <td>2014</td>\n      <td>2013-11-26T00:00:00.000Z</td>\n      <td>2013</td>\n      <td>1.0</td>\n      <td>H04L</td>\n      <td>1.0</td>\n      <td>H04L</td>\n      <td>NaN</td>\n      <td>Usakos</td>\n      <td>NaN</td>\n      <td>NaN</td>\n    </tr>\n    <tr>\n      <th>7838496</th>\n      <td>20150181528</td>\n      <td>Hiromasa</td>\n      <td>YAMAUCHI</td>\n      <td>Usakos</td>\n      <td>NaN</td>\n      <td>2015-06-25T00:00:00.000Z</td>\n      <td>2015</td>\n      <td>2015-02-27T00:00:00.000Z</td>\n      <td>2015</td>\n      <td>1.0</td>\n      <td>H04W</td>\n      <td>1.0</td>\n      <td>H04W</td>\n      <td>NaN</td>\n      <td>Usakos</td>\n      <td>NaN</td>\n      <td>NaN</td>\n    </tr>\n    <tr>\n      <th>7845318</th>\n      <td>20160114975</td>\n      <td>Paul</td>\n      <td>Zwaan</td>\n      <td>Auckland</td>\n      <td>NaN</td>\n      <td>2016-04-28T00:00:00.000Z</td>\n      <td>2016</td>\n      <td>2014-04-06T00:00:00.000Z</td>\n      <td>2014</td>\n      <td>2.0</td>\n      <td>B65B,B65F</td>\n      <td>2.0</td>\n      <td>B65B,B65F</td>\n      <td>NaN</td>\n      <td>Auckland</td>\n      <td>New Zealand</td>\n      <td>Auckland</td>\n    </tr>\n    <tr>\n      <th>7856825</th>\n      <td>20170240895</td>\n      <td>Michael</td>\n      <td>Greenberg</td>\n      <td>NA (deceased)</td>\n      <td>NaN</td>\n      <td>2017-08-24T00:00:00.000Z</td>\n      <td>2017</td>\n      <td>2013-04-17T00:00:00.000Z</td>\n      <td>2013</td>\n      <td>1.0</td>\n      <td>C12N</td>\n      <td>1.0</td>\n      <td>C12N</td>\n      <td>NaN</td>\n      <td>NA (deceased)</td>\n      <td>NaN</td>\n      <td>NaN</td>\n    </tr>\n    <tr>\n      <th>8291433</th>\n      <td>20140123154</td>\n      <td>Hiromasa</td>\n      <td>Yamauchi</td>\n      <td>Usakos</td>\n      <td>NaN</td>\n      <td>2014-05-01T00:00:00.000Z</td>\n      <td>2014</td>\n      <td>2014-01-06T00:00:00.000Z</td>\n      <td>2014</td>\n      <td>1.0</td>\n      <td>G06F</td>\n      <td>1.0</td>\n      <td>G06F</td>\n      <td>NaN</td>\n      <td>Usakos</td>\n      <td>NaN</td>\n      <td>NaN</td>\n    </tr>\n    <tr>\n      <th>8508369</th>\n      <td>20210212421</td>\n      <td>Reuven</td>\n      <td>PAIKIN</td>\n      <td>Windhoek</td>\n      <td>NaN</td>\n      <td>2021-07-15T00:00:00.000Z</td>\n      <td>2021</td>\n      <td>2021-01-15T00:00:00.000Z</td>\n      <td>2021</td>\n      <td>1.0</td>\n      <td>A44C</td>\n      <td>1.0</td>\n      <td>A44C</td>\n      <td>NaN</td>\n      <td>Windhoek</td>\n      <td>NaN</td>\n      <td>Windhoek</td>\n    </tr>\n    <tr>\n      <th>8836175</th>\n      <td>20150019837</td>\n      <td>Hiromasa</td>\n      <td>Yamauchi</td>\n      <td>Usakos</td>\n      <td>NaN</td>\n      <td>2015-01-15T00:00:00.000Z</td>\n      <td>2015</td>\n      <td>2014-09-29T00:00:00.000Z</td>\n      <td>2014</td>\n      <td>1.0</td>\n      <td>G06F</td>\n      <td>1.0</td>\n      <td>G06F</td>\n      <td>NaN</td>\n      <td>Usakos</td>\n      <td>NaN</td>\n      <td>NaN</td>\n    </tr>\n    <tr>\n      <th>8982898</th>\n      <td>20140092747</td>\n      <td>Hiromasa</td>\n      <td>YAMAUCHI</td>\n      <td>Usakos</td>\n      <td>NaN</td>\n      <td>2014-04-03T00:00:00.000Z</td>\n      <td>2014</td>\n      <td>2013-12-04T00:00:00.000Z</td>\n      <td>2013</td>\n      <td>1.0</td>\n      <td>H04L</td>\n      <td>1.0</td>\n      <td>H04L</td>\n      <td>NaN</td>\n      <td>Usakos</td>\n      <td>NaN</td>\n      <td>NaN</td>\n    </tr>\n    <tr>\n      <th>9060640</th>\n      <td>20140145670</td>\n      <td>Jan</td>\n      <td>Wanner</td>\n      <td>Bonaire</td>\n      <td>NaN</td>\n      <td>2014-05-29T00:00:00.000Z</td>\n      <td>2014</td>\n      <td>2013-11-27T00:00:00.000Z</td>\n      <td>2013</td>\n      <td>2.0</td>\n      <td>B60L,H02J</td>\n      <td>2.0</td>\n      <td>B60L,H02J</td>\n      <td>NaN</td>\n      <td>Bonaire</td>\n      <td>NaN</td>\n      <td>NaN</td>\n    </tr>\n    <tr>\n      <th>9122350</th>\n      <td>20210212422</td>\n      <td>Reuven</td>\n      <td>PAIKIN</td>\n      <td>Windhoek</td>\n      <td>NaN</td>\n      <td>2021-07-15T00:00:00.000Z</td>\n      <td>2021</td>\n      <td>2021-01-15T00:00:00.000Z</td>\n      <td>2021</td>\n      <td>1.0</td>\n      <td>A44C</td>\n      <td>1.0</td>\n      <td>A44C</td>\n      <td>NaN</td>\n      <td>Windhoek</td>\n      <td>NaN</td>\n      <td>Windhoek</td>\n    </tr>\n    <tr>\n      <th>9594776</th>\n      <td>20140095573</td>\n      <td>Hiromasa</td>\n      <td>Yamauchi</td>\n      <td>Usakos</td>\n      <td>NaN</td>\n      <td>2014-04-03T00:00:00.000Z</td>\n      <td>2014</td>\n      <td>2013-12-03T00:00:00.000Z</td>\n      <td>2013</td>\n      <td>1.0</td>\n      <td>H04L</td>\n      <td>1.0</td>\n      <td>H04L</td>\n      <td>NaN</td>\n      <td>Usakos</td>\n      <td>NaN</td>\n      <td>NaN</td>\n    </tr>\n    <tr>\n      <th>9596775</th>\n      <td>20140189185</td>\n      <td>Hiromasa</td>\n      <td>Yamauchi</td>\n      <td>Usakos</td>\n      <td>NaN</td>\n      <td>2014-07-03T00:00:00.000Z</td>\n      <td>2014</td>\n      <td>2014-03-06T00:00:00.000Z</td>\n      <td>2014</td>\n      <td>1.0</td>\n      <td>G06F</td>\n      <td>1.0</td>\n      <td>G06F</td>\n      <td>NaN</td>\n      <td>Usakos</td>\n      <td>NaN</td>\n      <td>NaN</td>\n    </tr>\n  </tbody>\n</table>\n</div>"
     },
     "execution_count": 11,
     "metadata": {},
     "output_type": "execute_result"
    }
   ],
   "source": [
    "df_country_null = df_raw_patents[df_raw_patents['country'].isnull()]\n",
    "df_country_null"
   ],
   "metadata": {
    "collapsed": false,
    "ExecuteTime": {
     "end_time": "2023-06-25T02:36:31.424958900Z",
     "start_time": "2023-06-25T02:36:31.234958Z"
    }
   }
  },
  {
   "cell_type": "code",
   "execution_count": 12,
   "outputs": [
    {
     "data": {
      "text/plain": "        geonameid                 name            asciiname  \\\n0         3039154            El Tarter            El Tarter   \n1         3039163  Sant Julià de Lòria  Sant Julia de Loria   \n2         3039604       Pas de la Casa       Pas de la Casa   \n3         3039678               Ordino               Ordino   \n4         3040051         les Escaldes         les Escaldes   \n...           ...                  ...                  ...   \n199663     895269           Beitbridge           Beitbridge   \n199664     895308             Beatrice             Beatrice   \n199665     895417               Banket               Banket   \n199666    1085510              Epworth              Epworth   \n199667    1106542          Chitungwiza          Chitungwiza   \n\n                                           alternatenames  latitude  \\\n0                                    Ehl Tarter,Эл Тартер  42.57952   \n1       San Julia,San Julià,Sant Julia de Loria,Sant J...  42.46372   \n2                           Pas de la Kasa,Пас де ла Каса  42.54277   \n3       Ordino,ao er di nuo,orudino jiao qu,Ордино,オルデ...  42.55623   \n4       Ehskal'des-Ehndzhordani,Escaldes,Escaldes-Engo...  42.50729   \n...                                                   ...       ...   \n199663  Bajtbridz,Bajtbridzh,Beitbridge,Beitbridzas,Be... -22.21667   \n199664                                           Beatrice -18.25283   \n199665                             Banket,Banket Junction -17.38333   \n199666                                            Epworth -17.89000   \n199667  Chitungviza,Chitungwiza,Chytungviza,Citungviza... -18.01274   \n\n        longitude feature class feature code country code  cc2 admin1 code  \\\n0         1.65362             P          PPL           AD  NaN          02   \n1         1.49129             P         PPLA           AD  NaN          06   \n2         1.73361             P          PPL           AD  NaN          03   \n3         1.53319             P         PPLA           AD  NaN          05   \n4         1.53414             P         PPLA           AD  NaN          08   \n...           ...           ...          ...          ...  ...         ...   \n199663   30.00000             P          PPL           ZW  NaN          07   \n199664   30.84730             P          PPL           ZW  NaN          04   \n199665   30.40000             P          PPL           ZW  NaN          05   \n199666   31.14750             P         PPLX           ZW  NaN          10   \n199667   31.07555             P          PPL           ZW  NaN          10   \n\n       admin2 code admin3 code admin4 code population  elevation   dem  \\\n0              NaN         NaN         NaN       1052        NaN  1721   \n1              NaN         NaN         NaN       8022        NaN   921   \n2              NaN         NaN         NaN       2363     2050.0  2106   \n3              NaN         NaN         NaN       3066        NaN  1296   \n4              NaN         NaN         NaN      15853        NaN  1033   \n...            ...         ...         ...        ...        ...   ...   \n199663         NaN         NaN         NaN      58100        NaN   461   \n199664         NaN         NaN         NaN       1647        NaN  1307   \n199665         NaN         NaN         NaN       9641        NaN  1277   \n199666         NaN         NaN         NaN     123250        NaN  1508   \n199667         NaN         NaN         NaN     371244        NaN  1435   \n\n              timezone modification date  \n0       Europe/Andorra        2012-11-03  \n1       Europe/Andorra        2013-11-23  \n2       Europe/Andorra        2008-06-09  \n3       Europe/Andorra        2018-10-26  \n4       Europe/Andorra        2008-10-15  \n...                ...               ...  \n199663   Africa/Harare        2022-10-07  \n199664   Africa/Harare        2018-05-09  \n199665   Africa/Harare        2013-03-12  \n199666   Africa/Harare        2012-01-19  \n199667   Africa/Harare        2022-10-05  \n\n[199668 rows x 19 columns]",
      "text/html": "<div>\n<style scoped>\n    .dataframe tbody tr th:only-of-type {\n        vertical-align: middle;\n    }\n\n    .dataframe tbody tr th {\n        vertical-align: top;\n    }\n\n    .dataframe thead th {\n        text-align: right;\n    }\n</style>\n<table border=\"1\" class=\"dataframe\">\n  <thead>\n    <tr style=\"text-align: right;\">\n      <th></th>\n      <th>geonameid</th>\n      <th>name</th>\n      <th>asciiname</th>\n      <th>alternatenames</th>\n      <th>latitude</th>\n      <th>longitude</th>\n      <th>feature class</th>\n      <th>feature code</th>\n      <th>country code</th>\n      <th>cc2</th>\n      <th>admin1 code</th>\n      <th>admin2 code</th>\n      <th>admin3 code</th>\n      <th>admin4 code</th>\n      <th>population</th>\n      <th>elevation</th>\n      <th>dem</th>\n      <th>timezone</th>\n      <th>modification date</th>\n    </tr>\n  </thead>\n  <tbody>\n    <tr>\n      <th>0</th>\n      <td>3039154</td>\n      <td>El Tarter</td>\n      <td>El Tarter</td>\n      <td>Ehl Tarter,Эл Тартер</td>\n      <td>42.57952</td>\n      <td>1.65362</td>\n      <td>P</td>\n      <td>PPL</td>\n      <td>AD</td>\n      <td>NaN</td>\n      <td>02</td>\n      <td>NaN</td>\n      <td>NaN</td>\n      <td>NaN</td>\n      <td>1052</td>\n      <td>NaN</td>\n      <td>1721</td>\n      <td>Europe/Andorra</td>\n      <td>2012-11-03</td>\n    </tr>\n    <tr>\n      <th>1</th>\n      <td>3039163</td>\n      <td>Sant Julià de Lòria</td>\n      <td>Sant Julia de Loria</td>\n      <td>San Julia,San Julià,Sant Julia de Loria,Sant J...</td>\n      <td>42.46372</td>\n      <td>1.49129</td>\n      <td>P</td>\n      <td>PPLA</td>\n      <td>AD</td>\n      <td>NaN</td>\n      <td>06</td>\n      <td>NaN</td>\n      <td>NaN</td>\n      <td>NaN</td>\n      <td>8022</td>\n      <td>NaN</td>\n      <td>921</td>\n      <td>Europe/Andorra</td>\n      <td>2013-11-23</td>\n    </tr>\n    <tr>\n      <th>2</th>\n      <td>3039604</td>\n      <td>Pas de la Casa</td>\n      <td>Pas de la Casa</td>\n      <td>Pas de la Kasa,Пас де ла Каса</td>\n      <td>42.54277</td>\n      <td>1.73361</td>\n      <td>P</td>\n      <td>PPL</td>\n      <td>AD</td>\n      <td>NaN</td>\n      <td>03</td>\n      <td>NaN</td>\n      <td>NaN</td>\n      <td>NaN</td>\n      <td>2363</td>\n      <td>2050.0</td>\n      <td>2106</td>\n      <td>Europe/Andorra</td>\n      <td>2008-06-09</td>\n    </tr>\n    <tr>\n      <th>3</th>\n      <td>3039678</td>\n      <td>Ordino</td>\n      <td>Ordino</td>\n      <td>Ordino,ao er di nuo,orudino jiao qu,Ордино,オルデ...</td>\n      <td>42.55623</td>\n      <td>1.53319</td>\n      <td>P</td>\n      <td>PPLA</td>\n      <td>AD</td>\n      <td>NaN</td>\n      <td>05</td>\n      <td>NaN</td>\n      <td>NaN</td>\n      <td>NaN</td>\n      <td>3066</td>\n      <td>NaN</td>\n      <td>1296</td>\n      <td>Europe/Andorra</td>\n      <td>2018-10-26</td>\n    </tr>\n    <tr>\n      <th>4</th>\n      <td>3040051</td>\n      <td>les Escaldes</td>\n      <td>les Escaldes</td>\n      <td>Ehskal'des-Ehndzhordani,Escaldes,Escaldes-Engo...</td>\n      <td>42.50729</td>\n      <td>1.53414</td>\n      <td>P</td>\n      <td>PPLA</td>\n      <td>AD</td>\n      <td>NaN</td>\n      <td>08</td>\n      <td>NaN</td>\n      <td>NaN</td>\n      <td>NaN</td>\n      <td>15853</td>\n      <td>NaN</td>\n      <td>1033</td>\n      <td>Europe/Andorra</td>\n      <td>2008-10-15</td>\n    </tr>\n    <tr>\n      <th>...</th>\n      <td>...</td>\n      <td>...</td>\n      <td>...</td>\n      <td>...</td>\n      <td>...</td>\n      <td>...</td>\n      <td>...</td>\n      <td>...</td>\n      <td>...</td>\n      <td>...</td>\n      <td>...</td>\n      <td>...</td>\n      <td>...</td>\n      <td>...</td>\n      <td>...</td>\n      <td>...</td>\n      <td>...</td>\n      <td>...</td>\n      <td>...</td>\n    </tr>\n    <tr>\n      <th>199663</th>\n      <td>895269</td>\n      <td>Beitbridge</td>\n      <td>Beitbridge</td>\n      <td>Bajtbridz,Bajtbridzh,Beitbridge,Beitbridzas,Be...</td>\n      <td>-22.21667</td>\n      <td>30.00000</td>\n      <td>P</td>\n      <td>PPL</td>\n      <td>ZW</td>\n      <td>NaN</td>\n      <td>07</td>\n      <td>NaN</td>\n      <td>NaN</td>\n      <td>NaN</td>\n      <td>58100</td>\n      <td>NaN</td>\n      <td>461</td>\n      <td>Africa/Harare</td>\n      <td>2022-10-07</td>\n    </tr>\n    <tr>\n      <th>199664</th>\n      <td>895308</td>\n      <td>Beatrice</td>\n      <td>Beatrice</td>\n      <td>Beatrice</td>\n      <td>-18.25283</td>\n      <td>30.84730</td>\n      <td>P</td>\n      <td>PPL</td>\n      <td>ZW</td>\n      <td>NaN</td>\n      <td>04</td>\n      <td>NaN</td>\n      <td>NaN</td>\n      <td>NaN</td>\n      <td>1647</td>\n      <td>NaN</td>\n      <td>1307</td>\n      <td>Africa/Harare</td>\n      <td>2018-05-09</td>\n    </tr>\n    <tr>\n      <th>199665</th>\n      <td>895417</td>\n      <td>Banket</td>\n      <td>Banket</td>\n      <td>Banket,Banket Junction</td>\n      <td>-17.38333</td>\n      <td>30.40000</td>\n      <td>P</td>\n      <td>PPL</td>\n      <td>ZW</td>\n      <td>NaN</td>\n      <td>05</td>\n      <td>NaN</td>\n      <td>NaN</td>\n      <td>NaN</td>\n      <td>9641</td>\n      <td>NaN</td>\n      <td>1277</td>\n      <td>Africa/Harare</td>\n      <td>2013-03-12</td>\n    </tr>\n    <tr>\n      <th>199666</th>\n      <td>1085510</td>\n      <td>Epworth</td>\n      <td>Epworth</td>\n      <td>Epworth</td>\n      <td>-17.89000</td>\n      <td>31.14750</td>\n      <td>P</td>\n      <td>PPLX</td>\n      <td>ZW</td>\n      <td>NaN</td>\n      <td>10</td>\n      <td>NaN</td>\n      <td>NaN</td>\n      <td>NaN</td>\n      <td>123250</td>\n      <td>NaN</td>\n      <td>1508</td>\n      <td>Africa/Harare</td>\n      <td>2012-01-19</td>\n    </tr>\n    <tr>\n      <th>199667</th>\n      <td>1106542</td>\n      <td>Chitungwiza</td>\n      <td>Chitungwiza</td>\n      <td>Chitungviza,Chitungwiza,Chytungviza,Citungviza...</td>\n      <td>-18.01274</td>\n      <td>31.07555</td>\n      <td>P</td>\n      <td>PPL</td>\n      <td>ZW</td>\n      <td>NaN</td>\n      <td>10</td>\n      <td>NaN</td>\n      <td>NaN</td>\n      <td>NaN</td>\n      <td>371244</td>\n      <td>NaN</td>\n      <td>1435</td>\n      <td>Africa/Harare</td>\n      <td>2022-10-05</td>\n    </tr>\n  </tbody>\n</table>\n<p>199668 rows × 19 columns</p>\n</div>"
     },
     "execution_count": 12,
     "metadata": {},
     "output_type": "execute_result"
    }
   ],
   "source": [
    "df_cities_500 = pd.read_csv(paths.processed_cities_500, encoding='utf-8', dtype={13: str, 14: str})\n",
    "df_cities_500"
   ],
   "metadata": {
    "collapsed": false,
    "ExecuteTime": {
     "end_time": "2023-06-25T02:36:31.755585900Z",
     "start_time": "2023-06-25T02:36:31.425957900Z"
    }
   }
  },
  {
   "cell_type": "code",
   "execution_count": 13,
   "outputs": [
    {
     "data": {
      "text/plain": "            patent_id name_first   name_last           city country  \\\n0         20140380145      Rajiv     Puranik  San Francisco      US   \n1         20140380145     Thomas     Wilsher  San Francisco      US   \n2         20150004825     Pinida  Moosintong  San Francisco      US   \n3         20150010953     Daniel        Ryan  San Francisco      US   \n4         20150010953    Jeffrey     Sampson  San Francisco      US   \n...               ...        ...         ...            ...     ...   \n19315509  20140259776    OSWALDO      YLLICH     Miraflores      PE   \n19315510  20140259776    OSWALDO      YLLICH     Miraflores      PE   \n19315511  20140259776    OSWALDO      YLLICH     Miraflores      PE   \n19315512  20140259776    OSWALDO      YLLICH     Miraflores      PE   \n19315513  20140373007     Holger     Mueller        Nomborn      DE   \n\n                        grant_date  grant_year                  app_date  \\\n0         2014-12-25T00:00:00.000Z        2014  2014-05-08T00:00:00.000Z   \n1         2014-12-25T00:00:00.000Z        2014  2014-05-08T00:00:00.000Z   \n2         2015-01-01T00:00:00.000Z        2015  2014-04-25T00:00:00.000Z   \n3         2015-01-08T00:00:00.000Z        2015  2013-07-03T00:00:00.000Z   \n4         2015-01-08T00:00:00.000Z        2015  2013-07-03T00:00:00.000Z   \n...                            ...         ...                       ...   \n19315509  2014-09-18T00:00:00.000Z        2014  2013-03-14T00:00:00.000Z   \n19315510  2014-09-18T00:00:00.000Z        2014  2013-03-14T00:00:00.000Z   \n19315511  2014-09-18T00:00:00.000Z        2014  2013-03-14T00:00:00.000Z   \n19315512  2014-09-18T00:00:00.000Z        2014  2013-03-14T00:00:00.000Z   \n19315513  2014-12-18T00:00:00.000Z        2014  2013-06-13T00:00:00.000Z   \n\n          app_year  class_distinct_count  ... class_IPC_distinct_count  \\\n0             2014                   1.0  ...                      1.0   \n1             2014                   1.0  ...                      1.0   \n2             2014                   2.0  ...                      2.0   \n3             2013                   2.0  ...                      2.0   \n4             2013                   2.0  ...                      2.0   \n...            ...                   ...  ...                      ...   \n19315509      2013                   1.0  ...                      1.0   \n19315510      2013                   1.0  ...                      1.0   \n19315511      2013                   1.0  ...                      1.0   \n19315512      2013                   1.0  ...                      1.0   \n19315513      2013                   1.0  ...                      1.0   \n\n          class_IPC_concat    CountryName                 CityCountry  \\\n0                     G06F  United States  San FranciscoUnited States   \n1                     G06F  United States  San FranciscoUnited States   \n2                H01R,H05K  United States  San FranciscoUnited States   \n3                C12N,C12P  United States  San FranciscoUnited States   \n4                C12N,C12P  United States  San FranciscoUnited States   \n...                    ...            ...                         ...   \n19315509              A43B           Peru              MirafloresPeru   \n19315510              A43B           Peru              MirafloresPeru   \n19315511              A43B           Peru              MirafloresPeru   \n19315512              A43B           Peru              MirafloresPeru   \n19315513              G06F        Germany              NombornGermany   \n\n               Ecosystem     GoogleCity           name country code  latitude  \\\n0         Silicon Valley  San Francisco  San Francisco           US  37.77493   \n1         Silicon Valley  San Francisco  San Francisco           US  37.77493   \n2         Silicon Valley  San Francisco  San Francisco           US  37.77493   \n3         Silicon Valley  San Francisco  San Francisco           US  37.77493   \n4         Silicon Valley  San Francisco  San Francisco           US  37.77493   \n...                  ...            ...            ...          ...       ...   \n19315509            Lima     Miraflores     Miraflores           PE  -5.16520   \n19315510            Lima     Miraflores     Miraflores           PE  -4.84198   \n19315511            Lima     Miraflores     Miraflores           PE -12.27417   \n19315512            Lima     Miraflores     Miraflores           PE  -5.90951   \n19315513             NaN            NaN        Nomborn           DE  50.43333   \n\n          longitude  \n0        -122.41942  \n1        -122.41942  \n2        -122.41942  \n3        -122.41942  \n4        -122.41942  \n...             ...  \n19315509  -80.61384  \n19315510  -80.68936  \n19315511  -75.85024  \n19315512  -77.36901  \n19315513    7.91667  \n\n[19315514 rows x 21 columns]",
      "text/html": "<div>\n<style scoped>\n    .dataframe tbody tr th:only-of-type {\n        vertical-align: middle;\n    }\n\n    .dataframe tbody tr th {\n        vertical-align: top;\n    }\n\n    .dataframe thead th {\n        text-align: right;\n    }\n</style>\n<table border=\"1\" class=\"dataframe\">\n  <thead>\n    <tr style=\"text-align: right;\">\n      <th></th>\n      <th>patent_id</th>\n      <th>name_first</th>\n      <th>name_last</th>\n      <th>city</th>\n      <th>country</th>\n      <th>grant_date</th>\n      <th>grant_year</th>\n      <th>app_date</th>\n      <th>app_year</th>\n      <th>class_distinct_count</th>\n      <th>...</th>\n      <th>class_IPC_distinct_count</th>\n      <th>class_IPC_concat</th>\n      <th>CountryName</th>\n      <th>CityCountry</th>\n      <th>Ecosystem</th>\n      <th>GoogleCity</th>\n      <th>name</th>\n      <th>country code</th>\n      <th>latitude</th>\n      <th>longitude</th>\n    </tr>\n  </thead>\n  <tbody>\n    <tr>\n      <th>0</th>\n      <td>20140380145</td>\n      <td>Rajiv</td>\n      <td>Puranik</td>\n      <td>San Francisco</td>\n      <td>US</td>\n      <td>2014-12-25T00:00:00.000Z</td>\n      <td>2014</td>\n      <td>2014-05-08T00:00:00.000Z</td>\n      <td>2014</td>\n      <td>1.0</td>\n      <td>...</td>\n      <td>1.0</td>\n      <td>G06F</td>\n      <td>United States</td>\n      <td>San FranciscoUnited States</td>\n      <td>Silicon Valley</td>\n      <td>San Francisco</td>\n      <td>San Francisco</td>\n      <td>US</td>\n      <td>37.77493</td>\n      <td>-122.41942</td>\n    </tr>\n    <tr>\n      <th>1</th>\n      <td>20140380145</td>\n      <td>Thomas</td>\n      <td>Wilsher</td>\n      <td>San Francisco</td>\n      <td>US</td>\n      <td>2014-12-25T00:00:00.000Z</td>\n      <td>2014</td>\n      <td>2014-05-08T00:00:00.000Z</td>\n      <td>2014</td>\n      <td>1.0</td>\n      <td>...</td>\n      <td>1.0</td>\n      <td>G06F</td>\n      <td>United States</td>\n      <td>San FranciscoUnited States</td>\n      <td>Silicon Valley</td>\n      <td>San Francisco</td>\n      <td>San Francisco</td>\n      <td>US</td>\n      <td>37.77493</td>\n      <td>-122.41942</td>\n    </tr>\n    <tr>\n      <th>2</th>\n      <td>20150004825</td>\n      <td>Pinida</td>\n      <td>Moosintong</td>\n      <td>San Francisco</td>\n      <td>US</td>\n      <td>2015-01-01T00:00:00.000Z</td>\n      <td>2015</td>\n      <td>2014-04-25T00:00:00.000Z</td>\n      <td>2014</td>\n      <td>2.0</td>\n      <td>...</td>\n      <td>2.0</td>\n      <td>H01R,H05K</td>\n      <td>United States</td>\n      <td>San FranciscoUnited States</td>\n      <td>Silicon Valley</td>\n      <td>San Francisco</td>\n      <td>San Francisco</td>\n      <td>US</td>\n      <td>37.77493</td>\n      <td>-122.41942</td>\n    </tr>\n    <tr>\n      <th>3</th>\n      <td>20150010953</td>\n      <td>Daniel</td>\n      <td>Ryan</td>\n      <td>San Francisco</td>\n      <td>US</td>\n      <td>2015-01-08T00:00:00.000Z</td>\n      <td>2015</td>\n      <td>2013-07-03T00:00:00.000Z</td>\n      <td>2013</td>\n      <td>2.0</td>\n      <td>...</td>\n      <td>2.0</td>\n      <td>C12N,C12P</td>\n      <td>United States</td>\n      <td>San FranciscoUnited States</td>\n      <td>Silicon Valley</td>\n      <td>San Francisco</td>\n      <td>San Francisco</td>\n      <td>US</td>\n      <td>37.77493</td>\n      <td>-122.41942</td>\n    </tr>\n    <tr>\n      <th>4</th>\n      <td>20150010953</td>\n      <td>Jeffrey</td>\n      <td>Sampson</td>\n      <td>San Francisco</td>\n      <td>US</td>\n      <td>2015-01-08T00:00:00.000Z</td>\n      <td>2015</td>\n      <td>2013-07-03T00:00:00.000Z</td>\n      <td>2013</td>\n      <td>2.0</td>\n      <td>...</td>\n      <td>2.0</td>\n      <td>C12N,C12P</td>\n      <td>United States</td>\n      <td>San FranciscoUnited States</td>\n      <td>Silicon Valley</td>\n      <td>San Francisco</td>\n      <td>San Francisco</td>\n      <td>US</td>\n      <td>37.77493</td>\n      <td>-122.41942</td>\n    </tr>\n    <tr>\n      <th>...</th>\n      <td>...</td>\n      <td>...</td>\n      <td>...</td>\n      <td>...</td>\n      <td>...</td>\n      <td>...</td>\n      <td>...</td>\n      <td>...</td>\n      <td>...</td>\n      <td>...</td>\n      <td>...</td>\n      <td>...</td>\n      <td>...</td>\n      <td>...</td>\n      <td>...</td>\n      <td>...</td>\n      <td>...</td>\n      <td>...</td>\n      <td>...</td>\n      <td>...</td>\n      <td>...</td>\n    </tr>\n    <tr>\n      <th>19315509</th>\n      <td>20140259776</td>\n      <td>OSWALDO</td>\n      <td>YLLICH</td>\n      <td>Miraflores</td>\n      <td>PE</td>\n      <td>2014-09-18T00:00:00.000Z</td>\n      <td>2014</td>\n      <td>2013-03-14T00:00:00.000Z</td>\n      <td>2013</td>\n      <td>1.0</td>\n      <td>...</td>\n      <td>1.0</td>\n      <td>A43B</td>\n      <td>Peru</td>\n      <td>MirafloresPeru</td>\n      <td>Lima</td>\n      <td>Miraflores</td>\n      <td>Miraflores</td>\n      <td>PE</td>\n      <td>-5.16520</td>\n      <td>-80.61384</td>\n    </tr>\n    <tr>\n      <th>19315510</th>\n      <td>20140259776</td>\n      <td>OSWALDO</td>\n      <td>YLLICH</td>\n      <td>Miraflores</td>\n      <td>PE</td>\n      <td>2014-09-18T00:00:00.000Z</td>\n      <td>2014</td>\n      <td>2013-03-14T00:00:00.000Z</td>\n      <td>2013</td>\n      <td>1.0</td>\n      <td>...</td>\n      <td>1.0</td>\n      <td>A43B</td>\n      <td>Peru</td>\n      <td>MirafloresPeru</td>\n      <td>Lima</td>\n      <td>Miraflores</td>\n      <td>Miraflores</td>\n      <td>PE</td>\n      <td>-4.84198</td>\n      <td>-80.68936</td>\n    </tr>\n    <tr>\n      <th>19315511</th>\n      <td>20140259776</td>\n      <td>OSWALDO</td>\n      <td>YLLICH</td>\n      <td>Miraflores</td>\n      <td>PE</td>\n      <td>2014-09-18T00:00:00.000Z</td>\n      <td>2014</td>\n      <td>2013-03-14T00:00:00.000Z</td>\n      <td>2013</td>\n      <td>1.0</td>\n      <td>...</td>\n      <td>1.0</td>\n      <td>A43B</td>\n      <td>Peru</td>\n      <td>MirafloresPeru</td>\n      <td>Lima</td>\n      <td>Miraflores</td>\n      <td>Miraflores</td>\n      <td>PE</td>\n      <td>-12.27417</td>\n      <td>-75.85024</td>\n    </tr>\n    <tr>\n      <th>19315512</th>\n      <td>20140259776</td>\n      <td>OSWALDO</td>\n      <td>YLLICH</td>\n      <td>Miraflores</td>\n      <td>PE</td>\n      <td>2014-09-18T00:00:00.000Z</td>\n      <td>2014</td>\n      <td>2013-03-14T00:00:00.000Z</td>\n      <td>2013</td>\n      <td>1.0</td>\n      <td>...</td>\n      <td>1.0</td>\n      <td>A43B</td>\n      <td>Peru</td>\n      <td>MirafloresPeru</td>\n      <td>Lima</td>\n      <td>Miraflores</td>\n      <td>Miraflores</td>\n      <td>PE</td>\n      <td>-5.90951</td>\n      <td>-77.36901</td>\n    </tr>\n    <tr>\n      <th>19315513</th>\n      <td>20140373007</td>\n      <td>Holger</td>\n      <td>Mueller</td>\n      <td>Nomborn</td>\n      <td>DE</td>\n      <td>2014-12-18T00:00:00.000Z</td>\n      <td>2014</td>\n      <td>2013-06-13T00:00:00.000Z</td>\n      <td>2013</td>\n      <td>1.0</td>\n      <td>...</td>\n      <td>1.0</td>\n      <td>G06F</td>\n      <td>Germany</td>\n      <td>NombornGermany</td>\n      <td>NaN</td>\n      <td>NaN</td>\n      <td>Nomborn</td>\n      <td>DE</td>\n      <td>50.43333</td>\n      <td>7.91667</td>\n    </tr>\n  </tbody>\n</table>\n<p>19315514 rows × 21 columns</p>\n</div>"
     },
     "execution_count": 13,
     "metadata": {},
     "output_type": "execute_result"
    }
   ],
   "source": [
    "df_raw_patents_without_duplicates = df_raw_patents.drop_duplicates()\n",
    "df2_selected = df_cities_500[['name', 'country code', 'latitude', 'longitude']]\n",
    "df2_selected = df2_selected.drop_duplicates()\n",
    "df_merged = df_raw_patents_without_duplicates.merge(df2_selected, how='inner', left_on=['city', 'country'], right_on=['name', 'country code'])\n",
    "df_merged"
   ],
   "metadata": {
    "collapsed": false,
    "ExecuteTime": {
     "end_time": "2023-06-25T02:36:57.010827Z",
     "start_time": "2023-06-25T02:36:31.755585900Z"
    }
   }
  },
  {
   "cell_type": "code",
   "execution_count": 14,
   "outputs": [
    {
     "name": "stdout",
     "output_type": "stream",
     "text": [
      "9830924\n",
      "9829883\n",
      "19315514\n"
     ]
    }
   ],
   "source": [
    "print(len(df_raw_patents))\n",
    "print(len(df_raw_patents_without_duplicates))\n",
    "print(len(df_merged))"
   ],
   "metadata": {
    "collapsed": false,
    "ExecuteTime": {
     "end_time": "2023-06-25T02:36:57.025828Z",
     "start_time": "2023-06-25T02:36:57.005826700Z"
    }
   }
  }
 ],
 "metadata": {
  "kernelspec": {
   "display_name": "Python 3",
   "language": "python",
   "name": "python3"
  },
  "language_info": {
   "codemirror_mode": {
    "name": "ipython",
    "version": 2
   },
   "file_extension": ".py",
   "mimetype": "text/x-python",
   "name": "python",
   "nbconvert_exporter": "python",
   "pygments_lexer": "ipython2",
   "version": "2.7.6"
  }
 },
 "nbformat": 4,
 "nbformat_minor": 0
}
