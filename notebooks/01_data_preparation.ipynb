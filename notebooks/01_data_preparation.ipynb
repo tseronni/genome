{
 "cells": [
  {
   "cell_type": "code",
   "execution_count": 1,
   "metadata": {
    "collapsed": true,
    "ExecuteTime": {
     "end_time": "2023-11-02T22:42:21.190121100Z",
     "start_time": "2023-11-02T22:42:11.231477400Z"
    }
   },
   "outputs": [],
   "source": [
    "import pandas as pd\n",
    "from src.utils.UsefulPaths import Paths"
   ]
  },
  {
   "cell_type": "code",
   "execution_count": 2,
   "outputs": [
    {
     "name": "stderr",
     "output_type": "stream",
     "text": [
      "2023-11-02 19:42:21,192 - INFO - Creating abstract.parquet...\n",
      "2023-11-02 19:42:42,886 - INFO - Creating ListOfCompanies.parquet...\n",
      "2023-11-02 19:42:46,777 - INFO - Creating raw_patents.parquet...\n",
      "2023-11-02 19:43:09,688 - INFO - Creating table_for_applicants.parquet...\n",
      "aw folder2 19:43:11,234 - ERROR - cities500.txt not found. Download the cities zip from http://download.geonames.org/export/dump/cities500.zip and extract content to data\n"
     ]
    }
   ],
   "source": [
    "paths = Paths()"
   ],
   "metadata": {
    "collapsed": false,
    "ExecuteTime": {
     "end_time": "2023-11-02T22:43:11.294517800Z",
     "start_time": "2023-11-02T22:42:21.190121100Z"
    }
   }
  },
  {
   "cell_type": "code",
   "execution_count": 3,
   "outputs": [],
   "source": [
    "df_raw_patents = pd.read_csv(paths.raw_raw_patents, parse_dates=['grant_date', 'app_date'])"
   ],
   "metadata": {
    "collapsed": false,
    "ExecuteTime": {
     "end_time": "2023-11-02T22:43:52.250772400Z",
     "start_time": "2023-11-02T22:43:11.295516200Z"
    }
   }
  },
  {
   "cell_type": "code",
   "execution_count": 4,
   "outputs": [],
   "source": [
    "df_raw_patents = df_raw_patents.drop(['GoogleCity', 'CityCountry'], axis=1)\n",
    "\n",
    "df_raw_patents = df_raw_patents.rename(columns=\n",
    "                                       {\n",
    "                                           'class_IPC_concat': 'class_ipc_concat',\n",
    "                                           'class_IPC_distinct_count': 'class_ipc_distinct_count',\n",
    "                                           'CountryName': 'country_name',\n",
    "                                           'Ecosystem': 'ecosystem'\n",
    "                                       }\n",
    ")\n",
    "\n",
    "df_raw_patents['app_name'] = df_raw_patents.apply(\n",
    "    lambda row: str(row['name_first']) + ' ' + str(row['name_last']) if pd.notnull(row['name_last']) else row['name_first'],\n",
    "    axis=1)\n",
    "\n",
    "df_raw_patents = df_raw_patents.drop(['name_first', 'name_last'], axis=1)\n",
    "\n",
    "df_raw_patents = df_raw_patents.loc[:, [\n",
    "                                           'patent_id',\n",
    "                                           'app_name',\n",
    "                                           'app_year',\n",
    "                                           'city',\n",
    "                                           'country',\n",
    "                                           'country_name',\n",
    "                                           'ecosystem',\n",
    "                                           'grant_date',\n",
    "                                           'grant_year',\n",
    "                                           'app_date',\n",
    "                                           'class_concat',\n",
    "                                           'class_distinct_count',\n",
    "                                           'class_ipc_concat',\n",
    "                                           'class_ipc_distinct_count'\n",
    "                                       ]\n",
    "                 ]\n",
    "\n",
    "df_raw_patents.drop_duplicates(inplace=True)"
   ],
   "metadata": {
    "collapsed": false,
    "ExecuteTime": {
     "end_time": "2023-11-02T22:44:49.896119800Z",
     "start_time": "2023-11-02T22:43:52.253773300Z"
    }
   }
  },
  {
   "cell_type": "code",
   "execution_count": 5,
   "outputs": [
    {
     "data": {
      "text/plain": "       patent_id            app_name  app_year           city country  \\\n0    20140380145       Rajiv Puranik      2014  San Francisco      US   \n1    20140380145      Thomas Wilsher      2014  San Francisco      US   \n2    20140380219         John CARTAN      2014        Alameda      US   \n3    20150000186         Barry Freel      2014         Ottawa      CA   \n4    20150000186       Robert Graham      2014         Ottawa      CA   \n..           ...                 ...       ...            ...     ...   \n995  20150049784       Anton Parshin      2013  Bashkortostan      RU   \n996  20150049784         Irina Bayuk      2013         Moscow      RU   \n997  20150049784          Yury Popov      2013         Moscow      RU   \n998  20150050108  Alexander Nürnberg      2013       Herdecke      DE   \n999  20150050108    Didier Verhaeghe      2013          Ieper      BE   \n\n           country_name         ecosystem                grant_date  \\\n0         United States    Silicon Valley 2014-12-25 00:00:00+00:00   \n1         United States    Silicon Valley 2014-12-25 00:00:00+00:00   \n2         United States    Silicon Valley 2014-12-25 00:00:00+00:00   \n3                Canada            Ottawa 2015-01-01 00:00:00+00:00   \n4                Canada            Ottawa 2015-01-01 00:00:00+00:00   \n..                  ...               ...                       ...   \n995  Russian Federation               NaN 2015-02-19 00:00:00+00:00   \n996  Russian Federation            Moscow 2015-02-19 00:00:00+00:00   \n997  Russian Federation            Moscow 2015-02-19 00:00:00+00:00   \n998             Germany  Metro Rhein-Ruhr 2015-02-19 00:00:00+00:00   \n999             Belgium             Lille 2015-02-19 00:00:00+00:00   \n\n     grant_year                  app_date class_concat  class_distinct_count  \\\n0          2014 2014-05-08 00:00:00+00:00         G06F                   1.0   \n1          2014 2014-05-08 00:00:00+00:00         G06F                   1.0   \n2          2014 2014-06-20 00:00:00+00:00         G06F                   1.0   \n3          2015 2014-09-16 00:00:00+00:00         C10L                   1.0   \n4          2015 2014-09-16 00:00:00+00:00         C10L                   1.0   \n..          ...                       ...          ...                   ...   \n995        2015 2013-04-12 00:00:00+00:00         G01N                   1.0   \n996        2015 2013-04-12 00:00:00+00:00         G01N                   1.0   \n997        2015 2013-04-12 00:00:00+00:00         G01N                   1.0   \n998        2015 2013-03-13 00:00:00+00:00    A01D,A01B                   2.0   \n999        2015 2013-03-13 00:00:00+00:00    A01D,A01B                   2.0   \n\n    class_ipc_concat  class_ipc_distinct_count  \n0               G06F                       1.0  \n1               G06F                       1.0  \n2               G06F                       1.0  \n3               C10L                       1.0  \n4               C10L                       1.0  \n..               ...                       ...  \n995             G01N                       1.0  \n996             G01N                       1.0  \n997             G01N                       1.0  \n998        A01B,A01D                       2.0  \n999        A01B,A01D                       2.0  \n\n[1000 rows x 14 columns]",
      "text/html": "<div>\n<style scoped>\n    .dataframe tbody tr th:only-of-type {\n        vertical-align: middle;\n    }\n\n    .dataframe tbody tr th {\n        vertical-align: top;\n    }\n\n    .dataframe thead th {\n        text-align: right;\n    }\n</style>\n<table border=\"1\" class=\"dataframe\">\n  <thead>\n    <tr style=\"text-align: right;\">\n      <th></th>\n      <th>patent_id</th>\n      <th>app_name</th>\n      <th>app_year</th>\n      <th>city</th>\n      <th>country</th>\n      <th>country_name</th>\n      <th>ecosystem</th>\n      <th>grant_date</th>\n      <th>grant_year</th>\n      <th>app_date</th>\n      <th>class_concat</th>\n      <th>class_distinct_count</th>\n      <th>class_ipc_concat</th>\n      <th>class_ipc_distinct_count</th>\n    </tr>\n  </thead>\n  <tbody>\n    <tr>\n      <th>0</th>\n      <td>20140380145</td>\n      <td>Rajiv Puranik</td>\n      <td>2014</td>\n      <td>San Francisco</td>\n      <td>US</td>\n      <td>United States</td>\n      <td>Silicon Valley</td>\n      <td>2014-12-25 00:00:00+00:00</td>\n      <td>2014</td>\n      <td>2014-05-08 00:00:00+00:00</td>\n      <td>G06F</td>\n      <td>1.0</td>\n      <td>G06F</td>\n      <td>1.0</td>\n    </tr>\n    <tr>\n      <th>1</th>\n      <td>20140380145</td>\n      <td>Thomas Wilsher</td>\n      <td>2014</td>\n      <td>San Francisco</td>\n      <td>US</td>\n      <td>United States</td>\n      <td>Silicon Valley</td>\n      <td>2014-12-25 00:00:00+00:00</td>\n      <td>2014</td>\n      <td>2014-05-08 00:00:00+00:00</td>\n      <td>G06F</td>\n      <td>1.0</td>\n      <td>G06F</td>\n      <td>1.0</td>\n    </tr>\n    <tr>\n      <th>2</th>\n      <td>20140380219</td>\n      <td>John CARTAN</td>\n      <td>2014</td>\n      <td>Alameda</td>\n      <td>US</td>\n      <td>United States</td>\n      <td>Silicon Valley</td>\n      <td>2014-12-25 00:00:00+00:00</td>\n      <td>2014</td>\n      <td>2014-06-20 00:00:00+00:00</td>\n      <td>G06F</td>\n      <td>1.0</td>\n      <td>G06F</td>\n      <td>1.0</td>\n    </tr>\n    <tr>\n      <th>3</th>\n      <td>20150000186</td>\n      <td>Barry Freel</td>\n      <td>2014</td>\n      <td>Ottawa</td>\n      <td>CA</td>\n      <td>Canada</td>\n      <td>Ottawa</td>\n      <td>2015-01-01 00:00:00+00:00</td>\n      <td>2015</td>\n      <td>2014-09-16 00:00:00+00:00</td>\n      <td>C10L</td>\n      <td>1.0</td>\n      <td>C10L</td>\n      <td>1.0</td>\n    </tr>\n    <tr>\n      <th>4</th>\n      <td>20150000186</td>\n      <td>Robert Graham</td>\n      <td>2014</td>\n      <td>Ottawa</td>\n      <td>CA</td>\n      <td>Canada</td>\n      <td>Ottawa</td>\n      <td>2015-01-01 00:00:00+00:00</td>\n      <td>2015</td>\n      <td>2014-09-16 00:00:00+00:00</td>\n      <td>C10L</td>\n      <td>1.0</td>\n      <td>C10L</td>\n      <td>1.0</td>\n    </tr>\n    <tr>\n      <th>...</th>\n      <td>...</td>\n      <td>...</td>\n      <td>...</td>\n      <td>...</td>\n      <td>...</td>\n      <td>...</td>\n      <td>...</td>\n      <td>...</td>\n      <td>...</td>\n      <td>...</td>\n      <td>...</td>\n      <td>...</td>\n      <td>...</td>\n      <td>...</td>\n    </tr>\n    <tr>\n      <th>995</th>\n      <td>20150049784</td>\n      <td>Anton Parshin</td>\n      <td>2013</td>\n      <td>Bashkortostan</td>\n      <td>RU</td>\n      <td>Russian Federation</td>\n      <td>NaN</td>\n      <td>2015-02-19 00:00:00+00:00</td>\n      <td>2015</td>\n      <td>2013-04-12 00:00:00+00:00</td>\n      <td>G01N</td>\n      <td>1.0</td>\n      <td>G01N</td>\n      <td>1.0</td>\n    </tr>\n    <tr>\n      <th>996</th>\n      <td>20150049784</td>\n      <td>Irina Bayuk</td>\n      <td>2013</td>\n      <td>Moscow</td>\n      <td>RU</td>\n      <td>Russian Federation</td>\n      <td>Moscow</td>\n      <td>2015-02-19 00:00:00+00:00</td>\n      <td>2015</td>\n      <td>2013-04-12 00:00:00+00:00</td>\n      <td>G01N</td>\n      <td>1.0</td>\n      <td>G01N</td>\n      <td>1.0</td>\n    </tr>\n    <tr>\n      <th>997</th>\n      <td>20150049784</td>\n      <td>Yury Popov</td>\n      <td>2013</td>\n      <td>Moscow</td>\n      <td>RU</td>\n      <td>Russian Federation</td>\n      <td>Moscow</td>\n      <td>2015-02-19 00:00:00+00:00</td>\n      <td>2015</td>\n      <td>2013-04-12 00:00:00+00:00</td>\n      <td>G01N</td>\n      <td>1.0</td>\n      <td>G01N</td>\n      <td>1.0</td>\n    </tr>\n    <tr>\n      <th>998</th>\n      <td>20150050108</td>\n      <td>Alexander Nürnberg</td>\n      <td>2013</td>\n      <td>Herdecke</td>\n      <td>DE</td>\n      <td>Germany</td>\n      <td>Metro Rhein-Ruhr</td>\n      <td>2015-02-19 00:00:00+00:00</td>\n      <td>2015</td>\n      <td>2013-03-13 00:00:00+00:00</td>\n      <td>A01D,A01B</td>\n      <td>2.0</td>\n      <td>A01B,A01D</td>\n      <td>2.0</td>\n    </tr>\n    <tr>\n      <th>999</th>\n      <td>20150050108</td>\n      <td>Didier Verhaeghe</td>\n      <td>2013</td>\n      <td>Ieper</td>\n      <td>BE</td>\n      <td>Belgium</td>\n      <td>Lille</td>\n      <td>2015-02-19 00:00:00+00:00</td>\n      <td>2015</td>\n      <td>2013-03-13 00:00:00+00:00</td>\n      <td>A01D,A01B</td>\n      <td>2.0</td>\n      <td>A01B,A01D</td>\n      <td>2.0</td>\n    </tr>\n  </tbody>\n</table>\n<p>1000 rows × 14 columns</p>\n</div>"
     },
     "execution_count": 5,
     "metadata": {},
     "output_type": "execute_result"
    }
   ],
   "source": [
    "df_raw_patents.head(1000)"
   ],
   "metadata": {
    "collapsed": false,
    "ExecuteTime": {
     "end_time": "2023-11-02T22:44:49.919630800Z",
     "start_time": "2023-11-02T22:44:49.896119800Z"
    }
   }
  },
  {
   "cell_type": "code",
   "execution_count": 6,
   "outputs": [
    {
     "data": {
      "text/plain": "     patent_id         app_name        ecosystem country  app_year\n0  20130080687  Siamack Nemazie  Los Altos Hills      US      2013\n1  20130080687      NGON VAN LE          Fremont      US      2013\n2  20130031357     Dieter Weiss          Munchen      DE      2013\n3  20130031357   Gisela Meister          Munchen      DE      2013\n4  20130031357     Jan Eichholz          Munchen      DE      2013",
      "text/html": "<div>\n<style scoped>\n    .dataframe tbody tr th:only-of-type {\n        vertical-align: middle;\n    }\n\n    .dataframe tbody tr th {\n        vertical-align: top;\n    }\n\n    .dataframe thead th {\n        text-align: right;\n    }\n</style>\n<table border=\"1\" class=\"dataframe\">\n  <thead>\n    <tr style=\"text-align: right;\">\n      <th></th>\n      <th>patent_id</th>\n      <th>app_name</th>\n      <th>ecosystem</th>\n      <th>country</th>\n      <th>app_year</th>\n    </tr>\n  </thead>\n  <tbody>\n    <tr>\n      <th>0</th>\n      <td>20130080687</td>\n      <td>Siamack Nemazie</td>\n      <td>Los Altos Hills</td>\n      <td>US</td>\n      <td>2013</td>\n    </tr>\n    <tr>\n      <th>1</th>\n      <td>20130080687</td>\n      <td>NGON VAN LE</td>\n      <td>Fremont</td>\n      <td>US</td>\n      <td>2013</td>\n    </tr>\n    <tr>\n      <th>2</th>\n      <td>20130031357</td>\n      <td>Dieter Weiss</td>\n      <td>Munchen</td>\n      <td>DE</td>\n      <td>2013</td>\n    </tr>\n    <tr>\n      <th>3</th>\n      <td>20130031357</td>\n      <td>Gisela Meister</td>\n      <td>Munchen</td>\n      <td>DE</td>\n      <td>2013</td>\n    </tr>\n    <tr>\n      <th>4</th>\n      <td>20130031357</td>\n      <td>Jan Eichholz</td>\n      <td>Munchen</td>\n      <td>DE</td>\n      <td>2013</td>\n    </tr>\n  </tbody>\n</table>\n</div>"
     },
     "execution_count": 6,
     "metadata": {},
     "output_type": "execute_result"
    }
   ],
   "source": [
    "df_table_for_applicants = pd.read_csv(filepath_or_buffer=paths.raw_table_for_applicants, header=None, names=['patent_id','app_name','ecosystem','country','app_year'])\n",
    "df_table_for_applicants.drop_duplicates(inplace=True)\n",
    "df_table_for_applicants.head(5)"
   ],
   "metadata": {
    "collapsed": false,
    "ExecuteTime": {
     "end_time": "2023-11-02T22:44:51.122971Z",
     "start_time": "2023-11-02T22:44:49.918123600Z"
    }
   }
  },
  {
   "cell_type": "code",
   "execution_count": 7,
   "outputs": [
    {
     "data": {
      "text/plain": "   publication_number                                           abstract\n0         20080063564  Embodiments of techniques for determining the ...\n1         20080025285  A method for supporting frequency hopping of a...\n2         20080056857  To correct any positional misalignment of a su...\n3         20080031117  A holographic optical accessing system include...\n4         20080056179  Transmitting an acknowledgement/negative ackno...",
      "text/html": "<div>\n<style scoped>\n    .dataframe tbody tr th:only-of-type {\n        vertical-align: middle;\n    }\n\n    .dataframe tbody tr th {\n        vertical-align: top;\n    }\n\n    .dataframe thead th {\n        text-align: right;\n    }\n</style>\n<table border=\"1\" class=\"dataframe\">\n  <thead>\n    <tr style=\"text-align: right;\">\n      <th></th>\n      <th>publication_number</th>\n      <th>abstract</th>\n    </tr>\n  </thead>\n  <tbody>\n    <tr>\n      <th>0</th>\n      <td>20080063564</td>\n      <td>Embodiments of techniques for determining the ...</td>\n    </tr>\n    <tr>\n      <th>1</th>\n      <td>20080025285</td>\n      <td>A method for supporting frequency hopping of a...</td>\n    </tr>\n    <tr>\n      <th>2</th>\n      <td>20080056857</td>\n      <td>To correct any positional misalignment of a su...</td>\n    </tr>\n    <tr>\n      <th>3</th>\n      <td>20080031117</td>\n      <td>A holographic optical accessing system include...</td>\n    </tr>\n    <tr>\n      <th>4</th>\n      <td>20080056179</td>\n      <td>Transmitting an acknowledgement/negative ackno...</td>\n    </tr>\n  </tbody>\n</table>\n</div>"
     },
     "execution_count": 7,
     "metadata": {},
     "output_type": "execute_result"
    }
   ],
   "source": [
    "df_abstract = pd.read_csv(paths.raw_abstract)\n",
    "df_abstract.drop_duplicates(inplace=True)\n",
    "df_abstract.head(5)"
   ],
   "metadata": {
    "collapsed": false,
    "ExecuteTime": {
     "end_time": "2023-11-02T22:45:17.063965400Z",
     "start_time": "2023-11-02T22:44:51.123971400Z"
    }
   }
  },
  {
   "cell_type": "code",
   "execution_count": 8,
   "outputs": [
    {
     "name": "stdout",
     "output_type": "stream",
     "text": [
      "Unique patents for abstract: 4184916\n",
      "Unique patents for raw_patents: 3381583\n",
      "Unique patents for applicants: 622307\n"
     ]
    }
   ],
   "source": [
    "print(f'Unique patents for abstract: {len(df_abstract)}')\n",
    "\n",
    "unique_patents_raw_patents = df_raw_patents['patent_id'].unique()\n",
    "print(f'Unique patents for raw_patents: {len(unique_patents_raw_patents)}')\n",
    "\n",
    "unique_patents_applicants = len(df_table_for_applicants['patent_id'].unique())\n",
    "print(f'Unique patents for applicants: {unique_patents_applicants}')"
   ],
   "metadata": {
    "collapsed": false,
    "ExecuteTime": {
     "end_time": "2023-11-02T22:45:17.353775400Z",
     "start_time": "2023-11-02T22:45:17.059964700Z"
    }
   }
  },
  {
   "cell_type": "code",
   "execution_count": 9,
   "outputs": [
    {
     "name": "stdout",
     "output_type": "stream",
     "text": [
      "City null: 600\n",
      "City null that has applicants: 320\n"
     ]
    },
    {
     "data": {
      "text/plain": "           patent_id           app_name  app_year city country   country_name  \\\n68270    20130302015       Roberto Dini      2012  NaN      IT          Italy   \n144387   20130290847        Paul Hooven      2012  NaN      US  United States   \n144466   20130294902    Ronald Chaccour      2012  NaN      US  United States   \n147450   20140099703     William Parker      2012  NaN      US  United States   \n217812   20130079994        Paul Bunker      2012  NaN      US  United States   \n...              ...                ...       ...  ...     ...            ...   \n9684199  20150313374  Christine Johnson      2014  NaN      US  United States   \n9743495  20130201257    Kia Silverbrook      2012  NaN      US  United States   \n9744537  20130262879         En-Min Jow      2012  NaN      US  United States   \n9758590  20150233075     Michael Maggio      2014  NaN      US  United States   \n9824035  20140045602      Darin DINGMAN      2012  NaN      US  United States   \n\n        ecosystem                grant_date  grant_year  \\\n68270       Turin 2013-11-14 00:00:00+00:00        2013   \n144387        NaN 2013-10-31 00:00:00+00:00        2013   \n144466        NaN 2013-11-07 00:00:00+00:00        2013   \n147450        NaN 2014-04-10 00:00:00+00:00        2014   \n217812        NaN 2013-03-28 00:00:00+00:00        2013   \n...           ...                       ...         ...   \n9684199       NaN 2015-11-05 00:00:00+00:00        2015   \n9743495       NaN 2013-08-08 00:00:00+00:00        2013   \n9744537       NaN 2013-10-03 00:00:00+00:00        2013   \n9758590       NaN 2015-08-20 00:00:00+00:00        2015   \n9824035       NaN 2014-02-13 00:00:00+00:00        2014   \n\n                         app_date    class_concat  class_distinct_count  \\\n68270   2012-02-13 00:00:00+00:00            H04N                   1.0   \n144387  2012-04-30 00:00:00+00:00            G06F                   1.0   \n144466  2012-05-07 00:00:00+00:00            F01D                   1.0   \n147450  2012-10-05 00:00:00+00:00            G01N                   1.0   \n217812  2012-03-29 00:00:00+00:00       B60R,B60T                   2.0   \n...                           ...             ...                   ...   \n9684199 2014-05-03 00:00:00+00:00  A47D,B60N,A47C                   3.0   \n9743495 2012-08-06 00:00:00+00:00            B41J                   1.0   \n9744537 2012-03-29 00:00:00+00:00            G06F                   1.0   \n9758590 2014-02-19 00:00:00+00:00            E02D                   1.0   \n9824035 2012-08-09 00:00:00+00:00            A63B                   1.0   \n\n        class_ipc_concat  class_ipc_distinct_count  \n68270               H04N                       1.0  \n144387              G06F                       1.0  \n144466              F01D                       1.0  \n147450              G01N                       1.0  \n217812         B60R,B60T                       2.0  \n...                  ...                       ...  \n9684199   A47C,A47D,B60N                       3.0  \n9743495             B41J                       1.0  \n9744537             G06F                       1.0  \n9758590             E02D                       1.0  \n9824035             A63B                       1.0  \n\n[320 rows x 14 columns]",
      "text/html": "<div>\n<style scoped>\n    .dataframe tbody tr th:only-of-type {\n        vertical-align: middle;\n    }\n\n    .dataframe tbody tr th {\n        vertical-align: top;\n    }\n\n    .dataframe thead th {\n        text-align: right;\n    }\n</style>\n<table border=\"1\" class=\"dataframe\">\n  <thead>\n    <tr style=\"text-align: right;\">\n      <th></th>\n      <th>patent_id</th>\n      <th>app_name</th>\n      <th>app_year</th>\n      <th>city</th>\n      <th>country</th>\n      <th>country_name</th>\n      <th>ecosystem</th>\n      <th>grant_date</th>\n      <th>grant_year</th>\n      <th>app_date</th>\n      <th>class_concat</th>\n      <th>class_distinct_count</th>\n      <th>class_ipc_concat</th>\n      <th>class_ipc_distinct_count</th>\n    </tr>\n  </thead>\n  <tbody>\n    <tr>\n      <th>68270</th>\n      <td>20130302015</td>\n      <td>Roberto Dini</td>\n      <td>2012</td>\n      <td>NaN</td>\n      <td>IT</td>\n      <td>Italy</td>\n      <td>Turin</td>\n      <td>2013-11-14 00:00:00+00:00</td>\n      <td>2013</td>\n      <td>2012-02-13 00:00:00+00:00</td>\n      <td>H04N</td>\n      <td>1.0</td>\n      <td>H04N</td>\n      <td>1.0</td>\n    </tr>\n    <tr>\n      <th>144387</th>\n      <td>20130290847</td>\n      <td>Paul Hooven</td>\n      <td>2012</td>\n      <td>NaN</td>\n      <td>US</td>\n      <td>United States</td>\n      <td>NaN</td>\n      <td>2013-10-31 00:00:00+00:00</td>\n      <td>2013</td>\n      <td>2012-04-30 00:00:00+00:00</td>\n      <td>G06F</td>\n      <td>1.0</td>\n      <td>G06F</td>\n      <td>1.0</td>\n    </tr>\n    <tr>\n      <th>144466</th>\n      <td>20130294902</td>\n      <td>Ronald Chaccour</td>\n      <td>2012</td>\n      <td>NaN</td>\n      <td>US</td>\n      <td>United States</td>\n      <td>NaN</td>\n      <td>2013-11-07 00:00:00+00:00</td>\n      <td>2013</td>\n      <td>2012-05-07 00:00:00+00:00</td>\n      <td>F01D</td>\n      <td>1.0</td>\n      <td>F01D</td>\n      <td>1.0</td>\n    </tr>\n    <tr>\n      <th>147450</th>\n      <td>20140099703</td>\n      <td>William Parker</td>\n      <td>2012</td>\n      <td>NaN</td>\n      <td>US</td>\n      <td>United States</td>\n      <td>NaN</td>\n      <td>2014-04-10 00:00:00+00:00</td>\n      <td>2014</td>\n      <td>2012-10-05 00:00:00+00:00</td>\n      <td>G01N</td>\n      <td>1.0</td>\n      <td>G01N</td>\n      <td>1.0</td>\n    </tr>\n    <tr>\n      <th>217812</th>\n      <td>20130079994</td>\n      <td>Paul Bunker</td>\n      <td>2012</td>\n      <td>NaN</td>\n      <td>US</td>\n      <td>United States</td>\n      <td>NaN</td>\n      <td>2013-03-28 00:00:00+00:00</td>\n      <td>2013</td>\n      <td>2012-03-29 00:00:00+00:00</td>\n      <td>B60R,B60T</td>\n      <td>2.0</td>\n      <td>B60R,B60T</td>\n      <td>2.0</td>\n    </tr>\n    <tr>\n      <th>...</th>\n      <td>...</td>\n      <td>...</td>\n      <td>...</td>\n      <td>...</td>\n      <td>...</td>\n      <td>...</td>\n      <td>...</td>\n      <td>...</td>\n      <td>...</td>\n      <td>...</td>\n      <td>...</td>\n      <td>...</td>\n      <td>...</td>\n      <td>...</td>\n    </tr>\n    <tr>\n      <th>9684199</th>\n      <td>20150313374</td>\n      <td>Christine Johnson</td>\n      <td>2014</td>\n      <td>NaN</td>\n      <td>US</td>\n      <td>United States</td>\n      <td>NaN</td>\n      <td>2015-11-05 00:00:00+00:00</td>\n      <td>2015</td>\n      <td>2014-05-03 00:00:00+00:00</td>\n      <td>A47D,B60N,A47C</td>\n      <td>3.0</td>\n      <td>A47C,A47D,B60N</td>\n      <td>3.0</td>\n    </tr>\n    <tr>\n      <th>9743495</th>\n      <td>20130201257</td>\n      <td>Kia Silverbrook</td>\n      <td>2012</td>\n      <td>NaN</td>\n      <td>US</td>\n      <td>United States</td>\n      <td>NaN</td>\n      <td>2013-08-08 00:00:00+00:00</td>\n      <td>2013</td>\n      <td>2012-08-06 00:00:00+00:00</td>\n      <td>B41J</td>\n      <td>1.0</td>\n      <td>B41J</td>\n      <td>1.0</td>\n    </tr>\n    <tr>\n      <th>9744537</th>\n      <td>20130262879</td>\n      <td>En-Min Jow</td>\n      <td>2012</td>\n      <td>NaN</td>\n      <td>US</td>\n      <td>United States</td>\n      <td>NaN</td>\n      <td>2013-10-03 00:00:00+00:00</td>\n      <td>2013</td>\n      <td>2012-03-29 00:00:00+00:00</td>\n      <td>G06F</td>\n      <td>1.0</td>\n      <td>G06F</td>\n      <td>1.0</td>\n    </tr>\n    <tr>\n      <th>9758590</th>\n      <td>20150233075</td>\n      <td>Michael Maggio</td>\n      <td>2014</td>\n      <td>NaN</td>\n      <td>US</td>\n      <td>United States</td>\n      <td>NaN</td>\n      <td>2015-08-20 00:00:00+00:00</td>\n      <td>2015</td>\n      <td>2014-02-19 00:00:00+00:00</td>\n      <td>E02D</td>\n      <td>1.0</td>\n      <td>E02D</td>\n      <td>1.0</td>\n    </tr>\n    <tr>\n      <th>9824035</th>\n      <td>20140045602</td>\n      <td>Darin DINGMAN</td>\n      <td>2012</td>\n      <td>NaN</td>\n      <td>US</td>\n      <td>United States</td>\n      <td>NaN</td>\n      <td>2014-02-13 00:00:00+00:00</td>\n      <td>2014</td>\n      <td>2012-08-09 00:00:00+00:00</td>\n      <td>A63B</td>\n      <td>1.0</td>\n      <td>A63B</td>\n      <td>1.0</td>\n    </tr>\n  </tbody>\n</table>\n<p>320 rows × 14 columns</p>\n</div>"
     },
     "execution_count": 9,
     "metadata": {},
     "output_type": "execute_result"
    }
   ],
   "source": [
    "df_city_null = df_raw_patents[\n",
    "    (df_raw_patents['city'].isnull()) &\n",
    "    (df_raw_patents['patent_id'].isin(df_table_for_applicants['patent_id']))\n",
    "]\n",
    "print(f\"City null: {df_raw_patents['city'].isnull().sum()}\")\n",
    "print(f\"City null that has applicants: {len(df_city_null)}\")\n",
    "df_city_null"
   ],
   "metadata": {
    "collapsed": false,
    "ExecuteTime": {
     "end_time": "2023-11-02T22:45:17.698715600Z",
     "start_time": "2023-11-02T22:45:17.347772200Z"
    }
   }
  },
  {
   "cell_type": "code",
   "execution_count": 10,
   "outputs": [
    {
     "name": "stdout",
     "output_type": "stream",
     "text": [
      "Country null: 47\n",
      "Country null that has applicants: 3\n"
     ]
    },
    {
     "data": {
      "text/plain": "           patent_id         app_name  app_year      city country  \\\n1685195  20140178206  Frank Kernstock      2012  Windhoek     NaN   \n5846787  20160113443    Anthony Jager      2015  Rehoboth     NaN   \n5846788  20160113443       Sean Jager      2015  Rehoboth     NaN   \n\n        country_name ecosystem                grant_date  grant_year  \\\n1685195          NaN       NaN 2014-06-26 00:00:00+00:00        2014   \n5846787          NaN       NaN 2016-04-28 00:00:00+00:00        2016   \n5846788          NaN       NaN 2016-04-28 00:00:00+00:00        2016   \n\n                         app_date class_concat  class_distinct_count  \\\n1685195 2012-07-20 00:00:00+00:00         F01D                   1.0   \n5846787 2015-12-31 00:00:00+00:00         A47J                   1.0   \n5846788 2015-12-31 00:00:00+00:00         A47J                   1.0   \n\n        class_ipc_concat  class_ipc_distinct_count  \n1685195             F01D                       1.0  \n5846787             A47J                       1.0  \n5846788             A47J                       1.0  ",
      "text/html": "<div>\n<style scoped>\n    .dataframe tbody tr th:only-of-type {\n        vertical-align: middle;\n    }\n\n    .dataframe tbody tr th {\n        vertical-align: top;\n    }\n\n    .dataframe thead th {\n        text-align: right;\n    }\n</style>\n<table border=\"1\" class=\"dataframe\">\n  <thead>\n    <tr style=\"text-align: right;\">\n      <th></th>\n      <th>patent_id</th>\n      <th>app_name</th>\n      <th>app_year</th>\n      <th>city</th>\n      <th>country</th>\n      <th>country_name</th>\n      <th>ecosystem</th>\n      <th>grant_date</th>\n      <th>grant_year</th>\n      <th>app_date</th>\n      <th>class_concat</th>\n      <th>class_distinct_count</th>\n      <th>class_ipc_concat</th>\n      <th>class_ipc_distinct_count</th>\n    </tr>\n  </thead>\n  <tbody>\n    <tr>\n      <th>1685195</th>\n      <td>20140178206</td>\n      <td>Frank Kernstock</td>\n      <td>2012</td>\n      <td>Windhoek</td>\n      <td>NaN</td>\n      <td>NaN</td>\n      <td>NaN</td>\n      <td>2014-06-26 00:00:00+00:00</td>\n      <td>2014</td>\n      <td>2012-07-20 00:00:00+00:00</td>\n      <td>F01D</td>\n      <td>1.0</td>\n      <td>F01D</td>\n      <td>1.0</td>\n    </tr>\n    <tr>\n      <th>5846787</th>\n      <td>20160113443</td>\n      <td>Anthony Jager</td>\n      <td>2015</td>\n      <td>Rehoboth</td>\n      <td>NaN</td>\n      <td>NaN</td>\n      <td>NaN</td>\n      <td>2016-04-28 00:00:00+00:00</td>\n      <td>2016</td>\n      <td>2015-12-31 00:00:00+00:00</td>\n      <td>A47J</td>\n      <td>1.0</td>\n      <td>A47J</td>\n      <td>1.0</td>\n    </tr>\n    <tr>\n      <th>5846788</th>\n      <td>20160113443</td>\n      <td>Sean Jager</td>\n      <td>2015</td>\n      <td>Rehoboth</td>\n      <td>NaN</td>\n      <td>NaN</td>\n      <td>NaN</td>\n      <td>2016-04-28 00:00:00+00:00</td>\n      <td>2016</td>\n      <td>2015-12-31 00:00:00+00:00</td>\n      <td>A47J</td>\n      <td>1.0</td>\n      <td>A47J</td>\n      <td>1.0</td>\n    </tr>\n  </tbody>\n</table>\n</div>"
     },
     "execution_count": 10,
     "metadata": {},
     "output_type": "execute_result"
    }
   ],
   "source": [
    "df_country_null = df_raw_patents[\n",
    "    (df_raw_patents['country'].isnull()) &\n",
    "    (df_raw_patents['patent_id'].isin(df_table_for_applicants['patent_id']))\n",
    "]\n",
    "print(f\"Country null: {df_raw_patents['country'].isnull().sum()}\")\n",
    "print(f\"Country null that has applicants: {len(df_country_null)}\")\n",
    "df_country_null"
   ],
   "metadata": {
    "collapsed": false,
    "ExecuteTime": {
     "end_time": "2023-11-02T22:45:18.035649600Z",
     "start_time": "2023-11-02T22:45:17.697895800Z"
    }
   }
  },
  {
   "cell_type": "code",
   "execution_count": 11,
   "outputs": [],
   "source": [
    "# b = df_table_for_applicants[df_table_for_applicants['patent_id'].isin(a['patent_id'])]"
   ],
   "metadata": {
    "collapsed": false,
    "ExecuteTime": {
     "end_time": "2023-11-02T22:45:18.044673700Z",
     "start_time": "2023-11-02T22:45:18.035119300Z"
    }
   }
  },
  {
   "cell_type": "code",
   "execution_count": 12,
   "outputs": [
    {
     "data": {
      "text/plain": "         publication_number  \\\n0               20120154258   \n1               20120179978   \n2               20120179978   \n3               20120179978   \n4               20120178784   \n...                     ...   \n7854889         20200302226   \n7854890         20200302226   \n7854891         20200341306   \n7854892         20200341306   \n7854893         20200341306   \n\n                                                  abstract    patent_id  \\\n0        A display device having at least a plurality o...  20120154258   \n1        Method and apparatus for previewing new events...  20120179978   \n2        Method and apparatus for previewing new events...  20120179978   \n3        Method and apparatus for previewing new events...  20120179978   \n4        It has been found that inhibitors of the renni...  20120178784   \n...                                                    ...          ...   \n7854889  In a method for failure detection, operational...  20200302226   \n7854890  In a method for failure detection, operational...  20200302226   \n7854891  The present disclosure discloses an LCD and a ...  20200341306   \n7854892  The present disclosure discloses an LCD and a ...  20200341306   \n7854893  The present disclosure discloses an LCD and a ...  20200341306   \n\n                    app_name  app_year       city country    country_name  \\\n0              Mitsuru Asano      2012   Kanagawa      JP           Japan   \n1        Christopher Wormald      2012  Kitchener      CA          Canada   \n2                 Craig Dunk      2012     Guelph      CA          Canada   \n3            Gerhard Klassen      2012   Waterloo      CA          Canada   \n4            Hugh Montgomery      2012     London      GB  United Kingdom   \n...                      ...       ...        ...     ...             ...   \n7854889      Mustafa Alnaser      2019    Dhahran      SA    Saudi Arabia   \n7854890           Sami FERIK      2019  Al-Khobar      SA    Saudi Arabia   \n7854891              Jian LI      2020    Beijing      CN           China   \n7854892              Lei SHI      2020    Beijing      CN           China   \n7854893             Lei TANG      2020    Beijing      CN           China   \n\n                     ecosystem                grant_date  grant_year  \\\n0                        Tokyo 2012-06-21 00:00:00+00:00        2012   \n1                     Waterloo 2012-07-12 00:00:00+00:00        2012   \n2                     Waterloo 2012-07-12 00:00:00+00:00        2012   \n3                     Waterloo 2012-07-12 00:00:00+00:00        2012   \n4        Greater London;London 2012-07-12 00:00:00+00:00        2012   \n...                        ...                       ...         ...   \n7854889                    NaN 2020-09-24 00:00:00+00:00        2020   \n7854890                    NaN 2020-09-24 00:00:00+00:00        2020   \n7854891                Beijing 2020-10-29 00:00:00+00:00        2020   \n7854892                Beijing 2020-10-29 00:00:00+00:00        2020   \n7854893                Beijing 2020-10-29 00:00:00+00:00        2020   \n\n                         app_date class_concat  class_distinct_count  \\\n0       2012-02-29 00:00:00+00:00         G09G                   1.0   \n1       2012-01-26 00:00:00+00:00    G06F,H04W                   2.0   \n2       2012-01-26 00:00:00+00:00    G06F,H04W                   2.0   \n3       2012-01-26 00:00:00+00:00    G06F,H04W                   2.0   \n4       2012-01-30 00:00:00+00:00    A61P,A61K                   2.0   \n...                           ...          ...                   ...   \n7854889 2019-07-03 00:00:00+00:00    G06K,G06F                   2.0   \n7854890 2019-07-03 00:00:00+00:00    G06K,G06F                   2.0   \n7854891 2020-01-06 00:00:00+00:00         G02F                   1.0   \n7854892 2020-01-06 00:00:00+00:00         G02F                   1.0   \n7854893 2020-01-06 00:00:00+00:00         G02F                   1.0   \n\n        class_ipc_concat  class_ipc_distinct_count  \n0                   G09G                       1.0  \n1              G06F,H04W                       2.0  \n2              G06F,H04W                       2.0  \n3              G06F,H04W                       2.0  \n4                   A61K                       1.0  \n...                  ...                       ...  \n7854889        G06F,G06K                       2.0  \n7854890        G06F,G06K                       2.0  \n7854891             G02F                       1.0  \n7854892             G02F                       1.0  \n7854893             G02F                       1.0  \n\n[7854894 rows x 16 columns]",
      "text/html": "<div>\n<style scoped>\n    .dataframe tbody tr th:only-of-type {\n        vertical-align: middle;\n    }\n\n    .dataframe tbody tr th {\n        vertical-align: top;\n    }\n\n    .dataframe thead th {\n        text-align: right;\n    }\n</style>\n<table border=\"1\" class=\"dataframe\">\n  <thead>\n    <tr style=\"text-align: right;\">\n      <th></th>\n      <th>publication_number</th>\n      <th>abstract</th>\n      <th>patent_id</th>\n      <th>app_name</th>\n      <th>app_year</th>\n      <th>city</th>\n      <th>country</th>\n      <th>country_name</th>\n      <th>ecosystem</th>\n      <th>grant_date</th>\n      <th>grant_year</th>\n      <th>app_date</th>\n      <th>class_concat</th>\n      <th>class_distinct_count</th>\n      <th>class_ipc_concat</th>\n      <th>class_ipc_distinct_count</th>\n    </tr>\n  </thead>\n  <tbody>\n    <tr>\n      <th>0</th>\n      <td>20120154258</td>\n      <td>A display device having at least a plurality o...</td>\n      <td>20120154258</td>\n      <td>Mitsuru Asano</td>\n      <td>2012</td>\n      <td>Kanagawa</td>\n      <td>JP</td>\n      <td>Japan</td>\n      <td>Tokyo</td>\n      <td>2012-06-21 00:00:00+00:00</td>\n      <td>2012</td>\n      <td>2012-02-29 00:00:00+00:00</td>\n      <td>G09G</td>\n      <td>1.0</td>\n      <td>G09G</td>\n      <td>1.0</td>\n    </tr>\n    <tr>\n      <th>1</th>\n      <td>20120179978</td>\n      <td>Method and apparatus for previewing new events...</td>\n      <td>20120179978</td>\n      <td>Christopher Wormald</td>\n      <td>2012</td>\n      <td>Kitchener</td>\n      <td>CA</td>\n      <td>Canada</td>\n      <td>Waterloo</td>\n      <td>2012-07-12 00:00:00+00:00</td>\n      <td>2012</td>\n      <td>2012-01-26 00:00:00+00:00</td>\n      <td>G06F,H04W</td>\n      <td>2.0</td>\n      <td>G06F,H04W</td>\n      <td>2.0</td>\n    </tr>\n    <tr>\n      <th>2</th>\n      <td>20120179978</td>\n      <td>Method and apparatus for previewing new events...</td>\n      <td>20120179978</td>\n      <td>Craig Dunk</td>\n      <td>2012</td>\n      <td>Guelph</td>\n      <td>CA</td>\n      <td>Canada</td>\n      <td>Waterloo</td>\n      <td>2012-07-12 00:00:00+00:00</td>\n      <td>2012</td>\n      <td>2012-01-26 00:00:00+00:00</td>\n      <td>G06F,H04W</td>\n      <td>2.0</td>\n      <td>G06F,H04W</td>\n      <td>2.0</td>\n    </tr>\n    <tr>\n      <th>3</th>\n      <td>20120179978</td>\n      <td>Method and apparatus for previewing new events...</td>\n      <td>20120179978</td>\n      <td>Gerhard Klassen</td>\n      <td>2012</td>\n      <td>Waterloo</td>\n      <td>CA</td>\n      <td>Canada</td>\n      <td>Waterloo</td>\n      <td>2012-07-12 00:00:00+00:00</td>\n      <td>2012</td>\n      <td>2012-01-26 00:00:00+00:00</td>\n      <td>G06F,H04W</td>\n      <td>2.0</td>\n      <td>G06F,H04W</td>\n      <td>2.0</td>\n    </tr>\n    <tr>\n      <th>4</th>\n      <td>20120178784</td>\n      <td>It has been found that inhibitors of the renni...</td>\n      <td>20120178784</td>\n      <td>Hugh Montgomery</td>\n      <td>2012</td>\n      <td>London</td>\n      <td>GB</td>\n      <td>United Kingdom</td>\n      <td>Greater London;London</td>\n      <td>2012-07-12 00:00:00+00:00</td>\n      <td>2012</td>\n      <td>2012-01-30 00:00:00+00:00</td>\n      <td>A61P,A61K</td>\n      <td>2.0</td>\n      <td>A61K</td>\n      <td>1.0</td>\n    </tr>\n    <tr>\n      <th>...</th>\n      <td>...</td>\n      <td>...</td>\n      <td>...</td>\n      <td>...</td>\n      <td>...</td>\n      <td>...</td>\n      <td>...</td>\n      <td>...</td>\n      <td>...</td>\n      <td>...</td>\n      <td>...</td>\n      <td>...</td>\n      <td>...</td>\n      <td>...</td>\n      <td>...</td>\n      <td>...</td>\n    </tr>\n    <tr>\n      <th>7854889</th>\n      <td>20200302226</td>\n      <td>In a method for failure detection, operational...</td>\n      <td>20200302226</td>\n      <td>Mustafa Alnaser</td>\n      <td>2019</td>\n      <td>Dhahran</td>\n      <td>SA</td>\n      <td>Saudi Arabia</td>\n      <td>NaN</td>\n      <td>2020-09-24 00:00:00+00:00</td>\n      <td>2020</td>\n      <td>2019-07-03 00:00:00+00:00</td>\n      <td>G06K,G06F</td>\n      <td>2.0</td>\n      <td>G06F,G06K</td>\n      <td>2.0</td>\n    </tr>\n    <tr>\n      <th>7854890</th>\n      <td>20200302226</td>\n      <td>In a method for failure detection, operational...</td>\n      <td>20200302226</td>\n      <td>Sami FERIK</td>\n      <td>2019</td>\n      <td>Al-Khobar</td>\n      <td>SA</td>\n      <td>Saudi Arabia</td>\n      <td>NaN</td>\n      <td>2020-09-24 00:00:00+00:00</td>\n      <td>2020</td>\n      <td>2019-07-03 00:00:00+00:00</td>\n      <td>G06K,G06F</td>\n      <td>2.0</td>\n      <td>G06F,G06K</td>\n      <td>2.0</td>\n    </tr>\n    <tr>\n      <th>7854891</th>\n      <td>20200341306</td>\n      <td>The present disclosure discloses an LCD and a ...</td>\n      <td>20200341306</td>\n      <td>Jian LI</td>\n      <td>2020</td>\n      <td>Beijing</td>\n      <td>CN</td>\n      <td>China</td>\n      <td>Beijing</td>\n      <td>2020-10-29 00:00:00+00:00</td>\n      <td>2020</td>\n      <td>2020-01-06 00:00:00+00:00</td>\n      <td>G02F</td>\n      <td>1.0</td>\n      <td>G02F</td>\n      <td>1.0</td>\n    </tr>\n    <tr>\n      <th>7854892</th>\n      <td>20200341306</td>\n      <td>The present disclosure discloses an LCD and a ...</td>\n      <td>20200341306</td>\n      <td>Lei SHI</td>\n      <td>2020</td>\n      <td>Beijing</td>\n      <td>CN</td>\n      <td>China</td>\n      <td>Beijing</td>\n      <td>2020-10-29 00:00:00+00:00</td>\n      <td>2020</td>\n      <td>2020-01-06 00:00:00+00:00</td>\n      <td>G02F</td>\n      <td>1.0</td>\n      <td>G02F</td>\n      <td>1.0</td>\n    </tr>\n    <tr>\n      <th>7854893</th>\n      <td>20200341306</td>\n      <td>The present disclosure discloses an LCD and a ...</td>\n      <td>20200341306</td>\n      <td>Lei TANG</td>\n      <td>2020</td>\n      <td>Beijing</td>\n      <td>CN</td>\n      <td>China</td>\n      <td>Beijing</td>\n      <td>2020-10-29 00:00:00+00:00</td>\n      <td>2020</td>\n      <td>2020-01-06 00:00:00+00:00</td>\n      <td>G02F</td>\n      <td>1.0</td>\n      <td>G02F</td>\n      <td>1.0</td>\n    </tr>\n  </tbody>\n</table>\n<p>7854894 rows × 16 columns</p>\n</div>"
     },
     "execution_count": 12,
     "metadata": {},
     "output_type": "execute_result"
    }
   ],
   "source": [
    "df = pd.merge(df_abstract, df_raw_patents, left_on='publication_number', right_on='patent_id')\n",
    "df"
   ],
   "metadata": {
    "collapsed": false,
    "ExecuteTime": {
     "end_time": "2023-11-02T22:45:20.546945800Z",
     "start_time": "2023-11-02T22:45:18.038909500Z"
    }
   }
  },
  {
   "cell_type": "code",
   "execution_count": 13,
   "outputs": [],
   "source": [
    "# df.drop_duplicates(subset='patent_id', keep='first', inplace=True)"
   ],
   "metadata": {
    "collapsed": false,
    "ExecuteTime": {
     "end_time": "2023-11-02T22:45:20.555490400Z",
     "start_time": "2023-11-02T22:45:20.545442400Z"
    }
   }
  },
  {
   "cell_type": "code",
   "execution_count": 14,
   "outputs": [],
   "source": [
    "# df.reset_index(drop='index', inplace=True)\n",
    "# df[['publication_number', 'abstract', 'class_concat']].head()"
   ],
   "metadata": {
    "collapsed": false,
    "ExecuteTime": {
     "end_time": "2023-11-02T22:45:20.564505700Z",
     "start_time": "2023-11-02T22:45:20.550458100Z"
    }
   }
  },
  {
   "cell_type": "code",
   "execution_count": 15,
   "outputs": [
    {
     "name": "stdout",
     "output_type": "stream",
     "text": [
      "Total Abstract: 4184916\n",
      "(Abstract - Raw Patents) =  1463827\n",
      "(Abstract - Applicants) =  3645740\n",
      "(Abstract - Raw Patents - Applicants) =  3645740\n",
      "(Abstract intersection Raw Patents) =  2721089\n",
      "(Abstract intersection Applicants) =  539176\n",
      "(Abstract intersection Raw Patents intersection Applicants) =  429128\n"
     ]
    }
   ],
   "source": [
    "abstract_set = set(df_abstract['publication_number'])\n",
    "raw_set = set(df_raw_patents['patent_id'].unique())\n",
    "applicants_set = set(df_table_for_applicants['patent_id'].unique())\n",
    "\n",
    "abstract_minus_raw = len(abstract_set - raw_set)\n",
    "abstract_minus_applicants = len(abstract_set - applicants_set)\n",
    "abstract_minus_raw_minus_app = len(abstract_set - applicants_set - applicants_set)\n",
    "abstract_intersection_raw = len(abstract_set.intersection(raw_set))\n",
    "abstract_intersection_applicants = len(abstract_set.intersection(applicants_set))\n",
    "abstract_intersection_raw_applicants = len(abstract_set.intersection(raw_set).intersection(applicants_set))\n",
    "print(f'Total Abstract: {len(abstract_set)}')\n",
    "print(f'(Abstract - Raw Patents) =  {abstract_minus_raw}')\n",
    "print(f'(Abstract - Applicants) =  {abstract_minus_applicants}')\n",
    "print(f'(Abstract - Raw Patents - Applicants) =  {abstract_minus_raw_minus_app}')\n",
    "print(f'(Abstract intersection Raw Patents) =  {abstract_intersection_raw}')\n",
    "print(f'(Abstract intersection Applicants) =  {abstract_intersection_applicants}')\n",
    "print(f'(Abstract intersection Raw Patents intersection Applicants) =  {abstract_intersection_raw_applicants}')"
   ],
   "metadata": {
    "collapsed": false,
    "ExecuteTime": {
     "end_time": "2023-11-02T22:45:27.831377800Z",
     "start_time": "2023-11-02T22:45:20.867077100Z"
    }
   }
  },
  {
   "cell_type": "code",
   "execution_count": 16,
   "outputs": [],
   "source": [
    "from src.utils.BokehUtils import BokehUtils\n",
    "from bokeh.layouts import column, row\n",
    "from bokeh.models import ColumnDataSource, NumeralTickFormatter, CategoricalTickFormatter, Legend, LegendItem, Select, CustomJS, Dropdown\n",
    "from bokeh.plotting import figure, show\n",
    "from bokeh.palettes import Category20, Spectral6\n",
    "from bokeh.transform import dodge, factor_cmap\n",
    "from bokeh.io import output_notebook, curdoc, save, output_file"
   ],
   "metadata": {
    "collapsed": false,
    "ExecuteTime": {
     "end_time": "2023-11-02T22:45:28.093337800Z",
     "start_time": "2023-11-02T22:45:27.832378500Z"
    }
   }
  },
  {
   "cell_type": "code",
   "execution_count": 17,
   "outputs": [
    {
     "data": {
      "text/plain": "   app_year  total_app_year\n0      2012          342096\n1      2013          369761\n2      2014          374618\n3      2015          375410\n4      2016          375349",
      "text/html": "<div>\n<style scoped>\n    .dataframe tbody tr th:only-of-type {\n        vertical-align: middle;\n    }\n\n    .dataframe tbody tr th {\n        vertical-align: top;\n    }\n\n    .dataframe thead th {\n        text-align: right;\n    }\n</style>\n<table border=\"1\" class=\"dataframe\">\n  <thead>\n    <tr style=\"text-align: right;\">\n      <th></th>\n      <th>app_year</th>\n      <th>total_app_year</th>\n    </tr>\n  </thead>\n  <tbody>\n    <tr>\n      <th>0</th>\n      <td>2012</td>\n      <td>342096</td>\n    </tr>\n    <tr>\n      <th>1</th>\n      <td>2013</td>\n      <td>369761</td>\n    </tr>\n    <tr>\n      <th>2</th>\n      <td>2014</td>\n      <td>374618</td>\n    </tr>\n    <tr>\n      <th>3</th>\n      <td>2015</td>\n      <td>375410</td>\n    </tr>\n    <tr>\n      <th>4</th>\n      <td>2016</td>\n      <td>375349</td>\n    </tr>\n  </tbody>\n</table>\n</div>"
     },
     "execution_count": 17,
     "metadata": {},
     "output_type": "execute_result"
    }
   ],
   "source": [
    "df_grouped_app_year = df_raw_patents.groupby('app_year')['patent_id'].nunique().rename('total_app_year').reset_index()\n",
    "df_grouped_app_year.head(5)"
   ],
   "metadata": {
    "collapsed": false,
    "ExecuteTime": {
     "end_time": "2023-11-02T22:45:29.257607400Z",
     "start_time": "2023-11-02T22:45:28.098350200Z"
    }
   }
  },
  {
   "cell_type": "code",
   "execution_count": 18,
   "outputs": [
    {
     "data": {
      "text/plain": "   grant_year  total_grant_year\n0        2012             87517\n1        2013            229937\n2        2014            363139\n3        2015            376640\n4        2016            371319",
      "text/html": "<div>\n<style scoped>\n    .dataframe tbody tr th:only-of-type {\n        vertical-align: middle;\n    }\n\n    .dataframe tbody tr th {\n        vertical-align: top;\n    }\n\n    .dataframe thead th {\n        text-align: right;\n    }\n</style>\n<table border=\"1\" class=\"dataframe\">\n  <thead>\n    <tr style=\"text-align: right;\">\n      <th></th>\n      <th>grant_year</th>\n      <th>total_grant_year</th>\n    </tr>\n  </thead>\n  <tbody>\n    <tr>\n      <th>0</th>\n      <td>2012</td>\n      <td>87517</td>\n    </tr>\n    <tr>\n      <th>1</th>\n      <td>2013</td>\n      <td>229937</td>\n    </tr>\n    <tr>\n      <th>2</th>\n      <td>2014</td>\n      <td>363139</td>\n    </tr>\n    <tr>\n      <th>3</th>\n      <td>2015</td>\n      <td>376640</td>\n    </tr>\n    <tr>\n      <th>4</th>\n      <td>2016</td>\n      <td>371319</td>\n    </tr>\n  </tbody>\n</table>\n</div>"
     },
     "execution_count": 18,
     "metadata": {},
     "output_type": "execute_result"
    }
   ],
   "source": [
    "df_grouped_grant_year = df_raw_patents.groupby('grant_year')['patent_id'].nunique().rename('total_grant_year').reset_index()\n",
    "df_grouped_grant_year.head(5)"
   ],
   "metadata": {
    "collapsed": false,
    "ExecuteTime": {
     "end_time": "2023-11-02T22:45:30.173284100Z",
     "start_time": "2023-11-02T22:45:29.258110900Z"
    }
   }
  },
  {
   "cell_type": "code",
   "execution_count": 19,
   "outputs": [
    {
     "data": {
      "text/plain": "   year  total_app_year  total_grant_year\n0  2012          342096             87517\n1  2013          369761            229937\n2  2014          374618            363139\n3  2015          375410            376640\n4  2016          375349            371319",
      "text/html": "<div>\n<style scoped>\n    .dataframe tbody tr th:only-of-type {\n        vertical-align: middle;\n    }\n\n    .dataframe tbody tr th {\n        vertical-align: top;\n    }\n\n    .dataframe thead th {\n        text-align: right;\n    }\n</style>\n<table border=\"1\" class=\"dataframe\">\n  <thead>\n    <tr style=\"text-align: right;\">\n      <th></th>\n      <th>year</th>\n      <th>total_app_year</th>\n      <th>total_grant_year</th>\n    </tr>\n  </thead>\n  <tbody>\n    <tr>\n      <th>0</th>\n      <td>2012</td>\n      <td>342096</td>\n      <td>87517</td>\n    </tr>\n    <tr>\n      <th>1</th>\n      <td>2013</td>\n      <td>369761</td>\n      <td>229937</td>\n    </tr>\n    <tr>\n      <th>2</th>\n      <td>2014</td>\n      <td>374618</td>\n      <td>363139</td>\n    </tr>\n    <tr>\n      <th>3</th>\n      <td>2015</td>\n      <td>375410</td>\n      <td>376640</td>\n    </tr>\n    <tr>\n      <th>4</th>\n      <td>2016</td>\n      <td>375349</td>\n      <td>371319</td>\n    </tr>\n  </tbody>\n</table>\n</div>"
     },
     "execution_count": 19,
     "metadata": {},
     "output_type": "execute_result"
    }
   ],
   "source": [
    "df_grouped_year = pd.merge(df_grouped_app_year, df_grouped_grant_year, left_on='app_year', right_on='grant_year')\n",
    "df_grouped_year.rename(columns={'app_year': 'year'}, inplace=True)\n",
    "df_grouped_year.drop('grant_year', axis=1, inplace=True)\n",
    "\n",
    "df_grouped_year.head(5)"
   ],
   "metadata": {
    "collapsed": false,
    "ExecuteTime": {
     "end_time": "2023-11-02T22:45:30.179791600Z",
     "start_time": "2023-11-02T22:45:30.174284800Z"
    }
   }
  },
  {
   "cell_type": "code",
   "execution_count": 20,
   "outputs": [
    {
     "data": {
      "text/html": "<style>\n        .bk-notebook-logo {\n            display: block;\n            width: 20px;\n            height: 20px;\n            background-image: url(data:image/png;base64,iVBORw0KGgoAAAANSUhEUgAAABQAAAAUCAYAAACNiR0NAAAABHNCSVQICAgIfAhkiAAAAAlwSFlzAAALEgAACxIB0t1+/AAAABx0RVh0U29mdHdhcmUAQWRvYmUgRmlyZXdvcmtzIENTNui8sowAAAOkSURBVDiNjZRtaJVlGMd/1/08zzln5zjP1LWcU9N0NkN8m2CYjpgQYQXqSs0I84OLIC0hkEKoPtiH3gmKoiJDU7QpLgoLjLIQCpEsNJ1vqUOdO7ppbuec5+V+rj4ctwzd8IIbbi6u+8f1539dt3A78eXC7QizUF7gyV1fD1Yqg4JWz84yffhm0qkFqBogB9rM8tZdtwVsPUhWhGcFJngGeWrPzHm5oaMmkfEg1usvLFyc8jLRqDOMru7AyC8saQr7GG7f5fvDeH7Ej8CM66nIF+8yngt6HWaKh7k49Soy9nXurCi1o3qUbS3zWfrYeQDTB/Qj6kX6Ybhw4B+bOYoLKCC9H3Nu/leUTZ1JdRWkkn2ldcCamzrcf47KKXdAJllSlxAOkRgyHsGC/zRday5Qld9DyoM4/q/rUoy/CXh3jzOu3bHUVZeU+DEn8FInkPBFlu3+nW3Nw0mk6vCDiWg8CeJaxEwuHS3+z5RgY+YBR6V1Z1nxSOfoaPa4LASWxxdNp+VWTk7+4vzaou8v8PN+xo+KY2xsw6une2frhw05CTYOmQvsEhjhWjn0bmXPjpE1+kplmmkP3suftwTubK9Vq22qKmrBhpY4jvd5afdRA3wGjFAgcnTK2s4hY0/GPNIb0nErGMCRxWOOX64Z8RAC4oCXdklmEvcL8o0BfkNK4lUg9HTl+oPlQxdNo3Mg4Nv175e/1LDGzZen30MEjRUtmXSfiTVu1kK8W4txyV6BMKlbgk3lMwYCiusNy9fVfvvwMxv8Ynl6vxoByANLTWplvuj/nF9m2+PDtt1eiHPBr1oIfhCChQMBw6Aw0UulqTKZdfVvfG7VcfIqLG9bcldL/+pdWTLxLUy8Qq38heUIjh4XlzZxzQm19lLFlr8vdQ97rjZVOLf8nclzckbcD4wxXMidpX30sFd37Fv/GtwwhzhxGVAprjbg0gCAEeIgwCZyTV2Z1REEW8O4py0wsjeloKoMr6iCY6dP92H6Vw/oTyICIthibxjm/DfN9lVz8IqtqKYLUXfoKVMVQVVJOElGjrnnUt9T9wbgp8AyYKaGlqingHZU/uG2NTZSVqwHQTWkx9hxjkpWDaCg6Ckj5qebgBVbT3V3NNXMSiWSDdGV3hrtzla7J+duwPOToIg42ChPQOQjspnSlp1V+Gjdged7+8UN5CRAV7a5EdFNwCjEaBR27b3W890TE7g24NAP/mMDXRWrGoFPQI9ls/MWO2dWFAar/xcOIImbbpA3zgAAAABJRU5ErkJggg==);\n        }\n    </style>\n    <div>\n        <a href=\"https://bokeh.org\" target=\"_blank\" class=\"bk-notebook-logo\"></a>\n        <span id=\"f8cd442c-c9ed-415b-a3b1-26da2fc5463d\">Loading BokehJS ...</span>\n    </div>\n"
     },
     "metadata": {},
     "output_type": "display_data"
    },
    {
     "data": {
      "application/javascript": "(function(root) {\n  function now() {\n    return new Date();\n  }\n\n  const force = true;\n\n  if (typeof root._bokeh_onload_callbacks === \"undefined\" || force === true) {\n    root._bokeh_onload_callbacks = [];\n    root._bokeh_is_loading = undefined;\n  }\n\nconst JS_MIME_TYPE = 'application/javascript';\n  const HTML_MIME_TYPE = 'text/html';\n  const EXEC_MIME_TYPE = 'application/vnd.bokehjs_exec.v0+json';\n  const CLASS_NAME = 'output_bokeh rendered_html';\n\n  /**\n   * Render data to the DOM node\n   */\n  function render(props, node) {\n    const script = document.createElement(\"script\");\n    node.appendChild(script);\n  }\n\n  /**\n   * Handle when an output is cleared or removed\n   */\n  function handleClearOutput(event, handle) {\n    const cell = handle.cell;\n\n    const id = cell.output_area._bokeh_element_id;\n    const server_id = cell.output_area._bokeh_server_id;\n    // Clean up Bokeh references\n    if (id != null && id in Bokeh.index) {\n      Bokeh.index[id].model.document.clear();\n      delete Bokeh.index[id];\n    }\n\n    if (server_id !== undefined) {\n      // Clean up Bokeh references\n      const cmd_clean = \"from bokeh.io.state import curstate; print(curstate().uuid_to_server['\" + server_id + \"'].get_sessions()[0].document.roots[0]._id)\";\n      cell.notebook.kernel.execute(cmd_clean, {\n        iopub: {\n          output: function(msg) {\n            const id = msg.content.text.trim();\n            if (id in Bokeh.index) {\n              Bokeh.index[id].model.document.clear();\n              delete Bokeh.index[id];\n            }\n          }\n        }\n      });\n      // Destroy server and session\n      const cmd_destroy = \"import bokeh.io.notebook as ion; ion.destroy_server('\" + server_id + \"')\";\n      cell.notebook.kernel.execute(cmd_destroy);\n    }\n  }\n\n  /**\n   * Handle when a new output is added\n   */\n  function handleAddOutput(event, handle) {\n    const output_area = handle.output_area;\n    const output = handle.output;\n\n    // limit handleAddOutput to display_data with EXEC_MIME_TYPE content only\n    if ((output.output_type != \"display_data\") || (!Object.prototype.hasOwnProperty.call(output.data, EXEC_MIME_TYPE))) {\n      return\n    }\n\n    const toinsert = output_area.element.find(\".\" + CLASS_NAME.split(' ')[0]);\n\n    if (output.metadata[EXEC_MIME_TYPE][\"id\"] !== undefined) {\n      toinsert[toinsert.length - 1].firstChild.textContent = output.data[JS_MIME_TYPE];\n      // store reference to embed id on output_area\n      output_area._bokeh_element_id = output.metadata[EXEC_MIME_TYPE][\"id\"];\n    }\n    if (output.metadata[EXEC_MIME_TYPE][\"server_id\"] !== undefined) {\n      const bk_div = document.createElement(\"div\");\n      bk_div.innerHTML = output.data[HTML_MIME_TYPE];\n      const script_attrs = bk_div.children[0].attributes;\n      for (let i = 0; i < script_attrs.length; i++) {\n        toinsert[toinsert.length - 1].firstChild.setAttribute(script_attrs[i].name, script_attrs[i].value);\n        toinsert[toinsert.length - 1].firstChild.textContent = bk_div.children[0].textContent\n      }\n      // store reference to server id on output_area\n      output_area._bokeh_server_id = output.metadata[EXEC_MIME_TYPE][\"server_id\"];\n    }\n  }\n\n  function register_renderer(events, OutputArea) {\n\n    function append_mime(data, metadata, element) {\n      // create a DOM node to render to\n      const toinsert = this.create_output_subarea(\n        metadata,\n        CLASS_NAME,\n        EXEC_MIME_TYPE\n      );\n      this.keyboard_manager.register_events(toinsert);\n      // Render to node\n      const props = {data: data, metadata: metadata[EXEC_MIME_TYPE]};\n      render(props, toinsert[toinsert.length - 1]);\n      element.append(toinsert);\n      return toinsert\n    }\n\n    /* Handle when an output is cleared or removed */\n    events.on('clear_output.CodeCell', handleClearOutput);\n    events.on('delete.Cell', handleClearOutput);\n\n    /* Handle when a new output is added */\n    events.on('output_added.OutputArea', handleAddOutput);\n\n    /**\n     * Register the mime type and append_mime function with output_area\n     */\n    OutputArea.prototype.register_mime_type(EXEC_MIME_TYPE, append_mime, {\n      /* Is output safe? */\n      safe: true,\n      /* Index of renderer in `output_area.display_order` */\n      index: 0\n    });\n  }\n\n  // register the mime type if in Jupyter Notebook environment and previously unregistered\n  if (root.Jupyter !== undefined) {\n    const events = require('base/js/events');\n    const OutputArea = require('notebook/js/outputarea').OutputArea;\n\n    if (OutputArea.prototype.mime_types().indexOf(EXEC_MIME_TYPE) == -1) {\n      register_renderer(events, OutputArea);\n    }\n  }\n  if (typeof (root._bokeh_timeout) === \"undefined\" || force === true) {\n    root._bokeh_timeout = Date.now() + 5000;\n    root._bokeh_failed_load = false;\n  }\n\n  const NB_LOAD_WARNING = {'data': {'text/html':\n     \"<div style='background-color: #fdd'>\\n\"+\n     \"<p>\\n\"+\n     \"BokehJS does not appear to have successfully loaded. If loading BokehJS from CDN, this \\n\"+\n     \"may be due to a slow or bad network connection. Possible fixes:\\n\"+\n     \"</p>\\n\"+\n     \"<ul>\\n\"+\n     \"<li>re-rerun `output_notebook()` to attempt to load from CDN again, or</li>\\n\"+\n     \"<li>use INLINE resources instead, as so:</li>\\n\"+\n     \"</ul>\\n\"+\n     \"<code>\\n\"+\n     \"from bokeh.resources import INLINE\\n\"+\n     \"output_notebook(resources=INLINE)\\n\"+\n     \"</code>\\n\"+\n     \"</div>\"}};\n\n  function display_loaded() {\n    const el = document.getElementById(\"f8cd442c-c9ed-415b-a3b1-26da2fc5463d\");\n    if (el != null) {\n      el.textContent = \"BokehJS is loading...\";\n    }\n    if (root.Bokeh !== undefined) {\n      if (el != null) {\n        el.textContent = \"BokehJS \" + root.Bokeh.version + \" successfully loaded.\";\n      }\n    } else if (Date.now() < root._bokeh_timeout) {\n      setTimeout(display_loaded, 100)\n    }\n  }\n\n  function run_callbacks() {\n    try {\n      root._bokeh_onload_callbacks.forEach(function(callback) {\n        if (callback != null)\n          callback();\n      });\n    } finally {\n      delete root._bokeh_onload_callbacks\n    }\n    console.debug(\"Bokeh: all callbacks have finished\");\n  }\n\n  function load_libs(css_urls, js_urls, callback) {\n    if (css_urls == null) css_urls = [];\n    if (js_urls == null) js_urls = [];\n\n    root._bokeh_onload_callbacks.push(callback);\n    if (root._bokeh_is_loading > 0) {\n      console.debug(\"Bokeh: BokehJS is being loaded, scheduling callback at\", now());\n      return null;\n    }\n    if (js_urls == null || js_urls.length === 0) {\n      run_callbacks();\n      return null;\n    }\n    console.debug(\"Bokeh: BokehJS not loaded, scheduling load and callback at\", now());\n    root._bokeh_is_loading = css_urls.length + js_urls.length;\n\n    function on_load() {\n      root._bokeh_is_loading--;\n      if (root._bokeh_is_loading === 0) {\n        console.debug(\"Bokeh: all BokehJS libraries/stylesheets loaded\");\n        run_callbacks()\n      }\n    }\n\n    function on_error(url) {\n      console.error(\"failed to load \" + url);\n    }\n\n    for (let i = 0; i < css_urls.length; i++) {\n      const url = css_urls[i];\n      const element = document.createElement(\"link\");\n      element.onload = on_load;\n      element.onerror = on_error.bind(null, url);\n      element.rel = \"stylesheet\";\n      element.type = \"text/css\";\n      element.href = url;\n      console.debug(\"Bokeh: injecting link tag for BokehJS stylesheet: \", url);\n      document.body.appendChild(element);\n    }\n\n    for (let i = 0; i < js_urls.length; i++) {\n      const url = js_urls[i];\n      const element = document.createElement('script');\n      element.onload = on_load;\n      element.onerror = on_error.bind(null, url);\n      element.async = false;\n      element.src = url;\n      console.debug(\"Bokeh: injecting script tag for BokehJS library: \", url);\n      document.head.appendChild(element);\n    }\n  };\n\n  function inject_raw_css(css) {\n    const element = document.createElement(\"style\");\n    element.appendChild(document.createTextNode(css));\n    document.body.appendChild(element);\n  }\n\n  const js_urls = [\"https://cdn.bokeh.org/bokeh/release/bokeh-3.2.2.min.js\", \"https://cdn.bokeh.org/bokeh/release/bokeh-gl-3.2.2.min.js\", \"https://cdn.bokeh.org/bokeh/release/bokeh-widgets-3.2.2.min.js\", \"https://cdn.bokeh.org/bokeh/release/bokeh-tables-3.2.2.min.js\", \"https://cdn.bokeh.org/bokeh/release/bokeh-mathjax-3.2.2.min.js\"];\n  const css_urls = [];\n\n  const inline_js = [    function(Bokeh) {\n      Bokeh.set_log_level(\"info\");\n    },\nfunction(Bokeh) {\n    }\n  ];\n\n  function run_inline_js() {\n    if (root.Bokeh !== undefined || force === true) {\n          for (let i = 0; i < inline_js.length; i++) {\n      inline_js[i].call(root, root.Bokeh);\n    }\nif (force === true) {\n        display_loaded();\n      }} else if (Date.now() < root._bokeh_timeout) {\n      setTimeout(run_inline_js, 100);\n    } else if (!root._bokeh_failed_load) {\n      console.log(\"Bokeh: BokehJS failed to load within specified timeout.\");\n      root._bokeh_failed_load = true;\n    } else if (force !== true) {\n      const cell = $(document.getElementById(\"f8cd442c-c9ed-415b-a3b1-26da2fc5463d\")).parents('.cell').data().cell;\n      cell.output_area.append_execute_result(NB_LOAD_WARNING)\n    }\n  }\n\n  if (root._bokeh_is_loading === 0) {\n    console.debug(\"Bokeh: BokehJS loaded, going straight to plotting\");\n    run_inline_js();\n  } else {\n    load_libs(css_urls, js_urls, function() {\n      console.debug(\"Bokeh: BokehJS plotting callback run at\", now());\n      run_inline_js();\n    });\n  }\n}(window));",
      "application/vnd.bokehjs_load.v0+json": "(function(root) {\n  function now() {\n    return new Date();\n  }\n\n  const force = true;\n\n  if (typeof root._bokeh_onload_callbacks === \"undefined\" || force === true) {\n    root._bokeh_onload_callbacks = [];\n    root._bokeh_is_loading = undefined;\n  }\n\n\n  if (typeof (root._bokeh_timeout) === \"undefined\" || force === true) {\n    root._bokeh_timeout = Date.now() + 5000;\n    root._bokeh_failed_load = false;\n  }\n\n  const NB_LOAD_WARNING = {'data': {'text/html':\n     \"<div style='background-color: #fdd'>\\n\"+\n     \"<p>\\n\"+\n     \"BokehJS does not appear to have successfully loaded. If loading BokehJS from CDN, this \\n\"+\n     \"may be due to a slow or bad network connection. Possible fixes:\\n\"+\n     \"</p>\\n\"+\n     \"<ul>\\n\"+\n     \"<li>re-rerun `output_notebook()` to attempt to load from CDN again, or</li>\\n\"+\n     \"<li>use INLINE resources instead, as so:</li>\\n\"+\n     \"</ul>\\n\"+\n     \"<code>\\n\"+\n     \"from bokeh.resources import INLINE\\n\"+\n     \"output_notebook(resources=INLINE)\\n\"+\n     \"</code>\\n\"+\n     \"</div>\"}};\n\n  function display_loaded() {\n    const el = document.getElementById(\"f8cd442c-c9ed-415b-a3b1-26da2fc5463d\");\n    if (el != null) {\n      el.textContent = \"BokehJS is loading...\";\n    }\n    if (root.Bokeh !== undefined) {\n      if (el != null) {\n        el.textContent = \"BokehJS \" + root.Bokeh.version + \" successfully loaded.\";\n      }\n    } else if (Date.now() < root._bokeh_timeout) {\n      setTimeout(display_loaded, 100)\n    }\n  }\n\n  function run_callbacks() {\n    try {\n      root._bokeh_onload_callbacks.forEach(function(callback) {\n        if (callback != null)\n          callback();\n      });\n    } finally {\n      delete root._bokeh_onload_callbacks\n    }\n    console.debug(\"Bokeh: all callbacks have finished\");\n  }\n\n  function load_libs(css_urls, js_urls, callback) {\n    if (css_urls == null) css_urls = [];\n    if (js_urls == null) js_urls = [];\n\n    root._bokeh_onload_callbacks.push(callback);\n    if (root._bokeh_is_loading > 0) {\n      console.debug(\"Bokeh: BokehJS is being loaded, scheduling callback at\", now());\n      return null;\n    }\n    if (js_urls == null || js_urls.length === 0) {\n      run_callbacks();\n      return null;\n    }\n    console.debug(\"Bokeh: BokehJS not loaded, scheduling load and callback at\", now());\n    root._bokeh_is_loading = css_urls.length + js_urls.length;\n\n    function on_load() {\n      root._bokeh_is_loading--;\n      if (root._bokeh_is_loading === 0) {\n        console.debug(\"Bokeh: all BokehJS libraries/stylesheets loaded\");\n        run_callbacks()\n      }\n    }\n\n    function on_error(url) {\n      console.error(\"failed to load \" + url);\n    }\n\n    for (let i = 0; i < css_urls.length; i++) {\n      const url = css_urls[i];\n      const element = document.createElement(\"link\");\n      element.onload = on_load;\n      element.onerror = on_error.bind(null, url);\n      element.rel = \"stylesheet\";\n      element.type = \"text/css\";\n      element.href = url;\n      console.debug(\"Bokeh: injecting link tag for BokehJS stylesheet: \", url);\n      document.body.appendChild(element);\n    }\n\n    for (let i = 0; i < js_urls.length; i++) {\n      const url = js_urls[i];\n      const element = document.createElement('script');\n      element.onload = on_load;\n      element.onerror = on_error.bind(null, url);\n      element.async = false;\n      element.src = url;\n      console.debug(\"Bokeh: injecting script tag for BokehJS library: \", url);\n      document.head.appendChild(element);\n    }\n  };\n\n  function inject_raw_css(css) {\n    const element = document.createElement(\"style\");\n    element.appendChild(document.createTextNode(css));\n    document.body.appendChild(element);\n  }\n\n  const js_urls = [\"https://cdn.bokeh.org/bokeh/release/bokeh-3.2.2.min.js\", \"https://cdn.bokeh.org/bokeh/release/bokeh-gl-3.2.2.min.js\", \"https://cdn.bokeh.org/bokeh/release/bokeh-widgets-3.2.2.min.js\", \"https://cdn.bokeh.org/bokeh/release/bokeh-tables-3.2.2.min.js\", \"https://cdn.bokeh.org/bokeh/release/bokeh-mathjax-3.2.2.min.js\"];\n  const css_urls = [];\n\n  const inline_js = [    function(Bokeh) {\n      Bokeh.set_log_level(\"info\");\n    },\nfunction(Bokeh) {\n    }\n  ];\n\n  function run_inline_js() {\n    if (root.Bokeh !== undefined || force === true) {\n          for (let i = 0; i < inline_js.length; i++) {\n      inline_js[i].call(root, root.Bokeh);\n    }\nif (force === true) {\n        display_loaded();\n      }} else if (Date.now() < root._bokeh_timeout) {\n      setTimeout(run_inline_js, 100);\n    } else if (!root._bokeh_failed_load) {\n      console.log(\"Bokeh: BokehJS failed to load within specified timeout.\");\n      root._bokeh_failed_load = true;\n    } else if (force !== true) {\n      const cell = $(document.getElementById(\"f8cd442c-c9ed-415b-a3b1-26da2fc5463d\")).parents('.cell').data().cell;\n      cell.output_area.append_execute_result(NB_LOAD_WARNING)\n    }\n  }\n\n  if (root._bokeh_is_loading === 0) {\n    console.debug(\"Bokeh: BokehJS loaded, going straight to plotting\");\n    run_inline_js();\n  } else {\n    load_libs(css_urls, js_urls, function() {\n      console.debug(\"Bokeh: BokehJS plotting callback run at\", now());\n      run_inline_js();\n    });\n  }\n}(window));"
     },
     "metadata": {},
     "output_type": "display_data"
    },
    {
     "data": {
      "text/html": "\n  <div id=\"c1a75947-d645-43a0-8e76-1b21033c51a7\" data-root-id=\"p1001\" style=\"display: contents;\"></div>\n"
     },
     "metadata": {},
     "output_type": "display_data"
    },
    {
     "data": {
      "application/javascript": "(function(root) {\n  function embed_document(root) {\n  const docs_json = {\"e9779ba2-b0f1-4678-9e3d-cd361d39c259\":{\"version\":\"3.2.2\",\"title\":\"Bokeh Application\",\"roots\":[{\"type\":\"object\",\"name\":\"Figure\",\"id\":\"p1001\",\"attributes\":{\"width\":800,\"height\":400,\"x_range\":{\"type\":\"object\",\"name\":\"FactorRange\",\"id\":\"p1011\",\"attributes\":{\"factors\":[\"2012\",\"2013\",\"2014\",\"2015\",\"2016\",\"2017\",\"2018\",\"2019\",\"2020\",\"2021\"]}},\"y_range\":{\"type\":\"object\",\"name\":\"DataRange1d\",\"id\":\"p1003\"},\"x_scale\":{\"type\":\"object\",\"name\":\"CategoricalScale\",\"id\":\"p1012\"},\"y_scale\":{\"type\":\"object\",\"name\":\"LinearScale\",\"id\":\"p1013\"},\"title\":{\"type\":\"object\",\"name\":\"Title\",\"id\":\"p1004\",\"attributes\":{\"text\":\"Total de patentes por ano\",\"text_color\":\"#E0E0E0\",\"text_font\":\"Helvetica\",\"text_font_size\":\"1.15em\"}},\"outline_line_color\":\"#E0E0E0\",\"outline_line_alpha\":0.25,\"renderers\":[{\"type\":\"object\",\"name\":\"GlyphRenderer\",\"id\":\"p1030\",\"attributes\":{\"data_source\":{\"type\":\"object\",\"name\":\"ColumnDataSource\",\"id\":\"p1024\",\"attributes\":{\"selected\":{\"type\":\"object\",\"name\":\"Selection\",\"id\":\"p1025\",\"attributes\":{\"indices\":[],\"line_indices\":[]}},\"selection_policy\":{\"type\":\"object\",\"name\":\"UnionRenderers\",\"id\":\"p1026\"},\"data\":{\"type\":\"map\",\"entries\":[[\"x\",[[\"2012\",-0.2],[\"2013\",-0.2],[\"2014\",-0.2],[\"2015\",-0.2],[\"2016\",-0.2],[\"2017\",-0.2],[\"2018\",-0.2],[\"2019\",-0.2],[\"2020\",-0.2],[\"2021\",-0.2]]],[\"top\",[342096,369761,374618,375410,375349,386096,386818,378895,270666,121874]]]}}},\"view\":{\"type\":\"object\",\"name\":\"CDSView\",\"id\":\"p1031\",\"attributes\":{\"filter\":{\"type\":\"object\",\"name\":\"AllIndices\",\"id\":\"p1032\"}}},\"glyph\":{\"type\":\"object\",\"name\":\"VBar\",\"id\":\"p1027\",\"attributes\":{\"x\":{\"type\":\"field\",\"field\":\"x\"},\"width\":{\"type\":\"value\",\"value\":0.3},\"top\":{\"type\":\"field\",\"field\":\"top\"},\"line_color\":{\"type\":\"value\",\"value\":\"#3288bd\"},\"fill_color\":{\"type\":\"value\",\"value\":\"#3288bd\"},\"hatch_color\":{\"type\":\"value\",\"value\":\"#3288bd\"}}},\"nonselection_glyph\":{\"type\":\"object\",\"name\":\"VBar\",\"id\":\"p1028\",\"attributes\":{\"x\":{\"type\":\"field\",\"field\":\"x\"},\"width\":{\"type\":\"value\",\"value\":0.3},\"top\":{\"type\":\"field\",\"field\":\"top\"},\"line_color\":{\"type\":\"value\",\"value\":\"#3288bd\"},\"line_alpha\":{\"type\":\"value\",\"value\":0.1},\"fill_color\":{\"type\":\"value\",\"value\":\"#3288bd\"},\"fill_alpha\":{\"type\":\"value\",\"value\":0.1},\"hatch_color\":{\"type\":\"value\",\"value\":\"#3288bd\"},\"hatch_alpha\":{\"type\":\"value\",\"value\":0.1}}},\"muted_glyph\":{\"type\":\"object\",\"name\":\"VBar\",\"id\":\"p1029\",\"attributes\":{\"x\":{\"type\":\"field\",\"field\":\"x\"},\"width\":{\"type\":\"value\",\"value\":0.3},\"top\":{\"type\":\"field\",\"field\":\"top\"},\"line_color\":{\"type\":\"value\",\"value\":\"#3288bd\"},\"line_alpha\":{\"type\":\"value\",\"value\":0.2},\"fill_color\":{\"type\":\"value\",\"value\":\"#3288bd\"},\"fill_alpha\":{\"type\":\"value\",\"value\":0.2},\"hatch_color\":{\"type\":\"value\",\"value\":\"#3288bd\"},\"hatch_alpha\":{\"type\":\"value\",\"value\":0.2}}}}},{\"type\":\"object\",\"name\":\"GlyphRenderer\",\"id\":\"p1039\",\"attributes\":{\"data_source\":{\"type\":\"object\",\"name\":\"ColumnDataSource\",\"id\":\"p1033\",\"attributes\":{\"selected\":{\"type\":\"object\",\"name\":\"Selection\",\"id\":\"p1034\",\"attributes\":{\"indices\":[],\"line_indices\":[]}},\"selection_policy\":{\"type\":\"object\",\"name\":\"UnionRenderers\",\"id\":\"p1035\"},\"data\":{\"type\":\"map\",\"entries\":[[\"x\",[[\"2012\",-0.2],[\"2013\",-0.2],[\"2014\",-0.2],[\"2015\",-0.2],[\"2016\",-0.2],[\"2017\",-0.2],[\"2018\",-0.2],[\"2019\",-0.2],[\"2020\",-0.2],[\"2021\",-0.2]]],[\"y\",[342096,369761,374618,375410,375349,386096,386818,378895,270666,121874]],[\"text\",[\"342.1 K\",\"369.8 K\",\"374.6 K\",\"375.4 K\",\"375.3 K\",\"386.1 K\",\"386.8 K\",\"378.9 K\",\"270.7 K\",\"121.9 K\"]]]}}},\"view\":{\"type\":\"object\",\"name\":\"CDSView\",\"id\":\"p1040\",\"attributes\":{\"filter\":{\"type\":\"object\",\"name\":\"AllIndices\",\"id\":\"p1041\"}}},\"glyph\":{\"type\":\"object\",\"name\":\"Text\",\"id\":\"p1036\",\"attributes\":{\"x\":{\"type\":\"field\",\"field\":\"x\"},\"y\":{\"type\":\"field\",\"field\":\"y\"},\"text\":{\"type\":\"field\",\"field\":\"text\"},\"text_color\":{\"type\":\"value\",\"value\":\"#3288bd\"},\"text_font_size\":{\"type\":\"value\",\"value\":\"6pt\"},\"text_align\":{\"type\":\"value\",\"value\":\"center\"}}},\"nonselection_glyph\":{\"type\":\"object\",\"name\":\"Text\",\"id\":\"p1037\",\"attributes\":{\"x\":{\"type\":\"field\",\"field\":\"x\"},\"y\":{\"type\":\"field\",\"field\":\"y\"},\"text\":{\"type\":\"field\",\"field\":\"text\"},\"text_color\":{\"type\":\"value\",\"value\":\"#3288bd\"},\"text_alpha\":{\"type\":\"value\",\"value\":0.1},\"text_font_size\":{\"type\":\"value\",\"value\":\"6pt\"},\"text_align\":{\"type\":\"value\",\"value\":\"center\"}}},\"muted_glyph\":{\"type\":\"object\",\"name\":\"Text\",\"id\":\"p1038\",\"attributes\":{\"x\":{\"type\":\"field\",\"field\":\"x\"},\"y\":{\"type\":\"field\",\"field\":\"y\"},\"text\":{\"type\":\"field\",\"field\":\"text\"},\"text_color\":{\"type\":\"value\",\"value\":\"#3288bd\"},\"text_alpha\":{\"type\":\"value\",\"value\":0.2},\"text_font_size\":{\"type\":\"value\",\"value\":\"6pt\"},\"text_align\":{\"type\":\"value\",\"value\":\"center\"}}}}},{\"type\":\"object\",\"name\":\"GlyphRenderer\",\"id\":\"p1048\",\"attributes\":{\"data_source\":{\"type\":\"object\",\"name\":\"ColumnDataSource\",\"id\":\"p1042\",\"attributes\":{\"selected\":{\"type\":\"object\",\"name\":\"Selection\",\"id\":\"p1043\",\"attributes\":{\"indices\":[],\"line_indices\":[]}},\"selection_policy\":{\"type\":\"object\",\"name\":\"UnionRenderers\",\"id\":\"p1044\"},\"data\":{\"type\":\"map\",\"entries\":[[\"x\",[[\"2012\",0.2],[\"2013\",0.2],[\"2014\",0.2],[\"2015\",0.2],[\"2016\",0.2],[\"2017\",0.2],[\"2018\",0.2],[\"2019\",0.2],[\"2020\",0.2],[\"2021\",0.2]]],[\"top\",[87517,229937,363139,376640,371319,371274,373298,391506,409227,407726]]]}}},\"view\":{\"type\":\"object\",\"name\":\"CDSView\",\"id\":\"p1049\",\"attributes\":{\"filter\":{\"type\":\"object\",\"name\":\"AllIndices\",\"id\":\"p1050\"}}},\"glyph\":{\"type\":\"object\",\"name\":\"VBar\",\"id\":\"p1045\",\"attributes\":{\"x\":{\"type\":\"field\",\"field\":\"x\"},\"width\":{\"type\":\"value\",\"value\":0.3},\"top\":{\"type\":\"field\",\"field\":\"top\"},\"line_color\":{\"type\":\"value\",\"value\":\"#99d594\"},\"fill_color\":{\"type\":\"value\",\"value\":\"#99d594\"},\"hatch_color\":{\"type\":\"value\",\"value\":\"#99d594\"}}},\"nonselection_glyph\":{\"type\":\"object\",\"name\":\"VBar\",\"id\":\"p1046\",\"attributes\":{\"x\":{\"type\":\"field\",\"field\":\"x\"},\"width\":{\"type\":\"value\",\"value\":0.3},\"top\":{\"type\":\"field\",\"field\":\"top\"},\"line_color\":{\"type\":\"value\",\"value\":\"#99d594\"},\"line_alpha\":{\"type\":\"value\",\"value\":0.1},\"fill_color\":{\"type\":\"value\",\"value\":\"#99d594\"},\"fill_alpha\":{\"type\":\"value\",\"value\":0.1},\"hatch_color\":{\"type\":\"value\",\"value\":\"#99d594\"},\"hatch_alpha\":{\"type\":\"value\",\"value\":0.1}}},\"muted_glyph\":{\"type\":\"object\",\"name\":\"VBar\",\"id\":\"p1047\",\"attributes\":{\"x\":{\"type\":\"field\",\"field\":\"x\"},\"width\":{\"type\":\"value\",\"value\":0.3},\"top\":{\"type\":\"field\",\"field\":\"top\"},\"line_color\":{\"type\":\"value\",\"value\":\"#99d594\"},\"line_alpha\":{\"type\":\"value\",\"value\":0.2},\"fill_color\":{\"type\":\"value\",\"value\":\"#99d594\"},\"fill_alpha\":{\"type\":\"value\",\"value\":0.2},\"hatch_color\":{\"type\":\"value\",\"value\":\"#99d594\"},\"hatch_alpha\":{\"type\":\"value\",\"value\":0.2}}}}},{\"type\":\"object\",\"name\":\"GlyphRenderer\",\"id\":\"p1057\",\"attributes\":{\"data_source\":{\"type\":\"object\",\"name\":\"ColumnDataSource\",\"id\":\"p1051\",\"attributes\":{\"selected\":{\"type\":\"object\",\"name\":\"Selection\",\"id\":\"p1052\",\"attributes\":{\"indices\":[],\"line_indices\":[]}},\"selection_policy\":{\"type\":\"object\",\"name\":\"UnionRenderers\",\"id\":\"p1053\"},\"data\":{\"type\":\"map\",\"entries\":[[\"x\",[[\"2012\",0.2],[\"2013\",0.2],[\"2014\",0.2],[\"2015\",0.2],[\"2016\",0.2],[\"2017\",0.2],[\"2018\",0.2],[\"2019\",0.2],[\"2020\",0.2],[\"2021\",0.2]]],[\"y\",[87517,229937,363139,376640,371319,371274,373298,391506,409227,407726]],[\"text\",[\"87.5 K\",\"229.9 K\",\"363.1 K\",\"376.6 K\",\"371.3 K\",\"371.3 K\",\"373.3 K\",\"391.5 K\",\"409.2 K\",\"407.7 K\"]]]}}},\"view\":{\"type\":\"object\",\"name\":\"CDSView\",\"id\":\"p1058\",\"attributes\":{\"filter\":{\"type\":\"object\",\"name\":\"AllIndices\",\"id\":\"p1059\"}}},\"glyph\":{\"type\":\"object\",\"name\":\"Text\",\"id\":\"p1054\",\"attributes\":{\"x\":{\"type\":\"field\",\"field\":\"x\"},\"y\":{\"type\":\"field\",\"field\":\"y\"},\"text\":{\"type\":\"field\",\"field\":\"text\"},\"text_color\":{\"type\":\"value\",\"value\":\"#99d594\"},\"text_font_size\":{\"type\":\"value\",\"value\":\"6pt\"},\"text_align\":{\"type\":\"value\",\"value\":\"center\"}}},\"nonselection_glyph\":{\"type\":\"object\",\"name\":\"Text\",\"id\":\"p1055\",\"attributes\":{\"x\":{\"type\":\"field\",\"field\":\"x\"},\"y\":{\"type\":\"field\",\"field\":\"y\"},\"text\":{\"type\":\"field\",\"field\":\"text\"},\"text_color\":{\"type\":\"value\",\"value\":\"#99d594\"},\"text_alpha\":{\"type\":\"value\",\"value\":0.1},\"text_font_size\":{\"type\":\"value\",\"value\":\"6pt\"},\"text_align\":{\"type\":\"value\",\"value\":\"center\"}}},\"muted_glyph\":{\"type\":\"object\",\"name\":\"Text\",\"id\":\"p1056\",\"attributes\":{\"x\":{\"type\":\"field\",\"field\":\"x\"},\"y\":{\"type\":\"field\",\"field\":\"y\"},\"text\":{\"type\":\"field\",\"field\":\"text\"},\"text_color\":{\"type\":\"value\",\"value\":\"#99d594\"},\"text_alpha\":{\"type\":\"value\",\"value\":0.2},\"text_font_size\":{\"type\":\"value\",\"value\":\"6pt\"},\"text_align\":{\"type\":\"value\",\"value\":\"center\"}}}}}],\"toolbar\":{\"type\":\"object\",\"name\":\"Toolbar\",\"id\":\"p1010\"},\"toolbar_location\":null,\"left\":[{\"type\":\"object\",\"name\":\"LinearAxis\",\"id\":\"p1019\",\"attributes\":{\"ticker\":{\"type\":\"object\",\"name\":\"BasicTicker\",\"id\":\"p1020\",\"attributes\":{\"mantissas\":[1,2,5]}},\"formatter\":{\"type\":\"object\",\"name\":\"NumeralTickFormatter\",\"id\":\"p1061\"},\"axis_label_standoff\":10,\"axis_label_text_color\":\"#E0E0E0\",\"axis_label_text_font\":\"Helvetica\",\"axis_label_text_font_size\":\"1.25em\",\"axis_label_text_font_style\":\"normal\",\"major_label_policy\":{\"type\":\"object\",\"name\":\"AllLabels\",\"id\":\"p1022\"},\"major_label_text_color\":\"#E0E0E0\",\"major_label_text_font\":\"Helvetica\",\"major_label_text_font_size\":\"1.025em\",\"axis_line_color\":\"#E0E0E0\",\"axis_line_alpha\":0,\"major_tick_line_color\":\"#E0E0E0\",\"major_tick_line_alpha\":0,\"minor_tick_line_color\":\"#E0E0E0\",\"minor_tick_line_alpha\":0}}],\"right\":[{\"type\":\"object\",\"name\":\"Legend\",\"id\":\"p1064\",\"attributes\":{\"title\":\"Valores\",\"border_line_alpha\":0,\"background_fill_color\":\"#20262B\",\"background_fill_alpha\":0.25,\"label_text_color\":\"#E0E0E0\",\"label_text_font\":\"Helvetica\",\"label_text_font_size\":\"1.025em\",\"label_standoff\":8,\"glyph_width\":15,\"spacing\":8,\"items\":[{\"type\":\"object\",\"name\":\"LegendItem\",\"id\":\"p1062\",\"attributes\":{\"label\":{\"type\":\"value\",\"value\":\"Patentes solicitadas\"},\"renderers\":[{\"id\":\"p1030\"}]}},{\"type\":\"object\",\"name\":\"LegendItem\",\"id\":\"p1063\",\"attributes\":{\"label\":{\"type\":\"value\",\"value\":\"Patentes concedidas\"},\"renderers\":[{\"id\":\"p1048\"}]}}]}}],\"below\":[{\"type\":\"object\",\"name\":\"CategoricalAxis\",\"id\":\"p1014\",\"attributes\":{\"ticker\":{\"type\":\"object\",\"name\":\"CategoricalTicker\",\"id\":\"p1015\"},\"formatter\":{\"type\":\"object\",\"name\":\"CategoricalTickFormatter\",\"id\":\"p1060\"},\"axis_label_standoff\":10,\"axis_label_text_color\":\"#E0E0E0\",\"axis_label_text_font\":\"Helvetica\",\"axis_label_text_font_size\":\"1.25em\",\"axis_label_text_font_style\":\"normal\",\"major_label_policy\":{\"type\":\"object\",\"name\":\"AllLabels\",\"id\":\"p1017\"},\"major_label_text_color\":\"#E0E0E0\",\"major_label_text_font\":\"Helvetica\",\"major_label_text_font_size\":\"1.025em\",\"axis_line_color\":\"#E0E0E0\",\"axis_line_alpha\":0,\"major_tick_line_color\":\"#E0E0E0\",\"major_tick_line_alpha\":0,\"minor_tick_line_color\":\"#E0E0E0\",\"minor_tick_line_alpha\":0}}],\"center\":[{\"type\":\"object\",\"name\":\"Grid\",\"id\":\"p1018\",\"attributes\":{\"axis\":{\"id\":\"p1014\"},\"grid_line_color\":null,\"grid_line_alpha\":0.25}},{\"type\":\"object\",\"name\":\"Grid\",\"id\":\"p1023\",\"attributes\":{\"dimension\":1,\"axis\":{\"id\":\"p1019\"},\"grid_line_color\":null,\"grid_line_alpha\":0.25}}],\"background_fill_color\":\"#20262B\",\"border_fill_color\":\"#15191C\",\"min_border_right\":200}}]}};\n  const render_items = [{\"docid\":\"e9779ba2-b0f1-4678-9e3d-cd361d39c259\",\"roots\":{\"p1001\":\"c1a75947-d645-43a0-8e76-1b21033c51a7\"},\"root_ids\":[\"p1001\"]}];\n  root.Bokeh.embed.embed_items_notebook(docs_json, render_items);\n  }\n  if (root.Bokeh !== undefined) {\n    embed_document(root);\n  } else {\n    let attempts = 0;\n    const timer = setInterval(function(root) {\n      if (root.Bokeh !== undefined) {\n        clearInterval(timer);\n        embed_document(root);\n      } else {\n        attempts++;\n        if (attempts > 100) {\n          clearInterval(timer);\n          console.log(\"Bokeh: ERROR: Unable to run BokehJS code because BokehJS library is missing\");\n        }\n      }\n    }, 10, root)\n  }\n})(window);",
      "application/vnd.bokehjs_exec.v0+json": ""
     },
     "metadata": {
      "application/vnd.bokehjs_exec.v0+json": {
       "id": "p1001"
      }
     },
     "output_type": "display_data"
    }
   ],
   "source": [
    "output_notebook()\n",
    "\n",
    "x_axis = df_grouped_year['year'].astype(str).tolist()\n",
    "\n",
    "y = df_grouped_year['total_app_year'].tolist()\n",
    "y2 = df_grouped_year['total_grant_year'].tolist()\n",
    "\n",
    "p = figure(x_range=x_axis, height=400, width=800, title=\"Total de patentes por ano\", toolbar_location=None, tools=\"\", min_border_right=200)\n",
    "\n",
    "colors = Spectral6[:2]\n",
    "\n",
    "offset_y = [-0.2] * len(x_axis)\n",
    "offset_y2 = [0.2] * len(x_axis)\n",
    "\n",
    "y_text = [f'{str(round(valor / 1000, 1))} K' for valor in y]\n",
    "y2_text = [f'{str(round(valor / 1000, 1))} K' for valor in y2]\n",
    "\n",
    "v_bar_1 = p.vbar(x=list(zip(x_axis, offset_y)), top=y, width=0.3, color=colors[0])\n",
    "p.text(x=list(zip(x_axis, offset_y)), y=y, text=y_text, text_font_size='6pt', text_color=colors[0], text_align='center', text_baseline='bottom')\n",
    "\n",
    "v_bar_2 = p.vbar(x=list(zip(x_axis, offset_y2)), top=y2, width=0.3, color=colors[1])\n",
    "p.text(x=list(zip(x_axis, offset_y2)), y=y2, text=y2_text, text_font_size='6pt', text_color=colors[1], text_align='center', text_baseline='bottom')\n",
    "\n",
    "p.xaxis.formatter = CategoricalTickFormatter()\n",
    "p.yaxis.formatter = NumeralTickFormatter(format=\"0,0\")\n",
    "\n",
    "# remove grid\n",
    "p.grid.grid_line_color = None\n",
    "p.grid.band_fill_alpha = 0\n",
    "\n",
    "legend = Legend(items=[\n",
    "    LegendItem(label=\"Patentes solicitadas\", renderers=[v_bar_1]),\n",
    "    LegendItem(label=\"Patentes concedidas\", renderers=[v_bar_2]),\n",
    "])\n",
    "\n",
    "p.add_layout(legend,  'right')\n",
    "p.legend.location = \"top_right\"\n",
    "p.legend.title = \"Valores\"\n",
    "\n",
    "show(p)"
   ],
   "metadata": {
    "collapsed": false,
    "ExecuteTime": {
     "end_time": "2023-11-02T22:45:30.271486800Z",
     "start_time": "2023-11-02T22:45:30.181792300Z"
    }
   }
  },
  {
   "cell_type": "code",
   "execution_count": 21,
   "outputs": [
    {
     "data": {
      "text/plain": "                                     ecosystem  grant_year  total\n0                                      Abidjan        2016      1\n1                                      Abidjan        2019      1\n2                                    Abu Dhabi        2012      7\n3                                    Abu Dhabi        2013     19\n4                                    Abu Dhabi        2014     26\n...                                        ...         ...    ...\n6645           überlingen-germany NOT resolved        2018      1\n6646           überlingen-germany NOT resolved        2019      3\n6647           überlingen-germany NOT resolved        2020      4\n6648           überlingen-germany NOT resolved        2021      4\n6649  ühlingen-birkendorf-germany NOT resolved        2016      1\n\n[6650 rows x 3 columns]",
      "text/html": "<div>\n<style scoped>\n    .dataframe tbody tr th:only-of-type {\n        vertical-align: middle;\n    }\n\n    .dataframe tbody tr th {\n        vertical-align: top;\n    }\n\n    .dataframe thead th {\n        text-align: right;\n    }\n</style>\n<table border=\"1\" class=\"dataframe\">\n  <thead>\n    <tr style=\"text-align: right;\">\n      <th></th>\n      <th>ecosystem</th>\n      <th>grant_year</th>\n      <th>total</th>\n    </tr>\n  </thead>\n  <tbody>\n    <tr>\n      <th>0</th>\n      <td>Abidjan</td>\n      <td>2016</td>\n      <td>1</td>\n    </tr>\n    <tr>\n      <th>1</th>\n      <td>Abidjan</td>\n      <td>2019</td>\n      <td>1</td>\n    </tr>\n    <tr>\n      <th>2</th>\n      <td>Abu Dhabi</td>\n      <td>2012</td>\n      <td>7</td>\n    </tr>\n    <tr>\n      <th>3</th>\n      <td>Abu Dhabi</td>\n      <td>2013</td>\n      <td>19</td>\n    </tr>\n    <tr>\n      <th>4</th>\n      <td>Abu Dhabi</td>\n      <td>2014</td>\n      <td>26</td>\n    </tr>\n    <tr>\n      <th>...</th>\n      <td>...</td>\n      <td>...</td>\n      <td>...</td>\n    </tr>\n    <tr>\n      <th>6645</th>\n      <td>überlingen-germany NOT resolved</td>\n      <td>2018</td>\n      <td>1</td>\n    </tr>\n    <tr>\n      <th>6646</th>\n      <td>überlingen-germany NOT resolved</td>\n      <td>2019</td>\n      <td>3</td>\n    </tr>\n    <tr>\n      <th>6647</th>\n      <td>überlingen-germany NOT resolved</td>\n      <td>2020</td>\n      <td>4</td>\n    </tr>\n    <tr>\n      <th>6648</th>\n      <td>überlingen-germany NOT resolved</td>\n      <td>2021</td>\n      <td>4</td>\n    </tr>\n    <tr>\n      <th>6649</th>\n      <td>ühlingen-birkendorf-germany NOT resolved</td>\n      <td>2016</td>\n      <td>1</td>\n    </tr>\n  </tbody>\n</table>\n<p>6650 rows × 3 columns</p>\n</div>"
     },
     "execution_count": 21,
     "metadata": {},
     "output_type": "execute_result"
    }
   ],
   "source": [
    "df_grouped_country = df_raw_patents.groupby(by=['ecosystem', 'grant_year'])['patent_id'].nunique().rename('total').reset_index()\n",
    "df_grouped_country"
   ],
   "metadata": {
    "collapsed": false,
    "ExecuteTime": {
     "end_time": "2023-11-02T22:45:32.727110500Z",
     "start_time": "2023-11-02T22:45:30.248231600Z"
    }
   }
  },
  {
   "cell_type": "code",
   "execution_count": 22,
   "outputs": [
    {
     "data": {
      "text/html": "<style>\n        .bk-notebook-logo {\n            display: block;\n            width: 20px;\n            height: 20px;\n            background-image: url(data:image/png;base64,iVBORw0KGgoAAAANSUhEUgAAABQAAAAUCAYAAACNiR0NAAAABHNCSVQICAgIfAhkiAAAAAlwSFlzAAALEgAACxIB0t1+/AAAABx0RVh0U29mdHdhcmUAQWRvYmUgRmlyZXdvcmtzIENTNui8sowAAAOkSURBVDiNjZRtaJVlGMd/1/08zzln5zjP1LWcU9N0NkN8m2CYjpgQYQXqSs0I84OLIC0hkEKoPtiH3gmKoiJDU7QpLgoLjLIQCpEsNJ1vqUOdO7ppbuec5+V+rj4ctwzd8IIbbi6u+8f1539dt3A78eXC7QizUF7gyV1fD1Yqg4JWz84yffhm0qkFqBogB9rM8tZdtwVsPUhWhGcFJngGeWrPzHm5oaMmkfEg1usvLFyc8jLRqDOMru7AyC8saQr7GG7f5fvDeH7Ej8CM66nIF+8yngt6HWaKh7k49Soy9nXurCi1o3qUbS3zWfrYeQDTB/Qj6kX6Ybhw4B+bOYoLKCC9H3Nu/leUTZ1JdRWkkn2ldcCamzrcf47KKXdAJllSlxAOkRgyHsGC/zRday5Qld9DyoM4/q/rUoy/CXh3jzOu3bHUVZeU+DEn8FInkPBFlu3+nW3Nw0mk6vCDiWg8CeJaxEwuHS3+z5RgY+YBR6V1Z1nxSOfoaPa4LASWxxdNp+VWTk7+4vzaou8v8PN+xo+KY2xsw6une2frhw05CTYOmQvsEhjhWjn0bmXPjpE1+kplmmkP3suftwTubK9Vq22qKmrBhpY4jvd5afdRA3wGjFAgcnTK2s4hY0/GPNIb0nErGMCRxWOOX64Z8RAC4oCXdklmEvcL8o0BfkNK4lUg9HTl+oPlQxdNo3Mg4Nv175e/1LDGzZen30MEjRUtmXSfiTVu1kK8W4txyV6BMKlbgk3lMwYCiusNy9fVfvvwMxv8Ynl6vxoByANLTWplvuj/nF9m2+PDtt1eiHPBr1oIfhCChQMBw6Aw0UulqTKZdfVvfG7VcfIqLG9bcldL/+pdWTLxLUy8Qq38heUIjh4XlzZxzQm19lLFlr8vdQ97rjZVOLf8nclzckbcD4wxXMidpX30sFd37Fv/GtwwhzhxGVAprjbg0gCAEeIgwCZyTV2Z1REEW8O4py0wsjeloKoMr6iCY6dP92H6Vw/oTyICIthibxjm/DfN9lVz8IqtqKYLUXfoKVMVQVVJOElGjrnnUt9T9wbgp8AyYKaGlqingHZU/uG2NTZSVqwHQTWkx9hxjkpWDaCg6Ckj5qebgBVbT3V3NNXMSiWSDdGV3hrtzla7J+duwPOToIg42ChPQOQjspnSlp1V+Gjdged7+8UN5CRAV7a5EdFNwCjEaBR27b3W890TE7g24NAP/mMDXRWrGoFPQI9ls/MWO2dWFAar/xcOIImbbpA3zgAAAABJRU5ErkJggg==);\n        }\n    </style>\n    <div>\n        <a href=\"https://bokeh.org\" target=\"_blank\" class=\"bk-notebook-logo\"></a>\n        <span id=\"dabcefc0-a58b-44e7-b611-f16b0a81a0e4\">Loading BokehJS ...</span>\n    </div>\n"
     },
     "metadata": {},
     "output_type": "display_data"
    },
    {
     "data": {
      "application/javascript": "(function(root) {\n  function now() {\n    return new Date();\n  }\n\n  const force = true;\n\n  if (typeof root._bokeh_onload_callbacks === \"undefined\" || force === true) {\n    root._bokeh_onload_callbacks = [];\n    root._bokeh_is_loading = undefined;\n  }\n\nconst JS_MIME_TYPE = 'application/javascript';\n  const HTML_MIME_TYPE = 'text/html';\n  const EXEC_MIME_TYPE = 'application/vnd.bokehjs_exec.v0+json';\n  const CLASS_NAME = 'output_bokeh rendered_html';\n\n  /**\n   * Render data to the DOM node\n   */\n  function render(props, node) {\n    const script = document.createElement(\"script\");\n    node.appendChild(script);\n  }\n\n  /**\n   * Handle when an output is cleared or removed\n   */\n  function handleClearOutput(event, handle) {\n    const cell = handle.cell;\n\n    const id = cell.output_area._bokeh_element_id;\n    const server_id = cell.output_area._bokeh_server_id;\n    // Clean up Bokeh references\n    if (id != null && id in Bokeh.index) {\n      Bokeh.index[id].model.document.clear();\n      delete Bokeh.index[id];\n    }\n\n    if (server_id !== undefined) {\n      // Clean up Bokeh references\n      const cmd_clean = \"from bokeh.io.state import curstate; print(curstate().uuid_to_server['\" + server_id + \"'].get_sessions()[0].document.roots[0]._id)\";\n      cell.notebook.kernel.execute(cmd_clean, {\n        iopub: {\n          output: function(msg) {\n            const id = msg.content.text.trim();\n            if (id in Bokeh.index) {\n              Bokeh.index[id].model.document.clear();\n              delete Bokeh.index[id];\n            }\n          }\n        }\n      });\n      // Destroy server and session\n      const cmd_destroy = \"import bokeh.io.notebook as ion; ion.destroy_server('\" + server_id + \"')\";\n      cell.notebook.kernel.execute(cmd_destroy);\n    }\n  }\n\n  /**\n   * Handle when a new output is added\n   */\n  function handleAddOutput(event, handle) {\n    const output_area = handle.output_area;\n    const output = handle.output;\n\n    // limit handleAddOutput to display_data with EXEC_MIME_TYPE content only\n    if ((output.output_type != \"display_data\") || (!Object.prototype.hasOwnProperty.call(output.data, EXEC_MIME_TYPE))) {\n      return\n    }\n\n    const toinsert = output_area.element.find(\".\" + CLASS_NAME.split(' ')[0]);\n\n    if (output.metadata[EXEC_MIME_TYPE][\"id\"] !== undefined) {\n      toinsert[toinsert.length - 1].firstChild.textContent = output.data[JS_MIME_TYPE];\n      // store reference to embed id on output_area\n      output_area._bokeh_element_id = output.metadata[EXEC_MIME_TYPE][\"id\"];\n    }\n    if (output.metadata[EXEC_MIME_TYPE][\"server_id\"] !== undefined) {\n      const bk_div = document.createElement(\"div\");\n      bk_div.innerHTML = output.data[HTML_MIME_TYPE];\n      const script_attrs = bk_div.children[0].attributes;\n      for (let i = 0; i < script_attrs.length; i++) {\n        toinsert[toinsert.length - 1].firstChild.setAttribute(script_attrs[i].name, script_attrs[i].value);\n        toinsert[toinsert.length - 1].firstChild.textContent = bk_div.children[0].textContent\n      }\n      // store reference to server id on output_area\n      output_area._bokeh_server_id = output.metadata[EXEC_MIME_TYPE][\"server_id\"];\n    }\n  }\n\n  function register_renderer(events, OutputArea) {\n\n    function append_mime(data, metadata, element) {\n      // create a DOM node to render to\n      const toinsert = this.create_output_subarea(\n        metadata,\n        CLASS_NAME,\n        EXEC_MIME_TYPE\n      );\n      this.keyboard_manager.register_events(toinsert);\n      // Render to node\n      const props = {data: data, metadata: metadata[EXEC_MIME_TYPE]};\n      render(props, toinsert[toinsert.length - 1]);\n      element.append(toinsert);\n      return toinsert\n    }\n\n    /* Handle when an output is cleared or removed */\n    events.on('clear_output.CodeCell', handleClearOutput);\n    events.on('delete.Cell', handleClearOutput);\n\n    /* Handle when a new output is added */\n    events.on('output_added.OutputArea', handleAddOutput);\n\n    /**\n     * Register the mime type and append_mime function with output_area\n     */\n    OutputArea.prototype.register_mime_type(EXEC_MIME_TYPE, append_mime, {\n      /* Is output safe? */\n      safe: true,\n      /* Index of renderer in `output_area.display_order` */\n      index: 0\n    });\n  }\n\n  // register the mime type if in Jupyter Notebook environment and previously unregistered\n  if (root.Jupyter !== undefined) {\n    const events = require('base/js/events');\n    const OutputArea = require('notebook/js/outputarea').OutputArea;\n\n    if (OutputArea.prototype.mime_types().indexOf(EXEC_MIME_TYPE) == -1) {\n      register_renderer(events, OutputArea);\n    }\n  }\n  if (typeof (root._bokeh_timeout) === \"undefined\" || force === true) {\n    root._bokeh_timeout = Date.now() + 5000;\n    root._bokeh_failed_load = false;\n  }\n\n  const NB_LOAD_WARNING = {'data': {'text/html':\n     \"<div style='background-color: #fdd'>\\n\"+\n     \"<p>\\n\"+\n     \"BokehJS does not appear to have successfully loaded. If loading BokehJS from CDN, this \\n\"+\n     \"may be due to a slow or bad network connection. Possible fixes:\\n\"+\n     \"</p>\\n\"+\n     \"<ul>\\n\"+\n     \"<li>re-rerun `output_notebook()` to attempt to load from CDN again, or</li>\\n\"+\n     \"<li>use INLINE resources instead, as so:</li>\\n\"+\n     \"</ul>\\n\"+\n     \"<code>\\n\"+\n     \"from bokeh.resources import INLINE\\n\"+\n     \"output_notebook(resources=INLINE)\\n\"+\n     \"</code>\\n\"+\n     \"</div>\"}};\n\n  function display_loaded() {\n    const el = document.getElementById(\"dabcefc0-a58b-44e7-b611-f16b0a81a0e4\");\n    if (el != null) {\n      el.textContent = \"BokehJS is loading...\";\n    }\n    if (root.Bokeh !== undefined) {\n      if (el != null) {\n        el.textContent = \"BokehJS \" + root.Bokeh.version + \" successfully loaded.\";\n      }\n    } else if (Date.now() < root._bokeh_timeout) {\n      setTimeout(display_loaded, 100)\n    }\n  }\n\n  function run_callbacks() {\n    try {\n      root._bokeh_onload_callbacks.forEach(function(callback) {\n        if (callback != null)\n          callback();\n      });\n    } finally {\n      delete root._bokeh_onload_callbacks\n    }\n    console.debug(\"Bokeh: all callbacks have finished\");\n  }\n\n  function load_libs(css_urls, js_urls, callback) {\n    if (css_urls == null) css_urls = [];\n    if (js_urls == null) js_urls = [];\n\n    root._bokeh_onload_callbacks.push(callback);\n    if (root._bokeh_is_loading > 0) {\n      console.debug(\"Bokeh: BokehJS is being loaded, scheduling callback at\", now());\n      return null;\n    }\n    if (js_urls == null || js_urls.length === 0) {\n      run_callbacks();\n      return null;\n    }\n    console.debug(\"Bokeh: BokehJS not loaded, scheduling load and callback at\", now());\n    root._bokeh_is_loading = css_urls.length + js_urls.length;\n\n    function on_load() {\n      root._bokeh_is_loading--;\n      if (root._bokeh_is_loading === 0) {\n        console.debug(\"Bokeh: all BokehJS libraries/stylesheets loaded\");\n        run_callbacks()\n      }\n    }\n\n    function on_error(url) {\n      console.error(\"failed to load \" + url);\n    }\n\n    for (let i = 0; i < css_urls.length; i++) {\n      const url = css_urls[i];\n      const element = document.createElement(\"link\");\n      element.onload = on_load;\n      element.onerror = on_error.bind(null, url);\n      element.rel = \"stylesheet\";\n      element.type = \"text/css\";\n      element.href = url;\n      console.debug(\"Bokeh: injecting link tag for BokehJS stylesheet: \", url);\n      document.body.appendChild(element);\n    }\n\n    for (let i = 0; i < js_urls.length; i++) {\n      const url = js_urls[i];\n      const element = document.createElement('script');\n      element.onload = on_load;\n      element.onerror = on_error.bind(null, url);\n      element.async = false;\n      element.src = url;\n      console.debug(\"Bokeh: injecting script tag for BokehJS library: \", url);\n      document.head.appendChild(element);\n    }\n  };\n\n  function inject_raw_css(css) {\n    const element = document.createElement(\"style\");\n    element.appendChild(document.createTextNode(css));\n    document.body.appendChild(element);\n  }\n\n  const js_urls = [\"https://cdn.bokeh.org/bokeh/release/bokeh-3.2.2.min.js\", \"https://cdn.bokeh.org/bokeh/release/bokeh-gl-3.2.2.min.js\", \"https://cdn.bokeh.org/bokeh/release/bokeh-widgets-3.2.2.min.js\", \"https://cdn.bokeh.org/bokeh/release/bokeh-tables-3.2.2.min.js\", \"https://cdn.bokeh.org/bokeh/release/bokeh-mathjax-3.2.2.min.js\"];\n  const css_urls = [];\n\n  const inline_js = [    function(Bokeh) {\n      Bokeh.set_log_level(\"info\");\n    },\nfunction(Bokeh) {\n    }\n  ];\n\n  function run_inline_js() {\n    if (root.Bokeh !== undefined || force === true) {\n          for (let i = 0; i < inline_js.length; i++) {\n      inline_js[i].call(root, root.Bokeh);\n    }\nif (force === true) {\n        display_loaded();\n      }} else if (Date.now() < root._bokeh_timeout) {\n      setTimeout(run_inline_js, 100);\n    } else if (!root._bokeh_failed_load) {\n      console.log(\"Bokeh: BokehJS failed to load within specified timeout.\");\n      root._bokeh_failed_load = true;\n    } else if (force !== true) {\n      const cell = $(document.getElementById(\"dabcefc0-a58b-44e7-b611-f16b0a81a0e4\")).parents('.cell').data().cell;\n      cell.output_area.append_execute_result(NB_LOAD_WARNING)\n    }\n  }\n\n  if (root._bokeh_is_loading === 0) {\n    console.debug(\"Bokeh: BokehJS loaded, going straight to plotting\");\n    run_inline_js();\n  } else {\n    load_libs(css_urls, js_urls, function() {\n      console.debug(\"Bokeh: BokehJS plotting callback run at\", now());\n      run_inline_js();\n    });\n  }\n}(window));",
      "application/vnd.bokehjs_load.v0+json": "(function(root) {\n  function now() {\n    return new Date();\n  }\n\n  const force = true;\n\n  if (typeof root._bokeh_onload_callbacks === \"undefined\" || force === true) {\n    root._bokeh_onload_callbacks = [];\n    root._bokeh_is_loading = undefined;\n  }\n\n\n  if (typeof (root._bokeh_timeout) === \"undefined\" || force === true) {\n    root._bokeh_timeout = Date.now() + 5000;\n    root._bokeh_failed_load = false;\n  }\n\n  const NB_LOAD_WARNING = {'data': {'text/html':\n     \"<div style='background-color: #fdd'>\\n\"+\n     \"<p>\\n\"+\n     \"BokehJS does not appear to have successfully loaded. If loading BokehJS from CDN, this \\n\"+\n     \"may be due to a slow or bad network connection. Possible fixes:\\n\"+\n     \"</p>\\n\"+\n     \"<ul>\\n\"+\n     \"<li>re-rerun `output_notebook()` to attempt to load from CDN again, or</li>\\n\"+\n     \"<li>use INLINE resources instead, as so:</li>\\n\"+\n     \"</ul>\\n\"+\n     \"<code>\\n\"+\n     \"from bokeh.resources import INLINE\\n\"+\n     \"output_notebook(resources=INLINE)\\n\"+\n     \"</code>\\n\"+\n     \"</div>\"}};\n\n  function display_loaded() {\n    const el = document.getElementById(\"dabcefc0-a58b-44e7-b611-f16b0a81a0e4\");\n    if (el != null) {\n      el.textContent = \"BokehJS is loading...\";\n    }\n    if (root.Bokeh !== undefined) {\n      if (el != null) {\n        el.textContent = \"BokehJS \" + root.Bokeh.version + \" successfully loaded.\";\n      }\n    } else if (Date.now() < root._bokeh_timeout) {\n      setTimeout(display_loaded, 100)\n    }\n  }\n\n  function run_callbacks() {\n    try {\n      root._bokeh_onload_callbacks.forEach(function(callback) {\n        if (callback != null)\n          callback();\n      });\n    } finally {\n      delete root._bokeh_onload_callbacks\n    }\n    console.debug(\"Bokeh: all callbacks have finished\");\n  }\n\n  function load_libs(css_urls, js_urls, callback) {\n    if (css_urls == null) css_urls = [];\n    if (js_urls == null) js_urls = [];\n\n    root._bokeh_onload_callbacks.push(callback);\n    if (root._bokeh_is_loading > 0) {\n      console.debug(\"Bokeh: BokehJS is being loaded, scheduling callback at\", now());\n      return null;\n    }\n    if (js_urls == null || js_urls.length === 0) {\n      run_callbacks();\n      return null;\n    }\n    console.debug(\"Bokeh: BokehJS not loaded, scheduling load and callback at\", now());\n    root._bokeh_is_loading = css_urls.length + js_urls.length;\n\n    function on_load() {\n      root._bokeh_is_loading--;\n      if (root._bokeh_is_loading === 0) {\n        console.debug(\"Bokeh: all BokehJS libraries/stylesheets loaded\");\n        run_callbacks()\n      }\n    }\n\n    function on_error(url) {\n      console.error(\"failed to load \" + url);\n    }\n\n    for (let i = 0; i < css_urls.length; i++) {\n      const url = css_urls[i];\n      const element = document.createElement(\"link\");\n      element.onload = on_load;\n      element.onerror = on_error.bind(null, url);\n      element.rel = \"stylesheet\";\n      element.type = \"text/css\";\n      element.href = url;\n      console.debug(\"Bokeh: injecting link tag for BokehJS stylesheet: \", url);\n      document.body.appendChild(element);\n    }\n\n    for (let i = 0; i < js_urls.length; i++) {\n      const url = js_urls[i];\n      const element = document.createElement('script');\n      element.onload = on_load;\n      element.onerror = on_error.bind(null, url);\n      element.async = false;\n      element.src = url;\n      console.debug(\"Bokeh: injecting script tag for BokehJS library: \", url);\n      document.head.appendChild(element);\n    }\n  };\n\n  function inject_raw_css(css) {\n    const element = document.createElement(\"style\");\n    element.appendChild(document.createTextNode(css));\n    document.body.appendChild(element);\n  }\n\n  const js_urls = [\"https://cdn.bokeh.org/bokeh/release/bokeh-3.2.2.min.js\", \"https://cdn.bokeh.org/bokeh/release/bokeh-gl-3.2.2.min.js\", \"https://cdn.bokeh.org/bokeh/release/bokeh-widgets-3.2.2.min.js\", \"https://cdn.bokeh.org/bokeh/release/bokeh-tables-3.2.2.min.js\", \"https://cdn.bokeh.org/bokeh/release/bokeh-mathjax-3.2.2.min.js\"];\n  const css_urls = [];\n\n  const inline_js = [    function(Bokeh) {\n      Bokeh.set_log_level(\"info\");\n    },\nfunction(Bokeh) {\n    }\n  ];\n\n  function run_inline_js() {\n    if (root.Bokeh !== undefined || force === true) {\n          for (let i = 0; i < inline_js.length; i++) {\n      inline_js[i].call(root, root.Bokeh);\n    }\nif (force === true) {\n        display_loaded();\n      }} else if (Date.now() < root._bokeh_timeout) {\n      setTimeout(run_inline_js, 100);\n    } else if (!root._bokeh_failed_load) {\n      console.log(\"Bokeh: BokehJS failed to load within specified timeout.\");\n      root._bokeh_failed_load = true;\n    } else if (force !== true) {\n      const cell = $(document.getElementById(\"dabcefc0-a58b-44e7-b611-f16b0a81a0e4\")).parents('.cell').data().cell;\n      cell.output_area.append_execute_result(NB_LOAD_WARNING)\n    }\n  }\n\n  if (root._bokeh_is_loading === 0) {\n    console.debug(\"Bokeh: BokehJS loaded, going straight to plotting\");\n    run_inline_js();\n  } else {\n    load_libs(css_urls, js_urls, function() {\n      console.debug(\"Bokeh: BokehJS plotting callback run at\", now());\n      run_inline_js();\n    });\n  }\n}(window));"
     },
     "metadata": {},
     "output_type": "display_data"
    }
   ],
   "source": [
    "from IPython.display import display\n",
    "\n",
    "df_initial = df_grouped_country[df_grouped_country['grant_year'] == df_grouped_country['grant_year'].max()]\n",
    "df_initial = df_initial.sort_values(by='total', ascending=False)\n",
    "df_initial = df_initial[:10]\n",
    "x_axis = [str(v) for v in df_initial['ecosystem'].unique()]\n",
    "\n",
    "p2 = figure(x_range=x_axis,\n",
    "           height=600,\n",
    "           width=1000,\n",
    "           title=\"Total Ecosystem by Year\",\n",
    "           toolbar_location=None,\n",
    "           tools=\"\"\n",
    "           )\n",
    "\n",
    "source = ColumnDataSource(data=df_grouped_country)\n",
    "\n",
    "p2.vbar(x='ecosystem',\n",
    "       top='total',\n",
    "       width=0.9,\n",
    "       source=source,\n",
    "       )\n",
    "\n",
    "menu = [(str(d), str(d)) for d in df_grouped_country['grant_year'].sort_values().unique()]\n",
    "dropdown = Dropdown(label=\"Year\", button_type=\"default\", menu=menu)\n",
    "\n",
    "callback = CustomJS(args=dict(source=source, dropdown=dropdown), code=\"\"\"\n",
    "    var data = source.data;\n",
    "    var year = dropdown.value;\n",
    "\n",
    "    const filteredData = data['grant_year'].map((value, index) => {\n",
    "        if (value === year) {\n",
    "            return index;\n",
    "        }\n",
    "    }).filter(index => index !== undefined);\n",
    "\n",
    "    var x = [];\n",
    "    var y = [];\n",
    "\n",
    "    for (let i = 0; i < filteredData.length; i++) {\n",
    "        const index = filteredData[i];\n",
    "        x.push(data['ecosystem'][index]);\n",
    "        y.push(data['total'][index]);\n",
    "    }\n",
    "\n",
    "    source.data = { 'ecosystem': x, 'total': y };\n",
    "    source.change.emit();\n",
    "\"\"\")\n",
    "\n",
    "dropdown.js_on_change(\"value\", callback)\n",
    "\n",
    "output_notebook()\n",
    "\n",
    "# show(column(dropdown, p2))\n",
    "# show(column(dropdown, p2))\n",
    "# show(row(p, column(dropdown, p2)))\n",
    "#\n",
    "# display(dropdown)\n",
    "# display(p2)\n"
   ],
   "metadata": {
    "collapsed": false,
    "ExecuteTime": {
     "end_time": "2023-11-02T22:45:32.745880Z",
     "start_time": "2023-11-02T22:45:32.729622500Z"
    }
   }
  },
  {
   "cell_type": "code",
   "execution_count": 23,
   "outputs": [
    {
     "name": "stdout",
     "output_type": "stream",
     "text": [
      "2021-09-21 00:00:00+00:00\n",
      "2021-12-30 00:00:00+00:00\n"
     ]
    }
   ],
   "source": [
    "df_raw = df_raw_patents[df_raw_patents['app_year'] == 2021]\n",
    "print(df_raw['app_date'].max())\n",
    "print(df_raw['grant_date'].max())"
   ],
   "metadata": {
    "collapsed": false,
    "ExecuteTime": {
     "end_time": "2023-11-02T22:45:32.805656800Z",
     "start_time": "2023-11-02T22:45:32.744915Z"
    }
   }
  },
  {
   "cell_type": "code",
   "execution_count": 24,
   "outputs": [
    {
     "name": "stdout",
     "output_type": "stream",
     "text": [
      "Empty DataFrame\n",
      "Columns: [publication_number, abstract, patent_id, app_name, app_year, city, country, country_name, ecosystem, grant_date, grant_year, app_date, class_concat, class_distinct_count, class_ipc_concat, class_ipc_distinct_count]\n",
      "Index: []\n"
     ]
    }
   ],
   "source": [
    "print(df[df['publication_number'] == 20150000816])"
   ],
   "metadata": {
    "collapsed": false,
    "ExecuteTime": {
     "end_time": "2023-11-02T22:45:32.805656800Z",
     "start_time": "2023-11-02T22:45:32.784430600Z"
    }
   }
  },
  {
   "cell_type": "code",
   "execution_count": 25,
   "outputs": [
    {
     "name": "stdout",
     "output_type": "stream",
     "text": [
      "There are 0 applicants that has patent_id with null value\n",
      "There are 6645 applicants that has city_region with null value\n",
      "There are 0 applicants that has owner with null value\n",
      "There are 10 applicants that has country with null value\n",
      "There are 0 applicants that has year with null value\n"
     ]
    },
    {
     "data": {
      "text/plain": "           patent_id                                         app_name  \\\n522      20130076041                                  Philip Merryman   \n2128     20130063773                                    Sung-Hwan BAE   \n4843     20130177032                                   Martin Berendt   \n5409     20130118389                                      Gene Offutt   \n6388     20130230985  Taiwan Semiconductor Manufacturing Company Ltd.   \n...              ...                                              ...   \n1415777  20190262099                                   Lori Lee Lahti   \n1416366  20200242471                                James David Busch   \n1416561  20200260655                       Christopher C. Sappenfield   \n1416697  20210074416                                     Pat Iantorno   \n1417024  20210235862                                    Dedee R. Dart   \n\n        ecosystem country  app_year  \n522           NaN      US      2013  \n2128          NaN      US      2013  \n4843          NaN      US      2013  \n5409          NaN      US      2013  \n6388          NaN      US      2013  \n...           ...     ...       ...  \n1415777       NaN      US      2019  \n1416366       NaN      US      2020  \n1416561       NaN      US      2020  \n1416697       NaN      US      2021  \n1417024       NaN      US      2021  \n\n[6655 rows x 5 columns]",
      "text/html": "<div>\n<style scoped>\n    .dataframe tbody tr th:only-of-type {\n        vertical-align: middle;\n    }\n\n    .dataframe tbody tr th {\n        vertical-align: top;\n    }\n\n    .dataframe thead th {\n        text-align: right;\n    }\n</style>\n<table border=\"1\" class=\"dataframe\">\n  <thead>\n    <tr style=\"text-align: right;\">\n      <th></th>\n      <th>patent_id</th>\n      <th>app_name</th>\n      <th>ecosystem</th>\n      <th>country</th>\n      <th>app_year</th>\n    </tr>\n  </thead>\n  <tbody>\n    <tr>\n      <th>522</th>\n      <td>20130076041</td>\n      <td>Philip Merryman</td>\n      <td>NaN</td>\n      <td>US</td>\n      <td>2013</td>\n    </tr>\n    <tr>\n      <th>2128</th>\n      <td>20130063773</td>\n      <td>Sung-Hwan BAE</td>\n      <td>NaN</td>\n      <td>US</td>\n      <td>2013</td>\n    </tr>\n    <tr>\n      <th>4843</th>\n      <td>20130177032</td>\n      <td>Martin Berendt</td>\n      <td>NaN</td>\n      <td>US</td>\n      <td>2013</td>\n    </tr>\n    <tr>\n      <th>5409</th>\n      <td>20130118389</td>\n      <td>Gene Offutt</td>\n      <td>NaN</td>\n      <td>US</td>\n      <td>2013</td>\n    </tr>\n    <tr>\n      <th>6388</th>\n      <td>20130230985</td>\n      <td>Taiwan Semiconductor Manufacturing Company Ltd.</td>\n      <td>NaN</td>\n      <td>US</td>\n      <td>2013</td>\n    </tr>\n    <tr>\n      <th>...</th>\n      <td>...</td>\n      <td>...</td>\n      <td>...</td>\n      <td>...</td>\n      <td>...</td>\n    </tr>\n    <tr>\n      <th>1415777</th>\n      <td>20190262099</td>\n      <td>Lori Lee Lahti</td>\n      <td>NaN</td>\n      <td>US</td>\n      <td>2019</td>\n    </tr>\n    <tr>\n      <th>1416366</th>\n      <td>20200242471</td>\n      <td>James David Busch</td>\n      <td>NaN</td>\n      <td>US</td>\n      <td>2020</td>\n    </tr>\n    <tr>\n      <th>1416561</th>\n      <td>20200260655</td>\n      <td>Christopher C. Sappenfield</td>\n      <td>NaN</td>\n      <td>US</td>\n      <td>2020</td>\n    </tr>\n    <tr>\n      <th>1416697</th>\n      <td>20210074416</td>\n      <td>Pat Iantorno</td>\n      <td>NaN</td>\n      <td>US</td>\n      <td>2021</td>\n    </tr>\n    <tr>\n      <th>1417024</th>\n      <td>20210235862</td>\n      <td>Dedee R. Dart</td>\n      <td>NaN</td>\n      <td>US</td>\n      <td>2021</td>\n    </tr>\n  </tbody>\n</table>\n<p>6655 rows × 5 columns</p>\n</div>"
     },
     "execution_count": 25,
     "metadata": {},
     "output_type": "execute_result"
    }
   ],
   "source": [
    "applicants_with_patent_null = df_table_for_applicants['patent_id'].isnull().sum()\n",
    "print(f'There are {applicants_with_patent_null} applicants that has patent_id with null value')\n",
    "applicants_with_city_null = df_table_for_applicants['ecosystem'].isnull().sum()\n",
    "print(f'There are {applicants_with_city_null} applicants that has city_region with null value')\n",
    "applicants_with_owner_null = df_table_for_applicants['app_name'].isnull().sum()\n",
    "print(f'There are {applicants_with_owner_null} applicants that has owner with null value')\n",
    "applicants_with_country_null = df_table_for_applicants['country'].isnull().sum()\n",
    "print(f'There are {applicants_with_country_null} applicants that has country with null value')\n",
    "applicants_with_year_null = df_table_for_applicants['app_year'].isnull().sum()\n",
    "print(f'There are {applicants_with_year_null} applicants that has year with null value')\n",
    "df_applicants_null = df_table_for_applicants[df_table_for_applicants.isnull().any(axis=1)]\n",
    "df_applicants_null"
   ],
   "metadata": {
    "collapsed": false,
    "ExecuteTime": {
     "end_time": "2023-11-02T22:45:32.933235500Z",
     "start_time": "2023-11-02T22:45:32.800657200Z"
    }
   }
  },
  {
   "cell_type": "code",
   "execution_count": 26,
   "outputs": [
    {
     "data": {
      "text/plain": "     patent_id        app_name ecosystem country  app_year\n2  20130031357    Dieter Weiss   Munchen      DE      2013\n3  20130031357  Gisela Meister   Munchen      DE      2013\n4  20130031357    Jan Eichholz   Munchen      DE      2013\n5  20130031357  Florian Gawlas   Munchen      DE      2013\n7  20130077850  Takehiro Hirai    Ushiku      JP      2013",
      "text/html": "<div>\n<style scoped>\n    .dataframe tbody tr th:only-of-type {\n        vertical-align: middle;\n    }\n\n    .dataframe tbody tr th {\n        vertical-align: top;\n    }\n\n    .dataframe thead th {\n        text-align: right;\n    }\n</style>\n<table border=\"1\" class=\"dataframe\">\n  <thead>\n    <tr style=\"text-align: right;\">\n      <th></th>\n      <th>patent_id</th>\n      <th>app_name</th>\n      <th>ecosystem</th>\n      <th>country</th>\n      <th>app_year</th>\n    </tr>\n  </thead>\n  <tbody>\n    <tr>\n      <th>2</th>\n      <td>20130031357</td>\n      <td>Dieter Weiss</td>\n      <td>Munchen</td>\n      <td>DE</td>\n      <td>2013</td>\n    </tr>\n    <tr>\n      <th>3</th>\n      <td>20130031357</td>\n      <td>Gisela Meister</td>\n      <td>Munchen</td>\n      <td>DE</td>\n      <td>2013</td>\n    </tr>\n    <tr>\n      <th>4</th>\n      <td>20130031357</td>\n      <td>Jan Eichholz</td>\n      <td>Munchen</td>\n      <td>DE</td>\n      <td>2013</td>\n    </tr>\n    <tr>\n      <th>5</th>\n      <td>20130031357</td>\n      <td>Florian Gawlas</td>\n      <td>Munchen</td>\n      <td>DE</td>\n      <td>2013</td>\n    </tr>\n    <tr>\n      <th>7</th>\n      <td>20130077850</td>\n      <td>Takehiro Hirai</td>\n      <td>Ushiku</td>\n      <td>JP</td>\n      <td>2013</td>\n    </tr>\n  </tbody>\n</table>\n</div>"
     },
     "execution_count": 26,
     "metadata": {},
     "output_type": "execute_result"
    }
   ],
   "source": [
    "df = df_table_for_applicants[~df_table_for_applicants['patent_id'].isin(df_raw_patents['patent_id'])]\n",
    "df.head()\n",
    "#\n",
    "# df = df_raw_patents[df_raw_patents['patent_id'] == 20130076041]\n",
    "# df.head()\n",
    "# for index, row in df_applicants_null.iterrows():\n",
    "#     app_patent_id = row['patent_id']\n",
    "#     app_owner = str(row['owner'])\n",
    "#     app_city_region = str(['city_region'])\n",
    "#\n",
    "#     df_raw_patents[\n",
    "#         (df_raw_patents['patent_id'] == app_patent_id) &\n",
    "#         ()\n",
    "#     ]"
   ],
   "metadata": {
    "collapsed": false,
    "ExecuteTime": {
     "end_time": "2023-11-02T22:45:33.081430400Z",
     "start_time": "2023-11-02T22:45:32.933235500Z"
    }
   }
  },
  {
   "cell_type": "code",
   "execution_count": 27,
   "outputs": [
    {
     "ename": "KeyError",
     "evalue": "'name_first'",
     "output_type": "error",
     "traceback": [
      "\u001B[1;31m---------------------------------------------------------------------------\u001B[0m",
      "\u001B[1;31mKeyError\u001B[0m                                  Traceback (most recent call last)",
      "File \u001B[1;32m~\\PycharmProjects\\genome\\venv\\Lib\\site-packages\\pandas\\core\\indexes\\base.py:3653\u001B[0m, in \u001B[0;36mIndex.get_loc\u001B[1;34m(self, key)\u001B[0m\n\u001B[0;32m   3652\u001B[0m \u001B[38;5;28;01mtry\u001B[39;00m:\n\u001B[1;32m-> 3653\u001B[0m     \u001B[38;5;28;01mreturn\u001B[39;00m \u001B[38;5;28;43mself\u001B[39;49m\u001B[38;5;241;43m.\u001B[39;49m\u001B[43m_engine\u001B[49m\u001B[38;5;241;43m.\u001B[39;49m\u001B[43mget_loc\u001B[49m\u001B[43m(\u001B[49m\u001B[43mcasted_key\u001B[49m\u001B[43m)\u001B[49m\n\u001B[0;32m   3654\u001B[0m \u001B[38;5;28;01mexcept\u001B[39;00m \u001B[38;5;167;01mKeyError\u001B[39;00m \u001B[38;5;28;01mas\u001B[39;00m err:\n",
      "File \u001B[1;32m~\\PycharmProjects\\genome\\venv\\Lib\\site-packages\\pandas\\_libs\\index.pyx:147\u001B[0m, in \u001B[0;36mpandas._libs.index.IndexEngine.get_loc\u001B[1;34m()\u001B[0m\n",
      "File \u001B[1;32m~\\PycharmProjects\\genome\\venv\\Lib\\site-packages\\pandas\\_libs\\index.pyx:176\u001B[0m, in \u001B[0;36mpandas._libs.index.IndexEngine.get_loc\u001B[1;34m()\u001B[0m\n",
      "File \u001B[1;32mpandas\\_libs\\hashtable_class_helper.pxi:7080\u001B[0m, in \u001B[0;36mpandas._libs.hashtable.PyObjectHashTable.get_item\u001B[1;34m()\u001B[0m\n",
      "File \u001B[1;32mpandas\\_libs\\hashtable_class_helper.pxi:7088\u001B[0m, in \u001B[0;36mpandas._libs.hashtable.PyObjectHashTable.get_item\u001B[1;34m()\u001B[0m\n",
      "\u001B[1;31mKeyError\u001B[0m: 'name_first'",
      "\nThe above exception was the direct cause of the following exception:\n",
      "\u001B[1;31mKeyError\u001B[0m                                  Traceback (most recent call last)",
      "Cell \u001B[1;32mIn[27], line 1\u001B[0m\n\u001B[1;32m----> 1\u001B[0m df2 \u001B[38;5;241m=\u001B[39m df_raw_patents[(\u001B[43mdf_raw_patents\u001B[49m\u001B[43m[\u001B[49m\u001B[38;5;124;43m'\u001B[39;49m\u001B[38;5;124;43mname_first\u001B[39;49m\u001B[38;5;124;43m'\u001B[39;49m\u001B[43m]\u001B[49m \u001B[38;5;241m==\u001B[39m \u001B[38;5;124m'\u001B[39m\u001B[38;5;124mTakehiro\u001B[39m\u001B[38;5;124m'\u001B[39m) \u001B[38;5;241m&\u001B[39m (df_raw_patents[\u001B[38;5;124m'\u001B[39m\u001B[38;5;124mname_last\u001B[39m\u001B[38;5;124m'\u001B[39m] \u001B[38;5;241m==\u001B[39m \u001B[38;5;124m'\u001B[39m\u001B[38;5;124mHirai\u001B[39m\u001B[38;5;124m'\u001B[39m)]\n\u001B[0;32m      2\u001B[0m df2\n",
      "File \u001B[1;32m~\\PycharmProjects\\genome\\venv\\Lib\\site-packages\\pandas\\core\\frame.py:3761\u001B[0m, in \u001B[0;36mDataFrame.__getitem__\u001B[1;34m(self, key)\u001B[0m\n\u001B[0;32m   3759\u001B[0m \u001B[38;5;28;01mif\u001B[39;00m \u001B[38;5;28mself\u001B[39m\u001B[38;5;241m.\u001B[39mcolumns\u001B[38;5;241m.\u001B[39mnlevels \u001B[38;5;241m>\u001B[39m \u001B[38;5;241m1\u001B[39m:\n\u001B[0;32m   3760\u001B[0m     \u001B[38;5;28;01mreturn\u001B[39;00m \u001B[38;5;28mself\u001B[39m\u001B[38;5;241m.\u001B[39m_getitem_multilevel(key)\n\u001B[1;32m-> 3761\u001B[0m indexer \u001B[38;5;241m=\u001B[39m \u001B[38;5;28;43mself\u001B[39;49m\u001B[38;5;241;43m.\u001B[39;49m\u001B[43mcolumns\u001B[49m\u001B[38;5;241;43m.\u001B[39;49m\u001B[43mget_loc\u001B[49m\u001B[43m(\u001B[49m\u001B[43mkey\u001B[49m\u001B[43m)\u001B[49m\n\u001B[0;32m   3762\u001B[0m \u001B[38;5;28;01mif\u001B[39;00m is_integer(indexer):\n\u001B[0;32m   3763\u001B[0m     indexer \u001B[38;5;241m=\u001B[39m [indexer]\n",
      "File \u001B[1;32m~\\PycharmProjects\\genome\\venv\\Lib\\site-packages\\pandas\\core\\indexes\\base.py:3655\u001B[0m, in \u001B[0;36mIndex.get_loc\u001B[1;34m(self, key)\u001B[0m\n\u001B[0;32m   3653\u001B[0m     \u001B[38;5;28;01mreturn\u001B[39;00m \u001B[38;5;28mself\u001B[39m\u001B[38;5;241m.\u001B[39m_engine\u001B[38;5;241m.\u001B[39mget_loc(casted_key)\n\u001B[0;32m   3654\u001B[0m \u001B[38;5;28;01mexcept\u001B[39;00m \u001B[38;5;167;01mKeyError\u001B[39;00m \u001B[38;5;28;01mas\u001B[39;00m err:\n\u001B[1;32m-> 3655\u001B[0m     \u001B[38;5;28;01mraise\u001B[39;00m \u001B[38;5;167;01mKeyError\u001B[39;00m(key) \u001B[38;5;28;01mfrom\u001B[39;00m \u001B[38;5;21;01merr\u001B[39;00m\n\u001B[0;32m   3656\u001B[0m \u001B[38;5;28;01mexcept\u001B[39;00m \u001B[38;5;167;01mTypeError\u001B[39;00m:\n\u001B[0;32m   3657\u001B[0m     \u001B[38;5;66;03m# If we have a listlike key, _check_indexing_error will raise\u001B[39;00m\n\u001B[0;32m   3658\u001B[0m     \u001B[38;5;66;03m#  InvalidIndexError. Otherwise we fall through and re-raise\u001B[39;00m\n\u001B[0;32m   3659\u001B[0m     \u001B[38;5;66;03m#  the TypeError.\u001B[39;00m\n\u001B[0;32m   3660\u001B[0m     \u001B[38;5;28mself\u001B[39m\u001B[38;5;241m.\u001B[39m_check_indexing_error(key)\n",
      "\u001B[1;31mKeyError\u001B[0m: 'name_first'"
     ]
    }
   ],
   "source": [
    "df2 = df_raw_patents[(df_raw_patents['name_first'] == 'Takehiro') & (df_raw_patents['name_last'] == 'Hirai')]\n",
    "df2"
   ],
   "metadata": {
    "collapsed": false,
    "ExecuteTime": {
     "end_time": "2023-11-02T22:45:33.488793700Z",
     "start_time": "2023-11-02T22:45:33.081430400Z"
    }
   }
  },
  {
   "cell_type": "code",
   "execution_count": null,
   "outputs": [],
   "source": [
    "df_missing_applicants = df_raw_patents[~df_raw_patents['patent_id'].isin(df_table_for_applicants['patent_id'])]\n",
    "print(f'There are {len(df_missing_applicants)} patents that has no applicants registered')\n",
    "df_missing_applicants"
   ],
   "metadata": {
    "collapsed": false,
    "ExecuteTime": {
     "end_time": "2023-11-02T22:45:33.490792600Z",
     "start_time": "2023-11-02T22:45:33.489793400Z"
    }
   }
  },
  {
   "cell_type": "code",
   "execution_count": null,
   "outputs": [],
   "source": [
    "# Create applicants that is missing\n",
    "new_applicants = []\n",
    "for index, row in df_missing_applicants.iterrows():\n",
    "    patent_id = row['patent_id']\n",
    "    name_first = str(row['name_first'])\n",
    "    name_last = str(row['name_last'])\n",
    "    city = row['city']\n",
    "    country = row['country']\n",
    "    app_year = row['app_year']\n",
    "    ecosystem = row['Ecosystem']\n",
    "\n",
    "    if pd.isnull(name_last):\n",
    "        owner = name_first\n",
    "    else:\n",
    "        owner = name_first + ' ' + name_last\n",
    "\n",
    "    if pd.isnull(ecosystem):\n",
    "        city_region = city\n",
    "    else:\n",
    "        city_region = ecosystem\n",
    "\n",
    "    new_row = {'patent_id': patent_id,\n",
    "               'owner': owner,\n",
    "               'city_region': city_region,\n",
    "               'country': country,\n",
    "               'year': app_year}\n",
    "\n",
    "    new_applicants.append(new_row)\n",
    "\n",
    "df_table_for_applicants = pd.concat([df_table_for_applicants, pd.DataFrame(new_applicants)])\n",
    "\n",
    "print(f'Applicants size: {len(df_table_for_applicants)}')"
   ],
   "metadata": {
    "collapsed": false,
    "ExecuteTime": {
     "start_time": "2023-11-02T22:45:33.489793400Z"
    }
   }
  },
  {
   "cell_type": "code",
   "execution_count": null,
   "outputs": [],
   "source": [
    "ecosystem_nulls = df_raw_patents['Ecosystem'].isnull().sum()\n",
    "ecosystem_percentage_nulls = (ecosystem_nulls / len(df_raw_patents)) * 100\n",
    "print(f'Total nulls for Ecosystem: {ecosystem_nulls}\\nPercentage nulls for Ecosystem: {round(ecosystem_percentage_nulls, 2)}')"
   ],
   "metadata": {
    "collapsed": false,
    "ExecuteTime": {
     "start_time": "2023-11-02T22:45:33.490792600Z"
    }
   }
  },
  {
   "cell_type": "code",
   "execution_count": null,
   "outputs": [],
   "source": [
    "ecosystem_values = df_raw_patents['Ecosystem'].unique()\n",
    "total_ecosystem = len(ecosystem_values)\n",
    "print(f'Total unique values fo Ecosystem: {total_ecosystem}\\nValues: {ecosystem_values}')"
   ],
   "metadata": {
    "collapsed": false,
    "ExecuteTime": {
     "end_time": "2023-11-02T22:45:33.491793100Z",
     "start_time": "2023-11-02T22:45:33.491793100Z"
    }
   }
  },
  {
   "cell_type": "code",
   "execution_count": null,
   "outputs": [],
   "source": [
    "df_by_city_country = df_raw_patents.groupby(by=['city', 'CountryName'])"
   ],
   "metadata": {
    "collapsed": false,
    "ExecuteTime": {
     "end_time": "2023-11-02T22:45:33.492791800Z",
     "start_time": "2023-11-02T22:45:33.492791800Z"
    }
   }
  },
  {
   "cell_type": "code",
   "execution_count": null,
   "outputs": [],
   "source": [
    "for city_country, df in df_by_city_country:\n",
    "    df_ecosystem_uniques = df['Ecosystem'].unique()\n",
    "    count_uniques = len(df_ecosystem_uniques)\n",
    "    df = df.loc[:, ['city', 'CountryName', 'Ecosystem']]\n",
    "\n",
    "    if count_uniques > 1:\n",
    "        print(f'{city_country[0]}-{city_country[1]} -> {count_uniques} -> {df_ecosystem_uniques}')"
   ],
   "metadata": {
    "collapsed": false,
    "ExecuteTime": {
     "end_time": "2023-11-02T22:45:33.492791800Z",
     "start_time": "2023-11-02T22:45:33.492791800Z"
    }
   }
  },
  {
   "cell_type": "code",
   "execution_count": null,
   "outputs": [],
   "source": [
    "unique_city_country_combinations = df_raw_patents[['city', 'CountryName']].nunique()\n",
    "print(unique_city_country_combinations)"
   ],
   "metadata": {
    "collapsed": false,
    "ExecuteTime": {
     "end_time": "2023-11-02T22:45:33.493792400Z",
     "start_time": "2023-11-02T22:45:33.493792400Z"
    }
   }
  },
  {
   "cell_type": "code",
   "execution_count": null,
   "outputs": [],
   "source": [
    "df_city_null = df_raw_patents[df_raw_patents['city'].isnull()]\n",
    "df_city_null"
   ],
   "metadata": {
    "collapsed": false,
    "ExecuteTime": {
     "end_time": "2023-11-02T22:45:33.494792100Z",
     "start_time": "2023-11-02T22:45:33.494792100Z"
    }
   }
  },
  {
   "cell_type": "code",
   "execution_count": null,
   "outputs": [],
   "source": [
    "df_city_duplicated = df_city_null[df_city_null.duplicated('patent_id', keep=False)]\n",
    "df_city_duplicated"
   ],
   "metadata": {
    "collapsed": false,
    "ExecuteTime": {
     "end_time": "2023-11-02T22:45:33.495793300Z",
     "start_time": "2023-11-02T22:45:33.494792100Z"
    }
   }
  },
  {
   "cell_type": "code",
   "execution_count": null,
   "outputs": [],
   "source": [
    "df_country_null = df_raw_patents[df_raw_patents['country'].isnull()]\n",
    "df_country_null"
   ],
   "metadata": {
    "collapsed": false,
    "ExecuteTime": {
     "end_time": "2023-11-02T22:45:33.495793300Z",
     "start_time": "2023-11-02T22:45:33.495793300Z"
    }
   }
  },
  {
   "cell_type": "code",
   "execution_count": null,
   "outputs": [],
   "source": [
    "df_cities_500 = pd.read_csv(paths.processed_cities_500, encoding='utf-8', dtype={13: str, 14: str})\n",
    "df_cities_500"
   ],
   "metadata": {
    "collapsed": false,
    "ExecuteTime": {
     "start_time": "2023-11-02T22:45:33.495793300Z"
    }
   }
  },
  {
   "cell_type": "code",
   "execution_count": null,
   "outputs": [],
   "source": [
    "df_raw_patents_without_duplicates = df_raw_patents.drop_duplicates()\n",
    "df2_selected = df_cities_500[['name', 'country code', 'latitude', 'longitude']]\n",
    "df2_selected = df2_selected.drop_duplicates()\n",
    "df_merged = df_raw_patents_without_duplicates.merge(df2_selected, how='inner', left_on=['city', 'country'], right_on=['name', 'country code'])\n",
    "df_merged"
   ],
   "metadata": {
    "collapsed": false,
    "ExecuteTime": {
     "end_time": "2023-11-02T22:45:33.497300100Z",
     "start_time": "2023-11-02T22:45:33.497300100Z"
    }
   }
  },
  {
   "cell_type": "code",
   "execution_count": null,
   "outputs": [],
   "source": [
    "print(len(df_raw_patents))\n",
    "print(len(df_raw_patents_without_duplicates))\n",
    "print(len(df_merged))"
   ],
   "metadata": {
    "collapsed": false,
    "ExecuteTime": {
     "end_time": "2023-11-02T22:45:33.497845500Z",
     "start_time": "2023-11-02T22:45:33.497845500Z"
    }
   }
  }
 ],
 "metadata": {
  "kernelspec": {
   "display_name": "Python 3",
   "language": "python",
   "name": "python3"
  },
  "language_info": {
   "codemirror_mode": {
    "name": "ipython",
    "version": 2
   },
   "file_extension": ".py",
   "mimetype": "text/x-python",
   "name": "python",
   "nbconvert_exporter": "python",
   "pygments_lexer": "ipython2",
   "version": "2.7.6"
  }
 },
 "nbformat": 4,
 "nbformat_minor": 0
}
