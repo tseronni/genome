{
 "cells": [
  {
   "cell_type": "code",
   "execution_count": 1,
   "metadata": {
    "collapsed": true,
    "ExecuteTime": {
     "end_time": "2023-06-25T13:29:13.129054100Z",
     "start_time": "2023-06-25T13:29:12.949379200Z"
    }
   },
   "outputs": [],
   "source": [
    "import pandas as pd\n",
    "from src.utils.UsefulPaths import Paths"
   ]
  },
  {
   "cell_type": "code",
   "execution_count": 2,
   "outputs": [],
   "source": [
    "paths = Paths()"
   ],
   "metadata": {
    "collapsed": false,
    "ExecuteTime": {
     "end_time": "2023-06-25T13:29:14.117284Z",
     "start_time": "2023-06-25T13:29:14.095632900Z"
    }
   }
  },
  {
   "cell_type": "code",
   "execution_count": 25,
   "outputs": [],
   "source": [
    "df_raw_patents = pd.read_csv(paths.raw_raw_patents, parse_dates=['grant_date', 'app_date'])"
   ],
   "metadata": {
    "collapsed": false,
    "ExecuteTime": {
     "end_time": "2023-06-25T14:38:04.927648200Z",
     "start_time": "2023-06-25T14:37:30.903217400Z"
    }
   }
  },
  {
   "cell_type": "code",
   "execution_count": 26,
   "outputs": [],
   "source": [
    "df_raw_patents = df_raw_patents.drop(['GoogleCity', 'CityCountry'], axis=1)\n",
    "\n",
    "df_raw_patents = df_raw_patents.rename(columns=\n",
    "                                       {\n",
    "                                           'class_IPC_concat': 'class_ipc_concat',\n",
    "                                           'class_IPC_distinct_count': 'class_ipc_distinct_count',\n",
    "                                           'CountryName': 'country_name',\n",
    "                                           'Ecosystem': 'ecosystem'\n",
    "                                       }\n",
    ")\n",
    "\n",
    "df_raw_patents['app_name'] = df_raw_patents.apply(\n",
    "    lambda row: str(row['name_first']) + ' ' + str(row['name_last']) if pd.notnull(row['name_last']) else row['name_first'],\n",
    "    axis=1)\n",
    "\n",
    "df_raw_patents = df_raw_patents.drop(['name_first', 'name_last'], axis=1)\n",
    "\n",
    "df_raw_patents = df_raw_patents.loc[:, [\n",
    "                                           'patent_id',\n",
    "                                           'app_name',\n",
    "                                           'app_year',\n",
    "                                           'city',\n",
    "                                           'country',\n",
    "                                           'country_name',\n",
    "                                           'ecosystem',\n",
    "                                           'grant_date',\n",
    "                                           'grant_year',\n",
    "                                           'app_date',\n",
    "                                           'class_concat',\n",
    "                                           'class_distinct_count',\n",
    "                                           'class_ipc_concat',\n",
    "                                           'class_ipc_distinct_count'\n",
    "                                       ]\n",
    "                 ]\n",
    "\n",
    "df_raw_patents.drop_duplicates(inplace=True)"
   ],
   "metadata": {
    "collapsed": false,
    "ExecuteTime": {
     "end_time": "2023-06-25T14:39:29.595504200Z",
     "start_time": "2023-06-25T14:38:26.314884Z"
    }
   }
  },
  {
   "cell_type": "code",
   "execution_count": 27,
   "outputs": [
    {
     "data": {
      "text/plain": "     patent_id        app_name  app_year           city country  \\\n0  20140380145   Rajiv Puranik      2014  San Francisco      US   \n1  20140380145  Thomas Wilsher      2014  San Francisco      US   \n2  20140380219     John CARTAN      2014        Alameda      US   \n3  20150000186     Barry Freel      2014         Ottawa      CA   \n4  20150000186   Robert Graham      2014         Ottawa      CA   \n\n    country_name       ecosystem                grant_date  grant_year  \\\n0  United States  Silicon Valley 2014-12-25 00:00:00+00:00        2014   \n1  United States  Silicon Valley 2014-12-25 00:00:00+00:00        2014   \n2  United States  Silicon Valley 2014-12-25 00:00:00+00:00        2014   \n3         Canada          Ottawa 2015-01-01 00:00:00+00:00        2015   \n4         Canada          Ottawa 2015-01-01 00:00:00+00:00        2015   \n\n                   app_date class_concat  class_distinct_count  \\\n0 2014-05-08 00:00:00+00:00         G06F                   1.0   \n1 2014-05-08 00:00:00+00:00         G06F                   1.0   \n2 2014-06-20 00:00:00+00:00         G06F                   1.0   \n3 2014-09-16 00:00:00+00:00         C10L                   1.0   \n4 2014-09-16 00:00:00+00:00         C10L                   1.0   \n\n  class_ipc_concat  class_ipc_distinct_count  \n0             G06F                       1.0  \n1             G06F                       1.0  \n2             G06F                       1.0  \n3             C10L                       1.0  \n4             C10L                       1.0  ",
      "text/html": "<div>\n<style scoped>\n    .dataframe tbody tr th:only-of-type {\n        vertical-align: middle;\n    }\n\n    .dataframe tbody tr th {\n        vertical-align: top;\n    }\n\n    .dataframe thead th {\n        text-align: right;\n    }\n</style>\n<table border=\"1\" class=\"dataframe\">\n  <thead>\n    <tr style=\"text-align: right;\">\n      <th></th>\n      <th>patent_id</th>\n      <th>app_name</th>\n      <th>app_year</th>\n      <th>city</th>\n      <th>country</th>\n      <th>country_name</th>\n      <th>ecosystem</th>\n      <th>grant_date</th>\n      <th>grant_year</th>\n      <th>app_date</th>\n      <th>class_concat</th>\n      <th>class_distinct_count</th>\n      <th>class_ipc_concat</th>\n      <th>class_ipc_distinct_count</th>\n    </tr>\n  </thead>\n  <tbody>\n    <tr>\n      <th>0</th>\n      <td>20140380145</td>\n      <td>Rajiv Puranik</td>\n      <td>2014</td>\n      <td>San Francisco</td>\n      <td>US</td>\n      <td>United States</td>\n      <td>Silicon Valley</td>\n      <td>2014-12-25 00:00:00+00:00</td>\n      <td>2014</td>\n      <td>2014-05-08 00:00:00+00:00</td>\n      <td>G06F</td>\n      <td>1.0</td>\n      <td>G06F</td>\n      <td>1.0</td>\n    </tr>\n    <tr>\n      <th>1</th>\n      <td>20140380145</td>\n      <td>Thomas Wilsher</td>\n      <td>2014</td>\n      <td>San Francisco</td>\n      <td>US</td>\n      <td>United States</td>\n      <td>Silicon Valley</td>\n      <td>2014-12-25 00:00:00+00:00</td>\n      <td>2014</td>\n      <td>2014-05-08 00:00:00+00:00</td>\n      <td>G06F</td>\n      <td>1.0</td>\n      <td>G06F</td>\n      <td>1.0</td>\n    </tr>\n    <tr>\n      <th>2</th>\n      <td>20140380219</td>\n      <td>John CARTAN</td>\n      <td>2014</td>\n      <td>Alameda</td>\n      <td>US</td>\n      <td>United States</td>\n      <td>Silicon Valley</td>\n      <td>2014-12-25 00:00:00+00:00</td>\n      <td>2014</td>\n      <td>2014-06-20 00:00:00+00:00</td>\n      <td>G06F</td>\n      <td>1.0</td>\n      <td>G06F</td>\n      <td>1.0</td>\n    </tr>\n    <tr>\n      <th>3</th>\n      <td>20150000186</td>\n      <td>Barry Freel</td>\n      <td>2014</td>\n      <td>Ottawa</td>\n      <td>CA</td>\n      <td>Canada</td>\n      <td>Ottawa</td>\n      <td>2015-01-01 00:00:00+00:00</td>\n      <td>2015</td>\n      <td>2014-09-16 00:00:00+00:00</td>\n      <td>C10L</td>\n      <td>1.0</td>\n      <td>C10L</td>\n      <td>1.0</td>\n    </tr>\n    <tr>\n      <th>4</th>\n      <td>20150000186</td>\n      <td>Robert Graham</td>\n      <td>2014</td>\n      <td>Ottawa</td>\n      <td>CA</td>\n      <td>Canada</td>\n      <td>Ottawa</td>\n      <td>2015-01-01 00:00:00+00:00</td>\n      <td>2015</td>\n      <td>2014-09-16 00:00:00+00:00</td>\n      <td>C10L</td>\n      <td>1.0</td>\n      <td>C10L</td>\n      <td>1.0</td>\n    </tr>\n  </tbody>\n</table>\n</div>"
     },
     "execution_count": 27,
     "metadata": {},
     "output_type": "execute_result"
    }
   ],
   "source": [
    "df_raw_patents.head(5)"
   ],
   "metadata": {
    "collapsed": false,
    "ExecuteTime": {
     "end_time": "2023-06-25T14:39:31.993156200Z",
     "start_time": "2023-06-25T14:39:31.961919500Z"
    }
   }
  },
  {
   "cell_type": "code",
   "execution_count": 28,
   "outputs": [
    {
     "data": {
      "text/plain": "     patent_id         app_name        ecosystem country  app_year\n0  20130080687  Siamack Nemazie  Los Altos Hills      US      2013\n1  20130080687      NGON VAN LE          Fremont      US      2013\n2  20130031357     Dieter Weiss          Munchen      DE      2013\n3  20130031357   Gisela Meister          Munchen      DE      2013\n4  20130031357     Jan Eichholz          Munchen      DE      2013",
      "text/html": "<div>\n<style scoped>\n    .dataframe tbody tr th:only-of-type {\n        vertical-align: middle;\n    }\n\n    .dataframe tbody tr th {\n        vertical-align: top;\n    }\n\n    .dataframe thead th {\n        text-align: right;\n    }\n</style>\n<table border=\"1\" class=\"dataframe\">\n  <thead>\n    <tr style=\"text-align: right;\">\n      <th></th>\n      <th>patent_id</th>\n      <th>app_name</th>\n      <th>ecosystem</th>\n      <th>country</th>\n      <th>app_year</th>\n    </tr>\n  </thead>\n  <tbody>\n    <tr>\n      <th>0</th>\n      <td>20130080687</td>\n      <td>Siamack Nemazie</td>\n      <td>Los Altos Hills</td>\n      <td>US</td>\n      <td>2013</td>\n    </tr>\n    <tr>\n      <th>1</th>\n      <td>20130080687</td>\n      <td>NGON VAN LE</td>\n      <td>Fremont</td>\n      <td>US</td>\n      <td>2013</td>\n    </tr>\n    <tr>\n      <th>2</th>\n      <td>20130031357</td>\n      <td>Dieter Weiss</td>\n      <td>Munchen</td>\n      <td>DE</td>\n      <td>2013</td>\n    </tr>\n    <tr>\n      <th>3</th>\n      <td>20130031357</td>\n      <td>Gisela Meister</td>\n      <td>Munchen</td>\n      <td>DE</td>\n      <td>2013</td>\n    </tr>\n    <tr>\n      <th>4</th>\n      <td>20130031357</td>\n      <td>Jan Eichholz</td>\n      <td>Munchen</td>\n      <td>DE</td>\n      <td>2013</td>\n    </tr>\n  </tbody>\n</table>\n</div>"
     },
     "execution_count": 28,
     "metadata": {},
     "output_type": "execute_result"
    }
   ],
   "source": [
    "df_table_for_applicants = pd.read_csv(filepath_or_buffer=paths.raw_table_for_applicants, header=None, names=['patent_id','app_name','ecosystem','country','app_year'])\n",
    "df_table_for_applicants.drop_duplicates(inplace=True)\n",
    "df_table_for_applicants.head(5)"
   ],
   "metadata": {
    "collapsed": false,
    "ExecuteTime": {
     "end_time": "2023-06-25T14:39:55.154618700Z",
     "start_time": "2023-06-25T14:39:54.016115600Z"
    }
   }
  },
  {
   "cell_type": "code",
   "execution_count": 29,
   "outputs": [
    {
     "data": {
      "text/plain": "   publication_number                                           abstract\n0         20080063564  Embodiments of techniques for determining the ...\n1         20080025285  A method for supporting frequency hopping of a...\n2         20080056857  To correct any positional misalignment of a su...\n3         20080031117  A holographic optical accessing system include...\n4         20080056179  Transmitting an acknowledgement/negative ackno...",
      "text/html": "<div>\n<style scoped>\n    .dataframe tbody tr th:only-of-type {\n        vertical-align: middle;\n    }\n\n    .dataframe tbody tr th {\n        vertical-align: top;\n    }\n\n    .dataframe thead th {\n        text-align: right;\n    }\n</style>\n<table border=\"1\" class=\"dataframe\">\n  <thead>\n    <tr style=\"text-align: right;\">\n      <th></th>\n      <th>publication_number</th>\n      <th>abstract</th>\n    </tr>\n  </thead>\n  <tbody>\n    <tr>\n      <th>0</th>\n      <td>20080063564</td>\n      <td>Embodiments of techniques for determining the ...</td>\n    </tr>\n    <tr>\n      <th>1</th>\n      <td>20080025285</td>\n      <td>A method for supporting frequency hopping of a...</td>\n    </tr>\n    <tr>\n      <th>2</th>\n      <td>20080056857</td>\n      <td>To correct any positional misalignment of a su...</td>\n    </tr>\n    <tr>\n      <th>3</th>\n      <td>20080031117</td>\n      <td>A holographic optical accessing system include...</td>\n    </tr>\n    <tr>\n      <th>4</th>\n      <td>20080056179</td>\n      <td>Transmitting an acknowledgement/negative ackno...</td>\n    </tr>\n  </tbody>\n</table>\n</div>"
     },
     "execution_count": 29,
     "metadata": {},
     "output_type": "execute_result"
    }
   ],
   "source": [
    "df_abstract = pd.read_csv(paths.raw_abstract)\n",
    "df_abstract.drop_duplicates(inplace=True)\n",
    "df_abstract.head(5)"
   ],
   "metadata": {
    "collapsed": false,
    "ExecuteTime": {
     "end_time": "2023-06-25T14:40:39.741932500Z",
     "start_time": "2023-06-25T14:40:13.205883400Z"
    }
   }
  },
  {
   "cell_type": "code",
   "execution_count": 34,
   "outputs": [
    {
     "name": "stdout",
     "output_type": "stream",
     "text": [
      "Unique patents for abstract: 4184916\n",
      "Unique patents for raw_patents: 3381583\n",
      "Unique patents for applicants: 622307\n"
     ]
    }
   ],
   "source": [
    "unique_patents_abstract = len(df_abstract['publication_number'].unique())\n",
    "print(f'Unique patents for abstract: {unique_patents_abstract}')\n",
    "\n",
    "unique_patents_raw_patents = len(df_raw_patents['patent_id'].unique())\n",
    "print(f'Unique patents for raw_patents: {unique_patents_raw_patents}')\n",
    "\n",
    "unique_patents_applicants = len(df_table_for_applicants['patent_id'].unique())\n",
    "print(f'Unique patents for applicants: {unique_patents_applicants}')"
   ],
   "metadata": {
    "collapsed": false,
    "ExecuteTime": {
     "end_time": "2023-06-25T14:49:38.499898600Z",
     "start_time": "2023-06-25T14:49:38.007704400Z"
    }
   }
  },
  {
   "cell_type": "code",
   "execution_count": 33,
   "outputs": [
    {
     "name": "stdout",
     "output_type": "stream",
     "text": [
      "There are 0 applicants that has patent_id with null value\n",
      "There are 6645 applicants that has city_region with null value\n",
      "There are 0 applicants that has owner with null value\n",
      "There are 10 applicants that has country with null value\n",
      "There are 0 applicants that has year with null value\n"
     ]
    },
    {
     "data": {
      "text/plain": "           patent_id                                         app_name  \\\n522      20130076041                                  Philip Merryman   \n2128     20130063773                                    Sung-Hwan BAE   \n4843     20130177032                                   Martin Berendt   \n5409     20130118389                                      Gene Offutt   \n6388     20130230985  Taiwan Semiconductor Manufacturing Company Ltd.   \n...              ...                                              ...   \n1415777  20190262099                                   Lori Lee Lahti   \n1416366  20200242471                                James David Busch   \n1416561  20200260655                       Christopher C. Sappenfield   \n1416697  20210074416                                     Pat Iantorno   \n1417024  20210235862                                    Dedee R. Dart   \n\n        ecosystem country  app_year  \n522           NaN      US      2013  \n2128          NaN      US      2013  \n4843          NaN      US      2013  \n5409          NaN      US      2013  \n6388          NaN      US      2013  \n...           ...     ...       ...  \n1415777       NaN      US      2019  \n1416366       NaN      US      2020  \n1416561       NaN      US      2020  \n1416697       NaN      US      2021  \n1417024       NaN      US      2021  \n\n[6655 rows x 5 columns]",
      "text/html": "<div>\n<style scoped>\n    .dataframe tbody tr th:only-of-type {\n        vertical-align: middle;\n    }\n\n    .dataframe tbody tr th {\n        vertical-align: top;\n    }\n\n    .dataframe thead th {\n        text-align: right;\n    }\n</style>\n<table border=\"1\" class=\"dataframe\">\n  <thead>\n    <tr style=\"text-align: right;\">\n      <th></th>\n      <th>patent_id</th>\n      <th>app_name</th>\n      <th>ecosystem</th>\n      <th>country</th>\n      <th>app_year</th>\n    </tr>\n  </thead>\n  <tbody>\n    <tr>\n      <th>522</th>\n      <td>20130076041</td>\n      <td>Philip Merryman</td>\n      <td>NaN</td>\n      <td>US</td>\n      <td>2013</td>\n    </tr>\n    <tr>\n      <th>2128</th>\n      <td>20130063773</td>\n      <td>Sung-Hwan BAE</td>\n      <td>NaN</td>\n      <td>US</td>\n      <td>2013</td>\n    </tr>\n    <tr>\n      <th>4843</th>\n      <td>20130177032</td>\n      <td>Martin Berendt</td>\n      <td>NaN</td>\n      <td>US</td>\n      <td>2013</td>\n    </tr>\n    <tr>\n      <th>5409</th>\n      <td>20130118389</td>\n      <td>Gene Offutt</td>\n      <td>NaN</td>\n      <td>US</td>\n      <td>2013</td>\n    </tr>\n    <tr>\n      <th>6388</th>\n      <td>20130230985</td>\n      <td>Taiwan Semiconductor Manufacturing Company Ltd.</td>\n      <td>NaN</td>\n      <td>US</td>\n      <td>2013</td>\n    </tr>\n    <tr>\n      <th>...</th>\n      <td>...</td>\n      <td>...</td>\n      <td>...</td>\n      <td>...</td>\n      <td>...</td>\n    </tr>\n    <tr>\n      <th>1415777</th>\n      <td>20190262099</td>\n      <td>Lori Lee Lahti</td>\n      <td>NaN</td>\n      <td>US</td>\n      <td>2019</td>\n    </tr>\n    <tr>\n      <th>1416366</th>\n      <td>20200242471</td>\n      <td>James David Busch</td>\n      <td>NaN</td>\n      <td>US</td>\n      <td>2020</td>\n    </tr>\n    <tr>\n      <th>1416561</th>\n      <td>20200260655</td>\n      <td>Christopher C. Sappenfield</td>\n      <td>NaN</td>\n      <td>US</td>\n      <td>2020</td>\n    </tr>\n    <tr>\n      <th>1416697</th>\n      <td>20210074416</td>\n      <td>Pat Iantorno</td>\n      <td>NaN</td>\n      <td>US</td>\n      <td>2021</td>\n    </tr>\n    <tr>\n      <th>1417024</th>\n      <td>20210235862</td>\n      <td>Dedee R. Dart</td>\n      <td>NaN</td>\n      <td>US</td>\n      <td>2021</td>\n    </tr>\n  </tbody>\n</table>\n<p>6655 rows × 5 columns</p>\n</div>"
     },
     "execution_count": 33,
     "metadata": {},
     "output_type": "execute_result"
    }
   ],
   "source": [
    "applicants_with_patent_null = df_table_for_applicants['patent_id'].isnull().sum()\n",
    "print(f'There are {applicants_with_patent_null} applicants that has patent_id with null value')\n",
    "applicants_with_city_null = df_table_for_applicants['ecosystem'].isnull().sum()\n",
    "print(f'There are {applicants_with_city_null} applicants that has city_region with null value')\n",
    "applicants_with_owner_null = df_table_for_applicants['app_name'].isnull().sum()\n",
    "print(f'There are {applicants_with_owner_null} applicants that has owner with null value')\n",
    "applicants_with_country_null = df_table_for_applicants['country'].isnull().sum()\n",
    "print(f'There are {applicants_with_country_null} applicants that has country with null value')\n",
    "applicants_with_year_null = df_table_for_applicants['app_year'].isnull().sum()\n",
    "print(f'There are {applicants_with_year_null} applicants that has year with null value')\n",
    "df_applicants_null = df_table_for_applicants[df_table_for_applicants.isnull().any(axis=1)]\n",
    "df_applicants_null"
   ],
   "metadata": {
    "collapsed": false,
    "ExecuteTime": {
     "end_time": "2023-06-25T14:41:54.339880900Z",
     "start_time": "2023-06-25T14:41:54.167373100Z"
    }
   }
  },
  {
   "cell_type": "code",
   "execution_count": 54,
   "outputs": [
    {
     "data": {
      "text/plain": "     patent_id           owner city_region country  year\n2  20130031357    Dieter Weiss     Munchen      DE  2013\n3  20130031357  Gisela Meister     Munchen      DE  2013\n4  20130031357    Jan Eichholz     Munchen      DE  2013\n5  20130031357  Florian Gawlas     Munchen      DE  2013\n7  20130077850  Takehiro Hirai      Ushiku      JP  2013",
      "text/html": "<div>\n<style scoped>\n    .dataframe tbody tr th:only-of-type {\n        vertical-align: middle;\n    }\n\n    .dataframe tbody tr th {\n        vertical-align: top;\n    }\n\n    .dataframe thead th {\n        text-align: right;\n    }\n</style>\n<table border=\"1\" class=\"dataframe\">\n  <thead>\n    <tr style=\"text-align: right;\">\n      <th></th>\n      <th>patent_id</th>\n      <th>owner</th>\n      <th>city_region</th>\n      <th>country</th>\n      <th>year</th>\n    </tr>\n  </thead>\n  <tbody>\n    <tr>\n      <th>2</th>\n      <td>20130031357</td>\n      <td>Dieter Weiss</td>\n      <td>Munchen</td>\n      <td>DE</td>\n      <td>2013</td>\n    </tr>\n    <tr>\n      <th>3</th>\n      <td>20130031357</td>\n      <td>Gisela Meister</td>\n      <td>Munchen</td>\n      <td>DE</td>\n      <td>2013</td>\n    </tr>\n    <tr>\n      <th>4</th>\n      <td>20130031357</td>\n      <td>Jan Eichholz</td>\n      <td>Munchen</td>\n      <td>DE</td>\n      <td>2013</td>\n    </tr>\n    <tr>\n      <th>5</th>\n      <td>20130031357</td>\n      <td>Florian Gawlas</td>\n      <td>Munchen</td>\n      <td>DE</td>\n      <td>2013</td>\n    </tr>\n    <tr>\n      <th>7</th>\n      <td>20130077850</td>\n      <td>Takehiro Hirai</td>\n      <td>Ushiku</td>\n      <td>JP</td>\n      <td>2013</td>\n    </tr>\n  </tbody>\n</table>\n</div>"
     },
     "execution_count": 54,
     "metadata": {},
     "output_type": "execute_result"
    }
   ],
   "source": [
    "df = df_table_for_applicants[~df_table_for_applicants['patent_id'].isin(df_raw_patents['patent_id'])]\n",
    "df.head()\n",
    "#\n",
    "# df = df_raw_patents[df_raw_patents['patent_id'] == 20130076041]\n",
    "# df.head()\n",
    "# for index, row in df_applicants_null.iterrows():\n",
    "#     app_patent_id = row['patent_id']\n",
    "#     app_owner = str(row['owner'])\n",
    "#     app_city_region = str(['city_region'])\n",
    "#\n",
    "#     df_raw_patents[\n",
    "#         (df_raw_patents['patent_id'] == app_patent_id) &\n",
    "#         ()\n",
    "#     ]"
   ],
   "metadata": {
    "collapsed": false,
    "ExecuteTime": {
     "end_time": "2023-06-25T04:40:23.728783100Z",
     "start_time": "2023-06-25T04:40:23.572966600Z"
    }
   }
  },
  {
   "cell_type": "code",
   "execution_count": 57,
   "outputs": [
    {
     "data": {
      "text/plain": "           patent_id name_first name_last       city country  \\\n76083    20140331173   Takehiro     Hirai      Tokyo      JP   \n205707   20200411345   Takehiro     Hirai      Tokyo      JP   \n686244   20140169657   Takehiro     Hirai      Tokyo      JP   \n917084   20140185918   Takehiro     Hirai      Tokyo      JP   \n3529096  20140198975   Takehiro     Hirai      Tokyo      JP   \n4291204  20140037188   Takehiro     Hirai     Ushiku      JP   \n4522604  20140072204   Takehiro     Hirai      Tokyo      JP   \n5610968  20150279614   Takehiro     Hirai  Minato-ku      JP   \n5839419  20150170875   Takehiro     Hirai      Tokyo      JP   \n6684745  20150060667   Takehiro     Hirai      Tokyo      JP   \n6764858  20150214000   Takehiro     Hirai      Tokyo      JP   \n6833271  20140219546   Takehiro     Hirai      Tokyo      JP   \n7065880  20140307946   Takehiro     Hirai      Tokyo      JP   \n7147440  20150139531   Takehiro     Hirai      Tokyo      JP   \n7766449  20160018340   Takehiro     Hirai      Tokyo      JP   \n\n                       grant_date  grant_year                  app_date  \\\n76083    2014-11-06T00:00:00.000Z        2014  2012-11-26T00:00:00.000Z   \n205707   2020-12-31T00:00:00.000Z        2020  2020-06-22T00:00:00.000Z   \n686244   2014-06-19T00:00:00.000Z        2014  2012-07-06T00:00:00.000Z   \n917084   2014-07-03T00:00:00.000Z        2014  2012-07-04T00:00:00.000Z   \n3529096  2014-07-17T00:00:00.000Z        2014  2012-07-09T00:00:00.000Z   \n4291204  2014-02-06T00:00:00.000Z        2014  2013-08-20T00:00:00.000Z   \n4522604  2014-03-13T00:00:00.000Z        2014  2012-04-16T00:00:00.000Z   \n5610968  2015-10-01T00:00:00.000Z        2015  2013-10-11T00:00:00.000Z   \n5839419  2015-06-18T00:00:00.000Z        2015  2013-06-21T00:00:00.000Z   \n6684745  2015-03-05T00:00:00.000Z        2015  2013-03-11T00:00:00.000Z   \n6764858  2015-07-30T00:00:00.000Z        2015  2013-07-01T00:00:00.000Z   \n6833271  2014-08-07T00:00:00.000Z        2014  2012-07-06T00:00:00.000Z   \n7065880  2014-10-16T00:00:00.000Z        2014  2014-04-11T00:00:00.000Z   \n7147440  2015-05-21T00:00:00.000Z        2015  2013-04-01T00:00:00.000Z   \n7766449  2016-01-21T00:00:00.000Z        2016  2015-07-15T00:00:00.000Z   \n\n         app_year  class_distinct_count    class_concat  \\\n76083        2012                   3.0  G06T,G06F,G02B   \n205707       2020                   2.0       H01L,G06T   \n686244       2012                   1.0            G06T   \n917084       2012                   1.0            G06T   \n3529096      2012                   1.0            G01N   \n4291204      2013                   1.0            G06T   \n4522604      2012                   2.0       G06K,G06T   \n5610968      2013                   1.0            H01J   \n5839419      2013                   1.0            H01J   \n6684745      2013                   2.0       G06T,H01J   \n6764858      2013                   2.0       H01J,G06T   \n6833271      2012                   1.0            G06T   \n7065880      2014                   1.0            G06T   \n7147440      2013                   2.0       G06T,G01N   \n7766449      2015                   1.0            G01N   \n\n         class_IPC_distinct_count class_IPC_concat CountryName  \\\n76083                         3.0   G02B,G06F,G06T       Japan   \n205707                        2.0        G06T,H01L       Japan   \n686244                        1.0             G06T       Japan   \n917084                        1.0             G06T       Japan   \n3529096                       1.0             G01N       Japan   \n4291204                       1.0             G06T       Japan   \n4522604                       2.0        G06K,G06T       Japan   \n5610968                       1.0             H01J       Japan   \n5839419                       1.0             H01J       Japan   \n6684745                       2.0        G06T,H01J       Japan   \n6764858                       2.0        G06T,H01J       Japan   \n6833271                       1.0             G06T       Japan   \n7065880                       1.0             G06T       Japan   \n7147440                       2.0        G01N,G06T       Japan   \n7766449                       1.0             G01N       Japan   \n\n            CityCountry Ecosystem GoogleCity  \n76083        TokyoJapan     Tokyo        NaN  \n205707       TokyoJapan     Tokyo        NaN  \n686244       TokyoJapan     Tokyo        NaN  \n917084       TokyoJapan     Tokyo        NaN  \n3529096      TokyoJapan     Tokyo        NaN  \n4291204     UshikuJapan     Tokyo      Ushik  \n4522604      TokyoJapan     Tokyo        NaN  \n5610968  Minato-kuJapan     Tokyo     Minato  \n5839419      TokyoJapan     Tokyo        NaN  \n6684745      TokyoJapan     Tokyo        NaN  \n6764858      TokyoJapan     Tokyo        NaN  \n6833271      TokyoJapan     Tokyo        NaN  \n7065880      TokyoJapan     Tokyo        NaN  \n7147440      TokyoJapan     Tokyo        NaN  \n7766449      TokyoJapan     Tokyo        NaN  ",
      "text/html": "<div>\n<style scoped>\n    .dataframe tbody tr th:only-of-type {\n        vertical-align: middle;\n    }\n\n    .dataframe tbody tr th {\n        vertical-align: top;\n    }\n\n    .dataframe thead th {\n        text-align: right;\n    }\n</style>\n<table border=\"1\" class=\"dataframe\">\n  <thead>\n    <tr style=\"text-align: right;\">\n      <th></th>\n      <th>patent_id</th>\n      <th>name_first</th>\n      <th>name_last</th>\n      <th>city</th>\n      <th>country</th>\n      <th>grant_date</th>\n      <th>grant_year</th>\n      <th>app_date</th>\n      <th>app_year</th>\n      <th>class_distinct_count</th>\n      <th>class_concat</th>\n      <th>class_IPC_distinct_count</th>\n      <th>class_IPC_concat</th>\n      <th>CountryName</th>\n      <th>CityCountry</th>\n      <th>Ecosystem</th>\n      <th>GoogleCity</th>\n    </tr>\n  </thead>\n  <tbody>\n    <tr>\n      <th>76083</th>\n      <td>20140331173</td>\n      <td>Takehiro</td>\n      <td>Hirai</td>\n      <td>Tokyo</td>\n      <td>JP</td>\n      <td>2014-11-06T00:00:00.000Z</td>\n      <td>2014</td>\n      <td>2012-11-26T00:00:00.000Z</td>\n      <td>2012</td>\n      <td>3.0</td>\n      <td>G06T,G06F,G02B</td>\n      <td>3.0</td>\n      <td>G02B,G06F,G06T</td>\n      <td>Japan</td>\n      <td>TokyoJapan</td>\n      <td>Tokyo</td>\n      <td>NaN</td>\n    </tr>\n    <tr>\n      <th>205707</th>\n      <td>20200411345</td>\n      <td>Takehiro</td>\n      <td>Hirai</td>\n      <td>Tokyo</td>\n      <td>JP</td>\n      <td>2020-12-31T00:00:00.000Z</td>\n      <td>2020</td>\n      <td>2020-06-22T00:00:00.000Z</td>\n      <td>2020</td>\n      <td>2.0</td>\n      <td>H01L,G06T</td>\n      <td>2.0</td>\n      <td>G06T,H01L</td>\n      <td>Japan</td>\n      <td>TokyoJapan</td>\n      <td>Tokyo</td>\n      <td>NaN</td>\n    </tr>\n    <tr>\n      <th>686244</th>\n      <td>20140169657</td>\n      <td>Takehiro</td>\n      <td>Hirai</td>\n      <td>Tokyo</td>\n      <td>JP</td>\n      <td>2014-06-19T00:00:00.000Z</td>\n      <td>2014</td>\n      <td>2012-07-06T00:00:00.000Z</td>\n      <td>2012</td>\n      <td>1.0</td>\n      <td>G06T</td>\n      <td>1.0</td>\n      <td>G06T</td>\n      <td>Japan</td>\n      <td>TokyoJapan</td>\n      <td>Tokyo</td>\n      <td>NaN</td>\n    </tr>\n    <tr>\n      <th>917084</th>\n      <td>20140185918</td>\n      <td>Takehiro</td>\n      <td>Hirai</td>\n      <td>Tokyo</td>\n      <td>JP</td>\n      <td>2014-07-03T00:00:00.000Z</td>\n      <td>2014</td>\n      <td>2012-07-04T00:00:00.000Z</td>\n      <td>2012</td>\n      <td>1.0</td>\n      <td>G06T</td>\n      <td>1.0</td>\n      <td>G06T</td>\n      <td>Japan</td>\n      <td>TokyoJapan</td>\n      <td>Tokyo</td>\n      <td>NaN</td>\n    </tr>\n    <tr>\n      <th>3529096</th>\n      <td>20140198975</td>\n      <td>Takehiro</td>\n      <td>Hirai</td>\n      <td>Tokyo</td>\n      <td>JP</td>\n      <td>2014-07-17T00:00:00.000Z</td>\n      <td>2014</td>\n      <td>2012-07-09T00:00:00.000Z</td>\n      <td>2012</td>\n      <td>1.0</td>\n      <td>G01N</td>\n      <td>1.0</td>\n      <td>G01N</td>\n      <td>Japan</td>\n      <td>TokyoJapan</td>\n      <td>Tokyo</td>\n      <td>NaN</td>\n    </tr>\n    <tr>\n      <th>4291204</th>\n      <td>20140037188</td>\n      <td>Takehiro</td>\n      <td>Hirai</td>\n      <td>Ushiku</td>\n      <td>JP</td>\n      <td>2014-02-06T00:00:00.000Z</td>\n      <td>2014</td>\n      <td>2013-08-20T00:00:00.000Z</td>\n      <td>2013</td>\n      <td>1.0</td>\n      <td>G06T</td>\n      <td>1.0</td>\n      <td>G06T</td>\n      <td>Japan</td>\n      <td>UshikuJapan</td>\n      <td>Tokyo</td>\n      <td>Ushik</td>\n    </tr>\n    <tr>\n      <th>4522604</th>\n      <td>20140072204</td>\n      <td>Takehiro</td>\n      <td>Hirai</td>\n      <td>Tokyo</td>\n      <td>JP</td>\n      <td>2014-03-13T00:00:00.000Z</td>\n      <td>2014</td>\n      <td>2012-04-16T00:00:00.000Z</td>\n      <td>2012</td>\n      <td>2.0</td>\n      <td>G06K,G06T</td>\n      <td>2.0</td>\n      <td>G06K,G06T</td>\n      <td>Japan</td>\n      <td>TokyoJapan</td>\n      <td>Tokyo</td>\n      <td>NaN</td>\n    </tr>\n    <tr>\n      <th>5610968</th>\n      <td>20150279614</td>\n      <td>Takehiro</td>\n      <td>Hirai</td>\n      <td>Minato-ku</td>\n      <td>JP</td>\n      <td>2015-10-01T00:00:00.000Z</td>\n      <td>2015</td>\n      <td>2013-10-11T00:00:00.000Z</td>\n      <td>2013</td>\n      <td>1.0</td>\n      <td>H01J</td>\n      <td>1.0</td>\n      <td>H01J</td>\n      <td>Japan</td>\n      <td>Minato-kuJapan</td>\n      <td>Tokyo</td>\n      <td>Minato</td>\n    </tr>\n    <tr>\n      <th>5839419</th>\n      <td>20150170875</td>\n      <td>Takehiro</td>\n      <td>Hirai</td>\n      <td>Tokyo</td>\n      <td>JP</td>\n      <td>2015-06-18T00:00:00.000Z</td>\n      <td>2015</td>\n      <td>2013-06-21T00:00:00.000Z</td>\n      <td>2013</td>\n      <td>1.0</td>\n      <td>H01J</td>\n      <td>1.0</td>\n      <td>H01J</td>\n      <td>Japan</td>\n      <td>TokyoJapan</td>\n      <td>Tokyo</td>\n      <td>NaN</td>\n    </tr>\n    <tr>\n      <th>6684745</th>\n      <td>20150060667</td>\n      <td>Takehiro</td>\n      <td>Hirai</td>\n      <td>Tokyo</td>\n      <td>JP</td>\n      <td>2015-03-05T00:00:00.000Z</td>\n      <td>2015</td>\n      <td>2013-03-11T00:00:00.000Z</td>\n      <td>2013</td>\n      <td>2.0</td>\n      <td>G06T,H01J</td>\n      <td>2.0</td>\n      <td>G06T,H01J</td>\n      <td>Japan</td>\n      <td>TokyoJapan</td>\n      <td>Tokyo</td>\n      <td>NaN</td>\n    </tr>\n    <tr>\n      <th>6764858</th>\n      <td>20150214000</td>\n      <td>Takehiro</td>\n      <td>Hirai</td>\n      <td>Tokyo</td>\n      <td>JP</td>\n      <td>2015-07-30T00:00:00.000Z</td>\n      <td>2015</td>\n      <td>2013-07-01T00:00:00.000Z</td>\n      <td>2013</td>\n      <td>2.0</td>\n      <td>H01J,G06T</td>\n      <td>2.0</td>\n      <td>G06T,H01J</td>\n      <td>Japan</td>\n      <td>TokyoJapan</td>\n      <td>Tokyo</td>\n      <td>NaN</td>\n    </tr>\n    <tr>\n      <th>6833271</th>\n      <td>20140219546</td>\n      <td>Takehiro</td>\n      <td>Hirai</td>\n      <td>Tokyo</td>\n      <td>JP</td>\n      <td>2014-08-07T00:00:00.000Z</td>\n      <td>2014</td>\n      <td>2012-07-06T00:00:00.000Z</td>\n      <td>2012</td>\n      <td>1.0</td>\n      <td>G06T</td>\n      <td>1.0</td>\n      <td>G06T</td>\n      <td>Japan</td>\n      <td>TokyoJapan</td>\n      <td>Tokyo</td>\n      <td>NaN</td>\n    </tr>\n    <tr>\n      <th>7065880</th>\n      <td>20140307946</td>\n      <td>Takehiro</td>\n      <td>Hirai</td>\n      <td>Tokyo</td>\n      <td>JP</td>\n      <td>2014-10-16T00:00:00.000Z</td>\n      <td>2014</td>\n      <td>2014-04-11T00:00:00.000Z</td>\n      <td>2014</td>\n      <td>1.0</td>\n      <td>G06T</td>\n      <td>1.0</td>\n      <td>G06T</td>\n      <td>Japan</td>\n      <td>TokyoJapan</td>\n      <td>Tokyo</td>\n      <td>NaN</td>\n    </tr>\n    <tr>\n      <th>7147440</th>\n      <td>20150139531</td>\n      <td>Takehiro</td>\n      <td>Hirai</td>\n      <td>Tokyo</td>\n      <td>JP</td>\n      <td>2015-05-21T00:00:00.000Z</td>\n      <td>2015</td>\n      <td>2013-04-01T00:00:00.000Z</td>\n      <td>2013</td>\n      <td>2.0</td>\n      <td>G06T,G01N</td>\n      <td>2.0</td>\n      <td>G01N,G06T</td>\n      <td>Japan</td>\n      <td>TokyoJapan</td>\n      <td>Tokyo</td>\n      <td>NaN</td>\n    </tr>\n    <tr>\n      <th>7766449</th>\n      <td>20160018340</td>\n      <td>Takehiro</td>\n      <td>Hirai</td>\n      <td>Tokyo</td>\n      <td>JP</td>\n      <td>2016-01-21T00:00:00.000Z</td>\n      <td>2016</td>\n      <td>2015-07-15T00:00:00.000Z</td>\n      <td>2015</td>\n      <td>1.0</td>\n      <td>G01N</td>\n      <td>1.0</td>\n      <td>G01N</td>\n      <td>Japan</td>\n      <td>TokyoJapan</td>\n      <td>Tokyo</td>\n      <td>NaN</td>\n    </tr>\n  </tbody>\n</table>\n</div>"
     },
     "execution_count": 57,
     "metadata": {},
     "output_type": "execute_result"
    }
   ],
   "source": [
    "df2 = df_raw_patents[(df_raw_patents['name_first'] == 'Takehiro') & (df_raw_patents['name_last'] == 'Hirai')]\n",
    "df2"
   ],
   "metadata": {
    "collapsed": false,
    "ExecuteTime": {
     "end_time": "2023-06-25T04:51:01.536159500Z",
     "start_time": "2023-06-25T04:51:00.913862300Z"
    }
   }
  },
  {
   "cell_type": "code",
   "execution_count": 17,
   "outputs": [
    {
     "name": "stdout",
     "output_type": "stream",
     "text": [
      "There are 8753698 patents that has no applicants registered\n"
     ]
    },
    {
     "data": {
      "text/plain": "           patent_id name_first       name_last           city country  \\\n0        20140380145      Rajiv         Puranik  San Francisco      US   \n1        20140380145     Thomas         Wilsher  San Francisco      US   \n2        20140380219       John          CARTAN        Alameda      US   \n3        20150000186      Barry           Freel         Ottawa      CA   \n4        20150000186     Robert          Graham         Ottawa      CA   \n...              ...        ...             ...            ...     ...   \n9830919  20140380134    Lalitha  Venkataramanan      Lexington      US   \n9830920  20140380134   Nicholas          Heaton        Houston      US   \n9830921  20140380134   Nicholas         Bennett         Hamden      US   \n9830922  20140380145      Cheuk             Law  San Francisco      US   \n9830923  20140380145    Patrick        Malatack  San Francisco      US   \n\n                       grant_date  grant_year                  app_date  \\\n0        2014-12-25T00:00:00.000Z        2014  2014-05-08T00:00:00.000Z   \n1        2014-12-25T00:00:00.000Z        2014  2014-05-08T00:00:00.000Z   \n2        2014-12-25T00:00:00.000Z        2014  2014-06-20T00:00:00.000Z   \n3        2015-01-01T00:00:00.000Z        2015  2014-09-16T00:00:00.000Z   \n4        2015-01-01T00:00:00.000Z        2015  2014-09-16T00:00:00.000Z   \n...                           ...         ...                       ...   \n9830919  2014-12-25T00:00:00.000Z        2014  2013-01-30T00:00:00.000Z   \n9830920  2014-12-25T00:00:00.000Z        2014  2013-01-30T00:00:00.000Z   \n9830921  2014-12-25T00:00:00.000Z        2014  2013-01-30T00:00:00.000Z   \n9830922  2014-12-25T00:00:00.000Z        2014  2014-05-08T00:00:00.000Z   \n9830923  2014-12-25T00:00:00.000Z        2014  2014-05-08T00:00:00.000Z   \n\n         app_year  class_distinct_count    class_concat  \\\n0            2014                   1.0            G06F   \n1            2014                   1.0            G06F   \n2            2014                   1.0            G06F   \n3            2014                   1.0            C10L   \n4            2014                   1.0            C10L   \n...           ...                   ...             ...   \n9830919      2013                   3.0  H04B,G06F,G01V   \n9830920      2013                   3.0  H04B,G06F,G01V   \n9830921      2013                   3.0  H04B,G06F,G01V   \n9830922      2014                   1.0            G06F   \n9830923      2014                   1.0            G06F   \n\n         class_IPC_distinct_count class_IPC_concat    CountryName  \\\n0                             1.0             G06F  United States   \n1                             1.0             G06F  United States   \n2                             1.0             G06F  United States   \n3                             1.0             C10L         Canada   \n4                             1.0             C10L         Canada   \n...                           ...              ...            ...   \n9830919                       3.0   G01V,G06F,H04B  United States   \n9830920                       3.0   G01V,G06F,H04B  United States   \n9830921                       3.0   G01V,G06F,H04B  United States   \n9830922                       1.0             G06F  United States   \n9830923                       1.0             G06F  United States   \n\n                        CityCountry       Ecosystem     GoogleCity  \n0        San FranciscoUnited States  Silicon Valley  San Francisco  \n1        San FranciscoUnited States  Silicon Valley  San Francisco  \n2              AlamedaUnited States  Silicon Valley        Alameda  \n3                      OttawaCanada          Ottawa         Ottawa  \n4                      OttawaCanada          Ottawa         Ottawa  \n...                             ...             ...            ...  \n9830919      LexingtonUnited States             NaN      Lexington  \n9830920        HoustonUnited States         Houston        Houston  \n9830921         HamdenUnited States        Hartford         Hamden  \n9830922  San FranciscoUnited States  Silicon Valley  San Francisco  \n9830923  San FranciscoUnited States  Silicon Valley  San Francisco  \n\n[8753698 rows x 17 columns]",
      "text/html": "<div>\n<style scoped>\n    .dataframe tbody tr th:only-of-type {\n        vertical-align: middle;\n    }\n\n    .dataframe tbody tr th {\n        vertical-align: top;\n    }\n\n    .dataframe thead th {\n        text-align: right;\n    }\n</style>\n<table border=\"1\" class=\"dataframe\">\n  <thead>\n    <tr style=\"text-align: right;\">\n      <th></th>\n      <th>patent_id</th>\n      <th>name_first</th>\n      <th>name_last</th>\n      <th>city</th>\n      <th>country</th>\n      <th>grant_date</th>\n      <th>grant_year</th>\n      <th>app_date</th>\n      <th>app_year</th>\n      <th>class_distinct_count</th>\n      <th>class_concat</th>\n      <th>class_IPC_distinct_count</th>\n      <th>class_IPC_concat</th>\n      <th>CountryName</th>\n      <th>CityCountry</th>\n      <th>Ecosystem</th>\n      <th>GoogleCity</th>\n    </tr>\n  </thead>\n  <tbody>\n    <tr>\n      <th>0</th>\n      <td>20140380145</td>\n      <td>Rajiv</td>\n      <td>Puranik</td>\n      <td>San Francisco</td>\n      <td>US</td>\n      <td>2014-12-25T00:00:00.000Z</td>\n      <td>2014</td>\n      <td>2014-05-08T00:00:00.000Z</td>\n      <td>2014</td>\n      <td>1.0</td>\n      <td>G06F</td>\n      <td>1.0</td>\n      <td>G06F</td>\n      <td>United States</td>\n      <td>San FranciscoUnited States</td>\n      <td>Silicon Valley</td>\n      <td>San Francisco</td>\n    </tr>\n    <tr>\n      <th>1</th>\n      <td>20140380145</td>\n      <td>Thomas</td>\n      <td>Wilsher</td>\n      <td>San Francisco</td>\n      <td>US</td>\n      <td>2014-12-25T00:00:00.000Z</td>\n      <td>2014</td>\n      <td>2014-05-08T00:00:00.000Z</td>\n      <td>2014</td>\n      <td>1.0</td>\n      <td>G06F</td>\n      <td>1.0</td>\n      <td>G06F</td>\n      <td>United States</td>\n      <td>San FranciscoUnited States</td>\n      <td>Silicon Valley</td>\n      <td>San Francisco</td>\n    </tr>\n    <tr>\n      <th>2</th>\n      <td>20140380219</td>\n      <td>John</td>\n      <td>CARTAN</td>\n      <td>Alameda</td>\n      <td>US</td>\n      <td>2014-12-25T00:00:00.000Z</td>\n      <td>2014</td>\n      <td>2014-06-20T00:00:00.000Z</td>\n      <td>2014</td>\n      <td>1.0</td>\n      <td>G06F</td>\n      <td>1.0</td>\n      <td>G06F</td>\n      <td>United States</td>\n      <td>AlamedaUnited States</td>\n      <td>Silicon Valley</td>\n      <td>Alameda</td>\n    </tr>\n    <tr>\n      <th>3</th>\n      <td>20150000186</td>\n      <td>Barry</td>\n      <td>Freel</td>\n      <td>Ottawa</td>\n      <td>CA</td>\n      <td>2015-01-01T00:00:00.000Z</td>\n      <td>2015</td>\n      <td>2014-09-16T00:00:00.000Z</td>\n      <td>2014</td>\n      <td>1.0</td>\n      <td>C10L</td>\n      <td>1.0</td>\n      <td>C10L</td>\n      <td>Canada</td>\n      <td>OttawaCanada</td>\n      <td>Ottawa</td>\n      <td>Ottawa</td>\n    </tr>\n    <tr>\n      <th>4</th>\n      <td>20150000186</td>\n      <td>Robert</td>\n      <td>Graham</td>\n      <td>Ottawa</td>\n      <td>CA</td>\n      <td>2015-01-01T00:00:00.000Z</td>\n      <td>2015</td>\n      <td>2014-09-16T00:00:00.000Z</td>\n      <td>2014</td>\n      <td>1.0</td>\n      <td>C10L</td>\n      <td>1.0</td>\n      <td>C10L</td>\n      <td>Canada</td>\n      <td>OttawaCanada</td>\n      <td>Ottawa</td>\n      <td>Ottawa</td>\n    </tr>\n    <tr>\n      <th>...</th>\n      <td>...</td>\n      <td>...</td>\n      <td>...</td>\n      <td>...</td>\n      <td>...</td>\n      <td>...</td>\n      <td>...</td>\n      <td>...</td>\n      <td>...</td>\n      <td>...</td>\n      <td>...</td>\n      <td>...</td>\n      <td>...</td>\n      <td>...</td>\n      <td>...</td>\n      <td>...</td>\n      <td>...</td>\n    </tr>\n    <tr>\n      <th>9830919</th>\n      <td>20140380134</td>\n      <td>Lalitha</td>\n      <td>Venkataramanan</td>\n      <td>Lexington</td>\n      <td>US</td>\n      <td>2014-12-25T00:00:00.000Z</td>\n      <td>2014</td>\n      <td>2013-01-30T00:00:00.000Z</td>\n      <td>2013</td>\n      <td>3.0</td>\n      <td>H04B,G06F,G01V</td>\n      <td>3.0</td>\n      <td>G01V,G06F,H04B</td>\n      <td>United States</td>\n      <td>LexingtonUnited States</td>\n      <td>NaN</td>\n      <td>Lexington</td>\n    </tr>\n    <tr>\n      <th>9830920</th>\n      <td>20140380134</td>\n      <td>Nicholas</td>\n      <td>Heaton</td>\n      <td>Houston</td>\n      <td>US</td>\n      <td>2014-12-25T00:00:00.000Z</td>\n      <td>2014</td>\n      <td>2013-01-30T00:00:00.000Z</td>\n      <td>2013</td>\n      <td>3.0</td>\n      <td>H04B,G06F,G01V</td>\n      <td>3.0</td>\n      <td>G01V,G06F,H04B</td>\n      <td>United States</td>\n      <td>HoustonUnited States</td>\n      <td>Houston</td>\n      <td>Houston</td>\n    </tr>\n    <tr>\n      <th>9830921</th>\n      <td>20140380134</td>\n      <td>Nicholas</td>\n      <td>Bennett</td>\n      <td>Hamden</td>\n      <td>US</td>\n      <td>2014-12-25T00:00:00.000Z</td>\n      <td>2014</td>\n      <td>2013-01-30T00:00:00.000Z</td>\n      <td>2013</td>\n      <td>3.0</td>\n      <td>H04B,G06F,G01V</td>\n      <td>3.0</td>\n      <td>G01V,G06F,H04B</td>\n      <td>United States</td>\n      <td>HamdenUnited States</td>\n      <td>Hartford</td>\n      <td>Hamden</td>\n    </tr>\n    <tr>\n      <th>9830922</th>\n      <td>20140380145</td>\n      <td>Cheuk</td>\n      <td>Law</td>\n      <td>San Francisco</td>\n      <td>US</td>\n      <td>2014-12-25T00:00:00.000Z</td>\n      <td>2014</td>\n      <td>2014-05-08T00:00:00.000Z</td>\n      <td>2014</td>\n      <td>1.0</td>\n      <td>G06F</td>\n      <td>1.0</td>\n      <td>G06F</td>\n      <td>United States</td>\n      <td>San FranciscoUnited States</td>\n      <td>Silicon Valley</td>\n      <td>San Francisco</td>\n    </tr>\n    <tr>\n      <th>9830923</th>\n      <td>20140380145</td>\n      <td>Patrick</td>\n      <td>Malatack</td>\n      <td>San Francisco</td>\n      <td>US</td>\n      <td>2014-12-25T00:00:00.000Z</td>\n      <td>2014</td>\n      <td>2014-05-08T00:00:00.000Z</td>\n      <td>2014</td>\n      <td>1.0</td>\n      <td>G06F</td>\n      <td>1.0</td>\n      <td>G06F</td>\n      <td>United States</td>\n      <td>San FranciscoUnited States</td>\n      <td>Silicon Valley</td>\n      <td>San Francisco</td>\n    </tr>\n  </tbody>\n</table>\n<p>8753698 rows × 17 columns</p>\n</div>"
     },
     "execution_count": 17,
     "metadata": {},
     "output_type": "execute_result"
    }
   ],
   "source": [
    "df_missing_applicants = df_raw_patents[~df_raw_patents['patent_id'].isin(df_table_for_applicants['patent_id'])]\n",
    "print(f'There are {len(df_missing_applicants)} patents that has no applicants registered')\n",
    "df_missing_applicants"
   ],
   "metadata": {
    "collapsed": false,
    "ExecuteTime": {
     "end_time": "2023-06-25T03:23:54.196351Z",
     "start_time": "2023-06-25T03:23:53.397713700Z"
    }
   }
  },
  {
   "cell_type": "code",
   "execution_count": 21,
   "outputs": [
    {
     "name": "stdout",
     "output_type": "stream",
     "text": [
      "Applicants size: 10170839\n"
     ]
    }
   ],
   "source": [
    "# Create applicants that is missing\n",
    "new_applicants = []\n",
    "for index, row in df_missing_applicants.iterrows():\n",
    "    patent_id = row['patent_id']\n",
    "    name_first = str(row['name_first'])\n",
    "    name_last = str(row['name_last'])\n",
    "    city = row['city']\n",
    "    country = row['country']\n",
    "    app_year = row['app_year']\n",
    "    ecosystem = row['Ecosystem']\n",
    "\n",
    "    if pd.isnull(name_last):\n",
    "        owner = name_first\n",
    "    else:\n",
    "        owner = name_first + ' ' + name_last\n",
    "\n",
    "    if pd.isnull(ecosystem):\n",
    "        city_region = city\n",
    "    else:\n",
    "        city_region = ecosystem\n",
    "\n",
    "    new_row = {'patent_id': patent_id,\n",
    "               'owner': owner,\n",
    "               'city_region': city_region,\n",
    "               'country': country,\n",
    "               'year': app_year}\n",
    "\n",
    "    new_applicants.append(new_row)\n",
    "\n",
    "df_table_for_applicants = pd.concat([df_table_for_applicants, pd.DataFrame(new_applicants)])\n",
    "\n",
    "print(f'Applicants size: {len(df_table_for_applicants)}')"
   ],
   "metadata": {
    "collapsed": false,
    "ExecuteTime": {
     "end_time": "2023-06-25T03:51:43.644791100Z",
     "start_time": "2023-06-25T03:47:32.839582500Z"
    }
   }
  },
  {
   "cell_type": "code",
   "execution_count": 4,
   "outputs": [
    {
     "name": "stdout",
     "output_type": "stream",
     "text": [
      "Total nulls for Ecosystem: 2522799\n",
      "Percentage nulls for Ecosystem: 25.66\n"
     ]
    }
   ],
   "source": [
    "ecosystem_nulls = df_raw_patents['Ecosystem'].isnull().sum()\n",
    "ecosystem_percentage_nulls = (ecosystem_nulls / len(df_raw_patents)) * 100\n",
    "print(f'Total nulls for Ecosystem: {ecosystem_nulls}\\nPercentage nulls for Ecosystem: {round(ecosystem_percentage_nulls, 2)}')"
   ],
   "metadata": {
    "collapsed": false,
    "ExecuteTime": {
     "end_time": "2023-06-25T02:35:24.047491Z",
     "start_time": "2023-06-25T02:35:23.767229900Z"
    }
   }
  },
  {
   "cell_type": "code",
   "execution_count": 5,
   "outputs": [
    {
     "name": "stdout",
     "output_type": "stream",
     "text": [
      "Total unique values fo Ecosystem: 899\n",
      "Values: ['Silicon Valley' 'Ottawa' nan 'Tokyo' 'Montreal' 'Stuttgart' 'Nagoya'\n",
      " 'Amsterdam-Delta' 'Miami' 'hyogo-japan NOT resolved' 'Osaka'\n",
      " 'Indiana Center;Indianapolis;Indiana' 'Charlotte' 'Hamburg State;Hamburg'\n",
      " 'Hamburg' 'Busan' 'Beijing' 'union city-united states NOT resolved'\n",
      " 'aurora-united states NOT resolved' 'Chicago' 'Philadelphia' 'San Diego'\n",
      " 'Bristol' 'Los Angeles' 'Lisbon' 'Indiana' 'New York City' 'Seattle'\n",
      " 'Cleveland' 'Ohio' 'San Bernardino' 'Frankfurt' 'Seoul'\n",
      " 'Research Triangle' 'Toronto' 'Boston' 'Madison' 'Lyon' 'Salt Lake-Provo'\n",
      " 'Moscow' 'Houston' 'Cape Town' 'Tampa Bay' 'Washington DC' 'Sydney'\n",
      " 'Melbourne' 'Hiroshima' 'Helsinki' 'Zurich' 'Atlanta' 'Hartford'\n",
      " 'clinton-united states NOT resolved' 'Xiamen' 'akashi-japan NOT resolved'\n",
      " 'miki-japan NOT resolved' 'kobe-japan NOT resolved'\n",
      " 'Manchester-Liverpool' 'Shanghai' 'Shenzhen' 'Bavaria;Munich'\n",
      " 'Greater London;London' 'Phoenix' 'Fort Collins' 'Sacramento' 'Tel Aviv'\n",
      " 'Metro Rhein-Ruhr' 'Bavaria' 'Porto' 'Cambridge;London' 'London' 'Dallas'\n",
      " 'Barcelona' 'Kyoto' 'Indiana Center;Indiana'\n",
      " 'westfield-united states NOT resolved'\n",
      " 'plymouth-united states NOT resolved' 'Denver-Boulder' 'Guangzhou'\n",
      " 'St. Louis' 'Taipei City' 'Nice' 'North Brabant' 'Minneapolis'\n",
      " 'Vancouver' 'Skane' 'Jacksonville' 'Bluffton' 'Halland' 'Madrid'\n",
      " 'Kansas City' 'schwarzach-austria NOT resolved' 'Copenhagen'\n",
      " 'winchester-united states NOT resolved' 'Cincinnati' 'Portland'\n",
      " 'Stockholm;Uppsala län' 'Stockholm;Stockholms län' 'Columbus' 'Detroit'\n",
      " 'Saint Petersburg' 'New Orleans' 'Chennai' 'Brussels' 'Antwerp' 'Austin'\n",
      " 'portland-united states NOT resolved' 'Paris' 'Leipzig' 'Reno' 'Galway'\n",
      " 'Toulouse' 'Kingston' 'Las Vegas' 'Colorado Springs' 'Oslo' 'Tianjin'\n",
      " 'dornbirn-austria NOT resolved' 'Waterloo' 'Santiago-Valparaiso'\n",
      " 'Kolkata' 'Singapore' 'Richmond' 'Fukuoka' 'Hokkaido' 'San Antonio'\n",
      " 'Lille' 'Birmingham' 'Indiana Center;West Lafayette;Indiana'\n",
      " 'Athens;Greece' 'Kansas' 'El Paso' 'Montevideo' 'Oklahoma City'\n",
      " 'Urbana Champaign' 'Stockholm' 'Philadelphia;New York City'\n",
      " 'richmond-united states NOT resolved' 'Strasbourg' 'Des Moines'\n",
      " 'Tennessee' 'Tucson' 'New Zealand' 'Bangalore-Karnataka' 'Mexico City'\n",
      " 'Tulsa' 'Mannheim-Heidelberg' 'Orlando' 'Burlington' 'Kuala Lumpur'\n",
      " 'Spartanburg' 'Pittsburgh' 'rochester-united states NOT resolved'\n",
      " 'Wilmington' 'Hong Kong' 'Delhi' 'Dublin' 'Springfield (MA)'\n",
      " 'Johannesburg' 'St. Louis;Missouri' 'Indiana;Indianapolis'\n",
      " 'mie-japan NOT resolved' 'bethlehem-united states NOT resolved' 'Buffalo'\n",
      " 'Nashville;Tennessee' 'Winnipeg' 'Hangzhou' 'Vienna'\n",
      " 'Gothenburg;Vastra Gotaland' 'huntington-united states NOT resolved'\n",
      " 'Albuquerque' 'bedford-united states NOT resolved' 'Riyadh' 'Reykjavik'\n",
      " 'Wuxi' 'washington-united states NOT resolved' 'Turin' 'Ostergotland'\n",
      " 'Perth' 'Chattanooga' 'Buenos Aires' 'Edmonton' 'Santa Barbara'\n",
      " 'Hyderabad' 'lafayette-united states NOT resolved' 'Geneva' 'Rome'\n",
      " 'Memphis;Tennessee' 'Omaha-Lincoln' 'Milan'\n",
      " 'madison-united states NOT resolved' 'Istanbul' 'Nashville'\n",
      " 'decatur-united states NOT resolved' 'Sendai' 'Berlin' 'Hanover'\n",
      " 'Marseille' 'Memphis' 'Brisbane' 'Luxembourg' 'Basel'\n",
      " 'louannec-france NOT resolved' 'Kerala' 'Munich' 'Chattanooga;Tennessee'\n",
      " 'Prague' 'Rio de Janeiro' 'Wuhan' 'Sao Paulo' 'nara-japan NOT resolved'\n",
      " 'Salzburg' 'Quebec City' 'Mississippi'\n",
      " 'hortonville-united states NOT resolved' 'Kansas City;Kansas'\n",
      " 'Kansas City;Missouri' 'covington-united states NOT resolved' 'Calgary'\n",
      " 'kaiserslautern-germany NOT resolved' 'Bordeaux' 'Pune' 'Ahmedabad'\n",
      " 'Warsaw' 'Durban' 'Brno' 'Malta' 'Krakow' 'Oulu'\n",
      " 'alexandria-united states NOT resolved'\n",
      " 'lebanon-united states NOT resolved' 'Biscay Startup Bay' 'Mumbai'\n",
      " 'Budapest' 'Edinburgh-Glasgow' 'princeton-united states NOT resolved'\n",
      " 'monticello-united states NOT resolved' 'Toledo' 'Chengdu'\n",
      " 'freiburg-germany NOT resolved' 'Nanjing' 'Norrbotten' 'Lithuania'\n",
      " 'salem-germany NOT resolved' 'Kiev' 'Belo Horizonte'\n",
      " 'mount vernon-united states NOT resolved'\n",
      " 'portage-united states NOT resolved' 'Western Denmark' 'Sofia'\n",
      " 'southport-united states NOT resolved' 'Manila' 'Cairo' 'Atlantic Canada'\n",
      " 'Halifax;Atlantic Canada' 'sullivan-united states NOT resolved'\n",
      " 'teningen-germany NOT resolved' 'Charlottesville'\n",
      " 'coimbatore-india NOT resolved' 'radolfzell-germany NOT resolved'\n",
      " 'moos-germany NOT resolved' 'allensbach-germany NOT resolved'\n",
      " 'butler-united states NOT resolved' 'villach-austria NOT resolved'\n",
      " 'rockport-united states NOT resolved' 'denzlingen-germany NOT resolved'\n",
      " 'emmendingen-germany NOT resolved' 'new haven-united states NOT resolved'\n",
      " 'charlestown-united states NOT resolved' 'Fresno'\n",
      " 'kandern-germany NOT resolved' 'Ljubljana' 'trier-germany NOT resolved'\n",
      " 'Dubai' 'lindau-germany NOT resolved' 'boppard-germany NOT resolved'\n",
      " 'wehr-germany NOT resolved' 'Monterrey' 'Bangkok' 'Estonia' 'Bucharest'\n",
      " 'Seberang Perai' 'Lagos' 'Jonkoping' 'bonne-france NOT resolved'\n",
      " 'new castle-united states NOT resolved'\n",
      " 'friedrichshafen-germany NOT resolved' 'hohenems-austria NOT resolved'\n",
      " 'götzis-austria NOT resolved' 'Vastra Gotaland' 'Tehran'\n",
      " 'poligny-france NOT resolved' 'Ho Chi Minh City' 'Vasternorrland'\n",
      " 'loerrach-germany NOT resolved' 'singen-germany NOT resolved'\n",
      " 'giromagny-france NOT resolved' 'greensburg-united states NOT resolved'\n",
      " 'Durham' 'hard-austria NOT resolved' 'bregenz-austria NOT resolved'\n",
      " 'Nicosia' 'Orebro' 'huningue-france NOT resolved'\n",
      " 'nishinomiya-japan NOT resolved' 'lustenau-austria NOT resolved'\n",
      " 'lawrenceburg-united states NOT resolved' 'otsu-shi-japan NOT resolved'\n",
      " 'lugano-switzerland NOT resolved' 'feldkirch-austria NOT resolved'\n",
      " 'Adelaide' 'Vastmanland' 'schaan-liechtenstein NOT resolved'\n",
      " 'schopfheim-germany NOT resolved' 'gundelfingen-germany NOT resolved'\n",
      " 'Jakarta' 'ebringen-germany NOT resolved'\n",
      " 'bluffton-united states NOT resolved' 'geisingen-germany NOT resolved'\n",
      " 'Bratislava' 'Zagreb' 'wakayama-shi-japan NOT resolved'\n",
      " 'tijuana-mexico NOT resolved' 'kusatsu-shi-japan NOT resolved'\n",
      " 'nara-shi-japan NOT resolved' 'Caracas' 'sulz-austria NOT resolved'\n",
      " 'langenargen-germany NOT resolved' 'rheinfelden-germany NOT resolved'\n",
      " 'Kronoberg' 'Indiana;West Lafayette' 'engen-germany NOT resolved'\n",
      " 'Recife' 'Sri Lanka' 'Kalmar' 'lörrach-germany NOT resolved' 'Canberra'\n",
      " 'Valencia' 'waldkirch-germany NOT resolved'\n",
      " 'koblenz-germany NOT resolved' 'Nairobi' 'Ireland Mid East Region'\n",
      " 'otsu-japan NOT resolved' 'jonesboro-united states NOT resolved' 'Ankara'\n",
      " 'himeji-japan NOT resolved' 'eschen-liechtenstein NOT resolved'\n",
      " 'buchenbach-germany NOT resolved' 'Greece' 'Las Palmas'\n",
      " 'frankfort-united states NOT resolved'\n",
      " 'cervignano del friuli-italy NOT resolved'\n",
      " 'bernwiller-france NOT resolved' 'Porto Alegre'\n",
      " 'bingen-germany NOT resolved' 'logroño (la rioja)-spain NOT resolved'\n",
      " 'belfort-france NOT resolved' 'Atlantic Canada;Halifax'\n",
      " 'bludenz-austria NOT resolved' 'Indiana North;West Lafayette;Indiana'\n",
      " 'kirchzarten-germany NOT resolved' 'weil am rhein-germany NOT resolved'\n",
      " 'Wroclaw' 'hulst-netherlands NOT resolved'\n",
      " 'freiburg im breisgau-germany NOT resolved'\n",
      " 'müllheim-germany NOT resolved' 'udine-italy NOT resolved' 'Lima' 'Minsk'\n",
      " 'wakayama-japan NOT resolved' 'Belfast'\n",
      " 'rensselaer-united states NOT resolved' 'satteins-austria NOT resolved'\n",
      " 'bellinzona-switzerland NOT resolved' 'Amman' 'Rosario'\n",
      " 'montpelier-united states NOT resolved' 'Vasterbotten'\n",
      " 'tsu-shi-japan NOT resolved' 'weissensberg-germany NOT resolved'\n",
      " 'eriskirch-germany NOT resolved' 'Cagliari'\n",
      " 'saint malo-france NOT resolved' 'konstanz-germany NOT resolved'\n",
      " 'martinsville-united states NOT resolved' 'Yerevan'\n",
      " 'ravensburg-germany NOT resolved' 'Beirut'\n",
      " 'bodman-ludwigshafen-germany NOT resolved' 'Varmland'\n",
      " 'steinen-germany NOT resolved' 'la porte-united states NOT resolved'\n",
      " 'Cluj' 'Linshu' 'saarbrücken-germany NOT resolved'\n",
      " 'sierentz-france NOT resolved' 'tsu-japan NOT resolved'\n",
      " 'mitchell-united states NOT resolved' 'présilly-france NOT resolved'\n",
      " 'Abu Dhabi' 'Pretoria' 'arogno-switzerland NOT resolved' 'Bahrain'\n",
      " 'markdorf-germany NOT resolved' 'Guadalajara'\n",
      " 'lauchringen-germany NOT resolved' 'linsdorf-france NOT resolved'\n",
      " 'grenzach-wyhlen-germany NOT resolved' 'schwanau-germany NOT resolved'\n",
      " 'altkirch-france NOT resolved' 'rising sun-united states NOT resolved'\n",
      " 'Medellin' 'kakogawa-japan NOT resolved' 'Kharkiv' 'Cordoba'\n",
      " 'monfalcone-italy NOT resolved' 'bad krozingen-germany NOT resolved'\n",
      " 'arnoldstein-austria NOT resolved'\n",
      " 'petersburg-united states NOT resolved' 'Blekinge '\n",
      " 'grafenhausen-germany NOT resolved' 'Dalarna' 'Belgrade and Novi Sad'\n",
      " 'peelamedu-india NOT resolved' 'Ticino'\n",
      " 'terneuzen-netherlands NOT resolved' 'tettnang-germany NOT resolved'\n",
      " 'pontarlier-france NOT resolved' 'lahr-germany NOT resolved'\n",
      " 'immenstaad-germany NOT resolved' 'horgenzell-germany NOT resolved'\n",
      " 'Riga' 'bermatingen-germany NOT resolved'\n",
      " 'meckenbeuren-germany NOT resolved'\n",
      " 'radolfzell am bodensee-germany NOT resolved'\n",
      " 'saint-louis-france NOT resolved' 'Kalmar län' 'Quito'\n",
      " 'annecy-france NOT resolved' 'Doha'\n",
      " 'waldshut-tiengen-germany NOT resolved' 'tamba-japan NOT resolved'\n",
      " 'gotzis-austria NOT resolved' 'thonon-les-bains-france NOT resolved'\n",
      " 'Lecce' 'greencastle-united states NOT resolved' 'Bogota'\n",
      " 'pringy-france NOT resolved' 'st brelade-jersey NOT resolved'\n",
      " 'cherbourg-france NOT resolved' 'tourlaville-france NOT resolved'\n",
      " 'efringen-kirchen-germany NOT resolved' 'bartenheim-france NOT resolved'\n",
      " 'greendale-united states NOT resolved' 'lenzkirch-germany NOT resolved'\n",
      " 'attica-united states NOT resolved' 'schliengen-germany NOT resolved'\n",
      " 'lure-france NOT resolved' 'Florianópolis' 'altach-austria NOT resolved'\n",
      " 'Cebu City' 'schlierbach-france NOT resolved'\n",
      " 'eimeldingen-germany NOT resolved' 'binzen-germany NOT resolved'\n",
      " 'Gavleborg' 'La Paz' 'cruseilles-france NOT resolved'\n",
      " 'oostburg-netherlands NOT resolved' 'biggekerke-netherlands NOT resolved'\n",
      " 'Chisinau' 'Curitiba' 'youngstown-united states NOT resolved'\n",
      " 'Stockholm;Sodermanland' 'morteau-france NOT resolved' 'Casablanca'\n",
      " 'Tbilisi' 'amagasaki-japan NOT resolved' 'San Juan'\n",
      " 'lathuile-france NOT resolved' 'geulle-netherlands NOT resolved'\n",
      " 'marignier-france NOT resolved' 'saarbrucken-germany NOT resolved'\n",
      " 'cessy-france NOT resolved' 'woodburn-united states NOT resolved'\n",
      " 'divonne-les-bains-france NOT resolved' 'Skopje'\n",
      " 'le cheylas-france NOT resolved' 'heiligenberg-germany NOT resolved'\n",
      " 'stockach-germany NOT resolved'\n",
      " 'rielasingen-worblingen-germany NOT resolved'\n",
      " 'montagnola-switzerland NOT resolved' 'schallstadt-germany NOT resolved'\n",
      " 'Palma' 'au-germany NOT resolved' 'Tashkent' 'Sharjah' 'Peshawar'\n",
      " 'kenzingen-germany NOT resolved' 'Sodermanland'\n",
      " 'wolfsberg-austria NOT resolved' 'logrono-spain NOT resolved'\n",
      " 'goes-netherlands NOT resolved' 'peru-united states NOT resolved'\n",
      " 'doussard-france NOT resolved' 'staufen im breisgau-germany NOT resolved'\n",
      " 'klaus-austria NOT resolved' 'koblach-austria NOT resolved'\n",
      " 'mauren-liechtenstein NOT resolved' 'rankweil-austria NOT resolved'\n",
      " 'saint louis-france NOT resolved' 'loogootee-united states NOT resolved'\n",
      " 'les fins-france NOT resolved' 'losone-switzerland NOT resolved'\n",
      " 'annecy le vieux-france NOT resolved' 'albbruck-germany NOT resolved'\n",
      " 'kressbronn-germany NOT resolved' 'balerna-switzerland NOT resolved'\n",
      " 'Abuja' 'talloires-france NOT resolved' 'ornex-france NOT resolved'\n",
      " 'bad säckingen-germany NOT resolved' 'ettenheim-germany NOT resolved'\n",
      " 'saint-julien-en-genevois-france NOT resolved' 'sanda-japan NOT resolved'\n",
      " 'itami-japan NOT resolved' 'weingarten-germany NOT resolved'\n",
      " 'boonville-united states NOT resolved'\n",
      " 'gottmadingen-germany NOT resolved' 'maulburg-germany NOT resolved'\n",
      " 'gravesano-switzerland NOT resolved' 'ruggell-liechtenstein NOT resolved'\n",
      " 'Isle of Man' 'breisach-germany NOT resolved'\n",
      " 'triberg-germany NOT resolved' 'vaduz-liechtenstein NOT resolved'\n",
      " 'rosenau-france NOT resolved' 'feigères-france NOT resolved' 'Xinyu'\n",
      " 'danjoutin-france NOT resolved' 'Accra' 'reichenau-germany NOT resolved'\n",
      " 'sallanches-france NOT resolved' 'Gotland' 'Asuncion' 'Kazan' 'Hanoi'\n",
      " 'sevrier-france NOT resolved' 'Jamtland' 'takarazuka-japan NOT resolved'\n",
      " 'ville-la-grand-france NOT resolved' 'Kumasi'\n",
      " 'montbeliard-france NOT resolved' 'thoiry-france NOT resolved'\n",
      " 'wasserburg (bodensee)-germany NOT resolved'\n",
      " 'neukirch-germany NOT resolved' 'Nyköping;Sodermanland'\n",
      " 'bonneville-france NOT resolved' 'staufen-germany NOT resolved'\n",
      " 'hilzingen-germany NOT resolved' 'vlissingen-netherlands NOT resolved'\n",
      " 'laufenburg-germany NOT resolved' 'Hermosillo'\n",
      " 'netersel-netherlands NOT resolved' 'hüfingen-germany NOT resolved'\n",
      " 'blumberg-germany NOT resolved' 'granville-france NOT resolved'\n",
      " 'sexau-germany NOT resolved' 'santander-spain NOT resolved'\n",
      " 'contamine-sur-arve-france NOT resolved'\n",
      " 'la rochette-france NOT resolved' 'remiremont-france NOT resolved'\n",
      " 'lauterach-austria NOT resolved' 'sölden-germany NOT resolved'\n",
      " 'görwihl-germany NOT resolved' 'neuvecelle-france NOT resolved'\n",
      " 'badenweiler-germany NOT resolved' 'annemasse-france NOT resolved'\n",
      " 'arenthon-france NOT resolved' 'oberteuringen-germany NOT resolved'\n",
      " 'Tunis' 'remagen-germany NOT resolved' 'metz-tessy-france NOT resolved'\n",
      " 'ashiya-japan NOT resolved' 'schluchsee-germany NOT resolved'\n",
      " 'wolfurt-austria NOT resolved' 'hohberg-germany NOT resolved'\n",
      " 'Uppsala län' 'Bucaramanga' 'achberg-germany NOT resolved'\n",
      " 'baienfurt-germany NOT resolved' 'scionzier-france NOT resolved'\n",
      " 'crozet-france NOT resolved' 'ikoma-japan NOT resolved'\n",
      " 'hörbranz-austria NOT resolved' 'ligonier-united states NOT resolved'\n",
      " 'valognes-france NOT resolved' 'frickingen-germany NOT resolved'\n",
      " 'waldburg-germany NOT resolved' 'march-germany NOT resolved'\n",
      " 'caslano-switzerland NOT resolved' 'knox-united states NOT resolved'\n",
      " 'ohio-united states NOT resolved' 'moriyama-japan NOT resolved'\n",
      " 'wendelsheim-germany NOT resolved' 'Manaus' 'Brasilia' 'Goiania'\n",
      " 'kawanishi-japan NOT resolved' 'archamps-france NOT resolved'\n",
      " 'st helier-jersey NOT resolved' 'albertville-france NOT resolved'\n",
      " 'bodnegg-germany NOT resolved' 'amtzell-germany NOT resolved'\n",
      " 'ihringen-germany NOT resolved' 'comano-switzerland NOT resolved'\n",
      " 'tatsuno-japan NOT resolved' 'bräunlingen-germany NOT resolved'\n",
      " 'althofen-austria NOT resolved' 'Ulaanbaatar' 'Almaty'\n",
      " 'murg-germany NOT resolved' 'riva san vitale-switzerland NOT resolved'\n",
      " 'kennelbach-austria NOT resolved'\n",
      " 'uhldingen-mühlhofen-germany NOT resolved' 'reignier-france NOT resolved'\n",
      " 'montlebon-france NOT resolved' 'seelbach-germany NOT resolved'\n",
      " 'gordola-switzerland NOT resolved' 'Santo Domingo'\n",
      " 'birkenfeld-germany NOT resolved' 'riazzino-switzerland NOT resolved'\n",
      " 'Nur-Sultan' 'higashiomi-japan NOT resolved' 'yasu-japan NOT resolved'\n",
      " 'rheinbreitbach-germany NOT resolved' 'baindt-germany NOT resolved'\n",
      " 'logroño-spain NOT resolved' 'Bosnia and Herzegovina' 'Addis Ababa'\n",
      " 'hufingen-germany NOT resolved' 'verscio-switzerland NOT resolved'\n",
      " 'castagnola-switzerland NOT resolved' 'Algiers' 'Ras Al-Khaimah'\n",
      " 'saint-malo-france NOT resolved'\n",
      " 'cadier en keer-netherlands NOT resolved'\n",
      " 'viganello-switzerland NOT resolved' 'hohentengen-germany NOT resolved'\n",
      " 'West Lafayette' 'orsingen-nenzingen-germany NOT resolved'\n",
      " 'saint-jorioz-france NOT resolved' 'ooty-india NOT resolved'\n",
      " 'waldshut-germany NOT resolved' 'talloires-montmin-france NOT resolved'\n",
      " 'marnaz-france NOT resolved' 'ritto-japan NOT resolved'\n",
      " 'eschbach-germany NOT resolved' 'burnhaupt-le-haut-france NOT resolved'\n",
      " 'giubiasco-switzerland NOT resolved'\n",
      " 'ferney-voltaire-france NOT resolved'\n",
      " 'aardenburg-netherlands NOT resolved'\n",
      " 'triesen-liechtenstein NOT resolved' 'lottstetten-germany NOT resolved'\n",
      " 'neuenburg am rhein-germany NOT resolved'\n",
      " 'immenstaad am bodensee-germany NOT resolved'\n",
      " 'brand-austria NOT resolved' 'fillinges-france NOT resolved'\n",
      " 'oakland city-united states NOT resolved'\n",
      " 'überlingen-germany NOT resolved' 'Bali' 'Abidjan'\n",
      " 'guyans-vennes-france NOT resolved' 'manno-switzerland NOT resolved'\n",
      " 'bötzingen-germany NOT resolved' 'owingen-germany NOT resolved'\n",
      " 'vörstetten-germany NOT resolved' 'hirsingue-france NOT resolved'\n",
      " 'todtnau-germany NOT resolved'\n",
      " 'saint-martin-bellevue-france NOT resolved' 'Blekinge'\n",
      " 'sochaux-france NOT resolved' 'cividale del friuli-italy NOT resolved'\n",
      " 'montbéliard-france NOT resolved' 'eede-netherlands NOT resolved'\n",
      " 'veyrier-du-lac-france NOT resolved' 'wilhelmsdorf-germany NOT resolved'\n",
      " 'hésingue-france NOT resolved'\n",
      " 'st julien en genevois-france NOT resolved'\n",
      " 'eigeltingen-germany NOT resolved' 'aach-germany NOT resolved'\n",
      " 'casteren-netherlands NOT resolved' 'kobe-shi-japan NOT resolved'\n",
      " 'saint-genis-pouilly-france NOT resolved' 'gaillard-france NOT resolved'\n",
      " 'allonzier-la-caille-france NOT resolved'\n",
      " 'damascus-syrian arab republic NOT resolved' 'Baku'\n",
      " 'rivera-switzerland NOT resolved' 'mossa-italy NOT resolved'\n",
      " 'hinterzarten-germany NOT resolved' 'pollachi-india NOT resolved'\n",
      " 'bollschweil-germany NOT resolved' 'andilly-france NOT resolved'\n",
      " 'frederikshavn-denmark NOT resolved' 'hikone-japan NOT resolved'\n",
      " 'meersburg-germany NOT resolved' 'guernsey-united kingdom NOT resolved'\n",
      " 'cluses-france NOT resolved' 'eichstetten-germany NOT resolved'\n",
      " 'marin-france NOT resolved' 'maroggia-switzerland NOT resolved'\n",
      " 'sciez-france NOT resolved' 'douvaine-france NOT resolved'\n",
      " 'nabari-japan NOT resolved' 'Dakar' 'cureglia-switzerland NOT resolved'\n",
      " 'lahr/schwarzwald-germany NOT resolved' 'matsusaka-japan NOT resolved'\n",
      " 'genestrerio-switzerland NOT resolved'\n",
      " 'pavia di udine-italy NOT resolved'\n",
      " 'breisach am rhein-germany NOT resolved' 'doubs-france NOT resolved'\n",
      " 'jestetten-germany NOT resolved' 'sessa-switzerland NOT resolved'\n",
      " 'iga-japan NOT resolved' 'Davao' 'grenzach-germany NOT resolved'\n",
      " 'simonswald-germany NOT resolved' 'ligornetto-switzerland NOT resolved'\n",
      " 'sorengo-switzerland NOT resolved' 'agno-switzerland NOT resolved'\n",
      " 'singen (hohentwiel)-germany NOT resolved'\n",
      " 'cadro-switzerland NOT resolved' 'lochau-austria NOT resolved'\n",
      " 'wutöschingen-germany NOT resolved' 'bürs-austria NOT resolved'\n",
      " 'gronsveld-netherlands NOT resolved' 'mieussy-france NOT resolved'\n",
      " 'audincourt-france NOT resolved' 'delle-france NOT resolved'\n",
      " 'grandvillars-france NOT resolved' 'omihachiman-japan NOT resolved'\n",
      " 'volkertshausen-germany NOT resolved'\n",
      " 'saint martin bellevue-france NOT resolved'\n",
      " 'saint genis pouilly-france NOT resolved' 'cervens-france NOT resolved'\n",
      " 'chiasso-switzerland NOT resolved'\n",
      " 'sint jansteen-netherlands NOT resolved'\n",
      " 'ploubazlanec-france NOT resolved' 'bahlingen-germany NOT resolved'\n",
      " 'chaux-france NOT resolved' 'degernau-germany NOT resolved'\n",
      " 'molinazzo di monteggio-switzerland NOT resolved' 'Kampala'\n",
      " 'schlier-germany NOT resolved' 'feldkirch-germany NOT resolved'\n",
      " 'muralto-switzerland NOT resolved' 'merdingen-germany NOT resolved'\n",
      " 'raggal-austria NOT resolved' 'weiler-austria NOT resolved'\n",
      " 'brunstatt-france NOT resolved' 'bedano-switzerland NOT resolved'\n",
      " 'quierschied-germany NOT resolved' 'saarwellingen-germany NOT resolved'\n",
      " 'stühlingen-germany NOT resolved' 'pregassona-switzerland NOT resolved'\n",
      " 'taverne-switzerland NOT resolved' 'frieburg-germany NOT resolved'\n",
      " 'riegel-germany NOT resolved' 'lons-le-saunier-france NOT resolved'\n",
      " 'sas van gent-netherlands NOT resolved' 'Sarajevo'\n",
      " 'hashimoto-japan NOT resolved' 'morez-france NOT resolved'\n",
      " 'oberried-germany NOT resolved' 'kameyama-japan NOT resolved'\n",
      " 'saint-claude-france NOT resolved' 'sankt ingbert-germany NOT resolved'\n",
      " 'strandby-denmark NOT resolved' 'evires-france NOT resolved'\n",
      " 'eggingen-germany NOT resolved' 'stegen-germany NOT resolved'\n",
      " 'saint-alban-france NOT resolved' 'torrelavega-spain NOT resolved'\n",
      " 'Luanda' 'kortgene-netherlands NOT resolved' 'Indianapolis'\n",
      " 'saint gervais-france NOT resolved' 'lamone-switzerland NOT resolved'\n",
      " 'coutances-france NOT resolved' 'annecy-le-vieux-france NOT resolved'\n",
      " 'la clusaz-france NOT resolved' 'umkirch-germany NOT resolved'\n",
      " 'vogtsburg-germany NOT resolved' 'deggenhausertal-germany NOT resolved'\n",
      " 'sakamoto-japan NOT resolved' 'Guernsay'\n",
      " 'aspach-michelbach-france NOT resolved' 'attimis-italy NOT resolved'\n",
      " 'thyez-france NOT resolved' 'vinningen-germany NOT resolved'\n",
      " 'rickenbach-germany NOT resolved' 'erquy-france NOT resolved'\n",
      " 'octeville-france NOT resolved' 'fürnitz-austria NOT resolved'\n",
      " 'legal-canada NOT resolved' 'San Salvador' 'paimpol-france NOT resolved'\n",
      " 'caviano-switzerland NOT resolved' 'jersey-united kingdom NOT resolved'\n",
      " 'daisendorf-germany NOT resolved' 'faverges-france NOT resolved'\n",
      " 'wittnau-germany NOT resolved' 'Kinshasa' 'viskovo-croatia NOT resolved'\n",
      " 'dingy-saint-clair-france NOT resolved'\n",
      " 'camorino-switzerland NOT resolved' 'malterdingen-germany NOT resolved'\n",
      " 'mercury-france NOT resolved' 'kashihara-japan NOT resolved'\n",
      " 'les houches-france NOT resolved' 'westdorpe-netherlands NOT resolved'\n",
      " 'Tirana' 'megève-france NOT resolved'\n",
      " 'philippine-netherlands NOT resolved' 'rust-germany NOT resolved'\n",
      " 'morbio inferiore-switzerland NOT resolved' 'kashiba-japan NOT resolved'\n",
      " 'dörth-germany NOT resolved' 'vacallo-switzerland NOT resolved'\n",
      " 'heuweiler-germany NOT resolved'\n",
      " 'herdwangen-schönach-germany NOT resolved'\n",
      " 'kippenheim-germany NOT resolved' 'mahlberg-germany NOT resolved'\n",
      " 'chamonix-mont-blanc-france NOT resolved' 'takasago-japan NOT resolved'\n",
      " 'dinard-france NOT resolved' 'mezzovico-switzerland NOT resolved'\n",
      " 'tijuana, baja california-mexico NOT resolved'\n",
      " 'héricourt-france NOT resolved' 'monnetier-mornex-france NOT resolved'\n",
      " 'cherbourg-octeville-france NOT resolved'\n",
      " 'heimsbrunn-france NOT resolved' 'ascona-switzerland NOT resolved'\n",
      " 'Kigali' 'bons-en-chablais-france NOT resolved'\n",
      " 'nieuwdorp-netherlands NOT resolved' 'glatigny-france NOT resolved'\n",
      " 'melano-switzerland NOT resolved' 'wittlingen-germany NOT resolved'\n",
      " 'bozel-france NOT resolved' 'chamonix-france NOT resolved'\n",
      " 'peisey-nancroix-france NOT resolved' 'longchaumois-france NOT resolved'\n",
      " 'lessay-france NOT resolved' 'völkermarkt-austria NOT resolved'\n",
      " 'ühlingen-birkendorf-germany NOT resolved'\n",
      " 'saint helier-jersey NOT resolved' 'feldberg-germany NOT resolved'\n",
      " 'lewedorp-netherlands NOT resolved' 'sint kruis-netherlands NOT resolved'\n",
      " 'grilly-france NOT resolved' 'tenero-switzerland NOT resolved'\n",
      " 'lodano-switzerland NOT resolved' 'trivignano udinese-italy NOT resolved'\n",
      " 'quartino-switzerland NOT resolved' 'sigirino-switzerland NOT resolved'\n",
      " 'Dar es Salaam' 'sluiskil-netherlands NOT resolved'\n",
      " 'bonndorf im schwarzwald-germany NOT resolved' 'koka-japan NOT resolved'\n",
      " 'orgelet-france NOT resolved' 'löffingen-germany NOT resolved'\n",
      " 'Montenegro' 'griessen-germany NOT resolved'\n",
      " 'channel islands-united kingdom NOT resolved'\n",
      " 'klagenfurt am woerthersee-austria NOT resolved'\n",
      " 'menthon-saint-bernard-france NOT resolved'\n",
      " 'ringsheim-germany NOT resolved' 'zoutelande-netherlands NOT resolved'\n",
      " 'Gambia' 'st genis-pouilly-france NOT resolved'\n",
      " 'aspach-le-bas-france NOT resolved' 'anteuil-france NOT resolved'\n",
      " 'axel-netherlands NOT resolved' 'laufenburg (baden)-germany NOT resolved'\n",
      " 'pura-switzerland NOT resolved'\n",
      " 'st helier jersey-united kingdom NOT resolved'\n",
      " 'schoondijke-netherlands NOT resolved'\n",
      " 'belfort cedex-france NOT resolved' 'komono-japan NOT resolved'\n",
      " 'st peter port-united kingdom NOT resolved'\n",
      " 'margencel-france NOT resolved' 'büchenbach-germany NOT resolved'\n",
      " 'bodensee-germany NOT resolved' 'uppilipalayam-india NOT resolved'\n",
      " 'bretteville-france NOT resolved' 'givet-france NOT resolved'\n",
      " 'autechaux-france NOT resolved' 'alex-france NOT resolved']\n"
     ]
    }
   ],
   "source": [
    "ecosystem_values = df_raw_patents['Ecosystem'].unique()\n",
    "total_ecosystem = len(ecosystem_values)\n",
    "print(f'Total unique values fo Ecosystem: {total_ecosystem}\\nValues: {ecosystem_values}')"
   ],
   "metadata": {
    "collapsed": false,
    "ExecuteTime": {
     "end_time": "2023-06-25T02:35:24.485794100Z",
     "start_time": "2023-06-25T02:35:24.047491Z"
    }
   }
  },
  {
   "cell_type": "code",
   "execution_count": 6,
   "outputs": [],
   "source": [
    "df_by_city_country = df_raw_patents.groupby(by=['city', 'CountryName'])"
   ],
   "metadata": {
    "collapsed": false,
    "ExecuteTime": {
     "end_time": "2023-06-25T02:35:24.548195300Z",
     "start_time": "2023-06-25T02:35:24.486792400Z"
    }
   }
  },
  {
   "cell_type": "code",
   "execution_count": 7,
   "outputs": [
    {
     "name": "stdout",
     "output_type": "stream",
     "text": [
      "Bangor-United Kingdom -> 2 -> [nan 'Belfast']\n",
      "Chaiwan-Hong Kong -> 2 -> [nan 'Hong Kong']\n",
      "Honk Kong-Hong Kong -> 2 -> ['Hong Kong' nan]\n",
      "Kowloon Hong Kong-Hong Kong -> 2 -> ['Hong Kong' nan]\n",
      "London-United Kingdom -> 2 -> ['Greater London;London' 'London']\n",
      "Moville-United Kingdom -> 2 -> [nan 'Belfast']\n"
     ]
    }
   ],
   "source": [
    "for city_country, df in df_by_city_country:\n",
    "    df_ecosystem_uniques = df['Ecosystem'].unique()\n",
    "    count_uniques = len(df_ecosystem_uniques)\n",
    "    df = df.loc[:, ['city', 'CountryName', 'Ecosystem']]\n",
    "\n",
    "    if count_uniques > 1:\n",
    "        print(f'{city_country[0]}-{city_country[1]} -> {count_uniques} -> {df_ecosystem_uniques}')"
   ],
   "metadata": {
    "collapsed": false,
    "ExecuteTime": {
     "end_time": "2023-06-25T02:36:30.318530600Z",
     "start_time": "2023-06-25T02:35:24.504221900Z"
    }
   }
  },
  {
   "cell_type": "code",
   "execution_count": 8,
   "outputs": [
    {
     "name": "stdout",
     "output_type": "stream",
     "text": [
      "city           178188\n",
      "CountryName       222\n",
      "dtype: int64\n"
     ]
    }
   ],
   "source": [
    "unique_city_country_combinations = df_raw_patents[['city', 'CountryName']].nunique()\n",
    "print(unique_city_country_combinations)"
   ],
   "metadata": {
    "collapsed": false,
    "ExecuteTime": {
     "end_time": "2023-06-25T02:36:31.028958200Z",
     "start_time": "2023-06-25T02:36:30.318530600Z"
    }
   }
  },
  {
   "cell_type": "code",
   "execution_count": 9,
   "outputs": [
    {
     "data": {
      "text/plain": "           patent_id name_first name_last city country  \\\n7669     20150354799     Stacey      West  NaN      US   \n62347    20120179897       Neil  Campbell  NaN      US   \n63629    20120304381      Peter   PATEROK  NaN      US   \n68270    20130302015    Roberto      Dini  NaN      IT   \n88030    20160119376     Andrea  Scozzaro  NaN      IT   \n...              ...        ...       ...  ...     ...   \n9758590  20150233075    Michael    Maggio  NaN      US   \n9814462  20210323066       Paul  Olubummo  NaN      US   \n9816589  20120153144   Benjamin  McMorran  NaN      US   \n9816789  20120191149       Gary   Freeman  NaN      US   \n9824035  20140045602      Darin   DINGMAN  NaN      US   \n\n                       grant_date  grant_year                  app_date  \\\n7669     2015-12-10T00:00:00.000Z        2015  2015-06-15T00:00:00.000Z   \n62347    2012-07-12T00:00:00.000Z        2012  2012-01-06T00:00:00.000Z   \n63629    2012-12-06T00:00:00.000Z        2012  2012-07-25T00:00:00.000Z   \n68270    2013-11-14T00:00:00.000Z        2013  2012-02-13T00:00:00.000Z   \n88030    2016-04-28T00:00:00.000Z        2016  2014-06-17T00:00:00.000Z   \n...                           ...         ...                       ...   \n9758590  2015-08-20T00:00:00.000Z        2015  2014-02-19T00:00:00.000Z   \n9814462  2021-10-21T00:00:00.000Z        2021  2018-06-05T00:00:00.000Z   \n9816589  2012-06-21T00:00:00.000Z        2012  2012-02-14T00:00:00.000Z   \n9816789  2012-07-26T00:00:00.000Z        2012  2012-04-03T00:00:00.000Z   \n9824035  2014-02-13T00:00:00.000Z        2014  2012-08-09T00:00:00.000Z   \n\n         app_year  class_distinct_count    class_concat  \\\n7669         2015                   3.0  F21L,H05B,F21V   \n62347        2012                   1.0            G06F   \n63629        2012                   1.0            A47C   \n68270        2012                   1.0            H04N   \n88030        2014                   1.0            H04L   \n...           ...                   ...             ...   \n9758590      2014                   1.0            E02D   \n9814462      2018                   2.0       B22F,B33Y   \n9816589      2012                   1.0            H01J   \n9816789      2012                   2.0       A61H,A61N   \n9824035      2012                   1.0            A63B   \n\n         class_IPC_distinct_count class_IPC_concat    CountryName  \\\n7669                          2.0        F21V,H05B  United States   \n62347                         1.0             G06F  United States   \n63629                         1.0             A47C  United States   \n68270                         1.0             H04N          Italy   \n88030                         1.0             H04L          Italy   \n...                           ...              ...            ...   \n9758590                       1.0             E02D  United States   \n9814462                       2.0        B22F,B33Y  United States   \n9816589                       1.0             H01J  United States   \n9816789                       2.0        A61H,A61N  United States   \n9824035                       1.0             A63B  United States   \n\n           CityCountry Ecosystem GoogleCity  \n7669     United States       NaN        NaN  \n62347    United States       NaN        NaN  \n63629    United States       NaN        NaN  \n68270        NoneItaly     Turin        NaN  \n88030        NoneItaly     Turin        NaN  \n...                ...       ...        ...  \n9758590  United States       NaN        NaN  \n9814462  United States       NaN        NaN  \n9816589  United States       NaN        NaN  \n9816789  United States       NaN        NaN  \n9824035  United States       NaN        NaN  \n\n[600 rows x 17 columns]",
      "text/html": "<div>\n<style scoped>\n    .dataframe tbody tr th:only-of-type {\n        vertical-align: middle;\n    }\n\n    .dataframe tbody tr th {\n        vertical-align: top;\n    }\n\n    .dataframe thead th {\n        text-align: right;\n    }\n</style>\n<table border=\"1\" class=\"dataframe\">\n  <thead>\n    <tr style=\"text-align: right;\">\n      <th></th>\n      <th>patent_id</th>\n      <th>name_first</th>\n      <th>name_last</th>\n      <th>city</th>\n      <th>country</th>\n      <th>grant_date</th>\n      <th>grant_year</th>\n      <th>app_date</th>\n      <th>app_year</th>\n      <th>class_distinct_count</th>\n      <th>class_concat</th>\n      <th>class_IPC_distinct_count</th>\n      <th>class_IPC_concat</th>\n      <th>CountryName</th>\n      <th>CityCountry</th>\n      <th>Ecosystem</th>\n      <th>GoogleCity</th>\n    </tr>\n  </thead>\n  <tbody>\n    <tr>\n      <th>7669</th>\n      <td>20150354799</td>\n      <td>Stacey</td>\n      <td>West</td>\n      <td>NaN</td>\n      <td>US</td>\n      <td>2015-12-10T00:00:00.000Z</td>\n      <td>2015</td>\n      <td>2015-06-15T00:00:00.000Z</td>\n      <td>2015</td>\n      <td>3.0</td>\n      <td>F21L,H05B,F21V</td>\n      <td>2.0</td>\n      <td>F21V,H05B</td>\n      <td>United States</td>\n      <td>United States</td>\n      <td>NaN</td>\n      <td>NaN</td>\n    </tr>\n    <tr>\n      <th>62347</th>\n      <td>20120179897</td>\n      <td>Neil</td>\n      <td>Campbell</td>\n      <td>NaN</td>\n      <td>US</td>\n      <td>2012-07-12T00:00:00.000Z</td>\n      <td>2012</td>\n      <td>2012-01-06T00:00:00.000Z</td>\n      <td>2012</td>\n      <td>1.0</td>\n      <td>G06F</td>\n      <td>1.0</td>\n      <td>G06F</td>\n      <td>United States</td>\n      <td>United States</td>\n      <td>NaN</td>\n      <td>NaN</td>\n    </tr>\n    <tr>\n      <th>63629</th>\n      <td>20120304381</td>\n      <td>Peter</td>\n      <td>PATEROK</td>\n      <td>NaN</td>\n      <td>US</td>\n      <td>2012-12-06T00:00:00.000Z</td>\n      <td>2012</td>\n      <td>2012-07-25T00:00:00.000Z</td>\n      <td>2012</td>\n      <td>1.0</td>\n      <td>A47C</td>\n      <td>1.0</td>\n      <td>A47C</td>\n      <td>United States</td>\n      <td>United States</td>\n      <td>NaN</td>\n      <td>NaN</td>\n    </tr>\n    <tr>\n      <th>68270</th>\n      <td>20130302015</td>\n      <td>Roberto</td>\n      <td>Dini</td>\n      <td>NaN</td>\n      <td>IT</td>\n      <td>2013-11-14T00:00:00.000Z</td>\n      <td>2013</td>\n      <td>2012-02-13T00:00:00.000Z</td>\n      <td>2012</td>\n      <td>1.0</td>\n      <td>H04N</td>\n      <td>1.0</td>\n      <td>H04N</td>\n      <td>Italy</td>\n      <td>NoneItaly</td>\n      <td>Turin</td>\n      <td>NaN</td>\n    </tr>\n    <tr>\n      <th>88030</th>\n      <td>20160119376</td>\n      <td>Andrea</td>\n      <td>Scozzaro</td>\n      <td>NaN</td>\n      <td>IT</td>\n      <td>2016-04-28T00:00:00.000Z</td>\n      <td>2016</td>\n      <td>2014-06-17T00:00:00.000Z</td>\n      <td>2014</td>\n      <td>1.0</td>\n      <td>H04L</td>\n      <td>1.0</td>\n      <td>H04L</td>\n      <td>Italy</td>\n      <td>NoneItaly</td>\n      <td>Turin</td>\n      <td>NaN</td>\n    </tr>\n    <tr>\n      <th>...</th>\n      <td>...</td>\n      <td>...</td>\n      <td>...</td>\n      <td>...</td>\n      <td>...</td>\n      <td>...</td>\n      <td>...</td>\n      <td>...</td>\n      <td>...</td>\n      <td>...</td>\n      <td>...</td>\n      <td>...</td>\n      <td>...</td>\n      <td>...</td>\n      <td>...</td>\n      <td>...</td>\n      <td>...</td>\n    </tr>\n    <tr>\n      <th>9758590</th>\n      <td>20150233075</td>\n      <td>Michael</td>\n      <td>Maggio</td>\n      <td>NaN</td>\n      <td>US</td>\n      <td>2015-08-20T00:00:00.000Z</td>\n      <td>2015</td>\n      <td>2014-02-19T00:00:00.000Z</td>\n      <td>2014</td>\n      <td>1.0</td>\n      <td>E02D</td>\n      <td>1.0</td>\n      <td>E02D</td>\n      <td>United States</td>\n      <td>United States</td>\n      <td>NaN</td>\n      <td>NaN</td>\n    </tr>\n    <tr>\n      <th>9814462</th>\n      <td>20210323066</td>\n      <td>Paul</td>\n      <td>Olubummo</td>\n      <td>NaN</td>\n      <td>US</td>\n      <td>2021-10-21T00:00:00.000Z</td>\n      <td>2021</td>\n      <td>2018-06-05T00:00:00.000Z</td>\n      <td>2018</td>\n      <td>2.0</td>\n      <td>B22F,B33Y</td>\n      <td>2.0</td>\n      <td>B22F,B33Y</td>\n      <td>United States</td>\n      <td>United States</td>\n      <td>NaN</td>\n      <td>NaN</td>\n    </tr>\n    <tr>\n      <th>9816589</th>\n      <td>20120153144</td>\n      <td>Benjamin</td>\n      <td>McMorran</td>\n      <td>NaN</td>\n      <td>US</td>\n      <td>2012-06-21T00:00:00.000Z</td>\n      <td>2012</td>\n      <td>2012-02-14T00:00:00.000Z</td>\n      <td>2012</td>\n      <td>1.0</td>\n      <td>H01J</td>\n      <td>1.0</td>\n      <td>H01J</td>\n      <td>United States</td>\n      <td>United States</td>\n      <td>NaN</td>\n      <td>NaN</td>\n    </tr>\n    <tr>\n      <th>9816789</th>\n      <td>20120191149</td>\n      <td>Gary</td>\n      <td>Freeman</td>\n      <td>NaN</td>\n      <td>US</td>\n      <td>2012-07-26T00:00:00.000Z</td>\n      <td>2012</td>\n      <td>2012-04-03T00:00:00.000Z</td>\n      <td>2012</td>\n      <td>2.0</td>\n      <td>A61H,A61N</td>\n      <td>2.0</td>\n      <td>A61H,A61N</td>\n      <td>United States</td>\n      <td>United States</td>\n      <td>NaN</td>\n      <td>NaN</td>\n    </tr>\n    <tr>\n      <th>9824035</th>\n      <td>20140045602</td>\n      <td>Darin</td>\n      <td>DINGMAN</td>\n      <td>NaN</td>\n      <td>US</td>\n      <td>2014-02-13T00:00:00.000Z</td>\n      <td>2014</td>\n      <td>2012-08-09T00:00:00.000Z</td>\n      <td>2012</td>\n      <td>1.0</td>\n      <td>A63B</td>\n      <td>1.0</td>\n      <td>A63B</td>\n      <td>United States</td>\n      <td>United States</td>\n      <td>NaN</td>\n      <td>NaN</td>\n    </tr>\n  </tbody>\n</table>\n<p>600 rows × 17 columns</p>\n</div>"
     },
     "execution_count": 9,
     "metadata": {},
     "output_type": "execute_result"
    }
   ],
   "source": [
    "df_city_null = df_raw_patents[df_raw_patents['city'].isnull()]\n",
    "df_city_null"
   ],
   "metadata": {
    "collapsed": false,
    "ExecuteTime": {
     "end_time": "2023-06-25T02:36:31.219957700Z",
     "start_time": "2023-06-25T02:36:31.029958800Z"
    }
   }
  },
  {
   "cell_type": "code",
   "execution_count": 10,
   "outputs": [
    {
     "data": {
      "text/plain": "           patent_id name_first name_last city country  \\\n1930015  20160126822       Mark     SNOOK  NaN      GB   \n1930016  20160126822     Robert   LEEDHAM  NaN      GB   \n1930017  20160126822      Robin      LYLE  NaN      GB   \n2753162  20130307942      Paolo   D'Amato  NaN      IT   \n2753163  20130307942    Roberto      Dini  NaN      IT   \n2753164  20130307942    Saverio     Celia  NaN      IT   \n8525695  20140275509  Christian   Espinel  NaN      ES   \n8525696  20140275509      Jesús    Fuente  NaN      ES   \n8525697  20140275509      Pablo   Higuera  NaN      ES   \n\n                       grant_date  grant_year                  app_date  \\\n1930015  2016-05-05T00:00:00.000Z        2016  2014-06-17T00:00:00.000Z   \n1930016  2016-05-05T00:00:00.000Z        2016  2014-06-17T00:00:00.000Z   \n1930017  2016-05-05T00:00:00.000Z        2016  2014-06-17T00:00:00.000Z   \n2753162  2013-11-21T00:00:00.000Z        2013  2012-01-10T00:00:00.000Z   \n2753163  2013-11-21T00:00:00.000Z        2013  2012-01-10T00:00:00.000Z   \n2753164  2013-11-21T00:00:00.000Z        2013  2012-01-10T00:00:00.000Z   \n8525695  2014-09-18T00:00:00.000Z        2014  2012-05-04T00:00:00.000Z   \n8525696  2014-09-18T00:00:00.000Z        2014  2012-05-04T00:00:00.000Z   \n8525697  2014-09-18T00:00:00.000Z        2014  2012-05-04T00:00:00.000Z   \n\n         app_year  class_distinct_count class_concat  \\\n1930015      2014                   2.0    H03K,H02M   \n1930016      2014                   2.0    H03K,H02M   \n1930017      2014                   2.0    H03K,H02M   \n2753162      2012                   1.0         H04N   \n2753163      2012                   1.0         H04N   \n2753164      2012                   1.0         H04N   \n8525695      2012                   1.0         A61K   \n8525696      2012                   1.0         A61K   \n8525697      2012                   1.0         A61K   \n\n         class_IPC_distinct_count class_IPC_concat     CountryName  \\\n1930015                       2.0        H02M,H03K  United Kingdom   \n1930016                       2.0        H02M,H03K  United Kingdom   \n1930017                       2.0        H02M,H03K  United Kingdom   \n2753162                       1.0             H04N           Italy   \n2753163                       1.0             H04N           Italy   \n2753164                       1.0             H04N           Italy   \n8525695                       1.0             A61K           Spain   \n8525696                       1.0             A61K           Spain   \n8525697                       1.0             A61K           Spain   \n\n               CityCountry Ecosystem GoogleCity  \n1930015  N/AUnited Kingdom       NaN        NaN  \n1930016  N/AUnited Kingdom       NaN        NaN  \n1930017  N/AUnited Kingdom       NaN        NaN  \n2753162          NoneItaly     Turin        NaN  \n2753163          NoneItaly     Turin        NaN  \n2753164          NoneItaly     Turin        NaN  \n8525695           n/aSpain       NaN        NaN  \n8525696           n/aSpain       NaN        NaN  \n8525697           n/aSpain       NaN        NaN  ",
      "text/html": "<div>\n<style scoped>\n    .dataframe tbody tr th:only-of-type {\n        vertical-align: middle;\n    }\n\n    .dataframe tbody tr th {\n        vertical-align: top;\n    }\n\n    .dataframe thead th {\n        text-align: right;\n    }\n</style>\n<table border=\"1\" class=\"dataframe\">\n  <thead>\n    <tr style=\"text-align: right;\">\n      <th></th>\n      <th>patent_id</th>\n      <th>name_first</th>\n      <th>name_last</th>\n      <th>city</th>\n      <th>country</th>\n      <th>grant_date</th>\n      <th>grant_year</th>\n      <th>app_date</th>\n      <th>app_year</th>\n      <th>class_distinct_count</th>\n      <th>class_concat</th>\n      <th>class_IPC_distinct_count</th>\n      <th>class_IPC_concat</th>\n      <th>CountryName</th>\n      <th>CityCountry</th>\n      <th>Ecosystem</th>\n      <th>GoogleCity</th>\n    </tr>\n  </thead>\n  <tbody>\n    <tr>\n      <th>1930015</th>\n      <td>20160126822</td>\n      <td>Mark</td>\n      <td>SNOOK</td>\n      <td>NaN</td>\n      <td>GB</td>\n      <td>2016-05-05T00:00:00.000Z</td>\n      <td>2016</td>\n      <td>2014-06-17T00:00:00.000Z</td>\n      <td>2014</td>\n      <td>2.0</td>\n      <td>H03K,H02M</td>\n      <td>2.0</td>\n      <td>H02M,H03K</td>\n      <td>United Kingdom</td>\n      <td>N/AUnited Kingdom</td>\n      <td>NaN</td>\n      <td>NaN</td>\n    </tr>\n    <tr>\n      <th>1930016</th>\n      <td>20160126822</td>\n      <td>Robert</td>\n      <td>LEEDHAM</td>\n      <td>NaN</td>\n      <td>GB</td>\n      <td>2016-05-05T00:00:00.000Z</td>\n      <td>2016</td>\n      <td>2014-06-17T00:00:00.000Z</td>\n      <td>2014</td>\n      <td>2.0</td>\n      <td>H03K,H02M</td>\n      <td>2.0</td>\n      <td>H02M,H03K</td>\n      <td>United Kingdom</td>\n      <td>N/AUnited Kingdom</td>\n      <td>NaN</td>\n      <td>NaN</td>\n    </tr>\n    <tr>\n      <th>1930017</th>\n      <td>20160126822</td>\n      <td>Robin</td>\n      <td>LYLE</td>\n      <td>NaN</td>\n      <td>GB</td>\n      <td>2016-05-05T00:00:00.000Z</td>\n      <td>2016</td>\n      <td>2014-06-17T00:00:00.000Z</td>\n      <td>2014</td>\n      <td>2.0</td>\n      <td>H03K,H02M</td>\n      <td>2.0</td>\n      <td>H02M,H03K</td>\n      <td>United Kingdom</td>\n      <td>N/AUnited Kingdom</td>\n      <td>NaN</td>\n      <td>NaN</td>\n    </tr>\n    <tr>\n      <th>2753162</th>\n      <td>20130307942</td>\n      <td>Paolo</td>\n      <td>D'Amato</td>\n      <td>NaN</td>\n      <td>IT</td>\n      <td>2013-11-21T00:00:00.000Z</td>\n      <td>2013</td>\n      <td>2012-01-10T00:00:00.000Z</td>\n      <td>2012</td>\n      <td>1.0</td>\n      <td>H04N</td>\n      <td>1.0</td>\n      <td>H04N</td>\n      <td>Italy</td>\n      <td>NoneItaly</td>\n      <td>Turin</td>\n      <td>NaN</td>\n    </tr>\n    <tr>\n      <th>2753163</th>\n      <td>20130307942</td>\n      <td>Roberto</td>\n      <td>Dini</td>\n      <td>NaN</td>\n      <td>IT</td>\n      <td>2013-11-21T00:00:00.000Z</td>\n      <td>2013</td>\n      <td>2012-01-10T00:00:00.000Z</td>\n      <td>2012</td>\n      <td>1.0</td>\n      <td>H04N</td>\n      <td>1.0</td>\n      <td>H04N</td>\n      <td>Italy</td>\n      <td>NoneItaly</td>\n      <td>Turin</td>\n      <td>NaN</td>\n    </tr>\n    <tr>\n      <th>2753164</th>\n      <td>20130307942</td>\n      <td>Saverio</td>\n      <td>Celia</td>\n      <td>NaN</td>\n      <td>IT</td>\n      <td>2013-11-21T00:00:00.000Z</td>\n      <td>2013</td>\n      <td>2012-01-10T00:00:00.000Z</td>\n      <td>2012</td>\n      <td>1.0</td>\n      <td>H04N</td>\n      <td>1.0</td>\n      <td>H04N</td>\n      <td>Italy</td>\n      <td>NoneItaly</td>\n      <td>Turin</td>\n      <td>NaN</td>\n    </tr>\n    <tr>\n      <th>8525695</th>\n      <td>20140275509</td>\n      <td>Christian</td>\n      <td>Espinel</td>\n      <td>NaN</td>\n      <td>ES</td>\n      <td>2014-09-18T00:00:00.000Z</td>\n      <td>2014</td>\n      <td>2012-05-04T00:00:00.000Z</td>\n      <td>2012</td>\n      <td>1.0</td>\n      <td>A61K</td>\n      <td>1.0</td>\n      <td>A61K</td>\n      <td>Spain</td>\n      <td>n/aSpain</td>\n      <td>NaN</td>\n      <td>NaN</td>\n    </tr>\n    <tr>\n      <th>8525696</th>\n      <td>20140275509</td>\n      <td>Jesús</td>\n      <td>Fuente</td>\n      <td>NaN</td>\n      <td>ES</td>\n      <td>2014-09-18T00:00:00.000Z</td>\n      <td>2014</td>\n      <td>2012-05-04T00:00:00.000Z</td>\n      <td>2012</td>\n      <td>1.0</td>\n      <td>A61K</td>\n      <td>1.0</td>\n      <td>A61K</td>\n      <td>Spain</td>\n      <td>n/aSpain</td>\n      <td>NaN</td>\n      <td>NaN</td>\n    </tr>\n    <tr>\n      <th>8525697</th>\n      <td>20140275509</td>\n      <td>Pablo</td>\n      <td>Higuera</td>\n      <td>NaN</td>\n      <td>ES</td>\n      <td>2014-09-18T00:00:00.000Z</td>\n      <td>2014</td>\n      <td>2012-05-04T00:00:00.000Z</td>\n      <td>2012</td>\n      <td>1.0</td>\n      <td>A61K</td>\n      <td>1.0</td>\n      <td>A61K</td>\n      <td>Spain</td>\n      <td>n/aSpain</td>\n      <td>NaN</td>\n      <td>NaN</td>\n    </tr>\n  </tbody>\n</table>\n</div>"
     },
     "execution_count": 10,
     "metadata": {},
     "output_type": "execute_result"
    }
   ],
   "source": [
    "df_city_duplicated = df_city_null[df_city_null.duplicated('patent_id', keep=False)]\n",
    "df_city_duplicated"
   ],
   "metadata": {
    "collapsed": false,
    "ExecuteTime": {
     "end_time": "2023-06-25T02:36:31.244957600Z",
     "start_time": "2023-06-25T02:36:31.221958400Z"
    }
   }
  },
  {
   "cell_type": "code",
   "execution_count": 11,
   "outputs": [
    {
     "data": {
      "text/plain": "           patent_id name_first  name_last           city country  \\\n210816   20210219676     Reuven     Paikin       Windhoek     NaN   \n389191   20150271058   Hiromasa   YAMAUCHI         Usakos     NaN   \n848318   20150201396   Hiromasa   Yamauchi         Usakos     NaN   \n1224661  20140157280   Hiromasa   Yamauchi         Usakos     NaN   \n1300888  20140129811   Hiromasa   Yamauchi         Usakos     NaN   \n1306335  20140380333   Hiromasa   Yamauchi         Usakos     NaN   \n1685195  20140178206      Frank  Kernstock       Windhoek     NaN   \n1770330  20150244603   Hiromasa   YAMAUCHI         Usakos     NaN   \n2000238  20150229705   Hiromasa   Yamauchi         Usakos     NaN   \n2074256  20150137995   Hiromasa   YAMAUCHI         Usakos     NaN   \n2305126  20150131486   Hiromasa   YAMAUCHI         Usakos     NaN   \n3372940  20140149991   Hiromasa   Yamauchi         Usakos     NaN   \n3382272  20150201362   Hiromasa   Yamauchi         Usakos     NaN   \n3529833  20140237150   Hiromasa   YAMAUCHI         Usakos     NaN   \n3689809  20150172791   Hiromasa   YAMAUCHI         Usakos     NaN   \n3985548  20140122632   Hiromasa   YAMAUCHI         Usakos     NaN   \n4376193  20150012777   Hiromasa   Yamauchi         Usakos     NaN   \n4612331  20150289192   Hiromasa   YAMAUCHI         Usakos     NaN   \n4678168  20140149691   Hiromasa   Yamauchi         Usakos     NaN   \n4758527  20140310723   Hiromasa   Yamauchi         Usakos     NaN   \n5293071  20140143788   Hiromasa   Yamauchi         Usakos     NaN   \n5378011  20150153439   Hiromasa   YAMAUCHI         Usakos     NaN   \n5448189  20140241277   Hiromasa   YAMAUCHI         Usakos     NaN   \n5829483  20140089377   Hiromasa   YAMAUCHI         Usakos     NaN   \n5829867  20140108758   Hiromasa   Yamauchi         Usakos     NaN   \n5846787  20160113443    Anthony      Jager       Rehoboth     NaN   \n5846788  20160113443       Sean      Jager       Rehoboth     NaN   \n6687242  20150177361   Hiromasa   Yamauchi         Usakos     NaN   \n7033164  20190388165  Kenichiro   NAGASAKA          Tokyo     NaN   \n7052116  20210361040     Reuven     Paikin       Windhoek     NaN   \n7062445  20140143790   Hiromasa   YAMAUCHI         Usakos     NaN   \n7113064  20200131743  Cornelius   Brockman     Swakopmund     NaN   \n7752518  20140115601   Hiromasa   YAMAUCHI         Usakos     NaN   \n7760753  20150131439   Hiromasa   Yamauchi         Usakos     NaN   \n7762737  20150227400   Hiromasa   YAMAUCHI         Usakos     NaN   \n7829869  20140164468   Hiromasa   Yamauchi         Usakos     NaN   \n7838496  20150181528   Hiromasa   YAMAUCHI         Usakos     NaN   \n7845318  20160114975       Paul      Zwaan       Auckland     NaN   \n7856825  20170240895    Michael  Greenberg  NA (deceased)     NaN   \n8291433  20140123154   Hiromasa   Yamauchi         Usakos     NaN   \n8508369  20210212421     Reuven     PAIKIN       Windhoek     NaN   \n8836175  20150019837   Hiromasa   Yamauchi         Usakos     NaN   \n8982898  20140092747   Hiromasa   YAMAUCHI         Usakos     NaN   \n9060640  20140145670        Jan     Wanner        Bonaire     NaN   \n9122350  20210212422     Reuven     PAIKIN       Windhoek     NaN   \n9594776  20140095573   Hiromasa   Yamauchi         Usakos     NaN   \n9596775  20140189185   Hiromasa   Yamauchi         Usakos     NaN   \n\n                       grant_date  grant_year                  app_date  \\\n210816   2021-07-22T00:00:00.000Z        2021  2019-05-08T00:00:00.000Z   \n389191   2015-09-24T00:00:00.000Z        2015  2015-06-05T00:00:00.000Z   \n848318   2015-07-16T00:00:00.000Z        2015  2015-03-26T00:00:00.000Z   \n1224661  2014-06-05T00:00:00.000Z        2014  2014-02-07T00:00:00.000Z   \n1300888  2014-05-08T00:00:00.000Z        2014  2014-01-09T00:00:00.000Z   \n1306335  2014-12-25T00:00:00.000Z        2014  2014-09-04T00:00:00.000Z   \n1685195  2014-06-26T00:00:00.000Z        2014  2012-07-20T00:00:00.000Z   \n1770330  2015-08-27T00:00:00.000Z        2015  2015-05-08T00:00:00.000Z   \n2000238  2015-08-13T00:00:00.000Z        2015  2015-03-26T00:00:00.000Z   \n2074256  2015-05-21T00:00:00.000Z        2015  2015-01-23T00:00:00.000Z   \n2305126  2015-05-14T00:00:00.000Z        2015  2015-01-23T00:00:00.000Z   \n3372940  2014-05-29T00:00:00.000Z        2014  2014-01-31T00:00:00.000Z   \n3382272  2015-07-16T00:00:00.000Z        2015  2015-03-25T00:00:00.000Z   \n3529833  2014-08-21T00:00:00.000Z        2014  2014-04-30T00:00:00.000Z   \n3689809  2015-06-18T00:00:00.000Z        2015  2015-02-26T00:00:00.000Z   \n3985548  2014-05-01T00:00:00.000Z        2014  2014-01-06T00:00:00.000Z   \n4376193  2015-01-08T00:00:00.000Z        2015  2014-09-25T00:00:00.000Z   \n4612331  2015-10-08T00:00:00.000Z        2015  2015-06-22T00:00:00.000Z   \n4678168  2014-05-29T00:00:00.000Z        2014  2014-02-04T00:00:00.000Z   \n4758527  2014-10-16T00:00:00.000Z        2014  2014-06-26T00:00:00.000Z   \n5293071  2014-05-22T00:00:00.000Z        2014  2014-01-28T00:00:00.000Z   \n5378011  2015-06-04T00:00:00.000Z        2015  2015-02-11T00:00:00.000Z   \n5448189  2014-08-28T00:00:00.000Z        2014  2014-04-09T00:00:00.000Z   \n5829483  2014-03-27T00:00:00.000Z        2014  2013-11-26T00:00:00.000Z   \n5829867  2014-04-17T00:00:00.000Z        2014  2013-12-19T00:00:00.000Z   \n5846787  2016-04-28T00:00:00.000Z        2016  2015-12-31T00:00:00.000Z   \n5846788  2016-04-28T00:00:00.000Z        2016  2015-12-31T00:00:00.000Z   \n6687242  2015-06-25T00:00:00.000Z        2015  2015-03-03T00:00:00.000Z   \n7033164  2019-12-26T00:00:00.000Z        2019  2018-02-02T00:00:00.000Z   \n7052116  2021-11-25T00:00:00.000Z        2021  2021-05-19T00:00:00.000Z   \n7062445  2014-05-22T00:00:00.000Z        2014  2014-01-27T00:00:00.000Z   \n7113064  2020-04-30T00:00:00.000Z        2020  2019-10-31T00:00:00.000Z   \n7752518  2014-04-24T00:00:00.000Z        2014  2013-12-20T00:00:00.000Z   \n7760753  2015-05-14T00:00:00.000Z        2015  2015-01-19T00:00:00.000Z   \n7762737  2015-08-13T00:00:00.000Z        2015  2015-03-26T00:00:00.000Z   \n7829869  2014-06-12T00:00:00.000Z        2014  2013-11-26T00:00:00.000Z   \n7838496  2015-06-25T00:00:00.000Z        2015  2015-02-27T00:00:00.000Z   \n7845318  2016-04-28T00:00:00.000Z        2016  2014-04-06T00:00:00.000Z   \n7856825  2017-08-24T00:00:00.000Z        2017  2013-04-17T00:00:00.000Z   \n8291433  2014-05-01T00:00:00.000Z        2014  2014-01-06T00:00:00.000Z   \n8508369  2021-07-15T00:00:00.000Z        2021  2021-01-15T00:00:00.000Z   \n8836175  2015-01-15T00:00:00.000Z        2015  2014-09-29T00:00:00.000Z   \n8982898  2014-04-03T00:00:00.000Z        2014  2013-12-04T00:00:00.000Z   \n9060640  2014-05-29T00:00:00.000Z        2014  2013-11-27T00:00:00.000Z   \n9122350  2021-07-15T00:00:00.000Z        2021  2021-01-15T00:00:00.000Z   \n9594776  2014-04-03T00:00:00.000Z        2014  2013-12-03T00:00:00.000Z   \n9596775  2014-07-03T00:00:00.000Z        2014  2014-03-06T00:00:00.000Z   \n\n         app_year  class_distinct_count    class_concat  \\\n210816       2019                   1.0            A44C   \n389191       2015                   2.0       H04W,H04L   \n848318       2015                   1.0            H04W   \n1224661      2014                   1.0            G06F   \n1300888      2014                   1.0            G06F   \n1306335      2014                   1.0            G06F   \n1685195      2012                   1.0            F01D   \n1770330      2015                   1.0            H04L   \n2000238      2015                   2.0       H04W,H04L   \n2074256      2015                   2.0       H04Q,H04W   \n2305126      2015                   2.0       H04L,H04W   \n3372940      2014                   1.0            G06F   \n3382272      2015                   2.0       H04B,H04W   \n3529833      2014                   1.0            G06F   \n3689809      2015                   2.0       H04Q,H04W   \n3985548      2014                   1.0            H04L   \n4376193      2014                   1.0            G06F   \n4612331      2015                   1.0            H04W   \n4678168      2014                   1.0            G06F   \n4758527      2014                   1.0            G06F   \n5293071      2014                   1.0            G06F   \n5378011      2015                   3.0  H04L,H04W,G01S   \n5448189      2014                   1.0            H04W   \n5829483      2013                   1.0            H04L   \n5829867      2013                   1.0            G06F   \n5846787      2015                   1.0            A47J   \n5846788      2015                   1.0            A47J   \n6687242      2015                   2.0       G01S,H04W   \n7033164      2018                   1.0            A61B   \n7052116      2021                   1.0            A44C   \n7062445      2014                   1.0            G06F   \n7113064      2019                   1.0            E02F   \n7752518      2013                   1.0            G06F   \n7760753      2015                   1.0            H04L   \n7762737      2015                   1.0            G06F   \n7829869      2013                   1.0            H04L   \n7838496      2015                   1.0            H04W   \n7845318      2014                   2.0       B65B,B65F   \n7856825      2013                   1.0            C12N   \n8291433      2014                   1.0            G06F   \n8508369      2021                   1.0            A44C   \n8836175      2014                   1.0            G06F   \n8982898      2013                   1.0            H04L   \n9060640      2013                   2.0       B60L,H02J   \n9122350      2021                   1.0            A44C   \n9594776      2013                   1.0            H04L   \n9596775      2014                   1.0            G06F   \n\n         class_IPC_distinct_count class_IPC_concat CountryName    CityCountry  \\\n210816                        1.0             A44C         NaN       Windhoek   \n389191                        2.0        H04L,H04W         NaN         Usakos   \n848318                        1.0             H04W         NaN         Usakos   \n1224661                       1.0             G06F         NaN         Usakos   \n1300888                       1.0             G06F         NaN         Usakos   \n1306335                       1.0             G06F         NaN         Usakos   \n1685195                       1.0             F01D         NaN       Windhoek   \n1770330                       1.0             H04L         NaN         Usakos   \n2000238                       2.0        H04L,H04W         NaN         Usakos   \n2074256                       2.0        H04Q,H04W         NaN         Usakos   \n2305126                       2.0        H04L,H04W         NaN         Usakos   \n3372940                       1.0             G06F         NaN         Usakos   \n3382272                       2.0        H04B,H04W         NaN         Usakos   \n3529833                       1.0             G06F         NaN         Usakos   \n3689809                       2.0        H04Q,H04W         NaN         Usakos   \n3985548                       1.0             H04L         NaN         Usakos   \n4376193                       1.0             G06F         NaN         Usakos   \n4612331                       1.0             H04W         NaN         Usakos   \n4678168                       1.0             G06F         NaN         Usakos   \n4758527                       1.0             G06F         NaN         Usakos   \n5293071                       1.0             G06F         NaN         Usakos   \n5378011                       3.0   G01S,H04L,H04W         NaN         Usakos   \n5448189                       1.0             H04W         NaN         Usakos   \n5829483                       1.0             H04L         NaN         Usakos   \n5829867                       1.0             G06F         NaN         Usakos   \n5846787                       1.0             A47J         NaN       Rehoboth   \n5846788                       1.0             A47J         NaN       Rehoboth   \n6687242                       2.0        G01S,H04W         NaN         Usakos   \n7033164                       1.0             A61B         NaN          Tokyo   \n7052116                       1.0             A44C         NaN       Windhoek   \n7062445                       1.0             G06F         NaN         Usakos   \n7113064                       1.0             E02F         NaN     Swakopmund   \n7752518                       1.0             G06F         NaN         Usakos   \n7760753                       1.0             H04L         NaN         Usakos   \n7762737                       1.0             G06F         NaN         Usakos   \n7829869                       1.0             H04L         NaN         Usakos   \n7838496                       1.0             H04W         NaN         Usakos   \n7845318                       2.0        B65B,B65F         NaN       Auckland   \n7856825                       1.0             C12N         NaN  NA (deceased)   \n8291433                       1.0             G06F         NaN         Usakos   \n8508369                       1.0             A44C         NaN       Windhoek   \n8836175                       1.0             G06F         NaN         Usakos   \n8982898                       1.0             H04L         NaN         Usakos   \n9060640                       2.0        B60L,H02J         NaN        Bonaire   \n9122350                       1.0             A44C         NaN       Windhoek   \n9594776                       1.0             H04L         NaN         Usakos   \n9596775                       1.0             G06F         NaN         Usakos   \n\n           Ecosystem      GoogleCity  \n210816           NaN        Windhoek  \n389191           NaN             NaN  \n848318           NaN             NaN  \n1224661          NaN             NaN  \n1300888          NaN             NaN  \n1306335          NaN             NaN  \n1685195          NaN        Windhoek  \n1770330          NaN             NaN  \n2000238          NaN             NaN  \n2074256          NaN             NaN  \n2305126          NaN             NaN  \n3372940          NaN             NaN  \n3382272          NaN             NaN  \n3529833          NaN             NaN  \n3689809          NaN             NaN  \n3985548          NaN             NaN  \n4376193          NaN             NaN  \n4612331          NaN             NaN  \n4678168          NaN             NaN  \n4758527          NaN             NaN  \n5293071          NaN             NaN  \n5378011          NaN             NaN  \n5448189          NaN             NaN  \n5829483          NaN             NaN  \n5829867          NaN             NaN  \n5846787          NaN  Rehoboth Beach  \n5846788          NaN  Rehoboth Beach  \n6687242          NaN             NaN  \n7033164        Tokyo             NaN  \n7052116          NaN        Windhoek  \n7062445          NaN             NaN  \n7113064          NaN             NaN  \n7752518          NaN             NaN  \n7760753          NaN             NaN  \n7762737          NaN             NaN  \n7829869          NaN             NaN  \n7838496          NaN             NaN  \n7845318  New Zealand        Auckland  \n7856825          NaN             NaN  \n8291433          NaN             NaN  \n8508369          NaN        Windhoek  \n8836175          NaN             NaN  \n8982898          NaN             NaN  \n9060640          NaN             NaN  \n9122350          NaN        Windhoek  \n9594776          NaN             NaN  \n9596775          NaN             NaN  ",
      "text/html": "<div>\n<style scoped>\n    .dataframe tbody tr th:only-of-type {\n        vertical-align: middle;\n    }\n\n    .dataframe tbody tr th {\n        vertical-align: top;\n    }\n\n    .dataframe thead th {\n        text-align: right;\n    }\n</style>\n<table border=\"1\" class=\"dataframe\">\n  <thead>\n    <tr style=\"text-align: right;\">\n      <th></th>\n      <th>patent_id</th>\n      <th>name_first</th>\n      <th>name_last</th>\n      <th>city</th>\n      <th>country</th>\n      <th>grant_date</th>\n      <th>grant_year</th>\n      <th>app_date</th>\n      <th>app_year</th>\n      <th>class_distinct_count</th>\n      <th>class_concat</th>\n      <th>class_IPC_distinct_count</th>\n      <th>class_IPC_concat</th>\n      <th>CountryName</th>\n      <th>CityCountry</th>\n      <th>Ecosystem</th>\n      <th>GoogleCity</th>\n    </tr>\n  </thead>\n  <tbody>\n    <tr>\n      <th>210816</th>\n      <td>20210219676</td>\n      <td>Reuven</td>\n      <td>Paikin</td>\n      <td>Windhoek</td>\n      <td>NaN</td>\n      <td>2021-07-22T00:00:00.000Z</td>\n      <td>2021</td>\n      <td>2019-05-08T00:00:00.000Z</td>\n      <td>2019</td>\n      <td>1.0</td>\n      <td>A44C</td>\n      <td>1.0</td>\n      <td>A44C</td>\n      <td>NaN</td>\n      <td>Windhoek</td>\n      <td>NaN</td>\n      <td>Windhoek</td>\n    </tr>\n    <tr>\n      <th>389191</th>\n      <td>20150271058</td>\n      <td>Hiromasa</td>\n      <td>YAMAUCHI</td>\n      <td>Usakos</td>\n      <td>NaN</td>\n      <td>2015-09-24T00:00:00.000Z</td>\n      <td>2015</td>\n      <td>2015-06-05T00:00:00.000Z</td>\n      <td>2015</td>\n      <td>2.0</td>\n      <td>H04W,H04L</td>\n      <td>2.0</td>\n      <td>H04L,H04W</td>\n      <td>NaN</td>\n      <td>Usakos</td>\n      <td>NaN</td>\n      <td>NaN</td>\n    </tr>\n    <tr>\n      <th>848318</th>\n      <td>20150201396</td>\n      <td>Hiromasa</td>\n      <td>Yamauchi</td>\n      <td>Usakos</td>\n      <td>NaN</td>\n      <td>2015-07-16T00:00:00.000Z</td>\n      <td>2015</td>\n      <td>2015-03-26T00:00:00.000Z</td>\n      <td>2015</td>\n      <td>1.0</td>\n      <td>H04W</td>\n      <td>1.0</td>\n      <td>H04W</td>\n      <td>NaN</td>\n      <td>Usakos</td>\n      <td>NaN</td>\n      <td>NaN</td>\n    </tr>\n    <tr>\n      <th>1224661</th>\n      <td>20140157280</td>\n      <td>Hiromasa</td>\n      <td>Yamauchi</td>\n      <td>Usakos</td>\n      <td>NaN</td>\n      <td>2014-06-05T00:00:00.000Z</td>\n      <td>2014</td>\n      <td>2014-02-07T00:00:00.000Z</td>\n      <td>2014</td>\n      <td>1.0</td>\n      <td>G06F</td>\n      <td>1.0</td>\n      <td>G06F</td>\n      <td>NaN</td>\n      <td>Usakos</td>\n      <td>NaN</td>\n      <td>NaN</td>\n    </tr>\n    <tr>\n      <th>1300888</th>\n      <td>20140129811</td>\n      <td>Hiromasa</td>\n      <td>Yamauchi</td>\n      <td>Usakos</td>\n      <td>NaN</td>\n      <td>2014-05-08T00:00:00.000Z</td>\n      <td>2014</td>\n      <td>2014-01-09T00:00:00.000Z</td>\n      <td>2014</td>\n      <td>1.0</td>\n      <td>G06F</td>\n      <td>1.0</td>\n      <td>G06F</td>\n      <td>NaN</td>\n      <td>Usakos</td>\n      <td>NaN</td>\n      <td>NaN</td>\n    </tr>\n    <tr>\n      <th>1306335</th>\n      <td>20140380333</td>\n      <td>Hiromasa</td>\n      <td>Yamauchi</td>\n      <td>Usakos</td>\n      <td>NaN</td>\n      <td>2014-12-25T00:00:00.000Z</td>\n      <td>2014</td>\n      <td>2014-09-04T00:00:00.000Z</td>\n      <td>2014</td>\n      <td>1.0</td>\n      <td>G06F</td>\n      <td>1.0</td>\n      <td>G06F</td>\n      <td>NaN</td>\n      <td>Usakos</td>\n      <td>NaN</td>\n      <td>NaN</td>\n    </tr>\n    <tr>\n      <th>1685195</th>\n      <td>20140178206</td>\n      <td>Frank</td>\n      <td>Kernstock</td>\n      <td>Windhoek</td>\n      <td>NaN</td>\n      <td>2014-06-26T00:00:00.000Z</td>\n      <td>2014</td>\n      <td>2012-07-20T00:00:00.000Z</td>\n      <td>2012</td>\n      <td>1.0</td>\n      <td>F01D</td>\n      <td>1.0</td>\n      <td>F01D</td>\n      <td>NaN</td>\n      <td>Windhoek</td>\n      <td>NaN</td>\n      <td>Windhoek</td>\n    </tr>\n    <tr>\n      <th>1770330</th>\n      <td>20150244603</td>\n      <td>Hiromasa</td>\n      <td>YAMAUCHI</td>\n      <td>Usakos</td>\n      <td>NaN</td>\n      <td>2015-08-27T00:00:00.000Z</td>\n      <td>2015</td>\n      <td>2015-05-08T00:00:00.000Z</td>\n      <td>2015</td>\n      <td>1.0</td>\n      <td>H04L</td>\n      <td>1.0</td>\n      <td>H04L</td>\n      <td>NaN</td>\n      <td>Usakos</td>\n      <td>NaN</td>\n      <td>NaN</td>\n    </tr>\n    <tr>\n      <th>2000238</th>\n      <td>20150229705</td>\n      <td>Hiromasa</td>\n      <td>Yamauchi</td>\n      <td>Usakos</td>\n      <td>NaN</td>\n      <td>2015-08-13T00:00:00.000Z</td>\n      <td>2015</td>\n      <td>2015-03-26T00:00:00.000Z</td>\n      <td>2015</td>\n      <td>2.0</td>\n      <td>H04W,H04L</td>\n      <td>2.0</td>\n      <td>H04L,H04W</td>\n      <td>NaN</td>\n      <td>Usakos</td>\n      <td>NaN</td>\n      <td>NaN</td>\n    </tr>\n    <tr>\n      <th>2074256</th>\n      <td>20150137995</td>\n      <td>Hiromasa</td>\n      <td>YAMAUCHI</td>\n      <td>Usakos</td>\n      <td>NaN</td>\n      <td>2015-05-21T00:00:00.000Z</td>\n      <td>2015</td>\n      <td>2015-01-23T00:00:00.000Z</td>\n      <td>2015</td>\n      <td>2.0</td>\n      <td>H04Q,H04W</td>\n      <td>2.0</td>\n      <td>H04Q,H04W</td>\n      <td>NaN</td>\n      <td>Usakos</td>\n      <td>NaN</td>\n      <td>NaN</td>\n    </tr>\n    <tr>\n      <th>2305126</th>\n      <td>20150131486</td>\n      <td>Hiromasa</td>\n      <td>YAMAUCHI</td>\n      <td>Usakos</td>\n      <td>NaN</td>\n      <td>2015-05-14T00:00:00.000Z</td>\n      <td>2015</td>\n      <td>2015-01-23T00:00:00.000Z</td>\n      <td>2015</td>\n      <td>2.0</td>\n      <td>H04L,H04W</td>\n      <td>2.0</td>\n      <td>H04L,H04W</td>\n      <td>NaN</td>\n      <td>Usakos</td>\n      <td>NaN</td>\n      <td>NaN</td>\n    </tr>\n    <tr>\n      <th>3372940</th>\n      <td>20140149991</td>\n      <td>Hiromasa</td>\n      <td>Yamauchi</td>\n      <td>Usakos</td>\n      <td>NaN</td>\n      <td>2014-05-29T00:00:00.000Z</td>\n      <td>2014</td>\n      <td>2014-01-31T00:00:00.000Z</td>\n      <td>2014</td>\n      <td>1.0</td>\n      <td>G06F</td>\n      <td>1.0</td>\n      <td>G06F</td>\n      <td>NaN</td>\n      <td>Usakos</td>\n      <td>NaN</td>\n      <td>NaN</td>\n    </tr>\n    <tr>\n      <th>3382272</th>\n      <td>20150201362</td>\n      <td>Hiromasa</td>\n      <td>Yamauchi</td>\n      <td>Usakos</td>\n      <td>NaN</td>\n      <td>2015-07-16T00:00:00.000Z</td>\n      <td>2015</td>\n      <td>2015-03-25T00:00:00.000Z</td>\n      <td>2015</td>\n      <td>2.0</td>\n      <td>H04B,H04W</td>\n      <td>2.0</td>\n      <td>H04B,H04W</td>\n      <td>NaN</td>\n      <td>Usakos</td>\n      <td>NaN</td>\n      <td>NaN</td>\n    </tr>\n    <tr>\n      <th>3529833</th>\n      <td>20140237150</td>\n      <td>Hiromasa</td>\n      <td>YAMAUCHI</td>\n      <td>Usakos</td>\n      <td>NaN</td>\n      <td>2014-08-21T00:00:00.000Z</td>\n      <td>2014</td>\n      <td>2014-04-30T00:00:00.000Z</td>\n      <td>2014</td>\n      <td>1.0</td>\n      <td>G06F</td>\n      <td>1.0</td>\n      <td>G06F</td>\n      <td>NaN</td>\n      <td>Usakos</td>\n      <td>NaN</td>\n      <td>NaN</td>\n    </tr>\n    <tr>\n      <th>3689809</th>\n      <td>20150172791</td>\n      <td>Hiromasa</td>\n      <td>YAMAUCHI</td>\n      <td>Usakos</td>\n      <td>NaN</td>\n      <td>2015-06-18T00:00:00.000Z</td>\n      <td>2015</td>\n      <td>2015-02-26T00:00:00.000Z</td>\n      <td>2015</td>\n      <td>2.0</td>\n      <td>H04Q,H04W</td>\n      <td>2.0</td>\n      <td>H04Q,H04W</td>\n      <td>NaN</td>\n      <td>Usakos</td>\n      <td>NaN</td>\n      <td>NaN</td>\n    </tr>\n    <tr>\n      <th>3985548</th>\n      <td>20140122632</td>\n      <td>Hiromasa</td>\n      <td>YAMAUCHI</td>\n      <td>Usakos</td>\n      <td>NaN</td>\n      <td>2014-05-01T00:00:00.000Z</td>\n      <td>2014</td>\n      <td>2014-01-06T00:00:00.000Z</td>\n      <td>2014</td>\n      <td>1.0</td>\n      <td>H04L</td>\n      <td>1.0</td>\n      <td>H04L</td>\n      <td>NaN</td>\n      <td>Usakos</td>\n      <td>NaN</td>\n      <td>NaN</td>\n    </tr>\n    <tr>\n      <th>4376193</th>\n      <td>20150012777</td>\n      <td>Hiromasa</td>\n      <td>Yamauchi</td>\n      <td>Usakos</td>\n      <td>NaN</td>\n      <td>2015-01-08T00:00:00.000Z</td>\n      <td>2015</td>\n      <td>2014-09-25T00:00:00.000Z</td>\n      <td>2014</td>\n      <td>1.0</td>\n      <td>G06F</td>\n      <td>1.0</td>\n      <td>G06F</td>\n      <td>NaN</td>\n      <td>Usakos</td>\n      <td>NaN</td>\n      <td>NaN</td>\n    </tr>\n    <tr>\n      <th>4612331</th>\n      <td>20150289192</td>\n      <td>Hiromasa</td>\n      <td>YAMAUCHI</td>\n      <td>Usakos</td>\n      <td>NaN</td>\n      <td>2015-10-08T00:00:00.000Z</td>\n      <td>2015</td>\n      <td>2015-06-22T00:00:00.000Z</td>\n      <td>2015</td>\n      <td>1.0</td>\n      <td>H04W</td>\n      <td>1.0</td>\n      <td>H04W</td>\n      <td>NaN</td>\n      <td>Usakos</td>\n      <td>NaN</td>\n      <td>NaN</td>\n    </tr>\n    <tr>\n      <th>4678168</th>\n      <td>20140149691</td>\n      <td>Hiromasa</td>\n      <td>Yamauchi</td>\n      <td>Usakos</td>\n      <td>NaN</td>\n      <td>2014-05-29T00:00:00.000Z</td>\n      <td>2014</td>\n      <td>2014-02-04T00:00:00.000Z</td>\n      <td>2014</td>\n      <td>1.0</td>\n      <td>G06F</td>\n      <td>1.0</td>\n      <td>G06F</td>\n      <td>NaN</td>\n      <td>Usakos</td>\n      <td>NaN</td>\n      <td>NaN</td>\n    </tr>\n    <tr>\n      <th>4758527</th>\n      <td>20140310723</td>\n      <td>Hiromasa</td>\n      <td>Yamauchi</td>\n      <td>Usakos</td>\n      <td>NaN</td>\n      <td>2014-10-16T00:00:00.000Z</td>\n      <td>2014</td>\n      <td>2014-06-26T00:00:00.000Z</td>\n      <td>2014</td>\n      <td>1.0</td>\n      <td>G06F</td>\n      <td>1.0</td>\n      <td>G06F</td>\n      <td>NaN</td>\n      <td>Usakos</td>\n      <td>NaN</td>\n      <td>NaN</td>\n    </tr>\n    <tr>\n      <th>5293071</th>\n      <td>20140143788</td>\n      <td>Hiromasa</td>\n      <td>Yamauchi</td>\n      <td>Usakos</td>\n      <td>NaN</td>\n      <td>2014-05-22T00:00:00.000Z</td>\n      <td>2014</td>\n      <td>2014-01-28T00:00:00.000Z</td>\n      <td>2014</td>\n      <td>1.0</td>\n      <td>G06F</td>\n      <td>1.0</td>\n      <td>G06F</td>\n      <td>NaN</td>\n      <td>Usakos</td>\n      <td>NaN</td>\n      <td>NaN</td>\n    </tr>\n    <tr>\n      <th>5378011</th>\n      <td>20150153439</td>\n      <td>Hiromasa</td>\n      <td>YAMAUCHI</td>\n      <td>Usakos</td>\n      <td>NaN</td>\n      <td>2015-06-04T00:00:00.000Z</td>\n      <td>2015</td>\n      <td>2015-02-11T00:00:00.000Z</td>\n      <td>2015</td>\n      <td>3.0</td>\n      <td>H04L,H04W,G01S</td>\n      <td>3.0</td>\n      <td>G01S,H04L,H04W</td>\n      <td>NaN</td>\n      <td>Usakos</td>\n      <td>NaN</td>\n      <td>NaN</td>\n    </tr>\n    <tr>\n      <th>5448189</th>\n      <td>20140241277</td>\n      <td>Hiromasa</td>\n      <td>YAMAUCHI</td>\n      <td>Usakos</td>\n      <td>NaN</td>\n      <td>2014-08-28T00:00:00.000Z</td>\n      <td>2014</td>\n      <td>2014-04-09T00:00:00.000Z</td>\n      <td>2014</td>\n      <td>1.0</td>\n      <td>H04W</td>\n      <td>1.0</td>\n      <td>H04W</td>\n      <td>NaN</td>\n      <td>Usakos</td>\n      <td>NaN</td>\n      <td>NaN</td>\n    </tr>\n    <tr>\n      <th>5829483</th>\n      <td>20140089377</td>\n      <td>Hiromasa</td>\n      <td>YAMAUCHI</td>\n      <td>Usakos</td>\n      <td>NaN</td>\n      <td>2014-03-27T00:00:00.000Z</td>\n      <td>2014</td>\n      <td>2013-11-26T00:00:00.000Z</td>\n      <td>2013</td>\n      <td>1.0</td>\n      <td>H04L</td>\n      <td>1.0</td>\n      <td>H04L</td>\n      <td>NaN</td>\n      <td>Usakos</td>\n      <td>NaN</td>\n      <td>NaN</td>\n    </tr>\n    <tr>\n      <th>5829867</th>\n      <td>20140108758</td>\n      <td>Hiromasa</td>\n      <td>Yamauchi</td>\n      <td>Usakos</td>\n      <td>NaN</td>\n      <td>2014-04-17T00:00:00.000Z</td>\n      <td>2014</td>\n      <td>2013-12-19T00:00:00.000Z</td>\n      <td>2013</td>\n      <td>1.0</td>\n      <td>G06F</td>\n      <td>1.0</td>\n      <td>G06F</td>\n      <td>NaN</td>\n      <td>Usakos</td>\n      <td>NaN</td>\n      <td>NaN</td>\n    </tr>\n    <tr>\n      <th>5846787</th>\n      <td>20160113443</td>\n      <td>Anthony</td>\n      <td>Jager</td>\n      <td>Rehoboth</td>\n      <td>NaN</td>\n      <td>2016-04-28T00:00:00.000Z</td>\n      <td>2016</td>\n      <td>2015-12-31T00:00:00.000Z</td>\n      <td>2015</td>\n      <td>1.0</td>\n      <td>A47J</td>\n      <td>1.0</td>\n      <td>A47J</td>\n      <td>NaN</td>\n      <td>Rehoboth</td>\n      <td>NaN</td>\n      <td>Rehoboth Beach</td>\n    </tr>\n    <tr>\n      <th>5846788</th>\n      <td>20160113443</td>\n      <td>Sean</td>\n      <td>Jager</td>\n      <td>Rehoboth</td>\n      <td>NaN</td>\n      <td>2016-04-28T00:00:00.000Z</td>\n      <td>2016</td>\n      <td>2015-12-31T00:00:00.000Z</td>\n      <td>2015</td>\n      <td>1.0</td>\n      <td>A47J</td>\n      <td>1.0</td>\n      <td>A47J</td>\n      <td>NaN</td>\n      <td>Rehoboth</td>\n      <td>NaN</td>\n      <td>Rehoboth Beach</td>\n    </tr>\n    <tr>\n      <th>6687242</th>\n      <td>20150177361</td>\n      <td>Hiromasa</td>\n      <td>Yamauchi</td>\n      <td>Usakos</td>\n      <td>NaN</td>\n      <td>2015-06-25T00:00:00.000Z</td>\n      <td>2015</td>\n      <td>2015-03-03T00:00:00.000Z</td>\n      <td>2015</td>\n      <td>2.0</td>\n      <td>G01S,H04W</td>\n      <td>2.0</td>\n      <td>G01S,H04W</td>\n      <td>NaN</td>\n      <td>Usakos</td>\n      <td>NaN</td>\n      <td>NaN</td>\n    </tr>\n    <tr>\n      <th>7033164</th>\n      <td>20190388165</td>\n      <td>Kenichiro</td>\n      <td>NAGASAKA</td>\n      <td>Tokyo</td>\n      <td>NaN</td>\n      <td>2019-12-26T00:00:00.000Z</td>\n      <td>2019</td>\n      <td>2018-02-02T00:00:00.000Z</td>\n      <td>2018</td>\n      <td>1.0</td>\n      <td>A61B</td>\n      <td>1.0</td>\n      <td>A61B</td>\n      <td>NaN</td>\n      <td>Tokyo</td>\n      <td>Tokyo</td>\n      <td>NaN</td>\n    </tr>\n    <tr>\n      <th>7052116</th>\n      <td>20210361040</td>\n      <td>Reuven</td>\n      <td>Paikin</td>\n      <td>Windhoek</td>\n      <td>NaN</td>\n      <td>2021-11-25T00:00:00.000Z</td>\n      <td>2021</td>\n      <td>2021-05-19T00:00:00.000Z</td>\n      <td>2021</td>\n      <td>1.0</td>\n      <td>A44C</td>\n      <td>1.0</td>\n      <td>A44C</td>\n      <td>NaN</td>\n      <td>Windhoek</td>\n      <td>NaN</td>\n      <td>Windhoek</td>\n    </tr>\n    <tr>\n      <th>7062445</th>\n      <td>20140143790</td>\n      <td>Hiromasa</td>\n      <td>YAMAUCHI</td>\n      <td>Usakos</td>\n      <td>NaN</td>\n      <td>2014-05-22T00:00:00.000Z</td>\n      <td>2014</td>\n      <td>2014-01-27T00:00:00.000Z</td>\n      <td>2014</td>\n      <td>1.0</td>\n      <td>G06F</td>\n      <td>1.0</td>\n      <td>G06F</td>\n      <td>NaN</td>\n      <td>Usakos</td>\n      <td>NaN</td>\n      <td>NaN</td>\n    </tr>\n    <tr>\n      <th>7113064</th>\n      <td>20200131743</td>\n      <td>Cornelius</td>\n      <td>Brockman</td>\n      <td>Swakopmund</td>\n      <td>NaN</td>\n      <td>2020-04-30T00:00:00.000Z</td>\n      <td>2020</td>\n      <td>2019-10-31T00:00:00.000Z</td>\n      <td>2019</td>\n      <td>1.0</td>\n      <td>E02F</td>\n      <td>1.0</td>\n      <td>E02F</td>\n      <td>NaN</td>\n      <td>Swakopmund</td>\n      <td>NaN</td>\n      <td>NaN</td>\n    </tr>\n    <tr>\n      <th>7752518</th>\n      <td>20140115601</td>\n      <td>Hiromasa</td>\n      <td>YAMAUCHI</td>\n      <td>Usakos</td>\n      <td>NaN</td>\n      <td>2014-04-24T00:00:00.000Z</td>\n      <td>2014</td>\n      <td>2013-12-20T00:00:00.000Z</td>\n      <td>2013</td>\n      <td>1.0</td>\n      <td>G06F</td>\n      <td>1.0</td>\n      <td>G06F</td>\n      <td>NaN</td>\n      <td>Usakos</td>\n      <td>NaN</td>\n      <td>NaN</td>\n    </tr>\n    <tr>\n      <th>7760753</th>\n      <td>20150131439</td>\n      <td>Hiromasa</td>\n      <td>Yamauchi</td>\n      <td>Usakos</td>\n      <td>NaN</td>\n      <td>2015-05-14T00:00:00.000Z</td>\n      <td>2015</td>\n      <td>2015-01-19T00:00:00.000Z</td>\n      <td>2015</td>\n      <td>1.0</td>\n      <td>H04L</td>\n      <td>1.0</td>\n      <td>H04L</td>\n      <td>NaN</td>\n      <td>Usakos</td>\n      <td>NaN</td>\n      <td>NaN</td>\n    </tr>\n    <tr>\n      <th>7762737</th>\n      <td>20150227400</td>\n      <td>Hiromasa</td>\n      <td>YAMAUCHI</td>\n      <td>Usakos</td>\n      <td>NaN</td>\n      <td>2015-08-13T00:00:00.000Z</td>\n      <td>2015</td>\n      <td>2015-03-26T00:00:00.000Z</td>\n      <td>2015</td>\n      <td>1.0</td>\n      <td>G06F</td>\n      <td>1.0</td>\n      <td>G06F</td>\n      <td>NaN</td>\n      <td>Usakos</td>\n      <td>NaN</td>\n      <td>NaN</td>\n    </tr>\n    <tr>\n      <th>7829869</th>\n      <td>20140164468</td>\n      <td>Hiromasa</td>\n      <td>Yamauchi</td>\n      <td>Usakos</td>\n      <td>NaN</td>\n      <td>2014-06-12T00:00:00.000Z</td>\n      <td>2014</td>\n      <td>2013-11-26T00:00:00.000Z</td>\n      <td>2013</td>\n      <td>1.0</td>\n      <td>H04L</td>\n      <td>1.0</td>\n      <td>H04L</td>\n      <td>NaN</td>\n      <td>Usakos</td>\n      <td>NaN</td>\n      <td>NaN</td>\n    </tr>\n    <tr>\n      <th>7838496</th>\n      <td>20150181528</td>\n      <td>Hiromasa</td>\n      <td>YAMAUCHI</td>\n      <td>Usakos</td>\n      <td>NaN</td>\n      <td>2015-06-25T00:00:00.000Z</td>\n      <td>2015</td>\n      <td>2015-02-27T00:00:00.000Z</td>\n      <td>2015</td>\n      <td>1.0</td>\n      <td>H04W</td>\n      <td>1.0</td>\n      <td>H04W</td>\n      <td>NaN</td>\n      <td>Usakos</td>\n      <td>NaN</td>\n      <td>NaN</td>\n    </tr>\n    <tr>\n      <th>7845318</th>\n      <td>20160114975</td>\n      <td>Paul</td>\n      <td>Zwaan</td>\n      <td>Auckland</td>\n      <td>NaN</td>\n      <td>2016-04-28T00:00:00.000Z</td>\n      <td>2016</td>\n      <td>2014-04-06T00:00:00.000Z</td>\n      <td>2014</td>\n      <td>2.0</td>\n      <td>B65B,B65F</td>\n      <td>2.0</td>\n      <td>B65B,B65F</td>\n      <td>NaN</td>\n      <td>Auckland</td>\n      <td>New Zealand</td>\n      <td>Auckland</td>\n    </tr>\n    <tr>\n      <th>7856825</th>\n      <td>20170240895</td>\n      <td>Michael</td>\n      <td>Greenberg</td>\n      <td>NA (deceased)</td>\n      <td>NaN</td>\n      <td>2017-08-24T00:00:00.000Z</td>\n      <td>2017</td>\n      <td>2013-04-17T00:00:00.000Z</td>\n      <td>2013</td>\n      <td>1.0</td>\n      <td>C12N</td>\n      <td>1.0</td>\n      <td>C12N</td>\n      <td>NaN</td>\n      <td>NA (deceased)</td>\n      <td>NaN</td>\n      <td>NaN</td>\n    </tr>\n    <tr>\n      <th>8291433</th>\n      <td>20140123154</td>\n      <td>Hiromasa</td>\n      <td>Yamauchi</td>\n      <td>Usakos</td>\n      <td>NaN</td>\n      <td>2014-05-01T00:00:00.000Z</td>\n      <td>2014</td>\n      <td>2014-01-06T00:00:00.000Z</td>\n      <td>2014</td>\n      <td>1.0</td>\n      <td>G06F</td>\n      <td>1.0</td>\n      <td>G06F</td>\n      <td>NaN</td>\n      <td>Usakos</td>\n      <td>NaN</td>\n      <td>NaN</td>\n    </tr>\n    <tr>\n      <th>8508369</th>\n      <td>20210212421</td>\n      <td>Reuven</td>\n      <td>PAIKIN</td>\n      <td>Windhoek</td>\n      <td>NaN</td>\n      <td>2021-07-15T00:00:00.000Z</td>\n      <td>2021</td>\n      <td>2021-01-15T00:00:00.000Z</td>\n      <td>2021</td>\n      <td>1.0</td>\n      <td>A44C</td>\n      <td>1.0</td>\n      <td>A44C</td>\n      <td>NaN</td>\n      <td>Windhoek</td>\n      <td>NaN</td>\n      <td>Windhoek</td>\n    </tr>\n    <tr>\n      <th>8836175</th>\n      <td>20150019837</td>\n      <td>Hiromasa</td>\n      <td>Yamauchi</td>\n      <td>Usakos</td>\n      <td>NaN</td>\n      <td>2015-01-15T00:00:00.000Z</td>\n      <td>2015</td>\n      <td>2014-09-29T00:00:00.000Z</td>\n      <td>2014</td>\n      <td>1.0</td>\n      <td>G06F</td>\n      <td>1.0</td>\n      <td>G06F</td>\n      <td>NaN</td>\n      <td>Usakos</td>\n      <td>NaN</td>\n      <td>NaN</td>\n    </tr>\n    <tr>\n      <th>8982898</th>\n      <td>20140092747</td>\n      <td>Hiromasa</td>\n      <td>YAMAUCHI</td>\n      <td>Usakos</td>\n      <td>NaN</td>\n      <td>2014-04-03T00:00:00.000Z</td>\n      <td>2014</td>\n      <td>2013-12-04T00:00:00.000Z</td>\n      <td>2013</td>\n      <td>1.0</td>\n      <td>H04L</td>\n      <td>1.0</td>\n      <td>H04L</td>\n      <td>NaN</td>\n      <td>Usakos</td>\n      <td>NaN</td>\n      <td>NaN</td>\n    </tr>\n    <tr>\n      <th>9060640</th>\n      <td>20140145670</td>\n      <td>Jan</td>\n      <td>Wanner</td>\n      <td>Bonaire</td>\n      <td>NaN</td>\n      <td>2014-05-29T00:00:00.000Z</td>\n      <td>2014</td>\n      <td>2013-11-27T00:00:00.000Z</td>\n      <td>2013</td>\n      <td>2.0</td>\n      <td>B60L,H02J</td>\n      <td>2.0</td>\n      <td>B60L,H02J</td>\n      <td>NaN</td>\n      <td>Bonaire</td>\n      <td>NaN</td>\n      <td>NaN</td>\n    </tr>\n    <tr>\n      <th>9122350</th>\n      <td>20210212422</td>\n      <td>Reuven</td>\n      <td>PAIKIN</td>\n      <td>Windhoek</td>\n      <td>NaN</td>\n      <td>2021-07-15T00:00:00.000Z</td>\n      <td>2021</td>\n      <td>2021-01-15T00:00:00.000Z</td>\n      <td>2021</td>\n      <td>1.0</td>\n      <td>A44C</td>\n      <td>1.0</td>\n      <td>A44C</td>\n      <td>NaN</td>\n      <td>Windhoek</td>\n      <td>NaN</td>\n      <td>Windhoek</td>\n    </tr>\n    <tr>\n      <th>9594776</th>\n      <td>20140095573</td>\n      <td>Hiromasa</td>\n      <td>Yamauchi</td>\n      <td>Usakos</td>\n      <td>NaN</td>\n      <td>2014-04-03T00:00:00.000Z</td>\n      <td>2014</td>\n      <td>2013-12-03T00:00:00.000Z</td>\n      <td>2013</td>\n      <td>1.0</td>\n      <td>H04L</td>\n      <td>1.0</td>\n      <td>H04L</td>\n      <td>NaN</td>\n      <td>Usakos</td>\n      <td>NaN</td>\n      <td>NaN</td>\n    </tr>\n    <tr>\n      <th>9596775</th>\n      <td>20140189185</td>\n      <td>Hiromasa</td>\n      <td>Yamauchi</td>\n      <td>Usakos</td>\n      <td>NaN</td>\n      <td>2014-07-03T00:00:00.000Z</td>\n      <td>2014</td>\n      <td>2014-03-06T00:00:00.000Z</td>\n      <td>2014</td>\n      <td>1.0</td>\n      <td>G06F</td>\n      <td>1.0</td>\n      <td>G06F</td>\n      <td>NaN</td>\n      <td>Usakos</td>\n      <td>NaN</td>\n      <td>NaN</td>\n    </tr>\n  </tbody>\n</table>\n</div>"
     },
     "execution_count": 11,
     "metadata": {},
     "output_type": "execute_result"
    }
   ],
   "source": [
    "df_country_null = df_raw_patents[df_raw_patents['country'].isnull()]\n",
    "df_country_null"
   ],
   "metadata": {
    "collapsed": false,
    "ExecuteTime": {
     "end_time": "2023-06-25T02:36:31.424958900Z",
     "start_time": "2023-06-25T02:36:31.234958Z"
    }
   }
  },
  {
   "cell_type": "code",
   "execution_count": 12,
   "outputs": [
    {
     "data": {
      "text/plain": "        geonameid                 name            asciiname  \\\n0         3039154            El Tarter            El Tarter   \n1         3039163  Sant Julià de Lòria  Sant Julia de Loria   \n2         3039604       Pas de la Casa       Pas de la Casa   \n3         3039678               Ordino               Ordino   \n4         3040051         les Escaldes         les Escaldes   \n...           ...                  ...                  ...   \n199663     895269           Beitbridge           Beitbridge   \n199664     895308             Beatrice             Beatrice   \n199665     895417               Banket               Banket   \n199666    1085510              Epworth              Epworth   \n199667    1106542          Chitungwiza          Chitungwiza   \n\n                                           alternatenames  latitude  \\\n0                                    Ehl Tarter,Эл Тартер  42.57952   \n1       San Julia,San Julià,Sant Julia de Loria,Sant J...  42.46372   \n2                           Pas de la Kasa,Пас де ла Каса  42.54277   \n3       Ordino,ao er di nuo,orudino jiao qu,Ордино,オルデ...  42.55623   \n4       Ehskal'des-Ehndzhordani,Escaldes,Escaldes-Engo...  42.50729   \n...                                                   ...       ...   \n199663  Bajtbridz,Bajtbridzh,Beitbridge,Beitbridzas,Be... -22.21667   \n199664                                           Beatrice -18.25283   \n199665                             Banket,Banket Junction -17.38333   \n199666                                            Epworth -17.89000   \n199667  Chitungviza,Chitungwiza,Chytungviza,Citungviza... -18.01274   \n\n        longitude feature class feature code country code  cc2 admin1 code  \\\n0         1.65362             P          PPL           AD  NaN          02   \n1         1.49129             P         PPLA           AD  NaN          06   \n2         1.73361             P          PPL           AD  NaN          03   \n3         1.53319             P         PPLA           AD  NaN          05   \n4         1.53414             P         PPLA           AD  NaN          08   \n...           ...           ...          ...          ...  ...         ...   \n199663   30.00000             P          PPL           ZW  NaN          07   \n199664   30.84730             P          PPL           ZW  NaN          04   \n199665   30.40000             P          PPL           ZW  NaN          05   \n199666   31.14750             P         PPLX           ZW  NaN          10   \n199667   31.07555             P          PPL           ZW  NaN          10   \n\n       admin2 code admin3 code admin4 code population  elevation   dem  \\\n0              NaN         NaN         NaN       1052        NaN  1721   \n1              NaN         NaN         NaN       8022        NaN   921   \n2              NaN         NaN         NaN       2363     2050.0  2106   \n3              NaN         NaN         NaN       3066        NaN  1296   \n4              NaN         NaN         NaN      15853        NaN  1033   \n...            ...         ...         ...        ...        ...   ...   \n199663         NaN         NaN         NaN      58100        NaN   461   \n199664         NaN         NaN         NaN       1647        NaN  1307   \n199665         NaN         NaN         NaN       9641        NaN  1277   \n199666         NaN         NaN         NaN     123250        NaN  1508   \n199667         NaN         NaN         NaN     371244        NaN  1435   \n\n              timezone modification date  \n0       Europe/Andorra        2012-11-03  \n1       Europe/Andorra        2013-11-23  \n2       Europe/Andorra        2008-06-09  \n3       Europe/Andorra        2018-10-26  \n4       Europe/Andorra        2008-10-15  \n...                ...               ...  \n199663   Africa/Harare        2022-10-07  \n199664   Africa/Harare        2018-05-09  \n199665   Africa/Harare        2013-03-12  \n199666   Africa/Harare        2012-01-19  \n199667   Africa/Harare        2022-10-05  \n\n[199668 rows x 19 columns]",
      "text/html": "<div>\n<style scoped>\n    .dataframe tbody tr th:only-of-type {\n        vertical-align: middle;\n    }\n\n    .dataframe tbody tr th {\n        vertical-align: top;\n    }\n\n    .dataframe thead th {\n        text-align: right;\n    }\n</style>\n<table border=\"1\" class=\"dataframe\">\n  <thead>\n    <tr style=\"text-align: right;\">\n      <th></th>\n      <th>geonameid</th>\n      <th>name</th>\n      <th>asciiname</th>\n      <th>alternatenames</th>\n      <th>latitude</th>\n      <th>longitude</th>\n      <th>feature class</th>\n      <th>feature code</th>\n      <th>country code</th>\n      <th>cc2</th>\n      <th>admin1 code</th>\n      <th>admin2 code</th>\n      <th>admin3 code</th>\n      <th>admin4 code</th>\n      <th>population</th>\n      <th>elevation</th>\n      <th>dem</th>\n      <th>timezone</th>\n      <th>modification date</th>\n    </tr>\n  </thead>\n  <tbody>\n    <tr>\n      <th>0</th>\n      <td>3039154</td>\n      <td>El Tarter</td>\n      <td>El Tarter</td>\n      <td>Ehl Tarter,Эл Тартер</td>\n      <td>42.57952</td>\n      <td>1.65362</td>\n      <td>P</td>\n      <td>PPL</td>\n      <td>AD</td>\n      <td>NaN</td>\n      <td>02</td>\n      <td>NaN</td>\n      <td>NaN</td>\n      <td>NaN</td>\n      <td>1052</td>\n      <td>NaN</td>\n      <td>1721</td>\n      <td>Europe/Andorra</td>\n      <td>2012-11-03</td>\n    </tr>\n    <tr>\n      <th>1</th>\n      <td>3039163</td>\n      <td>Sant Julià de Lòria</td>\n      <td>Sant Julia de Loria</td>\n      <td>San Julia,San Julià,Sant Julia de Loria,Sant J...</td>\n      <td>42.46372</td>\n      <td>1.49129</td>\n      <td>P</td>\n      <td>PPLA</td>\n      <td>AD</td>\n      <td>NaN</td>\n      <td>06</td>\n      <td>NaN</td>\n      <td>NaN</td>\n      <td>NaN</td>\n      <td>8022</td>\n      <td>NaN</td>\n      <td>921</td>\n      <td>Europe/Andorra</td>\n      <td>2013-11-23</td>\n    </tr>\n    <tr>\n      <th>2</th>\n      <td>3039604</td>\n      <td>Pas de la Casa</td>\n      <td>Pas de la Casa</td>\n      <td>Pas de la Kasa,Пас де ла Каса</td>\n      <td>42.54277</td>\n      <td>1.73361</td>\n      <td>P</td>\n      <td>PPL</td>\n      <td>AD</td>\n      <td>NaN</td>\n      <td>03</td>\n      <td>NaN</td>\n      <td>NaN</td>\n      <td>NaN</td>\n      <td>2363</td>\n      <td>2050.0</td>\n      <td>2106</td>\n      <td>Europe/Andorra</td>\n      <td>2008-06-09</td>\n    </tr>\n    <tr>\n      <th>3</th>\n      <td>3039678</td>\n      <td>Ordino</td>\n      <td>Ordino</td>\n      <td>Ordino,ao er di nuo,orudino jiao qu,Ордино,オルデ...</td>\n      <td>42.55623</td>\n      <td>1.53319</td>\n      <td>P</td>\n      <td>PPLA</td>\n      <td>AD</td>\n      <td>NaN</td>\n      <td>05</td>\n      <td>NaN</td>\n      <td>NaN</td>\n      <td>NaN</td>\n      <td>3066</td>\n      <td>NaN</td>\n      <td>1296</td>\n      <td>Europe/Andorra</td>\n      <td>2018-10-26</td>\n    </tr>\n    <tr>\n      <th>4</th>\n      <td>3040051</td>\n      <td>les Escaldes</td>\n      <td>les Escaldes</td>\n      <td>Ehskal'des-Ehndzhordani,Escaldes,Escaldes-Engo...</td>\n      <td>42.50729</td>\n      <td>1.53414</td>\n      <td>P</td>\n      <td>PPLA</td>\n      <td>AD</td>\n      <td>NaN</td>\n      <td>08</td>\n      <td>NaN</td>\n      <td>NaN</td>\n      <td>NaN</td>\n      <td>15853</td>\n      <td>NaN</td>\n      <td>1033</td>\n      <td>Europe/Andorra</td>\n      <td>2008-10-15</td>\n    </tr>\n    <tr>\n      <th>...</th>\n      <td>...</td>\n      <td>...</td>\n      <td>...</td>\n      <td>...</td>\n      <td>...</td>\n      <td>...</td>\n      <td>...</td>\n      <td>...</td>\n      <td>...</td>\n      <td>...</td>\n      <td>...</td>\n      <td>...</td>\n      <td>...</td>\n      <td>...</td>\n      <td>...</td>\n      <td>...</td>\n      <td>...</td>\n      <td>...</td>\n      <td>...</td>\n    </tr>\n    <tr>\n      <th>199663</th>\n      <td>895269</td>\n      <td>Beitbridge</td>\n      <td>Beitbridge</td>\n      <td>Bajtbridz,Bajtbridzh,Beitbridge,Beitbridzas,Be...</td>\n      <td>-22.21667</td>\n      <td>30.00000</td>\n      <td>P</td>\n      <td>PPL</td>\n      <td>ZW</td>\n      <td>NaN</td>\n      <td>07</td>\n      <td>NaN</td>\n      <td>NaN</td>\n      <td>NaN</td>\n      <td>58100</td>\n      <td>NaN</td>\n      <td>461</td>\n      <td>Africa/Harare</td>\n      <td>2022-10-07</td>\n    </tr>\n    <tr>\n      <th>199664</th>\n      <td>895308</td>\n      <td>Beatrice</td>\n      <td>Beatrice</td>\n      <td>Beatrice</td>\n      <td>-18.25283</td>\n      <td>30.84730</td>\n      <td>P</td>\n      <td>PPL</td>\n      <td>ZW</td>\n      <td>NaN</td>\n      <td>04</td>\n      <td>NaN</td>\n      <td>NaN</td>\n      <td>NaN</td>\n      <td>1647</td>\n      <td>NaN</td>\n      <td>1307</td>\n      <td>Africa/Harare</td>\n      <td>2018-05-09</td>\n    </tr>\n    <tr>\n      <th>199665</th>\n      <td>895417</td>\n      <td>Banket</td>\n      <td>Banket</td>\n      <td>Banket,Banket Junction</td>\n      <td>-17.38333</td>\n      <td>30.40000</td>\n      <td>P</td>\n      <td>PPL</td>\n      <td>ZW</td>\n      <td>NaN</td>\n      <td>05</td>\n      <td>NaN</td>\n      <td>NaN</td>\n      <td>NaN</td>\n      <td>9641</td>\n      <td>NaN</td>\n      <td>1277</td>\n      <td>Africa/Harare</td>\n      <td>2013-03-12</td>\n    </tr>\n    <tr>\n      <th>199666</th>\n      <td>1085510</td>\n      <td>Epworth</td>\n      <td>Epworth</td>\n      <td>Epworth</td>\n      <td>-17.89000</td>\n      <td>31.14750</td>\n      <td>P</td>\n      <td>PPLX</td>\n      <td>ZW</td>\n      <td>NaN</td>\n      <td>10</td>\n      <td>NaN</td>\n      <td>NaN</td>\n      <td>NaN</td>\n      <td>123250</td>\n      <td>NaN</td>\n      <td>1508</td>\n      <td>Africa/Harare</td>\n      <td>2012-01-19</td>\n    </tr>\n    <tr>\n      <th>199667</th>\n      <td>1106542</td>\n      <td>Chitungwiza</td>\n      <td>Chitungwiza</td>\n      <td>Chitungviza,Chitungwiza,Chytungviza,Citungviza...</td>\n      <td>-18.01274</td>\n      <td>31.07555</td>\n      <td>P</td>\n      <td>PPL</td>\n      <td>ZW</td>\n      <td>NaN</td>\n      <td>10</td>\n      <td>NaN</td>\n      <td>NaN</td>\n      <td>NaN</td>\n      <td>371244</td>\n      <td>NaN</td>\n      <td>1435</td>\n      <td>Africa/Harare</td>\n      <td>2022-10-05</td>\n    </tr>\n  </tbody>\n</table>\n<p>199668 rows × 19 columns</p>\n</div>"
     },
     "execution_count": 12,
     "metadata": {},
     "output_type": "execute_result"
    }
   ],
   "source": [
    "df_cities_500 = pd.read_csv(paths.processed_cities_500, encoding='utf-8', dtype={13: str, 14: str})\n",
    "df_cities_500"
   ],
   "metadata": {
    "collapsed": false,
    "ExecuteTime": {
     "end_time": "2023-06-25T02:36:31.755585900Z",
     "start_time": "2023-06-25T02:36:31.425957900Z"
    }
   }
  },
  {
   "cell_type": "code",
   "execution_count": 13,
   "outputs": [
    {
     "data": {
      "text/plain": "            patent_id name_first   name_last           city country  \\\n0         20140380145      Rajiv     Puranik  San Francisco      US   \n1         20140380145     Thomas     Wilsher  San Francisco      US   \n2         20150004825     Pinida  Moosintong  San Francisco      US   \n3         20150010953     Daniel        Ryan  San Francisco      US   \n4         20150010953    Jeffrey     Sampson  San Francisco      US   \n...               ...        ...         ...            ...     ...   \n19315509  20140259776    OSWALDO      YLLICH     Miraflores      PE   \n19315510  20140259776    OSWALDO      YLLICH     Miraflores      PE   \n19315511  20140259776    OSWALDO      YLLICH     Miraflores      PE   \n19315512  20140259776    OSWALDO      YLLICH     Miraflores      PE   \n19315513  20140373007     Holger     Mueller        Nomborn      DE   \n\n                        grant_date  grant_year                  app_date  \\\n0         2014-12-25T00:00:00.000Z        2014  2014-05-08T00:00:00.000Z   \n1         2014-12-25T00:00:00.000Z        2014  2014-05-08T00:00:00.000Z   \n2         2015-01-01T00:00:00.000Z        2015  2014-04-25T00:00:00.000Z   \n3         2015-01-08T00:00:00.000Z        2015  2013-07-03T00:00:00.000Z   \n4         2015-01-08T00:00:00.000Z        2015  2013-07-03T00:00:00.000Z   \n...                            ...         ...                       ...   \n19315509  2014-09-18T00:00:00.000Z        2014  2013-03-14T00:00:00.000Z   \n19315510  2014-09-18T00:00:00.000Z        2014  2013-03-14T00:00:00.000Z   \n19315511  2014-09-18T00:00:00.000Z        2014  2013-03-14T00:00:00.000Z   \n19315512  2014-09-18T00:00:00.000Z        2014  2013-03-14T00:00:00.000Z   \n19315513  2014-12-18T00:00:00.000Z        2014  2013-06-13T00:00:00.000Z   \n\n          app_year  class_distinct_count  ... class_IPC_distinct_count  \\\n0             2014                   1.0  ...                      1.0   \n1             2014                   1.0  ...                      1.0   \n2             2014                   2.0  ...                      2.0   \n3             2013                   2.0  ...                      2.0   \n4             2013                   2.0  ...                      2.0   \n...            ...                   ...  ...                      ...   \n19315509      2013                   1.0  ...                      1.0   \n19315510      2013                   1.0  ...                      1.0   \n19315511      2013                   1.0  ...                      1.0   \n19315512      2013                   1.0  ...                      1.0   \n19315513      2013                   1.0  ...                      1.0   \n\n          class_IPC_concat    CountryName                 CityCountry  \\\n0                     G06F  United States  San FranciscoUnited States   \n1                     G06F  United States  San FranciscoUnited States   \n2                H01R,H05K  United States  San FranciscoUnited States   \n3                C12N,C12P  United States  San FranciscoUnited States   \n4                C12N,C12P  United States  San FranciscoUnited States   \n...                    ...            ...                         ...   \n19315509              A43B           Peru              MirafloresPeru   \n19315510              A43B           Peru              MirafloresPeru   \n19315511              A43B           Peru              MirafloresPeru   \n19315512              A43B           Peru              MirafloresPeru   \n19315513              G06F        Germany              NombornGermany   \n\n               Ecosystem     GoogleCity           name country code  latitude  \\\n0         Silicon Valley  San Francisco  San Francisco           US  37.77493   \n1         Silicon Valley  San Francisco  San Francisco           US  37.77493   \n2         Silicon Valley  San Francisco  San Francisco           US  37.77493   \n3         Silicon Valley  San Francisco  San Francisco           US  37.77493   \n4         Silicon Valley  San Francisco  San Francisco           US  37.77493   \n...                  ...            ...            ...          ...       ...   \n19315509            Lima     Miraflores     Miraflores           PE  -5.16520   \n19315510            Lima     Miraflores     Miraflores           PE  -4.84198   \n19315511            Lima     Miraflores     Miraflores           PE -12.27417   \n19315512            Lima     Miraflores     Miraflores           PE  -5.90951   \n19315513             NaN            NaN        Nomborn           DE  50.43333   \n\n          longitude  \n0        -122.41942  \n1        -122.41942  \n2        -122.41942  \n3        -122.41942  \n4        -122.41942  \n...             ...  \n19315509  -80.61384  \n19315510  -80.68936  \n19315511  -75.85024  \n19315512  -77.36901  \n19315513    7.91667  \n\n[19315514 rows x 21 columns]",
      "text/html": "<div>\n<style scoped>\n    .dataframe tbody tr th:only-of-type {\n        vertical-align: middle;\n    }\n\n    .dataframe tbody tr th {\n        vertical-align: top;\n    }\n\n    .dataframe thead th {\n        text-align: right;\n    }\n</style>\n<table border=\"1\" class=\"dataframe\">\n  <thead>\n    <tr style=\"text-align: right;\">\n      <th></th>\n      <th>patent_id</th>\n      <th>name_first</th>\n      <th>name_last</th>\n      <th>city</th>\n      <th>country</th>\n      <th>grant_date</th>\n      <th>grant_year</th>\n      <th>app_date</th>\n      <th>app_year</th>\n      <th>class_distinct_count</th>\n      <th>...</th>\n      <th>class_IPC_distinct_count</th>\n      <th>class_IPC_concat</th>\n      <th>CountryName</th>\n      <th>CityCountry</th>\n      <th>Ecosystem</th>\n      <th>GoogleCity</th>\n      <th>name</th>\n      <th>country code</th>\n      <th>latitude</th>\n      <th>longitude</th>\n    </tr>\n  </thead>\n  <tbody>\n    <tr>\n      <th>0</th>\n      <td>20140380145</td>\n      <td>Rajiv</td>\n      <td>Puranik</td>\n      <td>San Francisco</td>\n      <td>US</td>\n      <td>2014-12-25T00:00:00.000Z</td>\n      <td>2014</td>\n      <td>2014-05-08T00:00:00.000Z</td>\n      <td>2014</td>\n      <td>1.0</td>\n      <td>...</td>\n      <td>1.0</td>\n      <td>G06F</td>\n      <td>United States</td>\n      <td>San FranciscoUnited States</td>\n      <td>Silicon Valley</td>\n      <td>San Francisco</td>\n      <td>San Francisco</td>\n      <td>US</td>\n      <td>37.77493</td>\n      <td>-122.41942</td>\n    </tr>\n    <tr>\n      <th>1</th>\n      <td>20140380145</td>\n      <td>Thomas</td>\n      <td>Wilsher</td>\n      <td>San Francisco</td>\n      <td>US</td>\n      <td>2014-12-25T00:00:00.000Z</td>\n      <td>2014</td>\n      <td>2014-05-08T00:00:00.000Z</td>\n      <td>2014</td>\n      <td>1.0</td>\n      <td>...</td>\n      <td>1.0</td>\n      <td>G06F</td>\n      <td>United States</td>\n      <td>San FranciscoUnited States</td>\n      <td>Silicon Valley</td>\n      <td>San Francisco</td>\n      <td>San Francisco</td>\n      <td>US</td>\n      <td>37.77493</td>\n      <td>-122.41942</td>\n    </tr>\n    <tr>\n      <th>2</th>\n      <td>20150004825</td>\n      <td>Pinida</td>\n      <td>Moosintong</td>\n      <td>San Francisco</td>\n      <td>US</td>\n      <td>2015-01-01T00:00:00.000Z</td>\n      <td>2015</td>\n      <td>2014-04-25T00:00:00.000Z</td>\n      <td>2014</td>\n      <td>2.0</td>\n      <td>...</td>\n      <td>2.0</td>\n      <td>H01R,H05K</td>\n      <td>United States</td>\n      <td>San FranciscoUnited States</td>\n      <td>Silicon Valley</td>\n      <td>San Francisco</td>\n      <td>San Francisco</td>\n      <td>US</td>\n      <td>37.77493</td>\n      <td>-122.41942</td>\n    </tr>\n    <tr>\n      <th>3</th>\n      <td>20150010953</td>\n      <td>Daniel</td>\n      <td>Ryan</td>\n      <td>San Francisco</td>\n      <td>US</td>\n      <td>2015-01-08T00:00:00.000Z</td>\n      <td>2015</td>\n      <td>2013-07-03T00:00:00.000Z</td>\n      <td>2013</td>\n      <td>2.0</td>\n      <td>...</td>\n      <td>2.0</td>\n      <td>C12N,C12P</td>\n      <td>United States</td>\n      <td>San FranciscoUnited States</td>\n      <td>Silicon Valley</td>\n      <td>San Francisco</td>\n      <td>San Francisco</td>\n      <td>US</td>\n      <td>37.77493</td>\n      <td>-122.41942</td>\n    </tr>\n    <tr>\n      <th>4</th>\n      <td>20150010953</td>\n      <td>Jeffrey</td>\n      <td>Sampson</td>\n      <td>San Francisco</td>\n      <td>US</td>\n      <td>2015-01-08T00:00:00.000Z</td>\n      <td>2015</td>\n      <td>2013-07-03T00:00:00.000Z</td>\n      <td>2013</td>\n      <td>2.0</td>\n      <td>...</td>\n      <td>2.0</td>\n      <td>C12N,C12P</td>\n      <td>United States</td>\n      <td>San FranciscoUnited States</td>\n      <td>Silicon Valley</td>\n      <td>San Francisco</td>\n      <td>San Francisco</td>\n      <td>US</td>\n      <td>37.77493</td>\n      <td>-122.41942</td>\n    </tr>\n    <tr>\n      <th>...</th>\n      <td>...</td>\n      <td>...</td>\n      <td>...</td>\n      <td>...</td>\n      <td>...</td>\n      <td>...</td>\n      <td>...</td>\n      <td>...</td>\n      <td>...</td>\n      <td>...</td>\n      <td>...</td>\n      <td>...</td>\n      <td>...</td>\n      <td>...</td>\n      <td>...</td>\n      <td>...</td>\n      <td>...</td>\n      <td>...</td>\n      <td>...</td>\n      <td>...</td>\n      <td>...</td>\n    </tr>\n    <tr>\n      <th>19315509</th>\n      <td>20140259776</td>\n      <td>OSWALDO</td>\n      <td>YLLICH</td>\n      <td>Miraflores</td>\n      <td>PE</td>\n      <td>2014-09-18T00:00:00.000Z</td>\n      <td>2014</td>\n      <td>2013-03-14T00:00:00.000Z</td>\n      <td>2013</td>\n      <td>1.0</td>\n      <td>...</td>\n      <td>1.0</td>\n      <td>A43B</td>\n      <td>Peru</td>\n      <td>MirafloresPeru</td>\n      <td>Lima</td>\n      <td>Miraflores</td>\n      <td>Miraflores</td>\n      <td>PE</td>\n      <td>-5.16520</td>\n      <td>-80.61384</td>\n    </tr>\n    <tr>\n      <th>19315510</th>\n      <td>20140259776</td>\n      <td>OSWALDO</td>\n      <td>YLLICH</td>\n      <td>Miraflores</td>\n      <td>PE</td>\n      <td>2014-09-18T00:00:00.000Z</td>\n      <td>2014</td>\n      <td>2013-03-14T00:00:00.000Z</td>\n      <td>2013</td>\n      <td>1.0</td>\n      <td>...</td>\n      <td>1.0</td>\n      <td>A43B</td>\n      <td>Peru</td>\n      <td>MirafloresPeru</td>\n      <td>Lima</td>\n      <td>Miraflores</td>\n      <td>Miraflores</td>\n      <td>PE</td>\n      <td>-4.84198</td>\n      <td>-80.68936</td>\n    </tr>\n    <tr>\n      <th>19315511</th>\n      <td>20140259776</td>\n      <td>OSWALDO</td>\n      <td>YLLICH</td>\n      <td>Miraflores</td>\n      <td>PE</td>\n      <td>2014-09-18T00:00:00.000Z</td>\n      <td>2014</td>\n      <td>2013-03-14T00:00:00.000Z</td>\n      <td>2013</td>\n      <td>1.0</td>\n      <td>...</td>\n      <td>1.0</td>\n      <td>A43B</td>\n      <td>Peru</td>\n      <td>MirafloresPeru</td>\n      <td>Lima</td>\n      <td>Miraflores</td>\n      <td>Miraflores</td>\n      <td>PE</td>\n      <td>-12.27417</td>\n      <td>-75.85024</td>\n    </tr>\n    <tr>\n      <th>19315512</th>\n      <td>20140259776</td>\n      <td>OSWALDO</td>\n      <td>YLLICH</td>\n      <td>Miraflores</td>\n      <td>PE</td>\n      <td>2014-09-18T00:00:00.000Z</td>\n      <td>2014</td>\n      <td>2013-03-14T00:00:00.000Z</td>\n      <td>2013</td>\n      <td>1.0</td>\n      <td>...</td>\n      <td>1.0</td>\n      <td>A43B</td>\n      <td>Peru</td>\n      <td>MirafloresPeru</td>\n      <td>Lima</td>\n      <td>Miraflores</td>\n      <td>Miraflores</td>\n      <td>PE</td>\n      <td>-5.90951</td>\n      <td>-77.36901</td>\n    </tr>\n    <tr>\n      <th>19315513</th>\n      <td>20140373007</td>\n      <td>Holger</td>\n      <td>Mueller</td>\n      <td>Nomborn</td>\n      <td>DE</td>\n      <td>2014-12-18T00:00:00.000Z</td>\n      <td>2014</td>\n      <td>2013-06-13T00:00:00.000Z</td>\n      <td>2013</td>\n      <td>1.0</td>\n      <td>...</td>\n      <td>1.0</td>\n      <td>G06F</td>\n      <td>Germany</td>\n      <td>NombornGermany</td>\n      <td>NaN</td>\n      <td>NaN</td>\n      <td>Nomborn</td>\n      <td>DE</td>\n      <td>50.43333</td>\n      <td>7.91667</td>\n    </tr>\n  </tbody>\n</table>\n<p>19315514 rows × 21 columns</p>\n</div>"
     },
     "execution_count": 13,
     "metadata": {},
     "output_type": "execute_result"
    }
   ],
   "source": [
    "df_raw_patents_without_duplicates = df_raw_patents.drop_duplicates()\n",
    "df2_selected = df_cities_500[['name', 'country code', 'latitude', 'longitude']]\n",
    "df2_selected = df2_selected.drop_duplicates()\n",
    "df_merged = df_raw_patents_without_duplicates.merge(df2_selected, how='inner', left_on=['city', 'country'], right_on=['name', 'country code'])\n",
    "df_merged"
   ],
   "metadata": {
    "collapsed": false,
    "ExecuteTime": {
     "end_time": "2023-06-25T02:36:57.010827Z",
     "start_time": "2023-06-25T02:36:31.755585900Z"
    }
   }
  },
  {
   "cell_type": "code",
   "execution_count": 14,
   "outputs": [
    {
     "name": "stdout",
     "output_type": "stream",
     "text": [
      "9830924\n",
      "9829883\n",
      "19315514\n"
     ]
    }
   ],
   "source": [
    "print(len(df_raw_patents))\n",
    "print(len(df_raw_patents_without_duplicates))\n",
    "print(len(df_merged))"
   ],
   "metadata": {
    "collapsed": false,
    "ExecuteTime": {
     "end_time": "2023-06-25T02:36:57.025828Z",
     "start_time": "2023-06-25T02:36:57.005826700Z"
    }
   }
  }
 ],
 "metadata": {
  "kernelspec": {
   "display_name": "Python 3",
   "language": "python",
   "name": "python3"
  },
  "language_info": {
   "codemirror_mode": {
    "name": "ipython",
    "version": 2
   },
   "file_extension": ".py",
   "mimetype": "text/x-python",
   "name": "python",
   "nbconvert_exporter": "python",
   "pygments_lexer": "ipython2",
   "version": "2.7.6"
  }
 },
 "nbformat": 4,
 "nbformat_minor": 0
}
