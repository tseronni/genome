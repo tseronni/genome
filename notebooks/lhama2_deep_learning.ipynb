{
 "cells": [
  {
   "cell_type": "code",
   "execution_count": 17,
   "id": "initial_id",
   "metadata": {
    "collapsed": true,
    "ExecuteTime": {
     "end_time": "2023-11-10T19:32:44.484245500Z",
     "start_time": "2023-11-10T19:32:44.473244800Z"
    }
   },
   "outputs": [],
   "source": [
    "import os\n",
    "import pandas as pd\n",
    "from huggingface_hub import HfApi\n",
    "from transformers import pipeline\n",
    "from src.utils.UsefulPaths import Paths\n",
    "import requests\n",
    "pd.set_option('display.float_format', lambda x: '%.2f' % x)"
   ]
  },
  {
   "cell_type": "code",
   "execution_count": 2,
   "outputs": [],
   "source": [
    "paths = Paths()"
   ],
   "metadata": {
    "collapsed": false,
    "ExecuteTime": {
     "end_time": "2023-11-10T19:29:02.640366900Z",
     "start_time": "2023-11-10T19:29:02.634982900Z"
    }
   },
   "id": "1df9b41ce704c2d7"
  },
  {
   "cell_type": "code",
   "execution_count": 15,
   "outputs": [
    {
     "data": {
      "text/plain": "                                          subsector  \\\n0   Artificial Intelligence; Big Data and Analytics   \n1               Advanced Manufacturing and Robotics   \n2                                  Clean Technology   \n3                              Financial Technology   \n4                                        Blockchain   \n5                                     Cybersecurity   \n6                            Agriculture Technology   \n7                                          New Food   \n8                            Advertising Technology   \n9                                      Blue Economy   \n10                                    Digital Media   \n11                                           Gaming   \n12               Augmented Reality; Virtual Reality   \n13                           Educational Technology   \n14                                     Industry 4.0   \n15                Biopharmaceutical; Biotechonology   \n16              Medical Technology; Medical devices   \n17                                           others   \n\n                                           definition  \\\n0   Artificial Intelligence companies offer produc...   \n1   In comparison to Traditional Manufacturing, Ad...   \n2   Cleantech or clean technology is an umbrella t...   \n3   Describes a business that aims at providing fi...   \n4   Companies that develop applications using bloc...   \n5   Cybersecurity is the body of technologies, pro...   \n6   Technologies to help the agriculture industry ...   \n7   New Food includes technologies that can be lev...   \n8   Advertising technology - different types of an...   \n9   Blue economy is the \"sustainable use of ocean ...   \n10  Digital media is any media that is encoded in ...   \n11  Development, marketing and monetization of vid...   \n12  Virtual reality (VR) is an artificial, compute...   \n13  Education Technology (also known as EdTech) re...   \n14  Industry 4.0 is revolutionizing the way compan...   \n15  Biopharma is the sub-sector that includes any ...   \n16  The Medtech sub-sector is primarily focused on...   \n17  A diverse category that encompasses patents wi...   \n\n                                             keywords  \\\n0   Automated intelligence, assisted intelligence,...   \n1    3d printing, industrial IoT, internet of thin...   \n2   Clean energy, and other forms of environmental...   \n3   Insurance Tech, Risk Management, Trading, Port...   \n4   Distributed ledgers, Digital Mining,Cryptocurr...   \n5   cyber security, network security, data securit...   \n6   agritech, crop optimization, farming automatio...   \n7   artificial meat, Alternative protein, Plant-ba...   \n8   Conversion/optimization, Email marketing, Mobi...   \n9   ocean sustainability, aquaculture, seafloor ma...   \n10  digitized information, marketing platform, lea...   \n11  gaming platform, video games, online games, ga...   \n12  Mixed Reality, 360 video, frame rate, metavers...   \n13  online education, educational platform, e-lear...   \n14  Internet of Things (IoT), Cloud computing, AI ...   \n15  DNA, Cloning, Genetically designed, Bioenginee...   \n16  medtech, healthcare devices, diagnostic equipm...   \n17  innovative technologies, emerging fields, cros...   \n\n                                         does_include  \\\n0                                                       \n1   Autonomous driving, Industrial robots, Industr...   \n2                                                       \n3                                                       \n4                                                       \n5   Application security, Information security, Ne...   \n6   Precision agriculture - PA is an approach to f...   \n7                                                       \n8                                                       \n9                                                       \n10  Content, Publishing, Blogs, Social Media, Mess...   \n11  PC Gaming, Console Gaming, Mobile Gaming, Smar...   \n12                                                      \n13                                                      \n14                                                      \n15  Biotechnology health care products and vaccine...   \n16                                                      \n17                                                      \n\n                                     does_not_include  \n0                                                      \n1                  Traditional manufacturing machines  \n2                         oil and gas, petrochemicals  \n3   Brick & Mortar banks, Old brick and mortar Ins...  \n4                                                      \n5                                                      \n6        Farms, Vineyards, Coffee roasters, Beverages  \n7   alt- proteins based skincare products, cannabi...  \n8   Companies whose products and services are not ...  \n9                                                      \n10                                                     \n11                                                     \n12                                                     \n13                                                     \n14                                                     \n15                                                     \n16                                                     \n17  Automated intelligence, assisted intelligence,...  ",
      "text/html": "<div>\n<style scoped>\n    .dataframe tbody tr th:only-of-type {\n        vertical-align: middle;\n    }\n\n    .dataframe tbody tr th {\n        vertical-align: top;\n    }\n\n    .dataframe thead th {\n        text-align: right;\n    }\n</style>\n<table border=\"1\" class=\"dataframe\">\n  <thead>\n    <tr style=\"text-align: right;\">\n      <th></th>\n      <th>subsector</th>\n      <th>definition</th>\n      <th>keywords</th>\n      <th>does_include</th>\n      <th>does_not_include</th>\n    </tr>\n  </thead>\n  <tbody>\n    <tr>\n      <th>0</th>\n      <td>Artificial Intelligence; Big Data and Analytics</td>\n      <td>Artificial Intelligence companies offer produc...</td>\n      <td>Automated intelligence, assisted intelligence,...</td>\n      <td></td>\n      <td></td>\n    </tr>\n    <tr>\n      <th>1</th>\n      <td>Advanced Manufacturing and Robotics</td>\n      <td>In comparison to Traditional Manufacturing, Ad...</td>\n      <td>3d printing, industrial IoT, internet of thin...</td>\n      <td>Autonomous driving, Industrial robots, Industr...</td>\n      <td>Traditional manufacturing machines</td>\n    </tr>\n    <tr>\n      <th>2</th>\n      <td>Clean Technology</td>\n      <td>Cleantech or clean technology is an umbrella t...</td>\n      <td>Clean energy, and other forms of environmental...</td>\n      <td></td>\n      <td>oil and gas, petrochemicals</td>\n    </tr>\n    <tr>\n      <th>3</th>\n      <td>Financial Technology</td>\n      <td>Describes a business that aims at providing fi...</td>\n      <td>Insurance Tech, Risk Management, Trading, Port...</td>\n      <td></td>\n      <td>Brick &amp; Mortar banks, Old brick and mortar Ins...</td>\n    </tr>\n    <tr>\n      <th>4</th>\n      <td>Blockchain</td>\n      <td>Companies that develop applications using bloc...</td>\n      <td>Distributed ledgers, Digital Mining,Cryptocurr...</td>\n      <td></td>\n      <td></td>\n    </tr>\n    <tr>\n      <th>5</th>\n      <td>Cybersecurity</td>\n      <td>Cybersecurity is the body of technologies, pro...</td>\n      <td>cyber security, network security, data securit...</td>\n      <td>Application security, Information security, Ne...</td>\n      <td></td>\n    </tr>\n    <tr>\n      <th>6</th>\n      <td>Agriculture Technology</td>\n      <td>Technologies to help the agriculture industry ...</td>\n      <td>agritech, crop optimization, farming automatio...</td>\n      <td>Precision agriculture - PA is an approach to f...</td>\n      <td>Farms, Vineyards, Coffee roasters, Beverages</td>\n    </tr>\n    <tr>\n      <th>7</th>\n      <td>New Food</td>\n      <td>New Food includes technologies that can be lev...</td>\n      <td>artificial meat, Alternative protein, Plant-ba...</td>\n      <td></td>\n      <td>alt- proteins based skincare products, cannabi...</td>\n    </tr>\n    <tr>\n      <th>8</th>\n      <td>Advertising Technology</td>\n      <td>Advertising technology - different types of an...</td>\n      <td>Conversion/optimization, Email marketing, Mobi...</td>\n      <td></td>\n      <td>Companies whose products and services are not ...</td>\n    </tr>\n    <tr>\n      <th>9</th>\n      <td>Blue Economy</td>\n      <td>Blue economy is the \"sustainable use of ocean ...</td>\n      <td>ocean sustainability, aquaculture, seafloor ma...</td>\n      <td></td>\n      <td></td>\n    </tr>\n    <tr>\n      <th>10</th>\n      <td>Digital Media</td>\n      <td>Digital media is any media that is encoded in ...</td>\n      <td>digitized information, marketing platform, lea...</td>\n      <td>Content, Publishing, Blogs, Social Media, Mess...</td>\n      <td></td>\n    </tr>\n    <tr>\n      <th>11</th>\n      <td>Gaming</td>\n      <td>Development, marketing and monetization of vid...</td>\n      <td>gaming platform, video games, online games, ga...</td>\n      <td>PC Gaming, Console Gaming, Mobile Gaming, Smar...</td>\n      <td></td>\n    </tr>\n    <tr>\n      <th>12</th>\n      <td>Augmented Reality; Virtual Reality</td>\n      <td>Virtual reality (VR) is an artificial, compute...</td>\n      <td>Mixed Reality, 360 video, frame rate, metavers...</td>\n      <td></td>\n      <td></td>\n    </tr>\n    <tr>\n      <th>13</th>\n      <td>Educational Technology</td>\n      <td>Education Technology (also known as EdTech) re...</td>\n      <td>online education, educational platform, e-lear...</td>\n      <td></td>\n      <td></td>\n    </tr>\n    <tr>\n      <th>14</th>\n      <td>Industry 4.0</td>\n      <td>Industry 4.0 is revolutionizing the way compan...</td>\n      <td>Internet of Things (IoT), Cloud computing, AI ...</td>\n      <td></td>\n      <td></td>\n    </tr>\n    <tr>\n      <th>15</th>\n      <td>Biopharmaceutical; Biotechonology</td>\n      <td>Biopharma is the sub-sector that includes any ...</td>\n      <td>DNA, Cloning, Genetically designed, Bioenginee...</td>\n      <td>Biotechnology health care products and vaccine...</td>\n      <td></td>\n    </tr>\n    <tr>\n      <th>16</th>\n      <td>Medical Technology; Medical devices</td>\n      <td>The Medtech sub-sector is primarily focused on...</td>\n      <td>medtech, healthcare devices, diagnostic equipm...</td>\n      <td></td>\n      <td></td>\n    </tr>\n    <tr>\n      <th>17</th>\n      <td>others</td>\n      <td>A diverse category that encompasses patents wi...</td>\n      <td>innovative technologies, emerging fields, cros...</td>\n      <td></td>\n      <td>Automated intelligence, assisted intelligence,...</td>\n    </tr>\n  </tbody>\n</table>\n</div>"
     },
     "execution_count": 15,
     "metadata": {},
     "output_type": "execute_result"
    }
   ],
   "source": [
    "df_subsectors = pd.read_csv(os.path.join(paths.data_processed, 'subsector.csv'))\n",
    "df_subsectors = df_subsectors.fillna('')\n",
    "df_subsectors = df_subsectors.loc[:, ['subsector', 'definition', 'keywords', 'does_include', 'does_not_include']].copy()\n",
    "df_subsectors"
   ],
   "metadata": {
    "collapsed": false,
    "ExecuteTime": {
     "end_time": "2023-11-10T19:31:55.806833Z",
     "start_time": "2023-11-10T19:31:55.798660900Z"
    }
   },
   "id": "a3620eb182ab8f7f"
  },
  {
   "cell_type": "code",
   "execution_count": 16,
   "outputs": [
    {
     "data": {
      "text/plain": "0    A method, and a mobile device adapted thereto,...\n1    A dumbbell with a selectable number of weight ...\n2    A virtual assistant AI system that may be conn...\n3    Connector assemblies that are separate from me...\n4    An LED tube lamp, comprising a lamp tube, whic...\n5    A packaged semiconductor device includes an in...\n6    In a wireless communication system that includ...\n7    A method for facilitating a viewer-directed mo...\n8    This disclosure relates generally to methods a...\n9    A recombinant baculovirus, including: an adeno...\nName: abstract, dtype: object"
     },
     "execution_count": 16,
     "metadata": {},
     "output_type": "execute_result"
    }
   ],
   "source": [
    "df_abstract_patents = pd.read_csv(os.path.join(paths.data_processed, 'abstract_patents_sliced_1000.csv'))\n",
    "df_abstract_patents = df_abstract_patents.loc[0:9, 'abstract'].copy()\n",
    "df_abstract_patents"
   ],
   "metadata": {
    "collapsed": false,
    "ExecuteTime": {
     "end_time": "2023-11-10T19:32:20.837048300Z",
     "start_time": "2023-11-10T19:32:20.818572700Z"
    }
   },
   "id": "65dea32f59b9a915"
  },
  {
   "cell_type": "code",
   "execution_count": 42,
   "outputs": [],
   "source": [
    "token = ''\n",
    "hf_api = HfApi(token=token)"
   ],
   "metadata": {
    "collapsed": false,
    "ExecuteTime": {
     "end_time": "2023-11-10T19:42:40.240931500Z",
     "start_time": "2023-11-10T19:42:40.238294700Z"
    }
   },
   "id": "a4c622470ab0cbc1"
  },
  {
   "cell_type": "code",
   "execution_count": 43,
   "outputs": [],
   "source": [
    "# 1. Create a Huggingface access token\n",
    "# 2. Create a folder where you will put the token\n",
    "# 3. Inside this folder create a file and put the access token in this file and rename it to remove the extension .txt\n",
    "# 4. Create Environment variable to the folder path created in item 2"
   ],
   "metadata": {
    "collapsed": false,
    "ExecuteTime": {
     "end_time": "2023-11-10T19:42:41.281890900Z",
     "start_time": "2023-11-10T19:42:41.278380700Z"
    }
   },
   "id": "a9de7fc1cf93dc4b"
  },
  {
   "cell_type": "code",
   "execution_count": 44,
   "outputs": [
    {
     "name": "stderr",
     "output_type": "stream",
     "text": [
      "2023-11-10 16:42:42,335 - DEBUG - Starting new HTTPS connection (1): api-inference.huggingface.co:443\n",
      "2023-11-10 16:42:42,977 - DEBUG - https://api-inference.huggingface.co:443 \"POST /models/meta-llama/Llama-2-7b-chat-hf HTTP/1.1\" 400 67\n"
     ]
    }
   ],
   "source": [
    "headers = {\"Authorization\": f\"Bearer {hf_api.token}\"}\n",
    "API_URL = \"https://api-inference.huggingface.co/models/meta-llama/Llama-2-7b-chat-hf\"\n",
    "def query(payload):\n",
    "    response = requests.post(API_URL, headers=headers, json=payload)\n",
    "    return response.json()\n",
    "data = query({\"inputs\": \"The answer to the universe is\"})"
   ],
   "metadata": {
    "collapsed": false,
    "ExecuteTime": {
     "end_time": "2023-11-10T19:42:42.982160300Z",
     "start_time": "2023-11-10T19:42:42.335928400Z"
    }
   },
   "id": "5971a4ac991d0a98"
  },
  {
   "cell_type": "code",
   "execution_count": 45,
   "outputs": [],
   "source": [
    "# pipe = pipeline(\"text-generation\", model=\"meta-llama/Llama-2-70b-chat-hf\", token=hf_api.token)\n"
   ],
   "metadata": {
    "collapsed": false,
    "ExecuteTime": {
     "end_time": "2023-11-10T19:42:42.985669800Z",
     "start_time": "2023-11-10T19:42:42.983670900Z"
    }
   },
   "id": "81b69c0ef2f2be3a"
  },
  {
   "cell_type": "code",
   "execution_count": 46,
   "outputs": [
    {
     "data": {
      "text/plain": "{'error': \"Authorization header is invalid, use 'Bearer API_TOKEN'\"}"
     },
     "execution_count": 46,
     "metadata": {},
     "output_type": "execute_result"
    }
   ],
   "source": [
    "data"
   ],
   "metadata": {
    "collapsed": false,
    "ExecuteTime": {
     "end_time": "2023-11-10T19:42:43.656988Z",
     "start_time": "2023-11-10T19:42:43.653581100Z"
    }
   },
   "id": "6d4d9002f7c27284"
  },
  {
   "cell_type": "code",
   "execution_count": null,
   "outputs": [],
   "source": [],
   "metadata": {
    "collapsed": false
   },
   "id": "a48d6dfa3c04a08"
  }
 ],
 "metadata": {
  "kernelspec": {
   "display_name": "Python 3",
   "language": "python",
   "name": "python3"
  },
  "language_info": {
   "codemirror_mode": {
    "name": "ipython",
    "version": 2
   },
   "file_extension": ".py",
   "mimetype": "text/x-python",
   "name": "python",
   "nbconvert_exporter": "python",
   "pygments_lexer": "ipython2",
   "version": "2.7.6"
  }
 },
 "nbformat": 4,
 "nbformat_minor": 5
}
