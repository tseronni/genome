{
 "cells": [
  {
   "attachments": {},
   "cell_type": "markdown",
   "metadata": {},
   "source": [
    "# <center><font color='#D0533E'><b>Startup Genome</b></font> - <font color='#0D0D2F'><b>Grupo 3</b></font></center>\n",
    "\n",
    "<center><font color='#02231c'><b>Módulo 1</font></b></center>\n",
    "<p><center>\n",
    "<table>\n",
    "  <tr>\n",
    "    <th><b>Nome</b></th>\n",
    "    <th><b>Contato</b></th>\n",
    "  </tr>\n",
    "  <tr>\n",
    "    <td>Fulano1</td>\n",
    "    <td><a href=\"https://www.linkedin.com/in/leo-koki-shashiki/\">Linkedin</a></td>\n",
    "  </tr>\n",
    "  <tr>\n",
    "    <td>Rafael Costa</td>\n",
    "    <td><a href=\"https://www.linkedin.com/in/rafael-costa-a642752b/\">Linkedin</a></td>\n",
    "  </tr>\n",
    "  <tr>\n",
    "    <td>Thiago Seronni Mendonça</td>\n",
    "    <td><a href=\"https://www.linkedin.com/in/thiagoseronni/\">Linkedin</a></td>\n",
    "  </tr>\n",
    "  <tr>\n",
    "    <td>Leo Koki Shashiki</td>\n",
    "    <td><a href=\"https://www.linkedin.com/in/leo-koki-shashiki/\">Linkedin</a></td>\n",
    "  </tr>\n",
    "</font></table>"
   ]
  },
  {
   "attachments": {},
   "cell_type": "markdown",
   "metadata": {},
   "source": [
    "Startup Genome’s Global Startup Ecosystem Report (GSER) is powered by the world’s most comprehensive and quality controlled dataset on startup ecosystems. Informed by information on 3.5 million startups across 290 global ecosystems, our data and insights are the product of over a decade of independent research and policy work.\n",
    "\n",
    "GSER 2023 ranks the top 30 and 10 runner-up global ecosystems, and includes a top 100 ranking of emerging ecosystems. It also takes a look at startup communities from a regional perspective, separately ranking ecosystems in Africa, Asia, Europe, Latin America, MENA, North America, and Oceania."
   ]
  },
  {
   "attachments": {},
   "cell_type": "markdown",
   "metadata": {},
   "source": [
    "Referências: https://www.ibm.com/docs/en/spss-modeler/saas?topic=data-writing-description-report\n",
    "\n",
    "Miro:   https://miro.com/app/board/uXjVMC_icTM=/ \\\n",
    "Trello: https://trello.com/b/bjkRHTjw/sirius-proj-1 \\\n",
    "GitHub: https://github.com/joaomorossini/startup_genome"
   ]
  },
  {
   "attachments": {},
   "cell_type": "markdown",
   "metadata": {},
   "source": [
    "# BIBLIOTECAS UTILIZADAS"
   ]
  },
  {
   "cell_type": "code",
   "execution_count": 1,
   "metadata": {
    "ExecuteTime": {
     "end_time": "2023-06-26T01:19:30.119445300Z",
     "start_time": "2023-06-26T01:19:27.336327600Z"
    }
   },
   "outputs": [],
   "source": [
    "import pandas as pd\n",
    "import os\n",
    "import sys"
   ]
  },
  {
   "cell_type": "code",
   "execution_count": 2,
   "metadata": {
    "ExecuteTime": {
     "end_time": "2023-06-26T01:19:30.132207900Z",
     "start_time": "2023-06-26T01:19:30.121510500Z"
    }
   },
   "outputs": [],
   "source": [
    "from src.utils.UsefulPaths import Paths\n",
    "paths = Paths()"
   ]
  },
  {
   "attachments": {},
   "cell_type": "markdown",
   "metadata": {},
   "source": [
    "# Importando Datasets"
   ]
  },
  {
   "cell_type": "code",
   "execution_count": 3,
   "metadata": {
    "ExecuteTime": {
     "end_time": "2023-06-24T13:34:32.541080700Z",
     "start_time": "2023-06-24T13:34:02.492541900Z"
    }
   },
   "outputs": [
    {
     "data": {
      "text/plain": "   publication_number                                           abstract\n0         20080063564  Embodiments of techniques for determining the ...\n1         20080025285  A method for supporting frequency hopping of a...",
      "text/html": "<div>\n<style scoped>\n    .dataframe tbody tr th:only-of-type {\n        vertical-align: middle;\n    }\n\n    .dataframe tbody tr th {\n        vertical-align: top;\n    }\n\n    .dataframe thead th {\n        text-align: right;\n    }\n</style>\n<table border=\"1\" class=\"dataframe\">\n  <thead>\n    <tr style=\"text-align: right;\">\n      <th></th>\n      <th>publication_number</th>\n      <th>abstract</th>\n    </tr>\n  </thead>\n  <tbody>\n    <tr>\n      <th>0</th>\n      <td>20080063564</td>\n      <td>Embodiments of techniques for determining the ...</td>\n    </tr>\n    <tr>\n      <th>1</th>\n      <td>20080025285</td>\n      <td>A method for supporting frequency hopping of a...</td>\n    </tr>\n  </tbody>\n</table>\n</div>"
     },
     "execution_count": 3,
     "metadata": {},
     "output_type": "execute_result"
    }
   ],
   "source": [
    "df_abstract = pd.read_parquet(paths.raw_parquet_abstract)\n",
    "df_abstract.head(2)"
   ]
  },
  {
   "cell_type": "code",
   "execution_count": 4,
   "metadata": {
    "ExecuteTime": {
     "end_time": "2023-06-24T13:34:33.731692900Z",
     "start_time": "2023-06-24T13:34:32.572332900Z"
    }
   },
   "outputs": [
    {
     "data": {
      "text/plain": "    IPC                                              title\n0  G16Y  INFORMATION AND COMMUNICATION TECHNOLOGY SPECI...\n1  F24J                                                NaN\n2  F21H  INCANDESCENT MANTLES; OTHER INCANDESCENT BODIE...\n3  G16B  BIOINFORMATICS, i.e. INFORMATION AND COMMUNICA...\n4  A01P  BIOCIDAL, PEST REPELLANT, PEST ATTRACTANT OR P...",
      "text/html": "<div>\n<style scoped>\n    .dataframe tbody tr th:only-of-type {\n        vertical-align: middle;\n    }\n\n    .dataframe tbody tr th {\n        vertical-align: top;\n    }\n\n    .dataframe thead th {\n        text-align: right;\n    }\n</style>\n<table border=\"1\" class=\"dataframe\">\n  <thead>\n    <tr style=\"text-align: right;\">\n      <th></th>\n      <th>IPC</th>\n      <th>title</th>\n    </tr>\n  </thead>\n  <tbody>\n    <tr>\n      <th>0</th>\n      <td>G16Y</td>\n      <td>INFORMATION AND COMMUNICATION TECHNOLOGY SPECI...</td>\n    </tr>\n    <tr>\n      <th>1</th>\n      <td>F24J</td>\n      <td>NaN</td>\n    </tr>\n    <tr>\n      <th>2</th>\n      <td>F21H</td>\n      <td>INCANDESCENT MANTLES; OTHER INCANDESCENT BODIE...</td>\n    </tr>\n    <tr>\n      <th>3</th>\n      <td>G16B</td>\n      <td>BIOINFORMATICS, i.e. INFORMATION AND COMMUNICA...</td>\n    </tr>\n    <tr>\n      <th>4</th>\n      <td>A01P</td>\n      <td>BIOCIDAL, PEST REPELLANT, PEST ATTRACTANT OR P...</td>\n    </tr>\n  </tbody>\n</table>\n</div>"
     },
     "execution_count": 4,
     "metadata": {},
     "output_type": "execute_result"
    }
   ],
   "source": [
    "df_ipc = pd.read_excel(paths.raw_ipc_titles)\n",
    "df_ipc.head(5)"
   ]
  },
  {
   "cell_type": "code",
   "execution_count": 5,
   "metadata": {
    "ExecuteTime": {
     "end_time": "2023-06-24T13:34:40.688546100Z",
     "start_time": "2023-06-24T13:34:33.731692900Z"
    }
   },
   "outputs": [
    {
     "data": {
      "text/plain": "                  site        country city_region           company\n0  axialhealthcare.com  United States   Nashville  Axial Healthcare\n1         athearth.com          Japan           1          Athearth",
      "text/html": "<div>\n<style scoped>\n    .dataframe tbody tr th:only-of-type {\n        vertical-align: middle;\n    }\n\n    .dataframe tbody tr th {\n        vertical-align: top;\n    }\n\n    .dataframe thead th {\n        text-align: right;\n    }\n</style>\n<table border=\"1\" class=\"dataframe\">\n  <thead>\n    <tr style=\"text-align: right;\">\n      <th></th>\n      <th>site</th>\n      <th>country</th>\n      <th>city_region</th>\n      <th>company</th>\n    </tr>\n  </thead>\n  <tbody>\n    <tr>\n      <th>0</th>\n      <td>axialhealthcare.com</td>\n      <td>United States</td>\n      <td>Nashville</td>\n      <td>Axial Healthcare</td>\n    </tr>\n    <tr>\n      <th>1</th>\n      <td>athearth.com</td>\n      <td>Japan</td>\n      <td>1</td>\n      <td>Athearth</td>\n    </tr>\n  </tbody>\n</table>\n</div>"
     },
     "execution_count": 5,
     "metadata": {},
     "output_type": "execute_result"
    }
   ],
   "source": [
    "df_list_of_companies = pd.read_csv(filepath_or_buffer=paths.raw_list_of_companies,header=None,\n",
    "                                   names=['site','country','city_region','company'])\n",
    "df_list_of_companies.head(2)"
   ]
  },
  {
   "cell_type": "code",
   "execution_count": 3,
   "metadata": {
    "ExecuteTime": {
     "end_time": "2023-06-26T01:19:48.128468200Z",
     "start_time": "2023-06-26T01:19:30.134193Z"
    }
   },
   "outputs": [
    {
     "data": {
      "text/plain": "     patent_id name_first name_last           city country  \\\n0  20140380145      Rajiv   Puranik  San Francisco      US   \n1  20140380145     Thomas   Wilsher  San Francisco      US   \n\n                 grant_date  grant_year                  app_date  app_year  \\\n0  2014-12-25T00:00:00.000Z        2014  2014-05-08T00:00:00.000Z      2014   \n1  2014-12-25T00:00:00.000Z        2014  2014-05-08T00:00:00.000Z      2014   \n\n   class_distinct_count class_concat  class_IPC_distinct_count  \\\n0                   1.0         G06F                       1.0   \n1                   1.0         G06F                       1.0   \n\n  class_IPC_concat    CountryName                 CityCountry       Ecosystem  \\\n0             G06F  United States  San FranciscoUnited States  Silicon Valley   \n1             G06F  United States  San FranciscoUnited States  Silicon Valley   \n\n      GoogleCity  \n0  San Francisco  \n1  San Francisco  ",
      "text/html": "<div>\n<style scoped>\n    .dataframe tbody tr th:only-of-type {\n        vertical-align: middle;\n    }\n\n    .dataframe tbody tr th {\n        vertical-align: top;\n    }\n\n    .dataframe thead th {\n        text-align: right;\n    }\n</style>\n<table border=\"1\" class=\"dataframe\">\n  <thead>\n    <tr style=\"text-align: right;\">\n      <th></th>\n      <th>patent_id</th>\n      <th>name_first</th>\n      <th>name_last</th>\n      <th>city</th>\n      <th>country</th>\n      <th>grant_date</th>\n      <th>grant_year</th>\n      <th>app_date</th>\n      <th>app_year</th>\n      <th>class_distinct_count</th>\n      <th>class_concat</th>\n      <th>class_IPC_distinct_count</th>\n      <th>class_IPC_concat</th>\n      <th>CountryName</th>\n      <th>CityCountry</th>\n      <th>Ecosystem</th>\n      <th>GoogleCity</th>\n    </tr>\n  </thead>\n  <tbody>\n    <tr>\n      <th>0</th>\n      <td>20140380145</td>\n      <td>Rajiv</td>\n      <td>Puranik</td>\n      <td>San Francisco</td>\n      <td>US</td>\n      <td>2014-12-25T00:00:00.000Z</td>\n      <td>2014</td>\n      <td>2014-05-08T00:00:00.000Z</td>\n      <td>2014</td>\n      <td>1.0</td>\n      <td>G06F</td>\n      <td>1.0</td>\n      <td>G06F</td>\n      <td>United States</td>\n      <td>San FranciscoUnited States</td>\n      <td>Silicon Valley</td>\n      <td>San Francisco</td>\n    </tr>\n    <tr>\n      <th>1</th>\n      <td>20140380145</td>\n      <td>Thomas</td>\n      <td>Wilsher</td>\n      <td>San Francisco</td>\n      <td>US</td>\n      <td>2014-12-25T00:00:00.000Z</td>\n      <td>2014</td>\n      <td>2014-05-08T00:00:00.000Z</td>\n      <td>2014</td>\n      <td>1.0</td>\n      <td>G06F</td>\n      <td>1.0</td>\n      <td>G06F</td>\n      <td>United States</td>\n      <td>San FranciscoUnited States</td>\n      <td>Silicon Valley</td>\n      <td>San Francisco</td>\n    </tr>\n  </tbody>\n</table>\n</div>"
     },
     "execution_count": 3,
     "metadata": {},
     "output_type": "execute_result"
    }
   ],
   "source": [
    "df_raw_patents = pd.read_parquet(paths.raw_parquet_raw_patents)\n",
    "df_raw_patents.head(2)"
   ]
  },
  {
   "cell_type": "code",
   "execution_count": 7,
   "metadata": {
    "ExecuteTime": {
     "end_time": "2023-06-24T13:35:02.640230800Z",
     "start_time": "2023-06-24T13:35:00.047000700Z"
    }
   },
   "outputs": [
    {
     "data": {
      "text/plain": "     patent_id            owner      city_region country  year\n0  20130080687  Siamack Nemazie  Los Altos Hills      US  2013\n1  20130080687      NGON VAN LE          Fremont      US  2013\n2  20130031357     Dieter Weiss          Munchen      DE  2013\n3  20130031357   Gisela Meister          Munchen      DE  2013\n4  20130031357     Jan Eichholz          Munchen      DE  2013\n5  20130031357   Florian Gawlas          Munchen      DE  2013\n6  20130075135      Jee-Soo MOK      Gyeonggi-do      KR  2013\n7  20130077850   Takehiro Hirai           Ushiku      JP  2013\n8  20130077850      Kozo Miyake      Hitachinaka      JP  2013\n9  20130077850    Junko Konishi      Hitachinaka      JP  2013",
      "text/html": "<div>\n<style scoped>\n    .dataframe tbody tr th:only-of-type {\n        vertical-align: middle;\n    }\n\n    .dataframe tbody tr th {\n        vertical-align: top;\n    }\n\n    .dataframe thead th {\n        text-align: right;\n    }\n</style>\n<table border=\"1\" class=\"dataframe\">\n  <thead>\n    <tr style=\"text-align: right;\">\n      <th></th>\n      <th>patent_id</th>\n      <th>owner</th>\n      <th>city_region</th>\n      <th>country</th>\n      <th>year</th>\n    </tr>\n  </thead>\n  <tbody>\n    <tr>\n      <th>0</th>\n      <td>20130080687</td>\n      <td>Siamack Nemazie</td>\n      <td>Los Altos Hills</td>\n      <td>US</td>\n      <td>2013</td>\n    </tr>\n    <tr>\n      <th>1</th>\n      <td>20130080687</td>\n      <td>NGON VAN LE</td>\n      <td>Fremont</td>\n      <td>US</td>\n      <td>2013</td>\n    </tr>\n    <tr>\n      <th>2</th>\n      <td>20130031357</td>\n      <td>Dieter Weiss</td>\n      <td>Munchen</td>\n      <td>DE</td>\n      <td>2013</td>\n    </tr>\n    <tr>\n      <th>3</th>\n      <td>20130031357</td>\n      <td>Gisela Meister</td>\n      <td>Munchen</td>\n      <td>DE</td>\n      <td>2013</td>\n    </tr>\n    <tr>\n      <th>4</th>\n      <td>20130031357</td>\n      <td>Jan Eichholz</td>\n      <td>Munchen</td>\n      <td>DE</td>\n      <td>2013</td>\n    </tr>\n    <tr>\n      <th>5</th>\n      <td>20130031357</td>\n      <td>Florian Gawlas</td>\n      <td>Munchen</td>\n      <td>DE</td>\n      <td>2013</td>\n    </tr>\n    <tr>\n      <th>6</th>\n      <td>20130075135</td>\n      <td>Jee-Soo MOK</td>\n      <td>Gyeonggi-do</td>\n      <td>KR</td>\n      <td>2013</td>\n    </tr>\n    <tr>\n      <th>7</th>\n      <td>20130077850</td>\n      <td>Takehiro Hirai</td>\n      <td>Ushiku</td>\n      <td>JP</td>\n      <td>2013</td>\n    </tr>\n    <tr>\n      <th>8</th>\n      <td>20130077850</td>\n      <td>Kozo Miyake</td>\n      <td>Hitachinaka</td>\n      <td>JP</td>\n      <td>2013</td>\n    </tr>\n    <tr>\n      <th>9</th>\n      <td>20130077850</td>\n      <td>Junko Konishi</td>\n      <td>Hitachinaka</td>\n      <td>JP</td>\n      <td>2013</td>\n    </tr>\n  </tbody>\n</table>\n</div>"
     },
     "execution_count": 7,
     "metadata": {},
     "output_type": "execute_result"
    }
   ],
   "source": [
    "df_table_for_applicants = pd.read_csv(filepath_or_buffer=paths.raw_table_for_applicants, header=None, names=['patent_id','owner','city_region','country','year'])\n",
    "df_table_for_applicants.head(10)"
   ]
  },
  {
   "attachments": {},
   "cell_type": "markdown",
   "metadata": {},
   "source": [
    "# Data Understanding"
   ]
  },
  {
   "attachments": {},
   "cell_type": "markdown",
   "metadata": {},
   "source": [
    "## 1 - What is the format of the data?"
   ]
  },
  {
   "attachments": {},
   "cell_type": "markdown",
   "metadata": {},
   "source": [
    "The data is in CSV and XLSX format, but the files larger than 1GB were converted to Parquet. This improved reading performance and reduced storage space usage."
   ]
  },
  {
   "attachments": {},
   "cell_type": "markdown",
   "metadata": {},
   "source": [
    "## 2 Identify the method used to capture the data--for example, ODBC."
   ]
  },
  {
   "attachments": {},
   "cell_type": "markdown",
   "metadata": {},
   "source": [
    "The data provided was in csv and xlsx extension and we are using pandas library to read it.\n"
   ]
  },
  {
   "attachments": {},
   "cell_type": "markdown",
   "metadata": {},
   "source": [
    "## 2 - How large is the database (in numbers of rows and columns)?"
   ]
  },
  {
   "cell_type": "code",
   "execution_count": 8,
   "metadata": {
    "ExecuteTime": {
     "end_time": "2023-06-24T13:35:02.675967200Z",
     "start_time": "2023-06-24T13:35:02.657083Z"
    }
   },
   "outputs": [
    {
     "name": "stdout",
     "output_type": "stream",
     "text": [
      "Dataset abstract.parquet         |  Row: 4184916\t Columns: 2\n",
      "Dataset IPC Titles.xlsx          |  Row: 633\t\t Columns: 2\n",
      "Dataset ListOfCompanies.csv      |  Row: 4236727\t Columns: 4\n",
      "Dataset raw_patents.parquet      |  Row: 9830924\t Columns: 17\n",
      "Dataset table_for_applicants.csv |  Row: 1417244\t Columns: 5\n"
     ]
    }
   ],
   "source": [
    "print(f'Dataset abstract.parquet         |  Row: {df_abstract.shape[0]}\\t Columns: {df_abstract.shape[1]}')\n",
    "print(f'Dataset IPC Titles.xlsx          |  Row: {df_ipc.shape[0]}\\t\\t Columns: {df_ipc.shape[1]}')\n",
    "print(f'Dataset ListOfCompanies.csv      |  Row: {df_list_of_companies.shape[0]}\\t Columns: {df_list_of_companies.shape[1]}')\n",
    "print(f'Dataset raw_patents.parquet      |  Row: {df_raw_patents.shape[0]}\\t Columns: {df_raw_patents.shape[1]}')\n",
    "print(f'Dataset table_for_applicants.csv |  Row: {df_table_for_applicants.shape[0]}\\t Columns: {df_table_for_applicants.shape[1]}')"
   ]
  },
  {
   "attachments": {},
   "cell_type": "markdown",
   "metadata": {},
   "source": [
    "## 3 - Data Quality"
   ]
  },
  {
   "cell_type": "code",
   "execution_count": 9,
   "metadata": {
    "ExecuteTime": {
     "end_time": "2023-06-24T13:35:02.722865400Z",
     "start_time": "2023-06-24T13:35:02.675967200Z"
    }
   },
   "outputs": [],
   "source": [
    "list_df = [df_abstract, df_ipc, df_list_of_companies, df_raw_patents, df_table_for_applicants]\n",
    "dict_df = {\n",
    "    'abst': 'Abstract',\n",
    "    'ipc': 'IPC Titles',\n",
    "    'comp': 'List of Companies',\n",
    "    'pat': 'Raw Patents',\n",
    "    'app': 'Table for Applicants'\n",
    "}"
   ]
  },
  {
   "attachments": {},
   "cell_type": "markdown",
   "metadata": {},
   "source": [
    "### Análise de Nulos"
   ]
  },
  {
   "cell_type": "code",
   "execution_count": 10,
   "metadata": {
    "ExecuteTime": {
     "end_time": "2023-06-24T13:35:30.947120200Z",
     "start_time": "2023-06-24T13:35:02.675967200Z"
    }
   },
   "outputs": [
    {
     "name": "stdout",
     "output_type": "stream",
     "text": [
      "####################################################################################################\n",
      "\n",
      "Abstract\n",
      "\n"
     ]
    },
    {
     "data": {
      "text/plain": "             Abstract  null_percentage\n0  publication_number              0.0\n1            abstract              0.0",
      "text/html": "<div>\n<style scoped>\n    .dataframe tbody tr th:only-of-type {\n        vertical-align: middle;\n    }\n\n    .dataframe tbody tr th {\n        vertical-align: top;\n    }\n\n    .dataframe thead th {\n        text-align: right;\n    }\n</style>\n<table border=\"1\" class=\"dataframe\">\n  <thead>\n    <tr style=\"text-align: right;\">\n      <th></th>\n      <th>Abstract</th>\n      <th>null_percentage</th>\n    </tr>\n  </thead>\n  <tbody>\n    <tr>\n      <th>0</th>\n      <td>publication_number</td>\n      <td>0.0</td>\n    </tr>\n    <tr>\n      <th>1</th>\n      <td>abstract</td>\n      <td>0.0</td>\n    </tr>\n  </tbody>\n</table>\n</div>"
     },
     "metadata": {},
     "output_type": "display_data"
    },
    {
     "name": "stdout",
     "output_type": "stream",
     "text": [
      "____________________________________________________________________________________________________\n",
      "\n",
      "####################################################################################################\n",
      "\n",
      "IPC Titles\n",
      "\n"
     ]
    },
    {
     "data": {
      "text/plain": "  IPC Titles  null_percentage\n1      title              0.2\n0        IPC              0.0",
      "text/html": "<div>\n<style scoped>\n    .dataframe tbody tr th:only-of-type {\n        vertical-align: middle;\n    }\n\n    .dataframe tbody tr th {\n        vertical-align: top;\n    }\n\n    .dataframe thead th {\n        text-align: right;\n    }\n</style>\n<table border=\"1\" class=\"dataframe\">\n  <thead>\n    <tr style=\"text-align: right;\">\n      <th></th>\n      <th>IPC Titles</th>\n      <th>null_percentage</th>\n    </tr>\n  </thead>\n  <tbody>\n    <tr>\n      <th>1</th>\n      <td>title</td>\n      <td>0.2</td>\n    </tr>\n    <tr>\n      <th>0</th>\n      <td>IPC</td>\n      <td>0.0</td>\n    </tr>\n  </tbody>\n</table>\n</div>"
     },
     "metadata": {},
     "output_type": "display_data"
    },
    {
     "name": "stdout",
     "output_type": "stream",
     "text": [
      "____________________________________________________________________________________________________\n",
      "\n",
      "####################################################################################################\n",
      "\n",
      "List of Companies\n",
      "\n"
     ]
    },
    {
     "data": {
      "text/plain": "  List of Companies  null_percentage\n3           company             39.6\n2       city_region             32.8\n1           country             28.2\n0              site              0.0",
      "text/html": "<div>\n<style scoped>\n    .dataframe tbody tr th:only-of-type {\n        vertical-align: middle;\n    }\n\n    .dataframe tbody tr th {\n        vertical-align: top;\n    }\n\n    .dataframe thead th {\n        text-align: right;\n    }\n</style>\n<table border=\"1\" class=\"dataframe\">\n  <thead>\n    <tr style=\"text-align: right;\">\n      <th></th>\n      <th>List of Companies</th>\n      <th>null_percentage</th>\n    </tr>\n  </thead>\n  <tbody>\n    <tr>\n      <th>3</th>\n      <td>company</td>\n      <td>39.6</td>\n    </tr>\n    <tr>\n      <th>2</th>\n      <td>city_region</td>\n      <td>32.8</td>\n    </tr>\n    <tr>\n      <th>1</th>\n      <td>country</td>\n      <td>28.2</td>\n    </tr>\n    <tr>\n      <th>0</th>\n      <td>site</td>\n      <td>0.0</td>\n    </tr>\n  </tbody>\n</table>\n</div>"
     },
     "metadata": {},
     "output_type": "display_data"
    },
    {
     "name": "stdout",
     "output_type": "stream",
     "text": [
      "____________________________________________________________________________________________________\n",
      "\n",
      "####################################################################################################\n",
      "\n",
      "Raw Patents\n",
      "\n"
     ]
    },
    {
     "data": {
      "text/plain": "                 Raw Patents  null_percentage\n15                 Ecosystem             25.7\n16                GoogleCity             24.4\n12          class_IPC_concat              0.5\n9       class_distinct_count              0.4\n11  class_IPC_distinct_count              0.4\n10              class_concat              0.4\n14               CityCountry              0.0\n13               CountryName              0.0\n0                  patent_id              0.0\n1                 name_first              0.0\n7                   app_date              0.0\n6                 grant_year              0.0\n5                 grant_date              0.0\n4                    country              0.0\n3                       city              0.0\n2                  name_last              0.0\n8                   app_year              0.0",
      "text/html": "<div>\n<style scoped>\n    .dataframe tbody tr th:only-of-type {\n        vertical-align: middle;\n    }\n\n    .dataframe tbody tr th {\n        vertical-align: top;\n    }\n\n    .dataframe thead th {\n        text-align: right;\n    }\n</style>\n<table border=\"1\" class=\"dataframe\">\n  <thead>\n    <tr style=\"text-align: right;\">\n      <th></th>\n      <th>Raw Patents</th>\n      <th>null_percentage</th>\n    </tr>\n  </thead>\n  <tbody>\n    <tr>\n      <th>15</th>\n      <td>Ecosystem</td>\n      <td>25.7</td>\n    </tr>\n    <tr>\n      <th>16</th>\n      <td>GoogleCity</td>\n      <td>24.4</td>\n    </tr>\n    <tr>\n      <th>12</th>\n      <td>class_IPC_concat</td>\n      <td>0.5</td>\n    </tr>\n    <tr>\n      <th>9</th>\n      <td>class_distinct_count</td>\n      <td>0.4</td>\n    </tr>\n    <tr>\n      <th>11</th>\n      <td>class_IPC_distinct_count</td>\n      <td>0.4</td>\n    </tr>\n    <tr>\n      <th>10</th>\n      <td>class_concat</td>\n      <td>0.4</td>\n    </tr>\n    <tr>\n      <th>14</th>\n      <td>CityCountry</td>\n      <td>0.0</td>\n    </tr>\n    <tr>\n      <th>13</th>\n      <td>CountryName</td>\n      <td>0.0</td>\n    </tr>\n    <tr>\n      <th>0</th>\n      <td>patent_id</td>\n      <td>0.0</td>\n    </tr>\n    <tr>\n      <th>1</th>\n      <td>name_first</td>\n      <td>0.0</td>\n    </tr>\n    <tr>\n      <th>7</th>\n      <td>app_date</td>\n      <td>0.0</td>\n    </tr>\n    <tr>\n      <th>6</th>\n      <td>grant_year</td>\n      <td>0.0</td>\n    </tr>\n    <tr>\n      <th>5</th>\n      <td>grant_date</td>\n      <td>0.0</td>\n    </tr>\n    <tr>\n      <th>4</th>\n      <td>country</td>\n      <td>0.0</td>\n    </tr>\n    <tr>\n      <th>3</th>\n      <td>city</td>\n      <td>0.0</td>\n    </tr>\n    <tr>\n      <th>2</th>\n      <td>name_last</td>\n      <td>0.0</td>\n    </tr>\n    <tr>\n      <th>8</th>\n      <td>app_year</td>\n      <td>0.0</td>\n    </tr>\n  </tbody>\n</table>\n</div>"
     },
     "metadata": {},
     "output_type": "display_data"
    },
    {
     "name": "stdout",
     "output_type": "stream",
     "text": [
      "____________________________________________________________________________________________________\n",
      "\n",
      "####################################################################################################\n",
      "\n",
      "Table for Applicants\n",
      "\n"
     ]
    },
    {
     "data": {
      "text/plain": "  Table for Applicants  null_percentage\n2          city_region              0.5\n0            patent_id              0.0\n1                owner              0.0\n3              country              0.0\n4                 year              0.0",
      "text/html": "<div>\n<style scoped>\n    .dataframe tbody tr th:only-of-type {\n        vertical-align: middle;\n    }\n\n    .dataframe tbody tr th {\n        vertical-align: top;\n    }\n\n    .dataframe thead th {\n        text-align: right;\n    }\n</style>\n<table border=\"1\" class=\"dataframe\">\n  <thead>\n    <tr style=\"text-align: right;\">\n      <th></th>\n      <th>Table for Applicants</th>\n      <th>null_percentage</th>\n    </tr>\n  </thead>\n  <tbody>\n    <tr>\n      <th>2</th>\n      <td>city_region</td>\n      <td>0.5</td>\n    </tr>\n    <tr>\n      <th>0</th>\n      <td>patent_id</td>\n      <td>0.0</td>\n    </tr>\n    <tr>\n      <th>1</th>\n      <td>owner</td>\n      <td>0.0</td>\n    </tr>\n    <tr>\n      <th>3</th>\n      <td>country</td>\n      <td>0.0</td>\n    </tr>\n    <tr>\n      <th>4</th>\n      <td>year</td>\n      <td>0.0</td>\n    </tr>\n  </tbody>\n</table>\n</div>"
     },
     "metadata": {},
     "output_type": "display_data"
    },
    {
     "name": "stdout",
     "output_type": "stream",
     "text": [
      "____________________________________________________________________________________________________\n",
      "\n"
     ]
    }
   ],
   "source": [
    "null_list = []\n",
    "for df, values in zip(list_df, dict_df.values()):\n",
    "    df_null_percentage = pd.DataFrame(df.isnull().sum()* 100 / len(df)).reset_index()\n",
    "    df_null_percentage.rename(columns={'index': values, 0:'null_percentage'}, inplace = True)\n",
    "\n",
    "    df_null_percentage.null_percentage = df_null_percentage.null_percentage.round(1)\n",
    "    null_list.append(df_null_percentage)\n",
    "    print('#'*100 + '\\n')\n",
    "    print(values+ '\\n')\n",
    "    display(df_null_percentage.sort_values(by = 'null_percentage', ascending=False))\n",
    "    print('_'*100 + '\\n')"
   ]
  },
  {
   "attachments": {},
   "cell_type": "markdown",
   "metadata": {},
   "source": [
    "### Análise de Duplicados"
   ]
  },
  {
   "cell_type": "code",
   "execution_count": 11,
   "metadata": {
    "ExecuteTime": {
     "end_time": "2023-06-24T13:36:49.494188800Z",
     "start_time": "2023-06-24T13:35:30.978402400Z"
    }
   },
   "outputs": [
    {
     "name": "stdout",
     "output_type": "stream",
     "text": [
      "####################################################################################################\n",
      "\n",
      "Abstract\n",
      "\n"
     ]
    },
    {
     "data": {
      "text/plain": "   duplicated    count\n0       False  4184916",
      "text/html": "<div>\n<style scoped>\n    .dataframe tbody tr th:only-of-type {\n        vertical-align: middle;\n    }\n\n    .dataframe tbody tr th {\n        vertical-align: top;\n    }\n\n    .dataframe thead th {\n        text-align: right;\n    }\n</style>\n<table border=\"1\" class=\"dataframe\">\n  <thead>\n    <tr style=\"text-align: right;\">\n      <th></th>\n      <th>duplicated</th>\n      <th>count</th>\n    </tr>\n  </thead>\n  <tbody>\n    <tr>\n      <th>0</th>\n      <td>False</td>\n      <td>4184916</td>\n    </tr>\n  </tbody>\n</table>\n</div>"
     },
     "metadata": {},
     "output_type": "display_data"
    },
    {
     "name": "stdout",
     "output_type": "stream",
     "text": [
      "____________________________________________________________________________________________________\n",
      "\n",
      "####################################################################################################\n",
      "\n",
      "IPC Titles\n",
      "\n"
     ]
    },
    {
     "data": {
      "text/plain": "   duplicated  count\n0       False    633",
      "text/html": "<div>\n<style scoped>\n    .dataframe tbody tr th:only-of-type {\n        vertical-align: middle;\n    }\n\n    .dataframe tbody tr th {\n        vertical-align: top;\n    }\n\n    .dataframe thead th {\n        text-align: right;\n    }\n</style>\n<table border=\"1\" class=\"dataframe\">\n  <thead>\n    <tr style=\"text-align: right;\">\n      <th></th>\n      <th>duplicated</th>\n      <th>count</th>\n    </tr>\n  </thead>\n  <tbody>\n    <tr>\n      <th>0</th>\n      <td>False</td>\n      <td>633</td>\n    </tr>\n  </tbody>\n</table>\n</div>"
     },
     "metadata": {},
     "output_type": "display_data"
    },
    {
     "name": "stdout",
     "output_type": "stream",
     "text": [
      "____________________________________________________________________________________________________\n",
      "\n",
      "####################################################################################################\n",
      "\n",
      "List of Companies\n",
      "\n"
     ]
    },
    {
     "data": {
      "text/plain": "   duplicated    count\n0       False  4236677\n1        True       50",
      "text/html": "<div>\n<style scoped>\n    .dataframe tbody tr th:only-of-type {\n        vertical-align: middle;\n    }\n\n    .dataframe tbody tr th {\n        vertical-align: top;\n    }\n\n    .dataframe thead th {\n        text-align: right;\n    }\n</style>\n<table border=\"1\" class=\"dataframe\">\n  <thead>\n    <tr style=\"text-align: right;\">\n      <th></th>\n      <th>duplicated</th>\n      <th>count</th>\n    </tr>\n  </thead>\n  <tbody>\n    <tr>\n      <th>0</th>\n      <td>False</td>\n      <td>4236677</td>\n    </tr>\n    <tr>\n      <th>1</th>\n      <td>True</td>\n      <td>50</td>\n    </tr>\n  </tbody>\n</table>\n</div>"
     },
     "metadata": {},
     "output_type": "display_data"
    },
    {
     "name": "stdout",
     "output_type": "stream",
     "text": [
      "____________________________________________________________________________________________________\n",
      "\n",
      "####################################################################################################\n",
      "\n",
      "Raw Patents\n",
      "\n"
     ]
    },
    {
     "data": {
      "text/plain": "   duplicated    count\n0       False  9829883\n1        True     1041",
      "text/html": "<div>\n<style scoped>\n    .dataframe tbody tr th:only-of-type {\n        vertical-align: middle;\n    }\n\n    .dataframe tbody tr th {\n        vertical-align: top;\n    }\n\n    .dataframe thead th {\n        text-align: right;\n    }\n</style>\n<table border=\"1\" class=\"dataframe\">\n  <thead>\n    <tr style=\"text-align: right;\">\n      <th></th>\n      <th>duplicated</th>\n      <th>count</th>\n    </tr>\n  </thead>\n  <tbody>\n    <tr>\n      <th>0</th>\n      <td>False</td>\n      <td>9829883</td>\n    </tr>\n    <tr>\n      <th>1</th>\n      <td>True</td>\n      <td>1041</td>\n    </tr>\n  </tbody>\n</table>\n</div>"
     },
     "metadata": {},
     "output_type": "display_data"
    },
    {
     "name": "stdout",
     "output_type": "stream",
     "text": [
      "____________________________________________________________________________________________________\n",
      "\n",
      "####################################################################################################\n",
      "\n",
      "Table for Applicants\n",
      "\n"
     ]
    },
    {
     "data": {
      "text/plain": "   duplicated    count\n0       False  1417141\n1        True      103",
      "text/html": "<div>\n<style scoped>\n    .dataframe tbody tr th:only-of-type {\n        vertical-align: middle;\n    }\n\n    .dataframe tbody tr th {\n        vertical-align: top;\n    }\n\n    .dataframe thead th {\n        text-align: right;\n    }\n</style>\n<table border=\"1\" class=\"dataframe\">\n  <thead>\n    <tr style=\"text-align: right;\">\n      <th></th>\n      <th>duplicated</th>\n      <th>count</th>\n    </tr>\n  </thead>\n  <tbody>\n    <tr>\n      <th>0</th>\n      <td>False</td>\n      <td>1417141</td>\n    </tr>\n    <tr>\n      <th>1</th>\n      <td>True</td>\n      <td>103</td>\n    </tr>\n  </tbody>\n</table>\n</div>"
     },
     "metadata": {},
     "output_type": "display_data"
    },
    {
     "name": "stdout",
     "output_type": "stream",
     "text": [
      "____________________________________________________________________________________________________\n",
      "\n"
     ]
    }
   ],
   "source": [
    "duplicated_list = []\n",
    "for df, values in zip(list_df, dict_df.values()):\n",
    "    df_duplicated = pd.DataFrame(df.duplicated().value_counts()).reset_index()\n",
    "    df_duplicated.rename(columns={'index': 'duplicated', 0: values}, inplace = True)\n",
    "    duplicated_list.append(df_duplicated)\n",
    "\n",
    "    print('#'*100 + '\\n')\n",
    "    print(values+ '\\n')\n",
    "    display(df_duplicated)\n",
    "    print('_'*100 + '\\n')"
   ]
  },
  {
   "attachments": {},
   "cell_type": "markdown",
   "metadata": {},
   "source": [
    "## 4 - Does the data include characteristics relevant to the business question?"
   ]
  },
  {
   "attachments": {},
   "cell_type": "markdown",
   "metadata": {},
   "source": [
    "Apparently they have all data needed to answer the questions"
   ]
  },
  {
   "attachments": {},
   "cell_type": "markdown",
   "metadata": {},
   "source": [
    "\n",
    "## 5 - What data types are present (symbolic, numeric, etc.)?"
   ]
  },
  {
   "cell_type": "code",
   "execution_count": 12,
   "metadata": {
    "ExecuteTime": {
     "end_time": "2023-06-24T13:36:49.712150300Z",
     "start_time": "2023-06-24T13:36:49.541077800Z"
    }
   },
   "outputs": [
    {
     "name": "stdout",
     "output_type": "stream",
     "text": [
      "####################################################################################################\n",
      "\n",
      "Abstract\n",
      "\n"
     ]
    },
    {
     "data": {
      "text/plain": "             Abstract data_type\n0  publication_number     int64\n1            abstract    object",
      "text/html": "<div>\n<style scoped>\n    .dataframe tbody tr th:only-of-type {\n        vertical-align: middle;\n    }\n\n    .dataframe tbody tr th {\n        vertical-align: top;\n    }\n\n    .dataframe thead th {\n        text-align: right;\n    }\n</style>\n<table border=\"1\" class=\"dataframe\">\n  <thead>\n    <tr style=\"text-align: right;\">\n      <th></th>\n      <th>Abstract</th>\n      <th>data_type</th>\n    </tr>\n  </thead>\n  <tbody>\n    <tr>\n      <th>0</th>\n      <td>publication_number</td>\n      <td>int64</td>\n    </tr>\n    <tr>\n      <th>1</th>\n      <td>abstract</td>\n      <td>object</td>\n    </tr>\n  </tbody>\n</table>\n</div>"
     },
     "metadata": {},
     "output_type": "display_data"
    },
    {
     "name": "stdout",
     "output_type": "stream",
     "text": [
      "____________________________________________________________________________________________________\n",
      "\n",
      "####################################################################################################\n",
      "\n",
      "IPC Titles\n",
      "\n"
     ]
    },
    {
     "data": {
      "text/plain": "  IPC Titles data_type\n0        IPC    object\n1      title    object",
      "text/html": "<div>\n<style scoped>\n    .dataframe tbody tr th:only-of-type {\n        vertical-align: middle;\n    }\n\n    .dataframe tbody tr th {\n        vertical-align: top;\n    }\n\n    .dataframe thead th {\n        text-align: right;\n    }\n</style>\n<table border=\"1\" class=\"dataframe\">\n  <thead>\n    <tr style=\"text-align: right;\">\n      <th></th>\n      <th>IPC Titles</th>\n      <th>data_type</th>\n    </tr>\n  </thead>\n  <tbody>\n    <tr>\n      <th>0</th>\n      <td>IPC</td>\n      <td>object</td>\n    </tr>\n    <tr>\n      <th>1</th>\n      <td>title</td>\n      <td>object</td>\n    </tr>\n  </tbody>\n</table>\n</div>"
     },
     "metadata": {},
     "output_type": "display_data"
    },
    {
     "name": "stdout",
     "output_type": "stream",
     "text": [
      "____________________________________________________________________________________________________\n",
      "\n",
      "####################################################################################################\n",
      "\n",
      "List of Companies\n",
      "\n"
     ]
    },
    {
     "data": {
      "text/plain": "  List of Companies data_type\n0              site    object\n1           country    object\n2       city_region    object\n3           company    object",
      "text/html": "<div>\n<style scoped>\n    .dataframe tbody tr th:only-of-type {\n        vertical-align: middle;\n    }\n\n    .dataframe tbody tr th {\n        vertical-align: top;\n    }\n\n    .dataframe thead th {\n        text-align: right;\n    }\n</style>\n<table border=\"1\" class=\"dataframe\">\n  <thead>\n    <tr style=\"text-align: right;\">\n      <th></th>\n      <th>List of Companies</th>\n      <th>data_type</th>\n    </tr>\n  </thead>\n  <tbody>\n    <tr>\n      <th>0</th>\n      <td>site</td>\n      <td>object</td>\n    </tr>\n    <tr>\n      <th>1</th>\n      <td>country</td>\n      <td>object</td>\n    </tr>\n    <tr>\n      <th>2</th>\n      <td>city_region</td>\n      <td>object</td>\n    </tr>\n    <tr>\n      <th>3</th>\n      <td>company</td>\n      <td>object</td>\n    </tr>\n  </tbody>\n</table>\n</div>"
     },
     "metadata": {},
     "output_type": "display_data"
    },
    {
     "name": "stdout",
     "output_type": "stream",
     "text": [
      "____________________________________________________________________________________________________\n",
      "\n",
      "####################################################################################################\n",
      "\n",
      "Raw Patents\n",
      "\n"
     ]
    },
    {
     "data": {
      "text/plain": "                 Raw Patents data_type\n0                  patent_id     int64\n1                 name_first    object\n2                  name_last    object\n3                       city    object\n4                    country    object\n5                 grant_date    object\n6                 grant_year     int64\n7                   app_date    object\n8                   app_year     int64\n9       class_distinct_count   float64\n10              class_concat    object\n11  class_IPC_distinct_count   float64\n12          class_IPC_concat    object\n13               CountryName    object\n14               CityCountry    object\n15                 Ecosystem    object\n16                GoogleCity    object",
      "text/html": "<div>\n<style scoped>\n    .dataframe tbody tr th:only-of-type {\n        vertical-align: middle;\n    }\n\n    .dataframe tbody tr th {\n        vertical-align: top;\n    }\n\n    .dataframe thead th {\n        text-align: right;\n    }\n</style>\n<table border=\"1\" class=\"dataframe\">\n  <thead>\n    <tr style=\"text-align: right;\">\n      <th></th>\n      <th>Raw Patents</th>\n      <th>data_type</th>\n    </tr>\n  </thead>\n  <tbody>\n    <tr>\n      <th>0</th>\n      <td>patent_id</td>\n      <td>int64</td>\n    </tr>\n    <tr>\n      <th>1</th>\n      <td>name_first</td>\n      <td>object</td>\n    </tr>\n    <tr>\n      <th>2</th>\n      <td>name_last</td>\n      <td>object</td>\n    </tr>\n    <tr>\n      <th>3</th>\n      <td>city</td>\n      <td>object</td>\n    </tr>\n    <tr>\n      <th>4</th>\n      <td>country</td>\n      <td>object</td>\n    </tr>\n    <tr>\n      <th>5</th>\n      <td>grant_date</td>\n      <td>object</td>\n    </tr>\n    <tr>\n      <th>6</th>\n      <td>grant_year</td>\n      <td>int64</td>\n    </tr>\n    <tr>\n      <th>7</th>\n      <td>app_date</td>\n      <td>object</td>\n    </tr>\n    <tr>\n      <th>8</th>\n      <td>app_year</td>\n      <td>int64</td>\n    </tr>\n    <tr>\n      <th>9</th>\n      <td>class_distinct_count</td>\n      <td>float64</td>\n    </tr>\n    <tr>\n      <th>10</th>\n      <td>class_concat</td>\n      <td>object</td>\n    </tr>\n    <tr>\n      <th>11</th>\n      <td>class_IPC_distinct_count</td>\n      <td>float64</td>\n    </tr>\n    <tr>\n      <th>12</th>\n      <td>class_IPC_concat</td>\n      <td>object</td>\n    </tr>\n    <tr>\n      <th>13</th>\n      <td>CountryName</td>\n      <td>object</td>\n    </tr>\n    <tr>\n      <th>14</th>\n      <td>CityCountry</td>\n      <td>object</td>\n    </tr>\n    <tr>\n      <th>15</th>\n      <td>Ecosystem</td>\n      <td>object</td>\n    </tr>\n    <tr>\n      <th>16</th>\n      <td>GoogleCity</td>\n      <td>object</td>\n    </tr>\n  </tbody>\n</table>\n</div>"
     },
     "metadata": {},
     "output_type": "display_data"
    },
    {
     "name": "stdout",
     "output_type": "stream",
     "text": [
      "____________________________________________________________________________________________________\n",
      "\n",
      "####################################################################################################\n",
      "\n",
      "Table for Applicants\n",
      "\n"
     ]
    },
    {
     "data": {
      "text/plain": "  Table for Applicants data_type\n0            patent_id     int64\n1                owner    object\n2          city_region    object\n3              country    object\n4                 year     int64",
      "text/html": "<div>\n<style scoped>\n    .dataframe tbody tr th:only-of-type {\n        vertical-align: middle;\n    }\n\n    .dataframe tbody tr th {\n        vertical-align: top;\n    }\n\n    .dataframe thead th {\n        text-align: right;\n    }\n</style>\n<table border=\"1\" class=\"dataframe\">\n  <thead>\n    <tr style=\"text-align: right;\">\n      <th></th>\n      <th>Table for Applicants</th>\n      <th>data_type</th>\n    </tr>\n  </thead>\n  <tbody>\n    <tr>\n      <th>0</th>\n      <td>patent_id</td>\n      <td>int64</td>\n    </tr>\n    <tr>\n      <th>1</th>\n      <td>owner</td>\n      <td>object</td>\n    </tr>\n    <tr>\n      <th>2</th>\n      <td>city_region</td>\n      <td>object</td>\n    </tr>\n    <tr>\n      <th>3</th>\n      <td>country</td>\n      <td>object</td>\n    </tr>\n    <tr>\n      <th>4</th>\n      <td>year</td>\n      <td>int64</td>\n    </tr>\n  </tbody>\n</table>\n</div>"
     },
     "metadata": {},
     "output_type": "display_data"
    },
    {
     "name": "stdout",
     "output_type": "stream",
     "text": [
      "____________________________________________________________________________________________________\n",
      "\n"
     ]
    }
   ],
   "source": [
    "list_dtypes = []\n",
    "for df, values in zip(list_df, dict_df.values()):\n",
    "\n",
    "    df_dtypes = pd.DataFrame(df.dtypes).reset_index()\n",
    "    df_dtypes.rename(columns={'index': values, 0:'data_type'}, inplace=True )\n",
    "    list_dtypes.append(df_dtypes)\n",
    "\n",
    "    print('#'*100 + '\\n')\n",
    "    print(values+ '\\n')\n",
    "    display(df_dtypes)\n",
    "    print('_'*100 + '\\n')"
   ]
  },
  {
   "attachments": {},
   "cell_type": "markdown",
   "metadata": {},
   "source": [
    "## 6 - Did you compute basic statistics for the key attributes? What insight did this provide into the business question?"
   ]
  },
  {
   "attachments": {},
   "cell_type": "markdown",
   "metadata": {},
   "source": []
  },
  {
   "attachments": {},
   "cell_type": "markdown",
   "metadata": {},
   "source": [
    "## 7 - Are you able to prioritize relevant attributes? If not, are business analysts available to provide further insight?"
   ]
  },
  {
   "cell_type": "code",
   "execution_count": 13,
   "metadata": {
    "ExecuteTime": {
     "end_time": "2023-06-24T13:36:49.712150300Z",
     "start_time": "2023-06-24T13:36:49.628717700Z"
    }
   },
   "outputs": [],
   "source": [
    "##"
   ]
  },
  {
   "attachments": {},
   "cell_type": "markdown",
   "metadata": {},
   "source": [
    "## 8 - What sort of hypotheses have you formed about the data?"
   ]
  },
  {
   "cell_type": "code",
   "execution_count": 13,
   "metadata": {
    "ExecuteTime": {
     "end_time": "2023-06-24T13:36:49.712150300Z",
     "start_time": "2023-06-24T13:36:49.674884500Z"
    }
   },
   "outputs": [],
   "source": []
  },
  {
   "attachments": {},
   "cell_type": "markdown",
   "metadata": {},
   "source": [
    "## 9 - Which attributes seem promising for further analysis?"
   ]
  },
  {
   "cell_type": "code",
   "execution_count": 13,
   "metadata": {
    "ExecuteTime": {
     "end_time": "2023-06-24T13:36:49.712150300Z",
     "start_time": "2023-06-24T13:36:49.674884500Z"
    }
   },
   "outputs": [],
   "source": []
  },
  {
   "attachments": {},
   "cell_type": "markdown",
   "metadata": {},
   "source": [
    "## 10 - Have your explorations revealed new characteristics about the data?"
   ]
  },
  {
   "cell_type": "code",
   "execution_count": 13,
   "metadata": {
    "ExecuteTime": {
     "end_time": "2023-06-24T13:36:49.712150300Z",
     "start_time": "2023-06-24T13:36:49.674884500Z"
    }
   },
   "outputs": [],
   "source": []
  },
  {
   "attachments": {},
   "cell_type": "markdown",
   "metadata": {},
   "source": [
    "## 11 - How have these explorations changed your initial hypothesis?"
   ]
  },
  {
   "cell_type": "code",
   "execution_count": 13,
   "metadata": {
    "ExecuteTime": {
     "end_time": "2023-06-24T13:36:49.712150300Z",
     "start_time": "2023-06-24T13:36:49.674884500Z"
    }
   },
   "outputs": [],
   "source": []
  },
  {
   "attachments": {},
   "cell_type": "markdown",
   "metadata": {},
   "source": [
    "## 12 - Can you identify particular subsets of data for later use?"
   ]
  },
  {
   "cell_type": "code",
   "execution_count": 13,
   "metadata": {
    "ExecuteTime": {
     "end_time": "2023-06-24T13:36:49.712150300Z",
     "start_time": "2023-06-24T13:36:49.680362900Z"
    }
   },
   "outputs": [],
   "source": []
  },
  {
   "attachments": {},
   "cell_type": "markdown",
   "metadata": {},
   "source": [
    "## 13 - Take another look at your data mining goals. Has this exploration altered the goals?"
   ]
  },
  {
   "cell_type": "code",
   "execution_count": 13,
   "metadata": {
    "ExecuteTime": {
     "end_time": "2023-06-24T13:36:49.712150300Z",
     "start_time": "2023-06-24T13:36:49.680878200Z"
    }
   },
   "outputs": [],
   "source": []
  },
  {
   "cell_type": "markdown",
   "source": [
    "# Data Cleaning"
   ],
   "metadata": {
    "collapsed": false
   }
  },
  {
   "cell_type": "markdown",
   "source": [
    "## List of Companies"
   ],
   "metadata": {
    "collapsed": false
   }
  },
  {
   "cell_type": "markdown",
   "source": [
    "### Removendo Duplicadas"
   ],
   "metadata": {
    "collapsed": false
   }
  },
  {
   "cell_type": "code",
   "execution_count": 14,
   "outputs": [
    {
     "data": {
      "text/plain": "False    4236677\nTrue          50\nName: count, dtype: int64"
     },
     "execution_count": 14,
     "metadata": {},
     "output_type": "execute_result"
    }
   ],
   "source": [
    "df_list_of_companies.duplicated().value_counts()"
   ],
   "metadata": {
    "collapsed": false,
    "ExecuteTime": {
     "end_time": "2023-06-24T13:36:57.752263800Z",
     "start_time": "2023-06-24T13:36:49.680878200Z"
    }
   }
  },
  {
   "cell_type": "code",
   "execution_count": 15,
   "outputs": [],
   "source": [
    "df_list_of_companies.drop_duplicates(inplace=True)"
   ],
   "metadata": {
    "collapsed": false,
    "ExecuteTime": {
     "end_time": "2023-06-24T13:37:03.907273600Z",
     "start_time": "2023-06-24T13:36:57.752263800Z"
    }
   }
  },
  {
   "cell_type": "code",
   "execution_count": 16,
   "outputs": [
    {
     "data": {
      "text/plain": "                  site        country city_region           company\n0  axialhealthcare.com  United States   Nashville  Axial Healthcare\n1         athearth.com          Japan           1          Athearth\n2      madebykawet.com         France       Paris             Kawet\n3       vw-aabenraa.dk        Denmark    Aabenraa               NaN\n4         de.babor.com        Germany      Aachen               NaN",
      "text/html": "<div>\n<style scoped>\n    .dataframe tbody tr th:only-of-type {\n        vertical-align: middle;\n    }\n\n    .dataframe tbody tr th {\n        vertical-align: top;\n    }\n\n    .dataframe thead th {\n        text-align: right;\n    }\n</style>\n<table border=\"1\" class=\"dataframe\">\n  <thead>\n    <tr style=\"text-align: right;\">\n      <th></th>\n      <th>site</th>\n      <th>country</th>\n      <th>city_region</th>\n      <th>company</th>\n    </tr>\n  </thead>\n  <tbody>\n    <tr>\n      <th>0</th>\n      <td>axialhealthcare.com</td>\n      <td>United States</td>\n      <td>Nashville</td>\n      <td>Axial Healthcare</td>\n    </tr>\n    <tr>\n      <th>1</th>\n      <td>athearth.com</td>\n      <td>Japan</td>\n      <td>1</td>\n      <td>Athearth</td>\n    </tr>\n    <tr>\n      <th>2</th>\n      <td>madebykawet.com</td>\n      <td>France</td>\n      <td>Paris</td>\n      <td>Kawet</td>\n    </tr>\n    <tr>\n      <th>3</th>\n      <td>vw-aabenraa.dk</td>\n      <td>Denmark</td>\n      <td>Aabenraa</td>\n      <td>NaN</td>\n    </tr>\n    <tr>\n      <th>4</th>\n      <td>de.babor.com</td>\n      <td>Germany</td>\n      <td>Aachen</td>\n      <td>NaN</td>\n    </tr>\n  </tbody>\n</table>\n</div>"
     },
     "execution_count": 16,
     "metadata": {},
     "output_type": "execute_result"
    }
   ],
   "source": [
    "df_list_of_companies.head()"
   ],
   "metadata": {
    "collapsed": false,
    "ExecuteTime": {
     "end_time": "2023-06-24T13:37:03.953274Z",
     "start_time": "2023-06-24T13:37:03.907273600Z"
    }
   }
  },
  {
   "cell_type": "markdown",
   "source": [],
   "metadata": {
    "collapsed": false
   }
  },
  {
   "cell_type": "markdown",
   "source": [
    "### Tratando Nulos"
   ],
   "metadata": {
    "collapsed": false
   }
  },
  {
   "cell_type": "code",
   "execution_count": 17,
   "outputs": [
    {
     "data": {
      "text/plain": "site           0.000000\ncountry        0.281609\ncity_region    0.328378\ncompany        0.396280\ndtype: float64"
     },
     "execution_count": 17,
     "metadata": {},
     "output_type": "execute_result"
    }
   ],
   "source": [
    "df_list_of_companies.isnull().sum()/df_list_of_companies.shape[0]"
   ],
   "metadata": {
    "collapsed": false,
    "ExecuteTime": {
     "end_time": "2023-06-24T13:37:04.493296100Z",
     "start_time": "2023-06-24T13:37:03.922013500Z"
    }
   }
  },
  {
   "cell_type": "code",
   "execution_count": 18,
   "outputs": [
    {
     "data": {
      "text/plain": "                        site         country city_region               company\n0        axialhealthcare.com   United States   Nashville      Axial Healthcare\n1               athearth.com           Japan           1              Athearth\n2            madebykawet.com          France       Paris                 Kawet\n3             vw-aabenraa.dk         Denmark    Aabenraa                   NaN\n4               de.babor.com         Germany      Aachen                   NaN\n...                      ...             ...         ...                   ...\n4236722           zzps.co.uk  United Kingdom  Addlestone                  ZZPS\n4236723           zzspkj.com           China    Zhengzho   Shunpeng Technology\n4236724           zzu.edu.cn           China         NaN  Zhengzhou University\n4236725          zzzippy.com             NaN         NaN   Stump Metal Roofing\n4236726     zzztraveling.com             NaN         NaN                   NaN\n\n[4236677 rows x 4 columns]",
      "text/html": "<div>\n<style scoped>\n    .dataframe tbody tr th:only-of-type {\n        vertical-align: middle;\n    }\n\n    .dataframe tbody tr th {\n        vertical-align: top;\n    }\n\n    .dataframe thead th {\n        text-align: right;\n    }\n</style>\n<table border=\"1\" class=\"dataframe\">\n  <thead>\n    <tr style=\"text-align: right;\">\n      <th></th>\n      <th>site</th>\n      <th>country</th>\n      <th>city_region</th>\n      <th>company</th>\n    </tr>\n  </thead>\n  <tbody>\n    <tr>\n      <th>0</th>\n      <td>axialhealthcare.com</td>\n      <td>United States</td>\n      <td>Nashville</td>\n      <td>Axial Healthcare</td>\n    </tr>\n    <tr>\n      <th>1</th>\n      <td>athearth.com</td>\n      <td>Japan</td>\n      <td>1</td>\n      <td>Athearth</td>\n    </tr>\n    <tr>\n      <th>2</th>\n      <td>madebykawet.com</td>\n      <td>France</td>\n      <td>Paris</td>\n      <td>Kawet</td>\n    </tr>\n    <tr>\n      <th>3</th>\n      <td>vw-aabenraa.dk</td>\n      <td>Denmark</td>\n      <td>Aabenraa</td>\n      <td>NaN</td>\n    </tr>\n    <tr>\n      <th>4</th>\n      <td>de.babor.com</td>\n      <td>Germany</td>\n      <td>Aachen</td>\n      <td>NaN</td>\n    </tr>\n    <tr>\n      <th>...</th>\n      <td>...</td>\n      <td>...</td>\n      <td>...</td>\n      <td>...</td>\n    </tr>\n    <tr>\n      <th>4236722</th>\n      <td>zzps.co.uk</td>\n      <td>United Kingdom</td>\n      <td>Addlestone</td>\n      <td>ZZPS</td>\n    </tr>\n    <tr>\n      <th>4236723</th>\n      <td>zzspkj.com</td>\n      <td>China</td>\n      <td>Zhengzho</td>\n      <td>Shunpeng Technology</td>\n    </tr>\n    <tr>\n      <th>4236724</th>\n      <td>zzu.edu.cn</td>\n      <td>China</td>\n      <td>NaN</td>\n      <td>Zhengzhou University</td>\n    </tr>\n    <tr>\n      <th>4236725</th>\n      <td>zzzippy.com</td>\n      <td>NaN</td>\n      <td>NaN</td>\n      <td>Stump Metal Roofing</td>\n    </tr>\n    <tr>\n      <th>4236726</th>\n      <td>zzztraveling.com</td>\n      <td>NaN</td>\n      <td>NaN</td>\n      <td>NaN</td>\n    </tr>\n  </tbody>\n</table>\n<p>4236677 rows × 4 columns</p>\n</div>"
     },
     "execution_count": 18,
     "metadata": {},
     "output_type": "execute_result"
    }
   ],
   "source": [
    "df_list_of_companies"
   ],
   "metadata": {
    "collapsed": false,
    "ExecuteTime": {
     "end_time": "2023-06-24T13:37:04.493296100Z",
     "start_time": "2023-06-24T13:37:04.477165100Z"
    }
   }
  },
  {
   "cell_type": "markdown",
   "source": [
    "### Enviando para pasta de arquivos processados"
   ],
   "metadata": {
    "collapsed": false
   }
  },
  {
   "cell_type": "code",
   "execution_count": 25,
   "outputs": [],
   "source": [
    "df_list_of_companies.to_csv('..\\data\\processed\\list_of_companies.csv')"
   ],
   "metadata": {
    "collapsed": false,
    "ExecuteTime": {
     "end_time": "2023-06-24T14:17:05.970801900Z",
     "start_time": "2023-06-24T14:16:52.794372100Z"
    }
   }
  },
  {
   "cell_type": "markdown",
   "source": [
    "## Raw Patents"
   ],
   "metadata": {
    "collapsed": false
   }
  },
  {
   "cell_type": "markdown",
   "source": [
    "### Removendo Duplicadas"
   ],
   "metadata": {
    "collapsed": false
   }
  },
  {
   "cell_type": "code",
   "execution_count": 26,
   "outputs": [
    {
     "data": {
      "text/plain": "False    9829883\nTrue        1041\nName: count, dtype: int64"
     },
     "execution_count": 26,
     "metadata": {},
     "output_type": "execute_result"
    }
   ],
   "source": [
    "df_raw_patents.duplicated().value_counts()"
   ],
   "metadata": {
    "collapsed": false,
    "ExecuteTime": {
     "end_time": "2023-06-24T14:36:47.896603300Z",
     "start_time": "2023-06-24T14:36:14.334590900Z"
    }
   }
  },
  {
   "cell_type": "code",
   "execution_count": 4,
   "outputs": [],
   "source": [
    "df_raw_patents.drop_duplicates(inplace=True)"
   ],
   "metadata": {
    "collapsed": false,
    "ExecuteTime": {
     "end_time": "2023-06-26T01:20:45.992830900Z",
     "start_time": "2023-06-26T01:20:12.375648900Z"
    }
   }
  },
  {
   "cell_type": "code",
   "execution_count": 28,
   "outputs": [
    {
     "data": {
      "text/plain": "     patent_id name_first name_last           city country  \\\n0  20140380145      Rajiv   Puranik  San Francisco      US   \n1  20140380145     Thomas   Wilsher  San Francisco      US   \n2  20140380219       John    CARTAN        Alameda      US   \n3  20150000186      Barry     Freel         Ottawa      CA   \n4  20150000186     Robert    Graham         Ottawa      CA   \n\n                 grant_date  grant_year                  app_date  app_year  \\\n0  2014-12-25T00:00:00.000Z        2014  2014-05-08T00:00:00.000Z      2014   \n1  2014-12-25T00:00:00.000Z        2014  2014-05-08T00:00:00.000Z      2014   \n2  2014-12-25T00:00:00.000Z        2014  2014-06-20T00:00:00.000Z      2014   \n3  2015-01-01T00:00:00.000Z        2015  2014-09-16T00:00:00.000Z      2014   \n4  2015-01-01T00:00:00.000Z        2015  2014-09-16T00:00:00.000Z      2014   \n\n   class_distinct_count class_concat  class_IPC_distinct_count  \\\n0                   1.0         G06F                       1.0   \n1                   1.0         G06F                       1.0   \n2                   1.0         G06F                       1.0   \n3                   1.0         C10L                       1.0   \n4                   1.0         C10L                       1.0   \n\n  class_IPC_concat    CountryName                 CityCountry       Ecosystem  \\\n0             G06F  United States  San FranciscoUnited States  Silicon Valley   \n1             G06F  United States  San FranciscoUnited States  Silicon Valley   \n2             G06F  United States        AlamedaUnited States  Silicon Valley   \n3             C10L         Canada                OttawaCanada          Ottawa   \n4             C10L         Canada                OttawaCanada          Ottawa   \n\n      GoogleCity  \n0  San Francisco  \n1  San Francisco  \n2        Alameda  \n3         Ottawa  \n4         Ottawa  ",
      "text/html": "<div>\n<style scoped>\n    .dataframe tbody tr th:only-of-type {\n        vertical-align: middle;\n    }\n\n    .dataframe tbody tr th {\n        vertical-align: top;\n    }\n\n    .dataframe thead th {\n        text-align: right;\n    }\n</style>\n<table border=\"1\" class=\"dataframe\">\n  <thead>\n    <tr style=\"text-align: right;\">\n      <th></th>\n      <th>patent_id</th>\n      <th>name_first</th>\n      <th>name_last</th>\n      <th>city</th>\n      <th>country</th>\n      <th>grant_date</th>\n      <th>grant_year</th>\n      <th>app_date</th>\n      <th>app_year</th>\n      <th>class_distinct_count</th>\n      <th>class_concat</th>\n      <th>class_IPC_distinct_count</th>\n      <th>class_IPC_concat</th>\n      <th>CountryName</th>\n      <th>CityCountry</th>\n      <th>Ecosystem</th>\n      <th>GoogleCity</th>\n    </tr>\n  </thead>\n  <tbody>\n    <tr>\n      <th>0</th>\n      <td>20140380145</td>\n      <td>Rajiv</td>\n      <td>Puranik</td>\n      <td>San Francisco</td>\n      <td>US</td>\n      <td>2014-12-25T00:00:00.000Z</td>\n      <td>2014</td>\n      <td>2014-05-08T00:00:00.000Z</td>\n      <td>2014</td>\n      <td>1.0</td>\n      <td>G06F</td>\n      <td>1.0</td>\n      <td>G06F</td>\n      <td>United States</td>\n      <td>San FranciscoUnited States</td>\n      <td>Silicon Valley</td>\n      <td>San Francisco</td>\n    </tr>\n    <tr>\n      <th>1</th>\n      <td>20140380145</td>\n      <td>Thomas</td>\n      <td>Wilsher</td>\n      <td>San Francisco</td>\n      <td>US</td>\n      <td>2014-12-25T00:00:00.000Z</td>\n      <td>2014</td>\n      <td>2014-05-08T00:00:00.000Z</td>\n      <td>2014</td>\n      <td>1.0</td>\n      <td>G06F</td>\n      <td>1.0</td>\n      <td>G06F</td>\n      <td>United States</td>\n      <td>San FranciscoUnited States</td>\n      <td>Silicon Valley</td>\n      <td>San Francisco</td>\n    </tr>\n    <tr>\n      <th>2</th>\n      <td>20140380219</td>\n      <td>John</td>\n      <td>CARTAN</td>\n      <td>Alameda</td>\n      <td>US</td>\n      <td>2014-12-25T00:00:00.000Z</td>\n      <td>2014</td>\n      <td>2014-06-20T00:00:00.000Z</td>\n      <td>2014</td>\n      <td>1.0</td>\n      <td>G06F</td>\n      <td>1.0</td>\n      <td>G06F</td>\n      <td>United States</td>\n      <td>AlamedaUnited States</td>\n      <td>Silicon Valley</td>\n      <td>Alameda</td>\n    </tr>\n    <tr>\n      <th>3</th>\n      <td>20150000186</td>\n      <td>Barry</td>\n      <td>Freel</td>\n      <td>Ottawa</td>\n      <td>CA</td>\n      <td>2015-01-01T00:00:00.000Z</td>\n      <td>2015</td>\n      <td>2014-09-16T00:00:00.000Z</td>\n      <td>2014</td>\n      <td>1.0</td>\n      <td>C10L</td>\n      <td>1.0</td>\n      <td>C10L</td>\n      <td>Canada</td>\n      <td>OttawaCanada</td>\n      <td>Ottawa</td>\n      <td>Ottawa</td>\n    </tr>\n    <tr>\n      <th>4</th>\n      <td>20150000186</td>\n      <td>Robert</td>\n      <td>Graham</td>\n      <td>Ottawa</td>\n      <td>CA</td>\n      <td>2015-01-01T00:00:00.000Z</td>\n      <td>2015</td>\n      <td>2014-09-16T00:00:00.000Z</td>\n      <td>2014</td>\n      <td>1.0</td>\n      <td>C10L</td>\n      <td>1.0</td>\n      <td>C10L</td>\n      <td>Canada</td>\n      <td>OttawaCanada</td>\n      <td>Ottawa</td>\n      <td>Ottawa</td>\n    </tr>\n  </tbody>\n</table>\n</div>"
     },
     "execution_count": 28,
     "metadata": {},
     "output_type": "execute_result"
    }
   ],
   "source": [
    "df_raw_patents.head()"
   ],
   "metadata": {
    "collapsed": false,
    "ExecuteTime": {
     "end_time": "2023-06-24T14:39:09.878115500Z",
     "start_time": "2023-06-24T14:39:09.794817700Z"
    }
   }
  },
  {
   "cell_type": "markdown",
   "source": [
    "### Tratando Nulos"
   ],
   "metadata": {
    "collapsed": false
   }
  },
  {
   "cell_type": "code",
   "execution_count": 46,
   "outputs": [
    {
     "data": {
      "text/plain": "patent_id                    0.000000\nname_first                   0.002455\nname_last                    0.040503\ncity                         0.013950\ncountry                      0.001109\ngrant_date                   0.000000\ngrant_year                   0.000000\napp_date                     0.000000\napp_year                     0.000000\nclass_distinct_count         0.952633\nclass_concat                 0.952633\nclass_IPC_distinct_count     0.952633\nclass_IPC_concat             1.170469\nCountryName                  0.011613\nCityCountry                  0.000000\nEcosystem                   59.538431\nGoogleCity                  56.562702\ndtype: float64"
     },
     "execution_count": 46,
     "metadata": {},
     "output_type": "execute_result"
    }
   ],
   "source": [
    "df_raw_patents.isnull().sum()/df_list_of_companies.shape[0]*100"
   ],
   "metadata": {
    "collapsed": false,
    "ExecuteTime": {
     "end_time": "2023-06-24T19:33:24.712643600Z",
     "start_time": "2023-06-24T19:33:19.852904800Z"
    }
   }
  },
  {
   "cell_type": "markdown",
   "source": [
    "### Alterando DTypes"
   ],
   "metadata": {
    "collapsed": false
   }
  },
  {
   "cell_type": "code",
   "execution_count": 31,
   "outputs": [
    {
     "data": {
      "text/plain": "patent_id                     int64\nname_first                   object\nname_last                    object\ncity                         object\ncountry                      object\ngrant_date                   object\ngrant_year                    int64\napp_date                     object\napp_year                      int64\nclass_distinct_count        float64\nclass_concat                 object\nclass_IPC_distinct_count    float64\nclass_IPC_concat             object\nCountryName                  object\nCityCountry                  object\nEcosystem                    object\nGoogleCity                   object\ndtype: object"
     },
     "execution_count": 31,
     "metadata": {},
     "output_type": "execute_result"
    }
   ],
   "source": [
    "df_raw_patents.dtypes"
   ],
   "metadata": {
    "collapsed": false,
    "ExecuteTime": {
     "end_time": "2023-06-24T14:40:27.703183600Z",
     "start_time": "2023-06-24T14:40:27.690475400Z"
    }
   }
  },
  {
   "cell_type": "code",
   "execution_count": 43,
   "outputs": [],
   "source": [
    "df_raw_patents.grant_date = pd.to_datetime(df_raw_patents.grant_date, format='%Y-%m-%dT00:00:00.000Z')\n",
    "df_raw_patents.app_date = pd.to_datetime(df_raw_patents.app_date, format='%Y-%m-%dT00:00:00.000Z')\n"
   ],
   "metadata": {
    "collapsed": false,
    "ExecuteTime": {
     "end_time": "2023-06-24T18:40:48.703973200Z",
     "start_time": "2023-06-24T18:40:45.500183700Z"
    }
   }
  },
  {
   "cell_type": "code",
   "execution_count": 38,
   "outputs": [
    {
     "data": {
      "text/plain": "     patent_id name_first name_last           city country  \\\n0  20140380145      Rajiv   Puranik  San Francisco      US   \n1  20140380145     Thomas   Wilsher  San Francisco      US   \n2  20140380219       John    CARTAN        Alameda      US   \n3  20150000186      Barry     Freel         Ottawa      CA   \n4  20150000186     Robert    Graham         Ottawa      CA   \n\n                 grant_date  grant_year                  app_date  app_year  \\\n0  2014-12-25T00:00:00.000Z        2014  2014-05-08T00:00:00.000Z      2014   \n1  2014-12-25T00:00:00.000Z        2014  2014-05-08T00:00:00.000Z      2014   \n2  2014-12-25T00:00:00.000Z        2014  2014-06-20T00:00:00.000Z      2014   \n3  2015-01-01T00:00:00.000Z        2015  2014-09-16T00:00:00.000Z      2014   \n4  2015-01-01T00:00:00.000Z        2015  2014-09-16T00:00:00.000Z      2014   \n\n   class_distinct_count class_concat  class_IPC_distinct_count  \\\n0                   1.0         G06F                       1.0   \n1                   1.0         G06F                       1.0   \n2                   1.0         G06F                       1.0   \n3                   1.0         C10L                       1.0   \n4                   1.0         C10L                       1.0   \n\n  class_IPC_concat    CountryName                 CityCountry       Ecosystem  \\\n0             G06F  United States  San FranciscoUnited States  Silicon Valley   \n1             G06F  United States  San FranciscoUnited States  Silicon Valley   \n2             G06F  United States        AlamedaUnited States  Silicon Valley   \n3             C10L         Canada                OttawaCanada          Ottawa   \n4             C10L         Canada                OttawaCanada          Ottawa   \n\n      GoogleCity  \n0  San Francisco  \n1  San Francisco  \n2        Alameda  \n3         Ottawa  \n4         Ottawa  ",
      "text/html": "<div>\n<style scoped>\n    .dataframe tbody tr th:only-of-type {\n        vertical-align: middle;\n    }\n\n    .dataframe tbody tr th {\n        vertical-align: top;\n    }\n\n    .dataframe thead th {\n        text-align: right;\n    }\n</style>\n<table border=\"1\" class=\"dataframe\">\n  <thead>\n    <tr style=\"text-align: right;\">\n      <th></th>\n      <th>patent_id</th>\n      <th>name_first</th>\n      <th>name_last</th>\n      <th>city</th>\n      <th>country</th>\n      <th>grant_date</th>\n      <th>grant_year</th>\n      <th>app_date</th>\n      <th>app_year</th>\n      <th>class_distinct_count</th>\n      <th>class_concat</th>\n      <th>class_IPC_distinct_count</th>\n      <th>class_IPC_concat</th>\n      <th>CountryName</th>\n      <th>CityCountry</th>\n      <th>Ecosystem</th>\n      <th>GoogleCity</th>\n    </tr>\n  </thead>\n  <tbody>\n    <tr>\n      <th>0</th>\n      <td>20140380145</td>\n      <td>Rajiv</td>\n      <td>Puranik</td>\n      <td>San Francisco</td>\n      <td>US</td>\n      <td>2014-12-25T00:00:00.000Z</td>\n      <td>2014</td>\n      <td>2014-05-08T00:00:00.000Z</td>\n      <td>2014</td>\n      <td>1.0</td>\n      <td>G06F</td>\n      <td>1.0</td>\n      <td>G06F</td>\n      <td>United States</td>\n      <td>San FranciscoUnited States</td>\n      <td>Silicon Valley</td>\n      <td>San Francisco</td>\n    </tr>\n    <tr>\n      <th>1</th>\n      <td>20140380145</td>\n      <td>Thomas</td>\n      <td>Wilsher</td>\n      <td>San Francisco</td>\n      <td>US</td>\n      <td>2014-12-25T00:00:00.000Z</td>\n      <td>2014</td>\n      <td>2014-05-08T00:00:00.000Z</td>\n      <td>2014</td>\n      <td>1.0</td>\n      <td>G06F</td>\n      <td>1.0</td>\n      <td>G06F</td>\n      <td>United States</td>\n      <td>San FranciscoUnited States</td>\n      <td>Silicon Valley</td>\n      <td>San Francisco</td>\n    </tr>\n    <tr>\n      <th>2</th>\n      <td>20140380219</td>\n      <td>John</td>\n      <td>CARTAN</td>\n      <td>Alameda</td>\n      <td>US</td>\n      <td>2014-12-25T00:00:00.000Z</td>\n      <td>2014</td>\n      <td>2014-06-20T00:00:00.000Z</td>\n      <td>2014</td>\n      <td>1.0</td>\n      <td>G06F</td>\n      <td>1.0</td>\n      <td>G06F</td>\n      <td>United States</td>\n      <td>AlamedaUnited States</td>\n      <td>Silicon Valley</td>\n      <td>Alameda</td>\n    </tr>\n    <tr>\n      <th>3</th>\n      <td>20150000186</td>\n      <td>Barry</td>\n      <td>Freel</td>\n      <td>Ottawa</td>\n      <td>CA</td>\n      <td>2015-01-01T00:00:00.000Z</td>\n      <td>2015</td>\n      <td>2014-09-16T00:00:00.000Z</td>\n      <td>2014</td>\n      <td>1.0</td>\n      <td>C10L</td>\n      <td>1.0</td>\n      <td>C10L</td>\n      <td>Canada</td>\n      <td>OttawaCanada</td>\n      <td>Ottawa</td>\n      <td>Ottawa</td>\n    </tr>\n    <tr>\n      <th>4</th>\n      <td>20150000186</td>\n      <td>Robert</td>\n      <td>Graham</td>\n      <td>Ottawa</td>\n      <td>CA</td>\n      <td>2015-01-01T00:00:00.000Z</td>\n      <td>2015</td>\n      <td>2014-09-16T00:00:00.000Z</td>\n      <td>2014</td>\n      <td>1.0</td>\n      <td>C10L</td>\n      <td>1.0</td>\n      <td>C10L</td>\n      <td>Canada</td>\n      <td>OttawaCanada</td>\n      <td>Ottawa</td>\n      <td>Ottawa</td>\n    </tr>\n  </tbody>\n</table>\n</div>"
     },
     "execution_count": 38,
     "metadata": {},
     "output_type": "execute_result"
    }
   ],
   "source": [
    "df_raw_patents.head()"
   ],
   "metadata": {
    "collapsed": false,
    "ExecuteTime": {
     "end_time": "2023-06-24T15:38:27.493667100Z",
     "start_time": "2023-06-24T15:38:27.459328800Z"
    }
   }
  },
  {
   "cell_type": "markdown",
   "source": [
    "### Criando Base de relacionamento entre raw patentes e IPC"
   ],
   "metadata": {
    "collapsed": false
   }
  },
  {
   "cell_type": "code",
   "execution_count": 44,
   "outputs": [
    {
     "data": {
      "text/plain": "           patent_id name_first       name_last            city country  \\\n11       20150000325    Daisuke       Shimamoto           Tokyo      JP   \n12       20150000325      Osamu        Morimoto           Tokyo      JP   \n13       20150000325  Takayoshi           Honda           Tokyo      JP   \n76       20150002692      Brian          CABRAL        San Jose      US   \n77       20150002692   Mitchell         HARWELL       Los Gatos      US   \n...              ...        ...             ...             ...     ...   \n9830917  20140380113    Michael            LUBY        Berkeley      US   \n9830918  20140380113      Payam          Pakzad  Mountaiin View      US   \n9830919  20140380134    Lalitha  Venkataramanan       Lexington      US   \n9830920  20140380134   Nicholas          Heaton         Houston      US   \n9830921  20140380134   Nicholas         Bennett          Hamden      US   \n\n        grant_date  grant_year   app_date  app_year  class_distinct_count  \\\n11      2015-01-01        2015 2012-03-09      2012                   2.0   \n12      2015-01-01        2015 2012-03-09      2012                   2.0   \n13      2015-01-01        2015 2012-03-09      2012                   2.0   \n76      2015-01-01        2015 2013-06-26      2013                   2.0   \n77      2015-01-01        2015 2013-06-26      2013                   2.0   \n...            ...         ...        ...       ...                   ...   \n9830917 2014-12-25        2014 2014-04-04      2014                   2.0   \n9830918 2014-12-25        2014 2014-04-04      2014                   2.0   \n9830919 2014-12-25        2014 2013-01-30      2013                   3.0   \n9830920 2014-12-25        2014 2013-01-30      2013                   3.0   \n9830921 2014-12-25        2014 2013-01-30      2013                   3.0   \n\n           class_concat  class_IPC_distinct_count class_IPC_concat  \\\n11            F25B,F16K                       2.0        F16K,F25B   \n12            F25B,F16K                       2.0        F16K,F25B   \n13            F25B,F16K                       2.0        F16K,F25B   \n76            H04N,G06K                       2.0        G06K,H04N   \n77            H04N,G06K                       2.0        G06K,H04N   \n...                 ...                       ...              ...   \n9830917       H04L,H03M                       2.0        H03M,H04L   \n9830918       H04L,H03M                       2.0        H03M,H04L   \n9830919  H04B,G06F,G01V                       3.0   G01V,G06F,H04B   \n9830920  H04B,G06F,G01V                       3.0   G01V,G06F,H04B   \n9830921  H04B,G06F,G01V                       3.0   G01V,G06F,H04B   \n\n           CountryName                  CityCountry       Ecosystem GoogleCity  \n11               Japan                   TokyoJapan           Tokyo       None  \n12               Japan                   TokyoJapan           Tokyo       None  \n13               Japan                   TokyoJapan           Tokyo       None  \n76       United States        San JoseUnited States  Silicon Valley   San Jose  \n77       United States       Los GatosUnited States  Silicon Valley  Los Gatos  \n...                ...                          ...             ...        ...  \n9830917  United States        BerkeleyUnited States  Silicon Valley   Berkeley  \n9830918  United States  Mountaiin ViewUnited States            None       None  \n9830919  United States       LexingtonUnited States            None  Lexington  \n9830920  United States         HoustonUnited States         Houston    Houston  \n9830921  United States          HamdenUnited States        Hartford     Hamden  \n\n[2802421 rows x 17 columns]",
      "text/html": "<div>\n<style scoped>\n    .dataframe tbody tr th:only-of-type {\n        vertical-align: middle;\n    }\n\n    .dataframe tbody tr th {\n        vertical-align: top;\n    }\n\n    .dataframe thead th {\n        text-align: right;\n    }\n</style>\n<table border=\"1\" class=\"dataframe\">\n  <thead>\n    <tr style=\"text-align: right;\">\n      <th></th>\n      <th>patent_id</th>\n      <th>name_first</th>\n      <th>name_last</th>\n      <th>city</th>\n      <th>country</th>\n      <th>grant_date</th>\n      <th>grant_year</th>\n      <th>app_date</th>\n      <th>app_year</th>\n      <th>class_distinct_count</th>\n      <th>class_concat</th>\n      <th>class_IPC_distinct_count</th>\n      <th>class_IPC_concat</th>\n      <th>CountryName</th>\n      <th>CityCountry</th>\n      <th>Ecosystem</th>\n      <th>GoogleCity</th>\n    </tr>\n  </thead>\n  <tbody>\n    <tr>\n      <th>11</th>\n      <td>20150000325</td>\n      <td>Daisuke</td>\n      <td>Shimamoto</td>\n      <td>Tokyo</td>\n      <td>JP</td>\n      <td>2015-01-01</td>\n      <td>2015</td>\n      <td>2012-03-09</td>\n      <td>2012</td>\n      <td>2.0</td>\n      <td>F25B,F16K</td>\n      <td>2.0</td>\n      <td>F16K,F25B</td>\n      <td>Japan</td>\n      <td>TokyoJapan</td>\n      <td>Tokyo</td>\n      <td>None</td>\n    </tr>\n    <tr>\n      <th>12</th>\n      <td>20150000325</td>\n      <td>Osamu</td>\n      <td>Morimoto</td>\n      <td>Tokyo</td>\n      <td>JP</td>\n      <td>2015-01-01</td>\n      <td>2015</td>\n      <td>2012-03-09</td>\n      <td>2012</td>\n      <td>2.0</td>\n      <td>F25B,F16K</td>\n      <td>2.0</td>\n      <td>F16K,F25B</td>\n      <td>Japan</td>\n      <td>TokyoJapan</td>\n      <td>Tokyo</td>\n      <td>None</td>\n    </tr>\n    <tr>\n      <th>13</th>\n      <td>20150000325</td>\n      <td>Takayoshi</td>\n      <td>Honda</td>\n      <td>Tokyo</td>\n      <td>JP</td>\n      <td>2015-01-01</td>\n      <td>2015</td>\n      <td>2012-03-09</td>\n      <td>2012</td>\n      <td>2.0</td>\n      <td>F25B,F16K</td>\n      <td>2.0</td>\n      <td>F16K,F25B</td>\n      <td>Japan</td>\n      <td>TokyoJapan</td>\n      <td>Tokyo</td>\n      <td>None</td>\n    </tr>\n    <tr>\n      <th>76</th>\n      <td>20150002692</td>\n      <td>Brian</td>\n      <td>CABRAL</td>\n      <td>San Jose</td>\n      <td>US</td>\n      <td>2015-01-01</td>\n      <td>2015</td>\n      <td>2013-06-26</td>\n      <td>2013</td>\n      <td>2.0</td>\n      <td>H04N,G06K</td>\n      <td>2.0</td>\n      <td>G06K,H04N</td>\n      <td>United States</td>\n      <td>San JoseUnited States</td>\n      <td>Silicon Valley</td>\n      <td>San Jose</td>\n    </tr>\n    <tr>\n      <th>77</th>\n      <td>20150002692</td>\n      <td>Mitchell</td>\n      <td>HARWELL</td>\n      <td>Los Gatos</td>\n      <td>US</td>\n      <td>2015-01-01</td>\n      <td>2015</td>\n      <td>2013-06-26</td>\n      <td>2013</td>\n      <td>2.0</td>\n      <td>H04N,G06K</td>\n      <td>2.0</td>\n      <td>G06K,H04N</td>\n      <td>United States</td>\n      <td>Los GatosUnited States</td>\n      <td>Silicon Valley</td>\n      <td>Los Gatos</td>\n    </tr>\n    <tr>\n      <th>...</th>\n      <td>...</td>\n      <td>...</td>\n      <td>...</td>\n      <td>...</td>\n      <td>...</td>\n      <td>...</td>\n      <td>...</td>\n      <td>...</td>\n      <td>...</td>\n      <td>...</td>\n      <td>...</td>\n      <td>...</td>\n      <td>...</td>\n      <td>...</td>\n      <td>...</td>\n      <td>...</td>\n      <td>...</td>\n    </tr>\n    <tr>\n      <th>9830917</th>\n      <td>20140380113</td>\n      <td>Michael</td>\n      <td>LUBY</td>\n      <td>Berkeley</td>\n      <td>US</td>\n      <td>2014-12-25</td>\n      <td>2014</td>\n      <td>2014-04-04</td>\n      <td>2014</td>\n      <td>2.0</td>\n      <td>H04L,H03M</td>\n      <td>2.0</td>\n      <td>H03M,H04L</td>\n      <td>United States</td>\n      <td>BerkeleyUnited States</td>\n      <td>Silicon Valley</td>\n      <td>Berkeley</td>\n    </tr>\n    <tr>\n      <th>9830918</th>\n      <td>20140380113</td>\n      <td>Payam</td>\n      <td>Pakzad</td>\n      <td>Mountaiin View</td>\n      <td>US</td>\n      <td>2014-12-25</td>\n      <td>2014</td>\n      <td>2014-04-04</td>\n      <td>2014</td>\n      <td>2.0</td>\n      <td>H04L,H03M</td>\n      <td>2.0</td>\n      <td>H03M,H04L</td>\n      <td>United States</td>\n      <td>Mountaiin ViewUnited States</td>\n      <td>None</td>\n      <td>None</td>\n    </tr>\n    <tr>\n      <th>9830919</th>\n      <td>20140380134</td>\n      <td>Lalitha</td>\n      <td>Venkataramanan</td>\n      <td>Lexington</td>\n      <td>US</td>\n      <td>2014-12-25</td>\n      <td>2014</td>\n      <td>2013-01-30</td>\n      <td>2013</td>\n      <td>3.0</td>\n      <td>H04B,G06F,G01V</td>\n      <td>3.0</td>\n      <td>G01V,G06F,H04B</td>\n      <td>United States</td>\n      <td>LexingtonUnited States</td>\n      <td>None</td>\n      <td>Lexington</td>\n    </tr>\n    <tr>\n      <th>9830920</th>\n      <td>20140380134</td>\n      <td>Nicholas</td>\n      <td>Heaton</td>\n      <td>Houston</td>\n      <td>US</td>\n      <td>2014-12-25</td>\n      <td>2014</td>\n      <td>2013-01-30</td>\n      <td>2013</td>\n      <td>3.0</td>\n      <td>H04B,G06F,G01V</td>\n      <td>3.0</td>\n      <td>G01V,G06F,H04B</td>\n      <td>United States</td>\n      <td>HoustonUnited States</td>\n      <td>Houston</td>\n      <td>Houston</td>\n    </tr>\n    <tr>\n      <th>9830921</th>\n      <td>20140380134</td>\n      <td>Nicholas</td>\n      <td>Bennett</td>\n      <td>Hamden</td>\n      <td>US</td>\n      <td>2014-12-25</td>\n      <td>2014</td>\n      <td>2013-01-30</td>\n      <td>2013</td>\n      <td>3.0</td>\n      <td>H04B,G06F,G01V</td>\n      <td>3.0</td>\n      <td>G01V,G06F,H04B</td>\n      <td>United States</td>\n      <td>HamdenUnited States</td>\n      <td>Hartford</td>\n      <td>Hamden</td>\n    </tr>\n  </tbody>\n</table>\n<p>2802421 rows × 17 columns</p>\n</div>"
     },
     "execution_count": 44,
     "metadata": {},
     "output_type": "execute_result"
    }
   ],
   "source": [
    "# Análise de duas colunas aparentemente iguais\n",
    "df_raw_patents[df_raw_patents.class_concat!=df_raw_patents.class_IPC_concat]"
   ],
   "metadata": {
    "collapsed": false,
    "ExecuteTime": {
     "end_time": "2023-06-24T19:31:05.295730200Z",
     "start_time": "2023-06-24T19:30:56.798122400Z"
    }
   }
  },
  {
   "cell_type": "code",
   "execution_count": 5,
   "outputs": [],
   "source": [
    "df_raw_patents_IPC = df_raw_patents[['patent_id','class_IPC_concat']]"
   ],
   "metadata": {
    "collapsed": false,
    "ExecuteTime": {
     "end_time": "2023-06-26T01:20:46.148517800Z",
     "start_time": "2023-06-26T01:20:45.999832200Z"
    }
   }
  },
  {
   "cell_type": "code",
   "execution_count": 6,
   "outputs": [],
   "source": [
    "df_raw_patents.drop(columns=['class_IPC_concat','class_concat'],inplace=True)"
   ],
   "metadata": {
    "collapsed": false,
    "ExecuteTime": {
     "end_time": "2023-06-26T01:20:50.728922400Z",
     "start_time": "2023-06-26T01:20:46.150518400Z"
    }
   }
  },
  {
   "cell_type": "code",
   "execution_count": 7,
   "outputs": [],
   "source": [
    "aux = df_raw_patents_IPC['class_IPC_concat'].str.split(',', expand=True)"
   ],
   "metadata": {
    "collapsed": false,
    "ExecuteTime": {
     "end_time": "2023-06-26T01:22:02.294850700Z",
     "start_time": "2023-06-26T01:20:50.668963200Z"
    }
   }
  },
  {
   "cell_type": "code",
   "execution_count": 8,
   "outputs": [
    {
     "name": "stderr",
     "output_type": "stream",
     "text": [
      "C:\\Users\\leolk\\AppData\\Local\\Temp\\ipykernel_14836\\2067602133.py:2: SettingWithCopyWarning: \n",
      "A value is trying to be set on a copy of a slice from a DataFrame.\n",
      "Try using .loc[row_indexer,col_indexer] = value instead\n",
      "\n",
      "See the caveats in the documentation: https://pandas.pydata.org/pandas-docs/stable/user_guide/indexing.html#returning-a-view-versus-a-copy\n",
      "  df_raw_patents_IPC[i] = aux[i]\n",
      "C:\\Users\\leolk\\AppData\\Local\\Temp\\ipykernel_14836\\2067602133.py:2: SettingWithCopyWarning: \n",
      "A value is trying to be set on a copy of a slice from a DataFrame.\n",
      "Try using .loc[row_indexer,col_indexer] = value instead\n",
      "\n",
      "See the caveats in the documentation: https://pandas.pydata.org/pandas-docs/stable/user_guide/indexing.html#returning-a-view-versus-a-copy\n",
      "  df_raw_patents_IPC[i] = aux[i]\n",
      "C:\\Users\\leolk\\AppData\\Local\\Temp\\ipykernel_14836\\2067602133.py:2: SettingWithCopyWarning: \n",
      "A value is trying to be set on a copy of a slice from a DataFrame.\n",
      "Try using .loc[row_indexer,col_indexer] = value instead\n",
      "\n",
      "See the caveats in the documentation: https://pandas.pydata.org/pandas-docs/stable/user_guide/indexing.html#returning-a-view-versus-a-copy\n",
      "  df_raw_patents_IPC[i] = aux[i]\n",
      "C:\\Users\\leolk\\AppData\\Local\\Temp\\ipykernel_14836\\2067602133.py:2: SettingWithCopyWarning: \n",
      "A value is trying to be set on a copy of a slice from a DataFrame.\n",
      "Try using .loc[row_indexer,col_indexer] = value instead\n",
      "\n",
      "See the caveats in the documentation: https://pandas.pydata.org/pandas-docs/stable/user_guide/indexing.html#returning-a-view-versus-a-copy\n",
      "  df_raw_patents_IPC[i] = aux[i]\n",
      "C:\\Users\\leolk\\AppData\\Local\\Temp\\ipykernel_14836\\2067602133.py:2: SettingWithCopyWarning: \n",
      "A value is trying to be set on a copy of a slice from a DataFrame.\n",
      "Try using .loc[row_indexer,col_indexer] = value instead\n",
      "\n",
      "See the caveats in the documentation: https://pandas.pydata.org/pandas-docs/stable/user_guide/indexing.html#returning-a-view-versus-a-copy\n",
      "  df_raw_patents_IPC[i] = aux[i]\n",
      "C:\\Users\\leolk\\AppData\\Local\\Temp\\ipykernel_14836\\2067602133.py:2: SettingWithCopyWarning: \n",
      "A value is trying to be set on a copy of a slice from a DataFrame.\n",
      "Try using .loc[row_indexer,col_indexer] = value instead\n",
      "\n",
      "See the caveats in the documentation: https://pandas.pydata.org/pandas-docs/stable/user_guide/indexing.html#returning-a-view-versus-a-copy\n",
      "  df_raw_patents_IPC[i] = aux[i]\n",
      "C:\\Users\\leolk\\AppData\\Local\\Temp\\ipykernel_14836\\2067602133.py:2: SettingWithCopyWarning: \n",
      "A value is trying to be set on a copy of a slice from a DataFrame.\n",
      "Try using .loc[row_indexer,col_indexer] = value instead\n",
      "\n",
      "See the caveats in the documentation: https://pandas.pydata.org/pandas-docs/stable/user_guide/indexing.html#returning-a-view-versus-a-copy\n",
      "  df_raw_patents_IPC[i] = aux[i]\n",
      "C:\\Users\\leolk\\AppData\\Local\\Temp\\ipykernel_14836\\2067602133.py:2: SettingWithCopyWarning: \n",
      "A value is trying to be set on a copy of a slice from a DataFrame.\n",
      "Try using .loc[row_indexer,col_indexer] = value instead\n",
      "\n",
      "See the caveats in the documentation: https://pandas.pydata.org/pandas-docs/stable/user_guide/indexing.html#returning-a-view-versus-a-copy\n",
      "  df_raw_patents_IPC[i] = aux[i]\n",
      "C:\\Users\\leolk\\AppData\\Local\\Temp\\ipykernel_14836\\2067602133.py:2: SettingWithCopyWarning: \n",
      "A value is trying to be set on a copy of a slice from a DataFrame.\n",
      "Try using .loc[row_indexer,col_indexer] = value instead\n",
      "\n",
      "See the caveats in the documentation: https://pandas.pydata.org/pandas-docs/stable/user_guide/indexing.html#returning-a-view-versus-a-copy\n",
      "  df_raw_patents_IPC[i] = aux[i]\n",
      "C:\\Users\\leolk\\AppData\\Local\\Temp\\ipykernel_14836\\2067602133.py:2: SettingWithCopyWarning: \n",
      "A value is trying to be set on a copy of a slice from a DataFrame.\n",
      "Try using .loc[row_indexer,col_indexer] = value instead\n",
      "\n",
      "See the caveats in the documentation: https://pandas.pydata.org/pandas-docs/stable/user_guide/indexing.html#returning-a-view-versus-a-copy\n",
      "  df_raw_patents_IPC[i] = aux[i]\n",
      "C:\\Users\\leolk\\AppData\\Local\\Temp\\ipykernel_14836\\2067602133.py:2: SettingWithCopyWarning: \n",
      "A value is trying to be set on a copy of a slice from a DataFrame.\n",
      "Try using .loc[row_indexer,col_indexer] = value instead\n",
      "\n",
      "See the caveats in the documentation: https://pandas.pydata.org/pandas-docs/stable/user_guide/indexing.html#returning-a-view-versus-a-copy\n",
      "  df_raw_patents_IPC[i] = aux[i]\n",
      "C:\\Users\\leolk\\AppData\\Local\\Temp\\ipykernel_14836\\2067602133.py:2: SettingWithCopyWarning: \n",
      "A value is trying to be set on a copy of a slice from a DataFrame.\n",
      "Try using .loc[row_indexer,col_indexer] = value instead\n",
      "\n",
      "See the caveats in the documentation: https://pandas.pydata.org/pandas-docs/stable/user_guide/indexing.html#returning-a-view-versus-a-copy\n",
      "  df_raw_patents_IPC[i] = aux[i]\n"
     ]
    }
   ],
   "source": [
    "for i in list(aux.columns):\n",
    "    df_raw_patents_IPC[i] = aux[i]"
   ],
   "metadata": {
    "collapsed": false,
    "ExecuteTime": {
     "end_time": "2023-06-26T01:22:10.330720200Z",
     "start_time": "2023-06-26T01:22:02.312285200Z"
    }
   }
  },
  {
   "cell_type": "code",
   "execution_count": 9,
   "outputs": [
    {
     "data": {
      "text/plain": "     patent_id class_IPC_concat     0     1     2     3     4     5     6  \\\n0  20140380145             G06F  G06F  None  None  None  None  None  None   \n1  20140380145             G06F  G06F  None  None  None  None  None  None   \n2  20140380219             G06F  G06F  None  None  None  None  None  None   \n3  20150000186             C10L  C10L  None  None  None  None  None  None   \n4  20150000186             C10L  C10L  None  None  None  None  None  None   \n\n      7  ...    14    15    16    17    18    19    20    21    22    23  \n0  None  ...  None  None  None  None  None  None  None  None  None  None  \n1  None  ...  None  None  None  None  None  None  None  None  None  None  \n2  None  ...  None  None  None  None  None  None  None  None  None  None  \n3  None  ...  None  None  None  None  None  None  None  None  None  None  \n4  None  ...  None  None  None  None  None  None  None  None  None  None  \n\n[5 rows x 26 columns]",
      "text/html": "<div>\n<style scoped>\n    .dataframe tbody tr th:only-of-type {\n        vertical-align: middle;\n    }\n\n    .dataframe tbody tr th {\n        vertical-align: top;\n    }\n\n    .dataframe thead th {\n        text-align: right;\n    }\n</style>\n<table border=\"1\" class=\"dataframe\">\n  <thead>\n    <tr style=\"text-align: right;\">\n      <th></th>\n      <th>patent_id</th>\n      <th>class_IPC_concat</th>\n      <th>0</th>\n      <th>1</th>\n      <th>2</th>\n      <th>3</th>\n      <th>4</th>\n      <th>5</th>\n      <th>6</th>\n      <th>7</th>\n      <th>...</th>\n      <th>14</th>\n      <th>15</th>\n      <th>16</th>\n      <th>17</th>\n      <th>18</th>\n      <th>19</th>\n      <th>20</th>\n      <th>21</th>\n      <th>22</th>\n      <th>23</th>\n    </tr>\n  </thead>\n  <tbody>\n    <tr>\n      <th>0</th>\n      <td>20140380145</td>\n      <td>G06F</td>\n      <td>G06F</td>\n      <td>None</td>\n      <td>None</td>\n      <td>None</td>\n      <td>None</td>\n      <td>None</td>\n      <td>None</td>\n      <td>None</td>\n      <td>...</td>\n      <td>None</td>\n      <td>None</td>\n      <td>None</td>\n      <td>None</td>\n      <td>None</td>\n      <td>None</td>\n      <td>None</td>\n      <td>None</td>\n      <td>None</td>\n      <td>None</td>\n    </tr>\n    <tr>\n      <th>1</th>\n      <td>20140380145</td>\n      <td>G06F</td>\n      <td>G06F</td>\n      <td>None</td>\n      <td>None</td>\n      <td>None</td>\n      <td>None</td>\n      <td>None</td>\n      <td>None</td>\n      <td>None</td>\n      <td>...</td>\n      <td>None</td>\n      <td>None</td>\n      <td>None</td>\n      <td>None</td>\n      <td>None</td>\n      <td>None</td>\n      <td>None</td>\n      <td>None</td>\n      <td>None</td>\n      <td>None</td>\n    </tr>\n    <tr>\n      <th>2</th>\n      <td>20140380219</td>\n      <td>G06F</td>\n      <td>G06F</td>\n      <td>None</td>\n      <td>None</td>\n      <td>None</td>\n      <td>None</td>\n      <td>None</td>\n      <td>None</td>\n      <td>None</td>\n      <td>...</td>\n      <td>None</td>\n      <td>None</td>\n      <td>None</td>\n      <td>None</td>\n      <td>None</td>\n      <td>None</td>\n      <td>None</td>\n      <td>None</td>\n      <td>None</td>\n      <td>None</td>\n    </tr>\n    <tr>\n      <th>3</th>\n      <td>20150000186</td>\n      <td>C10L</td>\n      <td>C10L</td>\n      <td>None</td>\n      <td>None</td>\n      <td>None</td>\n      <td>None</td>\n      <td>None</td>\n      <td>None</td>\n      <td>None</td>\n      <td>...</td>\n      <td>None</td>\n      <td>None</td>\n      <td>None</td>\n      <td>None</td>\n      <td>None</td>\n      <td>None</td>\n      <td>None</td>\n      <td>None</td>\n      <td>None</td>\n      <td>None</td>\n    </tr>\n    <tr>\n      <th>4</th>\n      <td>20150000186</td>\n      <td>C10L</td>\n      <td>C10L</td>\n      <td>None</td>\n      <td>None</td>\n      <td>None</td>\n      <td>None</td>\n      <td>None</td>\n      <td>None</td>\n      <td>None</td>\n      <td>...</td>\n      <td>None</td>\n      <td>None</td>\n      <td>None</td>\n      <td>None</td>\n      <td>None</td>\n      <td>None</td>\n      <td>None</td>\n      <td>None</td>\n      <td>None</td>\n      <td>None</td>\n    </tr>\n  </tbody>\n</table>\n<p>5 rows × 26 columns</p>\n</div>"
     },
     "execution_count": 9,
     "metadata": {},
     "output_type": "execute_result"
    }
   ],
   "source": [
    "df_raw_patents_IPC.head()"
   ],
   "metadata": {
    "collapsed": false,
    "ExecuteTime": {
     "end_time": "2023-06-26T01:22:10.717705400Z",
     "start_time": "2023-06-26T01:22:10.629013700Z"
    }
   }
  },
  {
   "cell_type": "code",
   "execution_count": 11,
   "outputs": [],
   "source": [
    "lista = list(aux.columns)"
   ],
   "metadata": {
    "collapsed": false,
    "ExecuteTime": {
     "end_time": "2023-06-26T01:23:24.212769900Z",
     "start_time": "2023-06-26T01:23:24.192881300Z"
    }
   }
  },
  {
   "cell_type": "code",
   "execution_count": null,
   "outputs": [],
   "source": [
    "df_raw_patents_IPC = df_raw_patents_IPC.melt(id_vars=['patent_id'], value_vars=lista, value_name='class_IPC')\\\n",
    "    .drop('class_IPC_concat', axis=1)\n"
   ],
   "metadata": {
    "collapsed": false,
    "is_executing": true
   }
  },
  {
   "cell_type": "code",
   "execution_count": null,
   "outputs": [],
   "source": [
    "df_raw_patents_IPC.shape"
   ],
   "metadata": {
    "collapsed": false,
    "ExecuteTime": {
     "start_time": "2023-06-26T01:24:10.639078800Z"
    }
   }
  },
  {
   "cell_type": "code",
   "execution_count": null,
   "outputs": [],
   "source": [],
   "metadata": {
    "collapsed": false
   }
  }
 ],
 "metadata": {
  "kernelspec": {
   "display_name": "Python 3",
   "language": "python",
   "name": "python3"
  },
  "language_info": {
   "codemirror_mode": {
    "name": "ipython",
    "version": 3
   },
   "file_extension": ".py",
   "mimetype": "text/x-python",
   "name": "python",
   "nbconvert_exporter": "python",
   "pygments_lexer": "ipython3",
   "version": "3.11.0"
  },
  "orig_nbformat": 4
 },
 "nbformat": 4,
 "nbformat_minor": 2
}
