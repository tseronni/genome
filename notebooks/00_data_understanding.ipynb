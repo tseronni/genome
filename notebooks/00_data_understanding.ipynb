{
 "cells": [
  {
   "attachments": {},
   "cell_type": "markdown",
   "metadata": {},
   "source": [
    "# <center><font color='#D0533E'><b>Startup Genome</b></font> - <font color='#0D0D2F'><b>Grupo 3</b></font></center>\n",
    "\n",
    "<center><font color='#02231c'><b>Módulo 1</font></b></center>\n",
    "<p><center>\n",
    "<table>\n",
    "  <tr>\n",
    "    <th><b>Nome</b></th>\n",
    "    <th><b>Contato</b></th>\n",
    "  </tr>\n",
    "  <tr>\n",
    "    <td>Fulano1</td>\n",
    "    <td><a href=\"https://www.linkedin.com/in/leo-koki-shashiki/\">Linkedin</a></td>\n",
    "  </tr>\n",
    "  <tr>\n",
    "    <td>Rafael Costa</td>\n",
    "    <td><a href=\"https://www.linkedin.com/in/rafael-costa-a642752b/\">Linkedin</a></td>\n",
    "  </tr>\n",
    "  <tr>\n",
    "    <td>Thiago Seronni Mendonça</td>\n",
    "    <td><a href=\"https://www.linkedin.com/in/thiagoseronni/\">Linkedin</a></td>\n",
    "  </tr>\n",
    "  <tr>\n",
    "    <td>Leo Koki Shashiki</td>\n",
    "    <td><a href=\"https://www.linkedin.com/in/leo-koki-shashiki/\">Linkedin</a></td>\n",
    "  </tr>\n",
    "</font></table>"
   ]
  },
  {
   "attachments": {},
   "cell_type": "markdown",
   "metadata": {},
   "source": [
    "Startup Genome’s Global Startup Ecosystem Report (GSER) is powered by the world’s most comprehensive and quality controlled dataset on startup ecosystems. Informed by information on 3.5 million startups across 290 global ecosystems, our data and insights are the product of over a decade of independent research and policy work.\n",
    "\n",
    "GSER 2023 ranks the top 30 and 10 runner-up global ecosystems, and includes a top 100 ranking of emerging ecosystems. It also takes a look at startup communities from a regional perspective, separately ranking ecosystems in Africa, Asia, Europe, Latin America, MENA, North America, and Oceania."
   ]
  },
  {
   "attachments": {},
   "cell_type": "markdown",
   "metadata": {},
   "source": [
    "Referências: https://www.ibm.com/docs/en/spss-modeler/saas?topic=data-writing-description-report\n",
    "\n",
    "Miro:   https://miro.com/app/board/uXjVMC_icTM=/ \\\n",
    "Trello: https://trello.com/b/bjkRHTjw/sirius-proj-1 \\\n",
    "GitHub: https://github.com/joaomorossini/startup_genome"
   ]
  },
  {
   "attachments": {},
   "cell_type": "markdown",
   "metadata": {},
   "source": [
    "# BIBLIOTECAS UTILIZADAS"
   ]
  },
  {
   "cell_type": "code",
   "execution_count": 1,
   "metadata": {
    "ExecuteTime": {
     "end_time": "2023-06-18T21:15:24.956695600Z",
     "start_time": "2023-06-18T21:15:24.012190700Z"
    }
   },
   "outputs": [],
   "source": [
    "import pandas as pd"
   ]
  },
  {
   "cell_type": "code",
   "execution_count": 2,
   "metadata": {
    "ExecuteTime": {
     "end_time": "2023-06-18T21:15:24.970456900Z",
     "start_time": "2023-06-18T21:15:24.960697800Z"
    }
   },
   "outputs": [],
   "source": [
    "from src.utils.UsefulPaths import Paths\n",
    "paths = Paths()"
   ]
  },
  {
   "attachments": {},
   "cell_type": "markdown",
   "metadata": {},
   "source": [
    "# Importando Datasets"
   ]
  },
  {
   "cell_type": "code",
   "execution_count": 3,
   "metadata": {
    "ExecuteTime": {
     "end_time": "2023-06-18T21:15:54.725018700Z",
     "start_time": "2023-06-18T21:15:24.973456600Z"
    }
   },
   "outputs": [
    {
     "data": {
      "text/plain": "   publication_number                                           abstract\n0         20080063564  Embodiments of techniques for determining the ...\n1         20080025285  A method for supporting frequency hopping of a...",
      "text/html": "<div>\n<style scoped>\n    .dataframe tbody tr th:only-of-type {\n        vertical-align: middle;\n    }\n\n    .dataframe tbody tr th {\n        vertical-align: top;\n    }\n\n    .dataframe thead th {\n        text-align: right;\n    }\n</style>\n<table border=\"1\" class=\"dataframe\">\n  <thead>\n    <tr style=\"text-align: right;\">\n      <th></th>\n      <th>publication_number</th>\n      <th>abstract</th>\n    </tr>\n  </thead>\n  <tbody>\n    <tr>\n      <th>0</th>\n      <td>20080063564</td>\n      <td>Embodiments of techniques for determining the ...</td>\n    </tr>\n    <tr>\n      <th>1</th>\n      <td>20080025285</td>\n      <td>A method for supporting frequency hopping of a...</td>\n    </tr>\n  </tbody>\n</table>\n</div>"
     },
     "execution_count": 3,
     "metadata": {},
     "output_type": "execute_result"
    }
   ],
   "source": [
    "df_abstract = pd.read_parquet(paths.raw_parquet_abstract)\n",
    "df_abstract.head(2)"
   ]
  },
  {
   "cell_type": "code",
   "execution_count": 4,
   "metadata": {
    "ExecuteTime": {
     "end_time": "2023-06-18T21:15:56.129506500Z",
     "start_time": "2023-06-18T21:15:54.722017800Z"
    }
   },
   "outputs": [
    {
     "data": {
      "text/plain": "    IPC                                              title\n0  G16Y  INFORMATION AND COMMUNICATION TECHNOLOGY SPECI...\n1  F24J                                                NaN\n2  F21H  INCANDESCENT MANTLES; OTHER INCANDESCENT BODIE...\n3  G16B  BIOINFORMATICS, i.e. INFORMATION AND COMMUNICA...\n4  A01P  BIOCIDAL, PEST REPELLANT, PEST ATTRACTANT OR P...",
      "text/html": "<div>\n<style scoped>\n    .dataframe tbody tr th:only-of-type {\n        vertical-align: middle;\n    }\n\n    .dataframe tbody tr th {\n        vertical-align: top;\n    }\n\n    .dataframe thead th {\n        text-align: right;\n    }\n</style>\n<table border=\"1\" class=\"dataframe\">\n  <thead>\n    <tr style=\"text-align: right;\">\n      <th></th>\n      <th>IPC</th>\n      <th>title</th>\n    </tr>\n  </thead>\n  <tbody>\n    <tr>\n      <th>0</th>\n      <td>G16Y</td>\n      <td>INFORMATION AND COMMUNICATION TECHNOLOGY SPECI...</td>\n    </tr>\n    <tr>\n      <th>1</th>\n      <td>F24J</td>\n      <td>NaN</td>\n    </tr>\n    <tr>\n      <th>2</th>\n      <td>F21H</td>\n      <td>INCANDESCENT MANTLES; OTHER INCANDESCENT BODIE...</td>\n    </tr>\n    <tr>\n      <th>3</th>\n      <td>G16B</td>\n      <td>BIOINFORMATICS, i.e. INFORMATION AND COMMUNICA...</td>\n    </tr>\n    <tr>\n      <th>4</th>\n      <td>A01P</td>\n      <td>BIOCIDAL, PEST REPELLANT, PEST ATTRACTANT OR P...</td>\n    </tr>\n  </tbody>\n</table>\n</div>"
     },
     "execution_count": 4,
     "metadata": {},
     "output_type": "execute_result"
    }
   ],
   "source": [
    "df_ipc = pd.read_excel(paths.raw_ipc_titles)\n",
    "df_ipc.head(5)"
   ]
  },
  {
   "cell_type": "code",
   "execution_count": 5,
   "metadata": {
    "ExecuteTime": {
     "end_time": "2023-06-18T21:16:02.477158700Z",
     "start_time": "2023-06-18T21:15:56.129506500Z"
    }
   },
   "outputs": [
    {
     "data": {
      "text/plain": "                  site        country city_region           company\n0  axialhealthcare.com  United States   Nashville  Axial Healthcare\n1         athearth.com          Japan           1          Athearth",
      "text/html": "<div>\n<style scoped>\n    .dataframe tbody tr th:only-of-type {\n        vertical-align: middle;\n    }\n\n    .dataframe tbody tr th {\n        vertical-align: top;\n    }\n\n    .dataframe thead th {\n        text-align: right;\n    }\n</style>\n<table border=\"1\" class=\"dataframe\">\n  <thead>\n    <tr style=\"text-align: right;\">\n      <th></th>\n      <th>site</th>\n      <th>country</th>\n      <th>city_region</th>\n      <th>company</th>\n    </tr>\n  </thead>\n  <tbody>\n    <tr>\n      <th>0</th>\n      <td>axialhealthcare.com</td>\n      <td>United States</td>\n      <td>Nashville</td>\n      <td>Axial Healthcare</td>\n    </tr>\n    <tr>\n      <th>1</th>\n      <td>athearth.com</td>\n      <td>Japan</td>\n      <td>1</td>\n      <td>Athearth</td>\n    </tr>\n  </tbody>\n</table>\n</div>"
     },
     "execution_count": 5,
     "metadata": {},
     "output_type": "execute_result"
    }
   ],
   "source": [
    "df_list_of_companies = pd.read_csv(filepath_or_buffer=paths.raw_list_of_companies,header=None,\n",
    "                                   names=['site','country','city_region','company'])\n",
    "df_list_of_companies.head(2)"
   ]
  },
  {
   "cell_type": "code",
   "execution_count": 6,
   "metadata": {
    "ExecuteTime": {
     "end_time": "2023-06-18T21:16:20.205769500Z",
     "start_time": "2023-06-18T21:16:02.478159700Z"
    }
   },
   "outputs": [
    {
     "data": {
      "text/plain": "     patent_id name_first name_last           city country  \\\n0  20140380145      Rajiv   Puranik  San Francisco      US   \n1  20140380145     Thomas   Wilsher  San Francisco      US   \n\n                 grant_date  grant_year                  app_date  app_year  \\\n0  2014-12-25T00:00:00.000Z        2014  2014-05-08T00:00:00.000Z      2014   \n1  2014-12-25T00:00:00.000Z        2014  2014-05-08T00:00:00.000Z      2014   \n\n   class_distinct_count class_concat  class_IPC_distinct_count  \\\n0                   1.0         G06F                       1.0   \n1                   1.0         G06F                       1.0   \n\n  class_IPC_concat    CountryName                 CityCountry       Ecosystem  \\\n0             G06F  United States  San FranciscoUnited States  Silicon Valley   \n1             G06F  United States  San FranciscoUnited States  Silicon Valley   \n\n      GoogleCity  \n0  San Francisco  \n1  San Francisco  ",
      "text/html": "<div>\n<style scoped>\n    .dataframe tbody tr th:only-of-type {\n        vertical-align: middle;\n    }\n\n    .dataframe tbody tr th {\n        vertical-align: top;\n    }\n\n    .dataframe thead th {\n        text-align: right;\n    }\n</style>\n<table border=\"1\" class=\"dataframe\">\n  <thead>\n    <tr style=\"text-align: right;\">\n      <th></th>\n      <th>patent_id</th>\n      <th>name_first</th>\n      <th>name_last</th>\n      <th>city</th>\n      <th>country</th>\n      <th>grant_date</th>\n      <th>grant_year</th>\n      <th>app_date</th>\n      <th>app_year</th>\n      <th>class_distinct_count</th>\n      <th>class_concat</th>\n      <th>class_IPC_distinct_count</th>\n      <th>class_IPC_concat</th>\n      <th>CountryName</th>\n      <th>CityCountry</th>\n      <th>Ecosystem</th>\n      <th>GoogleCity</th>\n    </tr>\n  </thead>\n  <tbody>\n    <tr>\n      <th>0</th>\n      <td>20140380145</td>\n      <td>Rajiv</td>\n      <td>Puranik</td>\n      <td>San Francisco</td>\n      <td>US</td>\n      <td>2014-12-25T00:00:00.000Z</td>\n      <td>2014</td>\n      <td>2014-05-08T00:00:00.000Z</td>\n      <td>2014</td>\n      <td>1.0</td>\n      <td>G06F</td>\n      <td>1.0</td>\n      <td>G06F</td>\n      <td>United States</td>\n      <td>San FranciscoUnited States</td>\n      <td>Silicon Valley</td>\n      <td>San Francisco</td>\n    </tr>\n    <tr>\n      <th>1</th>\n      <td>20140380145</td>\n      <td>Thomas</td>\n      <td>Wilsher</td>\n      <td>San Francisco</td>\n      <td>US</td>\n      <td>2014-12-25T00:00:00.000Z</td>\n      <td>2014</td>\n      <td>2014-05-08T00:00:00.000Z</td>\n      <td>2014</td>\n      <td>1.0</td>\n      <td>G06F</td>\n      <td>1.0</td>\n      <td>G06F</td>\n      <td>United States</td>\n      <td>San FranciscoUnited States</td>\n      <td>Silicon Valley</td>\n      <td>San Francisco</td>\n    </tr>\n  </tbody>\n</table>\n</div>"
     },
     "execution_count": 6,
     "metadata": {},
     "output_type": "execute_result"
    }
   ],
   "source": [
    "df_raw_patents = pd.read_parquet(paths.raw_parquet_raw_patents)\n",
    "df_raw_patents.head(2)"
   ]
  },
  {
   "cell_type": "code",
   "execution_count": 7,
   "metadata": {
    "ExecuteTime": {
     "end_time": "2023-06-18T21:16:22.332938400Z",
     "start_time": "2023-06-18T21:16:20.192769200Z"
    }
   },
   "outputs": [
    {
     "data": {
      "text/plain": "     patent_id            owner      city_region country  year\n0  20130080687  Siamack Nemazie  Los Altos Hills      US  2013\n1  20130080687      NGON VAN LE          Fremont      US  2013\n2  20130031357     Dieter Weiss          Munchen      DE  2013\n3  20130031357   Gisela Meister          Munchen      DE  2013\n4  20130031357     Jan Eichholz          Munchen      DE  2013\n5  20130031357   Florian Gawlas          Munchen      DE  2013\n6  20130075135      Jee-Soo MOK      Gyeonggi-do      KR  2013\n7  20130077850   Takehiro Hirai           Ushiku      JP  2013\n8  20130077850      Kozo Miyake      Hitachinaka      JP  2013\n9  20130077850    Junko Konishi      Hitachinaka      JP  2013",
      "text/html": "<div>\n<style scoped>\n    .dataframe tbody tr th:only-of-type {\n        vertical-align: middle;\n    }\n\n    .dataframe tbody tr th {\n        vertical-align: top;\n    }\n\n    .dataframe thead th {\n        text-align: right;\n    }\n</style>\n<table border=\"1\" class=\"dataframe\">\n  <thead>\n    <tr style=\"text-align: right;\">\n      <th></th>\n      <th>patent_id</th>\n      <th>owner</th>\n      <th>city_region</th>\n      <th>country</th>\n      <th>year</th>\n    </tr>\n  </thead>\n  <tbody>\n    <tr>\n      <th>0</th>\n      <td>20130080687</td>\n      <td>Siamack Nemazie</td>\n      <td>Los Altos Hills</td>\n      <td>US</td>\n      <td>2013</td>\n    </tr>\n    <tr>\n      <th>1</th>\n      <td>20130080687</td>\n      <td>NGON VAN LE</td>\n      <td>Fremont</td>\n      <td>US</td>\n      <td>2013</td>\n    </tr>\n    <tr>\n      <th>2</th>\n      <td>20130031357</td>\n      <td>Dieter Weiss</td>\n      <td>Munchen</td>\n      <td>DE</td>\n      <td>2013</td>\n    </tr>\n    <tr>\n      <th>3</th>\n      <td>20130031357</td>\n      <td>Gisela Meister</td>\n      <td>Munchen</td>\n      <td>DE</td>\n      <td>2013</td>\n    </tr>\n    <tr>\n      <th>4</th>\n      <td>20130031357</td>\n      <td>Jan Eichholz</td>\n      <td>Munchen</td>\n      <td>DE</td>\n      <td>2013</td>\n    </tr>\n    <tr>\n      <th>5</th>\n      <td>20130031357</td>\n      <td>Florian Gawlas</td>\n      <td>Munchen</td>\n      <td>DE</td>\n      <td>2013</td>\n    </tr>\n    <tr>\n      <th>6</th>\n      <td>20130075135</td>\n      <td>Jee-Soo MOK</td>\n      <td>Gyeonggi-do</td>\n      <td>KR</td>\n      <td>2013</td>\n    </tr>\n    <tr>\n      <th>7</th>\n      <td>20130077850</td>\n      <td>Takehiro Hirai</td>\n      <td>Ushiku</td>\n      <td>JP</td>\n      <td>2013</td>\n    </tr>\n    <tr>\n      <th>8</th>\n      <td>20130077850</td>\n      <td>Kozo Miyake</td>\n      <td>Hitachinaka</td>\n      <td>JP</td>\n      <td>2013</td>\n    </tr>\n    <tr>\n      <th>9</th>\n      <td>20130077850</td>\n      <td>Junko Konishi</td>\n      <td>Hitachinaka</td>\n      <td>JP</td>\n      <td>2013</td>\n    </tr>\n  </tbody>\n</table>\n</div>"
     },
     "execution_count": 7,
     "metadata": {},
     "output_type": "execute_result"
    }
   ],
   "source": [
    "df_table_for_applicants = pd.read_csv(filepath_or_buffer=paths.raw_table_for_applicants, header=None, names=['patent_id','owner','city_region','country','year'])\n",
    "df_table_for_applicants.head(10)"
   ]
  },
  {
   "attachments": {},
   "cell_type": "markdown",
   "metadata": {},
   "source": [
    "# Data Understanding"
   ]
  },
  {
   "attachments": {},
   "cell_type": "markdown",
   "metadata": {},
   "source": [
    "## 1 - What is the format of the data?"
   ]
  },
  {
   "attachments": {},
   "cell_type": "markdown",
   "metadata": {},
   "source": [
    "The data is in CSV and XLSX format, but the files larger than 1GB were converted to Parquet. This improved reading performance and reduced storage space usage."
   ]
  },
  {
   "attachments": {},
   "cell_type": "markdown",
   "metadata": {},
   "source": [
    "## 2 Identify the method used to capture the data--for example, ODBC."
   ]
  },
  {
   "attachments": {},
   "cell_type": "markdown",
   "metadata": {},
   "source": [
    "The data provided was in csv and xlsx extension and we are using pandas library to read it.\n"
   ]
  },
  {
   "attachments": {},
   "cell_type": "markdown",
   "metadata": {},
   "source": [
    "## 2 - How large is the database (in numbers of rows and columns)?"
   ]
  },
  {
   "cell_type": "code",
   "execution_count": 8,
   "metadata": {
    "ExecuteTime": {
     "end_time": "2023-06-18T21:16:22.354719900Z",
     "start_time": "2023-06-18T21:16:22.333939200Z"
    }
   },
   "outputs": [
    {
     "name": "stdout",
     "output_type": "stream",
     "text": [
      "Dataset abstract.parquet         |  Row: 4184916\t Columns: 2\n",
      "Dataset IPC Titles.xlsx          |  Row: 633\t\t Columns: 2\n",
      "Dataset ListOfCompanies.csv      |  Row: 4236727\t Columns: 4\n",
      "Dataset raw_patents.parquet      |  Row: 9830924\t Columns: 17\n",
      "Dataset table_for_applicants.csv |  Row: 1417244\t Columns: 5\n"
     ]
    }
   ],
   "source": [
    "print(f'Dataset abstract.parquet         |  Row: {df_abstract.shape[0]}\\t Columns: {df_abstract.shape[1]}')\n",
    "print(f'Dataset IPC Titles.xlsx          |  Row: {df_ipc.shape[0]}\\t\\t Columns: {df_ipc.shape[1]}')\n",
    "print(f'Dataset ListOfCompanies.csv      |  Row: {df_list_of_companies.shape[0]}\\t Columns: {df_list_of_companies.shape[1]}')\n",
    "print(f'Dataset raw_patents.parquet      |  Row: {df_raw_patents.shape[0]}\\t Columns: {df_raw_patents.shape[1]}')\n",
    "print(f'Dataset table_for_applicants.csv |  Row: {df_table_for_applicants.shape[0]}\\t Columns: {df_table_for_applicants.shape[1]}')"
   ]
  },
  {
   "attachments": {},
   "cell_type": "markdown",
   "metadata": {},
   "source": [
    "## 3 - Data Quality"
   ]
  },
  {
   "cell_type": "code",
   "execution_count": 9,
   "metadata": {
    "ExecuteTime": {
     "end_time": "2023-06-18T21:16:22.405962400Z",
     "start_time": "2023-06-18T21:16:22.352720600Z"
    }
   },
   "outputs": [],
   "source": [
    "list_df = [df_abstract, df_ipc, df_list_of_companies, df_raw_patents, df_table_for_applicants]\n",
    "dict_df = {\n",
    "    'abst': 'Abstract',\n",
    "    'ipc': 'IPC Titles',\n",
    "    'comp': 'List of Companies',\n",
    "    'pat': 'Raw Patents',\n",
    "    'app': 'Table for Applicants'\n",
    "}"
   ]
  },
  {
   "attachments": {},
   "cell_type": "markdown",
   "metadata": {},
   "source": [
    "### Análise de Nulos"
   ]
  },
  {
   "cell_type": "code",
   "execution_count": 10,
   "metadata": {
    "ExecuteTime": {
     "end_time": "2023-06-18T21:16:52.596654600Z",
     "start_time": "2023-06-18T21:16:22.377965300Z"
    }
   },
   "outputs": [
    {
     "name": "stdout",
     "output_type": "stream",
     "text": [
      "####################################################################################################\n",
      "\n",
      "Abstract\n",
      "\n"
     ]
    },
    {
     "data": {
      "text/plain": "             Abstract  null_percentage\n0  publication_number              0.0\n1            abstract              0.0",
      "text/html": "<div>\n<style scoped>\n    .dataframe tbody tr th:only-of-type {\n        vertical-align: middle;\n    }\n\n    .dataframe tbody tr th {\n        vertical-align: top;\n    }\n\n    .dataframe thead th {\n        text-align: right;\n    }\n</style>\n<table border=\"1\" class=\"dataframe\">\n  <thead>\n    <tr style=\"text-align: right;\">\n      <th></th>\n      <th>Abstract</th>\n      <th>null_percentage</th>\n    </tr>\n  </thead>\n  <tbody>\n    <tr>\n      <th>0</th>\n      <td>publication_number</td>\n      <td>0.0</td>\n    </tr>\n    <tr>\n      <th>1</th>\n      <td>abstract</td>\n      <td>0.0</td>\n    </tr>\n  </tbody>\n</table>\n</div>"
     },
     "metadata": {},
     "output_type": "display_data"
    },
    {
     "name": "stdout",
     "output_type": "stream",
     "text": [
      "____________________________________________________________________________________________________\n",
      "\n",
      "####################################################################################################\n",
      "\n",
      "IPC Titles\n",
      "\n"
     ]
    },
    {
     "data": {
      "text/plain": "  IPC Titles  null_percentage\n1      title              0.2\n0        IPC              0.0",
      "text/html": "<div>\n<style scoped>\n    .dataframe tbody tr th:only-of-type {\n        vertical-align: middle;\n    }\n\n    .dataframe tbody tr th {\n        vertical-align: top;\n    }\n\n    .dataframe thead th {\n        text-align: right;\n    }\n</style>\n<table border=\"1\" class=\"dataframe\">\n  <thead>\n    <tr style=\"text-align: right;\">\n      <th></th>\n      <th>IPC Titles</th>\n      <th>null_percentage</th>\n    </tr>\n  </thead>\n  <tbody>\n    <tr>\n      <th>1</th>\n      <td>title</td>\n      <td>0.2</td>\n    </tr>\n    <tr>\n      <th>0</th>\n      <td>IPC</td>\n      <td>0.0</td>\n    </tr>\n  </tbody>\n</table>\n</div>"
     },
     "metadata": {},
     "output_type": "display_data"
    },
    {
     "name": "stdout",
     "output_type": "stream",
     "text": [
      "____________________________________________________________________________________________________\n",
      "\n",
      "####################################################################################################\n",
      "\n",
      "List of Companies\n",
      "\n"
     ]
    },
    {
     "data": {
      "text/plain": "  List of Companies  null_percentage\n3           company             39.6\n2       city_region             32.8\n1           country             28.2\n0              site              0.0",
      "text/html": "<div>\n<style scoped>\n    .dataframe tbody tr th:only-of-type {\n        vertical-align: middle;\n    }\n\n    .dataframe tbody tr th {\n        vertical-align: top;\n    }\n\n    .dataframe thead th {\n        text-align: right;\n    }\n</style>\n<table border=\"1\" class=\"dataframe\">\n  <thead>\n    <tr style=\"text-align: right;\">\n      <th></th>\n      <th>List of Companies</th>\n      <th>null_percentage</th>\n    </tr>\n  </thead>\n  <tbody>\n    <tr>\n      <th>3</th>\n      <td>company</td>\n      <td>39.6</td>\n    </tr>\n    <tr>\n      <th>2</th>\n      <td>city_region</td>\n      <td>32.8</td>\n    </tr>\n    <tr>\n      <th>1</th>\n      <td>country</td>\n      <td>28.2</td>\n    </tr>\n    <tr>\n      <th>0</th>\n      <td>site</td>\n      <td>0.0</td>\n    </tr>\n  </tbody>\n</table>\n</div>"
     },
     "metadata": {},
     "output_type": "display_data"
    },
    {
     "name": "stdout",
     "output_type": "stream",
     "text": [
      "____________________________________________________________________________________________________\n",
      "\n",
      "####################################################################################################\n",
      "\n",
      "Raw Patents\n",
      "\n"
     ]
    },
    {
     "data": {
      "text/plain": "                 Raw Patents  null_percentage\n15                 Ecosystem             25.7\n16                GoogleCity             24.4\n12          class_IPC_concat              0.5\n9       class_distinct_count              0.4\n11  class_IPC_distinct_count              0.4\n10              class_concat              0.4\n14               CityCountry              0.0\n13               CountryName              0.0\n0                  patent_id              0.0\n1                 name_first              0.0\n7                   app_date              0.0\n6                 grant_year              0.0\n5                 grant_date              0.0\n4                    country              0.0\n3                       city              0.0\n2                  name_last              0.0\n8                   app_year              0.0",
      "text/html": "<div>\n<style scoped>\n    .dataframe tbody tr th:only-of-type {\n        vertical-align: middle;\n    }\n\n    .dataframe tbody tr th {\n        vertical-align: top;\n    }\n\n    .dataframe thead th {\n        text-align: right;\n    }\n</style>\n<table border=\"1\" class=\"dataframe\">\n  <thead>\n    <tr style=\"text-align: right;\">\n      <th></th>\n      <th>Raw Patents</th>\n      <th>null_percentage</th>\n    </tr>\n  </thead>\n  <tbody>\n    <tr>\n      <th>15</th>\n      <td>Ecosystem</td>\n      <td>25.7</td>\n    </tr>\n    <tr>\n      <th>16</th>\n      <td>GoogleCity</td>\n      <td>24.4</td>\n    </tr>\n    <tr>\n      <th>12</th>\n      <td>class_IPC_concat</td>\n      <td>0.5</td>\n    </tr>\n    <tr>\n      <th>9</th>\n      <td>class_distinct_count</td>\n      <td>0.4</td>\n    </tr>\n    <tr>\n      <th>11</th>\n      <td>class_IPC_distinct_count</td>\n      <td>0.4</td>\n    </tr>\n    <tr>\n      <th>10</th>\n      <td>class_concat</td>\n      <td>0.4</td>\n    </tr>\n    <tr>\n      <th>14</th>\n      <td>CityCountry</td>\n      <td>0.0</td>\n    </tr>\n    <tr>\n      <th>13</th>\n      <td>CountryName</td>\n      <td>0.0</td>\n    </tr>\n    <tr>\n      <th>0</th>\n      <td>patent_id</td>\n      <td>0.0</td>\n    </tr>\n    <tr>\n      <th>1</th>\n      <td>name_first</td>\n      <td>0.0</td>\n    </tr>\n    <tr>\n      <th>7</th>\n      <td>app_date</td>\n      <td>0.0</td>\n    </tr>\n    <tr>\n      <th>6</th>\n      <td>grant_year</td>\n      <td>0.0</td>\n    </tr>\n    <tr>\n      <th>5</th>\n      <td>grant_date</td>\n      <td>0.0</td>\n    </tr>\n    <tr>\n      <th>4</th>\n      <td>country</td>\n      <td>0.0</td>\n    </tr>\n    <tr>\n      <th>3</th>\n      <td>city</td>\n      <td>0.0</td>\n    </tr>\n    <tr>\n      <th>2</th>\n      <td>name_last</td>\n      <td>0.0</td>\n    </tr>\n    <tr>\n      <th>8</th>\n      <td>app_year</td>\n      <td>0.0</td>\n    </tr>\n  </tbody>\n</table>\n</div>"
     },
     "metadata": {},
     "output_type": "display_data"
    },
    {
     "name": "stdout",
     "output_type": "stream",
     "text": [
      "____________________________________________________________________________________________________\n",
      "\n",
      "####################################################################################################\n",
      "\n",
      "Table for Applicants\n",
      "\n"
     ]
    },
    {
     "data": {
      "text/plain": "  Table for Applicants  null_percentage\n2          city_region              0.5\n0            patent_id              0.0\n1                owner              0.0\n3              country              0.0\n4                 year              0.0",
      "text/html": "<div>\n<style scoped>\n    .dataframe tbody tr th:only-of-type {\n        vertical-align: middle;\n    }\n\n    .dataframe tbody tr th {\n        vertical-align: top;\n    }\n\n    .dataframe thead th {\n        text-align: right;\n    }\n</style>\n<table border=\"1\" class=\"dataframe\">\n  <thead>\n    <tr style=\"text-align: right;\">\n      <th></th>\n      <th>Table for Applicants</th>\n      <th>null_percentage</th>\n    </tr>\n  </thead>\n  <tbody>\n    <tr>\n      <th>2</th>\n      <td>city_region</td>\n      <td>0.5</td>\n    </tr>\n    <tr>\n      <th>0</th>\n      <td>patent_id</td>\n      <td>0.0</td>\n    </tr>\n    <tr>\n      <th>1</th>\n      <td>owner</td>\n      <td>0.0</td>\n    </tr>\n    <tr>\n      <th>3</th>\n      <td>country</td>\n      <td>0.0</td>\n    </tr>\n    <tr>\n      <th>4</th>\n      <td>year</td>\n      <td>0.0</td>\n    </tr>\n  </tbody>\n</table>\n</div>"
     },
     "metadata": {},
     "output_type": "display_data"
    },
    {
     "name": "stdout",
     "output_type": "stream",
     "text": [
      "____________________________________________________________________________________________________\n",
      "\n"
     ]
    }
   ],
   "source": [
    "null_list = []\n",
    "for df, values in zip(list_df, dict_df.values()):\n",
    "    df_null_percentage = pd.DataFrame(df.isnull().sum()* 100 / len(df)).reset_index()\n",
    "    df_null_percentage.rename(columns={'index': values, 0:'null_percentage'}, inplace = True)\n",
    "\n",
    "    df_null_percentage.null_percentage = df_null_percentage.null_percentage.round(1)\n",
    "    null_list.append(df_null_percentage)\n",
    "    print('#'*100 + '\\n')\n",
    "    print(values+ '\\n')\n",
    "    display(df_null_percentage.sort_values(by = 'null_percentage', ascending=False))\n",
    "    print('_'*100 + '\\n')"
   ]
  },
  {
   "attachments": {},
   "cell_type": "markdown",
   "metadata": {},
   "source": [
    "### Análise de Duplicados"
   ]
  },
  {
   "cell_type": "code",
   "execution_count": 11,
   "metadata": {
    "ExecuteTime": {
     "end_time": "2023-06-18T21:17:57.861419100Z",
     "start_time": "2023-06-18T21:16:52.600653900Z"
    }
   },
   "outputs": [
    {
     "name": "stdout",
     "output_type": "stream",
     "text": [
      "####################################################################################################\n",
      "\n",
      "Abstract\n",
      "\n"
     ]
    },
    {
     "data": {
      "text/plain": "   duplicated    count\n0       False  4184916",
      "text/html": "<div>\n<style scoped>\n    .dataframe tbody tr th:only-of-type {\n        vertical-align: middle;\n    }\n\n    .dataframe tbody tr th {\n        vertical-align: top;\n    }\n\n    .dataframe thead th {\n        text-align: right;\n    }\n</style>\n<table border=\"1\" class=\"dataframe\">\n  <thead>\n    <tr style=\"text-align: right;\">\n      <th></th>\n      <th>duplicated</th>\n      <th>count</th>\n    </tr>\n  </thead>\n  <tbody>\n    <tr>\n      <th>0</th>\n      <td>False</td>\n      <td>4184916</td>\n    </tr>\n  </tbody>\n</table>\n</div>"
     },
     "metadata": {},
     "output_type": "display_data"
    },
    {
     "name": "stdout",
     "output_type": "stream",
     "text": [
      "____________________________________________________________________________________________________\n",
      "\n",
      "####################################################################################################\n",
      "\n",
      "IPC Titles\n",
      "\n"
     ]
    },
    {
     "data": {
      "text/plain": "   duplicated  count\n0       False    633",
      "text/html": "<div>\n<style scoped>\n    .dataframe tbody tr th:only-of-type {\n        vertical-align: middle;\n    }\n\n    .dataframe tbody tr th {\n        vertical-align: top;\n    }\n\n    .dataframe thead th {\n        text-align: right;\n    }\n</style>\n<table border=\"1\" class=\"dataframe\">\n  <thead>\n    <tr style=\"text-align: right;\">\n      <th></th>\n      <th>duplicated</th>\n      <th>count</th>\n    </tr>\n  </thead>\n  <tbody>\n    <tr>\n      <th>0</th>\n      <td>False</td>\n      <td>633</td>\n    </tr>\n  </tbody>\n</table>\n</div>"
     },
     "metadata": {},
     "output_type": "display_data"
    },
    {
     "name": "stdout",
     "output_type": "stream",
     "text": [
      "____________________________________________________________________________________________________\n",
      "\n",
      "####################################################################################################\n",
      "\n",
      "List of Companies\n",
      "\n"
     ]
    },
    {
     "data": {
      "text/plain": "   duplicated    count\n0       False  4236677\n1        True       50",
      "text/html": "<div>\n<style scoped>\n    .dataframe tbody tr th:only-of-type {\n        vertical-align: middle;\n    }\n\n    .dataframe tbody tr th {\n        vertical-align: top;\n    }\n\n    .dataframe thead th {\n        text-align: right;\n    }\n</style>\n<table border=\"1\" class=\"dataframe\">\n  <thead>\n    <tr style=\"text-align: right;\">\n      <th></th>\n      <th>duplicated</th>\n      <th>count</th>\n    </tr>\n  </thead>\n  <tbody>\n    <tr>\n      <th>0</th>\n      <td>False</td>\n      <td>4236677</td>\n    </tr>\n    <tr>\n      <th>1</th>\n      <td>True</td>\n      <td>50</td>\n    </tr>\n  </tbody>\n</table>\n</div>"
     },
     "metadata": {},
     "output_type": "display_data"
    },
    {
     "name": "stdout",
     "output_type": "stream",
     "text": [
      "____________________________________________________________________________________________________\n",
      "\n",
      "####################################################################################################\n",
      "\n",
      "Raw Patents\n",
      "\n"
     ]
    },
    {
     "data": {
      "text/plain": "   duplicated    count\n0       False  9829883\n1        True     1041",
      "text/html": "<div>\n<style scoped>\n    .dataframe tbody tr th:only-of-type {\n        vertical-align: middle;\n    }\n\n    .dataframe tbody tr th {\n        vertical-align: top;\n    }\n\n    .dataframe thead th {\n        text-align: right;\n    }\n</style>\n<table border=\"1\" class=\"dataframe\">\n  <thead>\n    <tr style=\"text-align: right;\">\n      <th></th>\n      <th>duplicated</th>\n      <th>count</th>\n    </tr>\n  </thead>\n  <tbody>\n    <tr>\n      <th>0</th>\n      <td>False</td>\n      <td>9829883</td>\n    </tr>\n    <tr>\n      <th>1</th>\n      <td>True</td>\n      <td>1041</td>\n    </tr>\n  </tbody>\n</table>\n</div>"
     },
     "metadata": {},
     "output_type": "display_data"
    },
    {
     "name": "stdout",
     "output_type": "stream",
     "text": [
      "____________________________________________________________________________________________________\n",
      "\n",
      "####################################################################################################\n",
      "\n",
      "Table for Applicants\n",
      "\n"
     ]
    },
    {
     "data": {
      "text/plain": "   duplicated    count\n0       False  1417141\n1        True      103",
      "text/html": "<div>\n<style scoped>\n    .dataframe tbody tr th:only-of-type {\n        vertical-align: middle;\n    }\n\n    .dataframe tbody tr th {\n        vertical-align: top;\n    }\n\n    .dataframe thead th {\n        text-align: right;\n    }\n</style>\n<table border=\"1\" class=\"dataframe\">\n  <thead>\n    <tr style=\"text-align: right;\">\n      <th></th>\n      <th>duplicated</th>\n      <th>count</th>\n    </tr>\n  </thead>\n  <tbody>\n    <tr>\n      <th>0</th>\n      <td>False</td>\n      <td>1417141</td>\n    </tr>\n    <tr>\n      <th>1</th>\n      <td>True</td>\n      <td>103</td>\n    </tr>\n  </tbody>\n</table>\n</div>"
     },
     "metadata": {},
     "output_type": "display_data"
    },
    {
     "name": "stdout",
     "output_type": "stream",
     "text": [
      "____________________________________________________________________________________________________\n",
      "\n"
     ]
    }
   ],
   "source": [
    "duplicated_list = []\n",
    "for df, values in zip(list_df, dict_df.values()):\n",
    "    df_duplicated = pd.DataFrame(df.duplicated().value_counts()).reset_index()\n",
    "    df_duplicated.rename(columns={'index': 'duplicated', 0: values}, inplace = True)\n",
    "    duplicated_list.append(df_duplicated)\n",
    "\n",
    "    print('#'*100 + '\\n')\n",
    "    print(values+ '\\n')\n",
    "    display(df_duplicated)\n",
    "    print('_'*100 + '\\n')"
   ]
  },
  {
   "attachments": {},
   "cell_type": "markdown",
   "metadata": {},
   "source": [
    "## 4 - Does the data include characteristics relevant to the business question?"
   ]
  },
  {
   "attachments": {},
   "cell_type": "markdown",
   "metadata": {},
   "source": [
    "Apparently they have all data needed to answer the questions"
   ]
  },
  {
   "attachments": {},
   "cell_type": "markdown",
   "metadata": {},
   "source": [
    "\n",
    "## 5 - What data types are present (symbolic, numeric, etc.)?"
   ]
  },
  {
   "cell_type": "code",
   "execution_count": 12,
   "metadata": {
    "ExecuteTime": {
     "end_time": "2023-06-18T21:17:58.062014800Z",
     "start_time": "2023-06-18T21:17:57.904426900Z"
    }
   },
   "outputs": [
    {
     "name": "stdout",
     "output_type": "stream",
     "text": [
      "####################################################################################################\n",
      "\n",
      "Abstract\n",
      "\n"
     ]
    },
    {
     "data": {
      "text/plain": "             Abstract data_type\n0  publication_number     int64\n1            abstract    object",
      "text/html": "<div>\n<style scoped>\n    .dataframe tbody tr th:only-of-type {\n        vertical-align: middle;\n    }\n\n    .dataframe tbody tr th {\n        vertical-align: top;\n    }\n\n    .dataframe thead th {\n        text-align: right;\n    }\n</style>\n<table border=\"1\" class=\"dataframe\">\n  <thead>\n    <tr style=\"text-align: right;\">\n      <th></th>\n      <th>Abstract</th>\n      <th>data_type</th>\n    </tr>\n  </thead>\n  <tbody>\n    <tr>\n      <th>0</th>\n      <td>publication_number</td>\n      <td>int64</td>\n    </tr>\n    <tr>\n      <th>1</th>\n      <td>abstract</td>\n      <td>object</td>\n    </tr>\n  </tbody>\n</table>\n</div>"
     },
     "metadata": {},
     "output_type": "display_data"
    },
    {
     "name": "stdout",
     "output_type": "stream",
     "text": [
      "____________________________________________________________________________________________________\n",
      "\n",
      "####################################################################################################\n",
      "\n",
      "IPC Titles\n",
      "\n"
     ]
    },
    {
     "data": {
      "text/plain": "  IPC Titles data_type\n0        IPC    object\n1      title    object",
      "text/html": "<div>\n<style scoped>\n    .dataframe tbody tr th:only-of-type {\n        vertical-align: middle;\n    }\n\n    .dataframe tbody tr th {\n        vertical-align: top;\n    }\n\n    .dataframe thead th {\n        text-align: right;\n    }\n</style>\n<table border=\"1\" class=\"dataframe\">\n  <thead>\n    <tr style=\"text-align: right;\">\n      <th></th>\n      <th>IPC Titles</th>\n      <th>data_type</th>\n    </tr>\n  </thead>\n  <tbody>\n    <tr>\n      <th>0</th>\n      <td>IPC</td>\n      <td>object</td>\n    </tr>\n    <tr>\n      <th>1</th>\n      <td>title</td>\n      <td>object</td>\n    </tr>\n  </tbody>\n</table>\n</div>"
     },
     "metadata": {},
     "output_type": "display_data"
    },
    {
     "name": "stdout",
     "output_type": "stream",
     "text": [
      "____________________________________________________________________________________________________\n",
      "\n",
      "####################################################################################################\n",
      "\n",
      "List of Companies\n",
      "\n"
     ]
    },
    {
     "data": {
      "text/plain": "  List of Companies data_type\n0              site    object\n1           country    object\n2       city_region    object\n3           company    object",
      "text/html": "<div>\n<style scoped>\n    .dataframe tbody tr th:only-of-type {\n        vertical-align: middle;\n    }\n\n    .dataframe tbody tr th {\n        vertical-align: top;\n    }\n\n    .dataframe thead th {\n        text-align: right;\n    }\n</style>\n<table border=\"1\" class=\"dataframe\">\n  <thead>\n    <tr style=\"text-align: right;\">\n      <th></th>\n      <th>List of Companies</th>\n      <th>data_type</th>\n    </tr>\n  </thead>\n  <tbody>\n    <tr>\n      <th>0</th>\n      <td>site</td>\n      <td>object</td>\n    </tr>\n    <tr>\n      <th>1</th>\n      <td>country</td>\n      <td>object</td>\n    </tr>\n    <tr>\n      <th>2</th>\n      <td>city_region</td>\n      <td>object</td>\n    </tr>\n    <tr>\n      <th>3</th>\n      <td>company</td>\n      <td>object</td>\n    </tr>\n  </tbody>\n</table>\n</div>"
     },
     "metadata": {},
     "output_type": "display_data"
    },
    {
     "name": "stdout",
     "output_type": "stream",
     "text": [
      "____________________________________________________________________________________________________\n",
      "\n",
      "####################################################################################################\n",
      "\n",
      "Raw Patents\n",
      "\n"
     ]
    },
    {
     "data": {
      "text/plain": "                 Raw Patents data_type\n0                  patent_id     int64\n1                 name_first    object\n2                  name_last    object\n3                       city    object\n4                    country    object\n5                 grant_date    object\n6                 grant_year     int64\n7                   app_date    object\n8                   app_year     int64\n9       class_distinct_count   float64\n10              class_concat    object\n11  class_IPC_distinct_count   float64\n12          class_IPC_concat    object\n13               CountryName    object\n14               CityCountry    object\n15                 Ecosystem    object\n16                GoogleCity    object",
      "text/html": "<div>\n<style scoped>\n    .dataframe tbody tr th:only-of-type {\n        vertical-align: middle;\n    }\n\n    .dataframe tbody tr th {\n        vertical-align: top;\n    }\n\n    .dataframe thead th {\n        text-align: right;\n    }\n</style>\n<table border=\"1\" class=\"dataframe\">\n  <thead>\n    <tr style=\"text-align: right;\">\n      <th></th>\n      <th>Raw Patents</th>\n      <th>data_type</th>\n    </tr>\n  </thead>\n  <tbody>\n    <tr>\n      <th>0</th>\n      <td>patent_id</td>\n      <td>int64</td>\n    </tr>\n    <tr>\n      <th>1</th>\n      <td>name_first</td>\n      <td>object</td>\n    </tr>\n    <tr>\n      <th>2</th>\n      <td>name_last</td>\n      <td>object</td>\n    </tr>\n    <tr>\n      <th>3</th>\n      <td>city</td>\n      <td>object</td>\n    </tr>\n    <tr>\n      <th>4</th>\n      <td>country</td>\n      <td>object</td>\n    </tr>\n    <tr>\n      <th>5</th>\n      <td>grant_date</td>\n      <td>object</td>\n    </tr>\n    <tr>\n      <th>6</th>\n      <td>grant_year</td>\n      <td>int64</td>\n    </tr>\n    <tr>\n      <th>7</th>\n      <td>app_date</td>\n      <td>object</td>\n    </tr>\n    <tr>\n      <th>8</th>\n      <td>app_year</td>\n      <td>int64</td>\n    </tr>\n    <tr>\n      <th>9</th>\n      <td>class_distinct_count</td>\n      <td>float64</td>\n    </tr>\n    <tr>\n      <th>10</th>\n      <td>class_concat</td>\n      <td>object</td>\n    </tr>\n    <tr>\n      <th>11</th>\n      <td>class_IPC_distinct_count</td>\n      <td>float64</td>\n    </tr>\n    <tr>\n      <th>12</th>\n      <td>class_IPC_concat</td>\n      <td>object</td>\n    </tr>\n    <tr>\n      <th>13</th>\n      <td>CountryName</td>\n      <td>object</td>\n    </tr>\n    <tr>\n      <th>14</th>\n      <td>CityCountry</td>\n      <td>object</td>\n    </tr>\n    <tr>\n      <th>15</th>\n      <td>Ecosystem</td>\n      <td>object</td>\n    </tr>\n    <tr>\n      <th>16</th>\n      <td>GoogleCity</td>\n      <td>object</td>\n    </tr>\n  </tbody>\n</table>\n</div>"
     },
     "metadata": {},
     "output_type": "display_data"
    },
    {
     "name": "stdout",
     "output_type": "stream",
     "text": [
      "____________________________________________________________________________________________________\n",
      "\n",
      "####################################################################################################\n",
      "\n",
      "Table for Applicants\n",
      "\n"
     ]
    },
    {
     "data": {
      "text/plain": "  Table for Applicants data_type\n0            patent_id     int64\n1                owner    object\n2          city_region    object\n3              country    object\n4                 year     int64",
      "text/html": "<div>\n<style scoped>\n    .dataframe tbody tr th:only-of-type {\n        vertical-align: middle;\n    }\n\n    .dataframe tbody tr th {\n        vertical-align: top;\n    }\n\n    .dataframe thead th {\n        text-align: right;\n    }\n</style>\n<table border=\"1\" class=\"dataframe\">\n  <thead>\n    <tr style=\"text-align: right;\">\n      <th></th>\n      <th>Table for Applicants</th>\n      <th>data_type</th>\n    </tr>\n  </thead>\n  <tbody>\n    <tr>\n      <th>0</th>\n      <td>patent_id</td>\n      <td>int64</td>\n    </tr>\n    <tr>\n      <th>1</th>\n      <td>owner</td>\n      <td>object</td>\n    </tr>\n    <tr>\n      <th>2</th>\n      <td>city_region</td>\n      <td>object</td>\n    </tr>\n    <tr>\n      <th>3</th>\n      <td>country</td>\n      <td>object</td>\n    </tr>\n    <tr>\n      <th>4</th>\n      <td>year</td>\n      <td>int64</td>\n    </tr>\n  </tbody>\n</table>\n</div>"
     },
     "metadata": {},
     "output_type": "display_data"
    },
    {
     "name": "stdout",
     "output_type": "stream",
     "text": [
      "____________________________________________________________________________________________________\n",
      "\n"
     ]
    }
   ],
   "source": [
    "list_dtypes = []\n",
    "for df, values in zip(list_df, dict_df.values()):\n",
    "\n",
    "    df_dtypes = pd.DataFrame(df.dtypes).reset_index()\n",
    "    df_dtypes.rename(columns={'index': values, 0:'data_type'}, inplace=True )\n",
    "    list_dtypes.append(df_dtypes)\n",
    "\n",
    "    print('#'*100 + '\\n')\n",
    "    print(values+ '\\n')\n",
    "    display(df_dtypes)\n",
    "    print('_'*100 + '\\n')"
   ]
  },
  {
   "attachments": {},
   "cell_type": "markdown",
   "metadata": {},
   "source": [
    "## 6 - Did you compute basic statistics for the key attributes? What insight did this provide into the business question?"
   ]
  },
  {
   "attachments": {},
   "cell_type": "markdown",
   "metadata": {},
   "source": []
  },
  {
   "attachments": {},
   "cell_type": "markdown",
   "metadata": {},
   "source": [
    "## 7 - Are you able to prioritize relevant attributes? If not, are business analysts available to provide further insight?"
   ]
  },
  {
   "cell_type": "code",
   "execution_count": 13,
   "metadata": {
    "ExecuteTime": {
     "end_time": "2023-06-18T21:17:58.062014800Z",
     "start_time": "2023-06-18T21:17:57.984286800Z"
    }
   },
   "outputs": [],
   "source": [
    "##"
   ]
  },
  {
   "attachments": {},
   "cell_type": "markdown",
   "metadata": {},
   "source": [
    "## 8 - What sort of hypotheses have you formed about the data?"
   ]
  },
  {
   "cell_type": "code",
   "execution_count": 13,
   "metadata": {
    "ExecuteTime": {
     "end_time": "2023-06-18T21:17:58.062014800Z",
     "start_time": "2023-06-18T21:17:57.985297400Z"
    }
   },
   "outputs": [],
   "source": []
  },
  {
   "attachments": {},
   "cell_type": "markdown",
   "metadata": {},
   "source": [
    "## 9 - Which attributes seem promising for further analysis?"
   ]
  },
  {
   "cell_type": "code",
   "execution_count": 13,
   "metadata": {
    "ExecuteTime": {
     "end_time": "2023-06-18T21:17:58.062014800Z",
     "start_time": "2023-06-18T21:17:57.985297400Z"
    }
   },
   "outputs": [],
   "source": []
  },
  {
   "attachments": {},
   "cell_type": "markdown",
   "metadata": {},
   "source": [
    "## 10 - Have your explorations revealed new characteristics about the data?"
   ]
  },
  {
   "cell_type": "code",
   "execution_count": 13,
   "metadata": {
    "ExecuteTime": {
     "end_time": "2023-06-18T21:17:58.062014800Z",
     "start_time": "2023-06-18T21:17:57.985297400Z"
    }
   },
   "outputs": [],
   "source": []
  },
  {
   "attachments": {},
   "cell_type": "markdown",
   "metadata": {},
   "source": [
    "## 11 - How have these explorations changed your initial hypothesis?"
   ]
  },
  {
   "cell_type": "code",
   "execution_count": 13,
   "metadata": {
    "ExecuteTime": {
     "end_time": "2023-06-18T21:17:58.063014800Z",
     "start_time": "2023-06-18T21:17:57.990565Z"
    }
   },
   "outputs": [],
   "source": []
  },
  {
   "attachments": {},
   "cell_type": "markdown",
   "metadata": {},
   "source": [
    "## 12 - Can you identify particular subsets of data for later use?"
   ]
  },
  {
   "cell_type": "code",
   "execution_count": 13,
   "metadata": {
    "ExecuteTime": {
     "end_time": "2023-06-18T21:17:58.064015600Z",
     "start_time": "2023-06-18T21:17:57.997688500Z"
    }
   },
   "outputs": [],
   "source": []
  },
  {
   "attachments": {},
   "cell_type": "markdown",
   "metadata": {},
   "source": [
    "## 13 - Take another look at your data mining goals. Has this exploration altered the goals?"
   ]
  },
  {
   "cell_type": "code",
   "execution_count": 13,
   "metadata": {
    "ExecuteTime": {
     "end_time": "2023-06-18T21:17:58.064015600Z",
     "start_time": "2023-06-18T21:17:58.004007400Z"
    }
   },
   "outputs": [],
   "source": []
  },
  {
   "cell_type": "markdown",
   "source": [
    "# Data Cleaning"
   ],
   "metadata": {
    "collapsed": false
   }
  },
  {
   "cell_type": "markdown",
   "source": [
    "## List of Companies"
   ],
   "metadata": {
    "collapsed": false
   }
  },
  {
   "cell_type": "markdown",
   "source": [
    "### removendo duplicadas"
   ],
   "metadata": {
    "collapsed": false
   }
  },
  {
   "cell_type": "code",
   "execution_count": 14,
   "outputs": [
    {
     "data": {
      "text/plain": "False    4236677\nTrue          50\nName: count, dtype: int64"
     },
     "execution_count": 14,
     "metadata": {},
     "output_type": "execute_result"
    }
   ],
   "source": [
    "df_list_of_companies.duplicated().value_counts()"
   ],
   "metadata": {
    "collapsed": false,
    "ExecuteTime": {
     "end_time": "2023-06-18T21:18:05.456879Z",
     "start_time": "2023-06-18T21:17:58.009016900Z"
    }
   }
  },
  {
   "cell_type": "code",
   "execution_count": 15,
   "outputs": [],
   "source": [
    "df_list_of_companies.drop_duplicates(inplace=True)"
   ],
   "metadata": {
    "collapsed": false,
    "ExecuteTime": {
     "end_time": "2023-06-18T21:18:11.231642700Z",
     "start_time": "2023-06-18T21:18:05.455876700Z"
    }
   }
  },
  {
   "cell_type": "code",
   "execution_count": 16,
   "outputs": [
    {
     "data": {
      "text/plain": "                  site        country city_region           company\n0  axialhealthcare.com  United States   Nashville  Axial Healthcare\n1         athearth.com          Japan           1          Athearth\n2      madebykawet.com         France       Paris             Kawet\n3       vw-aabenraa.dk        Denmark    Aabenraa               NaN\n4         de.babor.com        Germany      Aachen               NaN",
      "text/html": "<div>\n<style scoped>\n    .dataframe tbody tr th:only-of-type {\n        vertical-align: middle;\n    }\n\n    .dataframe tbody tr th {\n        vertical-align: top;\n    }\n\n    .dataframe thead th {\n        text-align: right;\n    }\n</style>\n<table border=\"1\" class=\"dataframe\">\n  <thead>\n    <tr style=\"text-align: right;\">\n      <th></th>\n      <th>site</th>\n      <th>country</th>\n      <th>city_region</th>\n      <th>company</th>\n    </tr>\n  </thead>\n  <tbody>\n    <tr>\n      <th>0</th>\n      <td>axialhealthcare.com</td>\n      <td>United States</td>\n      <td>Nashville</td>\n      <td>Axial Healthcare</td>\n    </tr>\n    <tr>\n      <th>1</th>\n      <td>athearth.com</td>\n      <td>Japan</td>\n      <td>1</td>\n      <td>Athearth</td>\n    </tr>\n    <tr>\n      <th>2</th>\n      <td>madebykawet.com</td>\n      <td>France</td>\n      <td>Paris</td>\n      <td>Kawet</td>\n    </tr>\n    <tr>\n      <th>3</th>\n      <td>vw-aabenraa.dk</td>\n      <td>Denmark</td>\n      <td>Aabenraa</td>\n      <td>NaN</td>\n    </tr>\n    <tr>\n      <th>4</th>\n      <td>de.babor.com</td>\n      <td>Germany</td>\n      <td>Aachen</td>\n      <td>NaN</td>\n    </tr>\n  </tbody>\n</table>\n</div>"
     },
     "execution_count": 16,
     "metadata": {},
     "output_type": "execute_result"
    }
   ],
   "source": [
    "df_list_of_companies.head()"
   ],
   "metadata": {
    "collapsed": false,
    "ExecuteTime": {
     "end_time": "2023-06-18T21:18:11.252583Z",
     "start_time": "2023-06-18T21:18:11.234646Z"
    }
   }
  },
  {
   "cell_type": "markdown",
   "source": [],
   "metadata": {
    "collapsed": false
   }
  },
  {
   "cell_type": "markdown",
   "source": [
    "### Tratando Nulos"
   ],
   "metadata": {
    "collapsed": false
   }
  },
  {
   "cell_type": "code",
   "execution_count": 17,
   "outputs": [
    {
     "data": {
      "text/plain": "site           0.000000\ncountry        0.281609\ncity_region    0.328378\ncompany        0.396280\ndtype: float64"
     },
     "execution_count": 17,
     "metadata": {},
     "output_type": "execute_result"
    }
   ],
   "source": [
    "df_list_of_companies.isnull().sum()/df_list_of_companies.shape[0]"
   ],
   "metadata": {
    "collapsed": false,
    "ExecuteTime": {
     "end_time": "2023-06-18T21:18:12.039879300Z",
     "start_time": "2023-06-18T21:18:11.251587500Z"
    }
   }
  },
  {
   "cell_type": "code",
   "execution_count": 18,
   "outputs": [
    {
     "data": {
      "text/plain": "                        site         country city_region               company\n0        axialhealthcare.com   United States   Nashville      Axial Healthcare\n1               athearth.com           Japan           1              Athearth\n2            madebykawet.com          France       Paris                 Kawet\n3             vw-aabenraa.dk         Denmark    Aabenraa                   NaN\n4               de.babor.com         Germany      Aachen                   NaN\n...                      ...             ...         ...                   ...\n4236722           zzps.co.uk  United Kingdom  Addlestone                  ZZPS\n4236723           zzspkj.com           China    Zhengzho   Shunpeng Technology\n4236724           zzu.edu.cn           China         NaN  Zhengzhou University\n4236725          zzzippy.com             NaN         NaN   Stump Metal Roofing\n4236726     zzztraveling.com             NaN         NaN                   NaN\n\n[4236677 rows x 4 columns]",
      "text/html": "<div>\n<style scoped>\n    .dataframe tbody tr th:only-of-type {\n        vertical-align: middle;\n    }\n\n    .dataframe tbody tr th {\n        vertical-align: top;\n    }\n\n    .dataframe thead th {\n        text-align: right;\n    }\n</style>\n<table border=\"1\" class=\"dataframe\">\n  <thead>\n    <tr style=\"text-align: right;\">\n      <th></th>\n      <th>site</th>\n      <th>country</th>\n      <th>city_region</th>\n      <th>company</th>\n    </tr>\n  </thead>\n  <tbody>\n    <tr>\n      <th>0</th>\n      <td>axialhealthcare.com</td>\n      <td>United States</td>\n      <td>Nashville</td>\n      <td>Axial Healthcare</td>\n    </tr>\n    <tr>\n      <th>1</th>\n      <td>athearth.com</td>\n      <td>Japan</td>\n      <td>1</td>\n      <td>Athearth</td>\n    </tr>\n    <tr>\n      <th>2</th>\n      <td>madebykawet.com</td>\n      <td>France</td>\n      <td>Paris</td>\n      <td>Kawet</td>\n    </tr>\n    <tr>\n      <th>3</th>\n      <td>vw-aabenraa.dk</td>\n      <td>Denmark</td>\n      <td>Aabenraa</td>\n      <td>NaN</td>\n    </tr>\n    <tr>\n      <th>4</th>\n      <td>de.babor.com</td>\n      <td>Germany</td>\n      <td>Aachen</td>\n      <td>NaN</td>\n    </tr>\n    <tr>\n      <th>...</th>\n      <td>...</td>\n      <td>...</td>\n      <td>...</td>\n      <td>...</td>\n    </tr>\n    <tr>\n      <th>4236722</th>\n      <td>zzps.co.uk</td>\n      <td>United Kingdom</td>\n      <td>Addlestone</td>\n      <td>ZZPS</td>\n    </tr>\n    <tr>\n      <th>4236723</th>\n      <td>zzspkj.com</td>\n      <td>China</td>\n      <td>Zhengzho</td>\n      <td>Shunpeng Technology</td>\n    </tr>\n    <tr>\n      <th>4236724</th>\n      <td>zzu.edu.cn</td>\n      <td>China</td>\n      <td>NaN</td>\n      <td>Zhengzhou University</td>\n    </tr>\n    <tr>\n      <th>4236725</th>\n      <td>zzzippy.com</td>\n      <td>NaN</td>\n      <td>NaN</td>\n      <td>Stump Metal Roofing</td>\n    </tr>\n    <tr>\n      <th>4236726</th>\n      <td>zzztraveling.com</td>\n      <td>NaN</td>\n      <td>NaN</td>\n      <td>NaN</td>\n    </tr>\n  </tbody>\n</table>\n<p>4236677 rows × 4 columns</p>\n</div>"
     },
     "execution_count": 18,
     "metadata": {},
     "output_type": "execute_result"
    }
   ],
   "source": [
    "df_list_of_companies"
   ],
   "metadata": {
    "collapsed": false,
    "ExecuteTime": {
     "end_time": "2023-06-18T21:18:12.040879500Z",
     "start_time": "2023-06-18T21:18:12.038880800Z"
    }
   }
  },
  {
   "cell_type": "code",
   "execution_count": 18,
   "outputs": [],
   "source": [],
   "metadata": {
    "collapsed": false,
    "ExecuteTime": {
     "end_time": "2023-06-18T21:18:12.064878200Z",
     "start_time": "2023-06-18T21:18:12.039879300Z"
    }
   }
  }
 ],
 "metadata": {
  "kernelspec": {
   "display_name": "Python 3",
   "language": "python",
   "name": "python3"
  },
  "language_info": {
   "codemirror_mode": {
    "name": "ipython",
    "version": 3
   },
   "file_extension": ".py",
   "mimetype": "text/x-python",
   "name": "python",
   "nbconvert_exporter": "python",
   "pygments_lexer": "ipython3",
   "version": "3.11.0"
  },
  "orig_nbformat": 4
 },
 "nbformat": 4,
 "nbformat_minor": 2
}
