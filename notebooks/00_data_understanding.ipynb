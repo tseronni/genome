{
 "cells": [
  {
   "attachments": {},
   "cell_type": "markdown",
   "metadata": {},
   "source": [
    "# <center><font color='#D0533E'><b>Startup Genome</b></font> - <font color='#0D0D2F'><b>Grupo 3</b></font></center>\n",
    "\n",
    "<center><font color='#02231c'><b>Módulo 1</font></b></center>\n",
    "<p><center>\n",
    "<table>\n",
    "  <tr>\n",
    "    <th><b>Nome</b></th>\n",
    "    <th><b>Contato</b></th>\n",
    "  </tr>\n",
    "  <tr>\n",
    "    <td>Fulano1</td>\n",
    "    <td><a href=\"https://www.linkedin.com/in/leo-koki-shashiki/\">Linkedin</a></td>\n",
    "  </tr>\n",
    "  <tr>\n",
    "    <td>Rafael Costa</td>\n",
    "    <td><a href=\"https://www.linkedin.com/in/rafael-costa-a642752b/\">Linkedin</a></td>\n",
    "  </tr>\n",
    "  <tr>\n",
    "    <td>Thiago Seronni Mendonça</td>\n",
    "    <td><a href=\"https://www.linkedin.com/in/thiagoseronni/\">Linkedin</a></td>\n",
    "  </tr>\n",
    "  <tr>\n",
    "    <td>Leo Koki Shashiki</td>\n",
    "    <td><a href=\"https://www.linkedin.com/in/leo-koki-shashiki/\">Linkedin</a></td>\n",
    "  </tr>\n",
    "</font></table>"
   ]
  },
  {
   "attachments": {},
   "cell_type": "markdown",
   "metadata": {},
   "source": [
    "Startup Genome’s Global Startup Ecosystem Report (GSER) is powered by the world’s most comprehensive and quality controlled dataset on startup ecosystems. Informed by information on 3.5 million startups across 290 global ecosystems, our data and insights are the product of over a decade of independent research and policy work.\n",
    "\n",
    "GSER 2023 ranks the top 30 and 10 runner-up global ecosystems, and includes a top 100 ranking of emerging ecosystems. It also takes a look at startup communities from a regional perspective, separately ranking ecosystems in Africa, Asia, Europe, Latin America, MENA, North America, and Oceania."
   ]
  },
  {
   "attachments": {},
   "cell_type": "markdown",
   "metadata": {},
   "source": [
    "Referências: https://www.ibm.com/docs/en/spss-modeler/saas?topic=data-writing-description-report\n",
    "\n",
    "Miro:   https://miro.com/app/board/uXjVMC_icTM=/ \\\n",
    "Trello: https://trello.com/b/bjkRHTjw/sirius-proj-1 \\\n",
    "GitHub: https://github.com/joaomorossini/startup_genome"
   ]
  },
  {
   "attachments": {},
   "cell_type": "markdown",
   "metadata": {},
   "source": [
    "# BIBLIOTECAS UTILIZADAS"
   ]
  },
  {
   "cell_type": "code",
   "execution_count": 1,
   "metadata": {
    "ExecuteTime": {
     "end_time": "2023-08-26T22:17:19.150824Z",
     "start_time": "2023-08-26T22:17:17.418525Z"
    }
   },
   "outputs": [],
   "source": [
    "import pandas as pd\n",
    "import os\n",
    "import sys"
   ]
  },
  {
   "cell_type": "code",
   "execution_count": null,
   "metadata": {
    "is_executing": true,
    "ExecuteTime": {
     "start_time": "2023-08-26T22:17:19.151610Z"
    }
   },
   "outputs": [
    {
     "name": "stderr",
     "output_type": "stream",
     "text": [
      "2023-08-26 19:17:19,161 - INFO - Creating abstract.parquet...\n"
     ]
    }
   ],
   "source": [
    "from src.utils.UsefulPaths import Paths\n",
    "paths = Paths()"
   ]
  },
  {
   "attachments": {},
   "cell_type": "markdown",
   "metadata": {},
   "source": [
    "# Importando Datasets"
   ]
  },
  {
   "cell_type": "code",
   "execution_count": null,
   "metadata": {
    "is_executing": true
   },
   "outputs": [],
   "source": [
    "df_abstract = pd.read_parquet(paths.raw_parquet_abstract)\n",
    "df_abstract.head(2)"
   ]
  },
  {
   "cell_type": "code",
   "execution_count": null,
   "metadata": {
    "is_executing": true
   },
   "outputs": [],
   "source": [
    "df_ipc = pd.read_excel(paths.raw_ipc_titles)\n",
    "df_ipc.head(5)"
   ]
  },
  {
   "cell_type": "code",
   "execution_count": null,
   "metadata": {
    "is_executing": true
   },
   "outputs": [],
   "source": [
    "df_list_of_companies = pd.read_csv(filepath_or_buffer=paths.raw_list_of_companies,header=None,\n",
    "                                   names=['site','country','city_region','company'])\n",
    "df_list_of_companies.head(2)"
   ]
  },
  {
   "cell_type": "code",
   "execution_count": null,
   "metadata": {
    "is_executing": true
   },
   "outputs": [],
   "source": [
    "df_raw_patents = pd.read_parquet(paths.raw_parquet_raw_patents)\n",
    "df_raw_patents.head(2)"
   ]
  },
  {
   "cell_type": "code",
   "execution_count": null,
   "metadata": {
    "is_executing": true
   },
   "outputs": [],
   "source": [
    "df_table_for_applicants = pd.read_csv(filepath_or_buffer=paths.raw_table_for_applicants, header=None, names=['patent_id','owner','city_region','country','year'])\n",
    "df_table_for_applicants.head(10)"
   ]
  },
  {
   "attachments": {},
   "cell_type": "markdown",
   "metadata": {},
   "source": [
    "# Data Understanding"
   ]
  },
  {
   "attachments": {},
   "cell_type": "markdown",
   "metadata": {},
   "source": [
    "## 1 - What is the format of the data?"
   ]
  },
  {
   "attachments": {},
   "cell_type": "markdown",
   "metadata": {},
   "source": [
    "The data is in CSV and XLSX format, but the files larger than 1GB were converted to Parquet. This improved reading performance and reduced storage space usage."
   ]
  },
  {
   "attachments": {},
   "cell_type": "markdown",
   "metadata": {},
   "source": [
    "## 2 Identify the method used to capture the data--for example, ODBC."
   ]
  },
  {
   "attachments": {},
   "cell_type": "markdown",
   "metadata": {},
   "source": [
    "The data provided was in csv and xlsx extension and we are using pandas library to read it.\n"
   ]
  },
  {
   "attachments": {},
   "cell_type": "markdown",
   "metadata": {},
   "source": [
    "## 2 - How large is the database (in numbers of rows and columns)?"
   ]
  },
  {
   "cell_type": "code",
   "execution_count": null,
   "metadata": {
    "is_executing": true
   },
   "outputs": [],
   "source": [
    "print(f'Dataset abstract.parquet         |  Row: {df_abstract.shape[0]}\\t Columns: {df_abstract.shape[1]}')\n",
    "print(f'Dataset IPC Titles.xlsx          |  Row: {df_ipc.shape[0]}\\t\\t Columns: {df_ipc.shape[1]}')\n",
    "print(f'Dataset ListOfCompanies.csv      |  Row: {df_list_of_companies.shape[0]}\\t Columns: {df_list_of_companies.shape[1]}')\n",
    "print(f'Dataset raw_patents.parquet      |  Row: {df_raw_patents.shape[0]}\\t Columns: {df_raw_patents.shape[1]}')\n",
    "print(f'Dataset table_for_applicants.csv |  Row: {df_table_for_applicants.shape[0]}\\t Columns: {df_table_for_applicants.shape[1]}')"
   ]
  },
  {
   "attachments": {},
   "cell_type": "markdown",
   "metadata": {},
   "source": [
    "## 3 - Data Quality"
   ]
  },
  {
   "cell_type": "code",
   "execution_count": null,
   "metadata": {
    "is_executing": true
   },
   "outputs": [],
   "source": [
    "list_df = [df_abstract, df_ipc, df_list_of_companies, df_raw_patents, df_table_for_applicants]\n",
    "dict_df = {\n",
    "    'abst': 'Abstract',\n",
    "    'ipc': 'IPC Titles',\n",
    "    'comp': 'List of Companies',\n",
    "    'pat': 'Raw Patents',\n",
    "    'app': 'Table for Applicants'\n",
    "}"
   ]
  },
  {
   "attachments": {},
   "cell_type": "markdown",
   "metadata": {},
   "source": [
    "### Análise de Nulos"
   ]
  },
  {
   "cell_type": "code",
   "execution_count": null,
   "metadata": {
    "is_executing": true
   },
   "outputs": [],
   "source": [
    "null_list = []\n",
    "for df, values in zip(list_df, dict_df.values()):\n",
    "    df_null_percentage = pd.DataFrame(df.isnull().sum()* 100 / len(df)).reset_index()\n",
    "    df_null_percentage.rename(columns={'index': values, 0:'null_percentage'}, inplace = True)\n",
    "\n",
    "    df_null_percentage.null_percentage = df_null_percentage.null_percentage.round(1)\n",
    "    null_list.append(df_null_percentage)\n",
    "    print('#'*100 + '\\n')\n",
    "    print(values+ '\\n')\n",
    "    display(df_null_percentage.sort_values(by = 'null_percentage', ascending=False))\n",
    "    print('_'*100 + '\\n')"
   ]
  },
  {
   "attachments": {},
   "cell_type": "markdown",
   "metadata": {},
   "source": [
    "### Análise de Duplicados"
   ]
  },
  {
   "cell_type": "code",
   "execution_count": null,
   "metadata": {
    "is_executing": true
   },
   "outputs": [],
   "source": [
    "duplicated_list = []\n",
    "for df, values in zip(list_df, dict_df.values()):\n",
    "    df_duplicated = pd.DataFrame(df.duplicated().value_counts()).reset_index()\n",
    "    df_duplicated.rename(columns={'index': 'duplicated', 0: values}, inplace = True)\n",
    "    duplicated_list.append(df_duplicated)\n",
    "\n",
    "    print('#'*100 + '\\n')\n",
    "    print(values+ '\\n')\n",
    "    display(df_duplicated)\n",
    "    print('_'*100 + '\\n')"
   ]
  },
  {
   "attachments": {},
   "cell_type": "markdown",
   "metadata": {},
   "source": [
    "## 4 - Does the data include characteristics relevant to the business question?"
   ]
  },
  {
   "attachments": {},
   "cell_type": "markdown",
   "metadata": {},
   "source": [
    "Apparently they have all data needed to answer the questions"
   ]
  },
  {
   "attachments": {},
   "cell_type": "markdown",
   "metadata": {},
   "source": [
    "\n",
    "## 5 - What data types are present (symbolic, numeric, etc.)?"
   ]
  },
  {
   "cell_type": "code",
   "execution_count": null,
   "metadata": {
    "is_executing": true
   },
   "outputs": [],
   "source": [
    "list_dtypes = []\n",
    "for df, values in zip(list_df, dict_df.values()):\n",
    "\n",
    "    df_dtypes = pd.DataFrame(df.dtypes).reset_index()\n",
    "    df_dtypes.rename(columns={'index': values, 0:'data_type'}, inplace=True )\n",
    "    list_dtypes.append(df_dtypes)\n",
    "\n",
    "    print('#'*100 + '\\n')\n",
    "    print(values+ '\\n')\n",
    "    display(df_dtypes)\n",
    "    print('_'*100 + '\\n')"
   ]
  },
  {
   "attachments": {},
   "cell_type": "markdown",
   "metadata": {},
   "source": [
    "## 6 - Did you compute basic statistics for the key attributes? What insight did this provide into the business question?"
   ]
  },
  {
   "attachments": {},
   "cell_type": "markdown",
   "metadata": {},
   "source": []
  },
  {
   "attachments": {},
   "cell_type": "markdown",
   "metadata": {},
   "source": [
    "## 7 - Are you able to prioritize relevant attributes? If not, are business analysts available to provide further insight?"
   ]
  },
  {
   "cell_type": "code",
   "execution_count": null,
   "metadata": {
    "is_executing": true
   },
   "outputs": [],
   "source": [
    "##"
   ]
  },
  {
   "attachments": {},
   "cell_type": "markdown",
   "metadata": {},
   "source": [
    "## 8 - What sort of hypotheses have you formed about the data?"
   ]
  },
  {
   "cell_type": "code",
   "execution_count": null,
   "metadata": {
    "is_executing": true
   },
   "outputs": [],
   "source": []
  },
  {
   "attachments": {},
   "cell_type": "markdown",
   "metadata": {},
   "source": [
    "## 9 - Which attributes seem promising for further analysis?"
   ]
  },
  {
   "cell_type": "code",
   "execution_count": null,
   "metadata": {
    "is_executing": true
   },
   "outputs": [],
   "source": []
  },
  {
   "attachments": {},
   "cell_type": "markdown",
   "metadata": {},
   "source": [
    "## 10 - Have your explorations revealed new characteristics about the data?"
   ]
  },
  {
   "cell_type": "code",
   "execution_count": null,
   "metadata": {
    "is_executing": true
   },
   "outputs": [],
   "source": []
  },
  {
   "attachments": {},
   "cell_type": "markdown",
   "metadata": {},
   "source": [
    "## 11 - How have these explorations changed your initial hypothesis?"
   ]
  },
  {
   "cell_type": "code",
   "execution_count": null,
   "metadata": {
    "is_executing": true
   },
   "outputs": [],
   "source": []
  },
  {
   "attachments": {},
   "cell_type": "markdown",
   "metadata": {},
   "source": [
    "## 12 - Can you identify particular subsets of data for later use?"
   ]
  },
  {
   "cell_type": "code",
   "execution_count": null,
   "metadata": {
    "is_executing": true
   },
   "outputs": [],
   "source": []
  },
  {
   "attachments": {},
   "cell_type": "markdown",
   "metadata": {},
   "source": [
    "## 13 - Take another look at your data mining goals. Has this exploration altered the goals?"
   ]
  },
  {
   "cell_type": "code",
   "execution_count": null,
   "metadata": {
    "is_executing": true
   },
   "outputs": [],
   "source": []
  },
  {
   "cell_type": "markdown",
   "source": [
    "# Data Cleaning"
   ],
   "metadata": {
    "collapsed": false
   }
  },
  {
   "cell_type": "markdown",
   "source": [
    "## List of Companies"
   ],
   "metadata": {
    "collapsed": false
   }
  },
  {
   "cell_type": "markdown",
   "source": [
    "### Removendo Duplicadas"
   ],
   "metadata": {
    "collapsed": false
   }
  },
  {
   "cell_type": "code",
   "execution_count": null,
   "outputs": [],
   "source": [
    "df_list_of_companies.duplicated().value_counts()"
   ],
   "metadata": {
    "collapsed": false,
    "is_executing": true
   }
  },
  {
   "cell_type": "code",
   "execution_count": null,
   "outputs": [],
   "source": [
    "df_list_of_companies.drop_duplicates(inplace=True)"
   ],
   "metadata": {
    "collapsed": false,
    "is_executing": true
   }
  },
  {
   "cell_type": "code",
   "execution_count": null,
   "outputs": [],
   "source": [
    "df_list_of_companies.head()"
   ],
   "metadata": {
    "collapsed": false,
    "is_executing": true
   }
  },
  {
   "cell_type": "markdown",
   "source": [],
   "metadata": {
    "collapsed": false
   }
  },
  {
   "cell_type": "markdown",
   "source": [
    "### Tratando Nulos"
   ],
   "metadata": {
    "collapsed": false
   }
  },
  {
   "cell_type": "code",
   "execution_count": null,
   "outputs": [],
   "source": [
    "df_list_of_companies.isnull().sum()/df_list_of_companies.shape[0]"
   ],
   "metadata": {
    "collapsed": false,
    "is_executing": true
   }
  },
  {
   "cell_type": "code",
   "execution_count": null,
   "outputs": [],
   "source": [
    "df_list_of_companies"
   ],
   "metadata": {
    "collapsed": false,
    "is_executing": true
   }
  },
  {
   "cell_type": "markdown",
   "source": [
    "### Enviando para pasta de arquivos processados"
   ],
   "metadata": {
    "collapsed": false
   }
  },
  {
   "cell_type": "code",
   "execution_count": null,
   "outputs": [],
   "source": [
    "df_list_of_companies.to_csv('..\\data\\processed\\list_of_companies.csv')"
   ],
   "metadata": {
    "collapsed": false,
    "is_executing": true
   }
  },
  {
   "cell_type": "markdown",
   "source": [
    "## Raw Patents"
   ],
   "metadata": {
    "collapsed": false
   }
  },
  {
   "cell_type": "markdown",
   "source": [
    "### Removendo Duplicadas"
   ],
   "metadata": {
    "collapsed": false
   }
  },
  {
   "cell_type": "code",
   "execution_count": null,
   "outputs": [],
   "source": [
    "df_raw_patents.duplicated().value_counts()"
   ],
   "metadata": {
    "collapsed": false,
    "is_executing": true
   }
  },
  {
   "cell_type": "code",
   "execution_count": null,
   "outputs": [],
   "source": [
    "df_raw_patents.drop_duplicates(inplace=True)"
   ],
   "metadata": {
    "collapsed": false,
    "is_executing": true
   }
  },
  {
   "cell_type": "code",
   "execution_count": null,
   "outputs": [],
   "source": [
    "df_raw_patents.head()"
   ],
   "metadata": {
    "collapsed": false,
    "is_executing": true
   }
  },
  {
   "cell_type": "markdown",
   "source": [
    "### Tratando Nulos"
   ],
   "metadata": {
    "collapsed": false
   }
  },
  {
   "cell_type": "code",
   "execution_count": null,
   "outputs": [],
   "source": [
    "df_raw_patents.isnull().sum()/df_list_of_companies.shape[0]*100"
   ],
   "metadata": {
    "collapsed": false,
    "is_executing": true
   }
  },
  {
   "cell_type": "markdown",
   "source": [
    "### Alterando DTypes"
   ],
   "metadata": {
    "collapsed": false
   }
  },
  {
   "cell_type": "code",
   "execution_count": null,
   "outputs": [],
   "source": [
    "df_raw_patents.dtypes"
   ],
   "metadata": {
    "collapsed": false,
    "is_executing": true
   }
  },
  {
   "cell_type": "code",
   "execution_count": null,
   "outputs": [],
   "source": [
    "df_raw_patents.grant_date = pd.to_datetime(df_raw_patents.grant_date, format='%Y-%m-%dT00:00:00.000Z')\n",
    "df_raw_patents.app_date = pd.to_datetime(df_raw_patents.app_date, format='%Y-%m-%dT00:00:00.000Z')\n"
   ],
   "metadata": {
    "collapsed": false,
    "is_executing": true
   }
  },
  {
   "cell_type": "code",
   "execution_count": null,
   "outputs": [],
   "source": [
    "df_raw_patents.head()"
   ],
   "metadata": {
    "collapsed": false,
    "is_executing": true
   }
  },
  {
   "cell_type": "markdown",
   "source": [
    "### Criando Base de relacionamento entre raw patentes e IPC"
   ],
   "metadata": {
    "collapsed": false
   }
  },
  {
   "cell_type": "code",
   "execution_count": null,
   "outputs": [],
   "source": [
    "# Análise de duas colunas aparentemente iguais\n",
    "df_raw_patents[df_raw_patents.class_concat!=df_raw_patents.class_IPC_concat]"
   ],
   "metadata": {
    "collapsed": false,
    "is_executing": true
   }
  },
  {
   "cell_type": "code",
   "execution_count": null,
   "outputs": [],
   "source": [
    "df_raw_patents_IPC = df_raw_patents[['patent_id','class_IPC_concat']]"
   ],
   "metadata": {
    "collapsed": false,
    "is_executing": true
   }
  },
  {
   "cell_type": "code",
   "execution_count": null,
   "outputs": [],
   "source": [
    "df_raw_patents.drop(columns=['class_IPC_concat','class_concat'],inplace=True)"
   ],
   "metadata": {
    "collapsed": false,
    "is_executing": true
   }
  },
  {
   "cell_type": "code",
   "execution_count": null,
   "outputs": [],
   "source": [
    "aux = df_raw_patents_IPC['class_IPC_concat'].str.split(',', expand=True)"
   ],
   "metadata": {
    "collapsed": false,
    "is_executing": true
   }
  },
  {
   "cell_type": "code",
   "execution_count": null,
   "outputs": [],
   "source": [
    "for i in list(aux.columns):\n",
    "    df_raw_patents_IPC[i] = aux[i]"
   ],
   "metadata": {
    "collapsed": false,
    "is_executing": true
   }
  },
  {
   "cell_type": "code",
   "execution_count": null,
   "outputs": [],
   "source": [
    "df_raw_patents_IPC.head()"
   ],
   "metadata": {
    "collapsed": false,
    "is_executing": true
   }
  },
  {
   "cell_type": "code",
   "execution_count": null,
   "outputs": [],
   "source": [
    "lista = list(aux.columns)"
   ],
   "metadata": {
    "collapsed": false,
    "is_executing": true
   }
  },
  {
   "cell_type": "code",
   "execution_count": null,
   "outputs": [],
   "source": [
    "df_raw_patents_IPC = df_raw_patents_IPC.melt(id_vars=['patent_id'], value_vars=lista, value_name='class_IPC')\\\n",
    "    .drop('class_IPC_concat', axis=1)\n"
   ],
   "metadata": {
    "collapsed": false,
    "is_executing": true
   }
  },
  {
   "cell_type": "code",
   "execution_count": null,
   "outputs": [],
   "source": [
    "df_raw_patents_IPC.shape"
   ],
   "metadata": {
    "collapsed": false,
    "is_executing": true
   }
  },
  {
   "cell_type": "code",
   "execution_count": null,
   "outputs": [],
   "source": [],
   "metadata": {
    "collapsed": false,
    "is_executing": true
   }
  }
 ],
 "metadata": {
  "kernelspec": {
   "display_name": "Python 3",
   "language": "python",
   "name": "python3"
  },
  "language_info": {
   "codemirror_mode": {
    "name": "ipython",
    "version": 3
   },
   "file_extension": ".py",
   "mimetype": "text/x-python",
   "name": "python",
   "nbconvert_exporter": "python",
   "pygments_lexer": "ipython3",
   "version": "3.11.0"
  },
  "orig_nbformat": 4
 },
 "nbformat": 4,
 "nbformat_minor": 2
}
