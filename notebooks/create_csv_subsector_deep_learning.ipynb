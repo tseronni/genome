{
 "cells": [
  {
   "cell_type": "code",
   "execution_count": 12,
   "id": "initial_id",
   "metadata": {
    "collapsed": true,
    "ExecuteTime": {
     "end_time": "2023-11-05T16:15:28.654240Z",
     "start_time": "2023-11-05T16:15:28.645433600Z"
    }
   },
   "outputs": [],
   "source": [
    "import json\n",
    "import os\n",
    "import pandas as pd\n",
    "from src.utils.UsefulPaths import Paths\n",
    "from src.utils.SpacyUtils import SpacyUtil\n",
    "pd.set_option('display.float_format', lambda x: '%.2f' % x)"
   ]
  },
  {
   "cell_type": "code",
   "execution_count": 13,
   "outputs": [],
   "source": [
    "paths = Paths()\n",
    "\n",
    "with open(paths.json_subsectors, 'r') as file:\n",
    "    subsectors = json.load(file)"
   ],
   "metadata": {
    "collapsed": false,
    "ExecuteTime": {
     "end_time": "2023-11-05T16:15:28.654240Z",
     "start_time": "2023-11-05T16:15:28.649073500Z"
    }
   },
   "id": "353fefa81dfab1ee"
  },
  {
   "cell_type": "code",
   "execution_count": 14,
   "outputs": [],
   "source": [
    "rows_list = []\n",
    "\n",
    "for subsetor, attributes in subsectors.items():\n",
    "    row = {'subsector': subsetor}\n",
    "    row.update(attributes)\n",
    "    rows_list.append(row)\n",
    "\n",
    "df = pd.DataFrame(rows_list)\n",
    "\n",
    "df.columns = [col.lower().replace(' ', '_') for col in df.columns]\n",
    "\n",
    "df.fillna('', inplace=True)"
   ],
   "metadata": {
    "collapsed": false,
    "ExecuteTime": {
     "end_time": "2023-11-05T16:15:28.655244600Z",
     "start_time": "2023-11-05T16:15:28.652007700Z"
    }
   },
   "id": "deabb6a4de14dedf"
  },
  {
   "cell_type": "code",
   "execution_count": 15,
   "outputs": [
    {
     "data": {
      "text/plain": "                                          subsector  \\\n0   Artificial Intelligence; Big Data and Analytics   \n1               Advanced Manufacturing and Robotics   \n2                                  Clean Technology   \n3                              Financial Technology   \n4                                        Blockchain   \n5                                     Cybersecurity   \n6                            Agriculture Technology   \n7                                          New Food   \n8                            Advertising Technology   \n9                                      Blue Economy   \n10                                    Digital Media   \n11                                           Gaming   \n12               Augmented Reality; Virtual Reality   \n13                           Educational Technology   \n14                                     Industry 4.0   \n15                Biopharmaceutical; Biotechonology   \n16              Medical Technology; Medical devices   \n\n                                           definition  \\\n0   Artificial Intelligence companies offer produc...   \n1   In comparison to Traditional Manufacturing, Ad...   \n2   Cleantech or clean technology is an umbrella t...   \n3   Describes a business that aims at providing fi...   \n4   Companies that develop applications using bloc...   \n5   Cybersecurity is the body of technologies, pro...   \n6   Technologies to help the agriculture industry ...   \n7   New Food includes technologies that can be lev...   \n8   Advertising technology - different types of an...   \n9   Blue economy is the \"sustainable use of ocean ...   \n10  Digital media is any media that is encoded in ...   \n11  Development, marketing and monetization of vid...   \n12  Virtual reality (VR) is an artificial, compute...   \n13  Education Technology (also known as EdTech) re...   \n14  Industry 4.0 is revolutionizing the way compan...   \n15  Biopharma is the sub-sector that includes any ...   \n16  The Medtech sub-sector is primarily focused on...   \n\n                                             keywords  \\\n0   Automated intelligence, assisted intelligence,...   \n1    3d printing, industrial IoT, internet of thin...   \n2   Clean energy, and other forms of environmental...   \n3   Insurance Tech, Risk Management, Trading, Port...   \n4   Distributed ledgers, Digital Mining,Cryptocurr...   \n5   cyber security, network security, data securit...   \n6                                                       \n7   artificial meat, Alternative protein, Plant-ba...   \n8   Conversion/optimization, Email marketing, Mobi...   \n9   ocean sustainability, aquaculture, seafloor ma...   \n10  digitized information, marketing platform, lea...   \n11  gaming platform, video games, online games, ga...   \n12  Mixed Reality, 360 video, frame rate, metavers...   \n13  online education, educational platform, e-lear...   \n14  Internet of Things (IoT), Cloud computing, AI ...   \n15  DNA, Cloning, Genetically designed, Bioenginee...   \n16                                                      \n\n                                           old_name  \\\n0   Artificial Intelligence, Big Data and Analytics   \n1               Advanced Manufacturing and Robotics   \n2                                         Cleantech   \n3                                           Fintech   \n4                                        Blockchain   \n5                                     Cybersecurity   \n6                                            Agtech   \n7                                          New Food   \n8                                            Adtech   \n9                                      Blue Economy   \n10                                    Digital Media   \n11                                           Gaming   \n12                                          AR / VR   \n13                                           Edtech   \n14                                     Industry 4.0   \n15                              Biopharma / Biotech   \n16                        Medtech / Medical devices   \n\n                                         does_include  \\\n0                                                       \n1   Autonomous driving, Industrial robots, Industr...   \n2                                                       \n3                                                       \n4                                                       \n5   Application security, Information security, Ne...   \n6   Precision agriculture - PA is an approach to f...   \n7                                                       \n8                                                       \n9                                                       \n10  Content, Publishing, Blogs, Social Media, Mess...   \n11  PC Gaming, Console Gaming, Mobile Gaming, Smar...   \n12                                                      \n13                                                      \n14                                                      \n15  Biotechnology health care products and vaccine...   \n16                                                      \n\n                                     does_not_include  \n0                                                      \n1                  Traditional manufacturing machines  \n2                         oil and gas, petrochemicals  \n3   Brick & Mortar banks, Old brick and mortar Ins...  \n4                                                      \n5                                                      \n6        Farms, Vineyards, Coffee roasters, Beverages  \n7   alt- proteins based skincare products, cannabi...  \n8   Companies whose products and services are not ...  \n9                                                      \n10                                                     \n11                                                     \n12                                                     \n13                                                     \n14                                                     \n15                                                     \n16                                                     ",
      "text/html": "<div>\n<style scoped>\n    .dataframe tbody tr th:only-of-type {\n        vertical-align: middle;\n    }\n\n    .dataframe tbody tr th {\n        vertical-align: top;\n    }\n\n    .dataframe thead th {\n        text-align: right;\n    }\n</style>\n<table border=\"1\" class=\"dataframe\">\n  <thead>\n    <tr style=\"text-align: right;\">\n      <th></th>\n      <th>subsector</th>\n      <th>definition</th>\n      <th>keywords</th>\n      <th>old_name</th>\n      <th>does_include</th>\n      <th>does_not_include</th>\n    </tr>\n  </thead>\n  <tbody>\n    <tr>\n      <th>0</th>\n      <td>Artificial Intelligence; Big Data and Analytics</td>\n      <td>Artificial Intelligence companies offer produc...</td>\n      <td>Automated intelligence, assisted intelligence,...</td>\n      <td>Artificial Intelligence, Big Data and Analytics</td>\n      <td></td>\n      <td></td>\n    </tr>\n    <tr>\n      <th>1</th>\n      <td>Advanced Manufacturing and Robotics</td>\n      <td>In comparison to Traditional Manufacturing, Ad...</td>\n      <td>3d printing, industrial IoT, internet of thin...</td>\n      <td>Advanced Manufacturing and Robotics</td>\n      <td>Autonomous driving, Industrial robots, Industr...</td>\n      <td>Traditional manufacturing machines</td>\n    </tr>\n    <tr>\n      <th>2</th>\n      <td>Clean Technology</td>\n      <td>Cleantech or clean technology is an umbrella t...</td>\n      <td>Clean energy, and other forms of environmental...</td>\n      <td>Cleantech</td>\n      <td></td>\n      <td>oil and gas, petrochemicals</td>\n    </tr>\n    <tr>\n      <th>3</th>\n      <td>Financial Technology</td>\n      <td>Describes a business that aims at providing fi...</td>\n      <td>Insurance Tech, Risk Management, Trading, Port...</td>\n      <td>Fintech</td>\n      <td></td>\n      <td>Brick &amp; Mortar banks, Old brick and mortar Ins...</td>\n    </tr>\n    <tr>\n      <th>4</th>\n      <td>Blockchain</td>\n      <td>Companies that develop applications using bloc...</td>\n      <td>Distributed ledgers, Digital Mining,Cryptocurr...</td>\n      <td>Blockchain</td>\n      <td></td>\n      <td></td>\n    </tr>\n    <tr>\n      <th>5</th>\n      <td>Cybersecurity</td>\n      <td>Cybersecurity is the body of technologies, pro...</td>\n      <td>cyber security, network security, data securit...</td>\n      <td>Cybersecurity</td>\n      <td>Application security, Information security, Ne...</td>\n      <td></td>\n    </tr>\n    <tr>\n      <th>6</th>\n      <td>Agriculture Technology</td>\n      <td>Technologies to help the agriculture industry ...</td>\n      <td></td>\n      <td>Agtech</td>\n      <td>Precision agriculture - PA is an approach to f...</td>\n      <td>Farms, Vineyards, Coffee roasters, Beverages</td>\n    </tr>\n    <tr>\n      <th>7</th>\n      <td>New Food</td>\n      <td>New Food includes technologies that can be lev...</td>\n      <td>artificial meat, Alternative protein, Plant-ba...</td>\n      <td>New Food</td>\n      <td></td>\n      <td>alt- proteins based skincare products, cannabi...</td>\n    </tr>\n    <tr>\n      <th>8</th>\n      <td>Advertising Technology</td>\n      <td>Advertising technology - different types of an...</td>\n      <td>Conversion/optimization, Email marketing, Mobi...</td>\n      <td>Adtech</td>\n      <td></td>\n      <td>Companies whose products and services are not ...</td>\n    </tr>\n    <tr>\n      <th>9</th>\n      <td>Blue Economy</td>\n      <td>Blue economy is the \"sustainable use of ocean ...</td>\n      <td>ocean sustainability, aquaculture, seafloor ma...</td>\n      <td>Blue Economy</td>\n      <td></td>\n      <td></td>\n    </tr>\n    <tr>\n      <th>10</th>\n      <td>Digital Media</td>\n      <td>Digital media is any media that is encoded in ...</td>\n      <td>digitized information, marketing platform, lea...</td>\n      <td>Digital Media</td>\n      <td>Content, Publishing, Blogs, Social Media, Mess...</td>\n      <td></td>\n    </tr>\n    <tr>\n      <th>11</th>\n      <td>Gaming</td>\n      <td>Development, marketing and monetization of vid...</td>\n      <td>gaming platform, video games, online games, ga...</td>\n      <td>Gaming</td>\n      <td>PC Gaming, Console Gaming, Mobile Gaming, Smar...</td>\n      <td></td>\n    </tr>\n    <tr>\n      <th>12</th>\n      <td>Augmented Reality; Virtual Reality</td>\n      <td>Virtual reality (VR) is an artificial, compute...</td>\n      <td>Mixed Reality, 360 video, frame rate, metavers...</td>\n      <td>AR / VR</td>\n      <td></td>\n      <td></td>\n    </tr>\n    <tr>\n      <th>13</th>\n      <td>Educational Technology</td>\n      <td>Education Technology (also known as EdTech) re...</td>\n      <td>online education, educational platform, e-lear...</td>\n      <td>Edtech</td>\n      <td></td>\n      <td></td>\n    </tr>\n    <tr>\n      <th>14</th>\n      <td>Industry 4.0</td>\n      <td>Industry 4.0 is revolutionizing the way compan...</td>\n      <td>Internet of Things (IoT), Cloud computing, AI ...</td>\n      <td>Industry 4.0</td>\n      <td></td>\n      <td></td>\n    </tr>\n    <tr>\n      <th>15</th>\n      <td>Biopharmaceutical; Biotechonology</td>\n      <td>Biopharma is the sub-sector that includes any ...</td>\n      <td>DNA, Cloning, Genetically designed, Bioenginee...</td>\n      <td>Biopharma / Biotech</td>\n      <td>Biotechnology health care products and vaccine...</td>\n      <td></td>\n    </tr>\n    <tr>\n      <th>16</th>\n      <td>Medical Technology; Medical devices</td>\n      <td>The Medtech sub-sector is primarily focused on...</td>\n      <td></td>\n      <td>Medtech / Medical devices</td>\n      <td></td>\n      <td></td>\n    </tr>\n  </tbody>\n</table>\n</div>"
     },
     "execution_count": 15,
     "metadata": {},
     "output_type": "execute_result"
    }
   ],
   "source": [
    "df"
   ],
   "metadata": {
    "collapsed": false,
    "ExecuteTime": {
     "end_time": "2023-11-05T16:15:28.667184500Z",
     "start_time": "2023-11-05T16:15:28.655244600Z"
    }
   },
   "id": "16b74c33b2de7bf6"
  },
  {
   "cell_type": "code",
   "execution_count": 16,
   "outputs": [
    {
     "data": {
      "text/plain": "  subsector                                         definition keywords  \\\n0    others  Includes all patents that do not fit into the ...            \n\n  old_name does_include                                   does_not_include  \n0   others               Automated intelligence, assisted intelligence,...  ",
      "text/html": "<div>\n<style scoped>\n    .dataframe tbody tr th:only-of-type {\n        vertical-align: middle;\n    }\n\n    .dataframe tbody tr th {\n        vertical-align: top;\n    }\n\n    .dataframe thead th {\n        text-align: right;\n    }\n</style>\n<table border=\"1\" class=\"dataframe\">\n  <thead>\n    <tr style=\"text-align: right;\">\n      <th></th>\n      <th>subsector</th>\n      <th>definition</th>\n      <th>keywords</th>\n      <th>old_name</th>\n      <th>does_include</th>\n      <th>does_not_include</th>\n    </tr>\n  </thead>\n  <tbody>\n    <tr>\n      <th>0</th>\n      <td>others</td>\n      <td>Includes all patents that do not fit into the ...</td>\n      <td></td>\n      <td>others</td>\n      <td></td>\n      <td>Automated intelligence, assisted intelligence,...</td>\n    </tr>\n  </tbody>\n</table>\n</div>"
     },
     "execution_count": 16,
     "metadata": {},
     "output_type": "execute_result"
    }
   ],
   "source": [
    "# ADD OTHERS TO SUBSECTOR DF\n",
    "\n",
    "definition = 'Includes all patents that do not fit into the specific subsectors of Artificial Intelligence; Big Data and Analytics, Advanced Manufacturing and Robotics, Clean Technology, Financial Technology, Blockchain, Cybersecurity, Agriculture Technology, New Foods, Advertising Technology, Blue Economy, Digital Media, Gaming, Augmented Reality; Virtual Reality, Educational Technology, Industry 4.0, Biopharmaceutical; Biotechnology, Medical Technology; Medical Devices'\n",
    "does_not_include = ', '.join(df['keywords'].dropna().unique())\n",
    "\n",
    "df_others = pd.DataFrame({\n",
    "    'subsector': ['others'],\n",
    "    'definition': [definition],\n",
    "    'keywords': [''],\n",
    "    'old_name': ['others'],\n",
    "    'does_include': [''],\n",
    "    'does_not_include': [does_not_include]\n",
    "})\n",
    "\n",
    "df = pd.concat([df, df_others], ignore_index=True)\n",
    "\n",
    "df_others"
   ],
   "metadata": {
    "collapsed": false,
    "ExecuteTime": {
     "end_time": "2023-11-05T16:15:28.667184500Z",
     "start_time": "2023-11-05T16:15:28.662656400Z"
    }
   },
   "id": "1b2e9c8e55e423b3"
  },
  {
   "cell_type": "code",
   "execution_count": 17,
   "outputs": [
    {
     "data": {
      "text/plain": "                                          subsector  \\\n0   Artificial Intelligence; Big Data and Analytics   \n1               Advanced Manufacturing and Robotics   \n2                                  Clean Technology   \n3                              Financial Technology   \n4                                        Blockchain   \n5                                     Cybersecurity   \n6                            Agriculture Technology   \n7                                          New Food   \n8                            Advertising Technology   \n9                                      Blue Economy   \n10                                    Digital Media   \n11                                           Gaming   \n12               Augmented Reality; Virtual Reality   \n13                           Educational Technology   \n14                                     Industry 4.0   \n15                Biopharmaceutical; Biotechonology   \n16              Medical Technology; Medical devices   \n17                                           others   \n\n                                           definition  \\\n0   Artificial Intelligence companies offer produc...   \n1   In comparison to Traditional Manufacturing, Ad...   \n2   Cleantech or clean technology is an umbrella t...   \n3   Describes a business that aims at providing fi...   \n4   Companies that develop applications using bloc...   \n5   Cybersecurity is the body of technologies, pro...   \n6   Technologies to help the agriculture industry ...   \n7   New Food includes technologies that can be lev...   \n8   Advertising technology - different types of an...   \n9   Blue economy is the \"sustainable use of ocean ...   \n10  Digital media is any media that is encoded in ...   \n11  Development, marketing and monetization of vid...   \n12  Virtual reality (VR) is an artificial, compute...   \n13  Education Technology (also known as EdTech) re...   \n14  Industry 4.0 is revolutionizing the way compan...   \n15  Biopharma is the sub-sector that includes any ...   \n16  The Medtech sub-sector is primarily focused on...   \n17  Includes all patents that do not fit into the ...   \n\n                                             keywords  \\\n0   Automated intelligence, assisted intelligence,...   \n1    3d printing, industrial IoT, internet of thin...   \n2   Clean energy, and other forms of environmental...   \n3   Insurance Tech, Risk Management, Trading, Port...   \n4   Distributed ledgers, Digital Mining,Cryptocurr...   \n5   cyber security, network security, data securit...   \n6                                                       \n7   artificial meat, Alternative protein, Plant-ba...   \n8   Conversion/optimization, Email marketing, Mobi...   \n9   ocean sustainability, aquaculture, seafloor ma...   \n10  digitized information, marketing platform, lea...   \n11  gaming platform, video games, online games, ga...   \n12  Mixed Reality, 360 video, frame rate, metavers...   \n13  online education, educational platform, e-lear...   \n14  Internet of Things (IoT), Cloud computing, AI ...   \n15  DNA, Cloning, Genetically designed, Bioenginee...   \n16                                                      \n17                                                      \n\n                                           old_name  \\\n0   Artificial Intelligence, Big Data and Analytics   \n1               Advanced Manufacturing and Robotics   \n2                                         Cleantech   \n3                                           Fintech   \n4                                        Blockchain   \n5                                     Cybersecurity   \n6                                            Agtech   \n7                                          New Food   \n8                                            Adtech   \n9                                      Blue Economy   \n10                                    Digital Media   \n11                                           Gaming   \n12                                          AR / VR   \n13                                           Edtech   \n14                                     Industry 4.0   \n15                              Biopharma / Biotech   \n16                        Medtech / Medical devices   \n17                                           others   \n\n                                         does_include  \\\n0                                                       \n1   Autonomous driving, Industrial robots, Industr...   \n2                                                       \n3                                                       \n4                                                       \n5   Application security, Information security, Ne...   \n6   Precision agriculture - PA is an approach to f...   \n7                                                       \n8                                                       \n9                                                       \n10  Content, Publishing, Blogs, Social Media, Mess...   \n11  PC Gaming, Console Gaming, Mobile Gaming, Smar...   \n12                                                      \n13                                                      \n14                                                      \n15  Biotechnology health care products and vaccine...   \n16                                                      \n17                                                      \n\n                                     does_not_include  \\\n0                                                       \n1                  Traditional manufacturing machines   \n2                         oil and gas, petrochemicals   \n3   Brick & Mortar banks, Old brick and mortar Ins...   \n4                                                       \n5                                                       \n6        Farms, Vineyards, Coffee roasters, Beverages   \n7   alt- proteins based skincare products, cannabi...   \n8   Companies whose products and services are not ...   \n9                                                       \n10                                                      \n11                                                      \n12                                                      \n13                                                      \n14                                                      \n15                                                      \n16                                                      \n17  Automated intelligence, assisted intelligence,...   \n\n                              definition_preprocessed  \\\n0   artificial intelligence company offer product ...   \n1   in comparison to traditional manufacturing adv...   \n2   cleantech or clean technology be an umbrella t...   \n3   describe a business that aim at provide financ...   \n4   company that develop application use blockchai...   \n5   cybersecurity be the body of technology proces...   \n6   technology to help the agriculture industry to...   \n7   new food include technology that can be levera...   \n8   advertising technology different type of analy...   \n9   blue economy be the sustainable use of ocean r...   \n10  digital media be any medium that be encode in ...   \n11  development marketing and monetization of vide...   \n12  virtual reality vr be an artificial computer g...   \n13  education technology also know as edtech refer...   \n14  industry 4.0 be revolutionize the way company ...   \n15  biopharma be the sub sector that include any p...   \n16  the medtech sub sector be primarily focus on d...   \n17  include all patent that do not fit into the sp...   \n\n                                keywords_preprocessed  \\\n0   automated intelligence assist intelligence aug...   \n1     3d printing industrial iot internet of thing...   \n2   clean energy and other form of environmental a...   \n3   insurance tech risk management trading portfol...   \n4   distribute ledger digital mining cryptocurrenc...   \n5   cyber security network security data security ...   \n6                                                       \n7   artificial meat alternative protein plant base...   \n8   conversion optimization email marketing mobile...   \n9   ocean sustainability aquaculture seafloor mapp...   \n10  digitize information marketing platform lead g...   \n11  gaming platform video game online game gaming ...   \n12  mixed reality 360 video frame rate metaverse v...   \n13  online education educational platform e learni...   \n14  internet of things iot cloud computing ai and ...   \n15  dna cloning genetically design bioengineering ...   \n16                                                      \n17                                                      \n\n                            does_include_preprocessed  \\\n0                                                       \n1   autonomous driving industrial robot industrial...   \n2                                                       \n3                                                       \n4                                                       \n5   application security information security netw...   \n6   precision agriculture pa be an approach to far...   \n7                                                       \n8                                                       \n9                                                       \n10  content publishing blogs social media messenge...   \n11  pc gaming console gaming mobile gaming smart g...   \n12                                                      \n13                                                      \n14                                                      \n15  biotechnology health care product and vaccine ...   \n16                                                      \n17                                                      \n\n                        does_not_include_preprocessed  token_definition  \\\n0                                                                    73   \n1                   traditional manufacturing machine                29   \n2                           oil and gas petrochemical                67   \n3   brick mortar bank old brick and mortar insuran...                65   \n4                                                                    52   \n5                                                                    42   \n6            farms vineyards coffee roaster beverages                84   \n7   alt- protein base skincare product cannabis re...                63   \n8   company whose product and service be not focus...                50   \n9                                                                    53   \n10                                                                   43   \n11                                                                   11   \n12                                                                   47   \n13                                                                   55   \n14                                                                  130   \n15                                                                  123   \n16                                                                   45   \n17  automated intelligence assist intelligence aug...                53   \n\n    token_keywords  token_does_include  token_does_not_include  \n0               62                   0                       0  \n1               21                  27                       3  \n2               30                   0                       4  \n3               21                   0                       9  \n4               26                   0                       0  \n5               15                  17                       0  \n6                0                  62                       5  \n7               52                   0                      27  \n8               38                   0                      54  \n9               27                   0                       0  \n10              15                  19                       0  \n11              10                  12                       0  \n12              15                   0                       0  \n13              16                   0                       0  \n14              27                   0                       0  \n15               9                   9                       0  \n16               0                   0                       0  \n17               0                   0                     384  ",
      "text/html": "<div>\n<style scoped>\n    .dataframe tbody tr th:only-of-type {\n        vertical-align: middle;\n    }\n\n    .dataframe tbody tr th {\n        vertical-align: top;\n    }\n\n    .dataframe thead th {\n        text-align: right;\n    }\n</style>\n<table border=\"1\" class=\"dataframe\">\n  <thead>\n    <tr style=\"text-align: right;\">\n      <th></th>\n      <th>subsector</th>\n      <th>definition</th>\n      <th>keywords</th>\n      <th>old_name</th>\n      <th>does_include</th>\n      <th>does_not_include</th>\n      <th>definition_preprocessed</th>\n      <th>keywords_preprocessed</th>\n      <th>does_include_preprocessed</th>\n      <th>does_not_include_preprocessed</th>\n      <th>token_definition</th>\n      <th>token_keywords</th>\n      <th>token_does_include</th>\n      <th>token_does_not_include</th>\n    </tr>\n  </thead>\n  <tbody>\n    <tr>\n      <th>0</th>\n      <td>Artificial Intelligence; Big Data and Analytics</td>\n      <td>Artificial Intelligence companies offer produc...</td>\n      <td>Automated intelligence, assisted intelligence,...</td>\n      <td>Artificial Intelligence, Big Data and Analytics</td>\n      <td></td>\n      <td></td>\n      <td>artificial intelligence company offer product ...</td>\n      <td>automated intelligence assist intelligence aug...</td>\n      <td></td>\n      <td></td>\n      <td>73</td>\n      <td>62</td>\n      <td>0</td>\n      <td>0</td>\n    </tr>\n    <tr>\n      <th>1</th>\n      <td>Advanced Manufacturing and Robotics</td>\n      <td>In comparison to Traditional Manufacturing, Ad...</td>\n      <td>3d printing, industrial IoT, internet of thin...</td>\n      <td>Advanced Manufacturing and Robotics</td>\n      <td>Autonomous driving, Industrial robots, Industr...</td>\n      <td>Traditional manufacturing machines</td>\n      <td>in comparison to traditional manufacturing adv...</td>\n      <td>3d printing industrial iot internet of thing...</td>\n      <td>autonomous driving industrial robot industrial...</td>\n      <td>traditional manufacturing machine</td>\n      <td>29</td>\n      <td>21</td>\n      <td>27</td>\n      <td>3</td>\n    </tr>\n    <tr>\n      <th>2</th>\n      <td>Clean Technology</td>\n      <td>Cleantech or clean technology is an umbrella t...</td>\n      <td>Clean energy, and other forms of environmental...</td>\n      <td>Cleantech</td>\n      <td></td>\n      <td>oil and gas, petrochemicals</td>\n      <td>cleantech or clean technology be an umbrella t...</td>\n      <td>clean energy and other form of environmental a...</td>\n      <td></td>\n      <td>oil and gas petrochemical</td>\n      <td>67</td>\n      <td>30</td>\n      <td>0</td>\n      <td>4</td>\n    </tr>\n    <tr>\n      <th>3</th>\n      <td>Financial Technology</td>\n      <td>Describes a business that aims at providing fi...</td>\n      <td>Insurance Tech, Risk Management, Trading, Port...</td>\n      <td>Fintech</td>\n      <td></td>\n      <td>Brick &amp; Mortar banks, Old brick and mortar Ins...</td>\n      <td>describe a business that aim at provide financ...</td>\n      <td>insurance tech risk management trading portfol...</td>\n      <td></td>\n      <td>brick mortar bank old brick and mortar insuran...</td>\n      <td>65</td>\n      <td>21</td>\n      <td>0</td>\n      <td>9</td>\n    </tr>\n    <tr>\n      <th>4</th>\n      <td>Blockchain</td>\n      <td>Companies that develop applications using bloc...</td>\n      <td>Distributed ledgers, Digital Mining,Cryptocurr...</td>\n      <td>Blockchain</td>\n      <td></td>\n      <td></td>\n      <td>company that develop application use blockchai...</td>\n      <td>distribute ledger digital mining cryptocurrenc...</td>\n      <td></td>\n      <td></td>\n      <td>52</td>\n      <td>26</td>\n      <td>0</td>\n      <td>0</td>\n    </tr>\n    <tr>\n      <th>5</th>\n      <td>Cybersecurity</td>\n      <td>Cybersecurity is the body of technologies, pro...</td>\n      <td>cyber security, network security, data securit...</td>\n      <td>Cybersecurity</td>\n      <td>Application security, Information security, Ne...</td>\n      <td></td>\n      <td>cybersecurity be the body of technology proces...</td>\n      <td>cyber security network security data security ...</td>\n      <td>application security information security netw...</td>\n      <td></td>\n      <td>42</td>\n      <td>15</td>\n      <td>17</td>\n      <td>0</td>\n    </tr>\n    <tr>\n      <th>6</th>\n      <td>Agriculture Technology</td>\n      <td>Technologies to help the agriculture industry ...</td>\n      <td></td>\n      <td>Agtech</td>\n      <td>Precision agriculture - PA is an approach to f...</td>\n      <td>Farms, Vineyards, Coffee roasters, Beverages</td>\n      <td>technology to help the agriculture industry to...</td>\n      <td></td>\n      <td>precision agriculture pa be an approach to far...</td>\n      <td>farms vineyards coffee roaster beverages</td>\n      <td>84</td>\n      <td>0</td>\n      <td>62</td>\n      <td>5</td>\n    </tr>\n    <tr>\n      <th>7</th>\n      <td>New Food</td>\n      <td>New Food includes technologies that can be lev...</td>\n      <td>artificial meat, Alternative protein, Plant-ba...</td>\n      <td>New Food</td>\n      <td></td>\n      <td>alt- proteins based skincare products, cannabi...</td>\n      <td>new food include technology that can be levera...</td>\n      <td>artificial meat alternative protein plant base...</td>\n      <td></td>\n      <td>alt- protein base skincare product cannabis re...</td>\n      <td>63</td>\n      <td>52</td>\n      <td>0</td>\n      <td>27</td>\n    </tr>\n    <tr>\n      <th>8</th>\n      <td>Advertising Technology</td>\n      <td>Advertising technology - different types of an...</td>\n      <td>Conversion/optimization, Email marketing, Mobi...</td>\n      <td>Adtech</td>\n      <td></td>\n      <td>Companies whose products and services are not ...</td>\n      <td>advertising technology different type of analy...</td>\n      <td>conversion optimization email marketing mobile...</td>\n      <td></td>\n      <td>company whose product and service be not focus...</td>\n      <td>50</td>\n      <td>38</td>\n      <td>0</td>\n      <td>54</td>\n    </tr>\n    <tr>\n      <th>9</th>\n      <td>Blue Economy</td>\n      <td>Blue economy is the \"sustainable use of ocean ...</td>\n      <td>ocean sustainability, aquaculture, seafloor ma...</td>\n      <td>Blue Economy</td>\n      <td></td>\n      <td></td>\n      <td>blue economy be the sustainable use of ocean r...</td>\n      <td>ocean sustainability aquaculture seafloor mapp...</td>\n      <td></td>\n      <td></td>\n      <td>53</td>\n      <td>27</td>\n      <td>0</td>\n      <td>0</td>\n    </tr>\n    <tr>\n      <th>10</th>\n      <td>Digital Media</td>\n      <td>Digital media is any media that is encoded in ...</td>\n      <td>digitized information, marketing platform, lea...</td>\n      <td>Digital Media</td>\n      <td>Content, Publishing, Blogs, Social Media, Mess...</td>\n      <td></td>\n      <td>digital media be any medium that be encode in ...</td>\n      <td>digitize information marketing platform lead g...</td>\n      <td>content publishing blogs social media messenge...</td>\n      <td></td>\n      <td>43</td>\n      <td>15</td>\n      <td>19</td>\n      <td>0</td>\n    </tr>\n    <tr>\n      <th>11</th>\n      <td>Gaming</td>\n      <td>Development, marketing and monetization of vid...</td>\n      <td>gaming platform, video games, online games, ga...</td>\n      <td>Gaming</td>\n      <td>PC Gaming, Console Gaming, Mobile Gaming, Smar...</td>\n      <td></td>\n      <td>development marketing and monetization of vide...</td>\n      <td>gaming platform video game online game gaming ...</td>\n      <td>pc gaming console gaming mobile gaming smart g...</td>\n      <td></td>\n      <td>11</td>\n      <td>10</td>\n      <td>12</td>\n      <td>0</td>\n    </tr>\n    <tr>\n      <th>12</th>\n      <td>Augmented Reality; Virtual Reality</td>\n      <td>Virtual reality (VR) is an artificial, compute...</td>\n      <td>Mixed Reality, 360 video, frame rate, metavers...</td>\n      <td>AR / VR</td>\n      <td></td>\n      <td></td>\n      <td>virtual reality vr be an artificial computer g...</td>\n      <td>mixed reality 360 video frame rate metaverse v...</td>\n      <td></td>\n      <td></td>\n      <td>47</td>\n      <td>15</td>\n      <td>0</td>\n      <td>0</td>\n    </tr>\n    <tr>\n      <th>13</th>\n      <td>Educational Technology</td>\n      <td>Education Technology (also known as EdTech) re...</td>\n      <td>online education, educational platform, e-lear...</td>\n      <td>Edtech</td>\n      <td></td>\n      <td></td>\n      <td>education technology also know as edtech refer...</td>\n      <td>online education educational platform e learni...</td>\n      <td></td>\n      <td></td>\n      <td>55</td>\n      <td>16</td>\n      <td>0</td>\n      <td>0</td>\n    </tr>\n    <tr>\n      <th>14</th>\n      <td>Industry 4.0</td>\n      <td>Industry 4.0 is revolutionizing the way compan...</td>\n      <td>Internet of Things (IoT), Cloud computing, AI ...</td>\n      <td>Industry 4.0</td>\n      <td></td>\n      <td></td>\n      <td>industry 4.0 be revolutionize the way company ...</td>\n      <td>internet of things iot cloud computing ai and ...</td>\n      <td></td>\n      <td></td>\n      <td>130</td>\n      <td>27</td>\n      <td>0</td>\n      <td>0</td>\n    </tr>\n    <tr>\n      <th>15</th>\n      <td>Biopharmaceutical; Biotechonology</td>\n      <td>Biopharma is the sub-sector that includes any ...</td>\n      <td>DNA, Cloning, Genetically designed, Bioenginee...</td>\n      <td>Biopharma / Biotech</td>\n      <td>Biotechnology health care products and vaccine...</td>\n      <td></td>\n      <td>biopharma be the sub sector that include any p...</td>\n      <td>dna cloning genetically design bioengineering ...</td>\n      <td>biotechnology health care product and vaccine ...</td>\n      <td></td>\n      <td>123</td>\n      <td>9</td>\n      <td>9</td>\n      <td>0</td>\n    </tr>\n    <tr>\n      <th>16</th>\n      <td>Medical Technology; Medical devices</td>\n      <td>The Medtech sub-sector is primarily focused on...</td>\n      <td></td>\n      <td>Medtech / Medical devices</td>\n      <td></td>\n      <td></td>\n      <td>the medtech sub sector be primarily focus on d...</td>\n      <td></td>\n      <td></td>\n      <td></td>\n      <td>45</td>\n      <td>0</td>\n      <td>0</td>\n      <td>0</td>\n    </tr>\n    <tr>\n      <th>17</th>\n      <td>others</td>\n      <td>Includes all patents that do not fit into the ...</td>\n      <td></td>\n      <td>others</td>\n      <td></td>\n      <td>Automated intelligence, assisted intelligence,...</td>\n      <td>include all patent that do not fit into the sp...</td>\n      <td></td>\n      <td></td>\n      <td>automated intelligence assist intelligence aug...</td>\n      <td>53</td>\n      <td>0</td>\n      <td>0</td>\n      <td>384</td>\n    </tr>\n  </tbody>\n</table>\n</div>"
     },
     "execution_count": 17,
     "metadata": {},
     "output_type": "execute_result"
    }
   ],
   "source": [
    "spacy_util = SpacyUtil(model='en_core_web_sm', lemma=True, remove_stopwords=False, lower=True, remove_numbers=False)\n",
    "\n",
    "df['definition_preprocessed'] = df['definition'].apply(spacy_util.preprocess_text)\n",
    "df['keywords_preprocessed'] = df['keywords'].apply(spacy_util.preprocess_text)\n",
    "df['does_include_preprocessed'] = df['does_include'].apply(spacy_util.preprocess_text)\n",
    "df['does_not_include_preprocessed'] = df['does_not_include'].apply(spacy_util.preprocess_text)\n",
    "\n",
    "df['token_definition'] = df['definition_preprocessed'].apply(lambda x: len(str(x).split()))\n",
    "df['token_keywords'] = df['keywords_preprocessed'].apply(lambda x: len(str(x).split()))\n",
    "df['token_does_include'] = df['does_include_preprocessed'].apply(lambda x: len(str(x).split()))\n",
    "df['token_does_not_include'] = df['does_not_include_preprocessed'].apply(lambda x: len(str(x).split()))\n",
    "\n",
    "df"
   ],
   "metadata": {
    "collapsed": false,
    "ExecuteTime": {
     "end_time": "2023-11-05T16:15:29.279339Z",
     "start_time": "2023-11-05T16:15:28.668183800Z"
    }
   },
   "id": "bb5ff567f284643d"
  },
  {
   "cell_type": "code",
   "execution_count": 18,
   "outputs": [],
   "source": [
    "df.to_csv(os.path.join(paths.data_processed, f'subsector.csv'), index=False)"
   ],
   "metadata": {
    "collapsed": false,
    "ExecuteTime": {
     "end_time": "2023-11-05T16:15:29.279339Z",
     "start_time": "2023-11-05T16:15:29.276680100Z"
    }
   },
   "id": "88bc79b4092bdb58"
  },
  {
   "cell_type": "code",
   "execution_count": null,
   "outputs": [],
   "source": [],
   "metadata": {
    "collapsed": false
   },
   "id": "2cc3144bc33ed987"
  }
 ],
 "metadata": {
  "kernelspec": {
   "display_name": "Python 3",
   "language": "python",
   "name": "python3"
  },
  "language_info": {
   "codemirror_mode": {
    "name": "ipython",
    "version": 2
   },
   "file_extension": ".py",
   "mimetype": "text/x-python",
   "name": "python",
   "nbconvert_exporter": "python",
   "pygments_lexer": "ipython2",
   "version": "2.7.6"
  }
 },
 "nbformat": 4,
 "nbformat_minor": 5
}
