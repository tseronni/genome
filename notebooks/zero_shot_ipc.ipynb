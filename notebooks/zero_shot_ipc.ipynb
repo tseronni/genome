{
 "cells": [
  {
   "cell_type": "code",
   "execution_count": 12,
   "metadata": {
    "collapsed": true,
    "ExecuteTime": {
     "end_time": "2023-09-02T18:15:23.146820Z",
     "start_time": "2023-09-02T18:15:23.115114200Z"
    }
   },
   "outputs": [],
   "source": [
    "import json\n",
    "import pandas as pd\n",
    "from src.utils.UsefulPaths import Paths\n",
    "from transformers import pipeline\n",
    "from sentence_transformers import SentenceTransformer, util"
   ]
  },
  {
   "cell_type": "code",
   "execution_count": 13,
   "outputs": [],
   "source": [
    "paths = Paths()\n",
    "\n",
    "with open(paths.json_subsectors, 'r') as file:\n",
    "    subsectors = json.load(file)"
   ],
   "metadata": {
    "collapsed": false,
    "ExecuteTime": {
     "end_time": "2023-09-02T18:15:23.149408Z",
     "start_time": "2023-09-02T18:15:23.131187600Z"
    }
   }
  },
  {
   "cell_type": "code",
   "execution_count": 14,
   "outputs": [
    {
     "data": {
      "text/plain": "    IPC                                              title\n0  G16Y  INFORMATION AND COMMUNICATION TECHNOLOGY SPECI...\n1  F24J                       HEATING; RANGES; VENTILATING\n2  F21H  INCANDESCENT MANTLES; OTHER INCANDESCENT BODIE...\n3  G16B  BIOINFORMATICS, i.e. INFORMATION AND COMMUNICA...\n4  A01P  BIOCIDAL, PEST REPELLANT, PEST ATTRACTANT OR P...",
      "text/html": "<div>\n<style scoped>\n    .dataframe tbody tr th:only-of-type {\n        vertical-align: middle;\n    }\n\n    .dataframe tbody tr th {\n        vertical-align: top;\n    }\n\n    .dataframe thead th {\n        text-align: right;\n    }\n</style>\n<table border=\"1\" class=\"dataframe\">\n  <thead>\n    <tr style=\"text-align: right;\">\n      <th></th>\n      <th>IPC</th>\n      <th>title</th>\n    </tr>\n  </thead>\n  <tbody>\n    <tr>\n      <th>0</th>\n      <td>G16Y</td>\n      <td>INFORMATION AND COMMUNICATION TECHNOLOGY SPECI...</td>\n    </tr>\n    <tr>\n      <th>1</th>\n      <td>F24J</td>\n      <td>HEATING; RANGES; VENTILATING</td>\n    </tr>\n    <tr>\n      <th>2</th>\n      <td>F21H</td>\n      <td>INCANDESCENT MANTLES; OTHER INCANDESCENT BODIE...</td>\n    </tr>\n    <tr>\n      <th>3</th>\n      <td>G16B</td>\n      <td>BIOINFORMATICS, i.e. INFORMATION AND COMMUNICA...</td>\n    </tr>\n    <tr>\n      <th>4</th>\n      <td>A01P</td>\n      <td>BIOCIDAL, PEST REPELLANT, PEST ATTRACTANT OR P...</td>\n    </tr>\n  </tbody>\n</table>\n</div>"
     },
     "execution_count": 14,
     "metadata": {},
     "output_type": "execute_result"
    }
   ],
   "source": [
    "df_ipc = pd.read_excel(paths.raw_ipc_titles)\n",
    "df_ipc.head(5)"
   ],
   "metadata": {
    "collapsed": false,
    "ExecuteTime": {
     "end_time": "2023-09-02T18:15:23.183507800Z",
     "start_time": "2023-09-02T18:15:23.146820Z"
    }
   }
  },
  {
   "cell_type": "code",
   "execution_count": 15,
   "outputs": [],
   "source": [
    "subsetor_names = []\n",
    "subsetor_definitions = []\n",
    "for subsetor_name, subsetor_values in subsectors.items():\n",
    "    subsetor_definition = subsetor_values.get('Definition', '')\n",
    "\n",
    "    subsetor_names.append(subsetor_name)\n",
    "    subsetor_definitions.append(subsetor_definition)\n",
    "\n",
    "subsetor_names.append('Other')\n",
    "subsetor_definitions.append('When there is no subsector that patent fits')"
   ],
   "metadata": {
    "collapsed": false,
    "ExecuteTime": {
     "end_time": "2023-09-02T18:15:23.199128Z",
     "start_time": "2023-09-02T18:15:23.183507800Z"
    }
   }
  },
  {
   "cell_type": "code",
   "execution_count": 16,
   "outputs": [
    {
     "data": {
      "text/plain": "['Artificial Intelligence; Big Data and Analytics',\n 'Advanced Manufacturing and Robotics',\n 'Clean Technology',\n 'Financial Technology',\n 'Blockchain',\n 'Cybersecurity',\n 'Agriculture Technology',\n 'New Food',\n 'Advertising Technology',\n 'Blue Economy',\n 'Digital Media',\n 'Gaming',\n 'Augmented Reality; Vitual Reality',\n 'Educational Technology',\n 'Industry 4.0',\n 'Biopharmaceutical; Biotechonology',\n 'Medical Technology; Medical devices',\n 'Other']"
     },
     "execution_count": 16,
     "metadata": {},
     "output_type": "execute_result"
    }
   ],
   "source": [
    "subsetor_names"
   ],
   "metadata": {
    "collapsed": false,
    "ExecuteTime": {
     "end_time": "2023-09-02T18:15:23.247924100Z",
     "start_time": "2023-09-02T18:15:23.199128Z"
    }
   }
  },
  {
   "cell_type": "code",
   "execution_count": 20,
   "outputs": [
    {
     "name": "stderr",
     "output_type": "stream",
     "text": [
      "2023-09-02 15:21:57,049 - DEBUG - https://huggingface.co:443 \"HEAD /sileod/deberta-v3-base-tasksource-nli/resolve/main/config.json HTTP/1.1\" 200 0\n",
      "Asking to truncate to max_length but no maximum length is provided and the model has no predefined maximum length. Default to no truncation.\n"
     ]
    }
   ],
   "source": [
    "# \"MoritzLaurer/DeBERTa-v3-base-mnli-fever-anli\"\n",
    "# \"facebook/bart-large-mnli\"\n",
    "# \"sileod/deberta-v3-base-tasksource-nli\"\n",
    "classifier = pipeline(\"zero-shot-classification\", model=\"sileod/deberta-v3-base-tasksource-nli\")\n",
    "\n",
    "col_names = ['IPC', 'title']\n",
    "for i in range(1, len(subsetor_names) + 1):\n",
    "    col_names.append(f'score_{i}')\n",
    "\n",
    "df_ipc['zero_shot_hypothesis'] = ''\n",
    "# df_ipc['zero_shot_hypothesis_values'] = ''\n",
    "\n",
    "for index, row in df_ipc.iterrows():\n",
    "\n",
    "    output = classifier(row['title'], subsetor_names, multi_label=False)\n",
    "\n",
    "    df_scores = pd.DataFrame([output['scores']], columns=output['labels'])\n",
    "\n",
    "    zero_shot_hypothesis = ', '.join(output['labels'])\n",
    "    # zero_shot_hypothesis_values = ', '.join([format(num, '.4f') for num in output['scores']])\n",
    "\n",
    "    df_ipc.at[index, 'zero_shot_hypothesis'] = zero_shot_hypothesis\n",
    "    # df_ipc.at[index, 'zero_shot_hypothesis_values'] = zero_shot_hypothesis_values"
   ],
   "metadata": {
    "collapsed": false,
    "ExecuteTime": {
     "end_time": "2023-09-02T18:36:45.645061900Z",
     "start_time": "2023-09-02T18:21:56.881415800Z"
    }
   }
  },
  {
   "cell_type": "code",
   "execution_count": 21,
   "outputs": [
    {
     "data": {
      "text/plain": "    IPC                                              title  \\\n0  G16Y  INFORMATION AND COMMUNICATION TECHNOLOGY SPECI...   \n1  F24J                       HEATING; RANGES; VENTILATING   \n2  F21H  INCANDESCENT MANTLES; OTHER INCANDESCENT BODIE...   \n3  G16B  BIOINFORMATICS, i.e. INFORMATION AND COMMUNICA...   \n4  A01P  BIOCIDAL, PEST REPELLANT, PEST ATTRACTANT OR P...   \n\n                                zero_shot_hypothesis  \n0  Other, Industry 4.0, Digital Media, Medical Te...  \n1  Medical Technology; Medical devices, Clean Tec...  \n2  Other, Medical Technology; Medical devices, Bi...  \n3  Other, Biopharmaceutical; Biotechonology, Indu...  \n4  Medical Technology; Medical devices, Biopharma...  ",
      "text/html": "<div>\n<style scoped>\n    .dataframe tbody tr th:only-of-type {\n        vertical-align: middle;\n    }\n\n    .dataframe tbody tr th {\n        vertical-align: top;\n    }\n\n    .dataframe thead th {\n        text-align: right;\n    }\n</style>\n<table border=\"1\" class=\"dataframe\">\n  <thead>\n    <tr style=\"text-align: right;\">\n      <th></th>\n      <th>IPC</th>\n      <th>title</th>\n      <th>zero_shot_hypothesis</th>\n    </tr>\n  </thead>\n  <tbody>\n    <tr>\n      <th>0</th>\n      <td>G16Y</td>\n      <td>INFORMATION AND COMMUNICATION TECHNOLOGY SPECI...</td>\n      <td>Other, Industry 4.0, Digital Media, Medical Te...</td>\n    </tr>\n    <tr>\n      <th>1</th>\n      <td>F24J</td>\n      <td>HEATING; RANGES; VENTILATING</td>\n      <td>Medical Technology; Medical devices, Clean Tec...</td>\n    </tr>\n    <tr>\n      <th>2</th>\n      <td>F21H</td>\n      <td>INCANDESCENT MANTLES; OTHER INCANDESCENT BODIE...</td>\n      <td>Other, Medical Technology; Medical devices, Bi...</td>\n    </tr>\n    <tr>\n      <th>3</th>\n      <td>G16B</td>\n      <td>BIOINFORMATICS, i.e. INFORMATION AND COMMUNICA...</td>\n      <td>Other, Biopharmaceutical; Biotechonology, Indu...</td>\n    </tr>\n    <tr>\n      <th>4</th>\n      <td>A01P</td>\n      <td>BIOCIDAL, PEST REPELLANT, PEST ATTRACTANT OR P...</td>\n      <td>Medical Technology; Medical devices, Biopharma...</td>\n    </tr>\n  </tbody>\n</table>\n</div>"
     },
     "execution_count": 21,
     "metadata": {},
     "output_type": "execute_result"
    }
   ],
   "source": [
    "df_ipc.head()"
   ],
   "metadata": {
    "collapsed": false,
    "ExecuteTime": {
     "end_time": "2023-09-02T18:39:55.024582200Z",
     "start_time": "2023-09-02T18:39:55.011538900Z"
    }
   }
  },
  {
   "cell_type": "code",
   "execution_count": 22,
   "outputs": [
    {
     "name": "stderr",
     "output_type": "stream",
     "text": [
      "2023-09-02 15:40:06,311 - INFO - Load pretrained SentenceTransformer: all-mpnet-base-v2\n",
      "2023-09-02 15:40:06,784 - INFO - Use pytorch device: cpu\n"
     ]
    }
   ],
   "source": [
    "# 'bert-base-uncased'\n",
    "# 'bert-large-uncased-whole-word-masking'\n",
    "# 'bert-base-multilingual-cased'\n",
    "# 'all-mpnet-base-v2'\n",
    "model = SentenceTransformer('all-mpnet-base-v2')"
   ],
   "metadata": {
    "collapsed": false,
    "ExecuteTime": {
     "end_time": "2023-09-02T18:40:06.815670900Z",
     "start_time": "2023-09-02T18:40:06.311867Z"
    }
   }
  },
  {
   "cell_type": "code",
   "execution_count": 23,
   "outputs": [
    {
     "data": {
      "text/plain": "Batches:   0%|          | 0/1 [00:00<?, ?it/s]",
      "application/vnd.jupyter.widget-view+json": {
       "version_major": 2,
       "version_minor": 0,
       "model_id": "d8b9db65a99d4ae09e49855ea9069393"
      }
     },
     "metadata": {},
     "output_type": "display_data"
    }
   ],
   "source": [
    "definitions_embbedings = model.encode(subsetor_definitions)\n",
    "\n",
    "df_ipc['similarities_hypothesis'] = ''\n",
    "for index, row in df_ipc.iterrows():\n",
    "    query = f'What subsetor best describes this International Patent Classification of number {row[\"IPC\"]} and Title {row[\"title\"]}?'\n",
    "    query_emb = model.encode(query, convert_to_tensor=True, show_progress_bar=False, normalize_embeddings=False)\n",
    "\n",
    "    cos_scores = util.cos_sim(query_emb, definitions_embbedings)\n",
    "    similarities = cos_scores.cpu()[0].numpy().tolist()\n",
    "\n",
    "    output_df = pd.DataFrame([similarities], columns=subsetor_names)\n",
    "\n",
    "    similarities_hypothesis = ', '.join(output_df.iloc[0, :].to_frame().T.sort_values(by=0, axis=1, ascending=False).columns.tolist())\n",
    "\n",
    "    df_ipc.at[index, 'similarities_hypothesis'] = similarities_hypothesis"
   ],
   "metadata": {
    "collapsed": false,
    "ExecuteTime": {
     "end_time": "2023-09-02T18:40:31.572901Z",
     "start_time": "2023-09-02T18:40:13.179004700Z"
    }
   }
  },
  {
   "cell_type": "code",
   "execution_count": 24,
   "outputs": [
    {
     "data": {
      "text/plain": "    IPC                                              title  \\\n0  G16Y  INFORMATION AND COMMUNICATION TECHNOLOGY SPECI...   \n1  F24J                       HEATING; RANGES; VENTILATING   \n2  F21H  INCANDESCENT MANTLES; OTHER INCANDESCENT BODIE...   \n3  G16B  BIOINFORMATICS, i.e. INFORMATION AND COMMUNICA...   \n4  A01P  BIOCIDAL, PEST REPELLANT, PEST ATTRACTANT OR P...   \n\n                                zero_shot_hypothesis  \\\n0  Other, Industry 4.0, Digital Media, Medical Te...   \n1  Medical Technology; Medical devices, Clean Tec...   \n2  Other, Medical Technology; Medical devices, Bi...   \n3  Other, Biopharmaceutical; Biotechonology, Indu...   \n4  Medical Technology; Medical devices, Biopharma...   \n\n                             similarities_hypothesis  \n0  Other, Industry 4.0, Agriculture Technology, A...  \n1  Other, Medical Technology; Medical devices, Bi...  \n2  Other, Educational Technology, Clean Technolog...  \n3  Other, Biopharmaceutical; Biotechonology, Agri...  \n4  Other, Agriculture Technology, Biopharmaceutic...  ",
      "text/html": "<div>\n<style scoped>\n    .dataframe tbody tr th:only-of-type {\n        vertical-align: middle;\n    }\n\n    .dataframe tbody tr th {\n        vertical-align: top;\n    }\n\n    .dataframe thead th {\n        text-align: right;\n    }\n</style>\n<table border=\"1\" class=\"dataframe\">\n  <thead>\n    <tr style=\"text-align: right;\">\n      <th></th>\n      <th>IPC</th>\n      <th>title</th>\n      <th>zero_shot_hypothesis</th>\n      <th>similarities_hypothesis</th>\n    </tr>\n  </thead>\n  <tbody>\n    <tr>\n      <th>0</th>\n      <td>G16Y</td>\n      <td>INFORMATION AND COMMUNICATION TECHNOLOGY SPECI...</td>\n      <td>Other, Industry 4.0, Digital Media, Medical Te...</td>\n      <td>Other, Industry 4.0, Agriculture Technology, A...</td>\n    </tr>\n    <tr>\n      <th>1</th>\n      <td>F24J</td>\n      <td>HEATING; RANGES; VENTILATING</td>\n      <td>Medical Technology; Medical devices, Clean Tec...</td>\n      <td>Other, Medical Technology; Medical devices, Bi...</td>\n    </tr>\n    <tr>\n      <th>2</th>\n      <td>F21H</td>\n      <td>INCANDESCENT MANTLES; OTHER INCANDESCENT BODIE...</td>\n      <td>Other, Medical Technology; Medical devices, Bi...</td>\n      <td>Other, Educational Technology, Clean Technolog...</td>\n    </tr>\n    <tr>\n      <th>3</th>\n      <td>G16B</td>\n      <td>BIOINFORMATICS, i.e. INFORMATION AND COMMUNICA...</td>\n      <td>Other, Biopharmaceutical; Biotechonology, Indu...</td>\n      <td>Other, Biopharmaceutical; Biotechonology, Agri...</td>\n    </tr>\n    <tr>\n      <th>4</th>\n      <td>A01P</td>\n      <td>BIOCIDAL, PEST REPELLANT, PEST ATTRACTANT OR P...</td>\n      <td>Medical Technology; Medical devices, Biopharma...</td>\n      <td>Other, Agriculture Technology, Biopharmaceutic...</td>\n    </tr>\n  </tbody>\n</table>\n</div>"
     },
     "execution_count": 24,
     "metadata": {},
     "output_type": "execute_result"
    }
   ],
   "source": [
    "df_ipc.head()"
   ],
   "metadata": {
    "collapsed": false,
    "ExecuteTime": {
     "end_time": "2023-09-02T18:40:33.674059700Z",
     "start_time": "2023-09-02T18:40:33.658434400Z"
    }
   }
  },
  {
   "cell_type": "code",
   "execution_count": 25,
   "outputs": [],
   "source": [
    "df_ipc.to_csv(paths.ipc_subsetor_hypothesis, index=False)"
   ],
   "metadata": {
    "collapsed": false,
    "ExecuteTime": {
     "end_time": "2023-09-02T18:40:46.000239400Z",
     "start_time": "2023-09-02T18:40:45.975487400Z"
    }
   }
  },
  {
   "cell_type": "code",
   "execution_count": null,
   "outputs": [],
   "source": [],
   "metadata": {
    "collapsed": false
   }
  }
 ],
 "metadata": {
  "kernelspec": {
   "display_name": "Python 3",
   "language": "python",
   "name": "python3"
  },
  "language_info": {
   "codemirror_mode": {
    "name": "ipython",
    "version": 2
   },
   "file_extension": ".py",
   "mimetype": "text/x-python",
   "name": "python",
   "nbconvert_exporter": "python",
   "pygments_lexer": "ipython2",
   "version": "2.7.6"
  }
 },
 "nbformat": 4,
 "nbformat_minor": 0
}
