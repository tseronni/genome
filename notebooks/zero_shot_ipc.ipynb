{
 "cells": [
  {
   "cell_type": "code",
   "execution_count": 1,
   "metadata": {
    "collapsed": true,
    "ExecuteTime": {
     "end_time": "2023-09-02T00:20:58.992939500Z",
     "start_time": "2023-09-02T00:20:56.315426100Z"
    }
   },
   "outputs": [
    {
     "name": "stderr",
     "output_type": "stream",
     "text": [
      "2023-09-01 21:20:57,900 - DEBUG - Falling back to TensorFlow client; we recommended you install the Cloud TPU client directly with pip install cloud-tpu-client.\n",
      "2023-09-01 21:20:57,962 - DEBUG - Creating converter from 7 to 5\n",
      "2023-09-01 21:20:57,962 - DEBUG - Creating converter from 5 to 7\n",
      "2023-09-01 21:20:57,962 - DEBUG - Creating converter from 7 to 5\n",
      "2023-09-01 21:20:57,962 - DEBUG - Creating converter from 5 to 7\n"
     ]
    }
   ],
   "source": [
    "import json\n",
    "import pandas as pd\n",
    "from src.utils.UsefulPaths import Paths\n",
    "from transformers import pipeline\n",
    "from sentence_transformers import SentenceTransformer, util"
   ]
  },
  {
   "cell_type": "code",
   "execution_count": 2,
   "outputs": [],
   "source": [
    "paths = Paths()\n",
    "\n",
    "with open(paths.json_subsectors, 'r') as file:\n",
    "    subsectors = json.load(file)"
   ],
   "metadata": {
    "collapsed": false,
    "ExecuteTime": {
     "end_time": "2023-09-02T00:20:59.008569200Z",
     "start_time": "2023-09-02T00:20:58.992939500Z"
    }
   }
  },
  {
   "cell_type": "code",
   "execution_count": 3,
   "outputs": [
    {
     "data": {
      "text/plain": "    IPC                                              title\n0  G16Y  INFORMATION AND COMMUNICATION TECHNOLOGY SPECI...\n1  F24J                       HEATING; RANGES; VENTILATING\n2  F21H  INCANDESCENT MANTLES; OTHER INCANDESCENT BODIE...\n3  G16B  BIOINFORMATICS, i.e. INFORMATION AND COMMUNICA...\n4  A01P  BIOCIDAL, PEST REPELLANT, PEST ATTRACTANT OR P...",
      "text/html": "<div>\n<style scoped>\n    .dataframe tbody tr th:only-of-type {\n        vertical-align: middle;\n    }\n\n    .dataframe tbody tr th {\n        vertical-align: top;\n    }\n\n    .dataframe thead th {\n        text-align: right;\n    }\n</style>\n<table border=\"1\" class=\"dataframe\">\n  <thead>\n    <tr style=\"text-align: right;\">\n      <th></th>\n      <th>IPC</th>\n      <th>title</th>\n    </tr>\n  </thead>\n  <tbody>\n    <tr>\n      <th>0</th>\n      <td>G16Y</td>\n      <td>INFORMATION AND COMMUNICATION TECHNOLOGY SPECI...</td>\n    </tr>\n    <tr>\n      <th>1</th>\n      <td>F24J</td>\n      <td>HEATING; RANGES; VENTILATING</td>\n    </tr>\n    <tr>\n      <th>2</th>\n      <td>F21H</td>\n      <td>INCANDESCENT MANTLES; OTHER INCANDESCENT BODIE...</td>\n    </tr>\n    <tr>\n      <th>3</th>\n      <td>G16B</td>\n      <td>BIOINFORMATICS, i.e. INFORMATION AND COMMUNICA...</td>\n    </tr>\n    <tr>\n      <th>4</th>\n      <td>A01P</td>\n      <td>BIOCIDAL, PEST REPELLANT, PEST ATTRACTANT OR P...</td>\n    </tr>\n  </tbody>\n</table>\n</div>"
     },
     "execution_count": 3,
     "metadata": {},
     "output_type": "execute_result"
    }
   ],
   "source": [
    "df_ipc = pd.read_excel(paths.raw_ipc_titles)\n",
    "df_ipc.head(5)"
   ],
   "metadata": {
    "collapsed": false,
    "ExecuteTime": {
     "end_time": "2023-09-02T00:20:59.200805800Z",
     "start_time": "2023-09-02T00:20:59.008569200Z"
    }
   }
  },
  {
   "cell_type": "code",
   "execution_count": 4,
   "outputs": [],
   "source": [
    "subsetor_names = []\n",
    "subsetor_definitions = []\n",
    "for subsetor_name, subsetor_values in subsectors.items():\n",
    "    subsetor_definition = subsetor_values.get('Definition', '')\n",
    "\n",
    "    subsetor_names.append(subsetor_name)\n",
    "    subsetor_definitions.append(subsetor_definition)\n",
    "\n",
    "subsetor_names.append('Other')\n",
    "subsetor_definitions.append('When there is no subsector that patent fits')"
   ],
   "metadata": {
    "collapsed": false,
    "ExecuteTime": {
     "end_time": "2023-09-02T00:20:59.216435500Z",
     "start_time": "2023-09-02T00:20:59.200805800Z"
    }
   }
  },
  {
   "cell_type": "code",
   "execution_count": 5,
   "outputs": [
    {
     "data": {
      "text/plain": "['Artificial Intelligence, Big Data and Analytics',\n 'Advanced Manufacturing and Robotics',\n 'Cleantech',\n 'Fintech',\n 'Blockchain',\n 'Cybersecurity',\n 'Agtech',\n 'New Food',\n 'Adtech ',\n 'Blue Economy',\n 'Digital Media',\n 'Gaming (Digital Media Sub-Cluster)',\n 'AR / VR (Digital Media Sub-Cluster)',\n 'Edtech',\n 'Industry 4.0 ',\n 'Biopharma / Biotech',\n 'Medtech / Medical devices',\n 'Other']"
     },
     "execution_count": 5,
     "metadata": {},
     "output_type": "execute_result"
    }
   ],
   "source": [
    "subsetor_names"
   ],
   "metadata": {
    "collapsed": false,
    "ExecuteTime": {
     "end_time": "2023-09-02T00:20:59.248446600Z",
     "start_time": "2023-09-02T00:20:59.216435500Z"
    }
   }
  },
  {
   "cell_type": "code",
   "execution_count": 6,
   "outputs": [
    {
     "name": "stderr",
     "output_type": "stream",
     "text": [
      "2023-09-01 21:21:06,038 - DEBUG - Starting new HTTPS connection (1): huggingface.co:443\n",
      "2023-09-01 21:21:06,296 - DEBUG - https://huggingface.co:443 \"HEAD /MoritzLaurer/DeBERTa-v3-base-mnli-fever-anli/resolve/main/config.json HTTP/1.1\" 200 0\n",
      "C:\\Users\\thiag\\PycharmProjects\\Genome\\venv\\lib\\site-packages\\transformers\\convert_slow_tokenizer.py:470: UserWarning: The sentencepiece tokenizer that you are converting to a fast tokenizer uses the byte fallback option which is not implemented in the fast tokenizers. In practice this means that the fast version of the tokenizer can produce unknown tokens whereas the sentencepiece version would have converted these unknown tokens into a sequence of byte tokens matching the original piece of text.\n",
      "  warnings.warn(\n"
     ]
    }
   ],
   "source": [
    "# \"MoritzLaurer/DeBERTa-v3-base-mnli-fever-anli\"\n",
    "# \"facebook/bart-large-mnli\"\n",
    "# \"sileod/deberta-v3-base-tasksource-nli\"\n",
    "classifier = pipeline(\"zero-shot-classification\", model=\"MoritzLaurer/DeBERTa-v3-base-mnli-fever-anli\")\n",
    "\n",
    "col_names = ['IPC', 'title']\n",
    "for i in range(1, len(subsetor_names) + 1):\n",
    "    col_names.append(f'score_{i}')\n",
    "\n",
    "df_ipc['zero_shot_hypothesis'] = ''\n",
    "# df_ipc['zero_shot_hypothesis_values'] = ''\n",
    "\n",
    "for index, row in df_ipc.iterrows():\n",
    "\n",
    "    output = classifier(row['title'], subsetor_names, multi_label=False)\n",
    "\n",
    "    df_scores = pd.DataFrame([output['scores']], columns=output['labels'])\n",
    "\n",
    "    zero_shot_hypothesis = ', '.join(output['labels'])\n",
    "    # zero_shot_hypothesis_values = ', '.join([format(num, '.4f') for num in output['scores']])\n",
    "\n",
    "    df_ipc.at[index, 'zero_shot_hypothesis'] = zero_shot_hypothesis\n",
    "    # df_ipc.at[index, 'zero_shot_hypothesis_values'] = zero_shot_hypothesis_values"
   ],
   "metadata": {
    "collapsed": false,
    "ExecuteTime": {
     "end_time": "2023-09-02T00:35:58.392099800Z",
     "start_time": "2023-09-02T00:21:06.038995700Z"
    }
   }
  },
  {
   "cell_type": "code",
   "execution_count": 7,
   "outputs": [
    {
     "data": {
      "text/plain": "    IPC                                              title  \\\n0  G16Y  INFORMATION AND COMMUNICATION TECHNOLOGY SPECI...   \n1  F24J                       HEATING; RANGES; VENTILATING   \n2  F21H  INCANDESCENT MANTLES; OTHER INCANDESCENT BODIE...   \n3  G16B  BIOINFORMATICS, i.e. INFORMATION AND COMMUNICA...   \n4  A01P  BIOCIDAL, PEST REPELLANT, PEST ATTRACTANT OR P...   \n\n                                zero_shot_hypothesis  \n0  Industry 4.0 , Other, Fintech, Edtech, Artific...  \n1  Medtech / Medical devices, Industry 4.0 , Biop...  \n2  Other, Medtech / Medical devices, Biopharma / ...  \n3  Biopharma / Biotech, Artificial Intelligence, ...  \n4  Biopharma / Biotech, Other, Industry 4.0 , Med...  ",
      "text/html": "<div>\n<style scoped>\n    .dataframe tbody tr th:only-of-type {\n        vertical-align: middle;\n    }\n\n    .dataframe tbody tr th {\n        vertical-align: top;\n    }\n\n    .dataframe thead th {\n        text-align: right;\n    }\n</style>\n<table border=\"1\" class=\"dataframe\">\n  <thead>\n    <tr style=\"text-align: right;\">\n      <th></th>\n      <th>IPC</th>\n      <th>title</th>\n      <th>zero_shot_hypothesis</th>\n    </tr>\n  </thead>\n  <tbody>\n    <tr>\n      <th>0</th>\n      <td>G16Y</td>\n      <td>INFORMATION AND COMMUNICATION TECHNOLOGY SPECI...</td>\n      <td>Industry 4.0 , Other, Fintech, Edtech, Artific...</td>\n    </tr>\n    <tr>\n      <th>1</th>\n      <td>F24J</td>\n      <td>HEATING; RANGES; VENTILATING</td>\n      <td>Medtech / Medical devices, Industry 4.0 , Biop...</td>\n    </tr>\n    <tr>\n      <th>2</th>\n      <td>F21H</td>\n      <td>INCANDESCENT MANTLES; OTHER INCANDESCENT BODIE...</td>\n      <td>Other, Medtech / Medical devices, Biopharma / ...</td>\n    </tr>\n    <tr>\n      <th>3</th>\n      <td>G16B</td>\n      <td>BIOINFORMATICS, i.e. INFORMATION AND COMMUNICA...</td>\n      <td>Biopharma / Biotech, Artificial Intelligence, ...</td>\n    </tr>\n    <tr>\n      <th>4</th>\n      <td>A01P</td>\n      <td>BIOCIDAL, PEST REPELLANT, PEST ATTRACTANT OR P...</td>\n      <td>Biopharma / Biotech, Other, Industry 4.0 , Med...</td>\n    </tr>\n  </tbody>\n</table>\n</div>"
     },
     "execution_count": 7,
     "metadata": {},
     "output_type": "execute_result"
    }
   ],
   "source": [
    "df_ipc.head()"
   ],
   "metadata": {
    "collapsed": false,
    "ExecuteTime": {
     "end_time": "2023-09-02T00:38:27.039629900Z",
     "start_time": "2023-09-02T00:38:27.022468200Z"
    }
   }
  },
  {
   "cell_type": "code",
   "execution_count": 9,
   "outputs": [
    {
     "name": "stderr",
     "output_type": "stream",
     "text": [
      "2023-09-01 21:38:39,695 - INFO - Load pretrained SentenceTransformer: all-mpnet-base-v2\n",
      "2023-09-01 21:38:40,170 - INFO - Use pytorch device: cpu\n"
     ]
    }
   ],
   "source": [
    "# 'bert-base-uncased'\n",
    "# 'bert-large-uncased-whole-word-masking'\n",
    "# 'bert-base-multilingual-cased'\n",
    "# 'all-mpnet-base-v2'\n",
    "model = SentenceTransformer('all-mpnet-base-v2')"
   ],
   "metadata": {
    "collapsed": false,
    "ExecuteTime": {
     "end_time": "2023-09-02T00:38:40.200503800Z",
     "start_time": "2023-09-02T00:38:39.695431600Z"
    }
   }
  },
  {
   "cell_type": "code",
   "execution_count": 10,
   "outputs": [
    {
     "data": {
      "text/plain": "Batches:   0%|          | 0/1 [00:00<?, ?it/s]",
      "application/vnd.jupyter.widget-view+json": {
       "version_major": 2,
       "version_minor": 0,
       "model_id": "2e5196eb6caa486e939f9aecf4de9ab1"
      }
     },
     "metadata": {},
     "output_type": "display_data"
    }
   ],
   "source": [
    "definitions_embbedings = model.encode(subsetor_definitions)\n",
    "\n",
    "df_ipc['similarities_hypothesis'] = ''\n",
    "for index, row in df_ipc.iterrows():\n",
    "    query = f'What subsetor best describes this International Patent Classification of number {row[\"IPC\"]} and Title {row[\"title\"]}?'\n",
    "    query_emb = model.encode(query, convert_to_tensor=True, show_progress_bar=False, normalize_embeddings=False)\n",
    "\n",
    "    cos_scores = util.cos_sim(query_emb, definitions_embbedings)\n",
    "    similarities = cos_scores.cpu()[0].numpy().tolist()\n",
    "\n",
    "    output_df = pd.DataFrame([similarities], columns=subsetor_names)\n",
    "\n",
    "    similarities_hypothesis = ', '.join(output_df.iloc[0, :].to_frame().T.sort_values(by=0, axis=1, ascending=False).columns.tolist())\n",
    "\n",
    "    df_ipc.at[index, 'similarities_hypothesis'] = similarities_hypothesis"
   ],
   "metadata": {
    "collapsed": false,
    "ExecuteTime": {
     "end_time": "2023-09-02T00:38:59.278257900Z",
     "start_time": "2023-09-02T00:38:42.404848500Z"
    }
   }
  },
  {
   "cell_type": "code",
   "execution_count": 11,
   "outputs": [
    {
     "data": {
      "text/plain": "    IPC                                              title  \\\n0  G16Y  INFORMATION AND COMMUNICATION TECHNOLOGY SPECI...   \n1  F24J                       HEATING; RANGES; VENTILATING   \n2  F21H  INCANDESCENT MANTLES; OTHER INCANDESCENT BODIE...   \n3  G16B  BIOINFORMATICS, i.e. INFORMATION AND COMMUNICA...   \n4  A01P  BIOCIDAL, PEST REPELLANT, PEST ATTRACTANT OR P...   \n\n                                zero_shot_hypothesis  \\\n0  Industry 4.0 , Other, Fintech, Edtech, Artific...   \n1  Medtech / Medical devices, Industry 4.0 , Biop...   \n2  Other, Medtech / Medical devices, Biopharma / ...   \n3  Biopharma / Biotech, Artificial Intelligence, ...   \n4  Biopharma / Biotech, Other, Industry 4.0 , Med...   \n\n                             similarities_hypothesis  \n0  Other, Industry 4.0 , Agtech, Artificial Intel...  \n1  Other, Medtech / Medical devices, Biopharma / ...  \n2  Other, Edtech, Cleantech, Medtech / Medical de...  \n3  Other, Biopharma / Biotech, Agtech, Artificial...  \n4  Other, Agtech, Biopharma / Biotech, New Food, ...  ",
      "text/html": "<div>\n<style scoped>\n    .dataframe tbody tr th:only-of-type {\n        vertical-align: middle;\n    }\n\n    .dataframe tbody tr th {\n        vertical-align: top;\n    }\n\n    .dataframe thead th {\n        text-align: right;\n    }\n</style>\n<table border=\"1\" class=\"dataframe\">\n  <thead>\n    <tr style=\"text-align: right;\">\n      <th></th>\n      <th>IPC</th>\n      <th>title</th>\n      <th>zero_shot_hypothesis</th>\n      <th>similarities_hypothesis</th>\n    </tr>\n  </thead>\n  <tbody>\n    <tr>\n      <th>0</th>\n      <td>G16Y</td>\n      <td>INFORMATION AND COMMUNICATION TECHNOLOGY SPECI...</td>\n      <td>Industry 4.0 , Other, Fintech, Edtech, Artific...</td>\n      <td>Other, Industry 4.0 , Agtech, Artificial Intel...</td>\n    </tr>\n    <tr>\n      <th>1</th>\n      <td>F24J</td>\n      <td>HEATING; RANGES; VENTILATING</td>\n      <td>Medtech / Medical devices, Industry 4.0 , Biop...</td>\n      <td>Other, Medtech / Medical devices, Biopharma / ...</td>\n    </tr>\n    <tr>\n      <th>2</th>\n      <td>F21H</td>\n      <td>INCANDESCENT MANTLES; OTHER INCANDESCENT BODIE...</td>\n      <td>Other, Medtech / Medical devices, Biopharma / ...</td>\n      <td>Other, Edtech, Cleantech, Medtech / Medical de...</td>\n    </tr>\n    <tr>\n      <th>3</th>\n      <td>G16B</td>\n      <td>BIOINFORMATICS, i.e. INFORMATION AND COMMUNICA...</td>\n      <td>Biopharma / Biotech, Artificial Intelligence, ...</td>\n      <td>Other, Biopharma / Biotech, Agtech, Artificial...</td>\n    </tr>\n    <tr>\n      <th>4</th>\n      <td>A01P</td>\n      <td>BIOCIDAL, PEST REPELLANT, PEST ATTRACTANT OR P...</td>\n      <td>Biopharma / Biotech, Other, Industry 4.0 , Med...</td>\n      <td>Other, Agtech, Biopharma / Biotech, New Food, ...</td>\n    </tr>\n  </tbody>\n</table>\n</div>"
     },
     "execution_count": 11,
     "metadata": {},
     "output_type": "execute_result"
    }
   ],
   "source": [
    "df_ipc.head()"
   ],
   "metadata": {
    "collapsed": false,
    "ExecuteTime": {
     "end_time": "2023-09-02T00:39:06.782478Z",
     "start_time": "2023-09-02T00:39:06.772440900Z"
    }
   }
  },
  {
   "cell_type": "code",
   "execution_count": 13,
   "outputs": [],
   "source": [
    "df_ipc.to_csv(paths.ipc_subsetor_hypothesis, index=False)"
   ],
   "metadata": {
    "collapsed": false,
    "ExecuteTime": {
     "end_time": "2023-09-02T00:42:56.894448400Z",
     "start_time": "2023-09-02T00:42:56.863190500Z"
    }
   }
  },
  {
   "cell_type": "code",
   "execution_count": null,
   "outputs": [],
   "source": [],
   "metadata": {
    "collapsed": false
   }
  }
 ],
 "metadata": {
  "kernelspec": {
   "display_name": "Python 3",
   "language": "python",
   "name": "python3"
  },
  "language_info": {
   "codemirror_mode": {
    "name": "ipython",
    "version": 2
   },
   "file_extension": ".py",
   "mimetype": "text/x-python",
   "name": "python",
   "nbconvert_exporter": "python",
   "pygments_lexer": "ipython2",
   "version": "2.7.6"
  }
 },
 "nbformat": 4,
 "nbformat_minor": 0
}
