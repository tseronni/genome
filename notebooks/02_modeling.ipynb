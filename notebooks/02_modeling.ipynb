{
 "cells": [
  {
   "cell_type": "code",
   "execution_count": 8,
   "metadata": {
    "collapsed": true,
    "ExecuteTime": {
     "end_time": "2023-08-25T01:16:02.839863300Z",
     "start_time": "2023-08-25T01:16:02.833611100Z"
    }
   },
   "outputs": [],
   "source": [
    "from transformers import BertTokenizer, BertModel\n",
    "import torch\n",
    "from sklearn.metrics.pairwise import cosine_similarity\n",
    "import pandas as pd\n",
    "import os"
   ]
  },
  {
   "cell_type": "code",
   "execution_count": 73,
   "outputs": [],
   "source": [
    "import json\n",
    "\n",
    "# Opening JSON file\n",
    "with open(r'C:\\Users\\leolk\\PycharmProjects\\genome\\data\\processed\\description_subsector.json', 'r') as openfile:\n",
    "    # Reading from json file\n",
    "    def_sub = json.load(openfile)"
   ],
   "metadata": {
    "collapsed": false,
    "ExecuteTime": {
     "end_time": "2023-08-25T01:54:33.752236200Z",
     "start_time": "2023-08-25T01:54:33.736552300Z"
    }
   }
  },
  {
   "cell_type": "code",
   "execution_count": 74,
   "outputs": [
    {
     "data": {
      "text/plain": "{'Artificial Intelligence, Big Data and Analytics': {'Definition': ' Artificial Intelligence companies offer products and services modeled on computer systems that simulate human cognition. These systems can sense their environment, learn, think, and respond to stimuli in a way similar to humans.Big Data and Analytics as a sub-sector refers to companies that provide solutions with the core function of identifying patterns and trends from large volumes / sets of data that cannot be processed by traditional database and analysis software.',\n  'Keywords': ' Automated intelligence, assisted intelligence, augmented Intelligence, autonomous intelligence, supervised learning, unsupervised learning, adaptive systems, computer vision, natural language processing, natural language generation, text analytics, speech recognition, semantics technology, decision management, virtual agents, robotic process automation, machine learning, autonomous vehicle, smart robotics, autonomous vehicles, facial and image recognition,Advanced algorithms, advanced analytics, advanced visualization, data mining, user behavior analytics, data storytelling, business intelligence'},\n 'Advanced Manufacturing and Robotics': {'Definition': ' In comparison to Traditional Manufacturing, Advanced Manufacturing involves the use of technology to improve products and/or processes, with the relevant technology being described as \"advanced,\" \"innovative,\" or \"cutting edge.\"',\n  'Does include': ' Autonomous driving, Industrial robots, Industrial Drones, 3D printing, Industrial IOT, additive manufacturing, advanced manufacturing, industry 4.0, nano-materials, industrial internet of things, cyber physical systems, cyber manufacturing',\n  'Does not include': ' Traditional manufacturing machines',\n  'Keywords': ' 3d printing, industrial IoT, internet of things, additive manufacturing, integrated circuit, manufacturing company, machine learning, industrial automation, robotics, predictive maintenance, semiconductor'},\n 'Cleantech': {'Definition': ' Cleantech or clean technology is an umbrella term which is used to define technologies which optimize the use of natural resources, produce energy from renewable sources, increase efficiency and productivity, generate less waste and cause less environmental pollution. Cleantech consists of sustainable solutions in the fields of energy, water, transportation, agriculture and manufa systems.cturing, including advanced material, smart grids, water treatment, efficient energy storage and distributed energy',\n  'Keywords': ' Clean energy, and other forms of environmental, and sustainable or green, products and services, advanced material, smart grids, water treatment, efficient energy storage, distributed energy system. sustainable energy, solar panels',\n  'Does not include': ' oil and gas, petrochemicals'},\n 'Fintech': {'Definition': ' Describes a business that aims at providing financial services by making use of software and modern technology. [7]Financial technology (Fintech) companies use internet, blockchain and software technologies, as well as algorithms, to offer or facilitate financial services traditionally offered by banks. These services include loans, payments, investments and wealth management. Fintech also includes software that automates financial processes or addresses financial firms’ core business needs',\n  'Keywords': ' Insurance Tech, Risk Management, Trading, Portfolios, Personal Finance, Banking, Accounting, Digital Currency, Cryptocurrency, data-driven finance, phone banking, robo-advisory, regtech.',\n  'Does not include': ' Brick & Mortar banks, Old brick and mortar Insurance companies'},\n 'Blockchain': {'Definition': ' Companies that develop applications using blockchains, or distributed databases/public ledgers that record transactions and other digital events across a peer-to-peer network. The integrity of each record on a blockchain is cryptographically verified by network participants to create a distributed consensus. Cryptocurrencies and tokens are popular applications of blockchain technology.',\n  'Keywords': ' Distributed ledgers, Digital Mining,Cryptocurrency, Crypto tokens, Altcoins, Bitcoin, Ethereum, Monero, Crypto Exchanges, Smart Contracts, Initial Coin Offerings, decentralized finance (DeFi) applications, non-fungible tokens (NFTs)'},\n 'Cybersecurity': {'Definition': ' Cybersecurity is the body of technologies, processes, and practices designed to protect networks, computers, programs, and data from attack, damage, or unauthorizedaccess. For our purposes it includes application security, information security, networksecurity, disaster recovery / business continuity planning, operational security, andend-user education.',\n  'Does include': ' Application security, Information security, Network security, Disaster recovery / business continuity planning, Operational security and End-user education.',\n  'Keywords': ' cyber security, network security, data security, cloud security, threat detection, mobile security, cyber threat detection'},\n 'Agtech': {'Definition': ' Technologies to help the agriculture industry to feed our growing population without destroying the planet. AgTech is the use of technology in agriculture, horticulture, and aquaculture with the aim of improving yield, efficiency, and profitability through information monitoring and analysis of weather, pests, soil and air temperature. AgTech also includes the use of automation, such as controlling heaters and irrigation and employing pest control through aerosol pheromone dispersal.AgTech can be products, services or applications derived from agriculture that improve various input/output processes. ',\n  'Does include': ' Precision agriculture - PA is an approach to farm management that uses information technology to ensure that the crops and soil receive exactly what they need for optimum health and productivity. Integrated genetics, Physical inputs, Information technology, Smart machinery, Spectral imaging for remote sensing for monitoring the development and health of crops, data-enabled agriculture, food technology, agricultural robots, new foods, efficient sowing',\n  'Does not include': ' Farms, Vineyards, Coffee roasters, Beverages'},\n 'New Food': {'Definition': ' New Food includes technologies that can be leveraged to create efficiency and sustainability in designing, producing, choosing, delivering, and consuming food. Solutions and processes that leverage science and technology to create new types of foods and beverages. This category includes alternative proteins such as plant-based meat, fermentation and cellular agriculture, insects-based products, functional food and drinks as well as meal replacements.',\n  'Does not include': ' alt- proteins based skincare products, cannabis related skincare of wellness products (by wellness we do not consider products which are not consumed as food or in meal )',\n  'Keywords': ' artificial meat, Alternative protein, Plant-based, vegan food, vegan alternative, vegan product, animal protein, clean meat, plant-based meat, cell-based meat, cellular agriculture technology, meat alternative, meat substitute, insect protein, insect-based, probiotic product, fermentation, cannabis-derived products, cannabis-based, CBD-infused, adaptogenic, nootropic, dairy alternative, mushroom food products, mushroom-based'},\n 'Adtech ': {'Definition': ' Advertising technology - different types of analytics and digital tools used in the context of advertising and marketing. Extensive and complex systems used to direct advertising to individuals and specific target audiences. It is the use of tools and software advertisers used to reach audiences, deliver and measure digital advertising campaigns.',\n  'Keywords': ' Conversion/optimization, Email marketing, Mobile marketing, Online & display advertising, Online surveys, tests and panels, Paid search / PPC / AdWords, Search Engine Optimization, Social media & viral marketing, Usability & web design, Web analytics & tracking, Affiliate marketing, B2B digital marketing, ad networks',\n  'Does not include': ' Companies whose products and services are not focused on innovation in the advertising and marketing (e.g. all the companies that have advertising or marketing Keywords but actually only have ads on their websites etc.), martech (marketing technology) which focuses on reaching audiences via unpaid or owned channels using a brand’s first-party insights'},\n 'Blue Economy': {'Definition': ' Blue economy is the \"sustainable use of ocean resources for economic growth, improved livelihoods, and jobs while preserving the health of the ocean ecosystem. A concept that seeks to promote economic growth, social inclusion and the preservation of livelihoods while at the same time ensuring environmental sustainability of the oceans and coastal areas.',\n  'Keywords': ' ocean sustainability, aquaculture, seafloor mapping, underwater mapping, Marine Transport, Ports, and Shipbuilding, Commercial Fisheries, Coastal and Marine Tourism, maritime logistics, maritime, inwater imaging, sea/ocean waste management'},\n 'Digital Media': {'Definition': ' Digital media is any media that is encoded in a machine-readable format. Digital media can be created, viewed, distributed, modified and preserved on digital electronics devices. Digitized content (text, graphics, audio, and video) that can be transmitted over internet or computer networks.',\n  'Does include': ' Content, Publishing, Blogs, Social Media, Messengers, News, Gaming, Video, Music, Digital Images, Virtual Reality, Augmented Reality, Digital Media Solutions',\n  'Keywords': '  digitized information, marketing platform, lead generation, social media marketing, digital advertising, marketing campaign, customer engagement'},\n 'Gaming (Digital Media Sub-Cluster)': {'Definition': ' Development, marketing and monetization of video games and gambling machines / services',\n  'Does include': ' PC Gaming, Console Gaming, Mobile Gaming, Smart Gambling Machines, Internet Gambling Services',\n  'Does not include': ' …',\n  'Keywords': ' gaming platform, video games, online games, gaming studio, social games'},\n 'AR / VR (Digital Media Sub-Cluster)': {'Definition': ' Virtual reality (VR) is an artificial, computer-generated simulation or recreation of a real life environment or situation. Augmented reality (AR) is a technology that layers computer-generated enhancements atop an existing reality in order to make it more meaningful through the ability to interact with it. ',\n  'Keywords': '  Mixed Reality, 360 video, frame rate, metaverse, virtual world, cross reality, Artificial intelligence, computer vision'},\n 'Edtech': {'Definition': ' Education Technology (also known as “EdTech”) refers to an area of technology devoted to the development and application of tools (including software, hardware, and processes) intended to promote education. Put another way, “EdTech is a study and ethical practice for facilitating learning and improving performance by creating, using and managing appropriate technological processes and resources.',\n  'Keywords': ' online education, educational platform, e-learning, online learning, personalized learning, educational software, learning app, digital education'},\n 'Industry 4.0 ': {'Definition': ' Industry 4.0 is revolutionizing the way companies manufacture, improve and distribute their products. Manufacturers are integrating new technologies, including Internet of Things (IoT), cloud computing and analytics, and AI and machine learning into their production facilities and throughout their operations.These smart factories are equipped with advanced sensors, embedded software and robotics that collect and analyze data and allow for better decision making. Even higher value is created when data from production operations is combined with operational data from ERP, supply chain, customer service and other enterprise systems to create whole new levels of visibility and insight from previously siloed information. These digital technologies lead to increased automation, predictive maintenance, self-optimization of process improvements and, above all, a new level of efficiency and responsiveness to customers not previously possible.',\n  'Keywords': ' Internet of Things (IoT), Cloud computing, AI and Machine Learning (ML), Edge computing, Cybersecurity, Supply chain, cloud computing and Big Data, Predictive maintenance, Robotics, Sensors, Autonomous Vehicles'},\n 'Biopharma / Biotech': {'Definition': ' Biopharma is the sub-sector that includes any prescription or non-prescription spending on drugs to treat a disease or a health condition and is regulated by the health authorities. This does not include dietary supplements or any health foods, functional foods, or nutriceuticals. It also includes over-the-counter (OTC) drugs that do not require prescriptions. [6] Biotechnology is the use of living systems and organisms to develop or make products, or \"any technological application that uses biological systems, living organisms, or derivatives thereof, to make or modify products or processes for specific use\" (UN Convention on Biological Diversity, Art. 2). Depending on the tools and applications, it often overlaps with the (related) fields of bioengineering, biomedical engineering, biomanufacturing, molecular engineering, etc.',\n  'Does include': ' Biotechnology health care products and vaccines, agricultural biotechnology, biorefineries',\n  'Keywords': ' DNA, Cloning, Genetically designed, Bioengineering, DNA sequencing, biomolecule labeling.'},\n 'Medtech / Medical devices': {'Definition': ' The Medtech sub-sector is primarily focused on designing and manufacturing medical technological equipment, devices, and tools. The definition should exclude distributors and service providers, such as contract research organizations or contract manufacturing organizations\\t. [3] Performing functions like diagnostics,therapeutic devices, treatment and drug delivery.'}}"
     },
     "execution_count": 74,
     "metadata": {},
     "output_type": "execute_result"
    }
   ],
   "source": [
    "def_sub"
   ],
   "metadata": {
    "collapsed": false,
    "ExecuteTime": {
     "end_time": "2023-08-25T01:54:39.906066Z",
     "start_time": "2023-08-25T01:54:39.893526100Z"
    }
   }
  },
  {
   "cell_type": "code",
   "execution_count": 10,
   "outputs": [],
   "source": [
    "import textract"
   ],
   "metadata": {
    "collapsed": false,
    "ExecuteTime": {
     "end_time": "2023-08-25T01:16:03.200338100Z",
     "start_time": "2023-08-25T01:16:03.176412700Z"
    }
   }
  },
  {
   "cell_type": "code",
   "execution_count": 4,
   "outputs": [],
   "source": [
    "df = pd.read_parquet(r'C:\\Users\\leolk\\PycharmProjects\\genome\\data\\raw\\abstract.parquet')"
   ],
   "metadata": {
    "collapsed": false,
    "ExecuteTime": {
     "end_time": "2023-08-25T00:18:38.709324900Z",
     "start_time": "2023-08-25T00:16:38.550037300Z"
    }
   }
  },
  {
   "cell_type": "code",
   "execution_count": null,
   "outputs": [],
   "source": [],
   "metadata": {
    "collapsed": false
   }
  },
  {
   "cell_type": "code",
   "execution_count": 17,
   "outputs": [],
   "source": [
    "from transformers import BertTokenizer, BertModel\n",
    "import torch\n",
    "from sklearn.metrics.pairwise import cosine_similarity\n",
    "import numpy as np\n",
    "\n",
    "# Carregue o tokenizer e o modelo BERT\n",
    "tokenizer = BertTokenizer.from_pretrained('bert-base-uncased')\n",
    "model = BertModel.from_pretrained('bert-base-uncased')\n",
    "\n",
    "# Textos de exemplo\n",
    "texto1 = \"Isso é um exemplo de texto.\"\n",
    "texto2 = \"Isso é um exemplo de frase.\"\n",
    "\n",
    "# Pré-processe e codifique os textos\n",
    "input_ids1 = tokenizer.encode(texto1, add_special_tokens=True, return_tensors=\"pt\")\n",
    "input_ids2 = tokenizer.encode(texto2, add_special_tokens=True, return_tensors=\"pt\")\n",
    "\n",
    "# Passe os textos pelo modelo BERT\n",
    "with torch.no_grad():\n",
    "    embeddings1, _ = model(input_ids1)\n",
    "    embeddings2, _ = model(input_ids2)\n",
    "\n",
    "\n"
   ],
   "metadata": {
    "collapsed": false,
    "ExecuteTime": {
     "end_time": "2023-08-25T01:16:12.984186Z",
     "start_time": "2023-08-25T01:16:07.860227300Z"
    }
   }
  },
  {
   "cell_type": "code",
   "execution_count": 21,
   "outputs": [],
   "source": [
    "from scipy.spatial.distance import cosine"
   ],
   "metadata": {
    "collapsed": false,
    "ExecuteTime": {
     "end_time": "2023-08-24T23:17:39.273375700Z",
     "start_time": "2023-08-24T23:17:39.241532900Z"
    }
   }
  },
  {
   "cell_type": "code",
   "execution_count": 22,
   "outputs": [
    {
     "ename": "NameError",
     "evalue": "name 'embedding1' is not defined",
     "output_type": "error",
     "traceback": [
      "\u001B[1;31m---------------------------------------------------------------------------\u001B[0m",
      "\u001B[1;31mNameError\u001B[0m                                 Traceback (most recent call last)",
      "Cell \u001B[1;32mIn[22], line 1\u001B[0m\n\u001B[1;32m----> 1\u001B[0m similarity_score \u001B[38;5;241m=\u001B[39m \u001B[38;5;241m1\u001B[39m \u001B[38;5;241m-\u001B[39m cosine(\u001B[43membedding1\u001B[49m, embedding2)\n\u001B[0;32m      3\u001B[0m \u001B[38;5;28mprint\u001B[39m(\u001B[38;5;124mf\u001B[39m\u001B[38;5;124m\"\u001B[39m\u001B[38;5;124mA similaridade entre os textos é: \u001B[39m\u001B[38;5;132;01m{\u001B[39;00msimilarity_score\u001B[38;5;132;01m}\u001B[39;00m\u001B[38;5;124m\"\u001B[39m)\n",
      "\u001B[1;31mNameError\u001B[0m: name 'embedding1' is not defined"
     ]
    }
   ],
   "source": [
    "similarity_score = 1 - cosine(embedding1, embedding2)\n",
    "\n",
    "print(f\"A similaridade entre os textos é: {similarity_score}\")"
   ],
   "metadata": {
    "collapsed": false,
    "ExecuteTime": {
     "end_time": "2023-08-24T23:17:39.775151700Z",
     "start_time": "2023-08-24T23:17:39.703271800Z"
    }
   }
  },
  {
   "cell_type": "code",
   "execution_count": 5,
   "outputs": [
    {
     "data": {
      "text/plain": "1876"
     },
     "execution_count": 5,
     "metadata": {},
     "output_type": "execute_result"
    }
   ],
   "source": [
    "df.head(1000).abstract.str.len().max()"
   ],
   "metadata": {
    "collapsed": false,
    "ExecuteTime": {
     "end_time": "2023-08-25T00:18:38.807871100Z",
     "start_time": "2023-08-25T00:18:38.631326300Z"
    }
   }
  },
  {
   "cell_type": "code",
   "execution_count": null,
   "outputs": [],
   "source": [],
   "metadata": {
    "collapsed": false
   }
  }
 ],
 "metadata": {
  "kernelspec": {
   "display_name": "Python 3",
   "language": "python",
   "name": "python3"
  },
  "language_info": {
   "codemirror_mode": {
    "name": "ipython",
    "version": 2
   },
   "file_extension": ".py",
   "mimetype": "text/x-python",
   "name": "python",
   "nbconvert_exporter": "python",
   "pygments_lexer": "ipython2",
   "version": "2.7.6"
  }
 },
 "nbformat": 4,
 "nbformat_minor": 0
}
