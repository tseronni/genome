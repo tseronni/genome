{
 "cells": [
  {
   "cell_type": "code",
   "execution_count": 1,
   "metadata": {
    "collapsed": true,
    "ExecuteTime": {
     "end_time": "2023-08-29T00:45:23.010203100Z",
     "start_time": "2023-08-29T00:45:10.381307700Z"
    }
   },
   "outputs": [],
   "source": [
    "from transformers import BertTokenizer, BertModel\n",
    "import torch\n",
    "from sklearn.metrics.pairwise import cosine_similarity\n",
    "import pandas as pd\n",
    "import os"
   ]
  },
  {
   "cell_type": "code",
   "execution_count": 2,
   "outputs": [],
   "source": [
    "import json\n",
    "\n",
    "# Opening JSON file\n",
    "with open(r'C:\\Users\\leolk\\PycharmProjects\\genome\\data\\processed\\description_subsector.json', 'r') as openfile:\n",
    "    # Reading from json file\n",
    "    def_sub = json.load(openfile)"
   ],
   "metadata": {
    "collapsed": false,
    "ExecuteTime": {
     "end_time": "2023-08-29T00:45:23.025666700Z",
     "start_time": "2023-08-29T00:45:23.015203Z"
    }
   }
  },
  {
   "cell_type": "code",
   "execution_count": 13,
   "outputs": [
    {
     "data": {
      "text/plain": "{'Artificial Intelligence, Big Data and Analytics': {'Definition': ' Artificial Intelligence companies offer products and services modeled on computer systems that simulate human cognition. These systems can sense their environment, learn, think, and respond to stimuli in a way similar to humans.Big Data and Analytics as a sub-sector refers to companies that provide solutions with the core function of identifying patterns and trends from large volumes / sets of data that cannot be processed by traditional database and analysis software.',\n  'Keywords': ' Automated intelligence, assisted intelligence, augmented Intelligence, autonomous intelligence, supervised learning, unsupervised learning, adaptive systems, computer vision, natural language processing, natural language generation, text analytics, speech recognition, semantics technology, decision management, virtual agents, robotic process automation, machine learning, autonomous vehicle, smart robotics, autonomous vehicles, facial and image recognition,Advanced algorithms, advanced analytics, advanced visualization, data mining, user behavior analytics, data storytelling, business intelligence'},\n 'Advanced Manufacturing and Robotics': {'Definition': ' In comparison to Traditional Manufacturing, Advanced Manufacturing involves the use of technology to improve products and/or processes, with the relevant technology being described as \"advanced,\" \"innovative,\" or \"cutting edge.\"',\n  'Does include': ' Autonomous driving, Industrial robots, Industrial Drones, 3D printing, Industrial IOT, additive manufacturing, advanced manufacturing, industry 4.0, nano-materials, industrial internet of things, cyber physical systems, cyber manufacturing',\n  'Does not include': ' Traditional manufacturing machines',\n  'Keywords': ' 3d printing, industrial IoT, internet of things, additive manufacturing, integrated circuit, manufacturing company, machine learning, industrial automation, robotics, predictive maintenance, semiconductor'},\n 'Cleantech': {'Definition': ' Cleantech or clean technology is an umbrella term which is used to define technologies which optimize the use of natural resources, produce energy from renewable sources, increase efficiency and productivity, generate less waste and cause less environmental pollution. Cleantech consists of sustainable solutions in the fields of energy, water, transportation, agriculture and manufa systems.cturing, including advanced material, smart grids, water treatment, efficient energy storage and distributed energy',\n  'Keywords': ' Clean energy, and other forms of environmental, and sustainable or green, products and services, advanced material, smart grids, water treatment, efficient energy storage, distributed energy system. sustainable energy, solar panels',\n  'Does not include': ' oil and gas, petrochemicals'},\n 'Fintech': {'Definition': ' Describes a business that aims at providing financial services by making use of software and modern technology. [7]Financial technology (Fintech) companies use internet, blockchain and software technologies, as well as algorithms, to offer or facilitate financial services traditionally offered by banks. These services include loans, payments, investments and wealth management. Fintech also includes software that automates financial processes or addresses financial firms’ core business needs',\n  'Keywords': ' Insurance Tech, Risk Management, Trading, Portfolios, Personal Finance, Banking, Accounting, Digital Currency, Cryptocurrency, data-driven finance, phone banking, robo-advisory, regtech.',\n  'Does not include': ' Brick & Mortar banks, Old brick and mortar Insurance companies'},\n 'Blockchain': {'Definition': ' Companies that develop applications using blockchains, or distributed databases/public ledgers that record transactions and other digital events across a peer-to-peer network. The integrity of each record on a blockchain is cryptographically verified by network participants to create a distributed consensus. Cryptocurrencies and tokens are popular applications of blockchain technology.',\n  'Keywords': ' Distributed ledgers, Digital Mining,Cryptocurrency, Crypto tokens, Altcoins, Bitcoin, Ethereum, Monero, Crypto Exchanges, Smart Contracts, Initial Coin Offerings, decentralized finance (DeFi) applications, non-fungible tokens (NFTs)'},\n 'Cybersecurity': {'Definition': ' Cybersecurity is the body of technologies, processes, and practices designed to protect networks, computers, programs, and data from attack, damage, or unauthorizedaccess. For our purposes it includes application security, information security, networksecurity, disaster recovery / business continuity planning, operational security, andend-user education.',\n  'Does include': ' Application security, Information security, Network security, Disaster recovery / business continuity planning, Operational security and End-user education.',\n  'Keywords': ' cyber security, network security, data security, cloud security, threat detection, mobile security, cyber threat detection'},\n 'Agtech': {'Definition': ' Technologies to help the agriculture industry to feed our growing population without destroying the planet. AgTech is the use of technology in agriculture, horticulture, and aquaculture with the aim of improving yield, efficiency, and profitability through information monitoring and analysis of weather, pests, soil and air temperature. AgTech also includes the use of automation, such as controlling heaters and irrigation and employing pest control through aerosol pheromone dispersal.AgTech can be products, services or applications derived from agriculture that improve various input/output processes. ',\n  'Does include': ' Precision agriculture - PA is an approach to farm management that uses information technology to ensure that the crops and soil receive exactly what they need for optimum health and productivity. Integrated genetics, Physical inputs, Information technology, Smart machinery, Spectral imaging for remote sensing for monitoring the development and health of crops, data-enabled agriculture, food technology, agricultural robots, new foods, efficient sowing',\n  'Does not include': ' Farms, Vineyards, Coffee roasters, Beverages'},\n 'New Food': {'Definition': ' New Food includes technologies that can be leveraged to create efficiency and sustainability in designing, producing, choosing, delivering, and consuming food. Solutions and processes that leverage science and technology to create new types of foods and beverages. This category includes alternative proteins such as plant-based meat, fermentation and cellular agriculture, insects-based products, functional food and drinks as well as meal replacements.',\n  'Does not include': ' alt- proteins based skincare products, cannabis related skincare of wellness products (by wellness we do not consider products which are not consumed as food or in meal )',\n  'Keywords': ' artificial meat, Alternative protein, Plant-based, vegan food, vegan alternative, vegan product, animal protein, clean meat, plant-based meat, cell-based meat, cellular agriculture technology, meat alternative, meat substitute, insect protein, insect-based, probiotic product, fermentation, cannabis-derived products, cannabis-based, CBD-infused, adaptogenic, nootropic, dairy alternative, mushroom food products, mushroom-based'},\n 'Adtech ': {'Definition': ' Advertising technology - different types of analytics and digital tools used in the context of advertising and marketing. Extensive and complex systems used to direct advertising to individuals and specific target audiences. It is the use of tools and software advertisers used to reach audiences, deliver and measure digital advertising campaigns.',\n  'Keywords': ' Conversion/optimization, Email marketing, Mobile marketing, Online & display advertising, Online surveys, tests and panels, Paid search / PPC / AdWords, Search Engine Optimization, Social media & viral marketing, Usability & web design, Web analytics & tracking, Affiliate marketing, B2B digital marketing, ad networks',\n  'Does not include': ' Companies whose products and services are not focused on innovation in the advertising and marketing (e.g. all the companies that have advertising or marketing Keywords but actually only have ads on their websites etc.), martech (marketing technology) which focuses on reaching audiences via unpaid or owned channels using a brand’s first-party insights'},\n 'Blue Economy': {'Definition': ' Blue economy is the \"sustainable use of ocean resources for economic growth, improved livelihoods, and jobs while preserving the health of the ocean ecosystem. A concept that seeks to promote economic growth, social inclusion and the preservation of livelihoods while at the same time ensuring environmental sustainability of the oceans and coastal areas.',\n  'Keywords': ' ocean sustainability, aquaculture, seafloor mapping, underwater mapping, Marine Transport, Ports, and Shipbuilding, Commercial Fisheries, Coastal and Marine Tourism, maritime logistics, maritime, inwater imaging, sea/ocean waste management'},\n 'Digital Media': {'Definition': ' Digital media is any media that is encoded in a machine-readable format. Digital media can be created, viewed, distributed, modified and preserved on digital electronics devices. Digitized content (text, graphics, audio, and video) that can be transmitted over internet or computer networks.',\n  'Does include': ' Content, Publishing, Blogs, Social Media, Messengers, News, Gaming, Video, Music, Digital Images, Virtual Reality, Augmented Reality, Digital Media Solutions',\n  'Keywords': '  digitized information, marketing platform, lead generation, social media marketing, digital advertising, marketing campaign, customer engagement'},\n 'Gaming (Digital Media Sub-Cluster)': {'Definition': ' Development, marketing and monetization of video games and gambling machines / services',\n  'Does include': ' PC Gaming, Console Gaming, Mobile Gaming, Smart Gambling Machines, Internet Gambling Services',\n  'Does not include': ' …',\n  'Keywords': ' gaming platform, video games, online games, gaming studio, social games'},\n 'AR / VR (Digital Media Sub-Cluster)': {'Definition': ' Virtual reality (VR) is an artificial, computer-generated simulation or recreation of a real life environment or situation. Augmented reality (AR) is a technology that layers computer-generated enhancements atop an existing reality in order to make it more meaningful through the ability to interact with it. ',\n  'Keywords': '  Mixed Reality, 360 video, frame rate, metaverse, virtual world, cross reality, Artificial intelligence, computer vision'},\n 'Edtech': {'Definition': ' Education Technology (also known as “EdTech”) refers to an area of technology devoted to the development and application of tools (including software, hardware, and processes) intended to promote education. Put another way, “EdTech is a study and ethical practice for facilitating learning and improving performance by creating, using and managing appropriate technological processes and resources.',\n  'Keywords': ' online education, educational platform, e-learning, online learning, personalized learning, educational software, learning app, digital education'},\n 'Industry 4.0 ': {'Definition': ' Industry 4.0 is revolutionizing the way companies manufacture, improve and distribute their products. Manufacturers are integrating new technologies, including Internet of Things (IoT), cloud computing and analytics, and AI and machine learning into their production facilities and throughout their operations.These smart factories are equipped with advanced sensors, embedded software and robotics that collect and analyze data and allow for better decision making. Even higher value is created when data from production operations is combined with operational data from ERP, supply chain, customer service and other enterprise systems to create whole new levels of visibility and insight from previously siloed information. These digital technologies lead to increased automation, predictive maintenance, self-optimization of process improvements and, above all, a new level of efficiency and responsiveness to customers not previously possible.',\n  'Keywords': ' Internet of Things (IoT), Cloud computing, AI and Machine Learning (ML), Edge computing, Cybersecurity, Supply chain, cloud computing and Big Data, Predictive maintenance, Robotics, Sensors, Autonomous Vehicles'},\n 'Biopharma / Biotech': {'Definition': ' Biopharma is the sub-sector that includes any prescription or non-prescription spending on drugs to treat a disease or a health condition and is regulated by the health authorities. This does not include dietary supplements or any health foods, functional foods, or nutriceuticals. It also includes over-the-counter (OTC) drugs that do not require prescriptions. [6] Biotechnology is the use of living systems and organisms to develop or make products, or \"any technological application that uses biological systems, living organisms, or derivatives thereof, to make or modify products or processes for specific use\" (UN Convention on Biological Diversity, Art. 2). Depending on the tools and applications, it often overlaps with the (related) fields of bioengineering, biomedical engineering, biomanufacturing, molecular engineering, etc.',\n  'Does include': ' Biotechnology health care products and vaccines, agricultural biotechnology, biorefineries',\n  'Keywords': ' DNA, Cloning, Genetically designed, Bioengineering, DNA sequencing, biomolecule labeling.'},\n 'Medtech / Medical devices': {'Definition': ' The Medtech sub-sector is primarily focused on designing and manufacturing medical technological equipment, devices, and tools. The definition should exclude distributors and service providers, such as contract research organizations or contract manufacturing organizations\\t. [3] Performing functions like diagnostics,therapeutic devices, treatment and drug delivery.'}}"
     },
     "execution_count": 13,
     "metadata": {},
     "output_type": "execute_result"
    }
   ],
   "source": [
    "def_sub"
   ],
   "metadata": {
    "collapsed": false,
    "ExecuteTime": {
     "end_time": "2023-08-29T01:48:55.984637400Z",
     "start_time": "2023-08-29T01:48:55.960291600Z"
    }
   }
  },
  {
   "cell_type": "code",
   "execution_count": 12,
   "outputs": [],
   "source": [
    "from pyarrow.parquet import ParquetFile\n",
    "import pyarrow as pa\n",
    "\n",
    "pf = ParquetFile(r'C:\\Users\\leolk\\PycharmProjects\\genome\\data\\raw\\abstract.parquet')\n",
    "first_ten_rows = next(pf.iter_batches(batch_size = 500))\n",
    "df = pa.Table.from_batches([first_ten_rows]).to_pandas()"
   ],
   "metadata": {
    "collapsed": false,
    "ExecuteTime": {
     "end_time": "2023-08-29T01:48:48.561374200Z",
     "start_time": "2023-08-29T01:48:44.488135800Z"
    }
   }
  },
  {
   "cell_type": "code",
   "execution_count": 14,
   "outputs": [
    {
     "data": {
      "text/plain": "(500, 2)"
     },
     "execution_count": 14,
     "metadata": {},
     "output_type": "execute_result"
    }
   ],
   "source": [
    "df.shape"
   ],
   "metadata": {
    "collapsed": false,
    "ExecuteTime": {
     "end_time": "2023-08-29T01:48:59.223091700Z",
     "start_time": "2023-08-29T01:48:59.214018300Z"
    }
   }
  },
  {
   "cell_type": "code",
   "execution_count": null,
   "outputs": [],
   "source": [
    "from transformers import BertTokenizer, BertModel\n",
    "import torch\n",
    "from sklearn.metrics.pairwise import cosine_similarity"
   ],
   "metadata": {
    "collapsed": false
   }
  },
  {
   "cell_type": "code",
   "execution_count": null,
   "outputs": [],
   "source": [
    "# bert-large-uncased-whole-word-masking\n",
    "# bert-base-multilingual-cased\n",
    "# allenai/scibert_scivocab_uncased"
   ],
   "metadata": {
    "collapsed": false
   }
  },
  {
   "cell_type": "code",
   "execution_count": 61,
   "outputs": [
    {
     "name": "stdout",
     "output_type": "stream",
     "text": [
      "A similaridade entre os textos é: 0.9380738139152527\n"
     ]
    }
   ],
   "source": [
    "modelo_base = \"bert-large-uncased-whole-word-masking\"\n",
    "\n",
    "# Carregue o tokenizer e o modelo BERT\n",
    "tokenizer = BertTokenizer.from_pretrained(modelo_base)\n",
    "model = BertModel.from_pretrained(modelo_base)\n",
    "\n",
    "# Textos de exemplo\n",
    "texto1 = \"Cats are known for their agility and their ability to gracefully navigate obstacles.\"\n",
    "texto2 = \"Felines are recognized for their agility and their graceful maneuvering around obstacles.\"\n",
    "\n",
    "# Pré-processe e codifique os textos\n",
    "inputs1 = tokenizer(texto1, return_tensors=\"pt\", padding=True, truncation=True)\n",
    "inputs2 = tokenizer(texto2, return_tensors=\"pt\", padding=True, truncation=True)\n",
    "\n",
    "# Passe os textos pelo modelo BERT\n",
    "with torch.no_grad():\n",
    "    embeddings1 = model(**inputs1).last_hidden_state.mean(dim=1)\n",
    "    embeddings2 = model(**inputs2).last_hidden_state.mean(dim=1)\n",
    "\n",
    "# Calcule a similaridade cosseno entre os vetores\n",
    "similarity_score = cosine_similarity(embeddings1, embeddings2)\n",
    "\n",
    "print(f\"A similaridade entre os textos é: {similarity_score[0][0]}\")\n"
   ],
   "metadata": {
    "collapsed": false,
    "ExecuteTime": {
     "end_time": "2023-08-29T03:05:41.947647400Z",
     "start_time": "2023-08-29T03:05:34.275324600Z"
    }
   }
  },
  {
   "cell_type": "code",
   "execution_count": 62,
   "outputs": [
    {
     "name": "stdout",
     "output_type": "stream",
     "text": [
      "A similaridade entre os textos é: 0.840354859828949\n"
     ]
    }
   ],
   "source": [
    "\n",
    "\n",
    "# Carregue o tokenizer e o modelo BERT\n",
    "tokenizer = BertTokenizer.from_pretrained(modelo_base)\n",
    "model = BertModel.from_pretrained(modelo_base)\n",
    "\n",
    "# Textos de exemplo\n",
    "texto1 = \"Basketball is a popular sport played with a round ball and two teams.\"\n",
    "texto2 = \"Soccer, also known as football in many countries, is a widely loved sport played with a round ball and two teams.\"\n",
    "\n",
    "# Pré-processe e codifique os textos\n",
    "inputs1 = tokenizer(texto1, return_tensors=\"pt\", padding=True, truncation=True)\n",
    "inputs2 = tokenizer(texto2, return_tensors=\"pt\", padding=True, truncation=True)\n",
    "\n",
    "# Passe os textos pelo modelo BERT\n",
    "with torch.no_grad():\n",
    "    embeddings1 = model(**inputs1).last_hidden_state.mean(dim=1)\n",
    "    embeddings2 = model(**inputs2).last_hidden_state.mean(dim=1)\n",
    "\n",
    "# Calcule a similaridade cosseno entre os vetores\n",
    "similarity_score = cosine_similarity(embeddings1, embeddings2)\n",
    "\n",
    "print(f\"A similaridade entre os textos é: {similarity_score[0][0]}\")\n"
   ],
   "metadata": {
    "collapsed": false,
    "ExecuteTime": {
     "end_time": "2023-08-29T03:05:49.831219500Z",
     "start_time": "2023-08-29T03:05:41.963282Z"
    }
   }
  },
  {
   "cell_type": "code",
   "execution_count": 63,
   "outputs": [
    {
     "name": "stdout",
     "output_type": "stream",
     "text": [
      "A similaridade entre os textos é: 0.5276683568954468\n"
     ]
    }
   ],
   "source": [
    "\n",
    "\n",
    "# Carregue o tokenizer e o modelo BERT\n",
    "tokenizer = BertTokenizer.from_pretrained(modelo_base)\n",
    "model = BertModel.from_pretrained(modelo_base)\n",
    "\n",
    "# Textos de exemplo\n",
    "texto1 = \"The Eiffel Tower is an iconic landmark in Paris, France.\"\n",
    "texto2 = \"Bananas are a source of potassium and are often used in smoothies.\"\n",
    "\n",
    "# Pré-processe e codifique os textos\n",
    "inputs1 = tokenizer(texto1, return_tensors=\"pt\", padding=True, truncation=True)\n",
    "inputs2 = tokenizer(texto2, return_tensors=\"pt\", padding=True, truncation=True)\n",
    "\n",
    "# Passe os textos pelo modelo BERT}\n",
    "with torch.no_grad():\n",
    "    embeddings1 = model(**inputs1).last_hidden_state.mean(dim=1)\n",
    "    embeddings2 = model(**inputs2).last_hidden_state.mean(dim=1)\n",
    "\n",
    "# Calcule a similaridade cosseno entre os vetores\n",
    "similarity_score = cosine_similarity(embeddings1, embeddings2)\n",
    "\n",
    "print(f\"A similaridade entre os textos é: {similarity_score[0][0]}\")\n"
   ],
   "metadata": {
    "collapsed": false,
    "ExecuteTime": {
     "end_time": "2023-08-29T03:05:56.849153800Z",
     "start_time": "2023-08-29T03:05:49.893733800Z"
    }
   }
  },
  {
   "cell_type": "code",
   "execution_count": 64,
   "outputs": [
    {
     "name": "stdout",
     "output_type": "stream",
     "text": [
      "A similaridade entre os textos é: 0.8487234711647034\n"
     ]
    }
   ],
   "source": [
    "modelo_base = \"bert-large-uncased-whole-word-masking\"\n",
    "\n",
    "# Carregue o tokenizer e o modelo BERT\n",
    "tokenizer = BertTokenizer.from_pretrained(modelo_base)\n",
    "model = BertModel.from_pretrained(modelo_base)\n",
    "\n",
    "# Textos de exemplo\n",
    "texto1 = \"Cats are known for their agility and their ability to gracefully navigate obstacles.\"\n",
    "texto2 = \"Felines are recognized for their agility and their graceful maneuvering around obstacles.\"\n",
    "\n",
    "# Pré-processe e codifique os textos\n",
    "inputs1 = tokenizer(texto1, return_tensors=\"pt\", padding=True, truncation=True)\n",
    "inputs2 = tokenizer(texto2, return_tensors=\"pt\", padding=True, truncation=True)\n",
    "\n",
    "# Passe os textos pelo modelo BERT\n",
    "with torch.no_grad():\n",
    "    embeddings1 = model(**inputs1).last_hidden_state.mean(dim=1)\n",
    "    embeddings2 = model(**inputs2).last_hidden_state.mean(dim=1)\n",
    "\n",
    "# Calcule a similaridade cosseno entre os vetores\n",
    "similarity_score = cosine_similarity(embeddings1, embeddings2)\n",
    "\n",
    "print(f\"A similaridade entre os textos é: {similarity_score[0][0]}\")\n"
   ],
   "metadata": {
    "collapsed": false,
    "ExecuteTime": {
     "end_time": "2023-08-29T03:06:00.046700700Z",
     "start_time": "2023-08-29T03:05:56.880412400Z"
    }
   }
  },
  {
   "cell_type": "code",
   "execution_count": 91,
   "outputs": [],
   "source": [
    "score_sub={}\n",
    "final_sub = {}\n",
    "for i in range(df.head(500).shape[0]):\n",
    "    text_patente = df.iloc[i]['abstract']\n",
    "    numero_id =  df.iloc[i]['publication_number']\n",
    "    s='patent_id'\n",
    "    if s in final_sub.keys():\n",
    "        final_sub[s].append(numero_id)\n",
    "    else:\n",
    "        final_sub[s] = [numero_id]\n",
    "    for s in def_sub.keys():\n",
    "        subsetor = def_sub[s]['Definition']\n",
    "        inputs1 = tokenizer(text_patente, return_tensors=\"pt\", padding=True, truncation=True)\n",
    "        inputs2 = tokenizer(subsetor, return_tensors=\"pt\", padding=True, truncation=True)\n",
    "\n",
    "        with torch.no_grad():\n",
    "            embeddings1 = model(**inputs1).last_hidden_state.mean(dim=1)\n",
    "            embeddings2 = model(**inputs2).last_hidden_state.mean(dim=1)\n",
    "        # Calcule a similaridade cosseno entre os vetores\n",
    "        similarity_score = cosine_similarity(embeddings1, embeddings2)\n",
    "        valor = similarity_score[0][0]\n",
    "        if s in final_sub.keys():\n",
    "            final_sub[s].append(valor)\n",
    "        else:\n",
    "            final_sub[s] = [valor]"
   ],
   "metadata": {
    "collapsed": false,
    "ExecuteTime": {
     "end_time": "2023-08-29T04:32:14.962195400Z",
     "start_time": "2023-08-29T03:38:14.373774100Z"
    }
   }
  },
  {
   "cell_type": "code",
   "execution_count": 96,
   "outputs": [],
   "source": [
    "df_final = pd.DataFrame(data=final_sub)"
   ],
   "metadata": {
    "collapsed": false,
    "ExecuteTime": {
     "end_time": "2023-08-29T04:33:37.463363900Z",
     "start_time": "2023-08-29T04:33:37.440053200Z"
    }
   }
  },
  {
   "cell_type": "code",
   "execution_count": 100,
   "outputs": [],
   "source": [
    "colunas_aval = df_final.drop(columns=['patent_id']).columns"
   ],
   "metadata": {
    "collapsed": false,
    "ExecuteTime": {
     "end_time": "2023-08-29T04:35:19.888396400Z",
     "start_time": "2023-08-29T04:35:19.872758800Z"
    }
   }
  },
  {
   "cell_type": "code",
   "execution_count": 110,
   "outputs": [],
   "source": [
    "df_final['subsector'] = df_final[colunas_aval].idxmax(axis=1)\n",
    "df_final['subsector_max'] = df_final[colunas_aval].max(axis=1)\n"
   ],
   "metadata": {
    "collapsed": false,
    "ExecuteTime": {
     "end_time": "2023-08-29T04:38:53.009465800Z",
     "start_time": "2023-08-29T04:38:52.995544800Z"
    }
   }
  },
  {
   "cell_type": "code",
   "execution_count": 113,
   "outputs": [
    {
     "data": {
      "text/plain": "count    500.000000\nmean       0.723297\nstd        0.061126\nmin        0.574697\n25%        0.680181\n50%        0.716222\n75%        0.756944\nmax        0.894529\nName: subsector_max, dtype: float64"
     },
     "execution_count": 113,
     "metadata": {},
     "output_type": "execute_result"
    }
   ],
   "source": [
    "df_final.subsector_max.describe()"
   ],
   "metadata": {
    "collapsed": false,
    "ExecuteTime": {
     "end_time": "2023-08-29T04:39:32.996967100Z",
     "start_time": "2023-08-29T04:39:32.977972400Z"
    }
   }
  },
  {
   "cell_type": "code",
   "execution_count": 116,
   "outputs": [],
   "source": [
    "df_final.to_csv(r'C:\\Users\\leolk\\PycharmProjects\\genome\\data\\external\\teste_1.csv',index=False)"
   ],
   "metadata": {
    "collapsed": false,
    "ExecuteTime": {
     "end_time": "2023-08-29T04:41:58.140112900Z",
     "start_time": "2023-08-29T04:41:58.102889400Z"
    }
   }
  },
  {
   "cell_type": "code",
   "execution_count": 117,
   "outputs": [
    {
     "data": {
      "text/plain": "       patent_id  Artificial Intelligence, Big Data and Analytics  \\\n0    20080063564                                         0.650031   \n1    20080025285                                         0.654247   \n2    20080056857                                         0.627777   \n3    20080031117                                         0.719641   \n4    20080056179                                         0.702135   \n..           ...                                              ...   \n495  20080041883                                         0.657498   \n496  20080041345                                         0.634039   \n497  20080051924                                         0.748699   \n498  20080015976                                         0.724476   \n499  20080049714                                         0.811598   \n\n     Advanced Manufacturing and Robotics  Cleantech   Fintech  Blockchain  \\\n0                               0.605756   0.573923  0.599119    0.641393   \n1                               0.588696   0.603313  0.580904    0.688759   \n2                               0.595970   0.606053  0.546289    0.617950   \n3                               0.606572   0.615243  0.622436    0.733715   \n4                               0.655567   0.596367  0.628604    0.743621   \n..                                   ...        ...       ...         ...   \n495                             0.607460   0.615257  0.593901    0.643272   \n496                             0.590982   0.679211  0.631375    0.648410   \n497                             0.648049   0.685680  0.730200    0.780289   \n498                             0.674516   0.641493  0.728458    0.726863   \n499                             0.693672   0.662492  0.735109    0.829994   \n\n     Cybersecurity    Agtech  New Food   Adtech   Blue Economy  Digital Media  \\\n0         0.547087  0.616382  0.603040  0.592458      0.522085       0.533041   \n1         0.625863  0.848183  0.587108  0.619066      0.545101       0.591895   \n2         0.590470  0.844021  0.568010  0.595766      0.557418       0.549862   \n3         0.664647  0.698876  0.611769  0.662277      0.576402       0.726121   \n4         0.682664  0.717805  0.641807  0.637198      0.574359       0.692073   \n..             ...       ...       ...       ...           ...            ...   \n495       0.639364  0.709678  0.567720  0.613398      0.558869       0.645092   \n496       0.612350  0.706261  0.615976  0.591577      0.579206       0.599036   \n497       0.764835  0.697909  0.684310  0.674562      0.582896       0.652805   \n498       0.687344  0.699888  0.660693  0.674816      0.611076       0.610215   \n499       0.768527  0.722120  0.691415  0.725000      0.611163       0.716160   \n\n     Gaming (Digital Media Sub-Cluster)  AR / VR (Digital Media Sub-Cluster)  \\\n0                              0.478415                             0.590923   \n1                              0.488534                             0.637768   \n2                              0.481458                             0.622820   \n3                              0.553943                             0.677887   \n4                              0.542963                             0.696848   \n..                                  ...                                  ...   \n495                            0.484934                             0.677602   \n496                            0.520442                             0.638135   \n497                            0.633034                             0.685304   \n498                            0.584761                             0.691235   \n499                            0.615913                             0.760452   \n\n       Edtech  Industry 4.0   Biopharma / Biotech  Medtech / Medical devices  \\\n0    0.541572       0.658145             0.698582                   0.629721   \n1    0.602765       0.676253             0.668764                   0.598621   \n2    0.584264       0.651260             0.682258                   0.582866   \n3    0.575305       0.722794             0.656041                   0.658673   \n4    0.613522       0.752631             0.711480                   0.633415   \n..        ...            ...                  ...                        ...   \n495  0.581063       0.698815             0.709640                   0.636036   \n496  0.567659       0.708667             0.686601                   0.633999   \n497  0.639791       0.769908             0.717067                   0.739769   \n498  0.644426       0.759229             0.719787                   0.666473   \n499  0.665805       0.799238             0.736817                   0.729659   \n\n               subsector  subsector_max  \n0    Biopharma / Biotech       0.698582  \n1                 Agtech       0.848183  \n2                 Agtech       0.844021  \n3             Blockchain       0.733715  \n4          Industry 4.0        0.752631  \n..                   ...            ...  \n495               Agtech       0.709678  \n496        Industry 4.0        0.708667  \n497           Blockchain       0.780289  \n498        Industry 4.0        0.759229  \n499           Blockchain       0.829994  \n\n[500 rows x 20 columns]",
      "text/html": "<div>\n<style scoped>\n    .dataframe tbody tr th:only-of-type {\n        vertical-align: middle;\n    }\n\n    .dataframe tbody tr th {\n        vertical-align: top;\n    }\n\n    .dataframe thead th {\n        text-align: right;\n    }\n</style>\n<table border=\"1\" class=\"dataframe\">\n  <thead>\n    <tr style=\"text-align: right;\">\n      <th></th>\n      <th>patent_id</th>\n      <th>Artificial Intelligence, Big Data and Analytics</th>\n      <th>Advanced Manufacturing and Robotics</th>\n      <th>Cleantech</th>\n      <th>Fintech</th>\n      <th>Blockchain</th>\n      <th>Cybersecurity</th>\n      <th>Agtech</th>\n      <th>New Food</th>\n      <th>Adtech</th>\n      <th>Blue Economy</th>\n      <th>Digital Media</th>\n      <th>Gaming (Digital Media Sub-Cluster)</th>\n      <th>AR / VR (Digital Media Sub-Cluster)</th>\n      <th>Edtech</th>\n      <th>Industry 4.0</th>\n      <th>Biopharma / Biotech</th>\n      <th>Medtech / Medical devices</th>\n      <th>subsector</th>\n      <th>subsector_max</th>\n    </tr>\n  </thead>\n  <tbody>\n    <tr>\n      <th>0</th>\n      <td>20080063564</td>\n      <td>0.650031</td>\n      <td>0.605756</td>\n      <td>0.573923</td>\n      <td>0.599119</td>\n      <td>0.641393</td>\n      <td>0.547087</td>\n      <td>0.616382</td>\n      <td>0.603040</td>\n      <td>0.592458</td>\n      <td>0.522085</td>\n      <td>0.533041</td>\n      <td>0.478415</td>\n      <td>0.590923</td>\n      <td>0.541572</td>\n      <td>0.658145</td>\n      <td>0.698582</td>\n      <td>0.629721</td>\n      <td>Biopharma / Biotech</td>\n      <td>0.698582</td>\n    </tr>\n    <tr>\n      <th>1</th>\n      <td>20080025285</td>\n      <td>0.654247</td>\n      <td>0.588696</td>\n      <td>0.603313</td>\n      <td>0.580904</td>\n      <td>0.688759</td>\n      <td>0.625863</td>\n      <td>0.848183</td>\n      <td>0.587108</td>\n      <td>0.619066</td>\n      <td>0.545101</td>\n      <td>0.591895</td>\n      <td>0.488534</td>\n      <td>0.637768</td>\n      <td>0.602765</td>\n      <td>0.676253</td>\n      <td>0.668764</td>\n      <td>0.598621</td>\n      <td>Agtech</td>\n      <td>0.848183</td>\n    </tr>\n    <tr>\n      <th>2</th>\n      <td>20080056857</td>\n      <td>0.627777</td>\n      <td>0.595970</td>\n      <td>0.606053</td>\n      <td>0.546289</td>\n      <td>0.617950</td>\n      <td>0.590470</td>\n      <td>0.844021</td>\n      <td>0.568010</td>\n      <td>0.595766</td>\n      <td>0.557418</td>\n      <td>0.549862</td>\n      <td>0.481458</td>\n      <td>0.622820</td>\n      <td>0.584264</td>\n      <td>0.651260</td>\n      <td>0.682258</td>\n      <td>0.582866</td>\n      <td>Agtech</td>\n      <td>0.844021</td>\n    </tr>\n    <tr>\n      <th>3</th>\n      <td>20080031117</td>\n      <td>0.719641</td>\n      <td>0.606572</td>\n      <td>0.615243</td>\n      <td>0.622436</td>\n      <td>0.733715</td>\n      <td>0.664647</td>\n      <td>0.698876</td>\n      <td>0.611769</td>\n      <td>0.662277</td>\n      <td>0.576402</td>\n      <td>0.726121</td>\n      <td>0.553943</td>\n      <td>0.677887</td>\n      <td>0.575305</td>\n      <td>0.722794</td>\n      <td>0.656041</td>\n      <td>0.658673</td>\n      <td>Blockchain</td>\n      <td>0.733715</td>\n    </tr>\n    <tr>\n      <th>4</th>\n      <td>20080056179</td>\n      <td>0.702135</td>\n      <td>0.655567</td>\n      <td>0.596367</td>\n      <td>0.628604</td>\n      <td>0.743621</td>\n      <td>0.682664</td>\n      <td>0.717805</td>\n      <td>0.641807</td>\n      <td>0.637198</td>\n      <td>0.574359</td>\n      <td>0.692073</td>\n      <td>0.542963</td>\n      <td>0.696848</td>\n      <td>0.613522</td>\n      <td>0.752631</td>\n      <td>0.711480</td>\n      <td>0.633415</td>\n      <td>Industry 4.0</td>\n      <td>0.752631</td>\n    </tr>\n    <tr>\n      <th>...</th>\n      <td>...</td>\n      <td>...</td>\n      <td>...</td>\n      <td>...</td>\n      <td>...</td>\n      <td>...</td>\n      <td>...</td>\n      <td>...</td>\n      <td>...</td>\n      <td>...</td>\n      <td>...</td>\n      <td>...</td>\n      <td>...</td>\n      <td>...</td>\n      <td>...</td>\n      <td>...</td>\n      <td>...</td>\n      <td>...</td>\n      <td>...</td>\n      <td>...</td>\n    </tr>\n    <tr>\n      <th>495</th>\n      <td>20080041883</td>\n      <td>0.657498</td>\n      <td>0.607460</td>\n      <td>0.615257</td>\n      <td>0.593901</td>\n      <td>0.643272</td>\n      <td>0.639364</td>\n      <td>0.709678</td>\n      <td>0.567720</td>\n      <td>0.613398</td>\n      <td>0.558869</td>\n      <td>0.645092</td>\n      <td>0.484934</td>\n      <td>0.677602</td>\n      <td>0.581063</td>\n      <td>0.698815</td>\n      <td>0.709640</td>\n      <td>0.636036</td>\n      <td>Agtech</td>\n      <td>0.709678</td>\n    </tr>\n    <tr>\n      <th>496</th>\n      <td>20080041345</td>\n      <td>0.634039</td>\n      <td>0.590982</td>\n      <td>0.679211</td>\n      <td>0.631375</td>\n      <td>0.648410</td>\n      <td>0.612350</td>\n      <td>0.706261</td>\n      <td>0.615976</td>\n      <td>0.591577</td>\n      <td>0.579206</td>\n      <td>0.599036</td>\n      <td>0.520442</td>\n      <td>0.638135</td>\n      <td>0.567659</td>\n      <td>0.708667</td>\n      <td>0.686601</td>\n      <td>0.633999</td>\n      <td>Industry 4.0</td>\n      <td>0.708667</td>\n    </tr>\n    <tr>\n      <th>497</th>\n      <td>20080051924</td>\n      <td>0.748699</td>\n      <td>0.648049</td>\n      <td>0.685680</td>\n      <td>0.730200</td>\n      <td>0.780289</td>\n      <td>0.764835</td>\n      <td>0.697909</td>\n      <td>0.684310</td>\n      <td>0.674562</td>\n      <td>0.582896</td>\n      <td>0.652805</td>\n      <td>0.633034</td>\n      <td>0.685304</td>\n      <td>0.639791</td>\n      <td>0.769908</td>\n      <td>0.717067</td>\n      <td>0.739769</td>\n      <td>Blockchain</td>\n      <td>0.780289</td>\n    </tr>\n    <tr>\n      <th>498</th>\n      <td>20080015976</td>\n      <td>0.724476</td>\n      <td>0.674516</td>\n      <td>0.641493</td>\n      <td>0.728458</td>\n      <td>0.726863</td>\n      <td>0.687344</td>\n      <td>0.699888</td>\n      <td>0.660693</td>\n      <td>0.674816</td>\n      <td>0.611076</td>\n      <td>0.610215</td>\n      <td>0.584761</td>\n      <td>0.691235</td>\n      <td>0.644426</td>\n      <td>0.759229</td>\n      <td>0.719787</td>\n      <td>0.666473</td>\n      <td>Industry 4.0</td>\n      <td>0.759229</td>\n    </tr>\n    <tr>\n      <th>499</th>\n      <td>20080049714</td>\n      <td>0.811598</td>\n      <td>0.693672</td>\n      <td>0.662492</td>\n      <td>0.735109</td>\n      <td>0.829994</td>\n      <td>0.768527</td>\n      <td>0.722120</td>\n      <td>0.691415</td>\n      <td>0.725000</td>\n      <td>0.611163</td>\n      <td>0.716160</td>\n      <td>0.615913</td>\n      <td>0.760452</td>\n      <td>0.665805</td>\n      <td>0.799238</td>\n      <td>0.736817</td>\n      <td>0.729659</td>\n      <td>Blockchain</td>\n      <td>0.829994</td>\n    </tr>\n  </tbody>\n</table>\n<p>500 rows × 20 columns</p>\n</div>"
     },
     "execution_count": 117,
     "metadata": {},
     "output_type": "execute_result"
    }
   ],
   "source": [
    "pd.read_csv(r'C:\\Users\\leolk\\PycharmProjects\\genome\\data\\external\\teste_1.csv')"
   ],
   "metadata": {
    "collapsed": false,
    "ExecuteTime": {
     "end_time": "2023-08-29T04:41:59.026384400Z",
     "start_time": "2023-08-29T04:41:58.983409800Z"
    }
   }
  },
  {
   "cell_type": "code",
   "execution_count": null,
   "outputs": [],
   "source": [],
   "metadata": {
    "collapsed": false
   }
  }
 ],
 "metadata": {
  "kernelspec": {
   "display_name": "Python 3",
   "language": "python",
   "name": "python3"
  },
  "language_info": {
   "codemirror_mode": {
    "name": "ipython",
    "version": 2
   },
   "file_extension": ".py",
   "mimetype": "text/x-python",
   "name": "python",
   "nbconvert_exporter": "python",
   "pygments_lexer": "ipython2",
   "version": "2.7.6"
  }
 },
 "nbformat": 4,
 "nbformat_minor": 0
}
