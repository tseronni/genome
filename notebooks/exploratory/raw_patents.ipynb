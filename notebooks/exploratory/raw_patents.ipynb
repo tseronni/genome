{
 "cells": [
  {
   "cell_type": "code",
   "execution_count": 11,
   "metadata": {
    "collapsed": true,
    "ExecuteTime": {
     "end_time": "2023-06-12T04:39:22.731915500Z",
     "start_time": "2023-06-12T04:39:22.716871Z"
    }
   },
   "outputs": [],
   "source": [
    "import pandas as pd\n",
    "from src.utils.UsefulPaths import Paths"
   ]
  },
  {
   "cell_type": "code",
   "execution_count": 12,
   "outputs": [],
   "source": [
    "paths = Paths()\n",
    "data_path = paths.raw_parquet_raw_patents"
   ],
   "metadata": {
    "collapsed": false,
    "ExecuteTime": {
     "end_time": "2023-06-12T04:39:22.758424300Z",
     "start_time": "2023-06-12T04:39:22.733418900Z"
    }
   }
  },
  {
   "cell_type": "code",
   "execution_count": 13,
   "outputs": [
    {
     "data": {
      "text/plain": "     patent_id name_first name_last           city country  \\\n0  20140380145      Rajiv   Puranik  San Francisco      US   \n1  20140380145     Thomas   Wilsher  San Francisco      US   \n2  20140380219       John    CARTAN        Alameda      US   \n3  20150000186      Barry     Freel         Ottawa      CA   \n4  20150000186     Robert    Graham         Ottawa      CA   \n\n                 grant_date  grant_year                  app_date  app_year  \\\n0  2014-12-25T00:00:00.000Z        2014  2014-05-08T00:00:00.000Z      2014   \n1  2014-12-25T00:00:00.000Z        2014  2014-05-08T00:00:00.000Z      2014   \n2  2014-12-25T00:00:00.000Z        2014  2014-06-20T00:00:00.000Z      2014   \n3  2015-01-01T00:00:00.000Z        2015  2014-09-16T00:00:00.000Z      2014   \n4  2015-01-01T00:00:00.000Z        2015  2014-09-16T00:00:00.000Z      2014   \n\n   class_distinct_count class_concat  class_IPC_distinct_count  \\\n0                   1.0         G06F                       1.0   \n1                   1.0         G06F                       1.0   \n2                   1.0         G06F                       1.0   \n3                   1.0         C10L                       1.0   \n4                   1.0         C10L                       1.0   \n\n  class_IPC_concat    CountryName                 CityCountry       Ecosystem  \\\n0             G06F  United States  San FranciscoUnited States  Silicon Valley   \n1             G06F  United States  San FranciscoUnited States  Silicon Valley   \n2             G06F  United States        AlamedaUnited States  Silicon Valley   \n3             C10L         Canada                OttawaCanada          Ottawa   \n4             C10L         Canada                OttawaCanada          Ottawa   \n\n      GoogleCity  \n0  San Francisco  \n1  San Francisco  \n2        Alameda  \n3         Ottawa  \n4         Ottawa  ",
      "text/html": "<div>\n<style scoped>\n    .dataframe tbody tr th:only-of-type {\n        vertical-align: middle;\n    }\n\n    .dataframe tbody tr th {\n        vertical-align: top;\n    }\n\n    .dataframe thead th {\n        text-align: right;\n    }\n</style>\n<table border=\"1\" class=\"dataframe\">\n  <thead>\n    <tr style=\"text-align: right;\">\n      <th></th>\n      <th>patent_id</th>\n      <th>name_first</th>\n      <th>name_last</th>\n      <th>city</th>\n      <th>country</th>\n      <th>grant_date</th>\n      <th>grant_year</th>\n      <th>app_date</th>\n      <th>app_year</th>\n      <th>class_distinct_count</th>\n      <th>class_concat</th>\n      <th>class_IPC_distinct_count</th>\n      <th>class_IPC_concat</th>\n      <th>CountryName</th>\n      <th>CityCountry</th>\n      <th>Ecosystem</th>\n      <th>GoogleCity</th>\n    </tr>\n  </thead>\n  <tbody>\n    <tr>\n      <th>0</th>\n      <td>20140380145</td>\n      <td>Rajiv</td>\n      <td>Puranik</td>\n      <td>San Francisco</td>\n      <td>US</td>\n      <td>2014-12-25T00:00:00.000Z</td>\n      <td>2014</td>\n      <td>2014-05-08T00:00:00.000Z</td>\n      <td>2014</td>\n      <td>1.0</td>\n      <td>G06F</td>\n      <td>1.0</td>\n      <td>G06F</td>\n      <td>United States</td>\n      <td>San FranciscoUnited States</td>\n      <td>Silicon Valley</td>\n      <td>San Francisco</td>\n    </tr>\n    <tr>\n      <th>1</th>\n      <td>20140380145</td>\n      <td>Thomas</td>\n      <td>Wilsher</td>\n      <td>San Francisco</td>\n      <td>US</td>\n      <td>2014-12-25T00:00:00.000Z</td>\n      <td>2014</td>\n      <td>2014-05-08T00:00:00.000Z</td>\n      <td>2014</td>\n      <td>1.0</td>\n      <td>G06F</td>\n      <td>1.0</td>\n      <td>G06F</td>\n      <td>United States</td>\n      <td>San FranciscoUnited States</td>\n      <td>Silicon Valley</td>\n      <td>San Francisco</td>\n    </tr>\n    <tr>\n      <th>2</th>\n      <td>20140380219</td>\n      <td>John</td>\n      <td>CARTAN</td>\n      <td>Alameda</td>\n      <td>US</td>\n      <td>2014-12-25T00:00:00.000Z</td>\n      <td>2014</td>\n      <td>2014-06-20T00:00:00.000Z</td>\n      <td>2014</td>\n      <td>1.0</td>\n      <td>G06F</td>\n      <td>1.0</td>\n      <td>G06F</td>\n      <td>United States</td>\n      <td>AlamedaUnited States</td>\n      <td>Silicon Valley</td>\n      <td>Alameda</td>\n    </tr>\n    <tr>\n      <th>3</th>\n      <td>20150000186</td>\n      <td>Barry</td>\n      <td>Freel</td>\n      <td>Ottawa</td>\n      <td>CA</td>\n      <td>2015-01-01T00:00:00.000Z</td>\n      <td>2015</td>\n      <td>2014-09-16T00:00:00.000Z</td>\n      <td>2014</td>\n      <td>1.0</td>\n      <td>C10L</td>\n      <td>1.0</td>\n      <td>C10L</td>\n      <td>Canada</td>\n      <td>OttawaCanada</td>\n      <td>Ottawa</td>\n      <td>Ottawa</td>\n    </tr>\n    <tr>\n      <th>4</th>\n      <td>20150000186</td>\n      <td>Robert</td>\n      <td>Graham</td>\n      <td>Ottawa</td>\n      <td>CA</td>\n      <td>2015-01-01T00:00:00.000Z</td>\n      <td>2015</td>\n      <td>2014-09-16T00:00:00.000Z</td>\n      <td>2014</td>\n      <td>1.0</td>\n      <td>C10L</td>\n      <td>1.0</td>\n      <td>C10L</td>\n      <td>Canada</td>\n      <td>OttawaCanada</td>\n      <td>Ottawa</td>\n      <td>Ottawa</td>\n    </tr>\n  </tbody>\n</table>\n</div>"
     },
     "execution_count": 13,
     "metadata": {},
     "output_type": "execute_result"
    }
   ],
   "source": [
    "df = pd.read_parquet(data_path)\n",
    "df.head(5)"
   ],
   "metadata": {
    "collapsed": false,
    "ExecuteTime": {
     "end_time": "2023-06-12T04:39:27.927689800Z",
     "start_time": "2023-06-12T04:39:22.748423400Z"
    }
   }
  },
  {
   "cell_type": "code",
   "execution_count": 14,
   "outputs": [
    {
     "name": "stdout",
     "output_type": "stream",
     "text": [
      "Rows: 9,830,924 rows | Columns: 17\n"
     ]
    }
   ],
   "source": [
    "df_rows, df_columns = df.shape\n",
    "print(f'Rows: {df_rows:,} rows | Columns: {df_columns}')"
   ],
   "metadata": {
    "collapsed": false,
    "ExecuteTime": {
     "end_time": "2023-06-12T04:39:27.973736Z",
     "start_time": "2023-06-12T04:39:27.927689800Z"
    }
   }
  },
  {
   "cell_type": "code",
   "execution_count": 15,
   "outputs": [
    {
     "name": "stdout",
     "output_type": "stream",
     "text": [
      "Null values for each column:\n",
      "patent_id                         0\n",
      "name_first                      104\n",
      "name_last                      1716\n",
      "city                            600\n",
      "country                          47\n",
      "grant_date                        0\n",
      "grant_year                        0\n",
      "app_date                          0\n",
      "app_year                          0\n",
      "class_distinct_count          40367\n",
      "class_concat                  40367\n",
      "class_IPC_distinct_count      40367\n",
      "class_IPC_concat              49597\n",
      "CountryName                     492\n",
      "CityCountry                       0\n",
      "Ecosystem                   2522799\n",
      "GoogleCity                  2396608\n",
      "dtype: int64\n"
     ]
    }
   ],
   "source": [
    "print(f'Null values for each column:\\n{df.isnull().sum()}')"
   ],
   "metadata": {
    "collapsed": false,
    "ExecuteTime": {
     "end_time": "2023-06-12T04:39:30.050939900Z",
     "start_time": "2023-06-12T04:39:27.944737900Z"
    }
   }
  },
  {
   "cell_type": "code",
   "execution_count": 16,
   "outputs": [
    {
     "name": "stdout",
     "output_type": "stream",
     "text": [
      "Null value percentages for each column:\n",
      "patent_id                    0.000000\n",
      "name_first                   0.001058\n",
      "name_last                    0.017455\n",
      "city                         0.006103\n",
      "country                      0.000478\n",
      "grant_date                   0.000000\n",
      "grant_year                   0.000000\n",
      "app_date                     0.000000\n",
      "app_year                     0.000000\n",
      "class_distinct_count         0.410612\n",
      "class_concat                 0.410612\n",
      "class_IPC_distinct_count     0.410612\n",
      "class_IPC_concat             0.504500\n",
      "CountryName                  0.005005\n",
      "CityCountry                  0.000000\n",
      "Ecosystem                   25.661871\n",
      "GoogleCity                  24.378258\n",
      "dtype: float64\n"
     ]
    }
   ],
   "source": [
    "print(f'Null value percentages for each column:\\n{df.isnull().mean() * 100}')"
   ],
   "metadata": {
    "collapsed": false,
    "ExecuteTime": {
     "end_time": "2023-06-12T04:39:32.144581500Z",
     "start_time": "2023-06-12T04:39:30.052123200Z"
    }
   }
  },
  {
   "cell_type": "code",
   "execution_count": 17,
   "outputs": [],
   "source": [
    "df_null = df[df.isnull().any(axis=1)]"
   ],
   "metadata": {
    "collapsed": false,
    "ExecuteTime": {
     "end_time": "2023-06-12T04:39:34.499124500Z",
     "start_time": "2023-06-12T04:39:32.144581500Z"
    }
   }
  },
  {
   "cell_type": "code",
   "execution_count": 18,
   "outputs": [
    {
     "name": "stdout",
     "output_type": "stream",
     "text": [
      "Duplicated rows sum:\n",
      "1041\n"
     ]
    }
   ],
   "source": [
    "print(f'Duplicated rows sum:\\n{df.duplicated().sum()}')"
   ],
   "metadata": {
    "collapsed": false,
    "ExecuteTime": {
     "end_time": "2023-06-12T04:39:44.396908800Z",
     "start_time": "2023-06-12T04:39:34.501124500Z"
    }
   }
  },
  {
   "cell_type": "code",
   "execution_count": 19,
   "outputs": [
    {
     "data": {
      "text/plain": "         patent_id name_first name_last     city country  \\\n6298   20150296389      Lauri    WIROLA  Tampere      FI   \n6299   20150296389      Lauri    WIROLA  Tampere      FI   \n36993  20190137880      Seung       LEE    Daegu      KR   \n36994  20190137880      Seung       LEE    Daegu      KR   \n42588  20190386270     Byoung       Lee  Daejeon      KR   \n\n                     grant_date  grant_year                  app_date  \\\n6298   2015-10-15T00:00:00.000Z        2015  2015-06-25T00:00:00.000Z   \n6299   2015-10-15T00:00:00.000Z        2015  2015-06-25T00:00:00.000Z   \n36993  2019-05-09T00:00:00.000Z        2019  2017-04-26T00:00:00.000Z   \n36994  2019-05-09T00:00:00.000Z        2019  2017-04-26T00:00:00.000Z   \n42588  2019-12-19T00:00:00.000Z        2019  2018-05-23T00:00:00.000Z   \n\n       app_year  class_distinct_count class_concat  class_IPC_distinct_count  \\\n6298       2015                   1.0         H04W                       1.0   \n6299       2015                   1.0         H04W                       1.0   \n36993      2017                   1.0         G03F                       1.0   \n36994      2017                   1.0         G03F                       1.0   \n42588      2018                   1.0         H01M                       1.0   \n\n      class_IPC_concat         CountryName                CityCountry  \\\n6298              H04W             Finland             TampereFinland   \n6299              H04W             Finland             TampereFinland   \n36993             G03F  Korea, Republic of    DaeguKorea, Republic of   \n36994             G03F  Korea, Republic of    DaeguKorea, Republic of   \n42588             H01M  Korea, Republic of  DaejeonKorea, Republic of   \n\n      Ecosystem GoogleCity  \n6298       None    Tampere  \n6299       None    Tampere  \n36993     Busan       Daeg  \n36994     Busan       Daeg  \n42588      None    Daejeon  ",
      "text/html": "<div>\n<style scoped>\n    .dataframe tbody tr th:only-of-type {\n        vertical-align: middle;\n    }\n\n    .dataframe tbody tr th {\n        vertical-align: top;\n    }\n\n    .dataframe thead th {\n        text-align: right;\n    }\n</style>\n<table border=\"1\" class=\"dataframe\">\n  <thead>\n    <tr style=\"text-align: right;\">\n      <th></th>\n      <th>patent_id</th>\n      <th>name_first</th>\n      <th>name_last</th>\n      <th>city</th>\n      <th>country</th>\n      <th>grant_date</th>\n      <th>grant_year</th>\n      <th>app_date</th>\n      <th>app_year</th>\n      <th>class_distinct_count</th>\n      <th>class_concat</th>\n      <th>class_IPC_distinct_count</th>\n      <th>class_IPC_concat</th>\n      <th>CountryName</th>\n      <th>CityCountry</th>\n      <th>Ecosystem</th>\n      <th>GoogleCity</th>\n    </tr>\n  </thead>\n  <tbody>\n    <tr>\n      <th>6298</th>\n      <td>20150296389</td>\n      <td>Lauri</td>\n      <td>WIROLA</td>\n      <td>Tampere</td>\n      <td>FI</td>\n      <td>2015-10-15T00:00:00.000Z</td>\n      <td>2015</td>\n      <td>2015-06-25T00:00:00.000Z</td>\n      <td>2015</td>\n      <td>1.0</td>\n      <td>H04W</td>\n      <td>1.0</td>\n      <td>H04W</td>\n      <td>Finland</td>\n      <td>TampereFinland</td>\n      <td>None</td>\n      <td>Tampere</td>\n    </tr>\n    <tr>\n      <th>6299</th>\n      <td>20150296389</td>\n      <td>Lauri</td>\n      <td>WIROLA</td>\n      <td>Tampere</td>\n      <td>FI</td>\n      <td>2015-10-15T00:00:00.000Z</td>\n      <td>2015</td>\n      <td>2015-06-25T00:00:00.000Z</td>\n      <td>2015</td>\n      <td>1.0</td>\n      <td>H04W</td>\n      <td>1.0</td>\n      <td>H04W</td>\n      <td>Finland</td>\n      <td>TampereFinland</td>\n      <td>None</td>\n      <td>Tampere</td>\n    </tr>\n    <tr>\n      <th>36993</th>\n      <td>20190137880</td>\n      <td>Seung</td>\n      <td>LEE</td>\n      <td>Daegu</td>\n      <td>KR</td>\n      <td>2019-05-09T00:00:00.000Z</td>\n      <td>2019</td>\n      <td>2017-04-26T00:00:00.000Z</td>\n      <td>2017</td>\n      <td>1.0</td>\n      <td>G03F</td>\n      <td>1.0</td>\n      <td>G03F</td>\n      <td>Korea, Republic of</td>\n      <td>DaeguKorea, Republic of</td>\n      <td>Busan</td>\n      <td>Daeg</td>\n    </tr>\n    <tr>\n      <th>36994</th>\n      <td>20190137880</td>\n      <td>Seung</td>\n      <td>LEE</td>\n      <td>Daegu</td>\n      <td>KR</td>\n      <td>2019-05-09T00:00:00.000Z</td>\n      <td>2019</td>\n      <td>2017-04-26T00:00:00.000Z</td>\n      <td>2017</td>\n      <td>1.0</td>\n      <td>G03F</td>\n      <td>1.0</td>\n      <td>G03F</td>\n      <td>Korea, Republic of</td>\n      <td>DaeguKorea, Republic of</td>\n      <td>Busan</td>\n      <td>Daeg</td>\n    </tr>\n    <tr>\n      <th>42588</th>\n      <td>20190386270</td>\n      <td>Byoung</td>\n      <td>Lee</td>\n      <td>Daejeon</td>\n      <td>KR</td>\n      <td>2019-12-19T00:00:00.000Z</td>\n      <td>2019</td>\n      <td>2018-05-23T00:00:00.000Z</td>\n      <td>2018</td>\n      <td>1.0</td>\n      <td>H01M</td>\n      <td>1.0</td>\n      <td>H01M</td>\n      <td>Korea, Republic of</td>\n      <td>DaejeonKorea, Republic of</td>\n      <td>None</td>\n      <td>Daejeon</td>\n    </tr>\n  </tbody>\n</table>\n</div>"
     },
     "execution_count": 19,
     "metadata": {},
     "output_type": "execute_result"
    }
   ],
   "source": [
    "df_duplicated = df[df.duplicated(keep=False)]\n",
    "df_duplicated.head()"
   ],
   "metadata": {
    "collapsed": false,
    "ExecuteTime": {
     "end_time": "2023-06-12T04:39:54.434363400Z",
     "start_time": "2023-06-12T04:39:44.397909500Z"
    }
   }
  }
 ],
 "metadata": {
  "kernelspec": {
   "display_name": "Python 3",
   "language": "python",
   "name": "python3"
  },
  "language_info": {
   "codemirror_mode": {
    "name": "ipython",
    "version": 2
   },
   "file_extension": ".py",
   "mimetype": "text/x-python",
   "name": "python",
   "nbconvert_exporter": "python",
   "pygments_lexer": "ipython2",
   "version": "2.7.6"
  }
 },
 "nbformat": 4,
 "nbformat_minor": 0
}
