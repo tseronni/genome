{
 "cells": [
  {
   "cell_type": "code",
   "execution_count": 5,
   "metadata": {
    "collapsed": true,
    "ExecuteTime": {
     "end_time": "2023-06-12T17:57:35.662311Z",
     "start_time": "2023-06-12T17:57:35.654301Z"
    }
   },
   "outputs": [],
   "source": [
    "# Importando dependências externas\n",
    "import pandas as pd\n",
    "from src.utils.UsefulPaths import Paths"
   ]
  },
  {
   "cell_type": "code",
   "execution_count": 6,
   "outputs": [],
   "source": [
    "# Criando variável para armazenar o caminho dos dados\n",
    "paths = Paths()\n",
    "data_path = paths.raw_parquet_raw_patents"
   ],
   "metadata": {
    "collapsed": false,
    "ExecuteTime": {
     "end_time": "2023-06-12T17:57:35.662954Z",
     "start_time": "2023-06-12T17:57:35.660197Z"
    }
   }
  },
  {
   "cell_type": "code",
   "execution_count": 7,
   "outputs": [
    {
     "data": {
      "text/plain": "     patent_id name_first name_last           city country  \\\n0  20140380145      Rajiv   Puranik  San Francisco      US   \n1  20140380145     Thomas   Wilsher  San Francisco      US   \n2  20140380219       John    CARTAN        Alameda      US   \n3  20150000186      Barry     Freel         Ottawa      CA   \n4  20150000186     Robert    Graham         Ottawa      CA   \n\n                 grant_date  grant_year                  app_date  app_year  \\\n0  2014-12-25T00:00:00.000Z        2014  2014-05-08T00:00:00.000Z      2014   \n1  2014-12-25T00:00:00.000Z        2014  2014-05-08T00:00:00.000Z      2014   \n2  2014-12-25T00:00:00.000Z        2014  2014-06-20T00:00:00.000Z      2014   \n3  2015-01-01T00:00:00.000Z        2015  2014-09-16T00:00:00.000Z      2014   \n4  2015-01-01T00:00:00.000Z        2015  2014-09-16T00:00:00.000Z      2014   \n\n   class_distinct_count class_concat  class_IPC_distinct_count  \\\n0                   1.0         G06F                       1.0   \n1                   1.0         G06F                       1.0   \n2                   1.0         G06F                       1.0   \n3                   1.0         C10L                       1.0   \n4                   1.0         C10L                       1.0   \n\n  class_IPC_concat    CountryName                 CityCountry       Ecosystem  \\\n0             G06F  United States  San FranciscoUnited States  Silicon Valley   \n1             G06F  United States  San FranciscoUnited States  Silicon Valley   \n2             G06F  United States        AlamedaUnited States  Silicon Valley   \n3             C10L         Canada                OttawaCanada          Ottawa   \n4             C10L         Canada                OttawaCanada          Ottawa   \n\n      GoogleCity  \n0  San Francisco  \n1  San Francisco  \n2        Alameda  \n3         Ottawa  \n4         Ottawa  ",
      "text/html": "<div>\n<style scoped>\n    .dataframe tbody tr th:only-of-type {\n        vertical-align: middle;\n    }\n\n    .dataframe tbody tr th {\n        vertical-align: top;\n    }\n\n    .dataframe thead th {\n        text-align: right;\n    }\n</style>\n<table border=\"1\" class=\"dataframe\">\n  <thead>\n    <tr style=\"text-align: right;\">\n      <th></th>\n      <th>patent_id</th>\n      <th>name_first</th>\n      <th>name_last</th>\n      <th>city</th>\n      <th>country</th>\n      <th>grant_date</th>\n      <th>grant_year</th>\n      <th>app_date</th>\n      <th>app_year</th>\n      <th>class_distinct_count</th>\n      <th>class_concat</th>\n      <th>class_IPC_distinct_count</th>\n      <th>class_IPC_concat</th>\n      <th>CountryName</th>\n      <th>CityCountry</th>\n      <th>Ecosystem</th>\n      <th>GoogleCity</th>\n    </tr>\n  </thead>\n  <tbody>\n    <tr>\n      <th>0</th>\n      <td>20140380145</td>\n      <td>Rajiv</td>\n      <td>Puranik</td>\n      <td>San Francisco</td>\n      <td>US</td>\n      <td>2014-12-25T00:00:00.000Z</td>\n      <td>2014</td>\n      <td>2014-05-08T00:00:00.000Z</td>\n      <td>2014</td>\n      <td>1.0</td>\n      <td>G06F</td>\n      <td>1.0</td>\n      <td>G06F</td>\n      <td>United States</td>\n      <td>San FranciscoUnited States</td>\n      <td>Silicon Valley</td>\n      <td>San Francisco</td>\n    </tr>\n    <tr>\n      <th>1</th>\n      <td>20140380145</td>\n      <td>Thomas</td>\n      <td>Wilsher</td>\n      <td>San Francisco</td>\n      <td>US</td>\n      <td>2014-12-25T00:00:00.000Z</td>\n      <td>2014</td>\n      <td>2014-05-08T00:00:00.000Z</td>\n      <td>2014</td>\n      <td>1.0</td>\n      <td>G06F</td>\n      <td>1.0</td>\n      <td>G06F</td>\n      <td>United States</td>\n      <td>San FranciscoUnited States</td>\n      <td>Silicon Valley</td>\n      <td>San Francisco</td>\n    </tr>\n    <tr>\n      <th>2</th>\n      <td>20140380219</td>\n      <td>John</td>\n      <td>CARTAN</td>\n      <td>Alameda</td>\n      <td>US</td>\n      <td>2014-12-25T00:00:00.000Z</td>\n      <td>2014</td>\n      <td>2014-06-20T00:00:00.000Z</td>\n      <td>2014</td>\n      <td>1.0</td>\n      <td>G06F</td>\n      <td>1.0</td>\n      <td>G06F</td>\n      <td>United States</td>\n      <td>AlamedaUnited States</td>\n      <td>Silicon Valley</td>\n      <td>Alameda</td>\n    </tr>\n    <tr>\n      <th>3</th>\n      <td>20150000186</td>\n      <td>Barry</td>\n      <td>Freel</td>\n      <td>Ottawa</td>\n      <td>CA</td>\n      <td>2015-01-01T00:00:00.000Z</td>\n      <td>2015</td>\n      <td>2014-09-16T00:00:00.000Z</td>\n      <td>2014</td>\n      <td>1.0</td>\n      <td>C10L</td>\n      <td>1.0</td>\n      <td>C10L</td>\n      <td>Canada</td>\n      <td>OttawaCanada</td>\n      <td>Ottawa</td>\n      <td>Ottawa</td>\n    </tr>\n    <tr>\n      <th>4</th>\n      <td>20150000186</td>\n      <td>Robert</td>\n      <td>Graham</td>\n      <td>Ottawa</td>\n      <td>CA</td>\n      <td>2015-01-01T00:00:00.000Z</td>\n      <td>2015</td>\n      <td>2014-09-16T00:00:00.000Z</td>\n      <td>2014</td>\n      <td>1.0</td>\n      <td>C10L</td>\n      <td>1.0</td>\n      <td>C10L</td>\n      <td>Canada</td>\n      <td>OttawaCanada</td>\n      <td>Ottawa</td>\n      <td>Ottawa</td>\n    </tr>\n  </tbody>\n</table>\n</div>"
     },
     "execution_count": 7,
     "metadata": {},
     "output_type": "execute_result"
    }
   ],
   "source": [
    "# Criando e visualizando o dataframe\n",
    "df = pd.read_parquet(data_path)\n",
    "df.head(5)"
   ],
   "metadata": {
    "collapsed": false,
    "ExecuteTime": {
     "end_time": "2023-06-12T17:57:46.601531Z",
     "start_time": "2023-06-12T17:57:35.665800Z"
    }
   }
  },
  {
   "cell_type": "code",
   "execution_count": 8,
   "outputs": [
    {
     "name": "stdout",
     "output_type": "stream",
     "text": [
      "Rows: 9,830,924 rows | Columns: 17\n"
     ]
    }
   ],
   "source": [
    "# Visualizando a dimensão do dataframe\n",
    "df_rows, df_columns = df.shape\n",
    "print(f'Rows: {df_rows:,} rows | Columns: {df_columns}')"
   ],
   "metadata": {
    "collapsed": false,
    "ExecuteTime": {
     "end_time": "2023-06-12T17:57:46.606108Z",
     "start_time": "2023-06-12T17:57:46.601883Z"
    }
   }
  },
  {
   "cell_type": "code",
   "execution_count": 9,
   "outputs": [
    {
     "name": "stdout",
     "output_type": "stream",
     "text": [
      "Null values for each column:\n",
      "patent_id                         0\n",
      "name_first                      104\n",
      "name_last                      1716\n",
      "city                            591\n",
      "country                          47\n",
      "grant_date                        0\n",
      "grant_year                        0\n",
      "app_date                          0\n",
      "app_year                          0\n",
      "class_distinct_count          40367\n",
      "class_concat                  40367\n",
      "class_IPC_distinct_count      40367\n",
      "class_IPC_concat              49597\n",
      "CountryName                     492\n",
      "CityCountry                       0\n",
      "Ecosystem                   2522799\n",
      "GoogleCity                  2396599\n",
      "dtype: int64\n"
     ]
    }
   ],
   "source": [
    "# Contando valores nulos por coluna do dataframe\n",
    "print(f'Null values for each column:\\n{df.isnull().sum()}')"
   ],
   "metadata": {
    "collapsed": false,
    "ExecuteTime": {
     "end_time": "2023-06-12T17:57:51.075046Z",
     "start_time": "2023-06-12T17:57:46.603982Z"
    }
   }
  },
  {
   "cell_type": "code",
   "execution_count": 10,
   "outputs": [
    {
     "name": "stdout",
     "output_type": "stream",
     "text": [
      "Null value percentages for each column:\n",
      "patent_id                    0.000000\n",
      "name_first                   0.001058\n",
      "name_last                    0.017455\n",
      "city                         0.006012\n",
      "country                      0.000478\n",
      "grant_date                   0.000000\n",
      "grant_year                   0.000000\n",
      "app_date                     0.000000\n",
      "app_year                     0.000000\n",
      "class_distinct_count         0.410612\n",
      "class_concat                 0.410612\n",
      "class_IPC_distinct_count     0.410612\n",
      "class_IPC_concat             0.504500\n",
      "CountryName                  0.005005\n",
      "CityCountry                  0.000000\n",
      "Ecosystem                   25.661871\n",
      "GoogleCity                  24.378166\n",
      "dtype: float64\n"
     ]
    }
   ],
   "source": [
    "# Visualizando valores nulos por coluna de forma percentual\n",
    "print(f'Null value percentages for each column:\\n{df.isnull().mean() * 100}')"
   ],
   "metadata": {
    "collapsed": false,
    "ExecuteTime": {
     "end_time": "2023-06-12T17:57:55.017326Z",
     "start_time": "2023-06-12T17:57:51.078132Z"
    }
   }
  },
  {
   "cell_type": "code",
   "execution_count": 16,
   "outputs": [
    {
     "name": "stdout",
     "output_type": "stream",
     "text": [
      "           patent_id name_first       name_last              city country  \\\n",
      "5        20150000320    Akihiro        Fujiwara         Sakai-shi      JP   \n",
      "6        20150000320   Hirokazu          Fujino         Sakai-shi      JP   \n",
      "7        20150000320       Shin         Koizumi         Sakai-shi      JP   \n",
      "8        20150000320   Takayuki         Hyoudou         Sakai-shi      JP   \n",
      "9        20150000320      Teruo            Kido         Sakai-shi      JP   \n",
      "...              ...        ...             ...               ...     ...   \n",
      "9830903  20140379760        Roy          Martin          Saratoga      US   \n",
      "9830906  20140379867  Dai-boong             LEE       Hwaseong-si      KR   \n",
      "9830909  20140380102    Jeffrey          Daudel  So. San Franciso      US   \n",
      "9830918  20140380113      Payam          Pakzad    Mountaiin View      US   \n",
      "9830919  20140380134    Lalitha  Venkataramanan         Lexington      US   \n",
      "\n",
      "                       grant_date  grant_year                  app_date  \\\n",
      "5        2015-01-01T00:00:00.000Z        2015  2012-12-12T00:00:00.000Z   \n",
      "6        2015-01-01T00:00:00.000Z        2015  2012-12-12T00:00:00.000Z   \n",
      "7        2015-01-01T00:00:00.000Z        2015  2012-12-12T00:00:00.000Z   \n",
      "8        2015-01-01T00:00:00.000Z        2015  2012-12-12T00:00:00.000Z   \n",
      "9        2015-01-01T00:00:00.000Z        2015  2012-12-12T00:00:00.000Z   \n",
      "...                           ...         ...                       ...   \n",
      "9830903  2014-12-25T00:00:00.000Z        2014  2013-06-20T00:00:00.000Z   \n",
      "9830906  2014-12-25T00:00:00.000Z        2014  2014-02-21T00:00:00.000Z   \n",
      "9830909  2014-12-25T00:00:00.000Z        2014  2014-08-18T00:00:00.000Z   \n",
      "9830918  2014-12-25T00:00:00.000Z        2014  2014-04-04T00:00:00.000Z   \n",
      "9830919  2014-12-25T00:00:00.000Z        2014  2013-01-30T00:00:00.000Z   \n",
      "\n",
      "         app_year  class_distinct_count    class_concat  \\\n",
      "5            2012                   2.0       F28D,F28F   \n",
      "6            2012                   2.0       F28D,F28F   \n",
      "7            2012                   2.0       F28D,F28F   \n",
      "8            2012                   2.0       F28D,F28F   \n",
      "9            2012                   2.0       F28D,F28F   \n",
      "...           ...                   ...             ...   \n",
      "9830903      2013                   1.0            G06F   \n",
      "9830906      2014                   1.0            H04L   \n",
      "9830909      2014                   1.0            G06F   \n",
      "9830918      2014                   2.0       H04L,H03M   \n",
      "9830919      2013                   3.0  H04B,G06F,G01V   \n",
      "\n",
      "         class_IPC_distinct_count class_IPC_concat         CountryName  \\\n",
      "5                             2.0        F28D,F28F               Japan   \n",
      "6                             2.0        F28D,F28F               Japan   \n",
      "7                             2.0        F28D,F28F               Japan   \n",
      "8                             2.0        F28D,F28F               Japan   \n",
      "9                             2.0        F28D,F28F               Japan   \n",
      "...                           ...              ...                 ...   \n",
      "9830903                       1.0             G06F       United States   \n",
      "9830906                       1.0             H04L  Korea, Republic of   \n",
      "9830909                       1.0             G06F       United States   \n",
      "9830918                       2.0        H03M,H04L       United States   \n",
      "9830919                       3.0   G01V,G06F,H04B       United States   \n",
      "\n",
      "                           CityCountry Ecosystem GoogleCity  \n",
      "5                       Sakai-shiJapan      None       None  \n",
      "6                       Sakai-shiJapan      None       None  \n",
      "7                       Sakai-shiJapan      None       None  \n",
      "8                       Sakai-shiJapan      None       None  \n",
      "9                       Sakai-shiJapan      None       None  \n",
      "...                                ...       ...        ...  \n",
      "9830903          SaratogaUnited States      None       None  \n",
      "9830906  Hwaseong-siKorea, Republic of      None       None  \n",
      "9830909   So San FrancisoUnited States      None       None  \n",
      "9830918    Mountaiin ViewUnited States      None       None  \n",
      "9830919         LexingtonUnited States      None  Lexington  \n",
      "\n",
      "[3267234 rows x 17 columns]\n"
     ]
    }
   ],
   "source": [
    "# NÃO ENTENDI ESSA PARTE. THIAGO, PODE DETALHAR?\n",
    "df_null = df[df.isnull().any(axis=1)]\n",
    "print(df_null)"
   ],
   "metadata": {
    "collapsed": false,
    "ExecuteTime": {
     "end_time": "2023-06-12T18:00:33.589121Z",
     "start_time": "2023-06-12T18:00:28.917128Z"
    }
   }
  },
  {
   "cell_type": "code",
   "execution_count": 12,
   "outputs": [
    {
     "name": "stdout",
     "output_type": "stream",
     "text": [
      "Duplicated rows sum:\n",
      "1041\n"
     ]
    }
   ],
   "source": [
    "# Visualizando qtd de valores duplicados\n",
    "print(f'Duplicated rows sum:\\n{df.duplicated().sum()}')"
   ],
   "metadata": {
    "collapsed": false,
    "ExecuteTime": {
     "end_time": "2023-06-12T17:58:23.222268Z",
     "start_time": "2023-06-12T17:57:59.666567Z"
    }
   }
  },
  {
   "cell_type": "code",
   "execution_count": 13,
   "outputs": [
    {
     "data": {
      "text/plain": "         patent_id name_first name_last     city country  \\\n6298   20150296389      Lauri    WIROLA  Tampere      FI   \n6299   20150296389      Lauri    WIROLA  Tampere      FI   \n36993  20190137880      Seung       LEE    Daegu      KR   \n36994  20190137880      Seung       LEE    Daegu      KR   \n42588  20190386270     Byoung       Lee  Daejeon      KR   \n\n                     grant_date  grant_year                  app_date  \\\n6298   2015-10-15T00:00:00.000Z        2015  2015-06-25T00:00:00.000Z   \n6299   2015-10-15T00:00:00.000Z        2015  2015-06-25T00:00:00.000Z   \n36993  2019-05-09T00:00:00.000Z        2019  2017-04-26T00:00:00.000Z   \n36994  2019-05-09T00:00:00.000Z        2019  2017-04-26T00:00:00.000Z   \n42588  2019-12-19T00:00:00.000Z        2019  2018-05-23T00:00:00.000Z   \n\n       app_year  class_distinct_count class_concat  class_IPC_distinct_count  \\\n6298       2015                   1.0         H04W                       1.0   \n6299       2015                   1.0         H04W                       1.0   \n36993      2017                   1.0         G03F                       1.0   \n36994      2017                   1.0         G03F                       1.0   \n42588      2018                   1.0         H01M                       1.0   \n\n      class_IPC_concat         CountryName                CityCountry  \\\n6298              H04W             Finland             TampereFinland   \n6299              H04W             Finland             TampereFinland   \n36993             G03F  Korea, Republic of    DaeguKorea, Republic of   \n36994             G03F  Korea, Republic of    DaeguKorea, Republic of   \n42588             H01M  Korea, Republic of  DaejeonKorea, Republic of   \n\n      Ecosystem GoogleCity  \n6298       None    Tampere  \n6299       None    Tampere  \n36993     Busan       Daeg  \n36994     Busan       Daeg  \n42588      None    Daejeon  ",
      "text/html": "<div>\n<style scoped>\n    .dataframe tbody tr th:only-of-type {\n        vertical-align: middle;\n    }\n\n    .dataframe tbody tr th {\n        vertical-align: top;\n    }\n\n    .dataframe thead th {\n        text-align: right;\n    }\n</style>\n<table border=\"1\" class=\"dataframe\">\n  <thead>\n    <tr style=\"text-align: right;\">\n      <th></th>\n      <th>patent_id</th>\n      <th>name_first</th>\n      <th>name_last</th>\n      <th>city</th>\n      <th>country</th>\n      <th>grant_date</th>\n      <th>grant_year</th>\n      <th>app_date</th>\n      <th>app_year</th>\n      <th>class_distinct_count</th>\n      <th>class_concat</th>\n      <th>class_IPC_distinct_count</th>\n      <th>class_IPC_concat</th>\n      <th>CountryName</th>\n      <th>CityCountry</th>\n      <th>Ecosystem</th>\n      <th>GoogleCity</th>\n    </tr>\n  </thead>\n  <tbody>\n    <tr>\n      <th>6298</th>\n      <td>20150296389</td>\n      <td>Lauri</td>\n      <td>WIROLA</td>\n      <td>Tampere</td>\n      <td>FI</td>\n      <td>2015-10-15T00:00:00.000Z</td>\n      <td>2015</td>\n      <td>2015-06-25T00:00:00.000Z</td>\n      <td>2015</td>\n      <td>1.0</td>\n      <td>H04W</td>\n      <td>1.0</td>\n      <td>H04W</td>\n      <td>Finland</td>\n      <td>TampereFinland</td>\n      <td>None</td>\n      <td>Tampere</td>\n    </tr>\n    <tr>\n      <th>6299</th>\n      <td>20150296389</td>\n      <td>Lauri</td>\n      <td>WIROLA</td>\n      <td>Tampere</td>\n      <td>FI</td>\n      <td>2015-10-15T00:00:00.000Z</td>\n      <td>2015</td>\n      <td>2015-06-25T00:00:00.000Z</td>\n      <td>2015</td>\n      <td>1.0</td>\n      <td>H04W</td>\n      <td>1.0</td>\n      <td>H04W</td>\n      <td>Finland</td>\n      <td>TampereFinland</td>\n      <td>None</td>\n      <td>Tampere</td>\n    </tr>\n    <tr>\n      <th>36993</th>\n      <td>20190137880</td>\n      <td>Seung</td>\n      <td>LEE</td>\n      <td>Daegu</td>\n      <td>KR</td>\n      <td>2019-05-09T00:00:00.000Z</td>\n      <td>2019</td>\n      <td>2017-04-26T00:00:00.000Z</td>\n      <td>2017</td>\n      <td>1.0</td>\n      <td>G03F</td>\n      <td>1.0</td>\n      <td>G03F</td>\n      <td>Korea, Republic of</td>\n      <td>DaeguKorea, Republic of</td>\n      <td>Busan</td>\n      <td>Daeg</td>\n    </tr>\n    <tr>\n      <th>36994</th>\n      <td>20190137880</td>\n      <td>Seung</td>\n      <td>LEE</td>\n      <td>Daegu</td>\n      <td>KR</td>\n      <td>2019-05-09T00:00:00.000Z</td>\n      <td>2019</td>\n      <td>2017-04-26T00:00:00.000Z</td>\n      <td>2017</td>\n      <td>1.0</td>\n      <td>G03F</td>\n      <td>1.0</td>\n      <td>G03F</td>\n      <td>Korea, Republic of</td>\n      <td>DaeguKorea, Republic of</td>\n      <td>Busan</td>\n      <td>Daeg</td>\n    </tr>\n    <tr>\n      <th>42588</th>\n      <td>20190386270</td>\n      <td>Byoung</td>\n      <td>Lee</td>\n      <td>Daejeon</td>\n      <td>KR</td>\n      <td>2019-12-19T00:00:00.000Z</td>\n      <td>2019</td>\n      <td>2018-05-23T00:00:00.000Z</td>\n      <td>2018</td>\n      <td>1.0</td>\n      <td>H01M</td>\n      <td>1.0</td>\n      <td>H01M</td>\n      <td>Korea, Republic of</td>\n      <td>DaejeonKorea, Republic of</td>\n      <td>None</td>\n      <td>Daejeon</td>\n    </tr>\n  </tbody>\n</table>\n</div>"
     },
     "execution_count": 13,
     "metadata": {},
     "output_type": "execute_result"
    }
   ],
   "source": [
    "# Visualizando os valores duplicados\n",
    "df_duplicated = df[df.duplicated(keep=False)]\n",
    "df_duplicated.head()"
   ],
   "metadata": {
    "collapsed": false,
    "ExecuteTime": {
     "end_time": "2023-06-12T17:58:46.634764Z",
     "start_time": "2023-06-12T17:58:23.220974Z"
    }
   }
  },
  {
   "cell_type": "code",
   "execution_count": 14,
   "outputs": [
    {
     "data": {
      "text/plain": "    Ecosystem  grant_year  Number of Patents\n0     Abidjan        2016                  1\n1     Abidjan        2019                  1\n2   Abu Dhabi        2012                  7\n3   Abu Dhabi        2013                 33\n4   Abu Dhabi        2014                 44\n5   Abu Dhabi        2015                 83\n6   Abu Dhabi        2016                157\n7   Abu Dhabi        2017                 74\n8   Abu Dhabi        2018                109\n9   Abu Dhabi        2019                 69\n10  Abu Dhabi        2020                110\n11  Abu Dhabi        2021                170\n12      Abuja        2015                  1\n13      Abuja        2020                  3\n14      Accra        2013                  1\n15      Accra        2014                 23\n16      Accra        2015                 10\n17      Accra        2017                  2\n18      Accra        2018                  3\n19      Accra        2020                  2",
      "text/html": "<div>\n<style scoped>\n    .dataframe tbody tr th:only-of-type {\n        vertical-align: middle;\n    }\n\n    .dataframe tbody tr th {\n        vertical-align: top;\n    }\n\n    .dataframe thead th {\n        text-align: right;\n    }\n</style>\n<table border=\"1\" class=\"dataframe\">\n  <thead>\n    <tr style=\"text-align: right;\">\n      <th></th>\n      <th>Ecosystem</th>\n      <th>grant_year</th>\n      <th>Number of Patents</th>\n    </tr>\n  </thead>\n  <tbody>\n    <tr>\n      <th>0</th>\n      <td>Abidjan</td>\n      <td>2016</td>\n      <td>1</td>\n    </tr>\n    <tr>\n      <th>1</th>\n      <td>Abidjan</td>\n      <td>2019</td>\n      <td>1</td>\n    </tr>\n    <tr>\n      <th>2</th>\n      <td>Abu Dhabi</td>\n      <td>2012</td>\n      <td>7</td>\n    </tr>\n    <tr>\n      <th>3</th>\n      <td>Abu Dhabi</td>\n      <td>2013</td>\n      <td>33</td>\n    </tr>\n    <tr>\n      <th>4</th>\n      <td>Abu Dhabi</td>\n      <td>2014</td>\n      <td>44</td>\n    </tr>\n    <tr>\n      <th>5</th>\n      <td>Abu Dhabi</td>\n      <td>2015</td>\n      <td>83</td>\n    </tr>\n    <tr>\n      <th>6</th>\n      <td>Abu Dhabi</td>\n      <td>2016</td>\n      <td>157</td>\n    </tr>\n    <tr>\n      <th>7</th>\n      <td>Abu Dhabi</td>\n      <td>2017</td>\n      <td>74</td>\n    </tr>\n    <tr>\n      <th>8</th>\n      <td>Abu Dhabi</td>\n      <td>2018</td>\n      <td>109</td>\n    </tr>\n    <tr>\n      <th>9</th>\n      <td>Abu Dhabi</td>\n      <td>2019</td>\n      <td>69</td>\n    </tr>\n    <tr>\n      <th>10</th>\n      <td>Abu Dhabi</td>\n      <td>2020</td>\n      <td>110</td>\n    </tr>\n    <tr>\n      <th>11</th>\n      <td>Abu Dhabi</td>\n      <td>2021</td>\n      <td>170</td>\n    </tr>\n    <tr>\n      <th>12</th>\n      <td>Abuja</td>\n      <td>2015</td>\n      <td>1</td>\n    </tr>\n    <tr>\n      <th>13</th>\n      <td>Abuja</td>\n      <td>2020</td>\n      <td>3</td>\n    </tr>\n    <tr>\n      <th>14</th>\n      <td>Accra</td>\n      <td>2013</td>\n      <td>1</td>\n    </tr>\n    <tr>\n      <th>15</th>\n      <td>Accra</td>\n      <td>2014</td>\n      <td>23</td>\n    </tr>\n    <tr>\n      <th>16</th>\n      <td>Accra</td>\n      <td>2015</td>\n      <td>10</td>\n    </tr>\n    <tr>\n      <th>17</th>\n      <td>Accra</td>\n      <td>2017</td>\n      <td>2</td>\n    </tr>\n    <tr>\n      <th>18</th>\n      <td>Accra</td>\n      <td>2018</td>\n      <td>3</td>\n    </tr>\n    <tr>\n      <th>19</th>\n      <td>Accra</td>\n      <td>2020</td>\n      <td>2</td>\n    </tr>\n  </tbody>\n</table>\n</div>"
     },
     "execution_count": 14,
     "metadata": {},
     "output_type": "execute_result"
    }
   ],
   "source": [
    "# Agrupando por ecossistema e por ano\n",
    "\n",
    "ecosystems = df.groupby(['Ecosystem', 'grant_year'])['patent_id'].count().reset_index(name='Number of Patents')\n",
    "ecosystems.head(20)"
   ],
   "metadata": {
    "collapsed": false,
    "ExecuteTime": {
     "end_time": "2023-06-12T17:58:47.620101Z",
     "start_time": "2023-06-12T17:58:46.637590Z"
    }
   }
  }
 ],
 "metadata": {
  "kernelspec": {
   "display_name": "Python 3",
   "language": "python",
   "name": "python3"
  },
  "language_info": {
   "codemirror_mode": {
    "name": "ipython",
    "version": 2
   },
   "file_extension": ".py",
   "mimetype": "text/x-python",
   "name": "python",
   "nbconvert_exporter": "python",
   "pygments_lexer": "ipython2",
   "version": "2.7.6"
  }
 },
 "nbformat": 4,
 "nbformat_minor": 0
}
