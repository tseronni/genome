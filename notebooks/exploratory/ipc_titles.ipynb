{
 "cells": [
  {
   "cell_type": "code",
   "execution_count": 1,
   "metadata": {
    "collapsed": true,
    "ExecuteTime": {
     "end_time": "2023-06-12T04:39:18.107625400Z",
     "start_time": "2023-06-12T04:39:17.896929800Z"
    }
   },
   "outputs": [],
   "source": [
    "import pandas as pd\n",
    "from src.utils.UsefulPaths import Paths"
   ]
  },
  {
   "cell_type": "code",
   "execution_count": 2,
   "outputs": [],
   "source": [
    "paths = Paths()\n",
    "data_path = paths.raw_ipc_titles"
   ],
   "metadata": {
    "collapsed": false,
    "ExecuteTime": {
     "end_time": "2023-06-12T04:39:18.122632200Z",
     "start_time": "2023-06-12T04:39:18.108629900Z"
    }
   }
  },
  {
   "cell_type": "code",
   "execution_count": 3,
   "outputs": [
    {
     "data": {
      "text/plain": "    IPC                                              title\n0  G16Y  INFORMATION AND COMMUNICATION TECHNOLOGY SPECI...\n1  F24J                                                NaN\n2  F21H  INCANDESCENT MANTLES; OTHER INCANDESCENT BODIE...\n3  G16B  BIOINFORMATICS, i.e. INFORMATION AND COMMUNICA...\n4  A01P  BIOCIDAL, PEST REPELLANT, PEST ATTRACTANT OR P...",
      "text/html": "<div>\n<style scoped>\n    .dataframe tbody tr th:only-of-type {\n        vertical-align: middle;\n    }\n\n    .dataframe tbody tr th {\n        vertical-align: top;\n    }\n\n    .dataframe thead th {\n        text-align: right;\n    }\n</style>\n<table border=\"1\" class=\"dataframe\">\n  <thead>\n    <tr style=\"text-align: right;\">\n      <th></th>\n      <th>IPC</th>\n      <th>title</th>\n    </tr>\n  </thead>\n  <tbody>\n    <tr>\n      <th>0</th>\n      <td>G16Y</td>\n      <td>INFORMATION AND COMMUNICATION TECHNOLOGY SPECI...</td>\n    </tr>\n    <tr>\n      <th>1</th>\n      <td>F24J</td>\n      <td>NaN</td>\n    </tr>\n    <tr>\n      <th>2</th>\n      <td>F21H</td>\n      <td>INCANDESCENT MANTLES; OTHER INCANDESCENT BODIE...</td>\n    </tr>\n    <tr>\n      <th>3</th>\n      <td>G16B</td>\n      <td>BIOINFORMATICS, i.e. INFORMATION AND COMMUNICA...</td>\n    </tr>\n    <tr>\n      <th>4</th>\n      <td>A01P</td>\n      <td>BIOCIDAL, PEST REPELLANT, PEST ATTRACTANT OR P...</td>\n    </tr>\n  </tbody>\n</table>\n</div>"
     },
     "execution_count": 3,
     "metadata": {},
     "output_type": "execute_result"
    }
   ],
   "source": [
    "df = pd.read_excel(data_path)\n",
    "df.head(5)"
   ],
   "metadata": {
    "collapsed": false,
    "ExecuteTime": {
     "end_time": "2023-06-12T04:39:18.498108700Z",
     "start_time": "2023-06-12T04:39:18.122632200Z"
    }
   }
  },
  {
   "cell_type": "code",
   "execution_count": 4,
   "outputs": [
    {
     "name": "stdout",
     "output_type": "stream",
     "text": [
      "Rows: 633 rows | Columns: 2\n"
     ]
    }
   ],
   "source": [
    "df_rows, df_columns = df.shape\n",
    "print(f'Rows: {df_rows:,} rows | Columns: {df_columns}')"
   ],
   "metadata": {
    "collapsed": false,
    "ExecuteTime": {
     "end_time": "2023-06-12T04:39:18.544244300Z",
     "start_time": "2023-06-12T04:39:18.499106500Z"
    }
   }
  },
  {
   "cell_type": "code",
   "execution_count": 5,
   "outputs": [
    {
     "name": "stdout",
     "output_type": "stream",
     "text": [
      "Null values for each column:\n",
      "IPC      0\n",
      "title    1\n",
      "dtype: int64\n"
     ]
    }
   ],
   "source": [
    "print(f'Null values for each column:\\n{df.isnull().sum()}')"
   ],
   "metadata": {
    "collapsed": false,
    "ExecuteTime": {
     "end_time": "2023-06-12T04:39:18.582246300Z",
     "start_time": "2023-06-12T04:39:18.533245900Z"
    }
   }
  },
  {
   "cell_type": "code",
   "execution_count": 6,
   "outputs": [
    {
     "name": "stdout",
     "output_type": "stream",
     "text": [
      "Null value percentages for each column:\n",
      "IPC      0.000000\n",
      "title    0.157978\n",
      "dtype: float64\n"
     ]
    }
   ],
   "source": [
    "print(f'Null value percentages for each column:\\n{df.isnull().mean() * 100}')"
   ],
   "metadata": {
    "collapsed": false,
    "ExecuteTime": {
     "end_time": "2023-06-12T04:39:18.594247200Z",
     "start_time": "2023-06-12T04:39:18.546246400Z"
    }
   }
  },
  {
   "cell_type": "code",
   "execution_count": 7,
   "outputs": [],
   "source": [
    "df_null = df[df.isnull().any(axis=1)]"
   ],
   "metadata": {
    "collapsed": false,
    "ExecuteTime": {
     "end_time": "2023-06-12T04:39:18.621246900Z",
     "start_time": "2023-06-12T04:39:18.574244600Z"
    }
   }
  },
  {
   "cell_type": "code",
   "execution_count": 8,
   "outputs": [
    {
     "name": "stdout",
     "output_type": "stream",
     "text": [
      "Duplicated rows sum:\n",
      "0\n"
     ]
    }
   ],
   "source": [
    "print(f'Duplicated rows sum:\\n{df.duplicated().sum()}')"
   ],
   "metadata": {
    "collapsed": false,
    "ExecuteTime": {
     "end_time": "2023-06-12T04:39:18.625247200Z",
     "start_time": "2023-06-12T04:39:18.576245900Z"
    }
   }
  },
  {
   "cell_type": "code",
   "execution_count": 9,
   "outputs": [
    {
     "data": {
      "text/plain": "Empty DataFrame\nColumns: [IPC, title]\nIndex: []",
      "text/html": "<div>\n<style scoped>\n    .dataframe tbody tr th:only-of-type {\n        vertical-align: middle;\n    }\n\n    .dataframe tbody tr th {\n        vertical-align: top;\n    }\n\n    .dataframe thead th {\n        text-align: right;\n    }\n</style>\n<table border=\"1\" class=\"dataframe\">\n  <thead>\n    <tr style=\"text-align: right;\">\n      <th></th>\n      <th>IPC</th>\n      <th>title</th>\n    </tr>\n  </thead>\n  <tbody>\n  </tbody>\n</table>\n</div>"
     },
     "execution_count": 9,
     "metadata": {},
     "output_type": "execute_result"
    }
   ],
   "source": [
    "df_duplicated = df[df.duplicated(keep=False)]\n",
    "df_duplicated.head()"
   ],
   "metadata": {
    "collapsed": false,
    "ExecuteTime": {
     "end_time": "2023-06-12T04:39:18.626247400Z",
     "start_time": "2023-06-12T04:39:18.592245200Z"
    }
   }
  }
 ],
 "metadata": {
  "kernelspec": {
   "display_name": "Python 3",
   "language": "python",
   "name": "python3"
  },
  "language_info": {
   "codemirror_mode": {
    "name": "ipython",
    "version": 2
   },
   "file_extension": ".py",
   "mimetype": "text/x-python",
   "name": "python",
   "nbconvert_exporter": "python",
   "pygments_lexer": "ipython2",
   "version": "2.7.6"
  }
 },
 "nbformat": 4,
 "nbformat_minor": 0
}
