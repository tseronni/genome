{
 "cells": [
  {
   "cell_type": "code",
   "execution_count": 1,
   "metadata": {
    "collapsed": true,
    "ExecuteTime": {
     "end_time": "2023-06-12T04:40:08.083854900Z",
     "start_time": "2023-06-12T04:40:07.888227300Z"
    }
   },
   "outputs": [],
   "source": [
    "import pandas as pd\n",
    "from src.utils.UsefulPaths import Paths"
   ]
  },
  {
   "cell_type": "code",
   "execution_count": 2,
   "outputs": [],
   "source": [
    "paths = Paths()\n",
    "data_path = paths.raw_parquet_table_for_applicants"
   ],
   "metadata": {
    "collapsed": false,
    "ExecuteTime": {
     "end_time": "2023-06-12T04:40:08.098855Z",
     "start_time": "2023-06-12T04:40:08.084855100Z"
    }
   }
  },
  {
   "cell_type": "code",
   "execution_count": 3,
   "outputs": [
    {
     "data": {
      "text/plain": "   20130080687 Siamack Nemazie Los Altos Hills  US  2013\n0  20130080687     NGON VAN LE         Fremont  US  2013\n1  20130031357    Dieter Weiss         Munchen  DE  2013\n2  20130031357  Gisela Meister         Munchen  DE  2013\n3  20130031357    Jan Eichholz         Munchen  DE  2013\n4  20130031357  Florian Gawlas         Munchen  DE  2013",
      "text/html": "<div>\n<style scoped>\n    .dataframe tbody tr th:only-of-type {\n        vertical-align: middle;\n    }\n\n    .dataframe tbody tr th {\n        vertical-align: top;\n    }\n\n    .dataframe thead th {\n        text-align: right;\n    }\n</style>\n<table border=\"1\" class=\"dataframe\">\n  <thead>\n    <tr style=\"text-align: right;\">\n      <th></th>\n      <th>20130080687</th>\n      <th>Siamack Nemazie</th>\n      <th>Los Altos Hills</th>\n      <th>US</th>\n      <th>2013</th>\n    </tr>\n  </thead>\n  <tbody>\n    <tr>\n      <th>0</th>\n      <td>20130080687</td>\n      <td>NGON VAN LE</td>\n      <td>Fremont</td>\n      <td>US</td>\n      <td>2013</td>\n    </tr>\n    <tr>\n      <th>1</th>\n      <td>20130031357</td>\n      <td>Dieter Weiss</td>\n      <td>Munchen</td>\n      <td>DE</td>\n      <td>2013</td>\n    </tr>\n    <tr>\n      <th>2</th>\n      <td>20130031357</td>\n      <td>Gisela Meister</td>\n      <td>Munchen</td>\n      <td>DE</td>\n      <td>2013</td>\n    </tr>\n    <tr>\n      <th>3</th>\n      <td>20130031357</td>\n      <td>Jan Eichholz</td>\n      <td>Munchen</td>\n      <td>DE</td>\n      <td>2013</td>\n    </tr>\n    <tr>\n      <th>4</th>\n      <td>20130031357</td>\n      <td>Florian Gawlas</td>\n      <td>Munchen</td>\n      <td>DE</td>\n      <td>2013</td>\n    </tr>\n  </tbody>\n</table>\n</div>"
     },
     "execution_count": 3,
     "metadata": {},
     "output_type": "execute_result"
    }
   ],
   "source": [
    "df = pd.read_parquet(data_path)\n",
    "df.head(5)"
   ],
   "metadata": {
    "collapsed": false,
    "ExecuteTime": {
     "end_time": "2023-06-12T04:40:08.552853900Z",
     "start_time": "2023-06-12T04:40:08.099855900Z"
    }
   }
  },
  {
   "cell_type": "code",
   "execution_count": 4,
   "outputs": [
    {
     "name": "stdout",
     "output_type": "stream",
     "text": [
      "Rows: 1,417,243 rows | Columns: 5\n"
     ]
    }
   ],
   "source": [
    "df_rows, df_columns = df.shape\n",
    "print(f'Rows: {df_rows:,} rows | Columns: {df_columns}')"
   ],
   "metadata": {
    "collapsed": false,
    "ExecuteTime": {
     "end_time": "2023-06-12T04:40:08.606370600Z",
     "start_time": "2023-06-12T04:40:08.554854100Z"
    }
   }
  },
  {
   "cell_type": "code",
   "execution_count": 5,
   "outputs": [
    {
     "name": "stdout",
     "output_type": "stream",
     "text": [
      "Null values for each column:\n",
      "20130080687           0\n",
      "Siamack Nemazie       0\n",
      "Los Altos Hills    6645\n",
      "US                   10\n",
      "2013                  0\n",
      "dtype: int64\n"
     ]
    }
   ],
   "source": [
    "print(f'Null values for each column:\\n{df.isnull().sum()}')"
   ],
   "metadata": {
    "collapsed": false,
    "ExecuteTime": {
     "end_time": "2023-06-12T04:40:08.680391700Z",
     "start_time": "2023-06-12T04:40:08.600370Z"
    }
   }
  },
  {
   "cell_type": "code",
   "execution_count": 6,
   "outputs": [
    {
     "name": "stdout",
     "output_type": "stream",
     "text": [
      "Null value percentages for each column:\n",
      "20130080687        0.000000\n",
      "Siamack Nemazie    0.000000\n",
      "Los Altos Hills    0.468868\n",
      "US                 0.000706\n",
      "2013               0.000000\n",
      "dtype: float64\n"
     ]
    }
   ],
   "source": [
    "print(f'Null value percentages for each column:\\n{df.isnull().mean() * 100}')"
   ],
   "metadata": {
    "collapsed": false,
    "ExecuteTime": {
     "end_time": "2023-06-12T04:40:08.771457600Z",
     "start_time": "2023-06-12T04:40:08.678391900Z"
    }
   }
  },
  {
   "cell_type": "code",
   "execution_count": 7,
   "outputs": [],
   "source": [
    "df_null = df[df.isnull().any(axis=1)]"
   ],
   "metadata": {
    "collapsed": false,
    "ExecuteTime": {
     "end_time": "2023-06-12T04:40:08.893749200Z",
     "start_time": "2023-06-12T04:40:08.771457600Z"
    }
   }
  },
  {
   "cell_type": "code",
   "execution_count": 8,
   "outputs": [
    {
     "name": "stdout",
     "output_type": "stream",
     "text": [
      "Duplicated rows sum:\n",
      "103\n"
     ]
    }
   ],
   "source": [
    "print(f'Duplicated rows sum:\\n{df.duplicated().sum()}')"
   ],
   "metadata": {
    "collapsed": false,
    "ExecuteTime": {
     "end_time": "2023-06-12T04:40:09.286288Z",
     "start_time": "2023-06-12T04:40:08.893749200Z"
    }
   }
  },
  {
   "cell_type": "code",
   "execution_count": 9,
   "outputs": [
    {
     "data": {
      "text/plain": "       20130080687      Siamack Nemazie        Los Altos Hills  US  2013\n12963  20140138242  Martin John Neumann                Memphis  US  2014\n12971  20140138242  Martin John Neumann                Memphis  US  2014\n15684  20150121569      Jerome CAVAILLE  ROMONVILLE SAINT AGNE  FR  2015\n15685  20150121569      Jerome CAVAILLE  ROMONVILLE SAINT AGNE  FR  2015\n44199  20200375886              Ping Li                Beijing  CN  2020",
      "text/html": "<div>\n<style scoped>\n    .dataframe tbody tr th:only-of-type {\n        vertical-align: middle;\n    }\n\n    .dataframe tbody tr th {\n        vertical-align: top;\n    }\n\n    .dataframe thead th {\n        text-align: right;\n    }\n</style>\n<table border=\"1\" class=\"dataframe\">\n  <thead>\n    <tr style=\"text-align: right;\">\n      <th></th>\n      <th>20130080687</th>\n      <th>Siamack Nemazie</th>\n      <th>Los Altos Hills</th>\n      <th>US</th>\n      <th>2013</th>\n    </tr>\n  </thead>\n  <tbody>\n    <tr>\n      <th>12963</th>\n      <td>20140138242</td>\n      <td>Martin John Neumann</td>\n      <td>Memphis</td>\n      <td>US</td>\n      <td>2014</td>\n    </tr>\n    <tr>\n      <th>12971</th>\n      <td>20140138242</td>\n      <td>Martin John Neumann</td>\n      <td>Memphis</td>\n      <td>US</td>\n      <td>2014</td>\n    </tr>\n    <tr>\n      <th>15684</th>\n      <td>20150121569</td>\n      <td>Jerome CAVAILLE</td>\n      <td>ROMONVILLE SAINT AGNE</td>\n      <td>FR</td>\n      <td>2015</td>\n    </tr>\n    <tr>\n      <th>15685</th>\n      <td>20150121569</td>\n      <td>Jerome CAVAILLE</td>\n      <td>ROMONVILLE SAINT AGNE</td>\n      <td>FR</td>\n      <td>2015</td>\n    </tr>\n    <tr>\n      <th>44199</th>\n      <td>20200375886</td>\n      <td>Ping Li</td>\n      <td>Beijing</td>\n      <td>CN</td>\n      <td>2020</td>\n    </tr>\n  </tbody>\n</table>\n</div>"
     },
     "execution_count": 9,
     "metadata": {},
     "output_type": "execute_result"
    }
   ],
   "source": [
    "df_duplicated = df[df.duplicated(keep=False)]\n",
    "df_duplicated.head()"
   ],
   "metadata": {
    "collapsed": false,
    "ExecuteTime": {
     "end_time": "2023-06-12T04:40:09.690738700Z",
     "start_time": "2023-06-12T04:40:09.286288Z"
    }
   }
  }
 ],
 "metadata": {
  "kernelspec": {
   "display_name": "Python 3",
   "language": "python",
   "name": "python3"
  },
  "language_info": {
   "codemirror_mode": {
    "name": "ipython",
    "version": 2
   },
   "file_extension": ".py",
   "mimetype": "text/x-python",
   "name": "python",
   "nbconvert_exporter": "python",
   "pygments_lexer": "ipython2",
   "version": "2.7.6"
  }
 },
 "nbformat": 4,
 "nbformat_minor": 0
}
