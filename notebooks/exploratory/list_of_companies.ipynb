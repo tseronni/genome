{
 "cells": [
  {
   "cell_type": "code",
   "execution_count": 1,
   "metadata": {
    "collapsed": true,
    "ExecuteTime": {
     "end_time": "2023-06-12T04:40:18.077531700Z",
     "start_time": "2023-06-12T04:40:17.876995300Z"
    }
   },
   "outputs": [],
   "source": [
    "import pandas as pd\n",
    "from src.utils.UsefulPaths import Paths"
   ]
  },
  {
   "cell_type": "code",
   "execution_count": 2,
   "outputs": [],
   "source": [
    "paths = Paths()\n",
    "data_path = paths.raw_parquet_list_of_companies"
   ],
   "metadata": {
    "collapsed": false,
    "ExecuteTime": {
     "end_time": "2023-06-12T04:40:18.093531600Z",
     "start_time": "2023-06-12T04:40:18.078532200Z"
    }
   }
  },
  {
   "cell_type": "code",
   "execution_count": 3,
   "outputs": [
    {
     "data": {
      "text/plain": "  axialhealthcare.com United States Nashville Axial Healthcare\n0        athearth.com         Japan         1         Athearth\n1     madebykawet.com        France     Paris            Kawet\n2      vw-aabenraa.dk       Denmark  Aabenraa             None\n3        de.babor.com       Germany    Aachen             None\n4          kisters.de       Germany    Aachen          KISTERS",
      "text/html": "<div>\n<style scoped>\n    .dataframe tbody tr th:only-of-type {\n        vertical-align: middle;\n    }\n\n    .dataframe tbody tr th {\n        vertical-align: top;\n    }\n\n    .dataframe thead th {\n        text-align: right;\n    }\n</style>\n<table border=\"1\" class=\"dataframe\">\n  <thead>\n    <tr style=\"text-align: right;\">\n      <th></th>\n      <th>axialhealthcare.com</th>\n      <th>United States</th>\n      <th>Nashville</th>\n      <th>Axial Healthcare</th>\n    </tr>\n  </thead>\n  <tbody>\n    <tr>\n      <th>0</th>\n      <td>athearth.com</td>\n      <td>Japan</td>\n      <td>1</td>\n      <td>Athearth</td>\n    </tr>\n    <tr>\n      <th>1</th>\n      <td>madebykawet.com</td>\n      <td>France</td>\n      <td>Paris</td>\n      <td>Kawet</td>\n    </tr>\n    <tr>\n      <th>2</th>\n      <td>vw-aabenraa.dk</td>\n      <td>Denmark</td>\n      <td>Aabenraa</td>\n      <td>None</td>\n    </tr>\n    <tr>\n      <th>3</th>\n      <td>de.babor.com</td>\n      <td>Germany</td>\n      <td>Aachen</td>\n      <td>None</td>\n    </tr>\n    <tr>\n      <th>4</th>\n      <td>kisters.de</td>\n      <td>Germany</td>\n      <td>Aachen</td>\n      <td>KISTERS</td>\n    </tr>\n  </tbody>\n</table>\n</div>"
     },
     "execution_count": 3,
     "metadata": {},
     "output_type": "execute_result"
    }
   ],
   "source": [
    "df = pd.read_parquet(data_path)\n",
    "df.head(5)"
   ],
   "metadata": {
    "collapsed": false,
    "ExecuteTime": {
     "end_time": "2023-06-12T04:40:20.107296800Z",
     "start_time": "2023-06-12T04:40:18.093531600Z"
    }
   }
  },
  {
   "cell_type": "code",
   "execution_count": 4,
   "outputs": [
    {
     "name": "stdout",
     "output_type": "stream",
     "text": [
      "Rows: 4,236,726 rows | Columns: 4\n"
     ]
    }
   ],
   "source": [
    "df_rows, df_columns = df.shape\n",
    "print(f'Rows: {df_rows:,} rows | Columns: {df_columns}')"
   ],
   "metadata": {
    "collapsed": false,
    "ExecuteTime": {
     "end_time": "2023-06-12T04:40:20.129296500Z",
     "start_time": "2023-06-12T04:40:20.108297100Z"
    }
   }
  },
  {
   "cell_type": "code",
   "execution_count": 5,
   "outputs": [
    {
     "name": "stdout",
     "output_type": "stream",
     "text": [
      "Null values for each column:\n",
      "axialhealthcare.com          0\n",
      "United States          1193088\n",
      "Nashville              1391237\n",
      "Axial Healthcare       1678911\n",
      "dtype: int64\n"
     ]
    }
   ],
   "source": [
    "print(f'Null values for each column:\\n{df.isnull().sum()}')"
   ],
   "metadata": {
    "collapsed": false,
    "ExecuteTime": {
     "end_time": "2023-06-12T04:40:20.403351900Z",
     "start_time": "2023-06-12T04:40:20.123297100Z"
    }
   }
  },
  {
   "cell_type": "code",
   "execution_count": 6,
   "outputs": [
    {
     "name": "stdout",
     "output_type": "stream",
     "text": [
      "Null value percentages for each column:\n",
      "axialhealthcare.com     0.000000\n",
      "United States          28.160613\n",
      "Nashville              32.837550\n",
      "Axial Healthcare       39.627557\n",
      "dtype: float64\n"
     ]
    }
   ],
   "source": [
    "print(f'Null value percentages for each column:\\n{df.isnull().mean() * 100}')"
   ],
   "metadata": {
    "collapsed": false,
    "ExecuteTime": {
     "end_time": "2023-06-12T04:40:20.684597800Z",
     "start_time": "2023-06-12T04:40:20.664090100Z"
    }
   }
  },
  {
   "cell_type": "code",
   "execution_count": 7,
   "outputs": [],
   "source": [
    "df_null = df[df.isnull().any(axis=1)]"
   ],
   "metadata": {
    "collapsed": false,
    "ExecuteTime": {
     "end_time": "2023-06-12T04:40:21.044927Z",
     "start_time": "2023-06-12T04:40:20.685598400Z"
    }
   }
  },
  {
   "cell_type": "code",
   "execution_count": 8,
   "outputs": [
    {
     "name": "stdout",
     "output_type": "stream",
     "text": [
      "Duplicated rows sum:\n",
      "50\n"
     ]
    }
   ],
   "source": [
    "print(f'Duplicated rows sum:\\n{df.duplicated().sum()}')"
   ],
   "metadata": {
    "collapsed": false,
    "ExecuteTime": {
     "end_time": "2023-06-12T04:40:23.644813200Z",
     "start_time": "2023-06-12T04:40:21.044927Z"
    }
   }
  },
  {
   "cell_type": "code",
   "execution_count": 9,
   "outputs": [
    {
     "data": {
      "text/plain": "       axialhealthcare.com United States     Nashville Axial Healthcare\n36052   terraquantum.swiss   Switzerland  Saint Gallen    Terra Quantum\n36053   terraquantum.swiss   Switzerland  Saint Gallen    Terra Quantum\n79234            zwcad.com         China      Guangzho             None\n79235            zwcad.com         China      Guangzho             None\n143163      dawnhealth.com       Denmark    Copenhagen      Dawn Health",
      "text/html": "<div>\n<style scoped>\n    .dataframe tbody tr th:only-of-type {\n        vertical-align: middle;\n    }\n\n    .dataframe tbody tr th {\n        vertical-align: top;\n    }\n\n    .dataframe thead th {\n        text-align: right;\n    }\n</style>\n<table border=\"1\" class=\"dataframe\">\n  <thead>\n    <tr style=\"text-align: right;\">\n      <th></th>\n      <th>axialhealthcare.com</th>\n      <th>United States</th>\n      <th>Nashville</th>\n      <th>Axial Healthcare</th>\n    </tr>\n  </thead>\n  <tbody>\n    <tr>\n      <th>36052</th>\n      <td>terraquantum.swiss</td>\n      <td>Switzerland</td>\n      <td>Saint Gallen</td>\n      <td>Terra Quantum</td>\n    </tr>\n    <tr>\n      <th>36053</th>\n      <td>terraquantum.swiss</td>\n      <td>Switzerland</td>\n      <td>Saint Gallen</td>\n      <td>Terra Quantum</td>\n    </tr>\n    <tr>\n      <th>79234</th>\n      <td>zwcad.com</td>\n      <td>China</td>\n      <td>Guangzho</td>\n      <td>None</td>\n    </tr>\n    <tr>\n      <th>79235</th>\n      <td>zwcad.com</td>\n      <td>China</td>\n      <td>Guangzho</td>\n      <td>None</td>\n    </tr>\n    <tr>\n      <th>143163</th>\n      <td>dawnhealth.com</td>\n      <td>Denmark</td>\n      <td>Copenhagen</td>\n      <td>Dawn Health</td>\n    </tr>\n  </tbody>\n</table>\n</div>"
     },
     "execution_count": 9,
     "metadata": {},
     "output_type": "execute_result"
    }
   ],
   "source": [
    "df_duplicated = df[df.duplicated(keep=False)]\n",
    "df_duplicated.head()"
   ],
   "metadata": {
    "collapsed": false,
    "ExecuteTime": {
     "end_time": "2023-06-12T04:40:26.209844800Z",
     "start_time": "2023-06-12T04:40:23.645814200Z"
    }
   }
  }
 ],
 "metadata": {
  "kernelspec": {
   "display_name": "Python 3",
   "language": "python",
   "name": "python3"
  },
  "language_info": {
   "codemirror_mode": {
    "name": "ipython",
    "version": 2
   },
   "file_extension": ".py",
   "mimetype": "text/x-python",
   "name": "python",
   "nbconvert_exporter": "python",
   "pygments_lexer": "ipython2",
   "version": "2.7.6"
  }
 },
 "nbformat": 4,
 "nbformat_minor": 0
}
