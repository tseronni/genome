{
 "cells": [
  {
   "cell_type": "code",
   "execution_count": 1,
   "metadata": {
    "collapsed": true,
    "ExecuteTime": {
     "end_time": "2023-06-12T04:38:33.087753300Z",
     "start_time": "2023-06-12T04:38:32.880435500Z"
    }
   },
   "outputs": [],
   "source": [
    "import pandas as pd\n",
    "from src.utils.UsefulPaths import Paths"
   ]
  },
  {
   "cell_type": "code",
   "execution_count": 2,
   "outputs": [],
   "source": [
    "paths = Paths()"
   ],
   "metadata": {
    "collapsed": false,
    "ExecuteTime": {
     "end_time": "2023-06-12T04:38:33.104266500Z",
     "start_time": "2023-06-12T04:38:33.088752600Z"
    }
   }
  },
  {
   "cell_type": "code",
   "execution_count": 3,
   "outputs": [
    {
     "data": {
      "text/plain": "   publication_number                                           abstract\n0         20080063564  Embodiments of techniques for determining the ...\n1         20080025285  A method for supporting frequency hopping of a...\n2         20080056857  To correct any positional misalignment of a su...\n3         20080031117  A holographic optical accessing system include...\n4         20080056179  Transmitting an acknowledgement/negative ackno...",
      "text/html": "<div>\n<style scoped>\n    .dataframe tbody tr th:only-of-type {\n        vertical-align: middle;\n    }\n\n    .dataframe tbody tr th {\n        vertical-align: top;\n    }\n\n    .dataframe thead th {\n        text-align: right;\n    }\n</style>\n<table border=\"1\" class=\"dataframe\">\n  <thead>\n    <tr style=\"text-align: right;\">\n      <th></th>\n      <th>publication_number</th>\n      <th>abstract</th>\n    </tr>\n  </thead>\n  <tbody>\n    <tr>\n      <th>0</th>\n      <td>20080063564</td>\n      <td>Embodiments of techniques for determining the ...</td>\n    </tr>\n    <tr>\n      <th>1</th>\n      <td>20080025285</td>\n      <td>A method for supporting frequency hopping of a...</td>\n    </tr>\n    <tr>\n      <th>2</th>\n      <td>20080056857</td>\n      <td>To correct any positional misalignment of a su...</td>\n    </tr>\n    <tr>\n      <th>3</th>\n      <td>20080031117</td>\n      <td>A holographic optical accessing system include...</td>\n    </tr>\n    <tr>\n      <th>4</th>\n      <td>20080056179</td>\n      <td>Transmitting an acknowledgement/negative ackno...</td>\n    </tr>\n  </tbody>\n</table>\n</div>"
     },
     "execution_count": 3,
     "metadata": {},
     "output_type": "execute_result"
    }
   ],
   "source": [
    "df = pd.read_parquet(paths.raw_parquet_abstract)\n",
    "df.head(5)"
   ],
   "metadata": {
    "collapsed": false,
    "ExecuteTime": {
     "end_time": "2023-06-12T04:38:39.012162100Z",
     "start_time": "2023-06-12T04:38:33.104266500Z"
    }
   }
  },
  {
   "cell_type": "code",
   "execution_count": 4,
   "outputs": [
    {
     "name": "stdout",
     "output_type": "stream",
     "text": [
      "Rows: 4,184,916 rows | Columns: 2\n"
     ]
    }
   ],
   "source": [
    "df_rows, df_columns = df.shape\n",
    "print(f'Rows: {df_rows:,} rows | Columns: {df_columns}')"
   ],
   "metadata": {
    "collapsed": false,
    "ExecuteTime": {
     "end_time": "2023-06-12T04:38:39.053171100Z",
     "start_time": "2023-06-12T04:38:39.013162600Z"
    }
   }
  },
  {
   "cell_type": "code",
   "execution_count": 5,
   "outputs": [
    {
     "name": "stdout",
     "output_type": "stream",
     "text": [
      "Null values for each column:\n",
      "publication_number    0\n",
      "abstract              0\n",
      "dtype: int64\n"
     ]
    }
   ],
   "source": [
    "print(f'Null values for each column:\\n{df.isnull().sum()}')"
   ],
   "metadata": {
    "collapsed": false,
    "ExecuteTime": {
     "end_time": "2023-06-12T04:38:39.214197Z",
     "start_time": "2023-06-12T04:38:39.044172600Z"
    }
   }
  },
  {
   "cell_type": "code",
   "execution_count": 6,
   "outputs": [
    {
     "name": "stdout",
     "output_type": "stream",
     "text": [
      "Null value percentages for each column:\n",
      "publication_number    0.0\n",
      "abstract              0.0\n",
      "dtype: float64\n"
     ]
    }
   ],
   "source": [
    "print(f'Null value percentages for each column:\\n{df.isnull().mean() * 100}')"
   ],
   "metadata": {
    "collapsed": false,
    "ExecuteTime": {
     "end_time": "2023-06-12T04:38:39.383285100Z",
     "start_time": "2023-06-12T04:38:39.215196800Z"
    }
   }
  },
  {
   "cell_type": "code",
   "execution_count": 7,
   "outputs": [],
   "source": [
    "df_null = df[df.isnull().any(axis=1)]"
   ],
   "metadata": {
    "collapsed": false,
    "ExecuteTime": {
     "end_time": "2023-06-12T04:38:39.526355300Z",
     "start_time": "2023-06-12T04:38:39.384284900Z"
    }
   }
  },
  {
   "cell_type": "code",
   "execution_count": 8,
   "outputs": [
    {
     "name": "stdout",
     "output_type": "stream",
     "text": [
      "Duplicated rows sum:\n",
      "0\n"
     ]
    }
   ],
   "source": [
    "print(f'Duplicated rows sum:\\n{df.duplicated().sum()}')"
   ],
   "metadata": {
    "collapsed": false,
    "ExecuteTime": {
     "end_time": "2023-06-12T04:38:48.380336Z",
     "start_time": "2023-06-12T04:38:39.526355300Z"
    }
   }
  },
  {
   "cell_type": "code",
   "execution_count": 9,
   "outputs": [
    {
     "data": {
      "text/plain": "Empty DataFrame\nColumns: [publication_number, abstract]\nIndex: []",
      "text/html": "<div>\n<style scoped>\n    .dataframe tbody tr th:only-of-type {\n        vertical-align: middle;\n    }\n\n    .dataframe tbody tr th {\n        vertical-align: top;\n    }\n\n    .dataframe thead th {\n        text-align: right;\n    }\n</style>\n<table border=\"1\" class=\"dataframe\">\n  <thead>\n    <tr style=\"text-align: right;\">\n      <th></th>\n      <th>publication_number</th>\n      <th>abstract</th>\n    </tr>\n  </thead>\n  <tbody>\n  </tbody>\n</table>\n</div>"
     },
     "execution_count": 9,
     "metadata": {},
     "output_type": "execute_result"
    }
   ],
   "source": [
    "df_duplicated = df[df.duplicated(keep=False)]\n",
    "df_duplicated.head()"
   ],
   "metadata": {
    "collapsed": false,
    "ExecuteTime": {
     "end_time": "2023-06-12T04:38:57.190772700Z",
     "start_time": "2023-06-12T04:38:48.381335600Z"
    }
   }
  }
 ],
 "metadata": {
  "kernelspec": {
   "display_name": "Python 3",
   "language": "python",
   "name": "python3"
  },
  "language_info": {
   "codemirror_mode": {
    "name": "ipython",
    "version": 2
   },
   "file_extension": ".py",
   "mimetype": "text/x-python",
   "name": "python",
   "nbconvert_exporter": "python",
   "pygments_lexer": "ipython2",
   "version": "2.7.6"
  }
 },
 "nbformat": 4,
 "nbformat_minor": 0
}
