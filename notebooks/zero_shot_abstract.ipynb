{
 "cells": [
  {
   "cell_type": "code",
   "execution_count": 1,
   "metadata": {
    "collapsed": true,
    "ExecuteTime": {
     "end_time": "2023-09-02T01:23:28.960260400Z",
     "start_time": "2023-09-02T01:23:26.355844900Z"
    }
   },
   "outputs": [
    {
     "name": "stderr",
     "output_type": "stream",
     "text": [
      "2023-09-01 22:23:27,900 - DEBUG - Falling back to TensorFlow client; we recommended you install the Cloud TPU client directly with pip install cloud-tpu-client.\n",
      "2023-09-01 22:23:28,029 - DEBUG - Creating converter from 7 to 5\n",
      "2023-09-01 22:23:28,029 - DEBUG - Creating converter from 5 to 7\n",
      "2023-09-01 22:23:28,029 - DEBUG - Creating converter from 7 to 5\n",
      "2023-09-01 22:23:28,029 - DEBUG - Creating converter from 5 to 7\n"
     ]
    }
   ],
   "source": [
    "import json\n",
    "import pandas as pd\n",
    "from src.utils.UsefulPaths import Paths\n",
    "from transformers import pipeline\n",
    "from sentence_transformers import SentenceTransformer, util"
   ]
  },
  {
   "cell_type": "code",
   "execution_count": 2,
   "outputs": [],
   "source": [
    "paths = Paths()\n",
    "\n",
    "with open(paths.json_subsectors, 'r') as file:\n",
    "    subsectors = json.load(file)"
   ],
   "metadata": {
    "collapsed": false,
    "ExecuteTime": {
     "end_time": "2023-09-02T01:23:28.975925400Z",
     "start_time": "2023-09-02T01:23:28.960260400Z"
    }
   }
  },
  {
   "cell_type": "code",
   "execution_count": 3,
   "outputs": [
    {
     "data": {
      "text/plain": "    IPC                                              title  \\\n0  G16Y  INFORMATION AND COMMUNICATION TECHNOLOGY SPECI...   \n1  F24J                       HEATING; RANGES; VENTILATING   \n2  F21H  INCANDESCENT MANTLES; OTHER INCANDESCENT BODIE...   \n3  G16B  BIOINFORMATICS, i.e. INFORMATION AND COMMUNICA...   \n4  A01P  BIOCIDAL, PEST REPELLANT, PEST ATTRACTANT OR P...   \n\n                                zero_shot_hypothesis  \\\n0  Industry 4.0 , Other, Fintech, Edtech, Artific...   \n1  Medtech / Medical devices, Industry 4.0 , Biop...   \n2  Other, Medtech / Medical devices, Biopharma / ...   \n3  Biopharma / Biotech, Artificial Intelligence, ...   \n4  Biopharma / Biotech, Other, Industry 4.0 , Med...   \n\n                             similarities_hypothesis  \n0  Other, Industry 4.0 , Agtech, Artificial Intel...  \n1  Other, Medtech / Medical devices, Biopharma / ...  \n2  Other, Edtech, Cleantech, Medtech / Medical de...  \n3  Other, Biopharma / Biotech, Agtech, Artificial...  \n4  Other, Agtech, Biopharma / Biotech, New Food, ...  ",
      "text/html": "<div>\n<style scoped>\n    .dataframe tbody tr th:only-of-type {\n        vertical-align: middle;\n    }\n\n    .dataframe tbody tr th {\n        vertical-align: top;\n    }\n\n    .dataframe thead th {\n        text-align: right;\n    }\n</style>\n<table border=\"1\" class=\"dataframe\">\n  <thead>\n    <tr style=\"text-align: right;\">\n      <th></th>\n      <th>IPC</th>\n      <th>title</th>\n      <th>zero_shot_hypothesis</th>\n      <th>similarities_hypothesis</th>\n    </tr>\n  </thead>\n  <tbody>\n    <tr>\n      <th>0</th>\n      <td>G16Y</td>\n      <td>INFORMATION AND COMMUNICATION TECHNOLOGY SPECI...</td>\n      <td>Industry 4.0 , Other, Fintech, Edtech, Artific...</td>\n      <td>Other, Industry 4.0 , Agtech, Artificial Intel...</td>\n    </tr>\n    <tr>\n      <th>1</th>\n      <td>F24J</td>\n      <td>HEATING; RANGES; VENTILATING</td>\n      <td>Medtech / Medical devices, Industry 4.0 , Biop...</td>\n      <td>Other, Medtech / Medical devices, Biopharma / ...</td>\n    </tr>\n    <tr>\n      <th>2</th>\n      <td>F21H</td>\n      <td>INCANDESCENT MANTLES; OTHER INCANDESCENT BODIE...</td>\n      <td>Other, Medtech / Medical devices, Biopharma / ...</td>\n      <td>Other, Edtech, Cleantech, Medtech / Medical de...</td>\n    </tr>\n    <tr>\n      <th>3</th>\n      <td>G16B</td>\n      <td>BIOINFORMATICS, i.e. INFORMATION AND COMMUNICA...</td>\n      <td>Biopharma / Biotech, Artificial Intelligence, ...</td>\n      <td>Other, Biopharma / Biotech, Agtech, Artificial...</td>\n    </tr>\n    <tr>\n      <th>4</th>\n      <td>A01P</td>\n      <td>BIOCIDAL, PEST REPELLANT, PEST ATTRACTANT OR P...</td>\n      <td>Biopharma / Biotech, Other, Industry 4.0 , Med...</td>\n      <td>Other, Agtech, Biopharma / Biotech, New Food, ...</td>\n    </tr>\n  </tbody>\n</table>\n</div>"
     },
     "execution_count": 3,
     "metadata": {},
     "output_type": "execute_result"
    }
   ],
   "source": [
    "df_ipc_hypothesis = pd.read_csv(paths.ipc_subsetor_hypothesis)\n",
    "df_ipc_hypothesis.head()"
   ],
   "metadata": {
    "collapsed": false,
    "ExecuteTime": {
     "end_time": "2023-09-02T01:23:28.991563500Z",
     "start_time": "2023-09-02T01:23:28.975925400Z"
    }
   }
  },
  {
   "cell_type": "code",
   "execution_count": 4,
   "outputs": [],
   "source": [
    "ipc_dict = df_ipc_hypothesis.set_index('IPC').to_dict(orient='index')\n",
    "for k, v in ipc_dict.items():\n",
    "    ipc_dict[k]['zero_shot_hypothesis'] = ipc_dict[k]['zero_shot_hypothesis'].split(', ')\n",
    "    ipc_dict[k]['similarities_hypothesis'] = ipc_dict[k]['similarities_hypothesis'].split(', ')"
   ],
   "metadata": {
    "collapsed": false,
    "ExecuteTime": {
     "end_time": "2023-09-02T01:23:29.022764900Z",
     "start_time": "2023-09-02T01:23:28.991563500Z"
    }
   }
  },
  {
   "cell_type": "code",
   "execution_count": 5,
   "outputs": [
    {
     "data": {
      "text/plain": "           patent_id                                           abstract  \\\n0        20180274840  A refrigerator comprises: a refrigerator compa...   \n1        20190097688  Embodiments of methods and systems for operati...   \n2        20190157921  Provided is a magnetic plate laminate comprisi...   \n3        20190189823  The present disclosure relates to a solar cell...   \n4        20190220574  A system and protocol for integrating a plural...   \n...              ...                                                ...   \n1073256  20200412939  The invention relates to a device for measurin...   \n1073257  20200413013  A system and method for altering the visual ap...   \n1073258  20200413084  An apparatus for video decoding includes proce...   \n1073259  20200413347  Methods, systems, and devices for wireless com...   \n1073260  20200413470  An RLF processing method and apparatus are pro...   \n\n           class_concat                                        class_names  \n0                  F25D  Mechanical Engineering; Lighting; Heating; Wea...  \n1                  H04B                                        Electricity  \n2                  H02K                                        Electricity  \n3                  H01L                                        Electricity  \n4                  G06F                                            Physics  \n...                 ...                                                ...  \n1073256  G06T,G02B,H04N                        Physics,Physics,Electricity  \n1073257            H04N                                        Electricity  \n1073258            H04N                                        Electricity  \n1073259       H04L,H04W                            Electricity,Electricity  \n1073260            H04W                                        Electricity  \n\n[1073261 rows x 4 columns]",
      "text/html": "<div>\n<style scoped>\n    .dataframe tbody tr th:only-of-type {\n        vertical-align: middle;\n    }\n\n    .dataframe tbody tr th {\n        vertical-align: top;\n    }\n\n    .dataframe thead th {\n        text-align: right;\n    }\n</style>\n<table border=\"1\" class=\"dataframe\">\n  <thead>\n    <tr style=\"text-align: right;\">\n      <th></th>\n      <th>patent_id</th>\n      <th>abstract</th>\n      <th>class_concat</th>\n      <th>class_names</th>\n    </tr>\n  </thead>\n  <tbody>\n    <tr>\n      <th>0</th>\n      <td>20180274840</td>\n      <td>A refrigerator comprises: a refrigerator compa...</td>\n      <td>F25D</td>\n      <td>Mechanical Engineering; Lighting; Heating; Wea...</td>\n    </tr>\n    <tr>\n      <th>1</th>\n      <td>20190097688</td>\n      <td>Embodiments of methods and systems for operati...</td>\n      <td>H04B</td>\n      <td>Electricity</td>\n    </tr>\n    <tr>\n      <th>2</th>\n      <td>20190157921</td>\n      <td>Provided is a magnetic plate laminate comprisi...</td>\n      <td>H02K</td>\n      <td>Electricity</td>\n    </tr>\n    <tr>\n      <th>3</th>\n      <td>20190189823</td>\n      <td>The present disclosure relates to a solar cell...</td>\n      <td>H01L</td>\n      <td>Electricity</td>\n    </tr>\n    <tr>\n      <th>4</th>\n      <td>20190220574</td>\n      <td>A system and protocol for integrating a plural...</td>\n      <td>G06F</td>\n      <td>Physics</td>\n    </tr>\n    <tr>\n      <th>...</th>\n      <td>...</td>\n      <td>...</td>\n      <td>...</td>\n      <td>...</td>\n    </tr>\n    <tr>\n      <th>1073256</th>\n      <td>20200412939</td>\n      <td>The invention relates to a device for measurin...</td>\n      <td>G06T,G02B,H04N</td>\n      <td>Physics,Physics,Electricity</td>\n    </tr>\n    <tr>\n      <th>1073257</th>\n      <td>20200413013</td>\n      <td>A system and method for altering the visual ap...</td>\n      <td>H04N</td>\n      <td>Electricity</td>\n    </tr>\n    <tr>\n      <th>1073258</th>\n      <td>20200413084</td>\n      <td>An apparatus for video decoding includes proce...</td>\n      <td>H04N</td>\n      <td>Electricity</td>\n    </tr>\n    <tr>\n      <th>1073259</th>\n      <td>20200413347</td>\n      <td>Methods, systems, and devices for wireless com...</td>\n      <td>H04L,H04W</td>\n      <td>Electricity,Electricity</td>\n    </tr>\n    <tr>\n      <th>1073260</th>\n      <td>20200413470</td>\n      <td>An RLF processing method and apparatus are pro...</td>\n      <td>H04W</td>\n      <td>Electricity</td>\n    </tr>\n  </tbody>\n</table>\n<p>1073261 rows × 4 columns</p>\n</div>"
     },
     "execution_count": 5,
     "metadata": {},
     "output_type": "execute_result"
    }
   ],
   "source": [
    "# ABSTRACT BY JOAO\n",
    "df_abstract = pd.read_parquet('C:\\\\Users\\\\thiag\\\\PycharmProjects\\\\genome\\\\data\\\\processed\\\\abstract_and_classes.parquet')\n",
    "df_abstract.dropna(inplace=True)\n",
    "df_abstract.reset_index(drop=True, inplace=True)\n",
    "df_abstract"
   ],
   "metadata": {
    "collapsed": false,
    "ExecuteTime": {
     "end_time": "2023-09-02T01:23:30.674485200Z",
     "start_time": "2023-09-02T01:23:29.022764900Z"
    }
   }
  },
  {
   "cell_type": "code",
   "execution_count": 6,
   "outputs": [],
   "source": [
    "# df_abstract = pd.read_parquet(paths.raw_parquet_abstract)\n",
    "# df_abstract.head()"
   ],
   "metadata": {
    "collapsed": false,
    "ExecuteTime": {
     "end_time": "2023-09-02T01:23:30.690109400Z",
     "start_time": "2023-09-02T01:23:30.674485200Z"
    }
   }
  },
  {
   "cell_type": "code",
   "execution_count": 7,
   "outputs": [],
   "source": [
    "# offset_div = 50\n",
    "# df_joao = df_abstract.iloc[:offset_div].copy().reset_index(drop='index')\n",
    "# df_leo = df_abstract.iloc[offset_div:offset_div*2].copy().reset_index(drop='index')\n",
    "# df_maxm = df_abstract.iloc[offset_div*2:offset_div*3].copy().reset_index(drop='index')\n",
    "# df_rafael = df_abstract.iloc[offset_div*4:offset_div*5].copy().reset_index(drop='index')\n",
    "# df_thiago = df_abstract.iloc[offset_div*6:offset_div*7].copy().reset_index(drop='index')\n",
    "# df_thiago_many = df_abstract.iloc[offset_div*6:offset_div*32].copy().reset_index(drop='index')"
   ],
   "metadata": {
    "collapsed": false,
    "ExecuteTime": {
     "end_time": "2023-09-02T01:23:30.721359600Z",
     "start_time": "2023-09-02T01:23:30.690109400Z"
    }
   }
  },
  {
   "cell_type": "code",
   "execution_count": 10,
   "outputs": [],
   "source": [
    "all_subsetor_names = []\n",
    "all_subsetor_definitions = []\n",
    "all_subsetor_keywords = []\n",
    "all_subsetor_does_include = []\n",
    "all_subsetor_does_not_include = []\n",
    "for subsetor_name, subsetor_values in subsectors.items():\n",
    "    subsetor_definition = subsetor_values.get('Definition', '')\n",
    "    subsetor_keywords = subsetor_values.get('Keywords', '')\n",
    "    subsetor_does_include = subsetor_values.get('Does include', '')\n",
    "    subsetor_does_not_include = subsetor_values.get('Does not include', '')\n",
    "\n",
    "    all_subsetor_names.append(subsetor_name)\n",
    "    all_subsetor_definitions.append(subsetor_definition)\n",
    "    all_subsetor_keywords.append(subsetor_keywords)\n",
    "    all_subsetor_does_include.append(subsetor_does_include)\n",
    "    all_subsetor_does_not_include.append(subsetor_does_not_include)\n",
    "\n",
    "all_subsetor_names.append('Other')\n",
    "all_subsetor_definitions.append('')\n",
    "all_subsetor_keywords.append('')\n",
    "all_subsetor_does_include.append('')\n",
    "all_subsetor_does_not_include.append('')"
   ],
   "metadata": {
    "collapsed": false,
    "ExecuteTime": {
     "end_time": "2023-09-02T01:24:45.477139800Z",
     "start_time": "2023-09-02T01:24:45.466136400Z"
    }
   }
  },
  {
   "cell_type": "code",
   "execution_count": 15,
   "outputs": [
    {
     "name": "stderr",
     "output_type": "stream",
     "text": [
      "2023-09-01 22:40:33,271 - DEBUG - Resetting dropped connection: huggingface.co\n",
      "2023-09-01 22:40:33,543 - DEBUG - https://huggingface.co:443 \"HEAD /MoritzLaurer/DeBERTa-v3-base-mnli-fever-anli/resolve/main/config.json HTTP/1.1\" 200 0\n",
      "C:\\Users\\thiag\\PycharmProjects\\Genome\\venv\\lib\\site-packages\\transformers\\convert_slow_tokenizer.py:470: UserWarning: The sentencepiece tokenizer that you are converting to a fast tokenizer uses the byte fallback option which is not implemented in the fast tokenizers. In practice this means that the fast version of the tokenizer can produce unknown tokens whereas the sentencepiece version would have converted these unknown tokens into a sequence of byte tokens matching the original piece of text.\n",
      "  warnings.warn(\n",
      "2023-09-01 22:40:35,002 - INFO - Load pretrained SentenceTransformer: all-mpnet-base-v2\n",
      "2023-09-01 22:40:35,479 - INFO - Use pytorch device: cpu\n"
     ]
    },
    {
     "ename": "KeyboardInterrupt",
     "evalue": "",
     "output_type": "error",
     "traceback": [
      "\u001B[1;31m---------------------------------------------------------------------------\u001B[0m",
      "\u001B[1;31mKeyboardInterrupt\u001B[0m                         Traceback (most recent call last)",
      "Cell \u001B[1;32mIn[15], line 27\u001B[0m\n\u001B[0;32m     24\u001B[0m p2 \u001B[38;5;241m=\u001B[39m pd\u001B[38;5;241m.\u001B[39mDataFrame([patent_zero_shot_class[\u001B[38;5;124m'\u001B[39m\u001B[38;5;124mscores\u001B[39m\u001B[38;5;124m'\u001B[39m]], columns\u001B[38;5;241m=\u001B[39mpatent_zero_shot_class[\u001B[38;5;124m'\u001B[39m\u001B[38;5;124mlabels\u001B[39m\u001B[38;5;124m'\u001B[39m])\n\u001B[0;32m     25\u001B[0m patent_zero_shot_hypothesis \u001B[38;5;241m=\u001B[39m \u001B[38;5;124m'\u001B[39m\u001B[38;5;124m, \u001B[39m\u001B[38;5;124m'\u001B[39m\u001B[38;5;241m.\u001B[39mjoin(patent_zero_shot_class[\u001B[38;5;124m'\u001B[39m\u001B[38;5;124mlabels\u001B[39m\u001B[38;5;124m'\u001B[39m])\n\u001B[1;32m---> 27\u001B[0m patent_ipcs \u001B[38;5;241m=\u001B[39m \u001B[43mrow\u001B[49m[\u001B[38;5;124m'\u001B[39m\u001B[38;5;124mclass_concat\u001B[39m\u001B[38;5;124m'\u001B[39m]\u001B[38;5;241m.\u001B[39msplit(\u001B[38;5;124m'\u001B[39m\u001B[38;5;124m, \u001B[39m\u001B[38;5;124m'\u001B[39m)\n\u001B[0;32m     28\u001B[0m all_hypothesis \u001B[38;5;241m=\u001B[39m []\n\u001B[0;32m     29\u001B[0m \u001B[38;5;28;01mfor\u001B[39;00m patent_ipc \u001B[38;5;129;01min\u001B[39;00m patent_ipcs:\n",
      "Cell \u001B[1;32mIn[15], line 27\u001B[0m\n\u001B[0;32m     24\u001B[0m p2 \u001B[38;5;241m=\u001B[39m pd\u001B[38;5;241m.\u001B[39mDataFrame([patent_zero_shot_class[\u001B[38;5;124m'\u001B[39m\u001B[38;5;124mscores\u001B[39m\u001B[38;5;124m'\u001B[39m]], columns\u001B[38;5;241m=\u001B[39mpatent_zero_shot_class[\u001B[38;5;124m'\u001B[39m\u001B[38;5;124mlabels\u001B[39m\u001B[38;5;124m'\u001B[39m])\n\u001B[0;32m     25\u001B[0m patent_zero_shot_hypothesis \u001B[38;5;241m=\u001B[39m \u001B[38;5;124m'\u001B[39m\u001B[38;5;124m, \u001B[39m\u001B[38;5;124m'\u001B[39m\u001B[38;5;241m.\u001B[39mjoin(patent_zero_shot_class[\u001B[38;5;124m'\u001B[39m\u001B[38;5;124mlabels\u001B[39m\u001B[38;5;124m'\u001B[39m])\n\u001B[1;32m---> 27\u001B[0m patent_ipcs \u001B[38;5;241m=\u001B[39m \u001B[43mrow\u001B[49m[\u001B[38;5;124m'\u001B[39m\u001B[38;5;124mclass_concat\u001B[39m\u001B[38;5;124m'\u001B[39m]\u001B[38;5;241m.\u001B[39msplit(\u001B[38;5;124m'\u001B[39m\u001B[38;5;124m, \u001B[39m\u001B[38;5;124m'\u001B[39m)\n\u001B[0;32m     28\u001B[0m all_hypothesis \u001B[38;5;241m=\u001B[39m []\n\u001B[0;32m     29\u001B[0m \u001B[38;5;28;01mfor\u001B[39;00m patent_ipc \u001B[38;5;129;01min\u001B[39;00m patent_ipcs:\n",
      "File \u001B[1;32m_pydevd_bundle\\pydevd_cython_win32_39_64.pyx:1179\u001B[0m, in \u001B[0;36m_pydevd_bundle.pydevd_cython_win32_39_64.SafeCallWrapper.__call__\u001B[1;34m()\u001B[0m\n",
      "File \u001B[1;32m_pydevd_bundle\\pydevd_cython_win32_39_64.pyx:620\u001B[0m, in \u001B[0;36m_pydevd_bundle.pydevd_cython_win32_39_64.PyDBFrame.trace_dispatch\u001B[1;34m()\u001B[0m\n",
      "File \u001B[1;32m_pydevd_bundle\\pydevd_cython_win32_39_64.pyx:929\u001B[0m, in \u001B[0;36m_pydevd_bundle.pydevd_cython_win32_39_64.PyDBFrame.trace_dispatch\u001B[1;34m()\u001B[0m\n",
      "File \u001B[1;32m_pydevd_bundle\\pydevd_cython_win32_39_64.pyx:920\u001B[0m, in \u001B[0;36m_pydevd_bundle.pydevd_cython_win32_39_64.PyDBFrame.trace_dispatch\u001B[1;34m()\u001B[0m\n",
      "File \u001B[1;32m_pydevd_bundle\\pydevd_cython_win32_39_64.pyx:317\u001B[0m, in \u001B[0;36m_pydevd_bundle.pydevd_cython_win32_39_64.PyDBFrame.do_wait_suspend\u001B[1;34m()\u001B[0m\n",
      "File \u001B[1;32mC:\\Program Files\\JetBrains\\PyCharm 2023.1.2\\plugins\\python\\helpers\\pydev\\pydevd.py:1160\u001B[0m, in \u001B[0;36mPyDB.do_wait_suspend\u001B[1;34m(self, thread, frame, event, arg, send_suspend_message, is_unhandled_exception)\u001B[0m\n\u001B[0;32m   1157\u001B[0m         from_this_thread\u001B[38;5;241m.\u001B[39mappend(frame_id)\n\u001B[0;32m   1159\u001B[0m \u001B[38;5;28;01mwith\u001B[39;00m \u001B[38;5;28mself\u001B[39m\u001B[38;5;241m.\u001B[39m_threads_suspended_single_notification\u001B[38;5;241m.\u001B[39mnotify_thread_suspended(thread_id, stop_reason):\n\u001B[1;32m-> 1160\u001B[0m     \u001B[38;5;28;43mself\u001B[39;49m\u001B[38;5;241;43m.\u001B[39;49m\u001B[43m_do_wait_suspend\u001B[49m\u001B[43m(\u001B[49m\u001B[43mthread\u001B[49m\u001B[43m,\u001B[49m\u001B[43m \u001B[49m\u001B[43mframe\u001B[49m\u001B[43m,\u001B[49m\u001B[43m \u001B[49m\u001B[43mevent\u001B[49m\u001B[43m,\u001B[49m\u001B[43m \u001B[49m\u001B[43marg\u001B[49m\u001B[43m,\u001B[49m\u001B[43m \u001B[49m\u001B[43msuspend_type\u001B[49m\u001B[43m,\u001B[49m\u001B[43m \u001B[49m\u001B[43mfrom_this_thread\u001B[49m\u001B[43m)\u001B[49m\n",
      "File \u001B[1;32mC:\\Program Files\\JetBrains\\PyCharm 2023.1.2\\plugins\\python\\helpers\\pydev\\pydevd.py:1175\u001B[0m, in \u001B[0;36mPyDB._do_wait_suspend\u001B[1;34m(self, thread, frame, event, arg, suspend_type, from_this_thread)\u001B[0m\n\u001B[0;32m   1172\u001B[0m             \u001B[38;5;28mself\u001B[39m\u001B[38;5;241m.\u001B[39m_call_mpl_hook()\n\u001B[0;32m   1174\u001B[0m         \u001B[38;5;28mself\u001B[39m\u001B[38;5;241m.\u001B[39mprocess_internal_commands()\n\u001B[1;32m-> 1175\u001B[0m         \u001B[43mtime\u001B[49m\u001B[38;5;241;43m.\u001B[39;49m\u001B[43msleep\u001B[49m\u001B[43m(\u001B[49m\u001B[38;5;241;43m0.01\u001B[39;49m\u001B[43m)\u001B[49m\n\u001B[0;32m   1177\u001B[0m \u001B[38;5;28mself\u001B[39m\u001B[38;5;241m.\u001B[39mcancel_async_evaluation(get_current_thread_id(thread), \u001B[38;5;28mstr\u001B[39m(\u001B[38;5;28mid\u001B[39m(frame)))\n\u001B[0;32m   1179\u001B[0m \u001B[38;5;66;03m# process any stepping instructions\u001B[39;00m\n",
      "\u001B[1;31mKeyboardInterrupt\u001B[0m: "
     ]
    }
   ],
   "source": [
    "classifier = pipeline(\"zero-shot-classification\", model=\"MoritzLaurer/DeBERTa-v3-base-mnli-fever-anli\")\n",
    "\n",
    "# 'bert-base-uncased'\n",
    "# 'bert-large-uncased-whole-word-masking'\n",
    "# 'bert-base-multilingual-cased'\n",
    "# 'all-mpnet-base-v2'\n",
    "model = SentenceTransformer('all-mpnet-base-v2')\n",
    "subsetor_definitions_embeddings = model.encode(all_subsetor_definitions, convert_to_tensor=True, show_progress_bar=False, normalize_embeddings=False)\n",
    "\n",
    "df_all = pd.DataFrame()\n",
    "for index, row in df_abstract.iterrows():\n",
    "    patent_abstract = row['abstract']\n",
    "\n",
    "    query = f'What is the subsetor definiton that best describes this patent abstract \"{patent_abstract}\"'\n",
    "    patent_abstract_embeddings = model.encode(query, convert_to_tensor=True, show_progress_bar=False, normalize_embeddings=False)\n",
    "\n",
    "    cos_scores = util.cos_sim(patent_abstract_embeddings, subsetor_definitions_embeddings)\n",
    "\n",
    "    p = pd.DataFrame(cos_scores.cpu().numpy().tolist(), columns=all_subsetor_names)\n",
    "    patent_similarities_hypothesis = p.iloc[0, :].to_frame().T.sort_values(by=0, axis=1, ascending=False).columns.tolist()\n",
    "\n",
    "    patent_zero_shot_class = classifier(patent_abstract, all_subsetor_names, multi_label=False)\n",
    "\n",
    "    p2 = pd.DataFrame([patent_zero_shot_class['scores']], columns=patent_zero_shot_class['labels'])\n",
    "    patent_zero_shot_hypothesis = ', '.join(patent_zero_shot_class['labels'])\n",
    "\n",
    "    patent_ipcs = row['class_concat'].split(', ')\n",
    "    all_hypothesis = []\n",
    "    for patent_ipc in patent_ipcs:\n",
    "        ipc_zero_shot_hypothesis = ipc_dict[patent_ipc].get('zero_shot_hypothesis')\n",
    "        ipc_similarities_hypothesis = ipc_dict[patent_ipc].get('zero_shot_hypothesis')\n",
    "\n",
    "        candidate_zero_shot_label = ipc_zero_shot_hypothesis[0:5]\n",
    "        candidate_similarities_label = ipc_similarities_hypothesis[0:5]\n",
    "\n",
    "        output_zero_shot = classifier(patent_abstract, candidate_zero_shot_label, multi_label=False)\n",
    "        all_hypothesis.append(output_zero_shot['labels'][0])\n",
    "\n",
    "        output_similarities = classifier(patent_abstract, candidate_similarities_label, multi_label=False)\n",
    "        all_hypothesis.append(output_similarities['labels'][0])\n",
    "\n",
    "        a = 0"
   ],
   "metadata": {
    "collapsed": false
   }
  }
 ],
 "metadata": {
  "kernelspec": {
   "display_name": "Python 3",
   "language": "python",
   "name": "python3"
  },
  "language_info": {
   "codemirror_mode": {
    "name": "ipython",
    "version": 2
   },
   "file_extension": ".py",
   "mimetype": "text/x-python",
   "name": "python",
   "nbconvert_exporter": "python",
   "pygments_lexer": "ipython2",
   "version": "2.7.6"
  }
 },
 "nbformat": 4,
 "nbformat_minor": 0
}
