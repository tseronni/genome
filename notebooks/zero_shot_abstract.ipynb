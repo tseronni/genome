{
 "cells": [
  {
   "cell_type": "code",
   "execution_count": 2,
   "metadata": {
    "collapsed": true,
    "ExecuteTime": {
     "end_time": "2023-09-03T03:03:40.985924800Z",
     "start_time": "2023-09-03T03:03:36.062595600Z"
    }
   },
   "outputs": [
    {
     "name": "stderr",
     "output_type": "stream",
     "text": [
      "2023-09-03 00:03:38,926 - DEBUG - Falling back to TensorFlow client; we recommended you install the Cloud TPU client directly with pip install cloud-tpu-client.\n",
      "2023-09-03 00:03:39,067 - DEBUG - Creating converter from 7 to 5\n",
      "2023-09-03 00:03:39,067 - DEBUG - Creating converter from 5 to 7\n",
      "2023-09-03 00:03:39,067 - DEBUG - Creating converter from 7 to 5\n",
      "2023-09-03 00:03:39,074 - DEBUG - Creating converter from 5 to 7\n"
     ]
    }
   ],
   "source": [
    "import json\n",
    "import pandas as pd\n",
    "from src.utils.UsefulPaths import Paths\n",
    "from transformers import pipeline\n",
    "from sentence_transformers import SentenceTransformer, util"
   ]
  },
  {
   "cell_type": "code",
   "execution_count": 9,
   "outputs": [],
   "source": [
    "paths = Paths()\n",
    "\n",
    "with open(paths.json_subsectors, 'r') as file:\n",
    "    subsectors = json.load(file)"
   ],
   "metadata": {
    "collapsed": false,
    "ExecuteTime": {
     "end_time": "2023-09-03T03:16:27.367553400Z",
     "start_time": "2023-09-03T03:16:27.350508800Z"
    }
   }
  },
  {
   "cell_type": "code",
   "execution_count": 7,
   "outputs": [
    {
     "data": {
      "text/plain": "    IPC                                              title  \\\n0  G16Y  INFORMATION AND COMMUNICATION TECHNOLOGY SPECI...   \n1  F24J                       HEATING; RANGES; VENTILATING   \n2  F21H  INCANDESCENT MANTLES; OTHER INCANDESCENT BODIE...   \n3  G16B  BIOINFORMATICS, i.e. INFORMATION AND COMMUNICA...   \n4  A01P  BIOCIDAL, PEST REPELLANT, PEST ATTRACTANT OR P...   \n\n                                zero_shot_hypothesis  \\\n0  Other, Industry 4.0, Digital Media, Medical Te...   \n1  Medical Technology; Medical devices, Clean Tec...   \n2  Other, Medical Technology; Medical devices, Bi...   \n3  Other, Biopharmaceutical; Biotechonology, Indu...   \n4  Medical Technology; Medical devices, Biopharma...   \n\n                             similarities_hypothesis  \n0  Other, Industry 4.0, Agriculture Technology, A...  \n1  Other, Medical Technology; Medical devices, Bi...  \n2  Other, Educational Technology, Clean Technolog...  \n3  Other, Biopharmaceutical; Biotechonology, Agri...  \n4  Other, Agriculture Technology, Biopharmaceutic...  ",
      "text/html": "<div>\n<style scoped>\n    .dataframe tbody tr th:only-of-type {\n        vertical-align: middle;\n    }\n\n    .dataframe tbody tr th {\n        vertical-align: top;\n    }\n\n    .dataframe thead th {\n        text-align: right;\n    }\n</style>\n<table border=\"1\" class=\"dataframe\">\n  <thead>\n    <tr style=\"text-align: right;\">\n      <th></th>\n      <th>IPC</th>\n      <th>title</th>\n      <th>zero_shot_hypothesis</th>\n      <th>similarities_hypothesis</th>\n    </tr>\n  </thead>\n  <tbody>\n    <tr>\n      <th>0</th>\n      <td>G16Y</td>\n      <td>INFORMATION AND COMMUNICATION TECHNOLOGY SPECI...</td>\n      <td>Other, Industry 4.0, Digital Media, Medical Te...</td>\n      <td>Other, Industry 4.0, Agriculture Technology, A...</td>\n    </tr>\n    <tr>\n      <th>1</th>\n      <td>F24J</td>\n      <td>HEATING; RANGES; VENTILATING</td>\n      <td>Medical Technology; Medical devices, Clean Tec...</td>\n      <td>Other, Medical Technology; Medical devices, Bi...</td>\n    </tr>\n    <tr>\n      <th>2</th>\n      <td>F21H</td>\n      <td>INCANDESCENT MANTLES; OTHER INCANDESCENT BODIE...</td>\n      <td>Other, Medical Technology; Medical devices, Bi...</td>\n      <td>Other, Educational Technology, Clean Technolog...</td>\n    </tr>\n    <tr>\n      <th>3</th>\n      <td>G16B</td>\n      <td>BIOINFORMATICS, i.e. INFORMATION AND COMMUNICA...</td>\n      <td>Other, Biopharmaceutical; Biotechonology, Indu...</td>\n      <td>Other, Biopharmaceutical; Biotechonology, Agri...</td>\n    </tr>\n    <tr>\n      <th>4</th>\n      <td>A01P</td>\n      <td>BIOCIDAL, PEST REPELLANT, PEST ATTRACTANT OR P...</td>\n      <td>Medical Technology; Medical devices, Biopharma...</td>\n      <td>Other, Agriculture Technology, Biopharmaceutic...</td>\n    </tr>\n  </tbody>\n</table>\n</div>"
     },
     "execution_count": 7,
     "metadata": {},
     "output_type": "execute_result"
    }
   ],
   "source": [
    "df_ipc_hypothesis = pd.read_csv(paths.ipc_subsetor_hypothesis)\n",
    "df_ipc_hypothesis.head()"
   ],
   "metadata": {
    "collapsed": false,
    "ExecuteTime": {
     "end_time": "2023-09-03T03:06:50.873373400Z",
     "start_time": "2023-09-03T03:06:50.842118100Z"
    }
   }
  },
  {
   "cell_type": "code",
   "execution_count": 4,
   "outputs": [],
   "source": [
    "ipc_dict = df_ipc_hypothesis.set_index('IPC').to_dict(orient='index')\n",
    "for k, v in ipc_dict.items():\n",
    "    ipc_dict[k]['zero_shot_hypothesis'] = ipc_dict[k]['zero_shot_hypothesis'].split(', ')\n",
    "    ipc_dict[k]['similarities_hypothesis'] = ipc_dict[k]['similarities_hypothesis'].split(', ')"
   ],
   "metadata": {
    "collapsed": false,
    "ExecuteTime": {
     "end_time": "2023-09-02T20:22:22.918942400Z",
     "start_time": "2023-09-02T20:22:22.840818500Z"
    }
   }
  },
  {
   "cell_type": "code",
   "execution_count": 5,
   "outputs": [],
   "source": [
    "# # ABSTRACT BY JOAO\n",
    "# df_abstract = pd.read_parquet('C:\\\\Users\\\\thiag\\\\PycharmProjects\\\\genome\\\\data\\\\processed\\\\abstract_and_classes.parquet')\n",
    "# df_abstract.dropna(inplace=True)\n",
    "# df_abstract.reset_index(drop=True, inplace=True)\n",
    "# df_abstract"
   ],
   "metadata": {
    "collapsed": false,
    "ExecuteTime": {
     "end_time": "2023-09-02T20:22:22.918942400Z",
     "start_time": "2023-09-02T20:22:22.856441700Z"
    }
   }
  },
  {
   "cell_type": "code",
   "execution_count": 6,
   "outputs": [
    {
     "data": {
      "text/plain": "   publication_number                                           abstract\n0         20080063564  Embodiments of techniques for determining the ...\n1         20080025285  A method for supporting frequency hopping of a...\n2         20080056857  To correct any positional misalignment of a su...\n3         20080031117  A holographic optical accessing system include...\n4         20080056179  Transmitting an acknowledgement/negative ackno...",
      "text/html": "<div>\n<style scoped>\n    .dataframe tbody tr th:only-of-type {\n        vertical-align: middle;\n    }\n\n    .dataframe tbody tr th {\n        vertical-align: top;\n    }\n\n    .dataframe thead th {\n        text-align: right;\n    }\n</style>\n<table border=\"1\" class=\"dataframe\">\n  <thead>\n    <tr style=\"text-align: right;\">\n      <th></th>\n      <th>publication_number</th>\n      <th>abstract</th>\n    </tr>\n  </thead>\n  <tbody>\n    <tr>\n      <th>0</th>\n      <td>20080063564</td>\n      <td>Embodiments of techniques for determining the ...</td>\n    </tr>\n    <tr>\n      <th>1</th>\n      <td>20080025285</td>\n      <td>A method for supporting frequency hopping of a...</td>\n    </tr>\n    <tr>\n      <th>2</th>\n      <td>20080056857</td>\n      <td>To correct any positional misalignment of a su...</td>\n    </tr>\n    <tr>\n      <th>3</th>\n      <td>20080031117</td>\n      <td>A holographic optical accessing system include...</td>\n    </tr>\n    <tr>\n      <th>4</th>\n      <td>20080056179</td>\n      <td>Transmitting an acknowledgement/negative ackno...</td>\n    </tr>\n  </tbody>\n</table>\n</div>"
     },
     "execution_count": 6,
     "metadata": {},
     "output_type": "execute_result"
    }
   ],
   "source": [
    "df_abstract = pd.read_parquet(paths.raw_parquet_abstract)\n",
    "df_abstract.head()"
   ],
   "metadata": {
    "collapsed": false,
    "ExecuteTime": {
     "end_time": "2023-09-02T20:22:28.937648800Z",
     "start_time": "2023-09-02T20:22:22.887692500Z"
    }
   }
  },
  {
   "cell_type": "code",
   "execution_count": 7,
   "outputs": [
    {
     "data": {
      "text/plain": "     publication_number                                        subsector  name\n0           20080027114                                           Agtech  leok\n1           20080029392                        Medtech / Medical devices  leok\n2           20080012387              Advanced Manufacturing and Robotics  leok\n3           20080047787                                              NaN  leok\n4           20080013207                                              NaN  leok\n..                  ...                                              ...   ...\n195         20080033731  Artificial Intelligence, Big Data and Analytics  joao\n196         20080025538              Advanced Manufacturing and Robotics  joao\n197         20080000184              Advanced Manufacturing and Robotics  joao\n198         20080014753              Advanced Manufacturing and Robotics  joao\n199         20080013382              Advanced Manufacturing and Robotics  joao\n\n[200 rows x 3 columns]",
      "text/html": "<div>\n<style scoped>\n    .dataframe tbody tr th:only-of-type {\n        vertical-align: middle;\n    }\n\n    .dataframe tbody tr th {\n        vertical-align: top;\n    }\n\n    .dataframe thead th {\n        text-align: right;\n    }\n</style>\n<table border=\"1\" class=\"dataframe\">\n  <thead>\n    <tr style=\"text-align: right;\">\n      <th></th>\n      <th>publication_number</th>\n      <th>subsector</th>\n      <th>name</th>\n    </tr>\n  </thead>\n  <tbody>\n    <tr>\n      <th>0</th>\n      <td>20080027114</td>\n      <td>Agtech</td>\n      <td>leok</td>\n    </tr>\n    <tr>\n      <th>1</th>\n      <td>20080029392</td>\n      <td>Medtech / Medical devices</td>\n      <td>leok</td>\n    </tr>\n    <tr>\n      <th>2</th>\n      <td>20080012387</td>\n      <td>Advanced Manufacturing and Robotics</td>\n      <td>leok</td>\n    </tr>\n    <tr>\n      <th>3</th>\n      <td>20080047787</td>\n      <td>NaN</td>\n      <td>leok</td>\n    </tr>\n    <tr>\n      <th>4</th>\n      <td>20080013207</td>\n      <td>NaN</td>\n      <td>leok</td>\n    </tr>\n    <tr>\n      <th>...</th>\n      <td>...</td>\n      <td>...</td>\n      <td>...</td>\n    </tr>\n    <tr>\n      <th>195</th>\n      <td>20080033731</td>\n      <td>Artificial Intelligence, Big Data and Analytics</td>\n      <td>joao</td>\n    </tr>\n    <tr>\n      <th>196</th>\n      <td>20080025538</td>\n      <td>Advanced Manufacturing and Robotics</td>\n      <td>joao</td>\n    </tr>\n    <tr>\n      <th>197</th>\n      <td>20080000184</td>\n      <td>Advanced Manufacturing and Robotics</td>\n      <td>joao</td>\n    </tr>\n    <tr>\n      <th>198</th>\n      <td>20080014753</td>\n      <td>Advanced Manufacturing and Robotics</td>\n      <td>joao</td>\n    </tr>\n    <tr>\n      <th>199</th>\n      <td>20080013382</td>\n      <td>Advanced Manufacturing and Robotics</td>\n      <td>joao</td>\n    </tr>\n  </tbody>\n</table>\n<p>200 rows × 3 columns</p>\n</div>"
     },
     "execution_count": 7,
     "metadata": {},
     "output_type": "execute_result"
    }
   ],
   "source": [
    "df_target = pd.read_csv(paths.processed_abstract_target)\n",
    "df_target"
   ],
   "metadata": {
    "collapsed": false,
    "ExecuteTime": {
     "end_time": "2023-09-02T20:22:28.944546900Z",
     "start_time": "2023-09-02T20:22:28.937648800Z"
    }
   }
  },
  {
   "cell_type": "code",
   "execution_count": 8,
   "outputs": [
    {
     "data": {
      "text/plain": "     publication_number                                           abstract\n0           20080063564  Embodiments of techniques for determining the ...\n1           20080025285  A method for supporting frequency hopping of a...\n2           20080056857  To correct any positional misalignment of a su...\n3           20080031117  A holographic optical accessing system include...\n4           20080056179  Transmitting an acknowledgement/negative ackno...\n..                  ...                                                ...\n245         20080014039  A retractable stanchion for supporting a semi-...\n246         20080039760  An adjustable adhesive bandage, comprising a f...\n247         20080018269  An electronic steering and control apparatus a...\n248         20080004224  The invention provides methods for improving t...\n249         20080028675  A method, system, apparatus and program extrac...\n\n[200 rows x 2 columns]",
      "text/html": "<div>\n<style scoped>\n    .dataframe tbody tr th:only-of-type {\n        vertical-align: middle;\n    }\n\n    .dataframe tbody tr th {\n        vertical-align: top;\n    }\n\n    .dataframe thead th {\n        text-align: right;\n    }\n</style>\n<table border=\"1\" class=\"dataframe\">\n  <thead>\n    <tr style=\"text-align: right;\">\n      <th></th>\n      <th>publication_number</th>\n      <th>abstract</th>\n    </tr>\n  </thead>\n  <tbody>\n    <tr>\n      <th>0</th>\n      <td>20080063564</td>\n      <td>Embodiments of techniques for determining the ...</td>\n    </tr>\n    <tr>\n      <th>1</th>\n      <td>20080025285</td>\n      <td>A method for supporting frequency hopping of a...</td>\n    </tr>\n    <tr>\n      <th>2</th>\n      <td>20080056857</td>\n      <td>To correct any positional misalignment of a su...</td>\n    </tr>\n    <tr>\n      <th>3</th>\n      <td>20080031117</td>\n      <td>A holographic optical accessing system include...</td>\n    </tr>\n    <tr>\n      <th>4</th>\n      <td>20080056179</td>\n      <td>Transmitting an acknowledgement/negative ackno...</td>\n    </tr>\n    <tr>\n      <th>...</th>\n      <td>...</td>\n      <td>...</td>\n    </tr>\n    <tr>\n      <th>245</th>\n      <td>20080014039</td>\n      <td>A retractable stanchion for supporting a semi-...</td>\n    </tr>\n    <tr>\n      <th>246</th>\n      <td>20080039760</td>\n      <td>An adjustable adhesive bandage, comprising a f...</td>\n    </tr>\n    <tr>\n      <th>247</th>\n      <td>20080018269</td>\n      <td>An electronic steering and control apparatus a...</td>\n    </tr>\n    <tr>\n      <th>248</th>\n      <td>20080004224</td>\n      <td>The invention provides methods for improving t...</td>\n    </tr>\n    <tr>\n      <th>249</th>\n      <td>20080028675</td>\n      <td>A method, system, apparatus and program extrac...</td>\n    </tr>\n  </tbody>\n</table>\n<p>200 rows × 2 columns</p>\n</div>"
     },
     "execution_count": 8,
     "metadata": {},
     "output_type": "execute_result"
    }
   ],
   "source": [
    "df = df_abstract[df_abstract['publication_number'].isin(df_target.publication_number)]\n",
    "df"
   ],
   "metadata": {
    "collapsed": false,
    "ExecuteTime": {
     "end_time": "2023-09-02T20:22:29.053350700Z",
     "start_time": "2023-09-02T20:22:28.944546900Z"
    }
   }
  },
  {
   "cell_type": "code",
   "execution_count": 9,
   "outputs": [
    {
     "data": {
      "text/plain": "     publication_number                                           abstract\n0           20080027114  The invention relates to novel insecticidal ac...\n1           20080029392  ['The invention relates to a method of prepari...\n2           20080012387  A vehicle support structure is provided with a...\n3           20080047787  A disc brake for a vehicle such as a commercia...\n4           20080013207  Embodiments of the present invention pertain t...\n..                  ...                                                ...\n195         20080033731  Certain types of parametric spatial coding enc...\n196         20080025538  Various embodiments are disclosed relating to ...\n197         20080000184  The invention is a flat-faced, or planar-clad,...\n198         20080014753  In a method of manufacturing a semiconductor d...\n199         20080013382  A current sensing data read/verify process and...\n\n[200 rows x 2 columns]",
      "text/html": "<div>\n<style scoped>\n    .dataframe tbody tr th:only-of-type {\n        vertical-align: middle;\n    }\n\n    .dataframe tbody tr th {\n        vertical-align: top;\n    }\n\n    .dataframe thead th {\n        text-align: right;\n    }\n</style>\n<table border=\"1\" class=\"dataframe\">\n  <thead>\n    <tr style=\"text-align: right;\">\n      <th></th>\n      <th>publication_number</th>\n      <th>abstract</th>\n    </tr>\n  </thead>\n  <tbody>\n    <tr>\n      <th>0</th>\n      <td>20080027114</td>\n      <td>The invention relates to novel insecticidal ac...</td>\n    </tr>\n    <tr>\n      <th>1</th>\n      <td>20080029392</td>\n      <td>['The invention relates to a method of prepari...</td>\n    </tr>\n    <tr>\n      <th>2</th>\n      <td>20080012387</td>\n      <td>A vehicle support structure is provided with a...</td>\n    </tr>\n    <tr>\n      <th>3</th>\n      <td>20080047787</td>\n      <td>A disc brake for a vehicle such as a commercia...</td>\n    </tr>\n    <tr>\n      <th>4</th>\n      <td>20080013207</td>\n      <td>Embodiments of the present invention pertain t...</td>\n    </tr>\n    <tr>\n      <th>...</th>\n      <td>...</td>\n      <td>...</td>\n    </tr>\n    <tr>\n      <th>195</th>\n      <td>20080033731</td>\n      <td>Certain types of parametric spatial coding enc...</td>\n    </tr>\n    <tr>\n      <th>196</th>\n      <td>20080025538</td>\n      <td>Various embodiments are disclosed relating to ...</td>\n    </tr>\n    <tr>\n      <th>197</th>\n      <td>20080000184</td>\n      <td>The invention is a flat-faced, or planar-clad,...</td>\n    </tr>\n    <tr>\n      <th>198</th>\n      <td>20080014753</td>\n      <td>In a method of manufacturing a semiconductor d...</td>\n    </tr>\n    <tr>\n      <th>199</th>\n      <td>20080013382</td>\n      <td>A current sensing data read/verify process and...</td>\n    </tr>\n  </tbody>\n</table>\n<p>200 rows × 2 columns</p>\n</div>"
     },
     "execution_count": 9,
     "metadata": {},
     "output_type": "execute_result"
    }
   ],
   "source": [
    "selected_values = df_target.publication_number.tolist()\n",
    "filtered_df  = df[df['publication_number'].isin(selected_values)]\n",
    "df = filtered_df.set_index('publication_number').reindex(selected_values).reset_index()\n",
    "df"
   ],
   "metadata": {
    "collapsed": false,
    "ExecuteTime": {
     "end_time": "2023-09-02T20:22:29.100414700Z",
     "start_time": "2023-09-02T20:22:28.990845500Z"
    }
   }
  },
  {
   "cell_type": "code",
   "execution_count": 10,
   "outputs": [
    {
     "data": {
      "text/plain": "     publication_number                                           abstract  \\\n0           20080027114  The invention relates to novel insecticidal ac...   \n1           20080029392  ['The invention relates to a method of prepari...   \n2           20080012387  A vehicle support structure is provided with a...   \n3           20080047787  A disc brake for a vehicle such as a commercia...   \n4           20080013207  Embodiments of the present invention pertain t...   \n..                  ...                                                ...   \n195         20080033731  Certain types of parametric spatial coding enc...   \n196         20080025538  Various embodiments are disclosed relating to ...   \n197         20080000184  The invention is a flat-faced, or planar-clad,...   \n198         20080014753  In a method of manufacturing a semiconductor d...   \n199         20080013382  A current sensing data read/verify process and...   \n\n                                      class_subsetor  name  \n0                                             Agtech  leok  \n1                          Medtech / Medical devices  leok  \n2                Advanced Manufacturing and Robotics  leok  \n3                                                NaN  leok  \n4                                                NaN  leok  \n..                                               ...   ...  \n195  Artificial Intelligence, Big Data and Analytics  joao  \n196              Advanced Manufacturing and Robotics  joao  \n197              Advanced Manufacturing and Robotics  joao  \n198              Advanced Manufacturing and Robotics  joao  \n199              Advanced Manufacturing and Robotics  joao  \n\n[200 rows x 4 columns]",
      "text/html": "<div>\n<style scoped>\n    .dataframe tbody tr th:only-of-type {\n        vertical-align: middle;\n    }\n\n    .dataframe tbody tr th {\n        vertical-align: top;\n    }\n\n    .dataframe thead th {\n        text-align: right;\n    }\n</style>\n<table border=\"1\" class=\"dataframe\">\n  <thead>\n    <tr style=\"text-align: right;\">\n      <th></th>\n      <th>publication_number</th>\n      <th>abstract</th>\n      <th>class_subsetor</th>\n      <th>name</th>\n    </tr>\n  </thead>\n  <tbody>\n    <tr>\n      <th>0</th>\n      <td>20080027114</td>\n      <td>The invention relates to novel insecticidal ac...</td>\n      <td>Agtech</td>\n      <td>leok</td>\n    </tr>\n    <tr>\n      <th>1</th>\n      <td>20080029392</td>\n      <td>['The invention relates to a method of prepari...</td>\n      <td>Medtech / Medical devices</td>\n      <td>leok</td>\n    </tr>\n    <tr>\n      <th>2</th>\n      <td>20080012387</td>\n      <td>A vehicle support structure is provided with a...</td>\n      <td>Advanced Manufacturing and Robotics</td>\n      <td>leok</td>\n    </tr>\n    <tr>\n      <th>3</th>\n      <td>20080047787</td>\n      <td>A disc brake for a vehicle such as a commercia...</td>\n      <td>NaN</td>\n      <td>leok</td>\n    </tr>\n    <tr>\n      <th>4</th>\n      <td>20080013207</td>\n      <td>Embodiments of the present invention pertain t...</td>\n      <td>NaN</td>\n      <td>leok</td>\n    </tr>\n    <tr>\n      <th>...</th>\n      <td>...</td>\n      <td>...</td>\n      <td>...</td>\n      <td>...</td>\n    </tr>\n    <tr>\n      <th>195</th>\n      <td>20080033731</td>\n      <td>Certain types of parametric spatial coding enc...</td>\n      <td>Artificial Intelligence, Big Data and Analytics</td>\n      <td>joao</td>\n    </tr>\n    <tr>\n      <th>196</th>\n      <td>20080025538</td>\n      <td>Various embodiments are disclosed relating to ...</td>\n      <td>Advanced Manufacturing and Robotics</td>\n      <td>joao</td>\n    </tr>\n    <tr>\n      <th>197</th>\n      <td>20080000184</td>\n      <td>The invention is a flat-faced, or planar-clad,...</td>\n      <td>Advanced Manufacturing and Robotics</td>\n      <td>joao</td>\n    </tr>\n    <tr>\n      <th>198</th>\n      <td>20080014753</td>\n      <td>In a method of manufacturing a semiconductor d...</td>\n      <td>Advanced Manufacturing and Robotics</td>\n      <td>joao</td>\n    </tr>\n    <tr>\n      <th>199</th>\n      <td>20080013382</td>\n      <td>A current sensing data read/verify process and...</td>\n      <td>Advanced Manufacturing and Robotics</td>\n      <td>joao</td>\n    </tr>\n  </tbody>\n</table>\n<p>200 rows × 4 columns</p>\n</div>"
     },
     "execution_count": 10,
     "metadata": {},
     "output_type": "execute_result"
    }
   ],
   "source": [
    "df['class_subsetor'] = df_target.subsector\n",
    "df['name'] = df_target.name\n",
    "df"
   ],
   "metadata": {
    "collapsed": false,
    "ExecuteTime": {
     "end_time": "2023-09-02T20:22:29.119144Z",
     "start_time": "2023-09-02T20:22:29.022100600Z"
    }
   }
  },
  {
   "cell_type": "code",
   "execution_count": 10,
   "outputs": [],
   "source": [
    "all_subsetor_names = []\n",
    "all_subsetor_definitions = []\n",
    "all_subsetor_keywords = []\n",
    "all_subsetor_does_include = []\n",
    "all_subsetor_does_not_include = []\n",
    "for subsetor_name, subsetor_values in subsectors.items():\n",
    "    subsetor_definition = subsetor_values.get('Definition', '')\n",
    "    subsetor_keywords = subsetor_values.get('Keywords', '')\n",
    "    subsetor_does_include = subsetor_values.get('Does include', '')\n",
    "    subsetor_does_not_include = subsetor_values.get('Does not include', '')\n",
    "\n",
    "    all_subsetor_names.append(subsetor_name)\n",
    "    all_subsetor_definitions.append(subsetor_definition)\n",
    "    all_subsetor_keywords.append(subsetor_keywords)\n",
    "    all_subsetor_does_include.append(subsetor_does_include)\n",
    "    all_subsetor_does_not_include.append(subsetor_does_not_include)\n",
    "\n",
    "all_subsetor_names.append('Other')\n",
    "all_subsetor_definitions.append('')\n",
    "all_subsetor_keywords.append('')\n",
    "all_subsetor_does_include.append('')\n",
    "all_subsetor_does_not_include.append('')"
   ],
   "metadata": {
    "collapsed": false,
    "ExecuteTime": {
     "end_time": "2023-09-03T03:16:40.033011800Z",
     "start_time": "2023-09-03T03:16:40.017400300Z"
    }
   }
  },
  {
   "cell_type": "code",
   "execution_count": 31,
   "outputs": [
    {
     "name": "stderr",
     "output_type": "stream",
     "text": [
      "2023-09-02 18:04:05,066 - DEBUG - https://huggingface.co:443 \"HEAD /sileod/deberta-v3-base-tasksource-nli/resolve/main/config.json HTTP/1.1\" 200 0\n",
      "2023-09-02 18:04:05,956 - INFO - Load pretrained SentenceTransformer: all-mpnet-base-v2\n",
      "2023-09-02 18:04:06,447 - INFO - Use pytorch device: cpu\n",
      "Asking to truncate to max_length but no maximum length is provided and the model has no predefined maximum length. Default to no truncation.\n"
     ]
    }
   ],
   "source": [
    "classifier = pipeline(\"zero-shot-classification\", model=\"sileod/deberta-v3-base-tasksource-nli\")\n",
    "\n",
    "# 'bert-base-uncased'\n",
    "# 'bert-large-uncased-whole-word-masking'\n",
    "# 'bert-base-multilingual-cased'\n",
    "# 'all-mpnet-base-v2'\n",
    "model = SentenceTransformer('all-mpnet-base-v2')\n",
    "subsetor_definitions_embeddings = model.encode(all_subsetor_definitions, convert_to_tensor=True, show_progress_bar=False, normalize_embeddings=False)\n",
    "\n",
    "break_line = 50\n",
    "\n",
    "df['class_AI'] = ''\n",
    "for index, row in df.iterrows():\n",
    "    patent_abstract = row['abstract']\n",
    "\n",
    "    query = f'What is the subsetor definiton that best describes this patent abstract \"{patent_abstract}\"'\n",
    "    patent_abstract_embeddings = model.encode(query, convert_to_tensor=True, show_progress_bar=False, normalize_embeddings=False)\n",
    "\n",
    "    cos_scores = util.cos_sim(patent_abstract_embeddings, subsetor_definitions_embeddings)\n",
    "\n",
    "    p = pd.DataFrame(cos_scores.cpu().numpy().tolist(), columns=all_subsetor_names)\n",
    "    v = p.iloc[0, :].sort_values(ascending=False)\n",
    "    patent_similarities_hypothesis = v.index.tolist()\n",
    "    patent_similarities_prob = v.values.tolist()\n",
    "\n",
    "    patent_zero_shot_class = classifier(patent_abstract, all_subsetor_names, multi_label=False)\n",
    "    patent_zero_shot_hypothesis = patent_zero_shot_class['labels']\n",
    "    patent_zero_shot_prob = patent_zero_shot_class['scores']\n",
    "\n",
    "    all_hypothesis = set()\n",
    "    [all_hypothesis.add(label) for label in patent_zero_shot_class['labels'][0:3]]\n",
    "    [all_hypothesis.add(label) for label in patent_similarities_hypothesis[0:3]]\n",
    "\n",
    "\n",
    "    patent_zero_shot_class_2 = classifier(patent_abstract, list(all_hypothesis), multi_label=True)\n",
    "    patent_zero_shot_multi_hypothesis = patent_zero_shot_class_2['labels']\n",
    "    patent_zero_shot_multi_prob = patent_zero_shot_class_2['scores']\n",
    "\n",
    "    df.at[index, 'class_AI'] = patent_zero_shot_class_2['labels'][0]\n",
    "    # if index > break_line:\n",
    "    #     break"
   ],
   "metadata": {
    "collapsed": false
   }
  },
  {
   "cell_type": "code",
   "execution_count": 15,
   "outputs": [
    {
     "data": {
      "text/plain": "     publication_number                                           abstract  \\\n0           20080027114  The invention relates to novel insecticidal ac...   \n1           20080029392  ['The invention relates to a method of prepari...   \n2           20080012387  A vehicle support structure is provided with a...   \n3           20080047787  A disc brake for a vehicle such as a commercia...   \n4           20080013207  Embodiments of the present invention pertain t...   \n..                  ...                                                ...   \n195         20080033731  Certain types of parametric spatial coding enc...   \n196         20080025538  Various embodiments are disclosed relating to ...   \n197         20080000184  The invention is a flat-faced, or planar-clad,...   \n198         20080014753  In a method of manufacturing a semiconductor d...   \n199         20080013382  A current sensing data read/verify process and...   \n\n                                      class_subsetor  name  \\\n0                                             Agtech  leok   \n1                          Medtech / Medical devices  leok   \n2                Advanced Manufacturing and Robotics  leok   \n3                                                NaN  leok   \n4                                                NaN  leok   \n..                                               ...   ...   \n195  Artificial Intelligence, Big Data and Analytics  joao   \n196              Advanced Manufacturing and Robotics  joao   \n197              Advanced Manufacturing and Robotics  joao   \n198              Advanced Manufacturing and Robotics  joao   \n199              Advanced Manufacturing and Robotics  joao   \n\n                                class_AI  \n0                 Agriculture Technology  \n1    Medical Technology; Medical devices  \n2                           Industry 4.0  \n3                           Industry 4.0  \n4                       Clean Technology  \n..                                   ...  \n195                                       \n196                                       \n197                                       \n198                                       \n199                                       \n\n[200 rows x 5 columns]",
      "text/html": "<div>\n<style scoped>\n    .dataframe tbody tr th:only-of-type {\n        vertical-align: middle;\n    }\n\n    .dataframe tbody tr th {\n        vertical-align: top;\n    }\n\n    .dataframe thead th {\n        text-align: right;\n    }\n</style>\n<table border=\"1\" class=\"dataframe\">\n  <thead>\n    <tr style=\"text-align: right;\">\n      <th></th>\n      <th>publication_number</th>\n      <th>abstract</th>\n      <th>class_subsetor</th>\n      <th>name</th>\n      <th>class_AI</th>\n    </tr>\n  </thead>\n  <tbody>\n    <tr>\n      <th>0</th>\n      <td>20080027114</td>\n      <td>The invention relates to novel insecticidal ac...</td>\n      <td>Agtech</td>\n      <td>leok</td>\n      <td>Agriculture Technology</td>\n    </tr>\n    <tr>\n      <th>1</th>\n      <td>20080029392</td>\n      <td>['The invention relates to a method of prepari...</td>\n      <td>Medtech / Medical devices</td>\n      <td>leok</td>\n      <td>Medical Technology; Medical devices</td>\n    </tr>\n    <tr>\n      <th>2</th>\n      <td>20080012387</td>\n      <td>A vehicle support structure is provided with a...</td>\n      <td>Advanced Manufacturing and Robotics</td>\n      <td>leok</td>\n      <td>Industry 4.0</td>\n    </tr>\n    <tr>\n      <th>3</th>\n      <td>20080047787</td>\n      <td>A disc brake for a vehicle such as a commercia...</td>\n      <td>NaN</td>\n      <td>leok</td>\n      <td>Industry 4.0</td>\n    </tr>\n    <tr>\n      <th>4</th>\n      <td>20080013207</td>\n      <td>Embodiments of the present invention pertain t...</td>\n      <td>NaN</td>\n      <td>leok</td>\n      <td>Clean Technology</td>\n    </tr>\n    <tr>\n      <th>...</th>\n      <td>...</td>\n      <td>...</td>\n      <td>...</td>\n      <td>...</td>\n      <td>...</td>\n    </tr>\n    <tr>\n      <th>195</th>\n      <td>20080033731</td>\n      <td>Certain types of parametric spatial coding enc...</td>\n      <td>Artificial Intelligence, Big Data and Analytics</td>\n      <td>joao</td>\n      <td></td>\n    </tr>\n    <tr>\n      <th>196</th>\n      <td>20080025538</td>\n      <td>Various embodiments are disclosed relating to ...</td>\n      <td>Advanced Manufacturing and Robotics</td>\n      <td>joao</td>\n      <td></td>\n    </tr>\n    <tr>\n      <th>197</th>\n      <td>20080000184</td>\n      <td>The invention is a flat-faced, or planar-clad,...</td>\n      <td>Advanced Manufacturing and Robotics</td>\n      <td>joao</td>\n      <td></td>\n    </tr>\n    <tr>\n      <th>198</th>\n      <td>20080014753</td>\n      <td>In a method of manufacturing a semiconductor d...</td>\n      <td>Advanced Manufacturing and Robotics</td>\n      <td>joao</td>\n      <td></td>\n    </tr>\n    <tr>\n      <th>199</th>\n      <td>20080013382</td>\n      <td>A current sensing data read/verify process and...</td>\n      <td>Advanced Manufacturing and Robotics</td>\n      <td>joao</td>\n      <td></td>\n    </tr>\n  </tbody>\n</table>\n<p>200 rows × 5 columns</p>\n</div>"
     },
     "execution_count": 15,
     "metadata": {},
     "output_type": "execute_result"
    }
   ],
   "source": [
    "df"
   ],
   "metadata": {
    "collapsed": false,
    "ExecuteTime": {
     "end_time": "2023-09-02T20:30:26.260914900Z",
     "start_time": "2023-09-02T20:30:26.245294600Z"
    }
   }
  },
  {
   "cell_type": "code",
   "execution_count": 33,
   "outputs": [],
   "source": [
    "df.to_csv(paths.processed_abstract_result, index=False)\n",
    "# df.to_excel('C:\\\\Users\\\\thiag\\\\PycharmProjects\\\\genome\\\\data\\\\processed\\\\abstract_result.xlsx', index=False)"
   ],
   "metadata": {
    "collapsed": false,
    "ExecuteTime": {
     "end_time": "2023-09-02T21:27:22.021578500Z",
     "start_time": "2023-09-02T21:27:21.973954200Z"
    }
   }
  },
  {
   "cell_type": "code",
   "execution_count": null,
   "outputs": [],
   "source": [
    "# classifier = pipeline(\"zero-shot-classification\", model=\"sileod/deberta-v3-base-tasksource-nli\")\n",
    "#\n",
    "# # 'bert-base-uncased'\n",
    "# # 'bert-large-uncased-whole-word-masking'\n",
    "# # 'bert-base-multilingual-cased'\n",
    "# # 'all-mpnet-base-v2'\n",
    "# model = SentenceTransformer('all-mpnet-base-v2')\n",
    "# subsetor_definitions_embeddings = model.encode(all_subsetor_definitions, convert_to_tensor=True, show_progress_bar=False, normalize_embeddings=False)\n",
    "#\n",
    "# df_all = pd.DataFrame()\n",
    "# for index, row in df_abstract.iterrows():\n",
    "#     patent_abstract = row['abstract']\n",
    "#\n",
    "#     query = f'What is the subsetor definiton that best describes this patent abstract \"{patent_abstract}\"'\n",
    "#     patent_abstract_embeddings = model.encode(query, convert_to_tensor=True, show_progress_bar=False, normalize_embeddings=False)\n",
    "#\n",
    "#     cos_scores = util.cos_sim(patent_abstract_embeddings, subsetor_definitions_embeddings)\n",
    "#\n",
    "#     p = pd.DataFrame(cos_scores.cpu().numpy().tolist(), columns=all_subsetor_names)\n",
    "#     patent_similarities_hypothesis = p.iloc[0, :].to_frame().T.sort_values(by=0, axis=1, ascending=False).columns.tolist()\n",
    "#\n",
    "#     patent_zero_shot_class = classifier(patent_abstract, all_subsetor_names, multi_label=False)\n",
    "#\n",
    "#     p2 = pd.DataFrame([patent_zero_shot_class['scores']], columns=patent_zero_shot_class['labels'])\n",
    "#     patent_zero_shot_hypothesis = ', '.join(patent_zero_shot_class['labels'])\n",
    "#\n",
    "#     patent_ipcs = row['class_concat'].split(', ')\n",
    "#     all_hypothesis = set()\n",
    "#     for patent_ipc in patent_ipcs:\n",
    "#         ipc_zero_shot_hypothesis = ipc_dict[patent_ipc].get('zero_shot_hypothesis')\n",
    "#         ipc_similarities_hypothesis = ipc_dict[patent_ipc].get('zero_shot_hypothesis')\n",
    "#\n",
    "#         candidate_zero_shot_label = ipc_zero_shot_hypothesis[0:5]\n",
    "#         candidate_similarities_label = ipc_similarities_hypothesis[0:5]\n",
    "#\n",
    "#         output_zero_shot = classifier(patent_abstract, candidate_zero_shot_label, multi_label=False)\n",
    "#         all_hypothesis.add(output_zero_shot['labels'][0])\n",
    "#\n",
    "#         output_similarities = classifier(patent_abstract, candidate_similarities_label, multi_label=False)\n",
    "#         all_hypothesis.add(output_similarities['labels'][0])\n",
    "#\n",
    "#         a = 0\n",
    "#\n",
    "#     all_hypothesis.add(patent_zero_shot_class['labels'][0])\n",
    "#     all_hypothesis.add(patent_similarities_hypothesis[0])\n",
    "#     # [all_hypothesis.add(label) for label in patent_zero_shot_class['labels'][0:2]]\n",
    "#     # [all_hypothesis.add(label) for label in patent_similarities_hypothesis[0:2]]\n",
    "#     new_candidate_labels = list(all_hypothesis)\n",
    "#     # new_candidate_labels.remove('Other')\n",
    "#     output_similarities = classifier(patent_abstract, new_candidate_labels, multi_label=False)\n",
    "#     a = 0"
   ],
   "metadata": {
    "collapsed": false
   }
  },
  {
   "cell_type": "code",
   "execution_count": 14,
   "outputs": [
    {
     "data": {
      "text/plain": "     publication_number                                           abstract  \\\n0           20080027114  The invention relates to novel insecticidal ac...   \n1           20080029392  ['The invention relates to a method of prepari...   \n2           20080012387  A vehicle support structure is provided with a...   \n3           20080047787  A disc brake for a vehicle such as a commercia...   \n4           20080013207  Embodiments of the present invention pertain t...   \n..                  ...                                                ...   \n195         20080033731  Certain types of parametric spatial coding enc...   \n196         20080025538  Various embodiments are disclosed relating to ...   \n197         20080000184  The invention is a flat-faced, or planar-clad,...   \n198         20080014753  In a method of manufacturing a semiconductor d...   \n199         20080013382  A current sensing data read/verify process and...   \n\n                                      class_subsetor  \\\n0                                             Agtech   \n1                          Medtech / Medical devices   \n2                Advanced Manufacturing and Robotics   \n3                                                NaN   \n4                                                NaN   \n..                                               ...   \n195  Artificial Intelligence, Big Data and Analytics   \n196              Advanced Manufacturing and Robotics   \n197              Advanced Manufacturing and Robotics   \n198              Advanced Manufacturing and Robotics   \n199              Advanced Manufacturing and Robotics   \n\n                                class_AI  name  \n0                 Agriculture Technology  leok  \n1    Medical Technology; Medical devices  leok  \n2                           Industry 4.0  leok  \n3                           Industry 4.0  leok  \n4                       Clean Technology  leok  \n..                                   ...   ...  \n195                        Digital Media  joao  \n196                        Digital Media  joao  \n197  Advanced Manufacturing and Robotics  joao  \n198                     Clean Technology  joao  \n199                        Digital Media  joao  \n\n[200 rows x 5 columns]",
      "text/html": "<div>\n<style scoped>\n    .dataframe tbody tr th:only-of-type {\n        vertical-align: middle;\n    }\n\n    .dataframe tbody tr th {\n        vertical-align: top;\n    }\n\n    .dataframe thead th {\n        text-align: right;\n    }\n</style>\n<table border=\"1\" class=\"dataframe\">\n  <thead>\n    <tr style=\"text-align: right;\">\n      <th></th>\n      <th>publication_number</th>\n      <th>abstract</th>\n      <th>class_subsetor</th>\n      <th>class_AI</th>\n      <th>name</th>\n    </tr>\n  </thead>\n  <tbody>\n    <tr>\n      <th>0</th>\n      <td>20080027114</td>\n      <td>The invention relates to novel insecticidal ac...</td>\n      <td>Agtech</td>\n      <td>Agriculture Technology</td>\n      <td>leok</td>\n    </tr>\n    <tr>\n      <th>1</th>\n      <td>20080029392</td>\n      <td>['The invention relates to a method of prepari...</td>\n      <td>Medtech / Medical devices</td>\n      <td>Medical Technology; Medical devices</td>\n      <td>leok</td>\n    </tr>\n    <tr>\n      <th>2</th>\n      <td>20080012387</td>\n      <td>A vehicle support structure is provided with a...</td>\n      <td>Advanced Manufacturing and Robotics</td>\n      <td>Industry 4.0</td>\n      <td>leok</td>\n    </tr>\n    <tr>\n      <th>3</th>\n      <td>20080047787</td>\n      <td>A disc brake for a vehicle such as a commercia...</td>\n      <td>NaN</td>\n      <td>Industry 4.0</td>\n      <td>leok</td>\n    </tr>\n    <tr>\n      <th>4</th>\n      <td>20080013207</td>\n      <td>Embodiments of the present invention pertain t...</td>\n      <td>NaN</td>\n      <td>Clean Technology</td>\n      <td>leok</td>\n    </tr>\n    <tr>\n      <th>...</th>\n      <td>...</td>\n      <td>...</td>\n      <td>...</td>\n      <td>...</td>\n      <td>...</td>\n    </tr>\n    <tr>\n      <th>195</th>\n      <td>20080033731</td>\n      <td>Certain types of parametric spatial coding enc...</td>\n      <td>Artificial Intelligence, Big Data and Analytics</td>\n      <td>Digital Media</td>\n      <td>joao</td>\n    </tr>\n    <tr>\n      <th>196</th>\n      <td>20080025538</td>\n      <td>Various embodiments are disclosed relating to ...</td>\n      <td>Advanced Manufacturing and Robotics</td>\n      <td>Digital Media</td>\n      <td>joao</td>\n    </tr>\n    <tr>\n      <th>197</th>\n      <td>20080000184</td>\n      <td>The invention is a flat-faced, or planar-clad,...</td>\n      <td>Advanced Manufacturing and Robotics</td>\n      <td>Advanced Manufacturing and Robotics</td>\n      <td>joao</td>\n    </tr>\n    <tr>\n      <th>198</th>\n      <td>20080014753</td>\n      <td>In a method of manufacturing a semiconductor d...</td>\n      <td>Advanced Manufacturing and Robotics</td>\n      <td>Clean Technology</td>\n      <td>joao</td>\n    </tr>\n    <tr>\n      <th>199</th>\n      <td>20080013382</td>\n      <td>A current sensing data read/verify process and...</td>\n      <td>Advanced Manufacturing and Robotics</td>\n      <td>Digital Media</td>\n      <td>joao</td>\n    </tr>\n  </tbody>\n</table>\n<p>200 rows × 5 columns</p>\n</div>"
     },
     "execution_count": 14,
     "metadata": {},
     "output_type": "execute_result"
    }
   ],
   "source": [
    "df_result_2 = pd.read_excel(paths.processed_abstract_result)\n",
    "df_result_2"
   ],
   "metadata": {
    "collapsed": false
   }
  },
  {
   "cell_type": "code",
   "execution_count": 16,
   "outputs": [],
   "source": [
    "tp = 0\n",
    "total = 0\n",
    "for index, row in df_result_2.iterrows():\n",
    "    old_name = subsectors[row['class_AI']].get('old_name')\n",
    "    if row['class_subsetor'] == old_name:\n",
    "        tp = tp + 1\n",
    "    total = total + 1"
   ],
   "metadata": {
    "collapsed": false,
    "ExecuteTime": {
     "end_time": "2023-09-03T03:20:03.121792300Z",
     "start_time": "2023-09-03T03:20:03.121792300Z"
    }
   }
  },
  {
   "cell_type": "code",
   "execution_count": 17,
   "outputs": [],
   "source": [
    "precision = (tp / total) * 100"
   ],
   "metadata": {
    "collapsed": false,
    "ExecuteTime": {
     "end_time": "2023-09-03T03:21:02.561276800Z",
     "start_time": "2023-09-03T03:21:02.553772500Z"
    }
   }
  },
  {
   "cell_type": "code",
   "execution_count": null,
   "outputs": [],
   "source": [],
   "metadata": {
    "collapsed": false
   }
  }
 ],
 "metadata": {
  "kernelspec": {
   "display_name": "Python 3",
   "language": "python",
   "name": "python3"
  },
  "language_info": {
   "codemirror_mode": {
    "name": "ipython",
    "version": 2
   },
   "file_extension": ".py",
   "mimetype": "text/x-python",
   "name": "python",
   "nbconvert_exporter": "python",
   "pygments_lexer": "ipython2",
   "version": "2.7.6"
  }
 },
 "nbformat": 4,
 "nbformat_minor": 0
}
