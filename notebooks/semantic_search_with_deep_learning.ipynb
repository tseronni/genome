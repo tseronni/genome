{
 "cells": [
  {
   "cell_type": "code",
   "execution_count": 62,
   "id": "initial_id",
   "metadata": {
    "collapsed": true,
    "ExecuteTime": {
     "end_time": "2023-11-08T19:57:52.127612800Z",
     "start_time": "2023-11-08T19:57:52.100239400Z"
    }
   },
   "outputs": [],
   "source": [
    "import os\n",
    "import pandas as pd\n",
    "from sentence_transformers import SentenceTransformer, util\n",
    "from src.utils.UsefulPaths import Paths\n",
    "from src.utils.SpacyUtils import SpacyUtil\n",
    "import numpy as np\n",
    "pd.set_option('display.float_format', lambda x: '%.2f' % x)"
   ]
  },
  {
   "cell_type": "code",
   "execution_count": 63,
   "outputs": [],
   "source": [
    "paths = Paths()"
   ],
   "metadata": {
    "collapsed": false,
    "ExecuteTime": {
     "end_time": "2023-11-08T19:57:52.130613Z",
     "start_time": "2023-11-08T19:57:52.101745900Z"
    }
   },
   "id": "1e4ab5477878cfda"
  },
  {
   "cell_type": "code",
   "execution_count": 64,
   "outputs": [],
   "source": [
    "df_subsectors = pd.read_csv(os.path.join(paths.data_processed, 'subsector.csv'))\n",
    "df_subsectors = df_subsectors.fillna('')\n",
    "\n",
    "df_subsectors = df_subsectors[:-1]"
   ],
   "metadata": {
    "collapsed": false,
    "ExecuteTime": {
     "end_time": "2023-11-08T19:57:52.130613Z",
     "start_time": "2023-11-08T19:57:52.105347100Z"
    }
   },
   "id": "eff1cd34b41e93e5"
  },
  {
   "cell_type": "code",
   "execution_count": 65,
   "outputs": [
    {
     "data": {
      "text/plain": "                                          subsector  \\\n0   Artificial Intelligence; Big Data and Analytics   \n1               Advanced Manufacturing and Robotics   \n2                                  Clean Technology   \n3                              Financial Technology   \n4                                        Blockchain   \n5                                     Cybersecurity   \n6                            Agriculture Technology   \n7                                          New Food   \n8                            Advertising Technology   \n9                                      Blue Economy   \n10                                    Digital Media   \n11                                           Gaming   \n12               Augmented Reality; Virtual Reality   \n13                           Educational Technology   \n14                                     Industry 4.0   \n15                Biopharmaceutical; Biotechonology   \n16              Medical Technology; Medical devices   \n\n                                           definition  \\\n0   Artificial Intelligence companies offer produc...   \n1   In comparison to Traditional Manufacturing, Ad...   \n2   Cleantech or clean technology is an umbrella t...   \n3   Describes a business that aims at providing fi...   \n4   Companies that develop applications using bloc...   \n5   Cybersecurity is the body of technologies, pro...   \n6   Technologies to help the agriculture industry ...   \n7   New Food includes technologies that can be lev...   \n8   Advertising technology - different types of an...   \n9   Blue economy is the \"sustainable use of ocean ...   \n10  Digital media is any media that is encoded in ...   \n11  Development, marketing and monetization of vid...   \n12  Virtual reality (VR) is an artificial, compute...   \n13  Education Technology (also known as EdTech) re...   \n14  Industry 4.0 is revolutionizing the way compan...   \n15  Biopharma is the sub-sector that includes any ...   \n16  The Medtech sub-sector is primarily focused on...   \n\n                                             keywords  \\\n0   Automated intelligence, assisted intelligence,...   \n1    3d printing, industrial IoT, internet of thin...   \n2   Clean energy, and other forms of environmental...   \n3   Insurance Tech, Risk Management, Trading, Port...   \n4   Distributed ledgers, Digital Mining,Cryptocurr...   \n5   cyber security, network security, data securit...   \n6   agritech, crop optimization, farming automatio...   \n7   artificial meat, Alternative protein, Plant-ba...   \n8   Conversion/optimization, Email marketing, Mobi...   \n9   ocean sustainability, aquaculture, seafloor ma...   \n10  digitized information, marketing platform, lea...   \n11  gaming platform, video games, online games, ga...   \n12  Mixed Reality, 360 video, frame rate, metavers...   \n13  online education, educational platform, e-lear...   \n14  Internet of Things (IoT), Cloud computing, AI ...   \n15  DNA, Cloning, Genetically designed, Bioenginee...   \n16  medtech, healthcare devices, diagnostic equipm...   \n\n                                           old_name  \\\n0   Artificial Intelligence, Big Data and Analytics   \n1               Advanced Manufacturing and Robotics   \n2                                         Cleantech   \n3                                           Fintech   \n4                                        Blockchain   \n5                                     Cybersecurity   \n6                                            Agtech   \n7                                          New Food   \n8                                            Adtech   \n9                                      Blue Economy   \n10                                    Digital Media   \n11                                           Gaming   \n12                                          AR / VR   \n13                                           Edtech   \n14                                     Industry 4.0   \n15                              Biopharma / Biotech   \n16                        Medtech / Medical devices   \n\n                                         does_include  \\\n0                                                       \n1   Autonomous driving, Industrial robots, Industr...   \n2                                                       \n3                                                       \n4                                                       \n5   Application security, Information security, Ne...   \n6   Precision agriculture - PA is an approach to f...   \n7                                                       \n8                                                       \n9                                                       \n10  Content, Publishing, Blogs, Social Media, Mess...   \n11  PC Gaming, Console Gaming, Mobile Gaming, Smar...   \n12                                                      \n13                                                      \n14                                                      \n15  Biotechnology health care products and vaccine...   \n16                                                      \n\n                                     does_not_include  \\\n0                                                       \n1                  Traditional manufacturing machines   \n2                         oil and gas, petrochemicals   \n3   Brick & Mortar banks, Old brick and mortar Ins...   \n4                                                       \n5                                                       \n6        Farms, Vineyards, Coffee roasters, Beverages   \n7   alt- proteins based skincare products, cannabi...   \n8   Companies whose products and services are not ...   \n9                                                       \n10                                                      \n11                                                      \n12                                                      \n13                                                      \n14                                                      \n15                                                      \n16                                                      \n\n                              definition_preprocessed  \\\n0   artificial intelligence company offer product ...   \n1   in comparison to traditional manufacturing adv...   \n2   cleantech or clean technology be an umbrella t...   \n3   describe a business that aim at provide financ...   \n4   company that develop application use blockchai...   \n5   cybersecurity be the body of technology proces...   \n6   technology to help the agriculture industry to...   \n7   new food include technology that can be levera...   \n8   advertising technology different type of analy...   \n9   blue economy be the sustainable use of ocean r...   \n10  digital media be any medium that be encode in ...   \n11  development marketing and monetization of vide...   \n12  virtual reality vr be an artificial computer g...   \n13  education technology also know as edtech refer...   \n14  industry 4.0 be revolutionize the way company ...   \n15  biopharma be the sub sector that include any p...   \n16  the medtech sub sector be primarily focus on d...   \n\n                                keywords_preprocessed  \\\n0   automated intelligence assist intelligence aug...   \n1     3d printing industrial iot internet of thing...   \n2   clean energy and other form of environmental a...   \n3   insurance tech risk management trading portfol...   \n4   distribute ledger digital mining cryptocurrenc...   \n5   cyber security network security data security ...   \n6   agritech crop optimization farming automation ...   \n7   artificial meat alternative protein plant base...   \n8   conversion optimization email marketing mobile...   \n9   ocean sustainability aquaculture seafloor mapp...   \n10  digitize information marketing platform lead g...   \n11  gaming platform video game online game gaming ...   \n12  mixed reality 360 video frame rate metaverse v...   \n13  online education educational platform e learni...   \n14  internet of things iot cloud computing ai and ...   \n15  dna cloning genetically design bioengineering ...   \n16  medtech healthcare device diagnostic equipment...   \n\n                            does_include_preprocessed  \\\n0                                                       \n1   autonomous driving industrial robot industrial...   \n2                                                       \n3                                                       \n4                                                       \n5   application security information security netw...   \n6   precision agriculture pa be an approach to far...   \n7                                                       \n8                                                       \n9                                                       \n10  content publishing blogs social media messenge...   \n11  pc gaming console gaming mobile gaming smart g...   \n12                                                      \n13                                                      \n14                                                      \n15  biotechnology health care product and vaccine ...   \n16                                                      \n\n                        does_not_include_preprocessed  token_definition  \\\n0                                                                    73   \n1                   traditional manufacturing machine                29   \n2                           oil and gas petrochemical                67   \n3   brick mortar bank old brick and mortar insuran...                65   \n4                                                                    52   \n5                                                                    42   \n6            farms vineyards coffee roaster beverages                84   \n7   alt- protein base skincare product cannabis re...                63   \n8   company whose product and service be not focus...                50   \n9                                                                    53   \n10                                                                   43   \n11                                                                   11   \n12                                                                   47   \n13                                                                   55   \n14                                                                  130   \n15                                                                  123   \n16                                                                   45   \n\n    token_keywords  token_does_include  token_does_not_include  \n0               62                   0                       0  \n1               21                  27                       3  \n2               30                   0                       4  \n3               21                   0                       9  \n4               26                   0                       0  \n5               15                  17                       0  \n6                9                  62                       5  \n7               52                   0                      27  \n8               38                   0                      54  \n9               27                   0                       0  \n10              15                  19                       0  \n11              10                  12                       0  \n12              15                   0                       0  \n13              16                   0                       0  \n14              27                   0                       0  \n15               9                   9                       0  \n16               9                   0                       0  ",
      "text/html": "<div>\n<style scoped>\n    .dataframe tbody tr th:only-of-type {\n        vertical-align: middle;\n    }\n\n    .dataframe tbody tr th {\n        vertical-align: top;\n    }\n\n    .dataframe thead th {\n        text-align: right;\n    }\n</style>\n<table border=\"1\" class=\"dataframe\">\n  <thead>\n    <tr style=\"text-align: right;\">\n      <th></th>\n      <th>subsector</th>\n      <th>definition</th>\n      <th>keywords</th>\n      <th>old_name</th>\n      <th>does_include</th>\n      <th>does_not_include</th>\n      <th>definition_preprocessed</th>\n      <th>keywords_preprocessed</th>\n      <th>does_include_preprocessed</th>\n      <th>does_not_include_preprocessed</th>\n      <th>token_definition</th>\n      <th>token_keywords</th>\n      <th>token_does_include</th>\n      <th>token_does_not_include</th>\n    </tr>\n  </thead>\n  <tbody>\n    <tr>\n      <th>0</th>\n      <td>Artificial Intelligence; Big Data and Analytics</td>\n      <td>Artificial Intelligence companies offer produc...</td>\n      <td>Automated intelligence, assisted intelligence,...</td>\n      <td>Artificial Intelligence, Big Data and Analytics</td>\n      <td></td>\n      <td></td>\n      <td>artificial intelligence company offer product ...</td>\n      <td>automated intelligence assist intelligence aug...</td>\n      <td></td>\n      <td></td>\n      <td>73</td>\n      <td>62</td>\n      <td>0</td>\n      <td>0</td>\n    </tr>\n    <tr>\n      <th>1</th>\n      <td>Advanced Manufacturing and Robotics</td>\n      <td>In comparison to Traditional Manufacturing, Ad...</td>\n      <td>3d printing, industrial IoT, internet of thin...</td>\n      <td>Advanced Manufacturing and Robotics</td>\n      <td>Autonomous driving, Industrial robots, Industr...</td>\n      <td>Traditional manufacturing machines</td>\n      <td>in comparison to traditional manufacturing adv...</td>\n      <td>3d printing industrial iot internet of thing...</td>\n      <td>autonomous driving industrial robot industrial...</td>\n      <td>traditional manufacturing machine</td>\n      <td>29</td>\n      <td>21</td>\n      <td>27</td>\n      <td>3</td>\n    </tr>\n    <tr>\n      <th>2</th>\n      <td>Clean Technology</td>\n      <td>Cleantech or clean technology is an umbrella t...</td>\n      <td>Clean energy, and other forms of environmental...</td>\n      <td>Cleantech</td>\n      <td></td>\n      <td>oil and gas, petrochemicals</td>\n      <td>cleantech or clean technology be an umbrella t...</td>\n      <td>clean energy and other form of environmental a...</td>\n      <td></td>\n      <td>oil and gas petrochemical</td>\n      <td>67</td>\n      <td>30</td>\n      <td>0</td>\n      <td>4</td>\n    </tr>\n    <tr>\n      <th>3</th>\n      <td>Financial Technology</td>\n      <td>Describes a business that aims at providing fi...</td>\n      <td>Insurance Tech, Risk Management, Trading, Port...</td>\n      <td>Fintech</td>\n      <td></td>\n      <td>Brick &amp; Mortar banks, Old brick and mortar Ins...</td>\n      <td>describe a business that aim at provide financ...</td>\n      <td>insurance tech risk management trading portfol...</td>\n      <td></td>\n      <td>brick mortar bank old brick and mortar insuran...</td>\n      <td>65</td>\n      <td>21</td>\n      <td>0</td>\n      <td>9</td>\n    </tr>\n    <tr>\n      <th>4</th>\n      <td>Blockchain</td>\n      <td>Companies that develop applications using bloc...</td>\n      <td>Distributed ledgers, Digital Mining,Cryptocurr...</td>\n      <td>Blockchain</td>\n      <td></td>\n      <td></td>\n      <td>company that develop application use blockchai...</td>\n      <td>distribute ledger digital mining cryptocurrenc...</td>\n      <td></td>\n      <td></td>\n      <td>52</td>\n      <td>26</td>\n      <td>0</td>\n      <td>0</td>\n    </tr>\n    <tr>\n      <th>5</th>\n      <td>Cybersecurity</td>\n      <td>Cybersecurity is the body of technologies, pro...</td>\n      <td>cyber security, network security, data securit...</td>\n      <td>Cybersecurity</td>\n      <td>Application security, Information security, Ne...</td>\n      <td></td>\n      <td>cybersecurity be the body of technology proces...</td>\n      <td>cyber security network security data security ...</td>\n      <td>application security information security netw...</td>\n      <td></td>\n      <td>42</td>\n      <td>15</td>\n      <td>17</td>\n      <td>0</td>\n    </tr>\n    <tr>\n      <th>6</th>\n      <td>Agriculture Technology</td>\n      <td>Technologies to help the agriculture industry ...</td>\n      <td>agritech, crop optimization, farming automatio...</td>\n      <td>Agtech</td>\n      <td>Precision agriculture - PA is an approach to f...</td>\n      <td>Farms, Vineyards, Coffee roasters, Beverages</td>\n      <td>technology to help the agriculture industry to...</td>\n      <td>agritech crop optimization farming automation ...</td>\n      <td>precision agriculture pa be an approach to far...</td>\n      <td>farms vineyards coffee roaster beverages</td>\n      <td>84</td>\n      <td>9</td>\n      <td>62</td>\n      <td>5</td>\n    </tr>\n    <tr>\n      <th>7</th>\n      <td>New Food</td>\n      <td>New Food includes technologies that can be lev...</td>\n      <td>artificial meat, Alternative protein, Plant-ba...</td>\n      <td>New Food</td>\n      <td></td>\n      <td>alt- proteins based skincare products, cannabi...</td>\n      <td>new food include technology that can be levera...</td>\n      <td>artificial meat alternative protein plant base...</td>\n      <td></td>\n      <td>alt- protein base skincare product cannabis re...</td>\n      <td>63</td>\n      <td>52</td>\n      <td>0</td>\n      <td>27</td>\n    </tr>\n    <tr>\n      <th>8</th>\n      <td>Advertising Technology</td>\n      <td>Advertising technology - different types of an...</td>\n      <td>Conversion/optimization, Email marketing, Mobi...</td>\n      <td>Adtech</td>\n      <td></td>\n      <td>Companies whose products and services are not ...</td>\n      <td>advertising technology different type of analy...</td>\n      <td>conversion optimization email marketing mobile...</td>\n      <td></td>\n      <td>company whose product and service be not focus...</td>\n      <td>50</td>\n      <td>38</td>\n      <td>0</td>\n      <td>54</td>\n    </tr>\n    <tr>\n      <th>9</th>\n      <td>Blue Economy</td>\n      <td>Blue economy is the \"sustainable use of ocean ...</td>\n      <td>ocean sustainability, aquaculture, seafloor ma...</td>\n      <td>Blue Economy</td>\n      <td></td>\n      <td></td>\n      <td>blue economy be the sustainable use of ocean r...</td>\n      <td>ocean sustainability aquaculture seafloor mapp...</td>\n      <td></td>\n      <td></td>\n      <td>53</td>\n      <td>27</td>\n      <td>0</td>\n      <td>0</td>\n    </tr>\n    <tr>\n      <th>10</th>\n      <td>Digital Media</td>\n      <td>Digital media is any media that is encoded in ...</td>\n      <td>digitized information, marketing platform, lea...</td>\n      <td>Digital Media</td>\n      <td>Content, Publishing, Blogs, Social Media, Mess...</td>\n      <td></td>\n      <td>digital media be any medium that be encode in ...</td>\n      <td>digitize information marketing platform lead g...</td>\n      <td>content publishing blogs social media messenge...</td>\n      <td></td>\n      <td>43</td>\n      <td>15</td>\n      <td>19</td>\n      <td>0</td>\n    </tr>\n    <tr>\n      <th>11</th>\n      <td>Gaming</td>\n      <td>Development, marketing and monetization of vid...</td>\n      <td>gaming platform, video games, online games, ga...</td>\n      <td>Gaming</td>\n      <td>PC Gaming, Console Gaming, Mobile Gaming, Smar...</td>\n      <td></td>\n      <td>development marketing and monetization of vide...</td>\n      <td>gaming platform video game online game gaming ...</td>\n      <td>pc gaming console gaming mobile gaming smart g...</td>\n      <td></td>\n      <td>11</td>\n      <td>10</td>\n      <td>12</td>\n      <td>0</td>\n    </tr>\n    <tr>\n      <th>12</th>\n      <td>Augmented Reality; Virtual Reality</td>\n      <td>Virtual reality (VR) is an artificial, compute...</td>\n      <td>Mixed Reality, 360 video, frame rate, metavers...</td>\n      <td>AR / VR</td>\n      <td></td>\n      <td></td>\n      <td>virtual reality vr be an artificial computer g...</td>\n      <td>mixed reality 360 video frame rate metaverse v...</td>\n      <td></td>\n      <td></td>\n      <td>47</td>\n      <td>15</td>\n      <td>0</td>\n      <td>0</td>\n    </tr>\n    <tr>\n      <th>13</th>\n      <td>Educational Technology</td>\n      <td>Education Technology (also known as EdTech) re...</td>\n      <td>online education, educational platform, e-lear...</td>\n      <td>Edtech</td>\n      <td></td>\n      <td></td>\n      <td>education technology also know as edtech refer...</td>\n      <td>online education educational platform e learni...</td>\n      <td></td>\n      <td></td>\n      <td>55</td>\n      <td>16</td>\n      <td>0</td>\n      <td>0</td>\n    </tr>\n    <tr>\n      <th>14</th>\n      <td>Industry 4.0</td>\n      <td>Industry 4.0 is revolutionizing the way compan...</td>\n      <td>Internet of Things (IoT), Cloud computing, AI ...</td>\n      <td>Industry 4.0</td>\n      <td></td>\n      <td></td>\n      <td>industry 4.0 be revolutionize the way company ...</td>\n      <td>internet of things iot cloud computing ai and ...</td>\n      <td></td>\n      <td></td>\n      <td>130</td>\n      <td>27</td>\n      <td>0</td>\n      <td>0</td>\n    </tr>\n    <tr>\n      <th>15</th>\n      <td>Biopharmaceutical; Biotechonology</td>\n      <td>Biopharma is the sub-sector that includes any ...</td>\n      <td>DNA, Cloning, Genetically designed, Bioenginee...</td>\n      <td>Biopharma / Biotech</td>\n      <td>Biotechnology health care products and vaccine...</td>\n      <td></td>\n      <td>biopharma be the sub sector that include any p...</td>\n      <td>dna cloning genetically design bioengineering ...</td>\n      <td>biotechnology health care product and vaccine ...</td>\n      <td></td>\n      <td>123</td>\n      <td>9</td>\n      <td>9</td>\n      <td>0</td>\n    </tr>\n    <tr>\n      <th>16</th>\n      <td>Medical Technology; Medical devices</td>\n      <td>The Medtech sub-sector is primarily focused on...</td>\n      <td>medtech, healthcare devices, diagnostic equipm...</td>\n      <td>Medtech / Medical devices</td>\n      <td></td>\n      <td></td>\n      <td>the medtech sub sector be primarily focus on d...</td>\n      <td>medtech healthcare device diagnostic equipment...</td>\n      <td></td>\n      <td></td>\n      <td>45</td>\n      <td>9</td>\n      <td>0</td>\n      <td>0</td>\n    </tr>\n  </tbody>\n</table>\n</div>"
     },
     "execution_count": 65,
     "metadata": {},
     "output_type": "execute_result"
    }
   ],
   "source": [
    "df_subsectors"
   ],
   "metadata": {
    "collapsed": false,
    "ExecuteTime": {
     "end_time": "2023-11-08T19:57:52.131613Z",
     "start_time": "2023-11-08T19:57:52.108223200Z"
    }
   },
   "id": "e2c017a29f478413"
  },
  {
   "cell_type": "code",
   "execution_count": 66,
   "outputs": [
    {
     "data": {
      "text/plain": "'Artificial Intelligence, Big Data and AnalyticsAdvanced Manufacturing and RoboticsClean TechnologyFinancial TechnologyBlockchainCybersecurityAgriculture TechnologyNew FoodAdvertising TechnologyBlue EconomyDigital MediaGamingAugmented Reality, Virtual RealityEducational TechnologyIndustry 4.0Biopharmaceutical, BiotechonologyMedical Technology, Medical devices'"
     },
     "execution_count": 66,
     "metadata": {},
     "output_type": "execute_result"
    }
   ],
   "source": [
    "all_subsectors_names = df_subsectors['subsector'].tolist()\n",
    "all_subsectors_names = ''.join(all_subsectors_names)\n",
    "all_subsectors_names = all_subsectors_names.replace(';', ',')\n",
    "all_subsectors_names"
   ],
   "metadata": {
    "collapsed": false,
    "ExecuteTime": {
     "end_time": "2023-11-08T19:57:52.132613200Z",
     "start_time": "2023-11-08T19:57:52.116184600Z"
    }
   },
   "id": "f9771db2f75f4527"
  },
  {
   "cell_type": "markdown",
   "source": [],
   "metadata": {
    "collapsed": false
   },
   "id": "ecfc2f4ae6db2032"
  },
  {
   "cell_type": "code",
   "execution_count": 67,
   "outputs": [],
   "source": [
    "df_abstract_patents = pd.read_csv(os.path.join(paths.data_processed, 'abstract_patents_sliced_15000.csv'))"
   ],
   "metadata": {
    "collapsed": false,
    "ExecuteTime": {
     "end_time": "2023-11-08T19:57:52.266368200Z",
     "start_time": "2023-11-08T19:57:52.118935400Z"
    }
   },
   "id": "b32c6161a59f74f8"
  },
  {
   "cell_type": "code",
   "execution_count": 68,
   "outputs": [
    {
     "data": {
      "text/plain": "                                              abstract  \\\n0    A method, and a mobile device adapted thereto,...   \n1    A dumbbell with a selectable number of weight ...   \n2    A virtual assistant AI system that may be conn...   \n3    Connector assemblies that are separate from me...   \n4    An LED tube lamp, comprising a lamp tube, whic...   \n..                                                 ...   \n96   A method for controlling a crane component of ...   \n97   A camera head is provided that includes a firs...   \n98   An organic light emitting diode display includ...   \n99   An image processing device includes a receptio...   \n100  Provided is a composition for percutaneous abs...   \n\n                                     sentence_abstract  \\\n0    subsector definition well describe patent abst...   \n1    subsector definition well describe patent abst...   \n2    subsector definition well describe patent abst...   \n3    subsector definition well describe patent abst...   \n4    subsector definition well describe patent abst...   \n..                                                 ...   \n96   subsector definition well describe patent abst...   \n97   subsector definition well describe patent abst...   \n98   subsector definition well describe patent abst...   \n99   subsector definition well describe patent abst...   \n100  subsector definition well describe patent abst...   \n\n                                     sentence_keywords  \n0    This keywords  \"user, input, instruction, meth...  \n1    This keywords  \"weight, disk, handle, connect,...  \n2    This keywords  \"account, change, virtual, assi...  \n3    This keywords  \"lead, connector, extension, as...  \n4    This keywords  \"light, portion, lead, include,...  \n..                                                 ...  \n96   This keywords  \"crane, component, forbidden, v...  \n97   This keywords  \"lens, group, include, second, ...  \n98   This keywords  \"light, emit, red, emission, re...  \n99   This keywords  \"limit, information, section, r...  \n100  This keywords  \"glycol, composition, percutane...  \n\n[101 rows x 3 columns]",
      "text/html": "<div>\n<style scoped>\n    .dataframe tbody tr th:only-of-type {\n        vertical-align: middle;\n    }\n\n    .dataframe tbody tr th {\n        vertical-align: top;\n    }\n\n    .dataframe thead th {\n        text-align: right;\n    }\n</style>\n<table border=\"1\" class=\"dataframe\">\n  <thead>\n    <tr style=\"text-align: right;\">\n      <th></th>\n      <th>abstract</th>\n      <th>sentence_abstract</th>\n      <th>sentence_keywords</th>\n    </tr>\n  </thead>\n  <tbody>\n    <tr>\n      <th>0</th>\n      <td>A method, and a mobile device adapted thereto,...</td>\n      <td>subsector definition well describe patent abst...</td>\n      <td>This keywords  \"user, input, instruction, meth...</td>\n    </tr>\n    <tr>\n      <th>1</th>\n      <td>A dumbbell with a selectable number of weight ...</td>\n      <td>subsector definition well describe patent abst...</td>\n      <td>This keywords  \"weight, disk, handle, connect,...</td>\n    </tr>\n    <tr>\n      <th>2</th>\n      <td>A virtual assistant AI system that may be conn...</td>\n      <td>subsector definition well describe patent abst...</td>\n      <td>This keywords  \"account, change, virtual, assi...</td>\n    </tr>\n    <tr>\n      <th>3</th>\n      <td>Connector assemblies that are separate from me...</td>\n      <td>subsector definition well describe patent abst...</td>\n      <td>This keywords  \"lead, connector, extension, as...</td>\n    </tr>\n    <tr>\n      <th>4</th>\n      <td>An LED tube lamp, comprising a lamp tube, whic...</td>\n      <td>subsector definition well describe patent abst...</td>\n      <td>This keywords  \"light, portion, lead, include,...</td>\n    </tr>\n    <tr>\n      <th>...</th>\n      <td>...</td>\n      <td>...</td>\n      <td>...</td>\n    </tr>\n    <tr>\n      <th>96</th>\n      <td>A method for controlling a crane component of ...</td>\n      <td>subsector definition well describe patent abst...</td>\n      <td>This keywords  \"crane, component, forbidden, v...</td>\n    </tr>\n    <tr>\n      <th>97</th>\n      <td>A camera head is provided that includes a firs...</td>\n      <td>subsector definition well describe patent abst...</td>\n      <td>This keywords  \"lens, group, include, second, ...</td>\n    </tr>\n    <tr>\n      <th>98</th>\n      <td>An organic light emitting diode display includ...</td>\n      <td>subsector definition well describe patent abst...</td>\n      <td>This keywords  \"light, emit, red, emission, re...</td>\n    </tr>\n    <tr>\n      <th>99</th>\n      <td>An image processing device includes a receptio...</td>\n      <td>subsector definition well describe patent abst...</td>\n      <td>This keywords  \"limit, information, section, r...</td>\n    </tr>\n    <tr>\n      <th>100</th>\n      <td>Provided is a composition for percutaneous abs...</td>\n      <td>subsector definition well describe patent abst...</td>\n      <td>This keywords  \"glycol, composition, percutane...</td>\n    </tr>\n  </tbody>\n</table>\n<p>101 rows × 3 columns</p>\n</div>"
     },
     "execution_count": 68,
     "metadata": {},
     "output_type": "execute_result"
    }
   ],
   "source": [
    "slice_number = 100\n",
    "df_sliced = df_abstract_patents.loc[:slice_number, ['abstract']].copy()\n",
    "\n",
    "df_sliced['sentence_abstract'] = 'What subsector definition best describe this patent abstract \"' + df_sliced['abstract'] + '\"'\n",
    "# df_sliced['sentence_keywords'] = 'What keywords best describe this patent abstract \"' + df_sliced['abstract'] + '\"'\n",
    "\n",
    "spacy_util = SpacyUtil(model='en_core_web_sm', lemma=True, remove_stopwords=True, lower=True, remove_numbers=False)\n",
    "\n",
    "df_sliced['sentence_abstract'] = df_sliced['sentence_abstract'].apply(spacy_util.preprocess_text)\n",
    "df_sliced['sentence_keywords'] = df_sliced['abstract'].apply(lambda text: spacy_util.extract_keywords(text=text, max_keywords=100, use_noun=True, use_adj=True, use_verb=True))\n",
    "df_sliced['sentence_keywords'] = 'This keywords  \"' + df_sliced['sentence_keywords'] + '\" describe which of these types of subsectors ' + all_subsectors_names\n",
    "# df_sliced['sentence_does_not_included'] = 'This keywords  \"' + df_sliced['abstract'] + '\" describe which of these types of subsectors ' + all_subsectors_names\n",
    "\n",
    "\n",
    "df_sliced"
   ],
   "metadata": {
    "collapsed": false,
    "ExecuteTime": {
     "end_time": "2023-11-08T19:57:54.430487600Z",
     "start_time": "2023-11-08T19:57:52.267370800Z"
    }
   },
   "id": "edd8c2eb34bf4143"
  },
  {
   "cell_type": "code",
   "execution_count": 69,
   "outputs": [
    {
     "name": "stderr",
     "output_type": "stream",
     "text": [
      "2023-11-08 16:57:54,427 - INFO - Load pretrained SentenceTransformer: all-mpnet-base-v2\n",
      "2023-11-08 16:57:54,926 - INFO - Use pytorch device: cpu\n"
     ]
    }
   ],
   "source": [
    "# all-mpnet-base-v2\n",
    "# msmarco-distilbert-dot-v5\n",
    "# distilbert-base-uncased\n",
    "# all-MiniLM-L6-v2\n",
    "# all-MiniLM-L12-v2\n",
    "# microsoft/mpnet-base\n",
    "embedder = SentenceTransformer('all-mpnet-base-v2')"
   ],
   "metadata": {
    "collapsed": false,
    "ExecuteTime": {
     "end_time": "2023-11-08T19:57:54.933293900Z",
     "start_time": "2023-11-08T19:57:54.428488800Z"
    }
   },
   "id": "ca9ff7775d4538af"
  },
  {
   "cell_type": "code",
   "execution_count": 70,
   "outputs": [
    {
     "name": "stdout",
     "output_type": "stream",
     "text": [
      "Maximum tokens allowed: 384\n"
     ]
    }
   ],
   "source": [
    "max_tokens = embedder.get_max_seq_length()\n",
    "print(f\"Maximum tokens allowed: {max_tokens}\")"
   ],
   "metadata": {
    "collapsed": false,
    "ExecuteTime": {
     "end_time": "2023-11-08T19:57:54.934297100Z",
     "start_time": "2023-11-08T19:57:54.932791500Z"
    }
   },
   "id": "1653a7129172b072"
  },
  {
   "cell_type": "code",
   "execution_count": 71,
   "outputs": [],
   "source": [
    "def get_corpus_id_from_element(semantic_list, i):\n",
    "    return semantic_list[i].get('corpus_id')"
   ],
   "metadata": {
    "collapsed": false,
    "ExecuteTime": {
     "end_time": "2023-11-08T19:57:54.938427900Z",
     "start_time": "2023-11-08T19:57:54.935297700Z"
    }
   },
   "id": "10ed297b81a8f89d"
  },
  {
   "cell_type": "code",
   "execution_count": 72,
   "outputs": [],
   "source": [
    "df_semantic_results = pd.DataFrame({'abstract': df_sliced.abstract})"
   ],
   "metadata": {
    "collapsed": false,
    "ExecuteTime": {
     "end_time": "2023-11-08T19:57:54.939431600Z",
     "start_time": "2023-11-08T19:57:54.937923500Z"
    }
   },
   "id": "8bd190121bf27c5c"
  },
  {
   "cell_type": "code",
   "execution_count": 73,
   "outputs": [
    {
     "data": {
      "text/plain": "Batches:   0%|          | 0/4 [00:00<?, ?it/s]",
      "application/vnd.jupyter.widget-view+json": {
       "version_major": 2,
       "version_minor": 0,
       "model_id": "0150686cc4424fdd910b688d7edcf953"
      }
     },
     "metadata": {},
     "output_type": "display_data"
    },
    {
     "data": {
      "text/plain": "Batches:   0%|          | 0/1 [00:00<?, ?it/s]",
      "application/vnd.jupyter.widget-view+json": {
       "version_major": 2,
       "version_minor": 0,
       "model_id": "8c9b793ed4924151be9601aa6ebe1b9d"
      }
     },
     "metadata": {},
     "output_type": "display_data"
    },
    {
     "data": {
      "text/plain": "                               definition_preprocessed  \\\n0    [{'corpus_id': 4, 'score': 0.37911149859428406...   \n1    [{'corpus_id': 16, 'score': 0.3615938723087311...   \n2    [{'corpus_id': 0, 'score': 0.5747168064117432}...   \n3    [{'corpus_id': 16, 'score': 0.4684583246707916...   \n4    [{'corpus_id': 16, 'score': 0.3425365686416626...   \n..                                                 ...   \n96   [{'corpus_id': 16, 'score': 0.4293273687362671...   \n97   [{'corpus_id': 16, 'score': 0.4674776792526245...   \n98   [{'corpus_id': 16, 'score': 0.3556002676486969...   \n99   [{'corpus_id': 16, 'score': 0.3983959257602691...   \n100  [{'corpus_id': 16, 'score': 0.4550559520721435...   \n\n                                        definition_1  \\\n0                                         Blockchain   \n1                Medical Technology; Medical devices   \n2    Artificial Intelligence; Big Data and Analytics   \n3                Medical Technology; Medical devices   \n4                Medical Technology; Medical devices   \n..                                               ...   \n96               Medical Technology; Medical devices   \n97               Medical Technology; Medical devices   \n98               Medical Technology; Medical devices   \n99               Medical Technology; Medical devices   \n100              Medical Technology; Medical devices   \n\n                                        definition_2  \n0                Medical Technology; Medical devices  \n1                Advanced Manufacturing and Robotics  \n2                 Augmented Reality; Virtual Reality  \n3                Advanced Manufacturing and Robotics  \n4                                         Blockchain  \n..                                               ...  \n96               Advanced Manufacturing and Robotics  \n97               Advanced Manufacturing and Robotics  \n98   Artificial Intelligence; Big Data and Analytics  \n99                                     Digital Media  \n100                Biopharmaceutical; Biotechonology  \n\n[101 rows x 3 columns]",
      "text/html": "<div>\n<style scoped>\n    .dataframe tbody tr th:only-of-type {\n        vertical-align: middle;\n    }\n\n    .dataframe tbody tr th {\n        vertical-align: top;\n    }\n\n    .dataframe thead th {\n        text-align: right;\n    }\n</style>\n<table border=\"1\" class=\"dataframe\">\n  <thead>\n    <tr style=\"text-align: right;\">\n      <th></th>\n      <th>definition_preprocessed</th>\n      <th>definition_1</th>\n      <th>definition_2</th>\n    </tr>\n  </thead>\n  <tbody>\n    <tr>\n      <th>0</th>\n      <td>[{'corpus_id': 4, 'score': 0.37911149859428406...</td>\n      <td>Blockchain</td>\n      <td>Medical Technology; Medical devices</td>\n    </tr>\n    <tr>\n      <th>1</th>\n      <td>[{'corpus_id': 16, 'score': 0.3615938723087311...</td>\n      <td>Medical Technology; Medical devices</td>\n      <td>Advanced Manufacturing and Robotics</td>\n    </tr>\n    <tr>\n      <th>2</th>\n      <td>[{'corpus_id': 0, 'score': 0.5747168064117432}...</td>\n      <td>Artificial Intelligence; Big Data and Analytics</td>\n      <td>Augmented Reality; Virtual Reality</td>\n    </tr>\n    <tr>\n      <th>3</th>\n      <td>[{'corpus_id': 16, 'score': 0.4684583246707916...</td>\n      <td>Medical Technology; Medical devices</td>\n      <td>Advanced Manufacturing and Robotics</td>\n    </tr>\n    <tr>\n      <th>4</th>\n      <td>[{'corpus_id': 16, 'score': 0.3425365686416626...</td>\n      <td>Medical Technology; Medical devices</td>\n      <td>Blockchain</td>\n    </tr>\n    <tr>\n      <th>...</th>\n      <td>...</td>\n      <td>...</td>\n      <td>...</td>\n    </tr>\n    <tr>\n      <th>96</th>\n      <td>[{'corpus_id': 16, 'score': 0.4293273687362671...</td>\n      <td>Medical Technology; Medical devices</td>\n      <td>Advanced Manufacturing and Robotics</td>\n    </tr>\n    <tr>\n      <th>97</th>\n      <td>[{'corpus_id': 16, 'score': 0.4674776792526245...</td>\n      <td>Medical Technology; Medical devices</td>\n      <td>Advanced Manufacturing and Robotics</td>\n    </tr>\n    <tr>\n      <th>98</th>\n      <td>[{'corpus_id': 16, 'score': 0.3556002676486969...</td>\n      <td>Medical Technology; Medical devices</td>\n      <td>Artificial Intelligence; Big Data and Analytics</td>\n    </tr>\n    <tr>\n      <th>99</th>\n      <td>[{'corpus_id': 16, 'score': 0.3983959257602691...</td>\n      <td>Medical Technology; Medical devices</td>\n      <td>Digital Media</td>\n    </tr>\n    <tr>\n      <th>100</th>\n      <td>[{'corpus_id': 16, 'score': 0.4550559520721435...</td>\n      <td>Medical Technology; Medical devices</td>\n      <td>Biopharmaceutical; Biotechonology</td>\n    </tr>\n  </tbody>\n</table>\n<p>101 rows × 3 columns</p>\n</div>"
     },
     "execution_count": 73,
     "metadata": {},
     "output_type": "execute_result"
    }
   ],
   "source": [
    "# Definition semantic search\n",
    "sentences = list(df_sliced.sentence_abstract)\n",
    "sentences_embeddings = embedder.encode(sentences, normalize_embeddings=True)\n",
    "\n",
    "corpus = list(df_subsectors['definition_preprocessed'])\n",
    "corpus_embeddings = embedder.encode(corpus, normalize_embeddings=True)\n",
    "\n",
    "# Because using normalized vectors, dot_score is a better function instead of cos_sim\n",
    "df = pd.DataFrame({'definition_preprocessed': util.semantic_search(sentences_embeddings, corpus_embeddings, top_k=2, score_function=util.dot_score)})\n",
    "    \n",
    "df['highest_0'] = df['definition_preprocessed'].apply(lambda x: get_corpus_id_from_element(x, 0))\n",
    "df['highest_1'] = df['definition_preprocessed'].apply(lambda x: get_corpus_id_from_element(x, 1))\n",
    "    \n",
    "corpus_id_to_subsector = pd.Series(df_subsectors.subsector.values, index=df_subsectors.index).to_dict()\n",
    "    \n",
    "df[f'definition_1'] = df['highest_0'].map(corpus_id_to_subsector)\n",
    "df[f'definition_2'] = df['highest_1'].map(corpus_id_to_subsector)\n",
    "    \n",
    "df = df.drop(['highest_0', 'highest_1'], axis=1)\n",
    "    \n",
    "df_semantic_results = pd.concat([df_semantic_results, df], axis=1)\n",
    "\n",
    "df"
   ],
   "metadata": {
    "collapsed": false,
    "ExecuteTime": {
     "end_time": "2023-11-08T19:57:58.494427500Z",
     "start_time": "2023-11-08T19:57:54.940431600Z"
    }
   },
   "id": "89d4e6a010babb78"
  },
  {
   "cell_type": "code",
   "execution_count": 74,
   "outputs": [
    {
     "data": {
      "text/plain": "Batches:   0%|          | 0/4 [00:00<?, ?it/s]",
      "application/vnd.jupyter.widget-view+json": {
       "version_major": 2,
       "version_minor": 0,
       "model_id": "c308751393b44e1ab7bc55055be52dce"
      }
     },
     "metadata": {},
     "output_type": "display_data"
    },
    {
     "data": {
      "text/plain": "Batches:   0%|          | 0/1 [00:00<?, ?it/s]",
      "application/vnd.jupyter.widget-view+json": {
       "version_major": 2,
       "version_minor": 0,
       "model_id": "c0c80bf7ad1e451c95d8a085a53ba337"
      }
     },
     "metadata": {},
     "output_type": "display_data"
    },
    {
     "data": {
      "text/plain": "                                 keywords_preprocessed  \\\n0    [{'corpus_id': 3, 'score': 0.5950531959533691}...   \n1    [{'corpus_id': 3, 'score': 0.5325780510902405}...   \n2    [{'corpus_id': 3, 'score': 0.6411076784133911}...   \n3    [{'corpus_id': 3, 'score': 0.5191670060157776}...   \n4    [{'corpus_id': 3, 'score': 0.5101721882820129}...   \n..                                                 ...   \n96   [{'corpus_id': 3, 'score': 0.5295559167861938}...   \n97   [{'corpus_id': 3, 'score': 0.5366716384887695}...   \n98   [{'corpus_id': 1, 'score': 0.46616318821907043...   \n99   [{'corpus_id': 3, 'score': 0.5473448634147644}...   \n100  [{'corpus_id': 3, 'score': 0.49268460273742676...   \n\n                              keywords_1  \\\n0                   Financial Technology   \n1                   Financial Technology   \n2                   Financial Technology   \n3                   Financial Technology   \n4                   Financial Technology   \n..                                   ...   \n96                  Financial Technology   \n97                  Financial Technology   \n98   Advanced Manufacturing and Robotics   \n99                  Financial Technology   \n100                 Financial Technology   \n\n                                          keywords_2  \n0    Artificial Intelligence; Big Data and Analytics  \n1    Artificial Intelligence; Big Data and Analytics  \n2    Artificial Intelligence; Big Data and Analytics  \n3                Advanced Manufacturing and Robotics  \n4                Advanced Manufacturing and Robotics  \n..                                               ...  \n96   Artificial Intelligence; Big Data and Analytics  \n97   Artificial Intelligence; Big Data and Analytics  \n98                              Financial Technology  \n99   Artificial Intelligence; Big Data and Analytics  \n100                                         New Food  \n\n[101 rows x 3 columns]",
      "text/html": "<div>\n<style scoped>\n    .dataframe tbody tr th:only-of-type {\n        vertical-align: middle;\n    }\n\n    .dataframe tbody tr th {\n        vertical-align: top;\n    }\n\n    .dataframe thead th {\n        text-align: right;\n    }\n</style>\n<table border=\"1\" class=\"dataframe\">\n  <thead>\n    <tr style=\"text-align: right;\">\n      <th></th>\n      <th>keywords_preprocessed</th>\n      <th>keywords_1</th>\n      <th>keywords_2</th>\n    </tr>\n  </thead>\n  <tbody>\n    <tr>\n      <th>0</th>\n      <td>[{'corpus_id': 3, 'score': 0.5950531959533691}...</td>\n      <td>Financial Technology</td>\n      <td>Artificial Intelligence; Big Data and Analytics</td>\n    </tr>\n    <tr>\n      <th>1</th>\n      <td>[{'corpus_id': 3, 'score': 0.5325780510902405}...</td>\n      <td>Financial Technology</td>\n      <td>Artificial Intelligence; Big Data and Analytics</td>\n    </tr>\n    <tr>\n      <th>2</th>\n      <td>[{'corpus_id': 3, 'score': 0.6411076784133911}...</td>\n      <td>Financial Technology</td>\n      <td>Artificial Intelligence; Big Data and Analytics</td>\n    </tr>\n    <tr>\n      <th>3</th>\n      <td>[{'corpus_id': 3, 'score': 0.5191670060157776}...</td>\n      <td>Financial Technology</td>\n      <td>Advanced Manufacturing and Robotics</td>\n    </tr>\n    <tr>\n      <th>4</th>\n      <td>[{'corpus_id': 3, 'score': 0.5101721882820129}...</td>\n      <td>Financial Technology</td>\n      <td>Advanced Manufacturing and Robotics</td>\n    </tr>\n    <tr>\n      <th>...</th>\n      <td>...</td>\n      <td>...</td>\n      <td>...</td>\n    </tr>\n    <tr>\n      <th>96</th>\n      <td>[{'corpus_id': 3, 'score': 0.5295559167861938}...</td>\n      <td>Financial Technology</td>\n      <td>Artificial Intelligence; Big Data and Analytics</td>\n    </tr>\n    <tr>\n      <th>97</th>\n      <td>[{'corpus_id': 3, 'score': 0.5366716384887695}...</td>\n      <td>Financial Technology</td>\n      <td>Artificial Intelligence; Big Data and Analytics</td>\n    </tr>\n    <tr>\n      <th>98</th>\n      <td>[{'corpus_id': 1, 'score': 0.46616318821907043...</td>\n      <td>Advanced Manufacturing and Robotics</td>\n      <td>Financial Technology</td>\n    </tr>\n    <tr>\n      <th>99</th>\n      <td>[{'corpus_id': 3, 'score': 0.5473448634147644}...</td>\n      <td>Financial Technology</td>\n      <td>Artificial Intelligence; Big Data and Analytics</td>\n    </tr>\n    <tr>\n      <th>100</th>\n      <td>[{'corpus_id': 3, 'score': 0.49268460273742676...</td>\n      <td>Financial Technology</td>\n      <td>New Food</td>\n    </tr>\n  </tbody>\n</table>\n<p>101 rows × 3 columns</p>\n</div>"
     },
     "execution_count": 74,
     "metadata": {},
     "output_type": "execute_result"
    }
   ],
   "source": [
    "# Keywords semantic search\n",
    "sentences = list(df_sliced.sentence_keywords)\n",
    "sentences_embeddings = embedder.encode(sentences, normalize_embeddings=True)\n",
    "\n",
    "corpus = list(df_subsectors['keywords_preprocessed'])\n",
    "corpus_embeddings = embedder.encode(corpus, normalize_embeddings=True)\n",
    "\n",
    "# Because using normalized vectors, dot_score is a better function instead of cos_sim\n",
    "df = pd.DataFrame({'keywords_preprocessed': util.semantic_search(sentences_embeddings, corpus_embeddings, top_k=2, score_function=util.dot_score)})\n",
    "    \n",
    "df['highest_0'] = df['keywords_preprocessed'].apply(lambda x: get_corpus_id_from_element(x, 0))\n",
    "df['highest_1'] = df['keywords_preprocessed'].apply(lambda x: get_corpus_id_from_element(x, 1))\n",
    "    \n",
    "corpus_id_to_subsector = pd.Series(df_subsectors.subsector.values, index=df_subsectors.index).to_dict()\n",
    "    \n",
    "df[f'keywords_1'] = df['highest_0'].map(corpus_id_to_subsector)\n",
    "df[f'keywords_2'] = df['highest_1'].map(corpus_id_to_subsector)\n",
    "    \n",
    "df = df.drop(['highest_0', 'highest_1'], axis=1)\n",
    "    \n",
    "df_semantic_results = pd.concat([df_semantic_results, df], axis=1)\n",
    "\n",
    "df"
   ],
   "metadata": {
    "collapsed": false,
    "ExecuteTime": {
     "end_time": "2023-11-08T19:58:03.308879900Z",
     "start_time": "2023-11-08T19:57:58.494427500Z"
    }
   },
   "id": "9c8078a8dc425f67"
  },
  {
   "cell_type": "code",
   "execution_count": 74,
   "outputs": [],
   "source": [],
   "metadata": {
    "collapsed": false,
    "ExecuteTime": {
     "end_time": "2023-11-08T19:58:03.313391300Z",
     "start_time": "2023-11-08T19:58:03.308376800Z"
    }
   },
   "id": "1dba935494174071"
  },
  {
   "cell_type": "code",
   "execution_count": 75,
   "outputs": [
    {
     "data": {
      "text/plain": "                                              abstract  \\\n0    A method, and a mobile device adapted thereto,...   \n1    A dumbbell with a selectable number of weight ...   \n2    A virtual assistant AI system that may be conn...   \n3    Connector assemblies that are separate from me...   \n4    An LED tube lamp, comprising a lamp tube, whic...   \n..                                                 ...   \n96   A method for controlling a crane component of ...   \n97   A camera head is provided that includes a firs...   \n98   An organic light emitting diode display includ...   \n99   An image processing device includes a receptio...   \n100  Provided is a composition for percutaneous abs...   \n\n                               definition_preprocessed  \\\n0    [{'corpus_id': 4, 'score': 0.37911149859428406...   \n1    [{'corpus_id': 16, 'score': 0.3615938723087311...   \n2    [{'corpus_id': 0, 'score': 0.5747168064117432}...   \n3    [{'corpus_id': 16, 'score': 0.4684583246707916...   \n4    [{'corpus_id': 16, 'score': 0.3425365686416626...   \n..                                                 ...   \n96   [{'corpus_id': 16, 'score': 0.4293273687362671...   \n97   [{'corpus_id': 16, 'score': 0.4674776792526245...   \n98   [{'corpus_id': 16, 'score': 0.3556002676486969...   \n99   [{'corpus_id': 16, 'score': 0.3983959257602691...   \n100  [{'corpus_id': 16, 'score': 0.4550559520721435...   \n\n                                        definition_1  \\\n0                                         Blockchain   \n1                Medical Technology; Medical devices   \n2    Artificial Intelligence; Big Data and Analytics   \n3                Medical Technology; Medical devices   \n4                Medical Technology; Medical devices   \n..                                               ...   \n96               Medical Technology; Medical devices   \n97               Medical Technology; Medical devices   \n98               Medical Technology; Medical devices   \n99               Medical Technology; Medical devices   \n100              Medical Technology; Medical devices   \n\n                                        definition_2  \\\n0                Medical Technology; Medical devices   \n1                Advanced Manufacturing and Robotics   \n2                 Augmented Reality; Virtual Reality   \n3                Advanced Manufacturing and Robotics   \n4                                         Blockchain   \n..                                               ...   \n96               Advanced Manufacturing and Robotics   \n97               Advanced Manufacturing and Robotics   \n98   Artificial Intelligence; Big Data and Analytics   \n99                                     Digital Media   \n100                Biopharmaceutical; Biotechonology   \n\n                                 keywords_preprocessed  \\\n0    [{'corpus_id': 3, 'score': 0.5950531959533691}...   \n1    [{'corpus_id': 3, 'score': 0.5325780510902405}...   \n2    [{'corpus_id': 3, 'score': 0.6411076784133911}...   \n3    [{'corpus_id': 3, 'score': 0.5191670060157776}...   \n4    [{'corpus_id': 3, 'score': 0.5101721882820129}...   \n..                                                 ...   \n96   [{'corpus_id': 3, 'score': 0.5295559167861938}...   \n97   [{'corpus_id': 3, 'score': 0.5366716384887695}...   \n98   [{'corpus_id': 1, 'score': 0.46616318821907043...   \n99   [{'corpus_id': 3, 'score': 0.5473448634147644}...   \n100  [{'corpus_id': 3, 'score': 0.49268460273742676...   \n\n                              keywords_1  \\\n0                   Financial Technology   \n1                   Financial Technology   \n2                   Financial Technology   \n3                   Financial Technology   \n4                   Financial Technology   \n..                                   ...   \n96                  Financial Technology   \n97                  Financial Technology   \n98   Advanced Manufacturing and Robotics   \n99                  Financial Technology   \n100                 Financial Technology   \n\n                                          keywords_2  \n0    Artificial Intelligence; Big Data and Analytics  \n1    Artificial Intelligence; Big Data and Analytics  \n2    Artificial Intelligence; Big Data and Analytics  \n3                Advanced Manufacturing and Robotics  \n4                Advanced Manufacturing and Robotics  \n..                                               ...  \n96   Artificial Intelligence; Big Data and Analytics  \n97   Artificial Intelligence; Big Data and Analytics  \n98                              Financial Technology  \n99   Artificial Intelligence; Big Data and Analytics  \n100                                         New Food  \n\n[101 rows x 7 columns]",
      "text/html": "<div>\n<style scoped>\n    .dataframe tbody tr th:only-of-type {\n        vertical-align: middle;\n    }\n\n    .dataframe tbody tr th {\n        vertical-align: top;\n    }\n\n    .dataframe thead th {\n        text-align: right;\n    }\n</style>\n<table border=\"1\" class=\"dataframe\">\n  <thead>\n    <tr style=\"text-align: right;\">\n      <th></th>\n      <th>abstract</th>\n      <th>definition_preprocessed</th>\n      <th>definition_1</th>\n      <th>definition_2</th>\n      <th>keywords_preprocessed</th>\n      <th>keywords_1</th>\n      <th>keywords_2</th>\n    </tr>\n  </thead>\n  <tbody>\n    <tr>\n      <th>0</th>\n      <td>A method, and a mobile device adapted thereto,...</td>\n      <td>[{'corpus_id': 4, 'score': 0.37911149859428406...</td>\n      <td>Blockchain</td>\n      <td>Medical Technology; Medical devices</td>\n      <td>[{'corpus_id': 3, 'score': 0.5950531959533691}...</td>\n      <td>Financial Technology</td>\n      <td>Artificial Intelligence; Big Data and Analytics</td>\n    </tr>\n    <tr>\n      <th>1</th>\n      <td>A dumbbell with a selectable number of weight ...</td>\n      <td>[{'corpus_id': 16, 'score': 0.3615938723087311...</td>\n      <td>Medical Technology; Medical devices</td>\n      <td>Advanced Manufacturing and Robotics</td>\n      <td>[{'corpus_id': 3, 'score': 0.5325780510902405}...</td>\n      <td>Financial Technology</td>\n      <td>Artificial Intelligence; Big Data and Analytics</td>\n    </tr>\n    <tr>\n      <th>2</th>\n      <td>A virtual assistant AI system that may be conn...</td>\n      <td>[{'corpus_id': 0, 'score': 0.5747168064117432}...</td>\n      <td>Artificial Intelligence; Big Data and Analytics</td>\n      <td>Augmented Reality; Virtual Reality</td>\n      <td>[{'corpus_id': 3, 'score': 0.6411076784133911}...</td>\n      <td>Financial Technology</td>\n      <td>Artificial Intelligence; Big Data and Analytics</td>\n    </tr>\n    <tr>\n      <th>3</th>\n      <td>Connector assemblies that are separate from me...</td>\n      <td>[{'corpus_id': 16, 'score': 0.4684583246707916...</td>\n      <td>Medical Technology; Medical devices</td>\n      <td>Advanced Manufacturing and Robotics</td>\n      <td>[{'corpus_id': 3, 'score': 0.5191670060157776}...</td>\n      <td>Financial Technology</td>\n      <td>Advanced Manufacturing and Robotics</td>\n    </tr>\n    <tr>\n      <th>4</th>\n      <td>An LED tube lamp, comprising a lamp tube, whic...</td>\n      <td>[{'corpus_id': 16, 'score': 0.3425365686416626...</td>\n      <td>Medical Technology; Medical devices</td>\n      <td>Blockchain</td>\n      <td>[{'corpus_id': 3, 'score': 0.5101721882820129}...</td>\n      <td>Financial Technology</td>\n      <td>Advanced Manufacturing and Robotics</td>\n    </tr>\n    <tr>\n      <th>...</th>\n      <td>...</td>\n      <td>...</td>\n      <td>...</td>\n      <td>...</td>\n      <td>...</td>\n      <td>...</td>\n      <td>...</td>\n    </tr>\n    <tr>\n      <th>96</th>\n      <td>A method for controlling a crane component of ...</td>\n      <td>[{'corpus_id': 16, 'score': 0.4293273687362671...</td>\n      <td>Medical Technology; Medical devices</td>\n      <td>Advanced Manufacturing and Robotics</td>\n      <td>[{'corpus_id': 3, 'score': 0.5295559167861938}...</td>\n      <td>Financial Technology</td>\n      <td>Artificial Intelligence; Big Data and Analytics</td>\n    </tr>\n    <tr>\n      <th>97</th>\n      <td>A camera head is provided that includes a firs...</td>\n      <td>[{'corpus_id': 16, 'score': 0.4674776792526245...</td>\n      <td>Medical Technology; Medical devices</td>\n      <td>Advanced Manufacturing and Robotics</td>\n      <td>[{'corpus_id': 3, 'score': 0.5366716384887695}...</td>\n      <td>Financial Technology</td>\n      <td>Artificial Intelligence; Big Data and Analytics</td>\n    </tr>\n    <tr>\n      <th>98</th>\n      <td>An organic light emitting diode display includ...</td>\n      <td>[{'corpus_id': 16, 'score': 0.3556002676486969...</td>\n      <td>Medical Technology; Medical devices</td>\n      <td>Artificial Intelligence; Big Data and Analytics</td>\n      <td>[{'corpus_id': 1, 'score': 0.46616318821907043...</td>\n      <td>Advanced Manufacturing and Robotics</td>\n      <td>Financial Technology</td>\n    </tr>\n    <tr>\n      <th>99</th>\n      <td>An image processing device includes a receptio...</td>\n      <td>[{'corpus_id': 16, 'score': 0.3983959257602691...</td>\n      <td>Medical Technology; Medical devices</td>\n      <td>Digital Media</td>\n      <td>[{'corpus_id': 3, 'score': 0.5473448634147644}...</td>\n      <td>Financial Technology</td>\n      <td>Artificial Intelligence; Big Data and Analytics</td>\n    </tr>\n    <tr>\n      <th>100</th>\n      <td>Provided is a composition for percutaneous abs...</td>\n      <td>[{'corpus_id': 16, 'score': 0.4550559520721435...</td>\n      <td>Medical Technology; Medical devices</td>\n      <td>Biopharmaceutical; Biotechonology</td>\n      <td>[{'corpus_id': 3, 'score': 0.49268460273742676...</td>\n      <td>Financial Technology</td>\n      <td>New Food</td>\n    </tr>\n  </tbody>\n</table>\n<p>101 rows × 7 columns</p>\n</div>"
     },
     "execution_count": 75,
     "metadata": {},
     "output_type": "execute_result"
    }
   ],
   "source": [
    "df_semantic_results"
   ],
   "metadata": {
    "collapsed": false,
    "ExecuteTime": {
     "end_time": "2023-11-08T19:58:03.319840600Z",
     "start_time": "2023-11-08T19:58:03.310387700Z"
    }
   },
   "id": "8395dd5c3fac1e9c"
  },
  {
   "cell_type": "code",
   "execution_count": 46,
   "outputs": [],
   "source": [],
   "metadata": {
    "collapsed": false,
    "ExecuteTime": {
     "end_time": "2023-11-08T19:50:50.298503400Z",
     "start_time": "2023-11-08T19:50:50.291144200Z"
    }
   },
   "id": "7c4b32fd27d79695"
  }
 ],
 "metadata": {
  "kernelspec": {
   "display_name": "Python 3",
   "language": "python",
   "name": "python3"
  },
  "language_info": {
   "codemirror_mode": {
    "name": "ipython",
    "version": 2
   },
   "file_extension": ".py",
   "mimetype": "text/x-python",
   "name": "python",
   "nbconvert_exporter": "python",
   "pygments_lexer": "ipython2",
   "version": "2.7.6"
  }
 },
 "nbformat": 4,
 "nbformat_minor": 5
}
