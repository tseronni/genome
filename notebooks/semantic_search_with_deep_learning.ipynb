{
 "cells": [
  {
   "cell_type": "code",
   "execution_count": 1,
   "id": "initial_id",
   "metadata": {
    "collapsed": true,
    "ExecuteTime": {
     "end_time": "2023-11-03T20:49:20.404109Z",
     "start_time": "2023-11-03T20:49:18.283158400Z"
    }
   },
   "outputs": [
    {
     "name": "stderr",
     "output_type": "stream",
     "text": [
      "2023-11-03 17:49:20,241 - DEBUG - matplotlib data path: C:\\Users\\Thiago\\PycharmProjects\\genome\\venv\\Lib\\site-packages\\matplotlib\\mpl-data\n",
      "2023-11-03 17:49:20,246 - DEBUG - CONFIGDIR=C:\\Users\\Thiago\\.matplotlib\n",
      "2023-11-03 17:49:20,247 - DEBUG - interactive is False\n",
      "2023-11-03 17:49:20,248 - DEBUG - platform is win32\n",
      "2023-11-03 17:49:20,277 - DEBUG - CACHEDIR=C:\\Users\\Thiago\\.matplotlib\n",
      "2023-11-03 17:49:20,279 - DEBUG - Using fontManager instance from C:\\Users\\Thiago\\.matplotlib\\fontlist-v330.json\n"
     ]
    }
   ],
   "source": [
    "import json\n",
    "import os\n",
    "import pandas as pd\n",
    "from sentence_transformers import SentenceTransformer, util\n",
    "from src.utils.UsefulPaths import Paths\n",
    "from sklearn.cluster import KMeans\n",
    "from src.utils.KnnUtils import OptimalCluster\n",
    "import numpy as np\n",
    "pd.set_option('display.float_format', lambda x: '%.2f' % x)"
   ]
  },
  {
   "cell_type": "code",
   "execution_count": 2,
   "outputs": [],
   "source": [
    "paths = Paths()\n",
    "\n",
    "with open(paths.json_subsectors, 'r') as file:\n",
    "    subsectors = json.load(file)"
   ],
   "metadata": {
    "collapsed": false,
    "ExecuteTime": {
     "end_time": "2023-11-03T20:49:20.408268500Z",
     "start_time": "2023-11-03T20:49:20.405108900Z"
    }
   },
   "id": "1e4ab5477878cfda"
  },
  {
   "cell_type": "code",
   "execution_count": 3,
   "outputs": [
    {
     "name": "stdout",
     "output_type": "stream",
     "text": [
      "Artificial Intelligence; Big Data and Analytics\n",
      "Advanced Manufacturing and Robotics\n",
      "Clean Technology\n",
      "Financial Technology\n",
      "Blockchain\n",
      "Cybersecurity\n",
      "Agriculture Technology\n",
      "New Food\n",
      "Advertising Technology\n",
      "Blue Economy\n",
      "Digital Media\n",
      "Gaming\n",
      "Augmented Reality; Virtual Reality\n",
      "Educational Technology\n",
      "Industry 4.0\n",
      "Biopharmaceutical; Biotechonology\n",
      "Medical Technology; Medical devices\n",
      "Others\n",
      "\n",
      "Total: 18\n"
     ]
    }
   ],
   "source": [
    "subsectors_class = list(subsectors.keys())\n",
    "subsectors_class.append('Others')\n",
    "\n",
    "for subsector in subsectors_class:\n",
    "    print(f'{subsector}')\n",
    "    \n",
    "print(f'\\nTotal: {len(subsectors_class)}')"
   ],
   "metadata": {
    "collapsed": false,
    "ExecuteTime": {
     "end_time": "2023-11-03T20:49:20.412652100Z",
     "start_time": "2023-11-03T20:49:20.409268800Z"
    }
   },
   "id": "5273f3c6e82d79e0"
  },
  {
   "cell_type": "code",
   "execution_count": 4,
   "outputs": [],
   "source": [
    "df_abstract_patents = pd.read_csv(os.path.join(paths.data_processed, 'abstract_patents.csv'))"
   ],
   "metadata": {
    "collapsed": false,
    "ExecuteTime": {
     "end_time": "2023-11-03T20:49:23.600559700Z",
     "start_time": "2023-11-03T20:49:20.412652100Z"
    }
   },
   "id": "b32c6161a59f74f8"
  },
  {
   "cell_type": "code",
   "execution_count": 5,
   "outputs": [
    {
     "data": {
      "text/plain": "     publication_number                                           abstract  \\\n0           20180152842  A method, and a mobile device adapted thereto,...   \n1           20180140889  A dumbbell with a selectable number of weight ...   \n2           20180143803  A virtual assistant AI system that may be conn...   \n3           20180169402  Connector assemblies that are separate from me...   \n4           20180163931  An LED tube lamp, comprising a lamp tube, whic...   \n..                  ...                                                ...   \n995         20180128819  Methods for preparation of cells for analysis ...   \n996         20180171674  The present disclosure provides lockable cover...   \n997         20180159626  A data communication system comprises an optic...   \n998         20180130519  Systems are provided for a three dimension sta...   \n999         20180180793  A diffractive backlight system includes a ligh...   \n\n     word_count    patent_id           app_name  app_year              city  \\\n0            80  20180152842         Moorim Kim      2018             Seoul   \n1           131  20180140889        Per HÖGLUND      2018         Jonkoping   \n2            83  20180143803        David Placa      2018     San Francisco   \n3           101  20180169402      Patrick Wells      2018  Columbia Heights   \n4           130  20180163931       Aiming Xiong      2018           Jiaxing   \n..          ...          ...                ...       ...               ...   \n995         112  20180128819            Jita De      2018        Costa Mesa   \n996          80  20180171674  Shadi AbuGhazaleh      2018          Guilford   \n997         145  20180159626       Donald Chang      2018     Thousand Oaks   \n998         165  20180130519    Chien-Yuan Chen      2018           Hsinchu   \n999          94  20180180793       David Fattal      2018     Mountain View   \n\n    country               country_name       ecosystem  \\\n0        KR         Korea, Republic of           Seoul   \n1        SE                     Sweden       Jonkoping   \n2        US              United States  Silicon Valley   \n3        US              United States     Minneapolis   \n4        CN                      China        Hangzhou   \n..      ...                        ...             ...   \n995      US              United States     Los Angeles   \n996      US              United States        Hartford   \n997      US              United States     Los Angeles   \n998      TW  Taiwan, Province of China     Taipei City   \n999      US              United States  Silicon Valley   \n\n                    grant_date  grant_year                   app_date  \\\n0    2018-05-31 00:00:00+00:00        2018  2018-01-29 00:00:00+00:00   \n1    2018-05-24 00:00:00+00:00        2018  2018-01-03 00:00:00+00:00   \n2    2018-05-24 00:00:00+00:00        2018  2018-01-16 00:00:00+00:00   \n3    2018-06-21 00:00:00+00:00        2018  2018-02-15 00:00:00+00:00   \n4    2018-06-14 00:00:00+00:00        2018  2018-02-06 00:00:00+00:00   \n..                         ...         ...                        ...   \n995  2018-05-10 00:00:00+00:00        2018  2018-01-08 00:00:00+00:00   \n996  2018-06-21 00:00:00+00:00        2018  2018-02-15 00:00:00+00:00   \n997  2018-06-07 00:00:00+00:00        2018  2018-01-29 00:00:00+00:00   \n998  2018-05-10 00:00:00+00:00        2018  2018-01-09 00:00:00+00:00   \n999  2018-06-28 00:00:00+00:00        2018  2018-02-25 00:00:00+00:00   \n\n            class_concat  class_distinct_count     class_ipc_concat  \\\n0         H04M,H04W,G06F                  3.00       G06F,H04M,H04W   \n1                   A63B                  1.00                 A63B   \n2                   G06F                  1.00                 G06F   \n3              H01R,A61N                  2.00            A61N,H01R   \n4    F21Y,F21K,F21V,H05B                  4.00  F21K,F21V,F21Y,H05B   \n..                   ...                   ...                  ...   \n995                 G01N                  1.00                 G01N   \n996            E05B,H05K                  2.00            E05B,H05K   \n997       H04J,H04B,H04Q                  3.00       H04B,H04J,H04Q   \n998            H01L,G11C                  2.00            G11C,H01L   \n999       F21V,G02B,G02C                  3.00       F21V,G02B,G02C   \n\n     class_ipc_distinct_count  \n0                        3.00  \n1                        1.00  \n2                        1.00  \n3                        2.00  \n4                        4.00  \n..                        ...  \n995                      1.00  \n996                      2.00  \n997                      3.00  \n998                      2.00  \n999                      3.00  \n\n[1000 rows x 17 columns]",
      "text/html": "<div>\n<style scoped>\n    .dataframe tbody tr th:only-of-type {\n        vertical-align: middle;\n    }\n\n    .dataframe tbody tr th {\n        vertical-align: top;\n    }\n\n    .dataframe thead th {\n        text-align: right;\n    }\n</style>\n<table border=\"1\" class=\"dataframe\">\n  <thead>\n    <tr style=\"text-align: right;\">\n      <th></th>\n      <th>publication_number</th>\n      <th>abstract</th>\n      <th>word_count</th>\n      <th>patent_id</th>\n      <th>app_name</th>\n      <th>app_year</th>\n      <th>city</th>\n      <th>country</th>\n      <th>country_name</th>\n      <th>ecosystem</th>\n      <th>grant_date</th>\n      <th>grant_year</th>\n      <th>app_date</th>\n      <th>class_concat</th>\n      <th>class_distinct_count</th>\n      <th>class_ipc_concat</th>\n      <th>class_ipc_distinct_count</th>\n    </tr>\n  </thead>\n  <tbody>\n    <tr>\n      <th>0</th>\n      <td>20180152842</td>\n      <td>A method, and a mobile device adapted thereto,...</td>\n      <td>80</td>\n      <td>20180152842</td>\n      <td>Moorim Kim</td>\n      <td>2018</td>\n      <td>Seoul</td>\n      <td>KR</td>\n      <td>Korea, Republic of</td>\n      <td>Seoul</td>\n      <td>2018-05-31 00:00:00+00:00</td>\n      <td>2018</td>\n      <td>2018-01-29 00:00:00+00:00</td>\n      <td>H04M,H04W,G06F</td>\n      <td>3.00</td>\n      <td>G06F,H04M,H04W</td>\n      <td>3.00</td>\n    </tr>\n    <tr>\n      <th>1</th>\n      <td>20180140889</td>\n      <td>A dumbbell with a selectable number of weight ...</td>\n      <td>131</td>\n      <td>20180140889</td>\n      <td>Per HÖGLUND</td>\n      <td>2018</td>\n      <td>Jonkoping</td>\n      <td>SE</td>\n      <td>Sweden</td>\n      <td>Jonkoping</td>\n      <td>2018-05-24 00:00:00+00:00</td>\n      <td>2018</td>\n      <td>2018-01-03 00:00:00+00:00</td>\n      <td>A63B</td>\n      <td>1.00</td>\n      <td>A63B</td>\n      <td>1.00</td>\n    </tr>\n    <tr>\n      <th>2</th>\n      <td>20180143803</td>\n      <td>A virtual assistant AI system that may be conn...</td>\n      <td>83</td>\n      <td>20180143803</td>\n      <td>David Placa</td>\n      <td>2018</td>\n      <td>San Francisco</td>\n      <td>US</td>\n      <td>United States</td>\n      <td>Silicon Valley</td>\n      <td>2018-05-24 00:00:00+00:00</td>\n      <td>2018</td>\n      <td>2018-01-16 00:00:00+00:00</td>\n      <td>G06F</td>\n      <td>1.00</td>\n      <td>G06F</td>\n      <td>1.00</td>\n    </tr>\n    <tr>\n      <th>3</th>\n      <td>20180169402</td>\n      <td>Connector assemblies that are separate from me...</td>\n      <td>101</td>\n      <td>20180169402</td>\n      <td>Patrick Wells</td>\n      <td>2018</td>\n      <td>Columbia Heights</td>\n      <td>US</td>\n      <td>United States</td>\n      <td>Minneapolis</td>\n      <td>2018-06-21 00:00:00+00:00</td>\n      <td>2018</td>\n      <td>2018-02-15 00:00:00+00:00</td>\n      <td>H01R,A61N</td>\n      <td>2.00</td>\n      <td>A61N,H01R</td>\n      <td>2.00</td>\n    </tr>\n    <tr>\n      <th>4</th>\n      <td>20180163931</td>\n      <td>An LED tube lamp, comprising a lamp tube, whic...</td>\n      <td>130</td>\n      <td>20180163931</td>\n      <td>Aiming Xiong</td>\n      <td>2018</td>\n      <td>Jiaxing</td>\n      <td>CN</td>\n      <td>China</td>\n      <td>Hangzhou</td>\n      <td>2018-06-14 00:00:00+00:00</td>\n      <td>2018</td>\n      <td>2018-02-06 00:00:00+00:00</td>\n      <td>F21Y,F21K,F21V,H05B</td>\n      <td>4.00</td>\n      <td>F21K,F21V,F21Y,H05B</td>\n      <td>4.00</td>\n    </tr>\n    <tr>\n      <th>...</th>\n      <td>...</td>\n      <td>...</td>\n      <td>...</td>\n      <td>...</td>\n      <td>...</td>\n      <td>...</td>\n      <td>...</td>\n      <td>...</td>\n      <td>...</td>\n      <td>...</td>\n      <td>...</td>\n      <td>...</td>\n      <td>...</td>\n      <td>...</td>\n      <td>...</td>\n      <td>...</td>\n      <td>...</td>\n    </tr>\n    <tr>\n      <th>995</th>\n      <td>20180128819</td>\n      <td>Methods for preparation of cells for analysis ...</td>\n      <td>112</td>\n      <td>20180128819</td>\n      <td>Jita De</td>\n      <td>2018</td>\n      <td>Costa Mesa</td>\n      <td>US</td>\n      <td>United States</td>\n      <td>Los Angeles</td>\n      <td>2018-05-10 00:00:00+00:00</td>\n      <td>2018</td>\n      <td>2018-01-08 00:00:00+00:00</td>\n      <td>G01N</td>\n      <td>1.00</td>\n      <td>G01N</td>\n      <td>1.00</td>\n    </tr>\n    <tr>\n      <th>996</th>\n      <td>20180171674</td>\n      <td>The present disclosure provides lockable cover...</td>\n      <td>80</td>\n      <td>20180171674</td>\n      <td>Shadi AbuGhazaleh</td>\n      <td>2018</td>\n      <td>Guilford</td>\n      <td>US</td>\n      <td>United States</td>\n      <td>Hartford</td>\n      <td>2018-06-21 00:00:00+00:00</td>\n      <td>2018</td>\n      <td>2018-02-15 00:00:00+00:00</td>\n      <td>E05B,H05K</td>\n      <td>2.00</td>\n      <td>E05B,H05K</td>\n      <td>2.00</td>\n    </tr>\n    <tr>\n      <th>997</th>\n      <td>20180159626</td>\n      <td>A data communication system comprises an optic...</td>\n      <td>145</td>\n      <td>20180159626</td>\n      <td>Donald Chang</td>\n      <td>2018</td>\n      <td>Thousand Oaks</td>\n      <td>US</td>\n      <td>United States</td>\n      <td>Los Angeles</td>\n      <td>2018-06-07 00:00:00+00:00</td>\n      <td>2018</td>\n      <td>2018-01-29 00:00:00+00:00</td>\n      <td>H04J,H04B,H04Q</td>\n      <td>3.00</td>\n      <td>H04B,H04J,H04Q</td>\n      <td>3.00</td>\n    </tr>\n    <tr>\n      <th>998</th>\n      <td>20180130519</td>\n      <td>Systems are provided for a three dimension sta...</td>\n      <td>165</td>\n      <td>20180130519</td>\n      <td>Chien-Yuan Chen</td>\n      <td>2018</td>\n      <td>Hsinchu</td>\n      <td>TW</td>\n      <td>Taiwan, Province of China</td>\n      <td>Taipei City</td>\n      <td>2018-05-10 00:00:00+00:00</td>\n      <td>2018</td>\n      <td>2018-01-09 00:00:00+00:00</td>\n      <td>H01L,G11C</td>\n      <td>2.00</td>\n      <td>G11C,H01L</td>\n      <td>2.00</td>\n    </tr>\n    <tr>\n      <th>999</th>\n      <td>20180180793</td>\n      <td>A diffractive backlight system includes a ligh...</td>\n      <td>94</td>\n      <td>20180180793</td>\n      <td>David Fattal</td>\n      <td>2018</td>\n      <td>Mountain View</td>\n      <td>US</td>\n      <td>United States</td>\n      <td>Silicon Valley</td>\n      <td>2018-06-28 00:00:00+00:00</td>\n      <td>2018</td>\n      <td>2018-02-25 00:00:00+00:00</td>\n      <td>F21V,G02B,G02C</td>\n      <td>3.00</td>\n      <td>F21V,G02B,G02C</td>\n      <td>3.00</td>\n    </tr>\n  </tbody>\n</table>\n<p>1000 rows × 17 columns</p>\n</div>"
     },
     "execution_count": 5,
     "metadata": {},
     "output_type": "execute_result"
    }
   ],
   "source": [
    "slice_number = 1000\n",
    "df_sliced = df_abstract_patents[:slice_number]\n",
    "df_sliced.to_csv(os.path.join(paths.data_processed, 'abstract_patents_sliced.csv'), index=False)\n",
    "df_sliced"
   ],
   "metadata": {
    "collapsed": false,
    "ExecuteTime": {
     "end_time": "2023-11-03T20:49:23.627079700Z",
     "start_time": "2023-11-03T20:49:23.602560200Z"
    }
   },
   "id": "edd8c2eb34bf4143"
  },
  {
   "cell_type": "code",
   "execution_count": 6,
   "outputs": [
    {
     "name": "stderr",
     "output_type": "stream",
     "text": [
      "2023-11-03 17:49:23,625 - INFO - Load pretrained SentenceTransformer: distilbert-base-uncased\n",
      "2023-11-03 17:49:23,627 - DEBUG - Starting new HTTPS connection (1): huggingface.co:443\n",
      "2023-11-03 17:49:24,088 - DEBUG - https://huggingface.co:443 \"GET /api/models/distilbert-base-uncased HTTP/1.1\" 200 8027\n",
      "2023-11-03 17:49:24,257 - DEBUG - https://huggingface.co:443 \"HEAD /distilbert-base-uncased/resolve/6cdc0aad91f5ae2e6712e91bc7b65d1cf5c05411/.gitattributes HTTP/1.1\" 200 0\n",
      "2023-11-03 17:49:24,419 - DEBUG - https://huggingface.co:443 \"HEAD /distilbert-base-uncased/resolve/6cdc0aad91f5ae2e6712e91bc7b65d1cf5c05411/LICENSE HTTP/1.1\" 200 0\n",
      "2023-11-03 17:49:24,580 - DEBUG - https://huggingface.co:443 \"HEAD /distilbert-base-uncased/resolve/6cdc0aad91f5ae2e6712e91bc7b65d1cf5c05411/README.md HTTP/1.1\" 200 0\n",
      "2023-11-03 17:49:24,746 - DEBUG - https://huggingface.co:443 \"HEAD /distilbert-base-uncased/resolve/6cdc0aad91f5ae2e6712e91bc7b65d1cf5c05411/config.json HTTP/1.1\" 200 0\n",
      "2023-11-03 17:49:24,911 - DEBUG - https://huggingface.co:443 \"HEAD /distilbert-base-uncased/resolve/6cdc0aad91f5ae2e6712e91bc7b65d1cf5c05411/model.safetensors HTTP/1.1\" 302 0\n",
      "2023-11-03 17:49:25,078 - DEBUG - https://huggingface.co:443 \"HEAD /distilbert-base-uncased/resolve/6cdc0aad91f5ae2e6712e91bc7b65d1cf5c05411/pytorch_model.bin HTTP/1.1\" 302 0\n",
      "2023-11-03 17:49:25,247 - DEBUG - https://huggingface.co:443 \"HEAD /distilbert-base-uncased/resolve/6cdc0aad91f5ae2e6712e91bc7b65d1cf5c05411/tokenizer.json HTTP/1.1\" 200 0\n",
      "2023-11-03 17:49:25,422 - DEBUG - https://huggingface.co:443 \"HEAD /distilbert-base-uncased/resolve/6cdc0aad91f5ae2e6712e91bc7b65d1cf5c05411/tokenizer_config.json HTTP/1.1\" 200 0\n",
      "2023-11-03 17:49:25,582 - DEBUG - https://huggingface.co:443 \"HEAD /distilbert-base-uncased/resolve/6cdc0aad91f5ae2e6712e91bc7b65d1cf5c05411/vocab.txt HTTP/1.1\" 200 0\n",
      "2023-11-03 17:49:25,583 - WARNING - No sentence-transformers model found with name C:\\Users\\Thiago/.cache\\torch\\sentence_transformers\\distilbert-base-uncased. Creating a new one with MEAN pooling.\n",
      "2023-11-03 17:49:26,275 - INFO - Use pytorch device: cpu\n"
     ]
    }
   ],
   "source": [
    "embedder = SentenceTransformer('distilbert-base-uncased')"
   ],
   "metadata": {
    "collapsed": false,
    "ExecuteTime": {
     "end_time": "2023-11-03T20:49:26.288110500Z",
     "start_time": "2023-11-03T20:49:23.624079600Z"
    }
   },
   "id": "ca9ff7775d4538af"
  },
  {
   "cell_type": "code",
   "execution_count": 7,
   "outputs": [],
   "source": [
    "sentences = list(df_sliced.abstract)"
   ],
   "metadata": {
    "collapsed": false,
    "ExecuteTime": {
     "end_time": "2023-11-03T20:49:26.295180400Z",
     "start_time": "2023-11-03T20:49:26.288110500Z"
    }
   },
   "id": "89d4e6a010babb78"
  },
  {
   "cell_type": "code",
   "execution_count": 12,
   "outputs": [
    {
     "name": "stderr",
     "output_type": "stream",
     "text": [
      "C:\\Users\\Thiago\\AppData\\Local\\Temp\\ipykernel_6016\\103647595.py:4: SettingWithCopyWarning: \n",
      "A value is trying to be set on a copy of a slice from a DataFrame.\n",
      "Try using .loc[row_indexer,col_indexer] = value instead\n",
      "\n",
      "See the caveats in the documentation: https://pandas.pydata.org/pandas-docs/stable/user_guide/indexing.html#returning-a-view-versus-a-copy\n",
      "  df_sliced['query'] = df_sliced['abstract'].apply(create_query_sentence)\n"
     ]
    },
    {
     "data": {
      "text/plain": "     publication_number                                           abstract  \\\n0           20180152842  A method, and a mobile device adapted thereto,...   \n1           20180140889  A dumbbell with a selectable number of weight ...   \n2           20180143803  A virtual assistant AI system that may be conn...   \n3           20180169402  Connector assemblies that are separate from me...   \n4           20180163931  An LED tube lamp, comprising a lamp tube, whic...   \n..                  ...                                                ...   \n995         20180128819  Methods for preparation of cells for analysis ...   \n996         20180171674  The present disclosure provides lockable cover...   \n997         20180159626  A data communication system comprises an optic...   \n998         20180130519  Systems are provided for a three dimension sta...   \n999         20180180793  A diffractive backlight system includes a ligh...   \n\n     word_count    patent_id           app_name  app_year              city  \\\n0            80  20180152842         Moorim Kim      2018             Seoul   \n1           131  20180140889        Per HÖGLUND      2018         Jonkoping   \n2            83  20180143803        David Placa      2018     San Francisco   \n3           101  20180169402      Patrick Wells      2018  Columbia Heights   \n4           130  20180163931       Aiming Xiong      2018           Jiaxing   \n..          ...          ...                ...       ...               ...   \n995         112  20180128819            Jita De      2018        Costa Mesa   \n996          80  20180171674  Shadi AbuGhazaleh      2018          Guilford   \n997         145  20180159626       Donald Chang      2018     Thousand Oaks   \n998         165  20180130519    Chien-Yuan Chen      2018           Hsinchu   \n999          94  20180180793       David Fattal      2018     Mountain View   \n\n    country               country_name       ecosystem  \\\n0        KR         Korea, Republic of           Seoul   \n1        SE                     Sweden       Jonkoping   \n2        US              United States  Silicon Valley   \n3        US              United States     Minneapolis   \n4        CN                      China        Hangzhou   \n..      ...                        ...             ...   \n995      US              United States     Los Angeles   \n996      US              United States        Hartford   \n997      US              United States     Los Angeles   \n998      TW  Taiwan, Province of China     Taipei City   \n999      US              United States  Silicon Valley   \n\n                    grant_date  grant_year                   app_date  \\\n0    2018-05-31 00:00:00+00:00        2018  2018-01-29 00:00:00+00:00   \n1    2018-05-24 00:00:00+00:00        2018  2018-01-03 00:00:00+00:00   \n2    2018-05-24 00:00:00+00:00        2018  2018-01-16 00:00:00+00:00   \n3    2018-06-21 00:00:00+00:00        2018  2018-02-15 00:00:00+00:00   \n4    2018-06-14 00:00:00+00:00        2018  2018-02-06 00:00:00+00:00   \n..                         ...         ...                        ...   \n995  2018-05-10 00:00:00+00:00        2018  2018-01-08 00:00:00+00:00   \n996  2018-06-21 00:00:00+00:00        2018  2018-02-15 00:00:00+00:00   \n997  2018-06-07 00:00:00+00:00        2018  2018-01-29 00:00:00+00:00   \n998  2018-05-10 00:00:00+00:00        2018  2018-01-09 00:00:00+00:00   \n999  2018-06-28 00:00:00+00:00        2018  2018-02-25 00:00:00+00:00   \n\n            class_concat  class_distinct_count     class_ipc_concat  \\\n0         H04M,H04W,G06F                  3.00       G06F,H04M,H04W   \n1                   A63B                  1.00                 A63B   \n2                   G06F                  1.00                 G06F   \n3              H01R,A61N                  2.00            A61N,H01R   \n4    F21Y,F21K,F21V,H05B                  4.00  F21K,F21V,F21Y,H05B   \n..                   ...                   ...                  ...   \n995                 G01N                  1.00                 G01N   \n996            E05B,H05K                  2.00            E05B,H05K   \n997       H04J,H04B,H04Q                  3.00       H04B,H04J,H04Q   \n998            H01L,G11C                  2.00            G11C,H01L   \n999       F21V,G02B,G02C                  3.00       F21V,G02B,G02C   \n\n     class_ipc_distinct_count  \\\n0                        3.00   \n1                        1.00   \n2                        1.00   \n3                        2.00   \n4                        4.00   \n..                        ...   \n995                      1.00   \n996                      2.00   \n997                      3.00   \n998                      2.00   \n999                      3.00   \n\n                                                 query  \n0    I have a patent abstract 'A method, and a mobi...  \n1    I have a patent abstract 'A dumbbell with a se...  \n2    I have a patent abstract 'A virtual assistant ...  \n3    I have a patent abstract 'Connector assemblies...  \n4    I have a patent abstract 'An LED tube lamp, co...  \n..                                                 ...  \n995  I have a patent abstract 'Methods for preparat...  \n996  I have a patent abstract 'The present disclosu...  \n997  I have a patent abstract 'A data communication...  \n998  I have a patent abstract 'Systems are provided...  \n999  I have a patent abstract 'A diffractive backli...  \n\n[1000 rows x 18 columns]",
      "text/html": "<div>\n<style scoped>\n    .dataframe tbody tr th:only-of-type {\n        vertical-align: middle;\n    }\n\n    .dataframe tbody tr th {\n        vertical-align: top;\n    }\n\n    .dataframe thead th {\n        text-align: right;\n    }\n</style>\n<table border=\"1\" class=\"dataframe\">\n  <thead>\n    <tr style=\"text-align: right;\">\n      <th></th>\n      <th>publication_number</th>\n      <th>abstract</th>\n      <th>word_count</th>\n      <th>patent_id</th>\n      <th>app_name</th>\n      <th>app_year</th>\n      <th>city</th>\n      <th>country</th>\n      <th>country_name</th>\n      <th>ecosystem</th>\n      <th>grant_date</th>\n      <th>grant_year</th>\n      <th>app_date</th>\n      <th>class_concat</th>\n      <th>class_distinct_count</th>\n      <th>class_ipc_concat</th>\n      <th>class_ipc_distinct_count</th>\n      <th>query</th>\n    </tr>\n  </thead>\n  <tbody>\n    <tr>\n      <th>0</th>\n      <td>20180152842</td>\n      <td>A method, and a mobile device adapted thereto,...</td>\n      <td>80</td>\n      <td>20180152842</td>\n      <td>Moorim Kim</td>\n      <td>2018</td>\n      <td>Seoul</td>\n      <td>KR</td>\n      <td>Korea, Republic of</td>\n      <td>Seoul</td>\n      <td>2018-05-31 00:00:00+00:00</td>\n      <td>2018</td>\n      <td>2018-01-29 00:00:00+00:00</td>\n      <td>H04M,H04W,G06F</td>\n      <td>3.00</td>\n      <td>G06F,H04M,H04W</td>\n      <td>3.00</td>\n      <td>I have a patent abstract 'A method, and a mobi...</td>\n    </tr>\n    <tr>\n      <th>1</th>\n      <td>20180140889</td>\n      <td>A dumbbell with a selectable number of weight ...</td>\n      <td>131</td>\n      <td>20180140889</td>\n      <td>Per HÖGLUND</td>\n      <td>2018</td>\n      <td>Jonkoping</td>\n      <td>SE</td>\n      <td>Sweden</td>\n      <td>Jonkoping</td>\n      <td>2018-05-24 00:00:00+00:00</td>\n      <td>2018</td>\n      <td>2018-01-03 00:00:00+00:00</td>\n      <td>A63B</td>\n      <td>1.00</td>\n      <td>A63B</td>\n      <td>1.00</td>\n      <td>I have a patent abstract 'A dumbbell with a se...</td>\n    </tr>\n    <tr>\n      <th>2</th>\n      <td>20180143803</td>\n      <td>A virtual assistant AI system that may be conn...</td>\n      <td>83</td>\n      <td>20180143803</td>\n      <td>David Placa</td>\n      <td>2018</td>\n      <td>San Francisco</td>\n      <td>US</td>\n      <td>United States</td>\n      <td>Silicon Valley</td>\n      <td>2018-05-24 00:00:00+00:00</td>\n      <td>2018</td>\n      <td>2018-01-16 00:00:00+00:00</td>\n      <td>G06F</td>\n      <td>1.00</td>\n      <td>G06F</td>\n      <td>1.00</td>\n      <td>I have a patent abstract 'A virtual assistant ...</td>\n    </tr>\n    <tr>\n      <th>3</th>\n      <td>20180169402</td>\n      <td>Connector assemblies that are separate from me...</td>\n      <td>101</td>\n      <td>20180169402</td>\n      <td>Patrick Wells</td>\n      <td>2018</td>\n      <td>Columbia Heights</td>\n      <td>US</td>\n      <td>United States</td>\n      <td>Minneapolis</td>\n      <td>2018-06-21 00:00:00+00:00</td>\n      <td>2018</td>\n      <td>2018-02-15 00:00:00+00:00</td>\n      <td>H01R,A61N</td>\n      <td>2.00</td>\n      <td>A61N,H01R</td>\n      <td>2.00</td>\n      <td>I have a patent abstract 'Connector assemblies...</td>\n    </tr>\n    <tr>\n      <th>4</th>\n      <td>20180163931</td>\n      <td>An LED tube lamp, comprising a lamp tube, whic...</td>\n      <td>130</td>\n      <td>20180163931</td>\n      <td>Aiming Xiong</td>\n      <td>2018</td>\n      <td>Jiaxing</td>\n      <td>CN</td>\n      <td>China</td>\n      <td>Hangzhou</td>\n      <td>2018-06-14 00:00:00+00:00</td>\n      <td>2018</td>\n      <td>2018-02-06 00:00:00+00:00</td>\n      <td>F21Y,F21K,F21V,H05B</td>\n      <td>4.00</td>\n      <td>F21K,F21V,F21Y,H05B</td>\n      <td>4.00</td>\n      <td>I have a patent abstract 'An LED tube lamp, co...</td>\n    </tr>\n    <tr>\n      <th>...</th>\n      <td>...</td>\n      <td>...</td>\n      <td>...</td>\n      <td>...</td>\n      <td>...</td>\n      <td>...</td>\n      <td>...</td>\n      <td>...</td>\n      <td>...</td>\n      <td>...</td>\n      <td>...</td>\n      <td>...</td>\n      <td>...</td>\n      <td>...</td>\n      <td>...</td>\n      <td>...</td>\n      <td>...</td>\n      <td>...</td>\n    </tr>\n    <tr>\n      <th>995</th>\n      <td>20180128819</td>\n      <td>Methods for preparation of cells for analysis ...</td>\n      <td>112</td>\n      <td>20180128819</td>\n      <td>Jita De</td>\n      <td>2018</td>\n      <td>Costa Mesa</td>\n      <td>US</td>\n      <td>United States</td>\n      <td>Los Angeles</td>\n      <td>2018-05-10 00:00:00+00:00</td>\n      <td>2018</td>\n      <td>2018-01-08 00:00:00+00:00</td>\n      <td>G01N</td>\n      <td>1.00</td>\n      <td>G01N</td>\n      <td>1.00</td>\n      <td>I have a patent abstract 'Methods for preparat...</td>\n    </tr>\n    <tr>\n      <th>996</th>\n      <td>20180171674</td>\n      <td>The present disclosure provides lockable cover...</td>\n      <td>80</td>\n      <td>20180171674</td>\n      <td>Shadi AbuGhazaleh</td>\n      <td>2018</td>\n      <td>Guilford</td>\n      <td>US</td>\n      <td>United States</td>\n      <td>Hartford</td>\n      <td>2018-06-21 00:00:00+00:00</td>\n      <td>2018</td>\n      <td>2018-02-15 00:00:00+00:00</td>\n      <td>E05B,H05K</td>\n      <td>2.00</td>\n      <td>E05B,H05K</td>\n      <td>2.00</td>\n      <td>I have a patent abstract 'The present disclosu...</td>\n    </tr>\n    <tr>\n      <th>997</th>\n      <td>20180159626</td>\n      <td>A data communication system comprises an optic...</td>\n      <td>145</td>\n      <td>20180159626</td>\n      <td>Donald Chang</td>\n      <td>2018</td>\n      <td>Thousand Oaks</td>\n      <td>US</td>\n      <td>United States</td>\n      <td>Los Angeles</td>\n      <td>2018-06-07 00:00:00+00:00</td>\n      <td>2018</td>\n      <td>2018-01-29 00:00:00+00:00</td>\n      <td>H04J,H04B,H04Q</td>\n      <td>3.00</td>\n      <td>H04B,H04J,H04Q</td>\n      <td>3.00</td>\n      <td>I have a patent abstract 'A data communication...</td>\n    </tr>\n    <tr>\n      <th>998</th>\n      <td>20180130519</td>\n      <td>Systems are provided for a three dimension sta...</td>\n      <td>165</td>\n      <td>20180130519</td>\n      <td>Chien-Yuan Chen</td>\n      <td>2018</td>\n      <td>Hsinchu</td>\n      <td>TW</td>\n      <td>Taiwan, Province of China</td>\n      <td>Taipei City</td>\n      <td>2018-05-10 00:00:00+00:00</td>\n      <td>2018</td>\n      <td>2018-01-09 00:00:00+00:00</td>\n      <td>H01L,G11C</td>\n      <td>2.00</td>\n      <td>G11C,H01L</td>\n      <td>2.00</td>\n      <td>I have a patent abstract 'Systems are provided...</td>\n    </tr>\n    <tr>\n      <th>999</th>\n      <td>20180180793</td>\n      <td>A diffractive backlight system includes a ligh...</td>\n      <td>94</td>\n      <td>20180180793</td>\n      <td>David Fattal</td>\n      <td>2018</td>\n      <td>Mountain View</td>\n      <td>US</td>\n      <td>United States</td>\n      <td>Silicon Valley</td>\n      <td>2018-06-28 00:00:00+00:00</td>\n      <td>2018</td>\n      <td>2018-02-25 00:00:00+00:00</td>\n      <td>F21V,G02B,G02C</td>\n      <td>3.00</td>\n      <td>F21V,G02B,G02C</td>\n      <td>3.00</td>\n      <td>I have a patent abstract 'A diffractive backli...</td>\n    </tr>\n  </tbody>\n</table>\n<p>1000 rows × 18 columns</p>\n</div>"
     },
     "execution_count": 12,
     "metadata": {},
     "output_type": "execute_result"
    }
   ],
   "source": [
    "query = f'I have a patent abstract \"{sentences[0]}\". Among the following subcategories: {list(subsectors.keys())}, which would be the most appropriate to classify this patent?'"
   ],
   "metadata": {
    "collapsed": false,
    "ExecuteTime": {
     "end_time": "2023-11-03T21:06:20.978178700Z",
     "start_time": "2023-11-03T21:06:20.965786900Z"
    }
   },
   "id": "7de4a758ffdcea4e"
  },
  {
   "cell_type": "code",
   "execution_count": 16,
   "outputs": [
    {
     "data": {
      "text/plain": "Batches:   0%|          | 0/32 [00:00<?, ?it/s]",
      "application/vnd.jupyter.widget-view+json": {
       "version_major": 2,
       "version_minor": 0,
       "model_id": "7cf6f0cb94ae4490ba37db711fecedd5"
      }
     },
     "metadata": {},
     "output_type": "display_data"
    }
   ],
   "source": [
    "number_of_tokens = len(embedder.encode(query))\n",
    "\n",
    "print(number_of_tokens)"
   ],
   "metadata": {
    "collapsed": false,
    "ExecuteTime": {
     "end_time": "2023-11-03T21:09:33.759639Z",
     "start_time": "2023-11-03T21:08:43.988094300Z"
    }
   },
   "id": "3d39017e4dbee3dc"
  },
  {
   "cell_type": "code",
   "execution_count": 19,
   "outputs": [
    {
     "name": "stdout",
     "output_type": "stream",
     "text": [
      "Maximum tokens allowed: 512\n"
     ]
    }
   ],
   "source": [
    "num_tokens = len(embedder.tokenizer.tokenize(query))\n",
    "max_tokens = embedder.get_max_seq_length()\n",
    "\n",
    "print(f\"Number of tokens in query: {num_tokens}\")\n",
    "print(f\"Maximum tokens allowed: {max_tokens}\")"
   ],
   "metadata": {
    "collapsed": false,
    "ExecuteTime": {
     "end_time": "2023-11-03T21:11:05.516136600Z",
     "start_time": "2023-11-03T21:11:05.512594100Z"
    }
   },
   "id": "fabeb17d0de21e69"
  },
  {
   "cell_type": "code",
   "execution_count": 11,
   "outputs": [
    {
     "data": {
      "text/plain": "Batches:   0%|          | 0/1 [00:00<?, ?it/s]",
      "application/vnd.jupyter.widget-view+json": {
       "version_major": 2,
       "version_minor": 0,
       "model_id": "e4ad30f662444feaa44f8f7a370a718c"
      }
     },
     "metadata": {},
     "output_type": "display_data"
    }
   ],
   "source": [],
   "metadata": {
    "collapsed": false,
    "ExecuteTime": {
     "end_time": "2023-11-03T20:49:27.361612900Z",
     "start_time": "2023-11-03T20:49:27.064931300Z"
    }
   },
   "id": "614842c4b6313ff7"
  }
 ],
 "metadata": {
  "kernelspec": {
   "display_name": "Python 3",
   "language": "python",
   "name": "python3"
  },
  "language_info": {
   "codemirror_mode": {
    "name": "ipython",
    "version": 2
   },
   "file_extension": ".py",
   "mimetype": "text/x-python",
   "name": "python",
   "nbconvert_exporter": "python",
   "pygments_lexer": "ipython2",
   "version": "2.7.6"
  }
 },
 "nbformat": 4,
 "nbformat_minor": 5
}
