{
 "cells": [
  {
   "cell_type": "code",
   "execution_count": 1,
   "id": "initial_id",
   "metadata": {
    "collapsed": true,
    "ExecuteTime": {
     "end_time": "2023-11-09T23:21:05.748785600Z",
     "start_time": "2023-11-09T23:21:01.610153900Z"
    }
   },
   "outputs": [],
   "source": [
    "import os\n",
    "import pandas as pd\n",
    "from transformers import pipeline\n",
    "from sentence_transformers import SentenceTransformer, util\n",
    "from src.utils.UsefulPaths import Paths\n",
    "from src.utils.SpacyUtils import SpacyUtil\n",
    "import numpy as np\n",
    "pd.set_option('display.float_format', lambda x: '%.2f' % x)"
   ]
  },
  {
   "cell_type": "code",
   "execution_count": 2,
   "outputs": [],
   "source": [
    "paths = Paths()"
   ],
   "metadata": {
    "collapsed": false,
    "ExecuteTime": {
     "end_time": "2023-11-09T23:21:05.749803700Z",
     "start_time": "2023-11-09T23:21:05.747466800Z"
    }
   },
   "id": "1e4ab5477878cfda"
  },
  {
   "cell_type": "code",
   "execution_count": 3,
   "outputs": [],
   "source": [
    "df_subsectors = pd.read_csv(os.path.join(paths.data_processed, 'subsector.csv'))\n",
    "df_subsectors = df_subsectors.fillna('')\n",
    "\n",
    "df_subsectors = df_subsectors[:-1]"
   ],
   "metadata": {
    "collapsed": false,
    "ExecuteTime": {
     "end_time": "2023-11-09T23:21:05.755236200Z",
     "start_time": "2023-11-09T23:21:05.749803700Z"
    }
   },
   "id": "eff1cd34b41e93e5"
  },
  {
   "cell_type": "code",
   "execution_count": 4,
   "outputs": [
    {
     "data": {
      "text/plain": "                                          subsector  \\\n0   Artificial Intelligence; Big Data and Analytics   \n1               Advanced Manufacturing and Robotics   \n2                                  Clean Technology   \n3                              Financial Technology   \n4                                        Blockchain   \n5                                     Cybersecurity   \n6                            Agriculture Technology   \n7                                          New Food   \n8                            Advertising Technology   \n9                                      Blue Economy   \n10                                    Digital Media   \n11                                           Gaming   \n12               Augmented Reality; Virtual Reality   \n13                           Educational Technology   \n14                                     Industry 4.0   \n15                Biopharmaceutical; Biotechonology   \n16              Medical Technology; Medical devices   \n\n                                           definition  \\\n0   Artificial Intelligence companies offer produc...   \n1   In comparison to Traditional Manufacturing, Ad...   \n2   Cleantech or clean technology is an umbrella t...   \n3   Describes a business that aims at providing fi...   \n4   Companies that develop applications using bloc...   \n5   Cybersecurity is the body of technologies, pro...   \n6   Technologies to help the agriculture industry ...   \n7   New Food includes technologies that can be lev...   \n8   Advertising technology - different types of an...   \n9   Blue economy is the \"sustainable use of ocean ...   \n10  Digital media is any media that is encoded in ...   \n11  Development, marketing and monetization of vid...   \n12  Virtual reality (VR) is an artificial, compute...   \n13  Education Technology (also known as EdTech) re...   \n14  Industry 4.0 is revolutionizing the way compan...   \n15  Biopharma is the sub-sector that includes any ...   \n16  The Medtech sub-sector is primarily focused on...   \n\n                                             keywords  \\\n0   Automated intelligence, assisted intelligence,...   \n1    3d printing, industrial IoT, internet of thin...   \n2   Clean energy, and other forms of environmental...   \n3   Insurance Tech, Risk Management, Trading, Port...   \n4   Distributed ledgers, Digital Mining,Cryptocurr...   \n5   cyber security, network security, data securit...   \n6   agritech, crop optimization, farming automatio...   \n7   artificial meat, Alternative protein, Plant-ba...   \n8   Conversion/optimization, Email marketing, Mobi...   \n9   ocean sustainability, aquaculture, seafloor ma...   \n10  digitized information, marketing platform, lea...   \n11  gaming platform, video games, online games, ga...   \n12  Mixed Reality, 360 video, frame rate, metavers...   \n13  online education, educational platform, e-lear...   \n14  Internet of Things (IoT), Cloud computing, AI ...   \n15  DNA, Cloning, Genetically designed, Bioenginee...   \n16  medtech, healthcare devices, diagnostic equipm...   \n\n                                           old_name  \\\n0   Artificial Intelligence, Big Data and Analytics   \n1               Advanced Manufacturing and Robotics   \n2                                         Cleantech   \n3                                           Fintech   \n4                                        Blockchain   \n5                                     Cybersecurity   \n6                                            Agtech   \n7                                          New Food   \n8                                            Adtech   \n9                                      Blue Economy   \n10                                    Digital Media   \n11                                           Gaming   \n12                                          AR / VR   \n13                                           Edtech   \n14                                     Industry 4.0   \n15                              Biopharma / Biotech   \n16                        Medtech / Medical devices   \n\n                                         does_include  \\\n0                                                       \n1   Autonomous driving, Industrial robots, Industr...   \n2                                                       \n3                                                       \n4                                                       \n5   Application security, Information security, Ne...   \n6   Precision agriculture - PA is an approach to f...   \n7                                                       \n8                                                       \n9                                                       \n10  Content, Publishing, Blogs, Social Media, Mess...   \n11  PC Gaming, Console Gaming, Mobile Gaming, Smar...   \n12                                                      \n13                                                      \n14                                                      \n15  Biotechnology health care products and vaccine...   \n16                                                      \n\n                                     does_not_include  \\\n0                                                       \n1                  Traditional manufacturing machines   \n2                         oil and gas, petrochemicals   \n3   Brick & Mortar banks, Old brick and mortar Ins...   \n4                                                       \n5                                                       \n6        Farms, Vineyards, Coffee roasters, Beverages   \n7   alt- proteins based skincare products, cannabi...   \n8   Companies whose products and services are not ...   \n9                                                       \n10                                                      \n11                                                      \n12                                                      \n13                                                      \n14                                                      \n15                                                      \n16                                                      \n\n                              definition_preprocessed  \\\n0   artificial intelligence company offer product ...   \n1   in comparison to traditional manufacturing adv...   \n2   cleantech or clean technology be an umbrella t...   \n3   describe a business that aim at provide financ...   \n4   company that develop application use blockchai...   \n5   cybersecurity be the body of technology proces...   \n6   technology to help the agriculture industry to...   \n7   new food include technology that can be levera...   \n8   advertising technology different type of analy...   \n9   blue economy be the sustainable use of ocean r...   \n10  digital media be any medium that be encode in ...   \n11  development marketing and monetization of vide...   \n12  virtual reality vr be an artificial computer g...   \n13  education technology also know as edtech refer...   \n14  industry 4.0 be revolutionize the way company ...   \n15  biopharma be the sub sector that include any p...   \n16  the medtech sub sector be primarily focus on d...   \n\n                                keywords_preprocessed  \\\n0   automated intelligence assist intelligence aug...   \n1     3d printing industrial iot internet of thing...   \n2   clean energy and other form of environmental a...   \n3   insurance tech risk management trading portfol...   \n4   distribute ledger digital mining cryptocurrenc...   \n5   cyber security network security data security ...   \n6   agritech crop optimization farming automation ...   \n7   artificial meat alternative protein plant base...   \n8   conversion optimization email marketing mobile...   \n9   ocean sustainability aquaculture seafloor mapp...   \n10  digitize information marketing platform lead g...   \n11  gaming platform video game online game gaming ...   \n12  mixed reality 360 video frame rate metaverse v...   \n13  online education educational platform e learni...   \n14  internet of things iot cloud computing ai and ...   \n15  dna cloning genetically design bioengineering ...   \n16  medtech healthcare device diagnostic equipment...   \n\n                            does_include_preprocessed  \\\n0                                                       \n1   autonomous driving industrial robot industrial...   \n2                                                       \n3                                                       \n4                                                       \n5   application security information security netw...   \n6   precision agriculture pa be an approach to far...   \n7                                                       \n8                                                       \n9                                                       \n10  content publishing blogs social media messenge...   \n11  pc gaming console gaming mobile gaming smart g...   \n12                                                      \n13                                                      \n14                                                      \n15  biotechnology health care product and vaccine ...   \n16                                                      \n\n                        does_not_include_preprocessed  token_definition  \\\n0                                                                    73   \n1                   traditional manufacturing machine                29   \n2                           oil and gas petrochemical                67   \n3   brick mortar bank old brick and mortar insuran...                65   \n4                                                                    52   \n5                                                                    42   \n6            farms vineyards coffee roaster beverages                84   \n7   alt- protein base skincare product cannabis re...                63   \n8   company whose product and service be not focus...                50   \n9                                                                    53   \n10                                                                   43   \n11                                                                   11   \n12                                                                   47   \n13                                                                   55   \n14                                                                  130   \n15                                                                  123   \n16                                                                   45   \n\n    token_keywords  token_does_include  token_does_not_include  \n0               62                   0                       0  \n1               21                  27                       3  \n2               30                   0                       4  \n3               21                   0                       9  \n4               26                   0                       0  \n5               15                  17                       0  \n6                9                  62                       5  \n7               52                   0                      27  \n8               38                   0                      54  \n9               27                   0                       0  \n10              15                  19                       0  \n11              10                  12                       0  \n12              15                   0                       0  \n13              16                   0                       0  \n14              27                   0                       0  \n15               9                   9                       0  \n16               9                   0                       0  ",
      "text/html": "<div>\n<style scoped>\n    .dataframe tbody tr th:only-of-type {\n        vertical-align: middle;\n    }\n\n    .dataframe tbody tr th {\n        vertical-align: top;\n    }\n\n    .dataframe thead th {\n        text-align: right;\n    }\n</style>\n<table border=\"1\" class=\"dataframe\">\n  <thead>\n    <tr style=\"text-align: right;\">\n      <th></th>\n      <th>subsector</th>\n      <th>definition</th>\n      <th>keywords</th>\n      <th>old_name</th>\n      <th>does_include</th>\n      <th>does_not_include</th>\n      <th>definition_preprocessed</th>\n      <th>keywords_preprocessed</th>\n      <th>does_include_preprocessed</th>\n      <th>does_not_include_preprocessed</th>\n      <th>token_definition</th>\n      <th>token_keywords</th>\n      <th>token_does_include</th>\n      <th>token_does_not_include</th>\n    </tr>\n  </thead>\n  <tbody>\n    <tr>\n      <th>0</th>\n      <td>Artificial Intelligence; Big Data and Analytics</td>\n      <td>Artificial Intelligence companies offer produc...</td>\n      <td>Automated intelligence, assisted intelligence,...</td>\n      <td>Artificial Intelligence, Big Data and Analytics</td>\n      <td></td>\n      <td></td>\n      <td>artificial intelligence company offer product ...</td>\n      <td>automated intelligence assist intelligence aug...</td>\n      <td></td>\n      <td></td>\n      <td>73</td>\n      <td>62</td>\n      <td>0</td>\n      <td>0</td>\n    </tr>\n    <tr>\n      <th>1</th>\n      <td>Advanced Manufacturing and Robotics</td>\n      <td>In comparison to Traditional Manufacturing, Ad...</td>\n      <td>3d printing, industrial IoT, internet of thin...</td>\n      <td>Advanced Manufacturing and Robotics</td>\n      <td>Autonomous driving, Industrial robots, Industr...</td>\n      <td>Traditional manufacturing machines</td>\n      <td>in comparison to traditional manufacturing adv...</td>\n      <td>3d printing industrial iot internet of thing...</td>\n      <td>autonomous driving industrial robot industrial...</td>\n      <td>traditional manufacturing machine</td>\n      <td>29</td>\n      <td>21</td>\n      <td>27</td>\n      <td>3</td>\n    </tr>\n    <tr>\n      <th>2</th>\n      <td>Clean Technology</td>\n      <td>Cleantech or clean technology is an umbrella t...</td>\n      <td>Clean energy, and other forms of environmental...</td>\n      <td>Cleantech</td>\n      <td></td>\n      <td>oil and gas, petrochemicals</td>\n      <td>cleantech or clean technology be an umbrella t...</td>\n      <td>clean energy and other form of environmental a...</td>\n      <td></td>\n      <td>oil and gas petrochemical</td>\n      <td>67</td>\n      <td>30</td>\n      <td>0</td>\n      <td>4</td>\n    </tr>\n    <tr>\n      <th>3</th>\n      <td>Financial Technology</td>\n      <td>Describes a business that aims at providing fi...</td>\n      <td>Insurance Tech, Risk Management, Trading, Port...</td>\n      <td>Fintech</td>\n      <td></td>\n      <td>Brick &amp; Mortar banks, Old brick and mortar Ins...</td>\n      <td>describe a business that aim at provide financ...</td>\n      <td>insurance tech risk management trading portfol...</td>\n      <td></td>\n      <td>brick mortar bank old brick and mortar insuran...</td>\n      <td>65</td>\n      <td>21</td>\n      <td>0</td>\n      <td>9</td>\n    </tr>\n    <tr>\n      <th>4</th>\n      <td>Blockchain</td>\n      <td>Companies that develop applications using bloc...</td>\n      <td>Distributed ledgers, Digital Mining,Cryptocurr...</td>\n      <td>Blockchain</td>\n      <td></td>\n      <td></td>\n      <td>company that develop application use blockchai...</td>\n      <td>distribute ledger digital mining cryptocurrenc...</td>\n      <td></td>\n      <td></td>\n      <td>52</td>\n      <td>26</td>\n      <td>0</td>\n      <td>0</td>\n    </tr>\n    <tr>\n      <th>5</th>\n      <td>Cybersecurity</td>\n      <td>Cybersecurity is the body of technologies, pro...</td>\n      <td>cyber security, network security, data securit...</td>\n      <td>Cybersecurity</td>\n      <td>Application security, Information security, Ne...</td>\n      <td></td>\n      <td>cybersecurity be the body of technology proces...</td>\n      <td>cyber security network security data security ...</td>\n      <td>application security information security netw...</td>\n      <td></td>\n      <td>42</td>\n      <td>15</td>\n      <td>17</td>\n      <td>0</td>\n    </tr>\n    <tr>\n      <th>6</th>\n      <td>Agriculture Technology</td>\n      <td>Technologies to help the agriculture industry ...</td>\n      <td>agritech, crop optimization, farming automatio...</td>\n      <td>Agtech</td>\n      <td>Precision agriculture - PA is an approach to f...</td>\n      <td>Farms, Vineyards, Coffee roasters, Beverages</td>\n      <td>technology to help the agriculture industry to...</td>\n      <td>agritech crop optimization farming automation ...</td>\n      <td>precision agriculture pa be an approach to far...</td>\n      <td>farms vineyards coffee roaster beverages</td>\n      <td>84</td>\n      <td>9</td>\n      <td>62</td>\n      <td>5</td>\n    </tr>\n    <tr>\n      <th>7</th>\n      <td>New Food</td>\n      <td>New Food includes technologies that can be lev...</td>\n      <td>artificial meat, Alternative protein, Plant-ba...</td>\n      <td>New Food</td>\n      <td></td>\n      <td>alt- proteins based skincare products, cannabi...</td>\n      <td>new food include technology that can be levera...</td>\n      <td>artificial meat alternative protein plant base...</td>\n      <td></td>\n      <td>alt- protein base skincare product cannabis re...</td>\n      <td>63</td>\n      <td>52</td>\n      <td>0</td>\n      <td>27</td>\n    </tr>\n    <tr>\n      <th>8</th>\n      <td>Advertising Technology</td>\n      <td>Advertising technology - different types of an...</td>\n      <td>Conversion/optimization, Email marketing, Mobi...</td>\n      <td>Adtech</td>\n      <td></td>\n      <td>Companies whose products and services are not ...</td>\n      <td>advertising technology different type of analy...</td>\n      <td>conversion optimization email marketing mobile...</td>\n      <td></td>\n      <td>company whose product and service be not focus...</td>\n      <td>50</td>\n      <td>38</td>\n      <td>0</td>\n      <td>54</td>\n    </tr>\n    <tr>\n      <th>9</th>\n      <td>Blue Economy</td>\n      <td>Blue economy is the \"sustainable use of ocean ...</td>\n      <td>ocean sustainability, aquaculture, seafloor ma...</td>\n      <td>Blue Economy</td>\n      <td></td>\n      <td></td>\n      <td>blue economy be the sustainable use of ocean r...</td>\n      <td>ocean sustainability aquaculture seafloor mapp...</td>\n      <td></td>\n      <td></td>\n      <td>53</td>\n      <td>27</td>\n      <td>0</td>\n      <td>0</td>\n    </tr>\n    <tr>\n      <th>10</th>\n      <td>Digital Media</td>\n      <td>Digital media is any media that is encoded in ...</td>\n      <td>digitized information, marketing platform, lea...</td>\n      <td>Digital Media</td>\n      <td>Content, Publishing, Blogs, Social Media, Mess...</td>\n      <td></td>\n      <td>digital media be any medium that be encode in ...</td>\n      <td>digitize information marketing platform lead g...</td>\n      <td>content publishing blogs social media messenge...</td>\n      <td></td>\n      <td>43</td>\n      <td>15</td>\n      <td>19</td>\n      <td>0</td>\n    </tr>\n    <tr>\n      <th>11</th>\n      <td>Gaming</td>\n      <td>Development, marketing and monetization of vid...</td>\n      <td>gaming platform, video games, online games, ga...</td>\n      <td>Gaming</td>\n      <td>PC Gaming, Console Gaming, Mobile Gaming, Smar...</td>\n      <td></td>\n      <td>development marketing and monetization of vide...</td>\n      <td>gaming platform video game online game gaming ...</td>\n      <td>pc gaming console gaming mobile gaming smart g...</td>\n      <td></td>\n      <td>11</td>\n      <td>10</td>\n      <td>12</td>\n      <td>0</td>\n    </tr>\n    <tr>\n      <th>12</th>\n      <td>Augmented Reality; Virtual Reality</td>\n      <td>Virtual reality (VR) is an artificial, compute...</td>\n      <td>Mixed Reality, 360 video, frame rate, metavers...</td>\n      <td>AR / VR</td>\n      <td></td>\n      <td></td>\n      <td>virtual reality vr be an artificial computer g...</td>\n      <td>mixed reality 360 video frame rate metaverse v...</td>\n      <td></td>\n      <td></td>\n      <td>47</td>\n      <td>15</td>\n      <td>0</td>\n      <td>0</td>\n    </tr>\n    <tr>\n      <th>13</th>\n      <td>Educational Technology</td>\n      <td>Education Technology (also known as EdTech) re...</td>\n      <td>online education, educational platform, e-lear...</td>\n      <td>Edtech</td>\n      <td></td>\n      <td></td>\n      <td>education technology also know as edtech refer...</td>\n      <td>online education educational platform e learni...</td>\n      <td></td>\n      <td></td>\n      <td>55</td>\n      <td>16</td>\n      <td>0</td>\n      <td>0</td>\n    </tr>\n    <tr>\n      <th>14</th>\n      <td>Industry 4.0</td>\n      <td>Industry 4.0 is revolutionizing the way compan...</td>\n      <td>Internet of Things (IoT), Cloud computing, AI ...</td>\n      <td>Industry 4.0</td>\n      <td></td>\n      <td></td>\n      <td>industry 4.0 be revolutionize the way company ...</td>\n      <td>internet of things iot cloud computing ai and ...</td>\n      <td></td>\n      <td></td>\n      <td>130</td>\n      <td>27</td>\n      <td>0</td>\n      <td>0</td>\n    </tr>\n    <tr>\n      <th>15</th>\n      <td>Biopharmaceutical; Biotechonology</td>\n      <td>Biopharma is the sub-sector that includes any ...</td>\n      <td>DNA, Cloning, Genetically designed, Bioenginee...</td>\n      <td>Biopharma / Biotech</td>\n      <td>Biotechnology health care products and vaccine...</td>\n      <td></td>\n      <td>biopharma be the sub sector that include any p...</td>\n      <td>dna cloning genetically design bioengineering ...</td>\n      <td>biotechnology health care product and vaccine ...</td>\n      <td></td>\n      <td>123</td>\n      <td>9</td>\n      <td>9</td>\n      <td>0</td>\n    </tr>\n    <tr>\n      <th>16</th>\n      <td>Medical Technology; Medical devices</td>\n      <td>The Medtech sub-sector is primarily focused on...</td>\n      <td>medtech, healthcare devices, diagnostic equipm...</td>\n      <td>Medtech / Medical devices</td>\n      <td></td>\n      <td></td>\n      <td>the medtech sub sector be primarily focus on d...</td>\n      <td>medtech healthcare device diagnostic equipment...</td>\n      <td></td>\n      <td></td>\n      <td>45</td>\n      <td>9</td>\n      <td>0</td>\n      <td>0</td>\n    </tr>\n  </tbody>\n</table>\n</div>"
     },
     "execution_count": 4,
     "metadata": {},
     "output_type": "execute_result"
    }
   ],
   "source": [
    "df_subsectors"
   ],
   "metadata": {
    "collapsed": false,
    "ExecuteTime": {
     "end_time": "2023-11-09T23:21:05.769882700Z",
     "start_time": "2023-11-09T23:21:05.755236200Z"
    }
   },
   "id": "e2c017a29f478413"
  },
  {
   "cell_type": "code",
   "execution_count": 5,
   "outputs": [
    {
     "data": {
      "text/plain": "'Artificial Intelligence, Big Data and AnalyticsAdvanced Manufacturing and RoboticsClean TechnologyFinancial TechnologyBlockchainCybersecurityAgriculture TechnologyNew FoodAdvertising TechnologyBlue EconomyDigital MediaGamingAugmented Reality, Virtual RealityEducational TechnologyIndustry 4.0Biopharmaceutical, BiotechonologyMedical Technology, Medical devices'"
     },
     "execution_count": 5,
     "metadata": {},
     "output_type": "execute_result"
    }
   ],
   "source": [
    "all_subsectors_names = df_subsectors['subsector'].tolist()\n",
    "all_subsectors_names = ''.join(all_subsectors_names)\n",
    "all_subsectors_names = all_subsectors_names.replace(';', ',')\n",
    "all_subsectors_names"
   ],
   "metadata": {
    "collapsed": false,
    "ExecuteTime": {
     "end_time": "2023-11-09T23:21:05.770391700Z",
     "start_time": "2023-11-09T23:21:05.766084200Z"
    }
   },
   "id": "f9771db2f75f4527"
  },
  {
   "cell_type": "markdown",
   "source": [],
   "metadata": {
    "collapsed": false
   },
   "id": "ecfc2f4ae6db2032"
  },
  {
   "cell_type": "code",
   "execution_count": 6,
   "outputs": [],
   "source": [
    "df_abstract_patents = pd.read_csv(os.path.join(paths.data_processed, 'abstract_patents_sliced_15000.csv'))"
   ],
   "metadata": {
    "collapsed": false,
    "ExecuteTime": {
     "end_time": "2023-11-09T23:21:05.964152400Z",
     "start_time": "2023-11-09T23:21:05.770391700Z"
    }
   },
   "id": "b32c6161a59f74f8"
  },
  {
   "cell_type": "code",
   "execution_count": 7,
   "outputs": [
    {
     "data": {
      "text/plain": "                                            abstract  \\\n0  A method, and a mobile device adapted thereto,...   \n1  A dumbbell with a selectable number of weight ...   \n2  A virtual assistant AI system that may be conn...   \n3  Connector assemblies that are separate from me...   \n4  An LED tube lamp, comprising a lamp tube, whic...   \n5  A packaged semiconductor device includes an in...   \n\n                                   sentence_abstract  \\\n0  method mobile device adapt thereto verify user...   \n1  dumbbell selectable number weight disk include...   \n2  virtual assistant ai system connect wide varie...   \n3  connector assembly separate medical lead exten...   \n4  led tube lamp comprise lamp tube include light...   \n5  packaged semiconductor device include insulati...   \n\n                                   sentence_keywords  \n0  user, input, instruction, method, mobile, devi...  \n1  weight, disk, handle, connect, arrangement, se...  \n2  account, change, virtual, assistant, user, sys...  \n3  lead, connector, extension, assembly, include,...  \n4  light, portion, lead, include, reinforce, conn...  \n5  circuit, communication, material, semiconducto...  ",
      "text/html": "<div>\n<style scoped>\n    .dataframe tbody tr th:only-of-type {\n        vertical-align: middle;\n    }\n\n    .dataframe tbody tr th {\n        vertical-align: top;\n    }\n\n    .dataframe thead th {\n        text-align: right;\n    }\n</style>\n<table border=\"1\" class=\"dataframe\">\n  <thead>\n    <tr style=\"text-align: right;\">\n      <th></th>\n      <th>abstract</th>\n      <th>sentence_abstract</th>\n      <th>sentence_keywords</th>\n    </tr>\n  </thead>\n  <tbody>\n    <tr>\n      <th>0</th>\n      <td>A method, and a mobile device adapted thereto,...</td>\n      <td>method mobile device adapt thereto verify user...</td>\n      <td>user, input, instruction, method, mobile, devi...</td>\n    </tr>\n    <tr>\n      <th>1</th>\n      <td>A dumbbell with a selectable number of weight ...</td>\n      <td>dumbbell selectable number weight disk include...</td>\n      <td>weight, disk, handle, connect, arrangement, se...</td>\n    </tr>\n    <tr>\n      <th>2</th>\n      <td>A virtual assistant AI system that may be conn...</td>\n      <td>virtual assistant ai system connect wide varie...</td>\n      <td>account, change, virtual, assistant, user, sys...</td>\n    </tr>\n    <tr>\n      <th>3</th>\n      <td>Connector assemblies that are separate from me...</td>\n      <td>connector assembly separate medical lead exten...</td>\n      <td>lead, connector, extension, assembly, include,...</td>\n    </tr>\n    <tr>\n      <th>4</th>\n      <td>An LED tube lamp, comprising a lamp tube, whic...</td>\n      <td>led tube lamp comprise lamp tube include light...</td>\n      <td>light, portion, lead, include, reinforce, conn...</td>\n    </tr>\n    <tr>\n      <th>5</th>\n      <td>A packaged semiconductor device includes an in...</td>\n      <td>packaged semiconductor device include insulati...</td>\n      <td>circuit, communication, material, semiconducto...</td>\n    </tr>\n  </tbody>\n</table>\n</div>"
     },
     "execution_count": 7,
     "metadata": {},
     "output_type": "execute_result"
    }
   ],
   "source": [
    "slice_number = 5\n",
    "df_sliced = df_abstract_patents.loc[:slice_number, ['abstract']].copy()\n",
    "\n",
    "spacy_util = SpacyUtil(model='en_core_web_sm', lemma=True, remove_stopwords=True, lower=True, remove_numbers=False)\n",
    "\n",
    "df_sliced['sentence_abstract'] = df_sliced['abstract'].apply(spacy_util.preprocess_text)\n",
    "# df_sliced['sentence_abstract'] = 'What subsector definition best describe this patent abstract \"' + df_sliced['sentence_abstract'] + '\"'\n",
    "\n",
    "df_sliced['sentence_keywords'] = df_sliced['abstract'].apply(lambda text: spacy_util.extract_keywords(text=text, max_keywords=100, use_noun=True, use_adj=True, use_verb=True))\n",
    "# df_sliced['sentence_keywords'] = 'This keywords  \"' + df_sliced['sentence_keywords'] + '\" describe which of these types of subsectors \"' + all_subsectors_names + '\"'\n",
    "\n",
    "df_sliced"
   ],
   "metadata": {
    "collapsed": false,
    "ExecuteTime": {
     "end_time": "2023-11-09T23:21:06.357625800Z",
     "start_time": "2023-11-09T23:21:05.966152200Z"
    }
   },
   "id": "edd8c2eb34bf4143"
  },
  {
   "cell_type": "code",
   "execution_count": 8,
   "outputs": [
    {
     "name": "stderr",
     "output_type": "stream",
     "text": [
      "2023-11-09 20:21:06,354 - INFO - Load pretrained SentenceTransformer: all-mpnet-base-v2\n",
      "2023-11-09 20:21:09,126 - INFO - Use pytorch device: cpu\n"
     ]
    }
   ],
   "source": [
    "# all-mpnet-base-v2\n",
    "# msmarco-distilbert-dot-v5\n",
    "# distilbert-base-uncased\n",
    "# all-MiniLM-L6-v2\n",
    "# all-MiniLM-L12-v2\n",
    "# microsoft/mpnet-base\n",
    "embedder = SentenceTransformer('all-mpnet-base-v2')"
   ],
   "metadata": {
    "collapsed": false,
    "ExecuteTime": {
     "end_time": "2023-11-09T23:21:09.131531Z",
     "start_time": "2023-11-09T23:21:06.354636100Z"
    }
   },
   "id": "ca9ff7775d4538af"
  },
  {
   "cell_type": "code",
   "execution_count": 9,
   "outputs": [
    {
     "name": "stdout",
     "output_type": "stream",
     "text": [
      "Maximum tokens allowed: 384\n"
     ]
    }
   ],
   "source": [
    "max_tokens = embedder.get_max_seq_length()\n",
    "print(f\"Maximum tokens allowed: {max_tokens}\")"
   ],
   "metadata": {
    "collapsed": false,
    "ExecuteTime": {
     "end_time": "2023-11-09T23:21:09.131531Z",
     "start_time": "2023-11-09T23:21:09.128498300Z"
    }
   },
   "id": "1653a7129172b072"
  },
  {
   "cell_type": "code",
   "execution_count": 10,
   "outputs": [],
   "source": [
    "def get_corpus_id_from_element(semantic_list, i):\n",
    "    return semantic_list[i].get('corpus_id')"
   ],
   "metadata": {
    "collapsed": false,
    "ExecuteTime": {
     "end_time": "2023-11-09T23:21:09.136275800Z",
     "start_time": "2023-11-09T23:21:09.132531100Z"
    }
   },
   "id": "10ed297b81a8f89d"
  },
  {
   "cell_type": "code",
   "execution_count": 11,
   "outputs": [],
   "source": [
    "df_semantic_results = pd.DataFrame({'abstract': df_sliced.abstract})"
   ],
   "metadata": {
    "collapsed": false,
    "ExecuteTime": {
     "end_time": "2023-11-09T23:21:09.139787600Z",
     "start_time": "2023-11-09T23:21:09.135056Z"
    }
   },
   "id": "8bd190121bf27c5c"
  },
  {
   "cell_type": "code",
   "execution_count": 12,
   "outputs": [
    {
     "data": {
      "text/plain": "Batches:   0%|          | 0/1 [00:00<?, ?it/s]",
      "application/vnd.jupyter.widget-view+json": {
       "version_major": 2,
       "version_minor": 0,
       "model_id": "7dd35a77c35a4129818699aaddeb3a84"
      }
     },
     "metadata": {},
     "output_type": "display_data"
    },
    {
     "data": {
      "text/plain": "Batches:   0%|          | 0/1 [00:00<?, ?it/s]",
      "application/vnd.jupyter.widget-view+json": {
       "version_major": 2,
       "version_minor": 0,
       "model_id": "3b33e7f5499947a9b71fe3f6113ff9a2"
      }
     },
     "metadata": {},
     "output_type": "display_data"
    },
    {
     "data": {
      "text/plain": "                             definition_preprocessed  \\\n0  [{'corpus_id': 4, 'score': 0.3175324499607086}...   \n1  [{'corpus_id': 16, 'score': 0.1903858929872512...   \n2  [{'corpus_id': 0, 'score': 0.5081636905670166}...   \n3  [{'corpus_id': 16, 'score': 0.3097402155399322...   \n4  [{'corpus_id': 13, 'score': 0.2711642384529114...   \n5  [{'corpus_id': 1, 'score': 0.3054541349411011}...   \n\n                                      definition_1  \\\n0                                       Blockchain   \n1              Medical Technology; Medical devices   \n2  Artificial Intelligence; Big Data and Analytics   \n3              Medical Technology; Medical devices   \n4                           Educational Technology   \n5              Advanced Manufacturing and Robotics   \n\n                          definition_2  \n0                        Digital Media  \n1                           Blockchain  \n2                         Industry 4.0  \n3  Advanced Manufacturing and Robotics  \n4                           Blockchain  \n5                        Digital Media  ",
      "text/html": "<div>\n<style scoped>\n    .dataframe tbody tr th:only-of-type {\n        vertical-align: middle;\n    }\n\n    .dataframe tbody tr th {\n        vertical-align: top;\n    }\n\n    .dataframe thead th {\n        text-align: right;\n    }\n</style>\n<table border=\"1\" class=\"dataframe\">\n  <thead>\n    <tr style=\"text-align: right;\">\n      <th></th>\n      <th>definition_preprocessed</th>\n      <th>definition_1</th>\n      <th>definition_2</th>\n    </tr>\n  </thead>\n  <tbody>\n    <tr>\n      <th>0</th>\n      <td>[{'corpus_id': 4, 'score': 0.3175324499607086}...</td>\n      <td>Blockchain</td>\n      <td>Digital Media</td>\n    </tr>\n    <tr>\n      <th>1</th>\n      <td>[{'corpus_id': 16, 'score': 0.1903858929872512...</td>\n      <td>Medical Technology; Medical devices</td>\n      <td>Blockchain</td>\n    </tr>\n    <tr>\n      <th>2</th>\n      <td>[{'corpus_id': 0, 'score': 0.5081636905670166}...</td>\n      <td>Artificial Intelligence; Big Data and Analytics</td>\n      <td>Industry 4.0</td>\n    </tr>\n    <tr>\n      <th>3</th>\n      <td>[{'corpus_id': 16, 'score': 0.3097402155399322...</td>\n      <td>Medical Technology; Medical devices</td>\n      <td>Advanced Manufacturing and Robotics</td>\n    </tr>\n    <tr>\n      <th>4</th>\n      <td>[{'corpus_id': 13, 'score': 0.2711642384529114...</td>\n      <td>Educational Technology</td>\n      <td>Blockchain</td>\n    </tr>\n    <tr>\n      <th>5</th>\n      <td>[{'corpus_id': 1, 'score': 0.3054541349411011}...</td>\n      <td>Advanced Manufacturing and Robotics</td>\n      <td>Digital Media</td>\n    </tr>\n  </tbody>\n</table>\n</div>"
     },
     "execution_count": 12,
     "metadata": {},
     "output_type": "execute_result"
    }
   ],
   "source": [
    "# Definition semantic search\n",
    "sentences = list(df_sliced.sentence_abstract)\n",
    "sentences_embeddings = embedder.encode(sentences, normalize_embeddings=True)\n",
    "\n",
    "corpus = list(df_subsectors['definition_preprocessed'])\n",
    "corpus_embeddings = embedder.encode(corpus, normalize_embeddings=True)\n",
    "\n",
    "# Because using normalized vectors, dot_score is a better function instead of cos_sim\n",
    "df = pd.DataFrame({'definition_preprocessed': util.semantic_search(sentences_embeddings, corpus_embeddings, top_k=2, score_function=util.dot_score)})\n",
    "    \n",
    "df['highest_0'] = df['definition_preprocessed'].apply(lambda x: get_corpus_id_from_element(x, 0))\n",
    "df['highest_1'] = df['definition_preprocessed'].apply(lambda x: get_corpus_id_from_element(x, 1))\n",
    "    \n",
    "corpus_id_to_subsector = pd.Series(df_subsectors.subsector.values, index=df_subsectors.index).to_dict()\n",
    "    \n",
    "df[f'definition_1'] = df['highest_0'].map(corpus_id_to_subsector)\n",
    "df[f'definition_2'] = df['highest_1'].map(corpus_id_to_subsector)\n",
    "    \n",
    "df = df.drop(['highest_0', 'highest_1'], axis=1)\n",
    "    \n",
    "df_semantic_results = pd.concat([df_semantic_results, df], axis=1)\n",
    "\n",
    "df"
   ],
   "metadata": {
    "collapsed": false,
    "ExecuteTime": {
     "end_time": "2023-11-09T23:21:10.289199100Z",
     "start_time": "2023-11-09T23:21:09.138785200Z"
    }
   },
   "id": "89d4e6a010babb78"
  },
  {
   "cell_type": "code",
   "execution_count": 13,
   "outputs": [
    {
     "data": {
      "text/plain": "Batches:   0%|          | 0/1 [00:00<?, ?it/s]",
      "application/vnd.jupyter.widget-view+json": {
       "version_major": 2,
       "version_minor": 0,
       "model_id": "09129a04be884e478c5901b859592a9f"
      }
     },
     "metadata": {},
     "output_type": "display_data"
    },
    {
     "data": {
      "text/plain": "Batches:   0%|          | 0/1 [00:00<?, ?it/s]",
      "application/vnd.jupyter.widget-view+json": {
       "version_major": 2,
       "version_minor": 0,
       "model_id": "19829017db16479abc7fe515e84c135c"
      }
     },
     "metadata": {},
     "output_type": "display_data"
    },
    {
     "data": {
      "text/plain": "                               keywords_preprocessed  \\\n0  [{'corpus_id': 0, 'score': 0.4092501997947693}...   \n1  [{'corpus_id': 7, 'score': 0.3395450711250305}...   \n2  [{'corpus_id': 0, 'score': 0.3899620771408081}...   \n3  [{'corpus_id': 7, 'score': 0.39835429191589355...   \n4  [{'corpus_id': 7, 'score': 0.33039551973342896...   \n5  [{'corpus_id': 7, 'score': 0.34602975845336914...   \n\n                                        keywords_1  \\\n0  Artificial Intelligence; Big Data and Analytics   \n1                                         New Food   \n2  Artificial Intelligence; Big Data and Analytics   \n3                                         New Food   \n4                                         New Food   \n5                                         New Food   \n\n                                        keywords_2  \n0                                    Cybersecurity  \n1  Artificial Intelligence; Big Data and Analytics  \n2                                         New Food  \n3              Medical Technology; Medical devices  \n4              Medical Technology; Medical devices  \n5              Advanced Manufacturing and Robotics  ",
      "text/html": "<div>\n<style scoped>\n    .dataframe tbody tr th:only-of-type {\n        vertical-align: middle;\n    }\n\n    .dataframe tbody tr th {\n        vertical-align: top;\n    }\n\n    .dataframe thead th {\n        text-align: right;\n    }\n</style>\n<table border=\"1\" class=\"dataframe\">\n  <thead>\n    <tr style=\"text-align: right;\">\n      <th></th>\n      <th>keywords_preprocessed</th>\n      <th>keywords_1</th>\n      <th>keywords_2</th>\n    </tr>\n  </thead>\n  <tbody>\n    <tr>\n      <th>0</th>\n      <td>[{'corpus_id': 0, 'score': 0.4092501997947693}...</td>\n      <td>Artificial Intelligence; Big Data and Analytics</td>\n      <td>Cybersecurity</td>\n    </tr>\n    <tr>\n      <th>1</th>\n      <td>[{'corpus_id': 7, 'score': 0.3395450711250305}...</td>\n      <td>New Food</td>\n      <td>Artificial Intelligence; Big Data and Analytics</td>\n    </tr>\n    <tr>\n      <th>2</th>\n      <td>[{'corpus_id': 0, 'score': 0.3899620771408081}...</td>\n      <td>Artificial Intelligence; Big Data and Analytics</td>\n      <td>New Food</td>\n    </tr>\n    <tr>\n      <th>3</th>\n      <td>[{'corpus_id': 7, 'score': 0.39835429191589355...</td>\n      <td>New Food</td>\n      <td>Medical Technology; Medical devices</td>\n    </tr>\n    <tr>\n      <th>4</th>\n      <td>[{'corpus_id': 7, 'score': 0.33039551973342896...</td>\n      <td>New Food</td>\n      <td>Medical Technology; Medical devices</td>\n    </tr>\n    <tr>\n      <th>5</th>\n      <td>[{'corpus_id': 7, 'score': 0.34602975845336914...</td>\n      <td>New Food</td>\n      <td>Advanced Manufacturing and Robotics</td>\n    </tr>\n  </tbody>\n</table>\n</div>"
     },
     "execution_count": 13,
     "metadata": {},
     "output_type": "execute_result"
    }
   ],
   "source": [
    "# Keywords semantic search\n",
    "sentences = list(df_sliced.sentence_keywords)\n",
    "sentences_embeddings = embedder.encode(sentences, normalize_embeddings=True)\n",
    "\n",
    "corpus = list(df_subsectors['keywords_preprocessed'])\n",
    "corpus_embeddings = embedder.encode(corpus, normalize_embeddings=True)\n",
    "\n",
    "# Because using normalized vectors, dot_score is a better function instead of cos_sim\n",
    "df = pd.DataFrame({'keywords_preprocessed': util.semantic_search(sentences_embeddings, corpus_embeddings, top_k=2, score_function=util.dot_score)})\n",
    "    \n",
    "df['highest_0'] = df['keywords_preprocessed'].apply(lambda x: get_corpus_id_from_element(x, 0))\n",
    "df['highest_1'] = df['keywords_preprocessed'].apply(lambda x: get_corpus_id_from_element(x, 1))\n",
    "    \n",
    "corpus_id_to_subsector = pd.Series(df_subsectors.subsector.values, index=df_subsectors.index).to_dict()\n",
    "    \n",
    "df[f'keywords_1'] = df['highest_0'].map(corpus_id_to_subsector)\n",
    "df[f'keywords_2'] = df['highest_1'].map(corpus_id_to_subsector)\n",
    "    \n",
    "df = df.drop(['highest_0', 'highest_1'], axis=1)\n",
    "    \n",
    "df_semantic_results = pd.concat([df_semantic_results, df], axis=1)\n",
    "\n",
    "df"
   ],
   "metadata": {
    "collapsed": false,
    "ExecuteTime": {
     "end_time": "2023-11-09T23:21:10.791682400Z",
     "start_time": "2023-11-09T23:21:10.287201300Z"
    }
   },
   "id": "9c8078a8dc425f67"
  },
  {
   "cell_type": "code",
   "execution_count": 13,
   "outputs": [],
   "source": [],
   "metadata": {
    "collapsed": false,
    "ExecuteTime": {
     "end_time": "2023-11-09T23:21:10.792683200Z",
     "start_time": "2023-11-09T23:21:10.789173700Z"
    }
   },
   "id": "1dba935494174071"
  },
  {
   "cell_type": "code",
   "execution_count": 14,
   "outputs": [
    {
     "data": {
      "text/plain": "                                            abstract  \\\n0  A method, and a mobile device adapted thereto,...   \n1  A dumbbell with a selectable number of weight ...   \n2  A virtual assistant AI system that may be conn...   \n3  Connector assemblies that are separate from me...   \n4  An LED tube lamp, comprising a lamp tube, whic...   \n5  A packaged semiconductor device includes an in...   \n\n                             definition_preprocessed  \\\n0  [{'corpus_id': 4, 'score': 0.3175324499607086}...   \n1  [{'corpus_id': 16, 'score': 0.1903858929872512...   \n2  [{'corpus_id': 0, 'score': 0.5081636905670166}...   \n3  [{'corpus_id': 16, 'score': 0.3097402155399322...   \n4  [{'corpus_id': 13, 'score': 0.2711642384529114...   \n5  [{'corpus_id': 1, 'score': 0.3054541349411011}...   \n\n                                      definition_1  \\\n0                                       Blockchain   \n1              Medical Technology; Medical devices   \n2  Artificial Intelligence; Big Data and Analytics   \n3              Medical Technology; Medical devices   \n4                           Educational Technology   \n5              Advanced Manufacturing and Robotics   \n\n                          definition_2  \\\n0                        Digital Media   \n1                           Blockchain   \n2                         Industry 4.0   \n3  Advanced Manufacturing and Robotics   \n4                           Blockchain   \n5                        Digital Media   \n\n                               keywords_preprocessed  \\\n0  [{'corpus_id': 0, 'score': 0.4092501997947693}...   \n1  [{'corpus_id': 7, 'score': 0.3395450711250305}...   \n2  [{'corpus_id': 0, 'score': 0.3899620771408081}...   \n3  [{'corpus_id': 7, 'score': 0.39835429191589355...   \n4  [{'corpus_id': 7, 'score': 0.33039551973342896...   \n5  [{'corpus_id': 7, 'score': 0.34602975845336914...   \n\n                                        keywords_1  \\\n0  Artificial Intelligence; Big Data and Analytics   \n1                                         New Food   \n2  Artificial Intelligence; Big Data and Analytics   \n3                                         New Food   \n4                                         New Food   \n5                                         New Food   \n\n                                        keywords_2  \n0                                    Cybersecurity  \n1  Artificial Intelligence; Big Data and Analytics  \n2                                         New Food  \n3              Medical Technology; Medical devices  \n4              Medical Technology; Medical devices  \n5              Advanced Manufacturing and Robotics  ",
      "text/html": "<div>\n<style scoped>\n    .dataframe tbody tr th:only-of-type {\n        vertical-align: middle;\n    }\n\n    .dataframe tbody tr th {\n        vertical-align: top;\n    }\n\n    .dataframe thead th {\n        text-align: right;\n    }\n</style>\n<table border=\"1\" class=\"dataframe\">\n  <thead>\n    <tr style=\"text-align: right;\">\n      <th></th>\n      <th>abstract</th>\n      <th>definition_preprocessed</th>\n      <th>definition_1</th>\n      <th>definition_2</th>\n      <th>keywords_preprocessed</th>\n      <th>keywords_1</th>\n      <th>keywords_2</th>\n    </tr>\n  </thead>\n  <tbody>\n    <tr>\n      <th>0</th>\n      <td>A method, and a mobile device adapted thereto,...</td>\n      <td>[{'corpus_id': 4, 'score': 0.3175324499607086}...</td>\n      <td>Blockchain</td>\n      <td>Digital Media</td>\n      <td>[{'corpus_id': 0, 'score': 0.4092501997947693}...</td>\n      <td>Artificial Intelligence; Big Data and Analytics</td>\n      <td>Cybersecurity</td>\n    </tr>\n    <tr>\n      <th>1</th>\n      <td>A dumbbell with a selectable number of weight ...</td>\n      <td>[{'corpus_id': 16, 'score': 0.1903858929872512...</td>\n      <td>Medical Technology; Medical devices</td>\n      <td>Blockchain</td>\n      <td>[{'corpus_id': 7, 'score': 0.3395450711250305}...</td>\n      <td>New Food</td>\n      <td>Artificial Intelligence; Big Data and Analytics</td>\n    </tr>\n    <tr>\n      <th>2</th>\n      <td>A virtual assistant AI system that may be conn...</td>\n      <td>[{'corpus_id': 0, 'score': 0.5081636905670166}...</td>\n      <td>Artificial Intelligence; Big Data and Analytics</td>\n      <td>Industry 4.0</td>\n      <td>[{'corpus_id': 0, 'score': 0.3899620771408081}...</td>\n      <td>Artificial Intelligence; Big Data and Analytics</td>\n      <td>New Food</td>\n    </tr>\n    <tr>\n      <th>3</th>\n      <td>Connector assemblies that are separate from me...</td>\n      <td>[{'corpus_id': 16, 'score': 0.3097402155399322...</td>\n      <td>Medical Technology; Medical devices</td>\n      <td>Advanced Manufacturing and Robotics</td>\n      <td>[{'corpus_id': 7, 'score': 0.39835429191589355...</td>\n      <td>New Food</td>\n      <td>Medical Technology; Medical devices</td>\n    </tr>\n    <tr>\n      <th>4</th>\n      <td>An LED tube lamp, comprising a lamp tube, whic...</td>\n      <td>[{'corpus_id': 13, 'score': 0.2711642384529114...</td>\n      <td>Educational Technology</td>\n      <td>Blockchain</td>\n      <td>[{'corpus_id': 7, 'score': 0.33039551973342896...</td>\n      <td>New Food</td>\n      <td>Medical Technology; Medical devices</td>\n    </tr>\n    <tr>\n      <th>5</th>\n      <td>A packaged semiconductor device includes an in...</td>\n      <td>[{'corpus_id': 1, 'score': 0.3054541349411011}...</td>\n      <td>Advanced Manufacturing and Robotics</td>\n      <td>Digital Media</td>\n      <td>[{'corpus_id': 7, 'score': 0.34602975845336914...</td>\n      <td>New Food</td>\n      <td>Advanced Manufacturing and Robotics</td>\n    </tr>\n  </tbody>\n</table>\n</div>"
     },
     "execution_count": 14,
     "metadata": {},
     "output_type": "execute_result"
    }
   ],
   "source": [
    "df_semantic_results"
   ],
   "metadata": {
    "collapsed": false,
    "ExecuteTime": {
     "end_time": "2023-11-09T23:21:10.804241900Z",
     "start_time": "2023-11-09T23:21:10.791682400Z"
    }
   },
   "id": "8395dd5c3fac1e9c"
  },
  {
   "cell_type": "code",
   "execution_count": 15,
   "outputs": [
    {
     "data": {
      "text/plain": "                                            abstract  \\\n0  A method, and a mobile device adapted thereto,...   \n1  A dumbbell with a selectable number of weight ...   \n2  A virtual assistant AI system that may be conn...   \n3  Connector assemblies that are separate from me...   \n4  An LED tube lamp, comprising a lamp tube, whic...   \n5  A packaged semiconductor device includes an in...   \n\n                             definition_preprocessed  \\\n0  [{'corpus_id': 4, 'score': 0.3175324499607086}...   \n1  [{'corpus_id': 16, 'score': 0.1903858929872512...   \n2  [{'corpus_id': 0, 'score': 0.5081636905670166}...   \n3  [{'corpus_id': 16, 'score': 0.3097402155399322...   \n4  [{'corpus_id': 13, 'score': 0.2711642384529114...   \n5  [{'corpus_id': 1, 'score': 0.3054541349411011}...   \n\n                                      definition_1  \\\n0                                       Blockchain   \n1              Medical Technology; Medical devices   \n2  Artificial Intelligence; Big Data and Analytics   \n3              Medical Technology; Medical devices   \n4                           Educational Technology   \n5              Advanced Manufacturing and Robotics   \n\n                          definition_2  \\\n0                        Digital Media   \n1                           Blockchain   \n2                         Industry 4.0   \n3  Advanced Manufacturing and Robotics   \n4                           Blockchain   \n5                        Digital Media   \n\n                               keywords_preprocessed  \\\n0  [{'corpus_id': 0, 'score': 0.4092501997947693}...   \n1  [{'corpus_id': 7, 'score': 0.3395450711250305}...   \n2  [{'corpus_id': 0, 'score': 0.3899620771408081}...   \n3  [{'corpus_id': 7, 'score': 0.39835429191589355...   \n4  [{'corpus_id': 7, 'score': 0.33039551973342896...   \n5  [{'corpus_id': 7, 'score': 0.34602975845336914...   \n\n                                        keywords_1  \\\n0  Artificial Intelligence; Big Data and Analytics   \n1                                         New Food   \n2  Artificial Intelligence; Big Data and Analytics   \n3                                         New Food   \n4                                         New Food   \n5                                         New Food   \n\n                                        keywords_2  \\\n0                                    Cybersecurity   \n1  Artificial Intelligence; Big Data and Analytics   \n2                                         New Food   \n3              Medical Technology; Medical devices   \n4              Medical Technology; Medical devices   \n5              Advanced Manufacturing and Robotics   \n\n                                             class  \n0                                           Others  \n1                                           Others  \n2  Artificial Intelligence; Big Data and Analytics  \n3              Medical Technology; Medical devices  \n4                                           Others  \n5              Advanced Manufacturing and Robotics  ",
      "text/html": "<div>\n<style scoped>\n    .dataframe tbody tr th:only-of-type {\n        vertical-align: middle;\n    }\n\n    .dataframe tbody tr th {\n        vertical-align: top;\n    }\n\n    .dataframe thead th {\n        text-align: right;\n    }\n</style>\n<table border=\"1\" class=\"dataframe\">\n  <thead>\n    <tr style=\"text-align: right;\">\n      <th></th>\n      <th>abstract</th>\n      <th>definition_preprocessed</th>\n      <th>definition_1</th>\n      <th>definition_2</th>\n      <th>keywords_preprocessed</th>\n      <th>keywords_1</th>\n      <th>keywords_2</th>\n      <th>class</th>\n    </tr>\n  </thead>\n  <tbody>\n    <tr>\n      <th>0</th>\n      <td>A method, and a mobile device adapted thereto,...</td>\n      <td>[{'corpus_id': 4, 'score': 0.3175324499607086}...</td>\n      <td>Blockchain</td>\n      <td>Digital Media</td>\n      <td>[{'corpus_id': 0, 'score': 0.4092501997947693}...</td>\n      <td>Artificial Intelligence; Big Data and Analytics</td>\n      <td>Cybersecurity</td>\n      <td>Others</td>\n    </tr>\n    <tr>\n      <th>1</th>\n      <td>A dumbbell with a selectable number of weight ...</td>\n      <td>[{'corpus_id': 16, 'score': 0.1903858929872512...</td>\n      <td>Medical Technology; Medical devices</td>\n      <td>Blockchain</td>\n      <td>[{'corpus_id': 7, 'score': 0.3395450711250305}...</td>\n      <td>New Food</td>\n      <td>Artificial Intelligence; Big Data and Analytics</td>\n      <td>Others</td>\n    </tr>\n    <tr>\n      <th>2</th>\n      <td>A virtual assistant AI system that may be conn...</td>\n      <td>[{'corpus_id': 0, 'score': 0.5081636905670166}...</td>\n      <td>Artificial Intelligence; Big Data and Analytics</td>\n      <td>Industry 4.0</td>\n      <td>[{'corpus_id': 0, 'score': 0.3899620771408081}...</td>\n      <td>Artificial Intelligence; Big Data and Analytics</td>\n      <td>New Food</td>\n      <td>Artificial Intelligence; Big Data and Analytics</td>\n    </tr>\n    <tr>\n      <th>3</th>\n      <td>Connector assemblies that are separate from me...</td>\n      <td>[{'corpus_id': 16, 'score': 0.3097402155399322...</td>\n      <td>Medical Technology; Medical devices</td>\n      <td>Advanced Manufacturing and Robotics</td>\n      <td>[{'corpus_id': 7, 'score': 0.39835429191589355...</td>\n      <td>New Food</td>\n      <td>Medical Technology; Medical devices</td>\n      <td>Medical Technology; Medical devices</td>\n    </tr>\n    <tr>\n      <th>4</th>\n      <td>An LED tube lamp, comprising a lamp tube, whic...</td>\n      <td>[{'corpus_id': 13, 'score': 0.2711642384529114...</td>\n      <td>Educational Technology</td>\n      <td>Blockchain</td>\n      <td>[{'corpus_id': 7, 'score': 0.33039551973342896...</td>\n      <td>New Food</td>\n      <td>Medical Technology; Medical devices</td>\n      <td>Others</td>\n    </tr>\n    <tr>\n      <th>5</th>\n      <td>A packaged semiconductor device includes an in...</td>\n      <td>[{'corpus_id': 1, 'score': 0.3054541349411011}...</td>\n      <td>Advanced Manufacturing and Robotics</td>\n      <td>Digital Media</td>\n      <td>[{'corpus_id': 7, 'score': 0.34602975845336914...</td>\n      <td>New Food</td>\n      <td>Advanced Manufacturing and Robotics</td>\n      <td>Advanced Manufacturing and Robotics</td>\n    </tr>\n  </tbody>\n</table>\n</div>"
     },
     "execution_count": 15,
     "metadata": {},
     "output_type": "execute_result"
    }
   ],
   "source": [
    "predict = []\n",
    "others_threshold = 0.45\n",
    "for index, row in df_semantic_results.iterrows():\n",
    "    definition = {row['definition_1'], row['definition_2']}\n",
    "    keywords = {row['keywords_1'], row['keywords_2']}\n",
    "    intersection = definition & keywords\n",
    "    if len(intersection) > 0:\n",
    "        predict.append(intersection.pop())\n",
    "    else:\n",
    "        definition_best_score = row['definition_preprocessed'][0].get('score')\n",
    "        keywords_best_score = row['keywords_preprocessed'][0].get('score')\n",
    "        if definition_best_score < others_threshold and keywords_best_score < others_threshold:\n",
    "            predict.append('Others')\n",
    "        else:\n",
    "            if definition_best_score >= keywords_best_score:\n",
    "                predict.append(row['definition_1'])\n",
    "            else:\n",
    "                predict.append(row['keywords_1'])\n",
    "    \n",
    "df_class = pd.DataFrame({'class': predict})\n",
    "\n",
    "df_semantic_results = pd.concat([df_semantic_results, df_class], axis=1)       \n",
    "df_semantic_results\n",
    "        "
   ],
   "metadata": {
    "collapsed": false,
    "ExecuteTime": {
     "end_time": "2023-11-09T23:21:10.813468600Z",
     "start_time": "2023-11-09T23:21:10.800170600Z"
    }
   },
   "id": "7c4b32fd27d79695"
  },
  {
   "cell_type": "code",
   "execution_count": 16,
   "outputs": [
    {
     "data": {
      "text/plain": "                                            abstract  \\\n0  A method, and a mobile device adapted thereto,...   \n1  A dumbbell with a selectable number of weight ...   \n2  A virtual assistant AI system that may be conn...   \n3  Connector assemblies that are separate from me...   \n4  An LED tube lamp, comprising a lamp tube, whic...   \n5  A packaged semiconductor device includes an in...   \n\n                                             class  \n0                                           Others  \n1                                           Others  \n2  Artificial Intelligence; Big Data and Analytics  \n3              Medical Technology; Medical devices  \n4                                           Others  \n5              Advanced Manufacturing and Robotics  ",
      "text/html": "<div>\n<style scoped>\n    .dataframe tbody tr th:only-of-type {\n        vertical-align: middle;\n    }\n\n    .dataframe tbody tr th {\n        vertical-align: top;\n    }\n\n    .dataframe thead th {\n        text-align: right;\n    }\n</style>\n<table border=\"1\" class=\"dataframe\">\n  <thead>\n    <tr style=\"text-align: right;\">\n      <th></th>\n      <th>abstract</th>\n      <th>class</th>\n    </tr>\n  </thead>\n  <tbody>\n    <tr>\n      <th>0</th>\n      <td>A method, and a mobile device adapted thereto,...</td>\n      <td>Others</td>\n    </tr>\n    <tr>\n      <th>1</th>\n      <td>A dumbbell with a selectable number of weight ...</td>\n      <td>Others</td>\n    </tr>\n    <tr>\n      <th>2</th>\n      <td>A virtual assistant AI system that may be conn...</td>\n      <td>Artificial Intelligence; Big Data and Analytics</td>\n    </tr>\n    <tr>\n      <th>3</th>\n      <td>Connector assemblies that are separate from me...</td>\n      <td>Medical Technology; Medical devices</td>\n    </tr>\n    <tr>\n      <th>4</th>\n      <td>An LED tube lamp, comprising a lamp tube, whic...</td>\n      <td>Others</td>\n    </tr>\n    <tr>\n      <th>5</th>\n      <td>A packaged semiconductor device includes an in...</td>\n      <td>Advanced Manufacturing and Robotics</td>\n    </tr>\n  </tbody>\n</table>\n</div>"
     },
     "execution_count": 16,
     "metadata": {},
     "output_type": "execute_result"
    }
   ],
   "source": [
    "df_semantic_results.loc[:, ['abstract', 'class']]"
   ],
   "metadata": {
    "collapsed": false,
    "ExecuteTime": {
     "end_time": "2023-11-09T23:21:10.834521800Z",
     "start_time": "2023-11-09T23:21:10.810164100Z"
    }
   },
   "id": "9abac6f4d62ad022"
  },
  {
   "cell_type": "code",
   "execution_count": 20,
   "outputs": [
    {
     "name": "stderr",
     "output_type": "stream",
     "text": [
      "2023-11-09 20:22:00,944 - DEBUG - https://huggingface.co:443 \"HEAD /mistralai/Mistral-7B-Instruct-v0.1/resolve/main/config.json HTTP/1.1\" 200 0\n",
      "2023-11-09 20:22:00,946 - DEBUG - Attempting to acquire lock 1516170758096 on C:\\Users\\Thiago/.cache\\huggingface\\hub\\models--mistralai--Mistral-7B-Instruct-v0.1\\blobs\\f4989f072a7f517d01d479eb1685c6e50e014f88.lock\n",
      "2023-11-09 20:22:00,947 - DEBUG - Lock 1516170758096 acquired on C:\\Users\\Thiago/.cache\\huggingface\\hub\\models--mistralai--Mistral-7B-Instruct-v0.1\\blobs\\f4989f072a7f517d01d479eb1685c6e50e014f88.lock\n",
      "2023-11-09 20:22:01,121 - DEBUG - https://huggingface.co:443 \"GET /mistralai/Mistral-7B-Instruct-v0.1/resolve/main/config.json HTTP/1.1\" 200 571\n"
     ]
    },
    {
     "data": {
      "text/plain": "Downloading (…)lve/main/config.json:   0%|          | 0.00/571 [00:00<?, ?B/s]",
      "application/vnd.jupyter.widget-view+json": {
       "version_major": 2,
       "version_minor": 0,
       "model_id": "4eb3c008c6c74cbf85ecb97d56b6db04"
      }
     },
     "metadata": {},
     "output_type": "display_data"
    },
    {
     "name": "stderr",
     "output_type": "stream",
     "text": [
      "C:\\Users\\Thiago\\PycharmProjects\\genome\\venv\\Lib\\site-packages\\huggingface_hub\\file_download.py:137: UserWarning: `huggingface_hub` cache-system uses symlinks by default to efficiently store duplicated files but your machine does not support them in C:\\Users\\Thiago\\.cache\\huggingface\\hub. Caching files will still work but in a degraded version that might require more space on your disk. This warning can be disabled by setting the `HF_HUB_DISABLE_SYMLINKS_WARNING` environment variable. For more details, see https://huggingface.co/docs/huggingface_hub/how-to-cache#limitations.\n",
      "To support symlinks on Windows, you either need to activate Developer Mode or to run Python as an administrator. In order to see activate developer mode, see this article: https://docs.microsoft.com/en-us/windows/apps/get-started/enable-your-device-for-development\n",
      "  warnings.warn(message)\n",
      "2023-11-09 20:22:01,129 - DEBUG - Attempting to release lock 1516170758096 on C:\\Users\\Thiago/.cache\\huggingface\\hub\\models--mistralai--Mistral-7B-Instruct-v0.1\\blobs\\f4989f072a7f517d01d479eb1685c6e50e014f88.lock\n",
      "2023-11-09 20:22:01,129 - DEBUG - Lock 1516170758096 released on C:\\Users\\Thiago/.cache\\huggingface\\hub\\models--mistralai--Mistral-7B-Instruct-v0.1\\blobs\\f4989f072a7f517d01d479eb1685c6e50e014f88.lock\n",
      "2023-11-09 20:22:01,304 - DEBUG - https://huggingface.co:443 \"HEAD /mistralai/Mistral-7B-Instruct-v0.1/resolve/main/model.safetensors HTTP/1.1\" 404 0\n",
      "2023-11-09 20:22:01,475 - DEBUG - https://huggingface.co:443 \"HEAD /mistralai/Mistral-7B-Instruct-v0.1/resolve/main/model.safetensors.index.json HTTP/1.1\" 404 0\n",
      "2023-11-09 20:22:01,644 - DEBUG - https://huggingface.co:443 \"HEAD /mistralai/Mistral-7B-Instruct-v0.1/resolve/main/pytorch_model.bin HTTP/1.1\" 404 0\n",
      "2023-11-09 20:22:01,815 - DEBUG - https://huggingface.co:443 \"HEAD /mistralai/Mistral-7B-Instruct-v0.1/resolve/main/pytorch_model.bin.index.json HTTP/1.1\" 200 0\n",
      "2023-11-09 20:22:01,816 - DEBUG - Attempting to acquire lock 1518264021200 on C:\\Users\\Thiago/.cache\\huggingface\\hub\\models--mistralai--Mistral-7B-Instruct-v0.1\\blobs\\520ee2fc9a8659d53be1f9f0a4502c151fc24775.lock\n",
      "2023-11-09 20:22:01,817 - DEBUG - Lock 1518264021200 acquired on C:\\Users\\Thiago/.cache\\huggingface\\hub\\models--mistralai--Mistral-7B-Instruct-v0.1\\blobs\\520ee2fc9a8659d53be1f9f0a4502c151fc24775.lock\n",
      "2023-11-09 20:22:01,988 - DEBUG - https://huggingface.co:443 \"GET /mistralai/Mistral-7B-Instruct-v0.1/resolve/main/pytorch_model.bin.index.json HTTP/1.1\" 200 23950\n"
     ]
    },
    {
     "data": {
      "text/plain": "Downloading (…)model.bin.index.json:   0%|          | 0.00/23.9k [00:00<?, ?B/s]",
      "application/vnd.jupyter.widget-view+json": {
       "version_major": 2,
       "version_minor": 0,
       "model_id": "edb0a982398d432380e3798f601b5637"
      }
     },
     "metadata": {},
     "output_type": "display_data"
    },
    {
     "name": "stderr",
     "output_type": "stream",
     "text": [
      "2023-11-09 20:22:01,994 - DEBUG - Attempting to release lock 1518264021200 on C:\\Users\\Thiago/.cache\\huggingface\\hub\\models--mistralai--Mistral-7B-Instruct-v0.1\\blobs\\520ee2fc9a8659d53be1f9f0a4502c151fc24775.lock\n",
      "2023-11-09 20:22:01,995 - DEBUG - Lock 1518264021200 released on C:\\Users\\Thiago/.cache\\huggingface\\hub\\models--mistralai--Mistral-7B-Instruct-v0.1\\blobs\\520ee2fc9a8659d53be1f9f0a4502c151fc24775.lock\n"
     ]
    },
    {
     "data": {
      "text/plain": "Downloading shards:   0%|          | 0/2 [00:00<?, ?it/s]",
      "application/vnd.jupyter.widget-view+json": {
       "version_major": 2,
       "version_minor": 0,
       "model_id": "7e791753fd974259934bf966c437f968"
      }
     },
     "metadata": {},
     "output_type": "display_data"
    },
    {
     "name": "stderr",
     "output_type": "stream",
     "text": [
      "2023-11-09 20:22:02,166 - DEBUG - https://huggingface.co:443 \"HEAD /mistralai/Mistral-7B-Instruct-v0.1/resolve/main/pytorch_model-00001-of-00002.bin HTTP/1.1\" 302 0\n",
      "2023-11-09 20:22:02,168 - DEBUG - Attempting to acquire lock 1518431138128 on C:\\Users\\Thiago/.cache\\huggingface\\hub\\models--mistralai--Mistral-7B-Instruct-v0.1\\blobs\\2f237251ac3ecb3bcbd8978b3eb7b55b5e83c06cd5224b276d2d8462773488c8.lock\n",
      "2023-11-09 20:22:02,168 - DEBUG - Lock 1518431138128 acquired on C:\\Users\\Thiago/.cache\\huggingface\\hub\\models--mistralai--Mistral-7B-Instruct-v0.1\\blobs\\2f237251ac3ecb3bcbd8978b3eb7b55b5e83c06cd5224b276d2d8462773488c8.lock\n",
      "2023-11-09 20:22:02,170 - DEBUG - Starting new HTTPS connection (1): cdn-lfs.huggingface.co:443\n",
      "2023-11-09 20:22:02,929 - DEBUG - https://cdn-lfs.huggingface.co:443 \"GET /repos/ea/00/ea00943d992c7851ad9f4f4bd094a0397fb5087e0f7cba4ef003018963ea07e3/2f237251ac3ecb3bcbd8978b3eb7b55b5e83c06cd5224b276d2d8462773488c8?response-content-disposition=attachment%3B+filename*%3DUTF-8%27%27pytorch_model-00001-of-00002.bin%3B+filename%3D%22pytorch_model-00001-of-00002.bin%22%3B&response-content-type=application%2Foctet-stream&Expires=1699826170&Policy=eyJTdGF0ZW1lbnQiOlt7IkNvbmRpdGlvbiI6eyJEYXRlTGVzc1RoYW4iOnsiQVdTOkVwb2NoVGltZSI6MTY5OTgyNjE3MH19LCJSZXNvdXJjZSI6Imh0dHBzOi8vY2RuLWxmcy5odWdnaW5nZmFjZS5jby9yZXBvcy9lYS8wMC9lYTAwOTQzZDk5MmM3ODUxYWQ5ZjRmNGJkMDk0YTAzOTdmYjUwODdlMGY3Y2JhNGVmMDAzMDE4OTYzZWEwN2UzLzJmMjM3MjUxYWMzZWNiM2JjYmQ4OTc4YjNlYjdiNTViNWU4M2MwNmNkNTIyNGIyNzZkMmQ4NDYyNzczNDg4Yzg~cmVzcG9uc2UtY29udGVudC1kaXNwb3NpdGlvbj0qJnJlc3BvbnNlLWNvbnRlbnQtdHlwZT0qIn1dfQ__&Signature=Itj80tB6~NKlbw3I1HAvMXkFG3sBb9BgPi1QYBc5OuyvO4nE9Yb6snZxkblQgS74FaKBszDl4lzEYrxK4OTVukJpriUQnHVyXqYfRPttnLJO7aLdHHjIJTyxlZtGJe1JTotSwQfx6DLeWf~TnjIkru2OjgId5Lhhk52r4XNgHfSJ8XXYKuxnDjVXSpdOG7Q6CimH-NiuxKd-A-jFdXIp-aEoArSxHgOEJ1DUDrMZxpwodYnaH2gAo-SJdE8pWsP5NTVDz94HYibTKkaoqrOBOCmtQr9edol1hcu~3Oz3d6GChtp7dOQZVKRd2eWYAwHRej~wjaXliuRmVegaYbPtEg__&Key-Pair-Id=KVTP0A1DKRTAX HTTP/1.1\" 200 9943028044\n"
     ]
    },
    {
     "data": {
      "text/plain": "Downloading (…)l-00001-of-00002.bin:   0%|          | 0.00/9.94G [00:00<?, ?B/s]",
      "application/vnd.jupyter.widget-view+json": {
       "version_major": 2,
       "version_minor": 0,
       "model_id": "16a91bee09954c38b98f1ec818ea5cc0"
      }
     },
     "metadata": {},
     "output_type": "display_data"
    },
    {
     "name": "stderr",
     "output_type": "stream",
     "text": [
      "2023-11-09 20:24:09,808 - DEBUG - Attempting to release lock 1518431138128 on C:\\Users\\Thiago/.cache\\huggingface\\hub\\models--mistralai--Mistral-7B-Instruct-v0.1\\blobs\\2f237251ac3ecb3bcbd8978b3eb7b55b5e83c06cd5224b276d2d8462773488c8.lock\n",
      "2023-11-09 20:24:09,808 - DEBUG - Lock 1518431138128 released on C:\\Users\\Thiago/.cache\\huggingface\\hub\\models--mistralai--Mistral-7B-Instruct-v0.1\\blobs\\2f237251ac3ecb3bcbd8978b3eb7b55b5e83c06cd5224b276d2d8462773488c8.lock\n",
      "2023-11-09 20:24:09,971 - DEBUG - https://huggingface.co:443 \"HEAD /mistralai/Mistral-7B-Instruct-v0.1/resolve/main/pytorch_model-00002-of-00002.bin HTTP/1.1\" 302 0\n",
      "2023-11-09 20:24:09,972 - DEBUG - Attempting to acquire lock 1518435256848 on C:\\Users\\Thiago/.cache\\huggingface\\hub\\models--mistralai--Mistral-7B-Instruct-v0.1\\blobs\\d9e54fbaabfe2c5d00d2a642398c5959c1eb31e9d9d40c80bd5d7c2c4067d3e1.lock\n",
      "2023-11-09 20:24:09,973 - DEBUG - Lock 1518435256848 acquired on C:\\Users\\Thiago/.cache\\huggingface\\hub\\models--mistralai--Mistral-7B-Instruct-v0.1\\blobs\\d9e54fbaabfe2c5d00d2a642398c5959c1eb31e9d9d40c80bd5d7c2c4067d3e1.lock\n",
      "2023-11-09 20:24:10,116 - DEBUG - https://cdn-lfs.huggingface.co:443 \"GET /repos/ea/00/ea00943d992c7851ad9f4f4bd094a0397fb5087e0f7cba4ef003018963ea07e3/d9e54fbaabfe2c5d00d2a642398c5959c1eb31e9d9d40c80bd5d7c2c4067d3e1?response-content-disposition=attachment%3B+filename*%3DUTF-8%27%27pytorch_model-00002-of-00002.bin%3B+filename%3D%22pytorch_model-00002-of-00002.bin%22%3B&response-content-type=application%2Foctet-stream&Expires=1699831448&Policy=eyJTdGF0ZW1lbnQiOlt7IkNvbmRpdGlvbiI6eyJEYXRlTGVzc1RoYW4iOnsiQVdTOkVwb2NoVGltZSI6MTY5OTgzMTQ0OH19LCJSZXNvdXJjZSI6Imh0dHBzOi8vY2RuLWxmcy5odWdnaW5nZmFjZS5jby9yZXBvcy9lYS8wMC9lYTAwOTQzZDk5MmM3ODUxYWQ5ZjRmNGJkMDk0YTAzOTdmYjUwODdlMGY3Y2JhNGVmMDAzMDE4OTYzZWEwN2UzL2Q5ZTU0ZmJhYWJmZTJjNWQwMGQyYTY0MjM5OGM1OTU5YzFlYjMxZTlkOWQ0MGM4MGJkNWQ3YzJjNDA2N2QzZTE~cmVzcG9uc2UtY29udGVudC1kaXNwb3NpdGlvbj0qJnJlc3BvbnNlLWNvbnRlbnQtdHlwZT0qIn1dfQ__&Signature=Hq8xFsa8zMKrXGwL3aulndZCV7ZlZRezZSqpyug5bMTVxj3yrV8mEBOaIMTFml9IGYAsKkwBMeEKF4IKZ1Br9CCgkmr5VrcC8CpH2QC-JXNVnXhYlKfCoc02MMr5pt1SMMdlat1~Z42Hy-VtmeTZ16LlzxiUteMNqkITH1137tWslK4rc1KN4QnO8hH2i0j5YFtknBz6sj4jAt3ShtbFROGvUoxs~XCJ0IAU0Dixvb7rR-lp1ut5WiH7s-hx1vTMEaWTYukHqvaFtxkQqz~Xdrr9LSIc19KF9xEhUy06KFS2JEJLiaIzFrjnkkLkDy5SNa-HyQmu6tcLKH3H9xAOJA__&Key-Pair-Id=KVTP0A1DKRTAX HTTP/1.1\" 200 5064823659\n"
     ]
    },
    {
     "data": {
      "text/plain": "Downloading (…)l-00002-of-00002.bin:   0%|          | 0.00/5.06G [00:00<?, ?B/s]",
      "application/vnd.jupyter.widget-view+json": {
       "version_major": 2,
       "version_minor": 0,
       "model_id": "edd15aabab09402e96971f9616f1e328"
      }
     },
     "metadata": {},
     "output_type": "display_data"
    },
    {
     "name": "stderr",
     "output_type": "stream",
     "text": [
      "2023-11-09 20:25:14,353 - DEBUG - Attempting to release lock 1518435256848 on C:\\Users\\Thiago/.cache\\huggingface\\hub\\models--mistralai--Mistral-7B-Instruct-v0.1\\blobs\\d9e54fbaabfe2c5d00d2a642398c5959c1eb31e9d9d40c80bd5d7c2c4067d3e1.lock\n",
      "2023-11-09 20:25:14,366 - DEBUG - Lock 1518435256848 released on C:\\Users\\Thiago/.cache\\huggingface\\hub\\models--mistralai--Mistral-7B-Instruct-v0.1\\blobs\\d9e54fbaabfe2c5d00d2a642398c5959c1eb31e9d9d40c80bd5d7c2c4067d3e1.lock\n"
     ]
    },
    {
     "data": {
      "text/plain": "Loading checkpoint shards:   0%|          | 0/2 [00:00<?, ?it/s]",
      "application/vnd.jupyter.widget-view+json": {
       "version_major": 2,
       "version_minor": 0,
       "model_id": "6eb3040a36d545408df8e6ef441e8904"
      }
     },
     "metadata": {},
     "output_type": "display_data"
    },
    {
     "name": "stderr",
     "output_type": "stream",
     "text": [
      "Some weights of MistralForSequenceClassification were not initialized from the model checkpoint at mistralai/Mistral-7B-Instruct-v0.1 and are newly initialized: ['score.weight']\n",
      "You should probably TRAIN this model on a down-stream task to be able to use it for predictions and inference.\n",
      "2023-11-09 20:27:17,091 - DEBUG - https://huggingface.co:443 \"HEAD /mistralai/Mistral-7B-Instruct-v0.1/resolve/main/tokenizer_config.json HTTP/1.1\" 200 0\n",
      "2023-11-09 20:27:17,098 - DEBUG - Attempting to acquire lock 1516170766736 on C:\\Users\\Thiago/.cache\\huggingface\\hub\\models--mistralai--Mistral-7B-Instruct-v0.1\\blobs\\fae21d778664a82dfdc92143da539f99e7b2309a.lock\n",
      "2023-11-09 20:27:17,100 - DEBUG - Lock 1516170766736 acquired on C:\\Users\\Thiago/.cache\\huggingface\\hub\\models--mistralai--Mistral-7B-Instruct-v0.1\\blobs\\fae21d778664a82dfdc92143da539f99e7b2309a.lock\n",
      "2023-11-09 20:27:17,273 - DEBUG - https://huggingface.co:443 \"GET /mistralai/Mistral-7B-Instruct-v0.1/resolve/main/tokenizer_config.json HTTP/1.1\" 200 1466\n"
     ]
    },
    {
     "data": {
      "text/plain": "Downloading (…)okenizer_config.json:   0%|          | 0.00/1.47k [00:00<?, ?B/s]",
      "application/vnd.jupyter.widget-view+json": {
       "version_major": 2,
       "version_minor": 0,
       "model_id": "ea92757930814ed5800c20f7646dcfc6"
      }
     },
     "metadata": {},
     "output_type": "display_data"
    },
    {
     "name": "stderr",
     "output_type": "stream",
     "text": [
      "2023-11-09 20:27:17,290 - DEBUG - Attempting to release lock 1516170766736 on C:\\Users\\Thiago/.cache\\huggingface\\hub\\models--mistralai--Mistral-7B-Instruct-v0.1\\blobs\\fae21d778664a82dfdc92143da539f99e7b2309a.lock\n",
      "2023-11-09 20:27:17,290 - DEBUG - Lock 1516170766736 released on C:\\Users\\Thiago/.cache\\huggingface\\hub\\models--mistralai--Mistral-7B-Instruct-v0.1\\blobs\\fae21d778664a82dfdc92143da539f99e7b2309a.lock\n",
      "2023-11-09 20:27:17,531 - DEBUG - https://huggingface.co:443 \"HEAD /mistralai/Mistral-7B-Instruct-v0.1/resolve/main/tokenizer.model HTTP/1.1\" 302 0\n",
      "2023-11-09 20:27:17,534 - DEBUG - Attempting to acquire lock 1518187664400 on C:\\Users\\Thiago/.cache\\huggingface\\hub\\models--mistralai--Mistral-7B-Instruct-v0.1\\blobs\\dadfd56d766715c61d2ef780a525ab43b8e6da4de6865bda3d95fdef5e134055.lock\n",
      "2023-11-09 20:27:17,536 - DEBUG - Lock 1518187664400 acquired on C:\\Users\\Thiago/.cache\\huggingface\\hub\\models--mistralai--Mistral-7B-Instruct-v0.1\\blobs\\dadfd56d766715c61d2ef780a525ab43b8e6da4de6865bda3d95fdef5e134055.lock\n",
      "2023-11-09 20:27:17,686 - DEBUG - https://cdn-lfs.huggingface.co:443 \"GET /repos/ea/00/ea00943d992c7851ad9f4f4bd094a0397fb5087e0f7cba4ef003018963ea07e3/dadfd56d766715c61d2ef780a525ab43b8e6da4de6865bda3d95fdef5e134055?response-content-disposition=attachment%3B+filename*%3DUTF-8%27%27tokenizer.model%3B+filename%3D%22tokenizer.model%22%3B&Expires=1699826990&Policy=eyJTdGF0ZW1lbnQiOlt7IkNvbmRpdGlvbiI6eyJEYXRlTGVzc1RoYW4iOnsiQVdTOkVwb2NoVGltZSI6MTY5OTgyNjk5MH19LCJSZXNvdXJjZSI6Imh0dHBzOi8vY2RuLWxmcy5odWdnaW5nZmFjZS5jby9yZXBvcy9lYS8wMC9lYTAwOTQzZDk5MmM3ODUxYWQ5ZjRmNGJkMDk0YTAzOTdmYjUwODdlMGY3Y2JhNGVmMDAzMDE4OTYzZWEwN2UzL2RhZGZkNTZkNzY2NzE1YzYxZDJlZjc4MGE1MjVhYjQzYjhlNmRhNGRlNjg2NWJkYTNkOTVmZGVmNWUxMzQwNTU~cmVzcG9uc2UtY29udGVudC1kaXNwb3NpdGlvbj0qIn1dfQ__&Signature=ZSNyadOn1stcjGxLrkQGjHx~qQAX3OJHlSEoV2fOeHmLVsT3KZ8kwerRAkPvJQ708PV4U~ahyGsIKPYZ1fExpSUiBcrehP4PgZD37uOwcPPFEdg2J-QpZzuJD71deGFBYcmPY5qhvpP89ewaAVjFrkCZAHYxFMCaeQwMDn~Vw3l4lWjLPtsSb-Vsh4XBLIvgxIsvpLO7we7f1brdk5ID3qPAIeqYq~OzDkm2AO2WA2aUex31MKe~UZBXmZ-lx0O9LnF1xBdRhZ6z5sOr5jxPJ7BTBIab6Fqxo1batUXF-3qa33SemqblZzqUVqTVpbFVJeJew8rwrG38jc5NL6Yl4w__&Key-Pair-Id=KVTP0A1DKRTAX HTTP/1.1\" 200 493443\n"
     ]
    },
    {
     "data": {
      "text/plain": "Downloading tokenizer.model:   0%|          | 0.00/493k [00:00<?, ?B/s]",
      "application/vnd.jupyter.widget-view+json": {
       "version_major": 2,
       "version_minor": 0,
       "model_id": "96c1bef8df14424a96ef7b932a9cbc18"
      }
     },
     "metadata": {},
     "output_type": "display_data"
    },
    {
     "name": "stderr",
     "output_type": "stream",
     "text": [
      "2023-11-09 20:27:17,704 - DEBUG - Attempting to release lock 1518187664400 on C:\\Users\\Thiago/.cache\\huggingface\\hub\\models--mistralai--Mistral-7B-Instruct-v0.1\\blobs\\dadfd56d766715c61d2ef780a525ab43b8e6da4de6865bda3d95fdef5e134055.lock\n",
      "2023-11-09 20:27:17,705 - DEBUG - Lock 1518187664400 released on C:\\Users\\Thiago/.cache\\huggingface\\hub\\models--mistralai--Mistral-7B-Instruct-v0.1\\blobs\\dadfd56d766715c61d2ef780a525ab43b8e6da4de6865bda3d95fdef5e134055.lock\n",
      "2023-11-09 20:27:17,876 - DEBUG - https://huggingface.co:443 \"HEAD /mistralai/Mistral-7B-Instruct-v0.1/resolve/main/tokenizer.json HTTP/1.1\" 200 0\n",
      "2023-11-09 20:27:17,878 - DEBUG - Attempting to acquire lock 1518443550608 on C:\\Users\\Thiago/.cache\\huggingface\\hub\\models--mistralai--Mistral-7B-Instruct-v0.1\\blobs\\43e6daf936dc0f953cb867ec864adab78f92d9ce.lock\n",
      "2023-11-09 20:27:17,879 - DEBUG - Lock 1518443550608 acquired on C:\\Users\\Thiago/.cache\\huggingface\\hub\\models--mistralai--Mistral-7B-Instruct-v0.1\\blobs\\43e6daf936dc0f953cb867ec864adab78f92d9ce.lock\n",
      "2023-11-09 20:27:18,162 - DEBUG - https://huggingface.co:443 \"GET /mistralai/Mistral-7B-Instruct-v0.1/resolve/main/tokenizer.json HTTP/1.1\" 200 1795303\n"
     ]
    },
    {
     "data": {
      "text/plain": "Downloading (…)/main/tokenizer.json:   0%|          | 0.00/1.80M [00:00<?, ?B/s]",
      "application/vnd.jupyter.widget-view+json": {
       "version_major": 2,
       "version_minor": 0,
       "model_id": "bc2386b6f5a74384a6ee3e2f747435da"
      }
     },
     "metadata": {},
     "output_type": "display_data"
    },
    {
     "name": "stderr",
     "output_type": "stream",
     "text": [
      "2023-11-09 20:27:18,798 - DEBUG - Attempting to release lock 1518443550608 on C:\\Users\\Thiago/.cache\\huggingface\\hub\\models--mistralai--Mistral-7B-Instruct-v0.1\\blobs\\43e6daf936dc0f953cb867ec864adab78f92d9ce.lock\n",
      "2023-11-09 20:27:18,799 - DEBUG - Lock 1518443550608 released on C:\\Users\\Thiago/.cache\\huggingface\\hub\\models--mistralai--Mistral-7B-Instruct-v0.1\\blobs\\43e6daf936dc0f953cb867ec864adab78f92d9ce.lock\n",
      "2023-11-09 20:27:18,974 - DEBUG - https://huggingface.co:443 \"HEAD /mistralai/Mistral-7B-Instruct-v0.1/resolve/main/added_tokens.json HTTP/1.1\" 404 0\n",
      "2023-11-09 20:27:19,205 - DEBUG - https://huggingface.co:443 \"HEAD /mistralai/Mistral-7B-Instruct-v0.1/resolve/main/special_tokens_map.json HTTP/1.1\" 200 0\n",
      "2023-11-09 20:27:19,209 - DEBUG - Attempting to acquire lock 1518443152912 on C:\\Users\\Thiago/.cache\\huggingface\\hub\\models--mistralai--Mistral-7B-Instruct-v0.1\\blobs\\a52c50a199269393cd1548c7e6a77a654bd2001b.lock\n",
      "2023-11-09 20:27:19,210 - DEBUG - Lock 1518443152912 acquired on C:\\Users\\Thiago/.cache\\huggingface\\hub\\models--mistralai--Mistral-7B-Instruct-v0.1\\blobs\\a52c50a199269393cd1548c7e6a77a654bd2001b.lock\n",
      "2023-11-09 20:27:19,389 - DEBUG - https://huggingface.co:443 \"GET /mistralai/Mistral-7B-Instruct-v0.1/resolve/main/special_tokens_map.json HTTP/1.1\" 200 72\n"
     ]
    },
    {
     "data": {
      "text/plain": "Downloading (…)cial_tokens_map.json:   0%|          | 0.00/72.0 [00:00<?, ?B/s]",
      "application/vnd.jupyter.widget-view+json": {
       "version_major": 2,
       "version_minor": 0,
       "model_id": "098491cfb297441b969e87677d082898"
      }
     },
     "metadata": {},
     "output_type": "display_data"
    },
    {
     "name": "stderr",
     "output_type": "stream",
     "text": [
      "2023-11-09 20:27:19,401 - DEBUG - Attempting to release lock 1518443152912 on C:\\Users\\Thiago/.cache\\huggingface\\hub\\models--mistralai--Mistral-7B-Instruct-v0.1\\blobs\\a52c50a199269393cd1548c7e6a77a654bd2001b.lock\n",
      "2023-11-09 20:27:19,403 - DEBUG - Lock 1518443152912 released on C:\\Users\\Thiago/.cache\\huggingface\\hub\\models--mistralai--Mistral-7B-Instruct-v0.1\\blobs\\a52c50a199269393cd1548c7e6a77a654bd2001b.lock\n",
      "Failed to determine 'entailment' label id from the label2id mapping in the model config. Setting to -1. Define a descriptive label2id mapping in the model config to ensure correct outputs.\n"
     ]
    }
   ],
   "source": [
    "classifier = pipeline(\"zero-shot-classification\", model=\"facebook/bart-large-mnli\")"
   ],
   "metadata": {
    "collapsed": false,
    "ExecuteTime": {
     "end_time": "2023-11-09T23:27:21.248972900Z",
     "start_time": "2023-11-09T23:22:00.776104200Z"
    }
   },
   "id": "b8f8754b1614213"
  },
  {
   "cell_type": "code",
   "execution_count": 21,
   "outputs": [
    {
     "name": "stderr",
     "output_type": "stream",
     "text": [
      "Tokenizer was not supporting padding necessary for zero-shot, attempting to use  `pad_token=eos_token`\n",
      "Asking to truncate to max_length but no maximum length is provided and the model has no predefined maximum length. Default to no truncation.\n"
     ]
    },
    {
     "data": {
      "text/plain": "                        class_zeroshot  class_zeroshot_score\n0                        Digital Media                  0.70\n1                           Blockchain                  0.75\n2                             New Food                  0.58\n3  Advanced Manufacturing and Robotics                  0.67\n4                           Blockchain                  0.53\n5                        Digital Media                  0.66",
      "text/html": "<div>\n<style scoped>\n    .dataframe tbody tr th:only-of-type {\n        vertical-align: middle;\n    }\n\n    .dataframe tbody tr th {\n        vertical-align: top;\n    }\n\n    .dataframe thead th {\n        text-align: right;\n    }\n</style>\n<table border=\"1\" class=\"dataframe\">\n  <thead>\n    <tr style=\"text-align: right;\">\n      <th></th>\n      <th>class_zeroshot</th>\n      <th>class_zeroshot_score</th>\n    </tr>\n  </thead>\n  <tbody>\n    <tr>\n      <th>0</th>\n      <td>Digital Media</td>\n      <td>0.70</td>\n    </tr>\n    <tr>\n      <th>1</th>\n      <td>Blockchain</td>\n      <td>0.75</td>\n    </tr>\n    <tr>\n      <th>2</th>\n      <td>New Food</td>\n      <td>0.58</td>\n    </tr>\n    <tr>\n      <th>3</th>\n      <td>Advanced Manufacturing and Robotics</td>\n      <td>0.67</td>\n    </tr>\n    <tr>\n      <th>4</th>\n      <td>Blockchain</td>\n      <td>0.53</td>\n    </tr>\n    <tr>\n      <th>5</th>\n      <td>Digital Media</td>\n      <td>0.66</td>\n    </tr>\n  </tbody>\n</table>\n</div>"
     },
     "execution_count": 21,
     "metadata": {},
     "output_type": "execute_result"
    }
   ],
   "source": [
    "class_zeroshot_list = []\n",
    "class_score_zeroshot_list = []\n",
    "# labels = df_subsectors['subsector'].values\n",
    "for index, row in df_semantic_results.iterrows():\n",
    "    labels = {row['definition_1'], row['definition_2'], row['keywords_1'], row['keywords_2']}\n",
    "    labels = list(labels)\n",
    "    \n",
    "    patent_zero_shot_class = classifier(row['abstract'], labels, multi_label=False)\n",
    "    class_zeroshot_list.append(patent_zero_shot_class['labels'][0])\n",
    "    class_score_zeroshot_list.append(patent_zero_shot_class['scores'][0])\n",
    "\n",
    "df_zero_shot = pd.DataFrame({'class_zeroshot': class_zeroshot_list, 'class_zeroshot_score': class_score_zeroshot_list})\n",
    "df_zero_shot"
   ],
   "metadata": {
    "collapsed": false,
    "ExecuteTime": {
     "end_time": "2023-11-09T23:31:13.583247400Z",
     "start_time": "2023-11-09T23:27:57.249926400Z"
    }
   },
   "id": "48fce5eb7e52fafb"
  },
  {
   "cell_type": "code",
   "execution_count": null,
   "outputs": [],
   "source": [],
   "metadata": {
    "collapsed": false
   },
   "id": "18470d579181068"
  }
 ],
 "metadata": {
  "kernelspec": {
   "display_name": "Python 3",
   "language": "python",
   "name": "python3"
  },
  "language_info": {
   "codemirror_mode": {
    "name": "ipython",
    "version": 2
   },
   "file_extension": ".py",
   "mimetype": "text/x-python",
   "name": "python",
   "nbconvert_exporter": "python",
   "pygments_lexer": "ipython2",
   "version": "2.7.6"
  }
 },
 "nbformat": 4,
 "nbformat_minor": 5
}
