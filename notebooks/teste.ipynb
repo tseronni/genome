{
 "cells": [
  {
   "cell_type": "code",
   "execution_count": 1,
   "metadata": {
    "collapsed": true,
    "ExecuteTime": {
     "end_time": "2023-06-29T00:41:26.344046900Z",
     "start_time": "2023-06-29T00:41:25.702198700Z"
    }
   },
   "outputs": [],
   "source": [
    "import pandas as pd\n",
    "from src.utils.UsefulPaths import Paths"
   ]
  },
  {
   "cell_type": "code",
   "execution_count": 2,
   "outputs": [],
   "source": [
    "paths = Paths()"
   ],
   "metadata": {
    "collapsed": false,
    "ExecuteTime": {
     "end_time": "2023-06-29T00:41:27.118860300Z",
     "start_time": "2023-06-29T00:41:27.095855400Z"
    }
   }
  },
  {
   "cell_type": "code",
   "execution_count": 3,
   "outputs": [],
   "source": [
    "df_raw_patents = pd.read_csv('C:\\\\Users\\\\thiag\\\\PycharmProjects\\\\genome\\\\data\\\\processed\\\\raw_patents.csv', parse_dates=['grant_date', 'app_date'])"
   ],
   "metadata": {
    "collapsed": false,
    "ExecuteTime": {
     "end_time": "2023-06-29T00:42:00.907630600Z",
     "start_time": "2023-06-29T00:41:29.517484100Z"
    }
   }
  },
  {
   "cell_type": "code",
   "execution_count": 4,
   "outputs": [
    {
     "data": {
      "text/plain": "      grant_year country  total_patents\n0           2012      AD              1\n1           2012      AE             18\n2           2012      AM              2\n3           2012      AR             25\n4           2012      AT            358\n...          ...     ...            ...\n1753        2021      YS              5\n1754        2021      ZA            274\n1755        2021      ZH              1\n1756        2021      ZM              1\n1757        2021      ZW              1\n\n[1758 rows x 3 columns]",
      "text/html": "<div>\n<style scoped>\n    .dataframe tbody tr th:only-of-type {\n        vertical-align: middle;\n    }\n\n    .dataframe tbody tr th {\n        vertical-align: top;\n    }\n\n    .dataframe thead th {\n        text-align: right;\n    }\n</style>\n<table border=\"1\" class=\"dataframe\">\n  <thead>\n    <tr style=\"text-align: right;\">\n      <th></th>\n      <th>grant_year</th>\n      <th>country</th>\n      <th>total_patents</th>\n    </tr>\n  </thead>\n  <tbody>\n    <tr>\n      <th>0</th>\n      <td>2012</td>\n      <td>AD</td>\n      <td>1</td>\n    </tr>\n    <tr>\n      <th>1</th>\n      <td>2012</td>\n      <td>AE</td>\n      <td>18</td>\n    </tr>\n    <tr>\n      <th>2</th>\n      <td>2012</td>\n      <td>AM</td>\n      <td>2</td>\n    </tr>\n    <tr>\n      <th>3</th>\n      <td>2012</td>\n      <td>AR</td>\n      <td>25</td>\n    </tr>\n    <tr>\n      <th>4</th>\n      <td>2012</td>\n      <td>AT</td>\n      <td>358</td>\n    </tr>\n    <tr>\n      <th>...</th>\n      <td>...</td>\n      <td>...</td>\n      <td>...</td>\n    </tr>\n    <tr>\n      <th>1753</th>\n      <td>2021</td>\n      <td>YS</td>\n      <td>5</td>\n    </tr>\n    <tr>\n      <th>1754</th>\n      <td>2021</td>\n      <td>ZA</td>\n      <td>274</td>\n    </tr>\n    <tr>\n      <th>1755</th>\n      <td>2021</td>\n      <td>ZH</td>\n      <td>1</td>\n    </tr>\n    <tr>\n      <th>1756</th>\n      <td>2021</td>\n      <td>ZM</td>\n      <td>1</td>\n    </tr>\n    <tr>\n      <th>1757</th>\n      <td>2021</td>\n      <td>ZW</td>\n      <td>1</td>\n    </tr>\n  </tbody>\n</table>\n<p>1758 rows × 3 columns</p>\n</div>"
     },
     "execution_count": 4,
     "metadata": {},
     "output_type": "execute_result"
    }
   ],
   "source": [
    "df_grouped = df_raw_patents.groupby(by=['grant_year', 'country'])['patent_id'].nunique().rename('total_patents').reset_index()\n",
    "df_grouped"
   ],
   "metadata": {
    "collapsed": false,
    "ExecuteTime": {
     "end_time": "2023-06-29T00:42:03.915290200Z",
     "start_time": "2023-06-29T00:42:02.724842600Z"
    }
   }
  },
  {
   "cell_type": "code",
   "execution_count": 5,
   "outputs": [],
   "source": [
    "def test(row):\n",
    "    last_year = row['grant_year'] - 1\n",
    "    country = row['country']\n",
    "    this_total_patents = row['total_patents']\n",
    "\n",
    "    last_total = df_grouped[\n",
    "        (df_grouped['grant_year'] == last_year) &\n",
    "        (df_grouped['country'] == country)\n",
    "    ]['total_patents'].values\n",
    "\n",
    "    if len(last_total) > 0:\n",
    "        return last_total[0]\n",
    "    else:\n",
    "        return 0\n",
    "\n",
    "\n",
    "df_grouped['last_total'] = df_grouped.apply(test, axis=1)"
   ],
   "metadata": {
    "collapsed": false,
    "ExecuteTime": {
     "end_time": "2023-06-29T00:42:14.746210200Z",
     "start_time": "2023-06-29T00:42:14.325451900Z"
    }
   }
  },
  {
   "cell_type": "code",
   "execution_count": 6,
   "outputs": [
    {
     "data": {
      "text/plain": "      grant_year country  total_patents  last_total\n0           2012      AD              1           0\n1           2012      AE             18           0\n2           2012      AM              2           0\n3           2012      AR             25           0\n4           2012      AT            358           0\n...          ...     ...            ...         ...\n1753        2021      YS              5           2\n1754        2021      ZA            274         261\n1755        2021      ZH              1           1\n1756        2021      ZM              1           1\n1757        2021      ZW              1           0\n\n[1758 rows x 4 columns]",
      "text/html": "<div>\n<style scoped>\n    .dataframe tbody tr th:only-of-type {\n        vertical-align: middle;\n    }\n\n    .dataframe tbody tr th {\n        vertical-align: top;\n    }\n\n    .dataframe thead th {\n        text-align: right;\n    }\n</style>\n<table border=\"1\" class=\"dataframe\">\n  <thead>\n    <tr style=\"text-align: right;\">\n      <th></th>\n      <th>grant_year</th>\n      <th>country</th>\n      <th>total_patents</th>\n      <th>last_total</th>\n    </tr>\n  </thead>\n  <tbody>\n    <tr>\n      <th>0</th>\n      <td>2012</td>\n      <td>AD</td>\n      <td>1</td>\n      <td>0</td>\n    </tr>\n    <tr>\n      <th>1</th>\n      <td>2012</td>\n      <td>AE</td>\n      <td>18</td>\n      <td>0</td>\n    </tr>\n    <tr>\n      <th>2</th>\n      <td>2012</td>\n      <td>AM</td>\n      <td>2</td>\n      <td>0</td>\n    </tr>\n    <tr>\n      <th>3</th>\n      <td>2012</td>\n      <td>AR</td>\n      <td>25</td>\n      <td>0</td>\n    </tr>\n    <tr>\n      <th>4</th>\n      <td>2012</td>\n      <td>AT</td>\n      <td>358</td>\n      <td>0</td>\n    </tr>\n    <tr>\n      <th>...</th>\n      <td>...</td>\n      <td>...</td>\n      <td>...</td>\n      <td>...</td>\n    </tr>\n    <tr>\n      <th>1753</th>\n      <td>2021</td>\n      <td>YS</td>\n      <td>5</td>\n      <td>2</td>\n    </tr>\n    <tr>\n      <th>1754</th>\n      <td>2021</td>\n      <td>ZA</td>\n      <td>274</td>\n      <td>261</td>\n    </tr>\n    <tr>\n      <th>1755</th>\n      <td>2021</td>\n      <td>ZH</td>\n      <td>1</td>\n      <td>1</td>\n    </tr>\n    <tr>\n      <th>1756</th>\n      <td>2021</td>\n      <td>ZM</td>\n      <td>1</td>\n      <td>1</td>\n    </tr>\n    <tr>\n      <th>1757</th>\n      <td>2021</td>\n      <td>ZW</td>\n      <td>1</td>\n      <td>0</td>\n    </tr>\n  </tbody>\n</table>\n<p>1758 rows × 4 columns</p>\n</div>"
     },
     "execution_count": 6,
     "metadata": {},
     "output_type": "execute_result"
    }
   ],
   "source": [
    "df_grouped.sort_values(by=['country', 'grant_year'])\n",
    "df_grouped"
   ],
   "metadata": {
    "collapsed": false,
    "ExecuteTime": {
     "end_time": "2023-06-29T00:42:27.984531Z",
     "start_time": "2023-06-29T00:42:27.966568600Z"
    }
   }
  },
  {
   "cell_type": "code",
   "execution_count": 7,
   "outputs": [
    {
     "data": {
      "text/plain": "      grant_year country  total_patents  last_total  pct_change\n1565        2021      97              1           0         inf\n118         2013      AB              1           0         inf\n454         2015      AB              1           0         inf\n633         2016      AB              2           1         1.0\n0           2012      AD              1           0         inf\n...          ...     ...            ...         ...         ...\n269         2013      ZW              1           0         inf\n822         2016      ZW              1           0         inf\n1197        2018      ZW              3           0         inf\n1373        2019      ZW              3           3         0.0\n1757        2021      ZW              1           0         inf\n\n[1758 rows x 5 columns]",
      "text/html": "<div>\n<style scoped>\n    .dataframe tbody tr th:only-of-type {\n        vertical-align: middle;\n    }\n\n    .dataframe tbody tr th {\n        vertical-align: top;\n    }\n\n    .dataframe thead th {\n        text-align: right;\n    }\n</style>\n<table border=\"1\" class=\"dataframe\">\n  <thead>\n    <tr style=\"text-align: right;\">\n      <th></th>\n      <th>grant_year</th>\n      <th>country</th>\n      <th>total_patents</th>\n      <th>last_total</th>\n      <th>pct_change</th>\n    </tr>\n  </thead>\n  <tbody>\n    <tr>\n      <th>1565</th>\n      <td>2021</td>\n      <td>97</td>\n      <td>1</td>\n      <td>0</td>\n      <td>inf</td>\n    </tr>\n    <tr>\n      <th>118</th>\n      <td>2013</td>\n      <td>AB</td>\n      <td>1</td>\n      <td>0</td>\n      <td>inf</td>\n    </tr>\n    <tr>\n      <th>454</th>\n      <td>2015</td>\n      <td>AB</td>\n      <td>1</td>\n      <td>0</td>\n      <td>inf</td>\n    </tr>\n    <tr>\n      <th>633</th>\n      <td>2016</td>\n      <td>AB</td>\n      <td>2</td>\n      <td>1</td>\n      <td>1.0</td>\n    </tr>\n    <tr>\n      <th>0</th>\n      <td>2012</td>\n      <td>AD</td>\n      <td>1</td>\n      <td>0</td>\n      <td>inf</td>\n    </tr>\n    <tr>\n      <th>...</th>\n      <td>...</td>\n      <td>...</td>\n      <td>...</td>\n      <td>...</td>\n      <td>...</td>\n    </tr>\n    <tr>\n      <th>269</th>\n      <td>2013</td>\n      <td>ZW</td>\n      <td>1</td>\n      <td>0</td>\n      <td>inf</td>\n    </tr>\n    <tr>\n      <th>822</th>\n      <td>2016</td>\n      <td>ZW</td>\n      <td>1</td>\n      <td>0</td>\n      <td>inf</td>\n    </tr>\n    <tr>\n      <th>1197</th>\n      <td>2018</td>\n      <td>ZW</td>\n      <td>3</td>\n      <td>0</td>\n      <td>inf</td>\n    </tr>\n    <tr>\n      <th>1373</th>\n      <td>2019</td>\n      <td>ZW</td>\n      <td>3</td>\n      <td>3</td>\n      <td>0.0</td>\n    </tr>\n    <tr>\n      <th>1757</th>\n      <td>2021</td>\n      <td>ZW</td>\n      <td>1</td>\n      <td>0</td>\n      <td>inf</td>\n    </tr>\n  </tbody>\n</table>\n<p>1758 rows × 5 columns</p>\n</div>"
     },
     "execution_count": 7,
     "metadata": {},
     "output_type": "execute_result"
    }
   ],
   "source": [
    "df_grouped['pct_change'] = (df_grouped['total_patents'] - df_grouped['last_total']) / df_grouped['last_total']\n",
    "df_grouped.sort_values(by=['country', 'grant_year'])"
   ],
   "metadata": {
    "collapsed": false,
    "ExecuteTime": {
     "end_time": "2023-06-29T00:42:40.435482Z",
     "start_time": "2023-06-29T00:42:40.414478500Z"
    }
   }
  },
  {
   "cell_type": "code",
   "execution_count": 8,
   "outputs": [
    {
     "data": {
      "text/plain": "      grant_year country  total_patents  last_total  pct_change\n0           2012      AD              1           0    0.000000\n1           2012      AE             18           0    0.000000\n2           2012      AM              2           0    0.000000\n3           2012      AR             25           0    0.000000\n4           2012      AT            358           0    0.000000\n...          ...     ...            ...         ...         ...\n1753        2021      YS              5           2    1.500000\n1754        2021      ZA            274         261    0.049808\n1755        2021      ZH              1           1    0.000000\n1756        2021      ZM              1           1    0.000000\n1757        2021      ZW              1           0    0.000000\n\n[1758 rows x 5 columns]",
      "text/html": "<div>\n<style scoped>\n    .dataframe tbody tr th:only-of-type {\n        vertical-align: middle;\n    }\n\n    .dataframe tbody tr th {\n        vertical-align: top;\n    }\n\n    .dataframe thead th {\n        text-align: right;\n    }\n</style>\n<table border=\"1\" class=\"dataframe\">\n  <thead>\n    <tr style=\"text-align: right;\">\n      <th></th>\n      <th>grant_year</th>\n      <th>country</th>\n      <th>total_patents</th>\n      <th>last_total</th>\n      <th>pct_change</th>\n    </tr>\n  </thead>\n  <tbody>\n    <tr>\n      <th>0</th>\n      <td>2012</td>\n      <td>AD</td>\n      <td>1</td>\n      <td>0</td>\n      <td>0.000000</td>\n    </tr>\n    <tr>\n      <th>1</th>\n      <td>2012</td>\n      <td>AE</td>\n      <td>18</td>\n      <td>0</td>\n      <td>0.000000</td>\n    </tr>\n    <tr>\n      <th>2</th>\n      <td>2012</td>\n      <td>AM</td>\n      <td>2</td>\n      <td>0</td>\n      <td>0.000000</td>\n    </tr>\n    <tr>\n      <th>3</th>\n      <td>2012</td>\n      <td>AR</td>\n      <td>25</td>\n      <td>0</td>\n      <td>0.000000</td>\n    </tr>\n    <tr>\n      <th>4</th>\n      <td>2012</td>\n      <td>AT</td>\n      <td>358</td>\n      <td>0</td>\n      <td>0.000000</td>\n    </tr>\n    <tr>\n      <th>...</th>\n      <td>...</td>\n      <td>...</td>\n      <td>...</td>\n      <td>...</td>\n      <td>...</td>\n    </tr>\n    <tr>\n      <th>1753</th>\n      <td>2021</td>\n      <td>YS</td>\n      <td>5</td>\n      <td>2</td>\n      <td>1.500000</td>\n    </tr>\n    <tr>\n      <th>1754</th>\n      <td>2021</td>\n      <td>ZA</td>\n      <td>274</td>\n      <td>261</td>\n      <td>0.049808</td>\n    </tr>\n    <tr>\n      <th>1755</th>\n      <td>2021</td>\n      <td>ZH</td>\n      <td>1</td>\n      <td>1</td>\n      <td>0.000000</td>\n    </tr>\n    <tr>\n      <th>1756</th>\n      <td>2021</td>\n      <td>ZM</td>\n      <td>1</td>\n      <td>1</td>\n      <td>0.000000</td>\n    </tr>\n    <tr>\n      <th>1757</th>\n      <td>2021</td>\n      <td>ZW</td>\n      <td>1</td>\n      <td>0</td>\n      <td>0.000000</td>\n    </tr>\n  </tbody>\n</table>\n<p>1758 rows × 5 columns</p>\n</div>"
     },
     "execution_count": 8,
     "metadata": {},
     "output_type": "execute_result"
    }
   ],
   "source": [
    "import numpy as np\n",
    "df_grouped.replace(np.inf, 0, inplace=True)\n",
    "df_grouped"
   ],
   "metadata": {
    "collapsed": false,
    "ExecuteTime": {
     "end_time": "2023-06-29T00:42:45.271373400Z",
     "start_time": "2023-06-29T00:42:45.253209600Z"
    }
   }
  },
  {
   "cell_type": "code",
   "execution_count": 9,
   "outputs": [],
   "source": [
    "df_grouped.to_csv('C:\\\\Users\\\\thiag\\\\PycharmProjects\\\\genome\\\\data\\\\processed\\\\df_group_country.csv', float_format='%.2f%%', index=False)"
   ],
   "metadata": {
    "collapsed": false,
    "ExecuteTime": {
     "end_time": "2023-06-29T00:42:53.792181300Z",
     "start_time": "2023-06-29T00:42:53.770669Z"
    }
   }
  },
  {
   "cell_type": "code",
   "execution_count": 10,
   "outputs": [
    {
     "data": {
      "text/plain": "country\n97    0.000000\nAB    0.333333\nAD    0.300000\nAE    0.395788\nAF    0.000000\n        ...   \nZA    0.419163\nZH    0.000000\nZJ    0.000000\nZM    0.000000\nZW    0.000000\nName: pct_change, Length: 296, dtype: float64"
     },
     "execution_count": 10,
     "metadata": {},
     "output_type": "execute_result"
    }
   ],
   "source": [
    "a = df_grouped.groupby(by=['country'])['pct_change'].mean()\n",
    "a"
   ],
   "metadata": {
    "collapsed": false,
    "ExecuteTime": {
     "end_time": "2023-06-29T00:42:56.630216600Z",
     "start_time": "2023-06-29T00:42:56.615708Z"
    }
   }
  },
  {
   "cell_type": "code",
   "execution_count": 11,
   "outputs": [],
   "source": [
    "a.to_csv('C:\\\\Users\\\\thiag\\\\PycharmProjects\\\\genome\\\\data\\\\processed\\\\country_pct_change_mean.csv', float_format='%.2f%%', index=True)"
   ],
   "metadata": {
    "collapsed": false,
    "ExecuteTime": {
     "end_time": "2023-06-29T00:42:58.447721700Z",
     "start_time": "2023-06-29T00:42:58.428501Z"
    }
   }
  },
  {
   "cell_type": "code",
   "execution_count": 29,
   "outputs": [
    {
     "data": {
      "text/plain": "      grant_year country     ecosystem  total_patents\n0           2012      AE     Abu Dhabi              7\n1           2012      AE         Dubai              8\n2           2012      AE       Sharjah              1\n3           2012      AM       Yerevan              2\n4           2012      AR  Buenos Aires             18\n...          ...     ...           ...            ...\n7360        2021      ZA     Cape Town             73\n7361        2021      ZA        Durban             19\n7362        2021      ZA  Johannesburg             92\n7363        2021      ZA      Pretoria             49\n7364        2021      ZH        Zurich              1\n\n[7365 rows x 4 columns]",
      "text/html": "<div>\n<style scoped>\n    .dataframe tbody tr th:only-of-type {\n        vertical-align: middle;\n    }\n\n    .dataframe tbody tr th {\n        vertical-align: top;\n    }\n\n    .dataframe thead th {\n        text-align: right;\n    }\n</style>\n<table border=\"1\" class=\"dataframe\">\n  <thead>\n    <tr style=\"text-align: right;\">\n      <th></th>\n      <th>grant_year</th>\n      <th>country</th>\n      <th>ecosystem</th>\n      <th>total_patents</th>\n    </tr>\n  </thead>\n  <tbody>\n    <tr>\n      <th>0</th>\n      <td>2012</td>\n      <td>AE</td>\n      <td>Abu Dhabi</td>\n      <td>7</td>\n    </tr>\n    <tr>\n      <th>1</th>\n      <td>2012</td>\n      <td>AE</td>\n      <td>Dubai</td>\n      <td>8</td>\n    </tr>\n    <tr>\n      <th>2</th>\n      <td>2012</td>\n      <td>AE</td>\n      <td>Sharjah</td>\n      <td>1</td>\n    </tr>\n    <tr>\n      <th>3</th>\n      <td>2012</td>\n      <td>AM</td>\n      <td>Yerevan</td>\n      <td>2</td>\n    </tr>\n    <tr>\n      <th>4</th>\n      <td>2012</td>\n      <td>AR</td>\n      <td>Buenos Aires</td>\n      <td>18</td>\n    </tr>\n    <tr>\n      <th>...</th>\n      <td>...</td>\n      <td>...</td>\n      <td>...</td>\n      <td>...</td>\n    </tr>\n    <tr>\n      <th>7360</th>\n      <td>2021</td>\n      <td>ZA</td>\n      <td>Cape Town</td>\n      <td>73</td>\n    </tr>\n    <tr>\n      <th>7361</th>\n      <td>2021</td>\n      <td>ZA</td>\n      <td>Durban</td>\n      <td>19</td>\n    </tr>\n    <tr>\n      <th>7362</th>\n      <td>2021</td>\n      <td>ZA</td>\n      <td>Johannesburg</td>\n      <td>92</td>\n    </tr>\n    <tr>\n      <th>7363</th>\n      <td>2021</td>\n      <td>ZA</td>\n      <td>Pretoria</td>\n      <td>49</td>\n    </tr>\n    <tr>\n      <th>7364</th>\n      <td>2021</td>\n      <td>ZH</td>\n      <td>Zurich</td>\n      <td>1</td>\n    </tr>\n  </tbody>\n</table>\n<p>7365 rows × 4 columns</p>\n</div>"
     },
     "execution_count": 29,
     "metadata": {},
     "output_type": "execute_result"
    }
   ],
   "source": [
    "df_country_ecosystem = df_raw_patents.groupby(by=['grant_year', 'country', 'ecosystem'])['patent_id'].nunique().rename('total_patents').reset_index()\n",
    "df_country_ecosystem.sort_values(by=['grant_year', 'country'])"
   ],
   "metadata": {
    "collapsed": false,
    "ExecuteTime": {
     "end_time": "2023-06-29T01:05:35.674664900Z",
     "start_time": "2023-06-29T01:05:33.913063600Z"
    }
   }
  },
  {
   "cell_type": "code",
   "execution_count": 30,
   "outputs": [],
   "source": [
    "def test2(row):\n",
    "    last_year = row['grant_year'] - 1\n",
    "    country = row['country']\n",
    "    ecosystem = row['ecosystem']\n",
    "\n",
    "    last_total = df_country_ecosystem[\n",
    "        (df_country_ecosystem['grant_year'] == last_year) &\n",
    "        (df_country_ecosystem['country'] == country) &\n",
    "        (df_country_ecosystem['ecosystem'] == ecosystem)\n",
    "    ]['total_patents'].values\n",
    "\n",
    "    if len(last_total) > 0:\n",
    "        return last_total[0]\n",
    "    else:\n",
    "        return 0\n",
    "\n",
    "\n",
    "df_country_ecosystem['last_total'] = df_country_ecosystem.apply(test2, axis=1)"
   ],
   "metadata": {
    "collapsed": false,
    "ExecuteTime": {
     "end_time": "2023-06-29T01:05:42.306731400Z",
     "start_time": "2023-06-29T01:05:37.185677900Z"
    }
   }
  },
  {
   "cell_type": "code",
   "execution_count": 31,
   "outputs": [
    {
     "data": {
      "text/plain": "      grant_year country     ecosystem  total_patents  last_total  pct_change\n534         2013      AB      Edmonton              1           0         inf\n1947        2015      AB      Edmonton              1           0         inf\n2718        2016      AB      Edmonton              1           1    0.000000\n0           2012      AE     Abu Dhabi              7           0         inf\n1           2012      AE         Dubai              8           0         inf\n...          ...     ...           ...            ...         ...         ...\n7363        2021      ZA      Pretoria             49          42    0.166667\n6592        2020      ZH  Philadelphia              1           0         inf\n6593        2020      ZH        Zurich              1           0         inf\n7364        2021      ZH        Zurich              1           1    0.000000\n3494        2016      ZJ      Hangzhou              1           0         inf\n\n[7365 rows x 6 columns]",
      "text/html": "<div>\n<style scoped>\n    .dataframe tbody tr th:only-of-type {\n        vertical-align: middle;\n    }\n\n    .dataframe tbody tr th {\n        vertical-align: top;\n    }\n\n    .dataframe thead th {\n        text-align: right;\n    }\n</style>\n<table border=\"1\" class=\"dataframe\">\n  <thead>\n    <tr style=\"text-align: right;\">\n      <th></th>\n      <th>grant_year</th>\n      <th>country</th>\n      <th>ecosystem</th>\n      <th>total_patents</th>\n      <th>last_total</th>\n      <th>pct_change</th>\n    </tr>\n  </thead>\n  <tbody>\n    <tr>\n      <th>534</th>\n      <td>2013</td>\n      <td>AB</td>\n      <td>Edmonton</td>\n      <td>1</td>\n      <td>0</td>\n      <td>inf</td>\n    </tr>\n    <tr>\n      <th>1947</th>\n      <td>2015</td>\n      <td>AB</td>\n      <td>Edmonton</td>\n      <td>1</td>\n      <td>0</td>\n      <td>inf</td>\n    </tr>\n    <tr>\n      <th>2718</th>\n      <td>2016</td>\n      <td>AB</td>\n      <td>Edmonton</td>\n      <td>1</td>\n      <td>1</td>\n      <td>0.000000</td>\n    </tr>\n    <tr>\n      <th>0</th>\n      <td>2012</td>\n      <td>AE</td>\n      <td>Abu Dhabi</td>\n      <td>7</td>\n      <td>0</td>\n      <td>inf</td>\n    </tr>\n    <tr>\n      <th>1</th>\n      <td>2012</td>\n      <td>AE</td>\n      <td>Dubai</td>\n      <td>8</td>\n      <td>0</td>\n      <td>inf</td>\n    </tr>\n    <tr>\n      <th>...</th>\n      <td>...</td>\n      <td>...</td>\n      <td>...</td>\n      <td>...</td>\n      <td>...</td>\n      <td>...</td>\n    </tr>\n    <tr>\n      <th>7363</th>\n      <td>2021</td>\n      <td>ZA</td>\n      <td>Pretoria</td>\n      <td>49</td>\n      <td>42</td>\n      <td>0.166667</td>\n    </tr>\n    <tr>\n      <th>6592</th>\n      <td>2020</td>\n      <td>ZH</td>\n      <td>Philadelphia</td>\n      <td>1</td>\n      <td>0</td>\n      <td>inf</td>\n    </tr>\n    <tr>\n      <th>6593</th>\n      <td>2020</td>\n      <td>ZH</td>\n      <td>Zurich</td>\n      <td>1</td>\n      <td>0</td>\n      <td>inf</td>\n    </tr>\n    <tr>\n      <th>7364</th>\n      <td>2021</td>\n      <td>ZH</td>\n      <td>Zurich</td>\n      <td>1</td>\n      <td>1</td>\n      <td>0.000000</td>\n    </tr>\n    <tr>\n      <th>3494</th>\n      <td>2016</td>\n      <td>ZJ</td>\n      <td>Hangzhou</td>\n      <td>1</td>\n      <td>0</td>\n      <td>inf</td>\n    </tr>\n  </tbody>\n</table>\n<p>7365 rows × 6 columns</p>\n</div>"
     },
     "execution_count": 31,
     "metadata": {},
     "output_type": "execute_result"
    }
   ],
   "source": [
    "df_country_ecosystem['pct_change'] = (df_country_ecosystem['total_patents'] - df_country_ecosystem['last_total']) / df_country_ecosystem['last_total']\n",
    "df_country_ecosystem.sort_values(by=['country', 'grant_year'])"
   ],
   "metadata": {
    "collapsed": false,
    "ExecuteTime": {
     "end_time": "2023-06-29T01:05:44.159897800Z",
     "start_time": "2023-06-29T01:05:44.145645Z"
    }
   }
  },
  {
   "cell_type": "code",
   "execution_count": 32,
   "outputs": [
    {
     "data": {
      "text/plain": "      grant_year country     ecosystem  total_patents  last_total  pct_change\n0           2012      AE     Abu Dhabi              7           0    0.000000\n1           2012      AE         Dubai              8           0    0.000000\n2           2012      AE       Sharjah              1           0    0.000000\n3           2012      AM       Yerevan              2           0    0.000000\n4           2012      AR  Buenos Aires             18           0    0.000000\n...          ...     ...           ...            ...         ...         ...\n7360        2021      ZA     Cape Town             73          78   -0.064103\n7361        2021      ZA        Durban             19          20   -0.050000\n7362        2021      ZA  Johannesburg             92          87    0.057471\n7363        2021      ZA      Pretoria             49          42    0.166667\n7364        2021      ZH        Zurich              1           1    0.000000\n\n[7365 rows x 6 columns]",
      "text/html": "<div>\n<style scoped>\n    .dataframe tbody tr th:only-of-type {\n        vertical-align: middle;\n    }\n\n    .dataframe tbody tr th {\n        vertical-align: top;\n    }\n\n    .dataframe thead th {\n        text-align: right;\n    }\n</style>\n<table border=\"1\" class=\"dataframe\">\n  <thead>\n    <tr style=\"text-align: right;\">\n      <th></th>\n      <th>grant_year</th>\n      <th>country</th>\n      <th>ecosystem</th>\n      <th>total_patents</th>\n      <th>last_total</th>\n      <th>pct_change</th>\n    </tr>\n  </thead>\n  <tbody>\n    <tr>\n      <th>0</th>\n      <td>2012</td>\n      <td>AE</td>\n      <td>Abu Dhabi</td>\n      <td>7</td>\n      <td>0</td>\n      <td>0.000000</td>\n    </tr>\n    <tr>\n      <th>1</th>\n      <td>2012</td>\n      <td>AE</td>\n      <td>Dubai</td>\n      <td>8</td>\n      <td>0</td>\n      <td>0.000000</td>\n    </tr>\n    <tr>\n      <th>2</th>\n      <td>2012</td>\n      <td>AE</td>\n      <td>Sharjah</td>\n      <td>1</td>\n      <td>0</td>\n      <td>0.000000</td>\n    </tr>\n    <tr>\n      <th>3</th>\n      <td>2012</td>\n      <td>AM</td>\n      <td>Yerevan</td>\n      <td>2</td>\n      <td>0</td>\n      <td>0.000000</td>\n    </tr>\n    <tr>\n      <th>4</th>\n      <td>2012</td>\n      <td>AR</td>\n      <td>Buenos Aires</td>\n      <td>18</td>\n      <td>0</td>\n      <td>0.000000</td>\n    </tr>\n    <tr>\n      <th>...</th>\n      <td>...</td>\n      <td>...</td>\n      <td>...</td>\n      <td>...</td>\n      <td>...</td>\n      <td>...</td>\n    </tr>\n    <tr>\n      <th>7360</th>\n      <td>2021</td>\n      <td>ZA</td>\n      <td>Cape Town</td>\n      <td>73</td>\n      <td>78</td>\n      <td>-0.064103</td>\n    </tr>\n    <tr>\n      <th>7361</th>\n      <td>2021</td>\n      <td>ZA</td>\n      <td>Durban</td>\n      <td>19</td>\n      <td>20</td>\n      <td>-0.050000</td>\n    </tr>\n    <tr>\n      <th>7362</th>\n      <td>2021</td>\n      <td>ZA</td>\n      <td>Johannesburg</td>\n      <td>92</td>\n      <td>87</td>\n      <td>0.057471</td>\n    </tr>\n    <tr>\n      <th>7363</th>\n      <td>2021</td>\n      <td>ZA</td>\n      <td>Pretoria</td>\n      <td>49</td>\n      <td>42</td>\n      <td>0.166667</td>\n    </tr>\n    <tr>\n      <th>7364</th>\n      <td>2021</td>\n      <td>ZH</td>\n      <td>Zurich</td>\n      <td>1</td>\n      <td>1</td>\n      <td>0.000000</td>\n    </tr>\n  </tbody>\n</table>\n<p>7365 rows × 6 columns</p>\n</div>"
     },
     "execution_count": 32,
     "metadata": {},
     "output_type": "execute_result"
    }
   ],
   "source": [
    "df_country_ecosystem.replace(np.inf, 0, inplace=True)\n",
    "df_country_ecosystem"
   ],
   "metadata": {
    "collapsed": false,
    "ExecuteTime": {
     "end_time": "2023-06-29T01:05:45.672717900Z",
     "start_time": "2023-06-29T01:05:45.655198600Z"
    }
   }
  },
  {
   "cell_type": "code",
   "execution_count": 33,
   "outputs": [
    {
     "data": {
      "text/plain": "      grant_year country       ecosystem  total_patents  last_total  \\\n2718        2016      AB        Edmonton              1           1   \n2719        2016      AE       Abu Dhabi             79          46   \n2720        2016      AE           Dubai             67          63   \n2721        2016      AE  Ras Al-Khaimah              2           0   \n2722        2016      AE         Sharjah             17           2   \n...          ...     ...             ...            ...         ...   \n3490        2016      ZA       Cape Town             90          94   \n3491        2016      ZA          Durban             15          19   \n3492        2016      ZA    Johannesburg             84         107   \n3493        2016      ZA        Pretoria             22          25   \n3494        2016      ZJ        Hangzhou              1           0   \n\n      pct_change  \n2718    0.000000  \n2719    0.717391  \n2720    0.063492  \n2721    0.000000  \n2722    7.500000  \n...          ...  \n3490   -0.042553  \n3491   -0.210526  \n3492   -0.214953  \n3493   -0.120000  \n3494    0.000000  \n\n[777 rows x 6 columns]",
      "text/html": "<div>\n<style scoped>\n    .dataframe tbody tr th:only-of-type {\n        vertical-align: middle;\n    }\n\n    .dataframe tbody tr th {\n        vertical-align: top;\n    }\n\n    .dataframe thead th {\n        text-align: right;\n    }\n</style>\n<table border=\"1\" class=\"dataframe\">\n  <thead>\n    <tr style=\"text-align: right;\">\n      <th></th>\n      <th>grant_year</th>\n      <th>country</th>\n      <th>ecosystem</th>\n      <th>total_patents</th>\n      <th>last_total</th>\n      <th>pct_change</th>\n    </tr>\n  </thead>\n  <tbody>\n    <tr>\n      <th>2718</th>\n      <td>2016</td>\n      <td>AB</td>\n      <td>Edmonton</td>\n      <td>1</td>\n      <td>1</td>\n      <td>0.000000</td>\n    </tr>\n    <tr>\n      <th>2719</th>\n      <td>2016</td>\n      <td>AE</td>\n      <td>Abu Dhabi</td>\n      <td>79</td>\n      <td>46</td>\n      <td>0.717391</td>\n    </tr>\n    <tr>\n      <th>2720</th>\n      <td>2016</td>\n      <td>AE</td>\n      <td>Dubai</td>\n      <td>67</td>\n      <td>63</td>\n      <td>0.063492</td>\n    </tr>\n    <tr>\n      <th>2721</th>\n      <td>2016</td>\n      <td>AE</td>\n      <td>Ras Al-Khaimah</td>\n      <td>2</td>\n      <td>0</td>\n      <td>0.000000</td>\n    </tr>\n    <tr>\n      <th>2722</th>\n      <td>2016</td>\n      <td>AE</td>\n      <td>Sharjah</td>\n      <td>17</td>\n      <td>2</td>\n      <td>7.500000</td>\n    </tr>\n    <tr>\n      <th>...</th>\n      <td>...</td>\n      <td>...</td>\n      <td>...</td>\n      <td>...</td>\n      <td>...</td>\n      <td>...</td>\n    </tr>\n    <tr>\n      <th>3490</th>\n      <td>2016</td>\n      <td>ZA</td>\n      <td>Cape Town</td>\n      <td>90</td>\n      <td>94</td>\n      <td>-0.042553</td>\n    </tr>\n    <tr>\n      <th>3491</th>\n      <td>2016</td>\n      <td>ZA</td>\n      <td>Durban</td>\n      <td>15</td>\n      <td>19</td>\n      <td>-0.210526</td>\n    </tr>\n    <tr>\n      <th>3492</th>\n      <td>2016</td>\n      <td>ZA</td>\n      <td>Johannesburg</td>\n      <td>84</td>\n      <td>107</td>\n      <td>-0.214953</td>\n    </tr>\n    <tr>\n      <th>3493</th>\n      <td>2016</td>\n      <td>ZA</td>\n      <td>Pretoria</td>\n      <td>22</td>\n      <td>25</td>\n      <td>-0.120000</td>\n    </tr>\n    <tr>\n      <th>3494</th>\n      <td>2016</td>\n      <td>ZJ</td>\n      <td>Hangzhou</td>\n      <td>1</td>\n      <td>0</td>\n      <td>0.000000</td>\n    </tr>\n  </tbody>\n</table>\n<p>777 rows × 6 columns</p>\n</div>"
     },
     "execution_count": 33,
     "metadata": {},
     "output_type": "execute_result"
    }
   ],
   "source": [
    "b = df_country_ecosystem[df_country_ecosystem['grant_year'] == 2016]\n",
    "b"
   ],
   "metadata": {
    "collapsed": false,
    "ExecuteTime": {
     "end_time": "2023-06-29T01:05:47.319279700Z",
     "start_time": "2023-06-29T01:05:47.302888500Z"
    }
   }
  },
  {
   "cell_type": "code",
   "execution_count": 34,
   "outputs": [],
   "source": [
    "df_country_ecosystem.to_csv('C:\\\\Users\\\\thiag\\\\PycharmProjects\\\\genome\\\\data\\\\processed\\\\df_group_country_ecosystem.csv', float_format='%.2f%%', index=False)"
   ],
   "metadata": {
    "collapsed": false,
    "ExecuteTime": {
     "end_time": "2023-06-29T01:05:56.861659700Z",
     "start_time": "2023-06-29T01:05:56.836616800Z"
    }
   }
  },
  {
   "cell_type": "code",
   "execution_count": null,
   "outputs": [],
   "source": [
    "df_grouped_app_year = df_raw_patents.groupby('app_year')['patent_id'].nunique().rename('total_app_year').reset_index()\n",
    "df_grouped_app_year.head(5)"
   ],
   "metadata": {
    "collapsed": false
   }
  },
  {
   "cell_type": "code",
   "execution_count": 5,
   "outputs": [
    {
     "data": {
      "text/plain": "   grant_year  total_grant_year\n0        2012             87517\n1        2013            229937\n2        2014            363139\n3        2015            376640\n4        2016            371319",
      "text/html": "<div>\n<style scoped>\n    .dataframe tbody tr th:only-of-type {\n        vertical-align: middle;\n    }\n\n    .dataframe tbody tr th {\n        vertical-align: top;\n    }\n\n    .dataframe thead th {\n        text-align: right;\n    }\n</style>\n<table border=\"1\" class=\"dataframe\">\n  <thead>\n    <tr style=\"text-align: right;\">\n      <th></th>\n      <th>grant_year</th>\n      <th>total_grant_year</th>\n    </tr>\n  </thead>\n  <tbody>\n    <tr>\n      <th>0</th>\n      <td>2012</td>\n      <td>87517</td>\n    </tr>\n    <tr>\n      <th>1</th>\n      <td>2013</td>\n      <td>229937</td>\n    </tr>\n    <tr>\n      <th>2</th>\n      <td>2014</td>\n      <td>363139</td>\n    </tr>\n    <tr>\n      <th>3</th>\n      <td>2015</td>\n      <td>376640</td>\n    </tr>\n    <tr>\n      <th>4</th>\n      <td>2016</td>\n      <td>371319</td>\n    </tr>\n  </tbody>\n</table>\n</div>"
     },
     "execution_count": 5,
     "metadata": {},
     "output_type": "execute_result"
    }
   ],
   "source": [
    "df_grouped_grant_year = df_raw_patents.groupby('grant_year')['patent_id'].nunique().rename('total_grant_year').reset_index()\n",
    "df_grouped_grant_year.head(5)"
   ],
   "metadata": {
    "collapsed": false,
    "ExecuteTime": {
     "end_time": "2023-06-28T19:42:06.163392300Z",
     "start_time": "2023-06-28T19:42:05.637532700Z"
    }
   }
  },
  {
   "cell_type": "code",
   "execution_count": 7,
   "outputs": [
    {
     "data": {
      "text/plain": "   year  total_app_year  total_grant_year\n0  2012          342096             87517\n1  2013          369761            229937\n2  2014          374618            363139\n3  2015          375410            376640\n4  2016          375349            371319\n5  2017          386096            371274\n6  2018          386818            373298\n7  2019          378895            391506\n8  2020          270666            409227\n9  2021          121874            407726",
      "text/html": "<div>\n<style scoped>\n    .dataframe tbody tr th:only-of-type {\n        vertical-align: middle;\n    }\n\n    .dataframe tbody tr th {\n        vertical-align: top;\n    }\n\n    .dataframe thead th {\n        text-align: right;\n    }\n</style>\n<table border=\"1\" class=\"dataframe\">\n  <thead>\n    <tr style=\"text-align: right;\">\n      <th></th>\n      <th>year</th>\n      <th>total_app_year</th>\n      <th>total_grant_year</th>\n    </tr>\n  </thead>\n  <tbody>\n    <tr>\n      <th>0</th>\n      <td>2012</td>\n      <td>342096</td>\n      <td>87517</td>\n    </tr>\n    <tr>\n      <th>1</th>\n      <td>2013</td>\n      <td>369761</td>\n      <td>229937</td>\n    </tr>\n    <tr>\n      <th>2</th>\n      <td>2014</td>\n      <td>374618</td>\n      <td>363139</td>\n    </tr>\n    <tr>\n      <th>3</th>\n      <td>2015</td>\n      <td>375410</td>\n      <td>376640</td>\n    </tr>\n    <tr>\n      <th>4</th>\n      <td>2016</td>\n      <td>375349</td>\n      <td>371319</td>\n    </tr>\n    <tr>\n      <th>5</th>\n      <td>2017</td>\n      <td>386096</td>\n      <td>371274</td>\n    </tr>\n    <tr>\n      <th>6</th>\n      <td>2018</td>\n      <td>386818</td>\n      <td>373298</td>\n    </tr>\n    <tr>\n      <th>7</th>\n      <td>2019</td>\n      <td>378895</td>\n      <td>391506</td>\n    </tr>\n    <tr>\n      <th>8</th>\n      <td>2020</td>\n      <td>270666</td>\n      <td>409227</td>\n    </tr>\n    <tr>\n      <th>9</th>\n      <td>2021</td>\n      <td>121874</td>\n      <td>407726</td>\n    </tr>\n  </tbody>\n</table>\n</div>"
     },
     "execution_count": 7,
     "metadata": {},
     "output_type": "execute_result"
    }
   ],
   "source": [
    "df_grouped_year = pd.merge(df_grouped_app_year, df_grouped_grant_year, left_on='app_year', right_on='grant_year')\n",
    "df_grouped_year.rename(columns={'app_year': 'year'}, inplace=True)\n",
    "df_grouped_year.drop('grant_year', axis=1, inplace=True)\n",
    "\n",
    "df_grouped_year"
   ],
   "metadata": {
    "collapsed": false,
    "ExecuteTime": {
     "end_time": "2023-06-28T19:42:19.345244800Z",
     "start_time": "2023-06-28T19:42:19.297896400Z"
    }
   }
  },
  {
   "cell_type": "code",
   "execution_count": 8,
   "outputs": [],
   "source": [
    "df_grouped_year.to_csv('C:\\\\Users\\\\thiag\\\\PycharmProjects\\\\genome\\\\data\\\\processed\\\\total_by_year.csv')"
   ],
   "metadata": {
    "collapsed": false,
    "ExecuteTime": {
     "end_time": "2023-06-28T19:43:08.911626700Z",
     "start_time": "2023-06-28T19:43:08.911626700Z"
    }
   }
  },
  {
   "cell_type": "code",
   "execution_count": null,
   "outputs": [],
   "source": [],
   "metadata": {
    "collapsed": false
   }
  }
 ],
 "metadata": {
  "kernelspec": {
   "display_name": "Python 3",
   "language": "python",
   "name": "python3"
  },
  "language_info": {
   "codemirror_mode": {
    "name": "ipython",
    "version": 2
   },
   "file_extension": ".py",
   "mimetype": "text/x-python",
   "name": "python",
   "nbconvert_exporter": "python",
   "pygments_lexer": "ipython2",
   "version": "2.7.6"
  }
 },
 "nbformat": 4,
 "nbformat_minor": 0
}
