{
 "cells": [
  {
   "cell_type": "code",
   "execution_count": 1,
   "id": "initial_id",
   "metadata": {
    "collapsed": true,
    "ExecuteTime": {
     "end_time": "2023-11-05T00:37:06.010787900Z",
     "start_time": "2023-11-05T00:37:04.515627300Z"
    }
   },
   "outputs": [],
   "source": [
    "import json\n",
    "import os\n",
    "import pandas as pd\n",
    "from src.utils.UsefulPaths import Paths\n",
    "from src.utils.SpacyUtils import SpacyUtil\n",
    "pd.set_option('display.float_format', lambda x: '%.2f' % x)"
   ]
  },
  {
   "cell_type": "code",
   "execution_count": 2,
   "outputs": [],
   "source": [
    "paths = Paths()\n",
    "\n",
    "with open(paths.json_subsectors, 'r') as file:\n",
    "    subsectors = json.load(file)"
   ],
   "metadata": {
    "collapsed": false,
    "ExecuteTime": {
     "end_time": "2023-11-05T00:37:06.011788300Z",
     "start_time": "2023-11-05T00:37:06.005601200Z"
    }
   },
   "id": "867500225b0b7a9c"
  },
  {
   "cell_type": "code",
   "execution_count": 3,
   "outputs": [],
   "source": [
    "df_abstract = pd.read_csv(paths.raw_abstract)"
   ],
   "metadata": {
    "collapsed": false,
    "ExecuteTime": {
     "end_time": "2023-11-05T00:37:27.812909700Z",
     "start_time": "2023-11-05T00:37:06.008787600Z"
    }
   },
   "id": "c86c68d55a558f6f"
  },
  {
   "cell_type": "code",
   "execution_count": 4,
   "outputs": [
    {
     "data": {
      "text/plain": "   publication_number                                           abstract\n0         20080063564  Embodiments of techniques for determining the ...\n1         20080025285  A method for supporting frequency hopping of a...\n2         20080056857  To correct any positional misalignment of a su...\n3         20080031117  A holographic optical accessing system include...\n4         20080056179  Transmitting an acknowledgement/negative ackno...",
      "text/html": "<div>\n<style scoped>\n    .dataframe tbody tr th:only-of-type {\n        vertical-align: middle;\n    }\n\n    .dataframe tbody tr th {\n        vertical-align: top;\n    }\n\n    .dataframe thead th {\n        text-align: right;\n    }\n</style>\n<table border=\"1\" class=\"dataframe\">\n  <thead>\n    <tr style=\"text-align: right;\">\n      <th></th>\n      <th>publication_number</th>\n      <th>abstract</th>\n    </tr>\n  </thead>\n  <tbody>\n    <tr>\n      <th>0</th>\n      <td>20080063564</td>\n      <td>Embodiments of techniques for determining the ...</td>\n    </tr>\n    <tr>\n      <th>1</th>\n      <td>20080025285</td>\n      <td>A method for supporting frequency hopping of a...</td>\n    </tr>\n    <tr>\n      <th>2</th>\n      <td>20080056857</td>\n      <td>To correct any positional misalignment of a su...</td>\n    </tr>\n    <tr>\n      <th>3</th>\n      <td>20080031117</td>\n      <td>A holographic optical accessing system include...</td>\n    </tr>\n    <tr>\n      <th>4</th>\n      <td>20080056179</td>\n      <td>Transmitting an acknowledgement/negative ackno...</td>\n    </tr>\n  </tbody>\n</table>\n</div>"
     },
     "execution_count": 4,
     "metadata": {},
     "output_type": "execute_result"
    }
   ],
   "source": [
    "df_abstract.head(5)"
   ],
   "metadata": {
    "collapsed": false,
    "ExecuteTime": {
     "end_time": "2023-11-05T00:37:27.841528400Z",
     "start_time": "2023-11-05T00:37:27.810866500Z"
    }
   },
   "id": "750301322115dd3e"
  },
  {
   "cell_type": "code",
   "execution_count": 5,
   "outputs": [],
   "source": [
    "df_abstract['word_count'] = df_abstract['abstract'].apply(lambda x: len(str(x).split()))"
   ],
   "metadata": {
    "collapsed": false,
    "ExecuteTime": {
     "end_time": "2023-11-05T00:37:45.180423500Z",
     "start_time": "2023-11-05T00:37:27.824527200Z"
    }
   },
   "id": "ddfe9dd41bc0467f"
  },
  {
   "cell_type": "code",
   "execution_count": 6,
   "outputs": [
    {
     "data": {
      "text/plain": "count   4184916.00\nmean        106.39\nstd          40.64\nmin           1.00\n25%          77.00\n50%         109.00\n75%         139.00\nmax        1449.00\nName: word_count, dtype: float64"
     },
     "execution_count": 6,
     "metadata": {},
     "output_type": "execute_result"
    }
   ],
   "source": [
    "df_abstract.word_count.describe()"
   ],
   "metadata": {
    "collapsed": false,
    "ExecuteTime": {
     "end_time": "2023-11-05T00:37:45.292636Z",
     "start_time": "2023-11-05T00:37:45.170911700Z"
    }
   },
   "id": "7e4cc8b80ccb048c"
  },
  {
   "cell_type": "code",
   "execution_count": 7,
   "outputs": [
    {
     "data": {
      "text/plain": "(4184916, 3)"
     },
     "execution_count": 7,
     "metadata": {},
     "output_type": "execute_result"
    }
   ],
   "source": [
    "df_abstract.shape"
   ],
   "metadata": {
    "collapsed": false,
    "ExecuteTime": {
     "end_time": "2023-11-05T00:37:45.306667900Z",
     "start_time": "2023-11-05T00:37:45.292636Z"
    }
   },
   "id": "3cff6475091638a"
  },
  {
   "cell_type": "code",
   "execution_count": 8,
   "outputs": [],
   "source": [
    "df_raw_patents = pd.read_csv(paths.raw_raw_patents, parse_dates=['grant_date', 'app_date'])"
   ],
   "metadata": {
    "collapsed": false,
    "ExecuteTime": {
     "end_time": "2023-11-05T00:38:50.777914200Z",
     "start_time": "2023-11-05T00:37:45.302640700Z"
    }
   },
   "id": "585fb610c016b237"
  },
  {
   "cell_type": "code",
   "execution_count": 9,
   "outputs": [],
   "source": [
    "df_raw_patents = df_raw_patents.drop(['GoogleCity', 'CityCountry'], axis=1)\n",
    "\n",
    "df_raw_patents = df_raw_patents.rename(columns=\n",
    "                                       {\n",
    "                                           'class_IPC_concat': 'class_ipc_concat',\n",
    "                                           'class_IPC_distinct_count': 'class_ipc_distinct_count',\n",
    "                                           'CountryName': 'country_name',\n",
    "                                           'Ecosystem': 'ecosystem'\n",
    "                                       }\n",
    ")\n",
    "\n",
    "df_raw_patents['app_name'] = df_raw_patents.apply(\n",
    "    lambda row: str(row['name_first']) + ' ' + str(row['name_last']) if pd.notnull(row['name_last']) else row['name_first'],\n",
    "    axis=1)\n",
    "\n",
    "df_raw_patents = df_raw_patents.drop(['name_first', 'name_last'], axis=1)\n",
    "\n",
    "df_raw_patents = df_raw_patents.loc[:, [\n",
    "                                           'patent_id',\n",
    "                                           'app_name',\n",
    "                                           'app_year',\n",
    "                                           'city',\n",
    "                                           'country',\n",
    "                                           'country_name',\n",
    "                                           'ecosystem',\n",
    "                                           'grant_date',\n",
    "                                           'grant_year',\n",
    "                                           'app_date',\n",
    "                                           'class_concat',\n",
    "                                           'class_distinct_count',\n",
    "                                           'class_ipc_concat',\n",
    "                                           'class_ipc_distinct_count'\n",
    "                                       ]\n",
    "                 ]\n",
    "\n",
    "df_raw_patents.drop_duplicates(inplace=True)"
   ],
   "metadata": {
    "collapsed": false,
    "ExecuteTime": {
     "end_time": "2023-11-05T00:40:12.740021600Z",
     "start_time": "2023-11-05T00:38:50.780915Z"
    }
   },
   "id": "a008becfe371a30e"
  },
  {
   "cell_type": "code",
   "execution_count": 10,
   "outputs": [
    {
     "data": {
      "text/plain": "(9829883, 14)"
     },
     "execution_count": 10,
     "metadata": {},
     "output_type": "execute_result"
    }
   ],
   "source": [
    "df_raw_patents.shape"
   ],
   "metadata": {
    "collapsed": false,
    "ExecuteTime": {
     "end_time": "2023-11-05T00:40:12.748254500Z",
     "start_time": "2023-11-05T00:40:12.741022100Z"
    }
   },
   "id": "57fcaaed34b3fefc"
  },
  {
   "cell_type": "code",
   "execution_count": 11,
   "outputs": [
    {
     "data": {
      "text/plain": "         publication_number  \\\n0               20120154258   \n1               20120179978   \n4               20120178784   \n7               20120160478   \n11              20120176344   \n...                     ...   \n7854878         20200299065   \n7854882         20200336806   \n7854885         20200280504   \n7854887         20200302226   \n7854891         20200341306   \n\n                                                  abstract  word_count  \\\n0        A display device having at least a plurality o...          88   \n1        Method and apparatus for previewing new events...         138   \n4        It has been found that inhibitors of the renni...          83   \n7        A well tool can include a flow path, and a flo...          59   \n11       According to one disclosed method, coordinates...         149   \n...                                                    ...         ...   \n7854878  A conveyor including a conveyor belt and a fir...         192   \n7854882  A user interface (UI) includes a video display...         141   \n7854885  A wireless network operating system for commun...         165   \n7854887  In a method for failure detection, operational...         145   \n7854891  The present disclosure discloses an LCD and a ...         125   \n\n                    app_name  app_year       city country    country_name  \\\n0              Mitsuru Asano      2012   Kanagawa      JP           Japan   \n1        Christopher Wormald      2012  Kitchener      CA          Canada   \n4            Hugh Montgomery      2012     London      GB  United Kingdom   \n7               Bradley TODD      2012     Duncan      US   United States   \n11              Atid Shamaie      2012     Ottawa      CA          Canada   \n...                      ...       ...        ...     ...             ...   \n7854878      Carter Pedersen      2020   Wahpeton      US   United States   \n7854882        Dongwook YOON      2019  Vancouver      CA          Canada   \n7854885      Tommaso MELODIA      2018     Newton      US   United States   \n7854887       Ahmed Adeniran      2019    Dhahran      SA    Saudi Arabia   \n7854891              Jian LI      2020    Beijing      CN           China   \n\n                     ecosystem                grant_date  grant_year  \\\n0                        Tokyo 2012-06-21 00:00:00+00:00        2012   \n1                     Waterloo 2012-07-12 00:00:00+00:00        2012   \n4        Greater London;London 2012-07-12 00:00:00+00:00        2012   \n7                          NaN 2012-06-28 00:00:00+00:00        2012   \n11                      Ottawa 2012-07-12 00:00:00+00:00        2012   \n...                        ...                       ...         ...   \n7854878                    NaN 2020-09-24 00:00:00+00:00        2020   \n7854882              Vancouver 2020-10-22 00:00:00+00:00        2020   \n7854885                 Boston 2020-09-03 00:00:00+00:00        2020   \n7854887                    NaN 2020-09-24 00:00:00+00:00        2020   \n7854891                Beijing 2020-10-29 00:00:00+00:00        2020   \n\n                         app_date    class_concat  class_distinct_count  \\\n0       2012-02-29 00:00:00+00:00            G09G                  1.00   \n1       2012-01-26 00:00:00+00:00       G06F,H04W                  2.00   \n4       2012-01-30 00:00:00+00:00       A61P,A61K                  2.00   \n7       2012-02-27 00:00:00+00:00       E21B,C01B                  2.00   \n11      2012-03-20 00:00:00+00:00            G06F                  1.00   \n...                           ...             ...                   ...   \n7854878 2020-03-04 00:00:00+00:00            B65G                  1.00   \n7854882 2019-04-19 00:00:00+00:00            H04N                  1.00   \n7854885 2018-11-29 00:00:00+00:00  H04B,H04L,H04W                  3.00   \n7854887 2019-07-03 00:00:00+00:00       G06K,G06F                  2.00   \n7854891 2020-01-06 00:00:00+00:00            G02F                  1.00   \n\n        class_ipc_concat  class_ipc_distinct_count  \n0                   G09G                      1.00  \n1              G06F,H04W                      2.00  \n4                   A61K                      1.00  \n7              C01B,E21B                      2.00  \n11                  G06F                      1.00  \n...                  ...                       ...  \n7854878             B65G                      1.00  \n7854882             H04N                      1.00  \n7854885   H04B,H04L,H04W                      3.00  \n7854887        G06F,G06K                      2.00  \n7854891             G02F                      1.00  \n\n[2721089 rows x 16 columns]",
      "text/html": "<div>\n<style scoped>\n    .dataframe tbody tr th:only-of-type {\n        vertical-align: middle;\n    }\n\n    .dataframe tbody tr th {\n        vertical-align: top;\n    }\n\n    .dataframe thead th {\n        text-align: right;\n    }\n</style>\n<table border=\"1\" class=\"dataframe\">\n  <thead>\n    <tr style=\"text-align: right;\">\n      <th></th>\n      <th>publication_number</th>\n      <th>abstract</th>\n      <th>word_count</th>\n      <th>app_name</th>\n      <th>app_year</th>\n      <th>city</th>\n      <th>country</th>\n      <th>country_name</th>\n      <th>ecosystem</th>\n      <th>grant_date</th>\n      <th>grant_year</th>\n      <th>app_date</th>\n      <th>class_concat</th>\n      <th>class_distinct_count</th>\n      <th>class_ipc_concat</th>\n      <th>class_ipc_distinct_count</th>\n    </tr>\n  </thead>\n  <tbody>\n    <tr>\n      <th>0</th>\n      <td>20120154258</td>\n      <td>A display device having at least a plurality o...</td>\n      <td>88</td>\n      <td>Mitsuru Asano</td>\n      <td>2012</td>\n      <td>Kanagawa</td>\n      <td>JP</td>\n      <td>Japan</td>\n      <td>Tokyo</td>\n      <td>2012-06-21 00:00:00+00:00</td>\n      <td>2012</td>\n      <td>2012-02-29 00:00:00+00:00</td>\n      <td>G09G</td>\n      <td>1.00</td>\n      <td>G09G</td>\n      <td>1.00</td>\n    </tr>\n    <tr>\n      <th>1</th>\n      <td>20120179978</td>\n      <td>Method and apparatus for previewing new events...</td>\n      <td>138</td>\n      <td>Christopher Wormald</td>\n      <td>2012</td>\n      <td>Kitchener</td>\n      <td>CA</td>\n      <td>Canada</td>\n      <td>Waterloo</td>\n      <td>2012-07-12 00:00:00+00:00</td>\n      <td>2012</td>\n      <td>2012-01-26 00:00:00+00:00</td>\n      <td>G06F,H04W</td>\n      <td>2.00</td>\n      <td>G06F,H04W</td>\n      <td>2.00</td>\n    </tr>\n    <tr>\n      <th>4</th>\n      <td>20120178784</td>\n      <td>It has been found that inhibitors of the renni...</td>\n      <td>83</td>\n      <td>Hugh Montgomery</td>\n      <td>2012</td>\n      <td>London</td>\n      <td>GB</td>\n      <td>United Kingdom</td>\n      <td>Greater London;London</td>\n      <td>2012-07-12 00:00:00+00:00</td>\n      <td>2012</td>\n      <td>2012-01-30 00:00:00+00:00</td>\n      <td>A61P,A61K</td>\n      <td>2.00</td>\n      <td>A61K</td>\n      <td>1.00</td>\n    </tr>\n    <tr>\n      <th>7</th>\n      <td>20120160478</td>\n      <td>A well tool can include a flow path, and a flo...</td>\n      <td>59</td>\n      <td>Bradley TODD</td>\n      <td>2012</td>\n      <td>Duncan</td>\n      <td>US</td>\n      <td>United States</td>\n      <td>NaN</td>\n      <td>2012-06-28 00:00:00+00:00</td>\n      <td>2012</td>\n      <td>2012-02-27 00:00:00+00:00</td>\n      <td>E21B,C01B</td>\n      <td>2.00</td>\n      <td>C01B,E21B</td>\n      <td>2.00</td>\n    </tr>\n    <tr>\n      <th>11</th>\n      <td>20120176344</td>\n      <td>According to one disclosed method, coordinates...</td>\n      <td>149</td>\n      <td>Atid Shamaie</td>\n      <td>2012</td>\n      <td>Ottawa</td>\n      <td>CA</td>\n      <td>Canada</td>\n      <td>Ottawa</td>\n      <td>2012-07-12 00:00:00+00:00</td>\n      <td>2012</td>\n      <td>2012-03-20 00:00:00+00:00</td>\n      <td>G06F</td>\n      <td>1.00</td>\n      <td>G06F</td>\n      <td>1.00</td>\n    </tr>\n    <tr>\n      <th>...</th>\n      <td>...</td>\n      <td>...</td>\n      <td>...</td>\n      <td>...</td>\n      <td>...</td>\n      <td>...</td>\n      <td>...</td>\n      <td>...</td>\n      <td>...</td>\n      <td>...</td>\n      <td>...</td>\n      <td>...</td>\n      <td>...</td>\n      <td>...</td>\n      <td>...</td>\n      <td>...</td>\n    </tr>\n    <tr>\n      <th>7854878</th>\n      <td>20200299065</td>\n      <td>A conveyor including a conveyor belt and a fir...</td>\n      <td>192</td>\n      <td>Carter Pedersen</td>\n      <td>2020</td>\n      <td>Wahpeton</td>\n      <td>US</td>\n      <td>United States</td>\n      <td>NaN</td>\n      <td>2020-09-24 00:00:00+00:00</td>\n      <td>2020</td>\n      <td>2020-03-04 00:00:00+00:00</td>\n      <td>B65G</td>\n      <td>1.00</td>\n      <td>B65G</td>\n      <td>1.00</td>\n    </tr>\n    <tr>\n      <th>7854882</th>\n      <td>20200336806</td>\n      <td>A user interface (UI) includes a video display...</td>\n      <td>141</td>\n      <td>Dongwook YOON</td>\n      <td>2019</td>\n      <td>Vancouver</td>\n      <td>CA</td>\n      <td>Canada</td>\n      <td>Vancouver</td>\n      <td>2020-10-22 00:00:00+00:00</td>\n      <td>2020</td>\n      <td>2019-04-19 00:00:00+00:00</td>\n      <td>H04N</td>\n      <td>1.00</td>\n      <td>H04N</td>\n      <td>1.00</td>\n    </tr>\n    <tr>\n      <th>7854885</th>\n      <td>20200280504</td>\n      <td>A wireless network operating system for commun...</td>\n      <td>165</td>\n      <td>Tommaso MELODIA</td>\n      <td>2018</td>\n      <td>Newton</td>\n      <td>US</td>\n      <td>United States</td>\n      <td>Boston</td>\n      <td>2020-09-03 00:00:00+00:00</td>\n      <td>2020</td>\n      <td>2018-11-29 00:00:00+00:00</td>\n      <td>H04B,H04L,H04W</td>\n      <td>3.00</td>\n      <td>H04B,H04L,H04W</td>\n      <td>3.00</td>\n    </tr>\n    <tr>\n      <th>7854887</th>\n      <td>20200302226</td>\n      <td>In a method for failure detection, operational...</td>\n      <td>145</td>\n      <td>Ahmed Adeniran</td>\n      <td>2019</td>\n      <td>Dhahran</td>\n      <td>SA</td>\n      <td>Saudi Arabia</td>\n      <td>NaN</td>\n      <td>2020-09-24 00:00:00+00:00</td>\n      <td>2020</td>\n      <td>2019-07-03 00:00:00+00:00</td>\n      <td>G06K,G06F</td>\n      <td>2.00</td>\n      <td>G06F,G06K</td>\n      <td>2.00</td>\n    </tr>\n    <tr>\n      <th>7854891</th>\n      <td>20200341306</td>\n      <td>The present disclosure discloses an LCD and a ...</td>\n      <td>125</td>\n      <td>Jian LI</td>\n      <td>2020</td>\n      <td>Beijing</td>\n      <td>CN</td>\n      <td>China</td>\n      <td>Beijing</td>\n      <td>2020-10-29 00:00:00+00:00</td>\n      <td>2020</td>\n      <td>2020-01-06 00:00:00+00:00</td>\n      <td>G02F</td>\n      <td>1.00</td>\n      <td>G02F</td>\n      <td>1.00</td>\n    </tr>\n  </tbody>\n</table>\n<p>2721089 rows × 16 columns</p>\n</div>"
     },
     "execution_count": 11,
     "metadata": {},
     "output_type": "execute_result"
    }
   ],
   "source": [
    "df_merged = pd.merge(df_abstract, df_raw_patents, left_on='publication_number', right_on='patent_id', how='inner')\n",
    "df_merged = df_merged.drop_duplicates(subset='publication_number', keep='first')\n",
    "df_merged = df_merged.drop('patent_id', axis=1)\n",
    "df_merged"
   ],
   "metadata": {
    "collapsed": false,
    "ExecuteTime": {
     "end_time": "2023-11-05T00:40:16.172697400Z",
     "start_time": "2023-11-05T00:40:12.747255300Z"
    }
   },
   "id": "2f1484f40b39659b"
  },
  {
   "cell_type": "code",
   "execution_count": 12,
   "outputs": [
    {
     "data": {
      "text/plain": "(553664, 16)"
     },
     "execution_count": 12,
     "metadata": {},
     "output_type": "execute_result"
    }
   ],
   "source": [
    "df = df_merged[\n",
    "    (df_merged.app_date > '2018-01-01 00:00:00+00:00') &\n",
    "    (df_merged.word_count >= 77)\n",
    "]\n",
    "df.shape"
   ],
   "metadata": {
    "collapsed": false,
    "ExecuteTime": {
     "end_time": "2023-11-05T00:40:16.330447300Z",
     "start_time": "2023-11-05T00:40:16.172697400Z"
    }
   },
   "id": "9e588b73655e4762"
  },
  {
   "cell_type": "code",
   "execution_count": 13,
   "outputs": [],
   "source": [
    "df.to_csv(os.path.join(paths.data_processed, 'abstract_patents.csv'), index=False)"
   ],
   "metadata": {
    "collapsed": false,
    "ExecuteTime": {
     "end_time": "2023-11-05T00:40:23.928975200Z",
     "start_time": "2023-11-05T00:40:16.244925Z"
    }
   },
   "id": "1ca618188370fc6"
  },
  {
   "cell_type": "code",
   "execution_count": 14,
   "outputs": [],
   "source": [
    "slice_number = 25000\n",
    "df_sliced = df[:slice_number].copy()\n",
    "df_sliced.to_csv(os.path.join(paths.data_processed, f'abstract_patents_sliced_{slice_number}.csv'), index=False)"
   ],
   "metadata": {
    "collapsed": false,
    "ExecuteTime": {
     "end_time": "2023-11-05T00:40:24.285692200Z",
     "start_time": "2023-11-05T00:40:23.934975100Z"
    }
   },
   "id": "be69e33d8d5eb8b5"
  },
  {
   "cell_type": "code",
   "execution_count": 15,
   "outputs": [],
   "source": [
    "spacy_util = SpacyUtil(model='en_core_web_sm', lemma=True, remove_stopwords=True, lower=True, remove_numbers=False)\n",
    "df_sliced['processed_abstract'] = df_sliced['abstract'].apply(spacy_util.preprocess_text)"
   ],
   "metadata": {
    "collapsed": false,
    "ExecuteTime": {
     "end_time": "2023-11-05T00:44:10.255965300Z",
     "start_time": "2023-11-05T00:40:24.286686500Z"
    }
   },
   "id": "2fa8c5762a13ae4e"
  },
  {
   "cell_type": "code",
   "execution_count": 17,
   "outputs": [],
   "source": [
    "df_sliced['token_count'] = df_sliced['processed_abstract'].apply(lambda x: len(str(x).split()))"
   ],
   "metadata": {
    "collapsed": false,
    "ExecuteTime": {
     "end_time": "2023-11-05T00:45:47.448918800Z",
     "start_time": "2023-11-05T00:45:47.399339700Z"
    }
   },
   "id": "d0aa28ef07c8d576"
  },
  {
   "cell_type": "code",
   "execution_count": 18,
   "outputs": [
    {
     "data": {
      "text/plain": "         publication_number  \\\n4655632         20180152842   \n4655716         20180140889   \n4655724         20180143803   \n4655776         20180169402   \n4655913         20180163931   \n...                     ...   \n5268976         20180271212   \n5268979         20180211124   \n5268983         20180205352   \n5268986         20180289740   \n5268987         20180331730   \n\n                                                  abstract  word_count  \\\n4655632  A method, and a mobile device adapted thereto,...          80   \n4655716  A dumbbell with a selectable number of weight ...         131   \n4655724  A virtual assistant AI system that may be conn...          83   \n4655776  Connector assemblies that are separate from me...         101   \n4655913  An LED tube lamp, comprising a lamp tube, whic...         130   \n...                                                    ...         ...   \n5268976  A comfort system for Cowboy and work boots, in...         106   \n5268979  An automated ridesharing dispatch system inclu...         145   \n5268983  An audio amplifier system includes a delta-sig...         154   \n5268986  A dietary nutritional supplement that provides...         119   \n5268987  Certain aspects of the present disclosure prov...         132   \n\n                    app_name  app_year              city country  \\\n4655632           Moorim Kim      2018             Seoul      KR   \n4655716          Per HÖGLUND      2018         Jonkoping      SE   \n4655724          David Placa      2018     San Francisco      US   \n4655776        Patrick Wells      2018  Columbia Heights      US   \n4655913         Aiming Xiong      2018           Jiaxing      CN   \n...                      ...       ...               ...     ...   \n5268976         Billy Lovell      2018              Azle      US   \n5268979         Daniel Ramot      2018         Kfar Saba      IL   \n5268983      Robert McKENZIE      2018           Toronto      CA   \n5268986           Mark Force      2018           Ashland      US   \n5268987  Amichai SANDEROVICH      2018             Haifa      IL   \n\n               country_name       ecosystem                grant_date  \\\n4655632  Korea, Republic of           Seoul 2018-05-31 00:00:00+00:00   \n4655716              Sweden       Jonkoping 2018-05-24 00:00:00+00:00   \n4655724       United States  Silicon Valley 2018-05-24 00:00:00+00:00   \n4655776       United States     Minneapolis 2018-06-21 00:00:00+00:00   \n4655913               China        Hangzhou 2018-06-14 00:00:00+00:00   \n...                     ...             ...                       ...   \n5268976       United States          Dallas 2018-09-27 00:00:00+00:00   \n5268979              Israel        Tel Aviv 2018-07-26 00:00:00+00:00   \n5268983              Canada         Toronto 2018-07-19 00:00:00+00:00   \n5268986       United States             NaN 2018-10-11 00:00:00+00:00   \n5268987              Israel        Tel Aviv 2018-11-15 00:00:00+00:00   \n\n         grant_year                  app_date                   class_concat  \\\n4655632        2018 2018-01-29 00:00:00+00:00                 H04M,H04W,G06F   \n4655716        2018 2018-01-03 00:00:00+00:00                           A63B   \n4655724        2018 2018-01-16 00:00:00+00:00                           G06F   \n4655776        2018 2018-02-15 00:00:00+00:00                      H01R,A61N   \n4655913        2018 2018-02-06 00:00:00+00:00            F21Y,F21K,F21V,H05B   \n...             ...                       ...                            ...   \n5268976        2018 2018-05-16 00:00:00+00:00                           A43B   \n5268979        2018 2018-03-07 00:00:00+00:00       G08G,G01C,G06Q,G06K,B60N   \n5268983        2018 2018-01-17 00:00:00+00:00  G06F,H03L,H04B,H03M,H03F,H04L   \n5268986        2018 2018-06-13 00:00:00+00:00                           A61K   \n5268987        2018 2018-05-07 00:00:00+00:00                           H04B   \n\n         class_distinct_count               class_ipc_concat  \\\n4655632                  3.00                 G06F,H04M,H04W   \n4655716                  1.00                           A63B   \n4655724                  1.00                           G06F   \n4655776                  2.00                      A61N,H01R   \n4655913                  4.00            F21K,F21V,F21Y,H05B   \n...                       ...                            ...   \n5268976                  1.00                           A43B   \n5268979                  5.00       B60N,G01C,G06K,G06Q,G08G   \n5268983                  6.00  G06F,H03F,H03L,H03M,H04B,H04L   \n5268986                  1.00                           A61K   \n5268987                  1.00                           H04B   \n\n         class_ipc_distinct_count  \\\n4655632                      3.00   \n4655716                      1.00   \n4655724                      1.00   \n4655776                      2.00   \n4655913                      4.00   \n...                           ...   \n5268976                      1.00   \n5268979                      5.00   \n5268983                      6.00   \n5268986                      1.00   \n5268987                      1.00   \n\n                                        processed_abstract  token_count  \n4655632  method mobile device adapt thereto verify user...           46  \n4655716  dumbbell selectable number weight disk include...           76  \n4655724  virtual assistant ai system connect wide varie...           49  \n4655776  connector assembly separate medical lead exten...           60  \n4655913  led tube lamp comprise lamp tube include light...           78  \n...                                                    ...          ...  \n5268976  comfort system cowboy work boot include insole...           64  \n5268979  automate ridesharing dispatch system include c...           78  \n5268983  audio amplifier system include delta sigma mod...          108  \n5268986  dietary nutritional supplement provide relief ...           75  \n5268987  certain aspect present disclosure provide meth...           49  \n\n[25000 rows x 18 columns]",
      "text/html": "<div>\n<style scoped>\n    .dataframe tbody tr th:only-of-type {\n        vertical-align: middle;\n    }\n\n    .dataframe tbody tr th {\n        vertical-align: top;\n    }\n\n    .dataframe thead th {\n        text-align: right;\n    }\n</style>\n<table border=\"1\" class=\"dataframe\">\n  <thead>\n    <tr style=\"text-align: right;\">\n      <th></th>\n      <th>publication_number</th>\n      <th>abstract</th>\n      <th>word_count</th>\n      <th>app_name</th>\n      <th>app_year</th>\n      <th>city</th>\n      <th>country</th>\n      <th>country_name</th>\n      <th>ecosystem</th>\n      <th>grant_date</th>\n      <th>grant_year</th>\n      <th>app_date</th>\n      <th>class_concat</th>\n      <th>class_distinct_count</th>\n      <th>class_ipc_concat</th>\n      <th>class_ipc_distinct_count</th>\n      <th>processed_abstract</th>\n      <th>token_count</th>\n    </tr>\n  </thead>\n  <tbody>\n    <tr>\n      <th>4655632</th>\n      <td>20180152842</td>\n      <td>A method, and a mobile device adapted thereto,...</td>\n      <td>80</td>\n      <td>Moorim Kim</td>\n      <td>2018</td>\n      <td>Seoul</td>\n      <td>KR</td>\n      <td>Korea, Republic of</td>\n      <td>Seoul</td>\n      <td>2018-05-31 00:00:00+00:00</td>\n      <td>2018</td>\n      <td>2018-01-29 00:00:00+00:00</td>\n      <td>H04M,H04W,G06F</td>\n      <td>3.00</td>\n      <td>G06F,H04M,H04W</td>\n      <td>3.00</td>\n      <td>method mobile device adapt thereto verify user...</td>\n      <td>46</td>\n    </tr>\n    <tr>\n      <th>4655716</th>\n      <td>20180140889</td>\n      <td>A dumbbell with a selectable number of weight ...</td>\n      <td>131</td>\n      <td>Per HÖGLUND</td>\n      <td>2018</td>\n      <td>Jonkoping</td>\n      <td>SE</td>\n      <td>Sweden</td>\n      <td>Jonkoping</td>\n      <td>2018-05-24 00:00:00+00:00</td>\n      <td>2018</td>\n      <td>2018-01-03 00:00:00+00:00</td>\n      <td>A63B</td>\n      <td>1.00</td>\n      <td>A63B</td>\n      <td>1.00</td>\n      <td>dumbbell selectable number weight disk include...</td>\n      <td>76</td>\n    </tr>\n    <tr>\n      <th>4655724</th>\n      <td>20180143803</td>\n      <td>A virtual assistant AI system that may be conn...</td>\n      <td>83</td>\n      <td>David Placa</td>\n      <td>2018</td>\n      <td>San Francisco</td>\n      <td>US</td>\n      <td>United States</td>\n      <td>Silicon Valley</td>\n      <td>2018-05-24 00:00:00+00:00</td>\n      <td>2018</td>\n      <td>2018-01-16 00:00:00+00:00</td>\n      <td>G06F</td>\n      <td>1.00</td>\n      <td>G06F</td>\n      <td>1.00</td>\n      <td>virtual assistant ai system connect wide varie...</td>\n      <td>49</td>\n    </tr>\n    <tr>\n      <th>4655776</th>\n      <td>20180169402</td>\n      <td>Connector assemblies that are separate from me...</td>\n      <td>101</td>\n      <td>Patrick Wells</td>\n      <td>2018</td>\n      <td>Columbia Heights</td>\n      <td>US</td>\n      <td>United States</td>\n      <td>Minneapolis</td>\n      <td>2018-06-21 00:00:00+00:00</td>\n      <td>2018</td>\n      <td>2018-02-15 00:00:00+00:00</td>\n      <td>H01R,A61N</td>\n      <td>2.00</td>\n      <td>A61N,H01R</td>\n      <td>2.00</td>\n      <td>connector assembly separate medical lead exten...</td>\n      <td>60</td>\n    </tr>\n    <tr>\n      <th>4655913</th>\n      <td>20180163931</td>\n      <td>An LED tube lamp, comprising a lamp tube, whic...</td>\n      <td>130</td>\n      <td>Aiming Xiong</td>\n      <td>2018</td>\n      <td>Jiaxing</td>\n      <td>CN</td>\n      <td>China</td>\n      <td>Hangzhou</td>\n      <td>2018-06-14 00:00:00+00:00</td>\n      <td>2018</td>\n      <td>2018-02-06 00:00:00+00:00</td>\n      <td>F21Y,F21K,F21V,H05B</td>\n      <td>4.00</td>\n      <td>F21K,F21V,F21Y,H05B</td>\n      <td>4.00</td>\n      <td>led tube lamp comprise lamp tube include light...</td>\n      <td>78</td>\n    </tr>\n    <tr>\n      <th>...</th>\n      <td>...</td>\n      <td>...</td>\n      <td>...</td>\n      <td>...</td>\n      <td>...</td>\n      <td>...</td>\n      <td>...</td>\n      <td>...</td>\n      <td>...</td>\n      <td>...</td>\n      <td>...</td>\n      <td>...</td>\n      <td>...</td>\n      <td>...</td>\n      <td>...</td>\n      <td>...</td>\n      <td>...</td>\n      <td>...</td>\n    </tr>\n    <tr>\n      <th>5268976</th>\n      <td>20180271212</td>\n      <td>A comfort system for Cowboy and work boots, in...</td>\n      <td>106</td>\n      <td>Billy Lovell</td>\n      <td>2018</td>\n      <td>Azle</td>\n      <td>US</td>\n      <td>United States</td>\n      <td>Dallas</td>\n      <td>2018-09-27 00:00:00+00:00</td>\n      <td>2018</td>\n      <td>2018-05-16 00:00:00+00:00</td>\n      <td>A43B</td>\n      <td>1.00</td>\n      <td>A43B</td>\n      <td>1.00</td>\n      <td>comfort system cowboy work boot include insole...</td>\n      <td>64</td>\n    </tr>\n    <tr>\n      <th>5268979</th>\n      <td>20180211124</td>\n      <td>An automated ridesharing dispatch system inclu...</td>\n      <td>145</td>\n      <td>Daniel Ramot</td>\n      <td>2018</td>\n      <td>Kfar Saba</td>\n      <td>IL</td>\n      <td>Israel</td>\n      <td>Tel Aviv</td>\n      <td>2018-07-26 00:00:00+00:00</td>\n      <td>2018</td>\n      <td>2018-03-07 00:00:00+00:00</td>\n      <td>G08G,G01C,G06Q,G06K,B60N</td>\n      <td>5.00</td>\n      <td>B60N,G01C,G06K,G06Q,G08G</td>\n      <td>5.00</td>\n      <td>automate ridesharing dispatch system include c...</td>\n      <td>78</td>\n    </tr>\n    <tr>\n      <th>5268983</th>\n      <td>20180205352</td>\n      <td>An audio amplifier system includes a delta-sig...</td>\n      <td>154</td>\n      <td>Robert McKENZIE</td>\n      <td>2018</td>\n      <td>Toronto</td>\n      <td>CA</td>\n      <td>Canada</td>\n      <td>Toronto</td>\n      <td>2018-07-19 00:00:00+00:00</td>\n      <td>2018</td>\n      <td>2018-01-17 00:00:00+00:00</td>\n      <td>G06F,H03L,H04B,H03M,H03F,H04L</td>\n      <td>6.00</td>\n      <td>G06F,H03F,H03L,H03M,H04B,H04L</td>\n      <td>6.00</td>\n      <td>audio amplifier system include delta sigma mod...</td>\n      <td>108</td>\n    </tr>\n    <tr>\n      <th>5268986</th>\n      <td>20180289740</td>\n      <td>A dietary nutritional supplement that provides...</td>\n      <td>119</td>\n      <td>Mark Force</td>\n      <td>2018</td>\n      <td>Ashland</td>\n      <td>US</td>\n      <td>United States</td>\n      <td>NaN</td>\n      <td>2018-10-11 00:00:00+00:00</td>\n      <td>2018</td>\n      <td>2018-06-13 00:00:00+00:00</td>\n      <td>A61K</td>\n      <td>1.00</td>\n      <td>A61K</td>\n      <td>1.00</td>\n      <td>dietary nutritional supplement provide relief ...</td>\n      <td>75</td>\n    </tr>\n    <tr>\n      <th>5268987</th>\n      <td>20180331730</td>\n      <td>Certain aspects of the present disclosure prov...</td>\n      <td>132</td>\n      <td>Amichai SANDEROVICH</td>\n      <td>2018</td>\n      <td>Haifa</td>\n      <td>IL</td>\n      <td>Israel</td>\n      <td>Tel Aviv</td>\n      <td>2018-11-15 00:00:00+00:00</td>\n      <td>2018</td>\n      <td>2018-05-07 00:00:00+00:00</td>\n      <td>H04B</td>\n      <td>1.00</td>\n      <td>H04B</td>\n      <td>1.00</td>\n      <td>certain aspect present disclosure provide meth...</td>\n      <td>49</td>\n    </tr>\n  </tbody>\n</table>\n<p>25000 rows × 18 columns</p>\n</div>"
     },
     "execution_count": 18,
     "metadata": {},
     "output_type": "execute_result"
    }
   ],
   "source": [
    "df_sliced"
   ],
   "metadata": {
    "collapsed": false,
    "ExecuteTime": {
     "end_time": "2023-11-05T00:45:48.590272600Z",
     "start_time": "2023-11-05T00:45:48.587202500Z"
    }
   },
   "id": "571bec66e95ec460"
  },
  {
   "cell_type": "code",
   "execution_count": 19,
   "outputs": [],
   "source": [
    "df_sliced[:1000].to_csv(os.path.join(paths.data_processed, f'abstract_patents_sliced_1000.csv'), index=False)\n",
    "df_sliced[:5000].to_csv(os.path.join(paths.data_processed, f'abstract_patents_sliced_5000.csv'), index=False)\n",
    "df_sliced[:10000].to_csv(os.path.join(paths.data_processed, f'abstract_patents_sliced_10000.csv'), index=False)\n",
    "df_sliced[:15000].to_csv(os.path.join(paths.data_processed, f'abstract_patents_sliced_15000.csv'), index=False)"
   ],
   "metadata": {
    "collapsed": false,
    "ExecuteTime": {
     "end_time": "2023-11-05T00:46:13.310346200Z",
     "start_time": "2023-11-05T00:46:12.737401Z"
    }
   },
   "id": "b6ad79f25684c5c6"
  },
  {
   "cell_type": "code",
   "execution_count": null,
   "outputs": [],
   "source": [],
   "metadata": {
    "collapsed": false
   },
   "id": "b5d87c3789d1b74c"
  }
 ],
 "metadata": {
  "kernelspec": {
   "display_name": "Python 3",
   "language": "python",
   "name": "python3"
  },
  "language_info": {
   "codemirror_mode": {
    "name": "ipython",
    "version": 2
   },
   "file_extension": ".py",
   "mimetype": "text/x-python",
   "name": "python",
   "nbconvert_exporter": "python",
   "pygments_lexer": "ipython2",
   "version": "2.7.6"
  }
 },
 "nbformat": 4,
 "nbformat_minor": 5
}
