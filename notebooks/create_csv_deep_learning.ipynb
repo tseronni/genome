{
 "cells": [
  {
   "cell_type": "code",
   "execution_count": 37,
   "id": "initial_id",
   "metadata": {
    "collapsed": true,
    "ExecuteTime": {
     "end_time": "2023-11-03T02:58:25.100985100Z",
     "start_time": "2023-11-03T02:58:25.094742200Z"
    }
   },
   "outputs": [],
   "source": [
    "import json\n",
    "import os\n",
    "import pandas as pd\n",
    "from src.utils.UsefulPaths import Paths\n",
    "pd.set_option('display.float_format', lambda x: '%.2f' % x)"
   ]
  },
  {
   "cell_type": "code",
   "execution_count": 2,
   "outputs": [],
   "source": [
    "paths = Paths()\n",
    "\n",
    "with open(paths.json_subsectors, 'r') as file:\n",
    "    subsectors = json.load(file)"
   ],
   "metadata": {
    "collapsed": false,
    "ExecuteTime": {
     "end_time": "2023-11-03T02:15:44.112646500Z",
     "start_time": "2023-11-03T02:15:44.105626400Z"
    }
   },
   "id": "867500225b0b7a9c"
  },
  {
   "cell_type": "code",
   "execution_count": 3,
   "outputs": [],
   "source": [
    "df_abstract = pd.read_csv(paths.raw_abstract)"
   ],
   "metadata": {
    "collapsed": false,
    "ExecuteTime": {
     "end_time": "2023-11-03T02:15:59.191088700Z",
     "start_time": "2023-11-03T02:15:44.110643800Z"
    }
   },
   "id": "c86c68d55a558f6f"
  },
  {
   "cell_type": "code",
   "execution_count": 4,
   "outputs": [
    {
     "data": {
      "text/plain": "   publication_number                                           abstract\n0         20080063564  Embodiments of techniques for determining the ...\n1         20080025285  A method for supporting frequency hopping of a...\n2         20080056857  To correct any positional misalignment of a su...\n3         20080031117  A holographic optical accessing system include...\n4         20080056179  Transmitting an acknowledgement/negative ackno...",
      "text/html": "<div>\n<style scoped>\n    .dataframe tbody tr th:only-of-type {\n        vertical-align: middle;\n    }\n\n    .dataframe tbody tr th {\n        vertical-align: top;\n    }\n\n    .dataframe thead th {\n        text-align: right;\n    }\n</style>\n<table border=\"1\" class=\"dataframe\">\n  <thead>\n    <tr style=\"text-align: right;\">\n      <th></th>\n      <th>publication_number</th>\n      <th>abstract</th>\n    </tr>\n  </thead>\n  <tbody>\n    <tr>\n      <th>0</th>\n      <td>20080063564</td>\n      <td>Embodiments of techniques for determining the ...</td>\n    </tr>\n    <tr>\n      <th>1</th>\n      <td>20080025285</td>\n      <td>A method for supporting frequency hopping of a...</td>\n    </tr>\n    <tr>\n      <th>2</th>\n      <td>20080056857</td>\n      <td>To correct any positional misalignment of a su...</td>\n    </tr>\n    <tr>\n      <th>3</th>\n      <td>20080031117</td>\n      <td>A holographic optical accessing system include...</td>\n    </tr>\n    <tr>\n      <th>4</th>\n      <td>20080056179</td>\n      <td>Transmitting an acknowledgement/negative ackno...</td>\n    </tr>\n  </tbody>\n</table>\n</div>"
     },
     "execution_count": 4,
     "metadata": {},
     "output_type": "execute_result"
    }
   ],
   "source": [
    "df_abstract.head(5)"
   ],
   "metadata": {
    "collapsed": false,
    "ExecuteTime": {
     "end_time": "2023-11-03T02:15:59.209324700Z",
     "start_time": "2023-11-03T02:15:59.201101100Z"
    }
   },
   "id": "750301322115dd3e"
  },
  {
   "cell_type": "code",
   "execution_count": 5,
   "outputs": [],
   "source": [
    "df_abstract['word_count'] = df_abstract['abstract'].apply(lambda x: len(str(x).split()))"
   ],
   "metadata": {
    "collapsed": false,
    "ExecuteTime": {
     "end_time": "2023-11-03T02:16:10.859165100Z",
     "start_time": "2023-11-03T02:15:59.208116100Z"
    }
   },
   "id": "ddfe9dd41bc0467f"
  },
  {
   "cell_type": "code",
   "execution_count": 19,
   "outputs": [
    {
     "data": {
      "text/plain": "count   4184916.00\nmean        106.39\nstd          40.64\nmin           1.00\n25%          77.00\n50%         109.00\n75%         139.00\nmax        1449.00\nName: word_count, dtype: float64"
     },
     "execution_count": 19,
     "metadata": {},
     "output_type": "execute_result"
    }
   ],
   "source": [
    "df_abstract.word_count.describe()"
   ],
   "metadata": {
    "collapsed": false,
    "ExecuteTime": {
     "end_time": "2023-11-03T02:27:09.639810500Z",
     "start_time": "2023-11-03T02:27:09.532756400Z"
    }
   },
   "id": "7e4cc8b80ccb048c"
  },
  {
   "cell_type": "code",
   "execution_count": 6,
   "outputs": [
    {
     "data": {
      "text/plain": "(4184916, 3)"
     },
     "execution_count": 6,
     "metadata": {},
     "output_type": "execute_result"
    }
   ],
   "source": [
    "df_abstract.shape"
   ],
   "metadata": {
    "collapsed": false,
    "ExecuteTime": {
     "end_time": "2023-11-03T02:16:10.867265900Z",
     "start_time": "2023-11-03T02:16:10.859165100Z"
    }
   },
   "id": "3cff6475091638a"
  },
  {
   "cell_type": "code",
   "execution_count": 7,
   "outputs": [],
   "source": [
    "df_raw_patents = pd.read_csv(paths.raw_raw_patents, parse_dates=['grant_date', 'app_date'])"
   ],
   "metadata": {
    "collapsed": false,
    "ExecuteTime": {
     "end_time": "2023-11-03T02:16:56.068049200Z",
     "start_time": "2023-11-03T02:16:10.864265900Z"
    }
   },
   "id": "585fb610c016b237"
  },
  {
   "cell_type": "code",
   "execution_count": 8,
   "outputs": [],
   "source": [
    "df_raw_patents = df_raw_patents.drop(['GoogleCity', 'CityCountry'], axis=1)\n",
    "\n",
    "df_raw_patents = df_raw_patents.rename(columns=\n",
    "                                       {\n",
    "                                           'class_IPC_concat': 'class_ipc_concat',\n",
    "                                           'class_IPC_distinct_count': 'class_ipc_distinct_count',\n",
    "                                           'CountryName': 'country_name',\n",
    "                                           'Ecosystem': 'ecosystem'\n",
    "                                       }\n",
    ")\n",
    "\n",
    "df_raw_patents['app_name'] = df_raw_patents.apply(\n",
    "    lambda row: str(row['name_first']) + ' ' + str(row['name_last']) if pd.notnull(row['name_last']) else row['name_first'],\n",
    "    axis=1)\n",
    "\n",
    "df_raw_patents = df_raw_patents.drop(['name_first', 'name_last'], axis=1)\n",
    "\n",
    "df_raw_patents = df_raw_patents.loc[:, [\n",
    "                                           'patent_id',\n",
    "                                           'app_name',\n",
    "                                           'app_year',\n",
    "                                           'city',\n",
    "                                           'country',\n",
    "                                           'country_name',\n",
    "                                           'ecosystem',\n",
    "                                           'grant_date',\n",
    "                                           'grant_year',\n",
    "                                           'app_date',\n",
    "                                           'class_concat',\n",
    "                                           'class_distinct_count',\n",
    "                                           'class_ipc_concat',\n",
    "                                           'class_ipc_distinct_count'\n",
    "                                       ]\n",
    "                 ]\n",
    "\n",
    "df_raw_patents.drop_duplicates(inplace=True)"
   ],
   "metadata": {
    "collapsed": false,
    "ExecuteTime": {
     "end_time": "2023-11-03T02:17:54.807797Z",
     "start_time": "2023-11-03T02:16:56.392616800Z"
    }
   },
   "id": "a008becfe371a30e"
  },
  {
   "cell_type": "code",
   "execution_count": 9,
   "outputs": [
    {
     "data": {
      "text/plain": "(9829883, 14)"
     },
     "execution_count": 9,
     "metadata": {},
     "output_type": "execute_result"
    }
   ],
   "source": [
    "df_raw_patents.shape"
   ],
   "metadata": {
    "collapsed": false,
    "ExecuteTime": {
     "end_time": "2023-11-03T02:17:54.815300900Z",
     "start_time": "2023-11-03T02:17:54.807797Z"
    }
   },
   "id": "57fcaaed34b3fefc"
  },
  {
   "cell_type": "code",
   "execution_count": 15,
   "outputs": [
    {
     "data": {
      "text/plain": "         publication_number  \\\n0               20120154258   \n1               20120179978   \n4               20120178784   \n7               20120160478   \n11              20120176344   \n...                     ...   \n7854878         20200299065   \n7854882         20200336806   \n7854885         20200280504   \n7854887         20200302226   \n7854891         20200341306   \n\n                                                  abstract  word_count  \\\n0        A display device having at least a plurality o...          88   \n1        Method and apparatus for previewing new events...         138   \n4        It has been found that inhibitors of the renni...          83   \n7        A well tool can include a flow path, and a flo...          59   \n11       According to one disclosed method, coordinates...         149   \n...                                                    ...         ...   \n7854878  A conveyor including a conveyor belt and a fir...         192   \n7854882  A user interface (UI) includes a video display...         141   \n7854885  A wireless network operating system for commun...         165   \n7854887  In a method for failure detection, operational...         145   \n7854891  The present disclosure discloses an LCD and a ...         125   \n\n           patent_id             app_name  app_year       city country  \\\n0        20120154258        Mitsuru Asano      2012   Kanagawa      JP   \n1        20120179978  Christopher Wormald      2012  Kitchener      CA   \n4        20120178784      Hugh Montgomery      2012     London      GB   \n7        20120160478         Bradley TODD      2012     Duncan      US   \n11       20120176344         Atid Shamaie      2012     Ottawa      CA   \n...              ...                  ...       ...        ...     ...   \n7854878  20200299065      Carter Pedersen      2020   Wahpeton      US   \n7854882  20200336806        Dongwook YOON      2019  Vancouver      CA   \n7854885  20200280504      Tommaso MELODIA      2018     Newton      US   \n7854887  20200302226       Ahmed Adeniran      2019    Dhahran      SA   \n7854891  20200341306              Jian LI      2020    Beijing      CN   \n\n           country_name              ecosystem                grant_date  \\\n0                 Japan                  Tokyo 2012-06-21 00:00:00+00:00   \n1                Canada               Waterloo 2012-07-12 00:00:00+00:00   \n4        United Kingdom  Greater London;London 2012-07-12 00:00:00+00:00   \n7         United States                    NaN 2012-06-28 00:00:00+00:00   \n11               Canada                 Ottawa 2012-07-12 00:00:00+00:00   \n...                 ...                    ...                       ...   \n7854878   United States                    NaN 2020-09-24 00:00:00+00:00   \n7854882          Canada              Vancouver 2020-10-22 00:00:00+00:00   \n7854885   United States                 Boston 2020-09-03 00:00:00+00:00   \n7854887    Saudi Arabia                    NaN 2020-09-24 00:00:00+00:00   \n7854891           China                Beijing 2020-10-29 00:00:00+00:00   \n\n         grant_year                  app_date    class_concat  \\\n0              2012 2012-02-29 00:00:00+00:00            G09G   \n1              2012 2012-01-26 00:00:00+00:00       G06F,H04W   \n4              2012 2012-01-30 00:00:00+00:00       A61P,A61K   \n7              2012 2012-02-27 00:00:00+00:00       E21B,C01B   \n11             2012 2012-03-20 00:00:00+00:00            G06F   \n...             ...                       ...             ...   \n7854878        2020 2020-03-04 00:00:00+00:00            B65G   \n7854882        2020 2019-04-19 00:00:00+00:00            H04N   \n7854885        2020 2018-11-29 00:00:00+00:00  H04B,H04L,H04W   \n7854887        2020 2019-07-03 00:00:00+00:00       G06K,G06F   \n7854891        2020 2020-01-06 00:00:00+00:00            G02F   \n\n         class_distinct_count class_ipc_concat  class_ipc_distinct_count  \n0                        1.00             G09G                      1.00  \n1                        2.00        G06F,H04W                      2.00  \n4                        2.00             A61K                      1.00  \n7                        2.00        C01B,E21B                      2.00  \n11                       1.00             G06F                      1.00  \n...                       ...              ...                       ...  \n7854878                  1.00             B65G                      1.00  \n7854882                  1.00             H04N                      1.00  \n7854885                  3.00   H04B,H04L,H04W                      3.00  \n7854887                  2.00        G06F,G06K                      2.00  \n7854891                  1.00             G02F                      1.00  \n\n[2721089 rows x 17 columns]",
      "text/html": "<div>\n<style scoped>\n    .dataframe tbody tr th:only-of-type {\n        vertical-align: middle;\n    }\n\n    .dataframe tbody tr th {\n        vertical-align: top;\n    }\n\n    .dataframe thead th {\n        text-align: right;\n    }\n</style>\n<table border=\"1\" class=\"dataframe\">\n  <thead>\n    <tr style=\"text-align: right;\">\n      <th></th>\n      <th>publication_number</th>\n      <th>abstract</th>\n      <th>word_count</th>\n      <th>patent_id</th>\n      <th>app_name</th>\n      <th>app_year</th>\n      <th>city</th>\n      <th>country</th>\n      <th>country_name</th>\n      <th>ecosystem</th>\n      <th>grant_date</th>\n      <th>grant_year</th>\n      <th>app_date</th>\n      <th>class_concat</th>\n      <th>class_distinct_count</th>\n      <th>class_ipc_concat</th>\n      <th>class_ipc_distinct_count</th>\n    </tr>\n  </thead>\n  <tbody>\n    <tr>\n      <th>0</th>\n      <td>20120154258</td>\n      <td>A display device having at least a plurality o...</td>\n      <td>88</td>\n      <td>20120154258</td>\n      <td>Mitsuru Asano</td>\n      <td>2012</td>\n      <td>Kanagawa</td>\n      <td>JP</td>\n      <td>Japan</td>\n      <td>Tokyo</td>\n      <td>2012-06-21 00:00:00+00:00</td>\n      <td>2012</td>\n      <td>2012-02-29 00:00:00+00:00</td>\n      <td>G09G</td>\n      <td>1.00</td>\n      <td>G09G</td>\n      <td>1.00</td>\n    </tr>\n    <tr>\n      <th>1</th>\n      <td>20120179978</td>\n      <td>Method and apparatus for previewing new events...</td>\n      <td>138</td>\n      <td>20120179978</td>\n      <td>Christopher Wormald</td>\n      <td>2012</td>\n      <td>Kitchener</td>\n      <td>CA</td>\n      <td>Canada</td>\n      <td>Waterloo</td>\n      <td>2012-07-12 00:00:00+00:00</td>\n      <td>2012</td>\n      <td>2012-01-26 00:00:00+00:00</td>\n      <td>G06F,H04W</td>\n      <td>2.00</td>\n      <td>G06F,H04W</td>\n      <td>2.00</td>\n    </tr>\n    <tr>\n      <th>4</th>\n      <td>20120178784</td>\n      <td>It has been found that inhibitors of the renni...</td>\n      <td>83</td>\n      <td>20120178784</td>\n      <td>Hugh Montgomery</td>\n      <td>2012</td>\n      <td>London</td>\n      <td>GB</td>\n      <td>United Kingdom</td>\n      <td>Greater London;London</td>\n      <td>2012-07-12 00:00:00+00:00</td>\n      <td>2012</td>\n      <td>2012-01-30 00:00:00+00:00</td>\n      <td>A61P,A61K</td>\n      <td>2.00</td>\n      <td>A61K</td>\n      <td>1.00</td>\n    </tr>\n    <tr>\n      <th>7</th>\n      <td>20120160478</td>\n      <td>A well tool can include a flow path, and a flo...</td>\n      <td>59</td>\n      <td>20120160478</td>\n      <td>Bradley TODD</td>\n      <td>2012</td>\n      <td>Duncan</td>\n      <td>US</td>\n      <td>United States</td>\n      <td>NaN</td>\n      <td>2012-06-28 00:00:00+00:00</td>\n      <td>2012</td>\n      <td>2012-02-27 00:00:00+00:00</td>\n      <td>E21B,C01B</td>\n      <td>2.00</td>\n      <td>C01B,E21B</td>\n      <td>2.00</td>\n    </tr>\n    <tr>\n      <th>11</th>\n      <td>20120176344</td>\n      <td>According to one disclosed method, coordinates...</td>\n      <td>149</td>\n      <td>20120176344</td>\n      <td>Atid Shamaie</td>\n      <td>2012</td>\n      <td>Ottawa</td>\n      <td>CA</td>\n      <td>Canada</td>\n      <td>Ottawa</td>\n      <td>2012-07-12 00:00:00+00:00</td>\n      <td>2012</td>\n      <td>2012-03-20 00:00:00+00:00</td>\n      <td>G06F</td>\n      <td>1.00</td>\n      <td>G06F</td>\n      <td>1.00</td>\n    </tr>\n    <tr>\n      <th>...</th>\n      <td>...</td>\n      <td>...</td>\n      <td>...</td>\n      <td>...</td>\n      <td>...</td>\n      <td>...</td>\n      <td>...</td>\n      <td>...</td>\n      <td>...</td>\n      <td>...</td>\n      <td>...</td>\n      <td>...</td>\n      <td>...</td>\n      <td>...</td>\n      <td>...</td>\n      <td>...</td>\n      <td>...</td>\n    </tr>\n    <tr>\n      <th>7854878</th>\n      <td>20200299065</td>\n      <td>A conveyor including a conveyor belt and a fir...</td>\n      <td>192</td>\n      <td>20200299065</td>\n      <td>Carter Pedersen</td>\n      <td>2020</td>\n      <td>Wahpeton</td>\n      <td>US</td>\n      <td>United States</td>\n      <td>NaN</td>\n      <td>2020-09-24 00:00:00+00:00</td>\n      <td>2020</td>\n      <td>2020-03-04 00:00:00+00:00</td>\n      <td>B65G</td>\n      <td>1.00</td>\n      <td>B65G</td>\n      <td>1.00</td>\n    </tr>\n    <tr>\n      <th>7854882</th>\n      <td>20200336806</td>\n      <td>A user interface (UI) includes a video display...</td>\n      <td>141</td>\n      <td>20200336806</td>\n      <td>Dongwook YOON</td>\n      <td>2019</td>\n      <td>Vancouver</td>\n      <td>CA</td>\n      <td>Canada</td>\n      <td>Vancouver</td>\n      <td>2020-10-22 00:00:00+00:00</td>\n      <td>2020</td>\n      <td>2019-04-19 00:00:00+00:00</td>\n      <td>H04N</td>\n      <td>1.00</td>\n      <td>H04N</td>\n      <td>1.00</td>\n    </tr>\n    <tr>\n      <th>7854885</th>\n      <td>20200280504</td>\n      <td>A wireless network operating system for commun...</td>\n      <td>165</td>\n      <td>20200280504</td>\n      <td>Tommaso MELODIA</td>\n      <td>2018</td>\n      <td>Newton</td>\n      <td>US</td>\n      <td>United States</td>\n      <td>Boston</td>\n      <td>2020-09-03 00:00:00+00:00</td>\n      <td>2020</td>\n      <td>2018-11-29 00:00:00+00:00</td>\n      <td>H04B,H04L,H04W</td>\n      <td>3.00</td>\n      <td>H04B,H04L,H04W</td>\n      <td>3.00</td>\n    </tr>\n    <tr>\n      <th>7854887</th>\n      <td>20200302226</td>\n      <td>In a method for failure detection, operational...</td>\n      <td>145</td>\n      <td>20200302226</td>\n      <td>Ahmed Adeniran</td>\n      <td>2019</td>\n      <td>Dhahran</td>\n      <td>SA</td>\n      <td>Saudi Arabia</td>\n      <td>NaN</td>\n      <td>2020-09-24 00:00:00+00:00</td>\n      <td>2020</td>\n      <td>2019-07-03 00:00:00+00:00</td>\n      <td>G06K,G06F</td>\n      <td>2.00</td>\n      <td>G06F,G06K</td>\n      <td>2.00</td>\n    </tr>\n    <tr>\n      <th>7854891</th>\n      <td>20200341306</td>\n      <td>The present disclosure discloses an LCD and a ...</td>\n      <td>125</td>\n      <td>20200341306</td>\n      <td>Jian LI</td>\n      <td>2020</td>\n      <td>Beijing</td>\n      <td>CN</td>\n      <td>China</td>\n      <td>Beijing</td>\n      <td>2020-10-29 00:00:00+00:00</td>\n      <td>2020</td>\n      <td>2020-01-06 00:00:00+00:00</td>\n      <td>G02F</td>\n      <td>1.00</td>\n      <td>G02F</td>\n      <td>1.00</td>\n    </tr>\n  </tbody>\n</table>\n<p>2721089 rows × 17 columns</p>\n</div>"
     },
     "execution_count": 15,
     "metadata": {},
     "output_type": "execute_result"
    }
   ],
   "source": [
    "df_merged = pd.merge(df_abstract, df_raw_patents, left_on='publication_number', right_on='patent_id', how='inner')\n",
    "df_merged = df_merged.drop_duplicates(subset='publication_number', keep='first')\n",
    "df_merged"
   ],
   "metadata": {
    "collapsed": false,
    "ExecuteTime": {
     "end_time": "2023-11-03T02:20:56.400806700Z",
     "start_time": "2023-11-03T02:20:53.397256800Z"
    }
   },
   "id": "2f1484f40b39659b"
  },
  {
   "cell_type": "code",
   "execution_count": 16,
   "outputs": [
    {
     "data": {
      "text/plain": "(553664, 17)"
     },
     "execution_count": 16,
     "metadata": {},
     "output_type": "execute_result"
    }
   ],
   "source": [
    "df = df_merged[\n",
    "    (df_merged.app_date > '2018-01-01 00:00:00+00:00') &\n",
    "    (df_merged.word_count >= 77)\n",
    "]\n",
    "df.shape"
   ],
   "metadata": {
    "collapsed": false,
    "ExecuteTime": {
     "end_time": "2023-11-03T02:21:07.604979100Z",
     "start_time": "2023-11-03T02:21:07.488931200Z"
    }
   },
   "id": "9e588b73655e4762"
  },
  {
   "cell_type": "code",
   "execution_count": 42,
   "outputs": [],
   "source": [
    "df.to_csv(os.path.join(paths.data_processed, 'abstract_patents.csv'), index=False)"
   ],
   "metadata": {
    "collapsed": false,
    "ExecuteTime": {
     "end_time": "2023-11-03T03:10:20.890787400Z",
     "start_time": "2023-11-03T03:10:13.076181200Z"
    }
   },
   "id": "1ca618188370fc6"
  },
  {
   "cell_type": "code",
   "execution_count": 43,
   "outputs": [],
   "source": [
    "slice_number = 1000\n",
    "df_sliced = df[:slice_number]\n",
    "df_sliced.to_csv(os.path.join(paths.data_processed, 'abstract_patents_sliced.csv'), index=False)"
   ],
   "metadata": {
    "collapsed": false,
    "ExecuteTime": {
     "end_time": "2023-11-03T03:10:31.978346700Z",
     "start_time": "2023-11-03T03:10:31.960930600Z"
    }
   },
   "id": "be69e33d8d5eb8b5"
  },
  {
   "cell_type": "code",
   "execution_count": null,
   "outputs": [],
   "source": [],
   "metadata": {
    "collapsed": false
   },
   "id": "b6ad79f25684c5c6"
  }
 ],
 "metadata": {
  "kernelspec": {
   "display_name": "Python 3",
   "language": "python",
   "name": "python3"
  },
  "language_info": {
   "codemirror_mode": {
    "name": "ipython",
    "version": 2
   },
   "file_extension": ".py",
   "mimetype": "text/x-python",
   "name": "python",
   "nbconvert_exporter": "python",
   "pygments_lexer": "ipython2",
   "version": "2.7.6"
  }
 },
 "nbformat": 4,
 "nbformat_minor": 5
}
