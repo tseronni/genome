{
 "cells": [
  {
   "cell_type": "code",
   "execution_count": 14,
   "outputs": [],
   "source": [
    "subsector_definitions = {\n",
    "  \"Artificial Intelligence, Big Data and Analytics\":\"Artificial Intelligence companies offer products and services modeled on computer systems that simulate human cognition. These systems can sense their environment, learn, think, and respond to stimuli in a way similar to humans.Big Data and Analytics as a sub-sector refers to companies that provide solutions with the core function of identifying patterns and trends from large volumes / sets of data that cannot be processed by traditional database and analysis software, Automated intelligence, assisted intelligence, augmented Intelligence, autonomous intelligence, supervised learning, unsupervised learning, adaptive systems, computer vision, natural language processing, natural language generation, text analytics, speech recognition, semantics technology, decision management, virtual agents, robotic process automation, machine learning, autonomous vehicle, smart robotics, autonomous vehicles, facial and image recognition,Advanced algorithms, advanced analytics, advanced visualization, data mining, user behavior analytics, data storytelling, business intelligence\",\n",
    "  \"Advanced Manufacturing and Robotics\": \"In comparison to Traditional Manufacturing, Advanced Manufacturing involves the use of technology to improve products and/or processes, with the relevant technology being described as \\\"advanced,\\\" \\\"innovative,\\\" or \\\"cutting edge.\\\", Autonomous driving, Industrial robots, Industrial Drones, 3D printing, Industrial IOT, additive manufacturing, advanced manufacturing, industry 4.0, nano-materials, industrial internet of things, cyber physical systems, cyber manufacturing, 3d printing, industrial IoT, internet of things, additive manufacturing, integrated circuit, manufacturing company, machine learning, industrial automation, robotics, predictive maintenance, semiconductor\",\n",
    "  \"Cleantech\": \"Cleantech or clean technology is an umbrella term which is used to define technologies which optimize the use of natural resources, produce energy from renewable sources, increase efficiency and productivity, generate less waste and cause less environmental pollution. Cleantech consists of sustainable solutions in the fields of energy, water, transportation, agriculture and manufa systems.cturing, including advanced material, smart grids, water treatment, efficient energy storage and distributed energy, Clean energy, and other forms of environmental, and sustainable or green, products and services, advanced material, smart grids, water treatment, efficient energy storage, distributed energy system. sustainable energy, solar panels\",\n",
    "  \"Fintech\": \"Describes a business that aims at providing financial services by making use of software and modern technology. [7]Financial technology (Fintech) companies use internet, blockchain and software technologies, as well as algorithms, to offer or facilitate financial services traditionally offered by banks. These services include loans, payments, investments and wealth management. Fintech also includes software that automates financial processes or addresses financial firms\\u2019 core business needs, Insurance Tech, Risk Management, Trading, Portfolios, Personal Finance, Banking, Accounting, Digital Currency, Cryptocurrency, data-driven finance, phone banking, robo-advisory, regtech.\",\n",
    "  \"Blockchain\": \"Companies that develop applications using blockchains, or distributed databases/public ledgers that record transactions and other digital events across a peer-to-peer network. The integrity of each record on a blockchain is cryptographically verified by network participants to create a distributed consensus. Cryptocurrencies and tokens are popular applications of blockchain technology, Distributed ledgers, Digital Mining,Cryptocurrency, Crypto tokens, Altcoins, Bitcoin, Ethereum, Monero, Crypto Exchanges, Smart Contracts, Initial Coin Offerings, decentralized finance (DeFi) applications, non-fungible tokens (NFTs)\",\n",
    "  \"Cybersecurity\": \"Cybersecurity is the body of technologies, processes, and practices designed to protect networks, computers, programs, and data from attack, damage, or unauthorizedaccess. For our purposes it includes application security, information security, networksecurity, disaster recovery / business continuity planning, operational security, andend-user education, cyber security, network security, data security, cloud security, threat detection, mobile security, cyber threat detection\",\n",
    "  \"Agtech\": \"Technologies to help the agriculture industry to feed our growing population without destroying the planet. AgTech is the use of technology in agriculture, horticulture, and aquaculture with the aim of improving yield, efficiency, and profitability through information monitoring and analysis of weather, pests, soil and air temperature. AgTech also includes the use of automation, such as controlling heaters and irrigation and employing pest control through aerosol pheromone dispersal.AgTech can be products, services or applications derived from agriculture that improve various input/output processes, Precision agriculture - PA is an approach to farm management that uses information technology to ensure that the crops and soil receive exactly what they need for optimum health and productivity. Integrated genetics, Physical inputs, Information technology, Smart machinery, Spectral imaging for remote sensing for monitoring the development and health of crops, data-enabled agriculture, food technology, agricultural robots, new foods, efficient sowing\",\n",
    "  \"New Food\": \"New Food includes technologies that can be leveraged to create efficiency and sustainability in designing, producing, choosing, delivering, and consuming food. Solutions and processes that leverage science and technology to create new types of foods and beverages. This category includes alternative proteins such as plant-based meat, fermentation and cellular agriculture, insects-based products, functional food and drinks as well as meal replacements, artificial meat, Alternative protein, Plant-based, vegan food, vegan alternative, vegan product, animal protein, clean meat, plant-based meat, cell-based meat, cellular agriculture technology, meat alternative, meat substitute, insect protein, insect-based, probiotic product, fermentation, cannabis-derived products, cannabis-based, CBD-infused, adaptogenic, nootropic, dairy alternative, mushroom food products, mushroom-based\",\n",
    "  \"Adtech\": \"Advertising technology - different types of analytics and digital tools used in the context of advertising and marketing. Extensive and complex systems used to direct advertising to individuals and specific target audiences. It is the use of tools and software advertisers used to reach audiences, deliver and measure digital advertising campaigns, Conversion/optimization, Email marketing, Mobile marketing, Online & display advertising, Online surveys, tests and panels, Paid search / PPC / AdWords, Search Engine Optimization, Social media & viral marketing, Usability & web design, Web analytics & tracking, Affiliate marketing, B2B digital marketing, ad networks\",\n",
    "  \"Blue Economy\": \"Blue economy is the \\\"sustainable use of ocean resources for economic growth, improved livelihoods, and jobs while preserving the health of the ocean ecosystem. A concept that seeks to promote economic growth, social inclusion and the preservation of livelihoods while at the same time ensuring environmental sustainability of the oceans and coastal areas, ocean sustainability, aquaculture, seafloor mapping, underwater mapping, Marine Transport, Ports, and Shipbuilding, Commercial Fisheries, Coastal and Marine Tourism, maritime logistics, maritime, inwater imaging, sea/ocean waste management\",\n",
    "  \"Digital Media\": \"Digital media is any media that is encoded in a machine-readable format. Digital media can be created, viewed, distributed, modified and preserved on digital electronics devices. Digitized content (text, graphics, audio, and video) that can be transmitted over internet or computer networks, Content, Publishing, Blogs, Social Media, Messengers, News, Gaming, Video, Music, Digital Images, Virtual Reality, Augmented Reality, Digital Media Solutions, digitized information, marketing platform, lead generation, social media marketing, digital advertising, marketing campaign, customer engagement\",\n",
    "  \"Gaming (Digital Media Sub-Cluster)\": \"Development, marketing and monetization of video games and gambling machines / services, PC Gaming, Console Gaming, Mobile Gaming, Smart Gambling Machines, Internet Gambling Services, gaming platform, video games, online games, gaming studio, social games\",\n",
    "  \"AR / VR (Digital Media Sub-Cluster)\": \"Virtual reality (VR) is an artificial, computer-generated simulation or recreation of a real life environment or situation. Augmented reality (AR) is a technology that layers computer-generated enhancements atop an existing reality in order to make it more meaningful through the ability to interact with it, Mixed Reality, 360 video, frame rate, metaverse, virtual world, cross reality, Artificial intelligence, computer vision\",\n",
    "  \"Edtech\": \"Education Technology (also known as \\u201cEdTech\\u201d) refers to an area of technology devoted to the development and application of tools (including software, hardware, and processes) intended to promote education. Put another way, \\u201cEdTech is a study and ethical practice for facilitating learning and improving performance by creating, using and managing appropriate technological processes and resources, online education, educational platform, e-learning, online learning, personalized learning, educational software, learning app, digital education\",\n",
    "  \"Industry 4.0 \": \"Industry 4.0 is revolutionizing the way companies manufacture, improve and distribute their products. Manufacturers are integrating new technologies, including Internet of Things (IoT), cloud computing and analytics, and AI and machine learning into their production facilities and throughout their operations.These smart factories are equipped with advanced sensors, embedded software and robotics that collect and analyze data and allow for better decision making. Even higher value is created when data from production operations is combined with operational data from ERP, supply chain, customer service and other enterprise systems to create whole new levels of visibility and insight from previously siloed information. These digital technologies lead to increased automation, predictive maintenance, self-optimization of process improvements and, above all, a new level of efficiency and responsiveness to customers not previously possible, Internet of Things (IoT), Cloud computing, AI and Machine Learning (ML), Edge computing, Cybersecurity, Supply chain, cloud computing and Big Data, Predictive maintenance, Robotics, Sensors, Autonomous Vehicles\",\n",
    "  \"Biopharma / Biotech\": \" Biopharma is the sub-sector that includes any prescription or non-prescription spending on drugs to treat a disease or a health condition and is regulated by the health authorities. This does not include dietary supplements or any health foods, functional foods, or nutriceuticals. It also includes over-the-counter (OTC) drugs that do not require prescriptions. [6] Biotechnology is the use of living systems and organisms to develop or make products, or \\\"any technological application that uses biological systems, living organisms, or derivatives thereof, to make or modify products or processes for specific use\\\" (UN Convention on Biological Diversity, Art. 2). Depending on the tools and applications, it often overlaps with the (related) fields of bioengineering, biomedical engineering, biomanufacturing, molecular engineering, Biotechnology health care products and vaccines, agricultural biotechnology, biorefineries, DNA, Cloning, Genetically designed, Bioengineering, DNA sequencing, biomolecule labeling\",\n",
    "  \"Medtech / Medical devices\": \"The Medtech sub-sector is primarily focused on designing and manufacturing medical technological equipment, devices, and tools. The definition should exclude distributors and service providers, such as contract research organizations or contract manufacturing organizations\\t. [3] Performing functions like diagnostics,therapeutic devices, treatment and drug delivery\"\n",
    "}"
   ],
   "metadata": {
    "collapsed": false,
    "ExecuteTime": {
     "end_time": "2023-08-30T17:20:44.714494Z",
     "start_time": "2023-08-30T17:20:44.697134Z"
    }
   }
  },
  {
   "cell_type": "code",
   "execution_count": 15,
   "outputs": [],
   "source": [
    "import os\n",
    "import openai\n",
    "import pandas as pd\n",
    "from dotenv import load_dotenv, find_dotenv\n",
    "\n",
    "# Environment Variables\n",
    "_ = load_dotenv(find_dotenv()) # read local .env file\n",
    "openai.api_key  = os.environ['OPENAI_API_KEY']"
   ],
   "metadata": {
    "collapsed": false,
    "ExecuteTime": {
     "end_time": "2023-08-30T17:20:46.519440Z",
     "start_time": "2023-08-30T17:20:46.511350Z"
    }
   }
  },
  {
   "cell_type": "code",
   "execution_count": 16,
   "outputs": [],
   "source": [
    "df = pd.read_excel(\"abstract_joao.xlsx\")"
   ],
   "metadata": {
    "collapsed": false,
    "ExecuteTime": {
     "end_time": "2023-08-30T17:20:47.692867Z",
     "start_time": "2023-08-30T17:20:47.618457Z"
    }
   }
  },
  {
   "cell_type": "code",
   "execution_count": 17,
   "outputs": [
    {
     "data": {
      "text/plain": "   publication_number                                           abstract  \\\n0         20080063564  Embodiments of techniques for determining the ...   \n1         20080025285  A method for supporting frequency hopping of a...   \n2         20080056857  To correct any positional misalignment of a su...   \n3         20080031117  A holographic optical accessing system include...   \n4         20080056179  Transmitting an acknowledgement/negative ackno...   \n\n                            Unnamed: 2  \n0                                Other  \n1  Advanced Manufacturing and Robotics  \n2  Advanced Manufacturing and Robotics  \n3  AR / VR (Digital Media Sub-Cluster)  \n4                        Cybersecurity  ",
      "text/html": "<div>\n<style scoped>\n    .dataframe tbody tr th:only-of-type {\n        vertical-align: middle;\n    }\n\n    .dataframe tbody tr th {\n        vertical-align: top;\n    }\n\n    .dataframe thead th {\n        text-align: right;\n    }\n</style>\n<table border=\"1\" class=\"dataframe\">\n  <thead>\n    <tr style=\"text-align: right;\">\n      <th></th>\n      <th>publication_number</th>\n      <th>abstract</th>\n      <th>Unnamed: 2</th>\n    </tr>\n  </thead>\n  <tbody>\n    <tr>\n      <th>0</th>\n      <td>20080063564</td>\n      <td>Embodiments of techniques for determining the ...</td>\n      <td>Other</td>\n    </tr>\n    <tr>\n      <th>1</th>\n      <td>20080025285</td>\n      <td>A method for supporting frequency hopping of a...</td>\n      <td>Advanced Manufacturing and Robotics</td>\n    </tr>\n    <tr>\n      <th>2</th>\n      <td>20080056857</td>\n      <td>To correct any positional misalignment of a su...</td>\n      <td>Advanced Manufacturing and Robotics</td>\n    </tr>\n    <tr>\n      <th>3</th>\n      <td>20080031117</td>\n      <td>A holographic optical accessing system include...</td>\n      <td>AR / VR (Digital Media Sub-Cluster)</td>\n    </tr>\n    <tr>\n      <th>4</th>\n      <td>20080056179</td>\n      <td>Transmitting an acknowledgement/negative ackno...</td>\n      <td>Cybersecurity</td>\n    </tr>\n  </tbody>\n</table>\n</div>"
     },
     "execution_count": 17,
     "metadata": {},
     "output_type": "execute_result"
    }
   ],
   "source": [
    "df.head()"
   ],
   "metadata": {
    "collapsed": false,
    "ExecuteTime": {
     "end_time": "2023-08-30T17:20:48.730061Z",
     "start_time": "2023-08-30T17:20:48.701614Z"
    }
   }
  },
  {
   "cell_type": "code",
   "execution_count": 18,
   "outputs": [],
   "source": [
    "df.drop(columns=[\"Unnamed: 2\"], inplace=True)"
   ],
   "metadata": {
    "collapsed": false,
    "ExecuteTime": {
     "end_time": "2023-08-30T17:20:50.812916Z",
     "start_time": "2023-08-30T17:20:50.807751Z"
    }
   }
  },
  {
   "cell_type": "code",
   "execution_count": 19,
   "outputs": [
    {
     "data": {
      "text/plain": "   publication_number                                           abstract\n0         20080063564  Embodiments of techniques for determining the ...\n1         20080025285  A method for supporting frequency hopping of a...\n2         20080056857  To correct any positional misalignment of a su...\n3         20080031117  A holographic optical accessing system include...\n4         20080056179  Transmitting an acknowledgement/negative ackno...",
      "text/html": "<div>\n<style scoped>\n    .dataframe tbody tr th:only-of-type {\n        vertical-align: middle;\n    }\n\n    .dataframe tbody tr th {\n        vertical-align: top;\n    }\n\n    .dataframe thead th {\n        text-align: right;\n    }\n</style>\n<table border=\"1\" class=\"dataframe\">\n  <thead>\n    <tr style=\"text-align: right;\">\n      <th></th>\n      <th>publication_number</th>\n      <th>abstract</th>\n    </tr>\n  </thead>\n  <tbody>\n    <tr>\n      <th>0</th>\n      <td>20080063564</td>\n      <td>Embodiments of techniques for determining the ...</td>\n    </tr>\n    <tr>\n      <th>1</th>\n      <td>20080025285</td>\n      <td>A method for supporting frequency hopping of a...</td>\n    </tr>\n    <tr>\n      <th>2</th>\n      <td>20080056857</td>\n      <td>To correct any positional misalignment of a su...</td>\n    </tr>\n    <tr>\n      <th>3</th>\n      <td>20080031117</td>\n      <td>A holographic optical accessing system include...</td>\n    </tr>\n    <tr>\n      <th>4</th>\n      <td>20080056179</td>\n      <td>Transmitting an acknowledgement/negative ackno...</td>\n    </tr>\n  </tbody>\n</table>\n</div>"
     },
     "execution_count": 19,
     "metadata": {},
     "output_type": "execute_result"
    }
   ],
   "source": [
    "df.head()"
   ],
   "metadata": {
    "collapsed": false,
    "ExecuteTime": {
     "end_time": "2023-08-30T17:20:52.631174Z",
     "start_time": "2023-08-30T17:20:52.623471Z"
    }
   }
  },
  {
   "cell_type": "code",
   "execution_count": 20,
   "outputs": [],
   "source": [
    "# Create a new 'subsector' column\n",
    "df['subsector'] = None"
   ],
   "metadata": {
    "collapsed": false,
    "ExecuteTime": {
     "end_time": "2023-08-30T17:20:55.851387Z",
     "start_time": "2023-08-30T17:20:55.843987Z"
    }
   }
  },
  {
   "cell_type": "code",
   "execution_count": 21,
   "outputs": [],
   "source": [
    "df = df.iloc[:10]"
   ],
   "metadata": {
    "collapsed": false,
    "ExecuteTime": {
     "end_time": "2023-08-30T17:20:57.952018Z",
     "start_time": "2023-08-30T17:20:57.942754Z"
    }
   }
  },
  {
   "cell_type": "code",
   "execution_count": 22,
   "outputs": [
    {
     "data": {
      "text/plain": "   publication_number                                           abstract  \\\n0         20080063564  Embodiments of techniques for determining the ...   \n1         20080025285  A method for supporting frequency hopping of a...   \n2         20080056857  To correct any positional misalignment of a su...   \n3         20080031117  A holographic optical accessing system include...   \n4         20080056179  Transmitting an acknowledgement/negative ackno...   \n\n  subsector  \n0      None  \n1      None  \n2      None  \n3      None  \n4      None  ",
      "text/html": "<div>\n<style scoped>\n    .dataframe tbody tr th:only-of-type {\n        vertical-align: middle;\n    }\n\n    .dataframe tbody tr th {\n        vertical-align: top;\n    }\n\n    .dataframe thead th {\n        text-align: right;\n    }\n</style>\n<table border=\"1\" class=\"dataframe\">\n  <thead>\n    <tr style=\"text-align: right;\">\n      <th></th>\n      <th>publication_number</th>\n      <th>abstract</th>\n      <th>subsector</th>\n    </tr>\n  </thead>\n  <tbody>\n    <tr>\n      <th>0</th>\n      <td>20080063564</td>\n      <td>Embodiments of techniques for determining the ...</td>\n      <td>None</td>\n    </tr>\n    <tr>\n      <th>1</th>\n      <td>20080025285</td>\n      <td>A method for supporting frequency hopping of a...</td>\n      <td>None</td>\n    </tr>\n    <tr>\n      <th>2</th>\n      <td>20080056857</td>\n      <td>To correct any positional misalignment of a su...</td>\n      <td>None</td>\n    </tr>\n    <tr>\n      <th>3</th>\n      <td>20080031117</td>\n      <td>A holographic optical accessing system include...</td>\n      <td>None</td>\n    </tr>\n    <tr>\n      <th>4</th>\n      <td>20080056179</td>\n      <td>Transmitting an acknowledgement/negative ackno...</td>\n      <td>None</td>\n    </tr>\n  </tbody>\n</table>\n</div>"
     },
     "execution_count": 22,
     "metadata": {},
     "output_type": "execute_result"
    }
   ],
   "source": [
    "df.head()"
   ],
   "metadata": {
    "collapsed": false,
    "ExecuteTime": {
     "end_time": "2023-08-30T17:21:02.464913Z",
     "start_time": "2023-08-30T17:21:02.458103Z"
    }
   }
  },
  {
   "cell_type": "code",
   "execution_count": 23,
   "outputs": [],
   "source": [
    "class SubsectorAssignmentPromptTemplate:\n",
    "    def format(self, patent_abstract, additional_instructions, **kwargs) -> str:\n",
    "        subsector_definitions = kwargs.get(\"subsector_definitions\", {})\n",
    "        prompt = f\"{additional_instructions}\\n\\nPatent Abstract:\\n{patent_abstract}\\n\\n\"\n",
    "        prompt += \"Subsector Definitions:\\n\"\n",
    "        for key, value in subsector_definitions.items():\n",
    "            prompt += f\"- {key}: {value}\\n\"\n",
    "        return prompt"
   ],
   "metadata": {
    "collapsed": false,
    "ExecuteTime": {
     "end_time": "2023-08-30T17:21:05.976634Z",
     "start_time": "2023-08-30T17:21:05.969909Z"
    }
   }
  },
  {
   "cell_type": "code",
   "execution_count": 24,
   "outputs": [],
   "source": [
    "def assign_subsector(row):\n",
    "    prompt_template = SubsectorAssignmentPromptTemplate()\n",
    "    formatted_prompt = prompt_template.format(\n",
    "        patent_abstract=row['abstract'],\n",
    "        additional_instructions=\"Your task is to categorize the given patent abstract into one of the specified subsectors based on its definitions and keywords. If none of the subsectors apply, label it as 'other'. Please ensure your answer consists solely of the chosen subsector name—no additional text.\",\n",
    "        subsector_definitions=subsector_definitions\n",
    "    )\n",
    "\n",
    "    # Use the formatted prompt with OpenAI's gpt-3.5-turbo to get the assigned subsector\n",
    "    response = openai.Completion.create(\n",
    "        engine=\"text-davinci-003\",\n",
    "        prompt=formatted_prompt,\n",
    "        max_tokens=100\n",
    "    )\n",
    "\n",
    "    assigned_subsector = response.choices[0].text.strip()\n",
    "    return assigned_subsector"
   ],
   "metadata": {
    "collapsed": false,
    "ExecuteTime": {
     "end_time": "2023-08-30T17:21:09.958722Z",
     "start_time": "2023-08-30T17:21:09.951233Z"
    }
   }
  },
  {
   "cell_type": "code",
   "execution_count": 25,
   "outputs": [
    {
     "name": "stdout",
     "output_type": "stream",
     "text": [
      "0    None\n",
      "1    None\n",
      "2    None\n",
      "3    None\n",
      "4    None\n",
      "5    None\n",
      "6    None\n",
      "7    None\n",
      "8    None\n",
      "9    None\n",
      "Name: subsector, dtype: object\n"
     ]
    }
   ],
   "source": [
    "print(df['subsector'])"
   ],
   "metadata": {
    "collapsed": false,
    "ExecuteTime": {
     "end_time": "2023-08-30T17:21:13.104988Z",
     "start_time": "2023-08-30T17:21:13.098363Z"
    }
   }
  },
  {
   "cell_type": "code",
   "execution_count": 10,
   "outputs": [],
   "source": [
    "df.to_excel(\"abstract_joao_subsector2.xlsx\")"
   ],
   "metadata": {
    "collapsed": false,
    "ExecuteTime": {
     "end_time": "2023-08-30T17:04:00.026813Z",
     "start_time": "2023-08-30T17:03:59.995771Z"
    }
   }
  },
  {
   "cell_type": "code",
   "execution_count": null,
   "outputs": [],
   "source": [],
   "metadata": {
    "collapsed": false
   }
  }
 ],
 "metadata": {
  "kernelspec": {
   "display_name": "Python 3",
   "language": "python",
   "name": "python3"
  },
  "language_info": {
   "codemirror_mode": {
    "name": "ipython",
    "version": 2
   },
   "file_extension": ".py",
   "mimetype": "text/x-python",
   "name": "python",
   "nbconvert_exporter": "python",
   "pygments_lexer": "ipython2",
   "version": "2.7.6"
  }
 },
 "nbformat": 4,
 "nbformat_minor": 0
}
