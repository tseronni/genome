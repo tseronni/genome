{
 "cells": [
  {
   "cell_type": "markdown",
   "source": [
    "## 1. OBJECTIVE\n",
    "Classify patents into ecosystems based on their geographical origin\n",
    "\n",
    "<br>\n",
    "\n",
    "### METRICS\n",
    "To be defined"
   ],
   "metadata": {
    "collapsed": false
   }
  },
  {
   "cell_type": "markdown",
   "source": [
    "## 2. DATA\n",
    "\n",
    "### RAW DATA\n",
    "- Subsector definitions: json file containing definitions and keyworkds\n",
    "- Patent abstracts: parquet file containing patent abstracts\n",
    "- Raw patents: parquet file containing general patent data\n",
    "\n",
    "### PROCESSED DATA\n",
    "- raw&abstract_2018-2020.parquet\n",
    "- coordinates.parquet"
   ],
   "metadata": {
    "collapsed": false
   }
  },
  {
   "cell_type": "code",
   "execution_count": 3,
   "outputs": [
    {
     "data": {
      "text/plain": "  Ecosystem  latitude  longitude         coordinates\n0      None  36.06488  120.38042  36.06488,120.38042\n1  Shenzhen  22.54554  114.06830   22.54554,114.0683",
      "text/html": "<div>\n<style scoped>\n    .dataframe tbody tr th:only-of-type {\n        vertical-align: middle;\n    }\n\n    .dataframe tbody tr th {\n        vertical-align: top;\n    }\n\n    .dataframe thead th {\n        text-align: right;\n    }\n</style>\n<table border=\"1\" class=\"dataframe\">\n  <thead>\n    <tr style=\"text-align: right;\">\n      <th></th>\n      <th>Ecosystem</th>\n      <th>latitude</th>\n      <th>longitude</th>\n      <th>coordinates</th>\n    </tr>\n  </thead>\n  <tbody>\n    <tr>\n      <th>0</th>\n      <td>None</td>\n      <td>36.06488</td>\n      <td>120.38042</td>\n      <td>36.06488,120.38042</td>\n    </tr>\n    <tr>\n      <th>1</th>\n      <td>Shenzhen</td>\n      <td>22.54554</td>\n      <td>114.06830</td>\n      <td>22.54554,114.0683</td>\n    </tr>\n  </tbody>\n</table>\n</div>"
     },
     "execution_count": 3,
     "metadata": {},
     "output_type": "execute_result"
    }
   ],
   "source": [
    "import pandas as pd\n",
    "df_coordinates = pd.read_parquet('../data/processed/coordinates.parquet')\n",
    "df_coordinates.head(2)"
   ],
   "metadata": {
    "collapsed": false,
    "ExecuteTime": {
     "end_time": "2023-08-31T21:55:30.970670Z",
     "start_time": "2023-08-31T21:55:30.950405Z"
    }
   }
  },
  {
   "cell_type": "markdown",
   "source": [
    "## 3. DATA SPLITTING\n",
    "The data from raw&abstract_2018-2020.parquet was split into\n",
    "70%: training_data.parquet\n",
    "30%: test_data.parquet"
   ],
   "metadata": {
    "collapsed": false
   }
  },
  {
   "cell_type": "markdown",
   "source": [
    "## 4. DATA EXPLORATION\n",
    "See notebooks:\n",
    "- 01_data_preparation_abstracts.ipynb\n",
    "- 01_data_preparation_raw_patents.ipynb\n",
    "- 01_data_preparation_merge_raw&abstract.ipynb"
   ],
   "metadata": {
    "collapsed": false
   }
  },
  {
   "cell_type": "markdown",
   "source": [
    "## 5. ALGORITHMS\n",
    "- DBSCAN for clustering the patents into ecosystems"
   ],
   "metadata": {
    "collapsed": false
   }
  },
  {
   "cell_type": "code",
   "execution_count": 5,
   "outputs": [],
   "source": [
    "from sklearn.cluster import DBSCAN\n",
    "import numpy as np"
   ],
   "metadata": {
    "collapsed": false,
    "ExecuteTime": {
     "end_time": "2023-08-31T22:03:12.994224Z",
     "start_time": "2023-08-31T22:03:11.610358Z"
    }
   }
  },
  {
   "cell_type": "code",
   "execution_count": 9,
   "outputs": [
    {
     "name": "stdout",
     "output_type": "stream",
     "text": [
      "latitude_rad     1\n",
      "longitude_rad    1\n",
      "dtype: int64\n"
     ]
    }
   ],
   "source": [
    "print(df_coordinates[['latitude_rad', 'longitude_rad']].isna().sum())"
   ],
   "metadata": {
    "collapsed": false,
    "ExecuteTime": {
     "end_time": "2023-08-31T22:14:37.798352Z",
     "start_time": "2023-08-31T22:14:37.787561Z"
    }
   }
  },
  {
   "cell_type": "code",
   "execution_count": 10,
   "outputs": [],
   "source": [
    "df_coordinates.dropna(subset=['latitude_rad', 'longitude_rad'], inplace=True)"
   ],
   "metadata": {
    "collapsed": false,
    "ExecuteTime": {
     "end_time": "2023-08-31T22:15:07.378586Z",
     "start_time": "2023-08-31T22:15:07.365013Z"
    }
   }
  },
  {
   "cell_type": "code",
   "execution_count": 11,
   "outputs": [],
   "source": [
    "# Convert latitude and longitude to radians\n",
    "df_coordinates['latitude_rad'] = np.radians(df_coordinates['latitude'])\n",
    "df_coordinates['longitude_rad'] = np.radians(df_coordinates['longitude'])"
   ],
   "metadata": {
    "collapsed": false,
    "ExecuteTime": {
     "end_time": "2023-08-31T22:16:14.267940Z",
     "start_time": "2023-08-31T22:16:14.263101Z"
    }
   }
  },
  {
   "cell_type": "code",
   "execution_count": 12,
   "outputs": [],
   "source": [
    "# Perform DBSCAN clustering\n",
    "kms_per_radian = 6371.0088\n",
    "epsilon = 100 / kms_per_radian"
   ],
   "metadata": {
    "collapsed": false,
    "ExecuteTime": {
     "end_time": "2023-08-31T22:16:15.153273Z",
     "start_time": "2023-08-31T22:16:15.152746Z"
    }
   }
  },
  {
   "cell_type": "code",
   "execution_count": 13,
   "outputs": [],
   "source": [
    "db = DBSCAN(eps=epsilon, min_samples=1, algorithm='ball_tree', metric='haversine')\n",
    "df_coordinates['cluster'] = db.fit_predict(df_coordinates[['latitude_rad', 'longitude_rad']])"
   ],
   "metadata": {
    "collapsed": false,
    "ExecuteTime": {
     "end_time": "2023-08-31T22:16:16.882389Z",
     "start_time": "2023-08-31T22:16:16.227297Z"
    }
   }
  },
  {
   "cell_type": "code",
   "execution_count": 15,
   "outputs": [
    {
     "name": "stdout",
     "output_type": "stream",
     "text": [
      "Number of clusters excluding noise: 659\n",
      "Number of clusters including noise: 659\n"
     ]
    }
   ],
   "source": [
    "# Count the number of unique clusters, excluding noise (cluster ID -1)\n",
    "num_clusters = df_coordinates['cluster'][df_coordinates['cluster'] != -1].nunique()\n",
    "\n",
    "# If you want to include noise as a separate \"cluster\"\n",
    "num_clusters_including_noise = df_coordinates['cluster'].nunique()\n",
    "\n",
    "print(f\"Number of clusters excluding noise: {num_clusters}\")\n",
    "print(f\"Number of clusters including noise: {num_clusters_including_noise}\")"
   ],
   "metadata": {
    "collapsed": false,
    "ExecuteTime": {
     "end_time": "2023-08-31T22:22:03.157410Z",
     "start_time": "2023-08-31T22:22:03.139242Z"
    }
   }
  },
  {
   "cell_type": "code",
   "execution_count": 17,
   "outputs": [
    {
     "name": "stdout",
     "output_type": "stream",
     "text": [
      "Unique values in 'Ecosystem' column: [None 'Shenzhen' 'Frankfurt' 'Osaka' 'Wuxi' 'Mumbai' 'Leipzig' 'Beijing'\n",
      " 'Los Angeles' 'Dallas' 'Amsterdam-Delta' 'Columbus' 'Chicago' 'Montreal'\n",
      " 'Hanover' 'Philadelphia' 'Minneapolis' 'Houston'\n",
      " 'villach-austria NOT resolved' 'Toronto' 'Tokyo' 'Seattle' 'Zurich'\n",
      " 'Silicon Valley' 'London' 'Detroit' 'Tel Aviv' 'Boston' 'Salt Lake-Provo'\n",
      " 'Philadelphia;New York City' 'Indiana;West Lafayette' 'Research Triangle'\n",
      " 'Stockholm;Stockholms län' 'San Bernardino' 'Metro Rhein-Ruhr'\n",
      " 'Jacksonville' 'Orlando' 'New York City' 'Seoul' 'San Diego' 'Reno'\n",
      " 'Kansas City;Missouri' 'Washington DC' 'Richmond' 'Tulsa' 'Atlanta'\n",
      " 'Mannheim-Heidelberg' 'Calgary' 'Singapore' 'Stuttgart' 'Sydney' 'Galway'\n",
      " 'Paris' 'Nanjing' 'Portland' 'richmond-united states NOT resolved'\n",
      " 'Bavaria;Munich' 'Waterloo' 'Ottawa' 'Lyon'\n",
      " 'lafayette-united states NOT resolved' 'Hyderabad' 'Denver-Boulder'\n",
      " 'Bristol' 'St. Louis' 'Hamburg State;Hamburg'\n",
      " 'Indiana Center;West Lafayette;Indiana' 'Kansas' 'Hartford' 'Kyoto'\n",
      " 'Taipei City' 'Dublin' 'Bavaria' 'Western Denmark' 'Kingston' 'Ohio'\n",
      " 'Kansas City;Kansas' 'Basel' 'Edmonton' 'Shanghai' 'Helsinki'\n",
      " 'St. Louis;Missouri' 'Hangzhou' 'Brussels' 'Toulouse' 'Vancouver' 'Perth'\n",
      " 'Miami' 'Tianjin' 'Berlin' 'Vienna' 'Cincinnati' 'Madison' 'Spartanburg'\n",
      " 'Tucson' 'Austin' 'Budapest' 'Las Vegas' 'Springfield (MA)' 'Antwerp'\n",
      " 'Mississippi' 'washington-united states NOT resolved'\n",
      " 'alexandria-united states NOT resolved' 'Greater London;London' 'Durban'\n",
      " 'Fukuoka' 'Copenhagen' 'Fort Collins' 'Birmingham' 'Phoenix' 'Indiana'\n",
      " 'Milan' 'Pittsburgh' 'Marseille' 'decatur-united states NOT resolved'\n",
      " 'Nashville;Tennessee' 'Buffalo' 'Charlotte'\n",
      " 'rochester-united states NOT resolved' 'Recife' 'Charlottesville'\n",
      " 'Nagoya' 'Skane' 'Moscow' 'Indiana Center;Indiana' 'Melbourne'\n",
      " 'Santa Barbara' 'Strasbourg' 'Guangzhou' 'Kolkata' 'Cambridge;London'\n",
      " 'Manchester-Liverpool' 'Brisbane' 'portland-united states NOT resolved'\n",
      " 'Sacramento' 'Toledo' 'Cleveland' 'New Zealand' 'Kerala' 'Des Moines'\n",
      " 'North Brabant' 'Albuquerque' 'Sri Lanka'\n",
      " 'madison-united states NOT resolved' 'Tennessee' 'Hong Kong'\n",
      " 'Indiana;Indianapolis' 'El Paso' 'Lithuania' 'Colorado Springs'\n",
      " 'huntington-united states NOT resolved' 'Stockholm;Uppsala län' 'Oulu'\n",
      " 'Chengdu' 'Tampa Bay' 'Memphis' 'Edinburgh-Glasgow'\n",
      " 'plymouth-united states NOT resolved' 'New Orleans' 'Saint Petersburg'\n",
      " 'Canberra' 'Bucharest' 'Atlantic Canada' 'Krakow' 'Valencia'\n",
      " 'waldkirch-germany NOT resolved' 'koblenz-germany NOT resolved'\n",
      " 'Bluffton' 'Fresno' 'Nairobi' 'bedford-united states NOT resolved'\n",
      " 'Sendai' 'Hamburg' 'Rome' 'kobe-japan NOT resolved' 'Sao Paulo' 'Chennai'\n",
      " 'Delhi' 'Madrid' 'Barcelona' 'Stockholm' 'Pune' 'Omaha-Lincoln' 'Prague'\n",
      " 'otsu-japan NOT resolved' 'Reykjavik' 'Geneva'\n",
      " 'aurora-united states NOT resolved' 'Burlington'\n",
      " 'himeji-japan NOT resolved' 'Indiana Center;Indianapolis;Indiana'\n",
      " 'Oklahoma City' 'Santiago-Valparaiso' 'Busan' 'Porto' 'Quebec City'\n",
      " 'Lille' 'Monterrey' 'Memphis;Tennessee' 'Wilmington'\n",
      " 'Chattanooga;Tennessee' 'Porto Alegre' 'bingen-germany NOT resolved'\n",
      " 'Riyadh' 'lebanon-united states NOT resolved' 'Norrbotten'\n",
      " 'schwarzach-austria NOT resolved' 'nara-shi-japan NOT resolved'\n",
      " 'Bordeaux' 'Athens;Greece' 'Ho Chi Minh City' 'Oslo' 'Salzburg'\n",
      " 'San Antonio' 'Atlantic Canada;Halifax' 'Bangkok' 'Wuhan' 'Ankara'\n",
      " 'Turin' 'friedrichshafen-germany NOT resolved'\n",
      " 'new castle-united states NOT resolved' 'trier-germany NOT resolved'\n",
      " 'emmendingen-germany NOT resolved' 'Nice'\n",
      " 'union city-united states NOT resolved'\n",
      " 'kirchzarten-germany NOT resolved' 'Wroclaw'\n",
      " 'winchester-united states NOT resolved' 'Bangalore-Karnataka'\n",
      " 'hulst-netherlands NOT resolved' 'Ireland Mid East Region' 'Brno'\n",
      " 'Ljubljana' 'müllheim-germany NOT resolved'\n",
      " 'westfield-united states NOT resolved' 'udine-italy NOT resolved'\n",
      " 'Warsaw' 'portage-united states NOT resolved' 'Lima' 'Xiamen' 'Kiev'\n",
      " 'Minsk' 'Winnipeg' 'Urbana Champaign' 'Belfast'\n",
      " 'feldkirch-austria NOT resolved' 'covington-united states NOT resolved'\n",
      " 'Hokkaido' 'Luxembourg' 'bellinzona-switzerland NOT resolved' 'Amman'\n",
      " 'montpelier-united states NOT resolved' 'Manila' 'Vasterbotten' 'Lisbon'\n",
      " 'Montevideo' 'Istanbul' 'Hiroshima' 'Nicosia' 'Cagliari'\n",
      " 'Vastra Gotaland' 'Gothenburg;Vastra Gotaland'\n",
      " 'rheinfelden-germany NOT resolved' 'konstanz-germany NOT resolved'\n",
      " 'Vasternorrland' 'Rio de Janeiro' 'Cape Town' 'Dubai'\n",
      " 'ravensburg-germany NOT resolved' 'Chattanooga' 'Beirut'\n",
      " 'bodman-ludwigshafen-germany NOT resolved' 'Orebro'\n",
      " 'schopfheim-germany NOT resolved' 'Sofia' 'coimbatore-india NOT resolved'\n",
      " 'Buenos Aires' 'Yerevan' 'Munich' 'bethlehem-united states NOT resolved'\n",
      " 'Adelaide' 'la porte-united states NOT resolved' 'Nashville' 'Greece'\n",
      " 'Medellin' 'hortonville-united states NOT resolved'\n",
      " 'dornbirn-austria NOT resolved' 'Zagreb' 'pringy-france NOT resolved'\n",
      " 'Durham' 'Cairo' 'Belgrade and Novi Sad' 'akashi-japan NOT resolved'\n",
      " 'efringen-kirchen-germany NOT resolved' 'hard-austria NOT resolved'\n",
      " 'lenzkirch-germany NOT resolved' 'new haven-united states NOT resolved'\n",
      " 'lahr-germany NOT resolved' 'Kansas City' 'huningue-france NOT resolved'\n",
      " 'Johannesburg' 'mount vernon-united states NOT resolved'\n",
      " 'tettnang-germany NOT resolved' 'Biscay Startup Bay'\n",
      " 'charlestown-united states NOT resolved'\n",
      " 'radolfzell-germany NOT resolved' 'Riga'\n",
      " 'schliengen-germany NOT resolved' 'Bogota' 'Florianópolis'\n",
      " 'altach-austria NOT resolved' 'freiburg-germany NOT resolved'\n",
      " 'frankfort-united states NOT resolved' 'Cluj'\n",
      " 'eimeldingen-germany NOT resolved'\n",
      " 'rensselaer-united states NOT resolved'\n",
      " 'schaan-liechtenstein NOT resolved' 'clinton-united states NOT resolved'\n",
      " 'singen-germany NOT resolved' 'Tehran' 'Guadalajara' 'Kuala Lumpur'\n",
      " 'Ahmedabad' 'La Paz' 'Malta' 'kandern-germany NOT resolved'\n",
      " 'lawrenceburg-united states NOT resolved' 'Curitiba'\n",
      " 'peru-united states NOT resolved' 'Ticino'\n",
      " 'hohenems-austria NOT resolved' 'mauren-liechtenstein NOT resolved'\n",
      " 'Doha' 'bregenz-austria NOT resolved' 'Pretoria'\n",
      " 'greensburg-united states NOT resolved'\n",
      " 'monticello-united states NOT resolved' 'klaus-austria NOT resolved'\n",
      " 'Estonia' 'langenargen-germany NOT resolved'\n",
      " 'butler-united states NOT resolved' 'Halland'\n",
      " 'balerna-switzerland NOT resolved' 'amagasaki-japan NOT resolved' 'Abuja'\n",
      " 'lindau-germany NOT resolved' 'Cordoba' 'Kharkiv' 'Belo Horizonte'\n",
      " 'bartenheim-france NOT resolved' 'petersburg-united states NOT resolved'\n",
      " 'sullivan-united states NOT resolved' 'Seberang Perai' 'Linshu'\n",
      " 'Mexico City' 'morteau-france NOT resolved' 'Gotland' 'Abu Dhabi'\n",
      " 'greencastle-united states NOT resolved' 'Kazan' 'Blekinge '\n",
      " 'sevrier-france NOT resolved' 'rankweil-austria NOT resolved'\n",
      " 'youngstown-united states NOT resolved' 'eriskirch-germany NOT resolved'\n",
      " 'Bratislava' 'granville-france NOT resolved' 'tsu-japan NOT resolved'\n",
      " 'rockport-united states NOT resolved'\n",
      " 'kaiserslautern-germany NOT resolved' 'allensbach-germany NOT resolved'\n",
      " 'meckenbeuren-germany NOT resolved' 'Lecce' 'Gavleborg'\n",
      " 'bludenz-austria NOT resolved' 'martinsville-united states NOT resolved'\n",
      " 'baienfurt-germany NOT resolved' 'waldshut-tiengen-germany NOT resolved'\n",
      " 'eschen-liechtenstein NOT resolved' 'Halifax;Atlantic Canada'\n",
      " 'lugano-switzerland NOT resolved' 'Skopje' 'Jonkoping'\n",
      " 'annecy-france NOT resolved' 'Ostergotland' 'salem-germany NOT resolved'\n",
      " 'divonne-les-bains-france NOT resolved'\n",
      " 'schallstadt-germany NOT resolved' 'pontarlier-france NOT resolved'\n",
      " 'sexau-germany NOT resolved' 'ligonier-united states NOT resolved'\n",
      " 'valognes-france NOT resolved' 'au-germany NOT resolved'\n",
      " 'tatsuno-japan NOT resolved' 'Almaty'\n",
      " 'rielasingen-worblingen-germany NOT resolved'\n",
      " 'grenzach-wyhlen-germany NOT resolved' 'Quito' 'Xinyu'\n",
      " 'murg-germany NOT resolved' 'riva san vitale-switzerland NOT resolved'\n",
      " 'kennelbach-austria NOT resolved'\n",
      " 'uhldingen-mühlhofen-germany NOT resolved' 'Asuncion'\n",
      " 'le cheylas-france NOT resolved' 'logroño-spain NOT resolved'\n",
      " 'lustenau-austria NOT resolved' 'badenweiler-germany NOT resolved'\n",
      " 'vaduz-liechtenstein NOT resolved' 'lauterach-austria NOT resolved'\n",
      " 'Dalarna' 'gundelfingen-germany NOT resolved'\n",
      " 'tijuana-mexico NOT resolved' 'weingarten-germany NOT resolved'\n",
      " 'orsingen-nenzingen-germany NOT resolved' 'Nur-Sultan' 'Jakarta'\n",
      " 'thoiry-france NOT resolved' 'saint-louis-france NOT resolved'\n",
      " 'jonesboro-united states NOT resolved'\n",
      " 'southport-united states NOT resolved' 'Hermosillo'\n",
      " 'boonville-united states NOT resolved' 'San Juan'\n",
      " 'hohentengen-germany NOT resolved' 'marnaz-france NOT resolved'\n",
      " 'Varmland' 'Vastmanland' 'Cebu City' 'loerrach-germany NOT resolved'\n",
      " 'aardenburg-netherlands NOT resolved' 'markdorf-germany NOT resolved'\n",
      " 'wakayama-japan NOT resolved' 'montlebon-france NOT resolved'\n",
      " 'Isle of Man' 'Stockholm;Sodermanland' 'fillinges-france NOT resolved'\n",
      " 'teningen-germany NOT resolved' 'Lagos' 'Abidjan'\n",
      " 'wolfurt-austria NOT resolved' 'gottmadingen-germany NOT resolved'\n",
      " 'woodburn-united states NOT resolved' 'bötzingen-germany NOT resolved'\n",
      " 'Hanoi' 'staufen-germany NOT resolved' 'blumberg-germany NOT resolved'\n",
      " 'Bosnia and Herzegovina' 'Sharjah' 'hésingue-france NOT resolved'\n",
      " 'attica-united states NOT resolved' 'bluffton-united states NOT resolved'\n",
      " 'saint-jorioz-france NOT resolved'\n",
      " 'rising sun-united states NOT resolved' 'belfort-france NOT resolved'\n",
      " 'oberteuringen-germany NOT resolved' 'annemasse-france NOT resolved'\n",
      " 'boppard-germany NOT resolved' 'arnoldstein-austria NOT resolved'\n",
      " 'mitchell-united states NOT resolved' 'Tunis'\n",
      " 'triesen-liechtenstein NOT resolved' 'Casablanca'\n",
      " 'weil am rhein-germany NOT resolved' 'überlingen-germany NOT resolved'\n",
      " 'binzen-germany NOT resolved' 'Nyköping;Sodermanland'\n",
      " 'santander-spain NOT resolved' 'sallanches-france NOT resolved'\n",
      " 'sciez-france NOT resolved' 'ferney-voltaire-france NOT resolved' 'Dakar'\n",
      " 'Kalmar' 'todtnau-germany NOT resolved' 'steinen-germany NOT resolved'\n",
      " 'greendale-united states NOT resolved'\n",
      " 'immenstaad am bodensee-germany NOT resolved' 'sulz-austria NOT resolved'\n",
      " 'metz-tessy-france NOT resolved' 'saint-malo-france NOT resolved'\n",
      " 'Las Palmas' 'marignier-france NOT resolved' 'doubs-france NOT resolved'\n",
      " 'gronsveld-netherlands NOT resolved' 'terneuzen-netherlands NOT resolved'\n",
      " 'Baku' 'vlissingen-netherlands NOT resolved'\n",
      " 'meersburg-germany NOT resolved' 'thonon-les-bains-france NOT resolved'\n",
      " 'stockach-germany NOT resolved' 'ploubazlanec-france NOT resolved'\n",
      " 'maulburg-germany NOT resolved' 'Caracas' 'douvaine-france NOT resolved'\n",
      " 'neukirch-germany NOT resolved' 'Chisinau'\n",
      " 'heiligenberg-germany NOT resolved' 'Kalmar län'\n",
      " 'chiasso-switzerland NOT resolved' 'stühlingen-germany NOT resolved'\n",
      " 'ihringen-germany NOT resolved' 'sierentz-france NOT resolved' 'Tbilisi'\n",
      " 'lons-le-saunier-france NOT resolved' 'wehr-germany NOT resolved'\n",
      " 'amtzell-germany NOT resolved' 'kenzingen-germany NOT resolved'\n",
      " 'engen-germany NOT resolved' 'kameyama-japan NOT resolved'\n",
      " 'saint-claude-france NOT resolved' 'wilhelmsdorf-germany NOT resolved'\n",
      " 'Santo Domingo' 'Addis Ababa' 'brand-austria NOT resolved' 'Luanda'\n",
      " 'triberg-germany NOT resolved' 'giubiasco-switzerland NOT resolved'\n",
      " 'Accra' 'coutances-france NOT resolved' 'Brasilia' 'Manaus'\n",
      " 'delle-france NOT resolved' 'rosenau-france NOT resolved'\n",
      " 'ornex-france NOT resolved' 'jestetten-germany NOT resolved'\n",
      " 'bonneville-france NOT resolved' 'gaillard-france NOT resolved'\n",
      " 'omihachiman-japan NOT resolved' 'West Lafayette'\n",
      " 'attimis-italy NOT resolved' 'thyez-france NOT resolved' 'Tashkent'\n",
      " 'San Salvador' 'grafenhausen-germany NOT resolved'\n",
      " 'altkirch-france NOT resolved' 'Bucaramanga' 'Bahrain'\n",
      " 'itami-japan NOT resolved' 'torrelavega-spain NOT resolved' 'Algiers'\n",
      " 'schlier-germany NOT resolved' 'eigeltingen-germany NOT resolved'\n",
      " 'viskovo-croatia NOT resolved' 'dingy-saint-clair-france NOT resolved'\n",
      " 'goes-netherlands NOT resolved' 'mercury-france NOT resolved'\n",
      " 'weissensberg-germany NOT resolved' 'knox-united states NOT resolved'\n",
      " 'les houches-france NOT resolved' 'laufenburg-germany NOT resolved'\n",
      " 'rheinbreitbach-germany NOT resolved' 'daisendorf-germany NOT resolved'\n",
      " 'kawanishi-japan NOT resolved' 'megève-france NOT resolved'\n",
      " 'hilzingen-germany NOT resolved' 'denzlingen-germany NOT resolved'\n",
      " 'sankt ingbert-germany NOT resolved' 'lottstetten-germany NOT resolved'\n",
      " 'rust-germany NOT resolved' 'nabari-japan NOT resolved'\n",
      " 'cividale del friuli-italy NOT resolved' 'bodnegg-germany NOT resolved'\n",
      " 'weiler-austria NOT resolved' 'gordola-switzerland NOT resolved'\n",
      " 'bonne-france NOT resolved' 'frickingen-germany NOT resolved'\n",
      " 'remagen-germany NOT resolved' 'Rosario'\n",
      " 'horgenzell-germany NOT resolved' 'archamps-france NOT resolved'\n",
      " 'birkenfeld-germany NOT resolved' 'ascona-switzerland NOT resolved'\n",
      " 'reichenau-germany NOT resolved' 'Kronoberg'\n",
      " 'higashiomi-japan NOT resolved' 'ettenheim-germany NOT resolved'\n",
      " 'la rochette-france NOT resolved' 'lauchringen-germany NOT resolved'\n",
      " 'waldburg-germany NOT resolved' 'bons-en-chablais-france NOT resolved'\n",
      " 'oostburg-netherlands NOT resolved' 'Kampala' 'Goiania'\n",
      " 'lessay-france NOT resolved' 'saint-genis-pouilly-france NOT resolved'\n",
      " 'saint-julien-en-genevois-france NOT resolved'\n",
      " 'takarazuka-japan NOT resolved' 'stegen-germany NOT resolved'\n",
      " 'ruggell-liechtenstein NOT resolved' 'ebringen-germany NOT resolved'\n",
      " 'Indiana North;West Lafayette;Indiana' 'albbruck-germany NOT resolved'\n",
      " 'pregassona-switzerland NOT resolved' 'kakogawa-japan NOT resolved'\n",
      " 'tourlaville-france NOT resolved' 'Uppsala län' 'Palma'\n",
      " 'cessy-france NOT resolved' 'koblach-austria NOT resolved'\n",
      " 'ashiya-japan NOT resolved' 'eichstetten-germany NOT resolved'\n",
      " 'neuvecelle-france NOT resolved' 'montagnola-switzerland NOT resolved'\n",
      " 'gravesano-switzerland NOT resolved' 'quierschied-germany NOT resolved'\n",
      " 'schwanau-germany NOT resolved' 'trivignano udinese-italy NOT resolved'\n",
      " 'monfalcone-italy NOT resolved' 'sluiskil-netherlands NOT resolved'\n",
      " 'loogootee-united states NOT resolved' 'bermatingen-germany NOT resolved'\n",
      " 'cervignano del friuli-italy NOT resolved'\n",
      " 'hufingen-germany NOT resolved' 'neuenburg am rhein-germany NOT resolved'\n",
      " 'mieussy-france NOT resolved' 'louannec-france NOT resolved'\n",
      " 'lure-france NOT resolved' 'Kinshasa'\n",
      " 'menthon-saint-bernard-france NOT resolved'\n",
      " 'wendelsheim-germany NOT resolved' 'cruseilles-france NOT resolved'\n",
      " 'ringsheim-germany NOT resolved' 'malterdingen-germany NOT resolved'\n",
      " 'frederikshavn-denmark NOT resolved' 'matsusaka-japan NOT resolved'\n",
      " 'les fins-france NOT resolved' 'losone-switzerland NOT resolved'\n",
      " 'yasu-japan NOT resolved' 'umkirch-germany NOT resolved'\n",
      " 'owingen-germany NOT resolved' 'arenthon-france NOT resolved'\n",
      " 'hohberg-germany NOT resolved' 'talloires-france NOT resolved'\n",
      " 'geisingen-germany NOT resolved' 'Peshawar'\n",
      " 'annecy-le-vieux-france NOT resolved' 'brunstatt-france NOT resolved'\n",
      " 'sorengo-switzerland NOT resolved' 'comano-switzerland NOT resolved'\n",
      " 'margencel-france NOT resolved' 'Tirana'\n",
      " 'rickenbach-germany NOT resolved' 'sanda-japan NOT resolved'\n",
      " 'vörstetten-germany NOT resolved' 'givet-france NOT resolved'\n",
      " 'agno-switzerland NOT resolved' 'nieuwdorp-netherlands NOT resolved'\n",
      " 'raggal-austria NOT resolved' 'bollschweil-germany NOT resolved'\n",
      " 'althofen-austria NOT resolved' 'merdingen-germany NOT resolved']\n"
     ]
    }
   ],
   "source": [
    "unique_values = df_coordinates['Ecosystem'].unique()\n",
    "print(\"Unique values in 'Ecosystem' column:\", unique_values)"
   ],
   "metadata": {
    "collapsed": false,
    "ExecuteTime": {
     "end_time": "2023-08-31T22:24:21.205432Z",
     "start_time": "2023-08-31T22:24:21.188395Z"
    }
   }
  },
  {
   "cell_type": "code",
   "execution_count": 18,
   "outputs": [
    {
     "name": "stdout",
     "output_type": "stream",
     "text": [
      "Count of each unique value in 'Ecosystem' column:\n",
      "Ecosystem\n",
      "New York City                      458\n",
      "Stuttgart                          436\n",
      "Metro Rhein-Ruhr                   382\n",
      "Bavaria;Munich                     335\n",
      "Zurich                             302\n",
      "                                  ... \n",
      "salem-germany NOT resolved           1\n",
      "annecy-france NOT resolved           1\n",
      "Skopje                               1\n",
      "lugano-switzerland NOT resolved      1\n",
      "merdingen-germany NOT resolved       1\n",
      "Name: count, Length: 650, dtype: int64\n"
     ]
    }
   ],
   "source": [
    "value_counts = df_coordinates['Ecosystem'].value_counts()\n",
    "print(\"Count of each unique value in 'Ecosystem' column:\")\n",
    "print(value_counts)"
   ],
   "metadata": {
    "collapsed": false,
    "ExecuteTime": {
     "end_time": "2023-08-31T22:25:33.094482Z",
     "start_time": "2023-08-31T22:25:33.077700Z"
    }
   }
  },
  {
   "cell_type": "code",
   "execution_count": null,
   "outputs": [],
   "source": [],
   "metadata": {
    "collapsed": false
   }
  }
 ],
 "metadata": {
  "kernelspec": {
   "display_name": "Python 3",
   "language": "python",
   "name": "python3"
  },
  "language_info": {
   "codemirror_mode": {
    "name": "ipython",
    "version": 2
   },
   "file_extension": ".py",
   "mimetype": "text/x-python",
   "name": "python",
   "nbconvert_exporter": "python",
   "pygments_lexer": "ipython2",
   "version": "2.7.6"
  }
 },
 "nbformat": 4,
 "nbformat_minor": 0
}
