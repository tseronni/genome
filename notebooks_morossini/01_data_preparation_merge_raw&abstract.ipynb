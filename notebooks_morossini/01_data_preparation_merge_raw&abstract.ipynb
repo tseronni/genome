{
 "cells": [
  {
   "cell_type": "code",
   "execution_count": 1,
   "metadata": {
    "collapsed": true,
    "ExecuteTime": {
     "end_time": "2023-08-31T20:03:51.663869Z",
     "start_time": "2023-08-31T20:03:50.733420Z"
    }
   },
   "outputs": [],
   "source": [
    "import pandas as pd"
   ]
  },
  {
   "cell_type": "code",
   "execution_count": 2,
   "outputs": [],
   "source": [
    "# Hiding warnings\n",
    "import warnings\n",
    "warnings.filterwarnings('ignore')"
   ],
   "metadata": {
    "collapsed": false,
    "ExecuteTime": {
     "end_time": "2023-08-31T20:03:52.498893Z",
     "start_time": "2023-08-31T20:03:52.484527Z"
    }
   }
  },
  {
   "cell_type": "code",
   "execution_count": 3,
   "outputs": [],
   "source": [
    "pd.set_option('display.max_columns', None)"
   ],
   "metadata": {
    "collapsed": false,
    "ExecuteTime": {
     "end_time": "2023-08-31T20:03:54.054311Z",
     "start_time": "2023-08-31T20:03:54.037136Z"
    }
   }
  },
  {
   "cell_type": "markdown",
   "source": [
    "# RAW PATENTS"
   ],
   "metadata": {
    "collapsed": false
   }
  },
  {
   "cell_type": "code",
   "execution_count": 4,
   "outputs": [
    {
     "data": {
      "text/plain": "     patent_id name_first name_last     city country  \\\n0  20180274840        Bin       FEI  Qingdao      CN   \n1  20180274840     Jinlin       LIU  Qingdao      CN   \n\n                 grant_date  grant_year                  app_date  app_year  \\\n0  2018-09-27T00:00:00.000Z        2018  2016-06-08T00:00:00.000Z      2016   \n1  2018-09-27T00:00:00.000Z        2018  2016-06-08T00:00:00.000Z      2016   \n\n   class_distinct_count class_concat  class_IPC_distinct_count  \\\n0                   1.0         F25D                       1.0   \n1                   1.0         F25D                       1.0   \n\n  class_IPC_concat CountryName   CityCountry Ecosystem GoogleCity  \n0             F25D       China  QingdaoChina      None    Qingdao  \n1             F25D       China  QingdaoChina      None    Qingdao  ",
      "text/html": "<div>\n<style scoped>\n    .dataframe tbody tr th:only-of-type {\n        vertical-align: middle;\n    }\n\n    .dataframe tbody tr th {\n        vertical-align: top;\n    }\n\n    .dataframe thead th {\n        text-align: right;\n    }\n</style>\n<table border=\"1\" class=\"dataframe\">\n  <thead>\n    <tr style=\"text-align: right;\">\n      <th></th>\n      <th>patent_id</th>\n      <th>name_first</th>\n      <th>name_last</th>\n      <th>city</th>\n      <th>country</th>\n      <th>grant_date</th>\n      <th>grant_year</th>\n      <th>app_date</th>\n      <th>app_year</th>\n      <th>class_distinct_count</th>\n      <th>class_concat</th>\n      <th>class_IPC_distinct_count</th>\n      <th>class_IPC_concat</th>\n      <th>CountryName</th>\n      <th>CityCountry</th>\n      <th>Ecosystem</th>\n      <th>GoogleCity</th>\n    </tr>\n  </thead>\n  <tbody>\n    <tr>\n      <th>0</th>\n      <td>20180274840</td>\n      <td>Bin</td>\n      <td>FEI</td>\n      <td>Qingdao</td>\n      <td>CN</td>\n      <td>2018-09-27T00:00:00.000Z</td>\n      <td>2018</td>\n      <td>2016-06-08T00:00:00.000Z</td>\n      <td>2016</td>\n      <td>1.0</td>\n      <td>F25D</td>\n      <td>1.0</td>\n      <td>F25D</td>\n      <td>China</td>\n      <td>QingdaoChina</td>\n      <td>None</td>\n      <td>Qingdao</td>\n    </tr>\n    <tr>\n      <th>1</th>\n      <td>20180274840</td>\n      <td>Jinlin</td>\n      <td>LIU</td>\n      <td>Qingdao</td>\n      <td>CN</td>\n      <td>2018-09-27T00:00:00.000Z</td>\n      <td>2018</td>\n      <td>2016-06-08T00:00:00.000Z</td>\n      <td>2016</td>\n      <td>1.0</td>\n      <td>F25D</td>\n      <td>1.0</td>\n      <td>F25D</td>\n      <td>China</td>\n      <td>QingdaoChina</td>\n      <td>None</td>\n      <td>Qingdao</td>\n    </tr>\n  </tbody>\n</table>\n</div>"
     },
     "execution_count": 4,
     "metadata": {},
     "output_type": "execute_result"
    }
   ],
   "source": [
    "df_raw = pd.read_parquet('../data/processed/raw_patents_2018-2020.parquet')\n",
    "df_raw.head(2)"
   ],
   "metadata": {
    "collapsed": false,
    "ExecuteTime": {
     "end_time": "2023-08-31T20:04:06.493048Z",
     "start_time": "2023-08-31T20:04:03.417447Z"
    }
   }
  },
  {
   "cell_type": "markdown",
   "source": [
    "# ABSTRACTS"
   ],
   "metadata": {
    "collapsed": false
   }
  },
  {
   "cell_type": "code",
   "execution_count": 6,
   "outputs": [],
   "source": [
    "df_abstract = pd.read_parquet(\"../data/processed/abstract_2018-2020.parquet\")"
   ],
   "metadata": {
    "collapsed": false,
    "ExecuteTime": {
     "end_time": "2023-08-31T20:04:25.006104Z",
     "start_time": "2023-08-31T20:04:22.106884Z"
    }
   }
  },
  {
   "cell_type": "code",
   "execution_count": 7,
   "outputs": [
    {
     "data": {
      "text/plain": "     patent_id                                           abstract  year\n0  20180137767  A UAV having a radar-guided landing function t...  2018\n1  20180158892  In this element, one of the current flow elect...  2018",
      "text/html": "<div>\n<style scoped>\n    .dataframe tbody tr th:only-of-type {\n        vertical-align: middle;\n    }\n\n    .dataframe tbody tr th {\n        vertical-align: top;\n    }\n\n    .dataframe thead th {\n        text-align: right;\n    }\n</style>\n<table border=\"1\" class=\"dataframe\">\n  <thead>\n    <tr style=\"text-align: right;\">\n      <th></th>\n      <th>patent_id</th>\n      <th>abstract</th>\n      <th>year</th>\n    </tr>\n  </thead>\n  <tbody>\n    <tr>\n      <th>0</th>\n      <td>20180137767</td>\n      <td>A UAV having a radar-guided landing function t...</td>\n      <td>2018</td>\n    </tr>\n    <tr>\n      <th>1</th>\n      <td>20180158892</td>\n      <td>In this element, one of the current flow elect...</td>\n      <td>2018</td>\n    </tr>\n  </tbody>\n</table>\n</div>"
     },
     "execution_count": 7,
     "metadata": {},
     "output_type": "execute_result"
    }
   ],
   "source": [
    "# Changing the name of the column 'publication_number' to 'patent_id' in df_abstract\n",
    "df_abstract.rename(columns={'publication_number': 'patent_id'}, inplace=True)\n",
    "df_abstract.head(2)"
   ],
   "metadata": {
    "collapsed": false,
    "ExecuteTime": {
     "end_time": "2023-08-31T20:04:26.513771Z",
     "start_time": "2023-08-31T20:04:26.490129Z"
    }
   }
  },
  {
   "cell_type": "markdown",
   "source": [
    "# MERGED DATAFRAMES"
   ],
   "metadata": {
    "collapsed": false
   }
  },
  {
   "cell_type": "code",
   "execution_count": 8,
   "outputs": [
    {
     "data": {
      "text/plain": "     patent_id name_first name_last     city country  \\\n0  20180274840        Bin       FEI  Qingdao      CN   \n1  20180274840     Jinlin       LIU  Qingdao      CN   \n\n                 grant_date  grant_year                  app_date  app_year  \\\n0  2018-09-27T00:00:00.000Z        2018  2016-06-08T00:00:00.000Z      2016   \n1  2018-09-27T00:00:00.000Z        2018  2016-06-08T00:00:00.000Z      2016   \n\n   class_distinct_count class_concat  class_IPC_distinct_count  \\\n0                   1.0         F25D                       1.0   \n1                   1.0         F25D                       1.0   \n\n  class_IPC_concat CountryName   CityCountry Ecosystem GoogleCity  \\\n0             F25D       China  QingdaoChina      None    Qingdao   \n1             F25D       China  QingdaoChina      None    Qingdao   \n\n                                            abstract    year  \n0  A refrigerator comprises: a refrigerator compa...  2018.0  \n1  A refrigerator comprises: a refrigerator compa...  2018.0  ",
      "text/html": "<div>\n<style scoped>\n    .dataframe tbody tr th:only-of-type {\n        vertical-align: middle;\n    }\n\n    .dataframe tbody tr th {\n        vertical-align: top;\n    }\n\n    .dataframe thead th {\n        text-align: right;\n    }\n</style>\n<table border=\"1\" class=\"dataframe\">\n  <thead>\n    <tr style=\"text-align: right;\">\n      <th></th>\n      <th>patent_id</th>\n      <th>name_first</th>\n      <th>name_last</th>\n      <th>city</th>\n      <th>country</th>\n      <th>grant_date</th>\n      <th>grant_year</th>\n      <th>app_date</th>\n      <th>app_year</th>\n      <th>class_distinct_count</th>\n      <th>class_concat</th>\n      <th>class_IPC_distinct_count</th>\n      <th>class_IPC_concat</th>\n      <th>CountryName</th>\n      <th>CityCountry</th>\n      <th>Ecosystem</th>\n      <th>GoogleCity</th>\n      <th>abstract</th>\n      <th>year</th>\n    </tr>\n  </thead>\n  <tbody>\n    <tr>\n      <th>0</th>\n      <td>20180274840</td>\n      <td>Bin</td>\n      <td>FEI</td>\n      <td>Qingdao</td>\n      <td>CN</td>\n      <td>2018-09-27T00:00:00.000Z</td>\n      <td>2018</td>\n      <td>2016-06-08T00:00:00.000Z</td>\n      <td>2016</td>\n      <td>1.0</td>\n      <td>F25D</td>\n      <td>1.0</td>\n      <td>F25D</td>\n      <td>China</td>\n      <td>QingdaoChina</td>\n      <td>None</td>\n      <td>Qingdao</td>\n      <td>A refrigerator comprises: a refrigerator compa...</td>\n      <td>2018.0</td>\n    </tr>\n    <tr>\n      <th>1</th>\n      <td>20180274840</td>\n      <td>Jinlin</td>\n      <td>LIU</td>\n      <td>Qingdao</td>\n      <td>CN</td>\n      <td>2018-09-27T00:00:00.000Z</td>\n      <td>2018</td>\n      <td>2016-06-08T00:00:00.000Z</td>\n      <td>2016</td>\n      <td>1.0</td>\n      <td>F25D</td>\n      <td>1.0</td>\n      <td>F25D</td>\n      <td>China</td>\n      <td>QingdaoChina</td>\n      <td>None</td>\n      <td>Qingdao</td>\n      <td>A refrigerator comprises: a refrigerator compa...</td>\n      <td>2018.0</td>\n    </tr>\n  </tbody>\n</table>\n</div>"
     },
     "execution_count": 8,
     "metadata": {},
     "output_type": "execute_result"
    }
   ],
   "source": [
    "# Merging dataframes\n",
    "df_merge = pd.merge(df_raw, df_abstract, on='patent_id', how='left')\n",
    "df_merge.head(2)"
   ],
   "metadata": {
    "collapsed": false,
    "ExecuteTime": {
     "end_time": "2023-08-31T20:04:59.030823Z",
     "start_time": "2023-08-31T20:04:57.690256Z"
    }
   }
  },
  {
   "cell_type": "code",
   "execution_count": 10,
   "outputs": [
    {
     "data": {
      "text/plain": "     patent_id                                           abstract  grant_year  \\\n0  20180274840  A refrigerator comprises: a refrigerator compa...        2018   \n1  20180274840  A refrigerator comprises: a refrigerator compa...        2018   \n\n   class_distinct_count class_concat     city GoogleCity country CountryName  \\\n0                   1.0         F25D  Qingdao    Qingdao      CN       China   \n1                   1.0         F25D  Qingdao    Qingdao      CN       China   \n\n  Ecosystem  \n0      None  \n1      None  ",
      "text/html": "<div>\n<style scoped>\n    .dataframe tbody tr th:only-of-type {\n        vertical-align: middle;\n    }\n\n    .dataframe tbody tr th {\n        vertical-align: top;\n    }\n\n    .dataframe thead th {\n        text-align: right;\n    }\n</style>\n<table border=\"1\" class=\"dataframe\">\n  <thead>\n    <tr style=\"text-align: right;\">\n      <th></th>\n      <th>patent_id</th>\n      <th>abstract</th>\n      <th>grant_year</th>\n      <th>class_distinct_count</th>\n      <th>class_concat</th>\n      <th>city</th>\n      <th>GoogleCity</th>\n      <th>country</th>\n      <th>CountryName</th>\n      <th>Ecosystem</th>\n    </tr>\n  </thead>\n  <tbody>\n    <tr>\n      <th>0</th>\n      <td>20180274840</td>\n      <td>A refrigerator comprises: a refrigerator compa...</td>\n      <td>2018</td>\n      <td>1.0</td>\n      <td>F25D</td>\n      <td>Qingdao</td>\n      <td>Qingdao</td>\n      <td>CN</td>\n      <td>China</td>\n      <td>None</td>\n    </tr>\n    <tr>\n      <th>1</th>\n      <td>20180274840</td>\n      <td>A refrigerator comprises: a refrigerator compa...</td>\n      <td>2018</td>\n      <td>1.0</td>\n      <td>F25D</td>\n      <td>Qingdao</td>\n      <td>Qingdao</td>\n      <td>CN</td>\n      <td>China</td>\n      <td>None</td>\n    </tr>\n  </tbody>\n</table>\n</div>"
     },
     "execution_count": 10,
     "metadata": {},
     "output_type": "execute_result"
    }
   ],
   "source": [
    "# Selecting only the columns that we need: 'patent_id', 'abstract', 'grant_year', 'class_distinct_count', 'class_concat', 'city', 'GoogleCity', 'country', 'CountryName', 'CityCountry', 'Ecosystem'\n",
    "df = df_merge[['patent_id', 'abstract', 'grant_year', 'class_distinct_count', 'class_concat', 'city', 'GoogleCity', 'country', 'CountryName', 'Ecosystem']]\n",
    "df.head(2)"
   ],
   "metadata": {
    "collapsed": false,
    "ExecuteTime": {
     "end_time": "2023-08-31T20:05:28.102683Z",
     "start_time": "2023-08-31T20:05:27.678801Z"
    }
   }
  },
  {
   "cell_type": "code",
   "execution_count": 11,
   "outputs": [],
   "source": [
    "from unidecode import unidecode\n",
    "\n",
    "# Convert to plain ASCII\n",
    "df['city'] = df['city'].apply(lambda x: unidecode(str(x)))\n",
    "\n",
    "# Limit to varchar(200)\n",
    "df['city'] = df['city'].apply(lambda x: x[:200])"
   ],
   "metadata": {
    "collapsed": false,
    "ExecuteTime": {
     "end_time": "2023-08-31T20:06:37.796396Z",
     "start_time": "2023-08-31T20:06:35.823452Z"
    }
   }
  },
  {
   "cell_type": "code",
   "execution_count": 49,
   "outputs": [],
   "source": [
    "# Concatenating 'city' and 'country' to create a new column 'CityCountry'\n",
    "df['city_country_code'] = df['city'] + '_' + df['country']"
   ],
   "metadata": {
    "collapsed": false,
    "ExecuteTime": {
     "end_time": "2023-08-31T20:24:27.946594Z",
     "start_time": "2023-08-31T20:24:27.918951Z"
    }
   }
  },
  {
   "cell_type": "code",
   "execution_count": 50,
   "outputs": [
    {
     "name": "stdout",
     "output_type": "stream",
     "text": [
      "Shape:  (1174031, 23)\n",
      "     patent_id                                           abstract  grant_year  \\\n",
      "0  20180274840  A refrigerator comprises: a refrigerator compa...        2018   \n",
      "4  20180274869                                                NaN        2018   \n",
      "\n",
      "   class_distinct_count class_concat      city GoogleCity country CountryName  \\\n",
      "0                   1.0         F25D   Qingdao    Qingdao      CN       China   \n",
      "4                   NaN         None  Shenzhen   Shenzhen      CN       China   \n",
      "\n",
      "  Ecosystem class_1 class_2 class_3 class_section_1 class_section_2  \\\n",
      "0      None    F25D     NaN     NaN               F             NaN   \n",
      "4  Shenzhen    None    None    None            None            None   \n",
      "\n",
      "  class_section_3                                class_section_name1  \\\n",
      "0             NaN  Mechanical Engineering; Lighting; Heating; Wea...   \n",
      "4            None                                                NaN   \n",
      "\n",
      "  class_section_name2 class_section_name3  \\\n",
      "0                 NaN                 NaN   \n",
      "4                 NaN                 NaN   \n",
      "\n",
      "                                 class_description_1 class_description_2  \\\n",
      "0  REFRIGERATORS; COLD ROOMS; ICE-BOXES; COOLING ...                 NaN   \n",
      "4                                                NaN                 NaN   \n",
      "\n",
      "  class_description_3 city_country_code  \n",
      "0                 NaN        Qingdao_CN  \n",
      "4                 NaN       Shenzhen_CN  \n"
     ]
    }
   ],
   "source": [
    "print('Shape: ',df.shape)\n",
    "print(df.head(2))"
   ],
   "metadata": {
    "collapsed": false,
    "ExecuteTime": {
     "end_time": "2023-08-31T20:24:30.195164Z",
     "start_time": "2023-08-31T20:24:30.157478Z"
    }
   }
  },
  {
   "cell_type": "markdown",
   "source": [
    "## IPC IN THE MAIN DF"
   ],
   "metadata": {
    "collapsed": false
   }
  },
  {
   "cell_type": "code",
   "execution_count": 14,
   "outputs": [
    {
     "data": {
      "text/plain": "24.0"
     },
     "execution_count": 14,
     "metadata": {},
     "output_type": "execute_result"
    }
   ],
   "source": [
    "# Checking the max value in \"class_distinct_count\"\n",
    "df['class_distinct_count'].max()"
   ],
   "metadata": {
    "collapsed": false,
    "ExecuteTime": {
     "end_time": "2023-08-31T20:08:43.710677Z",
     "start_time": "2023-08-31T20:08:43.678454Z"
    }
   }
  },
  {
   "cell_type": "code",
   "execution_count": 15,
   "outputs": [
    {
     "data": {
      "text/plain": "           patent_id                                           abstract  \\\n96328    20190292030  Some embodiments include apparatuses to fulfil...   \n96329    20190292030  Some embodiments include apparatuses to fulfil...   \n96330    20190292030  Some embodiments include apparatuses to fulfil...   \n96331    20190292030  Some embodiments include apparatuses to fulfil...   \n96332    20190292030  Some embodiments include apparatuses to fulfil...   \n96333    20190292030  Some embodiments include apparatuses to fulfil...   \n96334    20190292030  Some embodiments include apparatuses to fulfil...   \n96335    20190292030  Some embodiments include apparatuses to fulfil...   \n586586   20190256334  Systems, apparatuses, and methods for determin...   \n586587   20190256334  Systems, apparatuses, and methods for determin...   \n586588   20190256334  Systems, apparatuses, and methods for determin...   \n594219   20200189891  Apparatuses, components and methods are provid...   \n594220   20200189891  Apparatuses, components and methods are provid...   \n594221   20200189891  Apparatuses, components and methods are provid...   \n594222   20200189891  Apparatuses, components and methods are provid...   \n594223   20200189891  Apparatuses, components and methods are provid...   \n594224   20200189891  Apparatuses, components and methods are provid...   \n594225   20200189891  Apparatuses, components and methods are provid...   \n594226   20200189891  Apparatuses, components and methods are provid...   \n594227   20200189891  Apparatuses, components and methods are provid...   \n912941   20190263644  A central computer system directs a motorized ...   \n912942   20190263644  A central computer system directs a motorized ...   \n912944   20190263644  A central computer system directs a motorized ...   \n1621834  20190218081  System, method, and apparatus for providing tr...   \n1621835  20190218081  System, method, and apparatus for providing tr...   \n1621836  20190218081  System, method, and apparatus for providing tr...   \n1621837  20190218081  System, method, and apparatus for providing tr...   \n1621838  20190218081  System, method, and apparatus for providing tr...   \n2005286  20190284034  Methods and apparatuses are provided, some app...   \n2005287  20190284034  Methods and apparatuses are provided, some app...   \n2005288  20190284034  Methods and apparatuses are provided, some app...   \n2005289  20190284034  Methods and apparatuses are provided, some app...   \n2005290  20190284034  Methods and apparatuses are provided, some app...   \n2084930  20190169005  Methods and apparatuses are provided for use i...   \n2084931  20190169005  Methods and apparatuses are provided for use i...   \n2084932  20190169005  Methods and apparatuses are provided for use i...   \n2778627  20200239290  Methods and apparatuses are provided for use i...   \n2778628  20200239290  Methods and apparatuses are provided for use i...   \n2778629  20200239290  Methods and apparatuses are provided for use i...   \n2796145  20190210849  Apparatuses, components and methods are provid...   \n2796146  20190210849  Apparatuses, components and methods are provid...   \n2796147  20190210849  Apparatuses, components and methods are provid...   \n2796148  20190210849  Apparatuses, components and methods are provid...   \n2796149  20190210849  Apparatuses, components and methods are provid...   \n2796150  20190210849  Apparatuses, components and methods are provid...   \n2796151  20190210849  Apparatuses, components and methods are provid...   \n2796152  20190210849  Apparatuses, components and methods are provid...   \n2796153  20190210849  Apparatuses, components and methods are provid...   \n3026640  20200270106  Systems and methods are provided to address in...   \n3026641  20200270106  Systems and methods are provided to address in...   \n3026642  20200270106  Systems and methods are provided to address in...   \n3026643  20200270106  Systems and methods are provided to address in...   \n3097972  20190185302  A shopping facility assistance system includes...   \n3097974  20190185302  A shopping facility assistance system includes...   \n3097975  20190185302  A shopping facility assistance system includes...   \n3097976  20190185302  A shopping facility assistance system includes...   \n3097977  20190185302  A shopping facility assistance system includes...   \n\n         grant_year  class_distinct_count  \\\n96328          2019                  24.0   \n96329          2019                  24.0   \n96330          2019                  24.0   \n96331          2019                  24.0   \n96332          2019                  24.0   \n96333          2019                  24.0   \n96334          2019                  24.0   \n96335          2019                  24.0   \n586586         2019                  24.0   \n586587         2019                  24.0   \n586588         2019                  24.0   \n594219         2020                  24.0   \n594220         2020                  24.0   \n594221         2020                  24.0   \n594222         2020                  24.0   \n594223         2020                  24.0   \n594224         2020                  24.0   \n594225         2020                  24.0   \n594226         2020                  24.0   \n594227         2020                  24.0   \n912941         2019                  24.0   \n912942         2019                  24.0   \n912944         2019                  24.0   \n1621834        2019                  24.0   \n1621835        2019                  24.0   \n1621836        2019                  24.0   \n1621837        2019                  24.0   \n1621838        2019                  24.0   \n2005286        2019                  24.0   \n2005287        2019                  24.0   \n2005288        2019                  24.0   \n2005289        2019                  24.0   \n2005290        2019                  24.0   \n2084930        2019                  24.0   \n2084931        2019                  24.0   \n2084932        2019                  24.0   \n2778627        2020                  24.0   \n2778628        2020                  24.0   \n2778629        2020                  24.0   \n2796145        2019                  24.0   \n2796146        2019                  24.0   \n2796147        2019                  24.0   \n2796148        2019                  24.0   \n2796149        2019                  24.0   \n2796150        2019                  24.0   \n2796151        2019                  24.0   \n2796152        2019                  24.0   \n2796153        2019                  24.0   \n3026640        2020                  24.0   \n3026641        2020                  24.0   \n3026642        2020                  24.0   \n3026643        2020                  24.0   \n3097972        2019                  24.0   \n3097974        2019                  24.0   \n3097975        2019                  24.0   \n3097976        2019                  24.0   \n3097977        2019                  24.0   \n\n                                              class_concat               city  \\\n96328    G06F,B60L,G06K,A47F,A47L,G01C,G06Q,G01S,B60P,B...             Gentry   \n96329    G06F,B60L,G06K,A47F,A47L,G01C,G06Q,G01S,B60P,B...         Round Rock   \n96330    G06F,B60L,G06K,A47F,A47L,G01C,G06Q,G01S,B60P,B...     Eureka Springs   \n96331    G06F,B60L,G06K,A47F,A47L,G01C,G06Q,G01S,B60P,B...        Bentonville   \n96332    G06F,B60L,G06K,A47F,A47L,G01C,G06Q,G01S,B60P,B...        Bella Vista   \n96333    G06F,B60L,G06K,A47F,A47L,G01C,G06Q,G01S,B60P,B...  Chadderton-Oldham   \n96334    G06F,B60L,G06K,A47F,A47L,G01C,G06Q,G01S,B60P,B...               Noel   \n96335    G06F,B60L,G06K,A47F,A47L,G01C,G06Q,G01S,B60P,B...        Bentonville   \n586586   G06F,G01S,G08G,H04W,B65F,A47F,B07C,H04L,G06K,B...     Eureka Springs   \n586587   G06F,G01S,G08G,H04W,B65F,A47F,B07C,H04L,G06K,B...               Noel   \n586588   G06F,G01S,G08G,H04W,B65F,A47F,B07C,H04L,G06K,B...        Bella Vista   \n594219   H04L,B65F,H04N,G01C,G06Q,G05B,B62B,G08G,G06K,G...     Eureka Springs   \n594220   H04L,B65F,H04N,G01C,G06Q,G05B,B62B,G08G,G06K,G...               Noel   \n594221   H04L,B65F,H04N,G01C,G06Q,G05B,B62B,G08G,G06K,G...             Frisco   \n594222   H04L,B65F,H04N,G01C,G06Q,G05B,B62B,G08G,G06K,G...  Chadderton Oldham   \n594223   H04L,B65F,H04N,G01C,G06Q,G05B,B62B,G08G,G06K,G...           Leesburg   \n594224   H04L,B65F,H04N,G01C,G06Q,G05B,B62B,G08G,G06K,G...         Round Rock   \n594225   H04L,B65F,H04N,G01C,G06Q,G05B,B62B,G08G,G06K,G...             Rogers   \n594226   H04L,B65F,H04N,G01C,G06Q,G05B,B62B,G08G,G06K,G...        Bentonville   \n594227   H04L,B65F,H04N,G01C,G06Q,G05B,B62B,G08G,G06K,G...             Gentry   \n912941   A47F,H04N,G01C,B65F,B60P,G08G,B60L,E01H,H04B,H...        Bella Vista   \n912942   A47F,H04N,G01C,B65F,B60P,G08G,B60L,E01H,H04B,H...     Eureka Springs   \n912944   A47F,H04N,G01C,B65F,B60P,G08G,B60L,E01H,H04B,H...               Noel   \n1621834  B60P,A47F,G08G,G06T,G01C,B07C,H02J,H04L,B60L,G...               Noel   \n1621835  B60P,A47F,G08G,G06T,G01C,B07C,H02J,H04L,B60L,G...          Charlotte   \n1621836  B60P,A47F,G08G,G06T,G01C,B07C,H02J,H04L,B60L,G...             Rogers   \n1621837  B60P,A47F,G08G,G06T,G01C,B07C,H02J,H04L,B60L,G...        Bella Vista   \n1621838  B60P,A47F,G08G,G06T,G01C,B07C,H02J,H04L,B60L,G...     Eureka Springs   \n2005286  G10L,E01H,G06T,B07C,G06K,A47L,B62B,B60P,G06Q,H...         Round Rock   \n2005287  G10L,E01H,G06T,B07C,G06K,A47L,B62B,B60P,G06Q,H...     Eureka Springs   \n2005288  G10L,E01H,G06T,B07C,G06K,A47L,B62B,B60P,G06Q,H...  Chadderton Oldham   \n2005289  G10L,E01H,G06T,B07C,G06K,A47L,B62B,B60P,G06Q,H...        Bella Vista   \n2005290  G10L,E01H,G06T,B07C,G06K,A47L,B62B,B60P,G06Q,H...               Noel   \n2084930  B62B,G05B,B60L,G06K,H04B,A47L,H04N,B60P,G06Q,G...               Noel   \n2084931  B62B,G05B,B60L,G06K,H04B,A47L,H04N,B60P,G06Q,G...        Bentonville   \n2084932  B62B,G05B,B60L,G06K,H04B,A47L,H04N,B60P,G06Q,G...          Charlotte   \n2778627  G01S,E01H,H04W,B65F,H04L,B60P,B07C,H02J,H04B,G...             Frisco   \n2778628  G01S,E01H,H04W,B65F,H04L,B60P,B07C,H02J,H04B,G...               Noel   \n2778629  G01S,E01H,H04W,B65F,H04L,B60P,B07C,H02J,H04B,G...         Round Rock   \n2796145  H04N,H04L,H04W,B60P,G08G,G01C,G10L,G06Q,B60L,H...        Bella Vista   \n2796146  H04N,H04L,H04W,B60P,G08G,G01C,G10L,G06Q,B60L,H...               Noel   \n2796147  H04N,H04L,H04W,B60P,G08G,G01C,G10L,G06Q,B60L,H...        Bentonville   \n2796148  H04N,H04L,H04W,B60P,G08G,G01C,G10L,G06Q,B60L,H...             Rogers   \n2796149  H04N,H04L,H04W,B60P,G08G,G01C,G10L,G06Q,B60L,H...  Chadderton Oldham   \n2796150  H04N,H04L,H04W,B60P,G08G,G01C,G10L,G06Q,B60L,H...        Bentonville   \n2796151  H04N,H04L,H04W,B60P,G08G,G01C,G10L,G06Q,B60L,H...          Charlotte   \n2796152  H04N,H04L,H04W,B60P,G08G,G01C,G10L,G06Q,B60L,H...             Gentry   \n2796153  H04N,H04L,H04W,B60P,G08G,G01C,G10L,G06Q,B60L,H...     Eureka Springs   \n3026640  G08G,G06F,G05D,H04B,A47L,H04W,G10L,G05B,B60L,B...        Bella Vista   \n3026641  G08G,G06F,G05D,H04B,A47L,H04W,G10L,G05B,B60L,B...         Springdale   \n3026642  G08G,G06F,G05D,H04B,A47L,H04W,G10L,G05B,B60L,B...  Chadderton Oldham   \n3026643  G08G,G06F,G05D,H04B,A47L,H04W,G10L,G05B,B60L,B...               Noel   \n3097972  A47F,H04N,B65F,B60L,G05D,G01S,H02J,B62B,B60P,H...               Noel   \n3097974  A47F,H04N,B65F,B60L,G05D,G01S,H02J,B62B,B60P,H...  Chadderton Oldham   \n3097975  A47F,H04N,B65F,B60L,G05D,G01S,H02J,B62B,B60P,H...        Bentonville   \n3097976  A47F,H04N,B65F,B60L,G05D,G01S,H02J,B62B,B60P,H...     Eureka Springs   \n3097977  A47F,H04N,B65F,B60L,G05D,G01S,H02J,B62B,B60P,H...        Bella Vista   \n\n             GoogleCity country     CountryName      Ecosystem  \\\n96328            Gentry      US   United States           None   \n96329        Round Rock      US   United States         Austin   \n96330    Eureka Springs      US   United States           None   \n96331       Bentonville      US   United States           None   \n96332       Bella Vista      US   United States           None   \n96333              None      GB  United Kingdom           None   \n96334              None      US   United States           None   \n96335       Bentonville      US   United States           None   \n586586   Eureka Springs      US   United States           None   \n586587             None      US   United States           None   \n586588      Bella Vista      US   United States           None   \n594219   Eureka Springs      US   United States           None   \n594220             None      US   United States           None   \n594221           Frisco      US   United States         Dallas   \n594222             None      GB  United Kingdom           None   \n594223         Leesburg      US   United States  Washington DC   \n594224       Round Rock      US   United States         Austin   \n594225           Rogers      US   United States           None   \n594226      Bentonville      US   United States           None   \n594227           Gentry      US   United States           None   \n912941      Bella Vista      US   United States           None   \n912942   Eureka Springs      US   United States           None   \n912944             None      US   United States           None   \n1621834            None      US   United States           None   \n1621835       Charlotte      US   United States      Charlotte   \n1621836          Rogers      US   United States           None   \n1621837     Bella Vista      US   United States           None   \n1621838  Eureka Springs      US   United States           None   \n2005286      Round Rock      US   United States         Austin   \n2005287  Eureka Springs      US   United States           None   \n2005288            None      GB  United Kingdom           None   \n2005289     Bella Vista      US   United States           None   \n2005290            None      US   United States           None   \n2084930            None      US   United States           None   \n2084931     Bentonville      US   United States           None   \n2084932       Charlotte      US   United States      Charlotte   \n2778627          Frisco      US   United States         Dallas   \n2778628            None      US   United States           None   \n2778629      Round Rock      US   United States         Austin   \n2796145     Bella Vista      US   United States           None   \n2796146            None      US   United States           None   \n2796147     Bentonville      US   United States           None   \n2796148          Rogers      US   United States           None   \n2796149            None      GB  United Kingdom           None   \n2796150     Bentonville      US   United States           None   \n2796151       Charlotte      US   United States      Charlotte   \n2796152          Gentry      US   United States           None   \n2796153  Eureka Springs      US   United States           None   \n3026640     Bella Vista      US   United States           None   \n3026641      Springdale      US   United States           None   \n3026642            None      GB  United Kingdom           None   \n3026643            None      US   United States           None   \n3097972            None      US   United States           None   \n3097974            None      GB  United Kingdom           None   \n3097975     Bentonville      US   United States           None   \n3097976  Eureka Springs      US   United States           None   \n3097977     Bella Vista      US   United States           None   \n\n        asciiname_country_code  \n96328                Gentry_US  \n96329            Round Rock_US  \n96330        Eureka Springs_US  \n96331           Bentonville_US  \n96332           Bella Vista_US  \n96333     Chadderton-Oldham_GB  \n96334                  Noel_US  \n96335           Bentonville_US  \n586586       Eureka Springs_US  \n586587                 Noel_US  \n586588          Bella Vista_US  \n594219       Eureka Springs_US  \n594220                 Noel_US  \n594221               Frisco_US  \n594222    Chadderton Oldham_GB  \n594223             Leesburg_US  \n594224           Round Rock_US  \n594225               Rogers_US  \n594226          Bentonville_US  \n594227               Gentry_US  \n912941          Bella Vista_US  \n912942       Eureka Springs_US  \n912944                 Noel_US  \n1621834                Noel_US  \n1621835           Charlotte_US  \n1621836              Rogers_US  \n1621837         Bella Vista_US  \n1621838      Eureka Springs_US  \n2005286          Round Rock_US  \n2005287      Eureka Springs_US  \n2005288   Chadderton Oldham_GB  \n2005289         Bella Vista_US  \n2005290                Noel_US  \n2084930                Noel_US  \n2084931         Bentonville_US  \n2084932           Charlotte_US  \n2778627              Frisco_US  \n2778628                Noel_US  \n2778629          Round Rock_US  \n2796145         Bella Vista_US  \n2796146                Noel_US  \n2796147         Bentonville_US  \n2796148              Rogers_US  \n2796149   Chadderton Oldham_GB  \n2796150         Bentonville_US  \n2796151           Charlotte_US  \n2796152              Gentry_US  \n2796153      Eureka Springs_US  \n3026640         Bella Vista_US  \n3026641          Springdale_US  \n3026642   Chadderton Oldham_GB  \n3026643                Noel_US  \n3097972                Noel_US  \n3097974   Chadderton Oldham_GB  \n3097975         Bentonville_US  \n3097976      Eureka Springs_US  \n3097977         Bella Vista_US  ",
      "text/html": "<div>\n<style scoped>\n    .dataframe tbody tr th:only-of-type {\n        vertical-align: middle;\n    }\n\n    .dataframe tbody tr th {\n        vertical-align: top;\n    }\n\n    .dataframe thead th {\n        text-align: right;\n    }\n</style>\n<table border=\"1\" class=\"dataframe\">\n  <thead>\n    <tr style=\"text-align: right;\">\n      <th></th>\n      <th>patent_id</th>\n      <th>abstract</th>\n      <th>grant_year</th>\n      <th>class_distinct_count</th>\n      <th>class_concat</th>\n      <th>city</th>\n      <th>GoogleCity</th>\n      <th>country</th>\n      <th>CountryName</th>\n      <th>Ecosystem</th>\n      <th>asciiname_country_code</th>\n    </tr>\n  </thead>\n  <tbody>\n    <tr>\n      <th>96328</th>\n      <td>20190292030</td>\n      <td>Some embodiments include apparatuses to fulfil...</td>\n      <td>2019</td>\n      <td>24.0</td>\n      <td>G06F,B60L,G06K,A47F,A47L,G01C,G06Q,G01S,B60P,B...</td>\n      <td>Gentry</td>\n      <td>Gentry</td>\n      <td>US</td>\n      <td>United States</td>\n      <td>None</td>\n      <td>Gentry_US</td>\n    </tr>\n    <tr>\n      <th>96329</th>\n      <td>20190292030</td>\n      <td>Some embodiments include apparatuses to fulfil...</td>\n      <td>2019</td>\n      <td>24.0</td>\n      <td>G06F,B60L,G06K,A47F,A47L,G01C,G06Q,G01S,B60P,B...</td>\n      <td>Round Rock</td>\n      <td>Round Rock</td>\n      <td>US</td>\n      <td>United States</td>\n      <td>Austin</td>\n      <td>Round Rock_US</td>\n    </tr>\n    <tr>\n      <th>96330</th>\n      <td>20190292030</td>\n      <td>Some embodiments include apparatuses to fulfil...</td>\n      <td>2019</td>\n      <td>24.0</td>\n      <td>G06F,B60L,G06K,A47F,A47L,G01C,G06Q,G01S,B60P,B...</td>\n      <td>Eureka Springs</td>\n      <td>Eureka Springs</td>\n      <td>US</td>\n      <td>United States</td>\n      <td>None</td>\n      <td>Eureka Springs_US</td>\n    </tr>\n    <tr>\n      <th>96331</th>\n      <td>20190292030</td>\n      <td>Some embodiments include apparatuses to fulfil...</td>\n      <td>2019</td>\n      <td>24.0</td>\n      <td>G06F,B60L,G06K,A47F,A47L,G01C,G06Q,G01S,B60P,B...</td>\n      <td>Bentonville</td>\n      <td>Bentonville</td>\n      <td>US</td>\n      <td>United States</td>\n      <td>None</td>\n      <td>Bentonville_US</td>\n    </tr>\n    <tr>\n      <th>96332</th>\n      <td>20190292030</td>\n      <td>Some embodiments include apparatuses to fulfil...</td>\n      <td>2019</td>\n      <td>24.0</td>\n      <td>G06F,B60L,G06K,A47F,A47L,G01C,G06Q,G01S,B60P,B...</td>\n      <td>Bella Vista</td>\n      <td>Bella Vista</td>\n      <td>US</td>\n      <td>United States</td>\n      <td>None</td>\n      <td>Bella Vista_US</td>\n    </tr>\n    <tr>\n      <th>96333</th>\n      <td>20190292030</td>\n      <td>Some embodiments include apparatuses to fulfil...</td>\n      <td>2019</td>\n      <td>24.0</td>\n      <td>G06F,B60L,G06K,A47F,A47L,G01C,G06Q,G01S,B60P,B...</td>\n      <td>Chadderton-Oldham</td>\n      <td>None</td>\n      <td>GB</td>\n      <td>United Kingdom</td>\n      <td>None</td>\n      <td>Chadderton-Oldham_GB</td>\n    </tr>\n    <tr>\n      <th>96334</th>\n      <td>20190292030</td>\n      <td>Some embodiments include apparatuses to fulfil...</td>\n      <td>2019</td>\n      <td>24.0</td>\n      <td>G06F,B60L,G06K,A47F,A47L,G01C,G06Q,G01S,B60P,B...</td>\n      <td>Noel</td>\n      <td>None</td>\n      <td>US</td>\n      <td>United States</td>\n      <td>None</td>\n      <td>Noel_US</td>\n    </tr>\n    <tr>\n      <th>96335</th>\n      <td>20190292030</td>\n      <td>Some embodiments include apparatuses to fulfil...</td>\n      <td>2019</td>\n      <td>24.0</td>\n      <td>G06F,B60L,G06K,A47F,A47L,G01C,G06Q,G01S,B60P,B...</td>\n      <td>Bentonville</td>\n      <td>Bentonville</td>\n      <td>US</td>\n      <td>United States</td>\n      <td>None</td>\n      <td>Bentonville_US</td>\n    </tr>\n    <tr>\n      <th>586586</th>\n      <td>20190256334</td>\n      <td>Systems, apparatuses, and methods for determin...</td>\n      <td>2019</td>\n      <td>24.0</td>\n      <td>G06F,G01S,G08G,H04W,B65F,A47F,B07C,H04L,G06K,B...</td>\n      <td>Eureka Springs</td>\n      <td>Eureka Springs</td>\n      <td>US</td>\n      <td>United States</td>\n      <td>None</td>\n      <td>Eureka Springs_US</td>\n    </tr>\n    <tr>\n      <th>586587</th>\n      <td>20190256334</td>\n      <td>Systems, apparatuses, and methods for determin...</td>\n      <td>2019</td>\n      <td>24.0</td>\n      <td>G06F,G01S,G08G,H04W,B65F,A47F,B07C,H04L,G06K,B...</td>\n      <td>Noel</td>\n      <td>None</td>\n      <td>US</td>\n      <td>United States</td>\n      <td>None</td>\n      <td>Noel_US</td>\n    </tr>\n    <tr>\n      <th>586588</th>\n      <td>20190256334</td>\n      <td>Systems, apparatuses, and methods for determin...</td>\n      <td>2019</td>\n      <td>24.0</td>\n      <td>G06F,G01S,G08G,H04W,B65F,A47F,B07C,H04L,G06K,B...</td>\n      <td>Bella Vista</td>\n      <td>Bella Vista</td>\n      <td>US</td>\n      <td>United States</td>\n      <td>None</td>\n      <td>Bella Vista_US</td>\n    </tr>\n    <tr>\n      <th>594219</th>\n      <td>20200189891</td>\n      <td>Apparatuses, components and methods are provid...</td>\n      <td>2020</td>\n      <td>24.0</td>\n      <td>H04L,B65F,H04N,G01C,G06Q,G05B,B62B,G08G,G06K,G...</td>\n      <td>Eureka Springs</td>\n      <td>Eureka Springs</td>\n      <td>US</td>\n      <td>United States</td>\n      <td>None</td>\n      <td>Eureka Springs_US</td>\n    </tr>\n    <tr>\n      <th>594220</th>\n      <td>20200189891</td>\n      <td>Apparatuses, components and methods are provid...</td>\n      <td>2020</td>\n      <td>24.0</td>\n      <td>H04L,B65F,H04N,G01C,G06Q,G05B,B62B,G08G,G06K,G...</td>\n      <td>Noel</td>\n      <td>None</td>\n      <td>US</td>\n      <td>United States</td>\n      <td>None</td>\n      <td>Noel_US</td>\n    </tr>\n    <tr>\n      <th>594221</th>\n      <td>20200189891</td>\n      <td>Apparatuses, components and methods are provid...</td>\n      <td>2020</td>\n      <td>24.0</td>\n      <td>H04L,B65F,H04N,G01C,G06Q,G05B,B62B,G08G,G06K,G...</td>\n      <td>Frisco</td>\n      <td>Frisco</td>\n      <td>US</td>\n      <td>United States</td>\n      <td>Dallas</td>\n      <td>Frisco_US</td>\n    </tr>\n    <tr>\n      <th>594222</th>\n      <td>20200189891</td>\n      <td>Apparatuses, components and methods are provid...</td>\n      <td>2020</td>\n      <td>24.0</td>\n      <td>H04L,B65F,H04N,G01C,G06Q,G05B,B62B,G08G,G06K,G...</td>\n      <td>Chadderton Oldham</td>\n      <td>None</td>\n      <td>GB</td>\n      <td>United Kingdom</td>\n      <td>None</td>\n      <td>Chadderton Oldham_GB</td>\n    </tr>\n    <tr>\n      <th>594223</th>\n      <td>20200189891</td>\n      <td>Apparatuses, components and methods are provid...</td>\n      <td>2020</td>\n      <td>24.0</td>\n      <td>H04L,B65F,H04N,G01C,G06Q,G05B,B62B,G08G,G06K,G...</td>\n      <td>Leesburg</td>\n      <td>Leesburg</td>\n      <td>US</td>\n      <td>United States</td>\n      <td>Washington DC</td>\n      <td>Leesburg_US</td>\n    </tr>\n    <tr>\n      <th>594224</th>\n      <td>20200189891</td>\n      <td>Apparatuses, components and methods are provid...</td>\n      <td>2020</td>\n      <td>24.0</td>\n      <td>H04L,B65F,H04N,G01C,G06Q,G05B,B62B,G08G,G06K,G...</td>\n      <td>Round Rock</td>\n      <td>Round Rock</td>\n      <td>US</td>\n      <td>United States</td>\n      <td>Austin</td>\n      <td>Round Rock_US</td>\n    </tr>\n    <tr>\n      <th>594225</th>\n      <td>20200189891</td>\n      <td>Apparatuses, components and methods are provid...</td>\n      <td>2020</td>\n      <td>24.0</td>\n      <td>H04L,B65F,H04N,G01C,G06Q,G05B,B62B,G08G,G06K,G...</td>\n      <td>Rogers</td>\n      <td>Rogers</td>\n      <td>US</td>\n      <td>United States</td>\n      <td>None</td>\n      <td>Rogers_US</td>\n    </tr>\n    <tr>\n      <th>594226</th>\n      <td>20200189891</td>\n      <td>Apparatuses, components and methods are provid...</td>\n      <td>2020</td>\n      <td>24.0</td>\n      <td>H04L,B65F,H04N,G01C,G06Q,G05B,B62B,G08G,G06K,G...</td>\n      <td>Bentonville</td>\n      <td>Bentonville</td>\n      <td>US</td>\n      <td>United States</td>\n      <td>None</td>\n      <td>Bentonville_US</td>\n    </tr>\n    <tr>\n      <th>594227</th>\n      <td>20200189891</td>\n      <td>Apparatuses, components and methods are provid...</td>\n      <td>2020</td>\n      <td>24.0</td>\n      <td>H04L,B65F,H04N,G01C,G06Q,G05B,B62B,G08G,G06K,G...</td>\n      <td>Gentry</td>\n      <td>Gentry</td>\n      <td>US</td>\n      <td>United States</td>\n      <td>None</td>\n      <td>Gentry_US</td>\n    </tr>\n    <tr>\n      <th>912941</th>\n      <td>20190263644</td>\n      <td>A central computer system directs a motorized ...</td>\n      <td>2019</td>\n      <td>24.0</td>\n      <td>A47F,H04N,G01C,B65F,B60P,G08G,B60L,E01H,H04B,H...</td>\n      <td>Bella Vista</td>\n      <td>Bella Vista</td>\n      <td>US</td>\n      <td>United States</td>\n      <td>None</td>\n      <td>Bella Vista_US</td>\n    </tr>\n    <tr>\n      <th>912942</th>\n      <td>20190263644</td>\n      <td>A central computer system directs a motorized ...</td>\n      <td>2019</td>\n      <td>24.0</td>\n      <td>A47F,H04N,G01C,B65F,B60P,G08G,B60L,E01H,H04B,H...</td>\n      <td>Eureka Springs</td>\n      <td>Eureka Springs</td>\n      <td>US</td>\n      <td>United States</td>\n      <td>None</td>\n      <td>Eureka Springs_US</td>\n    </tr>\n    <tr>\n      <th>912944</th>\n      <td>20190263644</td>\n      <td>A central computer system directs a motorized ...</td>\n      <td>2019</td>\n      <td>24.0</td>\n      <td>A47F,H04N,G01C,B65F,B60P,G08G,B60L,E01H,H04B,H...</td>\n      <td>Noel</td>\n      <td>None</td>\n      <td>US</td>\n      <td>United States</td>\n      <td>None</td>\n      <td>Noel_US</td>\n    </tr>\n    <tr>\n      <th>1621834</th>\n      <td>20190218081</td>\n      <td>System, method, and apparatus for providing tr...</td>\n      <td>2019</td>\n      <td>24.0</td>\n      <td>B60P,A47F,G08G,G06T,G01C,B07C,H02J,H04L,B60L,G...</td>\n      <td>Noel</td>\n      <td>None</td>\n      <td>US</td>\n      <td>United States</td>\n      <td>None</td>\n      <td>Noel_US</td>\n    </tr>\n    <tr>\n      <th>1621835</th>\n      <td>20190218081</td>\n      <td>System, method, and apparatus for providing tr...</td>\n      <td>2019</td>\n      <td>24.0</td>\n      <td>B60P,A47F,G08G,G06T,G01C,B07C,H02J,H04L,B60L,G...</td>\n      <td>Charlotte</td>\n      <td>Charlotte</td>\n      <td>US</td>\n      <td>United States</td>\n      <td>Charlotte</td>\n      <td>Charlotte_US</td>\n    </tr>\n    <tr>\n      <th>1621836</th>\n      <td>20190218081</td>\n      <td>System, method, and apparatus for providing tr...</td>\n      <td>2019</td>\n      <td>24.0</td>\n      <td>B60P,A47F,G08G,G06T,G01C,B07C,H02J,H04L,B60L,G...</td>\n      <td>Rogers</td>\n      <td>Rogers</td>\n      <td>US</td>\n      <td>United States</td>\n      <td>None</td>\n      <td>Rogers_US</td>\n    </tr>\n    <tr>\n      <th>1621837</th>\n      <td>20190218081</td>\n      <td>System, method, and apparatus for providing tr...</td>\n      <td>2019</td>\n      <td>24.0</td>\n      <td>B60P,A47F,G08G,G06T,G01C,B07C,H02J,H04L,B60L,G...</td>\n      <td>Bella Vista</td>\n      <td>Bella Vista</td>\n      <td>US</td>\n      <td>United States</td>\n      <td>None</td>\n      <td>Bella Vista_US</td>\n    </tr>\n    <tr>\n      <th>1621838</th>\n      <td>20190218081</td>\n      <td>System, method, and apparatus for providing tr...</td>\n      <td>2019</td>\n      <td>24.0</td>\n      <td>B60P,A47F,G08G,G06T,G01C,B07C,H02J,H04L,B60L,G...</td>\n      <td>Eureka Springs</td>\n      <td>Eureka Springs</td>\n      <td>US</td>\n      <td>United States</td>\n      <td>None</td>\n      <td>Eureka Springs_US</td>\n    </tr>\n    <tr>\n      <th>2005286</th>\n      <td>20190284034</td>\n      <td>Methods and apparatuses are provided, some app...</td>\n      <td>2019</td>\n      <td>24.0</td>\n      <td>G10L,E01H,G06T,B07C,G06K,A47L,B62B,B60P,G06Q,H...</td>\n      <td>Round Rock</td>\n      <td>Round Rock</td>\n      <td>US</td>\n      <td>United States</td>\n      <td>Austin</td>\n      <td>Round Rock_US</td>\n    </tr>\n    <tr>\n      <th>2005287</th>\n      <td>20190284034</td>\n      <td>Methods and apparatuses are provided, some app...</td>\n      <td>2019</td>\n      <td>24.0</td>\n      <td>G10L,E01H,G06T,B07C,G06K,A47L,B62B,B60P,G06Q,H...</td>\n      <td>Eureka Springs</td>\n      <td>Eureka Springs</td>\n      <td>US</td>\n      <td>United States</td>\n      <td>None</td>\n      <td>Eureka Springs_US</td>\n    </tr>\n    <tr>\n      <th>2005288</th>\n      <td>20190284034</td>\n      <td>Methods and apparatuses are provided, some app...</td>\n      <td>2019</td>\n      <td>24.0</td>\n      <td>G10L,E01H,G06T,B07C,G06K,A47L,B62B,B60P,G06Q,H...</td>\n      <td>Chadderton Oldham</td>\n      <td>None</td>\n      <td>GB</td>\n      <td>United Kingdom</td>\n      <td>None</td>\n      <td>Chadderton Oldham_GB</td>\n    </tr>\n    <tr>\n      <th>2005289</th>\n      <td>20190284034</td>\n      <td>Methods and apparatuses are provided, some app...</td>\n      <td>2019</td>\n      <td>24.0</td>\n      <td>G10L,E01H,G06T,B07C,G06K,A47L,B62B,B60P,G06Q,H...</td>\n      <td>Bella Vista</td>\n      <td>Bella Vista</td>\n      <td>US</td>\n      <td>United States</td>\n      <td>None</td>\n      <td>Bella Vista_US</td>\n    </tr>\n    <tr>\n      <th>2005290</th>\n      <td>20190284034</td>\n      <td>Methods and apparatuses are provided, some app...</td>\n      <td>2019</td>\n      <td>24.0</td>\n      <td>G10L,E01H,G06T,B07C,G06K,A47L,B62B,B60P,G06Q,H...</td>\n      <td>Noel</td>\n      <td>None</td>\n      <td>US</td>\n      <td>United States</td>\n      <td>None</td>\n      <td>Noel_US</td>\n    </tr>\n    <tr>\n      <th>2084930</th>\n      <td>20190169005</td>\n      <td>Methods and apparatuses are provided for use i...</td>\n      <td>2019</td>\n      <td>24.0</td>\n      <td>B62B,G05B,B60L,G06K,H04B,A47L,H04N,B60P,G06Q,G...</td>\n      <td>Noel</td>\n      <td>None</td>\n      <td>US</td>\n      <td>United States</td>\n      <td>None</td>\n      <td>Noel_US</td>\n    </tr>\n    <tr>\n      <th>2084931</th>\n      <td>20190169005</td>\n      <td>Methods and apparatuses are provided for use i...</td>\n      <td>2019</td>\n      <td>24.0</td>\n      <td>B62B,G05B,B60L,G06K,H04B,A47L,H04N,B60P,G06Q,G...</td>\n      <td>Bentonville</td>\n      <td>Bentonville</td>\n      <td>US</td>\n      <td>United States</td>\n      <td>None</td>\n      <td>Bentonville_US</td>\n    </tr>\n    <tr>\n      <th>2084932</th>\n      <td>20190169005</td>\n      <td>Methods and apparatuses are provided for use i...</td>\n      <td>2019</td>\n      <td>24.0</td>\n      <td>B62B,G05B,B60L,G06K,H04B,A47L,H04N,B60P,G06Q,G...</td>\n      <td>Charlotte</td>\n      <td>Charlotte</td>\n      <td>US</td>\n      <td>United States</td>\n      <td>Charlotte</td>\n      <td>Charlotte_US</td>\n    </tr>\n    <tr>\n      <th>2778627</th>\n      <td>20200239290</td>\n      <td>Methods and apparatuses are provided for use i...</td>\n      <td>2020</td>\n      <td>24.0</td>\n      <td>G01S,E01H,H04W,B65F,H04L,B60P,B07C,H02J,H04B,G...</td>\n      <td>Frisco</td>\n      <td>Frisco</td>\n      <td>US</td>\n      <td>United States</td>\n      <td>Dallas</td>\n      <td>Frisco_US</td>\n    </tr>\n    <tr>\n      <th>2778628</th>\n      <td>20200239290</td>\n      <td>Methods and apparatuses are provided for use i...</td>\n      <td>2020</td>\n      <td>24.0</td>\n      <td>G01S,E01H,H04W,B65F,H04L,B60P,B07C,H02J,H04B,G...</td>\n      <td>Noel</td>\n      <td>None</td>\n      <td>US</td>\n      <td>United States</td>\n      <td>None</td>\n      <td>Noel_US</td>\n    </tr>\n    <tr>\n      <th>2778629</th>\n      <td>20200239290</td>\n      <td>Methods and apparatuses are provided for use i...</td>\n      <td>2020</td>\n      <td>24.0</td>\n      <td>G01S,E01H,H04W,B65F,H04L,B60P,B07C,H02J,H04B,G...</td>\n      <td>Round Rock</td>\n      <td>Round Rock</td>\n      <td>US</td>\n      <td>United States</td>\n      <td>Austin</td>\n      <td>Round Rock_US</td>\n    </tr>\n    <tr>\n      <th>2796145</th>\n      <td>20190210849</td>\n      <td>Apparatuses, components and methods are provid...</td>\n      <td>2019</td>\n      <td>24.0</td>\n      <td>H04N,H04L,H04W,B60P,G08G,G01C,G10L,G06Q,B60L,H...</td>\n      <td>Bella Vista</td>\n      <td>Bella Vista</td>\n      <td>US</td>\n      <td>United States</td>\n      <td>None</td>\n      <td>Bella Vista_US</td>\n    </tr>\n    <tr>\n      <th>2796146</th>\n      <td>20190210849</td>\n      <td>Apparatuses, components and methods are provid...</td>\n      <td>2019</td>\n      <td>24.0</td>\n      <td>H04N,H04L,H04W,B60P,G08G,G01C,G10L,G06Q,B60L,H...</td>\n      <td>Noel</td>\n      <td>None</td>\n      <td>US</td>\n      <td>United States</td>\n      <td>None</td>\n      <td>Noel_US</td>\n    </tr>\n    <tr>\n      <th>2796147</th>\n      <td>20190210849</td>\n      <td>Apparatuses, components and methods are provid...</td>\n      <td>2019</td>\n      <td>24.0</td>\n      <td>H04N,H04L,H04W,B60P,G08G,G01C,G10L,G06Q,B60L,H...</td>\n      <td>Bentonville</td>\n      <td>Bentonville</td>\n      <td>US</td>\n      <td>United States</td>\n      <td>None</td>\n      <td>Bentonville_US</td>\n    </tr>\n    <tr>\n      <th>2796148</th>\n      <td>20190210849</td>\n      <td>Apparatuses, components and methods are provid...</td>\n      <td>2019</td>\n      <td>24.0</td>\n      <td>H04N,H04L,H04W,B60P,G08G,G01C,G10L,G06Q,B60L,H...</td>\n      <td>Rogers</td>\n      <td>Rogers</td>\n      <td>US</td>\n      <td>United States</td>\n      <td>None</td>\n      <td>Rogers_US</td>\n    </tr>\n    <tr>\n      <th>2796149</th>\n      <td>20190210849</td>\n      <td>Apparatuses, components and methods are provid...</td>\n      <td>2019</td>\n      <td>24.0</td>\n      <td>H04N,H04L,H04W,B60P,G08G,G01C,G10L,G06Q,B60L,H...</td>\n      <td>Chadderton Oldham</td>\n      <td>None</td>\n      <td>GB</td>\n      <td>United Kingdom</td>\n      <td>None</td>\n      <td>Chadderton Oldham_GB</td>\n    </tr>\n    <tr>\n      <th>2796150</th>\n      <td>20190210849</td>\n      <td>Apparatuses, components and methods are provid...</td>\n      <td>2019</td>\n      <td>24.0</td>\n      <td>H04N,H04L,H04W,B60P,G08G,G01C,G10L,G06Q,B60L,H...</td>\n      <td>Bentonville</td>\n      <td>Bentonville</td>\n      <td>US</td>\n      <td>United States</td>\n      <td>None</td>\n      <td>Bentonville_US</td>\n    </tr>\n    <tr>\n      <th>2796151</th>\n      <td>20190210849</td>\n      <td>Apparatuses, components and methods are provid...</td>\n      <td>2019</td>\n      <td>24.0</td>\n      <td>H04N,H04L,H04W,B60P,G08G,G01C,G10L,G06Q,B60L,H...</td>\n      <td>Charlotte</td>\n      <td>Charlotte</td>\n      <td>US</td>\n      <td>United States</td>\n      <td>Charlotte</td>\n      <td>Charlotte_US</td>\n    </tr>\n    <tr>\n      <th>2796152</th>\n      <td>20190210849</td>\n      <td>Apparatuses, components and methods are provid...</td>\n      <td>2019</td>\n      <td>24.0</td>\n      <td>H04N,H04L,H04W,B60P,G08G,G01C,G10L,G06Q,B60L,H...</td>\n      <td>Gentry</td>\n      <td>Gentry</td>\n      <td>US</td>\n      <td>United States</td>\n      <td>None</td>\n      <td>Gentry_US</td>\n    </tr>\n    <tr>\n      <th>2796153</th>\n      <td>20190210849</td>\n      <td>Apparatuses, components and methods are provid...</td>\n      <td>2019</td>\n      <td>24.0</td>\n      <td>H04N,H04L,H04W,B60P,G08G,G01C,G10L,G06Q,B60L,H...</td>\n      <td>Eureka Springs</td>\n      <td>Eureka Springs</td>\n      <td>US</td>\n      <td>United States</td>\n      <td>None</td>\n      <td>Eureka Springs_US</td>\n    </tr>\n    <tr>\n      <th>3026640</th>\n      <td>20200270106</td>\n      <td>Systems and methods are provided to address in...</td>\n      <td>2020</td>\n      <td>24.0</td>\n      <td>G08G,G06F,G05D,H04B,A47L,H04W,G10L,G05B,B60L,B...</td>\n      <td>Bella Vista</td>\n      <td>Bella Vista</td>\n      <td>US</td>\n      <td>United States</td>\n      <td>None</td>\n      <td>Bella Vista_US</td>\n    </tr>\n    <tr>\n      <th>3026641</th>\n      <td>20200270106</td>\n      <td>Systems and methods are provided to address in...</td>\n      <td>2020</td>\n      <td>24.0</td>\n      <td>G08G,G06F,G05D,H04B,A47L,H04W,G10L,G05B,B60L,B...</td>\n      <td>Springdale</td>\n      <td>Springdale</td>\n      <td>US</td>\n      <td>United States</td>\n      <td>None</td>\n      <td>Springdale_US</td>\n    </tr>\n    <tr>\n      <th>3026642</th>\n      <td>20200270106</td>\n      <td>Systems and methods are provided to address in...</td>\n      <td>2020</td>\n      <td>24.0</td>\n      <td>G08G,G06F,G05D,H04B,A47L,H04W,G10L,G05B,B60L,B...</td>\n      <td>Chadderton Oldham</td>\n      <td>None</td>\n      <td>GB</td>\n      <td>United Kingdom</td>\n      <td>None</td>\n      <td>Chadderton Oldham_GB</td>\n    </tr>\n    <tr>\n      <th>3026643</th>\n      <td>20200270106</td>\n      <td>Systems and methods are provided to address in...</td>\n      <td>2020</td>\n      <td>24.0</td>\n      <td>G08G,G06F,G05D,H04B,A47L,H04W,G10L,G05B,B60L,B...</td>\n      <td>Noel</td>\n      <td>None</td>\n      <td>US</td>\n      <td>United States</td>\n      <td>None</td>\n      <td>Noel_US</td>\n    </tr>\n    <tr>\n      <th>3097972</th>\n      <td>20190185302</td>\n      <td>A shopping facility assistance system includes...</td>\n      <td>2019</td>\n      <td>24.0</td>\n      <td>A47F,H04N,B65F,B60L,G05D,G01S,H02J,B62B,B60P,H...</td>\n      <td>Noel</td>\n      <td>None</td>\n      <td>US</td>\n      <td>United States</td>\n      <td>None</td>\n      <td>Noel_US</td>\n    </tr>\n    <tr>\n      <th>3097974</th>\n      <td>20190185302</td>\n      <td>A shopping facility assistance system includes...</td>\n      <td>2019</td>\n      <td>24.0</td>\n      <td>A47F,H04N,B65F,B60L,G05D,G01S,H02J,B62B,B60P,H...</td>\n      <td>Chadderton Oldham</td>\n      <td>None</td>\n      <td>GB</td>\n      <td>United Kingdom</td>\n      <td>None</td>\n      <td>Chadderton Oldham_GB</td>\n    </tr>\n    <tr>\n      <th>3097975</th>\n      <td>20190185302</td>\n      <td>A shopping facility assistance system includes...</td>\n      <td>2019</td>\n      <td>24.0</td>\n      <td>A47F,H04N,B65F,B60L,G05D,G01S,H02J,B62B,B60P,H...</td>\n      <td>Bentonville</td>\n      <td>Bentonville</td>\n      <td>US</td>\n      <td>United States</td>\n      <td>None</td>\n      <td>Bentonville_US</td>\n    </tr>\n    <tr>\n      <th>3097976</th>\n      <td>20190185302</td>\n      <td>A shopping facility assistance system includes...</td>\n      <td>2019</td>\n      <td>24.0</td>\n      <td>A47F,H04N,B65F,B60L,G05D,G01S,H02J,B62B,B60P,H...</td>\n      <td>Eureka Springs</td>\n      <td>Eureka Springs</td>\n      <td>US</td>\n      <td>United States</td>\n      <td>None</td>\n      <td>Eureka Springs_US</td>\n    </tr>\n    <tr>\n      <th>3097977</th>\n      <td>20190185302</td>\n      <td>A shopping facility assistance system includes...</td>\n      <td>2019</td>\n      <td>24.0</td>\n      <td>A47F,H04N,B65F,B60L,G05D,G01S,H02J,B62B,B60P,H...</td>\n      <td>Bella Vista</td>\n      <td>Bella Vista</td>\n      <td>US</td>\n      <td>United States</td>\n      <td>None</td>\n      <td>Bella Vista_US</td>\n    </tr>\n  </tbody>\n</table>\n</div>"
     },
     "execution_count": 15,
     "metadata": {},
     "output_type": "execute_result"
    }
   ],
   "source": [
    "# Visualizing the rows with the max value in \"class_distinct_count\"\n",
    "df[df['class_distinct_count'] == 24]"
   ],
   "metadata": {
    "collapsed": false,
    "ExecuteTime": {
     "end_time": "2023-08-31T20:08:45.255805Z",
     "start_time": "2023-08-31T20:08:45.218972Z"
    }
   }
  },
  {
   "cell_type": "code",
   "execution_count": 16,
   "outputs": [
    {
     "data": {
      "text/plain": "<Axes: xlabel='class_distinct_count'>"
     },
     "execution_count": 16,
     "metadata": {},
     "output_type": "execute_result"
    },
    {
     "data": {
      "text/plain": "<Figure size 1000x600 with 1 Axes>",
      "image/png": "[encoded data removed]"
     },
     "metadata": {},
     "output_type": "display_data"
    }
   ],
   "source": [
    "# Generating a bar chart with the number of unique patents per 'class_distinct_count'\n",
    "df['class_distinct_count'].value_counts().plot(kind='bar', figsize=(10, 6))"
   ],
   "metadata": {
    "collapsed": false,
    "ExecuteTime": {
     "end_time": "2023-08-31T20:08:52.279827Z",
     "start_time": "2023-08-31T20:08:51.378134Z"
    }
   }
  },
  {
   "cell_type": "code",
   "execution_count": 17,
   "outputs": [
    {
     "data": {
      "text/plain": "98.59983979362626"
     },
     "execution_count": 17,
     "metadata": {},
     "output_type": "execute_result"
    }
   ],
   "source": [
    "# What percentage of unique patents have up to 5 classes?\n",
    "df[df['class_distinct_count'] <= 5].shape[0] / df.shape[0] * 100"
   ],
   "metadata": {
    "collapsed": false,
    "ExecuteTime": {
     "end_time": "2023-08-31T20:08:55.924119Z",
     "start_time": "2023-08-31T20:08:55.133339Z"
    }
   }
  },
  {
   "cell_type": "code",
   "execution_count": 18,
   "outputs": [
    {
     "data": {
      "text/plain": "92.74958839439616"
     },
     "execution_count": 18,
     "metadata": {},
     "output_type": "execute_result"
    }
   ],
   "source": [
    "df[df['class_distinct_count'] <= 3].shape[0] / df.shape[0] * 100\n"
   ],
   "metadata": {
    "collapsed": false,
    "ExecuteTime": {
     "end_time": "2023-08-31T20:08:57.440410Z",
     "start_time": "2023-08-31T20:08:56.810992Z"
    }
   }
  },
  {
   "cell_type": "code",
   "execution_count": 19,
   "outputs": [
    {
     "data": {
      "text/plain": "     patent_id                                           abstract  grant_year  \\\n0  20180274840  A refrigerator comprises: a refrigerator compa...        2018   \n1  20180274840  A refrigerator comprises: a refrigerator compa...        2018   \n\n   class_distinct_count class_concat     city GoogleCity country CountryName  \\\n0                   1.0         F25D  Qingdao    Qingdao      CN       China   \n1                   1.0         F25D  Qingdao    Qingdao      CN       China   \n\n  Ecosystem asciiname_country_code class_1 class_2 class_3  \n0      None             Qingdao_CN    F25D     NaN     NaN  \n1      None             Qingdao_CN    F25D     NaN     NaN  ",
      "text/html": "<div>\n<style scoped>\n    .dataframe tbody tr th:only-of-type {\n        vertical-align: middle;\n    }\n\n    .dataframe tbody tr th {\n        vertical-align: top;\n    }\n\n    .dataframe thead th {\n        text-align: right;\n    }\n</style>\n<table border=\"1\" class=\"dataframe\">\n  <thead>\n    <tr style=\"text-align: right;\">\n      <th></th>\n      <th>patent_id</th>\n      <th>abstract</th>\n      <th>grant_year</th>\n      <th>class_distinct_count</th>\n      <th>class_concat</th>\n      <th>city</th>\n      <th>GoogleCity</th>\n      <th>country</th>\n      <th>CountryName</th>\n      <th>Ecosystem</th>\n      <th>asciiname_country_code</th>\n      <th>class_1</th>\n      <th>class_2</th>\n      <th>class_3</th>\n    </tr>\n  </thead>\n  <tbody>\n    <tr>\n      <th>0</th>\n      <td>20180274840</td>\n      <td>A refrigerator comprises: a refrigerator compa...</td>\n      <td>2018</td>\n      <td>1.0</td>\n      <td>F25D</td>\n      <td>Qingdao</td>\n      <td>Qingdao</td>\n      <td>CN</td>\n      <td>China</td>\n      <td>None</td>\n      <td>Qingdao_CN</td>\n      <td>F25D</td>\n      <td>NaN</td>\n      <td>NaN</td>\n    </tr>\n    <tr>\n      <th>1</th>\n      <td>20180274840</td>\n      <td>A refrigerator comprises: a refrigerator compa...</td>\n      <td>2018</td>\n      <td>1.0</td>\n      <td>F25D</td>\n      <td>Qingdao</td>\n      <td>Qingdao</td>\n      <td>CN</td>\n      <td>China</td>\n      <td>None</td>\n      <td>Qingdao_CN</td>\n      <td>F25D</td>\n      <td>NaN</td>\n      <td>NaN</td>\n    </tr>\n  </tbody>\n</table>\n</div>"
     },
     "execution_count": 19,
     "metadata": {},
     "output_type": "execute_result"
    }
   ],
   "source": [
    "# Creating new columns 'class_1', 'class_2', 'class_3' and assigning the first 3 values from 'class_concat', respectively\n",
    "df['class_1'] = df['class_concat'].str.split(',').str[0]\n",
    "df['class_2'] = df['class_concat'].str.split(',').str[1]\n",
    "df['class_3'] = df['class_concat'].str.split(',').str[2]\n",
    "df.head(2)"
   ],
   "metadata": {
    "collapsed": false,
    "ExecuteTime": {
     "end_time": "2023-08-31T20:09:20.402455Z",
     "start_time": "2023-08-31T20:09:02.637232Z"
    }
   }
  },
  {
   "cell_type": "code",
   "execution_count": 20,
   "outputs": [
    {
     "data": {
      "text/plain": "     patent_id                                           abstract  grant_year  \\\n0  20180274840  A refrigerator comprises: a refrigerator compa...        2018   \n1  20180274840  A refrigerator comprises: a refrigerator compa...        2018   \n\n   class_distinct_count class_concat     city GoogleCity country CountryName  \\\n0                   1.0         F25D  Qingdao    Qingdao      CN       China   \n1                   1.0         F25D  Qingdao    Qingdao      CN       China   \n\n  Ecosystem asciiname_country_code class_1 class_2 class_3 class_section_1  \\\n0      None             Qingdao_CN    F25D     NaN     NaN                   \n1      None             Qingdao_CN    F25D     NaN     NaN                   \n\n  class_section_2 class_section_3  \n0                                  \n1                                  ",
      "text/html": "<div>\n<style scoped>\n    .dataframe tbody tr th:only-of-type {\n        vertical-align: middle;\n    }\n\n    .dataframe tbody tr th {\n        vertical-align: top;\n    }\n\n    .dataframe thead th {\n        text-align: right;\n    }\n</style>\n<table border=\"1\" class=\"dataframe\">\n  <thead>\n    <tr style=\"text-align: right;\">\n      <th></th>\n      <th>patent_id</th>\n      <th>abstract</th>\n      <th>grant_year</th>\n      <th>class_distinct_count</th>\n      <th>class_concat</th>\n      <th>city</th>\n      <th>GoogleCity</th>\n      <th>country</th>\n      <th>CountryName</th>\n      <th>Ecosystem</th>\n      <th>asciiname_country_code</th>\n      <th>class_1</th>\n      <th>class_2</th>\n      <th>class_3</th>\n      <th>class_section_1</th>\n      <th>class_section_2</th>\n      <th>class_section_3</th>\n    </tr>\n  </thead>\n  <tbody>\n    <tr>\n      <th>0</th>\n      <td>20180274840</td>\n      <td>A refrigerator comprises: a refrigerator compa...</td>\n      <td>2018</td>\n      <td>1.0</td>\n      <td>F25D</td>\n      <td>Qingdao</td>\n      <td>Qingdao</td>\n      <td>CN</td>\n      <td>China</td>\n      <td>None</td>\n      <td>Qingdao_CN</td>\n      <td>F25D</td>\n      <td>NaN</td>\n      <td>NaN</td>\n      <td></td>\n      <td></td>\n      <td></td>\n    </tr>\n    <tr>\n      <th>1</th>\n      <td>20180274840</td>\n      <td>A refrigerator comprises: a refrigerator compa...</td>\n      <td>2018</td>\n      <td>1.0</td>\n      <td>F25D</td>\n      <td>Qingdao</td>\n      <td>Qingdao</td>\n      <td>CN</td>\n      <td>China</td>\n      <td>None</td>\n      <td>Qingdao_CN</td>\n      <td>F25D</td>\n      <td>NaN</td>\n      <td>NaN</td>\n      <td></td>\n      <td></td>\n      <td></td>\n    </tr>\n  </tbody>\n</table>\n</div>"
     },
     "execution_count": 20,
     "metadata": {},
     "output_type": "execute_result"
    }
   ],
   "source": [
    "# Creating new columns 'class_section_1', 'class_section_2', 'class_section_3' and leaving it empty for now\n",
    "df['class_section_1'] = ''\n",
    "df['class_section_2'] = ''\n",
    "df['class_section_3'] = ''\n",
    "df.head(2)"
   ],
   "metadata": {
    "collapsed": false,
    "ExecuteTime": {
     "end_time": "2023-08-31T20:10:06.012556Z",
     "start_time": "2023-08-31T20:10:05.951172Z"
    }
   }
  },
  {
   "cell_type": "code",
   "execution_count": 21,
   "outputs": [
    {
     "data": {
      "text/plain": "(1174031, 17)"
     },
     "execution_count": 21,
     "metadata": {},
     "output_type": "execute_result"
    }
   ],
   "source": [
    "# Eliminating duplicates based on 'patent_id'\n",
    "df.drop_duplicates(subset=['patent_id'], inplace=True)\n",
    "df.shape"
   ],
   "metadata": {
    "collapsed": false,
    "ExecuteTime": {
     "end_time": "2023-08-31T20:10:09.062209Z",
     "start_time": "2023-08-31T20:10:08.332016Z"
    }
   }
  },
  {
   "cell_type": "markdown",
   "source": [
    "# NEW DF: 'df_ipc'"
   ],
   "metadata": {
    "collapsed": false
   }
  },
  {
   "cell_type": "code",
   "execution_count": 22,
   "outputs": [
    {
     "data": {
      "text/plain": "    IPC                                              title\n0  G16Y  INFORMATION AND COMMUNICATION TECHNOLOGY SPECI...\n1  F24J                                                NaN",
      "text/html": "<div>\n<style scoped>\n    .dataframe tbody tr th:only-of-type {\n        vertical-align: middle;\n    }\n\n    .dataframe tbody tr th {\n        vertical-align: top;\n    }\n\n    .dataframe thead th {\n        text-align: right;\n    }\n</style>\n<table border=\"1\" class=\"dataframe\">\n  <thead>\n    <tr style=\"text-align: right;\">\n      <th></th>\n      <th>IPC</th>\n      <th>title</th>\n    </tr>\n  </thead>\n  <tbody>\n    <tr>\n      <th>0</th>\n      <td>G16Y</td>\n      <td>INFORMATION AND COMMUNICATION TECHNOLOGY SPECI...</td>\n    </tr>\n    <tr>\n      <th>1</th>\n      <td>F24J</td>\n      <td>NaN</td>\n    </tr>\n  </tbody>\n</table>\n</div>"
     },
     "execution_count": 22,
     "metadata": {},
     "output_type": "execute_result"
    }
   ],
   "source": [
    "df_ipc = pd.read_excel('../data/raw/IPC Titles.xlsx')\n",
    "df_ipc.head(2)"
   ],
   "metadata": {
    "collapsed": false,
    "ExecuteTime": {
     "end_time": "2023-08-31T20:10:19.164365Z",
     "start_time": "2023-08-31T20:10:18.882915Z"
    }
   }
  },
  {
   "cell_type": "code",
   "execution_count": 23,
   "outputs": [
    {
     "data": {
      "text/plain": "    IPC                                              title section\n0  G16Y  INFORMATION AND COMMUNICATION TECHNOLOGY SPECI...       G\n1  F24J                                                NaN       F",
      "text/html": "<div>\n<style scoped>\n    .dataframe tbody tr th:only-of-type {\n        vertical-align: middle;\n    }\n\n    .dataframe tbody tr th {\n        vertical-align: top;\n    }\n\n    .dataframe thead th {\n        text-align: right;\n    }\n</style>\n<table border=\"1\" class=\"dataframe\">\n  <thead>\n    <tr style=\"text-align: right;\">\n      <th></th>\n      <th>IPC</th>\n      <th>title</th>\n      <th>section</th>\n    </tr>\n  </thead>\n  <tbody>\n    <tr>\n      <th>0</th>\n      <td>G16Y</td>\n      <td>INFORMATION AND COMMUNICATION TECHNOLOGY SPECI...</td>\n      <td>G</td>\n    </tr>\n    <tr>\n      <th>1</th>\n      <td>F24J</td>\n      <td>NaN</td>\n      <td>F</td>\n    </tr>\n  </tbody>\n</table>\n</div>"
     },
     "execution_count": 23,
     "metadata": {},
     "output_type": "execute_result"
    }
   ],
   "source": [
    "# Create new column 'section', with the first character of the 'IPC'\n",
    "df_ipc['section'] = df_ipc['IPC'].str[0]\n",
    "df_ipc.head(2)"
   ],
   "metadata": {
    "collapsed": false,
    "ExecuteTime": {
     "end_time": "2023-08-31T20:10:22.092824Z",
     "start_time": "2023-08-31T20:10:22.081086Z"
    }
   }
  },
  {
   "cell_type": "code",
   "execution_count": 24,
   "outputs": [],
   "source": [
    "# Dictionary mapping sections to section names\n",
    "sections_dict = {\n",
    "    'A': 'Human Necessities',\n",
    "    'B': 'Performing Operations; Transporting',\n",
    "    'C': 'Chemistry; Metallurgy',\n",
    "    'D': 'Textiles; Paper',\n",
    "    'E': 'Fixed Constructions',\n",
    "    'F': 'Mechanical Engineering; Lighting; Heating; Weapons; Blasting',\n",
    "    'G': 'Physics',\n",
    "    'H': 'Electricity'\n",
    "}\n",
    "\n",
    "# Create the 'section_name' column by mapping values from the 'section' column\n",
    "df_ipc['section_name'] = df_ipc['section'].map(sections_dict)"
   ],
   "metadata": {
    "collapsed": false,
    "ExecuteTime": {
     "end_time": "2023-08-31T20:10:29.223445Z",
     "start_time": "2023-08-31T20:10:29.207273Z"
    }
   }
  },
  {
   "cell_type": "code",
   "execution_count": 25,
   "outputs": [
    {
     "data": {
      "text/plain": "    IPC                                              title section  \\\n0  G16Y  INFORMATION AND COMMUNICATION TECHNOLOGY SPECI...       G   \n1  F24J                                                NaN       F   \n\n                                        section_name  \n0                                            Physics  \n1  Mechanical Engineering; Lighting; Heating; Wea...  ",
      "text/html": "<div>\n<style scoped>\n    .dataframe tbody tr th:only-of-type {\n        vertical-align: middle;\n    }\n\n    .dataframe tbody tr th {\n        vertical-align: top;\n    }\n\n    .dataframe thead th {\n        text-align: right;\n    }\n</style>\n<table border=\"1\" class=\"dataframe\">\n  <thead>\n    <tr style=\"text-align: right;\">\n      <th></th>\n      <th>IPC</th>\n      <th>title</th>\n      <th>section</th>\n      <th>section_name</th>\n    </tr>\n  </thead>\n  <tbody>\n    <tr>\n      <th>0</th>\n      <td>G16Y</td>\n      <td>INFORMATION AND COMMUNICATION TECHNOLOGY SPECI...</td>\n      <td>G</td>\n      <td>Physics</td>\n    </tr>\n    <tr>\n      <th>1</th>\n      <td>F24J</td>\n      <td>NaN</td>\n      <td>F</td>\n      <td>Mechanical Engineering; Lighting; Heating; Wea...</td>\n    </tr>\n  </tbody>\n</table>\n</div>"
     },
     "execution_count": 25,
     "metadata": {},
     "output_type": "execute_result"
    }
   ],
   "source": [
    "df_ipc.head(2)"
   ],
   "metadata": {
    "collapsed": false,
    "ExecuteTime": {
     "end_time": "2023-08-31T20:10:33.942187Z",
     "start_time": "2023-08-31T20:10:33.903107Z"
    }
   }
  },
  {
   "cell_type": "markdown",
   "source": [
    "## ASSIGNING IPC SECTIONS TO THE MAIN DF"
   ],
   "metadata": {
    "collapsed": false
   }
  },
  {
   "cell_type": "code",
   "execution_count": 27,
   "outputs": [
    {
     "data": {
      "text/plain": "     patent_id                                           abstract  grant_year  \\\n0  20180274840  A refrigerator comprises: a refrigerator compa...        2018   \n4  20180274869                                                NaN        2018   \n\n   class_distinct_count class_concat      city GoogleCity country CountryName  \\\n0                   1.0         F25D   Qingdao    Qingdao      CN       China   \n4                   NaN         None  Shenzhen   Shenzhen      CN       China   \n\n  Ecosystem asciiname_country_code class_1 class_2 class_3 class_section_1  \\\n0      None             Qingdao_CN    F25D     NaN     NaN               F   \n4  Shenzhen            Shenzhen_CN    None    None    None            None   \n\n  class_section_2 class_section_3  \n0             NaN             NaN  \n4            None            None  ",
      "text/html": "<div>\n<style scoped>\n    .dataframe tbody tr th:only-of-type {\n        vertical-align: middle;\n    }\n\n    .dataframe tbody tr th {\n        vertical-align: top;\n    }\n\n    .dataframe thead th {\n        text-align: right;\n    }\n</style>\n<table border=\"1\" class=\"dataframe\">\n  <thead>\n    <tr style=\"text-align: right;\">\n      <th></th>\n      <th>patent_id</th>\n      <th>abstract</th>\n      <th>grant_year</th>\n      <th>class_distinct_count</th>\n      <th>class_concat</th>\n      <th>city</th>\n      <th>GoogleCity</th>\n      <th>country</th>\n      <th>CountryName</th>\n      <th>Ecosystem</th>\n      <th>asciiname_country_code</th>\n      <th>class_1</th>\n      <th>class_2</th>\n      <th>class_3</th>\n      <th>class_section_1</th>\n      <th>class_section_2</th>\n      <th>class_section_3</th>\n    </tr>\n  </thead>\n  <tbody>\n    <tr>\n      <th>0</th>\n      <td>20180274840</td>\n      <td>A refrigerator comprises: a refrigerator compa...</td>\n      <td>2018</td>\n      <td>1.0</td>\n      <td>F25D</td>\n      <td>Qingdao</td>\n      <td>Qingdao</td>\n      <td>CN</td>\n      <td>China</td>\n      <td>None</td>\n      <td>Qingdao_CN</td>\n      <td>F25D</td>\n      <td>NaN</td>\n      <td>NaN</td>\n      <td>F</td>\n      <td>NaN</td>\n      <td>NaN</td>\n    </tr>\n    <tr>\n      <th>4</th>\n      <td>20180274869</td>\n      <td>NaN</td>\n      <td>2018</td>\n      <td>NaN</td>\n      <td>None</td>\n      <td>Shenzhen</td>\n      <td>Shenzhen</td>\n      <td>CN</td>\n      <td>China</td>\n      <td>Shenzhen</td>\n      <td>Shenzhen_CN</td>\n      <td>None</td>\n      <td>None</td>\n      <td>None</td>\n      <td>None</td>\n      <td>None</td>\n      <td>None</td>\n    </tr>\n  </tbody>\n</table>\n</div>"
     },
     "execution_count": 27,
     "metadata": {},
     "output_type": "execute_result"
    }
   ],
   "source": [
    "# Assign the first character of the columns 'class_1', 'class_2', 'class_3' to the columns 'class_section_1', 'class_section_2', 'class_section_3', respectively\n",
    "df['class_section_1'] = df['class_1'].str[0]\n",
    "df['class_section_2'] = df['class_2'].str[0]\n",
    "df['class_section_3'] = df['class_3'].str[0]\n",
    "df.head(2)"
   ],
   "metadata": {
    "collapsed": false,
    "ExecuteTime": {
     "end_time": "2023-08-31T20:11:14.740443Z",
     "start_time": "2023-08-31T20:11:13.629940Z"
    }
   }
  },
  {
   "cell_type": "code",
   "execution_count": 28,
   "outputs": [
    {
     "data": {
      "text/plain": "     patent_id                                           abstract  grant_year  \\\n0  20180274840  A refrigerator comprises: a refrigerator compa...        2018   \n4  20180274869                                                NaN        2018   \n\n   class_distinct_count class_concat      city GoogleCity country CountryName  \\\n0                   1.0         F25D   Qingdao    Qingdao      CN       China   \n4                   NaN         None  Shenzhen   Shenzhen      CN       China   \n\n  Ecosystem asciiname_country_code class_1 class_2 class_3 class_section_1  \\\n0      None             Qingdao_CN    F25D     NaN     NaN               F   \n4  Shenzhen            Shenzhen_CN    None    None    None            None   \n\n  class_section_2 class_section_3  \\\n0             NaN             NaN   \n4            None            None   \n\n                                 class_section_name1 class_section_name2  \\\n0  Mechanical Engineering; Lighting; Heating; Wea...                 NaN   \n4                                                NaN                 NaN   \n\n  class_section_name3  \n0                 NaN  \n4                 NaN  ",
      "text/html": "<div>\n<style scoped>\n    .dataframe tbody tr th:only-of-type {\n        vertical-align: middle;\n    }\n\n    .dataframe tbody tr th {\n        vertical-align: top;\n    }\n\n    .dataframe thead th {\n        text-align: right;\n    }\n</style>\n<table border=\"1\" class=\"dataframe\">\n  <thead>\n    <tr style=\"text-align: right;\">\n      <th></th>\n      <th>patent_id</th>\n      <th>abstract</th>\n      <th>grant_year</th>\n      <th>class_distinct_count</th>\n      <th>class_concat</th>\n      <th>city</th>\n      <th>GoogleCity</th>\n      <th>country</th>\n      <th>CountryName</th>\n      <th>Ecosystem</th>\n      <th>asciiname_country_code</th>\n      <th>class_1</th>\n      <th>class_2</th>\n      <th>class_3</th>\n      <th>class_section_1</th>\n      <th>class_section_2</th>\n      <th>class_section_3</th>\n      <th>class_section_name1</th>\n      <th>class_section_name2</th>\n      <th>class_section_name3</th>\n    </tr>\n  </thead>\n  <tbody>\n    <tr>\n      <th>0</th>\n      <td>20180274840</td>\n      <td>A refrigerator comprises: a refrigerator compa...</td>\n      <td>2018</td>\n      <td>1.0</td>\n      <td>F25D</td>\n      <td>Qingdao</td>\n      <td>Qingdao</td>\n      <td>CN</td>\n      <td>China</td>\n      <td>None</td>\n      <td>Qingdao_CN</td>\n      <td>F25D</td>\n      <td>NaN</td>\n      <td>NaN</td>\n      <td>F</td>\n      <td>NaN</td>\n      <td>NaN</td>\n      <td>Mechanical Engineering; Lighting; Heating; Wea...</td>\n      <td>NaN</td>\n      <td>NaN</td>\n    </tr>\n    <tr>\n      <th>4</th>\n      <td>20180274869</td>\n      <td>NaN</td>\n      <td>2018</td>\n      <td>NaN</td>\n      <td>None</td>\n      <td>Shenzhen</td>\n      <td>Shenzhen</td>\n      <td>CN</td>\n      <td>China</td>\n      <td>Shenzhen</td>\n      <td>Shenzhen_CN</td>\n      <td>None</td>\n      <td>None</td>\n      <td>None</td>\n      <td>None</td>\n      <td>None</td>\n      <td>None</td>\n      <td>NaN</td>\n      <td>NaN</td>\n      <td>NaN</td>\n    </tr>\n  </tbody>\n</table>\n</div>"
     },
     "execution_count": 28,
     "metadata": {},
     "output_type": "execute_result"
    }
   ],
   "source": [
    "# Create columns 'class_section_name1', 'class_section_name2', 'class_section_name3', then map the values from the columns 'class_section_1', 'class_section_2', 'class_section_3' to the new columns using the dictionary 'sections_dict'\n",
    "df['class_section_name1'] = df['class_section_1'].map(sections_dict)\n",
    "df['class_section_name2'] = df['class_section_2'].map(sections_dict)\n",
    "df['class_section_name3'] = df['class_section_3'].map(sections_dict)\n",
    "df.head(2)"
   ],
   "metadata": {
    "collapsed": false,
    "ExecuteTime": {
     "end_time": "2023-08-31T20:11:20.493432Z",
     "start_time": "2023-08-31T20:11:20.258630Z"
    }
   }
  },
  {
   "cell_type": "code",
   "execution_count": 29,
   "outputs": [
    {
     "data": {
      "text/plain": "     patent_id                                           abstract  grant_year  \\\n0  20180274840  A refrigerator comprises: a refrigerator compa...        2018   \n4  20180274869                                                NaN        2018   \n\n   class_distinct_count class_concat      city GoogleCity country CountryName  \\\n0                   1.0         F25D   Qingdao    Qingdao      CN       China   \n4                   NaN         None  Shenzhen   Shenzhen      CN       China   \n\n  Ecosystem asciiname_country_code class_1 class_2 class_3 class_section_1  \\\n0      None             Qingdao_CN    F25D     NaN     NaN               F   \n4  Shenzhen            Shenzhen_CN    None    None    None            None   \n\n  class_section_2 class_section_3  \\\n0             NaN             NaN   \n4            None            None   \n\n                                 class_section_name1 class_section_name2  \\\n0  Mechanical Engineering; Lighting; Heating; Wea...                 NaN   \n4                                                NaN                 NaN   \n\n  class_section_name3 class_description_1 class_description_2  \\\n0                 NaN                                           \n4                 NaN                                           \n\n  class_description_3  \n0                      \n4                      ",
      "text/html": "<div>\n<style scoped>\n    .dataframe tbody tr th:only-of-type {\n        vertical-align: middle;\n    }\n\n    .dataframe tbody tr th {\n        vertical-align: top;\n    }\n\n    .dataframe thead th {\n        text-align: right;\n    }\n</style>\n<table border=\"1\" class=\"dataframe\">\n  <thead>\n    <tr style=\"text-align: right;\">\n      <th></th>\n      <th>patent_id</th>\n      <th>abstract</th>\n      <th>grant_year</th>\n      <th>class_distinct_count</th>\n      <th>class_concat</th>\n      <th>city</th>\n      <th>GoogleCity</th>\n      <th>country</th>\n      <th>CountryName</th>\n      <th>Ecosystem</th>\n      <th>asciiname_country_code</th>\n      <th>class_1</th>\n      <th>class_2</th>\n      <th>class_3</th>\n      <th>class_section_1</th>\n      <th>class_section_2</th>\n      <th>class_section_3</th>\n      <th>class_section_name1</th>\n      <th>class_section_name2</th>\n      <th>class_section_name3</th>\n      <th>class_description_1</th>\n      <th>class_description_2</th>\n      <th>class_description_3</th>\n    </tr>\n  </thead>\n  <tbody>\n    <tr>\n      <th>0</th>\n      <td>20180274840</td>\n      <td>A refrigerator comprises: a refrigerator compa...</td>\n      <td>2018</td>\n      <td>1.0</td>\n      <td>F25D</td>\n      <td>Qingdao</td>\n      <td>Qingdao</td>\n      <td>CN</td>\n      <td>China</td>\n      <td>None</td>\n      <td>Qingdao_CN</td>\n      <td>F25D</td>\n      <td>NaN</td>\n      <td>NaN</td>\n      <td>F</td>\n      <td>NaN</td>\n      <td>NaN</td>\n      <td>Mechanical Engineering; Lighting; Heating; Wea...</td>\n      <td>NaN</td>\n      <td>NaN</td>\n      <td></td>\n      <td></td>\n      <td></td>\n    </tr>\n    <tr>\n      <th>4</th>\n      <td>20180274869</td>\n      <td>NaN</td>\n      <td>2018</td>\n      <td>NaN</td>\n      <td>None</td>\n      <td>Shenzhen</td>\n      <td>Shenzhen</td>\n      <td>CN</td>\n      <td>China</td>\n      <td>Shenzhen</td>\n      <td>Shenzhen_CN</td>\n      <td>None</td>\n      <td>None</td>\n      <td>None</td>\n      <td>None</td>\n      <td>None</td>\n      <td>None</td>\n      <td>NaN</td>\n      <td>NaN</td>\n      <td>NaN</td>\n      <td></td>\n      <td></td>\n      <td></td>\n    </tr>\n  </tbody>\n</table>\n</div>"
     },
     "execution_count": 29,
     "metadata": {},
     "output_type": "execute_result"
    }
   ],
   "source": [
    "# Creating new columns 'class_description_1', 'class_description_2', 'class_description_3' and leaving it empty for now\n",
    "df['class_description_1'] = ''\n",
    "df['class_description_2'] = ''\n",
    "df['class_description_3'] = ''\n",
    "df.head(2)"
   ],
   "metadata": {
    "collapsed": false,
    "ExecuteTime": {
     "end_time": "2023-08-31T20:11:25.469519Z",
     "start_time": "2023-08-31T20:11:25.429009Z"
    }
   }
  },
  {
   "cell_type": "code",
   "execution_count": 30,
   "outputs": [],
   "source": [
    "# Create a dictionary to map 'classes' to 'title'\n",
    "class_description_dict = dict(zip(df_ipc['IPC'], df_ipc['title']))\n",
    "\n",
    "# Update the values in the existing 'class_description_1' column using map\n",
    "df['class_description_1'] = df['class_1'].map(class_description_dict)"
   ],
   "metadata": {
    "collapsed": false,
    "ExecuteTime": {
     "end_time": "2023-08-31T20:11:30.679059Z",
     "start_time": "2023-08-31T20:11:30.633992Z"
    }
   }
  },
  {
   "cell_type": "code",
   "execution_count": 31,
   "outputs": [],
   "source": [
    "# Update the values in the existing 'class_description_2' column using map\n",
    "df['class_description_2'] = df['class_2'].map(class_description_dict)"
   ],
   "metadata": {
    "collapsed": false,
    "ExecuteTime": {
     "end_time": "2023-08-31T20:11:47.931628Z",
     "start_time": "2023-08-31T20:11:47.889029Z"
    }
   }
  },
  {
   "cell_type": "code",
   "execution_count": 32,
   "outputs": [],
   "source": [
    "# Update the values in the existing 'class_description_3' column using map\n",
    "df['class_description_3'] = df['class_3'].map(class_description_dict)"
   ],
   "metadata": {
    "collapsed": false,
    "ExecuteTime": {
     "end_time": "2023-08-31T20:11:48.935593Z",
     "start_time": "2023-08-31T20:11:48.791635Z"
    }
   }
  },
  {
   "cell_type": "code",
   "execution_count": 33,
   "outputs": [
    {
     "data": {
      "text/plain": "     patent_id                                           abstract  grant_year  \\\n0  20180274840  A refrigerator comprises: a refrigerator compa...        2018   \n4  20180274869                                                NaN        2018   \n\n   class_distinct_count class_concat      city GoogleCity country CountryName  \\\n0                   1.0         F25D   Qingdao    Qingdao      CN       China   \n4                   NaN         None  Shenzhen   Shenzhen      CN       China   \n\n  Ecosystem asciiname_country_code class_1 class_2 class_3 class_section_1  \\\n0      None             Qingdao_CN    F25D     NaN     NaN               F   \n4  Shenzhen            Shenzhen_CN    None    None    None            None   \n\n  class_section_2 class_section_3  \\\n0             NaN             NaN   \n4            None            None   \n\n                                 class_section_name1 class_section_name2  \\\n0  Mechanical Engineering; Lighting; Heating; Wea...                 NaN   \n4                                                NaN                 NaN   \n\n  class_section_name3                                class_description_1  \\\n0                 NaN  REFRIGERATORS; COLD ROOMS; ICE-BOXES; COOLING ...   \n4                 NaN                                                NaN   \n\n  class_description_2 class_description_3  \n0                 NaN                 NaN  \n4                 NaN                 NaN  ",
      "text/html": "<div>\n<style scoped>\n    .dataframe tbody tr th:only-of-type {\n        vertical-align: middle;\n    }\n\n    .dataframe tbody tr th {\n        vertical-align: top;\n    }\n\n    .dataframe thead th {\n        text-align: right;\n    }\n</style>\n<table border=\"1\" class=\"dataframe\">\n  <thead>\n    <tr style=\"text-align: right;\">\n      <th></th>\n      <th>patent_id</th>\n      <th>abstract</th>\n      <th>grant_year</th>\n      <th>class_distinct_count</th>\n      <th>class_concat</th>\n      <th>city</th>\n      <th>GoogleCity</th>\n      <th>country</th>\n      <th>CountryName</th>\n      <th>Ecosystem</th>\n      <th>asciiname_country_code</th>\n      <th>class_1</th>\n      <th>class_2</th>\n      <th>class_3</th>\n      <th>class_section_1</th>\n      <th>class_section_2</th>\n      <th>class_section_3</th>\n      <th>class_section_name1</th>\n      <th>class_section_name2</th>\n      <th>class_section_name3</th>\n      <th>class_description_1</th>\n      <th>class_description_2</th>\n      <th>class_description_3</th>\n    </tr>\n  </thead>\n  <tbody>\n    <tr>\n      <th>0</th>\n      <td>20180274840</td>\n      <td>A refrigerator comprises: a refrigerator compa...</td>\n      <td>2018</td>\n      <td>1.0</td>\n      <td>F25D</td>\n      <td>Qingdao</td>\n      <td>Qingdao</td>\n      <td>CN</td>\n      <td>China</td>\n      <td>None</td>\n      <td>Qingdao_CN</td>\n      <td>F25D</td>\n      <td>NaN</td>\n      <td>NaN</td>\n      <td>F</td>\n      <td>NaN</td>\n      <td>NaN</td>\n      <td>Mechanical Engineering; Lighting; Heating; Wea...</td>\n      <td>NaN</td>\n      <td>NaN</td>\n      <td>REFRIGERATORS; COLD ROOMS; ICE-BOXES; COOLING ...</td>\n      <td>NaN</td>\n      <td>NaN</td>\n    </tr>\n    <tr>\n      <th>4</th>\n      <td>20180274869</td>\n      <td>NaN</td>\n      <td>2018</td>\n      <td>NaN</td>\n      <td>None</td>\n      <td>Shenzhen</td>\n      <td>Shenzhen</td>\n      <td>CN</td>\n      <td>China</td>\n      <td>Shenzhen</td>\n      <td>Shenzhen_CN</td>\n      <td>None</td>\n      <td>None</td>\n      <td>None</td>\n      <td>None</td>\n      <td>None</td>\n      <td>None</td>\n      <td>NaN</td>\n      <td>NaN</td>\n      <td>NaN</td>\n      <td>NaN</td>\n      <td>NaN</td>\n      <td>NaN</td>\n    </tr>\n  </tbody>\n</table>\n</div>"
     },
     "execution_count": 33,
     "metadata": {},
     "output_type": "execute_result"
    }
   ],
   "source": [
    "df.head(2)"
   ],
   "metadata": {
    "collapsed": false,
    "ExecuteTime": {
     "end_time": "2023-08-31T20:11:49.795276Z",
     "start_time": "2023-08-31T20:11:49.755283Z"
    }
   }
  },
  {
   "cell_type": "code",
   "execution_count": 34,
   "outputs": [
    {
     "data": {
      "text/plain": "      patent_id                                           abstract  \\\n35  20180001079  This disclosure relates to an in vivo treatmen...   \n38  20180001581  Systems, methods, and devices to fabricate one...   \n\n    grant_year  class_distinct_count         class_concat      city  \\\n35        2018                   4.0  H03K,A61N,A61B,C12N    Encino   \n38        2018                   4.0  B29C,B33Y,B29D,G02C  Evanston   \n\n     GoogleCity country    CountryName    Ecosystem asciiname_country_code  \\\n35  Los Angeles      US  United States  Los Angeles              Encino_US   \n38     Evanston      US  United States      Chicago            Evanston_US   \n\n   class_1 class_2 class_3 class_section_1 class_section_2 class_section_3  \\\n35    H03K    A61N    A61B               H               A               A   \n38    B29C    B33Y    B29D               B               B               B   \n\n                    class_section_name1                  class_section_name2  \\\n35                          Electricity                    Human Necessities   \n38  Performing Operations; Transporting  Performing Operations; Transporting   \n\n                    class_section_name3  \\\n35                    Human Necessities   \n38  Performing Operations; Transporting   \n\n                                  class_description_1  \\\n35                                    PULSE TECHNIQUE   \n38  SHAPING OR JOINING OF PLASTICS; SHAPING OF MAT...   \n\n                                  class_description_2  \\\n35  ELECTROTHERAPY; MAGNETOTHERAPY; RADIATION THER...   \n38  ADDITIVE MANUFACTURING, i.e. MANUFACTURING OF ...   \n\n                                  class_description_3  \n35                 DIAGNOSIS; SURGERY; IDENTIFICATION  \n38  PRODUCING PARTICULAR ARTICLES FROM PLASTICS OR...  ",
      "text/html": "<div>\n<style scoped>\n    .dataframe tbody tr th:only-of-type {\n        vertical-align: middle;\n    }\n\n    .dataframe tbody tr th {\n        vertical-align: top;\n    }\n\n    .dataframe thead th {\n        text-align: right;\n    }\n</style>\n<table border=\"1\" class=\"dataframe\">\n  <thead>\n    <tr style=\"text-align: right;\">\n      <th></th>\n      <th>patent_id</th>\n      <th>abstract</th>\n      <th>grant_year</th>\n      <th>class_distinct_count</th>\n      <th>class_concat</th>\n      <th>city</th>\n      <th>GoogleCity</th>\n      <th>country</th>\n      <th>CountryName</th>\n      <th>Ecosystem</th>\n      <th>asciiname_country_code</th>\n      <th>class_1</th>\n      <th>class_2</th>\n      <th>class_3</th>\n      <th>class_section_1</th>\n      <th>class_section_2</th>\n      <th>class_section_3</th>\n      <th>class_section_name1</th>\n      <th>class_section_name2</th>\n      <th>class_section_name3</th>\n      <th>class_description_1</th>\n      <th>class_description_2</th>\n      <th>class_description_3</th>\n    </tr>\n  </thead>\n  <tbody>\n    <tr>\n      <th>35</th>\n      <td>20180001079</td>\n      <td>This disclosure relates to an in vivo treatmen...</td>\n      <td>2018</td>\n      <td>4.0</td>\n      <td>H03K,A61N,A61B,C12N</td>\n      <td>Encino</td>\n      <td>Los Angeles</td>\n      <td>US</td>\n      <td>United States</td>\n      <td>Los Angeles</td>\n      <td>Encino_US</td>\n      <td>H03K</td>\n      <td>A61N</td>\n      <td>A61B</td>\n      <td>H</td>\n      <td>A</td>\n      <td>A</td>\n      <td>Electricity</td>\n      <td>Human Necessities</td>\n      <td>Human Necessities</td>\n      <td>PULSE TECHNIQUE</td>\n      <td>ELECTROTHERAPY; MAGNETOTHERAPY; RADIATION THER...</td>\n      <td>DIAGNOSIS; SURGERY; IDENTIFICATION</td>\n    </tr>\n    <tr>\n      <th>38</th>\n      <td>20180001581</td>\n      <td>Systems, methods, and devices to fabricate one...</td>\n      <td>2018</td>\n      <td>4.0</td>\n      <td>B29C,B33Y,B29D,G02C</td>\n      <td>Evanston</td>\n      <td>Evanston</td>\n      <td>US</td>\n      <td>United States</td>\n      <td>Chicago</td>\n      <td>Evanston_US</td>\n      <td>B29C</td>\n      <td>B33Y</td>\n      <td>B29D</td>\n      <td>B</td>\n      <td>B</td>\n      <td>B</td>\n      <td>Performing Operations; Transporting</td>\n      <td>Performing Operations; Transporting</td>\n      <td>Performing Operations; Transporting</td>\n      <td>SHAPING OR JOINING OF PLASTICS; SHAPING OF MAT...</td>\n      <td>ADDITIVE MANUFACTURING, i.e. MANUFACTURING OF ...</td>\n      <td>PRODUCING PARTICULAR ARTICLES FROM PLASTICS OR...</td>\n    </tr>\n  </tbody>\n</table>\n</div>"
     },
     "execution_count": 34,
     "metadata": {},
     "output_type": "execute_result"
    }
   ],
   "source": [
    "# Visualize the rows with 'class_distinct_count' >=3\n",
    "df[df['class_distinct_count'] >= 3].head(2)"
   ],
   "metadata": {
    "collapsed": false,
    "ExecuteTime": {
     "end_time": "2023-08-31T20:12:10.458091Z",
     "start_time": "2023-08-31T20:12:10.311559Z"
    }
   }
  },
  {
   "cell_type": "markdown",
   "source": [
    "# NEW DATAFRAME: df_cities"
   ],
   "metadata": {
    "collapsed": false
   }
  },
  {
   "cell_type": "code",
   "execution_count": 51,
   "outputs": [
    {
     "name": "stdout",
     "output_type": "stream",
     "text": [
      "   geonameid                 name            asciiname  \\\n",
      "0    3039154            El Tarter            El Tarter   \n",
      "1    3039163  Sant Julià de Lòria  Sant Julia de Loria   \n",
      "\n",
      "                                      alternatenames  latitude  longitude  \\\n",
      "0                               Ehl Tarter,Эл Тартер  42.57952    1.65362   \n",
      "1  San Julia,San Julià,Sant Julia de Loria,Sant J...  42.46372    1.49129   \n",
      "\n",
      "  feature_class country_code  \n",
      "0             P           AD  \n",
      "1             P           AD  \n"
     ]
    }
   ],
   "source": [
    "# Creating a new dataframe with city geolocation info\n",
    "\n",
    "# Define the columns you want to keep and their positions in the file\n",
    "columns_to_keep = [0, 1, 2, 3, 4, 5, 6, 8]\n",
    "column_names = ['geonameid', 'name', 'asciiname', 'alternatenames', 'latitude', 'longitude', 'feature_class', 'country_code']\n",
    "\n",
    "# Read the dataset\n",
    "df_cities = pd.read_csv('../data/raw/cities1000.txt', sep='\\t', header=None, usecols=columns_to_keep, names=column_names)\n",
    "\n",
    "# Display the DataFrame to check if it's loaded correctly\n",
    "print(df_cities.head(2))"
   ],
   "metadata": {
    "collapsed": false,
    "ExecuteTime": {
     "end_time": "2023-08-31T20:24:48.850167Z",
     "start_time": "2023-08-31T20:24:48.080456Z"
    }
   }
  },
  {
   "cell_type": "code",
   "execution_count": 52,
   "outputs": [],
   "source": [
    "# Create a new column 'asciiname_country_code' by concatenating 'asciiname' and 'country_code'\n",
    "df_cities['city_country_code'] = df_cities['asciiname'] + \"_\" + df_cities['country_code']"
   ],
   "metadata": {
    "collapsed": false,
    "ExecuteTime": {
     "end_time": "2023-08-31T20:24:54.231290Z",
     "start_time": "2023-08-31T20:24:54.164670Z"
    }
   }
  },
  {
   "cell_type": "code",
   "execution_count": 53,
   "outputs": [
    {
     "data": {
      "text/plain": "   geonameid                 name            asciiname  \\\n0    3039154            El Tarter            El Tarter   \n1    3039163  Sant Julià de Lòria  Sant Julia de Loria   \n\n                                      alternatenames  latitude  longitude  \\\n0                               Ehl Tarter,Эл Тартер  42.57952    1.65362   \n1  San Julia,San Julià,Sant Julia de Loria,Sant J...  42.46372    1.49129   \n\n  feature_class country_code       city_country_code  \n0             P           AD            El Tarter_AD  \n1             P           AD  Sant Julia de Loria_AD  ",
      "text/html": "<div>\n<style scoped>\n    .dataframe tbody tr th:only-of-type {\n        vertical-align: middle;\n    }\n\n    .dataframe tbody tr th {\n        vertical-align: top;\n    }\n\n    .dataframe thead th {\n        text-align: right;\n    }\n</style>\n<table border=\"1\" class=\"dataframe\">\n  <thead>\n    <tr style=\"text-align: right;\">\n      <th></th>\n      <th>geonameid</th>\n      <th>name</th>\n      <th>asciiname</th>\n      <th>alternatenames</th>\n      <th>latitude</th>\n      <th>longitude</th>\n      <th>feature_class</th>\n      <th>country_code</th>\n      <th>city_country_code</th>\n    </tr>\n  </thead>\n  <tbody>\n    <tr>\n      <th>0</th>\n      <td>3039154</td>\n      <td>El Tarter</td>\n      <td>El Tarter</td>\n      <td>Ehl Tarter,Эл Тартер</td>\n      <td>42.57952</td>\n      <td>1.65362</td>\n      <td>P</td>\n      <td>AD</td>\n      <td>El Tarter_AD</td>\n    </tr>\n    <tr>\n      <th>1</th>\n      <td>3039163</td>\n      <td>Sant Julià de Lòria</td>\n      <td>Sant Julia de Loria</td>\n      <td>San Julia,San Julià,Sant Julia de Loria,Sant J...</td>\n      <td>42.46372</td>\n      <td>1.49129</td>\n      <td>P</td>\n      <td>AD</td>\n      <td>Sant Julia de Loria_AD</td>\n    </tr>\n  </tbody>\n</table>\n</div>"
     },
     "execution_count": 53,
     "metadata": {},
     "output_type": "execute_result"
    }
   ],
   "source": [
    "df_cities.head(2)"
   ],
   "metadata": {
    "collapsed": false,
    "ExecuteTime": {
     "end_time": "2023-08-31T20:24:55.581736Z",
     "start_time": "2023-08-31T20:24:55.564949Z"
    }
   }
  },
  {
   "cell_type": "markdown",
   "source": [
    "# NEW DATAFRAME: df_geo\n",
    "This dataframe contains unique values for 'city_country_code'"
   ],
   "metadata": {
    "collapsed": false
   }
  },
  {
   "cell_type": "code",
   "execution_count": 54,
   "outputs": [
    {
     "data": {
      "text/plain": "       city GoogleCity country CountryName city_country_code Ecosystem\n0   Qingdao    Qingdao      CN       China        Qingdao_CN      None\n4  Shenzhen   Shenzhen      CN       China       Shenzhen_CN  Shenzhen",
      "text/html": "<div>\n<style scoped>\n    .dataframe tbody tr th:only-of-type {\n        vertical-align: middle;\n    }\n\n    .dataframe tbody tr th {\n        vertical-align: top;\n    }\n\n    .dataframe thead th {\n        text-align: right;\n    }\n</style>\n<table border=\"1\" class=\"dataframe\">\n  <thead>\n    <tr style=\"text-align: right;\">\n      <th></th>\n      <th>city</th>\n      <th>GoogleCity</th>\n      <th>country</th>\n      <th>CountryName</th>\n      <th>city_country_code</th>\n      <th>Ecosystem</th>\n    </tr>\n  </thead>\n  <tbody>\n    <tr>\n      <th>0</th>\n      <td>Qingdao</td>\n      <td>Qingdao</td>\n      <td>CN</td>\n      <td>China</td>\n      <td>Qingdao_CN</td>\n      <td>None</td>\n    </tr>\n    <tr>\n      <th>4</th>\n      <td>Shenzhen</td>\n      <td>Shenzhen</td>\n      <td>CN</td>\n      <td>China</td>\n      <td>Shenzhen_CN</td>\n      <td>Shenzhen</td>\n    </tr>\n  </tbody>\n</table>\n</div>"
     },
     "execution_count": 54,
     "metadata": {},
     "output_type": "execute_result"
    }
   ],
   "source": [
    "df_geo = df[['city', 'GoogleCity', 'country', 'CountryName', 'city_country_code', 'Ecosystem']]\n",
    "df_geo.head(2)"
   ],
   "metadata": {
    "collapsed": false,
    "ExecuteTime": {
     "end_time": "2023-08-31T20:25:31.498104Z",
     "start_time": "2023-08-31T20:25:31.492648Z"
    }
   }
  },
  {
   "cell_type": "code",
   "execution_count": 56,
   "outputs": [
    {
     "data": {
      "text/plain": "(66156, 6)"
     },
     "execution_count": 56,
     "metadata": {},
     "output_type": "execute_result"
    }
   ],
   "source": [
    "df_geo.drop_duplicates(subset=['city_country_code'], inplace=True)\n",
    "df_geo.shape"
   ],
   "metadata": {
    "collapsed": false,
    "ExecuteTime": {
     "end_time": "2023-08-31T20:25:49.881376Z",
     "start_time": "2023-08-31T20:25:49.846571Z"
    }
   }
  },
  {
   "cell_type": "code",
   "execution_count": 57,
   "outputs": [
    {
     "data": {
      "text/plain": "Index(['city', 'GoogleCity', 'country', 'CountryName', 'city_country_code',\n       'Ecosystem'],\n      dtype='object')"
     },
     "execution_count": 57,
     "metadata": {},
     "output_type": "execute_result"
    }
   ],
   "source": [
    "df_geo.columns"
   ],
   "metadata": {
    "collapsed": false,
    "ExecuteTime": {
     "end_time": "2023-08-31T20:25:52.470039Z",
     "start_time": "2023-08-31T20:25:52.446486Z"
    }
   }
  },
  {
   "cell_type": "code",
   "execution_count": 58,
   "outputs": [
    {
     "data": {
      "text/plain": "0     Qingdao_CN\n4    Shenzhen_CN\n7       Mainz_DE\n8        Graz_AT\n9       Osaka_JP\nName: city_country_code, dtype: object"
     },
     "execution_count": 58,
     "metadata": {},
     "output_type": "execute_result"
    }
   ],
   "source": [
    "df_geo['city_country_code'].head()"
   ],
   "metadata": {
    "collapsed": false,
    "ExecuteTime": {
     "end_time": "2023-08-31T20:25:58.794339Z",
     "start_time": "2023-08-31T20:25:58.778498Z"
    }
   }
  },
  {
   "cell_type": "code",
   "execution_count": 59,
   "outputs": [
    {
     "data": {
      "text/plain": "Index(['geonameid', 'name', 'asciiname', 'alternatenames', 'latitude',\n       'longitude', 'feature_class', 'country_code', 'city_country_code'],\n      dtype='object')"
     },
     "execution_count": 59,
     "metadata": {},
     "output_type": "execute_result"
    }
   ],
   "source": [
    "df_cities.columns"
   ],
   "metadata": {
    "collapsed": false,
    "ExecuteTime": {
     "end_time": "2023-08-31T20:26:03.191516Z",
     "start_time": "2023-08-31T20:26:03.182664Z"
    }
   }
  },
  {
   "cell_type": "code",
   "execution_count": 61,
   "outputs": [
    {
     "data": {
      "text/plain": "0              El Tarter_AD\n1    Sant Julia de Loria_AD\nName: city_country_code, dtype: object"
     },
     "execution_count": 61,
     "metadata": {},
     "output_type": "execute_result"
    }
   ],
   "source": [
    "df_cities['city_country_code'].head(2)"
   ],
   "metadata": {
    "collapsed": false,
    "ExecuteTime": {
     "end_time": "2023-08-31T20:26:19.829788Z",
     "start_time": "2023-08-31T20:26:19.811149Z"
    }
   }
  },
  {
   "cell_type": "markdown",
   "source": [
    "## ASSIGNING LATITUDE AND LONGITUDE"
   ],
   "metadata": {
    "collapsed": false
   }
  },
  {
   "cell_type": "code",
   "execution_count": 62,
   "outputs": [],
   "source": [
    "# Create mapping dictionaries for latitude and longitude\n",
    "latitude_map = dict(zip(df_cities['city_country_code'], df_cities['latitude']))\n",
    "longitude_map = dict(zip(df_cities['city_country_code'], df_cities['longitude']))\n",
    "\n",
    "# Create new columns in df_sample and populate them using map\n",
    "df_geo['latitude'] = df_geo['city_country_code'].map(latitude_map)\n",
    "df_geo['longitude'] = df_geo['city_country_code'].map(longitude_map)"
   ],
   "metadata": {
    "collapsed": false,
    "ExecuteTime": {
     "end_time": "2023-08-31T20:27:08.296224Z",
     "start_time": "2023-08-31T20:27:08.189224Z"
    }
   }
  },
  {
   "cell_type": "code",
   "execution_count": 63,
   "outputs": [
    {
     "data": {
      "text/plain": "              city   GoogleCity country    CountryName  city_country_code  \\\n0          Qingdao      Qingdao      CN          China         Qingdao_CN   \n4         Shenzhen     Shenzhen      CN          China        Shenzhen_CN   \n7            Mainz        Mainz      DE        Germany           Mainz_DE   \n8             Graz         Graz      AT        Austria            Graz_AT   \n9            Osaka        Osaka      JP          Japan           Osaka_JP   \n10          Suzhou        Suzho      CN          China          Suzhou_CN   \n11          Mumbai       Mumbai      IN          India          Mumbai_IN   \n16            Jena         Jena      DE        Germany            Jena_DE   \n17         Beijing      Beijing      CN          China         Beijing_CN   \n20          Xuzhou        Xuzho      CN          China          Xuzhou_CN   \n21          Spinea       Spinea      IT          Italy          Spinea_IT   \n22           Azusa        Azusa      US  United States           Azusa_US   \n25          Dallas       Dallas      US  United States          Dallas_US   \n27        Nijmegen     Nijmegen      NL    Netherlands        Nijmegen_NL   \n31        Columbus     Columbus      US  United States        Columbus_US   \n35          Encino  Los Angeles      US  United States          Encino_US   \n38        Evanston     Evanston      US  United States        Evanston_US   \n45       Corvallis    Corvallis      US  United States       Corvallis_US   \n48        Montreal     Montreal      CA         Canada        Montreal_CA   \n51  MARCY L'ETOILE         None      FR         France  MARCY L'ETOILE_FR   \n\n          Ecosystem  latitude  longitude  \n0              None  36.06488  120.38042  \n4          Shenzhen  22.54554  114.06830  \n7         Frankfurt  49.98419    8.27910  \n8              None  47.06667   15.45000  \n9             Osaka  34.69374  135.50218  \n10             Wuxi  31.30408  120.59538  \n11           Mumbai  19.07283   72.88261  \n16          Leipzig  50.92878   11.58990  \n17          Beijing  39.90750  116.39723  \n20             None  34.20442  117.28386  \n21             None       NaN        NaN  \n22      Los Angeles  34.13362 -117.90756  \n25           Dallas  44.91928 -123.31705  \n27  Amsterdam-Delta  51.84250    5.85278  \n31         Columbus  45.26522  -93.05015  \n35      Los Angeles  34.15917 -118.50119  \n38          Chicago  41.26828 -110.96324  \n45             None  44.56457 -123.26204  \n48         Montreal  45.50884  -73.58781  \n51             None       NaN        NaN  ",
      "text/html": "<div>\n<style scoped>\n    .dataframe tbody tr th:only-of-type {\n        vertical-align: middle;\n    }\n\n    .dataframe tbody tr th {\n        vertical-align: top;\n    }\n\n    .dataframe thead th {\n        text-align: right;\n    }\n</style>\n<table border=\"1\" class=\"dataframe\">\n  <thead>\n    <tr style=\"text-align: right;\">\n      <th></th>\n      <th>city</th>\n      <th>GoogleCity</th>\n      <th>country</th>\n      <th>CountryName</th>\n      <th>city_country_code</th>\n      <th>Ecosystem</th>\n      <th>latitude</th>\n      <th>longitude</th>\n    </tr>\n  </thead>\n  <tbody>\n    <tr>\n      <th>0</th>\n      <td>Qingdao</td>\n      <td>Qingdao</td>\n      <td>CN</td>\n      <td>China</td>\n      <td>Qingdao_CN</td>\n      <td>None</td>\n      <td>36.06488</td>\n      <td>120.38042</td>\n    </tr>\n    <tr>\n      <th>4</th>\n      <td>Shenzhen</td>\n      <td>Shenzhen</td>\n      <td>CN</td>\n      <td>China</td>\n      <td>Shenzhen_CN</td>\n      <td>Shenzhen</td>\n      <td>22.54554</td>\n      <td>114.06830</td>\n    </tr>\n    <tr>\n      <th>7</th>\n      <td>Mainz</td>\n      <td>Mainz</td>\n      <td>DE</td>\n      <td>Germany</td>\n      <td>Mainz_DE</td>\n      <td>Frankfurt</td>\n      <td>49.98419</td>\n      <td>8.27910</td>\n    </tr>\n    <tr>\n      <th>8</th>\n      <td>Graz</td>\n      <td>Graz</td>\n      <td>AT</td>\n      <td>Austria</td>\n      <td>Graz_AT</td>\n      <td>None</td>\n      <td>47.06667</td>\n      <td>15.45000</td>\n    </tr>\n    <tr>\n      <th>9</th>\n      <td>Osaka</td>\n      <td>Osaka</td>\n      <td>JP</td>\n      <td>Japan</td>\n      <td>Osaka_JP</td>\n      <td>Osaka</td>\n      <td>34.69374</td>\n      <td>135.50218</td>\n    </tr>\n    <tr>\n      <th>10</th>\n      <td>Suzhou</td>\n      <td>Suzho</td>\n      <td>CN</td>\n      <td>China</td>\n      <td>Suzhou_CN</td>\n      <td>Wuxi</td>\n      <td>31.30408</td>\n      <td>120.59538</td>\n    </tr>\n    <tr>\n      <th>11</th>\n      <td>Mumbai</td>\n      <td>Mumbai</td>\n      <td>IN</td>\n      <td>India</td>\n      <td>Mumbai_IN</td>\n      <td>Mumbai</td>\n      <td>19.07283</td>\n      <td>72.88261</td>\n    </tr>\n    <tr>\n      <th>16</th>\n      <td>Jena</td>\n      <td>Jena</td>\n      <td>DE</td>\n      <td>Germany</td>\n      <td>Jena_DE</td>\n      <td>Leipzig</td>\n      <td>50.92878</td>\n      <td>11.58990</td>\n    </tr>\n    <tr>\n      <th>17</th>\n      <td>Beijing</td>\n      <td>Beijing</td>\n      <td>CN</td>\n      <td>China</td>\n      <td>Beijing_CN</td>\n      <td>Beijing</td>\n      <td>39.90750</td>\n      <td>116.39723</td>\n    </tr>\n    <tr>\n      <th>20</th>\n      <td>Xuzhou</td>\n      <td>Xuzho</td>\n      <td>CN</td>\n      <td>China</td>\n      <td>Xuzhou_CN</td>\n      <td>None</td>\n      <td>34.20442</td>\n      <td>117.28386</td>\n    </tr>\n    <tr>\n      <th>21</th>\n      <td>Spinea</td>\n      <td>Spinea</td>\n      <td>IT</td>\n      <td>Italy</td>\n      <td>Spinea_IT</td>\n      <td>None</td>\n      <td>NaN</td>\n      <td>NaN</td>\n    </tr>\n    <tr>\n      <th>22</th>\n      <td>Azusa</td>\n      <td>Azusa</td>\n      <td>US</td>\n      <td>United States</td>\n      <td>Azusa_US</td>\n      <td>Los Angeles</td>\n      <td>34.13362</td>\n      <td>-117.90756</td>\n    </tr>\n    <tr>\n      <th>25</th>\n      <td>Dallas</td>\n      <td>Dallas</td>\n      <td>US</td>\n      <td>United States</td>\n      <td>Dallas_US</td>\n      <td>Dallas</td>\n      <td>44.91928</td>\n      <td>-123.31705</td>\n    </tr>\n    <tr>\n      <th>27</th>\n      <td>Nijmegen</td>\n      <td>Nijmegen</td>\n      <td>NL</td>\n      <td>Netherlands</td>\n      <td>Nijmegen_NL</td>\n      <td>Amsterdam-Delta</td>\n      <td>51.84250</td>\n      <td>5.85278</td>\n    </tr>\n    <tr>\n      <th>31</th>\n      <td>Columbus</td>\n      <td>Columbus</td>\n      <td>US</td>\n      <td>United States</td>\n      <td>Columbus_US</td>\n      <td>Columbus</td>\n      <td>45.26522</td>\n      <td>-93.05015</td>\n    </tr>\n    <tr>\n      <th>35</th>\n      <td>Encino</td>\n      <td>Los Angeles</td>\n      <td>US</td>\n      <td>United States</td>\n      <td>Encino_US</td>\n      <td>Los Angeles</td>\n      <td>34.15917</td>\n      <td>-118.50119</td>\n    </tr>\n    <tr>\n      <th>38</th>\n      <td>Evanston</td>\n      <td>Evanston</td>\n      <td>US</td>\n      <td>United States</td>\n      <td>Evanston_US</td>\n      <td>Chicago</td>\n      <td>41.26828</td>\n      <td>-110.96324</td>\n    </tr>\n    <tr>\n      <th>45</th>\n      <td>Corvallis</td>\n      <td>Corvallis</td>\n      <td>US</td>\n      <td>United States</td>\n      <td>Corvallis_US</td>\n      <td>None</td>\n      <td>44.56457</td>\n      <td>-123.26204</td>\n    </tr>\n    <tr>\n      <th>48</th>\n      <td>Montreal</td>\n      <td>Montreal</td>\n      <td>CA</td>\n      <td>Canada</td>\n      <td>Montreal_CA</td>\n      <td>Montreal</td>\n      <td>45.50884</td>\n      <td>-73.58781</td>\n    </tr>\n    <tr>\n      <th>51</th>\n      <td>MARCY L'ETOILE</td>\n      <td>None</td>\n      <td>FR</td>\n      <td>France</td>\n      <td>MARCY L'ETOILE_FR</td>\n      <td>None</td>\n      <td>NaN</td>\n      <td>NaN</td>\n    </tr>\n  </tbody>\n</table>\n</div>"
     },
     "execution_count": 63,
     "metadata": {},
     "output_type": "execute_result"
    }
   ],
   "source": [
    "df_geo.head(20)"
   ],
   "metadata": {
    "collapsed": false,
    "ExecuteTime": {
     "end_time": "2023-08-31T20:27:09.475901Z",
     "start_time": "2023-08-31T20:27:09.457057Z"
    }
   }
  },
  {
   "cell_type": "code",
   "execution_count": 64,
   "outputs": [
    {
     "data": {
      "text/plain": "Index(['city', 'GoogleCity', 'country', 'CountryName', 'city_country_code',\n       'Ecosystem', 'latitude', 'longitude'],\n      dtype='object')"
     },
     "execution_count": 64,
     "metadata": {},
     "output_type": "execute_result"
    }
   ],
   "source": [
    "df_geo.columns"
   ],
   "metadata": {
    "collapsed": false,
    "ExecuteTime": {
     "end_time": "2023-08-31T20:28:30.437903Z",
     "start_time": "2023-08-31T20:28:30.416642Z"
    }
   }
  },
  {
   "cell_type": "code",
   "execution_count": 65,
   "outputs": [
    {
     "name": "stdout",
     "output_type": "stream",
     "text": [
      "Dataframe: df / Columns:  Index(['patent_id', 'abstract', 'grant_year', 'class_distinct_count',\n",
      "       'class_concat', 'city', 'GoogleCity', 'country', 'CountryName',\n",
      "       'Ecosystem', 'class_1', 'class_2', 'class_3', 'class_section_1',\n",
      "       'class_section_2', 'class_section_3', 'class_section_name1',\n",
      "       'class_section_name2', 'class_section_name3', 'class_description_1',\n",
      "       'class_description_2', 'class_description_3', 'city_country_code'],\n",
      "      dtype='object')\n"
     ]
    }
   ],
   "source": [
    "print('Dataframe: df / Columns: ',df.columns)"
   ],
   "metadata": {
    "collapsed": false,
    "ExecuteTime": {
     "end_time": "2023-08-31T20:29:59.406905Z",
     "start_time": "2023-08-31T20:29:59.395022Z"
    }
   }
  },
  {
   "cell_type": "code",
   "execution_count": 66,
   "outputs": [
    {
     "name": "stdout",
     "output_type": "stream",
     "text": [
      "Dataframe: df_geo / Columns:  Index(['city', 'GoogleCity', 'country', 'CountryName', 'city_country_code',\n",
      "       'Ecosystem', 'latitude', 'longitude'],\n",
      "      dtype='object')\n"
     ]
    }
   ],
   "source": [
    "print('Dataframe: df_geo / Columns: ',df_geo.columns)"
   ],
   "metadata": {
    "collapsed": false,
    "ExecuteTime": {
     "end_time": "2023-08-31T20:30:06.148508Z",
     "start_time": "2023-08-31T20:30:06.131707Z"
    }
   }
  },
  {
   "cell_type": "markdown",
   "source": [
    "# SAVING THE MERGED DATASET"
   ],
   "metadata": {
    "collapsed": false
   }
  },
  {
   "cell_type": "code",
   "execution_count": null,
   "outputs": [],
   "source": [
    "# df.to_parquet('../data/processed/raw&abstract_2018-2020.parquet')"
   ],
   "metadata": {
    "collapsed": false
   }
  },
  {
   "cell_type": "markdown",
   "source": [
    "# SPLITTING THE MERGED DATASET"
   ],
   "metadata": {
    "collapsed": false
   }
  },
  {
   "cell_type": "code",
   "execution_count": null,
   "outputs": [],
   "source": [
    "# from sklearn.model_selection import train_test_split\n",
    "#\n",
    "# # Splitting the dataset into train and test\n",
    "# X_train, X_test = train_test_split(df, test_size=0.3, random_state=42)"
   ],
   "metadata": {
    "collapsed": false
   }
  },
  {
   "cell_type": "code",
   "execution_count": null,
   "outputs": [],
   "source": [
    "# Save to parquet\n",
    "# X_train.to_parquet('../data/processed/training_data.parquet', index=False)\n",
    "# X_test.to_parquet('../data/processed/test_data.parquet', index=False)"
   ],
   "metadata": {
    "collapsed": false
   }
  }
 ],
 "metadata": {
  "kernelspec": {
   "display_name": "Python 3",
   "language": "python",
   "name": "python3"
  },
  "language_info": {
   "codemirror_mode": {
    "name": "ipython",
    "version": 2
   },
   "file_extension": ".py",
   "mimetype": "text/x-python",
   "name": "python",
   "nbconvert_exporter": "python",
   "pygments_lexer": "ipython2",
   "version": "2.7.6"
  }
 },
 "nbformat": 4,
 "nbformat_minor": 0
}
