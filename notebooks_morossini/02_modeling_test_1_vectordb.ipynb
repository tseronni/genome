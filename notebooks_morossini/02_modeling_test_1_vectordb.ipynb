{
 "cells": [
  {
   "cell_type": "markdown",
   "source": [
    "## 1. OBJECTIVE\n",
    "Classify patents into predefined subsectors based on their abstracts. Any patent that doesn't fit these subsectors will be classified as \"Other.\""
   ],
   "metadata": {
    "collapsed": false
   }
  },
  {
   "cell_type": "markdown",
   "source": [
    "## 2. DATA\n",
    "2.1 Subsector definitions: json file containing definitions and keyworkds\n",
    "2.2 Patents: csv file containing patent abstracts"
   ],
   "metadata": {
    "collapsed": false
   }
  },
  {
   "cell_type": "code",
   "execution_count": 1,
   "outputs": [],
   "source": [
    "import os\n",
    "import openai\n",
    "import pandas as pd\n",
    "\n",
    "from dotenv import load_dotenv, find_dotenv\n",
    "_ = load_dotenv(find_dotenv()) # read local .env file\n",
    "\n",
    "# openai.api_key  = os.environ['OPENAI_API_KEY']"
   ],
   "metadata": {
    "collapsed": false,
    "ExecuteTime": {
     "end_time": "2023-08-30T00:07:50.941297Z",
     "start_time": "2023-08-30T00:07:49.583912Z"
    }
   }
  },
  {
   "cell_type": "code",
   "execution_count": 2,
   "outputs": [],
   "source": [
    "notebook_dir = os.getcwd()\n",
    "raw_data_dir = os.path.join(notebook_dir, '..', 'data', 'raw')\n",
    "processed_data_dir = os.path.join(notebook_dir, '..', 'data', 'processed')"
   ],
   "metadata": {
    "collapsed": false,
    "ExecuteTime": {
     "end_time": "2023-08-30T00:07:50.951241Z",
     "start_time": "2023-08-30T00:07:50.944482Z"
    }
   }
  },
  {
   "cell_type": "code",
   "execution_count": 3,
   "outputs": [],
   "source": [
    "parquet_filename = 'abstract.parquet'\n",
    "parquet_path = os.path.join(raw_data_dir, parquet_filename)\n",
    "df_abstract = pd.read_parquet(parquet_path)"
   ],
   "metadata": {
    "collapsed": false,
    "ExecuteTime": {
     "end_time": "2023-08-30T00:08:17.878833Z",
     "start_time": "2023-08-30T00:07:52.287233Z"
    }
   }
  },
  {
   "cell_type": "code",
   "execution_count": 4,
   "outputs": [
    {
     "data": {
      "text/plain": "   publication_number                                           abstract\n0         20080063564  Embodiments of techniques for determining the ...\n1         20080025285  A method for supporting frequency hopping of a...\n2         20080056857  To correct any positional misalignment of a su...\n3         20080031117  A holographic optical accessing system include...\n4         20080056179  Transmitting an acknowledgement/negative ackno...",
      "text/html": "<div>\n<style scoped>\n    .dataframe tbody tr th:only-of-type {\n        vertical-align: middle;\n    }\n\n    .dataframe tbody tr th {\n        vertical-align: top;\n    }\n\n    .dataframe thead th {\n        text-align: right;\n    }\n</style>\n<table border=\"1\" class=\"dataframe\">\n  <thead>\n    <tr style=\"text-align: right;\">\n      <th></th>\n      <th>publication_number</th>\n      <th>abstract</th>\n    </tr>\n  </thead>\n  <tbody>\n    <tr>\n      <th>0</th>\n      <td>20080063564</td>\n      <td>Embodiments of techniques for determining the ...</td>\n    </tr>\n    <tr>\n      <th>1</th>\n      <td>20080025285</td>\n      <td>A method for supporting frequency hopping of a...</td>\n    </tr>\n    <tr>\n      <th>2</th>\n      <td>20080056857</td>\n      <td>To correct any positional misalignment of a su...</td>\n    </tr>\n    <tr>\n      <th>3</th>\n      <td>20080031117</td>\n      <td>A holographic optical accessing system include...</td>\n    </tr>\n    <tr>\n      <th>4</th>\n      <td>20080056179</td>\n      <td>Transmitting an acknowledgement/negative ackno...</td>\n    </tr>\n  </tbody>\n</table>\n</div>"
     },
     "execution_count": 4,
     "metadata": {},
     "output_type": "execute_result"
    }
   ],
   "source": [
    "df_abstract.head()"
   ],
   "metadata": {
    "collapsed": false,
    "ExecuteTime": {
     "end_time": "2023-08-30T00:08:17.946403Z",
     "start_time": "2023-08-30T00:08:17.867162Z"
    }
   }
  },
  {
   "cell_type": "markdown",
   "source": [
    "## 3. DATA SPLITTING\n",
    "Not necessary at this point. We will split the data into train and test sets later on, after validating the approach"
   ],
   "metadata": {
    "collapsed": false
   }
  },
  {
   "cell_type": "markdown",
   "source": [
    "## 4. DATA EXPLORATION"
   ],
   "metadata": {
    "collapsed": false
   }
  },
  {
   "cell_type": "code",
   "execution_count": null,
   "outputs": [],
   "source": [
    "# Counting unique publication numbers\n",
    "print('{:,}'.format(df_abstract['publication_number'].nunique()))"
   ],
   "metadata": {
    "collapsed": false
   }
  },
  {
   "cell_type": "code",
   "execution_count": null,
   "outputs": [],
   "source": [
    "# Min, max and mean number of characters in abstracts\n",
    "print('Min characters: ', df_abstract['abstract'].str.len().min())\n",
    "print('Max characters: ', df_abstract['abstract'].str.len().max())\n",
    "print('Mean characters: ', round(df_abstract['abstract'].str.len().mean(),0))"
   ],
   "metadata": {
    "collapsed": false
   }
  },
  {
   "cell_type": "code",
   "execution_count": null,
   "outputs": [],
   "source": [
    "# Visualizing the abstracts with 20 or less characters\n",
    "df_abstract[df_abstract['abstract'].str.len() <= 10]"
   ],
   "metadata": {
    "collapsed": false
   }
  },
  {
   "cell_type": "markdown",
   "source": [
    "## 5. ALGORITHMS\n",
    "- Word embeddings\n",
    "- Similarity measures"
   ],
   "metadata": {
    "collapsed": false
   }
  },
  {
   "cell_type": "code",
   "execution_count": 5,
   "outputs": [],
   "source": [
    "abstract_sample = df_abstract.iloc[0:100]"
   ],
   "metadata": {
    "collapsed": false,
    "ExecuteTime": {
     "end_time": "2023-08-30T00:08:27.132724Z",
     "start_time": "2023-08-30T00:08:27.124986Z"
    }
   }
  },
  {
   "cell_type": "code",
   "execution_count": 6,
   "outputs": [
    {
     "data": {
      "text/plain": "(100, 2)"
     },
     "execution_count": 6,
     "metadata": {},
     "output_type": "execute_result"
    }
   ],
   "source": [
    "abstract_sample.shape"
   ],
   "metadata": {
    "collapsed": false,
    "ExecuteTime": {
     "end_time": "2023-08-30T00:08:28.048789Z",
     "start_time": "2023-08-30T00:08:27.986611Z"
    }
   }
  },
  {
   "cell_type": "code",
   "execution_count": 7,
   "outputs": [],
   "source": [
    "from langchain.document_loaders import DataFrameLoader\n",
    "\n",
    "loader_abstracts = DataFrameLoader(abstract_sample, 'abstract')"
   ],
   "metadata": {
    "collapsed": false,
    "ExecuteTime": {
     "end_time": "2023-08-30T00:08:34.128809Z",
     "start_time": "2023-08-30T00:08:30.757609Z"
    }
   }
  },
  {
   "cell_type": "code",
   "execution_count": 8,
   "outputs": [],
   "source": [
    "abstract_docs = loader_abstracts.load()"
   ],
   "metadata": {
    "collapsed": false,
    "ExecuteTime": {
     "end_time": "2023-08-30T00:08:38.264597Z",
     "start_time": "2023-08-30T00:08:38.237808Z"
    }
   }
  },
  {
   "cell_type": "code",
   "execution_count": 9,
   "outputs": [
    {
     "data": {
      "text/plain": "Document(page_content='Embodiments of techniques for determining the concentrations of one or more acid components of a multiple acid solution are presented herein.', metadata={'publication_number': 20080063564})"
     },
     "execution_count": 9,
     "metadata": {},
     "output_type": "execute_result"
    }
   ],
   "source": [
    "abstract_docs[0]"
   ],
   "metadata": {
    "collapsed": false,
    "ExecuteTime": {
     "end_time": "2023-08-30T00:08:38.859438Z",
     "start_time": "2023-08-30T00:08:38.853521Z"
    }
   }
  },
  {
   "cell_type": "code",
   "execution_count": 10,
   "outputs": [],
   "source": [
    "from langchain.embeddings import GPT4AllEmbeddings, OpenAIEmbeddings\n",
    "# gpt4all_embeddings = GPT4AllEmbeddings()\n",
    "openai_embeddings = OpenAIEmbeddings()\n",
    "# openai_embeddings.openai_api_key = os.environ['OPENAI_API_KEY']"
   ],
   "metadata": {
    "collapsed": false,
    "ExecuteTime": {
     "end_time": "2023-08-30T00:08:48.809633Z",
     "start_time": "2023-08-30T00:08:48.795953Z"
    }
   }
  },
  {
   "cell_type": "code",
   "execution_count": 11,
   "outputs": [],
   "source": [
    "from langchain.vectorstores import Chroma\n",
    "persist_directory = 'data/processed/chromadb/'\n",
    "!rm -rf ./data/processed/chromadb/  # remove old database files if any"
   ],
   "metadata": {
    "collapsed": false,
    "ExecuteTime": {
     "end_time": "2023-08-30T00:08:54.525875Z",
     "start_time": "2023-08-30T00:08:54.339261Z"
    }
   }
  },
  {
   "cell_type": "code",
   "execution_count": 12,
   "outputs": [],
   "source": [
    "abstract_vectordb = Chroma.from_documents(\n",
    "    documents=abstract_docs,\n",
    "    # embedding=gpt4all_embeddings,\n",
    "    embedding=openai_embeddings,\n",
    "    persist_directory=persist_directory\n",
    ")"
   ],
   "metadata": {
    "collapsed": false,
    "ExecuteTime": {
     "end_time": "2023-08-30T00:09:06.578829Z",
     "start_time": "2023-08-30T00:09:02.559227Z"
    }
   }
  },
  {
   "cell_type": "markdown",
   "source": [],
   "metadata": {
    "collapsed": false
   }
  },
  {
   "cell_type": "code",
   "execution_count": null,
   "outputs": [],
   "source": [
    "print(abstract_vectordb._collection.count())"
   ],
   "metadata": {
    "collapsed": false
   }
  },
  {
   "cell_type": "code",
   "execution_count": 13,
   "outputs": [
    {
     "data": {
      "text/plain": "{'ids': ['6d69b730-46c9-11ee-90e2-acde48001122',\n  '6d69b96a-46c9-11ee-90e2-acde48001122',\n  '6d69b9d8-46c9-11ee-90e2-acde48001122',\n  '6d69ba32-46c9-11ee-90e2-acde48001122',\n  '6d69ba82-46c9-11ee-90e2-acde48001122',\n  '6d69bad2-46c9-11ee-90e2-acde48001122',\n  '6d69bb22-46c9-11ee-90e2-acde48001122',\n  '6d69bb72-46c9-11ee-90e2-acde48001122',\n  '6d69bbb8-46c9-11ee-90e2-acde48001122',\n  '6d69bbfe-46c9-11ee-90e2-acde48001122',\n  '6d69bc4e-46c9-11ee-90e2-acde48001122',\n  '6d69bc94-46c9-11ee-90e2-acde48001122',\n  '6d69bcda-46c9-11ee-90e2-acde48001122',\n  '6d69bd2a-46c9-11ee-90e2-acde48001122',\n  '6d69bd7a-46c9-11ee-90e2-acde48001122',\n  '6d69bdb6-46c9-11ee-90e2-acde48001122',\n  '6d69be06-46c9-11ee-90e2-acde48001122',\n  '6d69be4c-46c9-11ee-90e2-acde48001122',\n  '6d69be9c-46c9-11ee-90e2-acde48001122',\n  '6d69bee2-46c9-11ee-90e2-acde48001122',\n  '6d69bf32-46c9-11ee-90e2-acde48001122',\n  '6d69bf78-46c9-11ee-90e2-acde48001122',\n  '6d69bfbe-46c9-11ee-90e2-acde48001122',\n  '6d69c00e-46c9-11ee-90e2-acde48001122',\n  '6d69c054-46c9-11ee-90e2-acde48001122',\n  '6d69c0a4-46c9-11ee-90e2-acde48001122',\n  '6d69c0ea-46c9-11ee-90e2-acde48001122',\n  '6d69c13a-46c9-11ee-90e2-acde48001122',\n  '6d69c176-46c9-11ee-90e2-acde48001122',\n  '6d69c1bc-46c9-11ee-90e2-acde48001122',\n  '6d69c202-46c9-11ee-90e2-acde48001122',\n  '6d69c252-46c9-11ee-90e2-acde48001122',\n  '6d69c2a2-46c9-11ee-90e2-acde48001122',\n  '6d69c2e8-46c9-11ee-90e2-acde48001122',\n  '6d69c32e-46c9-11ee-90e2-acde48001122',\n  '6d69c374-46c9-11ee-90e2-acde48001122',\n  '6d69c3c4-46c9-11ee-90e2-acde48001122',\n  '6d69c40a-46c9-11ee-90e2-acde48001122',\n  '6d69c45a-46c9-11ee-90e2-acde48001122',\n  '6d69c4a0-46c9-11ee-90e2-acde48001122',\n  '6d69c4f0-46c9-11ee-90e2-acde48001122',\n  '6d69c540-46c9-11ee-90e2-acde48001122',\n  '6d69c586-46c9-11ee-90e2-acde48001122',\n  '6d69c5cc-46c9-11ee-90e2-acde48001122',\n  '6d69c61c-46c9-11ee-90e2-acde48001122',\n  '6d69c662-46c9-11ee-90e2-acde48001122',\n  '6d69c6a8-46c9-11ee-90e2-acde48001122',\n  '6d69c6f8-46c9-11ee-90e2-acde48001122',\n  '6d69c73e-46c9-11ee-90e2-acde48001122',\n  '6d69c784-46c9-11ee-90e2-acde48001122',\n  '6d69c7d4-46c9-11ee-90e2-acde48001122',\n  '6d69c81a-46c9-11ee-90e2-acde48001122',\n  '6d69c860-46c9-11ee-90e2-acde48001122',\n  '6d69c8a6-46c9-11ee-90e2-acde48001122',\n  '6d69c8f6-46c9-11ee-90e2-acde48001122',\n  '6d69c93c-46c9-11ee-90e2-acde48001122',\n  '6d69c98c-46c9-11ee-90e2-acde48001122',\n  '6d69c9d2-46c9-11ee-90e2-acde48001122',\n  '6d69ca18-46c9-11ee-90e2-acde48001122',\n  '6d69ca5e-46c9-11ee-90e2-acde48001122',\n  '6d69caa4-46c9-11ee-90e2-acde48001122',\n  '6d69caf4-46c9-11ee-90e2-acde48001122',\n  '6d69cb3a-46c9-11ee-90e2-acde48001122',\n  '6d69cb80-46c9-11ee-90e2-acde48001122',\n  '6d69cbd0-46c9-11ee-90e2-acde48001122',\n  '6d69cc20-46c9-11ee-90e2-acde48001122',\n  '6d69cc66-46c9-11ee-90e2-acde48001122',\n  '6d69ccac-46c9-11ee-90e2-acde48001122',\n  '6d69ccfc-46c9-11ee-90e2-acde48001122',\n  '6d69cd4c-46c9-11ee-90e2-acde48001122',\n  '6d69cd92-46c9-11ee-90e2-acde48001122',\n  '6d69cde2-46c9-11ee-90e2-acde48001122',\n  '6d69ce28-46c9-11ee-90e2-acde48001122',\n  '6d69ce6e-46c9-11ee-90e2-acde48001122',\n  '6d69cebe-46c9-11ee-90e2-acde48001122',\n  '6d69cf04-46c9-11ee-90e2-acde48001122',\n  '6d69cf4a-46c9-11ee-90e2-acde48001122',\n  '6d69cfae-46c9-11ee-90e2-acde48001122',\n  '6d69cff4-46c9-11ee-90e2-acde48001122',\n  '6d69d03a-46c9-11ee-90e2-acde48001122',\n  '6d69d080-46c9-11ee-90e2-acde48001122',\n  '6d69d0c6-46c9-11ee-90e2-acde48001122',\n  '6d69d116-46c9-11ee-90e2-acde48001122',\n  '6d69d1c0-46c9-11ee-90e2-acde48001122',\n  '6d69d210-46c9-11ee-90e2-acde48001122',\n  '6d69d260-46c9-11ee-90e2-acde48001122',\n  '6d69d2b0-46c9-11ee-90e2-acde48001122',\n  '6d69d300-46c9-11ee-90e2-acde48001122',\n  '6d69d346-46c9-11ee-90e2-acde48001122',\n  '6d69d38c-46c9-11ee-90e2-acde48001122',\n  '6d69d3dc-46c9-11ee-90e2-acde48001122',\n  '6d69d422-46c9-11ee-90e2-acde48001122',\n  '6d69d472-46c9-11ee-90e2-acde48001122',\n  '6d69d4c2-46c9-11ee-90e2-acde48001122',\n  '6d69d508-46c9-11ee-90e2-acde48001122',\n  '6d69d558-46c9-11ee-90e2-acde48001122',\n  '6d69d59e-46c9-11ee-90e2-acde48001122',\n  '6d69d5e4-46c9-11ee-90e2-acde48001122',\n  '6d69d62a-46c9-11ee-90e2-acde48001122',\n  '6d69d670-46c9-11ee-90e2-acde48001122'],\n 'embeddings': None,\n 'metadatas': [{'publication_number': 20080063564},\n  {'publication_number': 20080025285},\n  {'publication_number': 20080056857},\n  {'publication_number': 20080031117},\n  {'publication_number': 20080056179},\n  {'publication_number': 20080032266},\n  {'publication_number': 20080055749},\n  {'publication_number': 20080001735},\n  {'publication_number': 20080018979},\n  {'publication_number': 20080009466},\n  {'publication_number': 20080069476},\n  {'publication_number': 20080010905},\n  {'publication_number': 20080071772},\n  {'publication_number': 20080027192},\n  {'publication_number': 20080037622},\n  {'publication_number': 20080021628},\n  {'publication_number': 20080045484},\n  {'publication_number': 20080070126},\n  {'publication_number': 20080058277},\n  {'publication_number': 20080057027},\n  {'publication_number': 20080044263},\n  {'publication_number': 20080060170},\n  {'publication_number': 20080052830},\n  {'publication_number': 20080024106},\n  {'publication_number': 20080032940},\n  {'publication_number': 20080016224},\n  {'publication_number': 20080019053},\n  {'publication_number': 20080057964},\n  {'publication_number': 20080014621},\n  {'publication_number': 20080059801},\n  {'publication_number': 20080052152},\n  {'publication_number': 20080068899},\n  {'publication_number': 20080062378},\n  {'publication_number': 20080055544},\n  {'publication_number': 20080031527},\n  {'publication_number': 20080031574},\n  {'publication_number': 20080002122},\n  {'publication_number': 20080013299},\n  {'publication_number': 20080013715},\n  {'publication_number': 20080026542},\n  {'publication_number': 20080069805},\n  {'publication_number': 20080056272},\n  {'publication_number': 20080055408},\n  {'publication_number': 20080040073},\n  {'publication_number': 20080059444},\n  {'publication_number': 20080033731},\n  {'publication_number': 20080025538},\n  {'publication_number': 20080000184},\n  {'publication_number': 20080014753},\n  {'publication_number': 20080013382},\n  {'publication_number': 20080027114},\n  {'publication_number': 20080029392},\n  {'publication_number': 20080012387},\n  {'publication_number': 20080047787},\n  {'publication_number': 20080013207},\n  {'publication_number': 20080058860},\n  {'publication_number': 20080044857},\n  {'publication_number': 20080034997},\n  {'publication_number': 20080064515},\n  {'publication_number': 20080034392},\n  {'publication_number': 20080032023},\n  {'publication_number': 20080006350},\n  {'publication_number': 20080038703},\n  {'publication_number': 20080005682},\n  {'publication_number': 20080046210},\n  {'publication_number': 20080004977},\n  {'publication_number': 20080026236},\n  {'publication_number': 20080006967},\n  {'publication_number': 20080037181},\n  {'publication_number': 20080024746},\n  {'publication_number': 20080007516},\n  {'publication_number': 20080065177},\n  {'publication_number': 20080026113},\n  {'publication_number': 20080028477},\n  {'publication_number': 20080058677},\n  {'publication_number': 20080053870},\n  {'publication_number': 20080022714},\n  {'publication_number': 20080030919},\n  {'publication_number': 20080012460},\n  {'publication_number': 20080032693},\n  {'publication_number': 20080038082},\n  {'publication_number': 20080053128},\n  {'publication_number': 20080071291},\n  {'publication_number': 20080045216},\n  {'publication_number': 20080042176},\n  {'publication_number': 20080068151},\n  {'publication_number': 20080028796},\n  {'publication_number': 20080036399},\n  {'publication_number': 20080041427},\n  {'publication_number': 20080064807},\n  {'publication_number': 20080010005},\n  {'publication_number': 20080002571},\n  {'publication_number': 20080007168},\n  {'publication_number': 20080009496},\n  {'publication_number': 20080057876},\n  {'publication_number': 20080018144},\n  {'publication_number': 20080011049},\n  {'publication_number': 20080069132},\n  {'publication_number': 20080008627},\n  {'publication_number': 20080011128}],\n 'documents': ['Embodiments of techniques for determining the concentrations of one or more acid components of a multiple acid solution are presented herein.',\n  'A method for supporting frequency hopping of a transmission apparatus by a reception apparatus in a wireless communication system supporting Hybrid Automatic Repeat reQuest (HARQ). The method includes determining whether a particular transmission apparatus has a need to perform hopping of allocating a different logical channel every Transmission Time Interval (TTI); and when there is no need to perform hopping every TTI, sending to the transmission apparatus a command to perform hopping every multiple TTIs, and simultaneously signaling information on a number of the multiple TTIs.',\n  'To correct any positional misalignment of a substrate manifesting along the horizontal direction by utilizing a substrate transfer device alone without engaging a transfer arm in operation. A substrate transfer device comprises a plurality of support pins disposed at positions set apart from one another around a support shaft of a stage, which support a substrate, e.g., a wafer W, on the bottom surface thereof, a base at which the support pins are mounted, a vertical drive means (Z-direction drive means) for raising/lowering the substrate by driving the support pins up/down via the base and a horizontal drive means (X-direction drive means, Y-direction drive means) for adjusting the position of the substrate along the horizontal direction (X and Y directions) by horizontally driving the support pins via the base.',\n  'A holographic optical accessing system includes a light source for emitting a light beam; an optical assembly module for receiving the light beam and generating a signal beam and a reference beam that are parallel to each other rather than overlap with each other, and have the same first polarization state; a lens module for focusing the signal beam and the reference beam on a focal point at the same time; and a storage medium for recording the focal point. The optical assembly module includes at least a data plane for displaying image information so that the signal beam contains the image information.',\n  'Transmitting an acknowledgement/negative acknowledgement (ACK/NACK) signal in association with a packet transmitted on an uplink is disclosed. The method includes the steps of receiving a packet transmitted from a user equipment, decoding the packet, and determining whether the packet has been successfully decoded, transmitting an ACK signal or a NACK signal, based on the decoding result. Different transmission powers are allocated for the ACK signal and the NACK signal. Alternatively, the transmission power for the NACK signal selectively has an OFF level. The present invention optimizes the transmission powers for downlink ACK/NACK signals in accordance with the required reception quality of each of the ACK/NACK signals, and thus, enables the system to operate efficiently.',\n  'The present invention is a superstructure body for a dental crown superstructure system on a treated tooth stump and/or dental root. The treated tooth includes a bore or recess in which the superstructure body is inserted. The superstructure body includes a through-bore which provides access to the root canal of the tooth stump. A dental crown or overlay may be mounted on the superstructure body.',\n  'A fine adjustment mechanism includes a first frame, a carrying portion and a first connecting portion. The first frame has a first opening. The carrying portion is adapted to assemble outside an optical element for fixing it. The carrying portion has a carrying plate disposed in the first opening and extends from the first opening towards a side of the first frame. The first connecting portion is located in the first opening and connected between the carrying plate and the first frame. The first connecting portion is capable of generating an elastic torsion around the axis in a first direction. By using the theorem of elastic torsion, the present invention makes the carrying portion rotate around the axis of the first connecting portion only and is able to avoid the offset problem occurred at the intersection of the axes of the carrying portion and the first connecting portion during adjusting.',\n  'A monitoring system includes one or more wireless nodes forming a wireless mesh network; a user activity sensor including a wireless mesh transceiver adapted to communicate with the one or more wireless nodes using the wireless mesh network; and a digital monitoring agent coupled to the wireless transceiver through the wireless mesh network to request assistance from a third party based on the user activity sensor.',\n  'A method of supplying an electrically controllable system having variable optical/energy properties in transmission or in reflection, including at least one carrier substrate with a multilayer that allows migration of active species, including at least two active layers separated by an electrolyte, the multilayer being placed between two electrodes connected respectively to upper and lower current leads respectively. In addition to a constant first energy potential, a time-varying second energy potential is applied between the current leads, the first and second energy potentials being designed to ensure switching between two states having different optical/energy properties in transmission or reflection.',\n  'The invention relates to solid crystalline forms of ibandronic acid, pharmaceutical formulations thereof, and methods of treatment therewith.',\n  'A system and method for determining skew of a document image. An image processing system is provided, comprising: an image segmentation system that identifies and segments a line of printed characters; and a skew processing system that determines the skew by calculating slope values for pairs of characters in the line.',\n  'Thermally stable diamond constructions comprise a diamond body having a plurality of bonded diamond crystals, a plurality of interstitial regions disposed among the crystals, and a substrate attached to the body The body includes a working surface and a side surface extending away from the working surface to the substrate. The body comprises a first region adjacent the side surface that is substantially free of a catalyst material and that extends a partial depth into the diamond body. The first region can further extend to at least a portion of the working surface and a partial depth therefrom into the diamond body. The diamond body can be formed from natural diamond grains and/or a mixture of natural and synthetic diamond grains. A surface of the diamond body is treated to provide the first region, and before treatment is finished to an approximate final dimension.',\n  'The present inventors devised, among other things, systems, methods, and software for enhancing the relevancy of content presented to users in response to queries in an online information retrieval system. One exemplary system refines a user input query by making suggestions of alternatives queries, classifying the query using language processing, or selecting one or more databases or search engines as targets for the refined query. A switchboard module converts the refined query, administers one or more searches, and collects search results from one or more search engines based on the refined query. And, a post-processor module refines the collected search results by, for example, modifying the order of the results, removing inappropriate or undesirable content from the results, and/or applying historical performance analysis.',\n  'The present invention relates to a process for preparing a catalyst system for olefin polymerization, which is obtainable by bringing at least one complex of a transition metal of groups 8 to 10 of the Periodic Table of the Elements, at least one aluminoxane and at least one boron compound into contact with one another, catalyst systems obtainable by this process, the use of the catalyst systems for the polymerization of olefins and a process for preparing polyolefins in which these catalyst systems are used.',\n  'The power consumption of a receiving apparatus is reduced. A first equalization unit receives the input of digital signals and then performs equalization processing on them so as to output first equalizer output signals. A first selector selects either the digital signals or the first equalizer output signals, and outputs the selected signals to an despread unit or a second equalization unit. The despread unit carries out an despread, and an PSK demodulation unit demodulates the despread signal by PSK. The second equalization unit performs equalization processing, and a CCK demodulation unit performs CCK demodulation. A second selector operates in response to the second selector. A modulation scheme determining unit extracts information on a modulation scheme in use, from the signal demodulated by the PSK demodulation unit so as to decide on the modulation scheme. Based on the modulation scheme determined, a decision unit specifies the selection of signals at the first selector and the second selector.',\n  'A vehicle location sensor such as a GPS, an inertial navigation or dead reckoning system determines location data for a vehicle that travels from a known first destination to a second destination. This location data is processed by a route computer system, and associated vehicle driving patterns are stored in memory. Measured vehicle locations, possibly in combination with stored driving pattern information, are used to anticipate a likely second destination and a likely associated driving pattern from a current location of the vehicle to the likely second destination. The anticipation of a destination or a driving pattern can be responsive to associated likelihoods based upon previous vehicle behavior, which likelihoods can be also dependent upon the time of day, day of week or date. A power generator and an energy storage device of a hybrid electric vehicle can be controlled responsive to the anticipated likely driving pattern, and possibly responsive to information from environment sensors.',\n  'Aromatase inhibitors are administered to a female patient prior to endometrial ablation or resection procedures in order to thin the endometrium to a thickness of less than 6 mm, and preferably less than 4 mm, so as to enhance the treatment outcome. Of course, administration of aromatase inhibitors would be useful for other surgical procedures on the endometrial cavity and the uterus. Commercially available aromatase inhibitors, including, the nonsteroidal preparations, anastrozole and letrozole, and a steroidal agent, exemestane, are well-tolerated, and have been shown to decrease serum estrogen levels. The aromatase inhibitor can be used alone, or in combination with other aromatase inhibitors or pharmaceutical agents, such as hormones.',\n  'Masks for patterning material layers of semiconductor devices, methods of manufacturing semiconductor devices, and lithography systems are disclosed. In a preferred embodiment, a method of manufacturing a semiconductor device includes providing a lithography mask, the lithography mask including at least one attenuation region. The at least one attenuation region includes an array of sub-resolution features. A workpiece is provided, the workpiece having a layer of photosensitive material disposed thereon. The layer of photosensitive material is affected using the lithography mask.',\n  'Methods and compositions are provided for modulating, and generally upregulating, the expression of telomerase reverse transcriptase (TERT) by blocking repression of TERT transcription, e.g., by inhibiting binding of repressor factor to a Site C repressor binding site located in the TERT minimal promoter. The subject methods and compositions find use in a variety of different applications, including the immortalization of cells, the production of reagents for use in life science research, therapeutic applications; therapeutic agent screening applications; and the like. In further describing the subject invention, the methods and compositions of the invention are described first in greater detail, followed by a review of the various applications in which the subject invention finds use.',\n  'A device for altering the expression or activation of adhesion molecules on cells including endothelial cells, as well as methods for altering the expression or activation of adhesion molecules on cells including endothelial cells, are provided.',\n  'An automated storage system for storing large quantities of samples in trays includes a storage compartment, a tray shuttle compartment abutting the storage compartment on one side and a plurality of independent modules on the other side. The modules perform processing of samples that are retrieved from the storage compartment by a tray shuttle, including extraction of selected samples from retrieved source trays and transfer of the selected samples into a separate, destination tray that can be further processed or removed from the system for use. The independent operation of the modules permits handling and processing to be performed simultaneously by different modules while the tray shuttle accesses additional samples within the storage compartment. In one embodiment, a vertical carousel is used to vertically align a desired tray with the tray shuttle, while the tray shuttle operates within a horizontal plane.',\n  'An adjustable clamp and method for use of the same are disclosed. In one embodiment, a tubular body having first and second openings disposed at respective first and second ends is adapted for accepting a flexible cord in an extended position therethrough. A v-shaped elongated slot is integrally formed from the tubular body such that a base of the v-shaped elongated slot intersects the first opening. The v-shaped elongated slot operably accepts the flexible cord in a folded position and when the flexible cord is displaced from the extended position to the folded position, an apex of the v-shaped elongated slot bites the flexible cord.',\n  'A bed foundation may be retrofitted or otherwise converted in the field to include one or more additional function. In one illustrative embodiment, the bed foundation may be retrofitted or otherwise converted by incorporating a drop-in articulation unit. Such an articulation unit may permit a user to raise and/or lower the head of their bed. In some cases, a second articulation unit may be placed at the foot of a bed foundation to permit the user to independently raise and/or lower the head and the foot of their bed. In other illustrative embodiments, drop-in units may add other functions to existing bed foundations. In some cases, the bed foundation and/or drop-in units may be configured such that it can be easily shipped and assembled in the field by a user.',\n  'A method is provided that includes receiving a detection voltage at a powered device from a powered network, applying the detection voltage to an external resistor to provide a detection signature to the powered network, and applying a reference voltage to the external resistor to generate a reference current after the detection signature has been provided to the powered network.',\n  'Methods for treating cancers/tumors, including administering to a subject an effective amount of a mitochondria-targeted antioxidant alone or in combination with a chemotherapeutic agents. Likewise, methods for mitigating toxicity associated with a chemotherapeutic agent including administering an effective amount of a mitochondria-targeted antioxidant with a single or with multiple chemotherapeutic agents.',\n  'The object of the present invention is to provide a network topology generation method which can reduce a network delay fairly and minimally upon generating a new network topology, by considering a network condition in a physical layer. The network topology generation method includes establishing a virtual connection between the new node and each of the plurality of nodes; calculating an average metric value of routes from the new node to the plurality of nodes via each of the virtual connections; and establishing a connection between the new node and the node to which the virtual connection having the smallest average metric value is established so that the new node joins the network.',\n  'An apparatus and method for latching an actuator arm assembly can position a read/write head relative to a data storage disk in a disk drive. A latch arm is configured to be moved between a closed position that inhibits movement of an actuator arm assembly in a landing zone and an open position that does not inhibit movement of the actuator arm assembly in the landing zone. A coil is configured to generate an electromagnetic force on the latch arm responsive to a coil current. A bias device is configured to provide a bias force on the latch arm that is substantially opposed to the electromagnetic force from the coil. The latch operating current/voltages is controlled and modified according to environmental conditions such as temperature.',\n  \"A scheme for redirecting data items from a messaging host system to a user's mobile device using a redirector component disposed in a wide-area data network. In one embodiment, a method comprises one or more of the following: automatically detecting receipt of a new data item from the messaging host system for a user over the wide-area data network; based on filtering rules configured for the user, determining if the new data item is to be redirected to the user's mobile device over a wireless network; and upon determining that the new data item is to be redirected, processing at least a portion of the new data item for transmission thereof to the user's mobile device.\",\n  'Metal nanoshells are fabricated by admixing an aqueous solution of metal ions with an aqueous solution of apoferritin protein molecules, followed by admixing an aqueous solution containing an excess of an oxidizing agent for the metal ions. The apoferritin molecules serve as bio-templates for the formation of metal nanoshells, which form on and are bonded to the inside walls of the hollow cores of the individual apoferritin molecules. Control of the number of metal atoms which enter the hollow core of each individual apoferritin molecule provides a hollow metal nonparticle, or nanoshell, instead of a solid spherical metal nanoparticle.',\n  'Embodiments include a method, a computing device, and a computer program product. An embodiment provides a method implemented in a computing environment. The method includes receiving an indication of a selected watermark. The method also includes incorporating a human-perceivable manifestation of the selected watermark in each visual area of at least two human-visual areas displaying an output of an authorized program running in the computing environment.',\n  \"A method for improving Search Engine revenues from advertisements by selecting and displaying advertisements from a portfolio of advertisements that are likely to attract user traffic while maximizing the expected Search Engine revenues. Conventionally, each sponsored advertisement in the Search Engine portfolio is associated with one or more keywords from a list of advertiser sponsored keywords, such that if a user enters a keyword contained in an advertisement in the portfolio, a corresponding sponsored link is displayed. According to this invention, in addition to the sponsored links, complementary links can be displayed to some of the paid advertisements containing none of the user-entered keywords. The method for computing the complementary links is based on “overlapping queries” and “overlapping intent” models. With the help of such models, integrated search histories are represented as an associative network, in which associative probabilities for the entire list of keywords and the entire portfolio of advertisements are stored and updated according to the actions of all users, such that each user's input during a given search session becomes part of the overall record of searches, and is thus used to optimize all future searches. In a particular search session, the associative probabilities are used to compute revenue-maximizing combinations of complementary links and displaying such combinations in addition to the sponsored links.\",\n  'A storage management process and a storage management apparatus for managing first data stored in a storage area in a storage device in a first one of storage nodes constituting a distributed storage system. The first data is read out from the storage device and checked for normality in response to a request. When the first data is abnormal, a second one of the storage nodes paired with the first one is determined by reference to management information which is stored in advance, and second data which is identical to the first data and managed by the second one of the storage nodes is acquired. Then, the storage area is overwritten with the acquired second data when the first data is abnormal.',\n  'A pair of glasses is provided. The pair of glasses includes a frame, a first lens layer connected to the frame, a second lens layer in removable contact with the first lens layer, and a third lens layer in removable contact with the second lens layer. Further provided is a pair of glasses including an elastically deformable frame including a first groove and a second groove. Further provided is a method of changing the optical properties of a pair of glasses or removing imperfections from an optical view area of a pair of glasses.',\n  'A cornea imaging apparatus comprising: an illumination optical system having an illumination source; an imaging optical system having a photoelectric element for receiving a reflected light beam from a cornea of an eye under examination; actuating means for moving the illumination optical system and the imaging optical system in a direction nearer to or further from the eye to bring about focusing; imaging process retracting control means for controlling the actuating means during an imaging operation by the imaging optical system; continuous imaging means for taking multiple images of the cornea at different times and positions by the photoelectric element of the imaging optical system during a retracting operation; and imaging operation control means for controlling imaging operation status of the cornea by the continuous imaging means with reference to a photoreception signal of reflected light from the cornea.',\n  'A system and method are disclosed which may include converting data identifying a plurality of visual features into a plurality of pixel characteristic data values; and forming an image file with pixels having the respective pixel characteristic data values.',\n  'The present invention is to provide an optical transceiver that installs a bi-directional optical sub-assembly. The bi-directional sub-assembly is installed within the transceiver and fixed by the holder with a pair of legs put the sub-assembly therebetween. By press-fitting these legs into respective pockets provided in the side of the transceiver, the sub-assembly is to be fixed with the housing. To press-fit the holder completes the fixing and the positioning of the sub-assembly at the same time.',\n  'A pixel electrode structure of a display device is discussed. According to an embodiment, the pixel electrode structure includes a plurality of sub pixel electrodes disposed substantially in parallel in the pixel region, wherein the sub pixel electrodes have progressively greater widths and progressively greater spaces therebetween starting from one side of the pixel region to the other opposite side of the pixel region.',\n  'A miniaturized aerosol jet, or an array of miniaturized aerosol jets for direct printing of various aerosolized materials. In the most commonly used embodiment, an aerosol stream is focused and deposited onto a planar or non-planar target, forming a pattern that is thermally or photochemically processed to achieve physical, optical, and/or electrical properties near that of the corresponding bulk material. The apparatus uses an aerosol jet deposition head to form an annularly propagating jet composed of an outer sheath flow and an inner aerosol-laden carrier flow. Miniaturization of the deposition head facilitates the fabrication and operation of arrayed deposition heads, enabling construction and operation of arrays of aerosol jets capable of independent motion and deposition. Arrayed aerosol jets provide an increased deposition rate, arrayed deposition, and multi-material deposition. Applications for the miniaturized aerosol jet or jet array include direct patterning for EMI shielding and interconnects.',\n  'In general, in one aspect, the disclosure describes a system including multiple programmable processing units, a dedicated hardware multiplier, and at least one bus connecting the multiple processing units and multiplier.',\n  'A method of manufacturing a semiconductor device is provided. According to an embodiment, a first opening is formed on a semiconductor substrate, and a sacrificial layer is formed to fill the first opening. Then, a second opening is formed on a region of the semiconductor substrate having the first opening. The second opening is formed to have a greater width and shallower depth than the first opening. Next, the sacrificial layer is removed, and the first and second openings are filled with insulating material to form a device isolation layer.',\n  \"Transplant of donor perfectly matched HLA hematopoietic stem cell to cure Sickle cell anemia and other anemia such as leukemia. Sterilized In vivo transplantation of clinically adequate quantities of antibiotic protected HLA vector/or insertion corrected chimera stem cells, and switching protein. Stem cells can be transfected for Hbg SS, and other proteins such as minor HLA type that may cause Graft versus host disease (GvHD) or Host versus Graft disease (HvGD Universal donor blood, Rh-negative of any HLA type can be corrected to perfectly match that of any recipient. Batch universal stem calls are grown and selectively transformed to a chimera stem cell. The chimera stem cells are incubated in a bio-reactor in growth medium also containing human growth and maturation promotion polypeptide factors. The harvest is then prepared for clinical use and transplantation into the matching recipient. Recipient's stem cells are transformed by transfection or insertion of the beta hemoglobin gene.\",\n  'A method for pre-authentication in a wireless network is disclosed. The method begins by receiving, from a mobile client device, an Ethernet pre-authentication frame having an Ethernet address corresponding to a destination infrastructure device in the wireless network. Based upon a network mapping table, the method determines an internet protocol (IP) address that is mapped to the Ethernet address of the destination infrastructure device. The Ethernet pre-authentication frame is encapsulated inside an IP packet having the IP address. Then, the method routes the IP packet to the destination infrastructure device across WLANs with a different VLAN or subnetwork boundary in the wireless network.',\n  \"Method for avoiding unauthorized images of a proprietor's information from being transmitted outside the proprietor's control. A photographic image captured with a camera incorporated upon the wireless handheld communication device is wirelessly transmitted to a proprietor's server. The image is stored on the server after capture and transmission, preferably while the device is still in the photography-restricted geographical area that is under the control of the proprietor of the server. Once at the server, the photographic image is analyzed to determine whether or not the image is authorized for dissemination outside the proprietor's control. Local storage of the photographic image can be prevented on the device which assures that the transmission and storage of the photographic image on the proprietor's server is exclusive.\",\n  'A field device for monitoring an operating state of an electrical engineering installation, in particular a transformer substation or a switching substation, having an evaluation device, which evaluates input signals, which are present on the input side and relate to the electrical engineering installation, on the basis of predetermined criteria and, on the output side, generates an output signal, which characterizes the respective evaluation result. An identification can be input to the evaluation device which specifies the hierarchical level to which the evaluation device is assigned. The evaluation device is designed such that, after a connection to a data transmission network, it automatically produces a data link with all other evaluation devices connected thereto or with all other evaluation devices connected thereto of a predetermined type which belong to a directly lower-order or a directly higher-order hierarchical level. The output signals of hierarchically lower-order evaluation devices are processed as input signals and dedicated output signals are passed on to hierarchically higher-order evaluation devices.',\n  'A method of extracting knowledge from a knowledge archival and recollection system, comprising the steps of: recognizing a user actuation; initiating a search application; displaying a user search interface; receiving input parameters via the search interface; identifying a query type based on the received input parameters; formulating a database query based on the received input parameters; transmitting the database query to a database; obtaining database query results from the database; providing the database query results to a result analyzer module; and displaying search result analyzer module results to a user.',\n  \"Certain types of parametric spatial coding encoders use interchannel amplitude differences, interchannel time differences, and interchannel coherence or correlation to build a parametric model of a multichannel soundfield that is used by a decoder to construct an approximation of the original soundfield. However, such a parametric model does not reconstruct the original temporal envelope of the soundfield's channels, which has been found to be extremely important for some audio signals. The present invention provides for the reshaping the temporal envelope of one or more of the decoded channels in a spatial coding system to better match one or more original temporal envelopes.\",\n  \"Various embodiments are disclosed relating to sound enhancement for wireless audio devices. A technique may include determining one or more user-specific audio processing parameters, receiving an RF signal from a first wireless device, demodulating the received RF signal to obtain an audio signal, processing the audio signal based on the one or more user-specific audio processing parameters to generate a user-specific audio signal. The user-specific audio processing parameters may be based on user preferences, or may, for example be based on a user auditory profile or other information to allow a received audio signal to be processed to at least partially compensate for a user's specific hearing impairment.\",\n  'The invention is a flat-faced, or planar-clad, corrugated panel with an interface at opposing side-edges. The interface has an extended-crescent and a planar-member extension making an interface such that a plurality of panels are joined and taken apart from below generally without the use of tools. The aesthetically a uniform and finished appearance of the panels is affected. The upper-surface, having corrugations, sheds water, generally without leaking. A plurality of joined panels can be supported by a grid below.',\n  'In a method of manufacturing a semiconductor device, a polysilicon layer doped with impurities is formed on a front side and a backside of a substrate. An insulation layer is formed on the substrate having the polysilicon layer to cover the polysilicon layer on the backside of the substrate. The insulation layer on the front side of the substrate is partially etched to partially expose the front side of the substrate. An oxidation process using oxygen radicals is then carried out to form an oxide layer on the exposed front side of the substrate Thus, when the oxidation process is carried out, the insulation layer prevents impurities in the polysilicon layer on the backside of the substrate from being outgassed. As a result electrical characteristics of the transistor formed on the front side of the substrate may not be deteriorated.',\n  'A current sensing data read/verify process and sense amplifier is described that senses memory cells of a non-volatile memory array utilizing a current sensing process that places a current source to provide current to the bit line. The voltage level of the bit line is then set by the current provided by the current source and the current sunk from the bit line through the selected memory cell to the source line, which is dependent on the threshold voltage of its programmed or erased state. If the selected memory cell is erased, current flows through the memory cell to the source line and the bit line voltage falls. If the selected memory cell is programmed, little or no current flows through the cell, and the bit line voltage rises and is sensed by the sense amplifier.',\n  'The invention relates to novel insecticidal active compound combinations comprising, firstly, cyclic ketoenols or other acaricidally active compounds and, secondly, further insecticidally active compounds from the group of the anthranilamides, which combinations are highly suitable for controlling animal pests, such as insects and unwanted acarids.',\n  \"['The invention relates to a method of preparing a gel for use in electrophoresis, which method comprises:', '(a) providing a mixture comprising a solvent, agarose or a derivative thereof, one or more vinyl monomers, and a polymerisation initiator, the initiator forming a redox system with agarose or the derivative thereof;', '(b) exposing the mixture to polymerisation conditions to graft-polymerise the one or more monomers onto the agarose or derivative thereof; and', '(c) allowing the mixture to form a gel.']\",\n  'A vehicle support structure is provided with a floor impact restriction device coupled between a structural floor member of a vehicle floor and a vehicle suspension member supporting the vehicle floor. The floor impact restriction device basically has a suspension attachment member and a floor attachment member. The suspension attachment member has a suspension mounting portion fixedly attached to the vehicle suspension member and a first connecting portion rigidly coupled to the suspension mounting portion. The floor attachment member has a floor mounting portion fixedly attached to the structural floor member and a second connecting portion rigidly coupled to the floor mounting portion. The first and second connecting portions are interlinked together with a limited range of non-contacting movement between the first and second connecting portions.',\n  'A disc brake for a vehicle such as a commercial vehicle, wherein the brake caliper is provided with an actuator mounting flange surface which is parallel to the brake rotor, and a corresponding pneumatic or electric actuator is provided with a mounting flange surface which is angled, such that when mounted to the caliper, the actuator is offset at a desired angle relative to the caliper and the vehicle axle on which the caliper is located. This approach to brake design reduces brake caliper production and tooling costs by eliminating multi-stage machining operations, and lowers distribution and inventory costs by permitting standardization on a single “zero degree” caliper design, thereby offsetting additional costs associated with producing and distributing brake actuators with differing mounting flange surface angles.',\n  'Embodiments of the present invention pertain to reducing the obstruction of air flow through a bypass channel associated with a disk drive. According to one embodiment, disk drive filtering system includes a selective filtering region, an electrostatic pass-by filter, and a filter free region. The selective filtering region is disposed within a bypass channel. The electrostatic pass-by filter is disposed within the selective filtering region and is used for filtering the air that flows through the selective filtering region. The filter free region is disposed proximate to the electrostatic pass-by filter so that a substantial portion of the air is allowed to flow unobstructed through the selective filtering region.',\n  'Apparatus and methods are provided for use in filtering emboli from a vessel and/or performing thrombectomy and embolectomy, wherein a vascular device disposed on a guidewire comprises a support hoop disposed from a suspension strut. Alternately, a support hoop having an articulation region may be directly connected to a region proximate the distal end of the guidewire. A blood permeable sac is affixed to the support hoop to form a mouth of the blood permeable sac. The support hoop is disposed obliquely relative to the longitudinal axis of the guidewire and is capable of being properly used in a wide range of vessel diameters. The vascular device collapses during removal to prevent material from escaping from the sac. A delivery sheath and introducer sheath for use with the vascular device of the present invention are also provided.',\n  'Disclosed are methods for producing peptide standards for quantitative proteomics. In one disclosed embodiment, chimeric polypeptides that are a combination of mass tags for multiple proteins are expressed in a host cell that is grown on an isotopically-altered medium. The mass tags in the chimeric polypeptide are separated by specific cleavage sites (such as trypsin cleavage sites), and upon treatment with an appropriate protein cleavage agent (such as trypsin) the constituent peptide standards are released. Methods of mass spectrometric analysis that employ the disclosed chimeric polypeptides (or the peptide standards liberated therefrom) also are disclosed.',\n  'A sealing assembly for an ink chamber associated with an anilox roll, includes a doctor blade having a doctoring edge, with each end having a notch at the doctoring edge, and first and second seals adapted to seal ends of the ink chamber. Each seal includes a peripheral supporting wall, an upper wall thereon including an upper concave surface for engaging an outer surface of the anilox roll, a flat upper supporting surface at opposite ends of the upper wall on which ends of the doctor blade seat, and an extension above the flat upper supporting surface for engaging within the notch at the end of the doctor blade to permit the doctor blade to bend thereat. A lubricant chamber is defined therein and the upper wall includes an opening through which the lubricant is forced out of the lubricant chamber due to external pressure.',\n  'An improved billiard cue shaft is disclosed. The shaft includes a tapered and tubular shaft body made of a composite material such as carbon fiber/epoxy and may also include a plastic foam core. The thickness of the wall of the shaft body increases continuously along the length of the shaft from a low at the smaller front end to a high at the larger back end. The shaft, when correctly used to form the body, or a portion of the body of a billiard cue, will facilitate a more efficient transfer of energy to the cue ball.',\n  'The present disclosure is directed to a system and method of providing interactive content. The method can include receiving a video signal from a first source of a television system, where the video signal includes video content but does not include data relating to an interactive application. The method can also include retrieving an interactive application from a second source of the television system.',\n  'The present invention is directed to a bulked sweetener composition comprising an intimate mixture of maltodextrin and a high intensity sweetener. The inventive composition is preferably produced by spray drying in which carbon dioxide is introduced into the feed stream to the spray dryer at a selected point.',\n  'The invention relates to a method for shaping wire-shaped and rod-shaped starting materials by rolling, especially for rolling flat profiled elements consisting of a wire rod. The starting material is heated in a heating station at a desired temperature, shaped during at least one rolling process, and then cooled. According to the invention, once the starting material has been heated in the heating station, it is cooled in a cooling station to a pre-determinable rolling temperature; it is then shaped into a flat profiled element by rolling close to the gauge block, and then cooled and/or subjected to a subsequent treatment according to joining properties to be correspondingly adjusted. In this way, a series of different methods can be carried out by means of an installation for rolling starting materials with a patented structure, an austenite structure, a bainite structure or an undercooled austenite structure.',\n  'A training aid for a dental injection, including a human-like head model, a first apparatus for alerting when the dental injection is properly positioned in the human-like head model, and a second apparatus for alerting when the dental injection is not properly positioned in the human-like head model. The interior structure of the human-like head includes for targeting purposes the maxilla with appropriate arteries and nerves being clearly visible, the mandible with appropriate arteries and nerves being clearly visible, and the buccal gingiva over the mandibular canal being clearly visible. The first apparatus and the second apparatus are so positioned within the human-like head model to allow for training for the dental injection including a V2 block including infiltration, posterior superior alveolar, middle superior alveolar anterior superior, infraorbital, greater palatine, and nasopalatine, and V3 blocks including inferior alveolar, buccal nerve, and mental block.',\n  'A mobile terminal capable of allowing a user to rapidly and easily recognize a list of multi-tasks being executed is provided. The mobile terminal includes one or more bodies, an input unit performing a key input or a touch input, a display unit displaying a task execution screen and a controller displaying a list of tasks being executed when the mobile terminal is in a preset operation mode set by operating the body or the input unit.',\n  'Where substrates with components are produced through a series of production processes and inspected after each of these production processes, a method is provided for setting an optimum reference value for making judgments in these inspections such that the frequency of occurrence of disagreement between inspection results after an intermediate process and after the final results will come to within a specified range. After an initial value is assigned for a reference value, this value is sequentially varied while repeating specified processes of saving measured and judgment data on inspected portions of components in a memory and setting a reference value by using the data saved in the memory until a specified condition becomes satisfied.',\n  'A method of auctioning a creative work is disclosed. The method may include initiating an auction for the creative work, where one or more successful bidders receive at least one copy of the creative work, and receiving bids for the creative work from potential buyers. The method may also include closing the auction, determining the successful bidders, generating a limited number of copies of the creative work, the limited number based in part on the determined successful bidders, where each of the limited number of copies is associated with a unique identifier, and awarding each successful bidder at least one of the limited number of copies.',\n  'A new high strength poly one-side ream wrapper made by utilizing copolymer and/or terpolymer resins.',\n  'A method of fabricating a polymer material endoprosthesis by molding, said method comprising: molding the endoprosthesis on a matrix roller having an outer surface that includes a recess in the form of the prosthesis, the matrix roller being rotated about its axis; removing excess polymer material by scraping the surface of the matrix roller; allowing the endoprosthesis to solidify; and withdrawing the endoprosthesis from the matrix roller.',\n  'A method of forming a plating film capable of improving magnetic properties is provided. A photoresist pattern, having a first opening with an aspect ratio greater than 1 and a second opening with an aspect ratio smaller than that of the first opening, is formed on a surface of a substrate. A seed film is formed to cover an exposed surface of the substrate in the openings and an inner wall of the photoresist pattern in the openings. On the seed film in the openings, the plating film of magnetic material is deposited such that the first opening is filled under application of a magnetic field in the direction intersecting the surface of the substrate, and the second opening is filled under application of the magnetic field in the direction along the surface of the substrate.',\n  'The invention relates to a microlithography projection lens for wavelengths?248 nm ?, preferably ?193 mm, in particular EUV lithography for wavelengths ranging from 1-30 nm for imaging an object field in an object plane onto an image field in an image plane, the microlithography projection lens developed in such a manner that provision is made for an accessible diaphragm plane, into which for instance an iris diaphragm can be introduced.',\n  'An electrophoretic display and a method of manufacturing the electrophoretic display are provided. The electrophoretic display includes an lower electrode formed on an under layer, an lower electrode protection layer formed on the lower electrode, an insulating template formed on the lower electrode protection layer and having a plurality of holes of smaller size than the wavelength of visible rays region, a dielectric fluid filling the holes and having a color, a plurality of charged particles suspended in the dielectric fluid filling each of the plurality of holes having a color different from the color of the dielectric fluid, and an upper electrode formed on the insulating template in sequential order. Accordingly, a problem of agglomeration of the charged particles can be solved by the insulating template having holes of smaller size than the wavelength of visible rays region, and thus a reliable electrophoretic display emitting light of one color or natural colors is achieved.',\n  'A method of maintaining circadian rhythm of a subject comprising selectively substantially blocking retinal exposure of the subject to light having a wavelength shorter than a specified wavelength during the night, and an apparatus for carrying out the claimed method comprising an optical filter that selectively at least substantially blocks light having a wavelength shorter than the specified wavelength.',\n  'A packaged tea beverage contains from 0.06 to 0.5 wt % of non-polymer catechins and an artificial sweetener. The content weight ratio (A)/(B) of (A) non-epicatechins to (B) epicatechins is from 0.54 to 9.0. This beverage is a highly clear packaged tea beverage, which contains catechins at a high concentration, makes the deterioration of catechins suppressed, is suited for long-term drinking, hardly changes in external appearance even during storage at a high temperature, and allows catechins to remain stable over a long term even when filled and stored in a clear package.',\n  'A chip includes a memory that stores confidential data, a power supply device to apply a voltage and/or or a current, and an interface to transfer the data from and/or to another device. To secure the data in the memory, the power supply device is an integrated component of the chip. The power supply device is equipped with a limited, non-replenishable fuel reservoir so that data can be maintained in the memory over a limited service life. In other embodiments, voltage provided by the power supply device can also be employed actively to delete data in the memory in the event of unauthorized access to the chip.',\n  'A safety bio-molecular sampling and transport system utilizing a docking connector mechanism includes a elongate enclosure having open ends along with a collection sponge slidably disposed within the enclosure. A sponge moving piston is provided within the enclosure and is engagable with a plunger handle which is configured for removably engaging the piston and enabling manual sliding of the collection sponge between the position inside of the elongate structure and a position exterior another end of the enclosure. A specimen capsule configured for removably docking to the enclosure is provided for receiving specimen and is sealable for safe and laborless transport thereof.',\n  'A process for the conversion of biomass to a liquid fuel is presented. The process includes the production of diesel and naphtha boiling point range fuels by hydrocracking of pyrolysis lignin extracted from biomass.',\n  'The cooling device for a pet carrier is a portable system for providing an ice-cooled surface on which a pet can rest. The cooling device includes a housing defining an open interior region therein, adapted for receiving a volume of ice. An opening is formed through an upper surface of the housing, and a lid is pivotally joined to the housing for selectively and releasably covering and sealing the opening. A plurality of apertures are formed through the lid, and a plurality of spikes are secured to a lower surface of the lid and project downwardly therefrom. When the volume of ice is received within the housing, the lid may be closed and the spikes evenly distribute the ice within the housing. The ice generates cooled air, which may be transmitted through the apertures to a pet resting on the upper surface of the lid.',\n  'A strip-shaped emitter electrode including at least one emission edge extending along the length of such emitter electrode. When the strip-shaped emitter electrode is coupled to a voltage supply, current or an electrical charge at the emission edge ionizes the air and generates corona discharge, resulting in ion production. Erosion occurs at the emission edge such that the lifespan of the strip emitter electrode is dependent, at least in part, on the width of the strip emitter electrode.',\n  'A magnet arrangement which is usable as both a retrofit magnetic arrangement in a rotatable cylindrical magnetron sputtering electrode as well as a drive assembly in communication with the electrode for delivering high current into a target surface without adding highly incremental cost to the overall design of the electrode. The electrode includes a cathode body defining a magnet receiving chamber, a rotatable cylindrical target surrounding the cathode body, wherein the target is rotatable about the cathode body. The cathode body further defines a magnet arrangement received within the magnet receiving chamber, wherein the magnet arrangement comprised of a plurality of magnets wherein at least one of the magnets is a profiled magnet having a contoured top portion.',\n  'A multicellular communications system where transmission between a roving subscriber and multiple base station transceivers is maintained throughout the territory. Each mobile subscriber unit has global code seeds for the entire communications system or an updated neighbor list and continuously searches to access available cell base stations while maintaining a communication link with one base station. Candidate cell base stations are interrogated and communicated with. The candidate base station that requires less transmitting energy from the mobile subscriber unit is closely monitored. When the mobile subscriber unit can successfully communicate with less transmit power than currently required by the present base station, the mobile subscriber unit is handed off to the candidate base station transceiver.',\n  'A spring-pressurizing unit includes a pair of screw members which are respectively formed with male and female screws to be screwed to each other and in which after the male and female screws are fastened to each other, a shaft having a predetermined length is formed, a spring disposed as to be wound around the shaft, a pressing member which is disposed on one end of the spring and which is pressed toward the spring after the pair of screw member are fastened to each other, thereby compressing the spring, and a support member which supports the pressing member in a state where the pressing member compresses the spring.',\n  'In a vehicle air conditioner, when a passenger set temperature of a vehicle compartment is changed through an operation portion by a passenger, a storage portion updates a value of a control set temperature corresponding to a predetermined point of a detection area at a time of the changing operation to a value of the changed passenger set temperature, and stores therein the value of the updated temperature. Furthermore, when the detection point is not any one of the predetermined points, a control portion interpolates and calculates a control set temperature corresponding to the detection point from the control set temperature stored in the predetermined point of the detection area and the control set temperature stored in the predetermined point of a surrounding area around the detection area, and then controls the air-conditioning state in the vehicle compartment based on the interpolated and calculated control set temperature.',\n  'Two surgical instruments are extended through a single guide tube in a telemanipulation system. Telemanipulation actuators move each of the instruments in all six Cartesian degrees of freedom independently of any guide tube movement.',\n  'A scheme for redirecting e-mail messages and message attachments from a mail system to a mobile data communication device. In one embodiment, a method comprises one or more of the following: automatically detecting a data item including an e-mail message and a message attachment by a redirector component associated with the mail system; processing the data item for sending a first portion of the data item to the mobile data communication device via a wireless network; receiving a command message from the mobile data communication device at the redirector component requesting more of the data item; and sending a second portion of the data item including the message attachment to the mobile data communication device via the wireless network in response to the command message.',\n  'A method of forming a pixel of an image sensor with reduced etching damage is disclosed. The method first includes forming a light sensitive element in a substrate. Then, a transfer gate is formed atop the substrate and adjacent to the light sensitive element. A protective layer, such as an anti-reflective coating, is then formed over the light sensitive element. A blanket oxide layer is formed over the protective layer and the transfer gate. Finally, the oxide layer is etched back to form a sidewall spacer the sidewall of a gate stack. The protective layer protects the surface of the light sensitive element from etching damage.',\n  'A method for programming scanning parameters of a programmable sensor comprising a sensing element, the sensor positioned in a precinct to scan a region of interest of the precinct, the method comprising simulating scanning at least some of the region of interest according to a plurality of strips; and optimizing the scanning parameters by comparing between the areas covered by each strip according to at least one property of the area.',\n  'A glass gob distributor for delivering gobs of molten glass to sections of a glassware forming machine, in accordance with exemplary embodiments of the present disclosure, includes at least one electric motor, a ball screw coupled to the electric motor and a carriage slidable on a carriage shaft and coupled to the ball screw. At least one gear rack is coupled to the carriage and at least one scoop is coupled to the gear rack for rotation around a scoop axis as a function of linear motion of the gear rack and the carriage. A pair of slides are slidably disposed on opposite sides of the carriage and are disconnected from the carriage. A pair of fluid cylinders are disposed adjacent to the slides. The fluid cylinders are responsive to an absence of power at the electric motor for pushing the centering slides toward each other to abut and slidably position the carriage on the carriage shaft, the gear rack and the at least one scoop at a home position. In exemplary embodiments of the disclosure, a plurality of scoops are coupled either to individual associated electric motors through associated gear racks, carriages and ball screws, or are coupled to a single electric motor through one or more gear racks, a single carriage and a single ball screw.',\n  'A driver circuit provides a drive current from a power source to an arc lamp to produce a light. The circuit includes a transformer having primary and secondary windings, with the ends of the secondary winding providing the lamp drive current to the arc lamp. A current steering module provides a drive output from the power source to the transformer in response to a current steering input, and a current control loop adjusts the current steering input in response to the current in one of the windings of the transformer. A luminance control loop adjusts the current steering input in response to the brightness of the light and a luminance command. A power control module may be further provided to generate a boost command in response to a difference between the brightness of the arc lamp and a luminance command.',\n  'Embodiments of the invention provide methods of applying a liquid to a backside of a substrate to bring the substrate to the temperature of the liquid. By controlling the temperature of the substrate the temperature of the semiconductor processing liquid may be maintained at a particular temperature or a type of reaction occurring in the semiconductor processing liquid may be enhanced or maintained, such as in reactions where relatively small amounts of liquid are used or expensive chemicals are used.',\n  'Considerable noise reduction in the handling of kitchenware is achieved by at least partially coating the kitchenware with an organopolysiloxane elastomer. Breakage is also reduced thereby.',\n  \"A method for providing an enterprise with a situational awareness for conditions related to aircraft departure is described. The method includes receiving data related to one or more events that have the potential to affect conditions related to an aircraft's departure from a plurality of enterprise related systems, correlating the received data in accordance with one or more business rules, generating an aircraft departure situational awareness data set from the correlated data, processing the aircraft departure situational awareness data set in view of at least one user profile, and providing at least one recommendation, each recommendation associated with one user profile, directed to addressing the conditions related to aircraft departure.\",\n  'In a communication system for transmitting/receiving redundant data between a first communication device and a second communication device, using first and second lines, the first communication device transmits first transmitting data to the first line, and also delays the first transmitting data by a prescribed time and transmits the delayed transmitting data to the second line as second transmitting data. The second communication device delays first receiving data inputted from the first line by the prescribed time and generates the delayed receiving data, and selects one of the second receiving data inputted from the second line and the delayed receiving data.',\n  'A tandem organic electroluminescent element for use in an organic electroluminescent display is provided. The organic electroluminescent element comprises an anode, a cathode, a first organic electroluminescent unit, a second organic electroluminescent unit, and a connecting layer. Both the first organic electroluminescent unit and the second organic electroluminescent unit are disposed between the anode and the cathode. The connecting layer is between the first and second units, and comprises a bipolar organic compound and a conductive dopant.',\n  'The present invention provides compounds as well as methods of using the compounds as antiviral and anti-cancer chemotherapeutic agents.',\n  'A method for controlling handheld communication apparatus is disclosed. In the method, a first radio frequency (RF) signal is transmitted from the handheld communication apparatus to a radio frequency identification (RFID) tag, and then a second RF signal responded by the RFID tag is received by the handheld communication apparatus. On the other hand, a third RF signal directly emitted from a RFID tag can also be received by the handheld communication apparatus. According to the second RF signal or the third RF signal, a control command is identified by the handheld communication apparatus. Finally, an action corresponding to the control command is executed by the handheld communication apparatus.',\n  'An apparatus for providing a celebratory chair for performing chair lifting rituals at celebratory events. In accordance with various embodiments, the chair includes at least one handle disposed at the base of each leg. The handle(s) extends transversely to the leg and provides the ability to safely and securely lift the chair from the bottom of the legs. The handle(s) may be permanently fixed to the ends of the chair legs near the floor, or may be releasably secured to the chair legs when needed.',\n  'The invention relates to a device and a method for the optical detection of substances contained in exhaust gases of chemical processes, wherein exhaust gases are conducted all the way through a channel element that forms an optical measuring section; at the channel element there are two flanges, closed off to the ambient area, and at least one window element through which electromagnetic radiation for the optical detection can be directed from a radiation source to a optical detector through the channel element; a purge gas is fed through the flanges into the channel element, whereby with a purge gas led into one of the flanges a closed laminar purge gas flow is to be formed in the bottom area of the interior of the channel element.',\n  'Embodiments disclosed herein provide an implementation defined segments (IDS) subsystem which allows new data segments to be added to an identity hub after deployment. A set of metadata tables are utilized to describe IDS, each of which is a data structure encapsulating a single row from a master data record residing in the identity hub. Once a segment (an object) is described, the identity hub can use the information to define persistent storage for the object in the database for any relational database management system, create internal structures to hold the data and process business rules and demographic comparisons against the data object, describe the data object to remote clients, and allow the clients to query the identity hub at runtime about what data objects exist, what fields and data types they contain, and additionally how they might be displayed or formatted on various clients.',\n  'A method of filling a microchannel formed in a component of a fluidic microsystem, the component being made of a plastics material or an elastomer suitable for absorbing gas, the method consisting in degassing the component and then in inserting a liquid into a feeder well of the microchannel, which liquid fills the microchannel because of the suction produced by the material absorbing the gas contained in the microchannel.',\n  'A socket includes a socket body having a first end configured to mate with a complementary portion of a driving tool, and a second end. The socket body includes at least one slot extending in a direction aligned with an axis of the socket body, and a fastener cradle configured to inhibit non-axial displacement of a fastener position within the at least one slot during driving of the fastener. A fastener driving assembly includes at least one socket having a fastener cradle configured to inhibit non-axial displacement of a fastener positioned in at least one slot of the socket body, and a driving tool.']}"
     },
     "execution_count": 13,
     "metadata": {},
     "output_type": "execute_result"
    }
   ],
   "source": [
    "abstract_vectordb.get()"
   ],
   "metadata": {
    "collapsed": false,
    "ExecuteTime": {
     "end_time": "2023-08-30T00:10:39.177677Z",
     "start_time": "2023-08-30T00:10:39.141894Z"
    }
   }
  },
  {
   "cell_type": "code",
   "execution_count": null,
   "outputs": [],
   "source": [
    "abstract_vectordb2 = Chroma.from_documents(\n",
    "    documents=abstract_docs,\n",
    "    embedding=gpt4all_embeddings,\n",
    "    # embedding=openai_embeddings,\n",
    "    persist_directory=persist_directory\n",
    ")"
   ],
   "metadata": {
    "collapsed": false
   }
  },
  {
   "cell_type": "code",
   "execution_count": null,
   "outputs": [],
   "source": [
    "abstract_vectordb2.get()"
   ],
   "metadata": {
    "collapsed": false
   }
  },
  {
   "cell_type": "code",
   "execution_count": null,
   "outputs": [],
   "source": [
    "print(abstract_vectordb)"
   ],
   "metadata": {
    "collapsed": false
   }
  },
  {
   "cell_type": "code",
   "execution_count": null,
   "outputs": [],
   "source": [
    "from langchain.document_loaders import JSONLoader"
   ],
   "metadata": {
    "collapsed": false
   }
  },
  {
   "cell_type": "code",
   "execution_count": null,
   "outputs": [],
   "source": [
    "json_filename = 'subsector_definitions_adjusted2.json'\n",
    "json_path = os.path.join(processed_data_dir, json_filename)"
   ],
   "metadata": {
    "collapsed": false
   }
  },
  {
   "cell_type": "code",
   "execution_count": null,
   "outputs": [],
   "source": [
    "print(json_path)"
   ],
   "metadata": {
    "collapsed": false
   }
  },
  {
   "cell_type": "code",
   "execution_count": null,
   "outputs": [],
   "source": [
    "import json\n",
    "from pathlib import Path\n",
    "from pprint import pprint\n",
    "\n",
    "subsectors = json.loads(Path(json_path).read_text())"
   ],
   "metadata": {
    "collapsed": false
   }
  },
  {
   "cell_type": "code",
   "execution_count": null,
   "outputs": [],
   "source": [
    "print(subsectors[1])"
   ],
   "metadata": {
    "collapsed": false
   }
  },
  {
   "cell_type": "code",
   "execution_count": null,
   "outputs": [],
   "source": [],
   "metadata": {
    "collapsed": false
   }
  },
  {
   "cell_type": "code",
   "execution_count": null,
   "outputs": [],
   "source": [],
   "metadata": {
    "collapsed": false
   }
  },
  {
   "cell_type": "code",
   "execution_count": null,
   "outputs": [],
   "source": [],
   "metadata": {
    "collapsed": false
   }
  },
  {
   "cell_type": "code",
   "execution_count": null,
   "outputs": [],
   "source": [],
   "metadata": {
    "collapsed": false
   }
  },
  {
   "cell_type": "code",
   "execution_count": null,
   "outputs": [],
   "source": [],
   "metadata": {
    "collapsed": false
   }
  },
  {
   "cell_type": "code",
   "execution_count": null,
   "outputs": [],
   "source": [],
   "metadata": {
    "collapsed": false
   }
  },
  {
   "cell_type": "code",
   "execution_count": null,
   "outputs": [],
   "source": [],
   "metadata": {
    "collapsed": false
   }
  },
  {
   "cell_type": "code",
   "execution_count": null,
   "outputs": [],
   "source": [],
   "metadata": {
    "collapsed": false
   }
  }
 ],
 "metadata": {
  "kernelspec": {
   "display_name": "Python 3",
   "language": "python",
   "name": "python3"
  },
  "language_info": {
   "codemirror_mode": {
    "name": "ipython",
    "version": 2
   },
   "file_extension": ".py",
   "mimetype": "text/x-python",
   "name": "python",
   "nbconvert_exporter": "python",
   "pygments_lexer": "ipython2",
   "version": "2.7.6"
  }
 },
 "nbformat": 4,
 "nbformat_minor": 0
}
