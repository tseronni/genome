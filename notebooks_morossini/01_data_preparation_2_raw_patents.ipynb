{
 "cells": [
  {
   "cell_type": "code",
   "execution_count": 65,
   "outputs": [],
   "source": [
    "import pandas as pd"
   ],
   "metadata": {
    "collapsed": false,
    "ExecuteTime": {
     "end_time": "2023-08-31T16:41:36.587873Z",
     "start_time": "2023-08-31T16:41:36.552826Z"
    }
   }
  },
  {
   "cell_type": "code",
   "execution_count": 66,
   "outputs": [],
   "source": [
    "df = pd.read_parquet('../data/raw/raw_patents.parquet')"
   ],
   "metadata": {
    "collapsed": false,
    "ExecuteTime": {
     "end_time": "2023-08-31T16:41:47.267829Z",
     "start_time": "2023-08-31T16:41:36.564655Z"
    }
   }
  },
  {
   "cell_type": "code",
   "execution_count": 67,
   "outputs": [
    {
     "data": {
      "text/plain": "     patent_id name_first name_last           city country  \\\n0  20140380145      Rajiv   Puranik  San Francisco      US   \n1  20140380145     Thomas   Wilsher  San Francisco      US   \n2  20140380219       John    CARTAN        Alameda      US   \n3  20150000186      Barry     Freel         Ottawa      CA   \n4  20150000186     Robert    Graham         Ottawa      CA   \n\n                 grant_date  grant_year                  app_date  app_year  \\\n0  2014-12-25T00:00:00.000Z        2014  2014-05-08T00:00:00.000Z      2014   \n1  2014-12-25T00:00:00.000Z        2014  2014-05-08T00:00:00.000Z      2014   \n2  2014-12-25T00:00:00.000Z        2014  2014-06-20T00:00:00.000Z      2014   \n3  2015-01-01T00:00:00.000Z        2015  2014-09-16T00:00:00.000Z      2014   \n4  2015-01-01T00:00:00.000Z        2015  2014-09-16T00:00:00.000Z      2014   \n\n   class_distinct_count class_concat  class_IPC_distinct_count  \\\n0                   1.0         G06F                       1.0   \n1                   1.0         G06F                       1.0   \n2                   1.0         G06F                       1.0   \n3                   1.0         C10L                       1.0   \n4                   1.0         C10L                       1.0   \n\n  class_IPC_concat    CountryName                 CityCountry       Ecosystem  \\\n0             G06F  United States  San FranciscoUnited States  Silicon Valley   \n1             G06F  United States  San FranciscoUnited States  Silicon Valley   \n2             G06F  United States        AlamedaUnited States  Silicon Valley   \n3             C10L         Canada                OttawaCanada          Ottawa   \n4             C10L         Canada                OttawaCanada          Ottawa   \n\n      GoogleCity  \n0  San Francisco  \n1  San Francisco  \n2        Alameda  \n3         Ottawa  \n4         Ottawa  ",
      "text/html": "<div>\n<style scoped>\n    .dataframe tbody tr th:only-of-type {\n        vertical-align: middle;\n    }\n\n    .dataframe tbody tr th {\n        vertical-align: top;\n    }\n\n    .dataframe thead th {\n        text-align: right;\n    }\n</style>\n<table border=\"1\" class=\"dataframe\">\n  <thead>\n    <tr style=\"text-align: right;\">\n      <th></th>\n      <th>patent_id</th>\n      <th>name_first</th>\n      <th>name_last</th>\n      <th>city</th>\n      <th>country</th>\n      <th>grant_date</th>\n      <th>grant_year</th>\n      <th>app_date</th>\n      <th>app_year</th>\n      <th>class_distinct_count</th>\n      <th>class_concat</th>\n      <th>class_IPC_distinct_count</th>\n      <th>class_IPC_concat</th>\n      <th>CountryName</th>\n      <th>CityCountry</th>\n      <th>Ecosystem</th>\n      <th>GoogleCity</th>\n    </tr>\n  </thead>\n  <tbody>\n    <tr>\n      <th>0</th>\n      <td>20140380145</td>\n      <td>Rajiv</td>\n      <td>Puranik</td>\n      <td>San Francisco</td>\n      <td>US</td>\n      <td>2014-12-25T00:00:00.000Z</td>\n      <td>2014</td>\n      <td>2014-05-08T00:00:00.000Z</td>\n      <td>2014</td>\n      <td>1.0</td>\n      <td>G06F</td>\n      <td>1.0</td>\n      <td>G06F</td>\n      <td>United States</td>\n      <td>San FranciscoUnited States</td>\n      <td>Silicon Valley</td>\n      <td>San Francisco</td>\n    </tr>\n    <tr>\n      <th>1</th>\n      <td>20140380145</td>\n      <td>Thomas</td>\n      <td>Wilsher</td>\n      <td>San Francisco</td>\n      <td>US</td>\n      <td>2014-12-25T00:00:00.000Z</td>\n      <td>2014</td>\n      <td>2014-05-08T00:00:00.000Z</td>\n      <td>2014</td>\n      <td>1.0</td>\n      <td>G06F</td>\n      <td>1.0</td>\n      <td>G06F</td>\n      <td>United States</td>\n      <td>San FranciscoUnited States</td>\n      <td>Silicon Valley</td>\n      <td>San Francisco</td>\n    </tr>\n    <tr>\n      <th>2</th>\n      <td>20140380219</td>\n      <td>John</td>\n      <td>CARTAN</td>\n      <td>Alameda</td>\n      <td>US</td>\n      <td>2014-12-25T00:00:00.000Z</td>\n      <td>2014</td>\n      <td>2014-06-20T00:00:00.000Z</td>\n      <td>2014</td>\n      <td>1.0</td>\n      <td>G06F</td>\n      <td>1.0</td>\n      <td>G06F</td>\n      <td>United States</td>\n      <td>AlamedaUnited States</td>\n      <td>Silicon Valley</td>\n      <td>Alameda</td>\n    </tr>\n    <tr>\n      <th>3</th>\n      <td>20150000186</td>\n      <td>Barry</td>\n      <td>Freel</td>\n      <td>Ottawa</td>\n      <td>CA</td>\n      <td>2015-01-01T00:00:00.000Z</td>\n      <td>2015</td>\n      <td>2014-09-16T00:00:00.000Z</td>\n      <td>2014</td>\n      <td>1.0</td>\n      <td>C10L</td>\n      <td>1.0</td>\n      <td>C10L</td>\n      <td>Canada</td>\n      <td>OttawaCanada</td>\n      <td>Ottawa</td>\n      <td>Ottawa</td>\n    </tr>\n    <tr>\n      <th>4</th>\n      <td>20150000186</td>\n      <td>Robert</td>\n      <td>Graham</td>\n      <td>Ottawa</td>\n      <td>CA</td>\n      <td>2015-01-01T00:00:00.000Z</td>\n      <td>2015</td>\n      <td>2014-09-16T00:00:00.000Z</td>\n      <td>2014</td>\n      <td>1.0</td>\n      <td>C10L</td>\n      <td>1.0</td>\n      <td>C10L</td>\n      <td>Canada</td>\n      <td>OttawaCanada</td>\n      <td>Ottawa</td>\n      <td>Ottawa</td>\n    </tr>\n  </tbody>\n</table>\n</div>"
     },
     "execution_count": 67,
     "metadata": {},
     "output_type": "execute_result"
    }
   ],
   "source": [
    "df.head()"
   ],
   "metadata": {
    "collapsed": false,
    "ExecuteTime": {
     "end_time": "2023-08-31T16:41:47.297557Z",
     "start_time": "2023-08-31T16:41:47.286870Z"
    }
   }
  },
  {
   "cell_type": "code",
   "execution_count": 68,
   "outputs": [
    {
     "name": "stdout",
     "output_type": "stream",
     "text": [
      "2021 2012\n"
     ]
    }
   ],
   "source": [
    "# Visualizing the max and min values of the \"grant_year\" column\n",
    "print(df['grant_year'].max(), df['grant_year'].min())"
   ],
   "metadata": {
    "collapsed": false,
    "ExecuteTime": {
     "end_time": "2023-08-31T16:41:47.314661Z",
     "start_time": "2023-08-31T16:41:47.294609Z"
    }
   }
  },
  {
   "cell_type": "code",
   "execution_count": 69,
   "outputs": [],
   "source": [
    "# Selecting the patents granted in 2019, 2020 and 2021\n",
    "df = df[df['grant_year'].isin([2018, 2019, 2020])]"
   ],
   "metadata": {
    "collapsed": false,
    "ExecuteTime": {
     "end_time": "2023-08-31T16:41:48.165319Z",
     "start_time": "2023-08-31T16:41:47.318780Z"
    }
   }
  },
  {
   "cell_type": "code",
   "execution_count": 70,
   "outputs": [
    {
     "data": {
      "text/plain": "        patent_id name_first name_last      city country  \\\n3301  20180274840        Bin       FEI   Qingdao      CN   \n3336  20180274840     Jinlin       LIU   Qingdao      CN   \n3623  20180274840       Xuan        JI   Qingdao      CN   \n4893  20180274840      Xueli     CHENG   Qingdao      CN   \n6170  20180274869     FU-YUN      SHEN  Shenzhen      CN   \n\n                    grant_date  grant_year                  app_date  \\\n3301  2018-09-27T00:00:00.000Z        2018  2016-06-08T00:00:00.000Z   \n3336  2018-09-27T00:00:00.000Z        2018  2016-06-08T00:00:00.000Z   \n3623  2018-09-27T00:00:00.000Z        2018  2016-06-08T00:00:00.000Z   \n4893  2018-09-27T00:00:00.000Z        2018  2016-06-08T00:00:00.000Z   \n6170  2018-09-27T00:00:00.000Z        2018  2018-05-28T00:00:00.000Z   \n\n      app_year  class_distinct_count class_concat  class_IPC_distinct_count  \\\n3301      2016                   1.0         F25D                       1.0   \n3336      2016                   1.0         F25D                       1.0   \n3623      2016                   1.0         F25D                       1.0   \n4893      2016                   1.0         F25D                       1.0   \n6170      2018                   NaN         None                       NaN   \n\n     class_IPC_concat CountryName    CityCountry Ecosystem GoogleCity  \n3301             F25D       China   QingdaoChina      None    Qingdao  \n3336             F25D       China   QingdaoChina      None    Qingdao  \n3623             F25D       China   QingdaoChina      None    Qingdao  \n4893             F25D       China   QingdaoChina      None    Qingdao  \n6170             None       China  ShenzhenChina  Shenzhen   Shenzhen  ",
      "text/html": "<div>\n<style scoped>\n    .dataframe tbody tr th:only-of-type {\n        vertical-align: middle;\n    }\n\n    .dataframe tbody tr th {\n        vertical-align: top;\n    }\n\n    .dataframe thead th {\n        text-align: right;\n    }\n</style>\n<table border=\"1\" class=\"dataframe\">\n  <thead>\n    <tr style=\"text-align: right;\">\n      <th></th>\n      <th>patent_id</th>\n      <th>name_first</th>\n      <th>name_last</th>\n      <th>city</th>\n      <th>country</th>\n      <th>grant_date</th>\n      <th>grant_year</th>\n      <th>app_date</th>\n      <th>app_year</th>\n      <th>class_distinct_count</th>\n      <th>class_concat</th>\n      <th>class_IPC_distinct_count</th>\n      <th>class_IPC_concat</th>\n      <th>CountryName</th>\n      <th>CityCountry</th>\n      <th>Ecosystem</th>\n      <th>GoogleCity</th>\n    </tr>\n  </thead>\n  <tbody>\n    <tr>\n      <th>3301</th>\n      <td>20180274840</td>\n      <td>Bin</td>\n      <td>FEI</td>\n      <td>Qingdao</td>\n      <td>CN</td>\n      <td>2018-09-27T00:00:00.000Z</td>\n      <td>2018</td>\n      <td>2016-06-08T00:00:00.000Z</td>\n      <td>2016</td>\n      <td>1.0</td>\n      <td>F25D</td>\n      <td>1.0</td>\n      <td>F25D</td>\n      <td>China</td>\n      <td>QingdaoChina</td>\n      <td>None</td>\n      <td>Qingdao</td>\n    </tr>\n    <tr>\n      <th>3336</th>\n      <td>20180274840</td>\n      <td>Jinlin</td>\n      <td>LIU</td>\n      <td>Qingdao</td>\n      <td>CN</td>\n      <td>2018-09-27T00:00:00.000Z</td>\n      <td>2018</td>\n      <td>2016-06-08T00:00:00.000Z</td>\n      <td>2016</td>\n      <td>1.0</td>\n      <td>F25D</td>\n      <td>1.0</td>\n      <td>F25D</td>\n      <td>China</td>\n      <td>QingdaoChina</td>\n      <td>None</td>\n      <td>Qingdao</td>\n    </tr>\n    <tr>\n      <th>3623</th>\n      <td>20180274840</td>\n      <td>Xuan</td>\n      <td>JI</td>\n      <td>Qingdao</td>\n      <td>CN</td>\n      <td>2018-09-27T00:00:00.000Z</td>\n      <td>2018</td>\n      <td>2016-06-08T00:00:00.000Z</td>\n      <td>2016</td>\n      <td>1.0</td>\n      <td>F25D</td>\n      <td>1.0</td>\n      <td>F25D</td>\n      <td>China</td>\n      <td>QingdaoChina</td>\n      <td>None</td>\n      <td>Qingdao</td>\n    </tr>\n    <tr>\n      <th>4893</th>\n      <td>20180274840</td>\n      <td>Xueli</td>\n      <td>CHENG</td>\n      <td>Qingdao</td>\n      <td>CN</td>\n      <td>2018-09-27T00:00:00.000Z</td>\n      <td>2018</td>\n      <td>2016-06-08T00:00:00.000Z</td>\n      <td>2016</td>\n      <td>1.0</td>\n      <td>F25D</td>\n      <td>1.0</td>\n      <td>F25D</td>\n      <td>China</td>\n      <td>QingdaoChina</td>\n      <td>None</td>\n      <td>Qingdao</td>\n    </tr>\n    <tr>\n      <th>6170</th>\n      <td>20180274869</td>\n      <td>FU-YUN</td>\n      <td>SHEN</td>\n      <td>Shenzhen</td>\n      <td>CN</td>\n      <td>2018-09-27T00:00:00.000Z</td>\n      <td>2018</td>\n      <td>2018-05-28T00:00:00.000Z</td>\n      <td>2018</td>\n      <td>NaN</td>\n      <td>None</td>\n      <td>NaN</td>\n      <td>None</td>\n      <td>China</td>\n      <td>ShenzhenChina</td>\n      <td>Shenzhen</td>\n      <td>Shenzhen</td>\n    </tr>\n  </tbody>\n</table>\n</div>"
     },
     "execution_count": 70,
     "metadata": {},
     "output_type": "execute_result"
    }
   ],
   "source": [
    "df.head()"
   ],
   "metadata": {
    "collapsed": false,
    "ExecuteTime": {
     "end_time": "2023-08-31T16:41:48.183152Z",
     "start_time": "2023-08-31T16:41:48.178534Z"
    }
   }
  },
  {
   "cell_type": "code",
   "execution_count": 71,
   "outputs": [
    {
     "name": "stdout",
     "output_type": "stream",
     "text": [
      "Número total de linhas:  3494243\n",
      "Patentes únicas de 2019 a 2021:  1174031\n"
     ]
    }
   ],
   "source": [
    "# Contando o número total de linhas do dataframe\n",
    "print('Número total de linhas: ',len(df))\n",
    "\n",
    "# Contando valores únicos por patent_id\n",
    "print('Patentes únicas de 2019 a 2021: ',df['patent_id'].nunique())"
   ],
   "metadata": {
    "collapsed": false,
    "ExecuteTime": {
     "end_time": "2023-08-31T16:41:48.268468Z",
     "start_time": "2023-08-31T16:41:48.186438Z"
    }
   }
  },
  {
   "cell_type": "code",
   "execution_count": 73,
   "outputs": [],
   "source": [
    "df.to_parquet('../data/processed/raw_patents_2018-2020.parquet', index=False)"
   ],
   "metadata": {
    "collapsed": false,
    "ExecuteTime": {
     "end_time": "2023-08-31T16:42:30.124398Z",
     "start_time": "2023-08-31T16:42:25.147384Z"
    }
   }
  },
  {
   "cell_type": "code",
   "execution_count": 52,
   "outputs": [
    {
     "name": "stdout",
     "output_type": "stream",
     "text": [
      "Total de nulos ou vazios na coluna \"Ecosystem\":  886771\n"
     ]
    }
   ],
   "source": [
    "# Contando o total de nulos ou vazios na coluna \"Ecosystem\"\n",
    "print('Total de nulos ou vazios na coluna \"Ecosystem\": ',df['Ecosystem'].isnull().sum())"
   ],
   "metadata": {
    "collapsed": false,
    "ExecuteTime": {
     "end_time": "2023-08-31T16:17:52.994287Z",
     "start_time": "2023-08-31T16:17:52.989606Z"
    }
   }
  },
  {
   "cell_type": "code",
   "execution_count": 53,
   "outputs": [],
   "source": [
    "# Selecionando apenas as patentes sem ecossistema e atribuindo ao df_sem_ecossistema\n",
    "df_sem_ecossistema = df[df['Ecosystem'].isnull()]"
   ],
   "metadata": {
    "collapsed": false,
    "ExecuteTime": {
     "end_time": "2023-08-31T16:17:53.274482Z",
     "start_time": "2023-08-31T16:17:53.080832Z"
    }
   }
  },
  {
   "cell_type": "code",
   "execution_count": 54,
   "outputs": [
    {
     "data": {
      "text/plain": "         patent_id  grant_year                      city country  \\\n3301   20180274840        2018                   Qingdao      CN   \n3336   20180274840        2018                   Qingdao      CN   \n3623   20180274840        2018                   Qingdao      CN   \n4893   20180274840        2018                   Qingdao      CN   \n6492   20180274869        2018               Qinhuangdao      CN   \n6740   20190097688        2019                      Graz      AT   \n7802   20190220574        2019                   Lucknow      IN   \n12091  20200040727        2020                    Xuzhou      CN   \n12162  20200063895        2020                    Spinea      IT   \n25111  20180001618        2018                 Corvallis      US   \n25112  20180001618        2018                 Corvallis      US   \n25113  20180001618        2018                    Albany      US   \n25117  20180002145        2018            MARCY L'ETOILE      FR   \n25119  20180002145        2018  SAINT PIERRE DE VARENNES      FR   \n25120  20180002175        2018                Susono-shi      JP   \n25122  20180002175        2018                Susono-shi      JP   \n25128  20180003223        2018                Muhlhausen      DE   \n25139  20180003886        2018                  Hsin-Chu      TW   \n25140  20180003886        2018                  Hsin-Chu      TW   \n25141  20180003886        2018                  Hsin-Chu      TW   \n\n       class_distinct_count    class_concat Ecosystem  \n3301                    1.0            F25D      None  \n3336                    1.0            F25D      None  \n3623                    1.0            F25D      None  \n4893                    1.0            F25D      None  \n6492                    NaN            None      None  \n6740                    1.0            H04B      None  \n7802                    1.0            G06F      None  \n12091                   1.0            E21F      None  \n12162                   1.0            F16L      None  \n25111                   1.0            B41J      None  \n25112                   1.0            B41J      None  \n25113                   1.0            B41J      None  \n25117                   3.0  H04B,B66F,B66C      None  \n25119                   3.0  H04B,B66F,B66C      None  \n25120                   1.0            C01B      None  \n25122                   1.0            C01B      None  \n25128                   1.0            F16C      None  \n25139                   2.0       G02B,F21V      None  \n25140                   2.0       G02B,F21V      None  \n25141                   2.0       G02B,F21V      None  ",
      "text/html": "<div>\n<style scoped>\n    .dataframe tbody tr th:only-of-type {\n        vertical-align: middle;\n    }\n\n    .dataframe tbody tr th {\n        vertical-align: top;\n    }\n\n    .dataframe thead th {\n        text-align: right;\n    }\n</style>\n<table border=\"1\" class=\"dataframe\">\n  <thead>\n    <tr style=\"text-align: right;\">\n      <th></th>\n      <th>patent_id</th>\n      <th>grant_year</th>\n      <th>city</th>\n      <th>country</th>\n      <th>class_distinct_count</th>\n      <th>class_concat</th>\n      <th>Ecosystem</th>\n    </tr>\n  </thead>\n  <tbody>\n    <tr>\n      <th>3301</th>\n      <td>20180274840</td>\n      <td>2018</td>\n      <td>Qingdao</td>\n      <td>CN</td>\n      <td>1.0</td>\n      <td>F25D</td>\n      <td>None</td>\n    </tr>\n    <tr>\n      <th>3336</th>\n      <td>20180274840</td>\n      <td>2018</td>\n      <td>Qingdao</td>\n      <td>CN</td>\n      <td>1.0</td>\n      <td>F25D</td>\n      <td>None</td>\n    </tr>\n    <tr>\n      <th>3623</th>\n      <td>20180274840</td>\n      <td>2018</td>\n      <td>Qingdao</td>\n      <td>CN</td>\n      <td>1.0</td>\n      <td>F25D</td>\n      <td>None</td>\n    </tr>\n    <tr>\n      <th>4893</th>\n      <td>20180274840</td>\n      <td>2018</td>\n      <td>Qingdao</td>\n      <td>CN</td>\n      <td>1.0</td>\n      <td>F25D</td>\n      <td>None</td>\n    </tr>\n    <tr>\n      <th>6492</th>\n      <td>20180274869</td>\n      <td>2018</td>\n      <td>Qinhuangdao</td>\n      <td>CN</td>\n      <td>NaN</td>\n      <td>None</td>\n      <td>None</td>\n    </tr>\n    <tr>\n      <th>6740</th>\n      <td>20190097688</td>\n      <td>2019</td>\n      <td>Graz</td>\n      <td>AT</td>\n      <td>1.0</td>\n      <td>H04B</td>\n      <td>None</td>\n    </tr>\n    <tr>\n      <th>7802</th>\n      <td>20190220574</td>\n      <td>2019</td>\n      <td>Lucknow</td>\n      <td>IN</td>\n      <td>1.0</td>\n      <td>G06F</td>\n      <td>None</td>\n    </tr>\n    <tr>\n      <th>12091</th>\n      <td>20200040727</td>\n      <td>2020</td>\n      <td>Xuzhou</td>\n      <td>CN</td>\n      <td>1.0</td>\n      <td>E21F</td>\n      <td>None</td>\n    </tr>\n    <tr>\n      <th>12162</th>\n      <td>20200063895</td>\n      <td>2020</td>\n      <td>Spinea</td>\n      <td>IT</td>\n      <td>1.0</td>\n      <td>F16L</td>\n      <td>None</td>\n    </tr>\n    <tr>\n      <th>25111</th>\n      <td>20180001618</td>\n      <td>2018</td>\n      <td>Corvallis</td>\n      <td>US</td>\n      <td>1.0</td>\n      <td>B41J</td>\n      <td>None</td>\n    </tr>\n    <tr>\n      <th>25112</th>\n      <td>20180001618</td>\n      <td>2018</td>\n      <td>Corvallis</td>\n      <td>US</td>\n      <td>1.0</td>\n      <td>B41J</td>\n      <td>None</td>\n    </tr>\n    <tr>\n      <th>25113</th>\n      <td>20180001618</td>\n      <td>2018</td>\n      <td>Albany</td>\n      <td>US</td>\n      <td>1.0</td>\n      <td>B41J</td>\n      <td>None</td>\n    </tr>\n    <tr>\n      <th>25117</th>\n      <td>20180002145</td>\n      <td>2018</td>\n      <td>MARCY L'ETOILE</td>\n      <td>FR</td>\n      <td>3.0</td>\n      <td>H04B,B66F,B66C</td>\n      <td>None</td>\n    </tr>\n    <tr>\n      <th>25119</th>\n      <td>20180002145</td>\n      <td>2018</td>\n      <td>SAINT PIERRE DE VARENNES</td>\n      <td>FR</td>\n      <td>3.0</td>\n      <td>H04B,B66F,B66C</td>\n      <td>None</td>\n    </tr>\n    <tr>\n      <th>25120</th>\n      <td>20180002175</td>\n      <td>2018</td>\n      <td>Susono-shi</td>\n      <td>JP</td>\n      <td>1.0</td>\n      <td>C01B</td>\n      <td>None</td>\n    </tr>\n    <tr>\n      <th>25122</th>\n      <td>20180002175</td>\n      <td>2018</td>\n      <td>Susono-shi</td>\n      <td>JP</td>\n      <td>1.0</td>\n      <td>C01B</td>\n      <td>None</td>\n    </tr>\n    <tr>\n      <th>25128</th>\n      <td>20180003223</td>\n      <td>2018</td>\n      <td>Muhlhausen</td>\n      <td>DE</td>\n      <td>1.0</td>\n      <td>F16C</td>\n      <td>None</td>\n    </tr>\n    <tr>\n      <th>25139</th>\n      <td>20180003886</td>\n      <td>2018</td>\n      <td>Hsin-Chu</td>\n      <td>TW</td>\n      <td>2.0</td>\n      <td>G02B,F21V</td>\n      <td>None</td>\n    </tr>\n    <tr>\n      <th>25140</th>\n      <td>20180003886</td>\n      <td>2018</td>\n      <td>Hsin-Chu</td>\n      <td>TW</td>\n      <td>2.0</td>\n      <td>G02B,F21V</td>\n      <td>None</td>\n    </tr>\n    <tr>\n      <th>25141</th>\n      <td>20180003886</td>\n      <td>2018</td>\n      <td>Hsin-Chu</td>\n      <td>TW</td>\n      <td>2.0</td>\n      <td>G02B,F21V</td>\n      <td>None</td>\n    </tr>\n  </tbody>\n</table>\n</div>"
     },
     "execution_count": 54,
     "metadata": {},
     "output_type": "execute_result"
    }
   ],
   "source": [
    "# Visualizando as primeiras 20 linhas do df_sem_ecossistema, com as colunas 'patent_id', 'grant_year', 'city', 'country', 'Ecosystem'\n",
    "df_sem_ecossistema[['patent_id', 'grant_year', 'city', 'country', 'class_distinct_count', 'class_concat', 'Ecosystem']].head(20)"
   ],
   "metadata": {
    "collapsed": false,
    "ExecuteTime": {
     "end_time": "2023-08-31T16:17:53.341740Z",
     "start_time": "2023-08-31T16:17:53.284561Z"
    }
   }
  },
  {
   "cell_type": "code",
   "execution_count": 55,
   "outputs": [
    {
     "name": "stdout",
     "output_type": "stream",
     "text": [
      "Index(['patent_id', 'name_first', 'name_last', 'city', 'country', 'grant_date',\n",
      "       'grant_year', 'app_date', 'app_year', 'class_distinct_count',\n",
      "       'class_concat', 'class_IPC_distinct_count', 'class_IPC_concat',\n",
      "       'CountryName', 'CityCountry', 'Ecosystem', 'GoogleCity'],\n",
      "      dtype='object')\n"
     ]
    }
   ],
   "source": [
    "print(df_sem_ecossistema.columns)"
   ],
   "metadata": {
    "collapsed": false,
    "ExecuteTime": {
     "end_time": "2023-08-31T16:17:53.351150Z",
     "start_time": "2023-08-31T16:17:53.346877Z"
    }
   }
  },
  {
   "cell_type": "code",
   "execution_count": 56,
   "outputs": [
    {
     "name": "stdout",
     "output_type": "stream",
     "text": [
      "Países únicos no df_sem_ecossistema:  217\n"
     ]
    }
   ],
   "source": [
    "# Contando países únicos no df_sem_ecossistema\n",
    "print('Países únicos no df_sem_ecossistema: ',df_sem_ecossistema['country'].nunique())"
   ],
   "metadata": {
    "collapsed": false,
    "ExecuteTime": {
     "end_time": "2023-08-31T16:17:53.445662Z",
     "start_time": "2023-08-31T16:17:53.364256Z"
    }
   }
  },
  {
   "cell_type": "code",
   "execution_count": 57,
   "outputs": [
    {
     "name": "stdout",
     "output_type": "stream",
     "text": [
      "Cidades únicas no df_sem_ecossistema:  79063\n"
     ]
    }
   ],
   "source": [
    "# Contando cidades únicas no df_sem_ecossistema\n",
    "print('Cidades únicas no df_sem_ecossistema: ',df_sem_ecossistema['city'].nunique())"
   ],
   "metadata": {
    "collapsed": false,
    "ExecuteTime": {
     "end_time": "2023-08-31T16:17:53.513961Z",
     "start_time": "2023-08-31T16:17:53.481267Z"
    }
   }
  },
  {
   "cell_type": "code",
   "execution_count": 58,
   "outputs": [
    {
     "name": "stdout",
     "output_type": "stream",
     "text": [
      "Valores únicos na coluna \"CityCountry\" no df_sem_ecossistema:  80745\n"
     ]
    }
   ],
   "source": [
    "# Contando valores únicos na coluna \"CityCountry\" no df_sem_ecossistema\n",
    "print('Valores únicos na coluna \"CityCountry\" no df_sem_ecossistema: ',df_sem_ecossistema['CityCountry'].nunique())\n"
   ],
   "metadata": {
    "collapsed": false,
    "ExecuteTime": {
     "end_time": "2023-08-31T16:17:53.626557Z",
     "start_time": "2023-08-31T16:17:53.538325Z"
    }
   }
  },
  {
   "cell_type": "code",
   "execution_count": 59,
   "outputs": [],
   "source": [
    "# Criando novo dataframe chamado df_citycountry, com as colunas 'CityCountry', 'city', 'country'\n",
    "df_citycountry = df_sem_ecossistema[['CityCountry', 'city', 'country']]"
   ],
   "metadata": {
    "collapsed": false,
    "ExecuteTime": {
     "end_time": "2023-08-31T16:17:53.814662Z",
     "start_time": "2023-08-31T16:17:53.811322Z"
    }
   }
  },
  {
   "cell_type": "code",
   "execution_count": 60,
   "outputs": [
    {
     "data": {
      "text/plain": "                             CityCountry                      city country\n3301                        QingdaoChina                   Qingdao      CN\n3336                        QingdaoChina                   Qingdao      CN\n3623                        QingdaoChina                   Qingdao      CN\n4893                        QingdaoChina                   Qingdao      CN\n6492                    QinhuangdaoChina               Qinhuangdao      CN\n6740                         GrazAustria                      Graz      AT\n7802                        LucknowIndia                   Lucknow      IN\n12091                        XuzhouChina                    Xuzhou      CN\n12162                        SpineaItaly                    Spinea      IT\n25111             CorvallisUnited States                 Corvallis      US\n25112             CorvallisUnited States                 Corvallis      US\n25113                AlbanyUnited States                    Albany      US\n25117               MARCY L'ETOILEFrance            MARCY L'ETOILE      FR\n25119     SAINT PIERRE DE VARENNESFrance  SAINT PIERRE DE VARENNES      FR\n25120                    Susono-shiJapan                Susono-shi      JP\n25122                    Susono-shiJapan                Susono-shi      JP\n25128                  MuhlhausenGermany                Muhlhausen      DE\n25139  Hsin-ChuTaiwan, Province of China                  Hsin-Chu      TW\n25140  Hsin-ChuTaiwan, Province of China                  Hsin-Chu      TW\n25141  Hsin-ChuTaiwan, Province of China                  Hsin-Chu      TW",
      "text/html": "<div>\n<style scoped>\n    .dataframe tbody tr th:only-of-type {\n        vertical-align: middle;\n    }\n\n    .dataframe tbody tr th {\n        vertical-align: top;\n    }\n\n    .dataframe thead th {\n        text-align: right;\n    }\n</style>\n<table border=\"1\" class=\"dataframe\">\n  <thead>\n    <tr style=\"text-align: right;\">\n      <th></th>\n      <th>CityCountry</th>\n      <th>city</th>\n      <th>country</th>\n    </tr>\n  </thead>\n  <tbody>\n    <tr>\n      <th>3301</th>\n      <td>QingdaoChina</td>\n      <td>Qingdao</td>\n      <td>CN</td>\n    </tr>\n    <tr>\n      <th>3336</th>\n      <td>QingdaoChina</td>\n      <td>Qingdao</td>\n      <td>CN</td>\n    </tr>\n    <tr>\n      <th>3623</th>\n      <td>QingdaoChina</td>\n      <td>Qingdao</td>\n      <td>CN</td>\n    </tr>\n    <tr>\n      <th>4893</th>\n      <td>QingdaoChina</td>\n      <td>Qingdao</td>\n      <td>CN</td>\n    </tr>\n    <tr>\n      <th>6492</th>\n      <td>QinhuangdaoChina</td>\n      <td>Qinhuangdao</td>\n      <td>CN</td>\n    </tr>\n    <tr>\n      <th>6740</th>\n      <td>GrazAustria</td>\n      <td>Graz</td>\n      <td>AT</td>\n    </tr>\n    <tr>\n      <th>7802</th>\n      <td>LucknowIndia</td>\n      <td>Lucknow</td>\n      <td>IN</td>\n    </tr>\n    <tr>\n      <th>12091</th>\n      <td>XuzhouChina</td>\n      <td>Xuzhou</td>\n      <td>CN</td>\n    </tr>\n    <tr>\n      <th>12162</th>\n      <td>SpineaItaly</td>\n      <td>Spinea</td>\n      <td>IT</td>\n    </tr>\n    <tr>\n      <th>25111</th>\n      <td>CorvallisUnited States</td>\n      <td>Corvallis</td>\n      <td>US</td>\n    </tr>\n    <tr>\n      <th>25112</th>\n      <td>CorvallisUnited States</td>\n      <td>Corvallis</td>\n      <td>US</td>\n    </tr>\n    <tr>\n      <th>25113</th>\n      <td>AlbanyUnited States</td>\n      <td>Albany</td>\n      <td>US</td>\n    </tr>\n    <tr>\n      <th>25117</th>\n      <td>MARCY L'ETOILEFrance</td>\n      <td>MARCY L'ETOILE</td>\n      <td>FR</td>\n    </tr>\n    <tr>\n      <th>25119</th>\n      <td>SAINT PIERRE DE VARENNESFrance</td>\n      <td>SAINT PIERRE DE VARENNES</td>\n      <td>FR</td>\n    </tr>\n    <tr>\n      <th>25120</th>\n      <td>Susono-shiJapan</td>\n      <td>Susono-shi</td>\n      <td>JP</td>\n    </tr>\n    <tr>\n      <th>25122</th>\n      <td>Susono-shiJapan</td>\n      <td>Susono-shi</td>\n      <td>JP</td>\n    </tr>\n    <tr>\n      <th>25128</th>\n      <td>MuhlhausenGermany</td>\n      <td>Muhlhausen</td>\n      <td>DE</td>\n    </tr>\n    <tr>\n      <th>25139</th>\n      <td>Hsin-ChuTaiwan, Province of China</td>\n      <td>Hsin-Chu</td>\n      <td>TW</td>\n    </tr>\n    <tr>\n      <th>25140</th>\n      <td>Hsin-ChuTaiwan, Province of China</td>\n      <td>Hsin-Chu</td>\n      <td>TW</td>\n    </tr>\n    <tr>\n      <th>25141</th>\n      <td>Hsin-ChuTaiwan, Province of China</td>\n      <td>Hsin-Chu</td>\n      <td>TW</td>\n    </tr>\n  </tbody>\n</table>\n</div>"
     },
     "execution_count": 60,
     "metadata": {},
     "output_type": "execute_result"
    }
   ],
   "source": [
    "# Visualizando as primeiras 20 linhas do df_citycountry\n",
    "df_citycountry.head(20)"
   ],
   "metadata": {
    "collapsed": false,
    "ExecuteTime": {
     "end_time": "2023-08-31T16:17:53.827583Z",
     "start_time": "2023-08-31T16:17:53.820144Z"
    }
   }
  },
  {
   "cell_type": "code",
   "execution_count": 61,
   "outputs": [
    {
     "data": {
      "text/plain": "(886771, 3)"
     },
     "execution_count": 61,
     "metadata": {},
     "output_type": "execute_result"
    }
   ],
   "source": [
    "df_citycountry.shape"
   ],
   "metadata": {
    "collapsed": false,
    "ExecuteTime": {
     "end_time": "2023-08-31T16:17:53.834825Z",
     "start_time": "2023-08-31T16:17:53.828293Z"
    }
   }
  },
  {
   "cell_type": "code",
   "execution_count": 62,
   "outputs": [
    {
     "data": {
      "text/plain": "(80745, 3)"
     },
     "execution_count": 62,
     "metadata": {},
     "output_type": "execute_result"
    }
   ],
   "source": [
    "# Eliminando do df_citycountry os valores duplicados na coluna \"CityCountry\"\n",
    "df_citycountry = df_citycountry.drop_duplicates(subset=['CityCountry'])\n",
    "df_citycountry.shape"
   ],
   "metadata": {
    "collapsed": false,
    "ExecuteTime": {
     "end_time": "2023-08-31T16:17:53.931896Z",
     "start_time": "2023-08-31T16:17:53.835303Z"
    }
   }
  },
  {
   "cell_type": "code",
   "execution_count": 63,
   "outputs": [
    {
     "name": "stdout",
     "output_type": "stream",
     "text": [
      "                             CityCountry                    city country\n",
      "1496989            Hitachinaka-shi,Japan      . Hitachinaka-shi,      JP\n",
      "5557902  #08-09/10, Medtech HubSingapore  #08-09/10, Medtech Hub      SG\n",
      "6481534      #206 EdgewaterUnited States          #206 Edgewater      US\n",
      "1491895               &Yokosuka-shiJapan           &Yokosuka-shi      JP\n",
      "7342655         'S GravenhageNetherlands           'S Gravenhage      NL\n",
      "...                                  ...                     ...     ...\n",
      "7580018          Ümraniye/IstanbulTurkey       Ümraniye/Istanbul      TR\n",
      "1029514        Üsküdar -  IstanbulTurkey     Üsküdar -  Istanbul      TR\n",
      "192176            Üsküdar/?stanbulTurkey        Üsküdar/?stanbul      TR\n",
      "7580017           Üsküdar/IstanbulTurkey        Üsküdar/Istanbul      TR\n",
      "973383          ‘s-GravenhageNetherlands           ‘s-Gravenhage      NL\n",
      "\n",
      "[80745 rows x 3 columns]\n"
     ]
    }
   ],
   "source": [
    "# Visualizando o df_citycountry com a coluna \"CityCountry\" em ordem alfabética\n",
    "df_citycountry.sort_values(by=['CityCountry'], inplace=True)\n",
    "print(df_citycountry)"
   ],
   "metadata": {
    "collapsed": false,
    "ExecuteTime": {
     "end_time": "2023-08-31T16:17:54.020342Z",
     "start_time": "2023-08-31T16:17:53.909144Z"
    }
   }
  },
  {
   "cell_type": "code",
   "execution_count": 64,
   "outputs": [
    {
     "data": {
      "text/plain": "False"
     },
     "execution_count": 64,
     "metadata": {},
     "output_type": "execute_result"
    }
   ],
   "source": [
    "\"‘s-GravenhageNetherlands\" == \"’s-GravenhageNetherlands\""
   ],
   "metadata": {
    "collapsed": false,
    "ExecuteTime": {
     "end_time": "2023-08-31T16:17:54.027042Z",
     "start_time": "2023-08-31T16:17:54.022275Z"
    }
   }
  },
  {
   "cell_type": "code",
   "execution_count": 64,
   "outputs": [],
   "source": [],
   "metadata": {
    "collapsed": false,
    "ExecuteTime": {
     "end_time": "2023-08-31T16:17:54.031058Z",
     "start_time": "2023-08-31T16:17:54.027879Z"
    }
   }
  }
 ],
 "metadata": {
  "kernelspec": {
   "display_name": "Python 3",
   "language": "python",
   "name": "python3"
  },
  "language_info": {
   "codemirror_mode": {
    "name": "ipython",
    "version": 2
   },
   "file_extension": ".py",
   "mimetype": "text/x-python",
   "name": "python",
   "nbconvert_exporter": "python",
   "pygments_lexer": "ipython2",
   "version": "2.7.6"
  }
 },
 "nbformat": 4,
 "nbformat_minor": 0
}
